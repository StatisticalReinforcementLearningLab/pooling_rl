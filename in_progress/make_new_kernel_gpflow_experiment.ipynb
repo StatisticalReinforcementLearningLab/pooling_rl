{
 "cells": [
  {
   "cell_type": "code",
   "execution_count": 1,
   "metadata": {},
   "outputs": [],
   "source": [
    "import gpflow\n",
    "import numpy as np\n",
    "import math\n",
    "import tensorflow as tf\n"
   ]
  },
  {
   "cell_type": "code",
   "execution_count": 2,
   "metadata": {},
   "outputs": [],
   "source": [
    "import get_history as gh"
   ]
  },
  {
   "cell_type": "code",
   "execution_count": 3,
   "metadata": {},
   "outputs": [],
   "source": [
    "import feather\n",
    "import pandas as pd"
   ]
  },
  {
   "cell_type": "code",
   "execution_count": 4,
   "metadata": {},
   "outputs": [],
   "source": [
    "def gather_cols(params, indices, name=None):\n",
    "    \"\"\"Gather columns of a 2D tensor.\n",
    "\n",
    "    Args:\n",
    "        params: A 2D tensor.\n",
    "        indices: A 1D tensor. Must be one of the following types: ``int32``, ``int64``.\n",
    "        name: A name for the operation (optional).\n",
    "\n",
    "    Returns:\n",
    "        A 2D Tensor. Has the same type as ``params``.\n",
    "    \"\"\"\n",
    "    with tf.op_scope([params, indices], name, \"gather_cols\") as scope:\n",
    "        # Check input\n",
    "        params = tf.convert_to_tensor(params, name=\"params\")\n",
    "        indices = tf.convert_to_tensor(indices, name=\"indices\")\n",
    "        try:\n",
    "            params.get_shape().assert_has_rank(2)\n",
    "        except ValueError:\n",
    "            raise ValueError('\\'params\\' must be 2D.')\n",
    "        try:\n",
    "            indices.get_shape().assert_has_rank(1)\n",
    "        except ValueError:\n",
    "            raise ValueError('\\'params\\' must be 1D.')\n",
    "\n",
    "        # Define op\n",
    "        p_shape = tf.shape(params)\n",
    "        p_flat = tf.reshape(params, [-1])\n",
    "        i_flat = tf.reshape(tf.reshape(tf.range(0, p_shape[0]) * p_shape[1],\n",
    "                                       [-1, 1]) + indices, [-1])\n",
    "        return tf.reshape(tf.gather(p_flat, i_flat),\n",
    "                          [p_shape[0], -1])"
   ]
  },
  {
   "cell_type": "code",
   "execution_count": 67,
   "metadata": {},
   "outputs": [
    {
     "data": {
      "text/plain": [
       "array([[1.1, 0.1, 0.1, 0.1, 0.1, 0.1],\n",
       "       [0.1, 1.1, 0.1, 0.1, 0.1, 0.1],\n",
       "       [0.1, 0.1, 1.1, 0.1, 0.1, 0.1],\n",
       "       [0.1, 0.1, 0.1, 1.1, 0.1, 0.1],\n",
       "       [0.1, 0.1, 0.1, 0.1, 1.1, 0.1],\n",
       "       [0.1, 0.1, 0.1, 0.1, 0.1, 1.1]])"
      ]
     },
     "execution_count": 67,
     "metadata": {},
     "output_type": "execute_result"
    }
   ],
   "source": [
    "np.eye(6)+.1*np.ones((6,6))"
   ]
  },
  {
   "cell_type": "code",
   "execution_count": 68,
   "metadata": {},
   "outputs": [],
   "source": [
    "\n",
    "\n",
    "\n",
    "class CustomKernel(gpflow.kernels.Kernel):\n",
    "    def __init__(self,input_dim, mysession=None,rhos=None,select_users=None,\n",
    "                 active_dims=None, ARD=None, name=None):\n",
    "        super().__init__(input_dim)\n",
    "\n",
    "        self.sigma_u = tf.constant(np.array([[1.0,0.1],[0.1,1.0]]))\n",
    "        \n",
    "        self.sigma_theta = tf.constant(np.array([[1.1, 0.1, 0.1, 0.1, 0.1, 0.1],\n",
    "       [0.1, 1.1, 0.1, 0.1, 0.1, 0.1],\n",
    "       [0.1, 0.1, 1.1, 0.1, 0.1, 0.1],\n",
    "       [0.1, 0.1, 0.1, 1.1, 0.1, 0.1],\n",
    "       [0.1, 0.1, 0.1, 0.1, 1.1, 0.1],\n",
    "       [0.1, 0.1, 0.1, 0.1, 0.1, 1.1]]))\n",
    "        #print(self.sigma_theta)\n",
    "        #gpflow.Param(1.0, transform=gpflow.transforms.positive,\n",
    "                                  #dtype=gpflow.settings.float_type)\n",
    "        \n",
    "        self.sigma_v =  tf.constant(np.array([[10.0,0.0],[0.0,10.0]]))\n",
    "        #gpflow.Param(1.0, transform=gpflow.transforms.positive,\n",
    "                                  #dtype=gpflow.settings.float_type)\n",
    "        self.mysession=mysession\n",
    "        \n",
    "        self.rhos = tf.constant(rhos)\n",
    "        self.select_users = tf.constant(select_users)\n",
    "        ##will it freak out if there is no parameter?\n",
    "        \n",
    "    \n",
    "    @gpflow.params_as_tensors\n",
    "    def rbf_custom(self, X, X2=None):\n",
    "        #print(X)\n",
    "        #print(X2)\n",
    "        if X2 is None:\n",
    "             X2=X\n",
    "        return tf.exp(-tf.divide(tf.square(tf.subtract(X,X2)),tf.constant(1.0,dtype=tf.float64)))\n",
    "        return tf.constant(1.0,dtype=tf.float64)\n",
    "    #tf.exp(-tf.subtract(X,X2) / float(2.2))\n",
    "    \n",
    "    @gpflow.params_as_tensors\n",
    "    def get_all_sigmas(self,sigma_v,g_one,g_two,day_one,day_two):\n",
    "    #sigmax = [[] for i in range(100)]\n",
    "    #tf.placeholder(tf.float64, shape=(100, 2,2))\n",
    "    \n",
    "            \n",
    "        #print('eff')\n",
    "        #print(effects.shape)\n",
    "        #user_term = tf.constant(np.array([[0.0,0.0],[0.0,0.0]]))           \n",
    "        \n",
    "\n",
    "\n",
    "        #print('eff')\n",
    "        #print(effects.shape)\n",
    "        #effects = tf.tensordot(effects,tf.transpose(g_two),axes = [[1],[0]])\n",
    "    \n",
    "    \n",
    "    \n",
    "        \n",
    "        \n",
    "        get_g = g_one\n",
    "        get_g_two = g_two\n",
    "        to_return = [[] for i in range(100)]\n",
    "        for i in range(100):\n",
    "            temp = [[] for i in range(100)]\n",
    "            for j in range( 100):\n",
    "                rho = self.rbf_custom(day_one[i], X2=day_two[j])\n",
    "            #print(sess.run(rho))\n",
    "                val = rho[0]\n",
    "        #tf.scalar_mul(val,sigma_v)\n",
    "            #print(val)\n",
    "                this_sigma = tf.scalar_mul(val,sigma_v)\n",
    "            #print(this_sigma)\n",
    "                effects = tf.tensordot(get_g[i],this_sigma,axes=[[0],[1]])\n",
    "                effects = tf.tensordot(effects,get_g_two[j],axes = [[0],[0]])\n",
    "                temp[j]=effects\n",
    "            to_return[i]=temp\n",
    "        \n",
    "        return to_return\n",
    "    \n",
    "    @gpflow.params_as_tensors\n",
    "    def K(self, X, X2=None):\n",
    " \n",
    "\n",
    "      \n",
    "        \n",
    "        f_one = gather_cols(X, [0,1,2,3,4,5], name=None)\n",
    "        g_one = gather_cols(X, [6,7], name=None)\n",
    "        user_id_one = gather_cols(X, [8], name=None)\n",
    "        day_one = gather_cols(X, [9], name=None)\n",
    "\n",
    "\n",
    "\n",
    "        #print(f_one.get_shape())\n",
    "        \n",
    "        if not X2 is None:\n",
    "            print('called')\n",
    "            f_two = gather_cols(X2, [0,1,2,3,4,5], name=None)\n",
    "            g_two = gather_cols(X2, [6,7], name=None)  \n",
    "            user_id_two = gather_cols(X2, [8], name=None)\n",
    "            day_two = gather_cols(X2, [9], name=None)\n",
    "            \n",
    "         \n",
    "            \n",
    "        else:\n",
    "            #print('called')\n",
    "            user_id_two = X[-2]\n",
    "            day_two = day_one\n",
    "            f_two = f_one\n",
    "            g_two=g_one\n",
    "            \n",
    "            \n",
    "        \n",
    "        \n",
    "        #rho_term = self.rbf_custom(day_one,X2=day_two)\n",
    "        #print('rho')\n",
    "        #print(rho_term.get_shape())\n",
    "        \n",
    "        baselines = tf.tensordot(tf.transpose(f_one),self.sigma_theta,axes=[[0],[1]])\n",
    "        #print('baselines')\n",
    "        #print(baselines.get_shape())\n",
    "        baselines = tf.tensordot(baselines,tf.transpose(f_two),axes=[[1],[0]])\n",
    "        \n",
    "        \n",
    "        #rhos = tf.constant(np.array([[self.rbf_custom(day_one[i], X2=day_two[j])[0]] \\\n",
    "                                     #for i, j in zip([i for i in range(100)], [j for j in range(100)])]))\n",
    "        \n",
    "        \n",
    "        #effects = self.get_all_sigmas(self.sigma_v,g_one,g_two,day_one,day_two)\n",
    "            #print('look at shape')t\n",
    "            #print(baselines)\n",
    "        #print('baselines')\n",
    "        #print(baselines.get_shape())\n",
    "        \n",
    "        #effect_term = tf.tensordot(rho_term,self.sigma_v,axes=[[0],[0]])\n",
    "\n",
    "        #user_term = tf.constant(np.array([[0.0,0.0],[0.0,0.0]]))           \n",
    "        #effect_term = tf.add(user_term,effect_term)\n",
    "       #print('eff')\n",
    "        #print(effect_term.shape)\n",
    "        \n",
    "        #print('eff')\n",
    "        #print(effects.shape)\n",
    "        #user_term = tf.constant(np.array([[0.0,0.0],[0.0,0.0]]))           \n",
    "        \n",
    "\n",
    "\n",
    "        #print('eff')\n",
    "        #print(effects.shape)\n",
    "        \n",
    "        ##important\n",
    "        effects = tf.tensordot(tf.transpose(g_one),self.sigma_u,axes=[[0],[1]])\n",
    "       \n",
    "        \n",
    "        effects = tf.tensordot(effects,tf.transpose(g_two),axes = [[1],[0]])\n",
    "        effects_one = tf.multiply(effects,self.select_users)\n",
    "        \n",
    "        \n",
    "        \n",
    "        effects = tf.tensordot(tf.transpose(g_one),self.sigma_v,axes=[[0],[1]])\n",
    "       \n",
    "        \n",
    "        effects = tf.tensordot(effects,tf.transpose(g_two),axes = [[1],[0]])\n",
    "        effects_two = tf.multiply(effects,self.rhos)\n",
    "        \n",
    "        effects = tf.add(effects_one,effects_two)\n",
    "   \n",
    "        \n",
    "        #print('eff')\n",
    "        #print(effects.shape)\n",
    "        result = tf.add(baselines,effects)\n",
    "        #effect_term = tf.add(user_term,effect_term)\n",
    "        print('r')\n",
    "        print(result.shape)\n",
    "        \n",
    "        \n",
    "        return result\n",
    "       \n",
    "        \n",
    "        #self.variance * tf.minimum(X, tf.transpose(X2))\n"
   ]
  },
  {
   "cell_type": "code",
   "execution_count": 69,
   "metadata": {},
   "outputs": [],
   "source": [
    "##need to reformat history\n",
    "def put_x_together(h):\n",
    "    X = []\n",
    "    \n",
    "    for i in range(len(h.states)):\n",
    "        state_vector = h.states[i]\n",
    "        state_vector.append(float(h.users[i]))\n",
    "        state_vector.append(float(h.day_function[i]))\n",
    "        X.append(state_vector)\n",
    "    return X\n"
   ]
  },
  {
   "cell_type": "code",
   "execution_count": 70,
   "metadata": {},
   "outputs": [],
   "source": [
    "history = gh.get_history(8,100,5)"
   ]
  },
  {
   "cell_type": "code",
   "execution_count": 71,
   "metadata": {},
   "outputs": [],
   "source": [
    "X = put_x_together(history)"
   ]
  },
  {
   "cell_type": "code",
   "execution_count": 72,
   "metadata": {},
   "outputs": [],
   "source": [
    "X = np.array(X)"
   ]
  },
  {
   "cell_type": "code",
   "execution_count": null,
   "metadata": {},
   "outputs": [],
   "source": []
  },
  {
   "cell_type": "code",
   "execution_count": null,
   "metadata": {},
   "outputs": [],
   "source": []
  },
  {
   "cell_type": "code",
   "execution_count": 73,
   "metadata": {},
   "outputs": [],
   "source": [
    "users = np.array([[float(X[i][8]==X[j][8]) for j in range(100)] for i in range(100)])"
   ]
  },
  {
   "cell_type": "code",
   "execution_count": 74,
   "metadata": {},
   "outputs": [],
   "source": [
    "def rbf_custom_np( X, X2=None):\n",
    "        #print(X)\n",
    "        #print(X2)\n",
    "        if X2 is None:\n",
    "             X2=X\n",
    "        return math.exp(-((X-X2)**2)/1.0)\n",
    "        #tf.divide(tf.square(-tf.subtract(X,X2)),tf.constant(1.0,dtype=tf.float64)))\n",
    "rdayone = [x[9] for x in X]\n",
    "rdaytwo = rdayone\n",
    "rhos = np.array([[rbf_custom_np( rdayone[i], X2=rdaytwo[j]) for j in range(100)] for i in range(100)])"
   ]
  },
  {
   "cell_type": "code",
   "execution_count": null,
   "metadata": {},
   "outputs": [],
   "source": []
  },
  {
   "cell_type": "code",
   "execution_count": 75,
   "metadata": {},
   "outputs": [],
   "source": [
    "y = np.array([[float(r)] for r in history.rewards])"
   ]
  },
  {
   "cell_type": "code",
   "execution_count": 76,
   "metadata": {},
   "outputs": [
    {
     "name": "stdout",
     "output_type": "stream",
     "text": [
      "WARNING:tensorflow:tf.op_scope(values, name, default_name) is deprecated, use tf.name_scope(name, default_name, values)\n"
     ]
    },
    {
     "name": "stderr",
     "output_type": "stream",
     "text": [
      "WARNING:tensorflow:tf.op_scope(values, name, default_name) is deprecated, use tf.name_scope(name, default_name, values)\n"
     ]
    },
    {
     "name": "stdout",
     "output_type": "stream",
     "text": [
      "WARNING:tensorflow:tf.op_scope(values, name, default_name) is deprecated, use tf.name_scope(name, default_name, values)\n"
     ]
    },
    {
     "name": "stderr",
     "output_type": "stream",
     "text": [
      "WARNING:tensorflow:tf.op_scope(values, name, default_name) is deprecated, use tf.name_scope(name, default_name, values)\n"
     ]
    },
    {
     "name": "stdout",
     "output_type": "stream",
     "text": [
      "WARNING:tensorflow:tf.op_scope(values, name, default_name) is deprecated, use tf.name_scope(name, default_name, values)\n"
     ]
    },
    {
     "name": "stderr",
     "output_type": "stream",
     "text": [
      "WARNING:tensorflow:tf.op_scope(values, name, default_name) is deprecated, use tf.name_scope(name, default_name, values)\n"
     ]
    },
    {
     "name": "stdout",
     "output_type": "stream",
     "text": [
      "WARNING:tensorflow:tf.op_scope(values, name, default_name) is deprecated, use tf.name_scope(name, default_name, values)\n"
     ]
    },
    {
     "name": "stderr",
     "output_type": "stream",
     "text": [
      "WARNING:tensorflow:tf.op_scope(values, name, default_name) is deprecated, use tf.name_scope(name, default_name, values)\n",
      "WARNING:gpflow.logdensities:Shape of x must be 2D at computation.\n",
      "WARNING:gpflow.logdensities:Shape of mu may be unknown or not 2D.\n"
     ]
    },
    {
     "name": "stdout",
     "output_type": "stream",
     "text": [
      "r\n",
      "(100, 100)\n"
     ]
    }
   ],
   "source": [
    "sess = tf.Session()\n",
    "k =  CustomKernel(7,mysession=sess,rhos=rhos,select_users=users)\n",
    "m = gpflow.models.GPR(X,y, kern=k)"
   ]
  },
  {
   "cell_type": "code",
   "execution_count": 77,
   "metadata": {},
   "outputs": [
    {
     "name": "stdout",
     "output_type": "stream",
     "text": [
      "WARNING:tensorflow:tf.op_scope(values, name, default_name) is deprecated, use tf.name_scope(name, default_name, values)\n"
     ]
    },
    {
     "name": "stderr",
     "output_type": "stream",
     "text": [
      "WARNING:tensorflow:tf.op_scope(values, name, default_name) is deprecated, use tf.name_scope(name, default_name, values)\n"
     ]
    },
    {
     "name": "stdout",
     "output_type": "stream",
     "text": [
      "WARNING:tensorflow:tf.op_scope(values, name, default_name) is deprecated, use tf.name_scope(name, default_name, values)\n"
     ]
    },
    {
     "name": "stderr",
     "output_type": "stream",
     "text": [
      "WARNING:tensorflow:tf.op_scope(values, name, default_name) is deprecated, use tf.name_scope(name, default_name, values)\n"
     ]
    },
    {
     "name": "stdout",
     "output_type": "stream",
     "text": [
      "WARNING:tensorflow:tf.op_scope(values, name, default_name) is deprecated, use tf.name_scope(name, default_name, values)\n"
     ]
    },
    {
     "name": "stderr",
     "output_type": "stream",
     "text": [
      "WARNING:tensorflow:tf.op_scope(values, name, default_name) is deprecated, use tf.name_scope(name, default_name, values)\n"
     ]
    },
    {
     "name": "stdout",
     "output_type": "stream",
     "text": [
      "WARNING:tensorflow:tf.op_scope(values, name, default_name) is deprecated, use tf.name_scope(name, default_name, values)\n"
     ]
    },
    {
     "name": "stderr",
     "output_type": "stream",
     "text": [
      "WARNING:tensorflow:tf.op_scope(values, name, default_name) is deprecated, use tf.name_scope(name, default_name, values)\n"
     ]
    },
    {
     "name": "stdout",
     "output_type": "stream",
     "text": [
      "called\n",
      "WARNING:tensorflow:tf.op_scope(values, name, default_name) is deprecated, use tf.name_scope(name, default_name, values)\n"
     ]
    },
    {
     "name": "stderr",
     "output_type": "stream",
     "text": [
      "WARNING:tensorflow:tf.op_scope(values, name, default_name) is deprecated, use tf.name_scope(name, default_name, values)\n"
     ]
    },
    {
     "name": "stdout",
     "output_type": "stream",
     "text": [
      "WARNING:tensorflow:tf.op_scope(values, name, default_name) is deprecated, use tf.name_scope(name, default_name, values)\n"
     ]
    },
    {
     "name": "stderr",
     "output_type": "stream",
     "text": [
      "WARNING:tensorflow:tf.op_scope(values, name, default_name) is deprecated, use tf.name_scope(name, default_name, values)\n"
     ]
    },
    {
     "name": "stdout",
     "output_type": "stream",
     "text": [
      "WARNING:tensorflow:tf.op_scope(values, name, default_name) is deprecated, use tf.name_scope(name, default_name, values)\n"
     ]
    },
    {
     "name": "stderr",
     "output_type": "stream",
     "text": [
      "WARNING:tensorflow:tf.op_scope(values, name, default_name) is deprecated, use tf.name_scope(name, default_name, values)\n"
     ]
    },
    {
     "name": "stdout",
     "output_type": "stream",
     "text": [
      "WARNING:tensorflow:tf.op_scope(values, name, default_name) is deprecated, use tf.name_scope(name, default_name, values)\n"
     ]
    },
    {
     "name": "stderr",
     "output_type": "stream",
     "text": [
      "WARNING:tensorflow:tf.op_scope(values, name, default_name) is deprecated, use tf.name_scope(name, default_name, values)\n"
     ]
    },
    {
     "name": "stdout",
     "output_type": "stream",
     "text": [
      "r\n",
      "(100, 100)\n"
     ]
    }
   ],
   "source": [
    "term= m.kern.K(X,X2=X)"
   ]
  },
  {
   "cell_type": "code",
   "execution_count": 78,
   "metadata": {},
   "outputs": [],
   "source": [
    "trm = term.eval(session=sess)"
   ]
  },
  {
   "cell_type": "code",
   "execution_count": 79,
   "metadata": {},
   "outputs": [
    {
     "data": {
      "text/plain": [
       "array([[0.28862542, 0.30055868, 0.19686557, ..., 0.13463545, 0.11918832,\n",
       "        0.13980165],\n",
       "       [0.30055868, 0.36896916, 0.24475435, ..., 0.13431461, 0.14495925,\n",
       "        0.13709961],\n",
       "       [0.19686557, 0.24475435, 0.46925072, ..., 0.13531481, 0.1514203 ,\n",
       "        0.14094095],\n",
       "       ...,\n",
       "       [0.13463545, 0.13431461, 0.13531481, ..., 0.52475349, 0.1363179 ,\n",
       "        0.31034796],\n",
       "       [0.11918832, 0.14495925, 0.1514203 , ..., 0.1363179 , 0.39939361,\n",
       "        0.13931746],\n",
       "       [0.13980165, 0.13709961, 0.14094095, ..., 0.31034796, 0.13931746,\n",
       "        0.51155875]])"
      ]
     },
     "execution_count": 79,
     "metadata": {},
     "output_type": "execute_result"
    }
   ],
   "source": [
    "trm"
   ]
  },
  {
   "cell_type": "code",
   "execution_count": 51,
   "metadata": {},
   "outputs": [
    {
     "data": {
      "text/plain": [
       "array([[1.66353876, 1.69780878, 1.63547958, ..., 0.25203181, 0.22869123,\n",
       "        0.21601148],\n",
       "       [1.69780878, 1.73880637, 1.67145011, ..., 0.24288807, 0.21913171,\n",
       "        0.20688737],\n",
       "       [1.63547958, 1.67145011, 1.61775965, ..., 0.27670757, 0.25057367,\n",
       "        0.23695399],\n",
       "       ...,\n",
       "       [0.25203181, 0.24288807, 0.27670757, ..., 1.35785202, 0.24851965,\n",
       "        0.23455471],\n",
       "       [0.22869123, 0.21913171, 0.25057367, ..., 0.24851965, 1.50455196,\n",
       "        0.21207093],\n",
       "       [0.21601148, 0.20688737, 0.23695399, ..., 0.23455471, 0.21207093,\n",
       "        1.43131701]])"
      ]
     },
     "execution_count": 51,
     "metadata": {},
     "output_type": "execute_result"
    }
   ],
   "source": [
    "trm2"
   ]
  },
  {
   "cell_type": "code",
   "execution_count": 24,
   "metadata": {},
   "outputs": [
    {
     "data": {
      "text/plain": [
       "array([[1.00000000e+000, 1.00000000e+000, 1.00000000e+000, ...,\n",
       "        1.65841048e-157, 1.92194773e-098, 3.68085585e-272],\n",
       "       [1.00000000e+000, 1.00000000e+000, 1.00000000e+000, ...,\n",
       "        1.65841048e-157, 1.92194773e-098, 3.68085585e-272],\n",
       "       [1.00000000e+000, 1.00000000e+000, 1.00000000e+000, ...,\n",
       "        1.65841048e-157, 1.92194773e-098, 3.68085585e-272],\n",
       "       ...,\n",
       "       [1.65841048e-157, 1.65841048e-157, 1.65841048e-157, ...,\n",
       "        1.00000000e+000, 1.12535175e-007, 2.31952283e-016],\n",
       "       [1.92194773e-098, 1.92194773e-098, 1.92194773e-098, ...,\n",
       "        1.12535175e-007, 1.00000000e+000, 3.72007598e-044],\n",
       "       [3.68085585e-272, 3.68085585e-272, 3.68085585e-272, ...,\n",
       "        2.31952283e-016, 3.72007598e-044, 1.00000000e+000]])"
      ]
     },
     "execution_count": 24,
     "metadata": {},
     "output_type": "execute_result"
    }
   ],
   "source": [
    "rhos"
   ]
  },
  {
   "cell_type": "code",
   "execution_count": 25,
   "metadata": {},
   "outputs": [
    {
     "name": "stdout",
     "output_type": "stream",
     "text": [
      "INFO:tensorflow:Optimization terminated with:\n",
      "  Message: b'CONVERGENCE: NORM_OF_PROJECTED_GRADIENT_<=_PGTOL'\n",
      "  Objective function value: 651.681764\n",
      "  Number of iterations: 36\n",
      "  Number of functions evaluations: 37\n"
     ]
    },
    {
     "name": "stderr",
     "output_type": "stream",
     "text": [
      "INFO:tensorflow:Optimization terminated with:\n",
      "  Message: b'CONVERGENCE: NORM_OF_PROJECTED_GRADIENT_<=_PGTOL'\n",
      "  Objective function value: 651.681764\n",
      "  Number of iterations: 36\n",
      "  Number of functions evaluations: 37\n"
     ]
    }
   ],
   "source": [
    "gpflow.train.ScipyOptimizer().minimize(m,session=sess)"
   ]
  },
  {
   "cell_type": "code",
   "execution_count": 26,
   "metadata": {},
   "outputs": [
    {
     "data": {
      "text/html": [
       "<div>\n",
       "<style scoped>\n",
       "    .dataframe tbody tr th:only-of-type {\n",
       "        vertical-align: middle;\n",
       "    }\n",
       "\n",
       "    .dataframe tbody tr th {\n",
       "        vertical-align: top;\n",
       "    }\n",
       "\n",
       "    .dataframe thead th {\n",
       "        text-align: right;\n",
       "    }\n",
       "</style>\n",
       "<table border=\"1\" class=\"dataframe\">\n",
       "  <thead>\n",
       "    <tr style=\"text-align: right;\">\n",
       "      <th></th>\n",
       "      <th>class</th>\n",
       "      <th>prior</th>\n",
       "      <th>transform</th>\n",
       "      <th>trainable</th>\n",
       "      <th>shape</th>\n",
       "      <th>fixed_shape</th>\n",
       "      <th>value</th>\n",
       "    </tr>\n",
       "  </thead>\n",
       "  <tbody>\n",
       "    <tr>\n",
       "      <th>GPR/likelihood/variance</th>\n",
       "      <td>Parameter</td>\n",
       "      <td>None</td>\n",
       "      <td>+ve</td>\n",
       "      <td>True</td>\n",
       "      <td>()</td>\n",
       "      <td>True</td>\n",
       "      <td>26715.57014297582</td>\n",
       "    </tr>\n",
       "  </tbody>\n",
       "</table>\n",
       "</div>"
      ],
      "text/plain": [
       "                             class prior transform  trainable shape  \\\n",
       "GPR/likelihood/variance  Parameter  None       +ve       True    ()   \n",
       "\n",
       "                         fixed_shape              value  \n",
       "GPR/likelihood/variance         True  26715.57014297582  "
      ]
     },
     "execution_count": 26,
     "metadata": {},
     "output_type": "execute_result"
    }
   ],
   "source": [
    "m.as_pandas_table()"
   ]
  },
  {
   "cell_type": "code",
   "execution_count": 369,
   "metadata": {},
   "outputs": [],
   "source": [
    "def obtain_kernel_and_sigma_u(all_xs,all_ys):\n",
    "    k =  CustomKernel(all_xs.shape[1])\n",
    "    m = gpflow.models.GPR(all_xs, all_ys, kern=k)\n",
    "    gpflow.train.ScipyOptimizer().minimize(m,session=sess)\n",
    "    #sigma_u = m.kern.sigma_u\n",
    "    #.value\n",
    "    cov = np.zeros((all_xs.shape[0],all_xs.shape[0]))\n",
    "    term = m.kern.K(all_xs,X2=all_xs)\n",
    "    print(m.as_pandas_table())\n",
    "    #for i in range(all_xs.shape[0]):\n",
    "        #for j in range(all_xs.shape[0]):\n",
    "            #print(type(all_xs[i][0]))\n",
    "           # term = m.kern.K(all_xs[i],all_xs[j])\n",
    "            #term = tf.cast(term, tf.float32)\n",
    "           # cov[i][j]=term\n",
    "            #term.eval(session=sess)\n",
    "            #term.eval(session=sess)\n",
    "    return term.eval(session=sess)\n",
    "#,sigma_u"
   ]
  },
  {
   "cell_type": "code",
   "execution_count": 370,
   "metadata": {},
   "outputs": [
    {
     "name": "stdout",
     "output_type": "stream",
     "text": [
      "WARNING:tensorflow:tf.op_scope(values, name, default_name) is deprecated, use tf.name_scope(name, default_name, values)\n"
     ]
    },
    {
     "name": "stderr",
     "output_type": "stream",
     "text": [
      "WARNING:tensorflow:tf.op_scope(values, name, default_name) is deprecated, use tf.name_scope(name, default_name, values)\n",
      "WARNING:gpflow.logdensities:Shape of x must be 2D at computation.\n",
      "WARNING:gpflow.logdensities:Shape of mu may be unknown or not 2D.\n"
     ]
    },
    {
     "name": "stdout",
     "output_type": "stream",
     "text": [
      "(?, ?)\n",
      "Tensor(\"GPR-e94f3f47-854/likelihood_1/strided_slice_1:0\", dtype=float64)\n",
      "Tensor(\"GPR-e94f3f47-854/likelihood_1/strided_slice_4:0\", dtype=float64)\n",
      "INFO:tensorflow:Optimization terminated with:\n",
      "  Message: b'CONVERGENCE: NORM_OF_PROJECTED_GRADIENT_<=_PGTOL'\n",
      "  Objective function value: 542.233190\n",
      "  Number of iterations: 32\n",
      "  Number of functions evaluations: 33\n"
     ]
    },
    {
     "name": "stderr",
     "output_type": "stream",
     "text": [
      "INFO:tensorflow:Optimization terminated with:\n",
      "  Message: b'CONVERGENCE: NORM_OF_PROJECTED_GRADIENT_<=_PGTOL'\n",
      "  Objective function value: 542.233190\n",
      "  Number of iterations: 32\n",
      "  Number of functions evaluations: 33\n"
     ]
    },
    {
     "name": "stdout",
     "output_type": "stream",
     "text": [
      "WARNING:tensorflow:tf.op_scope(values, name, default_name) is deprecated, use tf.name_scope(name, default_name, values)\n"
     ]
    },
    {
     "name": "stderr",
     "output_type": "stream",
     "text": [
      "WARNING:tensorflow:tf.op_scope(values, name, default_name) is deprecated, use tf.name_scope(name, default_name, values)\n"
     ]
    },
    {
     "name": "stdout",
     "output_type": "stream",
     "text": [
      "(100, 3)\n",
      "called\n",
      "WARNING:tensorflow:tf.op_scope(values, name, default_name) is deprecated, use tf.name_scope(name, default_name, values)\n"
     ]
    },
    {
     "name": "stderr",
     "output_type": "stream",
     "text": [
      "WARNING:tensorflow:tf.op_scope(values, name, default_name) is deprecated, use tf.name_scope(name, default_name, values)\n"
     ]
    },
    {
     "name": "stdout",
     "output_type": "stream",
     "text": [
      "[17.62061977 16.3121152  16.83757731 15.21358701 18.68006498  3.\n",
      " 15.        ]\n",
      "[17.62061977 16.3121152  16.83757731 15.21358701 18.68006498  3.\n",
      " 15.        ]\n",
      "                             class prior transform  trainable shape  \\\n",
      "GPR/likelihood/variance  Parameter  None       +ve       True    ()   \n",
      "\n",
      "                         fixed_shape               value  \n",
      "GPR/likelihood/variance         True  2684.0070684618827  \n"
     ]
    }
   ],
   "source": [
    "cov = obtain_kernel_and_sigma_u(X,y)\n"
   ]
  },
  {
   "cell_type": "code",
   "execution_count": 60,
   "metadata": {},
   "outputs": [],
   "source": [
    "def get_RT(y,X):\n",
    "    sigma_theta = np.array([[1.0,0.1,0.1],[0.1,1.0,0.1],\\\n",
    "                                    [0.1,0.1,1.0]])\n",
    "    to_return = [y[i]-np.dot(np.transpose(X[i][0:3]),sigma_theta) for i in range(len(X))]\n",
    "    return to_return"
   ]
  },
  {
   "cell_type": "code",
   "execution_count": 62,
   "metadata": {},
   "outputs": [],
   "source": [
    "r_adjusted = get_RT(y,X)"
   ]
  },
  {
   "cell_type": "code",
   "execution_count": 80,
   "metadata": {},
   "outputs": [],
   "source": [
    "def create_H():\n",
    "    return np.array([1,0,0,0,0,0],[0,0,1,0,1,0]).T\n",
    "    \n",
    "    "
   ]
  },
  {
   "cell_type": "code",
   "execution_count": 63,
   "metadata": {},
   "outputs": [],
   "source": [
    "def get_MT(new_x,sigma_theta,sigma_u,sigma_v,):\n",
    "    \n",
    "    "
   ]
  },
  {
   "cell_type": "code",
   "execution_count": 81,
   "metadata": {},
   "outputs": [],
   "source": [
    "    sigma_theta = np.array([[1.1, 0.1, 0.1, 0.1, 0.1, 0.1],\n",
    "       [0.1, 1.1, 0.1, 0.1, 0.1, 0.1],\n",
    "       [0.1, 0.1, 1.1, 0.1, 0.1, 0.1],\n",
    "       [0.1, 0.1, 0.1, 1.1, 0.1, 0.1],\n",
    "       [0.1, 0.1, 0.1, 0.1, 1.1, 0.1],\n",
    "       [0.1, 0.1, 0.1, 0.1, 0.1, 1.1]])\n",
    "    sigma_u = np.array([[1.0,0.1],[0.1,1.0]])\n",
    "    \n",
    "    sigma_v = np.array([[10.0,0.0],[0.0,10.0]])\n",
    "    \n",
    "    "
   ]
  },
  {
   "cell_type": "code",
   "execution_count": null,
   "metadata": {
    "collapsed": true
   },
   "outputs": [],
   "source": []
  },
  {
   "cell_type": "code",
   "execution_count": 118,
   "metadata": {},
   "outputs": [
    {
     "data": {
      "text/plain": [
       "<tf.Tensor 'norm_9/Squeeze:0' shape=() dtype=float32>"
      ]
     },
     "execution_count": 118,
     "metadata": {},
     "output_type": "execute_result"
    }
   ],
   "source": [
    "#one = tf.constant([0,0])\n",
    "#two = tf.constant([1,1])\n",
    "inp= tf.constant([[1.0, 2, 3], [4, 5, 6.0], [7.0, 8, 9]])\n",
    "tf.norm([inp,inp],ord=2)\n"
   ]
  },
  {
   "cell_type": "code",
   "execution_count": 13,
   "metadata": {},
   "outputs": [],
   "source": [
    "df = pd.DataFrame(X,columns=['f_1','f_2','f_3','g_1','g_2','user_id','user_day_id'])\n",
    "path = 'X_data.feather'\n",
    "feather.write_dataframe(df, path)\n",
    "df_rewards = pd.DataFrame(y,columns=['reward'])\n",
    "path = 'y_data.feather'\n",
    "feather.write_dataframe(df_rewards, path)"
   ]
  },
  {
   "cell_type": "code",
   "execution_count": 16,
   "metadata": {
    "collapsed": true
   },
   "outputs": [],
   "source": [
    "\n",
    "gr = m.kern.K(X,X)"
   ]
  },
  {
   "cell_type": "code",
   "execution_count": 19,
   "metadata": {},
   "outputs": [
    {
     "data": {
      "text/plain": [
       "(2, 6)"
      ]
     },
     "execution_count": 19,
     "metadata": {},
     "output_type": "execute_result"
    }
   ],
   "source": [
    "X.shape"
   ]
  },
  {
   "cell_type": "code",
   "execution_count": 20,
   "metadata": {},
   "outputs": [
    {
     "data": {
      "text/plain": [
       "1.0"
      ]
     },
     "execution_count": 20,
     "metadata": {},
     "output_type": "execute_result"
    }
   ],
   "source": [
    "gr.eval()"
   ]
  },
  {
   "cell_type": "code",
   "execution_count": 123,
   "metadata": {},
   "outputs": [],
   "source": [
    "p=[1,1]+[2,2,2]+[3,3,3]\n",
    "pp=[p,p]"
   ]
  },
  {
   "cell_type": "code",
   "execution_count": 124,
   "metadata": {},
   "outputs": [
    {
     "data": {
      "text/plain": [
       "array([1., 1., 2., 2., 2., 3., 3., 3.])"
      ]
     },
     "execution_count": 124,
     "metadata": {},
     "output_type": "execute_result"
    }
   ],
   "source": [
    "np.mean(np.array(pp),axis=0)"
   ]
  },
  {
   "cell_type": "code",
   "execution_count": 125,
   "metadata": {},
   "outputs": [
    {
     "data": {
      "text/plain": [
       "[[1, 1, 2, 2, 2, 3, 3, 3], [1, 1, 2, 2, 2, 3, 3, 3]]"
      ]
     },
     "execution_count": 125,
     "metadata": {},
     "output_type": "execute_result"
    }
   ],
   "source": [
    "pp"
   ]
  },
  {
   "cell_type": "code",
   "execution_count": 32,
   "metadata": {},
   "outputs": [],
   "source": [
    "    def rbf_custom( X, X2=None):\n",
    "        #print(X)\n",
    "        #print(X2)\n",
    "        if X2 is None:\n",
    "             X2=X\n",
    "        return tf.exp(tf.divide(tf.square(-tf.subtract(X,X2)),tf.constant(1.0,dtype=tf.float64)))\n",
    "        return tf.constant(1.0,dtype=tf.float64)"
   ]
  },
  {
   "cell_type": "code",
   "execution_count": 519,
   "metadata": {},
   "outputs": [
    {
     "name": "stdout",
     "output_type": "stream",
     "text": [
      "WARNING:tensorflow:tf.op_scope(values, name, default_name) is deprecated, use tf.name_scope(name, default_name, values)\n"
     ]
    },
    {
     "name": "stderr",
     "output_type": "stream",
     "text": [
      "WARNING:tensorflow:tf.op_scope(values, name, default_name) is deprecated, use tf.name_scope(name, default_name, values)\n"
     ]
    }
   ],
   "source": [
    "tx = tf.constant(X)\n",
    "day_two = gather_cols(tx, [6], name=None)\n",
    "z= rbf_custom(day_two,day_two)"
   ]
  },
  {
   "cell_type": "code",
   "execution_count": 520,
   "metadata": {},
   "outputs": [
    {
     "data": {
      "text/plain": [
       "<tf.Tensor 'Exp_756:0' shape=(100, 1) dtype=float64>"
      ]
     },
     "execution_count": 520,
     "metadata": {},
     "output_type": "execute_result"
    }
   ],
   "source": [
    "z"
   ]
  },
  {
   "cell_type": "code",
   "execution_count": 521,
   "metadata": {},
   "outputs": [],
   "source": [
    "def get_all_sigmas(sigma_v,g_one,g_two,day_one,day_two):\n",
    "    #sigmax = [[] for i in range(100)]\n",
    "    #tf.placeholder(tf.float64, shape=(100, 2,2))\n",
    "    \n",
    "            \n",
    "        #print('eff')\n",
    "        #print(effects.shape)\n",
    "        #user_term = tf.constant(np.array([[0.0,0.0],[0.0,0.0]]))           \n",
    "        \n",
    "\n",
    "\n",
    "        #print('eff')\n",
    "        #print(effects.shape)\n",
    "        #effects = tf.tensordot(effects,tf.transpose(g_two),axes = [[1],[0]])\n",
    "    \n",
    "    get_g = g_one\n",
    "    get_g_two = g_two\n",
    "    to_return = [[] for i in range(get_g.get_shape()[0])]\n",
    "    for i in range(get_g.get_shape()[0]):\n",
    "        temp = [[] for i in range(get_g_two.get_shape()[0])]\n",
    "        for j in range( get_g_two.get_shape()[0]):\n",
    "            rho = rbf_custom(day_one[i], X2=day_two[j])\n",
    "            #print(sess.run(rho))\n",
    "            val = sess.run(rho)[0]\n",
    "        #tf.scalar_mul(val,sigma_v)\n",
    "            #print(val)\n",
    "            this_sigma = tf.scalar_mul(val,sigma_v)\n",
    "            #print(this_sigma)\n",
    "            effects = tf.tensordot(get_g[i],this_sigma,axes=[[0],[1]])\n",
    "            effects = tf.tensordot(effects,get_g_two[j],axes = [[0],[0]])\n",
    "            temp[j]=effects\n",
    "        to_return[i]=temp\n",
    "        \n",
    "    return to_return"
   ]
  },
  {
   "cell_type": "code",
   "execution_count": 465,
   "metadata": {},
   "outputs": [
    {
     "data": {
      "text/plain": [
       "1.0"
      ]
     },
     "execution_count": 465,
     "metadata": {},
     "output_type": "execute_result"
    }
   ],
   "source": [
    "(sess.run(z[0])[0])"
   ]
  },
  {
   "cell_type": "code",
   "execution_count": 28,
   "metadata": {},
   "outputs": [
    {
     "name": "stdout",
     "output_type": "stream",
     "text": [
      "WARNING:tensorflow:tf.op_scope(values, name, default_name) is deprecated, use tf.name_scope(name, default_name, values)\n"
     ]
    },
    {
     "name": "stderr",
     "output_type": "stream",
     "text": [
      "WARNING:tensorflow:tf.op_scope(values, name, default_name) is deprecated, use tf.name_scope(name, default_name, values)\n"
     ]
    },
    {
     "name": "stdout",
     "output_type": "stream",
     "text": [
      "WARNING:tensorflow:tf.op_scope(values, name, default_name) is deprecated, use tf.name_scope(name, default_name, values)\n"
     ]
    },
    {
     "name": "stderr",
     "output_type": "stream",
     "text": [
      "WARNING:tensorflow:tf.op_scope(values, name, default_name) is deprecated, use tf.name_scope(name, default_name, values)\n"
     ]
    },
    {
     "name": "stdout",
     "output_type": "stream",
     "text": [
      "WARNING:tensorflow:tf.op_scope(values, name, default_name) is deprecated, use tf.name_scope(name, default_name, values)\n"
     ]
    },
    {
     "name": "stderr",
     "output_type": "stream",
     "text": [
      "WARNING:tensorflow:tf.op_scope(values, name, default_name) is deprecated, use tf.name_scope(name, default_name, values)\n"
     ]
    }
   ],
   "source": [
    "        day_one = gather_cols(X, [6], name=None)\n",
    "        f_one = gather_cols(X, [0,1,2], name=None)\n",
    "        g_one = gather_cols(X, [3,4], name=None)"
   ]
  },
  {
   "cell_type": "code",
   "execution_count": 38,
   "metadata": {},
   "outputs": [
    {
     "data": {
      "text/plain": [
       "<tf.Tensor 'strided_slice_100004:0' shape=() dtype=float64>"
      ]
     },
     "execution_count": 38,
     "metadata": {},
     "output_type": "execute_result"
    }
   ],
   "source": [
    "rbf_custom(day_one[0], X2=day_two[0])[0]"
   ]
  },
  {
   "cell_type": "code",
   "execution_count": 30,
   "metadata": {},
   "outputs": [],
   "source": [
    "g_two=g_one\n",
    "day_two=day_one"
   ]
  },
  {
   "cell_type": "code",
   "execution_count": 49,
   "metadata": {},
   "outputs": [],
   "source": [
    "ts = tf.stack([day_one,day_two],axis=1)"
   ]
  },
  {
   "cell_type": "code",
   "execution_count": 54,
   "metadata": {},
   "outputs": [
    {
     "ename": "AttributeError",
     "evalue": "module 'tensorflow' has no attribute 'tensor'",
     "output_type": "error",
     "traceback": [
      "\u001b[0;31m---------------------------------------------------------------------------\u001b[0m",
      "\u001b[0;31mAttributeError\u001b[0m                            Traceback (most recent call last)",
      "\u001b[0;32m<ipython-input-54-5af5d324f559>\u001b[0m in \u001b[0;36m<module>\u001b[0;34m\u001b[0m\n\u001b[1;32m      1\u001b[0m \u001b[0melems\u001b[0m \u001b[0;34m=\u001b[0m \u001b[0mts\u001b[0m\u001b[0;34m\u001b[0m\u001b[0;34m\u001b[0m\u001b[0m\n\u001b[0;32m----> 2\u001b[0;31m \u001b[0malternate\u001b[0m \u001b[0;34m=\u001b[0m \u001b[0mtf\u001b[0m\u001b[0;34m.\u001b[0m\u001b[0mmap_fn\u001b[0m\u001b[0;34m(\u001b[0m\u001b[0;32mlambda\u001b[0m \u001b[0mx\u001b[0m\u001b[0;34m:\u001b[0m \u001b[0mrbf_custom\u001b[0m\u001b[0;34m(\u001b[0m\u001b[0mx\u001b[0m\u001b[0;34m[\u001b[0m\u001b[0;36m0\u001b[0m\u001b[0;34m]\u001b[0m\u001b[0;34m,\u001b[0m \u001b[0mX2\u001b[0m\u001b[0;34m=\u001b[0m\u001b[0mx\u001b[0m\u001b[0;34m[\u001b[0m\u001b[0;36m1\u001b[0m\u001b[0;34m]\u001b[0m\u001b[0;34m)\u001b[0m\u001b[0;34m,\u001b[0m \u001b[0melems\u001b[0m\u001b[0;34m,\u001b[0m \u001b[0mdtype\u001b[0m\u001b[0;34m=\u001b[0m\u001b[0;34m(\u001b[0m\u001b[0mtf\u001b[0m\u001b[0;34m.\u001b[0m\u001b[0mtensor\u001b[0m\u001b[0;34m)\u001b[0m\u001b[0;34m)\u001b[0m\u001b[0;34m\u001b[0m\u001b[0;34m\u001b[0m\u001b[0m\n\u001b[0m",
      "\u001b[0;31mAttributeError\u001b[0m: module 'tensorflow' has no attribute 'tensor'"
     ]
    }
   ],
   "source": [
    "elems = ts\n",
    "\n",
    "alternate = tf.map_fn(lambda x: rbf_custom(x[0], X2=x[1]), elems, dtype=(tf.tensor))"
   ]
  },
  {
   "cell_type": "code",
   "execution_count": 64,
   "metadata": {},
   "outputs": [],
   "source": []
  },
  {
   "cell_type": "code",
   "execution_count": 71,
   "metadata": {},
   "outputs": [],
   "source": []
  },
  {
   "cell_type": "code",
   "execution_count": 72,
   "metadata": {},
   "outputs": [
    {
     "data": {
      "text/plain": [
       "(100, 100)"
      ]
     },
     "execution_count": 72,
     "metadata": {},
     "output_type": "execute_result"
    }
   ],
   "source": [
    "rhos.shape"
   ]
  },
  {
   "cell_type": "code",
   "execution_count": null,
   "metadata": {},
   "outputs": [],
   "source": []
  },
  {
   "cell_type": "code",
   "execution_count": 433,
   "metadata": {},
   "outputs": [],
   "source": [
    "sigma_theta =tf.constant(np.array([[100.0,10.0,10.0],[10.0,100.0,10.0],\\\n",
    "                                    [10.0,10.0,100.0]]))\n",
    "sigma_v =  tf.constant(np.array([[100.0,0.0],[0.0,100.0]]))\n",
    "sigma_u =  tf.constant(np.array([[100.0,10.0],[10.0,100.0]]))"
   ]
  },
  {
   "cell_type": "code",
   "execution_count": 199,
   "metadata": {},
   "outputs": [
    {
     "name": "stdout",
     "output_type": "stream",
     "text": [
      "rho\n",
      "1.0\n",
      "(3,)\n",
      "Tensor(\"strided_slice_206:0\", shape=(3,), dtype=float64)\n",
      "baselines\n",
      "(3,)\n",
      "baselines\n",
      "()\n",
      "107826.87763336947\n",
      "eff\n",
      "(2,)\n",
      "eff\n",
      "()\n",
      "res\n",
      "()\n",
      "169293.14642401805\n"
     ]
    }
   ],
   "source": [
    "user_id_one = X_one[-2]\n",
    "day_one = X_one[-1]\n",
    "f_one = X_one[0:3]\n",
    "g_one = X_one[3:5]\n",
    "\n",
    "user_id_two = X_two[-2]\n",
    "day_two = X_two[-1]\n",
    "f_two = X_two[0:3]\n",
    "g_two = X_two[3:5]\n",
    "        \n",
    "        \n",
    "rho_term = rbf_custom(day_one,X2=day_two).eval(session=sess) \n",
    "#print(sess.run(rho_term))\n",
    "print('rho')\n",
    "#print(tf.shape(f_one))\n",
    "print(rho_term)\n",
    "print(f_one.shape)\n",
    "print(f_one)\n",
    "#print(rho_term.get_shape()[1])\n",
    "            #rho_term = tf.constant(np.array([1.0]))\n",
    "       \n",
    "baselines = tf.tensordot(tf.transpose(f_one),sigma_theta,axes=[[0],[0]])\n",
    "print('baselines')\n",
    "print(baselines.get_shape())\n",
    "baselines = tf.tensordot(tf.transpose(baselines),f_two,axes=[[0],[0]])\n",
    "            #print('look at shape')\n",
    "            #print(baselines)\n",
    "print('baselines')\n",
    "print(baselines.get_shape())\n",
    "print(baselines.eval(session=sess))\n",
    "#if user_id_one==user_id_two:\n",
    "#    user_term = self.sigma_u\n",
    "#else:\n",
    "#print('user')\n",
    "#print('user_term')\n",
    "\n",
    "            #print(self.sigma_v.shape)\n",
    "            #print(rho_term.shape)\n",
    "effect_term = tf.scalar_mul(rho_term,sigma_v)\n",
    "#print('effect term')\n",
    "#print(effect_term.shape)\n",
    "#print('user term')\n",
    "#print(user_term.shape)\n",
    "user_term = tf.constant(np.array([[0.0,0.0],[0.0,0.0]]))           \n",
    "effect_term = tf.add(user_term,effect_term)\n",
    "#print('eff')\n",
    "#print(effect_term.shape)\n",
    "#print('g')\n",
    "#print(g_one.shape)\n",
    "effects = tf.tensordot(tf.transpose(g_one),effect_term,axes=[[0],[1]])\n",
    "print('eff')\n",
    "print(effects.shape)\n",
    "effects = tf.tensordot(tf.transpose(effects),g_two,axes = [[0],[0]])\n",
    "print('eff')\n",
    "print(effects.shape)\n",
    "result = tf.add(baselines,effects)\n",
    "print('res')\n",
    "print(result.shape)\n",
    "print(result.eval(session=sess))"
   ]
  },
  {
   "cell_type": "code",
   "execution_count": 222,
   "metadata": {},
   "outputs": [],
   "source": [
    "X = np.vstack([np.random.randn(10,2) + [2,2],\n",
    "               np.random.randn(10,2) + [-2,2],\n",
    "               np.random.randn(10,2) + [2,-2]])"
   ]
  },
  {
   "cell_type": "code",
   "execution_count": 223,
   "metadata": {},
   "outputs": [
    {
     "data": {
      "text/plain": [
       "(30, 2)"
      ]
     },
     "execution_count": 223,
     "metadata": {},
     "output_type": "execute_result"
    }
   ],
   "source": [
    "X.shape"
   ]
  },
  {
   "cell_type": "code",
   "execution_count": null,
   "metadata": {},
   "outputs": [],
   "source": [
    " #.eval(session=sess) \n",
    "            #print(sess.run(rho_term))\n",
    "            print('rho')\n",
    "            #print(tf.shape(f_one))\n",
    "            print(rho_term)\n",
    "            print(f_one.shape)\n",
    "            print(f_one)\n",
    "            #print(rho_term.get_shape()[1])\n",
    "            #rho_term = tf.constant(np.array([1.0]))\n",
    "       \n",
    "            baselines = tf.tensordot(tf.transpose(f_one),self.sigma_theta,axes=[[0],[0]])\n",
    "            print('baselines')\n",
    "            print(baselines.get_shape())\n",
    "            baselines = tf.tensordot(tf.transpose(baselines),f_two,axes=[[0],[0]])\n",
    "            #print('look at shape')\n",
    "            #print(baselines)\n",
    "            print('baselines')\n",
    "            print(baselines.get_shape())\n",
    "           \n",
    "            #if user_id_one==user_id_two:\n",
    "            #    user_term = self.sigma_u\n",
    "            #else:\n",
    "            #print('user')\n",
    "            #print('user_term')\n",
    "\n",
    "            #print(self.sigma_v.shape)\n",
    "            #print(rho_term.shape)\n",
    "            effect_term = tf.tensordot(rho_term,self.sigma_v,axes=[[0],[0]])\n",
    "                #print('effect term')\n",
    "            #print(effect_term.shape)\n",
    "            #print('user term')\n",
    "            #print(user_term.shape)\n",
    "            user_term = tf.constant(np.array([[0.0,0.0],[0.0,0.0]]))           \n",
    "            effect_term = tf.add(user_term,effect_term)\n",
    "            #print('eff')\n",
    "            #print(effect_term.shape)\n",
    "            #print('g')\n",
    "            #print(g_one.shape)\n",
    "            effects = tf.tensordot(tf.transpose(g_one),effect_term,axes=[[0],[1]])\n",
    "            print('eff')\n",
    "            print(effects.shape)\n",
    "            effects = tf.tensordot(tf.transpose(effects),g_two,axes = [[0],[0]])\n",
    "            print('eff')\n",
    "            print(effects.shape)\n",
    "            result = tf.add(baselines,effects)\n",
    "            print('res')\n",
    "            print(result.shape)\n",
    "        "
   ]
  }
 ],
 "metadata": {
  "kernelspec": {
   "display_name": "Python 3",
   "language": "python",
   "name": "python3"
  },
  "language_info": {
   "codemirror_mode": {
    "name": "ipython",
    "version": 3
   },
   "file_extension": ".py",
   "mimetype": "text/x-python",
   "name": "python",
   "nbconvert_exporter": "python",
   "pygments_lexer": "ipython3",
   "version": "3.6.8"
  }
 },
 "nbformat": 4,
 "nbformat_minor": 2
}
