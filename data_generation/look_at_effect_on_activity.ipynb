{
 "cells": [
  {
   "cell_type": "code",
   "execution_count": 3,
   "metadata": {
    "collapsed": true
   },
   "outputs": [],
   "source": [
    "import pickle\n",
    "import numpy as np\n",
    "import pandas as pd\n",
    "from sklearn import preprocessing\n",
    "from sklearn.feature_selection import RFECV\n",
    "from sklearn.svm import SVR\n",
    "from sklearn.pipeline import Pipeline\n",
    "from sklearn.ensemble import ExtraTreesRegressor\n",
    "import operator"
   ]
  },
  {
   "cell_type": "code",
   "execution_count": 10,
   "metadata": {
    "collapsed": true
   },
   "outputs": [],
   "source": [
    "def adjust_to_day(steps):\n",
    "    steps = steps.between_time('9:00','21:00')\n",
    "    return steps.fillna(0).tz_localize(None).resample('30T').sum().fillna(0)"
   ]
  },
  {
   "cell_type": "code",
   "execution_count": 2,
   "metadata": {
    "collapsed": true
   },
   "outputs": [],
   "source": [
    "def adjust_to_thirty_minute(steps):\n",
    "    return steps.fillna(0).tz_localize(None).resample('30T').sum().fillna(0)"
   ]
  },
  {
   "cell_type": "code",
   "execution_count": 14,
   "metadata": {
    "collapsed": true
   },
   "outputs": [],
   "source": [
    "def get_processed(file_name):\n",
    "    \n",
    "    root = '../../../../Volumes/dav/HeartSteps/pooling_rl_shared_data/processed/'\n",
    "    with open('{}{}.pkl'.format(root,file_name),'rb') as f:\n",
    "        return pickle.load(f)"
   ]
  },
  {
   "cell_type": "code",
   "execution_count": 33,
   "metadata": {
    "collapsed": true
   },
   "outputs": [],
   "source": [
    "def make_feature_matrix():\n",
    "    other = get_processed('other_activity_no_missing')\n",
    "    agg_consc = get_processed('agg_conscientiousness_measures')\n",
    "    agg_selfeff = get_processed('agg_self_efficacy_measures')\n",
    "    agg_actchoice = get_processed('agg_activity_choice_measures')\n",
    "    other_keys = list(other[1].keys())\n",
    "    #other_keys = ['vigact.days','vigact.hrs','vigact.min','modact.days']\n",
    "    pids = [p for p in other.keys() if p!=4]\n",
    "    \n",
    "    to_return = []\n",
    "    feature_names = other_keys+['conscientiousness']+['self_efficacy']+['activity_choice']\n",
    "    \n",
    "    for p in pids:\n",
    "        temp = [other[p][o] for o in other_keys]\n",
    "        temp.append(agg_consc[p])\n",
    "        temp.append(agg_selfeff[p])\n",
    "        temp.append(agg_actchoice[p])\n",
    "        to_return.append(temp)\n",
    "    return to_return,feature_names,pids"
   ]
  },
  {
   "cell_type": "code",
   "execution_count": 5,
   "metadata": {
    "collapsed": true
   },
   "outputs": [],
   "source": [
    "merged = get_processed('merged_est')"
   ]
  },
  {
   "cell_type": "code",
   "execution_count": 6,
   "metadata": {
    "collapsed": false
   },
   "outputs": [],
   "source": [
    "test  = merged[1]['steps']"
   ]
  },
  {
   "cell_type": "code",
   "execution_count": null,
   "metadata": {
    "collapsed": false
   },
   "outputs": [],
   "source": []
  },
  {
   "cell_type": "code",
   "execution_count": 34,
   "metadata": {
    "collapsed": false
   },
   "outputs": [],
   "source": [
    "def fix(x):\n",
    "    to_return = []\n",
    "    for i in x:\n",
    "        if type(i)==str:\n",
    "            if i=='no':\n",
    "                to_return.append(0)\n",
    "            elif i=='yes':\n",
    "                to_return.append(1)\n",
    "            elif i=='X':\n",
    "                to_return.append(0)\n",
    "            else:\n",
    "                #print(i)\n",
    "                if pd.isnull(float(i)):\n",
    "                    print(i)\n",
    "                to_return.append(float(i))\n",
    "        else:\n",
    "            if pd.isnull(float(i)):\n",
    "                    i = 0\n",
    "            to_return.append(i)\n",
    "    return to_return"
   ]
  },
  {
   "cell_type": "code",
   "execution_count": 35,
   "metadata": {
    "collapsed": false
   },
   "outputs": [],
   "source": [
    "X,fn,pids = make_feature_matrix()"
   ]
  },
  {
   "cell_type": "code",
   "execution_count": 36,
   "metadata": {
    "collapsed": false
   },
   "outputs": [],
   "source": [
    "X = [fix(x) for x in X]"
   ]
  },
  {
   "cell_type": "code",
   "execution_count": 37,
   "metadata": {
    "collapsed": false
   },
   "outputs": [],
   "source": [
    "X_scaled = preprocessing.scale(X)"
   ]
  },
  {
   "cell_type": "code",
   "execution_count": 38,
   "metadata": {
    "collapsed": false
   },
   "outputs": [],
   "source": [
    "def get_training_data_step_counts(pids):\n",
    "    merged = get_processed('merged_est')\n",
    "    to_return = {}\n",
    "    for p in pids:\n",
    "        if p in merged:\n",
    "            df  = merged[p]\n",
    "            steps = adjust_to_day(df['steps'])\n",
    "            to_return[p]=steps\n",
    "    return to_return"
   ]
  },
  {
   "cell_type": "code",
   "execution_count": 39,
   "metadata": {
    "collapsed": false
   },
   "outputs": [],
   "source": [
    "steps = get_training_data_step_counts(pids)"
   ]
  },
  {
   "cell_type": "code",
   "execution_count": 40,
   "metadata": {
    "collapsed": false
   },
   "outputs": [],
   "source": [
    "pid_lookup = {pids[i]:i for i in range(len(pids))}"
   ]
  },
  {
   "cell_type": "code",
   "execution_count": 41,
   "metadata": {
    "collapsed": true
   },
   "outputs": [],
   "source": [
    "def make_matrix_for_first_analysis(steps,pid_lookup,X):\n",
    "    \n",
    "    big_matrix_X = []\n",
    "    big_matrix_y = []\n",
    "    for pid,stepcount in steps.items():\n",
    "        #for s in stepcount:\n",
    "        big_matrix_X.append(X[pid_lookup[pid]])\n",
    "        big_matrix_y.append(stepcount.mean())\n",
    "    return big_matrix_X,big_matrix_y\n",
    "        "
   ]
  },
  {
   "cell_type": "code",
   "execution_count": 42,
   "metadata": {
    "collapsed": false
   },
   "outputs": [],
   "source": [
    "bx,by = make_matrix_for_first_analysis(steps,pid_lookup,X_scaled)"
   ]
  },
  {
   "cell_type": "code",
   "execution_count": 43,
   "metadata": {
    "collapsed": false
   },
   "outputs": [],
   "source": [
    "by_scaled = preprocessing.scale(by)"
   ]
  },
  {
   "cell_type": "code",
   "execution_count": 44,
   "metadata": {
    "collapsed": false
   },
   "outputs": [],
   "source": [
    "#selector.support_"
   ]
  },
  {
   "cell_type": "code",
   "execution_count": 49,
   "metadata": {
    "collapsed": false
   },
   "outputs": [],
   "source": [
    "et = ExtraTreesRegressor(n_estimators=10, max_features=9,\n",
    "                                       random_state=0)"
   ]
  },
  {
   "cell_type": "code",
   "execution_count": 50,
   "metadata": {
    "collapsed": false
   },
   "outputs": [
    {
     "data": {
      "text/plain": [
       "9"
      ]
     },
     "execution_count": 50,
     "metadata": {},
     "output_type": "execute_result"
    }
   ],
   "source": [
    "len(fn)"
   ]
  },
  {
   "cell_type": "code",
   "execution_count": 51,
   "metadata": {
    "collapsed": false
   },
   "outputs": [
    {
     "data": {
      "text/plain": [
       "ExtraTreesRegressor(bootstrap=False, criterion='mse', max_depth=None,\n",
       "          max_features=9, max_leaf_nodes=None, min_impurity_decrease=0.0,\n",
       "          min_impurity_split=None, min_samples_leaf=1, min_samples_split=2,\n",
       "          min_weight_fraction_leaf=0.0, n_estimators=10, n_jobs=1,\n",
       "          oob_score=False, random_state=0, verbose=0, warm_start=False)"
      ]
     },
     "execution_count": 51,
     "metadata": {},
     "output_type": "execute_result"
    }
   ],
   "source": [
    "et.fit(bx, by)"
   ]
  },
  {
   "cell_type": "code",
   "execution_count": 52,
   "metadata": {
    "collapsed": true
   },
   "outputs": [],
   "source": [
    "def nice_dict(feats,fns):\n",
    "    \n",
    "    to_return = {fns[i]:feats[i] for i in range(len(feats))}\n",
    "    return sorted(to_return.items(), key=operator.itemgetter(1),reverse=True)"
   ]
  },
  {
   "cell_type": "code",
   "execution_count": 53,
   "metadata": {
    "collapsed": false
   },
   "outputs": [
    {
     "data": {
      "text/plain": [
       "[('modact.days', 0.30184954240302453),\n",
       " ('conscientiousness', 0.16214303207770994),\n",
       " ('vigact.min', 0.15988951810608681),\n",
       " ('vigact.days', 0.10980673670251151),\n",
       " ('activity_choice', 0.10237091330875173),\n",
       " ('self_efficacy', 0.07667607541177926),\n",
       " ('fittracker', 0.039956318641505083),\n",
       " ('fitapp', 0.030317289372331302),\n",
       " ('vigact.hrs', 0.016990573976299751)]"
      ]
     },
     "execution_count": 53,
     "metadata": {},
     "output_type": "execute_result"
    }
   ],
   "source": [
    "nice_dict(et.feature_importances_,fn)"
   ]
  },
  {
   "cell_type": "code",
   "execution_count": null,
   "metadata": {
    "collapsed": true
   },
   "outputs": [],
   "source": []
  }
 ],
 "metadata": {
  "anaconda-cloud": {},
  "kernelspec": {
   "display_name": "Python [Root]",
   "language": "python",
   "name": "Python [Root]"
  },
  "language_info": {
   "codemirror_mode": {
    "name": "ipython",
    "version": 3
   },
   "file_extension": ".py",
   "mimetype": "text/x-python",
   "name": "python",
   "nbconvert_exporter": "python",
   "pygments_lexer": "ipython3",
   "version": "3.5.6"
  }
 },
 "nbformat": 4,
 "nbformat_minor": 0
}
