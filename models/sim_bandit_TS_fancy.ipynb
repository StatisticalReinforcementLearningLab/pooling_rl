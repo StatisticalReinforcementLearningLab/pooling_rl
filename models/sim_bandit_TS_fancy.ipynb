{
 "cells": [
  {
   "cell_type": "code",
   "execution_count": 1,
   "metadata": {
    "collapsed": false
   },
   "outputs": [],
   "source": [
    "import bandit\n",
    "from numpy.random import uniform\n",
    "from numpy.linalg import solve\n",
    "import numpy as np\n",
    "import state_params\n",
    "import random\n",
    "from scipy.stats import norm\n",
    "import TS_fancy\n",
    "from scipy.linalg import block_diag"
   ]
  },
  {
   "cell_type": "code",
   "execution_count": 2,
   "metadata": {
    "collapsed": false
   },
   "outputs": [],
   "source": [
    "sp = state_params.state_params(10)"
   ]
  },
  {
   "cell_type": "code",
   "execution_count": 3,
   "metadata": {
    "collapsed": false
   },
   "outputs": [
    {
     "data": {
      "text/plain": [
       "array([[ 1.,  0.,  0.,  0.,  0.,  0.,  0.,  0.,  0.],\n",
       "       [ 0.,  1.,  0.,  0.,  0.,  0.,  0.,  0.,  0.],\n",
       "       [ 0.,  0.,  1.,  0.,  0.,  0.,  0.,  0.,  0.],\n",
       "       [ 0.,  0.,  0.,  1.,  0.,  0.,  0.,  0.,  0.],\n",
       "       [ 0.,  0.,  0.,  0.,  1.,  0.,  0.,  0.,  0.],\n",
       "       [ 0.,  0.,  0.,  0.,  0.,  1.,  0.,  0.,  0.],\n",
       "       [ 0.,  0.,  0.,  0.,  0.,  0.,  1.,  0.,  0.],\n",
       "       [ 0.,  0.,  0.,  0.,  0.,  0.,  0.,  1.,  0.],\n",
       "       [ 0.,  0.,  0.,  0.,  0.,  0.,  0.,  0.,  1.]])"
      ]
     },
     "execution_count": 3,
     "metadata": {},
     "output_type": "execute_result"
    }
   ],
   "source": [
    "block_diag(np.eye(3),np.eye(3),np.eye(3))"
   ]
  },
  {
   "cell_type": "code",
   "execution_count": 4,
   "metadata": {
    "collapsed": false
   },
   "outputs": [
    {
     "data": {
      "text/plain": [
       "array([1, 1, 2, 2, 3])"
      ]
     },
     "execution_count": 4,
     "metadata": {},
     "output_type": "execute_result"
    }
   ],
   "source": [
    "np.concatenate(([1,1],[2,2],[3]))"
   ]
  },
  {
   "cell_type": "code",
   "execution_count": 5,
   "metadata": {
    "collapsed": false
   },
   "outputs": [],
   "source": [
    "def simulate(pZ,init):\n",
    "    total_reward = 0\n",
    "  # simulation\n",
    "    nT = 450\n",
    "\n",
    "      # initial state\n",
    "    Z_init = [uniform() for i in range(pZ)]\n",
    "    X_init =0\n",
    "    I_init = (uniform() < 0.8)\n",
    "  \n",
    "\n",
    "  \n",
    "    # policy initilization\n",
    "    mu_beta = init.mu_2\n",
    "    Sigma_beta = init.sigma_2\n",
    "    eta_function = init.eta_init\n",
    "    # placeholder\n",
    "    batch = [[] for i in range(nT)]\n",
    "  \n",
    "  \n",
    "    # performance matrix\n",
    "\n",
    "  \n",
    "  \n",
    "    for t in range(nT):\n",
    "    \n",
    "    \n",
    "    # current state \n",
    "    \n",
    "        if(t==0):\n",
    "      \n",
    "            Z_next = Z_init\n",
    "            X_next = X_init\n",
    "            I_next = I_init\n",
    "      \n",
    "    \n",
    "    \n",
    "        Z = Z_next\n",
    "        X = X_next\n",
    "        I = I_next\n",
    "    \n",
    "    # action selection\n",
    "    \n",
    "        if I == 1:\n",
    "      \n",
    "          # calculate prob\n",
    "      \n",
    "            prob = TS_fancy.prob_cal(Z, X, mu_beta, Sigma_beta, init, eta_function)\n",
    "            print(prob)\n",
    "            print(':)')\n",
    "          # sample the action\n",
    "            A = int(uniform() < prob)\n",
    "      \n",
    "        else:\n",
    "      \n",
    "            prob = 0\n",
    "            A = 0\n",
    "      \n",
    "        \n",
    "    \n",
    "        R = 1+Z[0]+(Z[0]**2)-(.05*X)+A*(1-.1*X)+np.random.normal(scale=1)\n",
    "        Z_next = [uniform() for i in range(pZ)]\n",
    "        X_next = TS_fancy.gen_nextdosage(X,A)\n",
    "        I_next = (uniform()<.8)\n",
    "        \n",
    "        \n",
    "        batch[t]=TS.make_batch(t,Z,X,I,A,prob,R)\n",
    "        \n",
    "        \n",
    "        total_reward = total_reward+R\n",
    "        if (t+1)%5 == 0: \n",
    "            if (t+1)%35==0:  \n",
    "            #update the txt effect posterior\n",
    "                temp = TS_fancy.policy_update(batch[:t], init,proxy=True)\n",
    "            #print(temp)\n",
    "                mu_beta = temp[0]\n",
    "                Sigma_beta = temp[1]\n",
    "                eta_function = temp[2]\n",
    "      \n",
    "      \n",
    "   \n",
    "    \n",
    "        #policy_update_ts(batch, init)\n",
    "    print(total_reward)\n",
    "    return batch,total_reward\n",
    "  \n",
    "    \n"
   ]
  },
  {
   "cell_type": "code",
   "execution_count": 6,
   "metadata": {
    "collapsed": false
   },
   "outputs": [
    {
     "name": "stdout",
     "output_type": "stream",
     "text": [
      "0.5\n",
      ":)\n"
     ]
    },
    {
     "ename": "NameError",
     "evalue": "name 'TS' is not defined",
     "output_type": "error",
     "traceback": [
      "\u001b[0;31m---------------------------------------------------------------------------\u001b[0m",
      "\u001b[0;31mNameError\u001b[0m                                 Traceback (most recent call last)",
      "\u001b[0;32m<ipython-input-6-9aecf6d33080>\u001b[0m in \u001b[0;36m<module>\u001b[0;34m()\u001b[0m\n\u001b[0;32m----> 1\u001b[0;31m \u001b[0mb\u001b[0m\u001b[0;34m,\u001b[0m\u001b[0mt\u001b[0m \u001b[0;34m=\u001b[0m\u001b[0msimulate\u001b[0m\u001b[0;34m(\u001b[0m\u001b[0msp\u001b[0m\u001b[0;34m.\u001b[0m\u001b[0mpZ\u001b[0m\u001b[0;34m,\u001b[0m\u001b[0msp\u001b[0m\u001b[0;34m)\u001b[0m\u001b[0;34m\u001b[0m\u001b[0m\n\u001b[0m",
      "\u001b[0;32m<ipython-input-5-5d99261b9427>\u001b[0m in \u001b[0;36msimulate\u001b[0;34m(pZ, init)\u001b[0m\n\u001b[1;32m     61\u001b[0m         \u001b[0mR\u001b[0m \u001b[0;34m=\u001b[0m \u001b[0;36m1\u001b[0m\u001b[0;34m+\u001b[0m\u001b[0mZ\u001b[0m\u001b[0;34m[\u001b[0m\u001b[0;36m0\u001b[0m\u001b[0;34m]\u001b[0m\u001b[0;34m+\u001b[0m\u001b[0;34m(\u001b[0m\u001b[0mZ\u001b[0m\u001b[0;34m[\u001b[0m\u001b[0;36m0\u001b[0m\u001b[0;34m]\u001b[0m\u001b[0;34m**\u001b[0m\u001b[0;36m2\u001b[0m\u001b[0;34m)\u001b[0m\u001b[0;34m-\u001b[0m\u001b[0;34m(\u001b[0m\u001b[0;36m.05\u001b[0m\u001b[0;34m*\u001b[0m\u001b[0mX\u001b[0m\u001b[0;34m)\u001b[0m\u001b[0;34m+\u001b[0m\u001b[0mA\u001b[0m\u001b[0;34m*\u001b[0m\u001b[0;34m(\u001b[0m\u001b[0;36m1\u001b[0m\u001b[0;34m-\u001b[0m\u001b[0;36m.1\u001b[0m\u001b[0;34m*\u001b[0m\u001b[0mX\u001b[0m\u001b[0;34m)\u001b[0m\u001b[0;34m+\u001b[0m\u001b[0mnp\u001b[0m\u001b[0;34m.\u001b[0m\u001b[0mrandom\u001b[0m\u001b[0;34m.\u001b[0m\u001b[0mnormal\u001b[0m\u001b[0;34m(\u001b[0m\u001b[0mscale\u001b[0m\u001b[0;34m=\u001b[0m\u001b[0;36m1\u001b[0m\u001b[0;34m)\u001b[0m\u001b[0;34m\u001b[0m\u001b[0m\n\u001b[1;32m     62\u001b[0m         \u001b[0mZ_next\u001b[0m \u001b[0;34m=\u001b[0m \u001b[0;34m[\u001b[0m\u001b[0muniform\u001b[0m\u001b[0;34m(\u001b[0m\u001b[0;34m)\u001b[0m \u001b[0;32mfor\u001b[0m \u001b[0mi\u001b[0m \u001b[0;32min\u001b[0m \u001b[0mrange\u001b[0m\u001b[0;34m(\u001b[0m\u001b[0mpZ\u001b[0m\u001b[0;34m)\u001b[0m\u001b[0;34m]\u001b[0m\u001b[0;34m\u001b[0m\u001b[0m\n\u001b[0;32m---> 63\u001b[0;31m         \u001b[0mX_next\u001b[0m \u001b[0;34m=\u001b[0m \u001b[0mTS\u001b[0m\u001b[0;34m.\u001b[0m\u001b[0mgen_nextdosage\u001b[0m\u001b[0;34m(\u001b[0m\u001b[0mX\u001b[0m\u001b[0;34m,\u001b[0m\u001b[0mA\u001b[0m\u001b[0;34m)\u001b[0m\u001b[0;34m\u001b[0m\u001b[0m\n\u001b[0m\u001b[1;32m     64\u001b[0m         \u001b[0mI_next\u001b[0m \u001b[0;34m=\u001b[0m \u001b[0;34m(\u001b[0m\u001b[0muniform\u001b[0m\u001b[0;34m(\u001b[0m\u001b[0;34m)\u001b[0m\u001b[0;34m<\u001b[0m\u001b[0;36m.8\u001b[0m\u001b[0;34m)\u001b[0m\u001b[0;34m\u001b[0m\u001b[0m\n\u001b[1;32m     65\u001b[0m \u001b[0;34m\u001b[0m\u001b[0m\n",
      "\u001b[0;31mNameError\u001b[0m: name 'TS' is not defined"
     ]
    }
   ],
   "source": [
    "b,t =simulate(sp.pZ,sp)"
   ]
  },
  {
   "cell_type": "code",
   "execution_count": null,
   "metadata": {
    "collapsed": true
   },
   "outputs": [],
   "source": []
  }
 ],
 "metadata": {
  "anaconda-cloud": {},
  "kernelspec": {
   "display_name": "Python [Root]",
   "language": "python",
   "name": "Python [Root]"
  },
  "language_info": {
   "codemirror_mode": {
    "name": "ipython",
    "version": 3
   },
   "file_extension": ".py",
   "mimetype": "text/x-python",
   "name": "python",
   "nbconvert_exporter": "python",
   "pygments_lexer": "ipython3",
   "version": "3.5.6"
  }
 },
 "nbformat": 4,
 "nbformat_minor": 0
}
