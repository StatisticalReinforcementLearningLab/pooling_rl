{
 "cells": [
  {
   "cell_type": "code",
   "execution_count": 1,
   "metadata": {
    "collapsed": false
   },
   "outputs": [],
   "source": [
    "import bandit\n",
    "from numpy.random import uniform\n",
    "from numpy.linalg import solve\n",
    "import numpy as np\n",
    "import state_params\n",
    "import random\n",
    "from scipy.stats import norm\n",
    "import TS\n",
    "from scipy.linalg import block_diag"
   ]
  },
  {
   "cell_type": "code",
   "execution_count": 2,
   "metadata": {
    "collapsed": true
   },
   "outputs": [],
   "source": [
    "###initializing variables"
   ]
  },
  {
   "cell_type": "code",
   "execution_count": 3,
   "metadata": {
    "collapsed": true
   },
   "outputs": [],
   "source": [
    "def get_vec_indices(pZ):\n",
    "    return [i for i in range(2,pZ+1)]"
   ]
  },
  {
   "cell_type": "code",
   "execution_count": 4,
   "metadata": {
    "collapsed": false
   },
   "outputs": [],
   "source": [
    "sp = state_params.state_params(10)"
   ]
  },
  {
   "cell_type": "code",
   "execution_count": 5,
   "metadata": {
    "collapsed": false
   },
   "outputs": [],
   "source": [
    "def eta(x):\n",
    "    return 1"
   ]
  },
  {
   "cell_type": "code",
   "execution_count": 6,
   "metadata": {
    "collapsed": true
   },
   "outputs": [],
   "source": [
    "pZ = 2\n",
    "pi_max = .8\n",
    "pi_min = .1\n",
    "\n",
    "\n",
    "sigma = 1\n",
    "\n",
    "\n",
    "xi  = 10 \n",
    "eta_init = 0\n",
    "gamma_mdp = .9\n",
    "lambda_knot = .9 \n",
    "prob_sedentary = .9 \n",
    "weight = .5 \n",
    "z_init = get_vec_indices(pZ)\n",
    "x_index = 2+pZ\n",
    "avail_index = 3+pZ\n",
    "prob_index = 5+pZ\n",
    "rwrd_index = 6+pZ\n"
   ]
  },
  {
   "cell_type": "code",
   "execution_count": 5,
   "metadata": {
    "collapsed": false
   },
   "outputs": [],
   "source": [
    "def gen_nextdosage(x,a):\n",
    "    anti_sed = int(uniform() < 0.3)\n",
    "    event = (anti_sed+a)>0\n",
    "    x_next = 0.9*x + event\n",
    "    \n",
    "    return x_next"
   ]
  },
  {
   "cell_type": "code",
   "execution_count": 6,
   "metadata": {
    "collapsed": true
   },
   "outputs": [],
   "source": [
    "def prob_cal_ts(z,x,mu,Sigma,init):\n",
    "    pos_mean = np.dot(bandit.feat2_function(z,x),mu)\n",
    "    pos_var = np.dot(np.dot(np.transpose(bandit.feat2_function(z,x)),Sigma),bandit.feat2_function(z,x))\n",
    "    pos_var = max(0,pos_var)\n",
    "\n",
    "  \n",
    " \n",
    "  \n",
    "    # probability\n",
    "    pit_zero = norm.cdf((pos_mean)/(pos_var**.5))\n",
    "  \n",
    "    # clipping\n",
    "    prob =  min(bandit.py_c_func(init.pi_max, max(bandit.py_c_func(init.pi_min, pit_zero))))\n",
    "  \n",
    "    return prob\n"
   ]
  },
  {
   "cell_type": "code",
   "execution_count": 7,
   "metadata": {
    "collapsed": true
   },
   "outputs": [],
   "source": [
    "def make_batch(t,Z,X,I,A,prob,R):\n",
    "    temp = [t]\n",
    "    temp.extend(Z)\n",
    "    temp.extend([X,I,A,prob,R])\n",
    "    return temp"
   ]
  },
  {
   "cell_type": "code",
   "execution_count": 29,
   "metadata": {
    "collapsed": false
   },
   "outputs": [],
   "source": [
    "def get_xz_matrix(batch,init):\n",
    "    new_matrix = [[b[init.x_index]]+b[init.z_index[0]:init.z_index[-1]+1] for b in batch if b[init.avail_index]==1]\n",
    "    return new_matrix\n",
    "    \n",
    "    \n",
    "    "
   ]
  },
  {
   "cell_type": "code",
   "execution_count": 24,
   "metadata": {
    "collapsed": true
   },
   "outputs": [],
   "source": [
    "def transform_f1(xz):\n",
    "    return [[1,row[2],row[0],row[1]] for row in xz]\n",
    "    "
   ]
  },
  {
   "cell_type": "code",
   "execution_count": 10,
   "metadata": {
    "collapsed": true
   },
   "outputs": [],
   "source": [
    "def transform_f2(xz):\n",
    "    return [[1,row[-1],row[0]] for row in xz]"
   ]
  },
  {
   "cell_type": "code",
   "execution_count": 11,
   "metadata": {
    "collapsed": false
   },
   "outputs": [],
   "source": [
    "def get_actions(batch,init):\n",
    "    return [b[init.action_index] for b in batch if b[init.avail_index]==1]"
   ]
  },
  {
   "cell_type": "code",
   "execution_count": 32,
   "metadata": {
    "collapsed": false
   },
   "outputs": [],
   "source": [
    "xz= get_xz_matrix(b,sp)\n",
    "\n",
    "f1 = transform_f1(xz)"
   ]
  },
  {
   "cell_type": "code",
   "execution_count": 19,
   "metadata": {
    "collapsed": false
   },
   "outputs": [],
   "source": [
    "gr  =get_actions(b,sp)"
   ]
  },
  {
   "cell_type": "code",
   "execution_count": 55,
   "metadata": {
    "collapsed": false
   },
   "outputs": [],
   "source": [
    "def get_X_trn(F1,actions,F2):\n",
    "    to_return = []\n",
    "    for i in range(len(F2)):\n",
    "        a = np.multiply(actions[i],F2[i])\n",
    "        row = np.concatenate((np.array(F1[i]),temp[1]))\n",
    "        to_return.append(row)\n",
    "    return to_return\n",
    "    "
   ]
  },
  {
   "cell_type": "code",
   "execution_count": 53,
   "metadata": {
    "collapsed": false
   },
   "outputs": [
    {
     "data": {
      "text/plain": [
       "array([ 0.        ,  0.        ,  0.        ,  1.        ,  0.49336811,\n",
       "        0.        ,  0.45777434])"
      ]
     },
     "execution_count": 53,
     "metadata": {},
     "output_type": "execute_result"
    }
   ],
   "source": [
    "temp= [np.multiply(gr[i],f1[i]) for i in range(len(f1))]\n",
    "np.concatenate((np.array([0,0,0]),temp[1]))"
   ]
  },
  {
   "cell_type": "code",
   "execution_count": 12,
   "metadata": {
    "collapsed": true
   },
   "outputs": [],
   "source": [
    "def get_probs(batch,init):\n",
    "    return [b[init.prob_index] for b in batch if b[init.avail_index]==1]"
   ]
  },
  {
   "cell_type": "code",
   "execution_count": 96,
   "metadata": {
    "collapsed": false
   },
   "outputs": [
    {
     "data": {
      "text/plain": [
       "array([[ 0.1,  0. ,  0. ],\n",
       "       [ 0. ,  0.1,  0. ],\n",
       "       [ 0. ,  0. ,  0.1]])"
      ]
     },
     "execution_count": 96,
     "metadata": {},
     "output_type": "execute_result"
    }
   ],
   "source": [
    " xz = matrix(batch[index, c(input$x.index, input$z.index)], nrow = sum(index))\n",
    "      action <- batch[index, input$action.index]\n",
    "      prob <- batch[index, input$prob.index]\n",
    "      \n",
    "      # forming the prior \n",
    "      mu.tmp <- c(input$mu1, input$mu2)\n",
    "      Sigma.tmp <- as.matrix(bdiag(input$Sigma1, input$Sigma2))\n",
    "      \n",
    "      # feature matrix\n",
    "      F1 <- t(apply(xz, 1, function(s) input$feat1(x = s[1], z = s[-1])))\n",
    "      F2 <- t(apply(xz, 1, function(s) input$feat2(x = s[1], z = s[-1])))\n",
    "      \n",
    "      # calculate posterior (batch update)\n",
    "      X.trn <- cbind(F1, action * F2)\n",
    "      Y.trn <- batch[index, input$rwrd.index]\n",
    "      temp <- post.cal(X.trn, Y.trn, input$sigma, mu.tmp, Sigma.tmp)\n",
    "      \n",
    "      # return the post dist of txt eff\n",
    "      txt.index <- tail(1:ncol(X.trn), ncol(F2)) # interaction terms\n",
    "      list(mean = temp$mean[txt.index], var = temp$var[txt.index, txt.index])"
   ]
  },
  {
   "cell_type": "code",
   "execution_count": 13,
   "metadata": {
    "collapsed": true
   },
   "outputs": [],
   "source": [
    "#what does this stand for? change the name\n",
    "def txt_effect_update(batch,init):\n",
    "    avail = [b[init.avail_index] for b in batch]\n",
    "    #avail <- batch[, input$avail.index]\n",
    "    \n",
    "    ##how can this ever equal 1?\n",
    "    index = [int(a==1) for a in avail]\n",
    "    \n",
    "    if sum(index)==1:\n",
    "        \n",
    "        return [init.mu_2,init.sigma_2]\n",
    "    else:\n",
    "        #what is this line doing?\n",
    "        xz = get_xz_matrix(batch,init)\n",
    "        #action <- batch[index, input$action.index]\n",
    "        \n",
    "        mu_tmp = init.mu_1+ init.mu_2\n",
    "        Sigma_tmp = block_diag(sp.sigma_1,sp.sigma_2)\n",
    "        \n",
    "        actions = get_actions(batch,init)\n",
    "        probs = get_probs(batch,init)\n",
    "        \n",
    "        f_one = transform_f1(xz)\n",
    "        f_two = transform_f2(xz)\n",
    "        \n",
    "        X_trn = get_X_trn(f_one,actions,f_two)\n",
    "        "
   ]
  },
  {
   "cell_type": "code",
   "execution_count": 14,
   "metadata": {
    "collapsed": true
   },
   "outputs": [],
   "source": [
    "def post_cal(X, Y, sigma, mu, Sigma):\n",
    "    \n",
    "    inv_Sigma = solve(Sigma,np.eye(len(Sigma[0])))\n",
    "    term_one = np.dot(np.transpose(X),X)+sigma**2*inv_Sigma\n",
    "    term_two = np.dot(np.transpose(X),Y)+np.dot(sigma**2*inv_Sigma,mu)\n",
    "    pos_mean = solve(term_one,term_two)\n",
    "    \n",
    "    \n",
    "    #pos.mean <- c(solve(t(X)%*%X + sigma^2*inv.Sigma, t(X)%*%Y + sigma^2*inv.Sigma %*% mu));\n",
    "    #pos.var <- sigma^2 * solve(t(X) %*% X +  sigma^2 * inv.Sigma);\n",
    "    \n",
    "    #list(mean = pos.mean, var = pos.var)\n",
    "  \n",
    "\n",
    "    #check then keep going"
   ]
  },
  {
   "cell_type": "code",
   "execution_count": 15,
   "metadata": {
    "collapsed": false
   },
   "outputs": [
    {
     "ename": "SyntaxError",
     "evalue": "unexpected EOF while parsing (<ipython-input-15-d80134e463ae>, line 3)",
     "output_type": "error",
     "traceback": [
      "\u001b[0;36m  File \u001b[0;32m\"<ipython-input-15-d80134e463ae>\"\u001b[0;36m, line \u001b[0;32m3\u001b[0m\n\u001b[0;31m    \u001b[0m\n\u001b[0m    ^\u001b[0m\n\u001b[0;31mSyntaxError\u001b[0m\u001b[0;31m:\u001b[0m unexpected EOF while parsing\n"
     ]
    }
   ],
   "source": [
    "def ts_policy_updates(batch, init):\n",
    "    \n",
    "    "
   ]
  },
  {
   "cell_type": "code",
   "execution_count": 16,
   "metadata": {
    "collapsed": false
   },
   "outputs": [],
   "source": [
    "def simulate(pZ,init):\n",
    "    total_reward = 0\n",
    "  # simulation\n",
    "    nT = 450\n",
    "\n",
    "      # initial state\n",
    "    Z_init = [uniform() for i in range(pZ)]\n",
    "    X_init =0\n",
    "    I_init = (uniform() < 0.8)\n",
    "  \n",
    "\n",
    "  \n",
    "    # policy initilization\n",
    "    mu_beta = init.mu_2\n",
    "    Sigma_beta = init.sigma_2\n",
    "  \n",
    "    # placeholder\n",
    "    batch = [[] for i in range(nT)]\n",
    "  \n",
    "  \n",
    "    # performance matrix\n",
    "\n",
    "  \n",
    "  \n",
    "    for t in range(nT):\n",
    "    \n",
    "    \n",
    "    # current state \n",
    "    \n",
    "        if(t==0):\n",
    "      \n",
    "            Z_next = Z_init\n",
    "            X_next = X_init\n",
    "            I_next = I_init\n",
    "      \n",
    "    \n",
    "    \n",
    "        Z = Z_next\n",
    "        X = X_next\n",
    "        I = I_next\n",
    "    \n",
    "    # action selection\n",
    "    \n",
    "        if I == 1:\n",
    "      \n",
    "          # calculate prob\n",
    "      \n",
    "          prob = TS.prob_cal_ts(Z, X, mu_beta, Sigma_beta, init)\n",
    "      \n",
    "          # sample the action\n",
    "          A = int(uniform() < prob)\n",
    "      \n",
    "        else:\n",
    "      \n",
    "          prob = 0\n",
    "          A = 0\n",
    "      \n",
    "        \n",
    "    \n",
    "        R = 1+Z[0]+(Z[0]**2)-(.05*X)+A*(1-.1*X)+np.random.normal(scale=1)\n",
    "        Z_next = [uniform() for i in range(pZ)]\n",
    "        X_next = TS.gen_nextdosage(X,A)\n",
    "        I_next = (uniform()<.8)\n",
    "        \n",
    "        \n",
    "        batch[t]=TS.make_batch(t,Z,X,I,A,prob,R)\n",
    "        \n",
    "        \n",
    "        total_reward = total_reward+R\n",
    "\n",
    "    \n",
    "        #policy_update_ts(batch, init)\n",
    "    print(total_reward)\n",
    "    return batch,total_reward\n",
    "  \n",
    "    \n"
   ]
  },
  {
   "cell_type": "code",
   "execution_count": 17,
   "metadata": {
    "collapsed": false
   },
   "outputs": [
    {
     "name": "stdout",
     "output_type": "stream",
     "text": [
      "814.3561937412969\n"
     ]
    }
   ],
   "source": [
    "b,t =simulate(sp.pZ,sp)"
   ]
  },
  {
   "cell_type": "code",
   "execution_count": 81,
   "metadata": {
    "collapsed": false
   },
   "outputs": [
    {
     "data": {
      "text/plain": [
       "0.39555555555555555"
      ]
     },
     "execution_count": 81,
     "metadata": {},
     "output_type": "execute_result"
    }
   ],
   "source": [
    "zs =[]\n",
    "for v in b:\n",
    "    zs.append(v[5])\n",
    "np.array(zs).mean()"
   ]
  },
  {
   "cell_type": "code",
   "execution_count": null,
   "metadata": {
    "collapsed": true
   },
   "outputs": [],
   "source": [
    "    # Collect Reward and State Transition\n",
    "        R <-  1 + Z[1] + Z[1]^2 - 0.05 * X + A * (1 - 0.1*X) + rnorm(1, sd = 1)\n",
    "        Z.next <- runif(pZ)\n",
    "        X.next <- gen_nextdosage(X, A)\n",
    "        I.next <- (runif(1) < 0.8)\n",
    "    \n",
    "    \n",
    "    # add to the batch set\n",
    "        batch <- rbind(batch, c(t, Z, X, I, A, prob, R))\n",
    "    \n",
    "    \n",
    "    # performance\n",
    "        tot.rwrd <- tot.rwrd + R\n",
    "    \n",
    "    # nightly update\n",
    "    \n",
    "        if(t%5 == 0){\n",
    "      \n",
    "      # update the txt effect posterior\n",
    "          temp = policy.update.ts(batch, input)\n",
    "          mu.beta = temp$mean\n",
    "          Sigma.beta = temp$var\n",
    "      \n",
    "      \n",
    "          #print(t%/%5)\n",
    "      \n",
    "        }"
   ]
  },
  {
   "cell_type": "code",
   "execution_count": 7,
   "metadata": {
    "collapsed": false
   },
   "outputs": [
    {
     "ename": "NameError",
     "evalue": "name 'z' is not defined",
     "output_type": "error",
     "traceback": [
      "\u001b[0;31m---------------------------------------------------------------------------\u001b[0m",
      "\u001b[0;31mNameError\u001b[0m                                 Traceback (most recent call last)",
      "\u001b[0;32m<ipython-input-7-a6b341512d6f>\u001b[0m in \u001b[0;36m<module>\u001b[0;34m()\u001b[0m\n\u001b[1;32m      1\u001b[0m \u001b[0;31m#z, x, mu, Sigma, eta, input\u001b[0m\u001b[0;34m\u001b[0m\u001b[0;34m\u001b[0m\u001b[0m\n\u001b[0;32m----> 2\u001b[0;31m \u001b[0mbandit\u001b[0m\u001b[0;34m.\u001b[0m\u001b[0mcalculate_prob\u001b[0m\u001b[0;34m(\u001b[0m\u001b[0mz\u001b[0m\u001b[0;34m,\u001b[0m\u001b[0;36m0\u001b[0m\u001b[0;34m,\u001b[0m\u001b[0;34m[\u001b[0m\u001b[0;36m1\u001b[0m\u001b[0;34m,\u001b[0m\u001b[0;36m0\u001b[0m\u001b[0;34m,\u001b[0m\u001b[0;36m0\u001b[0m\u001b[0;34m]\u001b[0m\u001b[0;34m,\u001b[0m\u001b[0msigma_2\u001b[0m\u001b[0;34m,\u001b[0m\u001b[0;36m0\u001b[0m\u001b[0;34m,\u001b[0m\u001b[0;36m0\u001b[0m\u001b[0;34m)\u001b[0m\u001b[0;34m\u001b[0m\u001b[0m\n\u001b[0m",
      "\u001b[0;31mNameError\u001b[0m: name 'z' is not defined"
     ]
    }
   ],
   "source": [
    "#z, x, mu, Sigma, eta, input\n",
    "bandit.calculate_prob(z,0,[1,0,0],sigma_2,0,0)"
   ]
  },
  {
   "cell_type": "code",
   "execution_count": 5,
   "metadata": {
    "collapsed": false
   },
   "outputs": [
    {
     "data": {
      "text/plain": [
       "[0.3730834968521465, 0.7865302742162711]"
      ]
     },
     "execution_count": 5,
     "metadata": {},
     "output_type": "execute_result"
    }
   ],
   "source": [
    "[random.random() for i in range(2)]"
   ]
  },
  {
   "cell_type": "code",
   "execution_count": 8,
   "metadata": {
    "collapsed": false
   },
   "outputs": [
    {
     "data": {
      "text/plain": [
       "1"
      ]
     },
     "execution_count": 8,
     "metadata": {},
     "output_type": "execute_result"
    }
   ],
   "source": [
    "0+(.4>0)"
   ]
  },
  {
   "cell_type": "code",
   "execution_count": 21,
   "metadata": {
    "collapsed": false
   },
   "outputs": [],
   "source": [
    "i = [[] for i in range(50)]"
   ]
  },
  {
   "cell_type": "code",
   "execution_count": 22,
   "metadata": {
    "collapsed": true
   },
   "outputs": [],
   "source": [
    "i[0]=[12,3,3]"
   ]
  },
  {
   "cell_type": "code",
   "execution_count": 23,
   "metadata": {
    "collapsed": false
   },
   "outputs": [
    {
     "data": {
      "text/plain": [
       "[[12, 3, 3],\n",
       " [],\n",
       " [],\n",
       " [],\n",
       " [],\n",
       " [],\n",
       " [],\n",
       " [],\n",
       " [],\n",
       " [],\n",
       " [],\n",
       " [],\n",
       " [],\n",
       " [],\n",
       " [],\n",
       " [],\n",
       " [],\n",
       " [],\n",
       " [],\n",
       " [],\n",
       " [],\n",
       " [],\n",
       " [],\n",
       " [],\n",
       " [],\n",
       " [],\n",
       " [],\n",
       " [],\n",
       " [],\n",
       " [],\n",
       " [],\n",
       " [],\n",
       " [],\n",
       " [],\n",
       " [],\n",
       " [],\n",
       " [],\n",
       " [],\n",
       " [],\n",
       " [],\n",
       " [],\n",
       " [],\n",
       " [],\n",
       " [],\n",
       " [],\n",
       " [],\n",
       " [],\n",
       " [],\n",
       " [],\n",
       " []]"
      ]
     },
     "execution_count": 23,
     "metadata": {},
     "output_type": "execute_result"
    }
   ],
   "source": [
    "i"
   ]
  },
  {
   "cell_type": "code",
   "execution_count": 56,
   "metadata": {
    "collapsed": false
   },
   "outputs": [
    {
     "data": {
      "text/plain": [
       "0.8"
      ]
     },
     "execution_count": 56,
     "metadata": {},
     "output_type": "execute_result"
    }
   ],
   "source": [
    "sp.pi_max"
   ]
  },
  {
   "cell_type": "code",
   "execution_count": null,
   "metadata": {
    "collapsed": true
   },
   "outputs": [],
   "source": []
  }
 ],
 "metadata": {
  "anaconda-cloud": {},
  "kernelspec": {
   "display_name": "Python [Root]",
   "language": "python",
   "name": "Python [Root]"
  },
  "language_info": {
   "codemirror_mode": {
    "name": "ipython",
    "version": 3
   },
   "file_extension": ".py",
   "mimetype": "text/x-python",
   "name": "python",
   "nbconvert_exporter": "python",
   "pygments_lexer": "ipython3",
   "version": "3.5.6"
  }
 },
 "nbformat": 4,
 "nbformat_minor": 0
}
