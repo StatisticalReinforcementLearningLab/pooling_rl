{
 "cells": [
  {
   "cell_type": "code",
   "execution_count": 18,
   "metadata": {},
   "outputs": [],
   "source": [
    "import numpy as np\n",
    "import pickle\n",
    "import os"
   ]
  },
  {
   "cell_type": "code",
   "execution_count": null,
   "metadata": {},
   "outputs": [],
   "source": []
  },
  {
   "cell_type": "code",
   "execution_count": 7,
   "metadata": {},
   "outputs": [],
   "source": [
    "results_path = '../../Downloads/pooling_results/'"
   ]
  },
  {
   "cell_type": "code",
   "execution_count": 8,
   "metadata": {},
   "outputs": [],
   "source": [
    "def get_results_personalized(pop_size,update_time):\n",
    "    with open('{}/personalized/results/population_size_{}_update_days_{}_short_static.pkl'.\\\n",
    "              format(results_path,pop_size,update_time),'rb') as f:\n",
    "        return pickle.load(f)"
   ]
  },
  {
   "cell_type": "code",
   "execution_count": 9,
   "metadata": {},
   "outputs": [],
   "source": [
    "def get_results_batch(pop_size,update_time):\n",
    "    with open('{}/batch/results/population_size_{}_update_days_{}_short_static.pkl'.\\\n",
    "              format(results_path,pop_size,update_time),'rb') as f:\n",
    "        return pickle.load(f)"
   ]
  },
  {
   "cell_type": "code",
   "execution_count": 38,
   "metadata": {},
   "outputs": [],
   "source": [
    "def get_results_EB(pop_size,update_time):\n",
    "    to_return = {}\n",
    "    part_files = [f for f in os.listdir('{}/EB'.format(results_path)) if 'study_length_{}'.format(pop_size) in f]\n",
    "    #and 'pop_size_{}'.format(pop_size)\n",
    "    new_part_files = []\n",
    "    for p in part_files:\n",
    "        pid = p.split('pop_size_')[1].split('_')[0]\n",
    "        #print(pid)\n",
    "        #break\n",
    "        for f in os.listdir('{}/EB/{}'.format(results_path,p)):\n",
    "            if str(update_time) in f: \n",
    "                files = os.listdir('{}/EB/{}/{}/'.format(results_path,p,f))\n",
    "                sizes = sorted([int(h.split('_')[1].strip('.pkl')) for h in files])\n",
    "                big_file = 'history_{}.pkl'.format(str(sizes[-1]))\n",
    "                with open('{}/EB/{}/{}/{}'.format(results_path,p,f,big_file),'rb') as f:\n",
    "                    d = pickle.load(f)\n",
    "                for k,v in d.items():\n",
    "                    new_key = '{}-{}'.format(pid,k)\n",
    "                    to_return[new_key]=v\n",
    "    return to_return\n",
    "   "
   ]
  },
  {
   "cell_type": "code",
   "execution_count": 47,
   "metadata": {},
   "outputs": [],
   "source": [
    "def get_results_Static(pop_size,update_time):\n",
    "    to_return = {}\n",
    "    part_files = [f for f in os.listdir('{}/Static'.format(results_path)) if 'study_length_{}'.format(pop_size) in f]\n",
    "    #and 'pop_size_{}'.format(pop_size)\n",
    "    new_part_files = []\n",
    "    for p in part_files:\n",
    "        pid = p.split('pop_size_')[1].split('_')[0]\n",
    "        #print(pid)\n",
    "        #break\n",
    "        for f in os.listdir('{}/Static/{}'.format(results_path,p)):\n",
    "            if str(update_time) in f: \n",
    "                files = os.listdir('{}/Static/{}/{}/'.format(results_path,p,f))\n",
    "                sizes = sorted([int(h.split('_')[1].strip('.pkl')) for h in files])\n",
    "                big_file = 'history_{}.pkl'.format(str(sizes[-1]))\n",
    "                with open('{}/Static/{}/{}/{}'.format(results_path,p,f,big_file),'rb') as f:\n",
    "                    d = pickle.load(f)\n",
    "                for k,v in d.items():\n",
    "                    new_key = '{}-{}'.format(pid,k)\n",
    "                    to_return[new_key]=v\n",
    "    return to_return\n",
    "   "
   ]
  },
  {
   "cell_type": "code",
   "execution_count": 11,
   "metadata": {},
   "outputs": [],
   "source": [
    "def get_step_counts(the_dict):\n",
    "    return [v['steps'] for v in the_dict.values()]"
   ]
  },
  {
   "cell_type": "code",
   "execution_count": 44,
   "metadata": {},
   "outputs": [
    {
     "data": {
      "text/plain": [
       "319.7065258771126"
      ]
     },
     "execution_count": 44,
     "metadata": {},
     "output_type": "execute_result"
    }
   ],
   "source": [
    "personalized = get_results_personalized(128,7)\n",
    "psteps = get_step_counts(personalized)\n",
    "np.array(psteps).mean()"
   ]
  },
  {
   "cell_type": "code",
   "execution_count": 43,
   "metadata": {},
   "outputs": [
    {
     "data": {
      "text/plain": [
       "328.86156879410714"
      ]
     },
     "execution_count": 43,
     "metadata": {},
     "output_type": "execute_result"
    }
   ],
   "source": [
    "personalized = get_results_batch(128,7)\n",
    "psteps = get_step_counts(personalized)\n",
    "np.array(psteps).mean()"
   ]
  },
  {
   "cell_type": "code",
   "execution_count": 39,
   "metadata": {},
   "outputs": [],
   "source": []
  },
  {
   "cell_type": "code",
   "execution_count": 50,
   "metadata": {},
   "outputs": [
    {
     "data": {
      "text/plain": [
       "361.67522673229587"
      ]
     },
     "execution_count": 50,
     "metadata": {},
     "output_type": "execute_result"
    }
   ],
   "source": [
    "EB32 = get_results_EB(32,7)\n",
    "psteps = get_step_counts(EB32)\n",
    "np.array(psteps).mean()"
   ]
  },
  {
   "cell_type": "code",
   "execution_count": 49,
   "metadata": {},
   "outputs": [
    {
     "data": {
      "text/plain": [
       "306.1744034570211"
      ]
     },
     "execution_count": 49,
     "metadata": {},
     "output_type": "execute_result"
    }
   ],
   "source": [
    "EB32 = get_results_Static(32,7)\n",
    "psteps = get_step_counts(EB32)\n",
    "np.array(psteps).mean()"
   ]
  },
  {
   "cell_type": "code",
   "execution_count": null,
   "metadata": {},
   "outputs": [],
   "source": []
  }
 ],
 "metadata": {
  "kernelspec": {
   "display_name": "Python 3",
   "language": "python",
   "name": "python3"
  },
  "language_info": {
   "codemirror_mode": {
    "name": "ipython",
    "version": 3
   },
   "file_extension": ".py",
   "mimetype": "text/x-python",
   "name": "python",
   "nbconvert_exporter": "python",
   "pygments_lexer": "ipython3",
   "version": "3.6.8"
  }
 },
 "nbformat": 4,
 "nbformat_minor": 2
}
