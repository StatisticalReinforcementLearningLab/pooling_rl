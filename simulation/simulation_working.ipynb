{
 "cells": [
  {
   "cell_type": "code",
   "execution_count": 20,
   "metadata": {
    "collapsed": true
   },
   "outputs": [],
   "source": [
    "import pandas as pd\n",
    "import numpy as np\n",
    "import pickle\n",
    "import random\n",
    "import os\n",
    "import math"
   ]
  },
  {
   "cell_type": "code",
   "execution_count": 21,
   "metadata": {
    "collapsed": false
   },
   "outputs": [],
   "source": [
    "root = '../../../../Volumes/dav/HeartSteps/pooling_rl_shared_data/distributions/'"
   ]
  },
  {
   "cell_type": "markdown",
   "metadata": {},
   "source": [
    "'''\n",
    "Context: \n",
    "group_id,day_of_week,time_of_day,location,weather,previous_step_count,last_step_count,variation_in_step_counts\n",
    "'''"
   ]
  },
  {
   "cell_type": "code",
   "execution_count": 22,
   "metadata": {
    "collapsed": false
   },
   "outputs": [],
   "source": [
    "with open('{}steps_both_groups_logs_no_dosage.pkl'.format(root),'rb') as f:\n",
    "    dists = pickle.load(f)"
   ]
  },
  {
   "cell_type": "code",
   "execution_count": 23,
   "metadata": {
    "collapsed": false
   },
   "outputs": [],
   "source": [
    "with open('{}interventions_both_groups.pkl'.format(root),'rb') as f:\n",
    "    intervention_dists = pickle.load(f)"
   ]
  },
  {
   "cell_type": "code",
   "execution_count": null,
   "metadata": {
    "collapsed": false
   },
   "outputs": [],
   "source": []
  },
  {
   "cell_type": "code",
   "execution_count": null,
   "metadata": {
    "collapsed": false
   },
   "outputs": [],
   "source": []
  },
  {
   "cell_type": "code",
   "execution_count": 24,
   "metadata": {
    "collapsed": true
   },
   "outputs": [],
   "source": [
    "def get_location_prior(group_id,day_of_week,time_of_day):\n",
    "    with open('{}initial_location_distributions.pkl'.format(root),'rb') as f:\n",
    "        loc_lookup = pickle.load(f)\n",
    "    key = '{}-{}-{}'.format(group_id,day_of_week,time_of_day)\n",
    "    \n",
    "    ##make a bit smoother while loop instead \n",
    "    if key in loc_lookup:\n",
    "        ps = loc_lookup[key]\n",
    "    else:\n",
    "        key =  '{}-{}'.format(group_id,day_of_week)\n",
    "        if key  in loc_lookup:\n",
    "            ps = loc_lookup[key]\n",
    "        else:\n",
    "            key =  '{}'.format(group_id)\n",
    "            if key  in loc_lookup:\n",
    "                ps = loc_lookup[key]\n",
    "                \n",
    "            else:\n",
    "                ps = loc_lookup['mean']\n",
    "                \n",
    "    val = np.argmax(np.random.multinomial(100,ps))\n",
    "    return val"
   ]
  },
  {
   "cell_type": "code",
   "execution_count": 25,
   "metadata": {
    "collapsed": false
   },
   "outputs": [],
   "source": [
    "def get_weather_prior(group_id,day_of_week,time_of_day):\n",
    "    with open('{}initial_weather_distributions.pkl'.format(root),'rb') as f:\n",
    "        loc_lookup = pickle.load(f)\n",
    "    key = '{}-{}-{}'.format(group_id,day_of_week,time_of_day)\n",
    "    \n",
    "    ##make a bit smoother while loop instead \n",
    "    if key in loc_lookup:\n",
    "        ps = loc_lookup[key]\n",
    "    else:\n",
    "        key =  '{}-{}'.format(group_id,day_of_week)\n",
    "        if key  in loc_lookup:\n",
    "            ps = loc_lookup[key]\n",
    "        else:\n",
    "            key =  '{}'.format(group_id)\n",
    "            if key  in loc_lookup:\n",
    "                ps = loc_lookup[key]\n",
    "                \n",
    "            else:\n",
    "                ps = loc_lookup['mean']\n",
    "                \n",
    "    val = np.argmax(np.random.multinomial(100,ps))\n",
    "    return val"
   ]
  },
  {
   "cell_type": "code",
   "execution_count": 26,
   "metadata": {
    "collapsed": true
   },
   "outputs": [],
   "source": [
    "def get_time_of_day(an_index):\n",
    "    with open('{}hour_to_id.pkl'.format(root),'rb') as f:\n",
    "        hour_lookup = pickle.load(f)\n",
    "    return hour_lookup[an_index.hour]\n",
    "    "
   ]
  },
  {
   "cell_type": "code",
   "execution_count": 27,
   "metadata": {
    "collapsed": true
   },
   "outputs": [],
   "source": [
    "def get_day_of_week(an_index):\n",
    "    with open('{}day_to_id.pkl'.format(root),'rb') as f:\n",
    "        hour_lookup = pickle.load(f)\n",
    "    return hour_lookup[an_index.dayofweek]\n",
    "    "
   ]
  },
  {
   "cell_type": "code",
   "execution_count": 57,
   "metadata": {
    "collapsed": true
   },
   "outputs": [],
   "source": [
    "def get_index(key):\n",
    "    \n",
    "    keys = ['group_id','day_of_week','time_of_day','dosage','location','weather','pretreatment','yesterday','variation']\n",
    "    \n",
    "    kl = {keys[i]:i for i in range(len(keys))}\n",
    "    \n",
    "    return kl[key]"
   ]
  },
  {
   "cell_type": "code",
   "execution_count": 30,
   "metadata": {
    "collapsed": true
   },
   "outputs": [],
   "source": [
    "def get_initial_context(num_people,first_index):\n",
    "    '''States:\n",
    "    [group,day_of_week,time_of_day,location,weather,dosage,previous_step_count]\n",
    "    \n",
    "    '''\n",
    "    \n",
    "    all_people = []\n",
    "    for person in range(num_people):\n",
    "        group_id = int(random.random()>.95)+1\n",
    "        #group_id = 2\n",
    "        day_of_week = get_time_of_day(first_index)\n",
    "        time_of_day = get_day_of_week(first_index)\n",
    "        first_location = get_location_prior(group_id,day_of_week,time_of_day)\n",
    "        weather = get_weather_prior(group_id,day_of_week,time_of_day)\n",
    "        #weather = 0 \n",
    "        dosage = 1\n",
    "        variation = 1\n",
    "        pretreatment = 0 \n",
    "        ysc = 0\n",
    "        #day_of_week,time_of_day,dosage,location,last_steps,last_steps_hour,varia\n",
    "        all_people.append([group_id,day_of_week,time_of_day,dosage,first_location,weather,pretreatment,ysc,variation])\n",
    "        \n",
    "    return all_people"
   ]
  },
  {
   "cell_type": "code",
   "execution_count": 31,
   "metadata": {
    "collapsed": true
   },
   "outputs": [],
   "source": [
    "def get_initial_steps(contexts):\n",
    "    \n",
    "    return [steps_given_context(person_context) for person_context in contexts]\n",
    "\n",
    "    "
   ]
  },
  {
   "cell_type": "code",
   "execution_count": 32,
   "metadata": {
    "collapsed": true
   },
   "outputs": [],
   "source": [
    "def get_time(current_time):\n",
    "    \n",
    "    #needs to be a time delta\n",
    "    \n",
    "    return current_time+1\n",
    "    "
   ]
  },
  {
   "cell_type": "code",
   "execution_count": 33,
   "metadata": {
    "collapsed": true
   },
   "outputs": [],
   "source": [
    "def get_possible_keys(context):\n",
    "    \n",
    "    \n",
    "    keys = []\n",
    "    \n",
    "    \n",
    "    for i in range(len(context)):\n",
    "        stop = len(context)-i-1\n",
    "        #for j in range(stop):\n",
    "        if stop>=1:\n",
    "            key = '-'.join([str(context[j]) for j in range(stop)])\n",
    "        \n",
    "        keys.append(key)\n",
    "    keys.append('{}-mean'.format(context[0]))\n",
    "    return keys"
   ]
  },
  {
   "cell_type": "code",
   "execution_count": 76,
   "metadata": {
    "collapsed": false
   },
   "outputs": [],
   "source": [
    "def get_steps_no_action(context):\n",
    "    \n",
    " \n",
    "    new_context = modify_context_no_dosage(context)\n",
    "    \n",
    "    context_key = '-'.join([str(c) for c in new_context])\n",
    "    possible_keys = get_possible_keys(new_context)\n",
    "    keys = [context_key]\n",
    "    keys.extend(possible_keys)\n",
    "    #print(keys)\n",
    "    #keys = [k+'-{}'.format(action) for k in keys]\n",
    "    #print(keys)\n",
    "    i=0\n",
    "    while keys[i] not in dists:\n",
    "        #print(i)\n",
    "        i=i+1\n",
    "    #print(keys[i])\n",
    "    #print(keys[-1])\n",
    "    dist = dists[keys[i]]\n",
    "    \n",
    "    \n",
    "    x = np.random.normal(loc=dist[0],scale=dist[1])\n",
    "    while(x<0):\n",
    "         x = np.random.normal(loc=dist[0],scale=dist[1])\n",
    "    return x\n",
    "    "
   ]
  },
  {
   "cell_type": "code",
   "execution_count": 35,
   "metadata": {
    "collapsed": true
   },
   "outputs": [],
   "source": [
    "def get_steps_action(context,action):\n",
    "    #nkey = '{}-{}'.format(action,context)\n",
    "\n",
    "    \n",
    "    \n",
    "    this_context = [action]\n",
    "    this_context.extend(context)\n",
    "    possible_keys = get_possible_keys(this_context)\n",
    "    \n",
    "    context_key = '-'.join([str(c) for c in this_context])\n",
    "    \n",
    "    keys = [context_key]\n",
    "    keys.extend(possible_keys)\n",
    "    #print(keys)\n",
    "    #keys = [k+'-{}'.format(action) for k in keys]\n",
    "    #print(keys)\n",
    "    i=0\n",
    "    while keys[i] not in intervention_dists:\n",
    "        #print(i)\n",
    "        i=i+1\n",
    "    #print(keys[i])\n",
    "    #print(keys[-1])\n",
    "    dist = intervention_dists[keys[i]]\n",
    "    \n",
    "    \n",
    "    x = np.random.normal(loc=dist[0],scale=dist[1])\n",
    "    while(x<0):\n",
    "         x = np.random.normal(loc=dist[0],scale=dist[1])\n",
    "    return x\n",
    "    "
   ]
  },
  {
   "cell_type": "code",
   "execution_count": 75,
   "metadata": {
    "collapsed": true
   },
   "outputs": [],
   "source": [
    "def modify_context_no_dosage(context):\n",
    "    \n",
    "    lkeys = ['group_id','day_of_week','time_of_day','dosage','location','weather','pretreatment','yesterday','variation']\n",
    "    \n",
    "    kl = {i:lkeys[i] for i in range(len(lkeys))}\n",
    "    \n",
    "    new_context = [context[i] for i,v in kl.items() if v!='dosage']\n",
    "    \n",
    "    return new_context"
   ]
  },
  {
   "cell_type": "code",
   "execution_count": 36,
   "metadata": {
    "collapsed": true
   },
   "outputs": [],
   "source": [
    "def get_steps(context,action):\n",
    "    if action==-1:\n",
    "        return get_steps_no_action(context)\n",
    "\n",
    "    return get_steps_action(context,action)"
   ]
  },
  {
   "cell_type": "code",
   "execution_count": 97,
   "metadata": {
    "collapsed": false
   },
   "outputs": [],
   "source": [
    "def get_next_location(context):\n",
    "    \n",
    "    with open('{}location_conditiononed_on_last_location_merged.pkl'.format(root),'rb') as f:\n",
    "        loc_dists =pickle.load(f)\n",
    "    \n",
    "    #relevant_context = [context[get_index('group_id')],context[get_index('day_of_week')],context[get_index('time_of_day')],context[get_index('location')]]\n",
    "    \n",
    "    context_key = '-'.join([str(c) for c in context])\n",
    "    possible_keys = get_possible_keys(context)\n",
    "    \n",
    "    keys = [context_key]\n",
    "    keys.extend(possible_keys)\n",
    "    #print(possible_keys)\n",
    "    i=0\n",
    "    #print(keys[-1])\n",
    "    while keys[i] not in loc_dists and i<len(keys):\n",
    "        i=i+1\n",
    "    dist = loc_dists[keys[i]]\n",
    "    \n",
    "    val = np.argmax(np.random.multinomial(100,dist))\n",
    "    \n",
    "    return val\n",
    "            \n",
    "                \n",
    "    \n",
    "    \n",
    "    "
   ]
  },
  {
   "cell_type": "code",
   "execution_count": 84,
   "metadata": {
    "collapsed": true
   },
   "outputs": [],
   "source": [
    "def get_next_weather(context):\n",
    "    \n",
    "    with open('{}weather_conditiononed_on_last_weather_merged.pkl'.format(root),'rb') as f:\n",
    "        loc_dists =pickle.load(f)\n",
    "    \n",
    "\n",
    "    \n",
    "    relevant_context = [context[get_index('time_of_day')],context[get_index('weather')]]\n",
    "    \n",
    "    context_key = '-'.join([str(c) for c in relevant_context])\n",
    "    possible_keys = get_possible_keys(relevant_context)\n",
    "    \n",
    "    keys = [context_key]\n",
    "    keys.extend(possible_keys)\n",
    "    #print(keys)\n",
    "    i=0\n",
    "    #print(keys[-1])\n",
    "    while keys[i] not in loc_dists and i<len(keys):\n",
    "        i=i+1\n",
    "    dist = loc_dists[keys[i]]\n",
    "    \n",
    "    val = np.argmax(np.random.multinomial(100,dist))\n",
    "    \n",
    "    return val"
   ]
  },
  {
   "cell_type": "code",
   "execution_count": 39,
   "metadata": {
    "collapsed": true
   },
   "outputs": [],
   "source": [
    "#def get_pretreatment(some_steps):\n",
    "    ##pull in distribution threshold lookup thing\n",
    "#    return math.log(some_steps+.5)\n",
    "    "
   ]
  },
  {
   "cell_type": "code",
   "execution_count": 40,
   "metadata": {
    "collapsed": true
   },
   "outputs": [],
   "source": [
    "def get_pretreatment(steps):\n",
    "    chunks =  [[0, 117.],[ 117.,330.],[330.,759.8],[759.8,100000000]]\n",
    "    \n",
    "    for i in range(len(chunks)):\n",
    "        if steps>=chunks[i][0] and steps<chunks[i][1]:\n",
    "            return i"
   ]
  },
  {
   "cell_type": "code",
   "execution_count": 41,
   "metadata": {
    "collapsed": false
   },
   "outputs": [],
   "source": [
    "##what do I need here\n",
    "def get_new_dosage(current_dosage,action):\n",
    "    if action==1:\n",
    "        current_dosage = current_dosage+2\n",
    "    else:\n",
    "        current_dosage=current_dosage-1\n",
    "    if current_dosage>100:\n",
    "        current_dosage=100\n",
    "    if current_dosage<1:\n",
    "        current_dosage=1 \n",
    "    return current_dosage"
   ]
  },
  {
   "cell_type": "code",
   "execution_count": 53,
   "metadata": {
    "collapsed": true
   },
   "outputs": [],
   "source": [
    "def get_context_revised(current_index,current_context,current_steps,decision_time,ysc,variation,last_action):\n",
    "        \n",
    "    day_of_week = get_time_of_day(current_index)\n",
    "    time_of_day = get_day_of_week(current_index)\n",
    "    \n",
    "    \n",
    "    new_previous_step_count = get_pretreatment(current_steps)\n",
    "    \n",
    "    \n",
    "    if decision_time:\n",
    "        location = get_next_location([current_context[get_index('group_id')],day_of_week,time_of_day,current_context[get_index('location')]])\n",
    "    \n",
    "        dosage = get_new_dosage(current_context[get_index('dosage')],last_action)\n",
    "        \n",
    "        weather = get_next_weather(current_context)\n",
    "        \n",
    "        pretreatment_new = get_pretreatment(current_steps)\n",
    "        \n",
    "        \n",
    "    else:\n",
    "        location = current_context[get_index('location')]\n",
    "        dosage = current_context[get_index('dosage')]\n",
    "        weather = current_context[get_index('weather')]\n",
    "        pretreatment_new = get_pretreatment(current_steps)\n",
    "        \n",
    "        \n",
    "    return [current_context[0],day_of_week,time_of_day,dosage,location,weather,pretreatment_new,ysc,variation]\n",
    "    \n",
    "    "
   ]
  },
  {
   "cell_type": "code",
   "execution_count": 43,
   "metadata": {
    "collapsed": true
   },
   "outputs": [],
   "source": [
    "def get_new_lsc(step_slice):\n",
    "    #print('hi there')\n",
    "    s =sum(step_slice)**.5\n",
    "    if s<0:\n",
    "        return 0\n",
    "    if s>203:\n",
    "        return 203\n",
    "    return s"
   ]
  },
  {
   "cell_type": "code",
   "execution_count": 44,
   "metadata": {
    "collapsed": false
   },
   "outputs": [],
   "source": [
    "def get_variation_pre_week(variation,all_steps,time_indices,i):\n",
    "    \n",
    "    two_days = time_indices[0].date()+pd.DateOffset(days=1)\n",
    "    is_set = False\n",
    "    #first_index_last_day=-1\n",
    "    if i>two_days:\n",
    "        #print(i)\n",
    "        for j in range(len(time_indices)):\n",
    "            if time_indices[j].date()==i.date():\n",
    "                if not is_set:\n",
    "                    #print('set')\n",
    "                    #print(j)\n",
    "                    first_index_last_day = j\n",
    "                    #print(first_index_last_day)\n",
    "                    is_set = True\n",
    "            if time_indices[j]== i:\n",
    "                last_index_last_day = j\n",
    "    \n",
    "        pre_steps = all_steps[:first_index_last_day]\n",
    "        post_steps = all_steps[first_index_last_day:last_index_last_day]\n",
    "        \n",
    "        #print(pre_steps)\n",
    "        #print(post_steps)\n",
    "        \n",
    "        return int(np.array(pre_steps).std()>np.array(post_steps).std())\n",
    "        \n",
    "    else:\n",
    "        return variation\n",
    "    \n",
    "    "
   ]
  },
  {
   "cell_type": "code",
   "execution_count": 45,
   "metadata": {
    "collapsed": true
   },
   "outputs": [],
   "source": [
    "#will be algorithm, needs to communicate with algorithm\n",
    "def get_action(initial_context,steps):\n",
    "    return 1"
   ]
  },
  {
   "cell_type": "code",
   "execution_count": 64,
   "metadata": {
    "collapsed": false
   },
   "outputs": [],
   "source": [
    "def simulate_run(num_people,time_indices,decision_times):\n",
    "    \n",
    "    \n",
    "    initial_context = get_initial_context(num_people,time_indices[0])\n",
    "    \n",
    "    \n",
    "    initial_context = initial_context[0]\n",
    "    \n",
    "    \n",
    "    \n",
    "    \n",
    "    initial_steps = get_steps(initial_context,0)\n",
    "    current_steps = initial_steps\n",
    "    action = -1 \n",
    "    all_steps = []\n",
    "    \n",
    "    last_day = time_indices[0]\n",
    "    \n",
    "    new_day = False\n",
    "    \n",
    "    #for d in range(num_days):\n",
    "    \n",
    "    \n",
    "    start_of_day = 0 \n",
    "    end_of_day=0\n",
    "    current_index=0\n",
    "    \n",
    "    \n",
    "    first_week = time_indices[0].date()+pd.DateOffset(days=7)\n",
    "    \n",
    "    for i in time_indices:\n",
    "        \n",
    "        if i.date()!=last_day.date():\n",
    "            #print('trigger')\n",
    "            #print(i.date())\n",
    "            #print(last_day.date())\n",
    "            #print('hi there')\n",
    "            new_day=True\n",
    "            \n",
    "            \n",
    "            \n",
    "        decision_time = bool(i in decision_times)\n",
    "        #print(decision_time)\n",
    "        if i!=time_indices[0]:\n",
    "            #decision_time = bool(i in decision_times)\n",
    "            \n",
    "            ##need to modify this\n",
    "            #my_context = get_context(initial_context,current_steps,i,decision_time)\n",
    "            lsc = initial_context[get_index('yesterday')]\n",
    "            variation = initial_context[get_index('variation')]\n",
    "            if new_day:\n",
    "                #lsc=0\n",
    "                \n",
    "                \n",
    "                ##would love to break this out more cleanly \n",
    "                if i<first_week:\n",
    "                    variation = get_variation_pre_week(variation,all_steps,time_indices,last_day)\n",
    "                else:\n",
    "                    variation = get_variation(all_steps,time_indices,last_day)\n",
    "                \n",
    "                \n",
    "                lsc = get_new_lsc(all_steps[start_of_day:end_of_day])\n",
    "                #variation = get_new_variation()\n",
    "                \n",
    "            \n",
    "            ##action will be the last action\n",
    "            my_context = get_context_revised(i,initial_context,current_steps,decision_time,lsc,variation,action)\n",
    "            #return my_context\n",
    "            if i in decision_times:\n",
    "                print('decision time')\n",
    "                action = get_action(my_context,current_steps)\n",
    "                #print(action)\n",
    "            else:\n",
    "                action = -1\n",
    "            ##redo get_steps\n",
    "            next_steps = get_steps(my_context,action) \n",
    "            all_steps.append(next_steps)\n",
    "            initial_context = my_context\n",
    "            current_steps = next_steps\n",
    "        else:\n",
    "            if i in decision_times:\n",
    "                print('decision time')\n",
    "                action = get_action(initial_context,current_steps)\n",
    "            else:\n",
    "                action = -1\n",
    "            next_steps = get_steps(initial_context,action) \n",
    "            all_steps.append(next_steps)\n",
    "            current_steps = next_steps\n",
    "        if new_day:\n",
    "            \n",
    "            start_of_day = current_index\n",
    "            new_day=False\n",
    "        last_day = i\n",
    "        end_of_day = current_index  \n",
    "        current_index = current_index+1\n",
    "            \n",
    "    return all_steps"
   ]
  },
  {
   "cell_type": "markdown",
   "metadata": {
    "collapsed": false
   },
   "source": [
    "A study needs some days. So you can specify days like this: \n"
   ]
  },
  {
   "cell_type": "code",
   "execution_count": 47,
   "metadata": {
    "collapsed": true
   },
   "outputs": [],
   "source": [
    "days = pd.date_range(start = '7/22/2015',end =pd.Timestamp('7/22/2015')+pd.DateOffset(days=90),freq='30T')"
   ]
  },
  {
   "cell_type": "markdown",
   "metadata": {},
   "source": [
    "I made 90 days because that's  the length of the study\n",
    "However, because I am lazy, I'm only testing for a week"
   ]
  },
  {
   "cell_type": "code",
   "execution_count": 67,
   "metadata": {
    "collapsed": false
   },
   "outputs": [
    {
     "data": {
      "text/plain": [
       "DatetimeIndex(['2015-07-22 00:00:00', '2015-07-22 00:30:00',\n",
       "               '2015-07-22 01:00:00', '2015-07-22 01:30:00',\n",
       "               '2015-07-22 02:00:00', '2015-07-22 02:30:00',\n",
       "               '2015-07-22 03:00:00', '2015-07-22 03:30:00',\n",
       "               '2015-07-22 04:00:00', '2015-07-22 04:30:00',\n",
       "               ...\n",
       "               '2015-07-25 07:00:00', '2015-07-25 07:30:00',\n",
       "               '2015-07-25 08:00:00', '2015-07-25 08:30:00',\n",
       "               '2015-07-25 09:00:00', '2015-07-25 09:30:00',\n",
       "               '2015-07-25 10:00:00', '2015-07-25 10:30:00',\n",
       "               '2015-07-25 11:00:00', '2015-07-25 11:30:00'],\n",
       "              dtype='datetime64[ns]', length=168, freq='30T')"
      ]
     },
     "execution_count": 67,
     "metadata": {},
     "output_type": "execute_result"
    }
   ],
   "source": [
    "temp_indices = days[:24*7]\n",
    "temp_indices"
   ]
  },
  {
   "cell_type": "markdown",
   "metadata": {},
   "source": [
    "You can pass in a bunch of decision times. I just tested with one. "
   ]
  },
  {
   "cell_type": "code",
   "execution_count": 72,
   "metadata": {
    "collapsed": false
   },
   "outputs": [],
   "source": [
    "decision_times = pd.DatetimeIndex(['2015-07-25 11:00:00'])\n",
    "num_people = 2"
   ]
  },
  {
   "cell_type": "markdown",
   "metadata": {},
   "source": [
    "Right now I think the number of people is being totally ignored. This needs to be fixed. "
   ]
  },
  {
   "cell_type": "code",
   "execution_count": 98,
   "metadata": {
    "collapsed": false
   },
   "outputs": [
    {
     "name": "stdout",
     "output_type": "stream",
     "text": [
      "decision time\n"
     ]
    }
   ],
   "source": [
    "x=simulate_run(num_people,temp_indices,decision_times)"
   ]
  },
  {
   "cell_type": "code",
   "execution_count": 62,
   "metadata": {
    "collapsed": false
   },
   "outputs": [
    {
     "data": {
      "text/plain": [
       "215.64595046138658"
      ]
     },
     "execution_count": 62,
     "metadata": {},
     "output_type": "execute_result"
    }
   ],
   "source": [
    "np.array(x).mean()\n",
    "#np.array(x).std()"
   ]
  },
  {
   "cell_type": "code",
   "execution_count": 63,
   "metadata": {
    "collapsed": false
   },
   "outputs": [
    {
     "data": {
      "text/plain": [
       "278.53952167963189"
      ]
     },
     "execution_count": 63,
     "metadata": {},
     "output_type": "execute_result"
    }
   ],
   "source": [
    "np.array(x).mean()\n",
    "np.array(x).std()"
   ]
  },
  {
   "cell_type": "code",
   "execution_count": 95,
   "metadata": {
    "collapsed": false
   },
   "outputs": [],
   "source": [
    "all_runs = []\n",
    "for i in range(5):\n",
    "    all_runs.append(simulate_run(num_people,temp_indices,decision_times))"
   ]
  },
  {
   "cell_type": "code",
   "execution_count": null,
   "metadata": {
    "collapsed": false
   },
   "outputs": [],
   "source": []
  },
  {
   "cell_type": "code",
   "execution_count": null,
   "metadata": {
    "collapsed": true
   },
   "outputs": [],
   "source": []
  }
 ],
 "metadata": {
  "kernelspec": {
   "display_name": "Python [Root]",
   "language": "python",
   "name": "Python [Root]"
  },
  "language_info": {
   "codemirror_mode": {
    "name": "ipython",
    "version": 3
   },
   "file_extension": ".py",
   "mimetype": "text/x-python",
   "name": "python",
   "nbconvert_exporter": "python",
   "pygments_lexer": "ipython3",
   "version": "3.5.6"
  }
 },
 "nbformat": 4,
 "nbformat_minor": 0
}
