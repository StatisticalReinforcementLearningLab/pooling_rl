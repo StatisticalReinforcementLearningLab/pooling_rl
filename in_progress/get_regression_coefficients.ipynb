{
 "cells": [
  {
   "cell_type": "code",
   "execution_count": 1,
   "metadata": {},
   "outputs": [],
   "source": [
    "import numpy as np\n",
    "from sklearn.linear_model import LinearRegression\n",
    "import pickle"
   ]
  },
  {
   "cell_type": "code",
   "execution_count": 8,
   "metadata": {},
   "outputs": [],
   "source": [
    "with open('../../Downloads/distributions/dists_intervention_anti_sed_3_8.pkl','rb') as f:\n",
    "    dists_sed = pickle.load(f)\n",
    "with open('../../Downloads/distributions/key_matches_intervention_anti_sed_3_8.pkl','rb') as f:\n",
    "    matches_sed = pickle.load(f)\n",
    "with open('../../Downloads/distributions/dists_actsugg_3_8.pkl','rb') as f:\n",
    "    dists_act = pickle.load(f)\n",
    "with open('../../Downloads/distributions/key_matches_act_sugg_3_8.pkl','rb') as f:\n",
    "    matches_act = pickle.load(f)"
   ]
  },
  {
   "cell_type": "code",
   "execution_count": 9,
   "metadata": {},
   "outputs": [],
   "source": [
    "def get_all_states():\n",
    "    gids = [1,2]\n",
    "    tod = [0,1]\n",
    "    dow  = [0,1]\n",
    "    pretreatment = [0,1]\n",
    "    temp = [0,1]\n",
    "    loc = [0,1]\n",
    "    \n",
    "    all_states = []\n",
    "    st = ['gid','tod','dow','wea','pre','loc']\n",
    "    \n",
    "    for g in gids:\n",
    "        for t in tod:\n",
    "            for d in dow:\n",
    "                for tp in temp:\n",
    "                    for p in pretreatment:\n",
    "                        for l in loc:\n",
    "                            all_states.append([g,t,d,tp,p,l])\n",
    "    all_keys = []\n",
    "    for s in all_states:\n",
    "        new_key = ['aint','1']\n",
    "        for i in range(len(s)):\n",
    "            new_key.append(st[i])\n",
    "            new_key.append(str(s[i]))\n",
    "        all_keys.append('-'.join(new_key))\n",
    "    return all_keys"
   ]
  },
  {
   "cell_type": "code",
   "execution_count": 10,
   "metadata": {},
   "outputs": [],
   "source": [
    "def get_all_states_both():\n",
    "    gids = [1,2]\n",
    "    tod = [0,1]\n",
    "    dow  = [0,1]\n",
    "    pretreatment = [0,1]\n",
    "    temp = [0,1]\n",
    "    loc = [0,1]\n",
    "    actions = [0,1]\n",
    "    all_states = []\n",
    "    st = ['gid','tod','dow','wea','pre','loc']\n",
    "    for act in actions:\n",
    "        for g in gids:\n",
    "            for t in tod:\n",
    "                for d in dow:\n",
    "                    for tp in temp:\n",
    "                        for p in pretreatment:\n",
    "                            for l in loc:\n",
    "                                all_states.append([g,t,d,tp,p,l])\n",
    "    all_keys = []\n",
    "    for s in all_states:\n",
    "        new_key = []\n",
    "        #new_key = ['aint','1']\n",
    "        for i in range(len(s)):\n",
    "            new_key.append(st[i])\n",
    "            new_key.append(str(s[i]))\n",
    "        all_keys.append('-'.join(new_key))\n",
    "    return all_keys"
   ]
  },
  {
   "cell_type": "code",
   "execution_count": 11,
   "metadata": {},
   "outputs": [],
   "source": [
    "s = get_all_states()"
   ]
  },
  {
   "cell_type": "code",
   "execution_count": 12,
   "metadata": {},
   "outputs": [],
   "source": [
    "sb = get_all_states_both()"
   ]
  },
  {
   "cell_type": "code",
   "execution_count": null,
   "metadata": {},
   "outputs": [],
   "source": []
  },
  {
   "cell_type": "code",
   "execution_count": 38,
   "metadata": {},
   "outputs": [],
   "source": [
    "def get_x_y(state_key):\n",
    "    root = matches_sed[ 'aint-1-'+state_key]\n",
    "    mean_control = dists_sed[root][0]\n",
    "    other = matches_act['aint-1-'+state_key]\n",
    "    mean_treatment = dists_act[other][0]\n",
    "    y = mean_treatment - mean_control \n",
    "    parts = state_key.split('-')\n",
    "    x = [1]\n",
    "    occurs = min( dists_sed[root][2],dists_act[other][2])\n",
    "\n",
    "    \n",
    "    for i in range(3,len(parts),2):\n",
    "\n",
    "            x.append(int(parts[i]))\n",
    "    return x,y\n",
    "    "
   ]
  },
  {
   "cell_type": "code",
   "execution_count": 30,
   "metadata": {},
   "outputs": [],
   "source": [
    "def get_x_y_check(state_key):\n",
    "    #root = matches_sed[state_key]\n",
    "    #mean_control = dists_sed[root][0]\n",
    "    \n",
    "    treatment = 'aint-1-'+state_key\n",
    "    control = 'aint-0-'+state_key\n",
    "    \n",
    "    tother = matches_act[treatment]\n",
    "    mean_treatment = dists_act[tother][0]\n",
    "    \n",
    "    cother = matches_act[control]\n",
    "    mean_control = dists_act[cother][0]\n",
    "    \n",
    "    y = mean_treatment - mean_control \n",
    "    parts = state_key.split('-')\n",
    "    #x = [1]\n",
    "    x=[]\n",
    "    #occurs = min( dists_sed[root][2],dists_act[other][2])\n",
    "    #y = mean_treatment\n",
    "    \n",
    "    for i in range(3,len(parts),2):\n",
    "        #if parts[1]=='2':\n",
    "            #print(parts[i])\n",
    "            #print(parts[i-1])\n",
    "            x.append(int(parts[i]))\n",
    "    return x,y\n",
    "#,occurs"
   ]
  },
  {
   "cell_type": "code",
   "execution_count": 43,
   "metadata": {},
   "outputs": [],
   "source": [
    "def get_x_y_dow(state_key):\n",
    "    #root = matches_sed[state_key]\n",
    "    #mean_control = dists_sed[root][0]\n",
    "    \n",
    "    treatment = 'aint-1-'+state_key\n",
    "    control = 'aint-0-'+state_key\n",
    "    \n",
    "    tother = matches_act[treatment]\n",
    "    mean_treatment = dists_act[tother][0]\n",
    "    \n",
    "    cother = matches_act[control]\n",
    "    mean_control = dists_act[cother][0]\n",
    "    \n",
    "    y = mean_treatment - mean_control \n",
    "    parts = state_key.split('-')\n",
    "    #x = [1]\n",
    "    x=[int(parts[5])]\n",
    "    #occurs = min( dists_sed[root][2],dists_act[other][2])\n",
    "    #y = mean_treatment\n",
    "    \n",
    "   \n",
    "    return x,y\n",
    "#,occurs"
   ]
  },
  {
   "cell_type": "code",
   "execution_count": 44,
   "metadata": {},
   "outputs": [],
   "source": [
    "def get_all_xs_all_ys():\n",
    "    all_xs = []\n",
    "    all_ys = []\n",
    "    for sk in sb:\n",
    "        x,y =  get_x_y_dow(sk)\n",
    "        #for j in range(o):\n",
    "        #if 'gid-2' in sk:\n",
    "        all_xs.append(x)\n",
    "        all_ys.append(y)\n",
    "\n",
    "    return all_xs,all_ys"
   ]
  },
  {
   "cell_type": "code",
   "execution_count": 45,
   "metadata": {},
   "outputs": [],
   "source": [
    "X,y = get_all_xs_all_ys()"
   ]
  },
  {
   "cell_type": "code",
   "execution_count": 46,
   "metadata": {},
   "outputs": [],
   "source": [
    "reg = LinearRegression().fit(X, y)"
   ]
  },
  {
   "cell_type": "code",
   "execution_count": 50,
   "metadata": {},
   "outputs": [
    {
     "data": {
      "text/plain": [
       "[-0.6471421535874873,\n",
       " -0.6471421535874873,\n",
       " -0.18967976557024713,\n",
       " -0.18967976557024713,\n",
       " 0.06510089545032116,\n",
       " 0.55943561983708,\n",
       " 0.05898855064710684,\n",
       " 0.0357177814411731,\n",
       " 0.7336373495631747,\n",
       " 0.7336373495631747,\n",
       " 0.1493913851725086,\n",
       " 0.1493913851725086,\n",
       " 0.5436117068368445,\n",
       " 0.5436117068368445,\n",
       " 0.13341044535226665,\n",
       " 0.13341044535226665,\n",
       " 0.5394173216250291,\n",
       " 0.5394173216250291,\n",
       " -0.09432047683364342,\n",
       " -0.09432047683364342,\n",
       " 1.447018825504709,\n",
       " 1.447018825504709,\n",
       " -0.22552821106053944,\n",
       " -0.2742590236033857,\n",
       " -0.11966154882027791,\n",
       " -0.11966154882027791,\n",
       " 0.03383935219949308,\n",
       " 0.03383935219949308,\n",
       " -0.3194705115799348,\n",
       " -0.3194705115799348,\n",
       " 0.25080084683470716,\n",
       " 0.25080084683470716,\n",
       " 0.27358872022408454,\n",
       " 0.01958827948273889,\n",
       " 0.04784432729558574,\n",
       " -0.10853159646722066,\n",
       " 0.01861383043639009,\n",
       " 0.7593078606822026,\n",
       " 0.06483311246756074,\n",
       " 0.24343396839415732,\n",
       " 0.21092540862210107,\n",
       " 1.3012156878495031,\n",
       " 0.3677363273766616,\n",
       " -0.04082077730392353,\n",
       " 0.6777801165461956,\n",
       " 0.6084733516192267,\n",
       " 0.33641121030535537,\n",
       " -0.21583680667197758,\n",
       " 0.3785257252960106,\n",
       " 0.7921461567942862,\n",
       " -0.13328123082089505,\n",
       " 0.18086042939583802,\n",
       " -0.27329351969096916,\n",
       " 0.4597289633113295,\n",
       " 0.19313056911213522,\n",
       " 0.1188690065779765,\n",
       " -0.29191180488851964,\n",
       " 0.15767570611805581,\n",
       " 0.37466137772186325,\n",
       " 0.059481568330965295,\n",
       " -0.3875338887129205,\n",
       " 0.45958763709725803,\n",
       " -0.1654076900512349,\n",
       " 0.2449565058165959,\n",
       " -0.6471421535874873,\n",
       " -0.6471421535874873,\n",
       " -0.18967976557024713,\n",
       " -0.18967976557024713,\n",
       " 0.06510089545032116,\n",
       " 0.55943561983708,\n",
       " 0.05898855064710684,\n",
       " 0.0357177814411731,\n",
       " 0.7336373495631747,\n",
       " 0.7336373495631747,\n",
       " 0.1493913851725086,\n",
       " 0.1493913851725086,\n",
       " 0.5436117068368445,\n",
       " 0.5436117068368445,\n",
       " 0.13341044535226665,\n",
       " 0.13341044535226665,\n",
       " 0.5394173216250291,\n",
       " 0.5394173216250291,\n",
       " -0.09432047683364342,\n",
       " -0.09432047683364342,\n",
       " 1.447018825504709,\n",
       " 1.447018825504709,\n",
       " -0.22552821106053944,\n",
       " -0.2742590236033857,\n",
       " -0.11966154882027791,\n",
       " -0.11966154882027791,\n",
       " 0.03383935219949308,\n",
       " 0.03383935219949308,\n",
       " -0.3194705115799348,\n",
       " -0.3194705115799348,\n",
       " 0.25080084683470716,\n",
       " 0.25080084683470716,\n",
       " 0.27358872022408454,\n",
       " 0.01958827948273889,\n",
       " 0.04784432729558574,\n",
       " -0.10853159646722066,\n",
       " 0.01861383043639009,\n",
       " 0.7593078606822026,\n",
       " 0.06483311246756074,\n",
       " 0.24343396839415732,\n",
       " 0.21092540862210107,\n",
       " 1.3012156878495031,\n",
       " 0.3677363273766616,\n",
       " -0.04082077730392353,\n",
       " 0.6777801165461956,\n",
       " 0.6084733516192267,\n",
       " 0.33641121030535537,\n",
       " -0.21583680667197758,\n",
       " 0.3785257252960106,\n",
       " 0.7921461567942862,\n",
       " -0.13328123082089505,\n",
       " 0.18086042939583802,\n",
       " -0.27329351969096916,\n",
       " 0.4597289633113295,\n",
       " 0.19313056911213522,\n",
       " 0.1188690065779765,\n",
       " -0.29191180488851964,\n",
       " 0.15767570611805581,\n",
       " 0.37466137772186325,\n",
       " 0.059481568330965295,\n",
       " -0.3875338887129205,\n",
       " 0.45958763709725803,\n",
       " -0.1654076900512349,\n",
       " 0.2449565058165959]"
      ]
     },
     "execution_count": 50,
     "metadata": {},
     "output_type": "execute_result"
    }
   ],
   "source": [
    "y"
   ]
  },
  {
   "cell_type": "code",
   "execution_count": 47,
   "metadata": {},
   "outputs": [
    {
     "data": {
      "text/plain": [
       "array([0.03572201])"
      ]
     },
     "execution_count": 47,
     "metadata": {},
     "output_type": "execute_result"
    }
   ],
   "source": [
    "reg.coef_"
   ]
  },
  {
   "cell_type": "code",
   "execution_count": 48,
   "metadata": {},
   "outputs": [
    {
     "data": {
      "text/plain": [
       "0.1676689911712402"
      ]
     },
     "execution_count": 48,
     "metadata": {},
     "output_type": "execute_result"
    }
   ],
   "source": [
    " reg.intercept_"
   ]
  },
  {
   "cell_type": "code",
   "execution_count": 41,
   "metadata": {},
   "outputs": [
    {
     "data": {
      "text/plain": [
       "array([ 0.        , -0.11665832,  0.11808621,  0.15601783, -0.18131626,\n",
       "        0.01280371])"
      ]
     },
     "execution_count": 41,
     "metadata": {},
     "output_type": "execute_result"
    }
   ],
   "source": [
    "reg.coef_"
   ]
  },
  {
   "cell_type": "code",
   "execution_count": 42,
   "metadata": {},
   "outputs": [
    {
     "data": {
      "text/plain": [
       "0.1422514939816639"
      ]
     },
     "execution_count": 42,
     "metadata": {},
     "output_type": "execute_result"
    }
   ],
   "source": [
    " reg.intercept_"
   ]
  },
  {
   "cell_type": "code",
   "execution_count": 52,
   "metadata": {},
   "outputs": [
    {
     "data": {
      "text/plain": [
       "array([ 0.        , -0.06405887,  0.09447067,  0.16481901, -0.20736237,\n",
       "        0.01136896])"
      ]
     },
     "execution_count": 52,
     "metadata": {},
     "output_type": "execute_result"
    }
   ],
   "source": [
    "reg.coef_"
   ]
  },
  {
   "cell_type": "code",
   "execution_count": 53,
   "metadata": {},
   "outputs": [
    {
     "data": {
      "text/plain": [
       "0.1318755103596786"
      ]
     },
     "execution_count": 53,
     "metadata": {},
     "output_type": "execute_result"
    }
   ],
   "source": [
    " reg.intercept_"
   ]
  },
  {
   "cell_type": "code",
   "execution_count": 23,
   "metadata": {},
   "outputs": [],
   "source": [
    "with open('../../Downloads/distributions/day_to_id.pkl','rb') as f:\n",
    "    h = pickle.load(f)"
   ]
  },
  {
   "cell_type": "code",
   "execution_count": 77,
   "metadata": {},
   "outputs": [
    {
     "data": {
      "text/plain": [
       "0.5901814934881792"
      ]
     },
     "execution_count": 77,
     "metadata": {},
     "output_type": "execute_result"
    }
   ],
   "source": [
    "np.array(y).std()"
   ]
  },
  {
   "cell_type": "code",
   "execution_count": 24,
   "metadata": {},
   "outputs": [
    {
     "data": {
      "text/plain": [
       "{0: 0, 1: 0, 2: 0, 3: 0, 4: 0, 5: 1, 6: 1}"
      ]
     },
     "execution_count": 24,
     "metadata": {},
     "output_type": "execute_result"
    }
   ],
   "source": [
    "h"
   ]
  },
  {
   "cell_type": "code",
   "execution_count": 67,
   "metadata": {},
   "outputs": [],
   "source": [
    "def get_all_xs_all_ys_dow():\n",
    "    ymean =[]\n",
    "    ymean_wk = []\n",
    "    for sk in sb:\n",
    "        x,y =  get_x_y_dow(sk)\n",
    "        if 'dow-0' in sk:\n",
    "            \n",
    "            ymean.append(y)\n",
    "        elif 'dow-1' in sk:\n",
    "            ymean_wk.append(y)\n",
    "        \n",
    "\n",
    "    return [[0],[1]],[np.array(ymean).mean(),np.array(ymean_wk).mean()]"
   ]
  },
  {
   "cell_type": "code",
   "execution_count": 68,
   "metadata": {},
   "outputs": [],
   "source": [
    "X,y = get_all_xs_all_ys_dow()"
   ]
  },
  {
   "cell_type": "code",
   "execution_count": 69,
   "metadata": {},
   "outputs": [
    {
     "data": {
      "text/plain": [
       "array([0.03572201])"
      ]
     },
     "execution_count": 69,
     "metadata": {},
     "output_type": "execute_result"
    }
   ],
   "source": [
    "reg = LinearRegression().fit(X, y)\n",
    "reg.coef_"
   ]
  },
  {
   "cell_type": "code",
   "execution_count": 70,
   "metadata": {},
   "outputs": [
    {
     "data": {
      "text/plain": [
       "[0.16766899117124023, 0.20339099940289906]"
      ]
     },
     "execution_count": 70,
     "metadata": {},
     "output_type": "execute_result"
    }
   ],
   "source": [
    "    treatment = 'aint-1-'+state_key\n",
    "    control = 'aint-0-'+state_key\n",
    "    \n",
    "    tother = matches_act[treatment]\n",
    "    mean_treatment = dists_act[tother][0]\n",
    "    \n",
    "    cother = matches_act[control]\n",
    "    mean_control = dists_act[cother][0"
   ]
  },
  {
   "cell_type": "code",
   "execution_count": 134,
   "metadata": {},
   "outputs": [],
   "source": [
    "def get_all_xs_all_ys_dow_fancy():\n",
    "    y_0_1 = []\n",
    "    y_0_0 = []\n",
    "    y_1_1 = []\n",
    "    y_1_0 = []\n",
    "    \n",
    "    seen = set([])\n",
    "    \n",
    "    for k,v in matches_act.items():\n",
    "        if 'dow-0' in k and 'aint-1' in k:\n",
    "            if len(v.split('-'))==10:\n",
    "                \n",
    "                y_0_1.append( dists_act[v][0])\n",
    "            seen.add(v)\n",
    "        elif 'dow-0'in k and 'aint-0' in k:\n",
    "            if len(v.split('-'))==10:\n",
    "                y_0_0.append( dists_act[v][0])\n",
    "            seen.add(v)\n",
    "        elif 'dow-1' in k and 'aint-0' in k:\n",
    "            if len(v.split('-'))==10:\n",
    "                y_1_0.append( dists_act[v][0])\n",
    "            seen.add(v)\n",
    "            #print('found')\n",
    "        elif 'dow-1' in k and 'aint-1' in k:\n",
    "            #print('found')\n",
    "            if len(v.split('-'))==10:\n",
    "                y_1_1.append( dists_act[v][0])\n",
    "            seen.add(v)\n",
    "    return np.array(y_0_1),np.array(y_0_0),np.array(y_1_0),np.array(y_1_1)"
   ]
  },
  {
   "cell_type": "code",
   "execution_count": 135,
   "metadata": {},
   "outputs": [],
   "source": [
    "looks = get_all_xs_all_ys_dow_fancy()"
   ]
  },
  {
   "cell_type": "code",
   "execution_count": 136,
   "metadata": {},
   "outputs": [
    {
     "data": {
      "text/plain": [
       "4.010646512693568"
      ]
     },
     "execution_count": 136,
     "metadata": {},
     "output_type": "execute_result"
    }
   ],
   "source": [
    "looks[0].mean()"
   ]
  },
  {
   "cell_type": "code",
   "execution_count": 137,
   "metadata": {},
   "outputs": [
    {
     "data": {
      "text/plain": [
       "4.294580149234434"
      ]
     },
     "execution_count": 137,
     "metadata": {},
     "output_type": "execute_result"
    }
   ],
   "source": [
    "looks[1].mean()"
   ]
  },
  {
   "cell_type": "code",
   "execution_count": 138,
   "metadata": {},
   "outputs": [
    {
     "data": {
      "text/plain": [
       "3.8597302105200364"
      ]
     },
     "execution_count": 138,
     "metadata": {},
     "output_type": "execute_result"
    }
   ],
   "source": [
    "looks[3].mean()"
   ]
  },
  {
   "cell_type": "code",
   "execution_count": 139,
   "metadata": {},
   "outputs": [
    {
     "data": {
      "text/plain": [
       "3.718651969105231"
      ]
     },
     "execution_count": 139,
     "metadata": {},
     "output_type": "execute_result"
    }
   ],
   "source": [
    "looks[2].mean()"
   ]
  },
  {
   "cell_type": "code",
   "execution_count": 114,
   "metadata": {},
   "outputs": [
    {
     "data": {
      "text/plain": [
       "{'aint-1-gid-2-tod-2-dow-0-wea-1-pre-0-loc-1': 'aint-1-gid-2-tod-2-dow-0-wea-1-pre-0-loc-1',\n",
       " 'aint-1-gid-2-tod-1-dow-0-wea-0-pre-1-loc-1': 'aint-1-gid-2-tod-1-dow-0-wea-0-pre-1-loc-1',\n",
       " 'aint-0-gid-2-tod-0-dow-1-wea-1-pre-0-loc-1': 'aint-0-gid-2-tod-0-dow-1-wea-1-pre-0',\n",
       " 'aint-0-gid-2-tod-1-dow-0-wea-0-pre-1-loc-0': 'aint-0-gid-2-tod-1-dow-0-wea-0-pre-1-loc-0',\n",
       " 'aint-1-gid-2-tod-1-dow-1-wea-0-pre-0-loc-1': 'aint-1-gid-2-tod-1-dow-1-wea-0-pre-0',\n",
       " 'aint-0-gid-1-tod-2-dow-1-wea-0-pre-0-loc-0': 'aint-0-tod-2-dow-1-wea-0-pre-0',\n",
       " 'aint-1-gid-2-tod-2-dow-0-wea-0-pre-1-loc-0': 'aint-1-gid-2-dow-0-wea-0-pre-1',\n",
       " 'aint-0-gid-2-tod-0-dow-0-wea-0-pre-1-loc-1': 'aint-0-gid-2-tod-0-dow-0-wea-0-pre-1-loc-1',\n",
       " 'aint-0-gid-1-tod-2-dow-0-wea-0-pre-0-loc-0': 'aint-0-gid-1-tod-2-dow-0-wea-0-pre-0',\n",
       " 'aint-0-gid-1-tod-1-dow-0-wea-0-pre-1-loc-1': 'aint-0-tod-1-dow-0-wea-0-pre-1',\n",
       " 'aint-0-gid-1-tod-2-dow-1-wea-0-pre-1-loc-0': 'aint-0-dow-1-wea-0-pre-1',\n",
       " 'aint-0-gid-1-tod-2-dow-1-wea-1-pre-0-loc-0': 'aint-0-tod-2-dow-1-wea-1-pre-0',\n",
       " 'aint-1-gid-2-tod-2-dow-0-wea-1-pre-1-loc-1': 'aint-1-gid-2-dow-0-wea-1-pre-1',\n",
       " 'aint-0-gid-1-tod-2-dow-0-wea-1-pre-0-loc-0': 'aint-0-tod-2-dow-0-wea-1-pre-0',\n",
       " 'aint-1-gid-1-tod-0-dow-0-wea-0-pre-0-loc-0': 'aint-1-tod-0-dow-0-wea-0-pre-0',\n",
       " 'aint-1-gid-2-tod-0-dow-1-wea-0-pre-1-loc-0': 'aint-1-gid-2-tod-0-dow-1-wea-0-pre-1',\n",
       " 'aint-0-gid-1-tod-2-dow-0-wea-0-pre-1-loc-0': 'aint-0-gid-1-dow-0-wea-0-pre-1',\n",
       " 'aint-1-gid-1-tod-0-dow-0-wea-0-pre-1-loc-0': 'aint-1-tod-0-dow-0-wea-0-pre-1',\n",
       " 'aint-1-gid-2-tod-0-dow-1-wea-1-pre-1-loc-0': 'aint-1-gid-2-tod-0-dow-1-wea-1-pre-1',\n",
       " 'aint-1-gid-1-tod-0-dow-1-wea-0-pre-1-loc-1': 'aint-1-tod-0-dow-1-wea-0-pre-1',\n",
       " 'aint-1-gid-1-tod-2-dow-1-wea-0-pre-1-loc-0': 'aint-1-dow-1-wea-0-pre-1',\n",
       " 'aint-0-gid-1-tod-2-dow-0-wea-0-pre-1-loc-1': 'aint-0-gid-1-dow-0-wea-0-pre-1',\n",
       " 'aint-1-gid-2-tod-0-dow-0-wea-0-pre-0-loc-0': 'aint-1-gid-2-tod-0-dow-0-wea-0-pre-0-loc-0',\n",
       " 'aint-0-gid-1-tod-2-dow-0-wea-1-pre-1-loc-1': 'aint-0-gid-1-dow-0-wea-1-pre-1',\n",
       " 'aint-0-gid-1-tod-1-dow-0-wea-1-pre-0-loc-0': 'aint-0-gid-1-tod-1-dow-0-wea-1-pre-0',\n",
       " 'aint-1-gid-2-tod-1-dow-0-wea-1-pre-1-loc-1': 'aint-1-gid-2-tod-1-dow-0-wea-1-pre-1-loc-1',\n",
       " 'aint-0-gid-1-tod-1-dow-0-wea-1-pre-1-loc-0': 'aint-0-gid-1-tod-1-dow-0-wea-1-pre-1',\n",
       " 'aint-1-gid-2-tod-0-dow-1-wea-0-pre-1-loc-1': 'aint-1-gid-2-tod-0-dow-1-wea-0-pre-1',\n",
       " 'aint-0-gid-2-tod-2-dow-0-wea-1-pre-0-loc-0': 'aint-0-gid-2-tod-2-dow-0-wea-1-pre-0-loc-0',\n",
       " 'aint-1-gid-2-tod-2-dow-1-wea-1-pre-0-loc-0': 'aint-1-gid-2-tod-2-dow-1-wea-1-pre-0-loc-0',\n",
       " 'aint-0-gid-1-tod-0-dow-1-wea-1-pre-0-loc-1': 'aint-0-tod-0-dow-1-wea-1-pre-0',\n",
       " 'aint-0-gid-2-tod-2-dow-1-wea-1-pre-1-loc-0': 'aint-0-gid-2-dow-1-wea-1-pre-1',\n",
       " 'aint-1-gid-2-tod-0-dow-0-wea-1-pre-1-loc-0': 'aint-1-gid-2-tod-0-dow-0-wea-1-pre-1-loc-0',\n",
       " 'aint-0-gid-2-tod-0-dow-1-wea-0-pre-1-loc-1': 'aint-0-gid-2-tod-0-dow-1-wea-0-pre-1-loc-1',\n",
       " 'aint-1-gid-1-tod-0-dow-1-wea-1-pre-1-loc-0': 'aint-1-tod-0-dow-1-wea-1-pre-1',\n",
       " 'aint-1-gid-2-tod-2-dow-0-wea-0-pre-0-loc-0': 'aint-1-gid-2-tod-2-dow-0-wea-0-pre-0-loc-0',\n",
       " 'aint-0-gid-2-tod-1-dow-1-wea-1-pre-1-loc-1': 'aint-0-gid-2-tod-1-dow-1-wea-1-pre-1-loc-1',\n",
       " 'aint-1-gid-1-tod-1-dow-0-wea-1-pre-1-loc-0': 'aint-1-tod-1-dow-0-wea-1-pre-1',\n",
       " 'aint-1-gid-2-tod-2-dow-0-wea-1-pre-0-loc-0': 'aint-1-gid-2-tod-2-dow-0-wea-1-pre-0-loc-0',\n",
       " 'aint-1-gid-2-tod-0-dow-1-wea-0-pre-0-loc-0': 'aint-1-gid-2-tod-0-dow-1-wea-0-pre-0-loc-0',\n",
       " 'aint-1-gid-1-tod-2-dow-0-wea-0-pre-1-loc-0': 'aint-1-dow-0-wea-0-pre-1',\n",
       " 'aint-1-gid-2-tod-0-dow-1-wea-1-pre-0-loc-0': 'aint-1-gid-2-tod-0-dow-1-wea-1-pre-0-loc-0',\n",
       " 'aint-1-gid-2-tod-1-dow-0-wea-0-pre-0-loc-0': 'aint-1-gid-2-tod-1-dow-0-wea-0-pre-0-loc-0',\n",
       " 'aint-0-gid-1-tod-0-dow-0-wea-0-pre-1-loc-0': 'aint-0-tod-0-dow-0-wea-0-pre-1',\n",
       " 'aint-1-gid-2-tod-2-dow-0-wea-1-pre-1-loc-0': 'aint-1-gid-2-dow-0-wea-1-pre-1',\n",
       " 'aint-0-gid-2-tod-0-dow-1-wea-0-pre-0-loc-1': 'aint-0-gid-2-tod-0-dow-1-wea-0-pre-0-loc-1',\n",
       " 'aint-1-gid-1-tod-1-dow-0-wea-0-pre-0-loc-1': 'aint-1-tod-1-dow-0-wea-0-pre-0',\n",
       " 'aint-1-gid-2-tod-2-dow-1-wea-1-pre-1-loc-0': 'aint-1-gid-2-dow-1-wea-1-pre-1',\n",
       " 'aint-1-gid-2-tod-2-dow-1-wea-0-pre-0-loc-0': 'aint-1-gid-2-tod-2-dow-1-wea-0-pre-0',\n",
       " 'aint-1-gid-1-tod-2-dow-1-wea-0-pre-0-loc-0': 'aint-1-tod-2-dow-1-wea-0-pre-0',\n",
       " 'aint-0-gid-2-tod-2-dow-1-wea-0-pre-0-loc-0': 'aint-0-gid-2-tod-2-dow-1-wea-0-pre-0-loc-0',\n",
       " 'aint-1-gid-2-tod-0-dow-1-wea-1-pre-0-loc-1': 'aint-1-gid-2-tod-0-dow-1-wea-1-pre-0',\n",
       " 'aint-1-gid-1-tod-0-dow-1-wea-0-pre-0-loc-0': 'aint-1-tod-0-dow-1-wea-0-pre-0',\n",
       " 'aint-0-gid-2-tod-1-dow-0-wea-0-pre-0-loc-0': 'aint-0-gid-2-tod-1-dow-0-wea-0-pre-0-loc-0',\n",
       " 'aint-0-gid-2-tod-2-dow-0-wea-1-pre-1-loc-1': 'aint-0-gid-2-dow-0-wea-1-pre-1',\n",
       " 'aint-1-gid-1-tod-1-dow-1-wea-1-pre-1-loc-0': 'aint-1-tod-1-dow-1-wea-1-pre-1',\n",
       " 'aint-1-gid-1-tod-1-dow-1-wea-0-pre-0-loc-1': 'aint-1-tod-1-dow-1-wea-0-pre-0',\n",
       " 'aint-1-gid-2-tod-1-dow-1-wea-1-pre-0-loc-1': 'aint-1-gid-2-tod-1-dow-1-wea-1-pre-0',\n",
       " 'aint-1-gid-1-tod-1-dow-0-wea-0-pre-1-loc-1': 'aint-1-tod-1-dow-0-wea-0-pre-1',\n",
       " 'aint-1-gid-1-tod-1-dow-1-wea-1-pre-0-loc-1': 'aint-1-tod-1-dow-1-wea-1-pre-0',\n",
       " 'aint-0-gid-1-tod-0-dow-0-wea-0-pre-1-loc-1': 'aint-0-tod-0-dow-0-wea-0-pre-1',\n",
       " 'aint-0-gid-2-tod-0-dow-1-wea-1-pre-1-loc-1': 'aint-0-gid-2-tod-0-dow-1-wea-1-pre-1-loc-1',\n",
       " 'aint-0-gid-2-tod-0-dow-0-wea-1-pre-0-loc-0': 'aint-0-gid-2-tod-0-dow-0-wea-1-pre-0-loc-0',\n",
       " 'aint-1-gid-2-tod-1-dow-0-wea-1-pre-0-loc-0': 'aint-1-gid-2-tod-1-dow-0-wea-1-pre-0-loc-0',\n",
       " 'aint-0-gid-1-tod-0-dow-1-wea-0-pre-1-loc-0': 'aint-0-tod-0-dow-1-wea-0-pre-1',\n",
       " 'aint-0-gid-1-tod-0-dow-0-wea-0-pre-0-loc-0': 'aint-0-gid-1-tod-0-dow-0-wea-0-pre-0',\n",
       " 'aint-0-gid-2-tod-2-dow-0-wea-1-pre-1-loc-0': 'aint-0-gid-2-dow-0-wea-1-pre-1',\n",
       " 'aint-1-gid-2-tod-2-dow-1-wea-0-pre-0-loc-1': 'aint-1-gid-2-tod-2-dow-1-wea-0-pre-0',\n",
       " 'aint-1-gid-1-tod-1-dow-0-wea-1-pre-0-loc-0': 'aint-1-tod-1-dow-0-wea-1-pre-0',\n",
       " 'aint-0-gid-1-tod-0-dow-0-wea-1-pre-0-loc-0': 'aint-0-gid-1-tod-0-dow-0-wea-1-pre-0',\n",
       " 'aint-0-gid-1-tod-1-dow-1-wea-0-pre-0-loc-0': 'aint-0-tod-1-dow-1-wea-0-pre-0',\n",
       " 'aint-0-gid-2-tod-0-dow-1-wea-0-pre-1-loc-0': 'aint-0-gid-2-tod-0-dow-1-wea-0-pre-1-loc-0',\n",
       " 'aint-1-gid-2-tod-1-dow-0-wea-0-pre-1-loc-0': 'aint-1-gid-2-tod-1-dow-0-wea-0-pre-1-loc-0',\n",
       " 'aint-1-gid-2-tod-2-dow-1-wea-1-pre-0-loc-1': 'aint-1-gid-2-tod-2-dow-1-wea-1-pre-0',\n",
       " 'aint-0-gid-2-tod-0-dow-0-wea-0-pre-0-loc-0': 'aint-0-gid-2-tod-0-dow-0-wea-0-pre-0-loc-0',\n",
       " 'aint-1-gid-1-tod-1-dow-1-wea-0-pre-0-loc-0': 'aint-1-tod-1-dow-1-wea-0-pre-0',\n",
       " 'aint-0-gid-2-tod-0-dow-0-wea-0-pre-1-loc-0': 'aint-0-gid-2-tod-0-dow-0-wea-0-pre-1-loc-0',\n",
       " 'aint-0-gid-2-tod-1-dow-1-wea-1-pre-1-loc-0': 'aint-0-gid-2-tod-1-dow-1-wea-1-pre-1-loc-0',\n",
       " 'aint-0-gid-1-tod-1-dow-0-wea-0-pre-1-loc-0': 'aint-0-tod-1-dow-0-wea-0-pre-1',\n",
       " 'aint-0-gid-2-tod-0-dow-1-wea-1-pre-1-loc-0': 'aint-0-gid-2-tod-0-dow-1-wea-1-pre-1-loc-0',\n",
       " 'aint-1-gid-1-tod-1-dow-1-wea-1-pre-0-loc-0': 'aint-1-tod-1-dow-1-wea-1-pre-0',\n",
       " 'aint-0-gid-2-tod-1-dow-1-wea-1-pre-0-loc-1': 'aint-0-gid-2-tod-1-dow-1-wea-1-pre-0-loc-1',\n",
       " 'aint-0-gid-2-tod-1-dow-0-wea-1-pre-0-loc-0': 'aint-0-gid-2-tod-1-dow-0-wea-1-pre-0-loc-0',\n",
       " 'aint-0-gid-2-tod-2-dow-1-wea-1-pre-0-loc-0': 'aint-0-gid-2-tod-2-dow-1-wea-1-pre-0-loc-0',\n",
       " 'aint-0-gid-2-tod-2-dow-0-wea-0-pre-1-loc-0': 'aint-0-gid-2-dow-0-wea-0-pre-1',\n",
       " 'aint-1-gid-2-tod-2-dow-0-wea-0-pre-0-loc-1': 'aint-1-gid-2-tod-2-dow-0-wea-0-pre-0-loc-1',\n",
       " 'aint-1-gid-1-tod-2-dow-1-wea-0-pre-0-loc-1': 'aint-1-tod-2-dow-1-wea-0-pre-0',\n",
       " 'aint-1-gid-1-tod-0-dow-1-wea-1-pre-1-loc-1': 'aint-1-tod-0-dow-1-wea-1-pre-1',\n",
       " 'aint-1-gid-2-tod-0-dow-0-wea-1-pre-1-loc-1': 'aint-1-gid-2-tod-0-dow-0-wea-1-pre-1-loc-1',\n",
       " 'aint-1-gid-2-tod-2-dow-0-wea-0-pre-1-loc-1': 'aint-1-gid-2-dow-0-wea-0-pre-1',\n",
       " 'aint-1-gid-1-tod-2-dow-1-wea-1-pre-1-loc-1': 'aint-1-dow-1-wea-1-pre-1',\n",
       " 'aint-0-gid-1-tod-1-dow-0-wea-0-pre-0-loc-1': 'aint-0-tod-1-dow-0-wea-0-pre-0',\n",
       " 'aint-1-gid-1-tod-0-dow-1-wea-1-pre-0-loc-1': 'aint-1-tod-0-dow-1-wea-1-pre-0',\n",
       " 'aint-0-gid-1-tod-1-dow-1-wea-0-pre-1-loc-0': 'aint-0-tod-1-dow-1-wea-0-pre-1',\n",
       " 'aint-1-gid-1-tod-2-dow-0-wea-1-pre-0-loc-1': 'aint-1-tod-2-dow-0-wea-1-pre-0',\n",
       " 'aint-0-gid-1-tod-2-dow-1-wea-0-pre-1-loc-1': 'aint-0-dow-1-wea-0-pre-1',\n",
       " 'aint-0-gid-1-tod-1-dow-1-wea-0-pre-0-loc-1': 'aint-0-tod-1-dow-1-wea-0-pre-0',\n",
       " 'aint-1-gid-2-tod-1-dow-1-wea-0-pre-0-loc-0': 'aint-1-gid-2-tod-1-dow-1-wea-0-pre-0-loc-0',\n",
       " 'aint-0-gid-1-tod-1-dow-0-wea-1-pre-1-loc-1': 'aint-0-gid-1-tod-1-dow-0-wea-1-pre-1-loc-1',\n",
       " 'aint-1-gid-1-tod-1-dow-0-wea-1-pre-0-loc-1': 'aint-1-tod-1-dow-0-wea-1-pre-0',\n",
       " 'aint-0-gid-2-tod-1-dow-1-wea-0-pre-1-loc-0': 'aint-0-gid-2-tod-1-dow-1-wea-0-pre-1-loc-0',\n",
       " 'aint-1-gid-2-tod-1-dow-1-wea-1-pre-0-loc-0': 'aint-1-gid-2-tod-1-dow-1-wea-1-pre-0-loc-0',\n",
       " 'aint-1-gid-1-tod-0-dow-0-wea-1-pre-0-loc-1': 'aint-1-tod-0-dow-0-wea-1-pre-0',\n",
       " 'aint-0-gid-1-tod-0-dow-1-wea-0-pre-0-loc-0': 'aint-0-tod-0-dow-1-wea-0-pre-0',\n",
       " 'aint-0-gid-1-tod-0-dow-1-wea-1-pre-1-loc-0': 'aint-0-tod-0-dow-1-wea-1-pre-1',\n",
       " 'aint-0-gid-1-tod-0-dow-1-wea-0-pre-1-loc-1': 'aint-0-tod-0-dow-1-wea-0-pre-1',\n",
       " 'aint-1-gid-2-tod-2-dow-1-wea-0-pre-1-loc-0': 'aint-1-gid-2-dow-1-wea-0-pre-1',\n",
       " 'aint-1-gid-1-tod-0-dow-0-wea-1-pre-1-loc-1': 'aint-1-tod-0-dow-0-wea-1-pre-1',\n",
       " 'aint-0-gid-2-tod-2-dow-0-wea-0-pre-1-loc-1': 'aint-0-gid-2-dow-0-wea-0-pre-1',\n",
       " 'aint-0-gid-2-tod-0-dow-0-wea-1-pre-1-loc-0': 'aint-0-gid-2-tod-0-dow-0-wea-1-pre-1-loc-0',\n",
       " 'aint-0-gid-2-tod-1-dow-1-wea-0-pre-1-loc-1': 'aint-0-gid-2-tod-1-dow-1-wea-0-pre-1-loc-1',\n",
       " 'aint-0-gid-2-tod-1-dow-1-wea-0-pre-0-loc-1': 'aint-0-gid-2-tod-1-dow-1-wea-0-pre-0-loc-1',\n",
       " 'aint-0-gid-1-tod-0-dow-1-wea-1-pre-1-loc-1': 'aint-0-tod-0-dow-1-wea-1-pre-1',\n",
       " 'aint-0-gid-2-tod-2-dow-1-wea-0-pre-1-loc-1': 'aint-0-gid-2-dow-1-wea-0-pre-1',\n",
       " 'aint-0-gid-1-tod-0-dow-0-wea-1-pre-1-loc-1': 'aint-0-gid-1-tod-0-dow-0-wea-1-pre-1-loc-1',\n",
       " 'aint-1-gid-2-tod-1-dow-1-wea-0-pre-1-loc-0': 'aint-1-gid-2-tod-1-dow-1-wea-0-pre-1-loc-0',\n",
       " 'aint-1-gid-2-tod-0-dow-0-wea-1-pre-0-loc-1': 'aint-1-gid-2-tod-0-dow-0-wea-1-pre-0-loc-1',\n",
       " 'aint-1-gid-1-tod-2-dow-0-wea-1-pre-1-loc-1': 'aint-1-gid-1-dow-0-wea-1-pre-1',\n",
       " 'aint-0-gid-2-tod-1-dow-1-wea-1-pre-0-loc-0': 'aint-0-gid-2-tod-1-dow-1-wea-1-pre-0-loc-0',\n",
       " 'aint-0-gid-2-tod-2-dow-1-wea-1-pre-1-loc-1': 'aint-0-gid-2-dow-1-wea-1-pre-1',\n",
       " 'aint-1-gid-1-tod-2-dow-0-wea-0-pre-0-loc-0': 'aint-1-tod-2-dow-0-wea-0-pre-0',\n",
       " 'aint-1-gid-1-tod-1-dow-1-wea-0-pre-1-loc-1': 'aint-1-tod-1-dow-1-wea-0-pre-1',\n",
       " 'aint-1-gid-2-tod-0-dow-0-wea-0-pre-1-loc-1': 'aint-1-gid-2-tod-0-dow-0-wea-0-pre-1-loc-1',\n",
       " 'aint-0-gid-2-tod-2-dow-1-wea-1-pre-0-loc-1': 'aint-0-gid-2-tod-2-dow-1-wea-1-pre-0',\n",
       " 'aint-0-gid-2-tod-2-dow-0-wea-0-pre-0-loc-1': 'aint-0-gid-2-tod-2-dow-0-wea-0-pre-0-loc-1',\n",
       " 'aint-1-gid-1-tod-0-dow-0-wea-0-pre-1-loc-1': 'aint-1-tod-0-dow-0-wea-0-pre-1',\n",
       " 'aint-0-gid-2-tod-2-dow-0-wea-1-pre-0-loc-1': 'aint-0-gid-2-tod-2-dow-0-wea-1-pre-0-loc-1',\n",
       " 'aint-0-gid-2-tod-1-dow-1-wea-0-pre-0-loc-0': 'aint-0-gid-2-tod-1-dow-1-wea-0-pre-0-loc-0',\n",
       " 'aint-1-gid-2-tod-1-dow-0-wea-0-pre-0-loc-1': 'aint-1-gid-2-tod-1-dow-0-wea-0-pre-0-loc-1',\n",
       " 'aint-1-gid-1-tod-0-dow-0-wea-0-pre-0-loc-1': 'aint-1-tod-0-dow-0-wea-0-pre-0',\n",
       " 'aint-1-gid-1-tod-2-dow-1-wea-1-pre-1-loc-0': 'aint-1-dow-1-wea-1-pre-1',\n",
       " 'aint-0-gid-1-tod-1-dow-1-wea-1-pre-1-loc-1': 'aint-0-tod-1-dow-1-wea-1-pre-1',\n",
       " 'aint-1-gid-2-tod-1-dow-1-wea-1-pre-1-loc-1': 'aint-1-gid-2-tod-1-dow-1-wea-1-pre-1',\n",
       " 'aint-1-gid-1-tod-1-dow-0-wea-1-pre-1-loc-1': 'aint-1-tod-1-dow-0-wea-1-pre-1',\n",
       " 'aint-0-gid-1-tod-2-dow-1-wea-1-pre-1-loc-0': 'aint-0-dow-1-wea-1-pre-1',\n",
       " 'aint-1-gid-1-tod-0-dow-0-wea-1-pre-1-loc-0': 'aint-1-tod-0-dow-0-wea-1-pre-1',\n",
       " 'aint-1-gid-1-tod-2-dow-0-wea-1-pre-1-loc-0': 'aint-1-gid-1-dow-0-wea-1-pre-1',\n",
       " 'aint-1-gid-1-tod-2-dow-1-wea-1-pre-0-loc-0': 'aint-1-tod-2-dow-1-wea-1-pre-0',\n",
       " 'aint-1-gid-1-tod-2-dow-0-wea-0-pre-0-loc-1': 'aint-1-tod-2-dow-0-wea-0-pre-0',\n",
       " 'aint-1-gid-1-tod-1-dow-1-wea-1-pre-1-loc-1': 'aint-1-tod-1-dow-1-wea-1-pre-1',\n",
       " 'aint-1-gid-2-tod-0-dow-1-wea-1-pre-1-loc-1': 'aint-1-gid-2-tod-0-dow-1-wea-1-pre-1',\n",
       " 'aint-0-gid-1-tod-0-dow-0-wea-0-pre-0-loc-1': 'aint-0-gid-1-tod-0-dow-0-wea-0-pre-0',\n",
       " 'aint-1-gid-1-tod-0-dow-1-wea-1-pre-0-loc-0': 'aint-1-tod-0-dow-1-wea-1-pre-0',\n",
       " 'aint-1-gid-1-tod-2-dow-0-wea-0-pre-1-loc-1': 'aint-1-dow-0-wea-0-pre-1',\n",
       " 'aint-1-gid-2-tod-1-dow-0-wea-1-pre-1-loc-0': 'aint-1-gid-2-tod-1-dow-0-wea-1-pre-1-loc-0',\n",
       " 'aint-0-gid-2-tod-2-dow-1-wea-0-pre-0-loc-1': 'aint-0-gid-2-tod-2-dow-1-wea-0-pre-0-loc-1',\n",
       " 'aint-0-gid-1-tod-2-dow-1-wea-1-pre-0-loc-1': 'aint-0-tod-2-dow-1-wea-1-pre-0',\n",
       " 'aint-0-gid-1-tod-1-dow-1-wea-1-pre-0-loc-0': 'aint-0-tod-1-dow-1-wea-1-pre-0',\n",
       " 'aint-0-gid-1-tod-1-dow-1-wea-1-pre-0-loc-1': 'aint-0-tod-1-dow-1-wea-1-pre-0',\n",
       " 'aint-1-gid-2-tod-1-dow-1-wea-0-pre-1-loc-1': 'aint-1-gid-2-tod-1-dow-1-wea-0-pre-1',\n",
       " 'aint-1-gid-2-tod-1-dow-0-wea-1-pre-0-loc-1': 'aint-1-gid-2-tod-1-dow-0-wea-1-pre-0-loc-1',\n",
       " 'aint-0-gid-2-tod-1-dow-0-wea-1-pre-1-loc-0': 'aint-0-gid-2-tod-1-dow-0-wea-1-pre-1-loc-0',\n",
       " 'aint-0-gid-1-tod-2-dow-1-wea-0-pre-0-loc-1': 'aint-0-tod-2-dow-1-wea-0-pre-0',\n",
       " 'aint-1-gid-1-tod-1-dow-1-wea-0-pre-1-loc-0': 'aint-1-tod-1-dow-1-wea-0-pre-1',\n",
       " 'aint-0-gid-2-tod-2-dow-0-wea-0-pre-0-loc-0': 'aint-0-gid-2-tod-2-dow-0-wea-0-pre-0-loc-0',\n",
       " 'aint-1-gid-2-tod-1-dow-1-wea-1-pre-1-loc-0': 'aint-1-gid-2-tod-1-dow-1-wea-1-pre-1-loc-0',\n",
       " 'aint-1-gid-1-tod-0-dow-0-wea-1-pre-0-loc-0': 'aint-1-tod-0-dow-0-wea-1-pre-0',\n",
       " 'aint-0-gid-2-tod-1-dow-0-wea-0-pre-1-loc-1': 'aint-0-gid-2-tod-1-dow-0-wea-0-pre-1-loc-1',\n",
       " 'aint-0-gid-1-tod-1-dow-1-wea-1-pre-1-loc-0': 'aint-0-tod-1-dow-1-wea-1-pre-1',\n",
       " 'aint-0-gid-2-tod-0-dow-0-wea-1-pre-1-loc-1': 'aint-0-gid-2-tod-0-dow-0-wea-1-pre-1-loc-1',\n",
       " 'aint-1-gid-2-tod-0-dow-0-wea-1-pre-0-loc-0': 'aint-1-gid-2-tod-0-dow-0-wea-1-pre-0-loc-0',\n",
       " 'aint-0-gid-2-tod-1-dow-0-wea-1-pre-0-loc-1': 'aint-0-gid-2-tod-1-dow-0-wea-1-pre-0-loc-1',\n",
       " 'aint-1-gid-1-tod-0-dow-1-wea-0-pre-1-loc-0': 'aint-1-tod-0-dow-1-wea-0-pre-1',\n",
       " 'aint-0-gid-2-tod-0-dow-1-wea-1-pre-0-loc-0': 'aint-0-gid-2-tod-0-dow-1-wea-1-pre-0-loc-0',\n",
       " 'aint-1-gid-1-tod-2-dow-1-wea-1-pre-0-loc-1': 'aint-1-tod-2-dow-1-wea-1-pre-0',\n",
       " 'aint-0-gid-1-tod-2-dow-0-wea-1-pre-0-loc-1': 'aint-0-tod-2-dow-0-wea-1-pre-0',\n",
       " 'aint-0-gid-2-tod-1-dow-0-wea-1-pre-1-loc-1': 'aint-0-gid-2-tod-1-dow-0-wea-1-pre-1-loc-1',\n",
       " 'aint-0-gid-1-tod-0-dow-1-wea-1-pre-0-loc-0': 'aint-0-tod-0-dow-1-wea-1-pre-0',\n",
       " 'aint-1-gid-2-tod-0-dow-0-wea-0-pre-0-loc-1': 'aint-1-gid-2-tod-0-dow-0-wea-0-pre-0-loc-1',\n",
       " 'aint-1-gid-2-tod-0-dow-0-wea-0-pre-1-loc-0': 'aint-1-gid-2-tod-0-dow-0-wea-0-pre-1-loc-0',\n",
       " 'aint-0-gid-1-tod-2-dow-0-wea-1-pre-1-loc-0': 'aint-0-gid-1-dow-0-wea-1-pre-1',\n",
       " 'aint-1-gid-1-tod-2-dow-1-wea-0-pre-1-loc-1': 'aint-1-dow-1-wea-0-pre-1',\n",
       " 'aint-0-gid-2-tod-1-dow-0-wea-0-pre-0-loc-1': 'aint-0-gid-2-tod-1-dow-0-wea-0-pre-0-loc-1',\n",
       " 'aint-0-gid-1-tod-1-dow-1-wea-0-pre-1-loc-1': 'aint-0-tod-1-dow-1-wea-0-pre-1',\n",
       " 'aint-0-gid-1-tod-1-dow-0-wea-0-pre-0-loc-0': 'aint-0-tod-1-dow-0-wea-0-pre-0',\n",
       " 'aint-0-gid-2-tod-0-dow-1-wea-0-pre-0-loc-0': 'aint-0-gid-2-tod-0-dow-1-wea-0-pre-0-loc-0',\n",
       " 'aint-1-gid-2-tod-2-dow-1-wea-1-pre-1-loc-1': 'aint-1-gid-2-dow-1-wea-1-pre-1',\n",
       " 'aint-0-gid-1-tod-2-dow-0-wea-0-pre-0-loc-1': 'aint-0-gid-1-tod-2-dow-0-wea-0-pre-0',\n",
       " 'aint-0-gid-1-tod-0-dow-0-wea-1-pre-1-loc-0': 'aint-0-gid-1-tod-0-dow-0-wea-1-pre-1',\n",
       " 'aint-0-gid-2-tod-2-dow-1-wea-0-pre-1-loc-0': 'aint-0-gid-2-dow-1-wea-0-pre-1',\n",
       " 'aint-1-gid-1-tod-0-dow-1-wea-0-pre-0-loc-1': 'aint-1-tod-0-dow-1-wea-0-pre-0',\n",
       " 'aint-1-gid-1-tod-1-dow-0-wea-0-pre-1-loc-0': 'aint-1-tod-1-dow-0-wea-0-pre-1',\n",
       " 'aint-1-gid-1-tod-2-dow-0-wea-1-pre-0-loc-0': 'aint-1-tod-2-dow-0-wea-1-pre-0',\n",
       " 'aint-0-gid-2-tod-0-dow-0-wea-0-pre-0-loc-1': 'aint-0-gid-2-tod-0-dow-0-wea-0-pre-0-loc-1',\n",
       " 'aint-0-gid-1-tod-0-dow-1-wea-0-pre-0-loc-1': 'aint-0-tod-0-dow-1-wea-0-pre-0',\n",
       " 'aint-1-gid-2-tod-2-dow-1-wea-0-pre-1-loc-1': 'aint-1-gid-2-dow-1-wea-0-pre-1',\n",
       " 'aint-1-gid-1-tod-1-dow-0-wea-0-pre-0-loc-0': 'aint-1-tod-1-dow-0-wea-0-pre-0',\n",
       " 'aint-0-gid-1-tod-0-dow-0-wea-1-pre-0-loc-1': 'aint-0-gid-1-tod-0-dow-0-wea-1-pre-0-loc-1',\n",
       " 'aint-0-gid-2-tod-0-dow-0-wea-1-pre-0-loc-1': 'aint-0-gid-2-tod-0-dow-0-wea-1-pre-0-loc-1',\n",
       " 'aint-1-gid-2-tod-0-dow-1-wea-0-pre-0-loc-1': 'aint-1-gid-2-tod-0-dow-1-wea-0-pre-0',\n",
       " 'aint-0-gid-1-tod-1-dow-0-wea-1-pre-0-loc-1': 'aint-0-gid-1-tod-1-dow-0-wea-1-pre-0',\n",
       " 'aint-0-gid-1-tod-2-dow-1-wea-1-pre-1-loc-1': 'aint-0-dow-1-wea-1-pre-1'}"
      ]
     },
     "execution_count": 114,
     "metadata": {},
     "output_type": "execute_result"
    }
   ],
   "source": [
    "matches_act"
   ]
  },
  {
   "cell_type": "code",
   "execution_count": null,
   "metadata": {},
   "outputs": [],
   "source": []
  }
 ],
 "metadata": {
  "kernelspec": {
   "display_name": "Python 3",
   "language": "python",
   "name": "python3"
  }
 },
 "nbformat": 4,
 "nbformat_minor": 2
}
