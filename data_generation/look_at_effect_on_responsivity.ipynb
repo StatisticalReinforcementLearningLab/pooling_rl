{
 "cells": [
  {
   "cell_type": "code",
   "execution_count": 299,
   "metadata": {
    "collapsed": true
   },
   "outputs": [],
   "source": [
    "import pickle\n",
    "import numpy as np\n",
    "import pandas as pd\n",
    "from sklearn import preprocessing\n",
    "from sklearn.feature_selection import RFECV\n",
    "from sklearn.svm import SVR\n",
    "from sklearn.feature_selection import SelectPercentile\n",
    "from sklearn.feature_selection import f_regression\n",
    "from sklearn.model_selection import cross_val_score\n",
    "from sklearn.pipeline import Pipeline\n",
    "from sklearn.ensemble import ExtraTreesRegressor\n",
    "import operator"
   ]
  },
  {
   "cell_type": "code",
   "execution_count": 2,
   "metadata": {
    "collapsed": true
   },
   "outputs": [],
   "source": [
    "def adjust_to_thirty_minute(steps):\n",
    "    return steps.fillna(0).tz_localize(None).resample('30T').sum().fillna(0)"
   ]
  },
  {
   "cell_type": "code",
   "execution_count": 3,
   "metadata": {
    "collapsed": true
   },
   "outputs": [],
   "source": [
    "def get_processed(file_name):\n",
    "    \n",
    "    root = '../../../../Volumes/dav/HeartSteps/pooling_rl_shared_data/processed/'\n",
    "    with open('{}{}.pkl'.format(root,file_name),'rb') as f:\n",
    "        return pickle.load(f)"
   ]
  },
  {
   "cell_type": "code",
   "execution_count": 4,
   "metadata": {
    "collapsed": true
   },
   "outputs": [],
   "source": [
    "merged = get_processed('merged_est')"
   ]
  },
  {
   "cell_type": "code",
   "execution_count": null,
   "metadata": {
    "collapsed": false
   },
   "outputs": [],
   "source": []
  },
  {
   "cell_type": "code",
   "execution_count": null,
   "metadata": {
    "collapsed": false
   },
   "outputs": [],
   "source": []
  },
  {
   "cell_type": "code",
   "execution_count": 277,
   "metadata": {
    "collapsed": true
   },
   "outputs": [],
   "source": [
    "def get_target_indices(df):\n",
    "    return df.loc[(df['send.active'] == True)&(df['avail'] == True  )].index"
   ]
  },
  {
   "cell_type": "code",
   "execution_count": 80,
   "metadata": {
    "collapsed": true
   },
   "outputs": [],
   "source": [
    "def get_near_targets(targets):\n",
    "    return targets.round('30T').tz_localize(None)"
   ]
  },
  {
   "cell_type": "code",
   "execution_count": 24,
   "metadata": {
    "collapsed": true
   },
   "outputs": [],
   "source": [
    "targets = get_target_indices(merged[1])"
   ]
  },
  {
   "cell_type": "code",
   "execution_count": 25,
   "metadata": {
    "collapsed": false
   },
   "outputs": [],
   "source": [
    "targets = get_near_targets(targets)"
   ]
  },
  {
   "cell_type": "code",
   "execution_count": 315,
   "metadata": {
    "collapsed": false
   },
   "outputs": [],
   "source": [
    "def measure_responsivity(df):\n",
    "    steps = adjust_to_thirty_minute(df['steps'])\n",
    "    targets = get_target_indices(df)\n",
    "    targets = get_near_targets(targets)\n",
    "    to_return = []\n",
    "    for t in targets:\n",
    "        before = t- pd.DateOffset(minutes=30)\n",
    "        after = t\n",
    "        sb = steps[before]\n",
    "        sa = steps[after]\n",
    "        #/(sb+1\n",
    "        to_return.append((sa-sb)/(sb+1))\n",
    "    return to_return"
   ]
  },
  {
   "cell_type": "code",
   "execution_count": null,
   "metadata": {
    "collapsed": false
   },
   "outputs": [],
   "source": []
  },
  {
   "cell_type": "code",
   "execution_count": 279,
   "metadata": {
    "collapsed": true
   },
   "outputs": [],
   "source": [
    "def make_feature_matrix():\n",
    "    other = get_processed('other_activity')\n",
    "    agg_consc = get_processed('agg_conscientiousness_measures')\n",
    "    agg_selfeff = get_processed('agg_self_efficacy_measures')\n",
    "    agg_actchoice = get_processed('agg_activity_choice_measures')\n",
    "    other_keys = list(other[1].keys())\n",
    "    #other_keys = ['vigact.days','vigact.hrs','vigact.min','modact.days']\n",
    "    pids = [p for p in other.keys() if p!=4]\n",
    "    \n",
    "    to_return = []\n",
    "    feature_names = other_keys+['conscientiousness']+['self_efficacy']+['activity_choice']\n",
    "    \n",
    "    for p in pids:\n",
    "        temp = [other[p][o] for o in other_keys]\n",
    "        temp.append(agg_consc[p])\n",
    "        temp.append(agg_selfeff[p])\n",
    "        temp.append(agg_actchoice[p])\n",
    "        to_return.append(temp)\n",
    "    return to_return,feature_names,pids"
   ]
  },
  {
   "cell_type": "code",
   "execution_count": 280,
   "metadata": {
    "collapsed": false
   },
   "outputs": [],
   "source": [
    "X,fn,pids = make_feature_matrix()"
   ]
  },
  {
   "cell_type": "code",
   "execution_count": null,
   "metadata": {
    "collapsed": true
   },
   "outputs": [],
   "source": []
  },
  {
   "cell_type": "code",
   "execution_count": null,
   "metadata": {
    "collapsed": false
   },
   "outputs": [],
   "source": []
  },
  {
   "cell_type": "code",
   "execution_count": 281,
   "metadata": {
    "collapsed": false
   },
   "outputs": [],
   "source": [
    "def fix(x):\n",
    "    to_return = []\n",
    "    for i in x:\n",
    "        if type(i)==str:\n",
    "            if i=='no':\n",
    "                to_return.append(0)\n",
    "            elif i=='yes':\n",
    "                to_return.append(1)\n",
    "            elif i=='X':\n",
    "                to_return.append(0)\n",
    "            else:\n",
    "                #print(i)\n",
    "                if pd.isnull(float(i)):\n",
    "                    print(i)\n",
    "                to_return.append(float(i))\n",
    "        else:\n",
    "            if pd.isnull(float(i)):\n",
    "                    i = 0\n",
    "            to_return.append(i)\n",
    "    return to_return"
   ]
  },
  {
   "cell_type": "code",
   "execution_count": 282,
   "metadata": {
    "collapsed": false
   },
   "outputs": [],
   "source": [
    "X = [fix(x) for x in X]"
   ]
  },
  {
   "cell_type": "code",
   "execution_count": null,
   "metadata": {
    "collapsed": false
   },
   "outputs": [],
   "source": []
  },
  {
   "cell_type": "code",
   "execution_count": 283,
   "metadata": {
    "collapsed": false
   },
   "outputs": [],
   "source": [
    "X_scaled = preprocessing.scale(X)"
   ]
  },
  {
   "cell_type": "code",
   "execution_count": 284,
   "metadata": {
    "collapsed": false
   },
   "outputs": [],
   "source": [
    "def get_training_data_responsivity(pids):\n",
    "    merged = get_processed('merged_est')\n",
    "    to_return = {}\n",
    "    for p in pids:\n",
    "        if p in merged:\n",
    "            df  = merged[p]\n",
    "            #steps = adjust_to_thirty_minute(df['steps'])\n",
    "            y = measure_responsivity(df)\n",
    "            to_return[p]=y\n",
    "    return to_return"
   ]
  },
  {
   "cell_type": "code",
   "execution_count": 321,
   "metadata": {
    "collapsed": false
   },
   "outputs": [],
   "source": [
    "steps = get_training_data_responsivity(pids)"
   ]
  },
  {
   "cell_type": "code",
   "execution_count": 322,
   "metadata": {
    "collapsed": false
   },
   "outputs": [],
   "source": [
    "pid_lookup = {pids[i]:i for i in range(len(pids))}"
   ]
  },
  {
   "cell_type": "code",
   "execution_count": 323,
   "metadata": {
    "collapsed": true
   },
   "outputs": [],
   "source": [
    "def make_matrix_for_first_analysis(steps,pid_lookup,X):\n",
    "    \n",
    "    big_matrix_X = []\n",
    "    big_matrix_y = []\n",
    "    for pid,stepcount in steps.items():\n",
    "        for s in stepcount:\n",
    "            big_matrix_X.append(X[pid_lookup[pid]])\n",
    "            big_matrix_y.append(s)\n",
    "    return big_matrix_X,big_matrix_y\n",
    "        "
   ]
  },
  {
   "cell_type": "code",
   "execution_count": 324,
   "metadata": {
    "collapsed": true
   },
   "outputs": [],
   "source": [
    "bx,by = make_matrix_for_first_analysis(steps,pid_lookup,X_scaled)"
   ]
  },
  {
   "cell_type": "code",
   "execution_count": 325,
   "metadata": {
    "collapsed": false
   },
   "outputs": [],
   "source": [
    "by_scaled = preprocessing.scale(by)"
   ]
  },
  {
   "cell_type": "code",
   "execution_count": 326,
   "metadata": {
    "collapsed": false
   },
   "outputs": [],
   "source": [
    "et = ExtraTreesRegressor(n_estimators=10, max_features=16,\n",
    "                                       random_state=0)"
   ]
  },
  {
   "cell_type": "code",
   "execution_count": 327,
   "metadata": {
    "collapsed": false
   },
   "outputs": [
    {
     "data": {
      "text/plain": [
       "ExtraTreesRegressor(bootstrap=False, criterion='mse', max_depth=None,\n",
       "          max_features=16, max_leaf_nodes=None, min_impurity_decrease=0.0,\n",
       "          min_impurity_split=None, min_samples_leaf=1, min_samples_split=2,\n",
       "          min_weight_fraction_leaf=0.0, n_estimators=10, n_jobs=1,\n",
       "          oob_score=False, random_state=0, verbose=0, warm_start=False)"
      ]
     },
     "execution_count": 327,
     "metadata": {},
     "output_type": "execute_result"
    }
   ],
   "source": [
    "et.fit(bx, by)"
   ]
  },
  {
   "cell_type": "code",
   "execution_count": 328,
   "metadata": {
    "collapsed": false
   },
   "outputs": [
    {
     "data": {
      "text/plain": [
       "array([ 0.01873823,  0.03948614,  0.14745533,  0.05488882,  0.06392793,\n",
       "        0.        ,  0.27674769,  0.03747015,  0.04742855,  0.01946472,\n",
       "        0.02847807,  0.01255071,  0.04731204,  0.06980254,  0.07513629,\n",
       "        0.0611128 ])"
      ]
     },
     "execution_count": 328,
     "metadata": {},
     "output_type": "execute_result"
    }
   ],
   "source": [
    "et.feature_importances_"
   ]
  },
  {
   "cell_type": "code",
   "execution_count": 329,
   "metadata": {
    "collapsed": true
   },
   "outputs": [],
   "source": [
    "def nice_dict(feats,fns):\n",
    "    \n",
    "    to_return = {fns[i]:feats[i] for i in range(len(feats))}\n",
    "    return sorted(to_return.items(), key=operator.itemgetter(1),reverse=True)"
   ]
  },
  {
   "cell_type": "code",
   "execution_count": 330,
   "metadata": {
    "collapsed": false
   },
   "outputs": [
    {
     "data": {
      "text/plain": [
       "[('modact.days', 0.27674768512445341),\n",
       " ('modact.min', 0.14745533328974098),\n",
       " ('self_efficacy', 0.075136294115016072),\n",
       " ('conscientiousness', 0.069802538259117711),\n",
       " ('vigact.days', 0.063927925620420725),\n",
       " ('activity_choice', 0.061112796416797711),\n",
       " ('walk10.days', 0.054888816054769154),\n",
       " ('walk.min', 0.047428553292749247),\n",
       " ('modact.hrs', 0.047312044351381456),\n",
       " ('sit.hrs', 0.039486144703674543),\n",
       " ('vigact.min', 0.037470146926060224),\n",
       " ('fittracker', 0.028478071720180027),\n",
       " ('walk.hrs', 0.01946471689100062),\n",
       " ('fitapp', 0.018738226984113766),\n",
       " ('vigact.hrs', 0.012550706250524343),\n",
       " ('sit.min', 0.0)]"
      ]
     },
     "execution_count": 330,
     "metadata": {},
     "output_type": "execute_result"
    }
   ],
   "source": [
    "nice_dict(et.feature_importances_,fn)"
   ]
  },
  {
   "cell_type": "code",
   "execution_count": 304,
   "metadata": {
    "collapsed": false
   },
   "outputs": [
    {
     "data": {
      "text/plain": [
       "16"
      ]
     },
     "execution_count": 304,
     "metadata": {},
     "output_type": "execute_result"
    }
   ],
   "source": []
  },
  {
   "cell_type": "code",
   "execution_count": null,
   "metadata": {
    "collapsed": true
   },
   "outputs": [],
   "source": []
  }
 ],
 "metadata": {
  "anaconda-cloud": {},
  "kernelspec": {
   "display_name": "Python [Root]",
   "language": "python",
   "name": "Python [Root]"
  },
  "language_info": {
   "codemirror_mode": {
    "name": "ipython",
    "version": 3
   },
   "file_extension": ".py",
   "mimetype": "text/x-python",
   "name": "python",
   "nbconvert_exporter": "python",
   "pygments_lexer": "ipython3",
   "version": "3.5.6"
  }
 },
 "nbformat": 4,
 "nbformat_minor": 0
}
