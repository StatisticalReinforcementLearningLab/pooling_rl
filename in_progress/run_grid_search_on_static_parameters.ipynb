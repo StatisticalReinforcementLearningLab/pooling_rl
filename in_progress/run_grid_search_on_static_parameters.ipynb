{
 "cells": [
  {
   "cell_type": "code",
   "execution_count": 1,
   "metadata": {},
   "outputs": [],
   "source": [
    "##get data\n",
    "import numpy as np\n",
    "import sys\n",
    "sys.path\n",
    "sys.path.append('../models')\n",
    "import pickle\n",
    "import math\n",
    "import tensorflow as tf\n",
    "import gpflow"
   ]
  },
  {
   "cell_type": "code",
   "execution_count": 2,
   "metadata": {},
   "outputs": [],
   "source": [
    "##set grid\n",
    "u1 = np.arange(.1,1.1,.1)\n",
    "u2 = np.arange(.1,1.1,.1)\n",
    "rho = np.arange(.1,1.1,.2)"
   ]
  },
  {
   "cell_type": "code",
   "execution_count": 3,
   "metadata": {},
   "outputs": [],
   "source": [
    "v1 = np.arange(1,10,1)\n",
    "v2 = np.arange(1,10,1)"
   ]
  },
  {
   "cell_type": "code",
   "execution_count": 4,
   "metadata": {},
   "outputs": [],
   "source": [
    "noise = np.arange(.1,1.1,.1)"
   ]
  },
  {
   "cell_type": "code",
   "execution_count": 5,
   "metadata": {},
   "outputs": [],
   "source": [
    "with open('../../Downloads/processed_data_for_gridsearch_GP.pkl','rb') as f:\n",
    "    data = pickle.load(f)"
   ]
  },
  {
   "cell_type": "code",
   "execution_count": 26,
   "metadata": {},
   "outputs": [],
   "source": [
    "X=data[0]\n",
    "y=data[1]"
   ]
  },
  {
   "cell_type": "code",
   "execution_count": 7,
   "metadata": {},
   "outputs": [],
   "source": [
    "def rbf_custom_np( X, X2=None):\n",
    "        #print(X)\n",
    "        #print(X2)\n",
    "        if X2 is None:\n",
    "             X2=X\n",
    "        return math.exp(-((X-X2)**2)/1.0)\n",
    "        #tf.divide(tf.square(-tf.subtract(X,X2)),tf.constant(1.0,dtype=tf.float64)))\n"
   ]
  },
  {
   "cell_type": "code",
   "execution_count": 8,
   "metadata": {},
   "outputs": [],
   "source": [
    "import CustomKernelStatic"
   ]
  },
  {
   "cell_type": "code",
   "execution_count": 23,
   "metadata": {},
   "outputs": [],
   "source": [
    "def get_likelihood(u1,u2,s1,s2,rho,noise,X,y,rhos,users):\n",
    "    sess = tf.Session()\n",
    "    k =  CustomKernelStatic.CustomKernelStatic(20,mysession=sess,rhos=rhos,select_users=users,baseline_indices=[i for i in range(18)],\\\n",
    "                  psi_indices=[0,7],user_day_index=19,user_index=18,num_data_points=len(X),initial_u1=u1,initial_u2=u2,\\\n",
    "                           initial_s1=s1,initial_s2=s2,initial_rho=rho,initial_noise=noise)\n",
    "  \n",
    "    m = gpflow.models.GPR(X,y, kern=k)\n",
    "    m.initialize(session=sess)\n",
    " \n",
    "    try:\n",
    "        l =m.compute_log_likelihood(X)\n",
    "        print('huzzah')\n",
    "        print(l)\n",
    "    except:\n",
    "        l=-100\n",
    "        \n",
    "    sess.close()\n",
    "    return l\n",
    "    ##get likelihood #return likelihood"
   ]
  },
  {
   "cell_type": "code",
   "execution_count": 32,
   "metadata": {},
   "outputs": [],
   "source": [
    "def run():\n",
    "    to_save = {}\n",
    "    u1 = np.arange(.1,1.1,.1)\n",
    "    u2 = np.arange(.1,1.1,.1)\n",
    "    first_rhos = np.arange(.1,1.1,.2)\n",
    "    v1 = np.arange(1,10,1)\n",
    "    v2 = np.arange(1,10,1)\n",
    "    noise = np.arange(.1,1.1,.1)\n",
    "    \n",
    "    with open('../../Downloads/processed_data_for_gridsearch_GP.pkl','rb') as f:\n",
    "        data = pickle.load(f)\n",
    "    \n",
    "    X=data[0]\n",
    "    y=data[1]\n",
    "    \n",
    "    rdayone = [x[19] for x in X]\n",
    "    rdaytwo = rdayone\n",
    "    rhos = np.array([[rbf_custom_np( rdayone[i], X2=rdaytwo[j]) for j in range(len(X))] for i in range(len(X))])\n",
    "    users = np.array([[float(X[i][18]==X[j][18]) for j in range(len(X))] for i in range(len(X))])\n",
    "    \n",
    "    print(X.shape)\n",
    "    print(y.shape)\n",
    "    \n",
    "    for uone in u1:\n",
    "        for utwo in u2:\n",
    "            for rho in first_rhos:\n",
    "                for s1 in v1:\n",
    "                    for s2 in v2:\n",
    "                        for n in noise:\n",
    "                            likli=get_likelihood(uone,uone,s1,s2,rho,n,X,y,rhos,users)\n",
    "                            print(m)\n",
    "                            key = '-'.join([str(i) for i in[uone,utwo,rho,s1,s2,n]])\n",
    "                            to_save[key]=likli\n",
    "                            \n",
    "    return to_save"
   ]
  },
  {
   "cell_type": "code",
   "execution_count": 25,
   "metadata": {},
   "outputs": [
    {
     "name": "stdout",
     "output_type": "stream",
     "text": [
      "ERROR:tensorflow:==================================\n",
      "Object was never used (type <class 'tensorflow.python.framework.ops.Tensor'>):\n",
      "<tf.Tensor 'CustomKernelStatic-5045acf2-0/noise_term/IsVariableInitialized:0' shape=() dtype=bool>\n",
      "If you want to mark it as used call its \"mark_used()\" method.\n",
      "It was originally created here:\n",
      "  File \"/Users/sabina/anaconda3/envs/py36/lib/python3.6/site-packages/IPython/core/interactiveshell.py\", line 3287, in run_code\n",
      "    return outflag  File \"<ipython-input-13-ec9775ede022>\", line 1, in <module>\n",
      "    run()  File \"<ipython-input-12-9c8d55ffcabc>\", line 27, in run\n",
      "    m=get_likelihood(uone,uone,s1,s2,rho,n)  File \"<ipython-input-9-5aa6ef4553db>\", line 7, in get_likelihood\n",
      "    m = gpflow.models.GPR(X,y, kern=k)  File \"/Users/sabina/anaconda3/envs/py36/lib/python3.6/site-packages/gpflow/core/compilable.py\", line 91, in __init__\n",
      "    self.initialize(force=True)  File \"/Users/sabina/anaconda3/envs/py36/lib/python3.6/site-packages/gpflow/core/node.py\", line 156, in build\n",
      "    self._build()  File \"/Users/sabina/anaconda3/envs/py36/lib/python3.6/site-packages/gpflow/params/parameterized.py\", line 302, in _build\n",
      "    self._prior_tensor = self._build_prior(priors)  File \"/Users/sabina/anaconda3/envs/py36/lib/python3.6/site-packages/gpflow/core/node.py\", line 156, in build\n",
      "    self._build()  File \"/Users/sabina/anaconda3/envs/py36/lib/python3.6/site-packages/gpflow/params/parameter.py\", line 372, in _build\n",
      "    self._prior_tensor = prior  File \"/Users/sabina/anaconda3/envs/py36/lib/python3.6/site-packages/tensorflow/python/util/tf_should_use.py\", line 189, in wrapped\n",
      "    return _add_should_use_warning(fn(*args, **kwargs))\n",
      "==================================\n"
     ]
    },
    {
     "name": "stderr",
     "output_type": "stream",
     "text": [
      "ERROR:tensorflow:==================================\n",
      "Object was never used (type <class 'tensorflow.python.framework.ops.Tensor'>):\n",
      "<tf.Tensor 'CustomKernelStatic-5045acf2-0/noise_term/IsVariableInitialized:0' shape=() dtype=bool>\n",
      "If you want to mark it as used call its \"mark_used()\" method.\n",
      "It was originally created here:\n",
      "  File \"/Users/sabina/anaconda3/envs/py36/lib/python3.6/site-packages/IPython/core/interactiveshell.py\", line 3287, in run_code\n",
      "    return outflag  File \"<ipython-input-13-ec9775ede022>\", line 1, in <module>\n",
      "    run()  File \"<ipython-input-12-9c8d55ffcabc>\", line 27, in run\n",
      "    m=get_likelihood(uone,uone,s1,s2,rho,n)  File \"<ipython-input-9-5aa6ef4553db>\", line 7, in get_likelihood\n",
      "    m = gpflow.models.GPR(X,y, kern=k)  File \"/Users/sabina/anaconda3/envs/py36/lib/python3.6/site-packages/gpflow/core/compilable.py\", line 91, in __init__\n",
      "    self.initialize(force=True)  File \"/Users/sabina/anaconda3/envs/py36/lib/python3.6/site-packages/gpflow/core/node.py\", line 156, in build\n",
      "    self._build()  File \"/Users/sabina/anaconda3/envs/py36/lib/python3.6/site-packages/gpflow/params/parameterized.py\", line 302, in _build\n",
      "    self._prior_tensor = self._build_prior(priors)  File \"/Users/sabina/anaconda3/envs/py36/lib/python3.6/site-packages/gpflow/core/node.py\", line 156, in build\n",
      "    self._build()  File \"/Users/sabina/anaconda3/envs/py36/lib/python3.6/site-packages/gpflow/params/parameter.py\", line 372, in _build\n",
      "    self._prior_tensor = prior  File \"/Users/sabina/anaconda3/envs/py36/lib/python3.6/site-packages/tensorflow/python/util/tf_should_use.py\", line 189, in wrapped\n",
      "    return _add_should_use_warning(fn(*args, **kwargs))\n",
      "==================================\n"
     ]
    },
    {
     "name": "stdout",
     "output_type": "stream",
     "text": [
      "ERROR:tensorflow:==================================\n",
      "Object was never used (type <class 'tensorflow.python.framework.ops.Tensor'>):\n",
      "<tf.Tensor 'CustomKernelStatic-5045acf2-0/sigma_rho/IsVariableInitialized:0' shape=() dtype=bool>\n",
      "If you want to mark it as used call its \"mark_used()\" method.\n",
      "It was originally created here:\n",
      "  File \"/Users/sabina/anaconda3/envs/py36/lib/python3.6/site-packages/IPython/core/interactiveshell.py\", line 3287, in run_code\n",
      "    return outflag  File \"<ipython-input-13-ec9775ede022>\", line 1, in <module>\n",
      "    run()  File \"<ipython-input-12-9c8d55ffcabc>\", line 27, in run\n",
      "    m=get_likelihood(uone,uone,s1,s2,rho,n)  File \"<ipython-input-9-5aa6ef4553db>\", line 7, in get_likelihood\n",
      "    m = gpflow.models.GPR(X,y, kern=k)  File \"/Users/sabina/anaconda3/envs/py36/lib/python3.6/site-packages/gpflow/core/compilable.py\", line 91, in __init__\n",
      "    self.initialize(force=True)  File \"/Users/sabina/anaconda3/envs/py36/lib/python3.6/site-packages/gpflow/core/node.py\", line 156, in build\n",
      "    self._build()  File \"/Users/sabina/anaconda3/envs/py36/lib/python3.6/site-packages/gpflow/params/parameterized.py\", line 302, in _build\n",
      "    self._prior_tensor = self._build_prior(priors)  File \"/Users/sabina/anaconda3/envs/py36/lib/python3.6/site-packages/gpflow/core/node.py\", line 156, in build\n",
      "    self._build()  File \"/Users/sabina/anaconda3/envs/py36/lib/python3.6/site-packages/gpflow/params/parameter.py\", line 372, in _build\n",
      "    self._prior_tensor = prior  File \"/Users/sabina/anaconda3/envs/py36/lib/python3.6/site-packages/tensorflow/python/util/tf_should_use.py\", line 189, in wrapped\n",
      "    return _add_should_use_warning(fn(*args, **kwargs))\n",
      "==================================\n"
     ]
    },
    {
     "name": "stderr",
     "output_type": "stream",
     "text": [
      "ERROR:tensorflow:==================================\n",
      "Object was never used (type <class 'tensorflow.python.framework.ops.Tensor'>):\n",
      "<tf.Tensor 'CustomKernelStatic-5045acf2-0/sigma_rho/IsVariableInitialized:0' shape=() dtype=bool>\n",
      "If you want to mark it as used call its \"mark_used()\" method.\n",
      "It was originally created here:\n",
      "  File \"/Users/sabina/anaconda3/envs/py36/lib/python3.6/site-packages/IPython/core/interactiveshell.py\", line 3287, in run_code\n",
      "    return outflag  File \"<ipython-input-13-ec9775ede022>\", line 1, in <module>\n",
      "    run()  File \"<ipython-input-12-9c8d55ffcabc>\", line 27, in run\n",
      "    m=get_likelihood(uone,uone,s1,s2,rho,n)  File \"<ipython-input-9-5aa6ef4553db>\", line 7, in get_likelihood\n",
      "    m = gpflow.models.GPR(X,y, kern=k)  File \"/Users/sabina/anaconda3/envs/py36/lib/python3.6/site-packages/gpflow/core/compilable.py\", line 91, in __init__\n",
      "    self.initialize(force=True)  File \"/Users/sabina/anaconda3/envs/py36/lib/python3.6/site-packages/gpflow/core/node.py\", line 156, in build\n",
      "    self._build()  File \"/Users/sabina/anaconda3/envs/py36/lib/python3.6/site-packages/gpflow/params/parameterized.py\", line 302, in _build\n",
      "    self._prior_tensor = self._build_prior(priors)  File \"/Users/sabina/anaconda3/envs/py36/lib/python3.6/site-packages/gpflow/core/node.py\", line 156, in build\n",
      "    self._build()  File \"/Users/sabina/anaconda3/envs/py36/lib/python3.6/site-packages/gpflow/params/parameter.py\", line 372, in _build\n",
      "    self._prior_tensor = prior  File \"/Users/sabina/anaconda3/envs/py36/lib/python3.6/site-packages/tensorflow/python/util/tf_should_use.py\", line 189, in wrapped\n",
      "    return _add_should_use_warning(fn(*args, **kwargs))\n",
      "==================================\n"
     ]
    },
    {
     "name": "stdout",
     "output_type": "stream",
     "text": [
      "ERROR:tensorflow:==================================\n",
      "Object was never used (type <class 'tensorflow.python.framework.ops.Tensor'>):\n",
      "<tf.Tensor 'CustomKernelStatic-5045acf2-0/sigma_u1/IsVariableInitialized:0' shape=() dtype=bool>\n",
      "If you want to mark it as used call its \"mark_used()\" method.\n",
      "It was originally created here:\n",
      "  File \"/Users/sabina/anaconda3/envs/py36/lib/python3.6/site-packages/IPython/core/interactiveshell.py\", line 3287, in run_code\n",
      "    return outflag  File \"<ipython-input-13-ec9775ede022>\", line 1, in <module>\n",
      "    run()  File \"<ipython-input-12-9c8d55ffcabc>\", line 27, in run\n",
      "    m=get_likelihood(uone,uone,s1,s2,rho,n)  File \"<ipython-input-9-5aa6ef4553db>\", line 7, in get_likelihood\n",
      "    m = gpflow.models.GPR(X,y, kern=k)  File \"/Users/sabina/anaconda3/envs/py36/lib/python3.6/site-packages/gpflow/core/compilable.py\", line 91, in __init__\n",
      "    self.initialize(force=True)  File \"/Users/sabina/anaconda3/envs/py36/lib/python3.6/site-packages/gpflow/core/node.py\", line 156, in build\n",
      "    self._build()  File \"/Users/sabina/anaconda3/envs/py36/lib/python3.6/site-packages/gpflow/params/parameterized.py\", line 302, in _build\n",
      "    self._prior_tensor = self._build_prior(priors)  File \"/Users/sabina/anaconda3/envs/py36/lib/python3.6/site-packages/gpflow/core/node.py\", line 156, in build\n",
      "    self._build()  File \"/Users/sabina/anaconda3/envs/py36/lib/python3.6/site-packages/gpflow/params/parameter.py\", line 372, in _build\n",
      "    self._prior_tensor = prior  File \"/Users/sabina/anaconda3/envs/py36/lib/python3.6/site-packages/tensorflow/python/util/tf_should_use.py\", line 189, in wrapped\n",
      "    return _add_should_use_warning(fn(*args, **kwargs))\n",
      "==================================\n"
     ]
    },
    {
     "name": "stderr",
     "output_type": "stream",
     "text": [
      "ERROR:tensorflow:==================================\n",
      "Object was never used (type <class 'tensorflow.python.framework.ops.Tensor'>):\n",
      "<tf.Tensor 'CustomKernelStatic-5045acf2-0/sigma_u1/IsVariableInitialized:0' shape=() dtype=bool>\n",
      "If you want to mark it as used call its \"mark_used()\" method.\n",
      "It was originally created here:\n",
      "  File \"/Users/sabina/anaconda3/envs/py36/lib/python3.6/site-packages/IPython/core/interactiveshell.py\", line 3287, in run_code\n",
      "    return outflag  File \"<ipython-input-13-ec9775ede022>\", line 1, in <module>\n",
      "    run()  File \"<ipython-input-12-9c8d55ffcabc>\", line 27, in run\n",
      "    m=get_likelihood(uone,uone,s1,s2,rho,n)  File \"<ipython-input-9-5aa6ef4553db>\", line 7, in get_likelihood\n",
      "    m = gpflow.models.GPR(X,y, kern=k)  File \"/Users/sabina/anaconda3/envs/py36/lib/python3.6/site-packages/gpflow/core/compilable.py\", line 91, in __init__\n",
      "    self.initialize(force=True)  File \"/Users/sabina/anaconda3/envs/py36/lib/python3.6/site-packages/gpflow/core/node.py\", line 156, in build\n",
      "    self._build()  File \"/Users/sabina/anaconda3/envs/py36/lib/python3.6/site-packages/gpflow/params/parameterized.py\", line 302, in _build\n",
      "    self._prior_tensor = self._build_prior(priors)  File \"/Users/sabina/anaconda3/envs/py36/lib/python3.6/site-packages/gpflow/core/node.py\", line 156, in build\n",
      "    self._build()  File \"/Users/sabina/anaconda3/envs/py36/lib/python3.6/site-packages/gpflow/params/parameter.py\", line 372, in _build\n",
      "    self._prior_tensor = prior  File \"/Users/sabina/anaconda3/envs/py36/lib/python3.6/site-packages/tensorflow/python/util/tf_should_use.py\", line 189, in wrapped\n",
      "    return _add_should_use_warning(fn(*args, **kwargs))\n",
      "==================================\n"
     ]
    },
    {
     "name": "stdout",
     "output_type": "stream",
     "text": [
      "ERROR:tensorflow:==================================\n",
      "Object was never used (type <class 'tensorflow.python.framework.ops.Tensor'>):\n",
      "<tf.Tensor 'CustomKernelStatic-5045acf2-0/sigma_u2/IsVariableInitialized:0' shape=() dtype=bool>\n",
      "If you want to mark it as used call its \"mark_used()\" method.\n",
      "It was originally created here:\n",
      "  File \"/Users/sabina/anaconda3/envs/py36/lib/python3.6/site-packages/IPython/core/interactiveshell.py\", line 3287, in run_code\n",
      "    return outflag  File \"<ipython-input-13-ec9775ede022>\", line 1, in <module>\n",
      "    run()  File \"<ipython-input-12-9c8d55ffcabc>\", line 27, in run\n",
      "    m=get_likelihood(uone,uone,s1,s2,rho,n)  File \"<ipython-input-9-5aa6ef4553db>\", line 7, in get_likelihood\n",
      "    m = gpflow.models.GPR(X,y, kern=k)  File \"/Users/sabina/anaconda3/envs/py36/lib/python3.6/site-packages/gpflow/core/compilable.py\", line 91, in __init__\n",
      "    self.initialize(force=True)  File \"/Users/sabina/anaconda3/envs/py36/lib/python3.6/site-packages/gpflow/core/node.py\", line 156, in build\n",
      "    self._build()  File \"/Users/sabina/anaconda3/envs/py36/lib/python3.6/site-packages/gpflow/params/parameterized.py\", line 302, in _build\n",
      "    self._prior_tensor = self._build_prior(priors)  File \"/Users/sabina/anaconda3/envs/py36/lib/python3.6/site-packages/gpflow/core/node.py\", line 156, in build\n",
      "    self._build()  File \"/Users/sabina/anaconda3/envs/py36/lib/python3.6/site-packages/gpflow/params/parameter.py\", line 372, in _build\n",
      "    self._prior_tensor = prior  File \"/Users/sabina/anaconda3/envs/py36/lib/python3.6/site-packages/tensorflow/python/util/tf_should_use.py\", line 189, in wrapped\n",
      "    return _add_should_use_warning(fn(*args, **kwargs))\n",
      "==================================\n"
     ]
    },
    {
     "name": "stderr",
     "output_type": "stream",
     "text": [
      "ERROR:tensorflow:==================================\n",
      "Object was never used (type <class 'tensorflow.python.framework.ops.Tensor'>):\n",
      "<tf.Tensor 'CustomKernelStatic-5045acf2-0/sigma_u2/IsVariableInitialized:0' shape=() dtype=bool>\n",
      "If you want to mark it as used call its \"mark_used()\" method.\n",
      "It was originally created here:\n",
      "  File \"/Users/sabina/anaconda3/envs/py36/lib/python3.6/site-packages/IPython/core/interactiveshell.py\", line 3287, in run_code\n",
      "    return outflag  File \"<ipython-input-13-ec9775ede022>\", line 1, in <module>\n",
      "    run()  File \"<ipython-input-12-9c8d55ffcabc>\", line 27, in run\n",
      "    m=get_likelihood(uone,uone,s1,s2,rho,n)  File \"<ipython-input-9-5aa6ef4553db>\", line 7, in get_likelihood\n",
      "    m = gpflow.models.GPR(X,y, kern=k)  File \"/Users/sabina/anaconda3/envs/py36/lib/python3.6/site-packages/gpflow/core/compilable.py\", line 91, in __init__\n",
      "    self.initialize(force=True)  File \"/Users/sabina/anaconda3/envs/py36/lib/python3.6/site-packages/gpflow/core/node.py\", line 156, in build\n",
      "    self._build()  File \"/Users/sabina/anaconda3/envs/py36/lib/python3.6/site-packages/gpflow/params/parameterized.py\", line 302, in _build\n",
      "    self._prior_tensor = self._build_prior(priors)  File \"/Users/sabina/anaconda3/envs/py36/lib/python3.6/site-packages/gpflow/core/node.py\", line 156, in build\n",
      "    self._build()  File \"/Users/sabina/anaconda3/envs/py36/lib/python3.6/site-packages/gpflow/params/parameter.py\", line 372, in _build\n",
      "    self._prior_tensor = prior  File \"/Users/sabina/anaconda3/envs/py36/lib/python3.6/site-packages/tensorflow/python/util/tf_should_use.py\", line 189, in wrapped\n",
      "    return _add_should_use_warning(fn(*args, **kwargs))\n",
      "==================================\n"
     ]
    },
    {
     "name": "stdout",
     "output_type": "stream",
     "text": [
      "ERROR:tensorflow:==================================\n",
      "Object was never used (type <class 'tensorflow.python.framework.ops.Tensor'>):\n",
      "<tf.Tensor 'CustomKernelStatic-5045acf2-0/sigma_v/IsVariableInitialized:0' shape=() dtype=bool>\n",
      "If you want to mark it as used call its \"mark_used()\" method.\n",
      "It was originally created here:\n",
      "  File \"/Users/sabina/anaconda3/envs/py36/lib/python3.6/site-packages/IPython/core/interactiveshell.py\", line 3287, in run_code\n",
      "    return outflag  File \"<ipython-input-13-ec9775ede022>\", line 1, in <module>\n",
      "    run()  File \"<ipython-input-12-9c8d55ffcabc>\", line 27, in run\n",
      "    m=get_likelihood(uone,uone,s1,s2,rho,n)  File \"<ipython-input-9-5aa6ef4553db>\", line 7, in get_likelihood\n",
      "    m = gpflow.models.GPR(X,y, kern=k)  File \"/Users/sabina/anaconda3/envs/py36/lib/python3.6/site-packages/gpflow/core/compilable.py\", line 91, in __init__\n",
      "    self.initialize(force=True)  File \"/Users/sabina/anaconda3/envs/py36/lib/python3.6/site-packages/gpflow/core/node.py\", line 156, in build\n",
      "    self._build()  File \"/Users/sabina/anaconda3/envs/py36/lib/python3.6/site-packages/gpflow/params/parameterized.py\", line 302, in _build\n",
      "    self._prior_tensor = self._build_prior(priors)  File \"/Users/sabina/anaconda3/envs/py36/lib/python3.6/site-packages/gpflow/core/node.py\", line 156, in build\n",
      "    self._build()  File \"/Users/sabina/anaconda3/envs/py36/lib/python3.6/site-packages/gpflow/params/parameter.py\", line 372, in _build\n",
      "    self._prior_tensor = prior  File \"/Users/sabina/anaconda3/envs/py36/lib/python3.6/site-packages/tensorflow/python/util/tf_should_use.py\", line 189, in wrapped\n",
      "    return _add_should_use_warning(fn(*args, **kwargs))\n",
      "==================================\n"
     ]
    },
    {
     "name": "stderr",
     "output_type": "stream",
     "text": [
      "ERROR:tensorflow:==================================\n",
      "Object was never used (type <class 'tensorflow.python.framework.ops.Tensor'>):\n",
      "<tf.Tensor 'CustomKernelStatic-5045acf2-0/sigma_v/IsVariableInitialized:0' shape=() dtype=bool>\n",
      "If you want to mark it as used call its \"mark_used()\" method.\n",
      "It was originally created here:\n",
      "  File \"/Users/sabina/anaconda3/envs/py36/lib/python3.6/site-packages/IPython/core/interactiveshell.py\", line 3287, in run_code\n",
      "    return outflag  File \"<ipython-input-13-ec9775ede022>\", line 1, in <module>\n",
      "    run()  File \"<ipython-input-12-9c8d55ffcabc>\", line 27, in run\n",
      "    m=get_likelihood(uone,uone,s1,s2,rho,n)  File \"<ipython-input-9-5aa6ef4553db>\", line 7, in get_likelihood\n",
      "    m = gpflow.models.GPR(X,y, kern=k)  File \"/Users/sabina/anaconda3/envs/py36/lib/python3.6/site-packages/gpflow/core/compilable.py\", line 91, in __init__\n",
      "    self.initialize(force=True)  File \"/Users/sabina/anaconda3/envs/py36/lib/python3.6/site-packages/gpflow/core/node.py\", line 156, in build\n",
      "    self._build()  File \"/Users/sabina/anaconda3/envs/py36/lib/python3.6/site-packages/gpflow/params/parameterized.py\", line 302, in _build\n",
      "    self._prior_tensor = self._build_prior(priors)  File \"/Users/sabina/anaconda3/envs/py36/lib/python3.6/site-packages/gpflow/core/node.py\", line 156, in build\n",
      "    self._build()  File \"/Users/sabina/anaconda3/envs/py36/lib/python3.6/site-packages/gpflow/params/parameter.py\", line 372, in _build\n",
      "    self._prior_tensor = prior  File \"/Users/sabina/anaconda3/envs/py36/lib/python3.6/site-packages/tensorflow/python/util/tf_should_use.py\", line 189, in wrapped\n",
      "    return _add_should_use_warning(fn(*args, **kwargs))\n",
      "==================================\n"
     ]
    },
    {
     "name": "stdout",
     "output_type": "stream",
     "text": [
      "ERROR:tensorflow:==================================\n",
      "Object was never used (type <class 'tensorflow.python.framework.ops.Tensor'>):\n",
      "<tf.Tensor 'GPR-1b57a717-10/X/IsVariableInitialized:0' shape=() dtype=bool>\n",
      "If you want to mark it as used call its \"mark_used()\" method.\n",
      "It was originally created here:\n",
      "  File \"/Users/sabina/anaconda3/envs/py36/lib/python3.6/site-packages/IPython/core/interactiveshell.py\", line 3287, in run_code\n",
      "    return outflag  File \"<ipython-input-13-ec9775ede022>\", line 1, in <module>\n",
      "    run()  File \"<ipython-input-12-9c8d55ffcabc>\", line 27, in run\n",
      "    m=get_likelihood(uone,uone,s1,s2,rho,n)  File \"<ipython-input-9-5aa6ef4553db>\", line 7, in get_likelihood\n",
      "    m = gpflow.models.GPR(X,y, kern=k)  File \"/Users/sabina/anaconda3/envs/py36/lib/python3.6/site-packages/gpflow/core/compilable.py\", line 90, in __init__\n",
      "    self.build()  File \"/Users/sabina/anaconda3/envs/py36/lib/python3.6/site-packages/gpflow/core/node.py\", line 156, in build\n",
      "    self._build()  File \"/Users/sabina/anaconda3/envs/py36/lib/python3.6/site-packages/gpflow/models/model.py\", line 79, in _build\n",
      "    likelihood = self._build_likelihood()  File \"/Users/sabina/anaconda3/envs/py36/lib/python3.6/site-packages/gpflow/params/parameterized.py\", line 302, in _build\n",
      "    self._prior_tensor = self._build_prior(priors)  File \"/Users/sabina/anaconda3/envs/py36/lib/python3.6/site-packages/gpflow/core/node.py\", line 156, in build\n",
      "    self._build()  File \"/Users/sabina/anaconda3/envs/py36/lib/python3.6/site-packages/gpflow/params/dataholders.py\", line 91, in _build\n",
      "    self._is_initialized_tensor = tf.is_variable_initialized(tensor)  File \"/Users/sabina/anaconda3/envs/py36/lib/python3.6/site-packages/tensorflow/python/util/tf_should_use.py\", line 189, in wrapped\n",
      "    return _add_should_use_warning(fn(*args, **kwargs))\n",
      "==================================\n"
     ]
    },
    {
     "name": "stderr",
     "output_type": "stream",
     "text": [
      "ERROR:tensorflow:==================================\n",
      "Object was never used (type <class 'tensorflow.python.framework.ops.Tensor'>):\n",
      "<tf.Tensor 'GPR-1b57a717-10/X/IsVariableInitialized:0' shape=() dtype=bool>\n",
      "If you want to mark it as used call its \"mark_used()\" method.\n",
      "It was originally created here:\n",
      "  File \"/Users/sabina/anaconda3/envs/py36/lib/python3.6/site-packages/IPython/core/interactiveshell.py\", line 3287, in run_code\n",
      "    return outflag  File \"<ipython-input-13-ec9775ede022>\", line 1, in <module>\n",
      "    run()  File \"<ipython-input-12-9c8d55ffcabc>\", line 27, in run\n",
      "    m=get_likelihood(uone,uone,s1,s2,rho,n)  File \"<ipython-input-9-5aa6ef4553db>\", line 7, in get_likelihood\n",
      "    m = gpflow.models.GPR(X,y, kern=k)  File \"/Users/sabina/anaconda3/envs/py36/lib/python3.6/site-packages/gpflow/core/compilable.py\", line 90, in __init__\n",
      "    self.build()  File \"/Users/sabina/anaconda3/envs/py36/lib/python3.6/site-packages/gpflow/core/node.py\", line 156, in build\n",
      "    self._build()  File \"/Users/sabina/anaconda3/envs/py36/lib/python3.6/site-packages/gpflow/models/model.py\", line 79, in _build\n",
      "    likelihood = self._build_likelihood()  File \"/Users/sabina/anaconda3/envs/py36/lib/python3.6/site-packages/gpflow/params/parameterized.py\", line 302, in _build\n",
      "    self._prior_tensor = self._build_prior(priors)  File \"/Users/sabina/anaconda3/envs/py36/lib/python3.6/site-packages/gpflow/core/node.py\", line 156, in build\n",
      "    self._build()  File \"/Users/sabina/anaconda3/envs/py36/lib/python3.6/site-packages/gpflow/params/dataholders.py\", line 91, in _build\n",
      "    self._is_initialized_tensor = tf.is_variable_initialized(tensor)  File \"/Users/sabina/anaconda3/envs/py36/lib/python3.6/site-packages/tensorflow/python/util/tf_should_use.py\", line 189, in wrapped\n",
      "    return _add_should_use_warning(fn(*args, **kwargs))\n",
      "==================================\n"
     ]
    },
    {
     "name": "stdout",
     "output_type": "stream",
     "text": [
      "ERROR:tensorflow:==================================\n",
      "Object was never used (type <class 'tensorflow.python.framework.ops.Tensor'>):\n",
      "<tf.Tensor 'GPR-1b57a717-10/Y/IsVariableInitialized:0' shape=() dtype=bool>\n",
      "If you want to mark it as used call its \"mark_used()\" method.\n",
      "It was originally created here:\n",
      "  File \"/Users/sabina/anaconda3/envs/py36/lib/python3.6/site-packages/IPython/core/interactiveshell.py\", line 3287, in run_code\n",
      "    return outflag  File \"<ipython-input-13-ec9775ede022>\", line 1, in <module>\n",
      "    run()  File \"<ipython-input-12-9c8d55ffcabc>\", line 27, in run\n",
      "    m=get_likelihood(uone,uone,s1,s2,rho,n)  File \"<ipython-input-9-5aa6ef4553db>\", line 7, in get_likelihood\n",
      "    m = gpflow.models.GPR(X,y, kern=k)  File \"/Users/sabina/anaconda3/envs/py36/lib/python3.6/site-packages/gpflow/core/compilable.py\", line 90, in __init__\n",
      "    self.build()  File \"/Users/sabina/anaconda3/envs/py36/lib/python3.6/site-packages/gpflow/core/node.py\", line 156, in build\n",
      "    self._build()  File \"/Users/sabina/anaconda3/envs/py36/lib/python3.6/site-packages/gpflow/models/model.py\", line 79, in _build\n",
      "    likelihood = self._build_likelihood()  File \"/Users/sabina/anaconda3/envs/py36/lib/python3.6/site-packages/gpflow/params/parameterized.py\", line 302, in _build\n",
      "    self._prior_tensor = self._build_prior(priors)  File \"/Users/sabina/anaconda3/envs/py36/lib/python3.6/site-packages/gpflow/core/node.py\", line 156, in build\n",
      "    self._build()  File \"/Users/sabina/anaconda3/envs/py36/lib/python3.6/site-packages/gpflow/params/dataholders.py\", line 91, in _build\n",
      "    self._is_initialized_tensor = tf.is_variable_initialized(tensor)  File \"/Users/sabina/anaconda3/envs/py36/lib/python3.6/site-packages/tensorflow/python/util/tf_should_use.py\", line 189, in wrapped\n",
      "    return _add_should_use_warning(fn(*args, **kwargs))\n",
      "==================================\n"
     ]
    },
    {
     "name": "stderr",
     "output_type": "stream",
     "text": [
      "ERROR:tensorflow:==================================\n",
      "Object was never used (type <class 'tensorflow.python.framework.ops.Tensor'>):\n",
      "<tf.Tensor 'GPR-1b57a717-10/Y/IsVariableInitialized:0' shape=() dtype=bool>\n",
      "If you want to mark it as used call its \"mark_used()\" method.\n",
      "It was originally created here:\n",
      "  File \"/Users/sabina/anaconda3/envs/py36/lib/python3.6/site-packages/IPython/core/interactiveshell.py\", line 3287, in run_code\n",
      "    return outflag  File \"<ipython-input-13-ec9775ede022>\", line 1, in <module>\n",
      "    run()  File \"<ipython-input-12-9c8d55ffcabc>\", line 27, in run\n",
      "    m=get_likelihood(uone,uone,s1,s2,rho,n)  File \"<ipython-input-9-5aa6ef4553db>\", line 7, in get_likelihood\n",
      "    m = gpflow.models.GPR(X,y, kern=k)  File \"/Users/sabina/anaconda3/envs/py36/lib/python3.6/site-packages/gpflow/core/compilable.py\", line 90, in __init__\n",
      "    self.build()  File \"/Users/sabina/anaconda3/envs/py36/lib/python3.6/site-packages/gpflow/core/node.py\", line 156, in build\n",
      "    self._build()  File \"/Users/sabina/anaconda3/envs/py36/lib/python3.6/site-packages/gpflow/models/model.py\", line 79, in _build\n",
      "    likelihood = self._build_likelihood()  File \"/Users/sabina/anaconda3/envs/py36/lib/python3.6/site-packages/gpflow/params/parameterized.py\", line 302, in _build\n",
      "    self._prior_tensor = self._build_prior(priors)  File \"/Users/sabina/anaconda3/envs/py36/lib/python3.6/site-packages/gpflow/core/node.py\", line 156, in build\n",
      "    self._build()  File \"/Users/sabina/anaconda3/envs/py36/lib/python3.6/site-packages/gpflow/params/dataholders.py\", line 91, in _build\n",
      "    self._is_initialized_tensor = tf.is_variable_initialized(tensor)  File \"/Users/sabina/anaconda3/envs/py36/lib/python3.6/site-packages/tensorflow/python/util/tf_should_use.py\", line 189, in wrapped\n",
      "    return _add_should_use_warning(fn(*args, **kwargs))\n",
      "==================================\n"
     ]
    },
    {
     "name": "stdout",
     "output_type": "stream",
     "text": [
      "ERROR:tensorflow:==================================\n",
      "Object was never used (type <class 'tensorflow.python.framework.ops.Tensor'>):\n",
      "<tf.Tensor 'GPR-1b57a717-10/likelihood/variance/IsVariableInitialized:0' shape=() dtype=bool>\n",
      "If you want to mark it as used call its \"mark_used()\" method.\n",
      "It was originally created here:\n",
      "  File \"/Users/sabina/anaconda3/envs/py36/lib/python3.6/site-packages/IPython/core/interactiveshell.py\", line 3287, in run_code\n",
      "    return outflag  File \"<ipython-input-13-ec9775ede022>\", line 1, in <module>\n",
      "    run()  File \"<ipython-input-12-9c8d55ffcabc>\", line 27, in run\n",
      "    m=get_likelihood(uone,uone,s1,s2,rho,n)  File \"<ipython-input-9-5aa6ef4553db>\", line 7, in get_likelihood\n",
      "    m = gpflow.models.GPR(X,y, kern=k)  File \"/Users/sabina/anaconda3/envs/py36/lib/python3.6/site-packages/gpflow/core/compilable.py\", line 90, in __init__\n",
      "    self.build()  File \"/Users/sabina/anaconda3/envs/py36/lib/python3.6/site-packages/gpflow/core/node.py\", line 156, in build\n",
      "    self._build()  File \"/Users/sabina/anaconda3/envs/py36/lib/python3.6/site-packages/gpflow/models/model.py\", line 79, in _build\n",
      "    likelihood = self._build_likelihood()  File \"/Users/sabina/anaconda3/envs/py36/lib/python3.6/site-packages/gpflow/params/parameterized.py\", line 302, in _build\n",
      "    self._prior_tensor = self._build_prior(priors)  File \"/Users/sabina/anaconda3/envs/py36/lib/python3.6/site-packages/gpflow/core/node.py\", line 156, in build\n",
      "    self._build()  File \"/Users/sabina/anaconda3/envs/py36/lib/python3.6/site-packages/gpflow/params/parameterized.py\", line 302, in _build\n",
      "    self._prior_tensor = self._build_prior(priors)  File \"/Users/sabina/anaconda3/envs/py36/lib/python3.6/site-packages/gpflow/core/node.py\", line 156, in build\n",
      "    self._build()  File \"/Users/sabina/anaconda3/envs/py36/lib/python3.6/site-packages/gpflow/params/parameter.py\", line 372, in _build\n",
      "    self._prior_tensor = prior  File \"/Users/sabina/anaconda3/envs/py36/lib/python3.6/site-packages/tensorflow/python/util/tf_should_use.py\", line 189, in wrapped\n",
      "    return _add_should_use_warning(fn(*args, **kwargs))\n",
      "==================================\n"
     ]
    },
    {
     "name": "stderr",
     "output_type": "stream",
     "text": [
      "ERROR:tensorflow:==================================\n",
      "Object was never used (type <class 'tensorflow.python.framework.ops.Tensor'>):\n",
      "<tf.Tensor 'GPR-1b57a717-10/likelihood/variance/IsVariableInitialized:0' shape=() dtype=bool>\n",
      "If you want to mark it as used call its \"mark_used()\" method.\n",
      "It was originally created here:\n",
      "  File \"/Users/sabina/anaconda3/envs/py36/lib/python3.6/site-packages/IPython/core/interactiveshell.py\", line 3287, in run_code\n",
      "    return outflag  File \"<ipython-input-13-ec9775ede022>\", line 1, in <module>\n",
      "    run()  File \"<ipython-input-12-9c8d55ffcabc>\", line 27, in run\n",
      "    m=get_likelihood(uone,uone,s1,s2,rho,n)  File \"<ipython-input-9-5aa6ef4553db>\", line 7, in get_likelihood\n",
      "    m = gpflow.models.GPR(X,y, kern=k)  File \"/Users/sabina/anaconda3/envs/py36/lib/python3.6/site-packages/gpflow/core/compilable.py\", line 90, in __init__\n",
      "    self.build()  File \"/Users/sabina/anaconda3/envs/py36/lib/python3.6/site-packages/gpflow/core/node.py\", line 156, in build\n",
      "    self._build()  File \"/Users/sabina/anaconda3/envs/py36/lib/python3.6/site-packages/gpflow/models/model.py\", line 79, in _build\n",
      "    likelihood = self._build_likelihood()  File \"/Users/sabina/anaconda3/envs/py36/lib/python3.6/site-packages/gpflow/params/parameterized.py\", line 302, in _build\n",
      "    self._prior_tensor = self._build_prior(priors)  File \"/Users/sabina/anaconda3/envs/py36/lib/python3.6/site-packages/gpflow/core/node.py\", line 156, in build\n",
      "    self._build()  File \"/Users/sabina/anaconda3/envs/py36/lib/python3.6/site-packages/gpflow/params/parameterized.py\", line 302, in _build\n",
      "    self._prior_tensor = self._build_prior(priors)  File \"/Users/sabina/anaconda3/envs/py36/lib/python3.6/site-packages/gpflow/core/node.py\", line 156, in build\n",
      "    self._build()  File \"/Users/sabina/anaconda3/envs/py36/lib/python3.6/site-packages/gpflow/params/parameter.py\", line 372, in _build\n",
      "    self._prior_tensor = prior  File \"/Users/sabina/anaconda3/envs/py36/lib/python3.6/site-packages/tensorflow/python/util/tf_should_use.py\", line 189, in wrapped\n",
      "    return _add_should_use_warning(fn(*args, **kwargs))\n",
      "==================================\n"
     ]
    },
    {
     "name": "stdout",
     "output_type": "stream",
     "text": [
      "(6286, 20)\n",
      "(6286, 1)\n"
     ]
    },
    {
     "ename": "ValueError",
     "evalue": "Shapes must be equal rank, but are 0 and 1\n\tFrom merging shape 0 with other shapes. for 'GPR-40a54e98-36/likelihood_1/stack_1' (op: 'Pack') with input shapes: [], [6286].",
     "output_type": "error",
     "traceback": [
      "\u001b[0;31m---------------------------------------------------------------------------\u001b[0m",
      "\u001b[0;31mInvalidArgumentError\u001b[0m                      Traceback (most recent call last)",
      "\u001b[0;32m~/anaconda3/envs/py36/lib/python3.6/site-packages/tensorflow/python/framework/ops.py\u001b[0m in \u001b[0;36m_create_c_op\u001b[0;34m(graph, node_def, inputs, control_inputs)\u001b[0m\n\u001b[1;32m   1627\u001b[0m   \u001b[0;32mtry\u001b[0m\u001b[0;34m:\u001b[0m\u001b[0;34m\u001b[0m\u001b[0;34m\u001b[0m\u001b[0m\n\u001b[0;32m-> 1628\u001b[0;31m     \u001b[0mc_op\u001b[0m \u001b[0;34m=\u001b[0m \u001b[0mc_api\u001b[0m\u001b[0;34m.\u001b[0m\u001b[0mTF_FinishOperation\u001b[0m\u001b[0;34m(\u001b[0m\u001b[0mop_desc\u001b[0m\u001b[0;34m)\u001b[0m\u001b[0;34m\u001b[0m\u001b[0;34m\u001b[0m\u001b[0m\n\u001b[0m\u001b[1;32m   1629\u001b[0m   \u001b[0;32mexcept\u001b[0m \u001b[0merrors\u001b[0m\u001b[0;34m.\u001b[0m\u001b[0mInvalidArgumentError\u001b[0m \u001b[0;32mas\u001b[0m \u001b[0me\u001b[0m\u001b[0;34m:\u001b[0m\u001b[0;34m\u001b[0m\u001b[0;34m\u001b[0m\u001b[0m\n",
      "\u001b[0;31mInvalidArgumentError\u001b[0m: Shapes must be equal rank, but are 0 and 1\n\tFrom merging shape 0 with other shapes. for 'GPR-40a54e98-36/likelihood_1/stack_1' (op: 'Pack') with input shapes: [], [6286].",
      "\nDuring handling of the above exception, another exception occurred:\n",
      "\u001b[0;31mValueError\u001b[0m                                Traceback (most recent call last)",
      "\u001b[0;32m<ipython-input-25-ec9775ede022>\u001b[0m in \u001b[0;36m<module>\u001b[0;34m\u001b[0m\n\u001b[0;32m----> 1\u001b[0;31m \u001b[0mrun\u001b[0m\u001b[0;34m(\u001b[0m\u001b[0;34m)\u001b[0m\u001b[0;34m\u001b[0m\u001b[0;34m\u001b[0m\u001b[0m\n\u001b[0m",
      "\u001b[0;32m<ipython-input-24-7f8c8fa87448>\u001b[0m in \u001b[0;36mrun\u001b[0;34m()\u001b[0m\n\u001b[1;32m     28\u001b[0m                     \u001b[0;32mfor\u001b[0m \u001b[0ms2\u001b[0m \u001b[0;32min\u001b[0m \u001b[0mv2\u001b[0m\u001b[0;34m:\u001b[0m\u001b[0;34m\u001b[0m\u001b[0;34m\u001b[0m\u001b[0m\n\u001b[1;32m     29\u001b[0m                         \u001b[0;32mfor\u001b[0m \u001b[0mn\u001b[0m \u001b[0;32min\u001b[0m \u001b[0mnoise\u001b[0m\u001b[0;34m:\u001b[0m\u001b[0;34m\u001b[0m\u001b[0;34m\u001b[0m\u001b[0m\n\u001b[0;32m---> 30\u001b[0;31m                             \u001b[0mm\u001b[0m\u001b[0;34m=\u001b[0m\u001b[0mget_likelihood\u001b[0m\u001b[0;34m(\u001b[0m\u001b[0muone\u001b[0m\u001b[0;34m,\u001b[0m\u001b[0muone\u001b[0m\u001b[0;34m,\u001b[0m\u001b[0ms1\u001b[0m\u001b[0;34m,\u001b[0m\u001b[0ms2\u001b[0m\u001b[0;34m,\u001b[0m\u001b[0mrho\u001b[0m\u001b[0;34m,\u001b[0m\u001b[0mn\u001b[0m\u001b[0;34m,\u001b[0m\u001b[0mX\u001b[0m\u001b[0;34m,\u001b[0m\u001b[0my\u001b[0m\u001b[0;34m,\u001b[0m\u001b[0mrhos\u001b[0m\u001b[0;34m,\u001b[0m\u001b[0musers\u001b[0m\u001b[0;34m)\u001b[0m\u001b[0;34m\u001b[0m\u001b[0;34m\u001b[0m\u001b[0m\n\u001b[0m\u001b[1;32m     31\u001b[0m                             \u001b[0mprint\u001b[0m\u001b[0;34m(\u001b[0m\u001b[0mm\u001b[0m\u001b[0;34m)\u001b[0m\u001b[0;34m\u001b[0m\u001b[0;34m\u001b[0m\u001b[0m\n\u001b[1;32m     32\u001b[0m                             \u001b[0mkey\u001b[0m \u001b[0;34m=\u001b[0m \u001b[0;34m'-'\u001b[0m\u001b[0;34m.\u001b[0m\u001b[0mjoin\u001b[0m\u001b[0;34m(\u001b[0m\u001b[0;34m[\u001b[0m\u001b[0mstr\u001b[0m\u001b[0;34m(\u001b[0m\u001b[0mi\u001b[0m\u001b[0;34m)\u001b[0m \u001b[0;32mfor\u001b[0m \u001b[0mi\u001b[0m \u001b[0;32min\u001b[0m\u001b[0;34m[\u001b[0m\u001b[0muone\u001b[0m\u001b[0;34m,\u001b[0m\u001b[0mutwo\u001b[0m\u001b[0;34m,\u001b[0m\u001b[0mrho\u001b[0m\u001b[0;34m,\u001b[0m\u001b[0ms1\u001b[0m\u001b[0;34m,\u001b[0m\u001b[0ms2\u001b[0m\u001b[0;34m,\u001b[0m\u001b[0mn\u001b[0m\u001b[0;34m]\u001b[0m\u001b[0;34m]\u001b[0m\u001b[0;34m)\u001b[0m\u001b[0;34m\u001b[0m\u001b[0;34m\u001b[0m\u001b[0m\n",
      "\u001b[0;32m<ipython-input-23-ab6fff313634>\u001b[0m in \u001b[0;36mget_likelihood\u001b[0;34m(u1, u2, s1, s2, rho, noise, X, y, rhos, users)\u001b[0m\n\u001b[1;32m      5\u001b[0m                            initial_s1=s1,initial_s2=s2,initial_rho=rho,initial_noise=noise)\n\u001b[1;32m      6\u001b[0m \u001b[0;34m\u001b[0m\u001b[0m\n\u001b[0;32m----> 7\u001b[0;31m     \u001b[0mm\u001b[0m \u001b[0;34m=\u001b[0m \u001b[0mgpflow\u001b[0m\u001b[0;34m.\u001b[0m\u001b[0mmodels\u001b[0m\u001b[0;34m.\u001b[0m\u001b[0mGPR\u001b[0m\u001b[0;34m(\u001b[0m\u001b[0mX\u001b[0m\u001b[0;34m,\u001b[0m\u001b[0my\u001b[0m\u001b[0;34m,\u001b[0m \u001b[0mkern\u001b[0m\u001b[0;34m=\u001b[0m\u001b[0mk\u001b[0m\u001b[0;34m)\u001b[0m\u001b[0;34m\u001b[0m\u001b[0;34m\u001b[0m\u001b[0m\n\u001b[0m\u001b[1;32m      8\u001b[0m     \u001b[0mm\u001b[0m\u001b[0;34m.\u001b[0m\u001b[0minitialize\u001b[0m\u001b[0;34m(\u001b[0m\u001b[0msession\u001b[0m\u001b[0;34m=\u001b[0m\u001b[0msess\u001b[0m\u001b[0;34m)\u001b[0m\u001b[0;34m\u001b[0m\u001b[0;34m\u001b[0m\u001b[0m\n\u001b[1;32m      9\u001b[0m \u001b[0;34m\u001b[0m\u001b[0m\n",
      "\u001b[0;32m~/anaconda3/envs/py36/lib/python3.6/site-packages/gpflow/core/compilable.py\u001b[0m in \u001b[0;36m__init__\u001b[0;34m(self, *args, **kwargs)\u001b[0m\n\u001b[1;32m     88\u001b[0m             \u001b[0mglobal_autobuild_on\u001b[0m \u001b[0;34m=\u001b[0m \u001b[0mAutoBuildStatus\u001b[0m\u001b[0;34m.\u001b[0m\u001b[0m__autobuild_enabled_global__\u001b[0m\u001b[0;34m\u001b[0m\u001b[0;34m\u001b[0m\u001b[0m\n\u001b[1;32m     89\u001b[0m             \u001b[0;32mif\u001b[0m \u001b[0mautobuild_on\u001b[0m \u001b[0;32mand\u001b[0m \u001b[0mglobal_autobuild_on\u001b[0m\u001b[0;34m:\u001b[0m\u001b[0;34m\u001b[0m\u001b[0;34m\u001b[0m\u001b[0m\n\u001b[0;32m---> 90\u001b[0;31m                 \u001b[0mself\u001b[0m\u001b[0;34m.\u001b[0m\u001b[0mbuild\u001b[0m\u001b[0;34m(\u001b[0m\u001b[0;34m)\u001b[0m\u001b[0;34m\u001b[0m\u001b[0;34m\u001b[0m\u001b[0m\n\u001b[0m\u001b[1;32m     91\u001b[0m                 \u001b[0mself\u001b[0m\u001b[0;34m.\u001b[0m\u001b[0minitialize\u001b[0m\u001b[0;34m(\u001b[0m\u001b[0mforce\u001b[0m\u001b[0;34m=\u001b[0m\u001b[0;32mTrue\u001b[0m\u001b[0;34m)\u001b[0m\u001b[0;34m\u001b[0m\u001b[0;34m\u001b[0m\u001b[0m\n\u001b[1;32m     92\u001b[0m         \u001b[0m__init__\u001b[0m\u001b[0;34m.\u001b[0m\u001b[0m__doc__\u001b[0m \u001b[0;34m=\u001b[0m \u001b[0morigin_init\u001b[0m\u001b[0;34m.\u001b[0m\u001b[0m__doc__\u001b[0m\u001b[0;34m\u001b[0m\u001b[0;34m\u001b[0m\u001b[0m\n",
      "\u001b[0;32m~/anaconda3/envs/py36/lib/python3.6/site-packages/gpflow/core/node.py\u001b[0m in \u001b[0;36mbuild\u001b[0;34m(self)\u001b[0m\n\u001b[1;32m    154\u001b[0m         \u001b[0;32mif\u001b[0m \u001b[0mself\u001b[0m\u001b[0;34m.\u001b[0m\u001b[0mis_built_coherence\u001b[0m\u001b[0;34m(\u001b[0m\u001b[0;34m)\u001b[0m \u001b[0;32mis\u001b[0m \u001b[0mBuild\u001b[0m\u001b[0;34m.\u001b[0m\u001b[0mNO\u001b[0m\u001b[0;34m:\u001b[0m\u001b[0;34m\u001b[0m\u001b[0;34m\u001b[0m\u001b[0m\n\u001b[1;32m    155\u001b[0m             \u001b[0;32mwith\u001b[0m \u001b[0mtf\u001b[0m\u001b[0;34m.\u001b[0m\u001b[0mname_scope\u001b[0m\u001b[0;34m(\u001b[0m\u001b[0mself\u001b[0m\u001b[0;34m.\u001b[0m\u001b[0mtf_name_scope\u001b[0m\u001b[0;34m)\u001b[0m\u001b[0;34m:\u001b[0m\u001b[0;34m\u001b[0m\u001b[0;34m\u001b[0m\u001b[0m\n\u001b[0;32m--> 156\u001b[0;31m                 \u001b[0mself\u001b[0m\u001b[0;34m.\u001b[0m\u001b[0m_build\u001b[0m\u001b[0;34m(\u001b[0m\u001b[0;34m)\u001b[0m\u001b[0;34m\u001b[0m\u001b[0;34m\u001b[0m\u001b[0m\n\u001b[0m\u001b[1;32m    157\u001b[0m \u001b[0;34m\u001b[0m\u001b[0m\n\u001b[1;32m    158\u001b[0m     \u001b[0;34m@\u001b[0m\u001b[0mproperty\u001b[0m\u001b[0;34m\u001b[0m\u001b[0;34m\u001b[0m\u001b[0m\n",
      "\u001b[0;32m~/anaconda3/envs/py36/lib/python3.6/site-packages/gpflow/models/model.py\u001b[0m in \u001b[0;36m_build\u001b[0;34m(self)\u001b[0m\n\u001b[1;32m     77\u001b[0m     \u001b[0;32mdef\u001b[0m \u001b[0m_build\u001b[0m\u001b[0;34m(\u001b[0m\u001b[0mself\u001b[0m\u001b[0;34m)\u001b[0m\u001b[0;34m:\u001b[0m\u001b[0;34m\u001b[0m\u001b[0;34m\u001b[0m\u001b[0m\n\u001b[1;32m     78\u001b[0m         \u001b[0msuper\u001b[0m\u001b[0;34m(\u001b[0m\u001b[0mModel\u001b[0m\u001b[0;34m,\u001b[0m \u001b[0mself\u001b[0m\u001b[0;34m)\u001b[0m\u001b[0;34m.\u001b[0m\u001b[0m_build\u001b[0m\u001b[0;34m(\u001b[0m\u001b[0;34m)\u001b[0m\u001b[0;34m\u001b[0m\u001b[0;34m\u001b[0m\u001b[0m\n\u001b[0;32m---> 79\u001b[0;31m         \u001b[0mlikelihood\u001b[0m \u001b[0;34m=\u001b[0m \u001b[0mself\u001b[0m\u001b[0;34m.\u001b[0m\u001b[0m_build_likelihood\u001b[0m\u001b[0;34m(\u001b[0m\u001b[0;34m)\u001b[0m\u001b[0;34m\u001b[0m\u001b[0;34m\u001b[0m\u001b[0m\n\u001b[0m\u001b[1;32m     80\u001b[0m         \u001b[0mprior\u001b[0m \u001b[0;34m=\u001b[0m \u001b[0mself\u001b[0m\u001b[0;34m.\u001b[0m\u001b[0mprior_tensor\u001b[0m\u001b[0;34m\u001b[0m\u001b[0;34m\u001b[0m\u001b[0m\n\u001b[1;32m     81\u001b[0m         \u001b[0mobjective\u001b[0m \u001b[0;34m=\u001b[0m \u001b[0mself\u001b[0m\u001b[0;34m.\u001b[0m\u001b[0m_build_objective\u001b[0m\u001b[0;34m(\u001b[0m\u001b[0mlikelihood\u001b[0m\u001b[0;34m,\u001b[0m \u001b[0mprior\u001b[0m\u001b[0;34m)\u001b[0m\u001b[0;34m\u001b[0m\u001b[0;34m\u001b[0m\u001b[0m\n",
      "\u001b[0;32m~/anaconda3/envs/py36/lib/python3.6/site-packages/gpflow/decors.py\u001b[0m in \u001b[0;36mname_scope_wrapper\u001b[0;34m(*args, **kwargs)\u001b[0m\n\u001b[1;32m     47\u001b[0m             \u001b[0mscope_name\u001b[0m \u001b[0;34m=\u001b[0m \u001b[0mname\u001b[0m \u001b[0;32mif\u001b[0m \u001b[0mname\u001b[0m \u001b[0;32mis\u001b[0m \u001b[0;32mnot\u001b[0m \u001b[0;32mNone\u001b[0m \u001b[0;32melse\u001b[0m \u001b[0mmethod\u001b[0m\u001b[0;34m.\u001b[0m\u001b[0m__name__\u001b[0m\u001b[0;34m\u001b[0m\u001b[0;34m\u001b[0m\u001b[0m\n\u001b[1;32m     48\u001b[0m             \u001b[0;32mwith\u001b[0m \u001b[0mtf\u001b[0m\u001b[0;34m.\u001b[0m\u001b[0mname_scope\u001b[0m\u001b[0;34m(\u001b[0m\u001b[0mscope_name\u001b[0m\u001b[0;34m)\u001b[0m\u001b[0;34m:\u001b[0m\u001b[0;34m\u001b[0m\u001b[0;34m\u001b[0m\u001b[0m\n\u001b[0;32m---> 49\u001b[0;31m                 \u001b[0;32mreturn\u001b[0m \u001b[0mmethod\u001b[0m\u001b[0;34m(\u001b[0m\u001b[0;34m*\u001b[0m\u001b[0margs\u001b[0m\u001b[0;34m,\u001b[0m \u001b[0;34m**\u001b[0m\u001b[0mkwargs\u001b[0m\u001b[0;34m)\u001b[0m\u001b[0;34m\u001b[0m\u001b[0;34m\u001b[0m\u001b[0m\n\u001b[0m\u001b[1;32m     50\u001b[0m         \u001b[0;32mreturn\u001b[0m \u001b[0mname_scope_wrapper\u001b[0m\u001b[0;34m\u001b[0m\u001b[0;34m\u001b[0m\u001b[0m\n\u001b[1;32m     51\u001b[0m     \u001b[0;32mreturn\u001b[0m \u001b[0mname_scope_wrapper_decorator\u001b[0m\u001b[0;34m\u001b[0m\u001b[0;34m\u001b[0m\u001b[0m\n",
      "\u001b[0;32m~/anaconda3/envs/py36/lib/python3.6/site-packages/gpflow/decors.py\u001b[0m in \u001b[0;36mtensor_mode_wrapper\u001b[0;34m(obj, *args, **kwargs)\u001b[0m\n\u001b[1;32m     65\u001b[0m         \u001b[0mprev_value\u001b[0m \u001b[0;34m=\u001b[0m \u001b[0m_params_as_tensors_enter\u001b[0m\u001b[0;34m(\u001b[0m\u001b[0mobj\u001b[0m\u001b[0;34m,\u001b[0m \u001b[0;32mTrue\u001b[0m\u001b[0;34m)\u001b[0m\u001b[0;34m\u001b[0m\u001b[0;34m\u001b[0m\u001b[0m\n\u001b[1;32m     66\u001b[0m         \u001b[0;32mtry\u001b[0m\u001b[0;34m:\u001b[0m\u001b[0;34m\u001b[0m\u001b[0;34m\u001b[0m\u001b[0m\n\u001b[0;32m---> 67\u001b[0;31m             \u001b[0mresult\u001b[0m \u001b[0;34m=\u001b[0m \u001b[0mmethod\u001b[0m\u001b[0;34m(\u001b[0m\u001b[0mobj\u001b[0m\u001b[0;34m,\u001b[0m \u001b[0;34m*\u001b[0m\u001b[0margs\u001b[0m\u001b[0;34m,\u001b[0m \u001b[0;34m**\u001b[0m\u001b[0mkwargs\u001b[0m\u001b[0;34m)\u001b[0m\u001b[0;34m\u001b[0m\u001b[0;34m\u001b[0m\u001b[0m\n\u001b[0m\u001b[1;32m     68\u001b[0m         \u001b[0;32mfinally\u001b[0m\u001b[0;34m:\u001b[0m\u001b[0;34m\u001b[0m\u001b[0;34m\u001b[0m\u001b[0m\n\u001b[1;32m     69\u001b[0m             \u001b[0m_params_as_tensors_exit\u001b[0m\u001b[0;34m(\u001b[0m\u001b[0mobj\u001b[0m\u001b[0;34m,\u001b[0m \u001b[0mprev_value\u001b[0m\u001b[0;34m)\u001b[0m\u001b[0;34m\u001b[0m\u001b[0;34m\u001b[0m\u001b[0m\n",
      "\u001b[0;32m~/anaconda3/envs/py36/lib/python3.6/site-packages/gpflow/models/gpr.py\u001b[0m in \u001b[0;36m_build_likelihood\u001b[0;34m(self)\u001b[0m\n\u001b[1;32m     61\u001b[0m \u001b[0;34m\u001b[0m\u001b[0m\n\u001b[1;32m     62\u001b[0m         \"\"\"\n\u001b[0;32m---> 63\u001b[0;31m         \u001b[0mK\u001b[0m \u001b[0;34m=\u001b[0m \u001b[0mself\u001b[0m\u001b[0;34m.\u001b[0m\u001b[0mkern\u001b[0m\u001b[0;34m.\u001b[0m\u001b[0mK\u001b[0m\u001b[0;34m(\u001b[0m\u001b[0mself\u001b[0m\u001b[0;34m.\u001b[0m\u001b[0mX\u001b[0m\u001b[0;34m)\u001b[0m \u001b[0;34m+\u001b[0m \u001b[0mtf\u001b[0m\u001b[0;34m.\u001b[0m\u001b[0meye\u001b[0m\u001b[0;34m(\u001b[0m\u001b[0mtf\u001b[0m\u001b[0;34m.\u001b[0m\u001b[0mshape\u001b[0m\u001b[0;34m(\u001b[0m\u001b[0mself\u001b[0m\u001b[0;34m.\u001b[0m\u001b[0mX\u001b[0m\u001b[0;34m)\u001b[0m\u001b[0;34m[\u001b[0m\u001b[0;36m0\u001b[0m\u001b[0;34m]\u001b[0m\u001b[0;34m,\u001b[0m \u001b[0mdtype\u001b[0m\u001b[0;34m=\u001b[0m\u001b[0msettings\u001b[0m\u001b[0;34m.\u001b[0m\u001b[0mfloat_type\u001b[0m\u001b[0;34m)\u001b[0m \u001b[0;34m*\u001b[0m \u001b[0mself\u001b[0m\u001b[0;34m.\u001b[0m\u001b[0mlikelihood\u001b[0m\u001b[0;34m.\u001b[0m\u001b[0mvariance\u001b[0m\u001b[0;34m\u001b[0m\u001b[0;34m\u001b[0m\u001b[0m\n\u001b[0m\u001b[1;32m     64\u001b[0m         \u001b[0mL\u001b[0m \u001b[0;34m=\u001b[0m \u001b[0mtf\u001b[0m\u001b[0;34m.\u001b[0m\u001b[0mcholesky\u001b[0m\u001b[0;34m(\u001b[0m\u001b[0mK\u001b[0m\u001b[0;34m)\u001b[0m\u001b[0;34m\u001b[0m\u001b[0;34m\u001b[0m\u001b[0m\n\u001b[1;32m     65\u001b[0m         \u001b[0mm\u001b[0m \u001b[0;34m=\u001b[0m \u001b[0mself\u001b[0m\u001b[0;34m.\u001b[0m\u001b[0mmean_function\u001b[0m\u001b[0;34m(\u001b[0m\u001b[0mself\u001b[0m\u001b[0;34m.\u001b[0m\u001b[0mX\u001b[0m\u001b[0;34m)\u001b[0m\u001b[0;34m\u001b[0m\u001b[0;34m\u001b[0m\u001b[0m\n",
      "\u001b[0;32m~/anaconda3/envs/py36/lib/python3.6/site-packages/gpflow/decors.py\u001b[0m in \u001b[0;36mtensor_mode_wrapper\u001b[0;34m(obj, *args, **kwargs)\u001b[0m\n\u001b[1;32m     65\u001b[0m         \u001b[0mprev_value\u001b[0m \u001b[0;34m=\u001b[0m \u001b[0m_params_as_tensors_enter\u001b[0m\u001b[0;34m(\u001b[0m\u001b[0mobj\u001b[0m\u001b[0;34m,\u001b[0m \u001b[0;32mTrue\u001b[0m\u001b[0;34m)\u001b[0m\u001b[0;34m\u001b[0m\u001b[0;34m\u001b[0m\u001b[0m\n\u001b[1;32m     66\u001b[0m         \u001b[0;32mtry\u001b[0m\u001b[0;34m:\u001b[0m\u001b[0;34m\u001b[0m\u001b[0;34m\u001b[0m\u001b[0m\n\u001b[0;32m---> 67\u001b[0;31m             \u001b[0mresult\u001b[0m \u001b[0;34m=\u001b[0m \u001b[0mmethod\u001b[0m\u001b[0;34m(\u001b[0m\u001b[0mobj\u001b[0m\u001b[0;34m,\u001b[0m \u001b[0;34m*\u001b[0m\u001b[0margs\u001b[0m\u001b[0;34m,\u001b[0m \u001b[0;34m**\u001b[0m\u001b[0mkwargs\u001b[0m\u001b[0;34m)\u001b[0m\u001b[0;34m\u001b[0m\u001b[0;34m\u001b[0m\u001b[0m\n\u001b[0m\u001b[1;32m     68\u001b[0m         \u001b[0;32mfinally\u001b[0m\u001b[0;34m:\u001b[0m\u001b[0;34m\u001b[0m\u001b[0;34m\u001b[0m\u001b[0m\n\u001b[1;32m     69\u001b[0m             \u001b[0m_params_as_tensors_exit\u001b[0m\u001b[0;34m(\u001b[0m\u001b[0mobj\u001b[0m\u001b[0;34m,\u001b[0m \u001b[0mprev_value\u001b[0m\u001b[0;34m)\u001b[0m\u001b[0;34m\u001b[0m\u001b[0;34m\u001b[0m\u001b[0m\n",
      "\u001b[0;32m~/pooling_rl/models/CustomKernelStatic.py\u001b[0m in \u001b[0;36mK\u001b[0;34m(self, X, X2)\u001b[0m\n\u001b[1;32m    121\u001b[0m         \u001b[0mt_three\u001b[0m \u001b[0;34m=\u001b[0m \u001b[0mself\u001b[0m\u001b[0;34m.\u001b[0m\u001b[0msigma_u2\u001b[0m\u001b[0;34m\u001b[0m\u001b[0;34m\u001b[0m\u001b[0m\n\u001b[1;32m    122\u001b[0m         \u001b[0mt_four\u001b[0m \u001b[0;34m=\u001b[0m \u001b[0mt_two\u001b[0m\u001b[0;34m\u001b[0m\u001b[0;34m\u001b[0m\u001b[0m\n\u001b[0;32m--> 123\u001b[0;31m         \u001b[0mrow_one\u001b[0m \u001b[0;34m=\u001b[0m \u001b[0mtf\u001b[0m\u001b[0;34m.\u001b[0m\u001b[0mstack\u001b[0m\u001b[0;34m(\u001b[0m\u001b[0;34m[\u001b[0m\u001b[0mt_one\u001b[0m\u001b[0;34m,\u001b[0m \u001b[0mt_two\u001b[0m\u001b[0;34m]\u001b[0m\u001b[0;34m,\u001b[0m\u001b[0maxis\u001b[0m\u001b[0;34m=\u001b[0m\u001b[0;36m0\u001b[0m\u001b[0;34m)\u001b[0m\u001b[0;34m\u001b[0m\u001b[0;34m\u001b[0m\u001b[0m\n\u001b[0m\u001b[1;32m    124\u001b[0m         \u001b[0mrow_two\u001b[0m \u001b[0;34m=\u001b[0m \u001b[0mtf\u001b[0m\u001b[0;34m.\u001b[0m\u001b[0mstack\u001b[0m\u001b[0;34m(\u001b[0m\u001b[0;34m[\u001b[0m\u001b[0mt_three\u001b[0m\u001b[0;34m,\u001b[0m \u001b[0mt_four\u001b[0m\u001b[0;34m]\u001b[0m\u001b[0;34m,\u001b[0m\u001b[0maxis\u001b[0m\u001b[0;34m=\u001b[0m\u001b[0;36m0\u001b[0m\u001b[0;34m)\u001b[0m\u001b[0;34m\u001b[0m\u001b[0;34m\u001b[0m\u001b[0m\n\u001b[1;32m    125\u001b[0m         \u001b[0mtemp_sigma\u001b[0m \u001b[0;34m=\u001b[0m \u001b[0mtf\u001b[0m\u001b[0;34m.\u001b[0m\u001b[0mreshape\u001b[0m\u001b[0;34m(\u001b[0m\u001b[0mtf\u001b[0m\u001b[0;34m.\u001b[0m\u001b[0mstack\u001b[0m\u001b[0;34m(\u001b[0m\u001b[0;34m[\u001b[0m\u001b[0mrow_one\u001b[0m\u001b[0;34m,\u001b[0m\u001b[0mrow_two\u001b[0m\u001b[0;34m]\u001b[0m\u001b[0;34m)\u001b[0m\u001b[0;34m,\u001b[0m\u001b[0;34m[\u001b[0m\u001b[0;36m1\u001b[0m\u001b[0;34m,\u001b[0m\u001b[0;36m2\u001b[0m\u001b[0;34m,\u001b[0m\u001b[0;36m2\u001b[0m\u001b[0;34m]\u001b[0m\u001b[0;34m)\u001b[0m\u001b[0;34m\u001b[0m\u001b[0;34m\u001b[0m\u001b[0m\n",
      "\u001b[0;32m~/anaconda3/envs/py36/lib/python3.6/site-packages/tensorflow/python/ops/array_ops.py\u001b[0m in \u001b[0;36mstack\u001b[0;34m(values, axis, name)\u001b[0m\n\u001b[1;32m    872\u001b[0m                                                       expanded_num_dims))\n\u001b[1;32m    873\u001b[0m \u001b[0;34m\u001b[0m\u001b[0m\n\u001b[0;32m--> 874\u001b[0;31m   \u001b[0;32mreturn\u001b[0m \u001b[0mgen_array_ops\u001b[0m\u001b[0;34m.\u001b[0m\u001b[0mpack\u001b[0m\u001b[0;34m(\u001b[0m\u001b[0mvalues\u001b[0m\u001b[0;34m,\u001b[0m \u001b[0maxis\u001b[0m\u001b[0;34m=\u001b[0m\u001b[0maxis\u001b[0m\u001b[0;34m,\u001b[0m \u001b[0mname\u001b[0m\u001b[0;34m=\u001b[0m\u001b[0mname\u001b[0m\u001b[0;34m)\u001b[0m\u001b[0;34m\u001b[0m\u001b[0;34m\u001b[0m\u001b[0m\n\u001b[0m\u001b[1;32m    875\u001b[0m \u001b[0;34m\u001b[0m\u001b[0m\n\u001b[1;32m    876\u001b[0m \u001b[0;34m\u001b[0m\u001b[0m\n",
      "\u001b[0;32m~/anaconda3/envs/py36/lib/python3.6/site-packages/tensorflow/python/ops/gen_array_ops.py\u001b[0m in \u001b[0;36mpack\u001b[0;34m(values, axis, name)\u001b[0m\n\u001b[1;32m   4873\u001b[0m     \u001b[0maxis\u001b[0m \u001b[0;34m=\u001b[0m \u001b[0m_execute\u001b[0m\u001b[0;34m.\u001b[0m\u001b[0mmake_int\u001b[0m\u001b[0;34m(\u001b[0m\u001b[0maxis\u001b[0m\u001b[0;34m,\u001b[0m \u001b[0;34m\"axis\"\u001b[0m\u001b[0;34m)\u001b[0m\u001b[0;34m\u001b[0m\u001b[0;34m\u001b[0m\u001b[0m\n\u001b[1;32m   4874\u001b[0m     _, _, _op = _op_def_lib._apply_op_helper(\n\u001b[0;32m-> 4875\u001b[0;31m         \"Pack\", values=values, axis=axis, name=name)\n\u001b[0m\u001b[1;32m   4876\u001b[0m     \u001b[0m_result\u001b[0m \u001b[0;34m=\u001b[0m \u001b[0m_op\u001b[0m\u001b[0;34m.\u001b[0m\u001b[0moutputs\u001b[0m\u001b[0;34m[\u001b[0m\u001b[0;34m:\u001b[0m\u001b[0;34m]\u001b[0m\u001b[0;34m\u001b[0m\u001b[0;34m\u001b[0m\u001b[0m\n\u001b[1;32m   4877\u001b[0m     \u001b[0m_inputs_flat\u001b[0m \u001b[0;34m=\u001b[0m \u001b[0m_op\u001b[0m\u001b[0;34m.\u001b[0m\u001b[0minputs\u001b[0m\u001b[0;34m\u001b[0m\u001b[0;34m\u001b[0m\u001b[0m\n",
      "\u001b[0;32m~/anaconda3/envs/py36/lib/python3.6/site-packages/tensorflow/python/framework/op_def_library.py\u001b[0m in \u001b[0;36m_apply_op_helper\u001b[0;34m(self, op_type_name, name, **keywords)\u001b[0m\n\u001b[1;32m    785\u001b[0m         op = g.create_op(op_type_name, inputs, output_types, name=scope,\n\u001b[1;32m    786\u001b[0m                          \u001b[0minput_types\u001b[0m\u001b[0;34m=\u001b[0m\u001b[0minput_types\u001b[0m\u001b[0;34m,\u001b[0m \u001b[0mattrs\u001b[0m\u001b[0;34m=\u001b[0m\u001b[0mattr_protos\u001b[0m\u001b[0;34m,\u001b[0m\u001b[0;34m\u001b[0m\u001b[0;34m\u001b[0m\u001b[0m\n\u001b[0;32m--> 787\u001b[0;31m                          op_def=op_def)\n\u001b[0m\u001b[1;32m    788\u001b[0m       \u001b[0;32mreturn\u001b[0m \u001b[0moutput_structure\u001b[0m\u001b[0;34m,\u001b[0m \u001b[0mop_def\u001b[0m\u001b[0;34m.\u001b[0m\u001b[0mis_stateful\u001b[0m\u001b[0;34m,\u001b[0m \u001b[0mop\u001b[0m\u001b[0;34m\u001b[0m\u001b[0;34m\u001b[0m\u001b[0m\n\u001b[1;32m    789\u001b[0m \u001b[0;34m\u001b[0m\u001b[0m\n",
      "\u001b[0;32m~/anaconda3/envs/py36/lib/python3.6/site-packages/tensorflow/python/util/deprecation.py\u001b[0m in \u001b[0;36mnew_func\u001b[0;34m(*args, **kwargs)\u001b[0m\n\u001b[1;32m    486\u001b[0m                 \u001b[0;34m'in a future version'\u001b[0m \u001b[0;32mif\u001b[0m \u001b[0mdate\u001b[0m \u001b[0;32mis\u001b[0m \u001b[0;32mNone\u001b[0m \u001b[0;32melse\u001b[0m \u001b[0;34m(\u001b[0m\u001b[0;34m'after %s'\u001b[0m \u001b[0;34m%\u001b[0m \u001b[0mdate\u001b[0m\u001b[0;34m)\u001b[0m\u001b[0;34m,\u001b[0m\u001b[0;34m\u001b[0m\u001b[0;34m\u001b[0m\u001b[0m\n\u001b[1;32m    487\u001b[0m                 instructions)\n\u001b[0;32m--> 488\u001b[0;31m       \u001b[0;32mreturn\u001b[0m \u001b[0mfunc\u001b[0m\u001b[0;34m(\u001b[0m\u001b[0;34m*\u001b[0m\u001b[0margs\u001b[0m\u001b[0;34m,\u001b[0m \u001b[0;34m**\u001b[0m\u001b[0mkwargs\u001b[0m\u001b[0;34m)\u001b[0m\u001b[0;34m\u001b[0m\u001b[0;34m\u001b[0m\u001b[0m\n\u001b[0m\u001b[1;32m    489\u001b[0m     return tf_decorator.make_decorator(func, new_func, 'deprecated',\n\u001b[1;32m    490\u001b[0m                                        _add_deprecated_arg_notice_to_docstring(\n",
      "\u001b[0;32m~/anaconda3/envs/py36/lib/python3.6/site-packages/tensorflow/python/framework/ops.py\u001b[0m in \u001b[0;36mcreate_op\u001b[0;34m(***failed resolving arguments***)\u001b[0m\n\u001b[1;32m   3272\u001b[0m           \u001b[0minput_types\u001b[0m\u001b[0;34m=\u001b[0m\u001b[0minput_types\u001b[0m\u001b[0;34m,\u001b[0m\u001b[0;34m\u001b[0m\u001b[0;34m\u001b[0m\u001b[0m\n\u001b[1;32m   3273\u001b[0m           \u001b[0moriginal_op\u001b[0m\u001b[0;34m=\u001b[0m\u001b[0mself\u001b[0m\u001b[0;34m.\u001b[0m\u001b[0m_default_original_op\u001b[0m\u001b[0;34m,\u001b[0m\u001b[0;34m\u001b[0m\u001b[0;34m\u001b[0m\u001b[0m\n\u001b[0;32m-> 3274\u001b[0;31m           op_def=op_def)\n\u001b[0m\u001b[1;32m   3275\u001b[0m       \u001b[0mself\u001b[0m\u001b[0;34m.\u001b[0m\u001b[0m_create_op_helper\u001b[0m\u001b[0;34m(\u001b[0m\u001b[0mret\u001b[0m\u001b[0;34m,\u001b[0m \u001b[0mcompute_device\u001b[0m\u001b[0;34m=\u001b[0m\u001b[0mcompute_device\u001b[0m\u001b[0;34m)\u001b[0m\u001b[0;34m\u001b[0m\u001b[0;34m\u001b[0m\u001b[0m\n\u001b[1;32m   3276\u001b[0m     \u001b[0;32mreturn\u001b[0m \u001b[0mret\u001b[0m\u001b[0;34m\u001b[0m\u001b[0;34m\u001b[0m\u001b[0m\n",
      "\u001b[0;32m~/anaconda3/envs/py36/lib/python3.6/site-packages/tensorflow/python/framework/ops.py\u001b[0m in \u001b[0;36m__init__\u001b[0;34m(self, node_def, g, inputs, output_types, control_inputs, input_types, original_op, op_def)\u001b[0m\n\u001b[1;32m   1790\u001b[0m           op_def, inputs, node_def.attr)\n\u001b[1;32m   1791\u001b[0m       self._c_op = _create_c_op(self._graph, node_def, grouped_inputs,\n\u001b[0;32m-> 1792\u001b[0;31m                                 control_input_ops)\n\u001b[0m\u001b[1;32m   1793\u001b[0m \u001b[0;34m\u001b[0m\u001b[0m\n\u001b[1;32m   1794\u001b[0m     \u001b[0;31m# Initialize self._outputs.\u001b[0m\u001b[0;34m\u001b[0m\u001b[0;34m\u001b[0m\u001b[0;34m\u001b[0m\u001b[0m\n",
      "\u001b[0;32m~/anaconda3/envs/py36/lib/python3.6/site-packages/tensorflow/python/framework/ops.py\u001b[0m in \u001b[0;36m_create_c_op\u001b[0;34m(graph, node_def, inputs, control_inputs)\u001b[0m\n\u001b[1;32m   1629\u001b[0m   \u001b[0;32mexcept\u001b[0m \u001b[0merrors\u001b[0m\u001b[0;34m.\u001b[0m\u001b[0mInvalidArgumentError\u001b[0m \u001b[0;32mas\u001b[0m \u001b[0me\u001b[0m\u001b[0;34m:\u001b[0m\u001b[0;34m\u001b[0m\u001b[0;34m\u001b[0m\u001b[0m\n\u001b[1;32m   1630\u001b[0m     \u001b[0;31m# Convert to ValueError for backwards compatibility.\u001b[0m\u001b[0;34m\u001b[0m\u001b[0;34m\u001b[0m\u001b[0;34m\u001b[0m\u001b[0m\n\u001b[0;32m-> 1631\u001b[0;31m     \u001b[0;32mraise\u001b[0m \u001b[0mValueError\u001b[0m\u001b[0;34m(\u001b[0m\u001b[0mstr\u001b[0m\u001b[0;34m(\u001b[0m\u001b[0me\u001b[0m\u001b[0;34m)\u001b[0m\u001b[0;34m)\u001b[0m\u001b[0;34m\u001b[0m\u001b[0;34m\u001b[0m\u001b[0m\n\u001b[0m\u001b[1;32m   1632\u001b[0m \u001b[0;34m\u001b[0m\u001b[0m\n\u001b[1;32m   1633\u001b[0m   \u001b[0;32mreturn\u001b[0m \u001b[0mc_op\u001b[0m\u001b[0;34m\u001b[0m\u001b[0;34m\u001b[0m\u001b[0m\n",
      "\u001b[0;31mValueError\u001b[0m: Shapes must be equal rank, but are 0 and 1\n\tFrom merging shape 0 with other shapes. for 'GPR-40a54e98-36/likelihood_1/stack_1' (op: 'Pack') with input shapes: [], [6286]."
     ]
    }
   ],
   "source": [
    " run()"
   ]
  },
  {
   "cell_type": "code",
   "execution_count": 27,
   "metadata": {},
   "outputs": [],
   "source": [
    "    rdayone = [x[19] for x in X]\n",
    "    rdaytwo = rdayone\n",
    "    rhos = np.array([[rbf_custom_np( rdayone[i], X2=rdaytwo[j]) for j in range(len(X))] for i in range(len(X))])\n",
    "    users = np.array([[float(X[i][18]==X[j][18]) for j in range(len(X))] for i in range(len(X))])\n",
    "    "
   ]
  },
  {
   "cell_type": "code",
   "execution_count": 29,
   "metadata": {},
   "outputs": [
    {
     "name": "stderr",
     "output_type": "stream",
     "text": [
      "WARNING:gpflow.logdensities:Shape of x must be 2D at computation.\n",
      "WARNING:gpflow.logdensities:Shape of mu may be unknown or not 2D.\n"
     ]
    }
   ],
   "source": [
    "    sess = tf.Session()\n",
    "    k =  CustomKernelStatic.CustomKernelStatic(20,mysession=sess,rhos=rhos,select_users=users,baseline_indices=[i for i in range(18)],\\\n",
    "                  psi_indices=[0,7],user_day_index=19,user_index=18,num_data_points=len(X),initial_u1=u1[0],initial_u2=u2[0],\\\n",
    "                           initial_s1=v1[0],initial_s2=v2[0],initial_rho=rho[0],initial_noise=noise[0])\n",
    "  \n",
    "    m = gpflow.models.GPR(X,y, kern=k)\n",
    "    m.initialize(session=sess)"
   ]
  },
  {
   "cell_type": "code",
   "execution_count": 33,
   "metadata": {},
   "outputs": [
    {
     "ename": "NameError",
     "evalue": "name 's1' is not defined",
     "output_type": "error",
     "traceback": [
      "\u001b[0;31m---------------------------------------------------------------------------\u001b[0m",
      "\u001b[0;31mNameError\u001b[0m                                 Traceback (most recent call last)",
      "\u001b[0;32m<ipython-input-33-3ed8bb9ed9de>\u001b[0m in \u001b[0;36m<module>\u001b[0;34m\u001b[0m\n\u001b[0;32m----> 1\u001b[0;31m \u001b[0mlik\u001b[0m\u001b[0;34m=\u001b[0m\u001b[0mget_likelihood\u001b[0m\u001b[0;34m(\u001b[0m\u001b[0muone\u001b[0m\u001b[0;34m,\u001b[0m\u001b[0muone\u001b[0m\u001b[0;34m,\u001b[0m\u001b[0ms1\u001b[0m\u001b[0;34m,\u001b[0m\u001b[0ms2\u001b[0m\u001b[0;34m,\u001b[0m\u001b[0mrho\u001b[0m\u001b[0;34m,\u001b[0m\u001b[0mn\u001b[0m\u001b[0;34m,\u001b[0m\u001b[0mX\u001b[0m\u001b[0;34m,\u001b[0m\u001b[0my\u001b[0m\u001b[0;34m,\u001b[0m\u001b[0mrhos\u001b[0m\u001b[0;34m,\u001b[0m\u001b[0musers\u001b[0m\u001b[0;34m)\u001b[0m\u001b[0;34m\u001b[0m\u001b[0;34m\u001b[0m\u001b[0m\n\u001b[0m",
      "\u001b[0;31mNameError\u001b[0m: name 's1' is not defined"
     ]
    }
   ],
   "source": [
    "lik=get_likelihood(uone,uone,s1,s2,rho,n,X,y,rhos,users)"
   ]
  },
  {
   "cell_type": "code",
   "execution_count": null,
   "metadata": {},
   "outputs": [],
   "source": []
  }
 ],
 "metadata": {
  "kernelspec": {
   "display_name": "Python 3",
   "language": "python",
   "name": "python3"
  },
  "language_info": {
   "codemirror_mode": {
    "name": "ipython",
    "version": 3
   },
   "file_extension": ".py",
   "mimetype": "text/x-python",
   "name": "python",
   "nbconvert_exporter": "python",
   "pygments_lexer": "ipython3",
   "version": "3.6.8"
  }
 },
 "nbformat": 4,
 "nbformat_minor": 2
}
