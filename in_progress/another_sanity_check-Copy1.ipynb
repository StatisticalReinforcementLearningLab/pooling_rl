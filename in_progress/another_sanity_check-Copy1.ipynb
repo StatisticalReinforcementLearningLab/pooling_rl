{
 "cells": [
  {
   "cell_type": "code",
   "execution_count": 1,
   "metadata": {},
   "outputs": [],
   "source": [
    "import pandas as pd\n",
    "import numpy as np\n",
    "import pickle\n",
    "from sklearn.linear_model import LinearRegression"
   ]
  },
  {
   "cell_type": "code",
   "execution_count": 2,
   "metadata": {},
   "outputs": [],
   "source": [
    "with open('../../Downloads/distributions/merged_est.pkl','rb') as f:\n",
    "    merged = pickle.load(f)"
   ]
  },
  {
   "cell_type": "code",
   "execution_count": 3,
   "metadata": {},
   "outputs": [],
   "source": [
    "def adjust_to_thirty_minute(steps):\n",
    "    return steps.fillna(0).tz_localize(None).resample('30T').sum().fillna(0)"
   ]
  },
  {
   "cell_type": "code",
   "execution_count": 12,
   "metadata": {},
   "outputs": [],
   "source": [
    "with open('../../Downloads/distributions/dists_intervention_anti_sed_3_8.pkl','rb') as f:\n",
    "    dists_sed = pickle.load(f)\n",
    "with open('../../Downloads/distributions/key_matches_intervention_anti_sed_3_8.pkl','rb') as f:\n",
    "    matches_sed = pickle.load(f)\n",
    "with open('../../Downloads/distributions/dists_actsugg_3_8.pkl','rb') as f:\n",
    "    dists_act = pickle.load(f)\n",
    "with open('../../Downloads/distributions/key_matches_act_sugg_3_8.pkl','rb') as f:\n",
    "    matches_act = pickle.load(f)"
   ]
  },
  {
   "cell_type": "code",
   "execution_count": 3,
   "metadata": {},
   "outputs": [],
   "source": [
    "def get_activity_suggestion(user_df):\n",
    "    to_return = {}\n",
    "    for index,row in user_df.iterrows():\n",
    "        if type(row['avail'])==bool and row['avail']:\n",
    "            if type(row['send.active'])==bool:\n",
    "                sent = row['send.active']\n",
    "                i = index.round('30T').tz_localize(None)\n",
    "                to_return[i]=sent\n",
    "    return to_return"
   ]
  },
  {
   "cell_type": "code",
   "execution_count": 4,
   "metadata": {},
   "outputs": [],
   "source": [
    "def get_anti_sedentary(user_df):\n",
    "    to_return = {}\n",
    "    for index,row in user_df.iterrows():\n",
    "        if type(row['avail'])==bool and row['avail']:\n",
    "            if type(row['send.sedentary'])==bool:\n",
    "                sent = row['send.sedentary']\n",
    "                i = index.round('30T').tz_localize(None)\n",
    "                to_return[i]=sent\n",
    "    return to_return"
   ]
  },
  {
   "cell_type": "code",
   "execution_count": 5,
   "metadata": {},
   "outputs": [],
   "source": [
    "all_antis = {k:get_anti_sedentary(v) for k,v in merged.items() if k!=4}\n",
    "all_actives = {k:get_activity_suggestion(v) for k,v in merged.items() if k!=4}\n"
   ]
  },
  {
   "cell_type": "code",
   "execution_count": null,
   "metadata": {},
   "outputs": [],
   "source": []
  },
  {
   "cell_type": "code",
   "execution_count": 6,
   "metadata": {},
   "outputs": [
    {
     "ename": "SyntaxError",
     "evalue": "invalid syntax (<ipython-input-6-8658762c36af>, line 22)",
     "output_type": "error",
     "traceback": [
      "\u001b[0;36m  File \u001b[0;32m\"<ipython-input-6-8658762c36af>\"\u001b[0;36m, line \u001b[0;32m22\u001b[0m\n\u001b[0;31m    elif b[i]\u001b[0m\n\u001b[0m             ^\u001b[0m\n\u001b[0;31mSyntaxError\u001b[0m\u001b[0;31m:\u001b[0m invalid syntax\n"
     ]
    }
   ],
   "source": [
    "def get_all_dow():\n",
    "    to_return = {0:{'True':[],'False':[]},1:{'True':[],'False':[]}}\n",
    "    for k,v in merged.items():\n",
    "        if k!=4:\n",
    "            \n",
    "            a = all_actives[k]\n",
    "            b = all_antis[k]\n",
    "        #print(len(a))\n",
    "            xs = []\n",
    "            ys = []\n",
    "            if k!=4:\n",
    "                steps = adjust_to_thirty_minute(v['steps'])\n",
    "                for i,s in steps.iteritems():\n",
    "                    dow = i.dayofweek\n",
    "                    if i in a and i in b and i.hour>=9 and i.hour<21:\n",
    "                    #print('found')\n",
    "                        action = a[i]\n",
    "                    #print(action)\n",
    "                    #int(dow==5 or dow==6)\n",
    "                        if action:\n",
    "                            to_return[int(dow==5 or dow==6)]['True'].append(s)\n",
    "                        elif b[i]\n",
    "                      \n",
    "                                to_return[int(dow==5 or dow==6)]['False'].append(s)\n",
    "                        #elif b[i]:\n",
    "                        #else:\n",
    "                            #to_return[int(dow==5 or dow==6)]['False'].append(s)\n",
    "                    #if i in b and i.hour>=9 and i.hour<21:\n",
    "                       \n",
    "                        #action = b[i]\n",
    "                    #print(action)\n",
    "                    #int(dow==5 or dow==6)\n",
    "                        #if action:\n",
    "                            #to_return[int(dow==5 or dow==6)]['False'].append(s)\n",
    "    return to_return"
   ]
  },
  {
   "cell_type": "code",
   "execution_count": 28,
   "metadata": {},
   "outputs": [
    {
     "ename": "SyntaxError",
     "evalue": "invalid syntax (<ipython-input-28-155330e3c2db>, line 22)",
     "output_type": "error",
     "traceback": [
      "\u001b[0;36m  File \u001b[0;32m\"<ipython-input-28-155330e3c2db>\"\u001b[0;36m, line \u001b[0;32m22\u001b[0m\n\u001b[0;31m    elif b[i]\u001b[0m\n\u001b[0m             ^\u001b[0m\n\u001b[0;31mSyntaxError\u001b[0m\u001b[0;31m:\u001b[0m invalid syntax\n"
     ]
    }
   ],
   "source": [
    "def get_all_tod():\n",
    "    to_return = {0:{'True':[],'False':[]},1:{'True':[],'False':[]}}\n",
    "    for k,v in merged.items():\n",
    "        if k!=4:\n",
    "            \n",
    "            a = all_actives[k]\n",
    "            b = all_antis[k]\n",
    "        #print(len(a))\n",
    "            xs = []\n",
    "            ys = []\n",
    "            if k!=4:\n",
    "                steps = adjust_to_thirty_minute(v['steps'])\n",
    "                for i,s in steps.iteritems():\n",
    "                    hour = hour_ids[i.hour]\n",
    "                    if i in a and i in b and hour!=2:\n",
    "                    #print('found')\n",
    "                        action = a[i]\n",
    "                    #print(action)\n",
    "                    #int(dow==5 or dow==6)\n",
    "                        if action:\n",
    "                            to_return[int(hour)]['True'].append(s)\n",
    "                        elif b[i]\n",
    "                \n",
    "                                to_return[int(hour)]['False'].append(s)\n",
    "                        #elif b[i]:\n",
    "                        #else:\n",
    "                            #to_return[int(hour)]['False'].append(s)\n",
    "                    #if i in b and i.hour>=9 and i.hour<21:\n",
    "                       \n",
    "                        #action = b[i]\n",
    "                    #print(action)\n",
    "                    #int(dow==5 or dow==6)\n",
    "                        #if action:\n",
    "                            #to_return[int(dow==5 or dow==6)]['False'].append(s)\n",
    "    return to_return"
   ]
  },
  {
   "cell_type": "code",
   "execution_count": 7,
   "metadata": {},
   "outputs": [],
   "source": [
    "def get_all_temperature():\n",
    "    to_return = {0:{'True':[],'False':[]},1:{'True':[],'False':[]}}\n",
    "    for k,v in merged.items():\n",
    "        if k!=4:\n",
    "            \n",
    "            a = all_actives[k]\n",
    "            b = all_antis[k]\n",
    "        #print(len(a))\n",
    "            xs = []\n",
    "            ys = []\n",
    "            if k!=4:\n",
    "                steps = adjust_to_thirty_minute(v['steps'])\n",
    "                for i,s in steps.iteritems():\n",
    "                    temp = None\n",
    "                    if i in temps[k]:\n",
    "                        temp = temps[k][i]\n",
    "                    if i in a and i in b and i.hour>=9 and i.hour<21:\n",
    "                    #print('found')\n",
    "                        action = a[i]\n",
    "                    #print(action)\n",
    "                    #int(dow==5 or dow==6)\n",
    "                        if  temp is not None:\n",
    "                            #to_return[int(temp)]['True'].append(s)\n",
    "                        \n",
    "                            if action:\n",
    "                                to_return[int(temp)]['True'].append(s)\n",
    "                            elif b[i]:\n",
    "                         \n",
    "                                    to_return[int(temp)]['False'].append(s)\n",
    "                    #if i in b and i.hour>=9 and i.hour<21:\n",
    "                       \n",
    "                        #action = b[i]\n",
    "                    #print(action)\n",
    "                    #int(dow==5 or dow==6)\n",
    "                        #if action:\n",
    "                            #to_return[int(dow==5 or dow==6)]['False'].append(s)\n",
    "    return to_return"
   ]
  },
  {
   "cell_type": "code",
   "execution_count": 8,
   "metadata": {},
   "outputs": [],
   "source": [
    "def get_all_last_steps():\n",
    "    to_return = {0:{'True':[],'False':[]},1:{'True':[],'False':[]}}\n",
    "    for k,v in merged.items():\n",
    "        if k!=4:\n",
    "            \n",
    "            a = all_actives[k]\n",
    "            b = all_antis[k]\n",
    "        #print(len(a))\n",
    "            xs = []\n",
    "            ys = []\n",
    "            if k!=4:\n",
    "                steps = adjust_to_thirty_minute(v['steps'])\n",
    "                for i,s in steps.iteritems():\n",
    "                    temp = None\n",
    "                    if i in last_steps[k]:\n",
    "                        temp = last_steps[k][i]\n",
    "                    if i in a and i in b and i.hour>=9 and i.hour<21:\n",
    "                    #print('found')\n",
    "                        action = a[i]\n",
    "                    #print(action)\n",
    "                    #int(dow==5 or dow==6)\n",
    "                    #int(dow==5 or dow==6)\n",
    "                        if  temp is not None:\n",
    "                            #to_return[int(temp)]['True'].append(s)\n",
    "                        \n",
    "                            if action:\n",
    "                                to_return[int(temp)]['True'].append(s)\n",
    "                            elif b[i]:\n",
    "                    \n",
    "                                    to_return[int(temp)]['False'].append(s)\n",
    "                    #if i in b and i.hour>=9 and i.hour<21:\n",
    "                       \n",
    "                        #action = b[i]\n",
    "                    #print(action)\n",
    "                    #int(dow==5 or dow==6)\n",
    "                        #if action:\n",
    "                            #to_return[int(dow==5 or dow==6)]['False'].append(s)\n",
    "    return to_return"
   ]
  },
  {
   "cell_type": "code",
   "execution_count": 9,
   "metadata": {},
   "outputs": [],
   "source": [
    "def get_all_location():\n",
    "    to_return = {0:{'True':[],'False':[]},1:{'True':[],'False':[]}}\n",
    "    for k,v in merged.items():\n",
    "        if k!=4:\n",
    "            \n",
    "            a = all_actives[k]\n",
    "            b = all_antis[k]\n",
    "        #print(len(a))\n",
    "            xs = []\n",
    "            ys = []\n",
    "            if k!=4:\n",
    "                steps = adjust_to_thirty_minute(v['steps'])\n",
    "                for i,s in steps.iteritems():\n",
    "                    temp = None\n",
    "                    if i in location[k]:\n",
    "                        temp = location[k][i]\n",
    "                    if i in a and i in b and i.hour>=9 and i.hour<21:\n",
    "                    #print('found')\n",
    "                        action = a[i]\n",
    "                    #print(action)\n",
    "                    #int(dow==5 or dow==6)\n",
    "                        if  temp is not None:\n",
    "                            #to_return[int(temp)]['True'].append(s)\n",
    "                        \n",
    "                            if action:\n",
    "                                to_return[int(temp)]['True'].append(s)\n",
    "                            elif b[i]:\n",
    "                      \n",
    "                                    to_return[int(temp)]['False'].append(s)\n",
    "                            \n",
    "                        #elif b[i] and temp is not None:\n",
    "                        #else:\n",
    "                            #to_return[int(temp)]['False'].append(s)\n",
    "                    #if i in b and i.hour>=9 and i.hour<21:\n",
    "                       \n",
    "                        #action = b[i]\n",
    "                    #print(action)\n",
    "                    #int(dow==5 or dow==6)\n",
    "                        #if action:\n",
    "                            #to_return[int(dow==5 or dow==6)]['False'].append(s)\n",
    "    return to_return"
   ]
  },
  {
   "cell_type": "code",
   "execution_count": 10,
   "metadata": {},
   "outputs": [],
   "source": [
    "def get_intercept():\n",
    "    to_return = {'True':[],'False':[]}\n",
    "    for k,v in merged.items():\n",
    "        if k!=4:\n",
    "            \n",
    "            a = all_actives[k]\n",
    "            b = all_antis[k]\n",
    "        #print(len(a))\n",
    "            xs = []\n",
    "            ys = []\n",
    "            if k!=4:\n",
    "                steps = adjust_to_thirty_minute(v['steps'])\n",
    "                for i,s in steps.iteritems():\n",
    "                    dow = i.dayofweek\n",
    "                    if i in a and i in b and i.hour>=9 and i.hour<21:\n",
    "                    #print('found')\n",
    "                        action = a[i]\n",
    "                    #print(action)\n",
    "                    #int(dow==5 or dow==6)\n",
    "                        if action:\n",
    "                            to_return['True'].append(s)\n",
    "                        #else:\n",
    "                            #to_return['False'].append(s)\n",
    "                        #elif b[i]:\n",
    "                        elif b[i]:\n",
    "                    \n",
    "                                to_return['False'].append(s)\n",
    "                    #if i in b and i.hour>=9 and i.hour<21:\n",
    "                       \n",
    "                        #action = b[i]\n",
    "                    #print(action)\n",
    "                    #int(dow==5 or dow==6)\n",
    "                        #if action:\n",
    "                            #to_return[int(dow==5 or dow==6)]['False'].append(s)\n",
    "    return to_return"
   ]
  },
  {
   "cell_type": "code",
   "execution_count": null,
   "metadata": {},
   "outputs": [],
   "source": [
    "test = get_all_tod()"
   ]
  },
  {
   "cell_type": "code",
   "execution_count": null,
   "metadata": {},
   "outputs": [],
   "source": [
    "tn = get_intercept()"
   ]
  },
  {
   "cell_type": "code",
   "execution_count": 15,
   "metadata": {},
   "outputs": [],
   "source": [
    "import math\n",
    "def make_x_y(d):\n",
    "    X = []\n",
    "    y = []\n",
    "    \n",
    "    mean_zero = np.array([math.log(s+.5) for s in d[0]['True']]).mean()-np.array([math.log(s+.5) for s in d[0]['False']]).mean()\n",
    "    mean_one = np.array([math.log(s+.5) for s in d[1]['True']]).mean()-np.array([math.log(s+.5) for s in d[1]['False']]).mean()\n",
    "    X = [[0],[1]]\n",
    "    y = [mean_zero,mean_one]\n",
    "    return X,y"
   ]
  },
  {
   "cell_type": "code",
   "execution_count": 16,
   "metadata": {},
   "outputs": [],
   "source": [
    "import math\n",
    "def make_x_y_intercept(d):\n",
    "    X = []\n",
    "    y = []\n",
    "    print( len(d['True']))\n",
    "    print( len(d['False']))\n",
    "    \n",
    "    mean_zero = np.array([math.log(s+.5) for s in d['True']]).mean()-np.array([math.log(s+.5) for s in d['False']]).mean()\n",
    "    X = [[0]]\n",
    "    y = [mean_zero]\n",
    "    return X,y"
   ]
  },
  {
   "cell_type": "code",
   "execution_count": 17,
   "metadata": {},
   "outputs": [],
   "source": [
    "import math\n",
    "def make_x_y_fancy(d):\n",
    "    X = []\n",
    "    y = []\n",
    "    \n",
    "    \n",
    "    mzero_one,szero_one = get_mean_std( d[0]['True'])\n",
    "    mzero_zero,szero_zero = get_mean_std( d[0]['False'])\n",
    "    \n",
    "    mone_one,sone_one = get_mean_std( d[1]['True'])\n",
    "    mone_zero,sone_zero = get_mean_std( d[1]['False'])\n",
    "    \n",
    "    mean_zero = mzero_one-mzero_zero\n",
    "    mean_one = mone_one-mone_zero\n",
    "    \n",
    "    \n",
    "    X = [[0],[1]]\n",
    "    y = [mean_zero,mean_one]\n",
    "    return X,y"
   ]
  },
  {
   "cell_type": "code",
   "execution_count": 18,
   "metadata": {},
   "outputs": [],
   "source": [
    "def get_mean_std(raw_array):\n",
    "    arr = [s+.5 for s in raw_array]\n",
    "    \n",
    "    phi = np.sqrt(np.array(arr).std()**2+np.array(arr).mean()**2)\n",
    "    \n",
    "    normal_mean = math.log(np.array(arr).mean()**2/phi)\n",
    "    normal_std = np.sqrt(math.log(phi**2/np.array(arr).mean()**2))\n",
    "    return normal_mean,normal_std"
   ]
  },
  {
   "cell_type": "code",
   "execution_count": 19,
   "metadata": {},
   "outputs": [],
   "source": [
    "import math\n",
    "def make_x_y_intercept(d):\n",
    "    X = []\n",
    "    y = []\n",
    "    o = min( len(d['True']),len(d['False']))\n",
    "\n",
    "    \n",
    "    #mean_zero = np.array([math.log(s+.5) for s in d['True']]).mean()-np.array([math.log(s+.5) for s in d['False']]).mean()\n",
    "    m_one,std_one = get_mean_std( d['True'])\n",
    "    \n",
    "    m_zero,std_zero = get_mean_std( d['False'])\n",
    "    \n",
    "    for i in range(o):\n",
    "        X.append([0])\n",
    "        y_one = np.random.normal(loc =m_one,scale=std_one)\n",
    "        y_two = np.random.normal(loc =m_zero,scale=std_zero)\n",
    "        y.append(y_one-y_two)\n",
    "    return X,y"
   ]
  },
  {
   "cell_type": "code",
   "execution_count": 47,
   "metadata": {},
   "outputs": [],
   "source": [
    "test = get_all_temperature()"
   ]
  },
  {
   "cell_type": "code",
   "execution_count": 48,
   "metadata": {},
   "outputs": [
    {
     "data": {
      "text/plain": [
       "array([0.18145672])"
      ]
     },
     "execution_count": 48,
     "metadata": {},
     "output_type": "execute_result"
    }
   ],
   "source": [
    "X,y = make_x_y_fancy(test)\n",
    "reg = LinearRegression().fit(X, y)\n",
    "reg.coef_"
   ]
  },
  {
   "cell_type": "code",
   "execution_count": 296,
   "metadata": {},
   "outputs": [
    {
     "data": {
      "text/plain": [
       "[-0.01597239389423022, 0.38353261266077876]"
      ]
     },
     "execution_count": 296,
     "metadata": {},
     "output_type": "execute_result"
    }
   ],
   "source": []
  },
  {
   "cell_type": "code",
   "execution_count": 297,
   "metadata": {},
   "outputs": [],
   "source": [
    "reg = LinearRegression().fit(X, y)"
   ]
  },
  {
   "cell_type": "code",
   "execution_count": 298,
   "metadata": {},
   "outputs": [
    {
     "data": {
      "text/plain": [
       "array([0.39950501])"
      ]
     },
     "execution_count": 298,
     "metadata": {},
     "output_type": "execute_result"
    }
   ],
   "source": [
    "reg.coef_"
   ]
  },
  {
   "cell_type": "code",
   "execution_count": 248,
   "metadata": {},
   "outputs": [
    {
     "data": {
      "text/plain": [
       "0.22518209432175196"
      ]
     },
     "execution_count": 248,
     "metadata": {},
     "output_type": "execute_result"
    }
   ],
   "source": [
    "reg.intercept_"
   ]
  },
  {
   "cell_type": "code",
   "execution_count": 315,
   "metadata": {},
   "outputs": [
    {
     "data": {
      "text/plain": [
       "0.24084978362502385"
      ]
     },
     "execution_count": 315,
     "metadata": {},
     "output_type": "execute_result"
    }
   ],
   "source": [
    "X,y = make_x_y_intercept(tn)\n",
    "reg = LinearRegression().fit(X, y)\n",
    "reg.coef_\n",
    "reg.intercept_"
   ]
  },
  {
   "cell_type": "code",
   "execution_count": 257,
   "metadata": {},
   "outputs": [
    {
     "data": {
      "text/plain": [
       "[0.20298266707683954]"
      ]
     },
     "execution_count": 257,
     "metadata": {},
     "output_type": "execute_result"
    }
   ],
   "source": [
    "y"
   ]
  },
  {
   "cell_type": "code",
   "execution_count": 90,
   "metadata": {},
   "outputs": [
    {
     "data": {
      "text/plain": [
       "220.20762711864407"
      ]
     },
     "execution_count": 90,
     "metadata": {},
     "output_type": "execute_result"
    }
   ],
   "source": [
    "np.array(test[1]['True']).mean()"
   ]
  },
  {
   "cell_type": "code",
   "execution_count": 89,
   "metadata": {},
   "outputs": [
    {
     "data": {
      "text/plain": [
       "(1021,)"
      ]
     },
     "execution_count": 89,
     "metadata": {},
     "output_type": "execute_result"
    }
   ],
   "source": [
    "np.array(test[1]['False']).shape"
   ]
  },
  {
   "cell_type": "code",
   "execution_count": 91,
   "metadata": {},
   "outputs": [
    {
     "data": {
      "text/plain": [
       "[19.762575975894237, 0.21252427829148246]"
      ]
     },
     "execution_count": 91,
     "metadata": {},
     "output_type": "execute_result"
    }
   ],
   "source": [
    "y"
   ]
  },
  {
   "cell_type": "code",
   "execution_count": 20,
   "metadata": {},
   "outputs": [],
   "source": [
    "with open('../../Downloads/distributions/hour_to_id.pkl','rb') as f:\n",
    "    hour_ids = pickle.load(f)\n",
    "with open('../../Downloads/distributions/tonly_lookup_dict.pkl','rb') as f:\n",
    "    temps = pickle.load(f)\n",
    "with open('../../Downloads/distributions/newlog_steps_last30min.pkl','rb') as f:\n",
    "    last_steps = pickle.load(f)\n",
    "with open('../../Downloads/distributions/location_lookup_dict_basics.pkl','rb') as f:\n",
    "    location = pickle.load(f)\n"
   ]
  },
  {
   "cell_type": "code",
   "execution_count": 103,
   "metadata": {},
   "outputs": [
    {
     "name": "stdout",
     "output_type": "stream",
     "text": [
      "1379\n",
      "[ 0.04772972  0.0696645   0.21549613  0.24941052 -0.22475609  0.22540878]\n",
      "0.04772972147336857\n",
      "1379\n"
     ]
    }
   ],
   "source": [
    "ys = []\n",
    "xs=[]\n",
    "sigs = []\n",
    "for k,v in dists_sed.items():\n",
    "    if 'aint-1' in k and len(k.split('-'))==14 and k in dists_act and 'tod-2' not in k:\n",
    "        occurs= min(v[2],dists_act[k][2])\n",
    "        sigs.append(v[1])\n",
    "        sigs.append(dists_act[k][1])\n",
    "        \n",
    "        for j in range(occurs):\n",
    "        #if  v[2]>35 and  dists_act[k][2]>35:\n",
    "            \n",
    "            y = dists_act[k][0]-v[0]\n",
    "            #np.random.normal(dists_act[k][0],dists_act[k][1])-np.random.normal(v[0],v[1])\n",
    "            p = k.split('-')\n",
    "            x = [1]+[int(p[i]) for i in range(5,len(p),2)]\n",
    "            ys.append(y)\n",
    "            xs.append(x)\n",
    "print(len(xs))\n",
    "reg = LinearRegression().fit(xs, ys)\n",
    "print(np.array([reg.intercept_]+reg.coef_))\n",
    "print(reg.intercept_)\n",
    "print(len(xs))"
   ]
  },
  {
   "cell_type": "code",
   "execution_count": null,
   "metadata": {},
   "outputs": [],
   "source": []
  },
  {
   "cell_type": "code",
   "execution_count": 106,
   "metadata": {},
   "outputs": [
    {
     "data": {
      "text/plain": [
       "0.829691667107783"
      ]
     },
     "execution_count": 106,
     "metadata": {},
     "output_type": "execute_result"
    }
   ],
   "source": [
    "np.percentile(sigs,25)"
   ]
  },
  {
   "cell_type": "code",
   "execution_count": 100,
   "metadata": {},
   "outputs": [
    {
     "name": "stdout",
     "output_type": "stream",
     "text": [
      "1716\n",
      "[ 0.         -0.0632193  -0.04564373  0.02496729 -0.19398716  0.24379593]\n",
      "0.19472243999853708\n",
      "1716\n"
     ]
    }
   ],
   "source": [
    "ys = []\n",
    "xs=[]\n",
    "for k,v in dists_act.items():\n",
    "    \n",
    "    if 'aint-1' in k and len(k.split('-'))==14 and 'aint-0-'+k[7:] in dists_act and 'tod-2' not in k :\n",
    "        #print('aint-0-'+k[7:] )\n",
    "        #print(v[2])\n",
    "        occurs= min(v[2],dists_act['aint-0-'+k[7:]][2])\n",
    "        for j in range(occurs):\n",
    "        #if  v[2]>35 and  dists_act['aint-0-'+k[7:]][2]>35:\n",
    "            #y = np.random.normal(v[0],v[1])-np.random.normal(dists_act['aint-0-'+k[7:]][0],dists_act['aint-0-'+k[7:]][1])\n",
    "            y=v[0]-dists_act['aint-0-'+k[7:]][0]\n",
    "            p = k.split('-')\n",
    "            x = [1]+[int(p[i]) for i in range(5,len(p),2)]\n",
    "            ys.append(y)\n",
    "            xs.append(x)\n",
    "print(len(xs))\n",
    "reg = LinearRegression().fit(xs, ys)\n",
    "print(reg.coef_)\n",
    "print(reg.intercept_)\n",
    "print(len(xs))"
   ]
  },
  {
   "cell_type": "code",
   "execution_count": 53,
   "metadata": {},
   "outputs": [
    {
     "data": {
      "text/plain": [
       "34"
      ]
     },
     "execution_count": 53,
     "metadata": {},
     "output_type": "execute_result"
    }
   ],
   "source": [
    "len(xs)"
   ]
  },
  {
   "cell_type": "code",
   "execution_count": 52,
   "metadata": {},
   "outputs": [
    {
     "name": "stdout",
     "output_type": "stream",
     "text": [
      "[ 0.         -0.01125987  0.0965933   0.2353184  -0.24098841  0.36741346]\n",
      "0.020884223339177332\n"
     ]
    }
   ],
   "source": [
    "reg = LinearRegression().fit(xs, ys)\n",
    "print(reg.coef_)\n",
    "print(reg.intercept_)"
   ]
  },
  {
   "cell_type": "code",
   "execution_count": 25,
   "metadata": {},
   "outputs": [
    {
     "data": {
      "text/plain": [
       "[-3.0156288879987927,\n",
       " 1.0452144083594543,\n",
       " 0.7379065144300281,\n",
       " -0.6090635823879742,\n",
       " 0.2508776665151009,\n",
       " 0.31623322573268187,\n",
       " 1.696856837520671,\n",
       " 3.193613157354273,\n",
       " 2.7739222696650465,\n",
       " 5.131982005737408,\n",
       " 6.014456327740522,\n",
       " 0.0,\n",
       " -5.017661558073788,\n",
       " 0.2388282485008082,\n",
       " 1.0301685896936918,\n",
       " -3.2298212296958426,\n",
       " -1.0294229143566214,\n",
       " 1.3020916706173464,\n",
       " 2.394808946866181,\n",
       " -0.0640413120112786,\n",
       " 0.1701445978879912,\n",
       " 0.025086462433566048,\n",
       " -1.5485703205086843,\n",
       " 0.7811547311410032,\n",
       " -0.46518846001800007,\n",
       " 2.072405714218731,\n",
       " 0.12233529633757279,\n",
       " 1.9374753945044745,\n",
       " 4.078290966836959,\n",
       " -0.9942849082828271,\n",
       " 3.8066624897703196,\n",
       " 0.2374507340714631,\n",
       " -0.3847584611212369,\n",
       " 0.5325334001333522,\n",
       " -0.10635223706021968,\n",
       " 0.2947017009192603,\n",
       " -0.3424801065206049,\n",
       " -0.08439480306135039,\n",
       " 0.15207494742079408,\n",
       " 0.5942858290564486,\n",
       " 0.8779162088666332,\n",
       " 0.46159610831208564,\n",
       " -0.2848422664753345,\n",
       " -0.08998475896447466,\n",
       " -0.09280191112020653,\n",
       " 1.316205324967135,\n",
       " -0.18676606203885804,\n",
       " 0.2222931097915235,\n",
       " 0.5423860867572321,\n",
       " 0.09148833143785051,\n",
       " -0.2060657030651516,\n",
       " -0.17957576790860763,\n",
       " 0.2731093566677294,\n",
       " 0.037103160482373276,\n",
       " -0.3498787353243378,\n",
       " 0.3451549426216616,\n",
       " -0.1667385195348401,\n",
       " 0.32473483863484276,\n",
       " -0.1027847677385294,\n",
       " 0.360720685093165,\n",
       " 1.6095152787937805,\n",
       " -0.45844671775969914,\n",
       " -0.26232968624187336]"
      ]
     },
     "execution_count": 25,
     "metadata": {},
     "output_type": "execute_result"
    }
   ],
   "source": [
    "ys"
   ]
  },
  {
   "cell_type": "code",
   "execution_count": null,
   "metadata": {},
   "outputs": [],
   "source": []
  }
 ],
 "metadata": {
  "kernelspec": {
   "display_name": "Python 3",
   "language": "python",
   "name": "python3"
  },
  "language_info": {
   "codemirror_mode": {
    "name": "ipython",
    "version": 3
   },
   "file_extension": ".py",
   "mimetype": "text/x-python",
   "name": "python",
   "nbconvert_exporter": "python",
   "pygments_lexer": "ipython3",
   "version": "3.6.8"
  }
 },
 "nbformat": 4,
 "nbformat_minor": 2
}
