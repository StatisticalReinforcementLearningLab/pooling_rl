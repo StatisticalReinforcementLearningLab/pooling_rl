{
 "cells": [
  {
   "cell_type": "code",
   "execution_count": 1,
   "metadata": {
    "collapsed": false
   },
   "outputs": [],
   "source": [
    "import bandit\n",
    "from numpy.random import uniform\n",
    "from numpy.linalg import solve\n",
    "import numpy as np\n",
    "import state_params\n",
    "import random\n",
    "from scipy.stats import norm\n",
    "import TS\n",
    "from scipy.linalg import block_diag"
   ]
  },
  {
   "cell_type": "code",
   "execution_count": 2,
   "metadata": {
    "collapsed": false
   },
   "outputs": [],
   "source": [
    "sp = state_params.state_params(10)"
   ]
  },
  {
   "cell_type": "code",
   "execution_count": 3,
   "metadata": {
    "collapsed": false
   },
   "outputs": [],
   "source": [
    "def simulate(pZ,init):\n",
    "    total_reward = 0\n",
    "  # simulation\n",
    "    nT = 450\n",
    "\n",
    "      # initial state\n",
    "    Z_init = [uniform() for i in range(pZ)]\n",
    "    X_init =0\n",
    "    I_init = (uniform() < 0.8)\n",
    "  \n",
    "\n",
    "  \n",
    "    # policy initilization\n",
    "    mu_beta = init.mu_2\n",
    "    Sigma_beta = init.sigma_2\n",
    "  \n",
    "    # placeholder\n",
    "    batch = [[] for i in range(nT)]\n",
    "  \n",
    "  \n",
    "    # performance matrix\n",
    "\n",
    "  \n",
    "    \n",
    "    for t in range(nT):\n",
    "    \n",
    "    \n",
    "    # current state \n",
    "    \n",
    "        if(t==0):\n",
    "      \n",
    "            Z_next = Z_init\n",
    "            X_next = X_init\n",
    "            I_next = I_init\n",
    "      \n",
    "    \n",
    "    \n",
    "        Z = Z_next\n",
    "        X = X_next\n",
    "        I = I_next\n",
    "    \n",
    "    # action selection\n",
    "    \n",
    "        if I == 1:\n",
    "      \n",
    "          # calculate prob\n",
    "      \n",
    "          prob = TS.prob_cal_ts(Z, X, mu_beta, Sigma_beta, init)\n",
    "      \n",
    "          # sample the action\n",
    "          A = int(uniform() < prob)\n",
    "      \n",
    "        else:\n",
    "      \n",
    "          prob = 0\n",
    "          A = 0\n",
    "      \n",
    "        \n",
    "    \n",
    "        R = 1+Z[0]+(Z[0]**2)-(.05*X)+A*(1-.1*X)+np.random.normal(scale=1)\n",
    "        Z_next = [uniform() for i in range(pZ)]\n",
    "        X_next = TS.gen_nextdosage(X,A)\n",
    "        I_next = (uniform()<.8)\n",
    "        \n",
    "        \n",
    "        batch[t]=TS.make_batch(t,Z,X,I,A,prob,R)\n",
    "        \n",
    "        \n",
    "        total_reward = total_reward+R\n",
    "        if (t+1)%5 == 0: \n",
    "              \n",
    "            #update the txt effect posterior\n",
    "            temp = TS.policy_update_ts(batch[:t], init)\n",
    "            #print(temp)\n",
    "            mu_beta = temp[0]\n",
    "            Sigma_beta = temp[1]\n",
    "      \n",
    "      \n",
    "   \n",
    "    \n",
    "        #policy_update_ts(batch, init)\n",
    "    print(total_reward)\n",
    "    return batch,total_reward\n",
    "  \n",
    "    \n"
   ]
  },
  {
   "cell_type": "code",
   "execution_count": 4,
   "metadata": {
    "collapsed": false
   },
   "outputs": [
    {
     "name": "stdout",
     "output_type": "stream",
     "text": [
      "746.9184889670927\n"
     ]
    }
   ],
   "source": [
    "b,t =simulate(sp.pZ,sp)"
   ]
  },
  {
   "cell_type": "code",
   "execution_count": null,
   "metadata": {
    "collapsed": true
   },
   "outputs": [],
   "source": []
  }
 ],
 "metadata": {
  "anaconda-cloud": {},
  "kernelspec": {
   "display_name": "Python [Root]",
   "language": "python",
   "name": "Python [Root]"
  },
  "language_info": {
   "codemirror_mode": {
    "name": "ipython",
    "version": 3
   },
   "file_extension": ".py",
   "mimetype": "text/x-python",
   "name": "python",
   "nbconvert_exporter": "python",
   "pygments_lexer": "ipython3",
   "version": "3.5.6"
  }
 },
 "nbformat": 4,
 "nbformat_minor": 0
}
