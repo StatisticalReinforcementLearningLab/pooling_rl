{
 "cells": [
  {
   "cell_type": "code",
   "execution_count": 6,
   "metadata": {
    "collapsed": true
   },
   "outputs": [],
   "source": [
    "import pandas as pd\n",
    "import numpy as np\n",
    "import pickle\n",
    "import random\n",
    "import os"
   ]
  },
  {
   "cell_type": "code",
   "execution_count": 15,
   "metadata": {
    "collapsed": false
   },
   "outputs": [],
   "source": [
    "root = '../../../../Volumes/dav/HeartSteps/pooling_rl_shared_data/distributions/'"
   ]
  },
  {
   "cell_type": "code",
   "execution_count": 16,
   "metadata": {
    "collapsed": false
   },
   "outputs": [],
   "source": [
    "with open('{}step_dist_both_groups.pkl'.format(root),'rb') as f:\n",
    "    dists = pickle.load(f)"
   ]
  },
  {
   "cell_type": "code",
   "execution_count": 17,
   "metadata": {
    "collapsed": false
   },
   "outputs": [],
   "source": [
    "with open('{}interventions_both_groups.pkl'.format(root),'rb') as f:\n",
    "    intervention_dists = pickle.load(f)"
   ]
  },
  {
   "cell_type": "code",
   "execution_count": 18,
   "metadata": {
    "collapsed": false
   },
   "outputs": [],
   "source": [
    "with open('{}location_conditiononed_on_last_location.pkl'.format(root),'rb') as f:\n",
    "    loc_dists =pickle.load(f)"
   ]
  },
  {
   "cell_type": "code",
   "execution_count": 13,
   "metadata": {
    "collapsed": false
   },
   "outputs": [],
   "source": [
    "days = pd.date_range(start = '7/22/2015',end =pd.Timestamp('7/22/2015')+pd.DateOffset(days=90),freq='60T')"
   ]
  },
  {
   "cell_type": "code",
   "execution_count": 19,
   "metadata": {
    "collapsed": true
   },
   "outputs": [],
   "source": [
    "def get_location_prior(group_id,day_of_week,time_of_day):\n",
    "    with open('{}initial_location_distributions.pkl'.format(root),'rb') as f:\n",
    "        loc_lookup = pickle.load(f)\n",
    "    key = '{}-{}-{}'.format(group_id,day_of_week,time_of_day)\n",
    "    \n",
    "    ##make a bit smoother while loop instead \n",
    "    if key in loc_lookup:\n",
    "        ps = loc_lookup[key]\n",
    "    else:\n",
    "        key =  '{}-{}'.format(group_id,day_of_week)\n",
    "        if key  in loc_lookup:\n",
    "            ps = loc_lookup[key]\n",
    "        else:\n",
    "            key =  '{}'.format(group_id)\n",
    "            if key  in loc_lookup:\n",
    "                ps = loc_lookup[key]\n",
    "                \n",
    "            else:\n",
    "                ps = loc_lookup['mean']\n",
    "                \n",
    "    val = np.argmax(np.random.multinomial(100,ps))\n",
    "    return val"
   ]
  },
  {
   "cell_type": "code",
   "execution_count": 44,
   "metadata": {
    "collapsed": false
   },
   "outputs": [],
   "source": [
    "def get_weather_prior(group_id,day_of_week,time_of_day):\n",
    "    with open('{}initial_weather_distributions.pkl'.format(root),'rb') as f:\n",
    "        loc_lookup = pickle.load(f)\n",
    "    key = '{}-{}-{}'.format(group_id,day_of_week,time_of_day)\n",
    "    \n",
    "    ##make a bit smoother while loop instead \n",
    "    if key in loc_lookup:\n",
    "        ps = loc_lookup[key]\n",
    "    else:\n",
    "        key =  '{}-{}'.format(group_id,day_of_week)\n",
    "        if key  in loc_lookup:\n",
    "            ps = loc_lookup[key]\n",
    "        else:\n",
    "            key =  '{}'.format(group_id)\n",
    "            if key  in loc_lookup:\n",
    "                ps = loc_lookup[key]\n",
    "                \n",
    "            else:\n",
    "                ps = loc_lookup['mean']\n",
    "                \n",
    "    val = np.argmax(np.random.multinomial(100,ps))\n",
    "    return val"
   ]
  },
  {
   "cell_type": "code",
   "execution_count": 20,
   "metadata": {
    "collapsed": true
   },
   "outputs": [],
   "source": [
    "def get_time_of_day(an_index):\n",
    "    with open('{}hour_to_id.pkl'.format(root),'rb') as f:\n",
    "        hour_lookup = pickle.load(f)\n",
    "    return hour_lookup[an_index.hour]\n",
    "    "
   ]
  },
  {
   "cell_type": "code",
   "execution_count": 21,
   "metadata": {
    "collapsed": true
   },
   "outputs": [],
   "source": [
    "def get_day_of_week(an_index):\n",
    "    with open('{}day_to_id.pkl'.format(root),'rb') as f:\n",
    "        hour_lookup = pickle.load(f)\n",
    "    return hour_lookup[an_index.dayofweek]\n",
    "    "
   ]
  },
  {
   "cell_type": "code",
   "execution_count": 45,
   "metadata": {
    "collapsed": true
   },
   "outputs": [],
   "source": [
    "def get_initial_context(num_people,first_index):\n",
    "    '''States:\n",
    "    [group,day_of_week,time_of_day,location,weather,dosage,previous_step_count]\n",
    "    \n",
    "    '''\n",
    "    \n",
    "    all_people = []\n",
    "    for person in range(num_people):\n",
    "        #group_id = int(random.random()>.8)+1\n",
    "        group_id = 2\n",
    "        day_of_week = get_time_of_day(first_index)\n",
    "        time_of_day = get_day_of_week(first_index)\n",
    "        first_location = get_location_prior(group_id,day_of_week,time_of_day)\n",
    "        weather = get_weather_prior(group_id,day_of_week,time_of_day)\n",
    "        #weather = 0 \n",
    "        dosage = 1\n",
    "        variation = 1\n",
    "        previous_step_count = 0 \n",
    "        lsc = 0\n",
    "        #day_of_week,time_of_day,dosage,location,last_steps,last_steps_hour,varia\n",
    "        all_people.append([group_id,day_of_week,time_of_day,dosage,first_location,previous_step_count,lsc,variation])\n",
    "        \n",
    "    return all_people"
   ]
  },
  {
   "cell_type": "code",
   "execution_count": 46,
   "metadata": {
    "collapsed": true
   },
   "outputs": [],
   "source": [
    "def get_initial_steps(contexts):\n",
    "    \n",
    "    return [steps_given_context(person_context) for person_context in contexts]\n",
    "\n",
    "    "
   ]
  },
  {
   "cell_type": "code",
   "execution_count": 47,
   "metadata": {
    "collapsed": true
   },
   "outputs": [],
   "source": [
    "def get_time(current_time):\n",
    "    \n",
    "    #needs to be a time delta\n",
    "    \n",
    "    return current_time+1\n",
    "    "
   ]
  },
  {
   "cell_type": "code",
   "execution_count": 48,
   "metadata": {
    "collapsed": true
   },
   "outputs": [],
   "source": [
    "def get_possible_keys(context):\n",
    "    \n",
    "    \n",
    "    keys = []\n",
    "    \n",
    "    \n",
    "    for i in range(len(context)):\n",
    "        stop = len(context)-i-1\n",
    "        #for j in range(stop):\n",
    "        if stop>=1:\n",
    "            key = '-'.join([str(context[j]) for j in range(stop)])\n",
    "        \n",
    "        keys.append(key)\n",
    "    keys.append('{}-mean'.format(context[0]))\n",
    "    return keys"
   ]
  },
  {
   "cell_type": "code",
   "execution_count": 49,
   "metadata": {
    "collapsed": false
   },
   "outputs": [],
   "source": [
    "def get_steps_no_action(context):\n",
    "    context_key = '-'.join([str(c) for c in context])\n",
    "    possible_keys = get_possible_keys(context)\n",
    "    keys = [context_key]\n",
    "    keys.extend(possible_keys)\n",
    "    #print(keys)\n",
    "    #keys = [k+'-{}'.format(action) for k in keys]\n",
    "    #print(keys)\n",
    "    i=0\n",
    "    while keys[i] not in dists:\n",
    "        #print(i)\n",
    "        i=i+1\n",
    "    #print(keys[i])\n",
    "    #print(keys[-1])\n",
    "    dist = dists[keys[i]]\n",
    "    \n",
    "    \n",
    "    x = np.random.normal(loc=dist[0],scale=dist[1])\n",
    "    while(x<0):\n",
    "         x = np.random.normal(loc=dist[0],scale=dist[1])\n",
    "    return x\n",
    "    "
   ]
  },
  {
   "cell_type": "code",
   "execution_count": 50,
   "metadata": {
    "collapsed": true
   },
   "outputs": [],
   "source": [
    "def get_steps_action(context,action):\n",
    "    #nkey = '{}-{}'.format(action,context)\n",
    "\n",
    "    this_context = [action]\n",
    "    this_context.extend(context)\n",
    "    possible_keys = get_possible_keys(this_context)\n",
    "    \n",
    "    context_key = '-'.join([str(c) for c in this_context])\n",
    "    \n",
    "    keys = [context_key]\n",
    "    keys.extend(possible_keys)\n",
    "    #print(keys)\n",
    "    #keys = [k+'-{}'.format(action) for k in keys]\n",
    "    #print(keys)\n",
    "    i=0\n",
    "    while keys[i] not in intervention_dists:\n",
    "        #print(i)\n",
    "        i=i+1\n",
    "    #print(keys[i])\n",
    "    #print(keys[-1])\n",
    "    dist = intervention_dists[keys[i]]\n",
    "    \n",
    "    \n",
    "    x = np.random.normal(loc=dist[0],scale=dist[1])\n",
    "    while(x<0):\n",
    "         x = np.random.normal(loc=dist[0],scale=dist[1])\n",
    "    return x\n",
    "    "
   ]
  },
  {
   "cell_type": "code",
   "execution_count": 51,
   "metadata": {
    "collapsed": true
   },
   "outputs": [],
   "source": [
    "def get_steps(context,action):\n",
    "    if action==-1:\n",
    "        return get_steps_no_action(context)\n",
    "\n",
    "    return get_steps_action(context,action)"
   ]
  },
  {
   "cell_type": "code",
   "execution_count": 52,
   "metadata": {
    "collapsed": true
   },
   "outputs": [],
   "source": [
    "def get_next_location(context):\n",
    "    context_key = '-'.join([str(c) for c in context])\n",
    "    possible_keys = get_possible_keys(context)\n",
    "    \n",
    "    keys = [context_key]\n",
    "    keys.extend(possible_keys)\n",
    "    #print(possible_keys)\n",
    "    i=0\n",
    "    #print(keys[-1])\n",
    "    while keys[i] not in loc_dists and i<len(keys):\n",
    "        i=i+1\n",
    "    dist = loc_dists[keys[i]]\n",
    "    \n",
    "    val = np.argmax(np.random.multinomial(100,dist))\n",
    "    \n",
    "    return val\n",
    "            \n",
    "                \n",
    "    \n",
    "    \n",
    "    "
   ]
  },
  {
   "cell_type": "code",
   "execution_count": 53,
   "metadata": {
    "collapsed": true
   },
   "outputs": [],
   "source": [
    "def get_new_previous_step_count(some_steps):\n",
    "    ##pull in distribution threshold lookup thing\n",
    "    return 0\n",
    "    "
   ]
  },
  {
   "cell_type": "code",
   "execution_count": 54,
   "metadata": {
    "collapsed": false
   },
   "outputs": [],
   "source": [
    "##what do I need here\n",
    "def get_new_dosage(current_dosage):\n",
    "    return 5\n",
    "    "
   ]
  },
  {
   "cell_type": "code",
   "execution_count": 55,
   "metadata": {
    "collapsed": true
   },
   "outputs": [],
   "source": [
    "def get_context_revised(current_index,current_context,current_steps,decision_time,lsc,variation):\n",
    "        \n",
    "    day_of_week = get_time_of_day(current_index)\n",
    "    time_of_day = get_day_of_week(current_index)\n",
    "    \n",
    "    \n",
    "    new_previous_step_count = get_new_previous_step_count(current_steps)\n",
    "    \n",
    "    \n",
    "    if decision_time:\n",
    "        location = get_next_location([current_context[0],day_of_week,time_of_day,current_context[4]])\n",
    "    \n",
    "        dosage = get_new_dosage(current_context[3])\n",
    "    else:\n",
    "        location = current_context[4]\n",
    "        dosage = current_context[3]\n",
    "    return [current_context[0],day_of_week,time_of_day,dosage,location,new_previous_step_count,lsc,variation]\n",
    "    \n",
    "    "
   ]
  },
  {
   "cell_type": "code",
   "execution_count": 56,
   "metadata": {
    "collapsed": true
   },
   "outputs": [],
   "source": [
    "def get_new_lsc(step_slice):\n",
    "    #print('hi there')\n",
    "    s =sum(step_slice)**.5\n",
    "    if s<0:\n",
    "        return 0\n",
    "    if s>203:\n",
    "        return 203\n",
    "    return s"
   ]
  },
  {
   "cell_type": "code",
   "execution_count": 57,
   "metadata": {
    "collapsed": false
   },
   "outputs": [],
   "source": [
    "def get_variation_pre_week(variation,all_steps,time_indices,i):\n",
    "    \n",
    "    two_days = time_indices[0].date()+pd.DateOffset(days=1)\n",
    "    is_set = False\n",
    "    #first_index_last_day=-1\n",
    "    if i>two_days:\n",
    "        #print(i)\n",
    "        for j in range(len(time_indices)):\n",
    "            if time_indices[j].date()==i.date():\n",
    "                if not is_set:\n",
    "                    #print('set')\n",
    "                    #print(j)\n",
    "                    first_index_last_day = j\n",
    "                    #print(first_index_last_day)\n",
    "                    is_set = True\n",
    "            if time_indices[j]== i:\n",
    "                last_index_last_day = j\n",
    "    \n",
    "        pre_steps = all_steps[:first_index_last_day]\n",
    "        post_steps = all_steps[first_index_last_day:last_index_last_day]\n",
    "        \n",
    "        #print(pre_steps)\n",
    "        #print(post_steps)\n",
    "        \n",
    "        return int(np.array(pre_steps).std()>np.array(post_steps).std())\n",
    "        \n",
    "    else:\n",
    "        return variation\n",
    "    \n",
    "    "
   ]
  },
  {
   "cell_type": "code",
   "execution_count": 58,
   "metadata": {
    "collapsed": true
   },
   "outputs": [],
   "source": [
    "#will be algorithm, needs to communicate with algorithm\n",
    "def get_action(initial_context,steps):\n",
    "    return 1"
   ]
  },
  {
   "cell_type": "code",
   "execution_count": 59,
   "metadata": {
    "collapsed": false
   },
   "outputs": [],
   "source": [
    "def simulate_run(num_people,time_indices,decision_times):\n",
    "    \n",
    "    \n",
    "    initial_context = get_initial_context(num_people,time_indices[0])\n",
    "    \n",
    "    \n",
    "    initial_context = initial_context[0]\n",
    "    \n",
    "    \n",
    "    \n",
    "    \n",
    "    initial_steps = get_steps(initial_context,0)\n",
    "    current_steps = initial_steps\n",
    "    action = -1 \n",
    "    all_steps = []\n",
    "    \n",
    "    last_day = time_indices[0]\n",
    "    \n",
    "    new_day = False\n",
    "    \n",
    "    #for d in range(num_days):\n",
    "    \n",
    "    \n",
    "    start_of_day = 0 \n",
    "    end_of_day=0\n",
    "    current_index=0\n",
    "    \n",
    "    \n",
    "    first_week = time_indices[0].date()+pd.DateOffset(days=7)\n",
    "    \n",
    "    for i in time_indices:\n",
    "        \n",
    "        if i.date()!=last_day.date():\n",
    "            #print('trigger')\n",
    "            #print(i.date())\n",
    "            #print(last_day.date())\n",
    "            #print('hi there')\n",
    "            new_day=True\n",
    "            \n",
    "            \n",
    "            \n",
    "        decision_time = bool(i in decision_times)\n",
    "        #print(decision_time)\n",
    "        if i!=time_indices[0]:\n",
    "            #decision_time = bool(i in decision_times)\n",
    "            \n",
    "            ##need to modify this\n",
    "            #my_context = get_context(initial_context,current_steps,i,decision_time)\n",
    "            lsc = initial_context[5]\n",
    "            variation = initial_context[6]\n",
    "            if new_day:\n",
    "                #lsc=0\n",
    "                \n",
    "                \n",
    "                ##would love to break this out more cleanly \n",
    "                if i<first_week:\n",
    "                    variation = get_variation_pre_week(variation,all_steps,time_indices,last_day)\n",
    "                else:\n",
    "                    variation = get_variation(all_steps,time_indices,last_day)\n",
    "                \n",
    "                \n",
    "                lsc = get_new_lsc(all_steps[start_of_day:end_of_day])\n",
    "                #variation = get_new_variation()\n",
    "                \n",
    "            \n",
    "            \n",
    "            my_context = get_context_revised(i,initial_context,current_steps,decision_time,lsc,variation)\n",
    "            #return my_context\n",
    "            if i in decision_times:\n",
    "                print('decision time')\n",
    "                action = get_action(my_context,current_steps)\n",
    "                print(action)\n",
    "            else:\n",
    "                action = -1\n",
    "            ##redo get_steps\n",
    "            next_steps = get_steps(my_context,action) \n",
    "            all_steps.append(next_steps)\n",
    "            initial_context = my_context\n",
    "            current_steps = next_steps\n",
    "        else:\n",
    "            if i in decision_times:\n",
    "                print('decision time')\n",
    "                action = get_action(initial_context,current_steps)\n",
    "            else:\n",
    "                action = -1\n",
    "            next_steps = get_steps(initial_context,action) \n",
    "            all_steps.append(next_steps)\n",
    "            current_steps = next_steps\n",
    "        if new_day:\n",
    "            \n",
    "            start_of_day = current_index\n",
    "            new_day=False\n",
    "        last_day =i\n",
    "        end_of_day = current_index  \n",
    "        current_index = current_index+1\n",
    "            \n",
    "    return all_steps"
   ]
  },
  {
   "cell_type": "code",
   "execution_count": 60,
   "metadata": {
    "collapsed": false
   },
   "outputs": [],
   "source": [
    "decision_times = ['2015-07-22 02:00:00']\n",
    "num_people = 2"
   ]
  },
  {
   "cell_type": "code",
   "execution_count": 61,
   "metadata": {
    "collapsed": true
   },
   "outputs": [],
   "source": [
    "days = pd.date_range(start = '7/22/2015',end =pd.Timestamp('7/22/2015')+pd.DateOffset(days=90),freq='60T')"
   ]
  },
  {
   "cell_type": "code",
   "execution_count": 62,
   "metadata": {
    "collapsed": false
   },
   "outputs": [],
   "source": [
    "temp_indices = days[:24*7]\n"
   ]
  },
  {
   "cell_type": "code",
   "execution_count": 63,
   "metadata": {
    "collapsed": false
   },
   "outputs": [
    {
     "name": "stdout",
     "output_type": "stream",
     "text": [
      "decision time\n",
      "1\n"
     ]
    }
   ],
   "source": [
    "x=simulate_run(num_people,temp_indices,pd.DatetimeIndex(['2015-07-28 14:00:00']))"
   ]
  },
  {
   "cell_type": "code",
   "execution_count": 64,
   "metadata": {
    "collapsed": false
   },
   "outputs": [
    {
     "data": {
      "text/plain": [
       "[0.0,\n",
       " 0.0,\n",
       " 0.0,\n",
       " 0.0,\n",
       " 0.0,\n",
       " 0.0,\n",
       " 0.0,\n",
       " 0.0,\n",
       " 1142.5219217679119,\n",
       " 1196.3723600367503,\n",
       " 1124.8471437129656,\n",
       " 1105.9613515138594,\n",
       " 871.2608718656156,\n",
       " 1928.6977568634602,\n",
       " 891.055956514346,\n",
       " 767.7133518504354,\n",
       " 820.2486925174514,\n",
       " 3093.341403960582,\n",
       " 4577.864500930755,\n",
       " 2895.8856587327423,\n",
       " 4277.1882793622735,\n",
       " 1537.4447020412747,\n",
       " 2659.8200312424065,\n",
       " 507.9365558515747,\n",
       " 0.0,\n",
       " 0.0,\n",
       " 0.0,\n",
       " 0.0,\n",
       " 0.0,\n",
       " 0.0,\n",
       " 0.0,\n",
       " 0.0,\n",
       " 1913.3830040324624,\n",
       " 1177.9807130187287,\n",
       " 123.09528763567067,\n",
       " 838.0902801560321,\n",
       " 873.1397468729419,\n",
       " 2783.154253434162,\n",
       " 1015.7382854256223,\n",
       " 2123.542104245597,\n",
       " 979.1845428749309,\n",
       " 1342.0493968589192,\n",
       " 1830.962980204822,\n",
       " 266.81096468378337,\n",
       " 282.2044944010481,\n",
       " 649.677508804843,\n",
       " 3307.964676473248,\n",
       " 2136.0812448378397,\n",
       " 0.0,\n",
       " 0.0,\n",
       " 0.0,\n",
       " 0.0,\n",
       " 0.0,\n",
       " 0.0,\n",
       " 0.0,\n",
       " 0.0,\n",
       " 1046.6055242610869,\n",
       " 1545.1409186910982,\n",
       " 314.98516299816896,\n",
       " 1657.4553729212603,\n",
       " 439.95270966615305,\n",
       " 613.5609535678021,\n",
       " 1478.6875685332916,\n",
       " 2231.597471614863,\n",
       " 862.9721191224147,\n",
       " 2364.9685444239417,\n",
       " 2743.098083712211,\n",
       " 359.25310074673433,\n",
       " 632.2684190606598,\n",
       " 896.365008781918,\n",
       " 14.568103229704207,\n",
       " 300.8130403381758,\n",
       " 1172.063989159564,\n",
       " 1755.2391849298606,\n",
       " 566.581145778996,\n",
       " 2457.9374890809777,\n",
       " 1154.5039132821676,\n",
       " 644.201131691646,\n",
       " 803.608336033574,\n",
       " 1476.9235315299552,\n",
       " 4050.342223592056,\n",
       " 1215.0263493948048,\n",
       " 962.3774220940621,\n",
       " 2782.460436603187,\n",
       " 1101.381004024482,\n",
       " 1540.4506028513529,\n",
       " 2654.6760586853297,\n",
       " 4752.533332543526,\n",
       " 160.03949574464923,\n",
       " 483.15252373424744,\n",
       " 1678.7707010070417,\n",
       " 294.5288155360313,\n",
       " 737.0295214070052,\n",
       " 715.8388664374763,\n",
       " 2501.3902693865784,\n",
       " 2687.061088559459,\n",
       " 2030.2438287759815,\n",
       " 857.4505619630448,\n",
       " 1648.3694838957153,\n",
       " 569.7189544925473,\n",
       " 994.0742608723593,\n",
       " 2486.053866380189,\n",
       " 1813.735245438634,\n",
       " 116.67108315210805,\n",
       " 248.7322536745137,\n",
       " 823.5833263073948,\n",
       " 860.6040220566664,\n",
       " 2473.96705417458,\n",
       " 566.7002100282546,\n",
       " 1375.5419756522556,\n",
       " 1620.2121163529596,\n",
       " 2223.8400632574294,\n",
       " 479.4420134619897,\n",
       " 1442.7953172311875,\n",
       " 406.3716643354481,\n",
       " 1338.9685556194054,\n",
       " 838.9706650060548,\n",
       " 1907.7230899507067,\n",
       " 1206.7004045145652,\n",
       " 1209.7995234329753,\n",
       " 0.0,\n",
       " 0.0,\n",
       " 0.0,\n",
       " 0.0,\n",
       " 0.0,\n",
       " 0.0,\n",
       " 0.0,\n",
       " 0.0,\n",
       " 589.1953781292112,\n",
       " 1085.9573709451745,\n",
       " 1869.877677136229,\n",
       " 1316.9428980280445,\n",
       " 955.9801748892726,\n",
       " 927.9665667606437,\n",
       " 1285.6822124866123,\n",
       " 216.3461251742113,\n",
       " 226.40909325130076,\n",
       " 53.824373280213536,\n",
       " 182.72268748390172,\n",
       " 20.264581020325636,\n",
       " 1588.1272796962808,\n",
       " 3450.465439684815,\n",
       " 1206.6194022012726,\n",
       " 1397.5156787410842,\n",
       " 0.0,\n",
       " 0.0,\n",
       " 0.0,\n",
       " 0.0,\n",
       " 0.0,\n",
       " 0.0,\n",
       " 0.0,\n",
       " 0.0,\n",
       " 2256.9356288053937,\n",
       " 545.8981632714258,\n",
       " 1718.9534099753691,\n",
       " 890.1044954451343,\n",
       " 2096.4061825376502,\n",
       " 700.4766654282039,\n",
       " 237.98647561034957,\n",
       " 870.0789839701732,\n",
       " 2029.2633722192859,\n",
       " 1591.4751366169025,\n",
       " 2889.764190646437,\n",
       " 1766.3231395778475,\n",
       " 631.058056854597,\n",
       " 1683.5564654062541,\n",
       " 1292.2470538839527,\n",
       " 205.4144319667903]"
      ]
     },
     "execution_count": 64,
     "metadata": {},
     "output_type": "execute_result"
    }
   ],
   "source": [
    "x"
   ]
  },
  {
   "cell_type": "code",
   "execution_count": 291,
   "metadata": {
    "collapsed": false
   },
   "outputs": [],
   "source": [
    "all_runs = []\n",
    "for i in range(500):\n",
    "    all_runs.append(simulate_run(num_people,temp_indices,decision_times))"
   ]
  },
  {
   "cell_type": "code",
   "execution_count": null,
   "metadata": {
    "collapsed": false
   },
   "outputs": [],
   "source": []
  },
  {
   "cell_type": "code",
   "execution_count": null,
   "metadata": {
    "collapsed": false
   },
   "outputs": [],
   "source": []
  }
 ],
 "metadata": {
  "kernelspec": {
   "display_name": "Python [Root]",
   "language": "python",
   "name": "Python [Root]"
  },
  "language_info": {
   "codemirror_mode": {
    "name": "ipython",
    "version": 3
   },
   "file_extension": ".py",
   "mimetype": "text/x-python",
   "name": "python",
   "nbconvert_exporter": "python",
   "pygments_lexer": "ipython3",
   "version": "3.5.6"
  }
 },
 "nbformat": 4,
 "nbformat_minor": 0
}
