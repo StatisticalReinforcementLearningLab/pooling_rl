{
 "cells": [
  {
   "cell_type": "code",
   "execution_count": 1,
   "metadata": {},
   "outputs": [],
   "source": [
    "results_path = '../../Downloads/pooling_results/'"
   ]
  },
  {
   "cell_type": "code",
   "execution_count": 31,
   "metadata": {},
   "outputs": [],
   "source": [
    "import numpy as np\n",
    "import pickle\n",
    "import os\n",
    "import math\n",
    "import sys\n",
    "sys.path\n",
    "sys.path.append('../models')\n",
    "sys.path.append('../simulation')\n",
    "import TS_personal_params_pooled as pp\n",
    "import TS_global_params_pooled as gtp"
   ]
  },
  {
   "cell_type": "code",
   "execution_count": 40,
   "metadata": {},
   "outputs": [],
   "source": [
    "def get_results_personalized(pop_size,update_time,case,ty):\n",
    "    \n",
    "    files = os.listdir('{}{}/{}/'.format(results_path,ty,case))\n",
    "    \n",
    "    steps = []\n",
    "\n",
    "    #check population and pop_size,update_time\n",
    "    #and 'weather' not in f\n",
    "    files = [f for f in files if '.DS' not in f and '_4_24pl' in f  and 'mu' not in f and 'regrets' not in f  and 'update_days_{}'.format(update_time) in f and '2015' not in f]\n",
    "    #files = files[:50]\n",
    "    #print(len(files))\n",
    "    #print(files)\n",
    "    for ff in files:\n",
    "        #sim = int(ff.split('sim_')[1].strip('_continuous_pretreatment_base_coef_scale_hybrid.pkl'))\n",
    "        try:\n",
    "            with open('{}{}/{}/{}'.\\\n",
    "              format(results_path,ty,case,ff),'rb') as f:\n",
    "              \n",
    "                d = pickle.load(f)\n",
    "                \n",
    "\n",
    "                \n",
    "            #if int(sim)<60:\n",
    "            steps = steps+[k['steps'] for k in d['history'].values() if k['avail'] and k['decision_time']]\n",
    "        except:\n",
    "            print(ff)\n",
    "    return steps"
   ]
  },
  {
   "cell_type": "code",
   "execution_count": 34,
   "metadata": {},
   "outputs": [],
   "source": [
    "f = '../../Downloads/pooling_results/personalized/case_one/population_size_32_update_days_7_short_static_sim_5_4_24pl.pkl'"
   ]
  },
  {
   "cell_type": "code",
   "execution_count": 35,
   "metadata": {},
   "outputs": [],
   "source": [
    "with open(f,'rb') as ff:\n",
    "    p = pickle.load(ff)"
   ]
  },
  {
   "cell_type": "code",
   "execution_count": 37,
   "metadata": {},
   "outputs": [
    {
     "name": "stdout",
     "output_type": "stream",
     "text": [
      "543608\n"
     ]
    },
    {
     "data": {
      "text/plain": [
       "4.825442237848812"
      ]
     },
     "execution_count": 37,
     "metadata": {},
     "output_type": "execute_result"
    }
   ],
   "source": [
    "p_c_one= get_results_personalized(32,7,'case_one')\n",
    "print(len(p_c_one))\n",
    "#bsteps_cone = get_step_counts(batch_one)\n",
    "np.array(p_c_one).mean()"
   ]
  },
  {
   "cell_type": "code",
   "execution_count": 38,
   "metadata": {},
   "outputs": [
    {
     "name": "stdout",
     "output_type": "stream",
     "text": [
      "543608\n"
     ]
    },
    {
     "data": {
      "text/plain": [
       "4.61636805721874"
      ]
     },
     "execution_count": 38,
     "metadata": {},
     "output_type": "execute_result"
    }
   ],
   "source": [
    "p_c_one= get_results_personalized(32,7,'case_two')\n",
    "print(len(p_c_one))\n",
    "#bsteps_cone = get_step_counts(batch_one)\n",
    "np.array(p_c_one).mean()"
   ]
  },
  {
   "cell_type": "code",
   "execution_count": 39,
   "metadata": {},
   "outputs": [
    {
     "name": "stdout",
     "output_type": "stream",
     "text": [
      "544272\n"
     ]
    },
    {
     "data": {
      "text/plain": [
       "4.8527587802133"
      ]
     },
     "execution_count": 39,
     "metadata": {},
     "output_type": "execute_result"
    }
   ],
   "source": [
    "p_c_one= get_results_personalized(32,7,'case_three')\n",
    "print(len(p_c_one))\n",
    "#bsteps_cone = get_step_counts(batch_one)\n",
    "np.array(p_c_one).mean()"
   ]
  },
  {
   "cell_type": "code",
   "execution_count": 41,
   "metadata": {},
   "outputs": [
    {
     "name": "stdout",
     "output_type": "stream",
     "text": [
      "543608\n"
     ]
    },
    {
     "data": {
      "text/plain": [
       "4.845703351396954"
      ]
     },
     "execution_count": 41,
     "metadata": {},
     "output_type": "execute_result"
    }
   ],
   "source": [
    "p_c_one= get_results_personalized(32,7,'case_one','batch')\n",
    "print(len(p_c_one))\n",
    "#bsteps_cone = get_step_counts(batch_one)\n",
    "np.array(p_c_one).mean()"
   ]
  },
  {
   "cell_type": "code",
   "execution_count": 42,
   "metadata": {},
   "outputs": [
    {
     "name": "stdout",
     "output_type": "stream",
     "text": [
      "543608\n"
     ]
    },
    {
     "data": {
      "text/plain": [
       "4.625869543073639"
      ]
     },
     "execution_count": 42,
     "metadata": {},
     "output_type": "execute_result"
    }
   ],
   "source": [
    "p_c_one= get_results_personalized(32,7,'case_two','batch')\n",
    "print(len(p_c_one))\n",
    "#bsteps_cone = get_step_counts(batch_one)\n",
    "np.array(p_c_one).mean()"
   ]
  },
  {
   "cell_type": "code",
   "execution_count": 43,
   "metadata": {},
   "outputs": [
    {
     "name": "stdout",
     "output_type": "stream",
     "text": [
      "544272\n"
     ]
    },
    {
     "data": {
      "text/plain": [
       "4.84967886453566"
      ]
     },
     "execution_count": 43,
     "metadata": {},
     "output_type": "execute_result"
    }
   ],
   "source": [
    "p_c_one= get_results_personalized(32,7,'case_three','batch')\n",
    "print(len(p_c_one))\n",
    "#bsteps_cone = get_step_counts(batch_one)\n",
    "np.array(p_c_one).mean()"
   ]
  },
  {
   "cell_type": "code",
   "execution_count": 20,
   "metadata": {},
   "outputs": [
    {
     "name": "stdout",
     "output_type": "stream",
     "text": [
      "50\n",
      "['population_size_32_update_days_7_short_static_sim_3_confirmedbeta.pkl', 'population_size_32_update_days_7_short_static_sim_37_confirmedbeta.pkl', 'population_size_32_update_days_7_short_static_sim_6_confirmedbeta.pkl', 'population_size_32_update_days_7_short_static_sim_48_confirmedbeta.pkl', 'population_size_32_update_days_7_short_static_sim_32_confirmedbeta.pkl', 'population_size_32_update_days_7_short_static_sim_2_confirmedbeta.pkl', 'population_size_32_update_days_7_short_static_sim_36_confirmedbeta.pkl', 'population_size_32_update_days_7_short_static_sim_7_confirmedbeta.pkl', 'population_size_32_update_days_7_short_static_sim_49_confirmedbeta.pkl', 'population_size_32_update_days_7_short_static_sim_33_confirmedbeta.pkl', 'population_size_32_update_days_7_short_static_sim_29_confirmedbeta.pkl', 'population_size_32_update_days_7_short_static_sim_1_confirmedbeta.pkl', 'population_size_32_update_days_7_short_static_sim_35_confirmedbeta.pkl', 'population_size_32_update_days_7_short_static_sim_4_confirmedbeta.pkl', 'population_size_32_update_days_7_short_static_sim_18_confirmedbeta.pkl', 'population_size_32_update_days_7_short_static_sim_30_confirmedbeta.pkl', 'population_size_32_update_days_7_short_static_sim_28_confirmedbeta.pkl', 'population_size_32_update_days_7_short_static_sim_0_confirmedbeta.pkl', 'population_size_32_update_days_7_short_static_sim_34_confirmedbeta.pkl', 'population_size_32_update_days_7_short_static_sim_5_confirmedbeta.pkl', 'population_size_32_update_days_7_short_static_sim_19_confirmedbeta.pkl', 'population_size_32_update_days_7_short_static_sim_31_confirmedbeta.pkl', 'population_size_32_update_days_7_short_static_sim_42_confirmedbeta.pkl', 'population_size_32_update_days_7_short_static_sim_24_confirmedbeta.pkl', 'population_size_32_update_days_7_short_static_sim_38_confirmedbeta.pkl', 'population_size_32_update_days_7_short_static_sim_10_confirmedbeta.pkl', 'population_size_32_update_days_7_short_static_sim_47_confirmedbeta.pkl', 'population_size_32_update_days_7_short_static_sim_9_confirmedbeta.pkl', 'population_size_32_update_days_7_short_static_sim_21_confirmedbeta.pkl', 'population_size_32_update_days_7_short_static_sim_15_confirmedbeta.pkl', 'population_size_32_update_days_7_short_static_sim_43_confirmedbeta.pkl', 'population_size_32_update_days_7_short_static_sim_25_confirmedbeta.pkl', 'population_size_32_update_days_7_short_static_sim_39_confirmedbeta.pkl', 'population_size_32_update_days_7_short_static_sim_11_confirmedbeta.pkl', 'population_size_32_update_days_7_short_static_sim_46_confirmedbeta.pkl', 'population_size_32_update_days_7_short_static_sim_8_confirmedbeta.pkl', 'population_size_32_update_days_7_short_static_sim_20_confirmedbeta.pkl', 'population_size_32_update_days_7_short_static_sim_14_confirmedbeta.pkl', 'population_size_32_update_days_7_short_static_sim_40_confirmedbeta.pkl', 'population_size_32_update_days_7_short_static_sim_26_confirmedbeta.pkl', 'population_size_32_update_days_7_short_static_sim_12_confirmedbeta.pkl', 'population_size_32_update_days_7_short_static_sim_45_confirmedbeta.pkl', 'population_size_32_update_days_7_short_static_sim_23_confirmedbeta.pkl', 'population_size_32_update_days_7_short_static_sim_17_confirmedbeta.pkl', 'population_size_32_update_days_7_short_static_sim_41_confirmedbeta.pkl', 'population_size_32_update_days_7_short_static_sim_27_confirmedbeta.pkl', 'population_size_32_update_days_7_short_static_sim_13_confirmedbeta.pkl', 'population_size_32_update_days_7_short_static_sim_44_confirmedbeta.pkl', 'population_size_32_update_days_7_short_static_sim_22_confirmedbeta.pkl', 'population_size_32_update_days_7_short_static_sim_16_confirmedbeta.pkl']\n",
      "268329\n"
     ]
    },
    {
     "data": {
      "text/plain": [
       "4.7929981954774155"
      ]
     },
     "execution_count": 20,
     "metadata": {},
     "output_type": "execute_result"
    }
   ],
   "source": [
    "p_c_one= get_results_personalized(32,7,'case_two')\n",
    "print(len(p_c_one))\n",
    "#bsteps_cone = get_step_counts(batch_one)\n",
    "np.array(p_c_one).mean()"
   ]
  },
  {
   "cell_type": "code",
   "execution_count": 21,
   "metadata": {},
   "outputs": [
    {
     "name": "stdout",
     "output_type": "stream",
     "text": [
      "50\n",
      "['population_size_32_update_days_7_short_static_sim_3_confirmedbeta.pkl', 'population_size_32_update_days_7_short_static_sim_37_confirmedbeta.pkl', 'population_size_32_update_days_7_short_static_sim_6_confirmedbeta.pkl', 'population_size_32_update_days_7_short_static_sim_48_confirmedbeta.pkl', 'population_size_32_update_days_7_short_static_sim_32_confirmedbeta.pkl', 'population_size_32_update_days_7_short_static_sim_2_confirmedbeta.pkl', 'population_size_32_update_days_7_short_static_sim_36_confirmedbeta.pkl', 'population_size_32_update_days_7_short_static_sim_7_confirmedbeta.pkl', 'population_size_32_update_days_7_short_static_sim_49_confirmedbeta.pkl', 'population_size_32_update_days_7_short_static_sim_33_confirmedbeta.pkl', 'population_size_32_update_days_7_short_static_sim_29_confirmedbeta.pkl', 'population_size_32_update_days_7_short_static_sim_1_confirmedbeta.pkl', 'population_size_32_update_days_7_short_static_sim_35_confirmedbeta.pkl', 'population_size_32_update_days_7_short_static_sim_4_confirmedbeta.pkl', 'population_size_32_update_days_7_short_static_sim_18_confirmedbeta.pkl', 'population_size_32_update_days_7_short_static_sim_30_confirmedbeta.pkl', 'population_size_32_update_days_7_short_static_sim_28_confirmedbeta.pkl', 'population_size_32_update_days_7_short_static_sim_0_confirmedbeta.pkl', 'population_size_32_update_days_7_short_static_sim_34_confirmedbeta.pkl', 'population_size_32_update_days_7_short_static_sim_5_confirmedbeta.pkl', 'population_size_32_update_days_7_short_static_sim_19_confirmedbeta.pkl', 'population_size_32_update_days_7_short_static_sim_31_confirmedbeta.pkl', 'population_size_32_update_days_7_short_static_sim_42_confirmedbeta.pkl', 'population_size_32_update_days_7_short_static_sim_24_confirmedbeta.pkl', 'population_size_32_update_days_7_short_static_sim_38_confirmedbeta.pkl', 'population_size_32_update_days_7_short_static_sim_10_confirmedbeta.pkl', 'population_size_32_update_days_7_short_static_sim_47_confirmedbeta.pkl', 'population_size_32_update_days_7_short_static_sim_9_confirmedbeta.pkl', 'population_size_32_update_days_7_short_static_sim_21_confirmedbeta.pkl', 'population_size_32_update_days_7_short_static_sim_15_confirmedbeta.pkl', 'population_size_32_update_days_7_short_static_sim_43_confirmedbeta.pkl', 'population_size_32_update_days_7_short_static_sim_25_confirmedbeta.pkl', 'population_size_32_update_days_7_short_static_sim_39_confirmedbeta.pkl', 'population_size_32_update_days_7_short_static_sim_11_confirmedbeta.pkl', 'population_size_32_update_days_7_short_static_sim_46_confirmedbeta.pkl', 'population_size_32_update_days_7_short_static_sim_8_confirmedbeta.pkl', 'population_size_32_update_days_7_short_static_sim_20_confirmedbeta.pkl', 'population_size_32_update_days_7_short_static_sim_14_confirmedbeta.pkl', 'population_size_32_update_days_7_short_static_sim_40_confirmedbeta.pkl', 'population_size_32_update_days_7_short_static_sim_26_confirmedbeta.pkl', 'population_size_32_update_days_7_short_static_sim_12_confirmedbeta.pkl', 'population_size_32_update_days_7_short_static_sim_45_confirmedbeta.pkl', 'population_size_32_update_days_7_short_static_sim_23_confirmedbeta.pkl', 'population_size_32_update_days_7_short_static_sim_17_confirmedbeta.pkl', 'population_size_32_update_days_7_short_static_sim_41_confirmedbeta.pkl', 'population_size_32_update_days_7_short_static_sim_27_confirmedbeta.pkl', 'population_size_32_update_days_7_short_static_sim_13_confirmedbeta.pkl', 'population_size_32_update_days_7_short_static_sim_44_confirmedbeta.pkl', 'population_size_32_update_days_7_short_static_sim_22_confirmedbeta.pkl', 'population_size_32_update_days_7_short_static_sim_16_confirmedbeta.pkl']\n",
      "268334\n"
     ]
    },
    {
     "data": {
      "text/plain": [
       "4.765524382759784"
      ]
     },
     "execution_count": 21,
     "metadata": {},
     "output_type": "execute_result"
    }
   ],
   "source": [
    "p_c_one= get_results_personalized(32,7,'case_three')\n",
    "print(len(p_c_one))\n",
    "#bsteps_cone = get_step_counts(batch_one)\n",
    "np.array(p_c_one).mean()"
   ]
  },
  {
   "cell_type": "code",
   "execution_count": 12,
   "metadata": {},
   "outputs": [],
   "source": [
    "def get_results_batch(pop_size,update_time,case):\n",
    "    \n",
    "    files = os.listdir('{}batch/results/{}/'.format(results_path,case))\n",
    "    \n",
    "    steps = []\n",
    "    #check population and pop_size,update_time\n",
    "    #and 'weather' not in f\n",
    "    files = [f for f in files if '.DS' not in f and  '_confirmedbeta.pkl' in f and 'izero' not in f and 'regrets' not in f and 'update_days_{}'.format(update_time) in f and 'bigsigma' not in f]\n",
    "    #files = files[:50]\n",
    "    print(len(files))\n",
    "    print(files)\n",
    "    for f in files:\n",
    "        sim = int(f.split('sim_')[1].split('_')[0])\n",
    "        if sim<60:\n",
    "            with open('{}/batch/results/{}/{}'.\\\n",
    "              format(results_path,case,f),'rb') as f:\n",
    "                d = pickle.load(f)\n",
    "            steps= steps + [k['steps'] for k in d.values() if k['decision_time'] and k['avail']]\n",
    "    return steps"
   ]
  },
  {
   "cell_type": "code",
   "execution_count": 13,
   "metadata": {},
   "outputs": [],
   "source": [
    "def get_results_batch_time(pop_size,update_time,case):\n",
    "    \n",
    "    files = os.listdir('{}batch/results/{}/'.format(results_path,case))\n",
    "    \n",
    "    steps = []\n",
    "    #check population and pop_size,update_time\n",
    "    files = [f for f in files if '.DS' not in f]\n",
    "    files = files[:50]\n",
    "    print(len(files))\n",
    "    to_return = {}\n",
    "    group_ids={}\n",
    "    for ff in files:\n",
    "        with open('{}/batch/results/{}/{}'.\\\n",
    "              format(results_path,case,ff),'rb') as f:\n",
    "            d = pickle.load(f)\n",
    "        temp = {}\n",
    "        for k,vv in d.items():\n",
    "            pid = k.split('-')[0]\n",
    "            time = k.split('-')[1]\n",
    "            if pid not in temp:\n",
    "                temp[pid]=[]\n",
    "            temp[pid].append(vv['steps'])\n",
    "            \n",
    "        to_return[ff]=temp\n",
    "    return to_return"
   ]
  },
  {
   "cell_type": "code",
   "execution_count": 165,
   "metadata": {},
   "outputs": [],
   "source": [
    "with open('{}batch/results/{}/population_size_32_update_days_7_short_static_sim_0.pkl'.format(results_path,'case_one'),'rb') as f:\n",
    "    dt = pickle.load(f)"
   ]
  },
  {
   "cell_type": "code",
   "execution_count": 12,
   "metadata": {},
   "outputs": [
    {
     "data": {
      "text/plain": [
       "'4'"
      ]
     },
     "execution_count": 12,
     "metadata": {},
     "output_type": "execute_result"
    }
   ],
   "source": [
    "'population_size_32_update_days_1_short_static_sim_4_orignow_seedone.pkl'.split('sim_')[1].split('_')[0]"
   ]
  },
  {
   "cell_type": "code",
   "execution_count": 15,
   "metadata": {},
   "outputs": [
    {
     "name": "stdout",
     "output_type": "stream",
     "text": [
      "50\n",
      "['population_size_32_update_days_7_short_static_sim_3_confirmedbeta.pkl', 'population_size_32_update_days_7_short_static_sim_37_confirmedbeta.pkl', 'population_size_32_update_days_7_short_static_sim_6_confirmedbeta.pkl', 'population_size_32_update_days_7_short_static_sim_48_confirmedbeta.pkl', 'population_size_32_update_days_7_short_static_sim_32_confirmedbeta.pkl', 'population_size_32_update_days_7_short_static_sim_2_confirmedbeta.pkl', 'population_size_32_update_days_7_short_static_sim_36_confirmedbeta.pkl', 'population_size_32_update_days_7_short_static_sim_7_confirmedbeta.pkl', 'population_size_32_update_days_7_short_static_sim_49_confirmedbeta.pkl', 'population_size_32_update_days_7_short_static_sim_33_confirmedbeta.pkl', 'population_size_32_update_days_7_short_static_sim_29_confirmedbeta.pkl', 'population_size_32_update_days_7_short_static_sim_1_confirmedbeta.pkl', 'population_size_32_update_days_7_short_static_sim_35_confirmedbeta.pkl', 'population_size_32_update_days_7_short_static_sim_4_confirmedbeta.pkl', 'population_size_32_update_days_7_short_static_sim_18_confirmedbeta.pkl', 'population_size_32_update_days_7_short_static_sim_30_confirmedbeta.pkl', 'population_size_32_update_days_7_short_static_sim_28_confirmedbeta.pkl', 'population_size_32_update_days_7_short_static_sim_0_confirmedbeta.pkl', 'population_size_32_update_days_7_short_static_sim_34_confirmedbeta.pkl', 'population_size_32_update_days_7_short_static_sim_5_confirmedbeta.pkl', 'population_size_32_update_days_7_short_static_sim_19_confirmedbeta.pkl', 'population_size_32_update_days_7_short_static_sim_31_confirmedbeta.pkl', 'population_size_32_update_days_7_short_static_sim_42_confirmedbeta.pkl', 'population_size_32_update_days_7_short_static_sim_24_confirmedbeta.pkl', 'population_size_32_update_days_7_short_static_sim_38_confirmedbeta.pkl', 'population_size_32_update_days_7_short_static_sim_10_confirmedbeta.pkl', 'population_size_32_update_days_7_short_static_sim_47_confirmedbeta.pkl', 'population_size_32_update_days_7_short_static_sim_9_confirmedbeta.pkl', 'population_size_32_update_days_7_short_static_sim_21_confirmedbeta.pkl', 'population_size_32_update_days_7_short_static_sim_15_confirmedbeta.pkl', 'population_size_32_update_days_7_short_static_sim_43_confirmedbeta.pkl', 'population_size_32_update_days_7_short_static_sim_25_confirmedbeta.pkl', 'population_size_32_update_days_7_short_static_sim_39_confirmedbeta.pkl', 'population_size_32_update_days_7_short_static_sim_11_confirmedbeta.pkl', 'population_size_32_update_days_7_short_static_sim_46_confirmedbeta.pkl', 'population_size_32_update_days_7_short_static_sim_8_confirmedbeta.pkl', 'population_size_32_update_days_7_short_static_sim_20_confirmedbeta.pkl', 'population_size_32_update_days_7_short_static_sim_14_confirmedbeta.pkl', 'population_size_32_update_days_7_short_static_sim_40_confirmedbeta.pkl', 'population_size_32_update_days_7_short_static_sim_26_confirmedbeta.pkl', 'population_size_32_update_days_7_short_static_sim_12_confirmedbeta.pkl', 'population_size_32_update_days_7_short_static_sim_45_confirmedbeta.pkl', 'population_size_32_update_days_7_short_static_sim_23_confirmedbeta.pkl', 'population_size_32_update_days_7_short_static_sim_17_confirmedbeta.pkl', 'population_size_32_update_days_7_short_static_sim_41_confirmedbeta.pkl', 'population_size_32_update_days_7_short_static_sim_27_confirmedbeta.pkl', 'population_size_32_update_days_7_short_static_sim_13_confirmedbeta.pkl', 'population_size_32_update_days_7_short_static_sim_44_confirmedbeta.pkl', 'population_size_32_update_days_7_short_static_sim_22_confirmedbeta.pkl', 'population_size_32_update_days_7_short_static_sim_16_confirmedbeta.pkl']\n"
     ]
    },
    {
     "data": {
      "text/plain": [
       "4.95852159623458"
      ]
     },
     "execution_count": 15,
     "metadata": {},
     "output_type": "execute_result"
    }
   ],
   "source": [
    "batch_c_two= get_results_batch(32,7,'case_one')\n",
    "np.array(batch_c_two).mean()"
   ]
  },
  {
   "cell_type": "code",
   "execution_count": null,
   "metadata": {},
   "outputs": [],
   "source": [
    "5.150730694560906"
   ]
  },
  {
   "cell_type": "code",
   "execution_count": 16,
   "metadata": {},
   "outputs": [
    {
     "name": "stdout",
     "output_type": "stream",
     "text": [
      "50\n",
      "['population_size_32_update_days_7_short_static_sim_3_confirmedbeta.pkl', 'population_size_32_update_days_7_short_static_sim_37_confirmedbeta.pkl', 'population_size_32_update_days_7_short_static_sim_6_confirmedbeta.pkl', 'population_size_32_update_days_7_short_static_sim_48_confirmedbeta.pkl', 'population_size_32_update_days_7_short_static_sim_32_confirmedbeta.pkl', 'population_size_32_update_days_7_short_static_sim_2_confirmedbeta.pkl', 'population_size_32_update_days_7_short_static_sim_36_confirmedbeta.pkl', 'population_size_32_update_days_7_short_static_sim_7_confirmedbeta.pkl', 'population_size_32_update_days_7_short_static_sim_49_confirmedbeta.pkl', 'population_size_32_update_days_7_short_static_sim_33_confirmedbeta.pkl', 'population_size_32_update_days_7_short_static_sim_29_confirmedbeta.pkl', 'population_size_32_update_days_7_short_static_sim_1_confirmedbeta.pkl', 'population_size_32_update_days_7_short_static_sim_35_confirmedbeta.pkl', 'population_size_32_update_days_7_short_static_sim_4_confirmedbeta.pkl', 'population_size_32_update_days_7_short_static_sim_18_confirmedbeta.pkl', 'population_size_32_update_days_7_short_static_sim_30_confirmedbeta.pkl', 'population_size_32_update_days_7_short_static_sim_28_confirmedbeta.pkl', 'population_size_32_update_days_7_short_static_sim_0_confirmedbeta.pkl', 'population_size_32_update_days_7_short_static_sim_34_confirmedbeta.pkl', 'population_size_32_update_days_7_short_static_sim_5_confirmedbeta.pkl', 'population_size_32_update_days_7_short_static_sim_19_confirmedbeta.pkl', 'population_size_32_update_days_7_short_static_sim_31_confirmedbeta.pkl', 'population_size_32_update_days_7_short_static_sim_42_confirmedbeta.pkl', 'population_size_32_update_days_7_short_static_sim_24_confirmedbeta.pkl', 'population_size_32_update_days_7_short_static_sim_38_confirmedbeta.pkl', 'population_size_32_update_days_7_short_static_sim_10_confirmedbeta.pkl', 'population_size_32_update_days_7_short_static_sim_47_confirmedbeta.pkl', 'population_size_32_update_days_7_short_static_sim_9_confirmedbeta.pkl', 'population_size_32_update_days_7_short_static_sim_21_confirmedbeta.pkl', 'population_size_32_update_days_7_short_static_sim_15_confirmedbeta.pkl', 'population_size_32_update_days_7_short_static_sim_43_confirmedbeta.pkl', 'population_size_32_update_days_7_short_static_sim_25_confirmedbeta.pkl', 'population_size_32_update_days_7_short_static_sim_39_confirmedbeta.pkl', 'population_size_32_update_days_7_short_static_sim_11_confirmedbeta.pkl', 'population_size_32_update_days_7_short_static_sim_46_confirmedbeta.pkl', 'population_size_32_update_days_7_short_static_sim_8_confirmedbeta.pkl', 'population_size_32_update_days_7_short_static_sim_20_confirmedbeta.pkl', 'population_size_32_update_days_7_short_static_sim_14_confirmedbeta.pkl', 'population_size_32_update_days_7_short_static_sim_40_confirmedbeta.pkl', 'population_size_32_update_days_7_short_static_sim_26_confirmedbeta.pkl', 'population_size_32_update_days_7_short_static_sim_12_confirmedbeta.pkl', 'population_size_32_update_days_7_short_static_sim_45_confirmedbeta.pkl', 'population_size_32_update_days_7_short_static_sim_23_confirmedbeta.pkl', 'population_size_32_update_days_7_short_static_sim_17_confirmedbeta.pkl', 'population_size_32_update_days_7_short_static_sim_41_confirmedbeta.pkl', 'population_size_32_update_days_7_short_static_sim_27_confirmedbeta.pkl', 'population_size_32_update_days_7_short_static_sim_13_confirmedbeta.pkl', 'population_size_32_update_days_7_short_static_sim_44_confirmedbeta.pkl', 'population_size_32_update_days_7_short_static_sim_22_confirmedbeta.pkl', 'population_size_32_update_days_7_short_static_sim_16_confirmedbeta.pkl']\n"
     ]
    },
    {
     "data": {
      "text/plain": [
       "4.811218075781945"
      ]
     },
     "execution_count": 16,
     "metadata": {},
     "output_type": "execute_result"
    }
   ],
   "source": [
    "batch_c_two= get_results_batch(32,7,'case_two')\n",
    "np.array(batch_c_two).mean()"
   ]
  },
  {
   "cell_type": "code",
   "execution_count": 17,
   "metadata": {},
   "outputs": [
    {
     "name": "stdout",
     "output_type": "stream",
     "text": [
      "50\n",
      "['population_size_32_update_days_7_short_static_sim_3_confirmedbeta.pkl', 'population_size_32_update_days_7_short_static_sim_37_confirmedbeta.pkl', 'population_size_32_update_days_7_short_static_sim_6_confirmedbeta.pkl', 'population_size_32_update_days_7_short_static_sim_48_confirmedbeta.pkl', 'population_size_32_update_days_7_short_static_sim_32_confirmedbeta.pkl', 'population_size_32_update_days_7_short_static_sim_2_confirmedbeta.pkl', 'population_size_32_update_days_7_short_static_sim_36_confirmedbeta.pkl', 'population_size_32_update_days_7_short_static_sim_7_confirmedbeta.pkl', 'population_size_32_update_days_7_short_static_sim_49_confirmedbeta.pkl', 'population_size_32_update_days_7_short_static_sim_33_confirmedbeta.pkl', 'population_size_32_update_days_7_short_static_sim_29_confirmedbeta.pkl', 'population_size_32_update_days_7_short_static_sim_1_confirmedbeta.pkl', 'population_size_32_update_days_7_short_static_sim_35_confirmedbeta.pkl', 'population_size_32_update_days_7_short_static_sim_4_confirmedbeta.pkl', 'population_size_32_update_days_7_short_static_sim_18_confirmedbeta.pkl', 'population_size_32_update_days_7_short_static_sim_30_confirmedbeta.pkl', 'population_size_32_update_days_7_short_static_sim_28_confirmedbeta.pkl', 'population_size_32_update_days_7_short_static_sim_0_confirmedbeta.pkl', 'population_size_32_update_days_7_short_static_sim_34_confirmedbeta.pkl', 'population_size_32_update_days_7_short_static_sim_5_confirmedbeta.pkl', 'population_size_32_update_days_7_short_static_sim_19_confirmedbeta.pkl', 'population_size_32_update_days_7_short_static_sim_31_confirmedbeta.pkl', 'population_size_32_update_days_7_short_static_sim_42_confirmedbeta.pkl', 'population_size_32_update_days_7_short_static_sim_24_confirmedbeta.pkl', 'population_size_32_update_days_7_short_static_sim_38_confirmedbeta.pkl', 'population_size_32_update_days_7_short_static_sim_10_confirmedbeta.pkl', 'population_size_32_update_days_7_short_static_sim_47_confirmedbeta.pkl', 'population_size_32_update_days_7_short_static_sim_9_confirmedbeta.pkl', 'population_size_32_update_days_7_short_static_sim_21_confirmedbeta.pkl', 'population_size_32_update_days_7_short_static_sim_15_confirmedbeta.pkl', 'population_size_32_update_days_7_short_static_sim_43_confirmedbeta.pkl', 'population_size_32_update_days_7_short_static_sim_25_confirmedbeta.pkl', 'population_size_32_update_days_7_short_static_sim_39_confirmedbeta.pkl', 'population_size_32_update_days_7_short_static_sim_11_confirmedbeta.pkl', 'population_size_32_update_days_7_short_static_sim_46_confirmedbeta.pkl', 'population_size_32_update_days_7_short_static_sim_8_confirmedbeta.pkl', 'population_size_32_update_days_7_short_static_sim_20_confirmedbeta.pkl', 'population_size_32_update_days_7_short_static_sim_14_confirmedbeta.pkl', 'population_size_32_update_days_7_short_static_sim_40_confirmedbeta.pkl', 'population_size_32_update_days_7_short_static_sim_26_confirmedbeta.pkl', 'population_size_32_update_days_7_short_static_sim_12_confirmedbeta.pkl', 'population_size_32_update_days_7_short_static_sim_45_confirmedbeta.pkl', 'population_size_32_update_days_7_short_static_sim_23_confirmedbeta.pkl', 'population_size_32_update_days_7_short_static_sim_17_confirmedbeta.pkl', 'population_size_32_update_days_7_short_static_sim_41_confirmedbeta.pkl', 'population_size_32_update_days_7_short_static_sim_27_confirmedbeta.pkl', 'population_size_32_update_days_7_short_static_sim_13_confirmedbeta.pkl', 'population_size_32_update_days_7_short_static_sim_44_confirmedbeta.pkl', 'population_size_32_update_days_7_short_static_sim_22_confirmedbeta.pkl', 'population_size_32_update_days_7_short_static_sim_16_confirmedbeta.pkl']\n"
     ]
    },
    {
     "data": {
      "text/plain": [
       "4.802881237665791"
      ]
     },
     "execution_count": 17,
     "metadata": {},
     "output_type": "execute_result"
    }
   ],
   "source": [
    "batch_c_two= get_results_batch(32,7,'case_three')\n",
    "np.array(batch_c_two).mean()"
   ]
  },
  {
   "cell_type": "code",
   "execution_count": 15,
   "metadata": {},
   "outputs": [],
   "source": [
    "#with open('to_plot_case_one_personalized_continuous.pkl','wb') as f:\n",
    "#    pickle.dump(batch_c_one,f)"
   ]
  },
  {
   "cell_type": "code",
   "execution_count": 57,
   "metadata": {},
   "outputs": [],
   "source": [
    "#with open('to_plot_case_one_batch.pkl','wb') as f:\n",
    "#    pickle.dump(batch_c_one,f)"
   ]
  },
  {
   "cell_type": "code",
   "execution_count": 137,
   "metadata": {},
   "outputs": [
    {
     "data": {
      "text/plain": [
       "471.6503056629485"
      ]
     },
     "execution_count": 137,
     "metadata": {},
     "output_type": "execute_result"
    }
   ],
   "source": [
    "math.exp(6.156237833167206)"
   ]
  },
  {
   "cell_type": "code",
   "execution_count": null,
   "metadata": {},
   "outputs": [],
   "source": [
    "5.593677643634102,5.553803400871995,5.591160655453143"
   ]
  },
  {
   "cell_type": "code",
   "execution_count": 187,
   "metadata": {},
   "outputs": [
    {
     "name": "stdout",
     "output_type": "stream",
     "text": [
      "50\n"
     ]
    },
    {
     "data": {
      "text/plain": [
       "5.769532653855995"
      ]
     },
     "execution_count": 187,
     "metadata": {},
     "output_type": "execute_result"
    }
   ],
   "source": [
    "batch_c_two= get_results_batch(32,7,'case_two')\n",
    "np.array(batch_c_two).mean()"
   ]
  },
  {
   "cell_type": "code",
   "execution_count": 177,
   "metadata": {},
   "outputs": [],
   "source": [
    "#(np.array([math.exp(s)-.5 for s in batch_c_two])).mean()"
   ]
  },
  {
   "cell_type": "code",
   "execution_count": 188,
   "metadata": {},
   "outputs": [
    {
     "name": "stdout",
     "output_type": "stream",
     "text": [
      "50\n"
     ]
    },
    {
     "data": {
      "text/plain": [
       "5.813412415319863"
      ]
     },
     "execution_count": 188,
     "metadata": {},
     "output_type": "execute_result"
    }
   ],
   "source": [
    "batch_c_two= get_results_batch(32,7,'case_three')\n",
    "np.array(batch_c_two).mean()"
   ]
  },
  {
   "cell_type": "code",
   "execution_count": 6,
   "metadata": {},
   "outputs": [],
   "source": [
    "def get_results_p_time(pop_size,update_time,case):\n",
    "    \n",
    "    files = os.listdir('{}personalized/results/{}/'.format(results_path,case))\n",
    "    \n",
    "    steps = []\n",
    "    #check population and pop_size,update_time\n",
    "    files = [f for f in files if '.DS' not in f]\n",
    "    #files = files[:50]\n",
    "    print(len(files))\n",
    "    to_return = {}\n",
    "\n",
    "    for ff in files:\n",
    "        sim = int(ff.split('sim_')[1].strip('_continuous_pretreatment_diff_wdt.pkl'))\n",
    "        print(sim)\n",
    "        groupids = {}\n",
    "        with open('{}/personalized/results/{}/{}'.\\\n",
    "              format(results_path,case,ff),'rb') as f:\n",
    "            d = pickle.load(f)\n",
    "        temp = {}\n",
    "        for k,vv in d.items():\n",
    "            #print(k)\n",
    "            if sim<50:\n",
    "                pid = k.split('-')[0]\n",
    "                time = k.split('-')[1]\n",
    "                group_id = k.split('-')[2]\n",
    "            \n",
    "              \n",
    "                if pid not in temp:\n",
    "                    temp[pid]=[]\n",
    "                temp[pid].append(vv['steps'])\n",
    "                groupids[pid]=group_id\n",
    "            if sim<50:    \n",
    "                to_return[ff]=[temp,groupids]\n",
    "            \n",
    "    return to_return"
   ]
  },
  {
   "cell_type": "code",
   "execution_count": 178,
   "metadata": {},
   "outputs": [],
   "source": [
    "with open('{}/{}'.format('../../Downloads/cases_from_cluster/case_two_two','updates_case_two_participant_32_7_7300.txt'),'r') as f:\n",
    "    l = f.readlines()"
   ]
  },
  {
   "cell_type": "code",
   "execution_count": 179,
   "metadata": {},
   "outputs": [
    {
     "data": {
      "text/plain": [
       "'p_info 2015-10-19 19:00:00 6878  3:23AM EST on Feb 25, 2019 29 -0.31972464337509376 1\\n'"
      ]
     },
     "execution_count": 179,
     "metadata": {},
     "output_type": "execute_result"
    }
   ],
   "source": [
    "l[-1]"
   ]
  },
  {
   "cell_type": "code",
   "execution_count": 25,
   "metadata": {},
   "outputs": [],
   "source": [
    "def count_done(direct,files):\n",
    "    goods =[]\n",
    "    for f in files:\n",
    "        with open('{}/{}'.format(direct,f),'r') as f:\n",
    "            l = f.readlines()\n",
    "        if  '2015-09-13 19:00:00' in  l[-1]:\n",
    "            goods.append(f)\n",
    "    return goods"
   ]
  },
  {
   "cell_type": "code",
   "execution_count": 33,
   "metadata": {},
   "outputs": [
    {
     "data": {
      "text/plain": [
       "15"
      ]
     },
     "execution_count": 33,
     "metadata": {},
     "output_type": "execute_result"
    }
   ],
   "source": [
    "ptwo = [f for f in os.listdir('../../Downloads/cases_from_cluster/case_two') if '32' in f and 'part' in f and 'no_tuning' not in f]\n",
    "good_two = count_done('../../Downloads/cases_from_cluster/case_two',ptwo)\n",
    "len(good_two)"
   ]
  },
  {
   "cell_type": "code",
   "execution_count": 34,
   "metadata": {},
   "outputs": [
    {
     "data": {
      "text/plain": [
       "15"
      ]
     },
     "execution_count": 34,
     "metadata": {},
     "output_type": "execute_result"
    }
   ],
   "source": [
    "ptwo = [f for f in os.listdir('../../Downloads/cases_from_cluster/case_three') if '32' in f and 'part' in f  and 'no_tuning' not in f]\n",
    "good_three = count_done('../../Downloads/cases_from_cluster/case_three',ptwo)\n",
    "len(good_three)"
   ]
  },
  {
   "cell_type": "code",
   "execution_count": 35,
   "metadata": {},
   "outputs": [
    {
     "data": {
      "text/plain": [
       "15"
      ]
     },
     "execution_count": 35,
     "metadata": {},
     "output_type": "execute_result"
    }
   ],
   "source": [
    "ptwo = [f for f in os.listdir('../../Downloads/cases_from_cluster/case_one') if '32' in f and 'part' in f  and 'no_tuning' not in f]\n",
    "good_three = count_done('../../Downloads/cases_from_cluster/case_one',ptwo)\n",
    "len(good_three)"
   ]
  },
  {
   "cell_type": "code",
   "execution_count": null,
   "metadata": {},
   "outputs": [],
   "source": [
    "def look_at_group_correlation(groupids,predictions):\n",
    "    group_one = []\n",
    "    group_two = []\n",
    "    \n",
    "    for k,v in predictions.items():\n",
    "        if groupids[k]=="
   ]
  }
 ],
 "metadata": {
  "kernelspec": {
   "display_name": "Python 3",
   "language": "python",
   "name": "python3"
  },
  "language_info": {
   "codemirror_mode": {
    "name": "ipython",
    "version": 3
   },
   "file_extension": ".py",
   "mimetype": "text/x-python",
   "name": "python",
   "nbconvert_exporter": "python",
   "pygments_lexer": "ipython3",
   "version": "3.6.8"
  }
 },
 "nbformat": 4,
 "nbformat_minor": 2
}
