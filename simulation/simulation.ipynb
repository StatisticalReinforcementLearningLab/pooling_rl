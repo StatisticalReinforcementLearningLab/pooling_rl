{
 "cells": [
  {
   "cell_type": "code",
   "execution_count": 1,
   "metadata": {
    "collapsed": true
   },
   "outputs": [],
   "source": [
    "import pandas as pd\n",
    "import numpy as np\n",
    "import pickle\n",
    "import random\n",
    "import os"
   ]
  },
  {
   "cell_type": "code",
   "execution_count": 2,
   "metadata": {
    "collapsed": false
   },
   "outputs": [],
   "source": [
    "root = '../../../../Volumes/dav/HeartSteps/pooling_rl_shared_data/distributions/'"
   ]
  },
  {
   "cell_type": "markdown",
   "metadata": {},
   "source": [
    "'''\n",
    "Context: \n",
    "group_id,day_of_week,time_of_day,dosage,location,weather,previous_step_count,last_step_count,variation_in_step_counts\n",
    "'''"
   ]
  },
  {
   "cell_type": "code",
   "execution_count": 3,
   "metadata": {
    "collapsed": false
   },
   "outputs": [],
   "source": [
    "with open('{}step_dist_both_groups.pkl'.format(root),'rb') as f:\n",
    "    dists = pickle.load(f)"
   ]
  },
  {
   "cell_type": "code",
   "execution_count": 4,
   "metadata": {
    "collapsed": false
   },
   "outputs": [],
   "source": [
    "with open('{}interventions_both_groups.pkl'.format(root),'rb') as f:\n",
    "    intervention_dists = pickle.load(f)"
   ]
  },
  {
   "cell_type": "code",
   "execution_count": 5,
   "metadata": {
    "collapsed": false
   },
   "outputs": [],
   "source": []
  },
  {
   "cell_type": "code",
   "execution_count": 6,
   "metadata": {
    "collapsed": false
   },
   "outputs": [],
   "source": [
    "days = pd.date_range(start = '7/22/2015',end =pd.Timestamp('7/22/2015')+pd.DateOffset(days=90),freq='60T')"
   ]
  },
  {
   "cell_type": "code",
   "execution_count": 25,
   "metadata": {
    "collapsed": true
   },
   "outputs": [],
   "source": [
    "def get_location_prior(group_id,day_of_week,time_of_day):\n",
    "    with open('{}initial_location_distributions.pkl'.format(root),'rb') as f:\n",
    "        loc_lookup = pickle.load(f)\n",
    "    key = '{}-{}-{}'.format(group_id,day_of_week,time_of_day)\n",
    "    \n",
    "    ##make a bit smoother while loop instead \n",
    "    if key in loc_lookup:\n",
    "        ps = loc_lookup[key]\n",
    "    else:\n",
    "        key =  '{}-{}'.format(group_id,day_of_week)\n",
    "        if key  in loc_lookup:\n",
    "            ps = loc_lookup[key]\n",
    "        else:\n",
    "            key =  '{}'.format(group_id)\n",
    "            if key  in loc_lookup:\n",
    "                ps = loc_lookup[key]\n",
    "                \n",
    "            else:\n",
    "                ps = loc_lookup['mean']\n",
    "                \n",
    "    val = np.argmax(np.random.multinomial(100,ps))\n",
    "    return val"
   ]
  },
  {
   "cell_type": "code",
   "execution_count": 26,
   "metadata": {
    "collapsed": false
   },
   "outputs": [],
   "source": [
    "def get_weather_prior(group_id,day_of_week,time_of_day):\n",
    "    with open('{}initial_weather_distributions.pkl'.format(root),'rb') as f:\n",
    "        loc_lookup = pickle.load(f)\n",
    "    key = '{}-{}-{}'.format(group_id,day_of_week,time_of_day)\n",
    "    \n",
    "    ##make a bit smoother while loop instead \n",
    "    if key in loc_lookup:\n",
    "        ps = loc_lookup[key]\n",
    "    else:\n",
    "        key =  '{}-{}'.format(group_id,day_of_week)\n",
    "        if key  in loc_lookup:\n",
    "            ps = loc_lookup[key]\n",
    "        else:\n",
    "            key =  '{}'.format(group_id)\n",
    "            if key  in loc_lookup:\n",
    "                ps = loc_lookup[key]\n",
    "                \n",
    "            else:\n",
    "                ps = loc_lookup['mean']\n",
    "                \n",
    "    val = np.argmax(np.random.multinomial(100,ps))\n",
    "    return val"
   ]
  },
  {
   "cell_type": "code",
   "execution_count": 27,
   "metadata": {
    "collapsed": true
   },
   "outputs": [],
   "source": [
    "def get_time_of_day(an_index):\n",
    "    with open('{}hour_to_id.pkl'.format(root),'rb') as f:\n",
    "        hour_lookup = pickle.load(f)\n",
    "    return hour_lookup[an_index.hour]\n",
    "    "
   ]
  },
  {
   "cell_type": "code",
   "execution_count": 28,
   "metadata": {
    "collapsed": true
   },
   "outputs": [],
   "source": [
    "def get_day_of_week(an_index):\n",
    "    with open('{}day_to_id.pkl'.format(root),'rb') as f:\n",
    "        hour_lookup = pickle.load(f)\n",
    "    return hour_lookup[an_index.dayofweek]\n",
    "    "
   ]
  },
  {
   "cell_type": "code",
   "execution_count": 55,
   "metadata": {
    "collapsed": true
   },
   "outputs": [],
   "source": [
    "def get_index(key):\n",
    "    \n",
    "    keys = ['group_id','day_of_week','time_of_day','dosage','location','weather','previous_step_count','last_step_count','variation']\n",
    "    \n",
    "    kl = {keys[i]:i for i in range(len(keys))}\n",
    "    \n",
    "    return kl[key]\n",
    "    "
   ]
  },
  {
   "cell_type": "code",
   "execution_count": 50,
   "metadata": {
    "collapsed": true
   },
   "outputs": [],
   "source": [
    "def get_initial_context(num_people,first_index):\n",
    "    '''States:\n",
    "    [group,day_of_week,time_of_day,location,weather,dosage,previous_step_count]\n",
    "    \n",
    "    '''\n",
    "    \n",
    "    all_people = []\n",
    "    for person in range(num_people):\n",
    "        #group_id = int(random.random()>.8)+1\n",
    "        group_id = 2\n",
    "        day_of_week = get_time_of_day(first_index)\n",
    "        time_of_day = get_day_of_week(first_index)\n",
    "        first_location = get_location_prior(group_id,day_of_week,time_of_day)\n",
    "        weather = get_weather_prior(group_id,day_of_week,time_of_day)\n",
    "        #weather = 0 \n",
    "        dosage = 1\n",
    "        variation = 1\n",
    "        previous_step_count = 0 \n",
    "        lsc = 0\n",
    "        #day_of_week,time_of_day,dosage,location,last_steps,last_steps_hour,varia\n",
    "        all_people.append([group_id,day_of_week,time_of_day,dosage,first_location,weather,previous_step_count,lsc,variation])\n",
    "        \n",
    "    return all_people"
   ]
  },
  {
   "cell_type": "code",
   "execution_count": 30,
   "metadata": {
    "collapsed": true
   },
   "outputs": [],
   "source": [
    "def get_initial_steps(contexts):\n",
    "    \n",
    "    return [steps_given_context(person_context) for person_context in contexts]\n",
    "\n",
    "    "
   ]
  },
  {
   "cell_type": "code",
   "execution_count": 31,
   "metadata": {
    "collapsed": true
   },
   "outputs": [],
   "source": [
    "def get_time(current_time):\n",
    "    \n",
    "    #needs to be a time delta\n",
    "    \n",
    "    return current_time+1\n",
    "    "
   ]
  },
  {
   "cell_type": "code",
   "execution_count": 32,
   "metadata": {
    "collapsed": true
   },
   "outputs": [],
   "source": [
    "def get_possible_keys(context):\n",
    "    \n",
    "    \n",
    "    keys = []\n",
    "    \n",
    "    \n",
    "    for i in range(len(context)):\n",
    "        stop = len(context)-i-1\n",
    "        #for j in range(stop):\n",
    "        if stop>=1:\n",
    "            key = '-'.join([str(context[j]) for j in range(stop)])\n",
    "        \n",
    "        keys.append(key)\n",
    "    keys.append('{}-mean'.format(context[0]))\n",
    "    return keys"
   ]
  },
  {
   "cell_type": "code",
   "execution_count": 33,
   "metadata": {
    "collapsed": false
   },
   "outputs": [],
   "source": [
    "def get_steps_no_action(context):\n",
    "    context_key = '-'.join([str(c) for c in context])\n",
    "    possible_keys = get_possible_keys(context)\n",
    "    keys = [context_key]\n",
    "    keys.extend(possible_keys)\n",
    "    #print(keys)\n",
    "    #keys = [k+'-{}'.format(action) for k in keys]\n",
    "    #print(keys)\n",
    "    i=0\n",
    "    while keys[i] not in dists:\n",
    "        #print(i)\n",
    "        i=i+1\n",
    "    #print(keys[i])\n",
    "    #print(keys[-1])\n",
    "    dist = dists[keys[i]]\n",
    "    \n",
    "    \n",
    "    x = np.random.normal(loc=dist[0],scale=dist[1])\n",
    "    while(x<0):\n",
    "         x = np.random.normal(loc=dist[0],scale=dist[1])\n",
    "    return x\n",
    "    "
   ]
  },
  {
   "cell_type": "code",
   "execution_count": 34,
   "metadata": {
    "collapsed": true
   },
   "outputs": [],
   "source": [
    "def get_steps_action(context,action):\n",
    "    #nkey = '{}-{}'.format(action,context)\n",
    "\n",
    "    this_context = [action]\n",
    "    this_context.extend(context)\n",
    "    possible_keys = get_possible_keys(this_context)\n",
    "    \n",
    "    context_key = '-'.join([str(c) for c in this_context])\n",
    "    \n",
    "    keys = [context_key]\n",
    "    keys.extend(possible_keys)\n",
    "    #print(keys)\n",
    "    #keys = [k+'-{}'.format(action) for k in keys]\n",
    "    #print(keys)\n",
    "    i=0\n",
    "    while keys[i] not in intervention_dists:\n",
    "        #print(i)\n",
    "        i=i+1\n",
    "    #print(keys[i])\n",
    "    #print(keys[-1])\n",
    "    dist = intervention_dists[keys[i]]\n",
    "    \n",
    "    \n",
    "    x = np.random.normal(loc=dist[0],scale=dist[1])\n",
    "    while(x<0):\n",
    "         x = np.random.normal(loc=dist[0],scale=dist[1])\n",
    "    return x\n",
    "    "
   ]
  },
  {
   "cell_type": "code",
   "execution_count": 35,
   "metadata": {
    "collapsed": true
   },
   "outputs": [],
   "source": [
    "def get_steps(context,action):\n",
    "    if action==-1:\n",
    "        return get_steps_no_action(context)\n",
    "\n",
    "    return get_steps_action(context,action)"
   ]
  },
  {
   "cell_type": "code",
   "execution_count": 63,
   "metadata": {
    "collapsed": true
   },
   "outputs": [],
   "source": [
    "def get_next_location(context):\n",
    "    \n",
    "    with open('{}location_conditiononed_on_last_location.pkl'.format(root),'rb') as f:\n",
    "        loc_dists =pickle.load(f)\n",
    "    \n",
    "    context_key = '-'.join([str(c) for c in context])\n",
    "    possible_keys = get_possible_keys(context)\n",
    "    \n",
    "    keys = [context_key]\n",
    "    keys.extend(possible_keys)\n",
    "    #print(possible_keys)\n",
    "    i=0\n",
    "    #print(keys[-1])\n",
    "    while keys[i] not in loc_dists and i<len(keys):\n",
    "        i=i+1\n",
    "    dist = loc_dists[keys[i]]\n",
    "    \n",
    "    val = np.argmax(np.random.multinomial(100,dist))\n",
    "    \n",
    "    return val\n",
    "            \n",
    "                \n",
    "    \n",
    "    \n",
    "    "
   ]
  },
  {
   "cell_type": "code",
   "execution_count": 74,
   "metadata": {
    "collapsed": true
   },
   "outputs": [],
   "source": [
    "def get_next_weather(context):\n",
    "    \n",
    "    with open('{}weather_conditiononed_on_last_weather.pkl'.format(root),'rb') as f:\n",
    "        loc_dists =pickle.load(f)\n",
    "    \n",
    "    relevant_context = [context[get_index('time_of_day')],context[get_index('weather')]]\n",
    "    \n",
    "    context_key = '-'.join([str(c) for c in relevant_context])\n",
    "    possible_keys = get_possible_keys(relevant_context)\n",
    "    \n",
    "    keys = [context_key]\n",
    "    keys.extend(possible_keys)\n",
    "    #print(keys)\n",
    "    i=0\n",
    "    #print(keys[-1])\n",
    "    while keys[i] not in loc_dists and i<len(keys):\n",
    "        i=i+1\n",
    "    dist = loc_dists[keys[i]]\n",
    "    \n",
    "    val = np.argmax(np.random.multinomial(100,dist))\n",
    "    \n",
    "    return val"
   ]
  },
  {
   "cell_type": "code",
   "execution_count": 37,
   "metadata": {
    "collapsed": true
   },
   "outputs": [],
   "source": [
    "def get_new_previous_step_count(some_steps):\n",
    "    ##pull in distribution threshold lookup thing\n",
    "    return 0\n",
    "    "
   ]
  },
  {
   "cell_type": "code",
   "execution_count": 38,
   "metadata": {
    "collapsed": false
   },
   "outputs": [],
   "source": [
    "##what do I need here\n",
    "def get_new_dosage(current_dosage,action):\n",
    "    if action==1:\n",
    "        current_dosage = current_dosage+2\n",
    "    else:\n",
    "        current_dosage=current_dosage-1\n",
    "    if current_dosage>100:\n",
    "        current_dosage=100\n",
    "    if current_dosage<1:\n",
    "        current_dosage=1 \n",
    "    return current_dosage"
   ]
  },
  {
   "cell_type": "code",
   "execution_count": 66,
   "metadata": {
    "collapsed": true
   },
   "outputs": [],
   "source": [
    "def get_context_revised(current_index,current_context,current_steps,decision_time,lsc,variation,last_action):\n",
    "        \n",
    "    day_of_week = get_time_of_day(current_index)\n",
    "    time_of_day = get_day_of_week(current_index)\n",
    "    \n",
    "    \n",
    "    new_previous_step_count = get_new_previous_step_count(current_steps)\n",
    "    \n",
    "    \n",
    "    if decision_time:\n",
    "        location = get_next_location([current_context[get_index('group_id')],day_of_week,time_of_day,current_context[get_index('location')]])\n",
    "    \n",
    "        dosage = get_new_dosage(current_context[get_index('dosage')],last_action)\n",
    "        \n",
    "        weather = get_next_weather(current_context)\n",
    "        \n",
    "    else:\n",
    "        location = current_context[get_index('location')]\n",
    "        dosage = current_context[get_index('dosage')]\n",
    "        weather = current_context[get_index('weather')]\n",
    "        \n",
    "        \n",
    "        \n",
    "    return [current_context[0],day_of_week,time_of_day,dosage,location,weather,new_previous_step_count,lsc,variation]\n",
    "    \n",
    "    "
   ]
  },
  {
   "cell_type": "code",
   "execution_count": 53,
   "metadata": {
    "collapsed": true
   },
   "outputs": [],
   "source": [
    "def get_new_lsc(step_slice):\n",
    "    #print('hi there')\n",
    "    s =sum(step_slice)**.5\n",
    "    if s<0:\n",
    "        return 0\n",
    "    if s>203:\n",
    "        return 203\n",
    "    return s"
   ]
  },
  {
   "cell_type": "code",
   "execution_count": 54,
   "metadata": {
    "collapsed": false
   },
   "outputs": [],
   "source": [
    "def get_variation_pre_week(variation,all_steps,time_indices,i):\n",
    "    \n",
    "    two_days = time_indices[0].date()+pd.DateOffset(days=1)\n",
    "    is_set = False\n",
    "    #first_index_last_day=-1\n",
    "    if i>two_days:\n",
    "        #print(i)\n",
    "        for j in range(len(time_indices)):\n",
    "            if time_indices[j].date()==i.date():\n",
    "                if not is_set:\n",
    "                    #print('set')\n",
    "                    #print(j)\n",
    "                    first_index_last_day = j\n",
    "                    #print(first_index_last_day)\n",
    "                    is_set = True\n",
    "            if time_indices[j]== i:\n",
    "                last_index_last_day = j\n",
    "    \n",
    "        pre_steps = all_steps[:first_index_last_day]\n",
    "        post_steps = all_steps[first_index_last_day:last_index_last_day]\n",
    "        \n",
    "        #print(pre_steps)\n",
    "        #print(post_steps)\n",
    "        \n",
    "        return int(np.array(pre_steps).std()>np.array(post_steps).std())\n",
    "        \n",
    "    else:\n",
    "        return variation\n",
    "    \n",
    "    "
   ]
  },
  {
   "cell_type": "code",
   "execution_count": 42,
   "metadata": {
    "collapsed": true
   },
   "outputs": [],
   "source": [
    "#will be algorithm, needs to communicate with algorithm\n",
    "def get_action(initial_context,steps):\n",
    "    return 1"
   ]
  },
  {
   "cell_type": "code",
   "execution_count": 57,
   "metadata": {
    "collapsed": false
   },
   "outputs": [],
   "source": [
    "def simulate_run(num_people,time_indices,decision_times):\n",
    "    \n",
    "    \n",
    "    initial_context = get_initial_context(num_people,time_indices[0])\n",
    "    \n",
    "    \n",
    "    initial_context = initial_context[0]\n",
    "    \n",
    "    \n",
    "    \n",
    "    \n",
    "    initial_steps = get_steps(initial_context,0)\n",
    "    current_steps = initial_steps\n",
    "    action = -1 \n",
    "    all_steps = []\n",
    "    \n",
    "    last_day = time_indices[0]\n",
    "    \n",
    "    new_day = False\n",
    "    \n",
    "    #for d in range(num_days):\n",
    "    \n",
    "    \n",
    "    start_of_day = 0 \n",
    "    end_of_day=0\n",
    "    current_index=0\n",
    "    \n",
    "    \n",
    "    first_week = time_indices[0].date()+pd.DateOffset(days=7)\n",
    "    \n",
    "    for i in time_indices:\n",
    "        \n",
    "        if i.date()!=last_day.date():\n",
    "            #print('trigger')\n",
    "            #print(i.date())\n",
    "            #print(last_day.date())\n",
    "            #print('hi there')\n",
    "            new_day=True\n",
    "            \n",
    "            \n",
    "            \n",
    "        decision_time = bool(i in decision_times)\n",
    "        #print(decision_time)\n",
    "        if i!=time_indices[0]:\n",
    "            #decision_time = bool(i in decision_times)\n",
    "            \n",
    "            ##need to modify this\n",
    "            #my_context = get_context(initial_context,current_steps,i,decision_time)\n",
    "            lsc = initial_context[get_index('last_step_count')]\n",
    "            variation = initial_context[get_index('variation')]\n",
    "            if new_day:\n",
    "                #lsc=0\n",
    "                \n",
    "                \n",
    "                ##would love to break this out more cleanly \n",
    "                if i<first_week:\n",
    "                    variation = get_variation_pre_week(variation,all_steps,time_indices,last_day)\n",
    "                else:\n",
    "                    variation = get_variation(all_steps,time_indices,last_day)\n",
    "                \n",
    "                \n",
    "                lsc = get_new_lsc(all_steps[start_of_day:end_of_day])\n",
    "                #variation = get_new_variation()\n",
    "                \n",
    "            \n",
    "            ##action will be the last action\n",
    "            my_context = get_context_revised(i,initial_context,current_steps,decision_time,lsc,variation,action)\n",
    "            #return my_context\n",
    "            if i in decision_times:\n",
    "                print('decision time')\n",
    "                action = get_action(my_context,current_steps)\n",
    "                print(action)\n",
    "            else:\n",
    "                action = -1\n",
    "            ##redo get_steps\n",
    "            next_steps = get_steps(my_context,action) \n",
    "            all_steps.append(next_steps)\n",
    "            initial_context = my_context\n",
    "            current_steps = next_steps\n",
    "        else:\n",
    "            if i in decision_times:\n",
    "                print('decision time')\n",
    "                action = get_action(initial_context,current_steps)\n",
    "            else:\n",
    "                action = -1\n",
    "            next_steps = get_steps(initial_context,action) \n",
    "            all_steps.append(next_steps)\n",
    "            current_steps = next_steps\n",
    "        if new_day:\n",
    "            \n",
    "            start_of_day = current_index\n",
    "            new_day=False\n",
    "        last_day =i\n",
    "        end_of_day = current_index  \n",
    "        current_index = current_index+1\n",
    "            \n",
    "    return all_steps"
   ]
  },
  {
   "cell_type": "code",
   "execution_count": 58,
   "metadata": {
    "collapsed": false
   },
   "outputs": [],
   "source": [
    "decision_times = ['2015-07-22 02:00:00']\n",
    "num_people = 2"
   ]
  },
  {
   "cell_type": "code",
   "execution_count": 59,
   "metadata": {
    "collapsed": true
   },
   "outputs": [],
   "source": [
    "days = pd.date_range(start = '7/22/2015',end =pd.Timestamp('7/22/2015')+pd.DateOffset(days=90),freq='60T')"
   ]
  },
  {
   "cell_type": "code",
   "execution_count": 60,
   "metadata": {
    "collapsed": false
   },
   "outputs": [],
   "source": [
    "temp_indices = days[:24*7]\n"
   ]
  },
  {
   "cell_type": "code",
   "execution_count": 75,
   "metadata": {
    "collapsed": false
   },
   "outputs": [
    {
     "name": "stdout",
     "output_type": "stream",
     "text": [
      "decision time\n",
      "1\n"
     ]
    }
   ],
   "source": [
    "x=simulate_run(num_people,temp_indices,pd.DatetimeIndex(['2015-07-28 14:00:00']))"
   ]
  },
  {
   "cell_type": "code",
   "execution_count": 76,
   "metadata": {
    "collapsed": false
   },
   "outputs": [
    {
     "data": {
      "text/plain": [
       "[0.0,\n",
       " 0.0,\n",
       " 0.0,\n",
       " 0.0,\n",
       " 0.0,\n",
       " 0.0,\n",
       " 0.0,\n",
       " 0.0,\n",
       " 805.3259052745814,\n",
       " 874.3717991837161,\n",
       " 423.3893687461939,\n",
       " 286.7484467433249,\n",
       " 2124.2928079897047,\n",
       " 1030.267338186014,\n",
       " 26.284584621289923,\n",
       " 758.0642610183802,\n",
       " 827.3600024610912,\n",
       " 70.1674868389282,\n",
       " 1347.9586793341357,\n",
       " 149.9775632701743,\n",
       " 2029.3455462683091,\n",
       " 148.0185676938812,\n",
       " 986.0558136510215,\n",
       " 1665.7370758517736,\n",
       " 0.0,\n",
       " 0.0,\n",
       " 0.0,\n",
       " 0.0,\n",
       " 0.0,\n",
       " 0.0,\n",
       " 0.0,\n",
       " 0.0,\n",
       " 1036.0357436850707,\n",
       " 340.1070113372219,\n",
       " 1811.435718873815,\n",
       " 717.8758097769681,\n",
       " 142.29906881515114,\n",
       " 1240.011667641013,\n",
       " 3249.9233212705376,\n",
       " 743.8272301951129,\n",
       " 1813.5179040700968,\n",
       " 774.8769946068205,\n",
       " 1607.4774912610633,\n",
       " 986.5248529389015,\n",
       " 211.20764356494237,\n",
       " 2089.2176325391515,\n",
       " 256.88602995788017,\n",
       " 1480.7867079979137,\n",
       " 0.0,\n",
       " 0.0,\n",
       " 0.0,\n",
       " 0.0,\n",
       " 0.0,\n",
       " 0.0,\n",
       " 0.0,\n",
       " 0.0,\n",
       " 1366.4322970451512,\n",
       " 221.9846970811838,\n",
       " 451.0682656855455,\n",
       " 48.65280227498124,\n",
       " 863.0486806074165,\n",
       " 745.2452945482405,\n",
       " 409.968462690142,\n",
       " 1021.8139642593857,\n",
       " 642.8307036064859,\n",
       " 100.85897788447869,\n",
       " 959.9737724938728,\n",
       " 383.5873977438082,\n",
       " 665.9605874706848,\n",
       " 1817.0534580647627,\n",
       " 1413.371247988576,\n",
       " 2130.017875466233,\n",
       " 525.5366234465927,\n",
       " 83.6284545723272,\n",
       " 698.9148130685899,\n",
       " 842.9989142688557,\n",
       " 465.59009794956745,\n",
       " 871.2027138206652,\n",
       " 214.6584666798041,\n",
       " 448.0249069801907,\n",
       " 1556.1312843814376,\n",
       " 68.76446620415118,\n",
       " 1702.613611429545,\n",
       " 433.5578983758635,\n",
       " 128.049635163601,\n",
       " 2794.727393614985,\n",
       " 2358.444199683374,\n",
       " 700.0906137424386,\n",
       " 1116.2792650126519,\n",
       " 2659.4874926822617,\n",
       " 3671.44812852672,\n",
       " 686.0516567806634,\n",
       " 1315.5462177370596,\n",
       " 2355.867548076973,\n",
       " 699.9084754068637,\n",
       " 767.1340088580148,\n",
       " 225.61697551298636,\n",
       " 296.2349253771765,\n",
       " 172.23106135593014,\n",
       " 447.5026941817663,\n",
       " 638.6517248157842,\n",
       " 284.0410986520235,\n",
       " 262.9389794284532,\n",
       " 614.9473324020837,\n",
       " 1864.6313065482582,\n",
       " 965.7228950861478,\n",
       " 2746.852819752362,\n",
       " 1618.284154379557,\n",
       " 441.7015899111525,\n",
       " 739.4393642168577,\n",
       " 2416.7531118071647,\n",
       " 542.6418612257553,\n",
       " 274.7264619208686,\n",
       " 283.1143090806321,\n",
       " 1033.4326039312036,\n",
       " 1466.4371609092784,\n",
       " 1617.3226186479892,\n",
       " 1944.0293961596608,\n",
       " 644.3468331495419,\n",
       " 2732.516148624493,\n",
       " 0.0,\n",
       " 0.0,\n",
       " 0.0,\n",
       " 0.0,\n",
       " 0.0,\n",
       " 0.0,\n",
       " 0.0,\n",
       " 0.0,\n",
       " 1511.2509928829343,\n",
       " 3102.6820964033946,\n",
       " 735.0969696014847,\n",
       " 601.0757471451598,\n",
       " 1766.8321340624498,\n",
       " 1449.6594904667202,\n",
       " 1330.8645125136268,\n",
       " 2007.0849239859522,\n",
       " 1700.1982371423126,\n",
       " 2720.3356216075827,\n",
       " 811.8844940050179,\n",
       " 1165.168130116187,\n",
       " 2385.3999530226374,\n",
       " 3879.056280979133,\n",
       " 860.4118967142813,\n",
       " 412.99397999252824,\n",
       " 0.0,\n",
       " 0.0,\n",
       " 0.0,\n",
       " 0.0,\n",
       " 0.0,\n",
       " 0.0,\n",
       " 0.0,\n",
       " 0.0,\n",
       " 314.6738598333984,\n",
       " 394.7087519457695,\n",
       " 1506.7881727870126,\n",
       " 776.4947058138861,\n",
       " 1295.4211365129836,\n",
       " 741.9049002156261,\n",
       " 314.99774301596267,\n",
       " 1416.8691535964945,\n",
       " 1052.512395406077,\n",
       " 1684.3047256065402,\n",
       " 207.22846549836697,\n",
       " 741.5131531953509,\n",
       " 2605.431930910939,\n",
       " 3082.092419683314,\n",
       " 1377.033081946833,\n",
       " 1609.6189090159598]"
      ]
     },
     "execution_count": 76,
     "metadata": {},
     "output_type": "execute_result"
    }
   ],
   "source": [
    "x"
   ]
  },
  {
   "cell_type": "code",
   "execution_count": 291,
   "metadata": {
    "collapsed": false
   },
   "outputs": [],
   "source": [
    "all_runs = []\n",
    "for i in range(500):\n",
    "    all_runs.append(simulate_run(num_people,temp_indices,decision_times))"
   ]
  },
  {
   "cell_type": "code",
   "execution_count": null,
   "metadata": {
    "collapsed": false
   },
   "outputs": [],
   "source": []
  },
  {
   "cell_type": "code",
   "execution_count": null,
   "metadata": {
    "collapsed": false
   },
   "outputs": [],
   "source": []
  }
 ],
 "metadata": {
  "kernelspec": {
   "display_name": "Python [Root]",
   "language": "python",
   "name": "Python [Root]"
  },
  "language_info": {
   "codemirror_mode": {
    "name": "ipython",
    "version": 3
   },
   "file_extension": ".py",
   "mimetype": "text/x-python",
   "name": "python",
   "nbconvert_exporter": "python",
   "pygments_lexer": "ipython3",
   "version": "3.5.6"
  }
 },
 "nbformat": 4,
 "nbformat_minor": 0
}
