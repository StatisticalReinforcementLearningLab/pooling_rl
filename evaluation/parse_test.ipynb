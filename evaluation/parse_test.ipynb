{
 "cells": [
  {
   "cell_type": "code",
   "execution_count": 1,
   "metadata": {},
   "outputs": [],
   "source": [
    "import numpy as np\n",
    "import os\n",
    "import pandas as pd\n",
    "from scipy.stats import sem"
   ]
  },
  {
   "cell_type": "code",
   "execution_count": 2,
   "metadata": {},
   "outputs": [],
   "source": [
    "def get_all_valid_files(case,date,pop):\n",
    "    direct = '../../Downloads/cases_from_cluster/{}'.format(case)\n",
    "    files = [f for f in os.listdir('{}/'.format(direct)) if pop in f and 'part' in f and 'no_tuning' not in f]\n",
    "    #good_two = count_done('../../Downloads/cases_from_cluster/{}_two'.format(case),ptwo)\n",
    "    goods ={}\n",
    "    for ff in files:\n",
    "        with open('{}/{}'.format(direct,ff),'r') as f:\n",
    "            l = f.readlines()\n",
    "        if  date in  l[-1]:\n",
    "            #goods.append(f)\n",
    "        \n",
    "            goods[ff]=l\n",
    "    return goods"
   ]
  },
  {
   "cell_type": "code",
   "execution_count": 14,
   "metadata": {},
   "outputs": [],
   "source": [
    "f = get_all_valid_files('case_two', '2015-10-19 19:00:00','_32_')"
   ]
  },
  {
   "cell_type": "code",
   "execution_count": 94,
   "metadata": {},
   "outputs": [
    {
     "data": {
      "text/plain": [
       "'1\\n'"
      ]
     },
     "execution_count": 94,
     "metadata": {},
     "output_type": "execute_result"
    }
   ],
   "source": [
    "f['updates_case_three_participant_32_7_559.txt'][11].split(' ')[14]"
   ]
  },
  {
   "cell_type": "code",
   "execution_count": 3,
   "metadata": {},
   "outputs": [],
   "source": [
    "def get_output(lines):\n",
    "    to_return = {}\n",
    "    gids = {}\n",
    "    for l in lines:\n",
    "        try:\n",
    "            p_id = l.split(' ')[11]\n",
    "            steps = float(l.split(' ')[13])\n",
    "            gid =  l.split(' ')[14]\n",
    "            if p_id not in to_return:\n",
    "                to_return[p_id]=[]\n",
    "            to_return[p_id].append(steps)\n",
    "            if p_id not in gids:\n",
    "                gids[p_id]=gid.strip('\\n')\n",
    "        except Exception as e:\n",
    "            print(e)\n",
    "            print(l)\n",
    "    return to_return,gids"
   ]
  },
  {
   "cell_type": "code",
   "execution_count": 4,
   "metadata": {},
   "outputs": [],
   "source": [
    "def get_all_steps_across_files(case,date,pop):\n",
    "    files = get_all_valid_files(case,date,pop)\n",
    "    all_steps = []\n",
    "    print(len(files))\n",
    "    for f,v in files.items():\n",
    "        print(f)\n",
    "        od = get_output(v)\n",
    "        for k,v in od[0].items():\n",
    "            all_steps.extend(v)\n",
    "    return all_steps"
   ]
  },
  {
   "cell_type": "code",
   "execution_count": 5,
   "metadata": {},
   "outputs": [],
   "source": [
    "def get_by_date(file_lines):\n",
    "    to_return = {}\n",
    "    for l in file_lines:\n",
    "        if 'Feb 25' in l:\n",
    "            pid = l.split(' Feb 25, 2019')[1].split(' ')[1]\n",
    "        \n",
    "            time = pd.Timestamp(l.split(' ')[1])\n",
    "            steps = float( l.split(' Feb 25, 2019')[1].split(' ')[3])\n",
    "        elif 'Feb 26' in l:\n",
    "            pid = l.split(' Feb 26, 2019')[1].split(' ')[1]\n",
    "        \n",
    "            time = pd.Timestamp(l.split(' ')[1])\n",
    "            steps = float( l.split(' Feb 26, 2019')[1].split(' ')[3])\n",
    "        #pid = l.split(' ')[11]\n",
    "        if pid not in to_return:\n",
    "            to_return[pid]={}\n",
    "        to_return[pid][time]=steps\n",
    "        #gid =  l.split(' ')[12]\n",
    "    return to_return"
   ]
  },
  {
   "cell_type": "code",
   "execution_count": 6,
   "metadata": {},
   "outputs": [],
   "source": [
    "def check_any_date(case,daylimit,pop):\n",
    "    direct = '../../Downloads/cases_from_cluster/{}'.format(case)\n",
    "    files = [f for f in os.listdir('{}/'.format(direct)) if pop in f and 'part' in f and 'no_tuning' not in f]\n",
    "    #good_two = count_done('../../Downloads/cases_from_cluster/{}_two'.format(case),ptwo)\n",
    "    all_goods ={}\n",
    "    added = 0\n",
    "    for ff in files:\n",
    "        with open('{}/{}'.format(direct,ff),'r') as f:\n",
    "            l = f.readlines()\n",
    "        by_date = get_by_date(l)\n",
    "        #print(by_date)\n",
    "        goods = [k for k,v in by_date.items() if (sorted(v)[-1]-sorted(v)[0]).days>daylimit]\n",
    "        if len(goods)==int(pop.strip('_')) and added<50:\n",
    "            all_goods[ff]=by_date\n",
    "            added=added+1\n",
    "    return all_goods\n",
    "            "
   ]
  },
  {
   "cell_type": "code",
   "execution_count": 7,
   "metadata": {},
   "outputs": [],
   "source": [
    "d_two = pd.Timestamp('2015-10-19 19:00:00')"
   ]
  },
  {
   "cell_type": "code",
   "execution_count": 47,
   "metadata": {},
   "outputs": [
    {
     "data": {
      "text/plain": [
       "38"
      ]
     },
     "execution_count": 47,
     "metadata": {},
     "output_type": "execute_result"
    }
   ],
   "source": [
    "temp = check_any_date('case_two',41,'_32_')\n",
    "len(temp)"
   ]
  },
  {
   "cell_type": "code",
   "execution_count": 8,
   "metadata": {},
   "outputs": [],
   "source": [
    "def dict_to_steps(time_dict):\n",
    "    all_steps = []\n",
    "    print(len(time_dict))\n",
    "    for f,d in time_dict.items():\n",
    "        for k,v in d.items():\n",
    "            all_steps.extend(list(v.values()))\n",
    "    return np.array(all_steps)"
   ]
  },
  {
   "cell_type": "code",
   "execution_count": 21,
   "metadata": {},
   "outputs": [
    {
     "data": {
      "text/plain": [
       "['', '28', '0', '5.723113060403663', '1']"
      ]
     },
     "execution_count": 21,
     "metadata": {},
     "output_type": "execute_result"
    }
   ],
   "source": [
    "'p_info 2015-10-19 10:00:00 6861 10:04PM EST on Feb 25, 2019 28 0 5.723113060403663 1'.split(' Feb 25, 2019')[1].split(' ')"
   ]
  },
  {
   "cell_type": "code",
   "execution_count": 18,
   "metadata": {},
   "outputs": [],
   "source": [
    "d_one = '2015-10-19 19:00:00'\n",
    "d_two = d_one\n",
    "#'2015-09-06 19:00:00'"
   ]
  },
  {
   "cell_type": "code",
   "execution_count": 164,
   "metadata": {},
   "outputs": [
    {
     "name": "stdout",
     "output_type": "stream",
     "text": [
      "61903\n"
     ]
    }
   ],
   "source": [
    "print(len(steps))"
   ]
  },
  {
   "cell_type": "code",
   "execution_count": 9,
   "metadata": {},
   "outputs": [
    {
     "name": "stdout",
     "output_type": "stream",
     "text": [
      "0\n",
      "nan\n",
      "nan\n"
     ]
    }
   ],
   "source": [
    "steps = dict_to_steps(check_any_date('case_two',41,'_32_'))\n",
    "print(steps.mean())\n",
    "print(steps.std())"
   ]
  },
  {
   "cell_type": "code",
   "execution_count": 10,
   "metadata": {},
   "outputs": [
    {
     "name": "stdout",
     "output_type": "stream",
     "text": [
      "0\n",
      "nan\n",
      "nan\n"
     ]
    }
   ],
   "source": [
    "steps = dict_to_steps(check_any_date('case_one',41,'_32_'))\n",
    "print(steps.mean())\n",
    "print(steps.std())"
   ]
  },
  {
   "cell_type": "code",
   "execution_count": 11,
   "metadata": {},
   "outputs": [
    {
     "name": "stdout",
     "output_type": "stream",
     "text": [
      "0\n",
      "nan\n",
      "nan\n"
     ]
    }
   ],
   "source": [
    "steps = dict_to_steps(check_any_date('case_three',41,'_32_'))\n",
    "print(steps.mean())\n",
    "print(steps.std())"
   ]
  },
  {
   "cell_type": "code",
   "execution_count": 170,
   "metadata": {},
   "outputs": [
    {
     "name": "stdout",
     "output_type": "stream",
     "text": [
      "26\n"
     ]
    },
    {
     "data": {
      "text/plain": [
       "2.538880131984387"
      ]
     },
     "execution_count": 170,
     "metadata": {},
     "output_type": "execute_result"
    }
   ],
   "source": [
    "steps = dict_to_steps(check_any_date('case_two',20,'_64_'))\n",
    "steps.mean()"
   ]
  },
  {
   "cell_type": "code",
   "execution_count": 171,
   "metadata": {},
   "outputs": [
    {
     "name": "stdout",
     "output_type": "stream",
     "text": [
      "34\n"
     ]
    },
    {
     "data": {
      "text/plain": [
       "2.5696280263648594"
      ]
     },
     "execution_count": 171,
     "metadata": {},
     "output_type": "execute_result"
    }
   ],
   "source": [
    "steps = dict_to_steps(check_any_date('case_one',20,'_64_'))\n",
    "steps.mean()"
   ]
  },
  {
   "cell_type": "code",
   "execution_count": 172,
   "metadata": {},
   "outputs": [
    {
     "name": "stdout",
     "output_type": "stream",
     "text": [
      "10\n"
     ]
    },
    {
     "data": {
      "text/plain": [
       "2.5082621905963047"
      ]
     },
     "execution_count": 172,
     "metadata": {},
     "output_type": "execute_result"
    }
   ],
   "source": [
    "steps = dict_to_steps(check_any_date('case_three',20,'_64_'))\n",
    "steps.mean()"
   ]
  },
  {
   "cell_type": "code",
   "execution_count": 17,
   "metadata": {},
   "outputs": [
    {
     "ename": "TypeError",
     "evalue": "'in <string>' requires string as left operand, not Timestamp",
     "output_type": "error",
     "traceback": [
      "\u001b[0;31m-----------------------------------------------------------------\u001b[0m",
      "\u001b[0;31mTypeError\u001b[0m                       Traceback (most recent call last)",
      "\u001b[0;32m<ipython-input-17-963cd40fe320>\u001b[0m in \u001b[0;36m<module>\u001b[0;34m\u001b[0m\n\u001b[0;32m----> 1\u001b[0;31m \u001b[0mf_two\u001b[0m \u001b[0;34m=\u001b[0m \u001b[0mget_all_steps_across_files\u001b[0m\u001b[0;34m(\u001b[0m\u001b[0;34m'case_two'\u001b[0m\u001b[0;34m,\u001b[0m \u001b[0md_two\u001b[0m\u001b[0;34m,\u001b[0m\u001b[0;34m'64'\u001b[0m\u001b[0;34m)\u001b[0m\u001b[0;34m\u001b[0m\u001b[0;34m\u001b[0m\u001b[0m\n\u001b[0m\u001b[1;32m      2\u001b[0m \u001b[0mprint\u001b[0m\u001b[0;34m(\u001b[0m\u001b[0mnp\u001b[0m\u001b[0;34m.\u001b[0m\u001b[0marray\u001b[0m\u001b[0;34m(\u001b[0m\u001b[0mf_two\u001b[0m\u001b[0;34m)\u001b[0m\u001b[0;34m.\u001b[0m\u001b[0mmean\u001b[0m\u001b[0;34m(\u001b[0m\u001b[0;34m)\u001b[0m\u001b[0;34m)\u001b[0m\u001b[0;34m\u001b[0m\u001b[0;34m\u001b[0m\u001b[0m\n\u001b[1;32m      3\u001b[0m \u001b[0mf_three\u001b[0m \u001b[0;34m=\u001b[0m \u001b[0mget_all_steps_across_files\u001b[0m\u001b[0;34m(\u001b[0m\u001b[0;34m'case_three'\u001b[0m\u001b[0;34m,\u001b[0m  \u001b[0md_two\u001b[0m\u001b[0;34m,\u001b[0m\u001b[0;34m'64'\u001b[0m\u001b[0;34m)\u001b[0m\u001b[0;34m\u001b[0m\u001b[0;34m\u001b[0m\u001b[0m\n\u001b[1;32m      4\u001b[0m \u001b[0mprint\u001b[0m\u001b[0;34m(\u001b[0m\u001b[0mnp\u001b[0m\u001b[0;34m.\u001b[0m\u001b[0marray\u001b[0m\u001b[0;34m(\u001b[0m\u001b[0mf_three\u001b[0m\u001b[0;34m)\u001b[0m\u001b[0;34m.\u001b[0m\u001b[0mmean\u001b[0m\u001b[0;34m(\u001b[0m\u001b[0;34m)\u001b[0m\u001b[0;34m)\u001b[0m\u001b[0;34m\u001b[0m\u001b[0;34m\u001b[0m\u001b[0m\n\u001b[1;32m      5\u001b[0m \u001b[0mf_one\u001b[0m \u001b[0;34m=\u001b[0m \u001b[0mget_all_steps_across_files\u001b[0m\u001b[0;34m(\u001b[0m\u001b[0;34m'case_one'\u001b[0m\u001b[0;34m,\u001b[0m  \u001b[0md_two\u001b[0m\u001b[0;34m,\u001b[0m\u001b[0;34m'64'\u001b[0m\u001b[0;34m)\u001b[0m\u001b[0;34m\u001b[0m\u001b[0;34m\u001b[0m\u001b[0m\n",
      "\u001b[0;32m<ipython-input-13-e1019bdd265a>\u001b[0m in \u001b[0;36mget_all_steps_across_files\u001b[0;34m(case, date, pop)\u001b[0m\n\u001b[1;32m      1\u001b[0m \u001b[0;32mdef\u001b[0m \u001b[0mget_all_steps_across_files\u001b[0m\u001b[0;34m(\u001b[0m\u001b[0mcase\u001b[0m\u001b[0;34m,\u001b[0m\u001b[0mdate\u001b[0m\u001b[0;34m,\u001b[0m\u001b[0mpop\u001b[0m\u001b[0;34m)\u001b[0m\u001b[0;34m:\u001b[0m\u001b[0;34m\u001b[0m\u001b[0;34m\u001b[0m\u001b[0m\n\u001b[0;32m----> 2\u001b[0;31m     \u001b[0mfiles\u001b[0m \u001b[0;34m=\u001b[0m \u001b[0mget_all_valid_files\u001b[0m\u001b[0;34m(\u001b[0m\u001b[0mcase\u001b[0m\u001b[0;34m,\u001b[0m\u001b[0mdate\u001b[0m\u001b[0;34m,\u001b[0m\u001b[0mpop\u001b[0m\u001b[0;34m)\u001b[0m\u001b[0;34m\u001b[0m\u001b[0;34m\u001b[0m\u001b[0m\n\u001b[0m\u001b[1;32m      3\u001b[0m     \u001b[0mall_steps\u001b[0m \u001b[0;34m=\u001b[0m \u001b[0;34m[\u001b[0m\u001b[0;34m]\u001b[0m\u001b[0;34m\u001b[0m\u001b[0;34m\u001b[0m\u001b[0m\n\u001b[1;32m      4\u001b[0m     \u001b[0mprint\u001b[0m\u001b[0;34m(\u001b[0m\u001b[0mlen\u001b[0m\u001b[0;34m(\u001b[0m\u001b[0mfiles\u001b[0m\u001b[0;34m)\u001b[0m\u001b[0;34m)\u001b[0m\u001b[0;34m\u001b[0m\u001b[0;34m\u001b[0m\u001b[0m\n\u001b[1;32m      5\u001b[0m     \u001b[0;32mfor\u001b[0m \u001b[0mf\u001b[0m\u001b[0;34m,\u001b[0m\u001b[0mv\u001b[0m \u001b[0;32min\u001b[0m \u001b[0mfiles\u001b[0m\u001b[0;34m.\u001b[0m\u001b[0mitems\u001b[0m\u001b[0;34m(\u001b[0m\u001b[0;34m)\u001b[0m\u001b[0;34m:\u001b[0m\u001b[0;34m\u001b[0m\u001b[0;34m\u001b[0m\u001b[0m\n",
      "\u001b[0;32m<ipython-input-2-5235819a483e>\u001b[0m in \u001b[0;36mget_all_valid_files\u001b[0;34m(case, date, pop)\u001b[0m\n\u001b[1;32m      7\u001b[0m         \u001b[0;32mwith\u001b[0m \u001b[0mopen\u001b[0m\u001b[0;34m(\u001b[0m\u001b[0;34m'{}/{}'\u001b[0m\u001b[0;34m.\u001b[0m\u001b[0mformat\u001b[0m\u001b[0;34m(\u001b[0m\u001b[0mdirect\u001b[0m\u001b[0;34m,\u001b[0m\u001b[0mff\u001b[0m\u001b[0;34m)\u001b[0m\u001b[0;34m,\u001b[0m\u001b[0;34m'r'\u001b[0m\u001b[0;34m)\u001b[0m \u001b[0;32mas\u001b[0m \u001b[0mf\u001b[0m\u001b[0;34m:\u001b[0m\u001b[0;34m\u001b[0m\u001b[0;34m\u001b[0m\u001b[0m\n\u001b[1;32m      8\u001b[0m             \u001b[0ml\u001b[0m \u001b[0;34m=\u001b[0m \u001b[0mf\u001b[0m\u001b[0;34m.\u001b[0m\u001b[0mreadlines\u001b[0m\u001b[0;34m(\u001b[0m\u001b[0;34m)\u001b[0m\u001b[0;34m\u001b[0m\u001b[0;34m\u001b[0m\u001b[0m\n\u001b[0;32m----> 9\u001b[0;31m         \u001b[0;32mif\u001b[0m  \u001b[0mdate\u001b[0m \u001b[0;32min\u001b[0m  \u001b[0ml\u001b[0m\u001b[0;34m[\u001b[0m\u001b[0;34m-\u001b[0m\u001b[0;36m1\u001b[0m\u001b[0;34m]\u001b[0m\u001b[0;34m:\u001b[0m\u001b[0;34m\u001b[0m\u001b[0;34m\u001b[0m\u001b[0m\n\u001b[0m\u001b[1;32m     10\u001b[0m             \u001b[0;31m#goods.append(f)\u001b[0m\u001b[0;34m\u001b[0m\u001b[0;34m\u001b[0m\u001b[0;34m\u001b[0m\u001b[0m\n\u001b[1;32m     11\u001b[0m \u001b[0;34m\u001b[0m\u001b[0m\n",
      "\u001b[0;31mTypeError\u001b[0m: 'in <string>' requires string as left operand, not Timestamp"
     ]
    }
   ],
   "source": [
    "f_two = get_all_steps_across_files('case_two', d_two,'64')\n",
    "print(np.array(f_two).mean())\n",
    "f_three = get_all_steps_across_files('case_three',  d_two,'64')\n",
    "print(np.array(f_three).mean())\n",
    "f_one = get_all_steps_across_files('case_one',  d_two,'64')\n",
    "print(np.array(f_one).mean())"
   ]
  },
  {
   "cell_type": "code",
   "execution_count": null,
   "metadata": {},
   "outputs": [],
   "source": [
    "def look_at_group_correlation(groupids,predictions):\n",
    "    group_one = []\n",
    "    group_two = []\n",
    "    \n",
    "    for k,v in predictions.items():\n",
    "        if groupids[k]=="
   ]
  }
 ],
 "metadata": {
  "kernelspec": {
   "display_name": "Python 3",
   "language": "python",
   "name": "python3"
  },
  "language_info": {
   "codemirror_mode": {
    "name": "ipython",
    "version": 3
   },
   "file_extension": ".py",
   "mimetype": "text/x-python",
   "name": "python",
   "nbconvert_exporter": "python",
   "pygments_lexer": "ipython3",
   "version": "3.6.8"
  }
 },
 "nbformat": 4,
 "nbformat_minor": 2
}
