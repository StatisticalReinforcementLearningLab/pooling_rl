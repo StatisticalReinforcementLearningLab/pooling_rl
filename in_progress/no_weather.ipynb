{
 "cells": [
  {
   "cell_type": "code",
   "execution_count": 1,
   "metadata": {},
   "outputs": [],
   "source": [
    "import numpy as np\n",
    "import pickle\n",
    "import matplotlib.pyplot as plt\n",
    "%matplotlib inline\n",
    "import pandas as pd\n",
    "import pandas as pd\n",
    "import sys\n",
    "sys.path\n",
    "sys.path.append('../models')\n",
    "sys.path.append('../simulation')\n",
    "import numpy as np\n",
    "import pickle\n",
    "import random\n",
    "import os\n",
    "import math\n",
    "import sim_functions_cleaner  as sf\n",
    "import operator\n",
    "import study"
   ]
  },
  {
   "cell_type": "code",
   "execution_count": 1527,
   "metadata": {},
   "outputs": [],
   "source": [
    "#orig np.array([0.13747917218640332, -0.08988142,   0.11982505, -0.16109622, 0.10403158])\n",
    "coeffs =  np.array([0.05, 0.1,   -0.15,.1, -0.3, 0.15])\n",
    "#coeffs = np.array([0.13747917218640332, -0.08988142,   0.11982505, -0.16109622, 0.10403158])\n"
   ]
  },
  {
   "cell_type": "code",
   "execution_count": 1528,
   "metadata": {},
   "outputs": [],
   "source": [
    "#all_ys = [np.dot(coeffs.T,s) for s in data]"
   ]
  },
  {
   "cell_type": "code",
   "execution_count": 1529,
   "metadata": {},
   "outputs": [],
   "source": [
    "def reward_percent_correct_aciton(percent):\n",
    "    pass"
   ]
  },
  {
   "cell_type": "code",
   "execution_count": 2,
   "metadata": {},
   "outputs": [],
   "source": [
    "with open('../simulation/visited_states_200.pkl','rb') as f:\n",
    "    experiment = pickle.load(f)"
   ]
  },
  {
   "cell_type": "code",
   "execution_count": 32,
   "metadata": {},
   "outputs": [
    {
     "name": "stdout",
     "output_type": "stream",
     "text": [
      "4.681273138386588\n",
      "4.606745807027805\n"
     ]
    }
   ],
   "source": []
  },
  {
   "cell_type": "code",
   "execution_count": 3,
   "metadata": {},
   "outputs": [],
   "source": [
    "def get_all_states():\n",
    "    all_states = []\n",
    "    counts = {}\n",
    "    for person,data in experiment.population.items():\n",
    "        h = data.history\n",
    "        for time,cd in h.items():\n",
    "            \n",
    "            if cd['avail'] and cd['decision_time']:\n",
    "                states = [1,cd['tod'],cd['dow'],cd['pretreatment'],cd['location']]\n",
    "                key = '-'.join(str(i) for i in states)\n",
    "                if key not in counts: \n",
    "                    counts[key]=0\n",
    "                counts[key]=counts[key]+1\n",
    "    return counts"
   ]
  },
  {
   "cell_type": "code",
   "execution_count": 4,
   "metadata": {},
   "outputs": [],
   "source": [
    "s = get_all_states()\n"
   ]
  },
  {
   "cell_type": "code",
   "execution_count": null,
   "metadata": {},
   "outputs": [],
   "source": []
  },
  {
   "cell_type": "code",
   "execution_count": 6,
   "metadata": {},
   "outputs": [],
   "source": [
    "def get_percent(coeffs,s,p):\n",
    "    average_add = []\n",
    "    for k,v in s.items():\n",
    "        state = [int(i) for i in k.split('-')]\n",
    "        add = np.dot(coeffs.T,state)\n",
    "        #print(add)\n",
    "        temp = [add if add>0 else 0 for i in range(int(v*p)) ]\n",
    "        temp_loss = [add if add<0 else 0 for i in range(int(v*(1-p))) ]\n",
    "        #print(len(temp))\n",
    "        #print(add)\n",
    "        #print(int(v*(1-p)))\n",
    "        #print(len(temp_loss))\n",
    "        \n",
    "        if p>0:\n",
    "            \n",
    "            average_add.extend(temp)\n",
    "        if p<1:\n",
    "            average_add.extend(temp_loss)\n",
    "    return np.array(average_add).mean()\n"
   ]
  },
  {
   "cell_type": "code",
   "execution_count": 7,
   "metadata": {},
   "outputs": [],
   "source": [
    "def get_adds(coeffs,s):\n",
    "    average_add = []\n",
    "    for k,v in s.items():\n",
    "        state = [int(i) for i in k.split('-')]\n",
    "        add = np.dot(coeffs.T,state)\n",
    "        \n",
    "            \n",
    "        average_add.extend([add for i in range(v)])\n",
    "     \n",
    "    adds =  np.array(average_add)\n",
    "    return len([ a for a in adds if a>0])/len(adds)"
   ]
  },
  {
   "cell_type": "code",
   "execution_count": 1535,
   "metadata": {},
   "outputs": [],
   "source": [
    "adds = get_adds()"
   ]
  },
  {
   "cell_type": "code",
   "execution_count": 1536,
   "metadata": {},
   "outputs": [],
   "source": [
    "perfect = get_percent(1)\n"
   ]
  },
  {
   "cell_type": "code",
   "execution_count": 1537,
   "metadata": {},
   "outputs": [],
   "source": [
    "terrible = get_percent(0)\n"
   ]
  },
  {
   "cell_type": "code",
   "execution_count": 1538,
   "metadata": {},
   "outputs": [
    {
     "data": {
      "text/plain": [
       "0.18160447761194026"
      ]
     },
     "execution_count": 1538,
     "metadata": {},
     "output_type": "execute_result"
    }
   ],
   "source": [
    "perfect-terrible\n"
   ]
  },
  {
   "cell_type": "code",
   "execution_count": 1539,
   "metadata": {},
   "outputs": [
    {
     "data": {
      "text/plain": [
       "0.6263059701492537"
      ]
     },
     "execution_count": 1539,
     "metadata": {},
     "output_type": "execute_result"
    }
   ],
   "source": [
    "##get percent optimal action for each case\n",
    "\n",
    "len([ a for a in adds if a>0])/len(adds)\n"
   ]
  },
  {
   "cell_type": "code",
   "execution_count": 1540,
   "metadata": {},
   "outputs": [
    {
     "data": {
      "text/plain": [
       "0.027422371866816314"
      ]
     },
     "execution_count": 1540,
     "metadata": {},
     "output_type": "execute_result"
    }
   ],
   "source": [
    "get_percent(.75)-get_percent(.6)\n"
   ]
  },
  {
   "cell_type": "code",
   "execution_count": 1511,
   "metadata": {},
   "outputs": [
    {
     "data": {
      "text/plain": [
       "0.15440516273849603"
      ]
     },
     "execution_count": 1511,
     "metadata": {},
     "output_type": "execute_result"
    }
   ],
   "source": [
    "get_percent(.60)"
   ]
  },
  {
   "cell_type": "code",
   "execution_count": 1526,
   "metadata": {},
   "outputs": [
    {
     "data": {
      "text/plain": [
       "{'1-0-0-1-0-0': 328,\n",
       " '1-0-0-1-1-0': 353,\n",
       " '1-1-0-1-1-0': 650,\n",
       " '1-1-0-1-0-0': 533,\n",
       " '1-0-0-1-0-1': 556,\n",
       " '1-1-0-1-1-1': 467,\n",
       " '1-1-0-1-0-1': 654,\n",
       " '1-0-0-1-1-1': 309,\n",
       " '1-0-1-1-1-1': 143,\n",
       " '1-0-1-1-0-1': 161,\n",
       " '1-1-1-1-0-1': 286,\n",
       " '1-1-1-1-1-0': 195,\n",
       " '1-0-1-1-0-0': 153,\n",
       " '1-0-1-1-1-0': 139,\n",
       " '1-1-1-1-0-0': 219,\n",
       " '1-1-1-1-1-1': 214}"
      ]
     },
     "execution_count": 1526,
     "metadata": {},
     "output_type": "execute_result"
    }
   ],
   "source": [
    "s"
   ]
  },
  {
   "cell_type": "code",
   "execution_count": 1543,
   "metadata": {},
   "outputs": [],
   "source": [
    "with open('../../Downloads/distributions/dists_anti_sedentary_4_4.pkl','rb') as f:\n",
    "    dists_sed = pickle.load(f)\n",
    "with open('../../Downloads/distributions/key_matches_anti_sedentary_4_4.pkl','rb') as f:\n",
    "    matches_sed = pickle.load(f)\n",
    "with open('../../Downloads/distributions/dists_activity_suggestion_4_4.pkl','rb') as f:\n",
    "    dists_act = pickle.load(f)\n",
    "with open('../../Downloads/distributions/key_matches_activity_suggestion_4_4.pkl','rb') as f:\n",
    "    matches_act = pickle.load(f)\n",
    "with open('../../Downloads/distributions/dists_base_4_4.pkl','rb') as f:\n",
    "    dists_base = pickle.load(f)\n",
    "with open('../../Downloads/distributions/key_matches_base_4_4.pkl','rb') as f:\n",
    "    matches_base = pickle.load(f)"
   ]
  },
  {
   "cell_type": "code",
   "execution_count": 1546,
   "metadata": {},
   "outputs": [
    {
     "data": {
      "text/plain": [
       "array([-3.00000000e-01, -2.50000000e-01, -2.00000000e-01, -1.50000000e-01,\n",
       "       -1.00000000e-01, -5.00000000e-02, -5.55111512e-17,  5.00000000e-02,\n",
       "        1.00000000e-01,  1.50000000e-01,  2.00000000e-01,  2.50000000e-01])"
      ]
     },
     "execution_count": 1546,
     "metadata": {},
     "output_type": "execute_result"
    }
   ],
   "source": [
    "np.arange(-.3,.3,.05)"
   ]
  },
  {
   "cell_type": "code",
   "execution_count": 18,
   "metadata": {},
   "outputs": [],
   "source": [
    "def get_dif(coeffs,states):\n",
    "    return get_percent(coeffs,s,.75)-get_percent(coeffs,s,.6)\n"
   ]
  },
  {
   "cell_type": "code",
   "execution_count": 9,
   "metadata": {},
   "outputs": [],
   "source": [
    "def find_max():\n",
    "    coeffs = np.array([0.05, 0.1,   -0.15,.1, -0.3, 0.15])\n",
    "    therange = np.arange(-.3,.3,.05)\n",
    "    maxval = -1 \n",
    "    found = None\n",
    "    avg=None\n",
    "    for tod_val in therange:\n",
    "        for dow_val in therange:\n",
    "            for weather_val in therange:\n",
    "                for preval in therange:\n",
    "                    for locval in therange:\n",
    "                        coeffs = np.array([0.05,tod_val,dow_val,preval,locval])\n",
    "                        dif = get_dif(coeffs,s)\n",
    "                        avg_send = get_adds(coeffs,s)\n",
    "                        if dif>maxval and avg_send<.8 and avg_send>.4:\n",
    "                            maxval=dif\n",
    "                            found = coeffs\n",
    "                            avg = avg_send\n",
    "    return maxval,found,avg\n"
   ]
  },
  {
   "cell_type": "code",
   "execution_count": 10,
   "metadata": {},
   "outputs": [
    {
     "data": {
      "text/plain": [
       "(0.04959121855103149,\n",
       " array([ 0.05,  0.25,  0.25,  0.25, -0.3 ]),\n",
       " 0.748029991179065)"
      ]
     },
     "execution_count": 10,
     "metadata": {},
     "output_type": "execute_result"
    }
   ],
   "source": [
    "find_max()\n"
   ]
  },
  {
   "cell_type": "code",
   "execution_count": 1577,
   "metadata": {},
   "outputs": [
    {
     "data": {
      "text/plain": [
       "(0.042536475869809215,\n",
       " array([ 0.05,  0.2 , -0.2 ,  0.2 ,  0.2 , -0.3 ]),\n",
       " 0.7861940298507463)"
      ]
     },
     "execution_count": 1577,
     "metadata": {},
     "output_type": "execute_result"
    }
   ],
   "source": [
    "find_max()\n"
   ]
  },
  {
   "cell_type": "code",
   "execution_count": 20,
   "metadata": {},
   "outputs": [
    {
     "name": "stdout",
     "output_type": "stream",
     "text": [
      "0.04959121855103152\n",
      "0.748029991179065\n"
     ]
    }
   ],
   "source": [
    "o=np.array([ 0.05,  0.25, .25 ,    0.25, -0.3])\n",
    "print(get_dif(o,s))\n",
    "print(get_adds(o,s))"
   ]
  },
  {
   "cell_type": "code",
   "execution_count": 1599,
   "metadata": {},
   "outputs": [
    {
     "name": "stdout",
     "output_type": "stream",
     "text": [
      "0.037176051953289435\n",
      "0.6455223880597015\n"
     ]
    }
   ],
   "source": [
    "o=np.array([  0.05,  0.25, -0.25,   0.25, -0.3 ])\n",
    "print(get_dif(o,s))\n",
    "print(get_adds(o,s))"
   ]
  },
  {
   "cell_type": "code",
   "execution_count": 1603,
   "metadata": {},
   "outputs": [
    {
     "data": {
      "text/plain": [
       "(0.05194505088007151,\n",
       " array([ 0.05,  0.25,  0.25,  0.25, -0.3 ]),\n",
       " 0.7966417910447762)"
      ]
     },
     "execution_count": 1603,
     "metadata": {},
     "output_type": "execute_result"
    }
   ],
   "source": [
    "##no weather\n",
    "find_max()"
   ]
  },
  {
   "cell_type": "code",
   "execution_count": null,
   "metadata": {},
   "outputs": [],
   "source": [
    "def get_x_y(state_key):\n",
    "    root = matches_sed[ state_key]\n",
    "    mean_control = dists_sed[root][0]\n",
    "    other = matches_act[state_key]\n",
    "    mean_treatment = dists_act[other][0]\n",
    "    y = mean_treatment - mean_control \n",
    "    parts = state_key.split('-')\n",
    "    x = [1]\n",
    "    occurs = min( dists_sed[root][2],dists_act[other][2])\n",
    "\n",
    "    if True:\n",
    "    #len(root.split('-'))==14 and len(other.split('-'))==14:\n",
    "        #print(root)\n",
    "        #print(other)\n",
    "        print(state_key)\n",
    "        for i in range(5,len(parts),2):\n",
    "\n",
    "                x.append(int(parts[i]))\n",
    "        print(x)\n",
    "    return x,y,dists_sed[root][1],dists_act[other][1],occurs,root,other\n",
    "    "
   ]
  }
 ],
 "metadata": {
  "kernelspec": {
   "display_name": "Python 3",
   "language": "python",
   "name": "python3"
  },
  "language_info": {
   "codemirror_mode": {
    "name": "ipython",
    "version": 3
   },
   "file_extension": ".py",
   "mimetype": "text/x-python",
   "name": "python",
   "nbconvert_exporter": "python",
   "pygments_lexer": "ipython3",
   "version": "3.6.8"
  }
 },
 "nbformat": 4,
 "nbformat_minor": 2
}
