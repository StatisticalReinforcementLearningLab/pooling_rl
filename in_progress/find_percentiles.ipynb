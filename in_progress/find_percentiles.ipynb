{
 "cells": [
  {
   "cell_type": "code",
   "execution_count": 2,
   "metadata": {},
   "outputs": [],
   "source": [
    "import numpy as np\n",
    "import pickle\n",
    "import matplotlib.pyplot as plt\n",
    "%matplotlib inline\n",
    "import pandas as pd"
   ]
  },
  {
   "cell_type": "code",
   "execution_count": 3,
   "metadata": {},
   "outputs": [],
   "source": [
    "with open('../../Downloads/distributions/big_state_reward_dict_with_actions_for_quantiles_all_data_noweather.pkl','rb') as f:\n",
    "    t = pickle.load(f)"
   ]
  },
  {
   "cell_type": "code",
   "execution_count": 4,
   "metadata": {},
   "outputs": [],
   "source": [
    "def get_all_states(d):\n",
    "    alls = []\n",
    "    for k,v in d.items():\n",
    "        for l in v.values():\n",
    "            states = l[0].split('-')\n",
    "            state_vector = [1.0]\n",
    "            if states[1]!='2':\n",
    "                state_vector= state_vector+[float(states[i]) for i in range(1,len(states))]\n",
    "                alls.append(state_vector)\n",
    "    return alls"
   ]
  },
  {
   "cell_type": "code",
   "execution_count": 5,
   "metadata": {},
   "outputs": [],
   "source": [
    "def get_all_states_act_sugg(d):\n",
    "    alls = []\n",
    "    for k,v in d.items():\n",
    "        for l in v.values():\n",
    "            states = l[0].split('-')\n",
    "            state_vector = [1.0]\n",
    "            if states[1]!='2' and type(l[3])!=str:\n",
    "                \n",
    "                state_vector= state_vector+[float(states[i]) for i in range(1,len(states))]\n",
    "                alls.append(state_vector)\n",
    "    return alls"
   ]
  },
  {
   "cell_type": "code",
   "execution_count": null,
   "metadata": {},
   "outputs": [],
   "source": []
  },
  {
   "cell_type": "code",
   "execution_count": 6,
   "metadata": {},
   "outputs": [
    {
     "data": {
      "text/plain": [
       "5305"
      ]
     },
     "execution_count": 6,
     "metadata": {},
     "output_type": "execute_result"
    }
   ],
   "source": [
    "data = get_all_states_act_sugg(t['dict'])\n",
    "len(data)\n"
   ]
  },
  {
   "cell_type": "code",
   "execution_count": 7,
   "metadata": {},
   "outputs": [],
   "source": [
    "coeffs = np.array([0.04772972,  0.0696645 ,  0.21549613,  0.24941052 ,-0.22475609 , 0.22540878])\n",
    "\n",
    "coeffs = np.array([0.07912183,  0.11717383,  0.12143829, -0.07507128,  0.25115448])\n",
    "\n"
   ]
  },
  {
   "cell_type": "code",
   "execution_count": 8,
   "metadata": {},
   "outputs": [],
   "source": [
    "all_ys = [np.dot(coeffs.T,s) for s in data]\n"
   ]
  },
  {
   "cell_type": "code",
   "execution_count": 9,
   "metadata": {},
   "outputs": [
    {
     "name": "stdout",
     "output_type": "stream",
     "text": [
      "5\n",
      "0.00405055\n",
      "10\n",
      "0.07912183\n",
      "15\n",
      "0.07912183\n",
      "20\n",
      "0.12122438000000002\n",
      "25\n",
      "0.12122438\n",
      "30\n",
      "0.12548884\n",
      "35\n",
      "0.19629566\n",
      "40\n",
      "0.19629566\n",
      "45\n",
      "0.20056012\n",
      "50\n",
      "0.24266267000000002\n",
      "55\n",
      "0.25520503\n",
      "60\n",
      "0.31773395000000004\n",
      "65\n",
      "0.33027631\n",
      "70\n",
      "0.33027631\n",
      "75\n",
      "0.37237886000000003\n",
      "80\n",
      "0.37237886000000003\n",
      "85\n",
      "0.37664332\n",
      "90\n",
      "0.44745014000000005\n",
      "95\n",
      "0.49381715000000004\n",
      "100\n",
      "0.5688884300000001\n"
     ]
    }
   ],
   "source": [
    "bins = []\n",
    "for i in range(5,105,5):\n",
    "    print(i)\n",
    "    print(np.percentile(np.array(all_ys),i))\n",
    "    bins.append(np.percentile(np.array(all_ys),i))"
   ]
  },
  {
   "cell_type": "code",
   "execution_count": 190,
   "metadata": {},
   "outputs": [
    {
     "data": {
      "text/plain": [
       "(array([3912, 2946, 5139, 3561, 3695, 3396, 5490, 5127]),\n",
       " array([-0.00833635,  0.0977    ,  0.14737665,  0.20920488,  0.27915672,\n",
       "         0.31699027,  0.36491788,  0.42849515,  0.5345315 ]))"
      ]
     },
     "execution_count": 190,
     "metadata": {},
     "output_type": "execute_result"
    }
   ],
   "source": [
    "np.histogram(np.array(all_ys),bins = bins)\n",
    "\n",
    "\n"
   ]
  },
  {
   "cell_type": "code",
   "execution_count": 196,
   "metadata": {},
   "outputs": [
    {
     "data": {
      "text/plain": [
       "3154"
      ]
     },
     "execution_count": 196,
     "metadata": {},
     "output_type": "execute_result"
    }
   ],
   "source": [
    "len([i for i in all_ys if i>-0.00833635 and i<0.13553355])\n"
   ]
  },
  {
   "cell_type": "code",
   "execution_count": 218,
   "metadata": {},
   "outputs": [],
   "source": [
    " bins = pd.cut(np.array(all_ys),bins=10, retbins=True)\n",
    "    "
   ]
  },
  {
   "cell_type": "code",
   "execution_count": 10,
   "metadata": {},
   "outputs": [
    {
     "data": {
      "text/plain": [
       "0.12244165000000001"
      ]
     },
     "execution_count": 10,
     "metadata": {},
     "output_type": "execute_result"
    }
   ],
   "source": [
    "\n",
    "(0.49381715000000004-0.00405055)/4\n",
    "\n",
    "\n",
    "\n"
   ]
  },
  {
   "cell_type": "code",
   "execution_count": 243,
   "metadata": {},
   "outputs": [
    {
     "name": "stdout",
     "output_type": "stream",
     "text": [
      "2014\n"
     ]
    }
   ],
   "source": [
    "\n",
    "print(len([j for j in all_ys if  j<= 0.349 and j>0.306]))"
   ]
  },
  {
   "cell_type": "code",
   "execution_count": 225,
   "metadata": {},
   "outputs": [
    {
     "name": "stdout",
     "output_type": "stream",
     "text": [
      "(-0.121, -0.0773]\n",
      "1354\n",
      "(-0.0773, -0.0347]\n",
      "0\n",
      "(-0.0347, 0.0079]\n",
      "2872\n",
      "(0.0079, 0.0505]\n",
      "0\n",
      "(0.0505, 0.0931]\n",
      "3154\n",
      "(0.0931, 0.136]\n",
      "2946\n",
      "(0.136, 0.178]\n",
      "3139\n",
      "(0.178, 0.221]\n",
      "2853\n",
      "(0.221, 0.263]\n",
      "2708\n",
      "(0.263, 0.306]\n",
      "3695\n",
      "(0.306, 0.349]\n",
      "2014\n",
      "(0.349, 0.391]\n",
      "4701\n",
      "(0.391, 0.434]\n",
      "2171\n",
      "(0.434, 0.476]\n",
      "1764\n",
      "(0.476, 0.519]\n",
      "1334\n",
      "(0.519, 0.561]\n",
      "2446\n",
      "(0.561, 0.604]\n",
      "0\n",
      "(0.604, 0.647]\n",
      "1805\n",
      "(0.647, 0.689]\n",
      "0\n",
      "(0.689, 0.732]\n",
      "397\n"
     ]
    }
   ],
   "source": [
    " for i in pd.cut(np.array(all_ys),bins=20).categories:\n",
    "    print(i)\n",
    "    #[print(dir(i))]\n",
    "    print(len([j for j in all_ys if j>i.left and j<=i.right]))"
   ]
  },
  {
   "cell_type": "code",
   "execution_count": 227,
   "metadata": {},
   "outputs": [
    {
     "data": {
      "text/plain": [
       "0.191575"
      ]
     },
     "execution_count": 227,
     "metadata": {},
     "output_type": "execute_result"
    }
   ],
   "source": [
    "(0.689--0.0773)/4"
   ]
  },
  {
   "cell_type": "code",
   "execution_count": 241,
   "metadata": {},
   "outputs": [
    {
     "data": {
      "image/png": "[encoded data removed]",
      "text/plain": [
       "<Figure size 432x288 with 1 Axes>"
      ]
     },
     "metadata": {
      "needs_background": "light"
     },
     "output_type": "display_data"
    }
   ],
   "source": [
    "plt.hist(np.array(all_ys),bins=bins)\n",
    "plt.ylabel('Number of data points')\n",
    "plt.xlabel('Value of treatment effect')\n",
    "plt.savefig('10_bins_all_data.png')"
   ]
  },
  {
   "cell_type": "code",
   "execution_count": 72,
   "metadata": {},
   "outputs": [],
   "source": [
    "check = set([])\n",
    "for i in data:\n",
    "    key = '-'.join([str(j) for j in i])\n",
    "    check.add(key)"
   ]
  },
  {
   "cell_type": "code",
   "execution_count": 121,
   "metadata": {},
   "outputs": [],
   "source": [
    "s = pd.Series(all_ys)"
   ]
  },
  {
   "cell_type": "code",
   "execution_count": 138,
   "metadata": {},
   "outputs": [],
   "source": [
    "cuts = pd.qcut(s,5,labels=[str(i) for i in range(5)])"
   ]
  },
  {
   "cell_type": "code",
   "execution_count": 139,
   "metadata": {},
   "outputs": [
    {
     "name": "stdout",
     "output_type": "stream",
     "text": [
      "4\n",
      "7551\n",
      "1\n",
      "8197\n",
      "2\n",
      "7318\n",
      "3\n",
      "6809\n",
      "0\n",
      "9478\n"
     ]
    }
   ],
   "source": [
    "sizes = {}\n",
    "for i,r in cuts.iteritems():\n",
    "    if r not in sizes:\n",
    "        sizes[r]=[]\n",
    "    sizes[r].append(i)\n",
    "for k,v in sizes.items():\n",
    "    print(k)\n",
    "    print(len(v))"
   ]
  },
  {
   "cell_type": "code",
   "execution_count": 137,
   "metadata": {},
   "outputs": [
    {
     "data": {
      "text/plain": [
       "2866"
      ]
     },
     "execution_count": 137,
     "metadata": {},
     "output_type": "execute_result"
    }
   ],
   "source": [
    "4823-1957"
   ]
  },
  {
   "cell_type": "code",
   "execution_count": 140,
   "metadata": {},
   "outputs": [
    {
     "data": {
      "text/plain": [
       "2669"
      ]
     },
     "execution_count": 140,
     "metadata": {},
     "output_type": "execute_result"
    }
   ],
   "source": [
    "9478-6809"
   ]
  },
  {
   "cell_type": "code",
   "execution_count": 170,
   "metadata": {},
   "outputs": [
    {
     "data": {
      "text/plain": [
       "0.1635"
      ]
     },
     "execution_count": 170,
     "metadata": {},
     "output_type": "execute_result"
    }
   ],
   "source": [
    "(0.620--.034)/4"
   ]
  },
  {
   "cell_type": "code",
   "execution_count": null,
   "metadata": {},
   "outputs": [],
   "source": []
  }
 ],
 "metadata": {
  "kernelspec": {
   "display_name": "Python 3",
   "language": "python",
   "name": "python3"
  },
  "language_info": {
   "codemirror_mode": {
    "name": "ipython",
    "version": 3
   },
   "file_extension": ".py",
   "mimetype": "text/x-python",
   "name": "python",
   "nbconvert_exporter": "python",
   "pygments_lexer": "ipython3",
   "version": "3.6.8"
  }
 },
 "nbformat": 4,
 "nbformat_minor": 2
}
