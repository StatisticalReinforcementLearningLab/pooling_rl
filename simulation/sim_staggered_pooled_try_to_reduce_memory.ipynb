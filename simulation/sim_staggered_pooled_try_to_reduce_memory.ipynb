{
 "cells": [
  {
   "cell_type": "code",
   "execution_count": 1,
   "metadata": {},
   "outputs": [],
   "source": [
    "import pandas as pd\n",
    "import sys\n",
    "sys.path\n",
    "sys.path.append('../models')\n",
    "import numpy as np\n",
    "import pickle\n",
    "import random\n",
    "import os\n",
    "import math\n",
    "import sim_functions_cleaner  as sf\n",
    "import operator\n",
    "import study\n",
    "import time\n",
    "import TS_personal_params_pooled as pp\n",
    "import TS_global_params_pooled as gtp\n",
    "from numpy.random import uniform\n",
    "\n",
    "#sys.path.append('../simulation')\n",
    "import TS_fancy_pooled \n",
    "#import TS_fancy_pooled \n",
    "import eta\n",
    "import pooling_bandits as pb\n",
    "import warnings \n",
    "warnings.simplefilter('ignore')\n",
    "from sklearn import preprocessing\n",
    "import tensorflow as tf\n",
    "import gc"
   ]
  },
  {
   "cell_type": "code",
   "execution_count": 2,
   "metadata": {},
   "outputs": [],
   "source": [
    "import warnings\n",
    "with warnings.catch_warnings():\n",
    "    warnings.simplefilter('ignore')\n",
    "import logging\n",
    "logging.getLogger(\"FFC\").setLevel(logging.ERROR)"
   ]
  },
  {
   "cell_type": "code",
   "execution_count": 3,
   "metadata": {},
   "outputs": [],
   "source": [
    "from pympler import muppy\n",
    "all_objects = muppy.get_objects()\n",
    "from pympler import summary\n"
   ]
  },
  {
   "cell_type": "code",
   "execution_count": 4,
   "metadata": {},
   "outputs": [],
   "source": [
    "##for each person generate dates\n",
    "##easiest to take from original data, this might best mimic actual situation "
   ]
  },
  {
   "cell_type": "code",
   "execution_count": null,
   "metadata": {},
   "outputs": [],
   "source": [
    "#root =  '../../../../Volumes/dav/HeartSteps/pooling_rl_shared_data/processed/'"
   ]
  },
  {
   "cell_type": "code",
   "execution_count": null,
   "metadata": {},
   "outputs": [],
   "source": [
    "write_directory = '../temp'"
   ]
  },
  {
   "cell_type": "code",
   "execution_count": null,
   "metadata": {},
   "outputs": [],
   "source": [
    "def initialize_policy_params_TS(experiment,context_dimension):\n",
    "    \n",
    "    global_p =gtp.TS_global_params(10,context_dimension) \n",
    "    \n",
    "    global_p.kdim = 11\n",
    "    global_p.baseline_indices = [0,1,2,3,4,5,6,7,8]\n",
    "    global_p.psi_indices = [7,8]\n",
    "    global_p.user_id_index = 9\n",
    "    global_p.user_day_index =10\n",
    "    \n",
    "    \n",
    "    \n",
    "    personal_p = pp.TS_personal_params()\n",
    "    \n",
    "    #print(type(personal_p))\n",
    "    \n",
    "    for person in experiment.population.keys():\n",
    "        initial_context = [0 for i in range(context_dimension)]\n",
    "        personal_p.mus0[person]= global_p.get_mu0(initial_context)\n",
    "        personal_p.mus1[person]= global_p.get_mu1(initial_context)\n",
    "        personal_p.mus2[person]= global_p.get_mu2(initial_context)\n",
    "\n",
    "        personal_p.sigmas0[person]= global_p.get_asigma(len( personal_p.mus0[person]))\n",
    "        personal_p.sigmas1[person]= global_p.get_asigma(len( personal_p.mus1[person]))\n",
    "        personal_p.sigmas2[person]= global_p.get_asigma(len( personal_p.mus2[person]))\n",
    "     \n",
    "        \n",
    "        \n",
    "        personal_p.batch[person]=[[] for i in range(len(experiment.person_to_time[person]))]\n",
    "        personal_p.batch_index[person]=0\n",
    "        \n",
    "        personal_p.etas[person]=eta.eta()\n",
    "   \n",
    "        personal_p.last_update[person]=experiment.person_to_time[person][0]\n",
    "        \n",
    "        \n",
    "    return global_p ,personal_p     "
   ]
  },
  {
   "cell_type": "code",
   "execution_count": null,
   "metadata": {},
   "outputs": [],
   "source": []
  },
  {
   "cell_type": "code",
   "execution_count": null,
   "metadata": {},
   "outputs": [],
   "source": [
    "#days = pd.date_range(start = '7/22/2015',end =pd.Timestamp('7/22/2015')+pd.DateOffset(days=45),freq='30T')"
   ]
  },
  {
   "cell_type": "code",
   "execution_count": null,
   "metadata": {},
   "outputs": [],
   "source": [
    "#ft = experiment.study_days[96]"
   ]
  },
  {
   "cell_type": "code",
   "execution_count": null,
   "metadata": {},
   "outputs": [],
   "source": [
    "#yesterday = ft-pd.DateOffset(days=1)\n",
    "#end = yesterday.replace(hour=0,minute=0)\n",
    "#start = experiment.study_days[0]\n",
    "#end"
   ]
  },
  {
   "cell_type": "code",
   "execution_count": null,
   "metadata": {},
   "outputs": [],
   "source": [
    "def new_kind_of_simulation(experiment,policy=None,personal_policy_params=None,global_policy_params=None):\n",
    "    \n",
    "\n",
    "    for time in experiment.study_days:\n",
    "            \n",
    "            #if time> experiment.study_days[0]:\n",
    "                #history  = pb.make_history(experiment)\n",
    "            if time==experiment.last_update_day+pd.DateOffset(days=1):\n",
    "                experiment.last_update_day=time\n",
    "                ##global update\n",
    "                #print(time)\n",
    "                #print(experiment.last_update_day+pd.DateOffset(days=1))\n",
    "                ##am i checking the current time (need to check the \n",
    "                #current time make sure i'm not using all of the history)\n",
    "               \n",
    "                #print(history)\n",
    "                \n",
    "                ##these lines\n",
    "                history = make_history_new(write_directory,.6,global_policy_params)\n",
    "                temp_params = TS_fancy_pooled.global_updates(history[0],history[1],global_policy_params,train_type = 'Static')\n",
    "                print(temp_params['cov'].shape)\n",
    "                #global_policy_params.update_params(temp_params)\n",
    "                #del temp_params\n",
    "                ##update global params using these temp_params\n",
    "                \n",
    "                \n",
    "                \n",
    "            ##update global context\n",
    "            ##global context shared across all participants\n",
    "            tod = sf.get_time_of_day(time)\n",
    "            dow = sf.get_day_of_week(time)\n",
    "            if time==experiment.study_days[0]:\n",
    "                \n",
    "                weather = sf.get_weather_prior(tod,time.month)\n",
    "            elif time.hour in experiment.weather_update_hours and time.minute==0:\n",
    "                weather = sf.get_next_weather(str(tod),str(time.month),weather)\n",
    "            ##location depends on person \n",
    "            \n",
    "            for person in experiment.dates_to_people[time]:\n",
    "                dt=False\n",
    "                action = 0 \n",
    "                prob=0\n",
    "                #1\n",
    "                ##for every active person update person specific aspects of their context\n",
    "                participant = experiment.population[person]\n",
    "                #update global context variables\n",
    "                participant.set_tod(tod)\n",
    "                participant.set_dow(dow)\n",
    "                participant.set_wea(weather)\n",
    "                \n",
    "                \n",
    "                availability = (uniform() < 0.8)\n",
    "                participant.set_available(availability)\n",
    "                \n",
    "                if time == participant.times[0]:\n",
    "                    #get first location \n",
    "                    location = sf.get_location_prior(str(participant.gid),str(dow),str(tod))\n",
    "                    participant.set_inaction_duration(0)\n",
    "                    participant.set_action_duration(0)\n",
    "                    participant.set_duration(0)\n",
    "                    participant.set_dosage(0)\n",
    "                    #personal_policy_params.etas[participant.pid]\n",
    "                    \n",
    "                    \n",
    "                if time <= participant.times[1]:\n",
    "                    steps_last_time_period = 0  \n",
    "                    \n",
    "                    ##set first pre-treatment, yesterday step count, variation and dosage\n",
    "                else:\n",
    "                    #print(time)\n",
    "                    steps_last_time_period = participant.steps\n",
    "                \n",
    "                 \n",
    "                    #get var id\n",
    "                    \n",
    "                #if time.date() <= participant.times[0].date():\n",
    "                    #steps_yesterday = 0    \n",
    "                #else:\n",
    "                    #steps_yesterday =  participant.find_yesterday_steps(time)\n",
    "                    #steps_yesterday = sf.to_yid(steps_yesterday)\n",
    "                steps_yesterday=0    \n",
    "                if time.hour in experiment.location_update_hours:\n",
    "                    location = sf.get_next_location(participant.gid,dow,tod,participant.get_loc())\n",
    "                \n",
    "                if time.date()>(participant.times[0]+pd.DateOffset(days=1)).date():\n",
    "                  \n",
    "                    if time.hour==0 and time.minute==0:\n",
    "                        variation = 0\n",
    "                        #participant.find_variation(time)\n",
    "                else:\n",
    "                    variation = 1 \n",
    "                \n",
    "                participant.set_loc(location)\n",
    "                ##maybe faster to update instead of query?\n",
    "                #participant.set_last_time_period_steps(steps_last_time_period)\n",
    "                #participant.set_yesterday_steps(steps_yesterday)\n",
    "                #participant.set_variation(variation)\n",
    "                \n",
    "                ##continue\n",
    "                #2\n",
    "                ##for every active person take an action according to current context, policy, and parameters\n",
    "                \n",
    "                \n",
    "                ##for now:\n",
    "                ##eval with empty array \n",
    "                if time in participant.decision_times and availability:\n",
    "                    #sum1 = summary.summarize(all_objects)\n",
    "                    #summary.print_(sum1)\n",
    "                    dt=True\n",
    "                    action=0\n",
    "                    global_policy_params.decision_times =   global_policy_params.decision_times+1\n",
    "                    if policy==None:\n",
    "                        action = sf.get_action(policy)\n",
    "                        \n",
    "                        \n",
    "                        \n",
    "                    elif policy=='TS':\n",
    "                        #some context slice\n",
    "                            prob = TS.prob_cal_ts([int(tod),int(dow)],participant.dosage,\\\n",
    "                                              personal_policy_params.mus2[participant.pid],personal_policy_params.sigmas2[participant.pid],\\\n",
    "                                                 global_policy_params)\n",
    "                            action = int(uniform() < prob)\n",
    "                            \n",
    "                        \n",
    "                            \n",
    "                    elif policy=='TS_fancy':\n",
    "                        #previous\n",
    "                        #Z, X, mu_beta, Sigma_beta, init,current_eta\n",
    "                        \n",
    "                        ##need to make eta part of the global policy params\n",
    "                        prob = TS_fancy_pooled.prob_cal([location,weather,steps_last_time_period,variation,steps_yesterday],participant.dosage,\\\n",
    "                                              personal_policy_params.mus2[participant.pid],personal_policy_params.sigmas2[participant.pid],\\\n",
    "                                                 global_policy_params,personal_policy_params.etas[participant.pid])\n",
    "                        action = int(uniform() < prob)\n",
    "                        \n",
    "                        \n",
    "                        \n",
    "                    ##is this the same as in the TS?\n",
    "                    ##don't think so, but for now keep like this\n",
    "                    ##no it isn't, i have to redo this\n",
    "                    participant.update_dosage(action)\n",
    "                    \n",
    "                    context = [action,participant.gid,tod,dow,location,weather,participant.get_prekey(participant.duration,steps_last_time_period),\\\n",
    "                              steps_yesterday,variation,sf.dosage_to_dosage_key(participant.dosage)]\n",
    "                    \n",
    "                    participant.steps_last_time_period = participant.steps\n",
    "                    steps = sf.get_steps_action(context)\n",
    "                    participant.steps = steps\n",
    "                else:\n",
    "                    participant.steps_last_time_period = participant.steps\n",
    "                    steps = sf.get_steps_no_action(participant.gid,tod,dow,location,weather)\n",
    "                    participant.steps = steps\n",
    "                \n",
    "                \n",
    "                \n",
    "                \n",
    "                ##history:\n",
    "                context_dict =  {'steps':steps,'action':action,'weather':weather,'location':location,\\\n",
    "                                'ltps':steps_last_time_period,'duration':participant.duration,\\\n",
    "                                'study_day':participant.current_day_counter,'decision_time':dt}\n",
    "                #participant.history[time]=context_dict\n",
    "                \n",
    "            #3\n",
    "            ##for every active person generate a step count given current context\n",
    "            \n",
    "            \n",
    "            \n",
    "            \n",
    "            ##update at midnight (here we have ensured that no one has a ) experiment.update_hour\n",
    "            \n",
    "                if time in participant.decision_times and availability:\n",
    "                    ##global_dt_counter\n",
    "                    ##update the policy\n",
    "                    #print(personal_policy_params.batch_index[participant.pid])\n",
    "                   \n",
    "                    my_directory = '{}/participant_{}'.format(write_directory,participant.pid)\n",
    "                    if not os.path.exists(my_directory):\n",
    "                        os.makedirs(my_directory)\n",
    "                    with open('{}/day_{}'.format(my_directory,global_policy_params.decision_times),'wb') as f:\n",
    "                        pickle.dump(context_dict,f)\n",
    "                    participant.current_day_counter=participant.current_day_counter+1"
   ]
  },
  {
   "cell_type": "code",
   "execution_count": null,
   "metadata": {},
   "outputs": [],
   "source": [
    "experiment = study.study()"
   ]
  },
  {
   "cell_type": "code",
   "execution_count": null,
   "metadata": {},
   "outputs": [],
   "source": [
    "glob,personal = initialize_policy_params_TS(experiment,11)"
   ]
  },
  {
   "cell_type": "code",
   "execution_count": null,
   "metadata": {},
   "outputs": [],
   "source": [
    "def get_history(write_dir,dt):\n",
    "    to_return = {}\n",
    "    for d in [f for f in os.listdir(write_dir) if f!='.DS_Store']:\n",
    "        participant = {}\n",
    "        for f in os.listdir('{}/{}'.format(write_dir,d)):\n",
    "            if f!='.DS_Store':\n",
    "                time = int(f.split('_')[1])\n",
    "                if time <=dt:\n",
    "                    with open('{}/{}/{}'.format(write_dir,d,f),'rb') as f:\n",
    "                        ld = pickle.load(f)\n",
    "                    participant[time]=ld\n",
    "                    \n",
    "        pid = d.split('_')[1]\n",
    "        if len(participant)>0:\n",
    "            to_return[int(pid)]=participant\n",
    "    return to_return\n",
    "def create_phi_new(history_dict,pi,global_params):\n",
    "    #these things will be accessed by the global params\n",
    "    indices = ['weather','location']\n",
    "    g0 = ['location']\n",
    "    f1=['ltps']\n",
    "    \n",
    "    ##returns phi and psi indices\n",
    "    ##this could be a bit faster not appending all the time\n",
    "    all_data = []\n",
    "    steps=[]\n",
    "    for user_id,history in history_dict.items():\n",
    "        #history = d.history\n",
    "        #history_keys = sorted(history)\n",
    "        for hk,h in history.items():\n",
    "            \n",
    "            h = history[hk]\n",
    "            if h['decision_time']:\n",
    "                v = [1]\n",
    "                v.extend([h[i] for i in indices])\n",
    "                v.append(pi*1)\n",
    "                v.extend([pi*h[i] for i in f1])\n",
    "                action = h['action']\n",
    "                if action<0:\n",
    "                    action=0\n",
    "                \n",
    "                v.append((action-pi)*1)\n",
    "                v.extend([(action-pi)*h[i] for i in f1])\n",
    "                v.append(action)\n",
    "                v.append(float(user_id))\n",
    "                v.append(float(h['study_day']))\n",
    "                all_data.append(v)\n",
    "                steps.append(h['steps'])\n",
    "    print(len(all_data[0]))\n",
    "    return all_data,steps\n",
    "def make_history_new(write_directory,pi,glob):\n",
    "    g = get_history(write_directory,glob.decision_times)\n",
    "    ad = create_phi_new(g,pi,glob)\n",
    "    if len(ad[0])==0:\n",
    "        return [[],[]]\n",
    "    \n",
    "    new_x = preprocessing.scale(np.array(ad[0]))\n",
    "    new_y = preprocessing.scale(np.array(ad[1]))\n",
    "    y = np.array([[float(r)] for r in new_y])\n",
    "    X = new_x\n",
    "    return [X,y]"
   ]
  },
  {
   "cell_type": "code",
   "execution_count": null,
   "metadata": {},
   "outputs": [
    {
     "name": "stdout",
     "output_type": "stream",
     "text": [
      "10\n"
     ]
    },
    {
     "name": "stderr",
     "output_type": "stream",
     "text": [
      "WARNING:gpflow.logdensities:Shape of x must be 2D at computation.\n",
      "WARNING:gpflow.logdensities:Shape of mu may be unknown or not 2D.\n"
     ]
    },
    {
     "name": "stdout",
     "output_type": "stream",
     "text": [
      "called\n",
      "(5, 5)\n",
      "10\n"
     ]
    },
    {
     "name": "stderr",
     "output_type": "stream",
     "text": [
      "WARNING:gpflow.logdensities:Shape of x must be 2D at computation.\n",
      "WARNING:gpflow.logdensities:Shape of mu may be unknown or not 2D.\n"
     ]
    },
    {
     "name": "stdout",
     "output_type": "stream",
     "text": [
      "called\n",
      "(8, 8)\n",
      "10\n"
     ]
    },
    {
     "name": "stderr",
     "output_type": "stream",
     "text": [
      "WARNING:gpflow.logdensities:Shape of x must be 2D at computation.\n",
      "WARNING:gpflow.logdensities:Shape of mu may be unknown or not 2D.\n"
     ]
    },
    {
     "name": "stdout",
     "output_type": "stream",
     "text": [
      "called\n",
      "(22, 22)\n",
      "10\n"
     ]
    },
    {
     "name": "stderr",
     "output_type": "stream",
     "text": [
      "WARNING:gpflow.logdensities:Shape of x must be 2D at computation.\n",
      "WARNING:gpflow.logdensities:Shape of mu may be unknown or not 2D.\n"
     ]
    },
    {
     "name": "stdout",
     "output_type": "stream",
     "text": [
      "called\n",
      "(57, 57)\n",
      "10\n"
     ]
    },
    {
     "name": "stderr",
     "output_type": "stream",
     "text": [
      "WARNING:gpflow.logdensities:Shape of x must be 2D at computation.\n",
      "WARNING:gpflow.logdensities:Shape of mu may be unknown or not 2D.\n"
     ]
    },
    {
     "name": "stdout",
     "output_type": "stream",
     "text": [
      "called\n",
      "(79, 79)\n",
      "10\n"
     ]
    },
    {
     "name": "stderr",
     "output_type": "stream",
     "text": [
      "WARNING:gpflow.logdensities:Shape of x must be 2D at computation.\n",
      "WARNING:gpflow.logdensities:Shape of mu may be unknown or not 2D.\n"
     ]
    },
    {
     "name": "stdout",
     "output_type": "stream",
     "text": [
      "called\n",
      "(115, 115)\n",
      "10\n"
     ]
    },
    {
     "name": "stderr",
     "output_type": "stream",
     "text": [
      "WARNING:gpflow.logdensities:Shape of x must be 2D at computation.\n",
      "WARNING:gpflow.logdensities:Shape of mu may be unknown or not 2D.\n"
     ]
    },
    {
     "name": "stdout",
     "output_type": "stream",
     "text": [
      "called\n",
      "(169, 169)\n",
      "10\n"
     ]
    },
    {
     "name": "stderr",
     "output_type": "stream",
     "text": [
      "WARNING:gpflow.logdensities:Shape of x must be 2D at computation.\n",
      "WARNING:gpflow.logdensities:Shape of mu may be unknown or not 2D.\n"
     ]
    },
    {
     "name": "stdout",
     "output_type": "stream",
     "text": [
      "called\n",
      "(235, 235)\n",
      "10\n"
     ]
    },
    {
     "name": "stderr",
     "output_type": "stream",
     "text": [
      "WARNING:gpflow.logdensities:Shape of x must be 2D at computation.\n",
      "WARNING:gpflow.logdensities:Shape of mu may be unknown or not 2D.\n"
     ]
    },
    {
     "name": "stdout",
     "output_type": "stream",
     "text": [
      "called\n",
      "(309, 309)\n",
      "10\n"
     ]
    },
    {
     "name": "stderr",
     "output_type": "stream",
     "text": [
      "WARNING:gpflow.logdensities:Shape of x must be 2D at computation.\n",
      "WARNING:gpflow.logdensities:Shape of mu may be unknown or not 2D.\n"
     ]
    },
    {
     "name": "stdout",
     "output_type": "stream",
     "text": [
      "called\n",
      "(388, 388)\n",
      "10\n"
     ]
    },
    {
     "name": "stderr",
     "output_type": "stream",
     "text": [
      "WARNING:gpflow.logdensities:Shape of x must be 2D at computation.\n",
      "WARNING:gpflow.logdensities:Shape of mu may be unknown or not 2D.\n"
     ]
    },
    {
     "name": "stdout",
     "output_type": "stream",
     "text": [
      "called\n",
      "(464, 464)\n",
      "10\n"
     ]
    },
    {
     "name": "stderr",
     "output_type": "stream",
     "text": [
      "WARNING:gpflow.logdensities:Shape of x must be 2D at computation.\n",
      "WARNING:gpflow.logdensities:Shape of mu may be unknown or not 2D.\n"
     ]
    },
    {
     "name": "stdout",
     "output_type": "stream",
     "text": [
      "called\n",
      "(540, 540)\n",
      "10\n"
     ]
    },
    {
     "name": "stderr",
     "output_type": "stream",
     "text": [
      "WARNING:gpflow.logdensities:Shape of x must be 2D at computation.\n",
      "WARNING:gpflow.logdensities:Shape of mu may be unknown or not 2D.\n"
     ]
    },
    {
     "name": "stdout",
     "output_type": "stream",
     "text": [
      "called\n",
      "(612, 612)\n",
      "10\n"
     ]
    },
    {
     "name": "stderr",
     "output_type": "stream",
     "text": [
      "WARNING:gpflow.logdensities:Shape of x must be 2D at computation.\n",
      "WARNING:gpflow.logdensities:Shape of mu may be unknown or not 2D.\n"
     ]
    },
    {
     "name": "stdout",
     "output_type": "stream",
     "text": [
      "called\n",
      "(688, 688)\n",
      "10\n"
     ]
    },
    {
     "name": "stderr",
     "output_type": "stream",
     "text": [
      "WARNING:gpflow.logdensities:Shape of x must be 2D at computation.\n",
      "WARNING:gpflow.logdensities:Shape of mu may be unknown or not 2D.\n"
     ]
    },
    {
     "name": "stdout",
     "output_type": "stream",
     "text": [
      "called\n",
      "(772, 772)\n",
      "10\n"
     ]
    },
    {
     "name": "stderr",
     "output_type": "stream",
     "text": [
      "WARNING:gpflow.logdensities:Shape of x must be 2D at computation.\n",
      "WARNING:gpflow.logdensities:Shape of mu may be unknown or not 2D.\n"
     ]
    },
    {
     "name": "stdout",
     "output_type": "stream",
     "text": [
      "called\n",
      "(850, 850)\n",
      "10\n"
     ]
    },
    {
     "name": "stderr",
     "output_type": "stream",
     "text": [
      "WARNING:gpflow.logdensities:Shape of x must be 2D at computation.\n",
      "WARNING:gpflow.logdensities:Shape of mu may be unknown or not 2D.\n"
     ]
    },
    {
     "name": "stdout",
     "output_type": "stream",
     "text": [
      "called\n",
      "(922, 922)\n",
      "10\n"
     ]
    },
    {
     "name": "stderr",
     "output_type": "stream",
     "text": [
      "WARNING:gpflow.logdensities:Shape of x must be 2D at computation.\n",
      "WARNING:gpflow.logdensities:Shape of mu may be unknown or not 2D.\n"
     ]
    },
    {
     "name": "stdout",
     "output_type": "stream",
     "text": [
      "called\n",
      "(989, 989)\n",
      "10\n"
     ]
    },
    {
     "name": "stderr",
     "output_type": "stream",
     "text": [
      "WARNING:gpflow.logdensities:Shape of x must be 2D at computation.\n",
      "WARNING:gpflow.logdensities:Shape of mu may be unknown or not 2D.\n"
     ]
    },
    {
     "name": "stdout",
     "output_type": "stream",
     "text": [
      "called\n",
      "(1053, 1053)\n",
      "10\n"
     ]
    },
    {
     "name": "stderr",
     "output_type": "stream",
     "text": [
      "WARNING:gpflow.logdensities:Shape of x must be 2D at computation.\n",
      "WARNING:gpflow.logdensities:Shape of mu may be unknown or not 2D.\n"
     ]
    },
    {
     "name": "stdout",
     "output_type": "stream",
     "text": [
      "called\n",
      "(1116, 1116)\n",
      "10\n"
     ]
    },
    {
     "name": "stderr",
     "output_type": "stream",
     "text": [
      "WARNING:gpflow.logdensities:Shape of x must be 2D at computation.\n",
      "WARNING:gpflow.logdensities:Shape of mu may be unknown or not 2D.\n"
     ]
    },
    {
     "name": "stdout",
     "output_type": "stream",
     "text": [
      "called\n",
      "(1175, 1175)\n",
      "10\n"
     ]
    },
    {
     "name": "stderr",
     "output_type": "stream",
     "text": [
      "WARNING:gpflow.logdensities:Shape of x must be 2D at computation.\n",
      "WARNING:gpflow.logdensities:Shape of mu may be unknown or not 2D.\n"
     ]
    },
    {
     "name": "stdout",
     "output_type": "stream",
     "text": [
      "called\n",
      "(1245, 1245)\n",
      "10\n"
     ]
    },
    {
     "name": "stderr",
     "output_type": "stream",
     "text": [
      "WARNING:gpflow.logdensities:Shape of x must be 2D at computation.\n",
      "WARNING:gpflow.logdensities:Shape of mu may be unknown or not 2D.\n"
     ]
    },
    {
     "name": "stdout",
     "output_type": "stream",
     "text": [
      "called\n",
      "(1318, 1318)\n",
      "10\n"
     ]
    },
    {
     "name": "stderr",
     "output_type": "stream",
     "text": [
      "WARNING:gpflow.logdensities:Shape of x must be 2D at computation.\n",
      "WARNING:gpflow.logdensities:Shape of mu may be unknown or not 2D.\n"
     ]
    },
    {
     "name": "stdout",
     "output_type": "stream",
     "text": [
      "called\n",
      "(1386, 1386)\n",
      "10\n"
     ]
    },
    {
     "name": "stderr",
     "output_type": "stream",
     "text": [
      "WARNING:gpflow.logdensities:Shape of x must be 2D at computation.\n",
      "WARNING:gpflow.logdensities:Shape of mu may be unknown or not 2D.\n"
     ]
    },
    {
     "name": "stdout",
     "output_type": "stream",
     "text": [
      "called\n",
      "(1463, 1463)\n",
      "10\n"
     ]
    },
    {
     "name": "stderr",
     "output_type": "stream",
     "text": [
      "WARNING:gpflow.logdensities:Shape of x must be 2D at computation.\n",
      "WARNING:gpflow.logdensities:Shape of mu may be unknown or not 2D.\n"
     ]
    },
    {
     "name": "stdout",
     "output_type": "stream",
     "text": [
      "called\n",
      "(1545, 1545)\n",
      "10\n"
     ]
    },
    {
     "name": "stderr",
     "output_type": "stream",
     "text": [
      "WARNING:gpflow.logdensities:Shape of x must be 2D at computation.\n",
      "WARNING:gpflow.logdensities:Shape of mu may be unknown or not 2D.\n"
     ]
    },
    {
     "name": "stdout",
     "output_type": "stream",
     "text": [
      "called\n",
      "(1623, 1623)\n",
      "10\n"
     ]
    },
    {
     "name": "stderr",
     "output_type": "stream",
     "text": [
      "WARNING:gpflow.logdensities:Shape of x must be 2D at computation.\n",
      "WARNING:gpflow.logdensities:Shape of mu may be unknown or not 2D.\n"
     ]
    },
    {
     "name": "stdout",
     "output_type": "stream",
     "text": [
      "called\n",
      "(1694, 1694)\n",
      "10\n"
     ]
    },
    {
     "name": "stderr",
     "output_type": "stream",
     "text": [
      "WARNING:gpflow.logdensities:Shape of x must be 2D at computation.\n",
      "WARNING:gpflow.logdensities:Shape of mu may be unknown or not 2D.\n"
     ]
    },
    {
     "name": "stdout",
     "output_type": "stream",
     "text": [
      "called\n",
      "(1770, 1770)\n",
      "10\n"
     ]
    },
    {
     "name": "stderr",
     "output_type": "stream",
     "text": [
      "WARNING:gpflow.logdensities:Shape of x must be 2D at computation.\n",
      "WARNING:gpflow.logdensities:Shape of mu may be unknown or not 2D.\n"
     ]
    },
    {
     "name": "stdout",
     "output_type": "stream",
     "text": [
      "called\n",
      "(1847, 1847)\n",
      "10\n"
     ]
    },
    {
     "name": "stderr",
     "output_type": "stream",
     "text": [
      "WARNING:gpflow.logdensities:Shape of x must be 2D at computation.\n",
      "WARNING:gpflow.logdensities:Shape of mu may be unknown or not 2D.\n"
     ]
    },
    {
     "name": "stdout",
     "output_type": "stream",
     "text": [
      "called\n",
      "(1920, 1920)\n",
      "10\n"
     ]
    },
    {
     "name": "stderr",
     "output_type": "stream",
     "text": [
      "WARNING:gpflow.logdensities:Shape of x must be 2D at computation.\n",
      "WARNING:gpflow.logdensities:Shape of mu may be unknown or not 2D.\n"
     ]
    },
    {
     "name": "stdout",
     "output_type": "stream",
     "text": [
      "called\n",
      "(1982, 1982)\n",
      "10\n"
     ]
    },
    {
     "name": "stderr",
     "output_type": "stream",
     "text": [
      "WARNING:gpflow.logdensities:Shape of x must be 2D at computation.\n",
      "WARNING:gpflow.logdensities:Shape of mu may be unknown or not 2D.\n"
     ]
    },
    {
     "name": "stdout",
     "output_type": "stream",
     "text": [
      "called\n",
      "(2049, 2049)\n",
      "10\n"
     ]
    },
    {
     "name": "stderr",
     "output_type": "stream",
     "text": [
      "WARNING:gpflow.logdensities:Shape of x must be 2D at computation.\n",
      "WARNING:gpflow.logdensities:Shape of mu may be unknown or not 2D.\n"
     ]
    },
    {
     "name": "stdout",
     "output_type": "stream",
     "text": [
      "called\n",
      "(2125, 2125)\n",
      "10\n"
     ]
    },
    {
     "name": "stderr",
     "output_type": "stream",
     "text": [
      "WARNING:gpflow.logdensities:Shape of x must be 2D at computation.\n",
      "WARNING:gpflow.logdensities:Shape of mu may be unknown or not 2D.\n"
     ]
    },
    {
     "name": "stdout",
     "output_type": "stream",
     "text": [
      "called\n",
      "(2202, 2202)\n",
      "10\n"
     ]
    },
    {
     "name": "stderr",
     "output_type": "stream",
     "text": [
      "WARNING:gpflow.logdensities:Shape of x must be 2D at computation.\n",
      "WARNING:gpflow.logdensities:Shape of mu may be unknown or not 2D.\n"
     ]
    },
    {
     "name": "stdout",
     "output_type": "stream",
     "text": [
      "called\n",
      "(2265, 2265)\n",
      "10\n"
     ]
    },
    {
     "name": "stderr",
     "output_type": "stream",
     "text": [
      "WARNING:gpflow.logdensities:Shape of x must be 2D at computation.\n",
      "WARNING:gpflow.logdensities:Shape of mu may be unknown or not 2D.\n"
     ]
    },
    {
     "name": "stdout",
     "output_type": "stream",
     "text": [
      "called\n",
      "(2327, 2327)\n",
      "10\n"
     ]
    },
    {
     "name": "stderr",
     "output_type": "stream",
     "text": [
      "WARNING:gpflow.logdensities:Shape of x must be 2D at computation.\n",
      "WARNING:gpflow.logdensities:Shape of mu may be unknown or not 2D.\n"
     ]
    },
    {
     "name": "stdout",
     "output_type": "stream",
     "text": [
      "called\n",
      "(2402, 2402)\n",
      "10\n"
     ]
    },
    {
     "name": "stderr",
     "output_type": "stream",
     "text": [
      "WARNING:gpflow.logdensities:Shape of x must be 2D at computation.\n",
      "WARNING:gpflow.logdensities:Shape of mu may be unknown or not 2D.\n"
     ]
    },
    {
     "name": "stdout",
     "output_type": "stream",
     "text": [
      "called\n",
      "(2486, 2486)\n",
      "10\n"
     ]
    },
    {
     "name": "stderr",
     "output_type": "stream",
     "text": [
      "WARNING:gpflow.logdensities:Shape of x must be 2D at computation.\n",
      "WARNING:gpflow.logdensities:Shape of mu may be unknown or not 2D.\n"
     ]
    },
    {
     "name": "stdout",
     "output_type": "stream",
     "text": [
      "called\n",
      "(2559, 2559)\n",
      "10\n"
     ]
    },
    {
     "name": "stderr",
     "output_type": "stream",
     "text": [
      "WARNING:gpflow.logdensities:Shape of x must be 2D at computation.\n",
      "WARNING:gpflow.logdensities:Shape of mu may be unknown or not 2D.\n"
     ]
    },
    {
     "name": "stdout",
     "output_type": "stream",
     "text": [
      "called\n",
      "(2637, 2637)\n",
      "10\n"
     ]
    },
    {
     "name": "stderr",
     "output_type": "stream",
     "text": [
      "WARNING:gpflow.logdensities:Shape of x must be 2D at computation.\n",
      "WARNING:gpflow.logdensities:Shape of mu may be unknown or not 2D.\n"
     ]
    },
    {
     "name": "stdout",
     "output_type": "stream",
     "text": [
      "called\n",
      "(2728, 2728)\n",
      "10\n"
     ]
    },
    {
     "name": "stderr",
     "output_type": "stream",
     "text": [
      "WARNING:gpflow.logdensities:Shape of x must be 2D at computation.\n",
      "WARNING:gpflow.logdensities:Shape of mu may be unknown or not 2D.\n"
     ]
    },
    {
     "name": "stdout",
     "output_type": "stream",
     "text": [
      "called\n",
      "(2812, 2812)\n",
      "10\n"
     ]
    },
    {
     "name": "stderr",
     "output_type": "stream",
     "text": [
      "WARNING:gpflow.logdensities:Shape of x must be 2D at computation.\n",
      "WARNING:gpflow.logdensities:Shape of mu may be unknown or not 2D.\n"
     ]
    },
    {
     "name": "stdout",
     "output_type": "stream",
     "text": [
      "called\n",
      "(2896, 2896)\n",
      "10\n"
     ]
    },
    {
     "name": "stderr",
     "output_type": "stream",
     "text": [
      "WARNING:gpflow.logdensities:Shape of x must be 2D at computation.\n",
      "WARNING:gpflow.logdensities:Shape of mu may be unknown or not 2D.\n"
     ]
    },
    {
     "name": "stdout",
     "output_type": "stream",
     "text": [
      "called\n",
      "(2984, 2984)\n",
      "10\n"
     ]
    },
    {
     "name": "stderr",
     "output_type": "stream",
     "text": [
      "WARNING:gpflow.logdensities:Shape of x must be 2D at computation.\n",
      "WARNING:gpflow.logdensities:Shape of mu may be unknown or not 2D.\n"
     ]
    },
    {
     "name": "stdout",
     "output_type": "stream",
     "text": [
      "called\n",
      "(3062, 3062)\n",
      "10\n"
     ]
    },
    {
     "name": "stderr",
     "output_type": "stream",
     "text": [
      "WARNING:gpflow.logdensities:Shape of x must be 2D at computation.\n",
      "WARNING:gpflow.logdensities:Shape of mu may be unknown or not 2D.\n"
     ]
    },
    {
     "name": "stdout",
     "output_type": "stream",
     "text": [
      "called\n",
      "(3140, 3140)\n",
      "10\n"
     ]
    },
    {
     "name": "stderr",
     "output_type": "stream",
     "text": [
      "WARNING:gpflow.logdensities:Shape of x must be 2D at computation.\n",
      "WARNING:gpflow.logdensities:Shape of mu may be unknown or not 2D.\n"
     ]
    },
    {
     "name": "stdout",
     "output_type": "stream",
     "text": [
      "called\n",
      "(3218, 3218)\n",
      "10\n"
     ]
    },
    {
     "name": "stderr",
     "output_type": "stream",
     "text": [
      "WARNING:gpflow.logdensities:Shape of x must be 2D at computation.\n",
      "WARNING:gpflow.logdensities:Shape of mu may be unknown or not 2D.\n"
     ]
    },
    {
     "name": "stdout",
     "output_type": "stream",
     "text": [
      "called\n",
      "(3280, 3280)\n",
      "10\n"
     ]
    },
    {
     "name": "stderr",
     "output_type": "stream",
     "text": [
      "WARNING:gpflow.logdensities:Shape of x must be 2D at computation.\n",
      "WARNING:gpflow.logdensities:Shape of mu may be unknown or not 2D.\n"
     ]
    },
    {
     "name": "stdout",
     "output_type": "stream",
     "text": [
      "called\n",
      "(3327, 3327)\n",
      "10\n"
     ]
    },
    {
     "name": "stderr",
     "output_type": "stream",
     "text": [
      "WARNING:gpflow.logdensities:Shape of x must be 2D at computation.\n",
      "WARNING:gpflow.logdensities:Shape of mu may be unknown or not 2D.\n"
     ]
    },
    {
     "name": "stdout",
     "output_type": "stream",
     "text": [
      "called\n",
      "(3367, 3367)\n",
      "10\n"
     ]
    },
    {
     "name": "stderr",
     "output_type": "stream",
     "text": [
      "WARNING:gpflow.logdensities:Shape of x must be 2D at computation.\n",
      "WARNING:gpflow.logdensities:Shape of mu may be unknown or not 2D.\n"
     ]
    },
    {
     "name": "stdout",
     "output_type": "stream",
     "text": [
      "called\n",
      "(3399, 3399)\n",
      "10\n"
     ]
    },
    {
     "name": "stderr",
     "output_type": "stream",
     "text": [
      "WARNING:gpflow.logdensities:Shape of x must be 2D at computation.\n",
      "WARNING:gpflow.logdensities:Shape of mu may be unknown or not 2D.\n"
     ]
    },
    {
     "name": "stdout",
     "output_type": "stream",
     "text": [
      "called\n",
      "(3430, 3430)\n",
      "10\n"
     ]
    },
    {
     "name": "stderr",
     "output_type": "stream",
     "text": [
      "WARNING:gpflow.logdensities:Shape of x must be 2D at computation.\n",
      "WARNING:gpflow.logdensities:Shape of mu may be unknown or not 2D.\n"
     ]
    },
    {
     "name": "stdout",
     "output_type": "stream",
     "text": [
      "called\n",
      "(3463, 3463)\n",
      "10\n"
     ]
    },
    {
     "name": "stderr",
     "output_type": "stream",
     "text": [
      "WARNING:gpflow.logdensities:Shape of x must be 2D at computation.\n",
      "WARNING:gpflow.logdensities:Shape of mu may be unknown or not 2D.\n"
     ]
    },
    {
     "name": "stdout",
     "output_type": "stream",
     "text": [
      "called\n",
      "(3490, 3490)\n",
      "10\n"
     ]
    },
    {
     "name": "stderr",
     "output_type": "stream",
     "text": [
      "WARNING:gpflow.logdensities:Shape of x must be 2D at computation.\n",
      "WARNING:gpflow.logdensities:Shape of mu may be unknown or not 2D.\n"
     ]
    },
    {
     "name": "stdout",
     "output_type": "stream",
     "text": [
      "called\n",
      "(3506, 3506)\n",
      "10\n"
     ]
    },
    {
     "name": "stderr",
     "output_type": "stream",
     "text": [
      "WARNING:gpflow.logdensities:Shape of x must be 2D at computation.\n",
      "WARNING:gpflow.logdensities:Shape of mu may be unknown or not 2D.\n"
     ]
    },
    {
     "name": "stdout",
     "output_type": "stream",
     "text": [
      "called\n",
      "(3520, 3520)\n",
      "10\n"
     ]
    },
    {
     "name": "stderr",
     "output_type": "stream",
     "text": [
      "WARNING:gpflow.logdensities:Shape of x must be 2D at computation.\n",
      "WARNING:gpflow.logdensities:Shape of mu may be unknown or not 2D.\n"
     ]
    },
    {
     "name": "stdout",
     "output_type": "stream",
     "text": [
      "called\n",
      "(3533, 3533)\n",
      "10\n"
     ]
    },
    {
     "name": "stderr",
     "output_type": "stream",
     "text": [
      "WARNING:gpflow.logdensities:Shape of x must be 2D at computation.\n",
      "WARNING:gpflow.logdensities:Shape of mu may be unknown or not 2D.\n"
     ]
    },
    {
     "name": "stdout",
     "output_type": "stream",
     "text": [
      "called\n",
      "(3545, 3545)\n",
      "10\n"
     ]
    },
    {
     "name": "stderr",
     "output_type": "stream",
     "text": [
      "WARNING:gpflow.logdensities:Shape of x must be 2D at computation.\n",
      "WARNING:gpflow.logdensities:Shape of mu may be unknown or not 2D.\n"
     ]
    },
    {
     "name": "stdout",
     "output_type": "stream",
     "text": [
      "called\n",
      "(3560, 3560)\n",
      "10\n"
     ]
    },
    {
     "name": "stderr",
     "output_type": "stream",
     "text": [
      "WARNING:gpflow.logdensities:Shape of x must be 2D at computation.\n",
      "WARNING:gpflow.logdensities:Shape of mu may be unknown or not 2D.\n"
     ]
    },
    {
     "name": "stdout",
     "output_type": "stream",
     "text": [
      "called\n",
      "(3576, 3576)\n",
      "10\n"
     ]
    },
    {
     "name": "stderr",
     "output_type": "stream",
     "text": [
      "WARNING:gpflow.logdensities:Shape of x must be 2D at computation.\n",
      "WARNING:gpflow.logdensities:Shape of mu may be unknown or not 2D.\n"
     ]
    },
    {
     "name": "stdout",
     "output_type": "stream",
     "text": [
      "called\n",
      "(3585, 3585)\n",
      "10\n"
     ]
    },
    {
     "name": "stderr",
     "output_type": "stream",
     "text": [
      "WARNING:gpflow.logdensities:Shape of x must be 2D at computation.\n",
      "WARNING:gpflow.logdensities:Shape of mu may be unknown or not 2D.\n"
     ]
    },
    {
     "name": "stdout",
     "output_type": "stream",
     "text": [
      "called\n",
      "(3596, 3596)\n",
      "10\n"
     ]
    },
    {
     "name": "stderr",
     "output_type": "stream",
     "text": [
      "WARNING:gpflow.logdensities:Shape of x must be 2D at computation.\n",
      "WARNING:gpflow.logdensities:Shape of mu may be unknown or not 2D.\n"
     ]
    },
    {
     "name": "stdout",
     "output_type": "stream",
     "text": [
      "called\n",
      "(3606, 3606)\n",
      "10\n"
     ]
    },
    {
     "name": "stderr",
     "output_type": "stream",
     "text": [
      "WARNING:gpflow.logdensities:Shape of x must be 2D at computation.\n",
      "WARNING:gpflow.logdensities:Shape of mu may be unknown or not 2D.\n"
     ]
    },
    {
     "name": "stdout",
     "output_type": "stream",
     "text": [
      "called\n",
      "(3645, 3645)\n",
      "10\n"
     ]
    },
    {
     "name": "stderr",
     "output_type": "stream",
     "text": [
      "WARNING:gpflow.logdensities:Shape of x must be 2D at computation.\n",
      "WARNING:gpflow.logdensities:Shape of mu may be unknown or not 2D.\n"
     ]
    },
    {
     "name": "stdout",
     "output_type": "stream",
     "text": [
      "called\n",
      "(3678, 3678)\n",
      "10\n"
     ]
    },
    {
     "name": "stderr",
     "output_type": "stream",
     "text": [
      "WARNING:gpflow.logdensities:Shape of x must be 2D at computation.\n",
      "WARNING:gpflow.logdensities:Shape of mu may be unknown or not 2D.\n"
     ]
    },
    {
     "name": "stdout",
     "output_type": "stream",
     "text": [
      "called\n",
      "(3701, 3701)\n",
      "10\n"
     ]
    },
    {
     "name": "stderr",
     "output_type": "stream",
     "text": [
      "WARNING:gpflow.logdensities:Shape of x must be 2D at computation.\n",
      "WARNING:gpflow.logdensities:Shape of mu may be unknown or not 2D.\n"
     ]
    },
    {
     "name": "stdout",
     "output_type": "stream",
     "text": [
      "called\n",
      "(3726, 3726)\n",
      "10\n"
     ]
    },
    {
     "name": "stderr",
     "output_type": "stream",
     "text": [
      "WARNING:gpflow.logdensities:Shape of x must be 2D at computation.\n",
      "WARNING:gpflow.logdensities:Shape of mu may be unknown or not 2D.\n"
     ]
    },
    {
     "name": "stdout",
     "output_type": "stream",
     "text": [
      "called\n",
      "(3752, 3752)\n",
      "10\n"
     ]
    },
    {
     "name": "stderr",
     "output_type": "stream",
     "text": [
      "WARNING:gpflow.logdensities:Shape of x must be 2D at computation.\n",
      "WARNING:gpflow.logdensities:Shape of mu may be unknown or not 2D.\n"
     ]
    },
    {
     "name": "stdout",
     "output_type": "stream",
     "text": [
      "called\n",
      "(3782, 3782)\n",
      "10\n"
     ]
    },
    {
     "name": "stderr",
     "output_type": "stream",
     "text": [
      "WARNING:gpflow.logdensities:Shape of x must be 2D at computation.\n",
      "WARNING:gpflow.logdensities:Shape of mu may be unknown or not 2D.\n"
     ]
    },
    {
     "name": "stdout",
     "output_type": "stream",
     "text": [
      "called\n",
      "(3811, 3811)\n",
      "10\n"
     ]
    },
    {
     "name": "stderr",
     "output_type": "stream",
     "text": [
      "WARNING:gpflow.logdensities:Shape of x must be 2D at computation.\n",
      "WARNING:gpflow.logdensities:Shape of mu may be unknown or not 2D.\n"
     ]
    },
    {
     "name": "stdout",
     "output_type": "stream",
     "text": [
      "called\n",
      "(3846, 3846)\n",
      "10\n"
     ]
    },
    {
     "name": "stderr",
     "output_type": "stream",
     "text": [
      "WARNING:gpflow.logdensities:Shape of x must be 2D at computation.\n",
      "WARNING:gpflow.logdensities:Shape of mu may be unknown or not 2D.\n"
     ]
    },
    {
     "name": "stdout",
     "output_type": "stream",
     "text": [
      "called\n",
      "(3884, 3884)\n",
      "10\n"
     ]
    },
    {
     "name": "stderr",
     "output_type": "stream",
     "text": [
      "WARNING:gpflow.logdensities:Shape of x must be 2D at computation.\n",
      "WARNING:gpflow.logdensities:Shape of mu may be unknown or not 2D.\n"
     ]
    },
    {
     "name": "stdout",
     "output_type": "stream",
     "text": [
      "called\n",
      "(3923, 3923)\n",
      "10\n"
     ]
    },
    {
     "name": "stderr",
     "output_type": "stream",
     "text": [
      "WARNING:gpflow.logdensities:Shape of x must be 2D at computation.\n",
      "WARNING:gpflow.logdensities:Shape of mu may be unknown or not 2D.\n"
     ]
    },
    {
     "name": "stdout",
     "output_type": "stream",
     "text": [
      "called\n",
      "(3956, 3956)\n",
      "10\n"
     ]
    },
    {
     "name": "stderr",
     "output_type": "stream",
     "text": [
      "WARNING:gpflow.logdensities:Shape of x must be 2D at computation.\n",
      "WARNING:gpflow.logdensities:Shape of mu may be unknown or not 2D.\n"
     ]
    },
    {
     "name": "stdout",
     "output_type": "stream",
     "text": [
      "called\n",
      "(3990, 3990)\n",
      "10\n"
     ]
    },
    {
     "name": "stderr",
     "output_type": "stream",
     "text": [
      "WARNING:gpflow.logdensities:Shape of x must be 2D at computation.\n",
      "WARNING:gpflow.logdensities:Shape of mu may be unknown or not 2D.\n"
     ]
    },
    {
     "name": "stdout",
     "output_type": "stream",
     "text": [
      "called\n",
      "(4024, 4024)\n",
      "10\n"
     ]
    },
    {
     "name": "stderr",
     "output_type": "stream",
     "text": [
      "WARNING:gpflow.logdensities:Shape of x must be 2D at computation.\n",
      "WARNING:gpflow.logdensities:Shape of mu may be unknown or not 2D.\n"
     ]
    },
    {
     "name": "stdout",
     "output_type": "stream",
     "text": [
      "called\n",
      "(4057, 4057)\n",
      "10\n"
     ]
    },
    {
     "name": "stderr",
     "output_type": "stream",
     "text": [
      "WARNING:gpflow.logdensities:Shape of x must be 2D at computation.\n",
      "WARNING:gpflow.logdensities:Shape of mu may be unknown or not 2D.\n"
     ]
    },
    {
     "name": "stdout",
     "output_type": "stream",
     "text": [
      "called\n",
      "(4097, 4097)\n",
      "10\n"
     ]
    },
    {
     "name": "stderr",
     "output_type": "stream",
     "text": [
      "WARNING:gpflow.logdensities:Shape of x must be 2D at computation.\n",
      "WARNING:gpflow.logdensities:Shape of mu may be unknown or not 2D.\n"
     ]
    },
    {
     "name": "stdout",
     "output_type": "stream",
     "text": [
      "called\n",
      "(4131, 4131)\n",
      "10\n"
     ]
    },
    {
     "name": "stderr",
     "output_type": "stream",
     "text": [
      "WARNING:gpflow.logdensities:Shape of x must be 2D at computation.\n",
      "WARNING:gpflow.logdensities:Shape of mu may be unknown or not 2D.\n"
     ]
    },
    {
     "name": "stdout",
     "output_type": "stream",
     "text": [
      "called\n",
      "(4163, 4163)\n",
      "10\n"
     ]
    },
    {
     "name": "stderr",
     "output_type": "stream",
     "text": [
      "WARNING:gpflow.logdensities:Shape of x must be 2D at computation.\n",
      "WARNING:gpflow.logdensities:Shape of mu may be unknown or not 2D.\n"
     ]
    },
    {
     "name": "stdout",
     "output_type": "stream",
     "text": [
      "called\n",
      "(4196, 4196)\n",
      "10\n"
     ]
    },
    {
     "name": "stderr",
     "output_type": "stream",
     "text": [
      "WARNING:gpflow.logdensities:Shape of x must be 2D at computation.\n",
      "WARNING:gpflow.logdensities:Shape of mu may be unknown or not 2D.\n"
     ]
    },
    {
     "name": "stdout",
     "output_type": "stream",
     "text": [
      "called\n",
      "(4233, 4233)\n",
      "10\n"
     ]
    },
    {
     "name": "stderr",
     "output_type": "stream",
     "text": [
      "WARNING:gpflow.logdensities:Shape of x must be 2D at computation.\n",
      "WARNING:gpflow.logdensities:Shape of mu may be unknown or not 2D.\n"
     ]
    },
    {
     "name": "stdout",
     "output_type": "stream",
     "text": [
      "called\n",
      "(4266, 4266)\n",
      "10\n"
     ]
    },
    {
     "name": "stderr",
     "output_type": "stream",
     "text": [
      "WARNING:gpflow.logdensities:Shape of x must be 2D at computation.\n",
      "WARNING:gpflow.logdensities:Shape of mu may be unknown or not 2D.\n"
     ]
    },
    {
     "name": "stdout",
     "output_type": "stream",
     "text": [
      "called\n",
      "(4301, 4301)\n",
      "10\n"
     ]
    },
    {
     "name": "stderr",
     "output_type": "stream",
     "text": [
      "WARNING:gpflow.logdensities:Shape of x must be 2D at computation.\n",
      "WARNING:gpflow.logdensities:Shape of mu may be unknown or not 2D.\n"
     ]
    },
    {
     "name": "stdout",
     "output_type": "stream",
     "text": [
      "called\n",
      "(4342, 4342)\n",
      "10\n"
     ]
    },
    {
     "name": "stderr",
     "output_type": "stream",
     "text": [
      "WARNING:gpflow.logdensities:Shape of x must be 2D at computation.\n",
      "WARNING:gpflow.logdensities:Shape of mu may be unknown or not 2D.\n"
     ]
    },
    {
     "name": "stdout",
     "output_type": "stream",
     "text": [
      "called\n",
      "(4377, 4377)\n",
      "10\n"
     ]
    },
    {
     "name": "stderr",
     "output_type": "stream",
     "text": [
      "WARNING:gpflow.logdensities:Shape of x must be 2D at computation.\n",
      "WARNING:gpflow.logdensities:Shape of mu may be unknown or not 2D.\n"
     ]
    },
    {
     "name": "stdout",
     "output_type": "stream",
     "text": [
      "called\n",
      "(4415, 4415)\n",
      "10\n"
     ]
    },
    {
     "name": "stderr",
     "output_type": "stream",
     "text": [
      "WARNING:gpflow.logdensities:Shape of x must be 2D at computation.\n",
      "WARNING:gpflow.logdensities:Shape of mu may be unknown or not 2D.\n"
     ]
    },
    {
     "name": "stdout",
     "output_type": "stream",
     "text": [
      "called\n",
      "(4452, 4452)\n",
      "10\n"
     ]
    },
    {
     "name": "stderr",
     "output_type": "stream",
     "text": [
      "WARNING:gpflow.logdensities:Shape of x must be 2D at computation.\n",
      "WARNING:gpflow.logdensities:Shape of mu may be unknown or not 2D.\n"
     ]
    },
    {
     "name": "stdout",
     "output_type": "stream",
     "text": [
      "called\n",
      "(4490, 4490)\n",
      "10\n"
     ]
    },
    {
     "name": "stderr",
     "output_type": "stream",
     "text": [
      "WARNING:gpflow.logdensities:Shape of x must be 2D at computation.\n",
      "WARNING:gpflow.logdensities:Shape of mu may be unknown or not 2D.\n"
     ]
    },
    {
     "name": "stdout",
     "output_type": "stream",
     "text": [
      "called\n",
      "(4524, 4524)\n",
      "10\n"
     ]
    },
    {
     "name": "stderr",
     "output_type": "stream",
     "text": [
      "WARNING:gpflow.logdensities:Shape of x must be 2D at computation.\n",
      "WARNING:gpflow.logdensities:Shape of mu may be unknown or not 2D.\n"
     ]
    },
    {
     "name": "stdout",
     "output_type": "stream",
     "text": [
      "called\n",
      "(4566, 4566)\n",
      "10\n"
     ]
    },
    {
     "name": "stderr",
     "output_type": "stream",
     "text": [
      "WARNING:gpflow.logdensities:Shape of x must be 2D at computation.\n",
      "WARNING:gpflow.logdensities:Shape of mu may be unknown or not 2D.\n"
     ]
    },
    {
     "name": "stdout",
     "output_type": "stream",
     "text": [
      "called\n",
      "(4611, 4611)\n",
      "10\n"
     ]
    },
    {
     "name": "stderr",
     "output_type": "stream",
     "text": [
      "WARNING:gpflow.logdensities:Shape of x must be 2D at computation.\n",
      "WARNING:gpflow.logdensities:Shape of mu may be unknown or not 2D.\n"
     ]
    },
    {
     "name": "stdout",
     "output_type": "stream",
     "text": [
      "called\n",
      "(4664, 4664)\n",
      "10\n"
     ]
    },
    {
     "name": "stderr",
     "output_type": "stream",
     "text": [
      "WARNING:gpflow.logdensities:Shape of x must be 2D at computation.\n",
      "WARNING:gpflow.logdensities:Shape of mu may be unknown or not 2D.\n"
     ]
    },
    {
     "name": "stdout",
     "output_type": "stream",
     "text": [
      "called\n",
      "(4717, 4717)\n",
      "10\n"
     ]
    },
    {
     "name": "stderr",
     "output_type": "stream",
     "text": [
      "WARNING:gpflow.logdensities:Shape of x must be 2D at computation.\n",
      "WARNING:gpflow.logdensities:Shape of mu may be unknown or not 2D.\n"
     ]
    },
    {
     "name": "stdout",
     "output_type": "stream",
     "text": [
      "called\n",
      "(4766, 4766)\n",
      "10\n"
     ]
    },
    {
     "name": "stderr",
     "output_type": "stream",
     "text": [
      "WARNING:gpflow.logdensities:Shape of x must be 2D at computation.\n",
      "WARNING:gpflow.logdensities:Shape of mu may be unknown or not 2D.\n"
     ]
    },
    {
     "name": "stdout",
     "output_type": "stream",
     "text": [
      "called\n",
      "(4816, 4816)\n",
      "10\n"
     ]
    },
    {
     "name": "stderr",
     "output_type": "stream",
     "text": [
      "WARNING:gpflow.logdensities:Shape of x must be 2D at computation.\n",
      "WARNING:gpflow.logdensities:Shape of mu may be unknown or not 2D.\n"
     ]
    },
    {
     "name": "stdout",
     "output_type": "stream",
     "text": [
      "called\n",
      "(4868, 4868)\n",
      "10\n"
     ]
    },
    {
     "name": "stderr",
     "output_type": "stream",
     "text": [
      "WARNING:gpflow.logdensities:Shape of x must be 2D at computation.\n",
      "WARNING:gpflow.logdensities:Shape of mu may be unknown or not 2D.\n"
     ]
    },
    {
     "name": "stdout",
     "output_type": "stream",
     "text": [
      "called\n",
      "(4906, 4906)\n",
      "10\n"
     ]
    },
    {
     "name": "stderr",
     "output_type": "stream",
     "text": [
      "WARNING:gpflow.logdensities:Shape of x must be 2D at computation.\n",
      "WARNING:gpflow.logdensities:Shape of mu may be unknown or not 2D.\n"
     ]
    },
    {
     "name": "stdout",
     "output_type": "stream",
     "text": [
      "called\n",
      "(4959, 4959)\n",
      "10\n"
     ]
    },
    {
     "name": "stderr",
     "output_type": "stream",
     "text": [
      "WARNING:gpflow.logdensities:Shape of x must be 2D at computation.\n",
      "WARNING:gpflow.logdensities:Shape of mu may be unknown or not 2D.\n"
     ]
    },
    {
     "name": "stdout",
     "output_type": "stream",
     "text": [
      "called\n",
      "(5008, 5008)\n",
      "10\n"
     ]
    },
    {
     "name": "stderr",
     "output_type": "stream",
     "text": [
      "WARNING:gpflow.logdensities:Shape of x must be 2D at computation.\n",
      "WARNING:gpflow.logdensities:Shape of mu may be unknown or not 2D.\n"
     ]
    },
    {
     "name": "stdout",
     "output_type": "stream",
     "text": [
      "called\n",
      "(5048, 5048)\n",
      "10\n"
     ]
    },
    {
     "name": "stderr",
     "output_type": "stream",
     "text": [
      "WARNING:gpflow.logdensities:Shape of x must be 2D at computation.\n",
      "WARNING:gpflow.logdensities:Shape of mu may be unknown or not 2D.\n"
     ]
    },
    {
     "name": "stdout",
     "output_type": "stream",
     "text": [
      "called\n",
      "(5099, 5099)\n",
      "10\n"
     ]
    },
    {
     "name": "stderr",
     "output_type": "stream",
     "text": [
      "WARNING:gpflow.logdensities:Shape of x must be 2D at computation.\n",
      "WARNING:gpflow.logdensities:Shape of mu may be unknown or not 2D.\n"
     ]
    },
    {
     "name": "stdout",
     "output_type": "stream",
     "text": [
      "called\n",
      "(5148, 5148)\n",
      "10\n"
     ]
    },
    {
     "name": "stderr",
     "output_type": "stream",
     "text": [
      "WARNING:gpflow.logdensities:Shape of x must be 2D at computation.\n",
      "WARNING:gpflow.logdensities:Shape of mu may be unknown or not 2D.\n"
     ]
    },
    {
     "name": "stdout",
     "output_type": "stream",
     "text": [
      "called\n",
      "(5206, 5206)\n",
      "10\n"
     ]
    },
    {
     "name": "stderr",
     "output_type": "stream",
     "text": [
      "WARNING:gpflow.logdensities:Shape of x must be 2D at computation.\n",
      "WARNING:gpflow.logdensities:Shape of mu may be unknown or not 2D.\n"
     ]
    },
    {
     "name": "stdout",
     "output_type": "stream",
     "text": [
      "called\n",
      "(5257, 5257)\n",
      "10\n"
     ]
    },
    {
     "name": "stderr",
     "output_type": "stream",
     "text": [
      "WARNING:gpflow.logdensities:Shape of x must be 2D at computation.\n",
      "WARNING:gpflow.logdensities:Shape of mu may be unknown or not 2D.\n"
     ]
    },
    {
     "name": "stdout",
     "output_type": "stream",
     "text": [
      "called\n",
      "(5304, 5304)\n",
      "10\n"
     ]
    },
    {
     "name": "stderr",
     "output_type": "stream",
     "text": [
      "WARNING:gpflow.logdensities:Shape of x must be 2D at computation.\n",
      "WARNING:gpflow.logdensities:Shape of mu may be unknown or not 2D.\n"
     ]
    },
    {
     "name": "stdout",
     "output_type": "stream",
     "text": [
      "called\n",
      "(5347, 5347)\n",
      "10\n"
     ]
    },
    {
     "name": "stderr",
     "output_type": "stream",
     "text": [
      "WARNING:gpflow.logdensities:Shape of x must be 2D at computation.\n",
      "WARNING:gpflow.logdensities:Shape of mu may be unknown or not 2D.\n"
     ]
    },
    {
     "name": "stdout",
     "output_type": "stream",
     "text": [
      "called\n",
      "(5391, 5391)\n",
      "10\n"
     ]
    },
    {
     "name": "stderr",
     "output_type": "stream",
     "text": [
      "WARNING:gpflow.logdensities:Shape of x must be 2D at computation.\n",
      "WARNING:gpflow.logdensities:Shape of mu may be unknown or not 2D.\n"
     ]
    },
    {
     "name": "stdout",
     "output_type": "stream",
     "text": [
      "called\n",
      "(5432, 5432)\n",
      "10\n"
     ]
    },
    {
     "name": "stderr",
     "output_type": "stream",
     "text": [
      "WARNING:gpflow.logdensities:Shape of x must be 2D at computation.\n",
      "WARNING:gpflow.logdensities:Shape of mu may be unknown or not 2D.\n"
     ]
    },
    {
     "name": "stdout",
     "output_type": "stream",
     "text": [
      "called\n",
      "(5476, 5476)\n",
      "10\n"
     ]
    },
    {
     "name": "stderr",
     "output_type": "stream",
     "text": [
      "WARNING:gpflow.logdensities:Shape of x must be 2D at computation.\n",
      "WARNING:gpflow.logdensities:Shape of mu may be unknown or not 2D.\n"
     ]
    },
    {
     "name": "stdout",
     "output_type": "stream",
     "text": [
      "called\n",
      "(5513, 5513)\n",
      "10\n"
     ]
    },
    {
     "name": "stderr",
     "output_type": "stream",
     "text": [
      "WARNING:gpflow.logdensities:Shape of x must be 2D at computation.\n",
      "WARNING:gpflow.logdensities:Shape of mu may be unknown or not 2D.\n"
     ]
    },
    {
     "name": "stdout",
     "output_type": "stream",
     "text": [
      "called\n",
      "(5556, 5556)\n",
      "10\n"
     ]
    },
    {
     "name": "stderr",
     "output_type": "stream",
     "text": [
      "WARNING:gpflow.logdensities:Shape of x must be 2D at computation.\n",
      "WARNING:gpflow.logdensities:Shape of mu may be unknown or not 2D.\n"
     ]
    },
    {
     "name": "stdout",
     "output_type": "stream",
     "text": [
      "called\n",
      "(5585, 5585)\n",
      "10\n"
     ]
    },
    {
     "name": "stderr",
     "output_type": "stream",
     "text": [
      "WARNING:gpflow.logdensities:Shape of x must be 2D at computation.\n",
      "WARNING:gpflow.logdensities:Shape of mu may be unknown or not 2D.\n"
     ]
    },
    {
     "name": "stdout",
     "output_type": "stream",
     "text": [
      "called\n",
      "(5617, 5617)\n",
      "10\n"
     ]
    },
    {
     "name": "stderr",
     "output_type": "stream",
     "text": [
      "WARNING:gpflow.logdensities:Shape of x must be 2D at computation.\n",
      "WARNING:gpflow.logdensities:Shape of mu may be unknown or not 2D.\n"
     ]
    },
    {
     "name": "stdout",
     "output_type": "stream",
     "text": [
      "called\n",
      "(5652, 5652)\n",
      "10\n"
     ]
    },
    {
     "name": "stderr",
     "output_type": "stream",
     "text": [
      "WARNING:gpflow.logdensities:Shape of x must be 2D at computation.\n",
      "WARNING:gpflow.logdensities:Shape of mu may be unknown or not 2D.\n"
     ]
    },
    {
     "name": "stdout",
     "output_type": "stream",
     "text": [
      "called\n",
      "(5686, 5686)\n",
      "10\n"
     ]
    },
    {
     "name": "stderr",
     "output_type": "stream",
     "text": [
      "WARNING:gpflow.logdensities:Shape of x must be 2D at computation.\n",
      "WARNING:gpflow.logdensities:Shape of mu may be unknown or not 2D.\n"
     ]
    },
    {
     "name": "stdout",
     "output_type": "stream",
     "text": [
      "called\n",
      "(5718, 5718)\n",
      "10\n"
     ]
    },
    {
     "name": "stderr",
     "output_type": "stream",
     "text": [
      "WARNING:gpflow.logdensities:Shape of x must be 2D at computation.\n",
      "WARNING:gpflow.logdensities:Shape of mu may be unknown or not 2D.\n"
     ]
    },
    {
     "name": "stdout",
     "output_type": "stream",
     "text": [
      "called\n",
      "(5750, 5750)\n",
      "10\n"
     ]
    },
    {
     "name": "stderr",
     "output_type": "stream",
     "text": [
      "WARNING:gpflow.logdensities:Shape of x must be 2D at computation.\n",
      "WARNING:gpflow.logdensities:Shape of mu may be unknown or not 2D.\n"
     ]
    },
    {
     "name": "stdout",
     "output_type": "stream",
     "text": [
      "called\n",
      "(5780, 5780)\n",
      "10\n"
     ]
    },
    {
     "name": "stderr",
     "output_type": "stream",
     "text": [
      "WARNING:gpflow.logdensities:Shape of x must be 2D at computation.\n",
      "WARNING:gpflow.logdensities:Shape of mu may be unknown or not 2D.\n"
     ]
    },
    {
     "name": "stdout",
     "output_type": "stream",
     "text": [
      "called\n",
      "(5806, 5806)\n",
      "10\n"
     ]
    },
    {
     "name": "stderr",
     "output_type": "stream",
     "text": [
      "WARNING:gpflow.logdensities:Shape of x must be 2D at computation.\n",
      "WARNING:gpflow.logdensities:Shape of mu may be unknown or not 2D.\n"
     ]
    },
    {
     "name": "stdout",
     "output_type": "stream",
     "text": [
      "called\n",
      "(5829, 5829)\n",
      "10\n"
     ]
    },
    {
     "name": "stderr",
     "output_type": "stream",
     "text": [
      "WARNING:gpflow.logdensities:Shape of x must be 2D at computation.\n",
      "WARNING:gpflow.logdensities:Shape of mu may be unknown or not 2D.\n"
     ]
    },
    {
     "name": "stdout",
     "output_type": "stream",
     "text": [
      "called\n",
      "(5851, 5851)\n",
      "10\n"
     ]
    },
    {
     "name": "stderr",
     "output_type": "stream",
     "text": [
      "WARNING:gpflow.logdensities:Shape of x must be 2D at computation.\n",
      "WARNING:gpflow.logdensities:Shape of mu may be unknown or not 2D.\n"
     ]
    },
    {
     "name": "stdout",
     "output_type": "stream",
     "text": [
      "called\n",
      "(5872, 5872)\n",
      "10\n"
     ]
    },
    {
     "name": "stderr",
     "output_type": "stream",
     "text": [
      "WARNING:gpflow.logdensities:Shape of x must be 2D at computation.\n",
      "WARNING:gpflow.logdensities:Shape of mu may be unknown or not 2D.\n"
     ]
    },
    {
     "name": "stdout",
     "output_type": "stream",
     "text": [
      "called\n",
      "(5897, 5897)\n",
      "10\n"
     ]
    },
    {
     "name": "stderr",
     "output_type": "stream",
     "text": [
      "WARNING:gpflow.logdensities:Shape of x must be 2D at computation.\n",
      "WARNING:gpflow.logdensities:Shape of mu may be unknown or not 2D.\n"
     ]
    },
    {
     "name": "stdout",
     "output_type": "stream",
     "text": [
      "called\n",
      "(5924, 5924)\n",
      "10\n"
     ]
    },
    {
     "name": "stderr",
     "output_type": "stream",
     "text": [
      "WARNING:gpflow.logdensities:Shape of x must be 2D at computation.\n",
      "WARNING:gpflow.logdensities:Shape of mu may be unknown or not 2D.\n"
     ]
    },
    {
     "name": "stdout",
     "output_type": "stream",
     "text": [
      "called\n",
      "(5952, 5952)\n",
      "10\n"
     ]
    },
    {
     "name": "stderr",
     "output_type": "stream",
     "text": [
      "WARNING:gpflow.logdensities:Shape of x must be 2D at computation.\n",
      "WARNING:gpflow.logdensities:Shape of mu may be unknown or not 2D.\n"
     ]
    },
    {
     "name": "stdout",
     "output_type": "stream",
     "text": [
      "called\n",
      "(5980, 5980)\n",
      "10\n"
     ]
    },
    {
     "name": "stderr",
     "output_type": "stream",
     "text": [
      "WARNING:gpflow.logdensities:Shape of x must be 2D at computation.\n",
      "WARNING:gpflow.logdensities:Shape of mu may be unknown or not 2D.\n"
     ]
    },
    {
     "name": "stdout",
     "output_type": "stream",
     "text": [
      "called\n",
      "(6010, 6010)\n",
      "10\n"
     ]
    },
    {
     "name": "stderr",
     "output_type": "stream",
     "text": [
      "WARNING:gpflow.logdensities:Shape of x must be 2D at computation.\n",
      "WARNING:gpflow.logdensities:Shape of mu may be unknown or not 2D.\n"
     ]
    },
    {
     "name": "stdout",
     "output_type": "stream",
     "text": [
      "called\n",
      "(6037, 6037)\n",
      "10\n"
     ]
    },
    {
     "name": "stderr",
     "output_type": "stream",
     "text": [
      "WARNING:gpflow.logdensities:Shape of x must be 2D at computation.\n",
      "WARNING:gpflow.logdensities:Shape of mu may be unknown or not 2D.\n"
     ]
    },
    {
     "name": "stdout",
     "output_type": "stream",
     "text": [
      "called\n",
      "(6069, 6069)\n",
      "10\n"
     ]
    },
    {
     "name": "stderr",
     "output_type": "stream",
     "text": [
      "WARNING:gpflow.logdensities:Shape of x must be 2D at computation.\n",
      "WARNING:gpflow.logdensities:Shape of mu may be unknown or not 2D.\n"
     ]
    },
    {
     "name": "stdout",
     "output_type": "stream",
     "text": [
      "called\n",
      "(6099, 6099)\n",
      "10\n"
     ]
    },
    {
     "name": "stderr",
     "output_type": "stream",
     "text": [
      "WARNING:gpflow.logdensities:Shape of x must be 2D at computation.\n",
      "WARNING:gpflow.logdensities:Shape of mu may be unknown or not 2D.\n"
     ]
    },
    {
     "name": "stdout",
     "output_type": "stream",
     "text": [
      "called\n",
      "(6126, 6126)\n",
      "10\n"
     ]
    },
    {
     "name": "stderr",
     "output_type": "stream",
     "text": [
      "WARNING:gpflow.logdensities:Shape of x must be 2D at computation.\n",
      "WARNING:gpflow.logdensities:Shape of mu may be unknown or not 2D.\n"
     ]
    },
    {
     "name": "stdout",
     "output_type": "stream",
     "text": [
      "called\n",
      "(6150, 6150)\n",
      "10\n"
     ]
    },
    {
     "name": "stderr",
     "output_type": "stream",
     "text": [
      "WARNING:gpflow.logdensities:Shape of x must be 2D at computation.\n",
      "WARNING:gpflow.logdensities:Shape of mu may be unknown or not 2D.\n"
     ]
    },
    {
     "name": "stdout",
     "output_type": "stream",
     "text": [
      "called\n",
      "(6179, 6179)\n",
      "10\n"
     ]
    },
    {
     "name": "stderr",
     "output_type": "stream",
     "text": [
      "WARNING:gpflow.logdensities:Shape of x must be 2D at computation.\n",
      "WARNING:gpflow.logdensities:Shape of mu may be unknown or not 2D.\n"
     ]
    },
    {
     "name": "stdout",
     "output_type": "stream",
     "text": [
      "called\n",
      "(6210, 6210)\n",
      "10\n"
     ]
    },
    {
     "name": "stderr",
     "output_type": "stream",
     "text": [
      "WARNING:gpflow.logdensities:Shape of x must be 2D at computation.\n",
      "WARNING:gpflow.logdensities:Shape of mu may be unknown or not 2D.\n"
     ]
    },
    {
     "name": "stdout",
     "output_type": "stream",
     "text": [
      "called\n",
      "(6243, 6243)\n",
      "10\n"
     ]
    },
    {
     "name": "stderr",
     "output_type": "stream",
     "text": [
      "WARNING:gpflow.logdensities:Shape of x must be 2D at computation.\n",
      "WARNING:gpflow.logdensities:Shape of mu may be unknown or not 2D.\n"
     ]
    },
    {
     "name": "stdout",
     "output_type": "stream",
     "text": [
      "called\n",
      "(6268, 6268)\n",
      "10\n"
     ]
    },
    {
     "name": "stderr",
     "output_type": "stream",
     "text": [
      "WARNING:gpflow.logdensities:Shape of x must be 2D at computation.\n",
      "WARNING:gpflow.logdensities:Shape of mu may be unknown or not 2D.\n"
     ]
    },
    {
     "name": "stdout",
     "output_type": "stream",
     "text": [
      "called\n",
      "(6303, 6303)\n",
      "10\n"
     ]
    },
    {
     "name": "stderr",
     "output_type": "stream",
     "text": [
      "WARNING:gpflow.logdensities:Shape of x must be 2D at computation.\n",
      "WARNING:gpflow.logdensities:Shape of mu may be unknown or not 2D.\n"
     ]
    },
    {
     "name": "stdout",
     "output_type": "stream",
     "text": [
      "called\n",
      "(6337, 6337)\n",
      "10\n"
     ]
    },
    {
     "name": "stderr",
     "output_type": "stream",
     "text": [
      "WARNING:gpflow.logdensities:Shape of x must be 2D at computation.\n",
      "WARNING:gpflow.logdensities:Shape of mu may be unknown or not 2D.\n"
     ]
    },
    {
     "name": "stdout",
     "output_type": "stream",
     "text": [
      "called\n",
      "(6372, 6372)\n",
      "10\n"
     ]
    },
    {
     "name": "stderr",
     "output_type": "stream",
     "text": [
      "WARNING:gpflow.logdensities:Shape of x must be 2D at computation.\n",
      "WARNING:gpflow.logdensities:Shape of mu may be unknown or not 2D.\n"
     ]
    },
    {
     "name": "stdout",
     "output_type": "stream",
     "text": [
      "called\n",
      "(6414, 6414)\n",
      "10\n"
     ]
    },
    {
     "name": "stderr",
     "output_type": "stream",
     "text": [
      "WARNING:gpflow.logdensities:Shape of x must be 2D at computation.\n",
      "WARNING:gpflow.logdensities:Shape of mu may be unknown or not 2D.\n"
     ]
    },
    {
     "name": "stdout",
     "output_type": "stream",
     "text": [
      "called\n",
      "(6460, 6460)\n",
      "10\n"
     ]
    },
    {
     "name": "stderr",
     "output_type": "stream",
     "text": [
      "WARNING:gpflow.logdensities:Shape of x must be 2D at computation.\n",
      "WARNING:gpflow.logdensities:Shape of mu may be unknown or not 2D.\n"
     ]
    },
    {
     "name": "stdout",
     "output_type": "stream",
     "text": [
      "called\n",
      "(6506, 6506)\n",
      "10\n"
     ]
    },
    {
     "name": "stderr",
     "output_type": "stream",
     "text": [
      "WARNING:gpflow.logdensities:Shape of x must be 2D at computation.\n",
      "WARNING:gpflow.logdensities:Shape of mu may be unknown or not 2D.\n"
     ]
    },
    {
     "name": "stdout",
     "output_type": "stream",
     "text": [
      "called\n",
      "(6553, 6553)\n",
      "10\n"
     ]
    },
    {
     "name": "stderr",
     "output_type": "stream",
     "text": [
      "WARNING:gpflow.logdensities:Shape of x must be 2D at computation.\n",
      "WARNING:gpflow.logdensities:Shape of mu may be unknown or not 2D.\n"
     ]
    },
    {
     "name": "stdout",
     "output_type": "stream",
     "text": [
      "called\n",
      "(6600, 6600)\n",
      "10\n"
     ]
    },
    {
     "name": "stderr",
     "output_type": "stream",
     "text": [
      "WARNING:gpflow.logdensities:Shape of x must be 2D at computation.\n",
      "WARNING:gpflow.logdensities:Shape of mu may be unknown or not 2D.\n"
     ]
    },
    {
     "name": "stdout",
     "output_type": "stream",
     "text": [
      "called\n",
      "(6646, 6646)\n",
      "10\n"
     ]
    },
    {
     "name": "stderr",
     "output_type": "stream",
     "text": [
      "WARNING:gpflow.logdensities:Shape of x must be 2D at computation.\n",
      "WARNING:gpflow.logdensities:Shape of mu may be unknown or not 2D.\n"
     ]
    },
    {
     "name": "stdout",
     "output_type": "stream",
     "text": [
      "called\n",
      "(6692, 6692)\n",
      "10\n"
     ]
    },
    {
     "name": "stderr",
     "output_type": "stream",
     "text": [
      "WARNING:gpflow.logdensities:Shape of x must be 2D at computation.\n",
      "WARNING:gpflow.logdensities:Shape of mu may be unknown or not 2D.\n"
     ]
    },
    {
     "name": "stdout",
     "output_type": "stream",
     "text": [
      "called\n",
      "(6735, 6735)\n",
      "10\n"
     ]
    },
    {
     "name": "stderr",
     "output_type": "stream",
     "text": [
      "WARNING:gpflow.logdensities:Shape of x must be 2D at computation.\n",
      "WARNING:gpflow.logdensities:Shape of mu may be unknown or not 2D.\n"
     ]
    },
    {
     "name": "stdout",
     "output_type": "stream",
     "text": [
      "called\n",
      "(6779, 6779)\n",
      "10\n"
     ]
    },
    {
     "name": "stderr",
     "output_type": "stream",
     "text": [
      "WARNING:gpflow.logdensities:Shape of x must be 2D at computation.\n",
      "WARNING:gpflow.logdensities:Shape of mu may be unknown or not 2D.\n"
     ]
    },
    {
     "name": "stdout",
     "output_type": "stream",
     "text": [
      "called\n",
      "(6829, 6829)\n",
      "10\n"
     ]
    },
    {
     "name": "stderr",
     "output_type": "stream",
     "text": [
      "WARNING:gpflow.logdensities:Shape of x must be 2D at computation.\n",
      "WARNING:gpflow.logdensities:Shape of mu may be unknown or not 2D.\n"
     ]
    },
    {
     "name": "stdout",
     "output_type": "stream",
     "text": [
      "called\n",
      "(6874, 6874)\n",
      "10\n"
     ]
    },
    {
     "name": "stderr",
     "output_type": "stream",
     "text": [
      "WARNING:gpflow.logdensities:Shape of x must be 2D at computation.\n",
      "WARNING:gpflow.logdensities:Shape of mu may be unknown or not 2D.\n"
     ]
    },
    {
     "name": "stdout",
     "output_type": "stream",
     "text": [
      "called\n",
      "(6917, 6917)\n",
      "10\n"
     ]
    },
    {
     "name": "stderr",
     "output_type": "stream",
     "text": [
      "WARNING:gpflow.logdensities:Shape of x must be 2D at computation.\n",
      "WARNING:gpflow.logdensities:Shape of mu may be unknown or not 2D.\n"
     ]
    },
    {
     "name": "stdout",
     "output_type": "stream",
     "text": [
      "called\n",
      "(6964, 6964)\n",
      "10\n"
     ]
    }
   ],
   "source": [
    "start = time.time()\n",
    "new_kind_of_simulation(experiment,'TS_fancy',personal,glob)\n",
    "end = time.time()\n",
    "print(end-start)"
   ]
  },
  {
   "cell_type": "markdown",
   "metadata": {},
   "source": [
    "##### all_steps  = [\n",
    "]\n",
    "for p in experiment.population.values():\n",
    "    all_steps.extend([v['steps'] for v in p.history.values()])"
   ]
  },
  {
   "cell_type": "code",
   "execution_count": 29,
   "metadata": {},
   "outputs": [
    {
     "data": {
      "text/plain": [
       "269.48361421434157"
      ]
     },
     "execution_count": 29,
     "metadata": {},
     "output_type": "execute_result"
    }
   ],
   "source": [
    "np.array(all_steps).mean()"
   ]
  },
  {
   "cell_type": "code",
   "execution_count": null,
   "metadata": {
    "collapsed": true
   },
   "outputs": [],
   "source": [
    "[223.62212776908694,]"
   ]
  },
  {
   "cell_type": "code",
   "execution_count": 17,
   "metadata": {},
   "outputs": [
    {
     "data": {
      "text/plain": [
       "{0, 1}"
      ]
     },
     "execution_count": 17,
     "metadata": {},
     "output_type": "execute_result"
    }
   ],
   "source": [
    "all_steps  = set([])\n",
    "for p in experiment.population.values():\n",
    "    all_steps.update([v['action'] for v in p.history.values()])\n",
    "all_steps"
   ]
  },
  {
   "cell_type": "code",
   "execution_count": 53,
   "metadata": {},
   "outputs": [],
   "source": [
    "g = get_history(write_directory,1)"
   ]
  },
  {
   "cell_type": "code",
   "execution_count": 11,
   "metadata": {},
   "outputs": [],
   "source": [
    "def create_phi_new(history_dict,pi,global_params):\n",
    "    #these things will be accessed by the global params\n",
    "    indices = ['weather','location']\n",
    "    g0 = ['location']\n",
    "    f1=['ltps']\n",
    "    \n",
    "    ##returns phi and psi indices\n",
    "    ##this could be a bit faster not appending all the time\n",
    "    all_data = []\n",
    "    steps=[]\n",
    "    for user_id,history in history_dict.items():\n",
    "        #history = d.history\n",
    "        #history_keys = sorted(history)\n",
    "        for hk,h in history.items():\n",
    "            \n",
    "            h = history[hk]\n",
    "            if h['decision_time']:\n",
    "                v = [1]\n",
    "                v.extend([h[i] for i in indices])\n",
    "                v.append(pi*1)\n",
    "                v.extend([pi*h[i] for i in f1])\n",
    "                action = h['action']\n",
    "                if action<0:\n",
    "                    action=0\n",
    "                \n",
    "                v.append((action-pi)*1)\n",
    "                v.extend([(action-pi)*h[i] for i in f1])\n",
    "                v.append(action)\n",
    "                v.append(float(user_id))\n",
    "                v.append(float(h['study_day']))\n",
    "                all_data.append(v)\n",
    "                steps.append(h['steps'])\n",
    "    return all_data,steps"
   ]
  },
  {
   "cell_type": "code",
   "execution_count": 55,
   "metadata": {},
   "outputs": [],
   "source": [
    "p = create_phi_new(g,.6,glob)"
   ]
  },
  {
   "cell_type": "code",
   "execution_count": 12,
   "metadata": {},
   "outputs": [],
   "source": [
    "def make_history_new(write_directory,pi,glob):\n",
    "    g = get_history(write_directory,glob.decision_times)\n",
    "    ad = create_phi_new(g,pi,glob)\n",
    "    if len(ad[0])==0:\n",
    "        return [[],[]]\n",
    "    \n",
    "    new_x = preprocessing.scale(np.array(ad[0]))\n",
    "    new_y = preprocessing.scale(np.array(ad[1]))\n",
    "    y = np.array([[float(r)] for r in new_y])\n",
    "    X = new_x\n",
    "    return [X,y]"
   ]
  },
  {
   "cell_type": "code",
   "execution_count": 49,
   "metadata": {},
   "outputs": [
    {
     "data": {
      "text/plain": [
       "446.51003316358634"
      ]
     },
     "execution_count": 49,
     "metadata": {},
     "output_type": "execute_result"
    }
   ],
   "source": [
    "np.array(gr[0][0]).mean()"
   ]
  },
  {
   "cell_type": "code",
   "execution_count": 7,
   "metadata": {},
   "outputs": [
    {
     "data": {
      "text/plain": [
       "137.29867338336618"
      ]
     },
     "execution_count": 7,
     "metadata": {},
     "output_type": "execute_result"
    }
   ],
   "source": [
    "np.array(means).mean()"
   ]
  },
  {
   "cell_type": "code",
   "execution_count": 38,
   "metadata": {},
   "outputs": [
    {
     "data": {
      "text/plain": [
       "[2, 0, 0, 0, 2, 1, 0, 1, 1]"
      ]
     },
     "execution_count": 38,
     "metadata": {},
     "output_type": "execute_result"
    }
   ],
   "source": [
    "gr[1][0]"
   ]
  },
  {
   "cell_type": "code",
   "execution_count": 13,
   "metadata": {},
   "outputs": [
    {
     "name": "stdout",
     "output_type": "stream",
     "text": [
      "False\n"
     ]
    },
    {
     "data": {
      "text/plain": [
       "0.0"
      ]
     },
     "execution_count": 13,
     "metadata": {},
     "output_type": "execute_result"
    }
   ],
   "source": [
    "get_today_variance(gr[0],gr[1],gr[2])"
   ]
  },
  {
   "cell_type": "code",
   "execution_count": 14,
   "metadata": {
    "collapsed": true
   },
   "outputs": [],
   "source": [
    "def get_all_day_slices(first,last):\n",
    "    slices = []\n",
    "    day = first\n",
    "    \n",
    "    while day<last:\n",
    "        slice_one = [day]\n",
    "        #slice_one.append(day.replace(hour=23,minute=30))\n",
    "        \n",
    "        day_two = day+pd.DateOffset(days=1)\n",
    "        slice_one.append(day_two)\n",
    "        slices.append(slice_one)\n",
    "        day=day_two\n",
    "    return slices"
   ]
  },
  {
   "cell_type": "code",
   "execution_count": 8,
   "metadata": {
    "collapsed": true
   },
   "outputs": [],
   "source": [
    "def transform_to_hour(steps):\n",
    "    to_return = []\n",
    "    for i in range(0,len(steps)-1,2):\n",
    "        to_return.append(steps[i]+steps[i+1])\n",
    "    return to_return"
   ]
  },
  {
   "cell_type": "code",
   "execution_count": 35,
   "metadata": {
    "collapsed": true
   },
   "outputs": [],
   "source": [
    "def day_slices_to_median(day_slices,day_lookup,all_steps):\n",
    "    days_steps = []\n",
    "    for ds in day_slices:\n",
    "        steps = all_steps[day_lookup[ds[0]]:day_lookup[ds[1]]]\n",
    "       \n",
    "        steps = transform_to_hour(steps)\n",
    "        print(len(steps))\n",
    "        days_steps.append(np.array(steps).std())\n",
    "\n",
    "    return np.median(np.array(days_steps))\n",
    "        "
   ]
  },
  {
   "cell_type": "code",
   "execution_count": 19,
   "metadata": {
    "collapsed": true
   },
   "outputs": [],
   "source": [
    "x=get_all_day_slices(gr[3],gr[4])"
   ]
  },
  {
   "cell_type": "code",
   "execution_count": 43,
   "metadata": {},
   "outputs": [
    {
     "data": {
      "text/plain": [
       "Timestamp('2015-07-29 00:00:00', freq='30T')"
      ]
     },
     "execution_count": 43,
     "metadata": {},
     "output_type": "execute_result"
    }
   ],
   "source": [
    "gr[4]"
   ]
  },
  {
   "cell_type": "code",
   "execution_count": 13,
   "metadata": {},
   "outputs": [
    {
     "data": {
      "text/plain": [
       "[1, 2, 3, 4]"
      ]
     },
     "execution_count": 13,
     "metadata": {},
     "output_type": "execute_result"
    }
   ],
   "source": [
    "[1]+[2]+[3,4]"
   ]
  },
  {
   "cell_type": "code",
   "execution_count": 3,
   "metadata": {
    "collapsed": true
   },
   "outputs": [],
   "source": [
    "    last_index = dd[one_week_ago.date()][0]\n",
    "    \n",
    "    day_slices=get_all_day_slices(last_index,dd[i.date()][0])\n",
    "    \n",
    "    median = day_slices_to_median(day_slices,gr[2],gr[5])"
   ]
  },
  {
   "cell_type": "markdown",
   "metadata": {},
   "source": [
    "You can pass in a bunch of decision times. I just tested with one. "
   ]
  },
  {
   "cell_type": "markdown",
   "metadata": {},
   "source": [
    "Right now I think the number of people is being totally ignored. This needs to be fixed. "
   ]
  },
  {
   "cell_type": "code",
   "execution_count": 12,
   "metadata": {},
   "outputs": [
    {
     "ename": "NameError",
     "evalue": "name 'temp_indices' is not defined",
     "output_type": "error",
     "traceback": [
      "\u001b[0;31m---------------------------------------------------------------------------\u001b[0m",
      "\u001b[0;31mNameError\u001b[0m                                 Traceback (most recent call last)",
      "\u001b[0;32m<ipython-input-12-618acf68e125>\u001b[0m in \u001b[0;36m<module>\u001b[0;34m()\u001b[0m\n\u001b[0;32m----> 1\u001b[0;31m \u001b[0mx\u001b[0m\u001b[0;34m=\u001b[0m\u001b[0msim_functions\u001b[0m\u001b[0;34m.\u001b[0m\u001b[0msimulate_run\u001b[0m\u001b[0;34m(\u001b[0m\u001b[0mnum_people\u001b[0m\u001b[0;34m,\u001b[0m\u001b[0mtemp_indices\u001b[0m\u001b[0;34m,\u001b[0m\u001b[0mdecision_times\u001b[0m\u001b[0;34m)\u001b[0m\u001b[0;34m\u001b[0m\u001b[0m\n\u001b[0m",
      "\u001b[0;31mNameError\u001b[0m: name 'temp_indices' is not defined"
     ]
    }
   ],
   "source": [
    "x=sim_functions.simulate_run(num_people,temp_indices,decision_times)"
   ]
  },
  {
   "cell_type": "code",
   "execution_count": 14,
   "metadata": {},
   "outputs": [
    {
     "data": {
      "text/plain": [
       "207.01370855122792"
      ]
     },
     "execution_count": 14,
     "metadata": {},
     "output_type": "execute_result"
    }
   ],
   "source": [
    "np.array(x).mean()\n",
    "#np.array(x).std()"
   ]
  },
  {
   "cell_type": "code",
   "execution_count": 15,
   "metadata": {},
   "outputs": [
    {
     "data": {
      "text/plain": [
       "267.8619020654599"
      ]
     },
     "execution_count": 15,
     "metadata": {},
     "output_type": "execute_result"
    }
   ],
   "source": [
    "np.array(x).mean()\n",
    "np.array(x).std()"
   ]
  },
  {
   "cell_type": "code",
   "execution_count": null,
   "metadata": {
    "collapsed": true
   },
   "outputs": [],
   "source": [
    "2-2-0-1-1-0-0-1"
   ]
  },
  {
   "cell_type": "code",
   "execution_count": 5,
   "metadata": {
    "collapsed": true
   },
   "outputs": [],
   "source": [
    "root =  '../../../../Volumes/dav/HeartSteps/pooling_rl_shared_data/temporary/'\n",
    "data_root =  '../../../../Volumes/dav/HeartSteps/pooling_rl_shared_data/distributions/'\n"
   ]
  },
  {
   "cell_type": "code",
   "execution_count": 9,
   "metadata": {
    "collapsed": true
   },
   "outputs": [],
   "source": [
    "with open('../../../../Volumes/dav/HeartSteps/pooling_rl_shared_data/distributions/steps_both_groups_logs_dosage_estf.pkl'.format(),'rb') as f:\n",
    "    df = pickle.load(f)"
   ]
  },
  {
   "cell_type": "code",
   "execution_count": 10,
   "metadata": {},
   "outputs": [
    {
     "data": {
      "text/plain": [
       "dict_keys(['2-0-2-1-2-1-0-3-18', '2-1-1-1-0-1-0-3-77', '2-0-0-0-3-3-0-3-9', '2-0-2-0-2-2-0-4-37', '2-1-2-1-0-1-0-4-70', '2-0-1-0-2-0-0-4-35', '2-1-2-1-0-1-0-3-13', '2-0-2-2-2-0-0-4-48', '2-0-1-1-2-1-0-3-28', '2-0-0-2-1-1-0-3-8', '2-0-2-0-2-0-0-3', '2-1-1-1-0-2-0-4-78', '2-0-1-1-2-1-0-3-31', '2-0-1-1-1-1-0-4-70', '2-0-1-2-1-3-0-4-66', '2-0-2-1-0-1-0-3-31', '2-0-1-2-0--1-0-4-25', '1-0-2-0-3-0-0-4-16', '2-1-2-0-3-2-0-4-3', '2-0-0-1-0-1-0-3', '2-1-1-1-1-1-0-3-18', '2-1-1-0-1-1-0-4-53', '2-1-2-2-1-1-0-4-35', '2-0-1-2-0--1-0-3-31', '2-0-1-2-0-3-0-4-64', '2-0-2-1-1-2-0', '1-1-1-0-3-3-0-3-38', '2-0-0-1-2-1-0-4-77', '2-0-2-2-1-1-1', '2-0-1-2-1-2-0', '2-0-2-2-0-2-1-3-3', '2-0-1-1-1-1-1-3-9', '1-0-2-0-0-0-0-4-94', '2-0-2-1-1-2-0-3-22', '2-0-1-2-0-0-1-4-9', '2-0-2-0-2-2-0-4-39', '2-1-1-1-2-0-0-4-91', '2-0-2-1-0-2-0-3-21', '2-0-1-0-0-0-0-4-38', '2-0-2-1-0-3-0-3-96', '2-0-2-0-0-1-1-4-1', '2-0-1-1-2-0-0-3-47', '2-0-1-1-1-2-0-4-9', '2-0-1-0-1-1-0-4-30', '2-0-1-1-0-2-0-3-53', '2-1-1-1-0-0-0-4-95', '2-1-1-1-2-1-0-3-8', '2-1-2-1-2-0-0-4-41', '2-0-2-2-2-2-0-3-61', '2-1-2-1-2-1-0-4-81', '1-0-1-0-0-3-0-4', '2-0-1-0-3-0-0-3-53', '2-0-1-2-0-2-0-4-69', '2-0-2-2-2-1-0-4-76', '2-0-2-1-1-0-0-3-72', '2-0-2-1-0-1-0-3-37', '2-1-2-1-3-2-0-3-7', '2-0-1-1-3-1-0-4-41', '2-0-1-1-1-0-0-4-50', '2-0-1-1-3-0-0-3-35', '1-1-2-2-2-0-0-4-13', '2-1-2-0-1-1-0-4-72', '2-0-1-1-3-0-0-3-29', '2-0-1-1-3-0-0-3-57', '1-1-1-1-2-3-0-3-20', '2-0-2-1-1-1-0-1-45', '2-0-1-2-0-0-0-4-17', '1-0-2-0-3-3-0-4-36', '2-1-2-1-0-1-0-3-84', '2-1-2-1-2-1-0-4-14', '1-0-2-1-3-0-0-3-98', '2-0-1-1-2-0-0-4-65', '2-0-2-1-2-0-0-4-42', '2-0-0-2-1-0-0', '2-0-2-0-2-0-0-4-47', '2-0-2-1-1-3-0-4-28', '2-0-2-0-2-1-0-3-17', '1-1-1-1-3-1-0-4-54', '1-1-1-1-0-0-0-4-38', '2-1-2-0-1-0-0-4-53', '2-0-2-0-2-0-0-2-45', '1-1-1-0-3-2-0-4-49', '2-0-2-0-2-0-0-4-10', '2-0-2-1-0-3-0-4-96', '2-0-1-1-0-0-0-4-15', '2-1-1-0-1-0-0-3-47', '2-1-1-2-2-3-0-3', '2-0-1-1-2-0-0-4-49', '2-1-2-0-1-0-0-4-63', '2-1-2-1-0-0-0-3-27', '2-0-1-0-0-2-1-4', '2-1-1-1-1-0-0-3-4', '1-0-2-0-1-3-0-3-100', '2-1-1-1-0-0-0-4-45', '2-0-1-1-2-2-0-4-46', '2-0-2-0-2-2-0-4-70', '2-0-1-1-2-2-0-3-6', '1-0-1-2-1-0-0-4', '2-0-1-1-2-0-0-4-60', '2-1-1-1-2-3-0-3-7', '2-0-1-2-1-0-0-3-41', '2-1-2-1-1-0-1-3-8', '2-1-1-1-0-0-0-4-38', '2-0-1-2-2-3-0-4-42', '2-0-1-1-0-1-0-4-37', '2-1-1-0-2-2-0-4-62', '2-1-1-2-2-3-0-4', '2-1-1-1-2-3-0-4-63', '2-1-1-0-2-1-0-4-86', '2-0-2-1-1-2-0-4-23', '2-0-1-2-0-0-0-4-33', '1-0-1-1-3-0-0-3-15', '2-0-2-1-2-3-1-4-5', '2-0-1-1-3-2-0-4-24', '2-0-2-0-2-1-0-3-1', '2-0-2-1-2-2-0-4-84', '2-0-2-2-1-2-1-3', '2-0-2-1-2-1-0-4-37', '2-1-0-1-0-1', '2-0-2-1-0-2-0-4-43', '2-0-2-1-0-0-0-4-56', '1-0-2-1-2-0-0-4-87', '2-1-1-0-0-0-1-3-1', '1-1-2-1-2-0-0-4-35', '2-0-1-0-0-1-0-3-76', '2-0-1-1-0-1-0-4-50', '2-0-1-2-1-1-0-3-23', '2-1-1-1-1-2-0-3-63', '2-0-2-1-2-1-0-4-50', '2-0-2-0-3-1-0-4-11', '2-0-1-1-2-0-0-3-59', '1-1-2-1-2-2-0-3-22', '2-0-2-1-2-1-0-3-78', '2-0-1-1-0-1-0-3-32', '2-1-2-1-1-3-0-4-4', '1-0-1-1-1-3-0-4-59', '2-1-1-1-1-1-1-3', '1-0-2-1-2-0-0-4-32', '2-0-1-2-2-3-0-4-35', '2-1-2-1-2-1-0-3-13', '2-0-2-2-1-2-0-3-44', '1-0-2-2-3-3-0-4-52', '2-1-1-2-2-2-0-4-54', '2-0-1-1-2-1-1-4-1', '2-0-1-1-3-1-0-4-37', '1-0-1-2-3-0-0-4-51', '2-1-1-2-0-1', '2-0-1-1-0-3-0-3-8', '2-1-1-1-2-0-0-3-7', '2-0-2-0-0-0-0-3-97', '2-0-1-2-1-0-0-4-98', '2-0-2-1-3-1-0-3-37', '2-1-2-0-2-', '2-0-2-2-2-3-0-4-89', '2-0-2-1-0-2-0-3-99', '2-1-2-1-1-3-0-4-55', '2-0-2-1-1-3-1-4', '1-0-1-1-1-0-0-4-31', '2-0-2-2-1-1-0-4-98', '2-0-2-1-0-0-0-3-71', '2-1-2-1-0-1-0-4-18', '2-1-1-1-1-2-0-4-20', '2-0-2-1-1-1-0-4-5', '2-0-2-0-1-3-0-4-38', '1-1-2-0-2-0-0', '1-0-1-1-3-0-0-4-88', '2-0-2-0-2-3-0-4-73', '2-1-1-1-2-3-0-3-28', '1-0-2-1-2-0-0-4-41', '1-0-2-1-3-2-0-4-9', '1-1-2-2-3-0-0-3-50', '2-0-2-1-0-1-0-4-33', '2-0-2-1-1-3-1-3', '2-1-0-2-2-1-0-4-84', '2-0-2-0-0-0-0-4-80', '1-1-1-1-2-3-0-4-53', '2-0-2-0-2-3-0-4-4', '2-1-1-2-0-0-0-3-43', '2-1-1-1-1-1-0-3-58', '1-1-0-1-2-3-0-3-99', '2-0-1-1-0-2-0-4-26', '2-0-2-1-0-1-1-4-1', '2-0-2-1-1-0-0-4-85', '2-1-0-1-1-1-0-3-16', '2-0-1-1-2-0-1-4-5', '2-0-2-0-1-1-0-4-9', '2-0-1-1-3-0-0-4-93', '1-0-1-1-2-1-0', '2-1-1-1-0-0-0-4-59', '1-0-2-1-2-0-0-3-52', '2-1-1-0-2-2-0-4-66', '2-1-2-2-2-3-0-4-46', '2-0-2-1-1-2-0-3-65', '2-0-2-0-2-3-0-3-100', '1-1-2-1-1-2-0', '2-0-2-1-1-0-0-3-31', '2-0-1-0-1-2-0-4-53', '2-1-1-0-2-1-1', '1-0-1-1-3-2-0-4-20', '1-0-2-2-2-2-0-4', '2-1-1-0-2-1-0-4-74', '2-0-2-1-2-1-0-4-71', '2-0-2-0-2-0-0-4-69', '2-0-1-1-2-3-0-4-33', '2-1-1-1-2-2-0-3-77', '2-1-2-0-0-1-0-3-68', '2-1-2-1-0-1-0', '2-1-0-1-2-0-0-3-94', '1-0-1-1-3-0-0-4-18', '2-0-1-0-1-1-0-3-20', '2-0-2-1-2-0-0-3-35', '2-0-2-2-0-0-0-3-85', '1-1-1-1-1-1-0-4-99', '2-1-2-1-1-2-0-4-24', '2-1-1-1-0-0-0-3-8', '2-1-2-2-2-3-0-4-22', '2-0-2-1-2-3-1-3-7', '2-0-2-2-1-0-0-4-74', '2-0-2-1-2-0-0-4-62', '2-1-2-0-2-0-0-4-100', '2-1-2-1-2-2-0-4-85', '1-0-1-1-2-0-0-4-33', '2-0-2-1-0-1-0-3-5', '2-0-1-1-3-3-0-4-16', '2-0-2-0-0-0-0-4', '1-0-1-1-0-1', '2-1-2-2-0-0-0-3-77', '2-1-1-1-2-1-0-3-62', '2-0-2-1-3-0-0-4-3', '2-1-2-0-2-0', '2-1-2-1-0-2-0-4-100', '2-1-1-1-3-3-0-3-3', '2-0-2-1-0-0-0-3-16', '2-0-1-1-0-0-0-3-26', '2-0-1-0-0-3-0-4-97', '2-0-0-1-0-0-0-3-45', '2-0-1-1-1-2-0-4-12', '2-0-1-1-2-0-0-3-48', '2-0-0-1-2-0-0-3-34', '2-1-1-1-0-0-1', '2-1-2-1-0-0-0-4-32', '2-0-2-0-1-1-0-4-14', '1-0-1-1-3-0-0-4-25', '2-0-2-1-1-1-0-4-93', '2-1-2-1-1-1-0-3-17', '2-1-1-1-1-2-0-3-2', '2-1-1-1-2-3-0-4-34', '2-1-2-1-2-2-0-3-66', '2-1-2-1-1-1-0-3-13', '2-0-1-2-1-2-0-4-60', '2-0-2-2-1-3-0-3-34', '2-1-2-1-1-2-0-4-62', '1-0-2-2-2-0-0-4', '2-0-2-1-3-3-0-4-21', '2-0-2-0-3-1-0-3-48', '2-0-1-1-2-1-0-4-10', '2-0-1-2-1-1-0-3', '2-1-2-1-0-0-0-4-73', '2-1-1-1-1-0-0-4-41', '2-1-1-1-3-0-0-4-1', '2-1-2-1-1-1-0-4-31', '2-0-0-1-2-0-0-3-65', '2-0-1-2-1-0', '1-0-1-2-1-0-0-4-49', '2-0-1-0-0-2-1-4-1', '2-0-2-0-2-0-0-3-38', '2-1-1-1-3-3-0-3-43', '1-0-2-1-3-3-0-3-35', '2-1-0-2-3', '2-0-2-1-1-2-0-4-87', '1-0-1-1-1-2-0-4-100', '2-1-2-1-3-3-0-3-31', '2-0-1-1-0-2-1-4-7', '1-1-1-0-2-3-0-4', '2-0-2-1-2-2-0-4-82', '2-0-0-1-0-2-0-3-71', '2-1-1-0-2-0-0-3-81', '2-0-2-1-2-1-0-4-20', '1-0-1-1-1-3-0-4-54', '2-0-2-2-3-0-0-4-1', '1-0-1-1-2-0-0-3-64', '2-0-2-1-0-3-0-4-25', '1-0-0-1-1-1-0-3-41', '2-0-1-0-1-2-0-3-55', '2-0-2-1-0-0-0-4-45', '2-0-1-1-3-3-0-4-35', '1-0-2-1-2-0-0-3-39', '2-0-2-1-1-1-0-4-59', '1-0-0-1-3-1-0-3', '2-0-2-1-1-0-0-4-20', '2-0-1-0-2-3-0-3-14', '2-0-0-2-1--1-0-4', '1-1-1-1-3-1-0-4-99', '2-0-1-1-2-0-1-4', '2-0-2-1-3-0-0-1-49', '2-1-2-0-2-2-0-4', '2-0-2-0-1-2-0-4-44', '2-0-1-1-1-0-0-3-41', '2-0-2-0-3-0-0-4-52', '2-1-2-1-2-2-0-4-98', '1-0-1-1-2-3-0-4-42', '2-0-2-1-0-2-0-4-23', '1-1-2-1-3-3-0-3-4', '2-0-2-1-0-0-0-4-84', '2-0-2-0-0-0-0-3-71', '2-1-2-1-0-0-0-4-97', '2-1-2-1-2-0-0-3-95', '2-0-2-1-2-1-0-3-5', '2-0-1-1-2--1-0-3-67', '2-0-2-1-0-1-0-4-63', '2-0-2-1-0-1-0-3-62', '2-0-2-1-2-1-0-3-44', '2-1-1-1-2-1-0-3-12', '1-1-2-1-2-3-0-4-55', '2-0-2-1-0-1-0-4-71', '2-0-2-2-1-1-0-4-86', '2-0-2-0-1-0-0-4-38', '2-0-1-1-1-3-1-4-1', '2-0-2-2-1', '2-0-1-0-3-', '2-0-1-1-2-2-0-4-83', '2-1-2-1-2-1-0-3-65', '2-1-1-1-2-1-0-4-77', '2-0-1-1-1-2-0-4-89', '2-0-1-1-0-2-0-3-49', '2-1-2-0-2-3-0-4-12', '2-0-0-0-0--1-0-3', '2-1-2-1-1-2-0-4-20', '2-1-2-1-0-3-0-4-76', '2-1-2-0-2-3-0-3-48', '2-1-2-1-3-3-0-4-74', '2-0-0-0-1-0-0-3-81', '1-1-1-0-2-0-0-4-87', '1-0-2-2-3-0-0-4-14', '2-0-2-1-2-1-0-4-41', '1-1-1-1-3-3-0-4', '2-0-1-0-2-0-1-3-8', '2-1-0-1-3-0-0-3-96', '1-0-1-1-1-2-0-3-100', '2-1-1-1-2-0-0-3-73', '2-0-1-1-0-1-0-4-100', '2-1-0-1-2-0-0-4-10', '1-1-1-1-3-3-1-4', '2-1-2-0-1-1-0-3-8', '2-0-2-2-1-2', '2-0-1-1-1-1-0-4-69', '2-1-1-1-1-3-0-4-85', '2-0-1-1-3--1-0-3', '2-0-2-0-0-2-0-4-24', '2-0-2-0-1-2-0-4-30', '2-0-2-0-2-1-0-4-52', '1-0-1-1-2-3', '2-0-2-1-2-2-0-4-43', '1-0-1-0-3-2-0', '1-0-0-1-2-0-0', '2-0-1-1-0-1-0-3-4', '2-0-2-1-2-2-0-4-15', '1-0-0-1-2-0-0-3-55', '2-1-2-1-1-0-0-4-61', '2-0-2-2-1-0-0-4-28', '2-0-1-1-1-0-0-3-69', '2-1-1-1-0-3-0-4-54', '2-0-2-1-2-3-0-3-96', '2-0-1-0-1-0-0-4-40', '2-0-2-1-1-1-0-3-7', '2-0-1-1-1-2-0-3-26', '1-1-1-0-2-1-0-4-61', '1-0-2-1-2-0-0-3-22', '2-1-2-2-0-3', '2-0-2-2-2-2-1-4-4', '2-1-2-1-2-0-0-4-96', '2-0-1-1-2-1-0-4-84', '2-0-1-1-2-2-0-4-76', '2-0-2-1-0-0-0-1', '2-0-2-0-0-3-1-3-1', '2-0-1-1-2-1-0-3-94', '2-0-2-1-1-1-0-4-8', '2-1-1-1-0-3-0-3-81', '2-0-2-2-2-3-0', '2-0-2-0-2-0-0-4-20', '2-0-1-2-1-2-0-4-32', '2-1-2-1-0-3-0-4-26', '2-0-1-1-1-1-0-4-99', '2-1-2-1-1-0-0-4-46', '2-0-1-2-1-2-0-4-11', '1-0-0-1-3-2-0-4', '2-0-1-1-3-3-0-4-17', '2-0-1-1-2-1-0-3-39', '2-1-2-1-2-1-0-4-51', '2-0-2-1-1-0-0-3-27', '2-0-1-1-3-2-0-3-33', '2-0-2-0-2-2-0-4-11', '2-0-1-2-0-3-0', '2-1-1-0-3-1-0-3-51', '2-1-1-2-0-3-0-3', '2-0-2-0-1-3-0-4-87', '2-0-1-0-1-3-0-3-83', '1-1-2-0-2', '2-1-0-1-2-0-0-4-54', '2-0-2-2-0-0-0-4-56', '2-1-2-1-1-1-0-4-47', '2-0-2-0-2-2-0-3-75', '2-0-1-1-2-2-0-3-33', '2-1-2-2-1-0-0-4-55', '2-0-1-1-0-1-0-3-95', '2-0-1-2-0-3-0-4-81', '2-0-1-1-0--1-0-4', '2-0-1-1-0-0-0-4-17', '2-1-1-1-0-0-0-4-70', '2-1-2-1-0-1', '2-1-2-0-2-2-0-4-20', '2-1-0-0-1-0-0-3', '1-0-0-1-3-0-0-4-27', '2-1-1-1-2-0-0-4-7', '1-0-1-1-2-0-0-4-64', '2-0-1-1-3-2-0-4-29', '2-1-1-2-1-1-0-4-37', '2-0-1-1-0-2-0-3-76', '2-1-1-0-1-3-0-4', '2-0-1-0-1-0-0-4-75', '2-0-1-0-2-3-0-4-6', '2-0-2-1-0-3-0-4-77', '1-1-2-1-2-1', '1-0-2-1-2-0-1-4-1', '1-0-1-2-0-0-1-4', '2-0-2-1-2-2-0-4-45', '2-1-2-1-1-2-0-4-43', '2-0-1-0-0-1-0-4-26', '2-0-1-0-2-0-0-4-9', '2-0-1-1-0-1-0-4-27', '1-0-1-0-3-3-0-4-41', '2-0-1-1-0-1-0-4-92', '2-1-2-2-3-2-0-4-1', '2-1-0-1-0-0-0-3-69', '2-0-1-1-1-1-0-4-26', '1-1-1-0-3-1-1', '1-0-0-1-2-0-1-3-2', '1-1-2-1-3-1-0-4-54', '1-1-2-1-2-1-0-4-26', '2-0-1-0-2-0-0-3-74', '2-0-0-1-1-1-0-3-99', '2-1-2-1-0-3-0-4-99', '2-0-2-0-0-1-0-3-52', '2-1-1-0-1-3-0-3-11', '2-0-2-1-3-0-0-1', '2-0-2-0-1-0-0-4-16', '2-1-1-1-1-2-0-4-83', '1-1-1-2-2-3-0', '2-0-0-1-0-2-0-3-57', '2-0-1-0-1-0-0-3-43', '2-1-1-1-1-3-0-4-65', '2-0-1-1-0-2-0-3-20', '2-1-0-1-2-2', '2-0-2-2-1-3-0-3-72', '2-1-2-1-2-3-0-4-57', '1-1-2-1-2-3-0', '2-1-2-1-1-3-0-4-45', '1-0-2-1-2-3-0-4-2', '2-0-2-0-0-1-0-4-78', '1-1-1-2-2-3-0-4', '2-1-2-1-3-1-0-4-8', '1-0-1-1-3-0-0-4-3', '2-0-2-1-0-2-0-4-36', '2-0-2-0-2-3-0-3-10', '2-0-2-1-2-3-0-4-93', '2-0-1-1-1-3-0-4-97', '1-1-1-0-3-0-0-4', '2-0-1-1-2-0-0-4-16', '1-1-2-1-3-0-1-4-3', '2-0-1-1-3-3-0-4-44', '2-0-2-2-3-3', '1-1-1-1-0', '2-1-2-1-1-2-1-4-1', '1-0-2-2-3-3-0-4-58', '2-0-1-1-1-2-0-3-98', '1-0-1-0-3-2-0-4-20', '2-0-2-2-1-0-0-4-51', '2-1-1-0-0-0-0-3-99', '2-1-1-0-3-3-0-4-2', '1-0-2-2-1-3-0-4-52', '1-1-1-0-3-2-0-4', '2-1-1-1-0-0-0-3-9', '2-0-1-0-0-3-0-4-69', '2-0-0-1-2-3-0-3-34', '2-0-2-2-0-3-1-4-1', '1-0-1-0-3-3-0-4-33', '2-0-2-1-0-2-0-4-41', '2-1-1-1-0-1-0-4-16', '2-0-2-0-1-1-0-4-46', '2-0-1-1-2-1-0-3-34', '2-1-1-1-2-3-0-3-1', '2-0-2-1-0-1-0-4-57', '2-0-1-0-0-0-0-4-75', '2-0-2-1-2-3-0-3-55', '1-1-2-1-3-3-0-4-20', '2-1-1-1-2-2-0-4-64', '1-1-2-0-3-0-0', '2-0-1-0-2-2-0-3-55', '1-0-1-1-3-2-0-3-56', '2-1-1-0-0-2-0-4-100', '2-1-2-1-0-3-0-4-39', '2-0-1-0-3-0-0-4-100', '2-0-2-1-2-2-0-4-56', '2-0-0-0-1', '2-1-2-0-2-1-0-4-39', '2-1-1-0-2-1-0-4-34', '2-0-2-1-2-0-0-3-31', '2-1-1-1-0--1-0-3-99', '2-1-0-1-2-1-0-3-99', '2-1-2-1-1-0-0-4-42', '2-0-1-1-0-2-0-4-27', '2-1-1-1-0-0-0-4-15', '2-1-1-1-0-2-0-3-37', '2-0-1-0-3-3-0-4-48', '2-1-0-0-3-2', '2-1-2-1-2-3-0-4-67', '2-0-2-0-2-0-0-4-95', '2-0-1-2-0-0-0-4-80', '1-0-1-1-2-0-0-4-85', '2-1-2-2-1-3-0-4-18', '1-1-1-1-2-3-0-3-75', '1-1-1-1-3-3-0-3-100', '2-0-1-1-1-1-0-4-5', '2-0-2-1-0-0-0-4-63', '2-0-1-0-0-0-0-3-92', '2-1-1-0-3-0-0-4-51', '2-0-1-1-3-2-0-3-47', '2-1-2-1-1-0-0-3-4', '1-0-1-0-0-2-0-3', '2-0-1-1-1-1-0-1-45', '1-1-1-1-2-0-0-3-87', '2-1-2-1-0-0-0-2-82', '2-0-2-1-3-3-0-4-49', '2-1-2-0-0-3-0-3-100', '2-0-1-0-2-2-0-3-38', '2-1-2-1-2-1-0-3-31', '2-0-1-0-2-0-0-3-73', '2-0-2-0-1-0-0-4-36', '2-0-1-1-0-2-0-3-99', '2-1-2-1-0-0-0-3-16', '2-0-2-1-2-1-0-4-53', '2-1-2-1-1-2-0-4-85', '2-1-1-1-2-3-0-4-36', '2-1-2-1-0-3-0-3-75', '2-0-1-1-2-0-0-3-63', '1-0-2-1-2-2-1-3', '2-0-1-1-0-1-0-4-60', '2-0-1-1-2-3-1-4-5', '2-0-1-0-1-3-0-4-45', '2-0-1-1-3-2-0-4-38', '2-1-1-1-3-2-0-3-89', '2-1-2-1-3-2-0-4-30', '2-0-1-0-0-2-0-4-99', '2-0-2-0-2-0-0-4-33', '2-1-1-1-3-1', '2-0-1-1-0-2-0-3-57', '2-0-1-1-1-3-0-3-65', '2-1-2-2-0-1-0-3-93', '1-1-2-1-2-2-0', '2-0-2-0-0-0-0-3-94', '2-0-2-0-3-3-0-4-49', '2-1-2-1-2-2-0-4-97', '2-1-2-1-3-2', '2-0-2-1-3-1-1-4', '2-0-2-1-2-0-0-2-44', '2-0-1-0-2-1-0-4-77', '1-0-2-1-0-1-0-3-53', '2-1-2-1-0-0-0-3-17', '2-1-2-1-0-1-0-3-57', '2-0-2-2-1-0', '2-0-1-0-0-0-0-4-76', '2-1-2-0-1-3-0-4-48', '2-0-1-0-2-1-0-4-12', '2-0-2-1-0-1-0-4-17', '2-0-2-0-3-0-0-4-12', '2-0-2-1-1-1-0-4-35', '1-0-1-0-2-0-0-3-34', '2-0-1-1-3-1-0-3-53', '2-0-2-0-3-3-0-3-34', '2-0-2-0-2-3-0-4-12', '2-0-2-2-2-2-0-3-64', '2-0-1-0-1-0-0-4-56', '2-0-1-0-1-0-0-4-44', '2-0-2-1-0-1-0-4-10', '2-0-2-0-2-2-0-4-9', '2-0-1-0-0-0-0-4-98', '2-1-1-1-1-3-1-3-1', '1-1-0-1-3-2-0', '2-0-2-0-2-1-0-4-63', '2-0-1-1-1-0-0-4-66', '2-1-1-1-2-3-0-4-65', '2-0-2-1-2-3-0-4-31', '2-1-2-0-0-3-0-4-56', '2-1-1-2-2-0-0-3-90', '2-0-2-0-0-0-0-4-53', '1-1-2-1-0-0-0-4-99', '2-0-1-1-1-0-0-3-88', '2-1-2-1-0-3-0-4-75', '1-1-2-1-2-1-0-3-60', '2-0-2-0-2-1-0-4-26', '2-0-2-2-2-0-0-3-36', '1-0-1-0-3-2-0-3', '2-0-2-1-1-2-0-4-30', '2-0-1-2-2-1-0', '1-0-1-1-3-0-0-4-68', '2-0-1-1-0-1-0-4-84', '1-1-1-1-2-0-0-4-52', '2-0-1-0-2-3-0-4-37', '2-1-1-2-0-0-0-3-80', '2-0-2-1-1-0-0-4-6', '2-0-2-1-0-1-0-3-82', '2-1-1-1-2-3-0-3-90', '2-0-1-1-2-2-0-3-68', '2-0-1-2-0-0', '1-0-1-1-0-2-1-4', '2-0-0-1-2-1-0-3-48', '2-1-1-1-0-0-0-4-42', '2-1-1-2-0-0-0-4-83', '2-0-2-1-2-3-0-3-26', '2-0-2-2-0-3-0-4-7', '2-0-2-1-2-1-0-4-63', '1-0-1-0-3-1-0-4-21', '2-1-1-1-1--1-0-3-88', '2-0-0-1-2-3-0-3-100', '1-0-1-1-3-2-0-4-29', '1-0-2-1-2-2-0-4-27', '1-1-0-1-2-2-0-3', '2-0-2-1-2-3-0-4-34', '2-0-2-1-2-1-0-4-36', '1-0-1-0-3-3-0-4-49', '2-0-1-1-0-0-0-4-28', '1-1-2-1-3-2-0-3-18', '1-0-1-1-3-0-0-4-31', '2-0-2-0-0-3-0-4-54', '2-1-2-1-2-0-0-3-40', '1-0-2-0-0-0-0-4-23', '2-1-1-1-2-2-0-4-40', '2-0-1-0-3-0-0-4-99', '2-0-2-1-0-2-0-4-47', '2-1-2-1-0-1-0-4-27', '2-0-2-0-1-1-0-3', '2-0-1-2-0-0-0-4-26', '2-0-2-1-0-0-0-4-2', '2-0-0-1-1-0-0-3-1', '2-1-2-1-1-0-0-4-23', '2-0-2-1-0-0-0-3-26', '2-0-1-1-0-1-0-4-25', '2-0-1-1-1-1-0-3-57', '2-1-2-1-3-2-0-4', '2-0-1-1-1-0-0-3-26', '2-0-0-1-0--1-0-3-5', '1-0-2-0-1-2-0', '1-0-2-1-0-0-1-4-1', '2-1-1-1-2-1-0-4-58', '2-1-2-1-2-2-0-4-32', '2-0-1-1-2-3-0-3-37', '2-0-1-1-1-0-0-3-82', '2-1-2-2-2-0-0-4-78', '2-0-1-0-0-0-0-3-17', '2-0-1-1-2-3-0-4', '2-1-1-1-2-2-0-3-98', '2-1-1-0-2-3-0-4-56', '2-0-2-1-1-2-0-3-43', '1-1-2-1-2-0-0-3-25', '2-0-1-1-0-0-0-3-55', '1-0-1-2-3-1-0-4-84', '2-1-1-1-0-2', '2-0-2-1-2-3-0-4-59', '2-0-1-2-1-3-0-4-61', '2-0-2-1-1-1-1-4', '2-0-1-0-1-1-0-3-6', '2-1-2-2-1-2-0-4-61', '2-0-2-0-1-1-0-3-23', '2-1-2-1-0-1-0-3-99', '1-0-1-0', '2-0-2-1-2-0-0-4-93', '1-0-2-1-1-2-0-3-58', '2-1-1-0-0-0-0-4-96', '2-1-0-1-0-0-0-3-42', '2-0-1-1-0-3-0-3-35', '2-0-2-1-2-0-0-4-39', '2-0-1-1-1-1-0-4-53', '1-1-1-1-2-3-0-4-89', '2-0-2-1-1-2-0-4-53', '2-0-2-2-2-0-0-4-19', '2-0-2-2-2-3-0-4', '2-0-0-1-1-0-0-3-70', '1-1-1-1-3-3-0-4-81', '2-0-2-0-1-2-0-4-14', '1-0-0-1-0-3-0', '2-1-2-1-0-2-0-4-88', '2-0-2-0-0-3-0', '2-0-0-1-1--1-0-3-100', '2-0-2-1-1-2-0-4-88', '2-1-1-1-0-2-0-3-17', '2-0-1-0-3-1-1-4-3', '2-0-1-2-3-3-0', '2-0-1-0-1-1-0-4-41', '2-0-2-1-0-0-0-3-74', '2-0-1-1-2-2-0-4-100', '1-0-0-2-2-1-0-4-70', '1-0-1-1-3-0-0-4-5', '2-0-2-0-2-0-0-4-55', '2-1-1-2-2-3', '2-0-2-1-2-2-0-4-9', '2-0-2-1-1-2-1-4-5', '2-0-0-1-2-1-0-3-87', '2-0-2-0-1-3-0-3-46', '2-1-1-1-1-2-0-4-76', '2-1-2-0-1-2-0-3-41', '2-1-1-1-0-2-0', '2-0-1-1-3-1-0-4', '2-1-0-1-2--1-0', '2-1-1-1-1-1-0-4-70', '2-0-1-2-0-0-0-3-12', '2-0-2-0-2-0-0-4-45', '2-1-2-1-2-3-0-3-91', '1-0-1-1-2-0-0-4', '2-0-0-1-0-3-0-3-73', '1-1-1-1-3-3-1-4-3', '2-0-1-1-1-2-0-3-81', '2-0-2-1-0-2-1-3-2', '2-0-1-2-0-1-0-4-5', '2-1-1-0-0-1-1-4-1', '1-1-1-1-3', '2-0-1-1-2-2-0-3-35', '1-0-1-1-2-0-0-3-73', '1-0-0-2-3-1-0-4', '1-0-1-1-2-3-0-4-88', '2-0-2-1-2-1-0', '2-1-2-1-2-3-0-4-5', '2-0-1-0-1-2-0-4-30', '2-1-1-0-0-0-0-4-58', '1-0-1-1-1-0-0-3-42', '1-0-2-1-2-0-0-4-37', '2-0-1-1-0-1-0-3-77', '2-1-2-1-2-0-0-4-100', '2-0-2-1-1-3-0-3-15', '2-0-0-1-0-1-0-3-5', '1-0-2-1-3-3-0-4-99', '2-0-2-2-0-2-0-4-8', '2-0-1-1-0-3-0-4-77', '2-0-2-0-1-0-0-3-61', '2-0-1-0-2-3-0-4-76', '2-1-1-0-2-0-0-4-61', '2-0-2-0-2-2-0-4-61', '2-1-1-0-2-0-0-4-21', '1-0-2-0-2-0-0-4-1', '1-1-2-0-3-0-0-3', '2-0-2-1-1-1-0-3-78', '2-0-1-1-0-2-0-4-17', '2-0-1-1-2-3-0-4-67', '1-1-1-1-3-3-0-1', '1-1-2-2-2-2-0-4-87', '2-0-0-1-1-1-0-3-42', '2-1-1-0-2-3-0-4-19', '1-1-1-0-3-2-0-3-49', '1-1-2-1-2-2-0-4-62', '2-1-2-0-1-2-0-4-42', '2-1-1-1-2-2-0-4-1', '1-0-1-1-1-0-0-4-57', '2-1-1-1-1-0-0-3-42', '2-0-1-1-1-3-0-3-22', '2-0-1-0-1-0-0-4-80', '2-1-1-1-2-3-0-3-97', '2-1-1-0-2-2-0-4-75', '2-0-1-0-1-0-0-4-29', '2-0-2-1-0-2-0-4-58', '1-0-1-1-3-0-0-3-31', '2-0-1-1-0-2-0-3', '2-0-1-2-0-1-0-4-96', '2-0-1-1-1-3-0-4-28', '2-1-2-1-1-0', '2-0-1-0-1-1-0-3-70', '1-0-1-1-2-1-0-4-73', '2-0-1-1-1-2-1-3', '2-1-1-2-1-0-0-4-17', '2-1-1-2-2-0-0-3-71', '2-0-1-0-2-0-0-4-47', '2-0-1-0-2-3-0-4-2', '1-1-2-1-0-2', '2-0-1-1-0-0-1-3', '2-1-2-1-0-3-0-4-47', '2-1-2-1-1-0-0-3-38', '2-0-1-0-1-0-0-4-67', '2-1-1-2-0-1-0-4-85', '2-0-2-1-2-2-1-4-3', '2-0-1-2-2-2', '2-0-2-0-2-3-0-4-15', '2-0-2-0-1-2-0-4', '1-1-2-1-2', '2-0-2-1-1-2-0-4-6', '2-0-1-0-2-0-0-4-77', '2-0-2-0-2-2-0-3-7', '2-1-1-2-0-0-0-4-44', '1-0-1-1-0-0-0-3-97', '2-1-1-0-1-2-0-4-44', '2-1-1-1-0-0-0-3-72', '1-0-2-1-3-3-0-4-14', '2-0-2-0-1-3-0-3-5', '2-1-2-1-3-0-0-4-74', '2-0-0-1-2-2-0-3-1', '2-0-2-1-2-1-0-3-45', '2-1-2-1-3-0-0', '2-0-0-1-1-3-0-3-23', '2-1-2-1-0-3-1-4-4', '2-0-1-1-0-2-0-3-25', '2-0-1-0-2-2-0-3-82', '2-0-2-0-2-0-0-4-46', '2-0-2-1-0-0-0-3-44', '2-1-1-0-1-3-0-4-10', '2-0-1-1-0-3-0-4-56', '1-0-2-2-2-0-0', '2-1-2-1-0-3-0-4-88', '2-0-0-1-0-0-0-3-60', '2-1-1-1-0-0-0-4-19', '2-0-1-1-0-1-0-4-64', '2-0-1-1-1-0-0-3-3', '1-0-2-2-1-1-0-3-100', '2-0-1-0-2-0-0-4-29', '1-0-2-2-1-2-0-4-98', '2-1-1-1-2-0-0-4-12', '2-0-2-0-3-2-0-3-98', '1-0-0-1-3-3-0-3-19', '2-0-1-1-0-0-0-3-64', '2-0-1-2-0-0-0-4-27', '2-1-1-2-1-2-0-4-79', '2-0-2-0-2-0-0-4-42', '2-1-2-1-1-1-0-4-5', '2-0-2-0-1-1', '2-0-1-1-0-0-0-3-27', '2-1-1-1-3-1-0-4-97', '2-1-2-1-2-3-0-4-11', '2-1-2-0-0-1-0-4-54', '2-0-2-1-0-1-0-4-93', '2-0-1-1-2-3-0-4-20', '1-0-1-2-3-1-0-4-4', '2-0-1-0-1-2-0-3-43', '2-0-1-1-3-3-0-4-49', '2-0-1-1-1-2-0-3-49', '2-0-1-1-0-0-0-4-48', '1-0-0-1-0-0-0-3-100', '2-1-1-1-1-0-0-4-54', '2-0-1-0-1-0-0-4-99', '2-0-1-0-2-0-0-4-62', '1-1-2-2-3-0-0-4', '2-1-1-0-2-0-0-3-66', '2-0-2-1-1-1-0-4-73', '1-1-1-1-1-0-0-4-53', '2-1-1-1-1-0-0-4-66', '2-0-2-2-1-1-0-4-31', '2-0-1-0-2-3-0-3-1', '1-0-1-1-2-0-0-4-23', '2-1-2-1-2-3-0-3-11', '2-1-0-1-2-1-0-3-33', '2-0-1-0-1-1-0-4-70', '2-0-2-1-0-1-0-4-85', '1-1-1-1-2-0-0-3-89', '2-0-0-2-1--1-0', '2-0-2-0-2-1-0-4-71', '2-0-2-1-0-0-0-3-56', '2-1-1-1-1--1-0-3-70', '2-0-2-0-1-3-0-3-99', '2-0-2-1-2-1-0-4-2', '2-1-1-0-2-1-0-3-56', '2-0-1-1-2-0-0-3-37', '2-1-2-0-0-1-0-4-86', '2-0-1-0-1-0-0-4-60', '2-0-2-1-1-1-0-4-27', '2-0-2-1-0-3-1-4', '1-0-1-1-2-0-0-4-86', '2-1-2-2-1-2-0-3-23', '2-0-1-1-1-2-0-3-13', '2-1-1-0-2-3-0-4-51', '1-0-2-1-3-3-0-4', '2-0-1-1-0-3-0-3-17', '1-0-1-1-3-2-0-4-17', '2-1-1-1-1-0-0-3-66', '2-1-1-0-1-1', '1-0-1-1-2-0-1-4-6', '2-1-2-1-2-1-0-4-92', '2-1-1-1-3-0-1-4', '2-1-1-1-2-0-0-2-48', '1-1-0-1-3-2-0-3', '2-1-2-0-0-2-0-4-33', '2-0-2-1-1-3-0-4-8', '2-0-1-0-2-2-0-4-40', '1-0-2-1-2-3-0-4-60', '2-0-2-1-1-1-0-4-38', '2-0-1-0-1-3-0-4-18', '2-1-1-1-2-1', '2-0-1-1-3-0-1', '2-0-2-1-1-0-0-3', '2-0-2-0-2-2-0-4-38', '1-0-2-0-2-3-0', '2-0-1-1-1-3-0-4-72', '2-0-2-0-3-1-0-3-5', '2-0-2-1-1-0-0-4-80', '2-0-0-1-2-0-0-2', '1-1-2-1-3-3-0-4-18', '2-0-2-1-0-3-0-4-80', '2-0-1-1-1-0-0-4-4', '1-0-2-2-3-1-0-3', '1-0-2-1-3-3-0-3-53', '1-0-1-1-1-2-0-3-99', '2-1-0-0-2-0-0-4', '1-0-1-2-2-0', '2-0-2-1-0-2-0-4-46', '2-0-1-1-1-1-0-3-40', '2-0-1-1-0-0-0-3-48', '2-1-1-1-3-1-0-4-70', '1-0-2-1-3-2-0-4-25', '1-1-0-1-3-0-0-4-4', '2-0-1-1-2-0-0-4-25', '2-0-2-1-0-3-0-3-32', '1-0-0-1-3-1-0-4-51', '2-1-1-1-0-3', '2-1-2-1-3-0-0-3-2', '2-0-1-1-2-0-0-3-78', '2-0-1-1-0-0-0-3-78', '2-0-2-2-1-1-0-3-100', '2-0-1-0-2-2-0-4-13', '1-0-2-1-2-0-0-4-86', '2-0-1-1-2-0-0-3-77', '2-1-1-0-2-0-0-4-51', '2-1-1-0-2-0-0-4-10', '1-1-0-1-3-2', '2-1-1-2-0-0-1-4', '2-0-1-1-0-3-0-3-86', '2-1-2-0-0-2-0-4-86', '1-0-0-1-3-0-0-3-58', '2-0-2-1-3-1-0-4-89', '2-0-2-1-1-1-0-4-39', '2-1-1-1-2-3-0-3-14', '2-0-2-0-2-0-0-4-44', '2-1-1-1-0-0-0-4-35', '1-0-2-2-3-1', '2-0-1-1-2-0-1-3-6', '2-0-1-0-0-0-0-4-39', '2-0-0-1-0-0', '2-0-2-1-0-0-0-3-77', '1-0-1-2-3-3-0-4-99', '2-0-1-2-1-1-0-4-66', '2-0-2-0-0-2-1-4-1', '2-0-1-0-1-2-0-3-100', '2-1-1-2-1-0-0-3-8', '2-1-0-1-2-0-0-3-65', '2-0-2-1-3-0-0-4-95', '2-0-1-2-0-0-0-3-66', '2-1-1-1-0-2-0-4-50', '2-1-1-1-0-0-0-3-43', '2-0-1-1-2-0-0-4-85', '2-0-2-2-1-0-0-3-84', '2-0-2-1-1-3-0-3-54', '2-0-1-2-1-2-0-4-5', '2-0-2-1-2-2-1-4-6', '2-0-2-0-1-3-0', '1-0-1-1-2-0-0-4-24', '1-1-2-1-2-2-0-4', '2-0-1-1-2-2-0-4-82', '2-0-2-0-2-3-0-4-18', '1-1-1-0-3-3-0-4', '2-1-1-1-1-0-0-3-3', '2-0-2-1-0-3-0-4-65', '2-0-1-0-2-2-0-3-10', '2-0-1-0-0-3-0-3', '2-1-1-1-3-3-0-3-7', '2-0-1-0-2-0-0-4-88', '1-0-1-1-2-3-0-3', '2-0-2-1-0-0-0-3-37', '2-0-0-1-0-2-0-4', '1-0-2-0-3-3-0-4-41', '2-0-2-1-2-0-0-4-52', '2-1-1-1-1-0-0-4-12', '2-1-2-1-2-2-0-3-57', '2-1-1-1-2-1-0-3-21', '2-1-1-1-3-0-0-4-96', '1-0-2-1-3-1-0-4-20', '2-1-1-2-1-1-0-4-36', '2-1-1-1-1-0-0-3-79', '2-1-1-0-2-2-0-4-99', '1-1-1-1-2-2-0-4-22', '2-0-1-0-0-2-0-4-60', '2-0-2-2-1-0-0-3-54', '2-1-1-1-1-0-0-4-58', '2-0-2-0-2-0-0-4-12', '2-0-1-1-2-2-0-3-67', '2-0-2-1-1-2-0-3-74', '2-0-1-1-0-1-0-3-24', '2-0-1-1-2-0-0-4-70', '2-0-1-0-2-1-0-4-55', '2-0-2-1-1-0-0-3-54', '2-1-1-2-1-2-0-4-19', '2-0-1-0-3-3-0-4-10', '1-1-2-1-3-3-1-4', '2-0-1-1-2-2-0-4-77', '2-0-1-2-0-0-1', '2-1-2-0-0-1-0-4-100', '2-0-1-1-2-3-0-4-17', '1-1-1-1-2-1-0-4-47', '2-0-2-1-0-2-0-3-34', '1-1-1-1-2-0-0-3', '2-0-2-1-2-0-0-3-34', '2-0-2-1-2-0-0-4-44', '2-0-1-0-2-0-0-4-65', '1-0-1-1-2-2-0-4-68', '2-0-2-1-0-1-0-4-66', '2-0-2-0-1-0-0-3', '2-1-2-0-1-0-0', '1-0-1-1-3-2', '1-1-1-1-3-3-0-4-55', '2-0-1-1-2-1-0-4-45', '2-1-2-1-2-1-0-4-86', '2-0-1-0-2-3-0-4-83', '2-0-1-1-2-0-0-4-45', '2-0-2-0-1-0-0-4-47', '1-1-1-1-2-2-0', '2-0-2-1-2-1-0-3-31', '2-0-2-1-2-2-0-4-27', '1-0-2-0-3-3-0-4-38', '2-0-1-1-3-2-0-4-3', '1-0-2-1-2-0-1-4-8', '1-1-0-1-3-0-0-3-21', '2-1-2-1-1-2-0-3-43', '2-1-0-1-0-0-0-3-36', '2-0-0-2-1-1-0-4-100', '2-0-2-0-1-0-0-4-21', '2-0-2-1-3-2-0', '2-0-2-2-2-0-0-3-82', '2-1-1-1-1-1-0-4-34', '2-1-2-1-2-1-0-3', '2-1-2-0-1-0-0-3-6', '2-0-2-1-0-1-0-4-47', '1-0-1-1-1-2-0-4', '2-1-2-1-2-0-1-4', '2-0-1-2-2-2-0-4-97', '2-1-1-1-2-0-0-4-40', '2-0-1-1-2-0-0-4-41', '2-1-2-1-1-0-0-4-56', '2-0-1-1-1-2-0-3-40', '2-0-1-0-2-2-0-4-88', '1-0-1-1-3-3-0-4-30', '1-1-1-1-0-0-0-3-50', '2-0-2-0-0-0-0-4-91', '2-1-2-0-2-0-0-4-77', '2-0-2-0-2-2-0-4-33', '2-0-2-1-1-1-0-3-48', '2-1-1-1-1-0-0-4-18', '2-0-1-1-1-0-0-3-54', '1-0-1-1-3-3-0-3-100', '2-1-2-1-2-3-0-3-3', '2-0-0-1-2-3-0-3-51', '2-1-2-1-1-2-0-3', '1-0-2-1-3-0-0-4-97', '2-1-2-2-2-2-0-3-17', '2-1-1-1-1-2-0-3-15', '2-0-2-1-2-0-0-4-59', '2-0-2-0-1-2-0-4-99', '2-0-2-1-2-2-0-3-11', '1-0-2-2-1-1-0-4-100', '2-0-1-1-1-2-0-4-48', '1-0-1-0-2-1-0-4-34', '2-1-0-1-1-3', '1-1-2-1-3-1-0-4-5', '2-1-2-1-2-0-0-4-67', '2-0-2-1-0-2-0-4-98', '2-1-0-1-2-3-0-3-18', '2-0-2-1-0-1-1-3-13', '2-0-1-0-2-2-0-4-14', '2-1-2-1-2-3-0-4-66', '2-1-1-2-2-0-0-4-22', '2-1-1-1-2-1-0-4-9', '2-1-2-0-2-0-0-4-83', '1-0-1-2-3-3-0-4-42', '2-0-2-2-0-1-0-4-25', '2-1-0-1-3-2-0-3-2', '2-0-2-1-1-1-0-3-86', '2-1-2-2-1-0-0', '2-0-2-0-2-0-0-4-74', '1-1-1-1-3-2-0-4-21', '2-0-0-1-2-0-0-3-40', '2-0-2-1-0-0-0-4-88', '2-1-2-1-0-2-0-3-33', '1-0-1-1-2-2-0-4-39', '2-0-1-1-1-3-0-3-39', '2-0-1-2-0-0-0-3-29', '1-0-2-2-1-2', '2-1-1-1-3-1-1', '2-1-1-0-2-3-0-4-92', '1-0-2-1-2-3-0-4-68', '2-0-1-1-2-1-0-4-66', '2-1-0-1', '2-1-2-1-1-1-0-3-65', '1-0-2-2-1-2-0-4-51', '2-1-2-0-1-3-1-4', '2-0-1-1-0-2-0-4-46', '2-0-2-1-0-2-0-3-9', '2-0-1-1-2-3-0-4-18', '1-1-2-1-2-1-0-4-51', '1-1-0-1-0-1', '2-1-1-0-0-0-0-4-97', '2-0-1-0-2-2-0-3-85', '2-1-2-1-0-2-0-3-42', '1-0-1-0-3-3-0-4-31', '2-0-2-1-2-1-0-4-66', '2-0-2-1-0-1-0-4-97', '1-1-0-1-3-1', '2-0-1-1-3-2-0-4-17', '2-1-1-1-1-3-0-4-39', '2-0-1-2-0-3-1', '1-1-2-1-2-3-0-3-5', '2-0-2-0-2-0-0-3-12', '2-1-2-2-3-1-0-4', '2-0-2-2-2-3-0-4-40', '1-0-1-2-0-3', '1-0-1-0-3-0-0-4-31', '2-1-2-0-2-1-0-4-55', '2-0-1-1', '2-0-1-2-1-2-0-4-31', '1-0-2-2-3-0-0-4-76', '2-0-2-0-0-0-0-4-34', '2-1-0-1-2-0-0-3-26', '2-1-2-0-0-0-0-4-54', '2-0-1-1-0-0-0-4-49', '2-0-1-2-1-1-0-4-47', '2-1-1-1-3-1-0-4-87', '2-0-1-1-1-0-0', '2-0-1-0-1-1-0-4-65', '1-0-1-1-2-0-0-4-80', '1-0-2-1-0-3-0', '2-1-1-1-3-1-0-3-70', '2-0-0-2-2-1-0-4-17', '2-0-2-2-0-2-1', '2-0-1-2-1-0-0-4-60', '2-0-2-1-1-3-0-3-76', '1-0-2-0-3-0-0-4-27', '1-0-0-0-3-0-0-3-38', '2-1-1-0-2-3-0-4-72', '1-0-0-2-2-1-0-4', '2-0-1-0-3-0-0-4-9', '2-0-1-1-0-0-0-3-84', '1-0-2-1-0-1-1-4-5', '2-1-2-1-3-0-0-3-72', '2-0-0-1-0--1', '2-1-1-0-2-2-0-3-12', '1-0-0-1-2-0-0-3-60', '2-0-0-1-0-0-0-3-19', '2-1-1-1-1-0-0-4-60', '2-1-2-1-1-0-1-4-1', '2-1-1-2-2-0-0-4-44', '2-1-1-0-1-2-0-3-39', '2-1-2-1-2-1', '2-0-1-0-2-2-0-4-32', '2-0-1-0-0-0-0-4-55', '2-0-2-0-0-2-0-4-74', '2-0-2-1-1-2-0-3-29', '2-1-1-1-0-3-0-4-86', '2-0-0-1-1', '2-0-1-1-1-0-0-3-75', '2-1-2-1-1-3-0-3-100', '1-0-2-1-3-2-0-4-99', '2-1-1-1-0-2-0-3-64', '2-0-2-0-1-2-0-4-15', '2-1-0-1-0-2-0-3-50', '2-0-1-1-0-1-0-4-47', '2-0-2-1-2-1-0-3-86', '1-0-1-1-3-0-0-3-20', '2-0-2-1-3-1-0-4-25', '2-0-1-1-3-1-0-4-100', '2-0-1-2-3-1-0-4', '2-0-2-2-2-1-0-3-47', '2-0-2-1-1-1-0-4-76', '2-0-2-1-0-3-0-4-81', '2-1-1-2-1-1-0-4-62', '2-0-2-0-0-0-0-4-84', '1-1-1-1-2-0-0-3-47', '1-1-2-2-3-2-0-4-19', '2-1-2-0-1-1-0-4-40', '2-1-2-1-2-3-0-3-65', '1-0-1-1-2-2-1-4-4', '1-0-1-1-3-2-0-4-95', '2-1-0-1-2-2-0-3-20', '1-1-1-1-2-1-0-3-15', '1-0-1-0-3-1-0-4-38', '2-0-1-1-2-0-0-4-33', '1-1-1-1-3-3-0-4-14', '1-0-1-1-1-1-0-4-56', '2-0-0-1-2-3-0-3-29', '2-0-2-1-0--1-0', '2-1-1-0-2-0-0-4-31', '2-0-1-1-2-0-0-3-22', '2-0-1-0-2-0-0-4-92', '2-0-2-2-2-3-0-4-54', '2-0-2-1-0-2-0-4-5', '2-1-1-1-1-1-0-4-62', '2-1-1-0-2-1-0', '2-0-1-1-1-2-0-4-69', '2-0-0-1-2-1-0-3-97', '2-0-1-2-3-3', '2-1-1-0-0-2-0-3-31', '2-1-2-0-0-2-0-3', '2-0-2-0-2-0-0-3-20', '2-0-2-0-2-3-0-3-3', '2-1-1-1-1-3-0-4-66', '2-0-2-1-2-0-0-4-12', '2-1-2-0-3-1-0-4-50', '2-0-1-1-1-1-0-4-74', '2-1-1-2-0-0-0-4-63', '2-0-1-1-3-2-0-4-21', '2-1-2-0-0-2-0-3-93', '2-1-2-1-2-3-0-4-49', '2-0-2-1-2-2-0-3', '1-1-1-1-3-1-0-4-16', '2-0-1-1-2-1-0-3-32', '2-0-1-1-2-3-0-3-77', '2-0-2-1-2-1-0-3-42', '2-0-1-1-0-2-0-4-28', '2-1-1-1-1-2-0-3', '2-0-2-1-2-1-0-3-3', '1-0-2-1-3-2-0-3-39', '1-1-1-2-0-0-0-3-100', '1-0-1-1-3-3-0-3-22', '1-0-2-1-3-0-0-4-43', '2-1-1-2-0-1-1-4-1', '2-1-1-0-1-0-0-4-46', '2-0-2-1-1-3-0-4-36', '2-0-1-0-1-0-0-3-27', '2-1-2-1-2-0-0-4-44', '2-1-2-1-1-0-0-4-24', '2-0-1-0-1-3-0-3-25', '2-1-2-0-0--1', '2-0-1-0-0-1-0-4-97', '1-0-2-1-3-2-0-3-29', '2-1-0-2-2-2-0', '2-0-2-1-0-1-1-4-13', '1-1-1-1-3-1-0-4-19', '2-0-2-1-2-0-0-3-44', '2-0-2-2-1-1-0-4-26', '2-0-2-0-2-1-0-3-43', '2-0-1-1-1-1-0-4-95', '1-1-2-0-3-0-0-4-35', '1-0-1-2-3-2-0-4-52', '2-1-2-1-1-3-0-4-46', '2-0-0-0-2-3-0-3', '2-1-2-2-0-0-0-4-37', '2-1-2-0-1-1-0-4-39', '2-0-2-1-1-0-0-4-37', '2-1-1-2-3-3-0-4-1', '2-0-1-1-1-0-0-4-92', '1-0-2-1-3-2-0-4-37', '2-0-2-1-0-0-0-3-10', '2-0-1-0-3-0-0-4-12', '1-0-2-1-2-3-1-4-6', '1-0-1-1', '2-0-2-1-1-3-0-4-15', '2-1-2-1-2-1-0-4-36', '2-0-2-1-2-2-0-3-40', '1-0-1-1-3-2-0-4-42', '2-0-2-1-2-0-0-4-81', '2-0-2-2-1-0-0-4-33', '2-1-2-1-2-1-0-4-67', '2-0-1-2-1-1-0-4-38', '2-1-2-1-1-2-0-4-26', '1-0-1-2-3-3-0-4-74', '2-1-1-1-1-0-0-4-65', '1-0-1-1-2-3-0-3-86', '2-1-2-1-1-2-0-4-18', '2-0-0-1-0-', '2-0-2-1-2-2-0-3-100', '2-1-1-1-0--1-0-3-13', '2-0-1-1-0-1-0-3-7', '1-0-2-1-0-0-0-4-100', '2-0-2-1-2-0-0-4-43', '1-1-1-1-3-1-0-4', '2-0-1-1-2-2-0-4-35', '2-0-2-1-0-2-0-3-93', '2-0-2-1-0-0-0-4-71', '1-0-2-1-3-1-0-4-15', '2-0-1-1-2-3-0-4-95', '2-0-1-1-0-1-0-3-50', '2-0-0-1-0-0-0-4-62', '2-0-1-1-2-2-0-4-16', '2-0-2-0-1-0-1-4', '2-1-1-1-1-0-0-3-81', '2-0-2-1-2-2-1-4-9', '2-0-1-2-0-0-1-4-1', '1-0-2-1-2-3-0-4-44', '2-1-2-1-2-1-1-4-7', '2-1-2-2-1-0-0-4-76', '2-0-1-1-1-1-0-4-11', '1-0-2-1-2-0-0-4-81', '2-0-1-1-2-0-0-4-28', '2-0-2-1-3-3-0-3-10', '2-0-1-2-1-2-0-3-18', '2-0-1-1-0-3-1-4-2', '2-1-1-1-3-1-1-3-3', '2-1-1-1-2-2-0-4-31', '1-0-2-1-3-3-0-4-57', '2-0-1-1-3-3-0-4-5', '2-0-1-0-1-0-0-4-84', '2-1-2-1-1-1-0-4-75', '2-0-1-2-1-2-0-4-52', '2-0-2-2-1-1-0-3-5', '2-1-0-0-2--1-0-4-41', '1-0-2-1-3-2-0-4-57', '2-0-1-2-0-1-0-4', '2-0-2-0-2-2-0', '1-0-2-2-0-2-0', '1-1-2-1-2-3-0-3-48', '2-1-0-2-3-2-0-4', '2-0-2-0-1-0-0-4-88', '2-1-1-0-2-1-0-1', '2-1-1-1-1-2-0-3-100', '2-1-2-1-1-3-0-3-79', '2-0-1-2-0-1-0-4-54', '1-0-2-0-1-3-0-4-30', '2-0-2-1-0-1-0-4-83', '2-0-1-0-3-1-0-3-51', '2-0-2-1-0-0-0-4-73', '2-0-2-2-2-0-0-3-48', '2-1-1-0-3-0-0-4-49', '2-0-2-1-2-0-1-4-9', '2-1-2-1-2-2-0-4-30', '2-0-2-1-1-0-0-3-73', '2-0-1-0-2-1-0-3-50', '2-1-0-0-2-3-0-3-33', '2-0-1-1-2-2-0-3-94', '2-0-2-1-1-0-0-4-46', '2-0-1-1-0-2-0-3-83', '2-0-2-1-0-3-0-3-33', '2-0-0-1-0-0-0-3-99', '1-0-0-1-0', '2-0-2-1-2-0-0-4-83', '2-1-1-1-1-2-1', '1-0-2-2-0-0-0-3-100', '1-0-1-1-0-0-0-3-98', '2-0-1-0-2-3-0-4-54', '2-0-2-1-1-2-0-4-26', '2-0-1-2-3-1-0-4-3', '2-1-2-2-1-0-0-3-53', '2-0-1-1-2-0-0-3-32', '2-0-2-1-1-3-1-3-3', '1-0-2-1-3-3-0-4-23', '1-0-1-1-1-1-0-4-52', '2-1-0-0-3-3-0', '1-0-2-1-2-2-0-4-57', '2-1-1-2-1-1-0-4-45', '2-0-1-1-0-2-0-3-67', '2-1-2-1-2-1-0-4-21', '2-1-2-0-0-3-0-3-87', '2-1-1-2-1-0-0-4-4', '2-1-2-0-0-1', '2-0-2-1-0-3-0-4-70', '2-1-2-0-0-3-0-4-93', '1-0-1-1-3-3-0-4-58', '2-0-2-0-1-2-0-4-28', '2-0-2-1-3-0-0-4-47', '2-0-0-1-2-2-0-3-13', '2-1-2-1-2-3-0-3-99', '2-0-1-1-2-2-0-4-81', '2-0-1-0-2-1-0-4-58', '2-1-2-1-1-0-0-4-91', '2-1-2-1-0-1-0-4-49', '1-1-1-1-2-3-0-4-52', '2-0-1-2-1-2-0-3-47', '2-0-0-1-1-1-0-4-50', '1-0-1-0-1-3-0-3-30', '2-1-2-1-2-0-0-4-58', '2-0-2-1-3-0-0-4-30', '2-0-2-1-1-3-0-3-45', '2-0-2-1-2-1-0-3-64', '2-0-0-1-1-0-0-3-3', '2-0-1-0-1-3-0-4-54', '2-0-2-1-3-2-0-4-36', '1-1-1-1-0-3-0-3-47', '2-0-2-0-1-0-0-4-3', '2-1-2-2-2-0-0', '2-1-2-1-0-1-0-4-61', '1-0-0-1-3-0-0-3-22', '1-0-2-1-3-3-0-3-41', '1-1-1-1-1', '2-0-1-1-2-0-0-4-5', '1-0-1-1-3-3-0-4-95', '2-1-1-1-0-3-0-4-20', '2-0-2-0-0-1', '2-1-2-1-1-0-0-3-60', '1-0-2-1-3-1-0-4-13', '2-0-2-1-2-0-0-3-32', '2-1-1-1-1--1-0-3-57', '2-1-0-1-3-1-0', '2-0-1-1-3-0-1-4', '2-0-2-1-2-0-0-3-45', '2-1-1-2-0-1-0-4-32', '2-0-2-1-0-0-0-4-66', '2-1-1-1-2-0-0-4-81', '2-1-1-1-0-1-1-4-10', '2-0-2-0-1-0-0-3-24', '2-0-0-1-1-2-0-2', '1-0-2-2-3-1-0-4-17', '1-1-1-0-3-1', '2-0-1-2-0-1-0-4-27', '2-0-2-2-1-1-0-4-17', '2-0-2-1-2-0-0-3-92', '2-1-1-2-3-1-0-3', '2-0-1-2-2-0-0-4-17', '2-0-1-2-0-1-0-4-46', '2-0-2-1-2-0-0-4-100', '2-0-1-0-2-3-1-3', '1-0-1-2-3-0-0-4-96', '2-0-1-0-0-0-1-4-3', '2-1-1-1-1-2-0-4-29', '2-0-1-1-2-0-0-4-58', '1-1-2-1-2-1-0-3', '2-0-1-1-0-0-0-3-45', '2-1-1-2-3-0-0-3-1', '2-0-1-1-1-0-0-3-81', '2-1-1-1-2-0-0-3-8', '1-1-1-1-3-0-0-3-54', '2-0-2-1-2-3-0-4-15', '2-0-2-0-1-0-0-4-97', '2-1-1-1-3-0-0-4-4', '2-1-1-0-2-3-0-3-37', '2-1-2-0-3-1-0-4-23', '2-1-1-1-2-2-0-4-34', '2-0-0-0-2-1', '1-0-2-2-3-1-0-4-44', '2-0-2-1-0-2-0-4-75', '2-0-2-2-1-0-0-4-37', '2-0-0-1-1--1-0-3', '2-0-0-1-1-3-0-4-19', '2-0-1-2-1-1-0-4-80', '2-1-2-1-2-0-0-4-23', '2-1-2-1-2-3-0-3-96', '2-0-2-0-2-1-0-3-35', '2-0-1-1-2-1-0-4-5', '2-1-2-1-0-2-0-3-35', '2-0-2-1-2-3-0-4-3', '2-0-1-1-2-0-0-3-39', '1-0-0-1-3-3-0-3-55', '2-0-2-1-2-0-1-4-7', '2-0-2-0-0-2-0-4-100', '2-0-1-1-3-1-0-3', '1-0-0-1-3-0-0-3-23', '2-0-1-1-0-2-0-4-53', '2-1-0-1-1-3-0-3-49', '1-0-0-0-0-0', '2-0-1-1-2-1-0-4-79', '2-1-1-1-0-0-0-4-78', '2-0-2-2-0-0-0-3-25', '2-1-0-1-0--1-0-3-34', '2-0-0-1-1-1-0-3-24', '2-0-2-1-2-0-0-4-99', '2-0-2-1-2-0-0-4-41', '2-0-2-0-2-2-0-4-82', '2-0-1-0-2-1-0-3-16', '2-1-1-1-2-2-0-3-20', '2-1-1-1-1-3-0-3-99', '1-1-2-0-3-0', '1-0-2-1-0-3-1-3-1', '1-0-2-1-0', '2-1-2-1-2-2-0-4-72', '2-1-2-0-0-1-0-3-37', '2-0-1-1-0-3-0-4-35', '1-0-2-1-3-3-0-4-31', '1-0-1-1-2-1-0-4-4', '2-0-2-1-1-2-0-4-67', '2-0-1-1-0-3-0-4-13', '2-1-1-1-2-0-0-4-97', '2-0-1-1-1-2-0-3-6', '2-0-2-1-2-3-0-4-85', '2-1-2-1-1-3-0-4-67', '2-0-2-0-1-0-0-4-61', '2-1-2-2-1-0-0-4-38', '1-1-0-1-2-1-0-3-85', '2-1-1-0-1-2-0-3-37', '2-1-2-1-1-0-0-4-54', '2-1-2-2-3-3-0-4-80', '1-0-1-0-3-3-0-4-32', '2-1-1-1-0-1-0-4-62', '2-0-2-1-0-0-0-4-38', '2-1-1-1-2-0-0-4-84', '2-0-1-0-1-2-0-4-39', '2-1-1-1-2-0-0-3-56', '1-0-2-1-3-0-0-4-15', '2-1-1-0-2-3-0-3-31', '1-0-0-1-3-0', '1-1-0-1-1-3', '2-0-1-2-2-0-0-4-22', '1-0-2-1-1-2-0-4-100', '1-0-2-0-3-0-0-4-19', '1-0-2-1-2-2-0-4-67', '2-0-0-1-1--1-0-2-28', '2-0-2-1-2-0-0-4-92', '2-1-1-1-0-2-0-4-63', '1-0-1-1-3-3-0-4-61', '2-1-1-2-0--1-0-4-40', '2-0-1-1-3-3-0-3-24', '1-0-1-1-2-0-0-3-67', '2-0-1-0-3-0-0-4-4', '2-1-1-1-2-1-0-4-70', '2-0-2-1-0-3-0-4-72', '2-0-1-2-1-3-1-3-6', '2-0-1-1-1-2-1-4-9', '2-0-1-1-0-0-0-4-52', '2-0-1-1-2-3-0-3-46', '2-0-2-0-3-0-0-3-49', '2-0-1-1-1-3-1-3-7', '2-0-1-1-2-1-0-4-42', '2-0-2-1-2-3-0-4-84', '2-1-1-1-3-2-0-3-6', '2-0-2-0-2-0-0-3-55', '1-0-1-2-1-2-0-3-100', '2-0-1-0-2-0-0-4-38', '2-0-0-1-1--1-0', '2-1-1-1-0-0-0-3-84', '2-1-2-1-2-2-0-4-8', '2-0-2-1-2-2-1', '2-0-2-1-2-3-0-4-12', '2-0-2-1-2-2-0-4-67', '2-0-2-1-2-1-0-4-22', '2-0-1-0-2-2-0-4-52', '2-1-0-1-1-1-0-3-75', '2-1-0-0-2--1-1-3', '2-1-1-0-0-0-0-4-57', '2-0-2-1-0-2-0-3-2', '2-0-1-1-2-1-0-3-22', '2-1-1-2-0-0-0-4-22', '2-1-1-2-1-1-0-4-15', '1-1-2-2-3-2-0-3', '2-1-2-1-2-1-0-4-41', '2-0-1-2-1-0-0-3-13', '2-1-1-1-0-3-0-4-71', '2-0-1-1-1-0-0-4-45', '2-0-1-0-2-2-0-3-53', '2-0-2-1-1-2-0-4-68', '2-0-1-1-2-3-0-4-69', '2-1-2-0-2', '2-0-1-1-2-1-0-4-29', '2-0-2-1-2-0-0-3-20', '2-0-1-0-1-3-0-4-57', '2-0-1-1-0-1-0-4-5', '1-0-2-1-3-3-0-3-18', '2-1-1-0-1-0-0-4-14', '1-0-2-0-3-3-0-4-33', '2-0-1-1-3-0-0-4-55', '2-0-1-0-2-2-0-3-9', '2-1-1-1-1-1-0-4-20', '2-0-2-1-1-2-0-4-58', '2-1-1-1-1-1-0-3-40', '2-0-2-1-3-2-1-3', '2-1-2-1-1-0-0-4-64', '2-1-2-1-1-2-0-4-14', '2-0-1-1-0-0-0-4-93', '2-1-1-2-2-2-0-4-13', '2-0-2-2-2-0-0-4-76', '2-0-1-1-2-1-0-4-15', '1-0-2-1-3-0-0-4-29', '2-1-1-1-1-2-0-4-46', '2-0-1-1-0-1-0-3-27', '2-0-2-2-0-2-0-3-77', '1-0-1-0-3-0-0-3-20', '2-0-1-1-2-0-0-3-90', '2-1-2-1-3-0-0-3-4', '1-0-2-2-1-0-0-4-98', '1-0-2-1-0-1-1-4', '2-1-1-0-1-2-0-3-3', '2-0-1-1-1-3-0-3-73', '2-0-1-1-0-2-0-4-83', '1-0-0-1-3-3-0-3-44', '2-1-1-1-0-0-0-4-29', '2-1-2-1-3-2-0-4-43', '2-0-1-1-1-3-0-4-86', '2-0-2-1-1-2-0-4-99', '2-1-1-0-2-0-0-4-88', '2-0-2-2-0-0-0-4-62', '2-0-2-1-1-0-0-3-92', '1-0-1-2-0-3-1-3-1', '2-1-2-1-2-1-1-4', '2-0-0-1-0-2-0-3-11', '2-0-1-1-2-2-1-3-7', '2-0-1-1-3-3-0-4-100', '2-0-1-0-0-1-1-4', '2-1-0-2-1-2-0-3-7', '2-0-2-0-2-2-0-4-93', '2-0-1-0-0-1-0-4-99', '2-0-1-0-2-2-0-3-96', '2-0-1-1-1-2-0-4-32', '2-0-1-1-2-0-0-3-27', '1-1-0-1-2-0-0-3-43', '2-0-1-0-1-3-0-4-28', '1-0-1-1-1-1-0-4-31', '2-0-2-2-0-0-0-4-95', '2-0-0-1-1--1-0-3-7', '2-0-2-0-3-1-0-4-57', '2-0-1-1-1-2-0-4-13', '2-1-2-0-0-0-0-3-87', '2-0-1-1-1-1-0-3-39', '2-0-2-1-2-1-0-4-1', '2-0-1-2-2-3-0-4-80', '1-0-2-1-1-0-0', '1-0-1-1-3-3-0-4-60', '1-0-1-2-3-2', '2-1-2-0-0-0-0-3-45', '2-0-2-1-0-0-1', '1-0-1-1-3-0-0-3-37', '2-1-2-0-2-1-0-3-16', '2-1-1-1-2-1-0-3', '2-0-1-1-0-2-0-4-77', '2-0-2-2-1-0-0-3-63', '2-0-1-1-3-0-0-4-99', '2-0-1-1-1-3-0-4-91', '2-1-2-2-0-0-0-4-18', '1-1-2-0-3-0-0-4', '2-0-2-1-3-2-1-3-8', '1-0-2-0-0-3-0-4', '2-0-0-1-3-3-0-3', '2-1-1-0-2-1-0-4-17', '2-1-0-1-1--1-0-3-19', '2-0-2-0-1-2-0-3', '2-1-1-2-0-2-0-4-14', '2-1-1-1-2-1-0-3-3', '2-1-2-1-1-2-0-3-59', '1-0-2-1-1-2-0-3', '2-1-1-1-0-0-0-4-56', '2-0-1-2-2-2-0-3-4', '2-1-2-1-1-1-0-3-18', '2-1-2-1-0-3-0-4-64', '2-0-1-0-0-0-0-4-7', '2-0-2-2-3', '2-0-1-1-2-3-0-4-52', '2-1-2-0-2-2-0-4-52', '2-0-2-0-1-3', '2-0-1-0-1-0-0-3-45', '2-1-1-0-1-2-0-4-75', '2-0-1-1-2-0-0-4-57', '1-1-1-1-3-2-0-4-80', '2-0-1-0-2-1-0-3-65', '2-0-2-1-2-3-0-4-38', '2-0-1-1-1-0-0-4-87', '2-0-2-1-3-1-0-4-47', '1-0-0-1-3-1-0-4-18', '1-1-2-1-3-0-0-3-21', '2-0-1-0-1-0-0-4-100', '2-0-1-1-3-1-0-4-33', '2-1-1-1-2-2-0-4-35', '2-1-2-1-2-1-0-4-38', '2-0-2-0-0-2-0-4-51', '2-1-1-0-0-1-0-4-89', '2-0-2-1-3-1-0-4-27', '2-1-0-1-0-3-0-3', '2-0-2-1-0-1-0-3-50', '2-0-1-1-0-0-0-4-33', '2-1-1-1-0-0-0-4-50', '2-0-1-0-0-1-0-3-10', '2-0-2-1-0-0-0-1-5', '2-1-2-1-2-1-0-4-19', '2-0-2-0-0-0-0-4-75', '1-0-2-1-3-1-0-3-25', '2-0-2-1-0-1-0-4-67', '2-1-2-1-2-2-0-3-89', '2-0-2-2-0-0-0', '2-0-2-0-1-1-0-4-27', '2-0-0-0-1-0-0-3-88', '2-0-2-0-2-1-0-4-13', '2-1-2-1-3-2-0-3-8', '2-0-1-0-2-1-0-4-53', '2-0-2-1-1-3-0-4-50', '1-0-0-0-0-0-0-3', '1-0-2-1-1-0-0-4-51', '1-1-2-1-3-2-0-3-66', '1-1-2-0-3-1', '1-1-1-1-3-0-1-4-2', '2-0-1-1-2-0-0-4-63', '2-0-2-1-0-0-0-4-3', '2-0-0-1-1-1-0-3-36', '2-0-2-1-3-2-0-4-41', '2-0-1-1-1-1-0-4-22', '2-1-1-1-0-1-0-3-15', '2-0-1-2-0-0-0-4-29', '2-0-1-0-2-0-0-4-28', '2-0-1-1-3-0-0-3-17', '2-0-1-1-1--1-0-2', '2-1-2-1-1-2-0-4-86', '2-0-0-1-3-1-0-4-1', '2-0-2-1-2-3-0-4-100', '1-0-1-1-0-3-1-3', '1-0-1-2-2-2-0-4-43', '2-1-1-2-0-0-0-4-26', '2-1-2-2-0-2-0-4-14', '2-0-1-0-1-0-0', '2-1-1-0-2-3-0-4-28', '2-1-1-1-2-2-0', '2-1-2-2-2-2-0-3-38', '2-1-1-0-0-0-0-3-57', '2-0-1-2-0-1-1-3', '2-0-2-0-0-2-0-4-49', '1-0-2-1-2-2-0-4-66', '2-0-2-0-0-2-0-4-68', '2-0-1-1-1-2-0-4-15', '1-0-1-0-2-3-0', '2-0-1-1-3-3-0-4-48', '2-0-1-0-2-1-0-3-31', '1-0-1-1-3-3-0-4-36', '2-1-1-1-1-1-0-4-10', '2-1-2-2-0-0-0-3-57', '2-0-2-1-2-0-0-4-22', '2-1-1-2-3-0-0-4', '2-0-0-1-2-2-0-3-33', '2-0-1-1-1--1-0-2-45', '2-0-1-0-0-3-0-4-92', '2-1-1-1-2-2-0-4-93', '2-0-1-1-1-0-0-3-5', '2-0-1-1-3-1-1', '1-0-0-1-0-0-0-2-98', '2-0-2-2-1-3-0-4-66', '2-0-2-0-0-3-0-4-77', '2-1-2-0-2-2-0-3-69', '1-1-1-0-0-0', '2-0-1-1-2-0-0-4-77', '2-1-1-1-2-3-0-3-100', '2-0-2-2-0-2-0-4-26', '2-0-1-1-2-3-0-3-14', '2-0-2-0-1-0-0-4-51', '2-0-2-2-0-1-0-4-89', '2-0-1-1-2-1-0-3-87', '2-0-1-1-1-2-0-3-78', '2-0-1-1-3-3-0-4-3', '1-0-0-1-2-1-0', '2-0-1-1-2-2-0-3-66', '2-0-1-1-1-2-0-3-21', '2-0-1-1-0-0-0-4', '2-0-1-0-2-3-0-3-27', '2-0-2-1-0-1-0-3-9', '2-0-2-0-1-1-0-4-86', '2-0-2-0-1-3-0-4-41', '2-0-1-1-2-3-0-4-46', '2-0-0-0-2-1-0-4-12', '2-0-1-1-0-2-0-3-22', '2-1-0-1-0', '2-0-2-2-1-3-0-4-52', '2-0-2-0-2-2-0-3-10', '2-0-1-0-1-0-0-4-79', '2-0-1-1-1-3-0-3-85', '2-1-2-2-1-1-0-4-39', '2-1-0-1-3-2', '2-1-1-2-2-1-0', '2-0-2-1-1-1-0-3-40', '2-0-1-1-0-1-0-4-66', '2-0-1-0-0-2-0-4-33', '2-0-1-1-1-1-0-4-2', '1-1-2-1-0-0-0-3-94', '2-0-2-1-2-2-0-4-95', '2-1-1-0-2-1-0-4-79', '2-1-2-1-2-0-0-4-56', '2-1-2-1-0-2-0-4-15', '2-0-1-1-0-2-0-4-14', '2-0-1-0-0-0-1', '2-0-1-1-1-3-0-3-45', '2-0-1-1-2-1-0-3-81', '2-0-2-1-2-0-0-4-95', '2-1-2-1-3-1-0-4-40', '2-1-2-0-0-1-0-3-56', '2-0-2-0-2-1-0-3-31', '2-0-1-1-0-2-0-4-12', '2-1-2-1-2-2-1-4-6', '2-0-1-1-1-0-0-4-18', '2-0-1-1-1-0-0-3-33', '1-0-2-2-2-0-0-3-33', '2-0-1-1-2-3-0-3-21', '2-0-1-1-2-0-0-3-51', '2-1-1-0-3-3-0', '2-1-2-1-2-2-1-4', '2-0-1-1-1-2-0-3-61', '2-0-1-1-0-3-0-4-28', '1-0-2-1-3-1-0-4-30', '2-1-1-1-1-2-0-4-9', '2-1-0-1-0-0-0-3-7', '2-1-1-1-0-0-0-4-53', '2-1-2-1-2-0-0-4-99', '1-0-1-1-2-1-0-4-1', '2-0-0-1-1-3-0-3-44', '2-0-0-1-1-2-1-3', '2-1-1-1-2-3-0-3-33', '2-0-0-0-1-2-0-3', '2-0-2-0-2-2-0-3-71', '2-0-2-1-2-1-0-3-41', '2-1-2-1-2-2-0-4-93', '2-1-2-0-1-1-0-4-28', '2-0-1-1-0-1-0-4-1', '1-0-1-1-2-2-0-4-99', '2-1-1-0-1-1-0-3-63', '1-1-2-1-1', '2-0-2-1-0-1-0-4-18', '2-1-1-1-2-0-0-3-55', '2-1-1-0-2-1-0-3', '2-0-2-2-1-2-1', '2-0-2-1-2-1-0-4-89', '1-0-2-1-3-0-0-3-97', '1-1-0-1-1-0-0', '2-0-2-1-2-0-0-4-21', '2-0-1-2-0-0-0-4-64', '2-0-1-0-1-1-0-4-94', '2-0-2-1-1-1-0-4-70', '1-0-2-1-1-3-0-4-53', '2-1-1-1-0-3-0-4-46', '2-0-1-1-0-3-0-4-64', '1-1-2-1-3-0-0', '1-0-2-1-0-1-0-4', '2-1-1-1-0-1-0-4-19', '2-0-2-2-0-3-0-4-34', '2-0-2-1-1-1-0-4-53', '2-0-0-2-0-0-0-4-20', '2-1-2-2-1-2-0-4-57', '2-0-2-1-0-1-0-3-12', '2-0-2-1-2-0-0-4-18', '2-0-2-1-0-3-1-3', '2-1-1-0-1-0-0-4-47', '2-0-2-0-0-1-0-3-85', '2-0-1-2-0-3-0-4-27', '2-0-1-1-1-0-0-1-99', '2-0-1-0-1-3-0-4-42', '2-1-1-0-1-1-0-4-3', '2-0-1-1-2-1-0-3-67', '2-1-1-1-0-0-0-4-43', '2-0-1-1-2-1-0-4-67', '2-0-1-0-3-0-0-4-48', '2-0-1-1-2-0-0-4-48', '2-1-2-1-2-0-0-3-83', '2-1-2-1-2-1-0-3-98', '2-0-2-0-0-0-0-4-52', '2-1-2-0-0-3-0-4-48', '2-0-2-2-1-0-0-4-100', '2-0-2-1-3-3-0-4-35', '1-0-1-1-0-0-0-4-19', '2-0-2-1-1-3-0-4-57', '2-1-1-1-0-3-0-4-11', '2-1-2-2-0-0-0-4-20', '2-0-2-0-2-1-0-4-54', '1-0-1-1-0-0-0-4-55', '2-0-2-1-2-1-0-3-33', '1-0-1-1-2-3-0-4-67', '2-1-1-1-1-1-0-4-13', '2-1-2-0-2-1-0-4-12', '2-1-2-2-1-0-0-4-46', '2-0-2-1-2-1-0-4-77', '2-0-1-1-0-2-0-4-34', '2-0-1-2-0-1-0-4-81', '2-0-2-1-0-1-0-3-95', '2-0-1-2-1-2-0-3-49', '1-0-2-1-1-3-0-3-28', '2-0-1-1-2-0-0-3-44', '2-0-2-0-2-2-0-4-16', '2-0-2-1-1-0-0-4-95', '2-0-2-1-2-1-0-3-96', '2-1-1-2-3-2', '2-0-2-0-1-1-0-4-36', '2-0-1-2-1-1-0-3-78', '1-0-2-2-3-2-0-4-76', '2-1-2-1-3-3-0-4-9', '2-0-2-2-1-0-0-4-7', '2-0-2-1-1-0-0-4-11', '2-1-1-2-0-0-0-3-55', '2-0-2-1-1-1-0-3-28', '2-0-2-1-2-3-0-4-44', '2-0-1-1-1-3-0-4-29', '2-0-0-2-1-0-0-4-83', '2-1-1-2-0-2-0-3', '1-0-1-0-2-2-0-3-72', '2-0-1-1-2-1-0-3-90', '2-1-1-2-2-0-0-3', '2-1-1-1-0-2-0-3-20', '1-0-0-1-1-3-0-3', '1-0-0-1-2-1-0-4-4', '2-1-1-1-2-0-0-4-56', '2-0-0-1-2-0-0-3-19', '2-1-1-0-0-1-0-4', '2-0-2-0-1-3-0-4-32', '2-0-2-2-3-1-0-4-3', '2-0-1-1-2--1-0-3-83', '2-0-1-1-0-2-0-4-78', '2-1-1-1-2-0-0-3-63', '2-1-1-1-0-1-0-4-55', '2-0-2-0-1-2-1', '2-0-1-0-0-3-0-4-32', '2-0-2-0-0-3-0-4-64', '2-0-1-1-2-1-0-3-72', '2-0-0-1-1-1-0-4-80', '2-1-1-0-2-1-1-3-4', '2-1-1-1-1-2-0-4-13', '2-0-1-2-1-0-0-4-43', '2-0-1-1-0-0-0-3-87', '2-0-1-1-2-2-0-4-79', '2-1-1-1-1-0-0-3-29', '2-0-2-1-2-0-0-4-2', '2-0-2-1-1-3-0-3', '2-1-2-1-1', '1-1-2-2-0-1-0-3-48', '2-0-2-1-2-1-0-3-35', '2-0-1-0-0-0-0-3-86', '2-1-2-1-0-3-0-3-43', '2-1-1-2-1-3-0-4-36', '2-1-2-1-1-0-0-3-17', '2-1-1-1-1-3-0-4-50', '1-0-2-0-3-0-0-4-3', '2-0-1-1-1-2-0-4-33', '2-0-2-1-1-2-0-3-94', '2-0-2-2-1-1-0-4-62', '1-1-1-1-0-2-0-4-38', '2-1-1-1-1-2-0-3-22', '2-1-2-2-0-1-0-4-38', '2-0-2-1-2-2-0-4-89', '2-1-2-1-0-0-0-4-43', '2-1-2-1-2-2-0-3-10', '2-1-2-1-0-1-0-3-46', '2-1-1-0-2-2-0-4-9', '2-1-1-1-3-0-0-3-1', '2-0-1-1-0-0-0-4-16', '2-0-1-0-0-3-0-4-78', '2-1-1-1-1-0-0-4-85', '1-0-1-1-2-0-0-4-62', '2-0-2-2-1-2-0-4', '2-0-2-1-2-0-0-4-47', '2-1-2-1-0-0-0-3-67', '2-0-2-1-0-0-0-4-87', '2-0-2-1-0-2-0-4-65', '2-0-1-1-3-0-0-4-47', '1-0-1-1-3-1-0-4-22', '2-1-1-0-2', '2-1-1-2-2-2-0-3-95', '2-0-2-0-2-2-0-4-75', '2-0-1-1-0-0-0-3-74', '2-1-2-1-2-3-0-3-55', '2-0-1-1-2-3-0-4-100', '2-1-2-1-0-2-0-4-92', '2-0-2-1-0-2-0-3-67', '1-0-1-1-2-1-0-4-78', '2-1-2-2-2-3-0-3-1', '2-0-1-2-1-1-0-3-63', '2-0-1-0-0-1-0-4-76', '2-0-1-2-0-1-0-4-29', '2-0-1-1-1-2-0-3-82', '2-1-2-1-3-1-0-4-9', '2-0-1-0-0-0-0-4', '1-0-2-0-3-3-0-4-48', '2-1-2-1-2-0-0-4-92', '2-0-1-2-0-0-0-4-1', '1-0-1-1-3-0-0-4-35', '2-0-2-2-2-0-0-4-61', '1-0-2-0-2-3-0-4-34', '2-0-2-1-1-3-0-4-47', '2-0-2-1-0-1-0-4-7', '2-1-1-1-1-0-0-4-50', '2-0-0-1-1-2-0-3-12', '2-0-2-1-3-0-1-3-8', '2-0-1-1-1-1-1-4', '1-1-1-1-3-0-0-3-100', '2-1-1-0-0-3-0-4-48', '2-0-1-1-2-1-0-3-18', '1-1-1-1-3-3', '2-1-0-0-2--1-0', '2-0-1-0-2-3-0-3-77', '1-1-1-1-3-3-0-4-37', '2-0-2-0-0-1-1', '2-1-2-0-0-0-0-4-96', '2-0-2-2-2-1-0-4-68', '2-1-2-1-1-1-0-4-9', '2-1-2-1-2-2-0-4-86', '2-0-2-2-1-2-0-3-74', '2-0-1-0-0-0-0-4-51', '2-0-2-0-1-1-0-4-95', '2-0-2-0-1-3-0-4-24', '2-1-2-1-0-3-1', '2-0-1-0-2-1-0-4-17', '1-0-2-0-1-0-0-4', '1-0-1-0-2-1', '1-1-2-1-2-2-0-3-6', '2-0-2-2-2-1-0-4-100', '1-0-1-1-2-3-0-4-56', '2-1-2-1-0-1-0-4-84', '2-1-2-1-1-1-0-4-30', '2-0-1-1-0-0-0-3-15', '2-0-2-1-1-1-0-3-79', '2-0-2-0-0-1-0-4-67', '2-1-2-0-2-3-0-4-80', '2-0-2-1-0-1-0-3-98', '2-1-1-2-3-2-0-4-1', '1-1-2-1-3-3', '2-0-1-2-1-0-0-4-66', '2-1-1-1-2-2-0-4-94', '2-0-1-1-0-1-0-3-93', '2-1-1-1-2-0-0-4-53', '2-0-1-1-0-0-0-4-68', '2-1-1-1-0-1-0-4-85', '2-0-2-1-0-1-0-4-55', '2-1-2-0-2-2-0-4-53', '2-0-0-1-1--1', '1-0-1-1-2-0-0-3-61', '2-1-1-1-3-2-0-4-40', '1-1-2-1-2-3-0-4-62', '2-0-2-2-0-3-1-4-3', '2-0-0-1-1-0-0-4', '2-0-1-1-2-0-0-4-47', '2-1-2-0-2-0-0-4-82', '2-1-2-0-0-1-0-4-89', '2-0-1-1-0-0-0-4-56', '2-1-1-2-2-2-0-4', '1-0-1-1-3-0-0-3-34', '1-0-1-2-3-2-0-3-16', '2-0-1-1-2--1-0-3-41', '2-1-2-1-1-1-0-3-57', '1-0-1-1-2-1-0-4-53', '2-0-2-1-2-0-0-4-5', '2-1-1-2-0-2-0-4', '1-0-0-1-3-3-0-3-28', '2-0-1-0-1-2-0-4-51', '2-0-2-2-1-1-0-4-60', '2-0-0-1-0-0-0-3-37', '2-0-1-1-2-3-0-1-44', '2-1-1-1-1-1-0-4-76', '2-1-1-1-0-0-0-4-79', '2-0-1-2-1-0-0-3-6', '1-0-1-1-1-3-0-4-1', '2-0-0-1-3', '2-1-1-1-1-1-0-4-73', '2-0-2-0-1-2-0-3-32', '2-1-1-0-0-1-0-4-44', '2-1-2-2-1-1-0-3-18', '2-0-2-1-1-1-0-4-46', '2-0-1-0-1-0-0-4-21', '2-1-2-1-2-1-0-4-68', '2-1-2-0-1-2-0-4-5', '2-1-2-2-3-3-1-4', '1-0-2-0-3-3-0-4-31', '2-0-1-1-0-1-0-4-18', '2-1-1-1-1-3-0-4-37', '2-0-2-2-0-1-1-3-1', '2-0-0-1-1-1-0-3-1', '2-0-1-0-2-2-1-4-3', '2-0-2-0-2-2-0-4-35', '2-1-1-1-0-0-0-4-89', '1-0-1-2-1-1-0', '2-0-1-2-0-0-0-3-81', '1-0-1-0-2-0-0-4-71', '1-0-2-1-3-1-0-4-19', '2-0-2-1-0-1-0-4-50', '2-0-2-0-1-0-0-4-22', '1-1-1-1-3-1-0-4-18', '2-1-1-2-1-0-0-4-22', '2-0-1-1-1-0-0-3-52', '2-0-1-1-1-2-0-4-74', '2-0-1-2-1-2-0-4-27', '1-0-2-1-3-1-0-4-98', '2-0-2-1-1-2-0-3-14', '2-0-2-1-2-2-0-4-18', '1-0-1-1-3-1-0-4-34', '2-0-2-0-0-2-0-4-80', '2-0-1-0-0-1-1-3', '2-0-1-0-1-1-0-3-36', '2-1-1-2-3-3-0-4-81', '1-0-2-1-3-1-0-4-14', '2-0-0-1-1-1-0-3-48', '2-0-2-1-0-2-0-4', '2-0-2-1-1--1-0', '2-1-1-2-0-0-0-4-64', '2-0-2-1-3-0-0-4-32', '2-0-1-0-1-0-0-2-56', '2-0-0-1-0-2-1', '1-0-1-1-1-1-0-4-48', '2-0-1-0-2-3-0-3-39', '2-0-2-2-0-1-0-3-69', '2-0-0-1-1-0-0-3-38', '2-0-2-1-2-3-0-3-78', '2-0-1-1-1-3-0-3-77', '2-0-2-2-0-0-0-3-71', '2-1-2-2-0-1-0-4-61', '2-0-2-1-0-0', '2-1-0-1-1-0-0-3-77', '2-0-1-1-3-0-0-3-100', '2-0-2-1-2-1-0-4-58', '2-0-2-1-3-3', '2-0-1-1-1-3-0-3-30', '2-0-1-2-1-3-0-4-24', '2-1-0-1-1-0-0-3-99', '2-0-1-0-2-1-0-4-40', '2-0-1-1-1-0-0-4-17', '2-1-2-1-0-0-0-4-84', '2-0-2-1-1-2-0-4-31', '2-0-2-1-2-2-1-4-7', '2-1-1-1-0-0-0-3-53', '2-0-0-1-0-1-0-3-6', '2-1-1-0-2-3-0-4-31', '2-0-2-0-3-1-0-4-5', '2-1-1-0-1-0-0-4', '2-0-1-0-1-2-0-3-8', '2-1-0-1-1-0-0-3-58', '1-0-2-2-3-0-0-4-73', '2-1-2-1-0-1-0-4-90', '2-0-2-1-1-0-1-4-8', '2-0-1-1-1-1-0-4-41', '1-0-2-0-2-1', '2-1-1-1-1-0-1-4-1', '1-0-2-2-0-0-0-3', '2-0-2-2-1-3-0-3-73', '2-1-2-2-1-1-0-4', '2-0-2-1-0-1-0-3-66', '2-0-2-1-2-2-0-4-1', '2-1-1-1-1-2-0-4-45', '2-0-2-1-3-2-0-3-32', '2-0-1-2-1-1-0-4-43', '2-1-1-2-1-0-0-4-30', '2-0-1-1-1-1-0-3-32', '2-1-2-1-1-2-0-3-19', '1-0-1-0-3-2-0-3-38', '2-0-1-1-2-2-0-4-8', '2-0-0-1-2-2-0-3-9', '2-0-1-1-2-2-0-4-95', '2-0-2-1-2-2-0-4-62', '2-0-1-1-1-3-0-3-69', '1-0-2-1-2-0-1-4-10', '2-0-2-1-0-2-0-3-79', '2-0-2-1-2-2-0-4-29', '2-1-2-1-0-2-0-3-52', '2-0-2-2-1-1-0-4-74', '2-0-1-1-0-0-0-4-29', '2-0-0-1-0-2-0-4-36', '2-1-1-1-1-2-0-3-82', '1-1-1-1-2-3-0', '2-0-1-0-0-3-0-4-55', '2-0-2-2-0-0-1-4-1', '2-0-1-1-0-3-0-4-42', '2-1-1-1-2-2-0-4-27', '2-1-2-1-0-0-0-3-68', '2-0-1-1-1-3-0-4-12', '2-0-1-1-2-2-0-4-56', '1-0-1-1-3-0-0-3-33', '2-0-1-0-0-1-0-4-86', '2-0-1-1-2-1-0-4-97', '2-0-1-2-1-0-0-4-48', '2-1-1-0-2-0-0-4-76', '2-0-1-1-2-2-0-3-8', '2-0-2-2-0-0-0-4-92', '2-1-1-1-0-1-0-4-33', '2-0-1-1-1-0-0-3-37', '2-0-1-1-2-0-0-4-22', '2-0-2-1-1-3-0-4-98', '1-0-2-2-3', '2-1-1-1-2--1-0-3-49', '2-0-1-2-3-0-0-4-3', '2-1-1-1-1-3-0-3', '1-0-2-2-3-3-0-4-54', '2-1-2-0-0-1-0-4-98', '2-0-1-0-0-0-0-4-34', '2-0-2-1-3-0-1', '2-0-2-1-3-2-0-3-35', '2-0-2-1-1-3-0-4-9', '2-0-1-1-0-1-1-4', '2-0-2-1-2-3-1-4-10', '2-1-2-1-1-2-0-4-45', '2-0-2-2-2-0-0-4-98', '1-1-1-1-2-1-0-3', '2-1-1-1-0-3-0-4-1', '2-0-1-1-1-0-0-3-71', '2-1-1-1-0-2-0-4-7', '2-1-1-1-1-3-0-3-26', '2-0-2-0-2-0-0-4-79', '2-1-1-1-2-3', '2-1-1-1-1-1-0-4-60', '2-0-2-0-2-1-0-4-20', '2-1-2-0-1-1-0-4-7', '2-0-1-0-1-0-0-4-9', '2-0-1-0-3-0-0-4-76', '2-1-1-1-0-0-0-3-50', '1-0-2-1-0-0-0-3-98', '2-1-2-0-1-1-0-3-33', '2-1-1-0-0-0-0-4-65', '2-1-0-1-1-0-0-3-98', '1-1-2-2-0-0', '2-1-1-2-3-2-0-3-1', '1-0-1-0-1-0', '2-0-1-1-1-1-0-4-78', '2-0-1-0-1-2-0-4-85', '2-1-0-1-2-3-0-4', '2-0-2-1-0-3-0-3-11', '2-0-1-1-2-2-0-3-99', '2-1-1-1-1-0-0-4-15', '2-0-0-0-1-3-0-3', '2-0-2-0-1-2-1-3-10', '2-0-1-1-1-2-0-3-48', '2-0-1-1-1-1-0-3-34', '2-1-1-2-1-3-0-4-78', '2-0-1-0-2-2-0-4-55', '1-0-2-1-2-1-0-3', '1-1-1-0-3-2-0-4-38', '2-1-1-1-0-1-0-3-30', '2-1-1-0-0-2-0-3-84', '2-0-2-0-1-0-0-4-56', '2-1-1-1-1-3-0-3-19', '2-1-2-1-1-2-0-3-87', '2-0-1-0-0-0-0-4-43', '2-1-1-0-2-1-0-4-59', '2-0-1-1-1-0-0-3-7', '2-1-1-0-2-2-0-3-59', '2-0-2-1-1-1-0-4-14', '2-0-1-2-0-0-0-4-3', '2-0-2-2-2-1-0-4-99', '2-1-2-2-0-0', '2-0-2-1-1-0-0-4-47', '1-0-1-1-2-3-0-4-41', '2-0-2-1-3-0-0-4-33', '1-0-2-0-2-1-0-4-75', '2-0-1-1-0-0-0-4-70', '2-0-1-2-1-0-0-3-48', '2-0-1-1-1-0-0-3-76', '1-1-1-1-3-2-0-4-82', '2-0-2-1-0-1-0-3-46', '2-0-2-1-2-1-1-3', '2-0-2-1-1-1-0-4-62', '2-1-2-1-2-0-0-4-47', '2-0-2-2-0-0-0-4-37', '2-1-1-1-1-3-0-4-45', '2-0-2-1-2-1-0-3-76', '2-0-2-2-0-1-0-4-4', '1-0-1-1-2-0-0-4-72', '2-0-2-1-2-1-0-4-6', '2-1-2-1-1-0-0-4-21', '2-0-2-1-2-1-0-3-6', '2-0-2-1-3-1-0-3-27', '2-0-2-1-2-3-0-4-76', '1-0-2-1-3-2-0-4-98', '2-1-2-1-0-0-0-4-100', '2-1-2-1-2-2-0-3-37', '2-0-2-1-0-3-0-4-38', '2-0-1-1-3-0-0-4-15', '2-0-2-2-0-0-0-4-99', '2-0-1-1-3-3-0-3-39', '2-0-2-1-2-1-0-4-13', '2-1-2-0-1-3-0-3-7', '2-0-2-0-0-3-0-4-80', '2-0-1-0-1-2-0-4-86', '2-0-2-0-1-1-0-3-46', '1-0-1-1-3-0-0-4-28', '2-0-1-0-2-0-0-3-71', '2-1-1-0-0-1-0-4-63', '2-1-1-1-2-3-0-3-48', '2-0-2-1-2-2-0-4-91', '2-0-1-0-2-1-0-4-45', '1-1-1-0-2-3-0-4-89', '2-0-1-0-1-3-0-4-100', '1-1-1-1-3-1-0-4-55', '2-0-2-0-0-1-0-3-49', '2-1-2-1-1-1-0-4-46', '1-0-0-0-3-0-0-3', '2-0-1-1-1-1-0-4-10', '2-1-1-1-2-3-0-4-10', '2-0-1-1-1-0-0-3-62', '2-1-2-0-0-0-0-3-35', '2-0-1-0-0-0-0-3-93', '2-0-1-1-2-2-0-4-18', '2-0-1-1-1-3-0-4-89', '2-0-1-2-0-0-0-3-30', '2-1-1-1-3-2-0-3', '2-1-1-1-0-2-0-3-41', '2-0-1-1-0-1-0-4-16', '2-1-1-2-0-2-0-4-90', '2-0-1-2-1-3-0-3-18', '1-0-1-0-2-3-0-4-57', '1-1-2-1-2-0-0-4-62', '1-0-2-1-1-3-0-4-50', '2-0-1-1-0-1-0-3-68', '2-0-1-0-2-', '1-0-2-1-2-0-0-3-98', '2-0-2-0-2-3-0-4-13', '1-0-1-1-3-2-0-4-35', '2-1-2-1-1-2-0-3-63', '2-1-2-1-2-2-0-4-23', '2-0-1-1-0-2-0-3-62', '1-1-2-1-3-3-0-3-53', '2-0-2-1-0-2-0-4-88', '2-0-1-2-1-2-0-4-44', '2-0-1-0-2-1-0-4-11', '2-0-1-1-0-1-0-3-69', '2-0-0-1-2-0-0-3', '2-1-1-1-1-3-0-3-100', '2-0-2-1-3-2-0-3-97', '2-1-0-1-1-1-0-2-64', '1-0-2-1-3-3-0-4-71', '1-1-2-2-0-0-0-4', '2-0-1-1-2-3-0-4-3', '2-0-1-0-2-0-0-4-99', '2-0-2-0-2-0-0-4-18', '2-1-2-1-2-2-0-4-2', '2-1-1-1-2-1-0-3-76', '2-0-2-1-2-1-0-3-65', '1-0-1-0-0-2-0', '2-0-2-0-0-2-0-4-61', '2-1-1-2-0', '2-1-1-1-3-3-0-4-42', '2-0-1-1-3-0-0-3-48', '2-0-1-1-1-0-0-4-40', '1-1-2-0-0-0', '2-0-1-1-0-0-0-3-14', '2-0-2-1-3-1-0-4-96', '2-0-1-0-0-2-0-4-5', '2-1-2-0-1-1-0-4-43', '2-1-2-1-0-1-0-3-33', '2-0-2-1-1-1-0-4-3', '2-0-1-1-2-0-0-3-40', '2-0-1-0-0-0-0-4-62', '1-1-1-2-3-3', '2-1-1-1-1-1-0-4', '2-1-2-1-1-1-0-4-37', '2-1-1-1-1-2', '2-0-1-2-1-0-0-4-31', '2-0-1-1-0-0-0-4-40', '2-0-2-1-1-2-0-3-99', '2-0-1-1-1-3-0-4-13', '2-0-2-1-2-2-0-4-63', '2-0-1-1-0-1-0-4-39', '1-0-2-1-3-0-0-4-10', '1-0-2-0-3-1-0-4-58', '2-0-2-0-3-1-0-4-34', '2-0-2-1-3-2-0-4-33', '2-0-1-1-1-1-0-4-71', '1-0-0-1-2-2-1-3-2', '2-0-2-0-1-3-0-4-52', '2-0-2-1-1-0-0-4-77', '1-0-0-1-2-2-0-3', '2-1-2-0-0-1-0-3-75', '1-1-1-1-2-3-0-4', '2-0-2-1-0-2-0-4-66', '2-0-1-0-2-3-0-4-60', '2-0-1-1-2-1-0-4-94', '2-0-2-1-2-2-0-3-72', '1-0-2-1-1-0-0-3-56', '2-0-1-0-2-3-0-4-45', '2-0-2-1-0-0-1-4-5', '1-0-2-1-3-2-0-3', '2-1-2-1-2-0-0-4-93', '2-0-2-0-2-0-0-4-29', '2-0-2-1-2-2-0-3-17', '2-0-2-0-2-2-0-3-29', '2-1-2-0-2-1-0-4-86', '2-0-1-1-1-0-0-3-96', '2-0-2-2-3-3-0-4-41', '2-0-1-1-3-2-0-4-22', '2-1-0-1-1--1', '2-0-1-1-0-2-0-3-41', '2-1-1-1-2-2-0-4-16', '2-0-1-1-0-2-0-4-10', '1-1-2-2-0-1-0-4', '2-1-1-2-0-0-0-4-81', '2-0-2-1-2-2-0-2-77', '2-1-1-0-1-1-0-4-22', '1-0-2-2-2-0-0-4-3', '2-0-1-0-3-3', '2-1-0-1-1-0-0-2', '2-1-0-0-0-2', '2-1-2-1-1-3-1-3', '2-1-1-1-3-0-0-4-97', '1-1-0-1-2', '2-0-2-2-1-1-1-4', '2-0-1-0-2-1-0-4-82', '1-1-2-1-3-1-0-4-2', '2-0-2-1-2-1-0-4-94', '1-0-2-1-0-2-0', '2-1-1-1-1-2-0-4-57', '2-0-1-2-0-1-1-4-1', '2-1-0-0-0', '2-0-1-1-0-0-0-4-46', '2-1-2-2-3-1-0', '2-0-2-0-0-0-0-4-29', '2-0-1-1-0--1-0-3-31', '2-0-2-1-0-1-1-4-6', '2-0-1-1-1-0-0-4-83', '2-1-1-0-2-2-0-4-34', '2-1-2-1-1-0-0-4-36', '2-1-2-1-0-1-0-4-16', '2-1-2-2-1-1-0-4-21', '2-0-2-1-0-3-0-3-17', '2-0-1-0-0-1-0-3-29', '1-1-2-2-0-0-0', '2-0-1-1-2--1-0-3-97', '2-1-1-1-2-0-0-3-19', '2-0-1-0-1-0-0-4-41', '2-0-2-1-0-3-0-4-39', '2-1-2-1-0-0-0-4-99', '1-1-2-1-0-0-0-4', '2-0-1-1-1-0-0-3-39', '2-1-1-1-2-1-0-3-99', '2-0-2-0-1-3-0-3-23', '2-0-2-0-0-0-0-4-26', '2-0-1-1-1-3-0-4-61', '2-1-1-1-2-0-0-4-43', '2-1-1-1-3-3-0-3-5', '2-0-0-1-2-2-0-3-52', '2-0-1-0-3-0-0-3-48', '1-1-2-0-3-2', '2-0-2-2-3-0-0-4-41', '2-1-2-0-0-0-0-4-52', '2-0-2-0-1-3-1-4-10', '2-0-2-0-1-0-0-4-84', '1-0-1-1-1-2-0-3-55', '2-1-1-1-1-0-0-3-34', '2-0-1-1-3-3-0-4-15', '2-0-1-2-3-0-0-4-25', '2-1-1-1-2-3-0-3-45', '2-0-1-1-1--1-0-3-49', '2-1-2-1-3-3-0-4-44', '1-0-2-1-2-1-1-4-8', '2-1-2-1-0-0-0-3-61', '2-0-1-1-2-0-0-4-7', '2-0-2-0-2-1-0-4-4', '2-0-2-0-2-2-1-4', '2-1-1-2-2-1-0-3-44', '2-0-1-1-1-0-0-4-12', '2-0-2-2-1-2-0-3-37', '2-1-2-1-3-1-1-4-4', '2-0-2-1-2-1-0-4-7', '2-0-2-1-0-1-0-4-21', '1-0-1-1-1-1-0-4-40', '2-0-1-1-2-3-0-3-96', '2-0-1-0-1-3-0-4-53', '1-0-2-1-2-1-0-4-86', '2-0-1-1-1-0-0-3-42', '2-1-2-0-0-0-0-3-17', '2-0-0-1-3-0-0-3-88', '2-0-1-2-2-1-0-4-2', '2-1-2-1-0-1-0-3-27', '1-1-1-1-0-0-0-4-46', '1-1-0-1-0-0', '2-1-2-1-1-3-0-4-65', '1-1-1-1-3-1-0-4-6', '1-0-1-1-3-0-0-4-34', '2-1-2-1-3-0-0-4-7', '1-1-1-0-3-0-0-4-35', '1-0-2-1-3-0-0-4-55', '2-0-2-2-0-0-0-4-82', '2-1-1-1-0-0-0-3-12', '2-1-0-0-2-3-0-3-11', '1-0-2-1-3-2-0-3-33', '2-0-0-1-2-1-0-3-86', '2-0-2-1-1-2-0-4-86', '2-0-1-1-0-3-0-4-24', '2-0-2-0-0-0-0-3-32', '2-0-1-0-3-3-0-3-16', '2-1-1-1-0-2-0-3-5', '2-0-1-1-0-3-0-3-38', '1-0-2-0-1-3-0-4', '2-0-1-1-1-2-0-4-90', '2-1-1-2-1-0-0-4-7', '2-1-2-2-1-1-0-3-81', '2-0-2-0-2-3-0-3-93', '2-0-1-0-2-2-0-4-65', '2-0-0-2-1-1-0-4', '2-0-2-1-1-2-0-4-74', '2-0-2-1-0-2-0-4-52', '2-0-2-1-2-1-0-4-79', '2-1-2-1-0-2-0-3-36', '1-0-2-1-2-1', '2-1-2-2-1-0', '1-0-2-1-3-3-0-4-58', '2-1-1-0-2-2-0-4-77', '2-0-1-2-1-0-0-4-36', '2-1-1-1-0-2-0-3-78', '1-0-2-0-3-2-0-3', '2-1-1-2-1-0-0-3-59', '2-0-1-1-1-1-0-4-45', '2-1-0-1-2-3-0-2-65', '1-0-2-1-2-2-1', '2-1-1-1-1-1-1', '2-0-1-2-2-3', '2-0-2-1-0-2-1-4-4', '2-0-1-0-2', '1-0-2-2-1-0-0-3-98', '2-0-2-1-2-0-0-4-49', '2-0-1-1-2-1-0-3-23', '2-0-2-0-2-2-0-4-83', '1-1-0-0-3-0-1-3', '2-1-2-1-1-0-0-4-17', '1-0-0-1-2-2-0-3-100', '2-1-2-1-1-1-0-4-41', '2-1-2-1-2-2-0-3-99', '2-0-1-1-1-3-0-4-45', '2-0-1-2-2-2-0-4-29', '2-1-2-1-1-0-0-4-22', '1-0-0-1-2-0-0-3-84', '2-0-1-2-0-0-0-4-84', '2-0-2-2-2-2-0-4-100', '2-0-2-1-0-0-0-3-98', '2-0-2-1-1-1-0-3-62', '2-1-1-0-2-1-0-4-82', '2-0-1-1-3-0-1-4-2', '2-0-1-0-1-2-0', '2-0-2-0-0--1', '2-1-1-1-2-3-0-4-35', '2-1-2-2-1-1-0-3-16', '2-0-1-1-2-3-0-4-57', '1-0-1-0-3-0-0-3-36', '2-0-2-0-1-0-0-4-23', '2-0-1-1-1-3-0-3-3', '2-0-1-1-0-2-0-3-65', '2-0-0-1-1-0-0-3-32', '2-1-1-2-1-1-0-3-51', '2-0-2-2-0-1-0-4-29', '2-0-2-1-1-', '2-1-0-1-1-', '2-0-1-1-2-2-0-3', '2-0-1-1-3-1-1-3-3', '1-1-1-1-0-0-0-4-49', '2-1-2-2-2-0-0-4-17', '2-1-2-1-2-2-0-4-13', '2-0-1-1-0-1-0-3-65', '1-1-1-1-2-0-0-4', '2-0-1-2-0-0-0-3-43', '2-1-2-2-0-3-0-4-6', '2-0-2-0-2-0-0-4-80', '2-1-1-1-2-1-0-3-6', '2-1-2-2-2-2-0-3-15', '2-0-2-1-0-2-0-4-67', '2-0-2-1-0-0-0-3-97', '2-0-2-1-0-2-0-3-84', '2-0-1-1-0-0-0-4-27', '1-0-1-1-3-3-0-4-86', '1-0-1-0-0-0', '2-1-1-1-1-3-0-4-16', '1-1-0-1-0-0-0-3-98', '2-0-1-2-1-2-0-3-4', '1-0-1-0-3-0-0-3-11', '1-0-0-1-1-2-0', '2-0-2-1-1-2-0-4-81', '2-0-2-1-2-0-0-4-33', '2-0-1-1-1-1-0-3-2', '2-0-2-1-2-2-0-4-28', '2-0-1-1-0-1-0-3-20', '2-0-1-1-3-2-0-4-1', '2-1-1-0-2-1-0-4-95', '1-0-2-2-2-1-0', '1-0-1-1-3-3-0-4-15', '2-1-1-1-0-1-0-4-77', '2-0-1-1-0-1-0-4-62', '2-1-2-1-1-0-0-4-33', '1-0-1-1-0-0-1-3-1', '2-0-2-1-0-2-0-3-72', '2-0-2-1-2-3-0-3-17', '2-0-0-1-1-0-0-2-69', '2-0-2-2-0-0-0-4-35', '2-0-1-1-1-1-0-3-50', '2-0-2-1-1-2-0-3-32', '2-0-1-0-1-1-0-4-8', '2-0-1-1-2-2-0-4-70', '2-0-2-2-0-2-1-4-1', '2-0-1-1-1-1-0-3-78', '2-0-1-1-0-0-0-4-86', '2-1-1-1-2-2-0-3-34', '1-0-2-0-3', '2-1-1-1-0-1-0-3-69', '2-0-1-1-0-1-0-3-11', '2-0-2-0-0-1-0-4-44', '2-1-2-0-1-2-0', '2-1-2-1-0-2-0-4-50', '2-0-1-1-0-2-1-3-5', '2-0-1-0-2-1-0-4-69', '2-0-1-1-0-3-0-3-40', '2-1-2-2-2-2-0-4-15', '2-0-2-1-1-1-0-4-54', '2-0-1-1-1-2-0-4-50', '2-0-0-1-1-1-0-3-44', '2-0-2-1-0-3-0-4-79', '2-0-1-2-3-0-0-4-17', '1-0-1-1-3-1-0-4-49', '2-0-1-1-1-1-0-3-69', '1-1-2-1-3-1-1-4-1', '2-0-1-1-0-0-1-4-2', '1-1-1-0-3-0', '2-0-1-1-2-1-0-3-84', '2-1-1-0-3-1-0-3', '1-1-2-1-3-3-0-3-9', '2-1-2-0-1-1-0-4-61', '1-1-1-1-3-3-1-3-3', '1-0-2-1-3-0-0-4-6', '2-0-2-1-0-3-1-3-2', '1-1-1-1-1-0-0-4-100', '2-0-2-2-1-0-0-4-30', '2-1-2-1-2-1-1-3-8', '2-0-2-1-1-3-0-4-38', '2-1-2-0-0--1-0-3', '2-0-1-0-0-1-0-4-27', '1-0-0-1-2-3-0', '2-1-1-1-2-2-0-4-22', '2-0-2-1-2-3-0-3-37', '2-0-2-1-0-3-0', '2-1-1-0-2-3-0-3-42', '2-0-2-1-0-0-1-4-3', '2-0-1-1-2-3-1-4', '2-0-1-1-1-0-0-3-53', '2-0-2-1-2-2-0-3-92', '2-0-2-2-0-0-0-3-19', '2-0-1-1-1-2-0-3-3', '2-0-1-2-2-0-0-4-81', '2-0-2-0-0-1-0-4', '2-1-1-0-1-0-0-3-18', '2-0-1-0-1-2-0-3-3', '2-1-1-1-0-2-0-3-39', '2-0-2-1-1-1-1-3', '2-0-1-2-1-2-0-4-100', '1-0-0-1-2-2-0-3-66', '2-1-2-1-2-3-0-4-34', '2-0-2-0-2-3-0-4-16', '1-0-0-0-3-2-0-3', '1-0-1-1-2-0-0', '2-0-2-0-0-0-0-4-78', '2-0-1-1-1-3-0-4-63', '1-0-2-1-1-1-0-3', '2-0-1-2-1-1-0-4-72', '1-0-1-1-2-3-0-4-22', '2-0-2-0-0-0-0-3-25', '2-0-1-0-1-3-0-4-75', '1-1-1-0-3-2-0-4-39', '2-1-1-1-1-3-1-4-6', '2-1-1-0-2-0-0-4-27', '2-0-1-1-3-2-0', '1-0-2-2-0-2', '2-0-1-0-1-2-0-4-27', '2-0-2-0-2-2-0-4', '2-1-1-1-0-0-0-3-11', '1-1-2-2-0-1-0', '2-1-1-1-1-2-0-3-42', '2-0-2-1-0-0-0-3-15', '2-1-2-1-2-0-0-4-81', '2-0-1-1-2-1-1-4-3', '2-0-1-1-2-3-0-3-11', '2-0-1-1-2-2-0-3-28', '2-1-2-0-1-2-0-4-77', '2-0-1-1-1-3-0-4-100', '2-0-2-1-1-2-0-4-40', '2-1-2-2-1-2-0-4-41', '2-0-0-1-1-0-0-3-45', '2-1-2-1-0-2-0-3-64', '2-1-2-1-2-1-0-4-90', '2-0-2-1-0-2-0-4-82', '1-0-1-0-3-0-0-4-33', '2-0-1-1-0-3-0-4-39', '2-0-1-2-1-1-0', '2-0-2-1-1-1-0-3-29', '2-0-0-1-1-1-0-3-18', '2-1-2-2-2-2-0-4-78', '2-1-2-1-1-0-0-3', '2-0-1-1-1--1-1', '1-1-2-1-2-0-0-4-31', '1-1-1-1-3-3-0-4-8', '2-0-1-2-1-0-0-4-2', '2-0-1-0-2-1-0-4-33', '2-1-1-1-1-2-0-3-71', '1-0-1-2-0-1-1-4', '2-0-2-0-0-1-0-4-89', '2-0-1-1-2-3-1-4-6', '2-0-1-0-1-1-0-4-31', '2-0-1-1-0--1-0-4-36', '2-0-0-1-0-0-1-2-5', '1-0-1-1-0-2-1-4-1', '1-1-2-1-2-2-0-4-86', '2-1-1-1-1-0-0-3-36', '2-0-0-1-2--1', '2-1-2-1-2-1-0-4-59', '2-1-1-1-2-2-0-4-76', '2-1-2-1-2-1-0-4-9', '2-0-1-1-2-1-0-3-33', '2-0-1-1-2-1-0-4-52', '2-1-2-0-2-1', '2-0-1-0-3-2-0-4-33', '2-0-1-0-0-0-0-3-34', '2-1-2-0-2-1-0-3-35', '2-1-1-0-2-0-0-4-100', '2-0-1-1-3-1-0-3-4', '1-1-2-1-3-0-0-4-99', '2-0-2-1-2-2-0-4-96', '2-0-1-2-1-1-0-4-59', '2-1-2-2-0-3-0-3-41', '2-1-1-1-2-0-0-4-98', '2-1-2-0-0-0-0-4-57', '2-1-0-1-0-0-0-3-17', '1-0-1-1-2-3-0-3-63', '2-0-1-1-0-0-0-3-92', '2-0-2-0-2-0-0-3-9', '2-0-1-0-1-1-0-4-33', '1-0-1-1-2-1-0-4-35', '2-0-2-0-2-2-0-4-43', '2-0-2-2-0-0-0-4-71', '2-1-2-1-0-2-0-3-91', '2-1-0-1-0-1-0-3-26', '2-1-1-2-2-2-0-4-15', '2-0-2-0-2-3-0-4-33', '1-0-1-1-2-0-0-4-88', '2-0-1-1-3-3-1-4', '1-0-1-1-3-0-0-4-61', '2-0-2-1-2-1-0-4-33', '2-1-2-2-1-3-0-3-79', '2-0-1-1-2-1-0-3-3', '2-0-1-0-3-3-0-4-74', '2-1-1-1-2-2-0-3-1', '2-0-1-0-1-2-0-4-58', '2-0-1-1-0-0-0-3-91', '2-0-2-1-1-3-0-3-34', '2-0-2-1-2-0-0-4', '2-0-2-1-0-0-1-4-11', '2-1-2-0-1-2-0-4-99', '2-1-0-0-2-', '2-0-1-1-3-0-0-4-13', '2-1-2-1-2-2-0-4-57', '1-0-1-1-1-0-0-3-52', '2-0-1-0-2-2-0-4-85', '1-1-1-0-0-1-0-4', '2-1-1-1-1-1-0-4-90', '1-0-1-1-3-0-0-4-33', '2-0-2-2-0-1-0-4-82', '2-0-1-0-0-0-1-3', '1-1-2-1-3-1-0-4-36', '1-0-1-1-2-2-0-4-86', '1-1-1-1-0-0-0-3-96', '2-0-1-2-1-0-0-3-38', '2-1-2-1-2-0-0-3-31', '1-0-1-2-3-3-0-4', '2-0-1-1-1-2-0-3-27', '2-1-2-0-2-3-0-4-16', '2-0-1-0-2-0-0-3-1', '2-0-1-1-1-0-0-3-43', '2-0-2-1-0-1-0-4-77', '1-1-1-1-3-3-0-4-45', '2-0-1-1-2-2-0-4-20', '2-0-2-0-2-3-0-4-8', '2-0-1-0-3-1-0-4-51', '2-0-1-2-1-1-0-4-60', '2-0-2-1-2-3-0-3-27', '2-0-0-2-1-0-0-3-47', '2-0-1-1-0-1-0-3-8', '2-0-1-1-0-2-0-4-75', '1-1-1-0-3-1-0-4-8', '2-1-2-1-3-3-0-3-43', '2-0-2-0-2-1-0-4-83', '2-0-1-1-0-3-0-4-79', '2-0-1-1-3-0-1-4-3', '2-1-2-1-1-2-0-3-100', '2-0-2-1-1-0-0-3-84', '2-0-2-0-1-1-0-3-30', '2-1-1-1-2-2-0-4-36', '2-1-2-1-1-3-0-4-82', '2-0-1-0-2-3-1-4-2', '2-1-1-1-3-1-0-4-4', '1-0-1-1-2-0-0-4-84', '1-0-2-1-3-3-0-3-37', '2-0-2-1-0-0-0-4-94', '1-0-1-1-2-3-0-4-82', '2-0-2-0-2-2-0-4-81', '2-0-2-1-2-', '2-1-2-0-0-0-0-4', '1-1-1-0-3-3-0-3', '2-1-1-1-2-1-0-4-30', '2-1-1-0-2-1-0-3-18', '2-1-2-1-2-2-0-4-35', '2-1-1-1-2-1-0-3-64', '2-0-2-0-1-0-0-3-6', '2-1-2-1-2-3-0-4-97', '1-0-1-1-2-0-0-3-54', '2-1', '1-0-2-0-2-3-0-3-1', '2-0-0-0-2-2-0-3-72', '2-0-2-0-1-1-0-4-57', '2-1-2-2-3-3-0-4-81', '2-0-1-1-1-0-0-4-99', '1-1-1-1-2-2-0-4-98', '2-1-1-1-0-1-0-3-27', '2-1-2-1-1-1-0-4-73', '1-0-2-1-0-3-1-3-3', '2-1-1-1-0-2-0-3-100', '2-0-1-0-2-3-0-3-51', '2-0-2-1-2-1-0-3-53', '1-0-0-1-3-1', '1-0-1-1-3-0-0-3', '1-1-2-1-2-3-0-4-77', '2-0-2-1-1-3-0-3-94', '2-1-1-0-3-2-0-4', '2-1-2-0-2-2-0-4-98', '1-0-1-1-2-0-0-4-67', '2-1-1-1-2--1-0-3-14', '2-0-1-1-1-3-0-4-7', '1-0-2-1-3-3-0-4-59', '2-0-2-2-1-3-0-4-80', '2-1-2-1-1-0-0-4-37', '2-0-1-1-1-0-0-4-37', '1-0-1-1-0-0-0', '1-0-1-1-1-1-0-4', '2-0-2-2-0-0-0-4-3', '1-0-2-1-1-3-0-4', '2-1-1-1-2-3-0-4-17', '2-1-1-2-1-2-0-3-44', '2-1-1-1-2-3-0-4-66', '2-0-1-1-1-0-0-3-20', '2-0-0-1-1-1-0', '1-0-2-2-0-1', '2-0-1-1-0-2-0-3-51', '2-0-2-2-1-2-0', '2-0-1-0-2-1-0-3-61', '2-0-1-1-1-2-0-3', '2-0-1-0-1-2-0-4-84', '2-0-2-1-2-2-0-4-97', '2-1-1-0-0-0-0-4-64', '2-1-2-0-2-2-0-3-56', '2-0-1-1-1-1-0-4-52', '1-1-2-1-3-3-0-3-83', '2-1-1-2-2-2-0-4-90', '1-0-2-2-1-3-0-4-100', '2-0-2-1-2-0-0-3-57', '1-0-1-1-0-3-1-4', '2-1-1-1-0-2-0-4-20', '2-0-2-1-2-3-0-3-6', '2-1-2-1-0-0-0-4-26', '2-0-0-1-3-0', '1-1-0-1-2-1', '2-1-1-1-2-1-0-3-39', '2-0-1-1-2-0-0-4-73', '2-1-1-1-0-1-0-3-53', '2-0-2-1-2-0-0-4-11', '2-0-2-1-0-0-0-3-3', '2-0-1-2-1-0-0-3-5', '2-0-1-0-2-0-0-4-39', '2-1-2-1-2-1-0-4-58', '2-1-0-1-3-1-0-3', '2-0-2-1-0-2-0-4-49', '2-0-2-1-3-3-0-3-17', '2-1-1-1-1-0-0-3-32', '2-0-1-1-0-0-0-4-45', '2-0-2-1-0-3-0-4-21', '2-0-1-1-0-3-0-3-63', '2-1-1-0-0-0-0-3-44', '2-0-1-1-1-1-0-4-6', '2-0-2-1-2-1-0-4-48', '2-1-2-2-1-1-0-4-46', '2-1-1-0-2-3-0-4-32', '1-0-1-2-0-0-0-3-98', '2-1-2-1-1-1-0-4-100', '2-0-2-1-2-3-0-3-62', '2-1-1-1-0-0-0-4-72', '2-1-2-1-0-1-0-4-66', '2-0-2-1-2-2-0-4-65', '2-0-2-2-1-2-0-4-34', '2-0-1-1-0-3-1', '2-0-2-1-2-2-0-4-81', '2-1-2-1-2-1-1', '2-0-0-1-3-3-0-3-2', '1-1-2-1-3-2-0-4-99', '2-1-1-1-1-0-0-4-48', '2-0-2-0-0-0-0-4-57', '2-1-2-1-0-0-0-4-69', '2-1-2-1-1-3-0-4-69', '2-0-2-0-1-2-0-3-16', '2-0-0-1-1-1-0-3-98', '2-1-1-1-2-1-0-1-30', '2-1-1-1-2-0-0-4-28', '2-0-2-0-2-1-0-3-55', '1-0-2-0-3-2', '1-1-2-1-3-0-0-4-21', '2-0-1-1-0-2-0-4-85', '1-0-2-0-1-3-0-4-29', '2-0-2-2-1-2-0-4-37', '2-1-1-1-1-1-0-4-64', '2-1-1-0-2-3-0-4-66', '2-1-1-1-1-1-0-4-100', '2-0-0-1-2-3-0-4-21', '1-1-2-1-3-3-0-4-11', '2-1-2-2-1-0-0-4-5', '2-1-2-0-2-1-0-4-20', '2-0-2-0-2-2-0-4-98', '1-0-2-2-2-1-0-4-3', '1-0-2-1-1-2-0', '2-1-2-1-1-1-0-3-83', '2-0-2-0-1-2-0-4-4', '2-0-2-0-1-1-0-4-43', '2-0-2-0-2-0-0-4-50', '2-1-1-0-1-3-0-3-100', '2-0-2-1-2-3-0-4-32', '2-0-2-1-2-3-0-4-36', '2-0-1-2-0-3-1-4', '1-0-1-2-1', '1-1-1-0-3-0-0-3-37', '2-1-1-2-1-2-0-4', '2-0-0-1-1-1', '1-1-1-1-3-3-0-4-48', '2-0-1-0-0-2-0-4-92', '2-1-1-2-1-2-0-4-51', '2-0-2-1-1-1-0-4-75', '2-0-2-0-1-3-0-4-77', '2-0-2-2-2-2-0-4-39', '2-0-1-1-1-3-0-4-76', '2-1-1-1-1-1-0-3-39', '2-1-1-2-0-0-0-4-41', '2-1-2-2-1-1-0-4-6', '2-0-2-0-1-2-0-4-31', '2-1-2-1-1-0-0-4-57', '2-1-0-2-1-2-0-3', '2-1-1-0-2-2-0-3-34', '1-0-1-2-0-1', '2-1-1-1-0-3-0-4-63', '2-1-1-1-0-1-0-4-34', '2-1-1-1-1-3-1-3-5', '2-1-1-1-2-2-0-3-4', '2-1-1-1-1-2-0-4-69', '1-1-1-1-2-3-0-4-56', '2-1-1-1-1-1-0-3-53', '2-0-2-2-1-3-0-3-10', '2-1-2-1-0-0-0-4-41', '2-0-2-2-0-2-0-4-83', '1-0-1-2-0-0', '2-0-1-0-0-0-0-3-37', '2-0-1-1-3-3-0-3-40', '2-1-1-1-3-1-0-3-40', '2-1-1-1-1-0-0-4-1', '2-0-2-1-2-0-0-4-75', '2-0-1-2-1-2-0-4-43', '1-0-1-1-2-0-0-4-60', '2-0-1-2-0-0-0-4-97', '2-0-0-0-3', '2-1-2-1-1-2-0-3-75', '2-0-1-1-1-1-0-3-12', '2-1-2-0-0-', '2-0-2-1-0-1-0-4-22', '2-0-2-1-2-0-0-4-78', '2-0-2-1-2-1-1-4', '2-1-1-1-2-1-0-4-22', '2-0-2-1-1-0-0-4-36', '2-0-2-0-0-1-0-4-34', '2-1-2-1-1-2-0-3-38', '2-0-1-0-2-0-0-3-42', '2-1-2-1-2-3-0-4-32', '2-0-2-1-1-2-0-4-10', '2-0-1-1-1-1-0-3-70', '2-0-2-2-0-3-0-4-45', '2-0-2-1-2--1-0', '2-0-1-1-0-3-0-4-53', '2-0-1-0-2-0-0-4-82', '2-1-1-1-0-2-1-4-6', '2-0-2-1-1-0-0-4-59', '2-0-2-0-2-0-0-3-50', '2-1-1-1-0-1-0-4-53', '2-1-2-1-2-0-0-3-98', '2-1-1-1-1-0-0-4-47', '2-0-0-1-1-1-0-4', '2-0-2-1-1-1-0-3-45', '2-1-2-1-1-0-0-4-58', '1-1-1-0-2-2-0-3-87', '1-1-1-1-3-0-0-4-18', '2-1-1-1-1-0-1-4', '2-0-2-1-0-2-1-4-5', '2-0-0-1-2-0-0-3-74', '2-0-1-1-1-1-0-4-92', '2-1-1-1-2-0-0-4-18', '2-0-1-1-1-2-0-4-28', '2-1-1-2-0-1-0-3-32', '2-0-2-0-3-3-0-4-48', '2-1-2-1-1-0-0-3-34', '2-1-2-2-0-2-0-4-38', '2-0-2-1-2-3-0-3-81', '2-0-1-1-2-3-0-4-96', '2-1-1-1-2-1-0-4-29', '2-1-1-1-2-2-0-4-15', '2-1-1-1-0-0-1-4-1', '1-1-2-1-2-0-0-4-81', '2-1-1-2-0-0-0-3-33', '1-0-2-0-1-1-0-4-100', '2-0-1-2-0', '1-0-0-1-0-0', '1-1-1-2-0-0', '2-1-2-1-1-2-0-3-85', '1-0-2-1-3-0-0-4', '2-0-1-2-0-3-0-3-84', '2-1-1-1-2-1-0-4-33', '1-1-2-1-2-1-0-4-61', '2-1-1-1-0-0-0-4-64', '2-0-2-0-2-3-0-4-93', '2-1-2-0-1-0-0-4-4', '1-0-1-0-2-3-0-4', '2-0-1-1-1-1-0-3-35', '2-0-1-2-1-3-1-3', '2-1-1-1-2-0-0-4-26', '1-0-2-1-3-0-0-4-68', '1-0-1-1-1-1-0-3', '2-0-1-1-0-0-0-3-76', '2-0-2-2-0-0-0-4-52', '2-0-1-1-1-2-1-4-1', '2-0-2-0-0-0-0-4-85', '2-0-2-1-1-1-0-4-61', '2-0-1-1-1-2-0-3-35', '2-0-0-0-1-1-0-3-67', '2-0-1-1-1-1-0-3-25', '1-0-2-1-1-2-0-4-5', '2-1-1-1-3-0-1-4-3', '2-0-1-1-1-3-0-3-98', '1-1-1-1-2-3-0-4-15', '1-1-1-1-2-1-0-4-45', '2-0-2-1-1-3-0-4-24', '2-0-2-2-2-2-0-4-76', '2-0-1-1-0-3-1-4-3', '2-1-1-1-3-2-1-4-5', '1-0-1-1-1-0-0-4-56', '1-0-2-0-3-0-0-4-37', '2-0-1-1-0-1-1-4-3', '2-0-1-2-1-2-0-3-68', '2-0-1-2-3-0-0-3-25', '1-0-1-1-2-0', '1-1-2-1-2-0-0-4-25', '1-1-0-0', '2-0-1-1-2-3-0-3-70', '2-1-1-0-2-1-0-4-16', '2-0-0-1-0-3-0-3-41', '2-0-2-1-2-2-0-4-53', '1-1-2-1-2-2-0-4-99', '2-0-1-1-1-2-0-4-46', '2-1-2-1-0-0-0-3-5', '2-0-2-2-1-1-0-4-2', '2-0-1-0-3-1', '2-0-2-1-3-0-0-4-4', '2-0-1-0-2-1-0-3-1', '2-0-1-1-3-0-0-4-16', '2-0-2-1-0-0-0-4-13', '2-0-1-1-3-1', '2-0-2-0-0-2-0-3-13', '2-0-2-0-1-1-0-4-44', '2-0-0-0-3-3', '1-1-1-1-0-2-0-3-36', '2-1-1-0-3-2-0-3-22', '2-0-1-2-0-1-0-3-80', '1-0-2-1-2-0-1', '2-0-1-1-2-0-0-3-60', '2-1-1-1-0-2-0-4-46', '2-0-2-2-2-2-1-3-4', '2-0-2-0-0-0-0-1-95', '2-0-1-1-1-1', '2-0-1-1-3-1-0', '2-1-2-1-1-3-0-4-63', '2-0-1-1-0-1-0-4-35', '2-1-1-0-2-3-0-4-59', '2-0-2-1-1-2-0-4-17', '1-1-2-0-0-0-0-3-96', '2-0-1-1-0-2-0-4-44', '2-0-2-2-3-1-0', '2-0-2-1-1-3-0-4-13', '2-1-2-1-0--1-0', '2-1-1-1-2-1-0-4-49', '2-0-2-0-2-0-0-3-13', '2-0-1-1-0-0-0-4-13', '2-0-0-0-2-3', '2-1-1-1-1-2-0-4-67', '2-1-2-1-3-2-0', '1-0-2-1-2-2-1-4-11', '2-1-2-1-1-3-0-4-7', '2-1-1-1-1-3-0-3-6', '2-1-1-1-2-0-0-3-31', '2-0-2-1-2-2-0-4-5', '1-1-2-1-2-3-0-3-55', '2-0-2-2-0-3-0-3-8', '2-0-1-1-1-2-0-3-41', '2-0-1-1-2-2-0-4-40', '2-0-2-1-0-2-0-3-58', '2-1-1-1-0-3-0-3-41', '2-1-1-0-2-2-0-4-7', '2-0-1-0-2-2-0-4-16', '2-0-2-0-2-0-0-4-99', '2-1-1-0-1-0-0-4-85', '2-0-2-1-3-0-0-4-53', '1-1-2-1-3-3-0-3-67', '2-0-1-1-1-1-0-4-100', '1-0-2-1-1-1-0-3-97', '2-0-1-0-1-3-0-3-81', '2-0-1-1-3-0-0-4-57', '2-1-1-1-0-2-0-4-79', '1-1-1-1-2-1-0-4-22', '2-0-2-0-0-2-0-4-13', '2-1-1-0-0-0-0-4-81', '2-0-1-1-0-0-0-4-92', '2-1-0-1-2-3', '2-0-2-1-2-3-0-4-53', '2-0-2-0-1-2-0-3-79', '2-0-1-2-0-0-0-4-79', '2-0-2-2-0-0-0-4-17', '1-0-1-1-2-1-0-4-64', '2-0-2-1-1-3-0-3-56', '1-1-2-1-3-3-0-4-36', '1-0-2-1-0-2', '2-1-1-1-0-0-0-3-41', '2-0-1-0-1-0-0-4-64', '1-1-1-1-3-1-0-3-99', '2-1-1-1-2-2-1-3-6', '1-1-1-2-3', '2-0-2-1-2-1-0-4-87', '2-1-2-1-0-0-0-3-65', '2-1-1-0-0-0-0-4-77', '1-1-1-1-2-2-0-3-7', '2-0-1-0-1-0-0-3-46', '2-0-1-1-3-0-0-4-3', '1-0-2-1-2-2-1-4-3', '2-1-1-1-2-2-0-3-42', '2-0-2-0-0-2-0-4-79', '1-0-1-0-1-1-0-4-52', '2-0-2-0-0-0-0-3-79', '2-1-1-1-0-2-0-4-30', '2-0-1-1-0-0-0-3-21', '2-1-2-2-1-1-0-4-17', '1-0-0-1-2-0-1-3', '2-0-1-0-1-0-0-2', '2-1-2-1-0-2-0-4-49', '2-0-1-0-0-0-0-3-90', '2-0-2-2-0-2-1-4-9', '2-0-1-1-0-1-0-4-96', '2-0-1-1-0-1-0-4-41', '2-0-2-0-0-1-0-4-13', '2-1-1-1-1-0-0-4-64', '2-0-1-1-1-0-0-4-69', '2-1-2-1-1-2-0-4-65', '2-0-1-1-2-1-0-4-76', '2-1-1-1-0-1-0-3-7', '2-0-1-1-0-3-0-3-41', '2-0-1-1-2-2-0-4-75', '2-0-2-0-2-2-0-4-13', '2-0-1-1-1-3-0-4-99', '2-1-1-0-1-3-0-4-44', '2-1-2-1-2-1-0-4-50', '2-0-1-1-2-1-0-4-83', '2-0-2-0-1-0-0-4-42', '2-1-1-1-0-3-0-4-87', '2-0-2-2-1-3-0-4-82', '2-0-1-1-0-0-0-3-44', '2-0-1-1-1--1-0', '2-0-1-1-0-3-0-4-33', '2-0-2-1-2-2-0-4-70', '2-0-2-2-0-2', '1-1-2-1-1-0-0-4-51', '2-0-2-1-0-0-0-4-1', '2-1-0-1-1-0-0-3-7', '1-0-2-1-3-1-0-4-8', '2-0-0-1-1-3-0-3-5', '2-1-2-0-2-3-0', '2-0-0-1-2-0-0', '2-1-1-1-0-1-0-3-41', '2-0-1-1-2-1-0-4-37', '2-0-1-1-1-0-0-3-24', '2-1-1-2-1-0-0-3', '2-0-1-1-1-2-0-4-5', '2-0-1-1-3-3-0-4-34', '2-0-1-0-3-2-0-4-100', '2-0-2-1-1-1-0-1', '2-1-2-1-2-1-0-4-76', '2-1-1-1-2-2-0-4-7', '2-1-2-0-2-3-0-3-19', '2-0-1-1-0-0-0-3-63', '2-0-1-0-2-3-0-4', '1-0-1-1-2-0-0-4-41', '2-0-1-0-2-3-0-4-99', '2-0-2-0-3-0-0-4-99', '2-1-2-0-1-1-0-3-50', '2-0-1-0-3-1-0-4-100', '2-1-2-1-1-3-0-4-71', '2-0-1-0-1-2-0-4-95', '2-1-1-0-3-1-0', '1-0-2-1-2-1-0-4-21', '2-0-2-0-0-0-0-4-73', '2-0-1-1-1-1-0-3-4', '2-0-1-1-3-1-0-4-36', '2-0-2-0-2-3', '2-0-2-0-1-0-0-4-86', '1-0-2-1-2-1-0-4-33', '2-1-1-0', '2-1-2-1-2-0-0-4-80', '2-0-0-0-2-1-0-3-80', '2-0-1-0-1-2-0-4-75', '1-0-2-1-3-2', '1-0-1-2-0-3-1-4', '1-0-0-1-3-0-0-3-18', '2-1-0-1-1-2-0-3-13', '2-0-2-0-1-1-0-4-67', '2-0-1-0-1-1-0-3-34', '2-1-0-1-0-1-0', '2-0-1-1-1-1-0-4-51', '2-0-1-1-1-3-0-4-23', '2-0-1-2-2-1-0-3-2', '2-1-2-1-1-3-0-3-45', '2-1-1-1-2-1-0-4-40', '2-0-1-2-0-2-1-4-9', '2-1-2-1-1-0-0-4-34', '1-0-1-2-1-3', '1-0-1-0-3-3-0-4-11', '1-1-2-1-0-2-0-4', '2-0-2-2-0-1-0-4-34', '2-0-2-1-1-3-0-4-23', '2-1-1-1-0-0', '2-0-2-1-3-1-0-4-49', '2-0-1-1-2-', '2-0-1-1-0-0-0-4-96', '2-1-1-1-0-2-0-4', '2-1-1-1-2-1-0-4-4', '1-0-0-1-3-2-0-3-10', '1-0-2-1-2-2-0-4-83', '2-0-2-1-1-0-0-3-17', '2-0-1-0-2-2-0-4-27', '2-0-1-1-0-0-0-3-11', '2-0-2-1-1-2-0-4-52', '2-0-2-1-1-3-0-3-62', '1-1-1-1-0-3-0-3', '2-1-1-1-2-2-0-4-5', '2-1-2-1-2-0-0-3-38', '2-0-0-0-3-3-0-3-74', '2-0-1-1-0-2-0-4-72', '2-0-1-0-1-0-0-3-41', '2-1-1-1-3-2-0-3-44', '2-1-2-2-1-3-0', '2-1-2-1-1-0-0-4-2', '2-0-1-1-1-3-0-4-69', '2-0-2-0-3-0-0-4-34', '2-1-2-2-0-0-0-3-70', '2-1-2-2-1-3-0-3', '2-1-0-1-2-1-0-3-76', '2-1-1-0-1-2-0-4-1', '2-0-0-0-2-1-0-3', '2-0-1-1-1-2-0-4-36', '2-1-2-2-0-0-0-4-26', '2-1-2-1-1-1-1-4-8', '2-0-0-1-1-2-0-3-95', '1-1-1-1-0-0-0-3-34', '2-0-1-2-2-3-0-3-67', '1-0-1', '2-0-1-0-1-0-0-4-61', '2-1-2-0-1-3-0-4-3', '2-1-1-0-2-1-0-4-29', '1-1-2-0-2-0-0-4-60', '2-0-2-1-1-0-0-3-10', '2-1-2-1-2-1-0-4-96', '1-1-1-1-3-0-0-4-2', '2-0-2-2-0-0-0-4-58', '1-1-2-1-2-3-0-4-52', '2-0-1-0-0-0-0-4-61', '1-0-1-2-3-0-0-4-54', '2-1-1-1-2-3-0-4-12', '2-1-1-2-1-0-0-3-30', '1-0-1-1-2-2-0-4-22', '2-0-1-1-0-1-0-4-61', '2-0-2-1-2-2-0-4-85', '2-1-1-1-2-1-0-4-55', '2-1-1-1-2-3-0-4-33', '1-0-2-1-1-1-0-4-99', '2-1-2-0-1-1-0-4-50', '2-0-0-0-2-2-0-3-14', '2-1-2-1-3-1-0-4-29', '2-1-1-1-0-0-0-4-63', '2-1-1-0-2-2-0-3-54', '2-1-2-1-0-0-0-4-40', '2-1-1-1-2-3-0-4-94', '2-1-2-2-2-3-0-4-6', '2-0-2-0-1-2-0-4-9', '2-0-1-0-3-0-0-3-100', '1-0-2-0-3-3-0-4', '2-0-2-1-1-1-0-3-9', '1-0-2-1-3-0-0-3-96', '2-0-1-1-2-1-0-4-72', '2-0-2-0-1-2-0-4-35', '2-0-1-1-0-1-0-4-13', '2-1-0-1-0-', '1-1-0-0-3-0-0-3', '1-1-2-2-2-0-0-4', '2-1-2-2-0-3-0-4', '2-0-2-0-1-3-1', '2-0-2-1-1-2-0-3-45', '1-0-2-2-3-3-0-4-16', '2-1-2-1-1-1-0-3-6', '2-1-2-2-0-0-0-4-93', '1-0-1-1-3-0-0-4-23', '2-0-2-2-0-0-0-4-10', '2-0-2-1-1-1-0-4', '2-1-2-0-2-3-0-4-5', '2-0-2-2-1-0-0-4-48', '2-0-2-2-1-0-0-4-4', '2-0-0-1-0-0-0-3-52', '1-0-1-0-2-2', '1-1-2-1-3-2-0-4-20', '2-0-2-2-1-0-1-4-3', '2-0-1-1-0-3-0-4-43', '2-1-2-2-1-1-0-4-7', '1-1-1-0-2-0-0-4-52', '2-1-0-1-0-0-0-4-79', '1-0-1-1-3-3-0-3-63', '2-1-1-1-3-3-0-3-87', '2-0-1-1-0-1-0-4-44', '2-0-1-1-1-3-0-3-50', '2-1-2-1-1-1-0-4-6', '2-1-1-1-2-3-0-4-98', '1-0-0-1-2-3', '2-0-1-1-3', '1-0-1-2-0-1-1', '2-1-1-1-2-1-0-3-4', '2-0-0-1-0-1-0-3-11', '2-1-1-0-0-2-0-4-42', '2-0-2-1-2-2-0-3-21', '2-0-1-1-0-0-0-1-44', '2-0-2-0-2-1-0-4', '2-0-1-1-0-1-0-3-59', '2-0-1-0-0-2-0-4-3', '2-1-1-1-1-2-0-4-58', '2-1-1-1-3-1-1-4-3', '2-1-1-2-0-2-1', '1-0-1-1-1-0-0-3-51', '2-0-2-0-1-3-0-3-4', '1-0-2-2-2-3-1-3', '1-0-2-1-2-1-0-3-100', '2-1-2-1-1-3-0-4-42', '2-1-2-1-2-1-1-3', '2-1-1-2-1-3-0-3-47', '2-1-1-1-0-1-0-3-11', '2-0-1-1-1-3-0-4-8', '1-1-2-1-3-1-1-4', '2-1-2-1-1-2-0', '1-0-2-1-2-3-0-3-86', '2-1-2-2-2-1-0', '2-0-0-1-0-0-1-2', '2-1-2-2-2-1-0-4-17', '1-0-1-1-3-0-0-3-57', '1-0-2-1-3-0-0-4-35', '2-0-2-1-1-1-0-4-18', '2-0-1-2-2-2-0-4-38', '2-1-2-1-0-1-0-4-9', '2-1-1-1-2-2-0-4-53', '2-0-2-0-2-0-0-3-100', '2-1-1-1-3-0-0-3-91', '2-0-1-1-2-1-0-4-57', '2-1-2-1-2-0-0-4-69', '2-1-2-1-2-3-0-3-75', '1-1-1-0-3-3-0', '2-1-0-1-2-0-0-3-22', '2-0-1-0-1-1-0-4-17', '2-0-1-1-2-2-0-4-15', '2-0-2-2-0-2-0-3-73', '2-0-2-1-2-3-0-3-12', '2-1-1-1-3-2-0-3-97', '2-0-2-2-1-0-0-4-34', '2-1-1-0-2-0-0-4-79', '1-0-1-1-2-2-1-3-1', '2-0-2-1-0-0-0-3-51', '2-0-2-1-0-2-0-4-64', '2-1-1-0-2-2-0-4', '1-0-2-1-3-3-0-4-15', '2-0-1-2-1-1-0-4-2', '1-1-2-1-3-2-0-3-100', '2-0-1-0-3-3-0-3-14', '2-0-1-0-1-0-0-4-55', '2-0-1-0-2-3-0-3-100', '2-0-1-1-0-1-1', '1-0-2-0-0-3-1-4-3', '2-0-2-0-2-1-0-4-85', '2-0-2-1-2-0-0-4-8', '2-1-1-1-3-3-0-4-29', '2-0-1-1-0-3-0-4-9', '1-1-0-1-1-0-0-3-53', '2-0-1-1-1-0-0-3-66', '2-1-1-1-1-0-0-3-5', '2-1-2-1-3-1-0-4-42', '2-0-1-0-0-0-0-4-40', '2-1-2-1-2-1-0-4-27', '2-0-2-1-2-3-0-3-67', '2-0-1-1-1-3-1-4-7', '2-0-1-1-1-1-0-4-27', '2-1-2-1-1-1-0-4-72', '1-1-2-1-2-2-0-3-98', '2-0-2-2-0-2-0-4-100', '2-0-2-2-0-3-0-3-73', '1-0-2-1-2-0-0-4-53', '2-0-2-0-1-3-0-4-10', '2-1-1-1-1-0-0-3-77', '2-0-2-2-3-0-0-4-40', '2-0-2-1-2-0-0-3-65', '2-0-2-1-2-3-0-3-19', '2-1-1-1-0-3-0-4-98', '2-0-2-0-1-3-0-4-26', '2-1-2-1-2-3-0-4-51', '2-0-1-2-1-1-0-3-47', '2-1-1-2-0-0-0-4', '2-0-1-1-0-3-0-3-43', '2-0-1-1-2-2-0-3-29', '2-0-2-1-0-1-0-3-13', '2-0-0-0-0-', '2-1-1-1-0-0-1-3-9', '2-0-2-0-0-0-0-4-67', '2-1-2-0-2-1-0-4-8', '2-0-1-0-2-2', '2-1-1-1-2-1-0-3-94', '2-0-2-0-1-2-0-4-100', '1-1-1-1-3-1-0-4-53', '2-0-2-0-0-1-0-4-30', '2-0-1-1-2-1-0-4-7', '2-0-1-0-0-0-0-3-66', '2-0-2-1-0-2-0-4-100', '2-1-2-1-2-0-0-3-70', '2-1-0-1-0-0-0-3-39', '2-1-2-0-0-1-0-4-87', '2-1-2-2-3-3-0-4', '2-1-2-0-2-1-0-4-6', '2-1-0-1-1-1-0-3', '2-0-2-0-0-2-0-3-100', '2-0-2-1-1-0-0-4-39', '2-1-1-1-1-3-0-4-41', '2-1-2-1-1-3-0-4-20', '2-0-0-2-1-1-0-4-93', '1-0-1-2-3-0-0-4-74', '2-1-1-1-2-1-0-4-78', '1-0-2-1-3-2-0-4-62', '2-0-1-2-1-0-0-4-46', '2-1-2-1-0-1-0-4-53', '2-0-1-1-0-3-0-3-75', '2-0-1-1-0-3-0-4-100', '2-1-1-0-1-0-0-4-100', '2-1-1-0-1-1-0-4-86', '2-0-1-1-1-3-0-3-37', '1-0-1-1-3-1-0-4-50', '2-1-2-1-0-1-0-4-19', '2-0-1-0-1-0-0-4-54', '2-0-1-1-1-2-0-4-68', '1-0-2-0-3-2-0-4-17', '1-1-2-1-3-0-1-4', '2-0-2-0-0-2-0-4-59', '2-0-1-2-1-3-0-4-44', '2-1-1-1-0-0-0-3-54', '2-0-1-1-0--1-0-3-56', '2-0-2-1-0-3-1-4-1', '2-1-1-1-2-2-0-4-19', '2-1-2-1-0-1-0-3-100', '1-1-1-2-0-0-0', '2-0-1-1-1-3-0-4-68', '1-0-2-1-3-3-0-3-24', '2-0-2-1-1-1-0-3-1', '2-0-2-1-0-0-0-4-27', '2-0-1-1-0-2-0-4-67', '2-1-1-2-1-1-0-4-47', '1-0-2-2-1-1-0-4-51', '2-0-2-1-2-3-0-4-42', '2-0-1-1-0-3-0-4-36', '2-0-2-1-1-1-0-4-24', '2-1-1-1-2-2-0-4-26', '2-1-1-1-1-3', '2-1-2-0-1-1-0-4-5', '2-0-2-1-0-3-0-4-91', '2-1-2-1-2-2-0-4-21', '1-1-1-0-2-2', '1-0-1-1-2-3-0-4-33', '2-1-1-1-1-0-0-4-33', '2-0-1-0-0-2-0-3-75', '1-0-2-1-2-1-0-3-25', '2-0-1-1-1-0-0-4-81', '2-0-1-1-3-0-0-3-74', '2-1-1-1-1-2-0-3-19', '2-1-1-1-0-0-0-4-80', '2-0-1-0-2-2-0-4-11', '1-0-1-0-3', '1-0-2-2-2-1-0-4-87', '2-0-2-0-2-3-0-4-69', '2-0-1-0-1-2-0-3-97', '2-1-1-1-1-2-0-4-99', '2-0-2-1-2-2-0-4-7', '2-1-1-1-1-0-0-4-86', '2-0-1-1-0-2-0-4-42', '1-1-2-1-3-0-0-3-55', '2-1-1-2-0-3-1', '1-0-2-1-2-3-0-4-32', '2-0-2-2-0-0-0-4-43', '2-1-1-1-2-3-0-4-53', '2-1-1-1-3-0-0-4-5', '2-0-2-1-1-1-0-4-25', '2-1-1-1-2-3-0-4-3', '1-0-1-1-3-2-0-4-60', '2-0-0-0-3-1-0-3-56', '2-0-1-0-1-2-0-3-33', '2-0-1-2-1-3-1-4-5', '2-0-2-2-1-0-0-4-70', '1-0-0-1-1-0-0-3-56', '2-0-1-1-2-1-0-3-43', '1-0-2-1-1-1-0-4-51', '2-0-2-1-3-2-0-4-21', '2-1-1-1-1-2-1-3-6', '2-1-0-1-0-0-0-3-19', '2-0-2-1-1-1-0-3-38', '1-0-1-1-1-2-0-4-99', '2-0-1-0-0-3-0-4-75', '2-0-2-1-2-2-0-4-90', '1-0-1-0-3-1-0-3-18', '2-1-2-0-0-2-0-4-92', '2-1-1-0-3-1-0-4-24', '2-1-2-1-0-3-1-4', '2-0-2-1-3-1-0-4-3', '2-0-2-1-0-0-0-3-87', '2-1-1-1-1-0-0-3-18', '1-0-1-1-3-1-0-4-25', '2-0-1-1-1-0-0-3-15', '1-0-2-1-3-3-0-4-33', '2-1-2-1-0-0-0-4-18', '2-0-2-1-2-2-0-4-10', '2-1-2-1-1-3', '2-1-1-1-2-1-0-4-20', '2-0-1-0-1-0-0-4-22', '2-0-1-0-2-3-0-3-83', '2-0-2-2-0-1-0-3-58', '1-1-1-0-3-3-0-4-6', '2-0-2-0-2-0', '2-0-1-0-2-1-0-4-41', '1-0-1-1-1-1-0-4-50', '1-0-2-1-0-0-0-4-95', '2-0-2-0-3-0-0-3', '2-1-1-0-0-1-0-4-77', '2-0-2-0-3-1-0-3-100', '2-0-1-1-1-0-0-1-95', '2-0-2-1-0-2-0-3-91', '2-1-2-1-0-2-0-3-63', '2-0-2-1-0-0-0-4-50', '1-0-1-0-0-2-0-4-100', '2-0-0-1-2-1-0-3-66', '1-0-1-1-2-3-0-4-23', '2-0-1-2-1-3-0-4-18', '1-1-1-0-2-0-0-4-22', '1-0-0-0-3-2', '2-0-1-1-0-1-0-4-11', '2-0-1-0-0--1', '2-0-1-1-1-0-0-3-79', '2-0-1-1-2-3-0-3-31', '1-0-0-1-3-0-0-3-20', '2-0-1-1-1-1-0-3-80', '2-1-2-0-0-0-0-3-19', '2-1-1-1-2-0-0-3-30', '2-1-2-0-1-0-0-4-39', '2-0-2-1-3-3-0-4-4', '1-0-1-1-0-0-0-4-45', '2-0-1-2-0-2-0-4-96', '2-1-1-0-1-0-0-3-73', '2-1-2-1-2-2-0-4-11', '2-1-1-1-0-0-0-3-23', '2-1-1-1-0-0-0-3-89', '1-0-2-1-3-0-0-4-34', '1-0-2-1-0-0-1', '2-1-2-0-2-2-0-3-88', '2-0-1-1-0-0-0-4-90', '2-0-1-0-3-3-0-3-99', '1-1-1-1-2-0-0-3-24', '2-1-1-1-0-0-0-3-38', '2-0-1-0-0-2-0-4-77', '2-0-2-2-0-2-0-4-34', '2-1-2-1-0-0-0-4-55', '2-0-2-0-1-1-0-3-89', '2-0-2-1-0-2-0-4-61', '1-0-2-1-2-3-0-4-42', '2-0-2-0-0-0-0-3-2', '2-0-2-1-0-2-0-4-37', '2-1-2-1-2-0-0-4-79', '2-1-2-1-2-1-0-4-26', '2-1-2-2-0', '2-0-0-1-2-0-0-3-45', '1-0-2-1-3-0-0-3-13', '2-0-1-1-1-3-0-4-11', '2-0-1-1-1-0-0-3-9', '2-0-2-1-2-2-0-4-46', '2-1-2-1-0-3-0-4-53', '2-0-1-1-2-2-0-4-62', '2-1-2-0-0-1-0-3-39', '1-0-1-2-0-2-1', '2-1-2-1-0-0-0-3-53', '2-1-1-1-1-3-0-4-49', '2-0-1-2-0-0-0-4-25', '2-1-2-2-1-3-0-3-61', '2-1-2-0-1-2', '2-0-1-1-0-0-0-3-25', '2-1-0-1-1-1-0-3-1', '2-0-2-1-2-3-0-4-54', '2-0-2-1-1-1-0-4-65', '2-0-1-2-0-1-0-3-36', '2-0-1-1-2-3-0-3-13', '2-0-2-2-1-3-0-4-74', '2-0-1-0-3-1-0-4-53', '2-1-0-1-2-1-0-3-100', '2-0-2-1-3-1-0-4-1', '2-1-2-2-0-3-0-4-14', '2-0-1-2-1-1-0-4-30', '2-0-2-1-3-1-0-3-53', '2-1-2-1-2-1-0-4-31', '1-0-1-1-1-0-0-4-3', '2-1-1-1-1-3-0-4-24', '1-0-1-2-1-3-0-4-100', '1-0-2-1-3-1-0-3-42', '2-0-1-1-2-3-0-4-53', '2-0-1-0-2-0-0-4-84', '2-0-1-2-0-', '2-0-1-0-1-3-0-4-33', '1-1-1-1-2-0-0-4-60', '2-0-2-1-1-3-0-4-35', '2-0-1-1-1-1-0-3', '1-0-2-2-2-0-0-3-87', '2-0-1-1-0--1-0-3-49', '2-1-1-1-1-0-0-3-43', '1-0-2-1-3-2-0-4-17', '2-0-1-0-1-0-0-4-93', '2-0-1-1-0-0-0-4-64', '2-0-1-0-2-0-0-3-55', '2-0-1-1-1-0-0-3-28', '2-0-1-1-2--1-0-3-7', '2-0-1-1-3-0-0-4-2', '2-0-1-1-0-2-0-4-94', '1-1-1-1-3-1', '2-0-2-2-2-2', '2-0-2-1-0-2-0-3-35', '2-0-2-1-2-3-0-4-11', '2-0-1-1-0-1-0-4-90', '2-1-2-1-0-2-0-4-98', '2-0-2-1-0-1-0-4-82', '2-0-2-0-3-2-0-4-39', '2-0-1-2-0-0-0-3-4', '1-0-1-1-2-3-0-3-3', '2-0-1-1-2--1', '1-1-2-1-3-0-0-4-42', '2-1-1-0-0-1-0-3-4', '2-1-1-0-1-0-0-4-4', '2-0-0-1-1-1-0-3-32', '2-0-2-0-0-0-1-4', '2-0-2-1-1-0-0-3-70', '1-1-1-2-2-0-0-4', '2-0-1-1-1-3-0-4-58', '2-0-1-0-0-2-0-3-37', '2-1-0-1-2-2-0', '1-0-1-1-3-0-0-4-29', '2-1-2-0-0-1-0-4-75', '2-1-1-2-3-1-0-4-43', '2-1-1-1-1-3-0-4-35', '2-0-1-0-1-1-0-4-93', '2-0-1-1-0-0-0-3-31', '2-1-1-2-3-0-0-4-44', '2-0-0-0-1-0-0-3-70', '1-0-2-1-3-0-0-4-39', '2-0-1-1-2-2-0-3-34', '1-0-1-1-3-0-0-3-9', '2-0-2-1-2-2-0-3-62', '2-1-1-1-0-3-0-4-31', '2-1-1-1-1-2-0-4-96', '2-1-1-1-2-3-0-4-2', '1-0-1-0-3-0-0-4-18', '2-0-2-0-2-2-0-3-47', '1-1-0-1-2-2', '2-0-2-2-0-1', '2-1-1-1-1--1-0-3-60', '2-0-1-0-0-0-0-4-77', '1-1-2-1-0-1-0-4', '2-0-1-1-2-1-0-4-68', '2-1-2-1-1-3-0-3-72', '2-1-1-1-0-2-0-4-51', '2-1-1-1-0-1-0-4-61', '2-0-1-1-2-1-0-3-46', '2-0-1-0-1-2-0-4-89', '2-0-1-1-1-2-0-4-17', '2-1-2-0-0-2-0-4-56', '2-0-1-0-1-2-0-3-58', '2-0-1-1-0-3-0-4-97', '1-0-1-1-3-0-0-3-58', '2-0-1-1-1-2-0-4-79', '2-0-2-1-0-1-0-4-95', '2-1-2-1-0-1-0-3-78', '2-1-0-1-2-3-0-3-36', '2-0-2-1-0-1-0-3-88', '1-1-1-2-2-2-0-3-60', '2-0-2-1-0-2-0-4-93', '2-0-1-2-0-0-0-4-55', '2-0-1-1-1-2-0-4-29', '2-0-2-1-2-1-0-4-74', '2-0-1-1-2-2-0-4-97', '2-0-2-1-1-0-1-4', '1-0-2-2-2-3-0', '2-0-1-1-2-3-0-4-50', '2-0-1-0-0-1-0-4-98', '1-0-2-1-2-3-0-3-65', '2-1-2-1-0', '2-0-1-1-2-0-0-4-32', '2-0-2-0-0-1-0-4-99', '2-1-2-0-2-2-0-4-14', '2-1-1-0-0-2-0-3-42', '1-0-0-1-1-0-0-3', '2-0-2-2-1-2-0-3-5', '2-0-1-1-2-0-0-4-82', '2-1-1-1-1-0-1-4-2', '2-1-1-2-1-1-0-4-55', '1-1-1-1-2-3-0-4-54', '2-0-1-1-0--1-0-3-21', '1-1-1-0-3-2-0', '2-1-2-1-0-0-0-3-19', '2-0-2-2-1-1-0-3-72', '2-0-2-1-0-3-0-4-33', '2-0-1-0-2-2-0-4-33', '2-1-1-2-3-2-0-4-81', '1-0-1-1-2-1-0-4-98', '1-0-1-1-2-0-0-4-1', '2-1-2-2-0-1-0-3', '2-1-1-0-0-2', '2-0-0-1-2-0-0-3-82', '2-0-2-2-1-0-0-4-39', '1-0-1-1-2-3-0-4-63', '2-0-1-2-1-3-0-4-80', '2-0-2-1-1-0-0-4-52', '2-0-1-2-0-1-0-3-100', '2-1-1-0-2-2-0-4-31', '1-0-2-2-0-1-0-4', '1-0-1-0-3-0-0-3-32', '2-1-0-2-0-0-0-3-88', '2-0-2-1-0-0-0-3-45', '1-1-2-1-3-3-0-4-100', '2-0-0-1-2-3-0-3-3', '2-0-1-1-0-2-0-3-23', '2-1-1-1-2-2-0-3-30', '2-1-1-2-2-2-0', '1-0-1-0-1-2', '2-0-2-0-2-3-0-3-37', '2-0-1-1-0-2-0-4-62', '2-0-2-0-2-2-0-3-17', '2-1-2-1-0-2-0-4-64', '2-0-2-1-1-3-0-3-100', '2-0-1-0-2--1-0', '2-1-1-1-3-1-1-3-4', '2-0-2-0-3-1-0-4-2', '2-1-1-2-3-3-0', '1-0-2-1-2-3-0-3-44', '1-1-0-1-2-2-0-3-56', '2-1-2-1-0-1-0-4-88', '2-0-1-0-3-3-0-3-51', '2-1-2-0-1-3-0-3', '1-0-1-1-2-0-0-3-99', '2-0-2-1-1-0-0-3-36', '2-0-1-0-1-1-0-4-81', '2-0-1-1-0-0-0-4-85', '2-1-1-0-2-0-0-3-56', '2-1-1-1-2-1-0-4-38', '2-0-1-1-2-0-0-4-62', '2-0-1-1-0-1-0-3-52', '2-0-2-2-1-1-0-4-30', '2-1-1-1-0-0-0-3-66', '1-1-2-2-2-0-0-4-87', '2-0-2-1-1-1-1-4-1', '2-0-1-2-0-0-0-3-55', '1-0-2-1-0-1-0', '1-1-2-2-2', '2-0-0-1-2-0-1-4', '2-1-1-1-0-3-1-4-1', '2-1-2-1-2-1-0-3-5', '1-1-2-0-3-1-0', '2-0-2-0-0-1-0-4-75', '2-1-2-0-1-1-0', '2-0-1-2-1-0-0-4-24', '2-1-2-1-1-0-0-4-27', '2-0-1-1-2-0-0-3-62', '1-0-2-1-2-3-0-3-87', '2-0-2-0-3-0-0-4-51', '2-0-1-1-0-2-0-3-69', '2-0-1-1-2-3-0-4-32', '1-0-2-1-2-3-0-4-73', '2-1-1-1-2-3-0-4-95', '2-1-1-0-0-1-0-4-64', '2-1-2-0-2-0-0-4-81', '1-0-2-2-3-3-0-4-14', '2-0-1-2-3-2-0-3', '2-0-1-0-1-1-0-3-100', '2-1-2-1-3-3-0-4-43', '2-0-0-1-0--1-0-3', '2-0-1-1-3-1-0-4-88', '2-0-1-2-2-0-0-4-68', '2-0-0-1-1-2-0-2-100', '2-1-2-1-1-1-0-3', '2-1-1-2-3-3-0-4-45', '2-1-1-1-1-2-0-4-50', '1-0-0-1-1-0', '2-0-2-1-1-3-0-4-55', '2-0-1-1-2-2-0-3-85', '2-0-2-0-0-1-0-3-51', '1-0-1-0-2-3-0-4-38', '2-1-1-1-1-1-0-4-86', '2-1-1-1-2-1-0-4-41', '2-0-0-1-2-2-0-4-18', '2-1-0-1-1-2-1-3', '2-0-1-1-1-3-0-4-75', '1-1-1-1-2-1-0-4-48', '2-1-0-1-2-', '2-1-2-2-0-3-0-4-100', '2-1-1-2-0--1-0-3-32', '2-1-2-2-2-0-0-4-67', '2-1-2-2-0-0-0-3', '1-0-0-1-1-3-0', '2-0-1-1-1-2-0-4-8', '2-0-1-0-2-0-0-4-72', '2-1-2-1-0-1-0-4-87', '2-1-2-1-2-3-0-3-100', '2-0-2-0-1-2-0-3-100', '2-0-1-0-2-3-0-4-79', '2-1-1-1-3-0-0-4-41', '1-0-1-0-3-2-0-4-11', '2-1-2-1-1-1-0-3-100', '2-1-1-1-0-0-0-4-25', '2-1-2-1-0-1-0-3', '2-0-2-1-2-1-0-4-29', '1-0-2-1-1-2-0-4-97', '2-0-1-0-2-1-0-4-10', '2-1-2-1-2-3', '2-0-2-0-2-2-0-4-63', '2-0-2-1-2-3-0-3-52', '2-0-1-1-2-0-0-3-64', '1-1-1-1-2-3-0-3-45', '2-0-0-1-0-1-0-3-46', '2-1-2-0-2-2-0-4-94', '2-1-1-1-1-0-1-4-6', '2-1-2-1-1-0-0-4-43', '1-1-1-0-2-0-0', '1-1-0-0-3-0-0-3-35', '2-0-1-1-1-0-0-3-45', '2-0-1-1-0--1-0-3-93', '2-0-1-1-2-3-0-4-43', '2-1-0-1-1-0-0', '2-1-2-1-3-3-0-4-29', '2-0-2-0-2-2-0-3-100', '2-0-2-1-0-1-0-4-35', '2-1-2-1-0-0-0-4-20', '2-0-1-0-2-0-0-4-80', '2-1-2-2-1-1-0-4-16', '2-0-1-1-0-1-0-4-86', '2-1-2-1-1-0-0-4-49', '2-0-1-1-1-1-0-3-7', '1-0-2-2-2-1-0-3', '1-0-1-1-1-3-0-3', '1-1-1-1-1-2-0-4-53', '2-0-0-0-1-2-0', '2-0-1-0-1-2-0-4-25', '2-1-1-0-0-3-0-4-31', '1-0-2-0-2-2-0-4-75', '2-0-1-0-1-0-0-4', '2-0-1-1-2-1-0-4-31', '2-0-2-2-2-3-1-4-4', '2-1-1-2-3-0', '2-1-1-0-2-2-1-4-4', '1-1-2-0-3-0-0-3-35', '2-1-2-1-1-0-0-4-45', '2-0-1-1-2-0-0-3-97', '2-1-2-1-0-0-0-4-34', '2-0-1-1-1-2-0-4-52', '1-0-1-1-3-1-0-4-37', '2-1-2-1-0-0-0-3-35', '2-1-2-1-0-0-0-4-48', '2-0-2-1-0-1-0-3-21', '1-0-2-1-1-2-0-3-100', '2-1-2-1-0-2-0-3-39', '2-1-1-1-0-0-0-4-41', '2-1-1-0-0-1-0-4-42', '2-1-1-1-0-0-0', '2-1-1-2-0-0-0-4-12', '2-1-2-1-0-0-0-3-78', '2-1-1-1-2-0-0-4-99', '1-1-0-1-2-3', '2-1-2-1-2-2-0-4-10', '2-1-1-2-3-3', '1-0-2-1-1-1-0-4-59', '2-0-2-0-2-2-0-3-45', '2-0-2-1-1-0-0-4-87', '2-0-1-1-3-2-1', '1-1-1-1-3-0-0-3', '2-1-2-1-0-3-0-4-16', '2-0-2-0-2-2-0-4-62', '2-1-1-0-0-0-1-3', '2-1-2-1-0-2-0-3', '2-0-1-0-1-3-0-3-4', '2-1-1-0-2-0-0-4-7', '2-0-2-1-2-1-0-4-64', '2-1-1-1-0-1-0-4-28', '2-0-0-0-1-1-0', '2-0-1-1-3-3-0-4-93', '1-1-2-1-2-2-0-3-23', '2-0-2-0-2-1-0', '2-1-2-0-1-0-0-4-50', '2-0-1-0-2-3-0-4-39', '2-1-2-0-1-2-0-4-2', '2-0-2-1-2-2-0-3-59', '1-0-1-1-1-0-0-4-100', '2-0-2-1-2-0-0-4-86', '2-0-2-1-3-2-0-4', '1-1-0-1-0-1-0-3-34', '2-1-2-1-0-0-0-4-12', '2-0-1-1-0-3-0-4-40', '1-0-2-1-3-0-0-4-4', '1-1-1-1-1-3-0-4-52', '2-1-1-1-3-0-0-4', '2-1-1-1-2-1-0-4-90', '1-0-2-1-3-0-0-3-40', '2-0-1-0-2-3-0-3-12', '2-0-1-2-2-1-0-4-29', '2-1-2-0-2-0-0-3-5', '2-0-1-1-2-2-1', '2-1-2-0-2-1-0-4-31', '2-1-1-1-2-2-0-4-32', '1-0-2-2-3-1-0-4-37', '2-0-1-2-1-1-0-3-4', '2-0-1-0-3-3-0-4-100', '2-1-1-0-2-3-0-4-34', '2-1-1-1-1-3-0-4-38', '1-1-1-1-1-2-0-3-98', '2-1-1-1-2-1-0-4-16', '1-1-2-2-3-1-0-4', '2-0-2-1-2-1-0-4-81', '2-1-1-1-1-0-0-4-43', '2-1-2-1-2-1-0', '2-0-2-1-2-3-0-4-41', '2-1-2-1-2-0-0-4-36', '2-0-1-2-3-2', '2-0-1-1-2-0-0-4-79', '2-0-1-2-1-0-0-3-1', '2-0-2-1-1-0-0-4-71', '1-1-1-1-3-3-0-4-47', '2-0-2-2-2-1-0-4-36', '2-1-1-1-1-2-0-3-7', '2-0-1-1-1-2-0-4-42', '2-0-1-0-1-0-0-3-28', '2-0-1-0-0-0-0-3-35', '2-0-2-1-2-1-0-4-75', '2-1-0-1-1-2-0-3-99', '2-0-1-0-1-1-0', '1-1-1-0-3-3-0-4-38', '1-0-2-0-3-3-0-4-11', '2-1-1-1-2--1-0-3-48', '2-1-2-2-2-0-0-3-39', '2-0-2-1-3-0-0-3-35', '2-1-2-2-1-1-0-3-38', '2-0-1-2-3-2-0-4-31', '2-1-2-0-2-2-0-4-16', '2-0-1-1-0-2-0-3-56', '2-1-2-1-2-1-0-3-37', '2-0-1-1-1-1-0-4-35', '2-0-2-0-2-0-0-4-27', '2-0-2-1-1-0-0-4-13', '2-0-0-2-0-0', '1-1-0-0-0', '2-1-0-1-2-3-0-4-15', '2-0-2-1-2-0-0-3-63', '2-0-1-1-1-1-0-4-83', '2-1-1-2-1-1-0-4-51', '2-0-2-1-1-1-0-3-37', '2-0-1-1-0-0-1-3-7', '2-0-1-0-3-0-0-4-34', '1-1-2-2-0-1-0-4-48', '2-1-1-1-0-0-0-4-46', '2-0-2-1-1-2-0-3-7', '2-1-1-1-1-1-0-3-12', '2-0-2-1-3-3-0-3-86', '2-1-1-2-2-1-0-4-19', '2-0-1-1-2-0-0-3-98', '2-1-2-1-3-3-0-4-10', '2-1-1-1-1-3-0-3-21', '2-0-1-1-1--1-0-3-37', '2-0-1-1-1-3-0-4-49', '2-1-1-1-0-3-0-3', '2-1-2-1-1-0-0-3-44', '1-1-2-1-2-3-0-4-60', '2-0-2-0-0-1-0-4-79', '2-0-1-1-0-2-0-3-12', '2-0-2-0-1-0-0-4-57', '2-0-0-1-1-0-0-4-7', '2-0-1-1-2-3-0-4-60', '2-0-1-1-2-3-0-1', '2-0-1-1-2-3-0-3-81', '1-1-1-1-3-3-0-4-49', '2-1-2-1-2-3-0-3-12', '2-1-2-1-2-2-0-4-18', '2-1-2-0-1-0-0-3-61', '2-0-2-0-1-0-0-4-9', '1-0-1-1-0-0-1-4-1', '2-0-1-1-1-3-0-3-87', '2-1-1-0-1-0-0', '2-1-1-1-1-2-0-4-37', '2-1-2-1-0-0-0-4-33', '2-0-2-2-1-3-0-4-86', '2-0-1-1-2-3-0-4-25', '2-0-1-0-0-0-0-4-37', '2-0-1-1-1-3-0-3-58', '2-1-1-2-0--1-0-3', '1-0-2-0-2-0-0-4-34', '2-0-1-0-0-0', '2-0-2-1-0-1-0-3-41', '2-0-2-1-2-0-0-3', '1-1-0-1-1', '2-0-2-0-2-3-0-4-39', '2-1-1-2-2-2-0-4-38', '2-0-2-0-2-3-0-3-21', '2-0-2-1-3-0-0-3-52', '2-0-1-1-1-1-0-4-32', '2-0-1-0-0-0-0-4-100', '2-0-0-1-3-3-0-3-46', '2-1-1-0-2-2-0-3-42', '2-0-1-1-2-3-0-4-16', '2-1-2-1-0-0-0-4-24', '2-0-1-0-2-2-0-3-52', '2-0-1-1-1-2-0-4-61', '2-0-1-1-0-0-0-4-24', '1-0-1-0-3-1-0-4-33', '2-0-1-1-2-1-0-4-61', '2-1-1-1-1-1-0-4-29', '1-0-1-1-3-1-0-4-60', '1-0-2-2-1-2-0', '1-0-1-1-1-0-0-3-40', '2-0-1-0-1-1-0-4-55', '2-0-1-1-0-2-0', '2-0-0-1-0-0-0-3-5', '2-0-1-0-3-3-0-4-87', '2-0-1-1-3-1-0-4-42', '2-0-1-1-2-0-0-3-43', '2-1-1-0-0-3-0-4-57', '2-0-2-1-1-3-0-3-30', '2-1-1-1-2-3-0-3-65', '2-1-2-0-1-1-0-3-9', '2-1-1-1-1-3-1-4-1', '2-1-2-1-0-0-0-4', '1-1-1-1-0-0-0-4-34', '2-0-1-1-1-3-0-4-82', '2-0-2-1-0-1-0-4-74', '2-1-1-2-0-0-0-4-38', '1-0-2-1-2-1-0-3-53', '2-1-1-0-2-3-0-3', '1-0-2-1-2-2', '2-0-1-1-2-3-0-4-58', '1-1-2-2-3-3', '2-0-1-0-3-1-0-4', '2-0-2-2-1-1-0-4-21', '2-0-1-1-1-0-0-3-25', '2-0-2-2-1-2-0-4-7', '1-0-2-2-2', '2-0-0-0-0-0-0-3', '2-1-2-1-0-1-0-4-73', '1-0-2-1-3-0-0-3-64', '2-0-1-0-0-2-0-3-67', '1-1-1-1-3-0-0-4-64', '2-0-1-2-0-0-0-3-62', '2-0-1-1-2-1-0-4-47', '2-1-2-1-1-3-0-4-39', '2-0-0-1-2-1-0-3-81', '2-0-1-1-1-3-0-4-30', '2-0-1-1-0-1-0-4-30', '2-0-2-1-2-3-0-4-4', '2-0-2-0-2-0-0-4-54', '2-1-1-1-1-2-0-4-4', '2-0-1-1-0-1-0-3-98', '2-0-1-1-1-1-0-4-98', '2-0-1-0-0-0-1-3-1', '2-0-1-0-2-2-0-4-76', '2-0-2-2-3-2-0-4-2', '1-1-0-0-3-0', '1-0-1-1-0-0-0-4-99', '2-0-2-1-3-2-0-3', '1-1-2-1-3-0-0-4-16', '2-1-2-1-0-1-0-4-5', '2-0-1-0-2-0-0-4-74', '2-1-1-0-0-1-0-4-80', '2-0-0-1-2-2-0-2-98', '2-0-1-0-2-0-0-4-95', '2-1-2-0-0-0-0-3-57', '2-1-2-1-2-3-0-4-30', '1-0-0', '2-1-2-1-0-0-1-4-3', '2-0-2-2-1-2-0-3-33', '1-0-2-1-0-0', '1-0-2-1-0-1-0-4-21', '2-0-2-1-0-2-0-4-39', '2-1-2-0-2-2-0-4-48', '2-0-1-1-1-3-0-4-32', '2-0-1-1-2-1-0-3-27', '2-1-1-1-1-3-0-4-97', '2-1-1-2-3-0-0-4-42', '2-1-2-0-1-1-0-4-37', '2-0-2-1-2-0-0-4-38', '1-1-2-1-2-0-0-3-49', '2-0-2-0-1-0-0-3-97', '2-0-2-1-1-2-0-1', '2-0-1-2-2-2-0-4-100', '2-0-1-2-0-2-0-4-34', '1-0-1-1-1-0-0-3', '2-0-2-2-1-2-0-4-11', '1-0-1-2-3-3-0-4-73', '2-0-1-1-1-0-0-1-76', '2-0-1-0-1-0-1-3', '2-0-1-0-1-3-0-4-62', '2-1-2-2-1-2-0-3-42', '1-0-1-1-3-2-0-4-25', '2-0-1-0-2-3-0-4-44', '2-0-2-1-0-0-0-3-42', '2-1-1-1-2-3-0-4-15', '2-1-2-1-0-3-0-3-13', '2-0-0-1-0-1-0', '2-1-2-1-2-2-0-4-42', '1-0-2-0-3-0-0-4-33', '2-0-2-1-1-2-0-4-16', '1-0-1-0-3-0-0-4', '2-1-2-1-1-1-0-3-35', '2-0-2-1-1-1-0-4-64', '1-1-2-2-3-0-0', '2-0-2-0-2-0-0-4-73', '2-0-2-1-0-2-0-3-45', '2-1-2-1-2-2-0-4-50', '2-0-2-1-1-2-0-3-17', '2-1-2-1-0-1-0-4-34', '2-0-1-1-1-1-0-4', '2-0-2-1-2-3-0-3-35', '2-0-2-1-2-2-0-4-73', '2-1-1-1-2-0-0-4-76', '2-0-2-1-2-2-0-3-33', '2-0-1-1-0-3-1-3-1', '2-1-0-1-1-0-0-4', '2-0-1-1-2-3-0-4-91', '2-0-2-0-1-2-0-3-56', '2-1-2-1-0-1-0-4-78', '2-0-1-1-0-1-0-4-98', '1-0-0-1-3-3-0-3-21', '2-0-2-1-1-3-0-4-5', '1-1-2-1-2-3-0-4-5', '2-1-1-2-1-1-0-4', '2-0-1-0-2-0-0-4-78', '2-0-1-1-1-1-0-3-14', '2-0-2-1-1-0-1-3-8', '2-1-1-1-2-1-0-3-17', '2-0-1-0-2-0-0-4-33', '2-1-2-0-0-2-0-3-86', '1-1-2-1-2-0-0-4-61', '2-0-2-1-1-1-0-3-71', '2-1-1-1-0-3-0-4-9', '2-0-2-1-0-2-0-4-99', '2-1-1-1-1-1-0-4-9', '2-0-2-2-2-1-0-4-24', '2-1-2-1-2-0-0-3-6', '1-0-1-1-1-1-0-3-58', '2-0-1-2-1-2-0-3-32', '2-0-2-1-3-0-0-4-51', '2-1-2-1-2-0-0-3-17', '2-1-0-0-2-2', '2-1-2-0-0-0-0-3', '2-1-1-0-2-2-0-4-53', '2-0-1-1-2-3-0-3-17', '2-1-1-1-2-0-0-3-51', '2-1-2-2-3-1-0-4-81', '2-0-2-1-0-3-0-4-42', '2-0-1-1-0-0-0-3-90', '2-1-1-1-2-3-0-4-97', '2-0-2-1-1-2-0-4-69', '1-0-1-1-2-0-1-4-1', '2-0-1-1-1-0-0-4-55', '2-0-1-1-1--1-0-3-91', '2-0-1-1-2-3-0-3-95', '2-1-1-1-2-1-0-4-82', '2-1-2-1-0-2', '2-0-0-2-0-0-0-3-81', '2-0-2-2-2-3-0-4-47', '2-0-2-2-0-2-1-4', '2-1-2-2-1-2-0-4-44', '2-0-2-1-0-1-1-3-1', '2-1-2-1-1-0-1-4-7', '1-0-0-0-3-0', '2-1-2-1-1-0-0-4-20', '1-0-2-1-3-0-0-4-99', '2-0-0-1-0-3-1', '2-0-1-1-2-0-0-3-94', '2-0-1-0-2-1-0-3-52', '2-0-1-0-2-0-0-4-79', '2-1-1-1-0-0-0-3-32', '2-0-2-2-0-0-0-3-77', '2-0-1-1-2-1-0-3', '1-0-1-1-2-3-0-4-86', '2-1-2-1-1-1-0-4-25', '2-0-1-0-1-3-0-4-63', '2-1-1-1-2-1-0-4-96', '2-0-1-1-2-1-1-3-1', '2-1-1-1-2-3-0-4-14', '2-0-1-2-2-1-0-4-97', '2-0-1-1-2-1-0-4-14', '1-0-0-1-3-1-0-3-58', '2-1-1-1-0-2-0-3-52', '2-1-2-1-2-3-0-4-12', '2-1-1-1-0-0-0-4-24', '2-0-1-1-1-1-0-4-84', '2-0-1-1-0-1-0', '1-0-2-2-3-3-0-3-58', '2-0-2-1-1-2-0-4', '2-0-1-0-0-3-0-4-90', '2-1-1-0-0-0-0-3-79', '2-1-1-1-0-2-0-4-53', '2-1-2-1-3-0-0-3-43', '2-0-1-1-0-2-0-4-19', '2-0-2-1-2-0-0-3-10', '2-1-0-1-1-0-0-3-20', '1-1-0-1-1-3-0-3-100', '2-0-1-0-1-1-0-3-40', '1-1-1-0-2-1-0', '1-1-2-1-2-2-0-4-33', '1-0-1-2-3-0-0-4-99', '2-1-1-1-0-0-0-4-85', '1-0-0-0-3-0-0', '2-1-1-1-2-2-0-3-57', '1-0-2-2-0-1-1-4', '2-1-1-1-1-0-0-4-76', '2-0-2-0-3-3-0-3-39', '1-0-2-0-2-0-0-4-73', '2-0-1-1-0-1-0-4-75', '2-0-2-1-2-0-0-4-37', '2-0-2-0-0-0-0-4-39', '2-0-1-1-1-2-0-4-38', '2-1-1-1-0-0-0-3-100', '2-0-1-0-1-2-0-3-26', '2-0-1-2-1-0-0', '2-1-2-0-0-0-0-4-98', '2-0-1-1-0-0-0-4-22', '1-0-2-2-1-2-0-3-52', '2-1-2-2-2-3-0-4-14', '2-0-2-1-3-3-0-4-34', '1-1-1-0-2-2-0', '2-0-1-2-0-0-0-4-83', '1-0-2-2-0-1-0', '2-0-1-1-2-3-0-3-42', '2-1-2-2-0-3-0-3-38', '1-1-1-0-3-2-0-4-37', '1-1-0-1-2-0-0-3-46', '2-0-2-1-1-2-0-3-2', '2-0-2-1-2-1-0-4-93', '2-0-1-1-2-3-0-4-13', '1-0-0-1-3-1-0-4', '2-1-2-0-2-1-0-3-88', '2-1-1-0-2-3-0-4-8', '2-1-2-0-0-0-0-4-32', '1-0-2-1-3-2-0-4-43', '2-0-2-1-0-2-0-4-60', '2-0-1-1-0-3-0-4-49', '1-1-1-1-3-1-0-3-25', '2-1-2-1-0-1-0-3-48', '1-0-2-0-2', '2-1-1-2-2-3-0-3-54', '2-0-2-0-2-1-0-3-100', '1-0-2-1-3-0-0-4-56', '2-0-2-2-2-0-0', '1-0-2-0-3-3-0-4-30', '2-0-1-1-1-0-0-3-59', '2-1-1-1-2-1-0-4-13', '2-0-0-1-2-2-0-3-76', '2-0-2-1-0-1-0-3-42', '2-0-2-0-0-3-0-4-24', '2-0-2-1-0-3-0-4-94', '1-0-1-1-0-0-1-3', '2-0-2-1-1-2-0-4-75', '2-1-1-2-0-0-0-4-42', '1-1-1-1-1-3-0-4', '2-0-1-1-1-2-0-4-6', '1-1-2-1-2-1-0-3-52', '2-1-2-0-2-1-0-4-94', '1-0-2-1-2-0-0-4-23', '2-0-2-2-1-1-0-4-10', '2-0-1-1-1-2-0-3-16', '2-0-1-0-2-0-0-3', '2-0-2-1-2-1-0-4-14', '2-0-1-0-0-0-0-4-15', '2-0-1-1-0--1-0-3-25', '2-0-1-1-0-1-0-3-79', '2-0-2-0-1-1-0-4-47', '2-1-2-0-1-1-0-4-48', '2-0-2-2-1-3-0-4-72', '1-0-0-1-3-0-0-3-30', '2-1-1-1-3-3-0-4-27', '2-0-1-0-1-1-0-4-98', '2-0-1-1-0-0-0-3-59', '2-0-2-1-1-2-0-4-29', '2-0-1-1-1-1-0-4-7', '2-0-2-1-0-1-1-4-2', '2-0-2-0-1-1-0-4-33', '1-1-1-2-2-2', '2-0-1-0-2-2-0-3-7', '2-1-1-2-0-2-0-3-22', '2-0-1-2-1-2', '1-0-1-1-2-3-0-4-66', '2-1-1-2-2-3-0-4-96', '2-1-1-0-1-0-0-4-1', '2-0-1-0-2-1-0-4-52', '2-1-1-1-1-0-0-3-10', '1-0-2-1-2-3-0-4-65', '1-0-2-2-1-0-0-4', '2-0-1-0-3-3-1-3-7', '2-0-1-2-0-2-0-4-80', '2-0-2-2-0-2-0-4-46', '2-1-2-1-2-1-0-4-22', '2-0-1-0-3-0-0-4-74', '2-0-1-1-2-0-0-3-53', '1-1-2-1-3-3-0-4-98', '1-0-1-1-2-3-0-3-61', '2-0-2-1-1-0-0-3-44', '2-1-1-0-1-0-0-4-9', '2-0-2-2-1-0-0-3-4', '2-0-2-1-2-0-0-3-37', '2-1-2-0-0-0-0-4-86', '2-0-1-2-2-2-0-3-80', '2-0-1-1-3-3-0-4-87', '2-1-1-0-2-0-0-4-11', '2-1-2-1-0-3-0-4-98', '2-0-2-1-0-1-1', '2-1-1-1-1-0-0-4-19', '1-0-2-0-0-2-0-4', '2-1-1-0-2-3-0-4-70', '2-0-2-1-1-3-0-4', '2-0-1-0-2-0-0-4-37', '1-0-1-1-2-0-0-4-58', '2-0-1-0-1-1-0-3-1', '1-0-2-1-1-2-0-3-51', '1-1-1-1-3-2-0-4-18', '2-0-2-1-1-3-0-4-83', '2-0-1-1-2-0-0-3-2', '2-0-2-1-0-2-0-4-11', '2-1-2-1-0-2-0-4-16', '2-1-2-1-3-1-0-3', '2-1-2-1-0-2-0-4-78', '2-1-2-1-2-0-0-4-40', '2-1-2-0-0-0-0-4-79', '2-0-0-1-1-0-0-3-61', '2-1-0-0-1--1-0', '2-0-2-1-2-0-0-4-16', '2-0-1-0-2-2-0-4-100', '1-0-1-1-2-2-0-4-56', '2-1-2-1-2-3-0-3-10', '1-1-1-1-2-1-0-4-98', '2-1-2-0-0-1-0-4-95', '2-1-1-0-0-3-1-4', '2-0-1-2-2-0-0-3-39', '2-1-1-1-1-1-0-4-19', '2-0-1-1-3-3-1-4-3', '1-1-1-0-3-0-0-4-37', '1-0-1-1-1-0-0-4-53', '2-0-2-1-1-0-1-3', '2-0-2-1-0-3-0-4-13', '2-0-2-0-1--1-0-3', '1-0-2-0-1-1-0-4-29', '1-0-2-1-3-2-0-3-55', '2-1-1-1-1-2-0-3-11', '1-0-2-1-1-0-0-4-4', '2-1-2-1-1-0-0-4-50', '2-0-1-0-1-0-0-4-36', '2-0-1-2-3-0-0-4-42', '2-0-1-1-2-3-0-3-83', '2-0-1-1-1-2-0-4-71', '2-1-0-1-2-1-0-4', '2-0-0-1-0--1-1-3', '1-1-2-1-0-3-0-3', '1-0-1-2-1-2-0-4-100', '2-0-1-0-2-3-0-3-79', '2-0-2-1-0-0-0-3-68', '2-0-2-0-1-1-0-3-61', '2-1-1-1-1-0', '2-1-1-1-0-2-1-4-3', '2-1-1-1-1-0-0-4-38', '2-0-2-1-0-0-0-4-95', '2-1-0-1-0--1-0', '2-0-0-1-2-2-0-2-72', '2-0-2-2-0-1-1-4-1', '1-0-2-0-2-1-0-4', '2-0-1-1-0-0-0-4-76', '2-1-2-0-0-0-0-4-61', '1-0-2-1-3-3-0-4-5', '2-1-1-1-1-1-0-4-61', '2-1-2-2-2-3-0-3-61', '1-1-2-0-2-1', '1-0-1-2-0-3-1-3', '2-0-1-1-0-2-1', '2-1-1-0-3-0-0-4-22', '2-0-1-0-1-2-0-3-59', '2-1-1-1-0-0-0-3-52', '2-0-2-1-2-1-0-3-15', '2-0-1-0-1-0-0-3-8', '2-0-1-1-2-1-0-4-33', '2-0-1-1-0-2-0-4-69', '2-0-1-1-2-0-1-3-3', '2-0-2-1-3-0-0-4-52', '2-1-1-1-2-3-0-4-38', '2-0-2-2-1-0-0-3-19', '2-0-2-2-1-2-0-3-15', '2-1-1-1-2-0-0-4-5', '2-0-1-1-2-2-0-3-77', '2-0-0-1-1-2-0-3-60', '2-1-1-0-2-1-0-4-31', '2-1-2-1-1-0-0-3-19', '2-1-1-1-0-3-0-4-16', '2-0-1-0-1-1-0-4-87', '2-1-0-1-2-0-0-3', '1-0-1-1-2-2-0-4-85', '2-0-1-1-0-3-0-4-41', '2-1-1-1-0-1-1-4-1', '2-1-1-1-2-2-0-4-77', '2-0-2-2-1-1-0-4-49', '1-0-2-1-3-0-0-4-19', '2-0-1-1-1-1-0-3-10', '2-1-1-0-1-0-0-4-6', '2-1-2-0-2-1-0-3-78', '2-1-1-1-2-0-0-4-2', '2-0-1-0-2-2-0-3-99', '2-0-1-1-2-1-0-4-81', '1-1-1-1-3-3-0-4-66', '2-1-1-1-2-2-0-4-58', '1-0-1-0-3-1-0-3-13', '2-1-2-2-1-3-0-4-85', '2-0-2-0-0-2-0-4-37', '2-1-2-1-1-2-0-4-5', '1-0-2-1-3-3-0-4-39', '2-0-2-1-1-0-0-3-55', '2-1-1-1-1-1-0-3-54', '2-0-1-1-0-0-0-3-65', '2-0-1-2-1-0-0-3', '2-0-1-0-0-2-0-3-98', '1-0-2-2-2-2-1', '2-1-1-0-2-1-0-4-99', '1-0-1-1-1-2-0-4-57', '2-0-2-0-1-1-0-4-89', '2-0-2-2-2-0-0-4-75', '2-0-2-1-2-0-0-3-76', '1-0-1-0-2-1-0-3', '2-1-2-1-2-0-0-3-100', '1-0-2-1-2-0-0-4-33', '2-0-2-1-0-0-0-3-38', '1-0-2-1-3-0-0-4-20', '2-0-2-1-2-0-0-3-38', '2-1-2-0-0-3-0-4', '2-1-0-2-0-0-0-4', '2-1-2-1-1-3-0-4-28', '2-0-2-1-0-2-0-3-27', '2-0-2-0-2-1-0-4-21', '2-1-2-1-3-0-0-4-4', '2-0-1-0-0-0-0-4-69', '2-1-1-1-2-3-0-4-62', '2-0-2-0-2-0-0-2', '2-1-1-1-2-1-0-4-28', '2-0-2-1-0-3-0-4-52', '2-1-1-1-1-1-0-3-81', '1-0-2-1-0-1-0-4-57', '2-1-1-1-1-1-0-3-47', '2-0-2-1-2-2-0', '2-0-1-0-2-3-1-4-3', '2-1-1-1-1-2-1-3', '2-1-2-1-2-2-0-3', '2-0-2-0-0-0-0-4-51', '1-1-1-2-2-0-0', '2-1-1-0-2-0-0-3-14', '2-0-2-1-2-1-0-3-34', '2-0-2-0-3-1-0-4-56', '2-1-2-1-1-1-0-4-92', '2-0-0-1-1-0-0-3-39', '1-0-1-1-3-3-0-4-67', '1-0-1-1-2-2-0-3-100', '2-1-2-0-2-1-0-4-11', '2-0-1-2-1-0-0-3-98', '2-0-2-0-0-0-0-3-39', '2-1-2-1-2-0-0-4-37', '1-0-2-1-1-0-0-3-44', '2-1-1-2-3-0-0-4-1', '2-0-1-1-0-2-0-4-50', '2-1-1-0-3-3-0-4-44', '2-0-2-2-0-0-1-4-4', '2-0-2-1-0-1-0-4-40', '2-0-2-1-2-0-0-4-26', '2-0-1-1-2-1-0-4-44', '2-0-2-1-1-1-0-4-22', '2-0-1-0-3-3-0-4-86', '2-1-1-1-3-2-0-3-40', '1-0-1-2-1-1', '2-0-1-0-0-3-0-4-7', '2-0-0-1-2-0-0-3-18', '2-1-2-0-2--1-0', '2-0-2-0-2-2-0-4-45', '2-0-2-0-1-1-0-4-2', '2-1-2-1-1-3-0-4-1', '2-1-1-0-2-1-0-4-25', '1-0-1-1-1-0-0-3-1', '2-0-2-1-0-2-0-3-65', '2-0-2-0-3-3-0-4-6', '2-0-1-1-0-0-0-4-10', '2-0-2-1-2-1-1-4-6', '2-0-2-2-3-3-0-4-4', '2-1-1-1-3-0-0-3', '2-0-1-1-1-0-0-3-63', '2-1-2-1-2-2-0-4-81', '1-0-1-0-3-0-0-3-17', '1-0-1-1-2-3-0-4-72', '2-0-2-2-0-0-1-3-9', '2-1-2-1-1-3-0-4-33', '2-1-2-1-2-3-0', '1-0-1-1-1-3-0-4-3', '2-0-1-0-2-2-0-3-78', '2-0-2-0-1-0-0-4-80', '1-0-2-1-3-1-0-4-39', '2-1-2-1-0-', '2-0-1-0-0-0-0-3-91', '2-0-2-1-1-0-0-3-26', '2-0-0-1-0-1-0-2-99', '2-1-2-2-0-1-0-4-80', '2-1-1-1-0-0-0-3-1', '1-0-2-1-2-3-1-4-9', '2-0-1-1-0-2-0-3-38', '2-1-2-1-2-1-0-3-15', '2-0-1-1-3-1-0-4-35', '2-1-2-1-0-0-0-3-38', '2-0-1-0-0-0-0-4-47', '2-0-1-1-1-2-0-4-43', '2-0-2-2-0-3-1-3', '1-0-1-0-1-3', '2-0-2-1-1-3-1-4-9', '2-1-1-0-3-0-0-4-2', '2-1-1-2-3-2-0-4', '2-0-1-1-1--1-0-3-93', '2-0-1-1-2-2-0-4-67', '2-1-2-0-2-3-0-3-20', '2-0-2-1-0-0-0-3-19', '2-0-1-1-1-3-0-4-84', '1-0-1-1-3-3-0-4-2', '2-1-2-0-1-2-0-3-28', '2-0-0-1-0-0-0-3-4', '2-0-2-0-2-0-0-4-7', '2-1-2-2-0-0-0-4', '2-0-1-1-0-0-0-4-97', '2-0-2-0-2-2-0-4-10', '2-1-1-1-1-2-0-3-61', '2-1-1-1-0-0-0-4-69', '2-0-1-1-0-0-0-4-95', '2-1-1-1-1-3-0-4-70', '2-0-2', '1-1-1-1-3-2-0-4-37', '2-1-2-1-0-3-1-4-9', '2-0-2-1-1-0-0-3-99', '2-1-1-1-1-2-0-4-53', '1-0-1-0-3-0-0-3-2', '2-0-1-1-2-1-0-3-62', '2-0-1-1-3-0-0-3', '1-0-1-1-3-1-0-4-63', '2-0-2-1-2-0-0', '2-1-1-1-0-0-0-3-71', '2-0-1-2-0-0-0-3-82', '2-0-1-0-2-2-0-4-90', '2-0-2-0-2-1-0-3-41', '2-0-2-1-1-1-0-4-77', '2-0-1-1-2-1-0-3-68', '2-1-2-2-3-1-0-4-44', '2-1-2-1-1-0-0-3-42', '2-1-1-1-1-3-0-3-53', '1-1-1-0-3-3-0-4-49', '2-0-2-1-0-0-0-4-23', '2-0-1-1-2-2-0-4-60', '1-0-1-1-3-1-0-3-98', '2-0-1-0-1-1-0-4-27', '2-0-1-1-1-1-0-4-93', '2-0-2-1-2-1-0-4-32', '1-1-1-1-1-1', '1-0-0-1-3-0-0-3-6', '2-0-2-2-1-0-0-3-37', '1-0-2-2-2-0-0-3-55', '1-0-2-0-2-0-0-4-71', '2-0-2-2-1-2-0-4-84', '2-0-1-0-2-1-0-3', '2-0-2-1-0-3-0-4-29', '2-0-0-0-3-3-0-3', '2-0-2-1-0-0-0-4-19', '1-1-1-0-3-1-1-4-4', '2-0-2-1-2-0-1-4-6', '2-1-1-1-1-1-0-4-87', '2-0-1-0-0-2-0-4-100', '2-0-1-0-1-3-0-4-25', '2-0-1-2-0-0-0-4-91', '2-0-2-2-2-1-0-4-45', '2-0-1-1-0-0-0-3-83', '2-0-1-1-2-1-0-3-44', '2-1-1-0-2-2-0-4-95', '2-0-1-1-1-0-0-4-49', '2-0-2-1-2-2-0-4-76', '2-0-2-1-0-1-0-3-52', '2-0-0-1-0-0-0-3-54', '2-0-2-1-2-0-0-3-98', '2-0-1-1-0-0-0-3-93', '2-0-1-1-1-1-0-4-47', '2-1-2-1-0--1-0-3-7', '2-0-2-1-0-1-0-4-38', '2-1-1-0-1-0-0-3-53', '2-0-2-0-2-3-0-4-2', '2-1-2-0-2-0-0-3-58', '1-0-1-1-1-0-0-3-90', '2-0-1-1-2-3-0-4-54', '2-1-2-2-1-0-0-4-4', '2-1-1-0-0-3-0-4-78', '2-0-1-1-1-0-0-3-34', '2-1-1-1-0-3-0-4-35', '2-1-1-1-1', '2-0-1-1-0-0-0-3-7', '2-1-1-1-3-3-0-3', '1-0-2-1-2-2-1-4', '2-0-1-1-2-3-0-4-21', '2-0-0-1-1-0-0-3-24', '1-1-1-1-2-1-0-3-21', '2-0-2-2-2-2-0-3-39', '2-0-2-2-0-0-0-4-28', '2-1-1-1-2-2-0-3-32', '1-0-1-0-3-1-0-4-36', '2-0-2-0-1-0-0-3-4', '1-0-0-1-0-0-0-4', '2-1-2-0-0-2-0-1', '2-0-1-1-0-1-0-4-56', '2-0-2-0-3-2-0-4-55', '2-1-1-1-3-0-0-3-30', '2-0-2-2-1-2-0-3-69', '1-1-2-1-0-2-0-4-32', '2-1-1-1-1-2-0-4-12', '2-1-0-1-0--1-1-3-1', '1-1-1-1-2-2-0-4', '2-1-1-1-2-2-0-4-37', '2-1-2-2-0-0-0-3-78', '2-0-1-1-0-1-0-3-86', '2-1-1-1-0-2-0-4-38', '2-0-0-1-2-1-0-3-32', '2-0-0-1-1-0-0-3-4', '2-1-1-1-0-3-0-4-30', '2-0-1-0-2-3-0-4-35', '1-0-2-0-3-0-0-4-13', '2-0-1-2-3-0-0-3-1', '2-0-1-1-0-1-0-3-23', '2-1-1-1-2-3-0-4-28', '2-0-1-1-0-0-0-3', '2-1-2-2-0-3-0-3-40', '2-0-1-0-1-3-0-4-98', '2-1-1-1-1-0-0-3', '2-0-2-1-2-1-0-4-82', '2-1-1-2-0-0-0-4-20', '2-0-1-0-2-3-0-3-13', '2-0-1-1-3-0-0-3-26', '1-0-2-1-0-0-0-3', '1-0-2-2-2-3-1-4', '2-0-1-0-3-2-0-4-34', '2-0-1-1-2-0-1-4-3', '2-0-2-1-0-2-0-3-41', '2-0-2-0-2-0-0-4-32', '2-0-2-1-2-3-0-3-50', '1-0-1-1-3-1-0-4-100', '2-0-2-1-2-3-0-4-75', '2-0-1-1-1--1-0-3-18', '2-1-2-1-1-0-0-3-35', '2-0-1-0-0-1-0-4-90', '2-0-2-0-1-0-0-4-100', '2-0-2-1-2-1-0-3-69', '2-1-1-2-0-0-1', '2-0-2-1-1-2-0-3-24', '2-0-1-1-1-1-0-1', '2-0-2-0-1-2-0-4-2', '2-0-1-0-1-2-0-4-43', '2-0-2-1-1-1-0-3-34', '2-0-1-0-1-3-0-4-29', '2-0-2-2-0-3-0-3-45', '1-0-2-1-3-1-0-4-32', '2-0-1-1-0-0-0-3-72', '2-0-1-1-0-0-0-3-80', '2-0-1-2-2-3-0-3-68', '2-0-1-0-0-0-0-3-7', '2-0-1-0-2-0-0-4-40', '2-1-2-2-2-0-0-4', '2-1-1-1-1-0-0-3-55', '2-0-2-1-3-1-0-4-97', '2-0-2-1-0-1-0-4-81', '1-0-1-1-2-2-0-4-82', '1-0-1-1-3-2-0-4-23', '1-0-2-2-3-3-0', '2-0-2-1-2-0', '1-0-2-2-1-1-0-3', '2-0-2-1-2-2-0-4-12', '2-1-2-1-1-3-0-4', '2-0-1-1-2-3-0-4-5', '1-1-2-0-0', '2-1-1-0-0-2-0-4-79', '2-1-1-1-0-0-0-4-62', '2-1-2-0-0-2-0-4-55', '2-1-2-2-1-2-0-4-23', '2-0-2-1-2-2-0-3-8', '2-0-1-1-0-0-0-3-40', '2-0-2-1-1-0-0-4-17', '2-0-2-2-1-2-0-4-100', '2-0-1-1-0-3-0-3-54', '2-1-1-1-0-0-0-4-61', '1-0-2-1-1-3-0-4-58', '2-1-1-0-0-3-0-4-49', '1-0-2-1-2-3-0-4-4', '2-1-1-1-2-2', '2-0-1-1-1-2-0-3-39', '2-0-0-1-1-2-0-3-96', '2-1-1-2-1-3-0-4-8', '2-0-2-1-1-1-0-3-84', '2-1-0-1-2-1-0-3-70', '2-1-1-1-0-1-0-4-32', '2-0-2-1-0-1-0-3-6', '2-0-1-1-1-0-0-3', '2-1-0-1-1--1-0-3-2', '2-0-1-1-1-2-0-4-88', '2-0-1-1-0-1-0-4-93', '2-0-1-2-1-0-0-3-37', '1-0-1-1-3-3-0-3-86', '2-1-2-0-0-0-0-3-53', '2-0-1-1-3-2-0-4-35', '2-0-2-0-1-0-0-4-82', '2-1-2-1-2-0-0-3', '2-1-1-1-2-0-0-4-83', '2-1-1-1-1-2-1-4-4', '2-0-2-2-0-0-0-3', '2-1-1-0-1-3-0-4-39', '2-1-2-2-1-2-0-4-6', '2-0-2-2-1-2-0-4-43', '2-1-1-1-2-1-0-4-5', '1-0-1-0-2-2-0-3-36', '1-0-1-2-1-1-0-3-100', '1-1-2-1-3-3-0-3', '2-1-2-2-1-2-0-4-35', '2-0-0-1-3-1', '2-0-2-1-1-2-0-4-28', '1-0-1-1-0-2-1-3', '2-1-1-1-2-0-0-4-49', '2-1-1-2-2-0-0-4-21', '2-1-2-0-2-2-0-3-20', '2-0-1-0-1-0-0-3-17', '2-0-2-1-2-0-0-4-51', '2-1-1-1-0--1-0', '2-1-2-1-2-0-0-4-30', '2-1-1-2-1-1-0-3-36', '2-1-1-1-1-0-0-3-100', '2-0-1-2-0-1-0-4-19', '2-1-1-0-1-2-0-4-77', '2-0-1-1-3-2-0-4-53', '1-1-2-0-3-2-0-3-5', '2-1-1-2-0-2-0-4-100', '2-0-2-0-0-0-0-4-97', '1-1-1-1-2-2-0-4-56', '2-0-1-1-0-1-0-4-81', '2-0-0-1-2-', '2-1-1-0-2-1-0-4-46', '2-1-2-0-2-1-0-3-77', '2-1-2-1-1-1-0-3-77', '2-1-1-2-3-0-0-3', '2-0-2-1-3-3-0-4-43', '2-0-1-1-1-3-0-4-35', '2-0-1-1-3-2-0-4-4', '2-0-1-1-2-3-0-4-1', '2-1-1-1-0-1-0-4-3', '2-0-2-1-1-2-0-4-94', '2-0-1-1-1-1-0-3-20', '2-0-2-1-2-3-0-3-75', '2-0-2-0-2-1-0-4-82', '2-0-2-1-1-2-0-4-71', '2-1-1-0-1-0-0-4-22', '2-0-0-1-2-1-0-3-29', '2-0-1-1-1-1-0-4-60', '2-0-1-0-1-0-0-3-34', '2-0-1-2-2-1-0-3', '2-1-1-0-0-0-0-3-63', '1-1-1-1-0-0-0-3', '2-0-0-1-1-2-0-3-3', '2-1-1-1-1-3-0-4-57', '2-1-2-1-1-2-0-4-74', '2-0-1-1-3-3-0-3-95', '2-0-2-0-2-0-0-4-94', '2-1-1-1-1-1-0', '2-0-2-1-2-0-0-3-16', '2-1-1-2-1-3', '2-1-2-0-1-0-0-4-77', '2-0-2-1-1-1-0-3-25', '2-0-2-1-0-2-0-3-18', '2-1-2-1-1-3-1-3-1', '2-0-1-0-1-2-0-3-4', '2-0-1-1-3-0-0-4-43', '2-1-1-0-0-1-0-4-7', '2-0-2-2-0-0-0-2-34', '1-1-1-1-3-2-0-4-23', '2-0-2-2-1-0-0-4-47', '2-0-1-1-1-0-0-4-70', '2-0-1-2-2-2-0-4-80', '1-0-1-1-3-3-0-3-94', '2-1-1-1-0-2-0-4-3', '2-1-1-1-1-0-0-4-13', '2-0-1-0-1-0-0-4-25', '2-0-2-0-3-0-0-4-53', '1-0-1-1-2-0-1-4-2', '1-1-1-1-0-3', '1-0-1-1-2-3-0-4-59', '2-0-1-0-1-2-0-3-34', '2-0-2-1-0-3-0-3-81', '2-1-1-0-1-2-0-3-86', '2-0-2-1-0-3-0-3-5', '2-1-2-2-2-0-0-4-40', '1-1-2-1-2-3-0-4-25', '2-0-1-0-0-0-0-3-67', '2-1-2-1-2-0-0-4-63', '2-0-2-2-1-1-0-4-33', '2-0-1-0-0-3-0-4-53', '2-1-2-1-0-3-0-4-77', '2-0-1-1-0-2-0-4-45', '2-1-2-1-1-0-0-4-30', '1-1-0-1-2-0-0-3-52', '2-1-2-0-0-0-0-4-97', '2-0-1-1-1-0-0-4-82', '2-1-1-2-0-0-1-4-1', '2-0-2-2-1-2-0-4-80', '2-1-1-0-0-3-0-3', '2-0-2-1-3-1-0-4-10', '2-0-2-0-2-2-0-3-31', '2-1-1-1-2-3-0-3-11', '2-0-1-1-2-1-0-4-36', '2-0-2-0-2-1-0-3-53', '2-0-2-2-3-0-0-3-88', '1-0-1-1-3-2-0-4-61', '2-0-2-1-0-0-0-4-10', '2-0-2-0-0-0-0-3-98', '2-1-2-1-1-0-0-4-71', '2-0-1-1-0-1-0-4-52', '1-0-1-1-3-3-0-1', '2-1-2-0-0-3-0-4-23', '2-0-1-1-2-3-0-3-73', '2-0-2-1-1-3-0-4-31', '2-0-1-2-2-0-0-3', '2-0-2-1-1-2-0-4-24', '2-0-2-1-0-3-0-4-35', '2-0-1-0-1-1-0-4-60', '2-0-1-2-1-1-0-3-48', '1-1-1-1-0-0-0-3-100', '2-0-1-0-2-0-0-4-61', '1-1-2-1-0-0-0-3-49', '1-1-2-1-2-1-0-3-62', '2-0-1-1-1-0-0-3-10', '2-1-1-1-2-1-0-3-30', '2-1-2-0-1-3-1', '2-0-1-1-1-1-0-4-81', '2-1-2-1-2-0-0-4-7', '2-1-2-1-0-0-0-3-6', '1-0-0-1-2-0-1', '2-1-2-1-0-2-0-3-76', '2-1-2-1-1-0-0-4-26', '2-0-2-1-0-3-0-3-36', '2-0-1-1-2-2-0-4-29', '2-1-2-0-2-0-0-4-56', '1-0-2-1-1-3-0-3-99', '2-1-1-0-1-1-0-4-63', '2-0-1-1-2-3-1', '2-1-0-1-2-2-0-3', '2-0-2-0-2-2-0-4-100', '2-0-2-0-1-3-0-4-81', '2-0-1-2-1-3-1-4', '1-0-1-1-2-0-0-4-53', '2-1-1-0-2-1-0-4', '1-0-2-1-3-1-0-4-3', '2-0-2-1-1-2-0-4-39', '2-0-0-0-1-3-0', '1-1-2-1-3-3-0-4-48', '2-1-2-1-0-1-1-3-5', '2-0-1-0-1-1-0-4-64', '2-0-2-2-2-1-0-3', '2-0-1-0-1-3-0-4-20', '2-0-2-0-1-3-0-4-47', '1-0-0-1-3-0-0-3-27', '2-0-2-0-3-2-0-4-52', '2-0-1-0-2-1-0-4-83', '2-0-2-1-3-1-0-4-15', '2-1-1-1-1-0-0-3-21', '2-0-2-2-2-3-0-3-46', '2-1-1-1-0-1-0-3-75', '2-0-2-1-1-1-0-4-20', '2-0-1-0-0-1-0-3-43', '2-0-1-1-3-2-0-3', '2-1-1-2-2-0-0-4-43', '2-0-1-1-1-2-0-4-39', '2-0-2-1-2-2-0-4-19', '2-0-2-0-1-3-0-4-61', '2-1-1-1-2-2-0-3-40', '2-0-2-2-1-0-0-4-9', '2-0-1-1-0-0-0-2-56', '1-0-0-1-2-0-0-3-56', '1-1-2-1-1-1-0-4-51', '2-1-2-0-0-0-0-4-37', '2-0-2-1-0-3-0-4-1', '2-0-2-1-0-1-0-4-86', '2-1-2-0-0-2-0-4-43', '1-1-2-0-2-3-0-4-88', '2-1-2-1-1-1-0-4-54', '2-1-1-1-0-1-0-4-37', '2-0-1-1-0-2-1-4-3', '2-0-2-1-1-3-0-4-84', '2-0-1-0-2-0-0-4-46', '2-1-1-0-1-2-0-4-42', '2-0-1-0-2-2-0-4-81', '2-0-1-2-3-0-0-4-23', '2-0-2-1-0-3-0-4-99', '2-0-2-1-0-1-0-3-64', '2-0-2-1-1-3-0-4-27', '2-0-2-1-2-0-0-4-98', '1-0-2-2-2-2', '1-0-2-1-2-3-0-3-23', '2-0-1-1-1-2-0-3-38', '2-1-1-2-0-0-0-3-14', '2-1-2-1-2-3-0-4-10', '2-0-2-1-1-0-0-3-37', '1-1-2-1-1-2', '2-0-1-2-1-0-0-3-52', '2-0-1-1-1-3-0-3-12', '2-0-2-1-1-3-0-3-53', '1-0-1-1-1-1', '1-0-1-1-3-1-0-4-10', '2-1-2-1-1-0-0-3-31', '1-1-2-1-2-0-0-3-33', '2-0-2-1-1-2-1-4-3', '2-0-2-0-1-2-0-4-42', '1-1-2-1-3-0-1-4-1', '2-1-1-1-0-', '2-1-2-0-1-2-0-3-1', '2-0-2-1-2-1-0-4-49', '2-1-2-1-3-1-1', '2-0-1-1-2-2-0-3-5', '2-0-1-1-1-0-0-4-41', '1-1-2-1-2-1-0-4-24', '2-0-0-1-2-1-0-3-100', '2-0-2-1-0-0-0-4-42', '2-0-2-1-1-2-0-3-54', '2-1-1-1-2-0-0-2-57', '1-0-1-1-2-2-0-4', '2-0-2-1-0-3-0-4-46', '1-1-1-0-3-0-0-4-13', '2-0-2-2-0-3-0-4-8', '2-0-1-1-1--1', '2-1-2-1-1-2-0-4-92', '2-1-1-1-2-3-0-4-51', '2-0-2-1-1--1', '2-1-1-2-1-3-0-3-9', '2-0-0-1-2-0-0-3-84', '2-0-1-1-1-2-0-4-37', '2-1-2-0-1-3-0-4-9', '2-0-2-1-0-1', '1-0-2-1-3-0-0-4-41', '2-1-1-1-1-3-0-4-6', '2-0-1-1-0-2-0-3-72', '2-0-1-1-0-2-0-4-63', '2-1-2-0-1-0-0-4-42', '1-0-2-2-0-0-0-3-51', '1-1-2-1-3-3-0-3-17', '2-0-2-1-2-2-0-4-71', '2-1-1-1-0-1-0-3-78', '2-0-2-0-2-1-0-3-14', '1-0-1-1-3-1-0-4-27', '2-1-1-1-3-3-0-4-41', '2-0-1-1-3-0-0-4-21', '2-1-1-0-2-1-0-4-62', '2-1-2-2-2-0-0-3-14', '2-1-1-0-2-0-0-4-33', '2-1-1-2-1-0-0', '1-0-1-0-0-0-0-4', '2-1-2-1-0-2-0-3-47', '2-0-2-1-0-2-0-3-75', '2-0-2-1-0-0-0-4-93', '2-0-1-2-2-2-0-4-22', '2-0-2-2-0-0-0-4-2', '2-1-1-2-0-2-0-4-22', '2-1-2-1-1-0-0-4-85', '2-0-2-1-1-1-0-4-33', '2-0-2-1-0-2-0-4-17', '2-0-2-0-1-0-0-3-31', '2-0-2-2-1-2-0-4-16', '1-0-2-2-3-0-0-4-37', '2-1-2-1-1-3-0-4-5', '2-0-2-1-2-2-0-4-24', '2-0-1-0-2-1-0-3-11', '2-1-2-0-1-1', '2-0-1-1-1-2-0-3-2', '2-0-1-1-2-2-0-4-5', '2-1-1-0-2-0-0-3-18', '2-1-1-1-2-3-0-4-90', '2-0-1-1-0-1-0-4-6', '2-1-1-0-2-0-1-4-5', '2-1-1-1-1-2-0-4-38', '2-0-1-0-2-2-0-4-60', '2-1-1-1-0-0-0-1', '1-0-1-2-3-0-0-4-84', '2-1-2-1-2-1-0-3-58', '2-0-1-0-0-0-0-3-79', '2-0-1-0-2-1-0-3-69', '2-1-1-2-1-0-0-3-36', '1-1-2-1-3-0', '2-1-1-0-1-1-0-4-49', '2-0-2-1-2-1-0-3-83', '2-0-2-1-2-2-0-3-25', '1-0-0-1-3-0-0', '2-0-1-0-1-0-0-4-81', '2-0-1-0-3-0-0-3', '2-1-1-1-2-3-1-4', '2-1-1-1-3-1-0-4', '1-0-1-1-0-0-0-3-47', '1-1-1-0-2', '2-0-2-0-1-1-0-3-9', '2-0-2-1-1-1-0-4-56', '2-0-1-1-0-2-0-4-7', '2-0-2-1-3-3-0-4-19', '2-1-1-0-2-0-0-4-73', '2-0-2-0-0-1-0-4-81', '2-0-2-0-1-0', '2-1-1-1-2-2-0-4-9', '2-0-2-1-0-0-0-4-12', '1-0-0-1-0-0-0-2', '1-1-2-2-2-0', '2-0-1-0-0-1-0-4-10', '1-0-1-1-3-0-0-4-39', '2-0-1-1-2-0-0-4-88', '1-1-2-1-2-2-0-3', '2-0-1-1-1-3-0-3-64', '2-1-2-1-3-2-0-4-42', '1-0-2-2-3-0-0-4-77', '2-0-0-1-1-2-0-3', '2-0-0-1-0-1-0-3-9', '2-0-1-1-0-0-0-3-49', '2-1-1-1-0-0-0-3-83', '2-0-1-1-0-0-0-4-88', '2-1-1-1-0-1-0-4-97', '1-0-2-1-3-2-0-4-35', '1-1-2-1-2-0', '2-0-1-2-2-3-0-3-35', '2-0-1-0-1-0-0-4-51', '1-0-1-0-3-0-0-4-39', '2-0-1-1-1-1-0-4-54', '2-0-2-1-2-1-0-4-15', '2-0-2-0-0-3-1', '2-0-1-0-0-0-0-4-67', '2-0-2-2-0-3-0-4-6', '1-0-1-0-1-3-0-4-30', '2-0-2-1-1-3-0-3-17', '2-0-2-1-0-0-0-4-92', '1-1-1-1-1-0-0-4-99', '1-1-2-1-3-0-1-3', '2-1-0-1-1-1-0-3-38', '2-1-1-0-2-0-0-4-71', '1-1-1-1-3-3-0-4-16', '1-0-1-1-2-1-0-3-70', '1-1-1-0-3-2-0-4-36', '2-1-1-0-2-3-0-4-33', '2-0-1-1-0-2-0-4-91', '2-1-1-1-0-1-0-4-39', '2-0-1-1-0-0-0-4-34', '1-1-1-1-2-2-0-3-98', '2-1-1-1-0-2-0-4-36', '2-0-2-2-0-1-0-3-25', '2-0-2-1-1-1', '2-0-1-1-3-3-0-4-55', '2-0-1-1-2-1-0-3-25', '2-0-1-1-2-2-0-3-61', '2-0-2-1-2-2-0-3-18', '1-1-2-1-2-3-0-3-79', '2-0-2-1-0-0-0-3-65', '2-0-1-2-1-2-0-4-48', '2-0-2-1-0-2-0-4-9', '2-0-2-2-0-2-0-3-33', '2-0-2-1-0-1-0-4-19', '2-1-2-1-2-3-0-4-99', '2-0-2-1-1-1-0-4-4', '1-0-1-1-1-1-0-4-1', '2-1-2-1-0-0-0-4-75', '2-0-1-1-1-0-0-3-61', '2-0-1-1-2-2-0-4-86', '1-1-2-1-3-0-0-3-99', '2-0-2-2-1-0-0-4-17', '2-0-1-2-2-1-0-4-99', '2-1-2-1-1-0-0-3-74', '1-0-1-1-2-2-0-4-64', '1-1-2-1-2-2-0-3-26', '2-1-1-1-0-0-0-4-74', '2-1-1-1-1-3-0-3-87', '2-1-1-2-1-0-0-3-17', '2-1-1-0-2-1-0-4-78', '2-1-2-2-3-2-0-3-82', '2-0-2-2-0-0-0-3-70', '2-1-1-1-0-0-0-4-52', '2-0-2-1-1-0-0-3-15', '2-1-1-2-0-0-0-4-14', '2-1-1-0-2-1-0-4-19', '1-0-2-2-2-3-1', '2-1-1-0-1-0-0-4-36', '2-0-0-1-3-0-0', '2-0-1-1-2-3-0-4-63', '2-0-1-1-0-3-0-4-14', '2-0-1-1-3-3-0-4-23', '1-0-1-1-2-1-0-4-87', '2-0-1-0-2-3-0-4-16', '2-1-2-2-3-1-1-3-3', '2-1-2-1-2-2-0-4-40', '2-0-2-1-1-1-0-3-50', '2-1-1-2-2-0-0-4-90', '2-0-1-0-1-0-0-4-35', '2-1-2-1-2-0-0-4-3', '2-1-2-2-2-1-0-4-14', '2-1-1-1-1-1-0-3-8', '2-1-2-2-0-3-0-4-38', '2-0-2-1-2-2-0-4-30', '1-1-2-0-2-0-0-4-89', '2-0-0-1-1-0-0-3-78', '2-0-1-1-0-2-0-4-36', '2-0-2-1-3-3-0-4-3', '1-1-1-1-3-1-0-4-64', '2-0-1-1-0-1-0-4-70', '1-1-0-1-2-0-0-3-23', '2-0-2-1-3-0-0-4-41', '2-1-1-1-0-3-1-4', '2-0-2-2-0-2-0-3-63', '2-1-2-2-1-0-0-3-19', '1-1-1-1-3-0-0', '1-0-2-1-1-1-0-4-42', '2-1-1-0-1-1-0-3-75', '2-1-1-1-1-3-0-4-3', '2-0-1-1-2-0-0-4-9', '2-1-1-1-1-1-0-4-63', '2-1-1-0-0-0-0-4-49', '2-0-2-1-1-0-0-4-58', '2-1-1-1-0-0-0-3-24', '1-1-0-1-3-0-0-3-2', '2-0-1-0-1-3-0-3-47', '2-1-2-1-2-2-0-3-36', '2-0-1-1-0-3-0-4', '2-0-1-1-1-0-0-1', '2-0-2-1-1-1-0-3-46', '2-0-1-2-1-2-0-4-16', '2-1-1-2-1-0-0-4-77', '2-0-1-1-1-1-0-4-55', '1-1-0-0-3-2-0-3-6', '1-0-1-1-2-1-0-3-55', '1-1-2-2-3-2-0-4-50', '2-0-1-1-1-0-0-4-21', '1-0-1-0-1-0-0', '1-1-1-1-3-3-0-3-47', '2-0-2-2-2-2-0-4-36', '2-0-1-0-2-0-0-4-36', '2-0-2-1-2-3-0-4-45', '2-1-1-0-1-2-0-4-47', '2-0-1-1-1-1-0-4-17', '2-1-2-1-2-1-0-4-97', '2-1-1-1-2-0-0-4-4', '1-1-2-0-2-0-0-4', '2-0-1-0-0-3-0-4-45', '2-0-0-0', '2-0-1-2-0-1-0-3-93', '1-0-1-2-1-1-0-4', '1-1-2-1-2-2-0-4-48', '1-1-2-1-3-2-0-3', '2-0-2-0-0-2-1-3-1', '2-1-1-1-1-0-0-4-10', '2-0-2-1-3-1-0-3', '1-1-1-1-2-0-0-4-89', '2-1-1-1-2-0-0-4-8', '2-0-1-1-0-1-0-3-21', '2-0-2-1-2-0-0-2', '2-0-2-1-1-0-0-3-68', '1-0-2-1-0-2-0-3', '1-0-1-1-2-1-0-4-54', '1-0-2-1-3-1-0-4-4', '2-0-2-1-2-0-0-3-59', '2-1-2-2-2-0-0-4-13', '2-0-2-1-1-0-1', '2-0-1-1-1-2-0-4-56', '2-0-2-0-1-3-0-4-98', '2-1-1-1-1-3-0-3-41', '2-0-0-0-0--1-0-3-26', '2-0-1-1-1-2-0-4-66', '2-1-1-1-2-2-0-4-45', '2-0-2-1-1-2-0-3-44', '1-1-2-2-3-1-0-3-37', '2-0-1-2-1-3-0', '2-0-1-1-2-1-0-4-63', '2-1-2-1-2-3-0-3-25', '2-1-2-0-2-1-0-4-53', '2-0-2-0-0-0-0-4-28', '1-0-1-0-0-2-0-4-98', '1-0-2-1-3-0-0-4-42', '2-1-2-0-3-0-0-3', '1-0-1-1-3-0-0-4-15', '2-1-2-1-2-1-0-4-33', '2-1-2-1-0-0-0-4-63', '2-0-2-0-2-2-0-3-97', '1-0-1-1-3-3-0-4-55', '2-0-0-1-0-0-0-3-50', '2-0-1-1-0-3-0-3-28', '2-1-2-0-0-1-0-4', '2-0-2-0-1-1-0-4-18', '1-1-2-1-0-0-0-3-99', '2-1-1-1-1-1-1-4-5', '2-0-1-1-1-3-0-3', '2-1-2-0-2-2-0-4-27', '2-1-2-1-2-3-0-3-66', '2-1-2-1-2-2-0-4-17', '2-0-2-2-1-2-0-4-2', '2-0-1-1-1-0-0-4-42', '2-0-2-1-1-0-0-4-67', '2-0-2-0-1-2-0-3-61', '2-0-1-0-0-2-0-3-69', '2-0-2-0-0-3-0-4-73', '2-0-1-2-0-0-0-4-48', '2-0-1-1-2-2-0-4-24', '2-0-0-1-2-3-0-4', '2-0-2-2-1-0-1-3', '2-0-2-1-3-0-0-4-55', '1-0-2-0-2-0-0-4', '2-0-1-0-1-0-0-3-53', '2-1-2-1-2-1-0-3-96', '2-0-1-1-1-0-0-4-16', '2-0-1-1-1-2-0-4-4', '2-0-2-1-1-0-0-3-19', '2-1-1-1-2-2-0-4-8', '2-0-2-0-2-3-0-3-53', '1-1-1-1-1-0-0-4-51', '2-0-1-1-2--1-0-3-87', '1-1-2-0-3', '1-0-0-2-3-0', '2-0-1-1-1-1-0-4-44', '2-0-2-1-3-0-0-4-31', '2-0-2-1-0-1-0-4-64', '1-0-1-1-3-3-0-4-50', '2-0-1-1-0-2-1-4-2', '1-0-1-1-3-2-0-4-31', '2-0-2-1-0-3-0-3-57', '2-0-2-1-0-1-0-4-24', '2-0-1-0-1-1-0-4-63', '2-0-0-1-1-3-0-2-86', '2-0-0-1-0-0-0-3-3', '2-1-1-1-2-3-0-4-4', '1-1-0-1-0-1-0-3', '2-0-1-1-0-0-0-3-71', '2-0-1-1-1-1-0-4-19', '1-1-1-1-2-3-0-3', '2-1-1-1-0-0-1-4', '1-0-0-1-2-1-0-3-59', '2-0-0-2-0--1', '2-0-2-2-2-2-0-4-1', '2-1-1-1-0-1-0-3-20', '2-0-2-0-1-0-1', '2-1-0-0-2-0-0-4-83', '2-0-2-1-1-3-0-4-92', '2-0-1-0-1-1', '2-0-2-1-1-0-0-3-39', '2-0-1-0-1-0-0-3-100', '2-1-1-1-0-0-0-3-78', '2-0-2-1-2-0-0-4-64', '2-1-2-0-2-1-0-4-90', '2-0-1-1-0-1-0-3-12', '1-1-1-1-3-1-0-4-14', '2-0-2-1-1-3-0-3-18', '1-0-1-1-1-3-0-3-98', '2-0-1-1-0-1-0-3-62', '2-0-1-0-0-0-0-3-71', '1-0-2-0-3-3-0-3-37', '2-0-2-1-1-2-1-3', '2-0-0-1-1-0-0-3-88', '2-1-2-1-2-0-0-4-17', '2-0-2-0-0-0-0-4-37', '2-0-1-0-0-1-0-4-9', '2-0-1-1-1-0-0-4-80', '1-1-2-1-2-1-0-4', '2-0-2-1-0-1-0-3-97', '2-1-1-1-2-1-0-3-100', '2-0-0-1-1-0-0-3-56', '2-0-1-0-2-3-0-3-58', '2-1-2-1-3-0-0-4-45', '2-0-1-1-2-0-0-4-95', '2-0-1-1-0-0-0-4-58', '2-0-1-1-2-1-1-4', '2-0-1-1-3-0-0-4-29', '2-1-2-1-0-2-1-4', '2-0-1-2-0-1-0-4-62', '1-1-1-1-2-3-0-3-56', '2-1-1-0-0-0-0-4-55', '2-0-2-0-1-2-0-4-1', '2-1-2-1-0-0-0-3-74', '2-0-1-1-1-1-1-3', '2-0-2-2-2-2-0-4-98', '2-0-2-0-3-3-0-4-100', '2-1-2-1-0-0-1-4-8', '2-1-2-1-0-1-0-3-15', '1-0-2-1-0-0-0-3-97', '2-0-1-1-2-3-0-4-51', '2-0-1-2-1-2-0-4', '2-0-2-1-1-3-0-4-93', '2-1-1-1-1-0-0-3-83', '2-0-1-0-1-2-0-3-18', '1-1-1-0-3', '2-0-1-0-2-3-0-4-92', '2-1-1-1-3-1-0-3', '2-1-2-1-3-1', '2-0-2-1-0-0-1-4-1', '1-0-2-1-3-2-0-4-95', '2-0-2-1-0-1-0-3-35', '2-1-1-1-0-0-0-3-30', '2-0-1-1-1-0-0-3-1', '2-1-1-0-2-0-0', '2-1-2-1-2-2-0-3-96', '2-0-2-1-1-2-0-4-51', '2-0-1-1-1-1-0-4-4', '2-0-1-2-1-2-0-3-15', '2-0-2-0-2-1-0-4-98', '2-1-1-1-2-0-0-3-5', '2-0-2-1-1-3-0-4-74', '2-1-2-1-2-0-0-4-38', '2-0-1-1-1-2-0-3-70', '2-0-2-1-2-3-0-3-42', '2-1-1-0-2-3-0-3-21', '2-0-2-1-2-1-0-4-84', '2-0-1-0-1-0-0-4-37', '2-0-1-1-1-1-0-3-15', '2-0-2-1-0-3-0-4-36', '2-1-1-0-2-1-0-1-27', '2-1-2-0-3-0-0-3-23', '2-0-1-1-1-0-0-3-8', '1-0-1-1-1-3-0', '2-0-1-0-1-3-0-4-51', '2-1-2-1-1-0-0-3-22', '2-1-2-1-0-0-0-4-19', '2-1-1-0-1-2-0-4-69', '2-0-1-1-2-2-0-3-42', '2-0-1-2-0-1-0-4-2', '2-0-2-1-2-3-0-4-5', '2-0-0-1-2-3-0-3-12', '2-0-2-1-0-0-0-4-34', '2-1-1-0-1-1-0-4-40', '2-0-1-2-0-0-0-4-92', '2-1-2-1-1-1-0-3-64', '1-1-1-0-2-1', '2-0-1-2-0-0-0-3-79', '2-0-1-0-3-1-0-3-87', '1-0-2-1-3-3-0-4-24', '2-0-1-0-2-3-0-3-53', '1-0-2-0-3-3-0-3-57', '2-0-2-1-2-3-0-3-60', '2-0-1-0-2-2-0-4-35', '2-0-1-0-2-3-0-3-54', '1-0-1-1-1-2-0-4-54', '2-0-1-1-2-2-0-4-51', '2-1-1-1-2-1-0', '1-0-2-1-3-0-0-3-11', '1-0-1-1-2-0-1-4', '2-1-2-1-1-0-0', '2-0-2-1-0-2-0-4-8', '2-0-2-1-0-1-0-4-94', '2-1-2-0-2-0-0-3-4', '2-0-2-2-2-1-0-4-8', '2-0-2-2-1-1-0-4-3', '2-0-1-1-0-1-0-4-55', '1-0-2-0-2-0-0', '2-1-1-0-2-3-0-4-14', '2-1-1-1-2-2-0-4-3', '2-1-1-1-0-0-0-4-100', '1-0-1-2-3-0-0-4-53', '2-0-1-0-3-2-0-4-14', '2-0-2-1-2-1-0-3-98', '2-1-1-1-1-3-0-4-5', '1-0-1-1-3-3-0-4-9', '1-0-1-1-0-0-0-3-95', '2-0-2-1-2-3-0-4-61', '2-1-1-1-1-1-0-4-83', '1-0-1-0-3-1-0-3-20', '1-0-2-0-3-3-0-4-43', '2-0-1-2-0-1-0-4-79', '1-0-2-1-2-3-0-4-52', '2-1-1-2-0-0-1-3-8', '1-0-1-1-0-3', '2-0-1-1-0-2-0-4-98', '2-0-1-0-0-2-0-3', '2-0-2-0-0-1-0-3-80', '2-1-1-0-0-2-0-4', '2-0-1-1-1-3-0-4-48', '2-0-1-1-2-3-1-4-1', '2-0-1-0-2-3-0-3-67', '2-0-2-0-3-0-0-4-100', '1-0-1-1-1-3-0-2-31', '2-0-2-1-2-0-0-4-4', '2-0-1-1-0', '2-0-2-1-1-2-0-3-8', '2-0-1-2-2-2-0-4-16', '2-0-2-2-2-0-0-4-84', '2-0-2-0-1-3-0-3-21', '2-0-2-1-1-2-0-3-48', '2-1-1-1-1-0-1-4-7', '1-0-1-1-2-1-0-4-100', '2-1-1-1-0-3-0-4-27', '2-0-2-1-0-3-0-4-93', '1-0-2-1-2-3-0-4', '1-0-0-0-1-0-0', '2-0-1-1-2-0-0-3-20', '1-0-2-1-2-0-0-3-62', '2-0-1-1-1-2-0-3-7', '2-1-1-1-0-2-0-4-19', '2-1-1-0-1-1-0-3-20', '2-0-1-2-2-1-0-4-80', '1-0-2-2-2-2-1-4-2', '1-0-2-0-3-3-0-4-37', '2-0-1-0-3-1-0-4-99', '2-0-0-1-0-3-0-3-6', '1-0-1-2-3-3-0-4-4', '2-0-2-0-0-0-0-4-76', '2-0-1-0-1-0-0-3-22', '1-0-1-1-2-3-0-3-62', '1-0-1-1-1-1-0-4-42', '2-0-1-1-0-3-0-4-5', '2-0-2-0-0-1-0-3-24', '1-0-2-1-3-3-0-3-15', '2-0-2-1-3-1-0-4-54', '2-0-2-2-0-0-0-3-36', '2-0-1-2-2-1-0-3-34', '1-0-0-1-3-1-0', '2-0-1-2-1-2-0-3-8', '2-0-2-1-0-0-0-4-47', '2-1-0-1-0-3', '2-0-2-0-1-1-0-4-17', '2-0-1-2-1-0-1-4', '1-0-2-1-0-3-0-3-55', '1-1-1-0-3-0-1-4', '2-0-1-0-2-2-1-4-2', '2-0-1-2-1-1-0-3-30', '2-0-2-0-3-2', '2-0-1-1-0-1-1-4-7', '1-0-1-2-3-3-0-4-56', '2-1-1-1-1-0-0-4-36', '1-1-1-1-2-2-0-4-45', '1-1-2-1-1-3-0', '2-0-1-1-1-3-0-4-47', '1-0-2-1-3-1-0-3', '2-0-1-1-1-2-0-4-47', '2-1-2-1-1-3-0-3-7', '2-0-1-1-1-3-0-4-34', '2-1-0-2-1-2-0-3-32', '2-1-1-1-1-2-0-4-48', '1-0-0-1-3-0-0-3-14', '2-1-1-1-1-2-0-4-52', '2-0-1-2-3-2-0', '1-1-1-0-2-1-0-4-22', '2-1-2-2-3-2', '2-0-2-1-0-3-0-4-32', '2-0-2-2-0-0-0-3-94', '2-0-1-1-0-1-0-4-24', '2-0-1-0-2-2-0-4-51', '1-0-2-1-3-3-0-4-22', '1-0-1-1-3-1-0-4-39', '1-1-2-1-2-0-0', '1-0-2-0-2-2', '2-1-1-2-0-0-0-4-33', '2-0-1-0-1-2-0-4-82', '2-0-2-0-2-2-0-3-33', '1-0-1-1-2-3-0-4-55', '2-1-0-1-2-1-0-3-30', '2-1-2-2-1-2-0-3-6', '1-0-2-1-2-3-0', '2-1-2-0-0-0-0-4-18', '2-0-2-1-2-1-0-4-16', '2-1-1-0-1-0', '2-0-1-1-2-3-0-4-75', '2-1-1-0-1-3-0-4-3', '2-1-2-1-1-0-0-3-27', '2-0-2-1-2-3-1-4-7', '2-1-1-0-1-0-0-4-35', '2-0-2-1-2-3-0-4-19', '2-0-1-1-0-1-0-3-66', '2-0-1-0-0-1-0-3-67', '2-1-2-0-2-2-0-3', '2-1-2-1-3-0-0-4-10', '2-1-1-1-2-0-0-3-34', '2-0-1-1-1-1-0-3-11', '2-0-1-1-1-0-0-4-2', '2-0-0-1-1-0-0-3-100', '2-1-1-1-0-2-1-3-3', '2-1-2-2-2-2-0-4', '2-0-2-0-0-1-0-4-55', '2-1-1-0-2-3-0-3-69', '2-0-1-0-2-2-0-3-95', '2-0-1-2-2-2-0-4-98', '2-0-1-1-1-2-1-4', '2-1-1-1-2-0-0-3-35', '2-0-2-1-1-0-1-4-1', '2-0-2-0-2-0-0-4-53', '2-1-1-1-1-3-0-4-34', '2-1-2-1-3-2-0-4-1', '2-0-1-0-1-2-0-4-44', '2-0-2-1-1-0-0-3-34', '2-0-2-1-0-1-0-4-61', '1-1-2-0-0-2-0', '2-0-1-1-3-3-0-4-36', '2-1-2-1-0-0-1-4-1', '2-0-1-1-2-3-0-3-91', '2-0-1-1-1-3-0-4-9', '2-1-1-0-0-1-0-4-99', '1-0-1-1-3-2-0-4-11', '2-1-2-1-1-2-0-4-54', '2-0-2-1-0-0-0-3-83', '2-0-1-0-2-0-0-4-63', '1-0-1-1-3-1-0-4-29', '2-1-2-1-0-1-0-4-1', '2-1-0-2-1-2', '2-0-2-1-1-0-0-4-83', '2-1-1-2-1-0-0-3-38', '2-0-1-1-2-1-0-3-29', '2-0-1-1-2-0-0-4-17', '2-0-2-1-0-2-0-4-33', '2-0-1-1-1-3-0-4-20', '2-1-1-1-0-3-0-4-45', '2-0-1-0-2-1-0-3-8', '1-1-2-1-1-1-0-3', '2-0-2-1-3-3-0-4-23', '2-0-1-2-0-0-0-4-41', '2-0-1-0-1-3-0-4-22', '2-0-2-1-0-1-0-4-53', '2-1-0-1-2-0', '1-0-2-1-1-0-0-4-52', '1-0-2-1-2-2-0-4-88', '2-1-1-2-3-0-0-3-80', '2-0-1-1-2-2-0-3-37', '1-0-2-1-3-3-0-3-97', '2-0-2-2-1-1-0-3-74', '2-0-1-1-0-2-0-3-47', '2-0-2-1-2-2-0-4-21', '2-0-2-1-0-1-0-3-56', '2-1-1-1-0-2-0-4-85', '1-0-0-0-3-3-0-3', '1-0-1-2-1-1-0-4-100', '2-0-2-0-1-2-0-3-1', '2-1-2-1-2-1-0-4-66', '2-0-1-1-0-0-0-3-38', '2-0-2-0-0-3-1-4', '2-0-1-1-1-1-0-3-55', '2-0-1-1-1-2-0-3-65', '2-0-2-2-1-2-0-4-97', '2-1-2-1-0-0-0-3-75', '2-0-2-1-0-0-0-3-75', '1-1-1-1-3-0-0-4-16', '1-0-2-1-0-1-0-4-100', '2-0-1-0-2-0-0-4-49', '2-0-1-2-0-0-0-4-4', '2-1-2-0-2-1-0-4-4', '2-0-2-1-0-3-0-4-60', '2-1-1-0-2-2-1-4-5', '1-0-2-1-3-1-0-4-35', '1-0-2-2-3-0-0-4-12', '2-0-1-1-1-1-1-2-3', '2-1-1-1-0-0-0-4-75', '2-0-1-1-0-2-0-4-47', '2-1-2-1-3-3-0-4-8', '2-0-1-0-2-1-0-4-84', '2-0-0-1-2-2-0', '2-0-1-0-1-0-0-4-86', '1-0-2-1-3-0-0-4-71', '1-0-1-1-2-3-0-4-57', '2-0-1-0-2-3-0-4-80', '2-0-1-1-2-3-0-4-83', '2-0-2-1-3-0-0-4-21', '1-0-1-1-3-1-0-4-66', '2-0-1-0-2-0-1', '2-0-1-2-2-3-0-4-97', '2-0-1-1-3-3', '2-1-1-0-2-1-0-3-9', '2-0-2-0-2-1-0-4-44', '1-0-1-1-3-0-0-3-23', '2-0-2-1-2-2-0-3-19', '1-0-2-1-3-0-0-4-49', '2-1-2-1-3-0-0-4-29', '2-0-0-1-2-3-0-3-92', '2-1-1-1-2-0-0-4-36', '2-0-1-1-0--1-0-3', '2-1-1-1-2-1-0-4-91', '2-0-1-1-0--1-0-3-100', '1-0-2-1-3-1-0-4-21', '2-0-1-1-0-1-0-3-42', '2-0-1-1-3-2-0-4-100', '1-1-1-1-3-1-0', '2-0-2-1-0-2-0-4-29', '2-1-2-1-1-2-0-4-21', '1-0-0-1-3-2-0-4-34', '2-1-1-2-2-3-0', '1-0-2-1-3-0-0-3-90', '1-0-2-0-0-3-0-4-23', '1-0-1-1-0-1-1-4-1', '2-0-2-2-1-2-0-3-49', '2-0-1-2-2-0-0-3-2', '2-0-2-1-0-3-0-4-19', '2-1-2-2-2-0-0-4-42', '2-0-0-1-0-1-0-2', '2-0-1-1-1-0-0-4-1', '2-0-1-1-0-2-0-3-85', '1-0-2-0-3-3-0-3-56', '2-0-1-1-1-0-0-4-75', '2-1-1-0-2-3-0-4-76', '2-1-1-1-2-0-0-4-21', '2-0-1-1-3-0-0-3-3', '1-0-1-2-2-2', '2-0-1-0-2-0-0-4-53', '1-0-1-1-2-2-0-4-70', '1-1-1-0-2-3-0', '2-1-2-1-1-0-0-4-60', '1-0-1-1-2-2-0-4-5', '2-0-2-1-0-3-0-4-2', '2-1-1-1-0-3-1-3-1', '2-0-2-0-0-3-0-4-51', '2-1-2-1-0-3-0-4-89', '2-0-2-0-1-0-0-4-59', '1-1-0-0-3', '2-1-1-2-0-0-0-4-88', '1-0-1-2-3-2-0-4-84', '2-1-2-1-1-0-0-4-28', '2-0-2-0-2-2-0-4-55', '2-0-2-0-2-1-0-4-75', '2-0-2-1-0-0-0-3-69', '2-0-1-2-1-1-0-4-18', '2-0-1-1-1-0-0-4-20', '2-1-1-1-3-1-1-4-5', '1-0-1-1-0-1-0', '2-1-1-1-2-0-0-4-48', '2-0-1-0-2-1', '2-0-2-2-0-0-0-3-11', '2-0-1-0-2--1-0-3', '2-0-1-1-0-1-1-4-4', '2-0-2-0-0-0-0-4-86', '2-1-2-2-2-1-0-4-15', '2-1-1-1-0-0-0-4-12', '2-0-1-1-1-1-0-3-41', '1-1-1-1-3-2-0-4-4', '1-1-1-1-3-1-0-4-48', '2-1-2-1-2-3-0-4-48', '2-1-2-1-0--1-0-3', '2-1-1-2-2-3-0-4-95', '2-1-2-0-3-0', '1-1-1-1-2-3-0-3-54', '1-0-0-0-1-0-0-3', '2-0-1-1-2-2-0-4', '2-0-2-1-0-2-0-4-10', '2-0-2-1-0-0-0-4-30', '2-1-2-1-2-3-0-4-45', '2-0-2-0-3', '2-1-2-0-2-2-0-4-56', '1-0-2-1-1-0-0-4', '1-0-0-2-3-0-0-4-5', '2-0-2-1-2-2-0-3-73', '2-0-1-1-2-2-0-4-3', '2-1-2-1-0-3-0-4-37', '2-0-2-0-1-0-0-4-54', '1-1-1-2-3-1-0-4-100', '2-1-1-1-0-3-0-3-28', '2-0-2-2-0-0-0-4-96', '2-1-1-1-1-0-0-4-46', '2-0-1-1-1-3-0-3-18', '2-0-1-0-2-2-0-3-98', '2-1-1-1-3-0-0-3-40', '2-1-1-1-1-2-0-4-22', '2-1-2-1-1-2-0-4-66', '2-0-2-2-0-3-0', '1-1-1-1-3-2-0-4-47', '2-0-1-0-0-0-0-3-4', '2-0-1-1-1-2-0-4-97', '2-0-2-0-0-2-0-3-26', '2-0-1-1-1-0-0-3-18', '2-1-0-1-0-0-0-3-72', '2-1-2-1-2-1-0-3-22', '2-1-1-0-2-1-0-3-28', '1-0-1-1-3-0-0-3-16', '2-0-2-2-2-0-0-4-100', '2-0-1-2-2-3-0-4-4', '1-0-1-1-3-1-0-4-18', '2-0-2-1-1-1-0-4-74', '1-0-0-0-1-1-0', '2-0-1-1-0-3-0-4-73', '2-1-1-1-2-2-0-4-4', '2-0-2-2-0-3-1-3-2', '2-0-2-2-2-1-0-4', '2-0', '2-1-1-1-2-0-0-2', '2-1-1-1-2-3-0-4-59', '2-0-1-1-2-0-0-3-82', '2-0-1-1-1-2-0-3-43', '1-0-2', '2-0-1-1-2-3-0-3-32', '1-0-2-1-3-1-0-4-99', '1-0-1-1-2-3-1-3-5', '2-0-1-2-1-0-0-4-74', '2-0-1-1-3-3-0-4-39', '2-1-1-1-2-2-0-3-9', '2-1-1-1-1-0-0-4-35', '2-0-2-2-0-3-0-3-50', '2-0-1-0-2-3-0-4-69', '2-0-1-1-0-1-0-4', '2-0-2-2-0-0-0-4-75', '2-0-2-2-1-0-0-4-38', '1-0-2-0-2-0-0-3', '2-1-1-1-1-0-0-4-88', '2-0-1-0-2-2-0-4-71', '2-0-2-1-3-1-0-4-4', '2-0-1-1-2-0-0-4-97', '2-0-2-1-1-2-0-4-92', '2-1-2-1-2-1-0-4-64', '1-0-1-1-1-1-0-4-51', '2-1-2-1-1-0-0-3-40', '2-0-1-1-0--1-0-3-39', '2-1-0-1-0--1-0-3', '2-1-2-1-3-2-0-4-9', '2-0-2-0-1-2-0-4-56', '2-1-2-1-0-3-0-3-86', '2-0-1-1-0-1-1-3-3', '2-0-1-0-2-3-0-4-97', '2-0-2-0-1-0-0-4-48', '2-1-2-0-0-3-0-3', '1-1-2-1-2-3-0-3', '2-0-1-1-1-2-0-3-45', '2-0-2-0-0-0-0-4-46', '1-0-1-0-3-0-0-4-37', '1-0-1-1-3-3-0-3-28', '2-1-1-0-1-3', '2-1-2-2-1-0-0-4-20', '2-1-1-0-1-1-0-3', '1-0-0-1-3-0-0-3-43', '2-0-2-0-2-0-0-4-76', '2-0-1-1-1-3-0-3-38', '2-0-2-1-0-3-0-4-76', '2-1-1-0-2-2-0-3-83', '2-1-0-1-2--1', '2-0-1-0-3-2-0-4-48', '2-0-1-0-2-0-0-4-97', '2-1-1-1-0-2-0-4-22', '2-1-2-2-0-0-0-4-86', '2-1-2-0-2-2-0-3-28', '2-1-2-2-3-0-1-4-3', '2-0-1-1-0-0-1-4-1', '2-0-2-1-3-2-0-4-42', '1-1-0-0-0-0-0-3-33', '2-1-2-1-0-2-1-4-9', '2-0-2-0-1-1-0-4-93', '2-0-2-0-2-1-0-4-22', '2-1-2-0-2-2-0-4-5', '2-0-0-1-2-0-1', '2-1-1-2-0-0-1-3', '1-1-0-1', '2-0-2-1-2-1-0-4-10', '2-1-1-1-2-0-0-4-13', '2-0-2-1-1-2-0-3-40', '2-0-1-1-0-0-0-3-51', '2-1-1-0-2-0-0-4-56', '1-0-1-1-3-2-0-4-3', '2-1-2-1-2-3-0-3-20', '2-1-2-0-0-0-0-3-96', '2-0-2-0-0-0-0-3-88', '1-0-2-1-0-2-0-4-57', '2-0-1-0-1-1-0-4-100', '2-0-2-1-2-0-0-4-60', '2-1-1-1-0-1-0-4-88', '2-0-2-2-1-0-0-4-6', '2-0-2-2-2-3-0-3-10', '2-1-1-0-1-1-0-3-22', '2-0-1-2-1-1-0-4-36', '1-1-2-0-0-2-0-3', '2-0-1-1-1-1-0-3-44', '2-0-1-1-2-1-0-3-73', '2-1-1-1-2-1-0-3-9', '2-1-2-1-1-2-0-4-30', '2-1-1-0-2-0-0-4-37', '2-1-1-0-3-0-0-3', '2-0-2-1-1-2-0-4-73', '2-1-2-2-1-0-0-4-39', '2-0-1-1-1-1-0-4-21', '2-1-2-0-1-2-0-3-22', '2-0-2-1-0-2-0-4-18', '1-0-1-1-3-2-0-4-12', '2-1-1-1-0-0-0-4-26', '2-1-2-1-2-0-0-3-32', '2-0-2-0-1-0-0-4-99', '2-0-2-1-3-2-0-4-27', '1-1-2-1-2-0-0-4-5', '2-1-1-0-2-3', '2-1-1-2-2-2-0-3-67', '1-1-2-1-0-3-0-4', '2-0-2-1-0-0-0-3-96', '2-1-1-1-1-3-0-3-40', '2-0-1-0-0-1-0-3-100', '2-1-1-0-1-3-0-4-85', '2-0-2-0-0-0-0-3-38', '2-0-1-0-2-3-0-4-52', '2-1-1-1-2-2-0-3-35', '2-0-1-0-1-0-0-4-20', '2-0-1-1-1-2-0-4-7', '2-0-1-1-1-0-1-4-2', '1-0-1-1-3-3-0-4-94', '2-1-2-1-0-2-0-4-43', '2-0-1-0-0-2-0-3-8', '1-1-1-1-2-2-0-3-97', '1-0-1-2-3-3-0-4-38', '2-1-1-1-1-0-0-3-25', '2-0-0-2-0-0-0-3', '2-1-1-2-3-0-0-3-81', '1-0-2-1-2-1-0-3-74', '2-0-1-1-2-0-1-3', '2-0-2-1-0-2-0-3-80', '2-1-1-1-1-1-0-3-99', '2-0-2-2-2-3-0-3', '2-0-2-0-1-0-0-3-66', '2-1-1-0-2-2-0-4-12', '2-0-2-0-1-2-0-4-58', '2-1-2-1-1-1-0-4-42', '1-1-0-1-3-3', '2-1-2-0-1-1-0-4-3', '1-0-1-0-2-3-0-3-38', '2-1-2-1-2-2-0-4-39', '2-0-1-1-0-0-0-4-53', '2-0-2-2-1-1-0-4-20', '1-1-2-1-3-0-0-3-26', '1-0-1-0-3-0-0-3-41', '2-1-2-1-1-0-0-3-61', '2-1-2-2-2-0-0-4-46', '2-0-0-1-2-2-0-3-43', '2-1-2-1-2-3-0-4-8', '2-0-1-0-0-0-0-4-33', '1-1-1-1-2-3-0-4-23', '1-0-2-1-1-0-0-4-99', '2-0-1-1-1-0-0-4-96', '2-0-0-2-0-', '2-0-2-1-2-2-0-4-41', '2-0-2-1-1-1-0-3-100', '2-0-2-0-1-2-0-4-16', '2-0-2-1-0-0-0-3-33', '2-1-1-0-2-0-0-4-83', '2-0-1-2-1-3-0-4-45', '2-1-2-1-1-0-0-3-6', '2-0-2-1-0-1-0-4-8', '2-0-0-2-1-1-0-3-16', '2-0-1-1-0-1-0-3-41', '2-0-1-1-2-1-1-3-5', '2-0-1-1-0-3-0-3-60', '2-0-1-0-0-2-0-3-45', '2-0-1-1-2-0-0-4-15', '2-0-1-0-3-3-1-3', '2-1-2-1-2-0-0-3-92', '2-0-1-1-2-1-0-4-64', '1-0-2-1-3-0-0-3-32', '2-0-2-0-0-1-0-3-67', '2-1-1-1-2-2-1-3', '2-1-1-0-0-0-0-4-7', '2-0-1-1-0-3-0-4-48', '2-1-1-2-3-3-0-3-28', '1-0-2-1-0-3-1-4', '2-0-0-2-2-1-0-3', '2-0-0-1-1-3', '2-1-2-1-2-0-0-4-49', '2-0-1-0-2-2-0-3-60', '2-1-2-1-0-2-0-4-17', '2-0-1-1-3-2-0-4-39', '2-0-1-1-0-1-0-4-22', '2-0-2-0-1-2-0-4-34', '2-1-2-1-0-0-1-3-3', '2-0-1-0-2-1-0-4-29', '2-0-1-1-1-0-0-4-46', '2-0-2-1-2-1-0-3-67', '1-1-1-0-2-2-0-3-61', '2-0-1-0-1-1-0-3-99', '1-1-1-0-3-1-0', '2-0-2-1-2-0-0-3-36', '2-1-2-2-2-2-0-4-24', '2-0-1-0-0-2-0-4-29', '1-0-1-0-3-3-0-4-36', '2-0-1-0-2-2-0-4-8', '2-0-2-0-0-0-0-4-79', '2-0-1-0-1-0-0-3-86', '2-0-1-1-3-0-0-3-13', '2-1-0-0-0-2-0-3-79', '2-0-1-0-2-3-0-4-12', '2-1-0-0-3-2-0-3-2', '2-1-2-0-1-2-0-3', '2-1-1-1-1-3-0-4-64', '2-0-2-0-0-0-1-4-3', '2-0-1-0-1-2-0-4-29', '2-0-1-2-1-0-0-4-49', '2-0-2-2-2-3-0-3-1', '2-0-1-1-1-2-0-3-17', '2-0-1-1-2-1-0-3-93', '2-1-2-2-0-1-0-4-40', '1-0-0-0-1-1', '2-1-2-0-2-3-0-3', '2-1-1-1-3-2-0-3-9', '2-0-1-1-1-0-0-4-93', '2-0-0-0-0-0-0-4-75', '1-0-1-1-3-2-0-4-28', '2-0-2-1-0-0-0-3-76', '1-0-2-0-1-3', '2-1-1-1-2-1-0-4-65', '2-0-1-1-0--1-0-3-41', '2-1-1-1-2--1-0-3-10', '2-0-2-1-1-1-0-4-29', '1-0-2-2-3-0-0-4-64', '2-0-2-1-0-1-0-4-39', '2-0-2-1-0-0-0-4-79', '2-1-1-0-1-3-0-4-37', '2-1-1-1-0-1-0-4-14', '2-0-2-0-0-0-0-4-47', '2-0-2-0-1-0-1-4-10', '2-0-0-0-2-2-0', '2-0-1-1-0-0-0-3-12', '2-0-2-0-2-1-0-4-41', '1-0-1-1-2-1-0-4-72', '2-0-2-1-1-3-0-3-19', '2-1-2-1-0-3-0-4', '2-0-1-2-1-0-0-4-84', '2-0-2-0-0-0-0-4-64', '2-1-1-1-0-0-0-3-56', '2-0-2-1-2-3-0-4-91', '1-0-2-0-3-1', '1-0-2-0-2-3-0-4-73', '2-1-2-0-0-0-0-3-21', '1-1-1-0-0-1', '1-1-1-0-0-0-0-4-35', '1-0-1-1-2-2-0-4-66', '2-1-1-0-0-0-0-4-63', '2-0-2-2-3-1-0-4-41', '2-0-1-1-3-0-0-3-16', '2-1-1-1-0-3-0-4', '1-0-1-1-3-0-0-3-66', '1-0-1-1-3-0-0-4-37', '2-0-2-1-1-1-0-3-22', '2-0-1-1-1-0-0-4-32', '2-0-1-0-3-2-0-4-55', '2-0-1-1-3-3-0-3-21', '2-0-2-1-1-3-1-4-3', '2-0-2-1-0-1-0-3-67', '2-1-1-0-2-1-0-4-8', '1-1-2-1-3-1-1', '2-0-2-1-2-3-0-4-99', '2-0-1-0-2-0-0-4-55', '2-0-2-1-0-2-0-3-48', '2-1-1-2-1-1-0-4-19', '1-0-1-0-3-3-0-3', '2-0-2-2-0-0-0-4-36', '2-1-2-1-1-0-0-4-18', '2-0-1-2-1-0-0-4-1', '2-1-1-2-2-2-0-3-43', '2-1-1-1-3-1-0-3-29', '1-1-2-1-1-1-0-3-50', '2-1-2-2-0-0-0-3-53', '1-0-1-1-1-1-0-3-98', '1-0-1-1-2-0-0-4-3', '2-0-2-0-2-0-0-4-83', '2-0-2-0-2-2-0-3-43', '2-1-1-1-3-1-1-3', '2-1-2-1-2-1-0-4-4', '2-1-1-1-0-0-0-3-26', '2-0-2-0-1--1-0-3-25', '1-1-1-1-3-3-0-4-82', '1-0-2-1-2-1-0-4-57', '2-1-2-1-3-1-0', '2-0-2-2-0-0-0-4-79', '2-0-1-1-0-2-0-4-59', '2-1-1-1-1-3-0-4-99', '2-0-1-2-2-1-0-3-29', '2-1-1-1-2-0-0-4-10', '2-1-2-1-1-2-0-4-60', '2-0-2-1-1-1-0-3-24', '1-1-2-1-3-1-0-4-18', '2-0-1-1-0-1-0-3-6', '2-0-0-0-2-1-0-2', '2-0-2-1-0-3-0-4-100', '1-0-0-1-3-0-0-3', '2-0-1-0-0-2-0-4-7', '1-0-2-1-2-2-0-3-57', '1-0-2-1-3-3-0-3', '2-0-2-1-2-2-0-4-55', '1-0-2-0-2-0', '2-0-1-0-1-1-0-3-27', '2-0-2-1-0-0-0-3-24', '1-0-0-1-0-3-0-3', '1-1-1-1-1-3-0-4-98', '2-0-2-0-1-0-0-3-2', '2-1-2-1-0-1-1-3-8', '2-0-1-1-1--1-0-3-20', '1-0-1-2-3-3-0-4-54', '2-1-2-0-0-1-0-4-83', '2-0-1-0-2-2-0-4-9', '2-1-1-2-2-0-0-3-38', '2-1-2-0-1-0-0-4-5', '2-0-1-1-3-0-0-4-1', '2-0-2-0-1-1-0-4-97', '2-1-1-1-0-1-0-4-42', '2-0-2-1-1-3-0-4-1', '1-0-0-0-2-0-0-3-34', '2-0-2-1-0-2-0-3-96', '2-1-2-1-3-3-0-4', '2-0-2-2-2-3-0-4-98', '1-0-1-1-0-0-0-4-53', '1-1-1-1-3-1-0-3-5', '2-1-1-1-3-2-0-3-41', '2-0-2-2-2-0-0-4-1', '2-0-1-1-1-2-0-3-63', '2-0-2-0-0-0-0-4-30', '1-0-1-1-3-0-0-4-8', '1-1-1-1-1-0-0', '2-1-2-1-0-1-1-4-9', '2-1-2-0-0-0-0-4-76', '2-1-1-0-0-0-0-4-44', '2-0-2-2-0-0-0-4-25', '1-0-2-1-3-2-0-4-15', '2-1-2-0-0-0', '2-1-1-1-2-0-0-4-93', '1-0-2-0-0-3-0-3', '2-0-1-1-0-0-0-2', '2-1-1-1-1-2-0-4-51', '2-1-2-1-0-0-0-4-27', '2-0-1-1-3-0-0-4-53', '2-0-1-1-1-3-0-3-24', '2-0-1-1-2-0-0-3-55', '2-0-1-1-2-2-0-3-47', '2-1-2-1-2-1-0-4-63', '2-0-0-2-0-1-0-3', '1-0-1-1-0-0', '2-0-1-2-0-1-0-4-100', '2-0-2-1-0-1-0-4-9', '2-0-2-0-2-0-0-4-48', '2-0-1-1-2-1-0-3-19', '1-0-2-2-3-3-0-3-64', '2-0-1-1-3-0-0-3-28', '2-0-2-2-0-1-1-4-3', '2-0-1-2-1-1-0-4-78', '2-0-1-1-1-1-1-4-3', '1-0-1-0-1-1', '2-0-2-1-3-3-0-4-73', '1-1-1-1-2-2-0-4-58', '1-1-1-2-3-0', '2-1-2-1-0-1-1-4-5', '2-0-1-0-1-2-0-4-70', '2-1-1-1-2-3-0-3-9', '2-0-1-1-0-0-0-2-80', '2-0-2-0-2-3-0-4-51', '2-0-2-0-0-0-0-3-85', '2-1-2-1-2-1-0-3-68', '1-0-1-0-1-2-0', '1-0-2-0-3-0-0-4-41', '2-0-2-0-1-2-0-3-30', '1-0-2-1-2-3-0-4-41', '2-1-1-0-1-2-0-4', '2-1-0-0-3-2-0', '2-0-1-2-1-1-1-4-5', '2-0-2-1-2-3-1-3-6', '2-0-2-1-1-0-1-4-5', '2-0-1-2-2-1-0-4-35', '2-0-2-0-1-3-0-4-16', '2-0-1-1-3-2-1-3-2', '2-0-2-1-1-3-0-4-80', '2-1-2-1-2-2-0-3-27', '2-0-2-1-1-2-0-4-70', '2-0-1-0-3-3-0-3-18', '2-0-1-1-3-1-0-4-5', '1-0-2-2-3-0-0-4-75', '2-0-2-2-1-0-0-4-82', '2-0-1-0-1-3-0-3-21', '2-1-2-1-2-2-0-4-95', '2-0-2-1-3-3-0-4-99', '1-1-2-2-3-0-0-3', '2-1-1-2-0-0-0-3-60', '2-1-2-1-0-2-0-4-56', '2-1-0-1-0-3-0-3-77', '2-1-1-0-0-2-0-3', '2-0-1-0-2-2-0-4-98', '2-0-1-0-2-2-0-3-73', '2-0-1-0-3--1-1-3', '2-0-2-1-1-1-0-4-98', '2-0-1-2-1-3-0-3-38', '1-0-2-1-3-3-0', '2-1-2-1-3-0-0-4-90', '2-0-1-1-1-3-0-4-41', '2-0-0-1-1-1-0-3-61', '2-1-2-1-2-1-0-4-65', '1-0-2-0-3-0-0-3-57', '2-0-1-0-0-1-0-3-75', '2-1-1-1-2-0-0-4-23', '2-0-1-1-1-0-0-4-100', '2-1-1-0-0-0-0-4-90', '2-0-1-1-1-3-0-3-31', '2-1-2-1-1-0-0-4-32', '2-1-2-2-3-2-0', '2-1-1-1-2-2-0-4-57', '2-0-1-1-2-0-0-3-99', '2-1-1-1-2-3-0-3-38', '1-0-0-2-3-1-0-4-52', '2-0-2-1-1-2-0-3-26', '2-1-1-1-3-3-1-4', '1-0-2-2-0-1-1', '1-0-0-1-0-0-0-3', '2-1-1-1-1-0-0-4-73', '1-0-2-1-2-2-0-4-52', '2-0-2-0-1-3-0-4-31', '1-1-2-1-3-2-0-3-4', '2-0-1-1-0-1-0-3-26', '2-1-2-1-1-0-1-3', '2-0-2-2-0-0-0-3-35', '2-0-2-0-2-0-0-3-15', '2-0-1-1-2-1-0-3-76', '2-0-2-1-0-0-0-4-64', '2-0-1-0-0-3-0-3-27', '2-1-1-1-2-3-0-4-57', '2-0-2-1-0-0-0-4-20', '2-0-2-1-2-3-1', '1-1-2-0-2-3-0-4-52', '2-0-1-1-1-1-0-3-47', '2-1-1-0-2-2-0-4-22', '2-0-2-1-0-0-0-4-15', '2-0-2-1-1-3-0-4-68', '1-1-1-1-1-2', '2-0-1-1-3-1-0-4-57', '2-1-1-1-1-3-0-3-65', '2-0-2-1-2-3-0-3-29', '2-0-2-1-1-1-0-3-94', '2-0-2-2-2-2-0-4-50', '2-1-1-0-2-3-0-3-5', '2-1-1-2-2-0-0-3-21', '2-0-2-1-1-3-0-3-99', '1-1-1-1-2-0-0-4-7', '1-0-2-1-3-2-0-3-53', '2-0-2-0-0-0-0-3-57', '2-0-2-1-2-3-0-4-48', '2-1-0-1-0-0-0-3-54', '1-1-1-1-3-3-0-4-7', '1-1-2-1-2-3-0-4-26', '2-0-1-1-2-3-0-4-15', '2-0-1-1-2-0-0-3-29', '1-0-1-2-3-3-0-3', '2-0-2-2-2-2-0-4-47', '2-0-0-1-1-0-0-3-41', '2-0-1-1-0-0-0-3-43', '2-0-1-0-0-1-0-4-57', '2-1-1-1-3-0-0-4-30', '2-0-2-0-0-0-0-3-22', '2-1-2-0-0-1-0-4-91', '2-1-1-2-1-3-0-4-15', '1-0-1-1-3-1-0-4-35', '2-0-0-2-2-3-0-3', '2-1-1-1-2-2-0-3-33', '2-0-2-2-2-2-0-4-4', '2-1-2-1-0-0-0-3-100', '2-0-2-1-2-3-0-4-16', '2-1-2-1-2-2-0-4-51', '2-0-0-1-1-0-0-3-98', '2-0-1-1-2-0-0-3-18', '2-0-2-1-0-1-0-3-38', '1-0-1-2-3-2-0-4-56', '2-0-1-1-0-0-0-3-6', '1-0-2-2-1-0', '2-0-2-0-3-2-0-4-33', '2-0-1-1-2-0-0-4-3', '1-1-1-1-3-1-0-4-81', '2-1-0-1-1-3-0-3-43', '2-1-1-0-0-1-0-4-41', '2-0-2-1-0-0-0-4-55', '2-1-1-2-1-1-0-3-19', '1-0-2-1-2-0-0-4-72', '2-0-2-1-1-3-0-4-59', '2-0-1-1-0-1-0-4-82', '2-0-1-0-3-0-0-4-53', '2-0-1-1-2-0-0-3-54', '2-1-1-1-2-1-0-4-8', '1-0-2-1-3-0-0-3', '2-1-0-1-0-2-0', '2-1-1-0-3-0-0-4-44', '2-0-2-1-1-3-0-4-44', '2-0-2-1-0-1-0-4', '2-0-1-0-1-3-0-4-70', '2-0-1-1-2-0-0-4-43', '2-0-2-1-1-1-1-4-8', '2-0-1-1-2-2-0-3-96', '2-1-2-0-2-3-0-4-50', '1-1-1-0-3-1-1-4', '2-0-2-1-3-2', '1-0-1-0-3-0-0-4-17', '1-0-0-2', '2-1-2-0-2-3-0-4-22', '1-0-2-1-1-0-0-3-59', '2-1-2-2-0-0-0-4-38', '2-0-1-1-2-2-0-4-72', '2-1-2-1-1-1-0-4-79', '2-0-2-1-1-1-0-3-36', '1-0-2-1-0-3-1-3-4', '1-1-1-0-3-0-0-4-8', '1-0-0-0-1-1-0-3-29', '2-0-1-2-0-0-0-4-81', '2-1-2-2-1-0-0-4-3', '2-1-1-1-1-2-0-3-6', '2-0-2-1-2-1-0-4-68', '2-1-2-2-0-1', '2-0-0-1-1-2', '1-0-1-1-3-0-0-4-44', '2-1-2-2-1-0-0-3-35', '2-0-1-1-1-1-1-2', '2-0-0-2-0-0-0-4-33', '2-0-2-0-0-2-0-4-25', '2-0-2-1-3-1-0-4-51', '2-1-2-1-2-0-0-4-26', '1-0-1-1-3-0-0', '2-0-1-1-2-0-0-3-68', '2-0-1-2-0-0-0-4-82', '2-1-2-1-1-1-0-3-27', '2-0-1-0-2-3-0-3-96', '2-1-1-1-0-0-0-4-86', '2-1-2-1-1-3-0-4-59', '2-1-1-1-3-0-0-3-41', '2-1-1-2-1-0-0-4-62', '1-0-2-2-3-3-0-4-77', '2-1-2-1-1-3-0-4-56', '2-0-2-0-2-3-0-4-42', '2-1-1-1-2-1-0-4-43', '2-1-1-0-3-2-0-4-3', '2-0-1-1-1-3-0-4-65', '2-1-1-0-0-0-0-3-65', '2-1-1-1-1-2-0-4-97', '2-0-2-0-3-1-0-3', '2-0-2-1-0-2-0', '2-0-2-2-0-0-0-3-98', '2-0-2-0-2-2-0-4-68', '2-0-1-0-1-3-0-3-84', '2-0-1-1-1-2-0-3-18', '2-1-2-2-0-2-0-3-100', '2-0-0-0-1-0-0-3', '1-1-2-0-3-3-0-4-35', '2-0-1-0-2-3-0-4-77', '2-0-1-1-2-2-0-4-54', '1-0-1-2-3-0-0-4-5', '2-0-2-1-0-0-0-4-43', '1-0-1-1-2-2-0-3-68', '2-1-1-0-2-0-0-4-18', '2-0-0-1-3-1-0-4', '2-0-2-1-0-0-0-3-40', '2-1-2-2-1-0-0-3-29', '2-0-1-0-2-3-0-3-76', '2-0-2-0-1-0-0-4-8', '1-1-1-1-3-1-0-3-12', '2-0-1-1-0-1-0-3-47', '2-0-1-0-2-3-0-3-37', '2-1-2-0-3-0-0-3-3', '2-1-2-0-1-3-0-4-60', '2-0-2-0-0-0-0-3-17', '2-0-1-1-2', '1-0-2-2-3-0-0-4-52', '1-0-2-1-3-2-0-4-3', '1-0-2-1-1-3-0-4-4', '1-1-1-2-3-1-0-4', '2-0-2-0-3-3-0-4-11', '2-0-1-1-1-0-0-4-36', '2-0-2-2-0-0-0-3-38', '2-1-1-1-1-0-0-4-7', '1-0-1-1-2-2-0-4-61', '1-1-1-1-3-0', '2-0-2-0-1-0-0-3-63', '2-0-2-1-1-1-0-4-52', '2-1-2-1-0-3-0-4-65', '2-0-1-1-1-0-0-4-27', '2-1-1-1-0-3-1-4-3', '2-0-2-0-0-1-0-3-100', '2-0-2-1-1-2-0-4-55', '2-1-1-1-0-0-0-3-25', '2-0-2-0-1-3-0-3-31', '2-0-0-1-2-3-0-4-50', '1-0-2-0-3-1-0-4-57', '2-0-1-2-1-1-0-3-19', '2-0-2-1-3-2-0-3-38', '2-0-2-1-1-3-0-4-42', '2-1-1-1-0-2-0-3-57', '1-0-1-2-0-3-1-4-1', '2-0-1-1-0-3-1-4', '2-0-1-1-3-2-1-4', '2-0-1-0-1-0-0-3-97', '2-0-1-1-0--1-0-3-98', '2-1-2-1-1-1-0', '2-0-2-0-1-1-0-4-77', '2-1-2-0-1-0-0-3-42', '2-0-0-1-1-3-0-3-58', '1-1-0-1-3-0-0-4', '1-0-2-1-3-0-0-4-69', '2-1-0-1-1-0-0-3-45', '2-1-1-2-2-0-0-4-11', '2-0-2-1-2-1-0-3-8', '2-1-1-0-3-3', '1-0-1-1-3-1-0-4-43', '2-0-2-1-2-2-0-3-31', '2-0-2-0', '2-1-2-1-1-1-0-3-46', '2-0-1-1-2-2-0-3-10', '2-1-2-0-0-2-0-4-100', '1-1-2-1-2-3-0-3-26', '2-1-1-1-2-1-0-4-83', '2-0-2-0-0-0-0-4-68', '2-0-1-2-2-1-0-4-100', '2-1-1-1-0-0-0-4-73', '2-0-1-1-3-1-0-4-93', '2-0-2-0-0-1-0-3-31', '2-0-1-2-0-1-0-3-46', '2-1-1-1-2-1-0-3-7', '2-0-0-1-0-0-0-3', '2-0-2-0-0-0-0-3-80', '2-0-1-0-2-1-0-4-65', '2-0-0-0-0-1', '1-0-0-0-2-0-0', '1-1-2-1-1-2-0-4-100', '2-0-2-1-1-2-0-4-78', '2-0-1-1-1--1-0-3-98', '2-1-1-2-0-3-1-4', '2-0-2-0-1-3-0-3-80', '1-0-1-1-3-3-0-4-18', '2-0-1-2-2-0-0-4-100', '2-1-1-0-2-1-0-4-83', '2-1-2-1-2-3-0-4-44', '2-0-1-1-2-2-0-4-41', '1-0-2-1-2-0-0-4-100', '1-0-0-1-3-0-0-3-12', '2-0-1-2-0-0-0-4-2', '2-0-1-2-2-3-0-3-45', '1-0-1-2-2-3-0', '2-0-2-0-2-1-0-4-94', '1-0-2-2-2-3-0-4-3', '2-1-2-2-2-3-0', '1-1-1-0', '2-1-2-1-0-2-0-3-50', '2-0-2-1-1-2-0-3-95', '1-0-1-1-2-1-0-3-57', '2-0-1-0-1-1-0-4-62', '1-0-2-1-2-0-0-3-100', '2-0-1-0-2-0-0-3-35', '2-0-1-1-2-3-1-4-3', '2-1-2-1-1-2-0-4-31', '2-1-2-1-0-2-0-4-59', '2-1-1-1-1-2-0-4-17', '2-1-1-1-2-2-0-4-50', '2-0-2-1-1-2-0-3-56', '2-0-0-1-2-2-0-2', '2-1-2-1-1-2-0-3-40', '2-1-2-1-2-0-0-4-33', '1-0-1-1-1-1-0-4-59', '2-0-2-1-1-0-0-3-25', '2-0-1-0-2-3-1', '2-0-2-0-3-0-0-4-11', '2-0-1-2-0-0-0-4-24', '2-0-1-1-0-0-0-4-37', '2-1-2-0-2-1-0-4-83', '1-1-1-1-3-2-0-4-55', '2-0-1-1-2-0-0-4-23', '1-1-1-1-2-0', '2-1-1-1-1-0-0-4-14', '1-1-2-1-3-0-0-4-25', '1-1-2-1-2-0-0-4-12', '2-1-2-1-1-2-0-4-25', '2-0-0-1-2-1-0-3-37', '2-1-1-2-0-0-0-4-32', '1-1-1-1-3-1-0-3-82', '1-0-2-0-2-2-0-4-1', '2-0-1-0-2-3-0-4-11', '2-0-1-1-2-2-0-4-7', '2-0-2-1-2-0-0-3-79', '2-0-2-1-2-3-0-3-74', '2-0-1-1-1-0-0-3-85', '2-0-1-1-1-2-0-4-60', '2-0-2-1-0-', '2-0-2-1-1-2-0-3-98', '2-1-1-1-3-0-0-4-66', '2-0-2-1-1-2-0-3-85', '2-0-2-1-0-0-0-4-85', '2-0-1-1-0-3-0-4-7', '2-0-2-0-0-3-0-4-55', '2-0-1-1-0-2-0-4', '1-1-1-1-1-0-0-4-52', '2-0-1-2-2-0-0-4-35', '1-1-1-1-2-3-0-4-76', '2-0-2-1-3-3-1-4-6', '2-0-2-1-2-3-0-3-97', '1-0-1-0-2-1-0-3-71', '2-1-2-0-0-0-0-4-87', '2-0-1-1-2-2-0-4-26', '2-1-1-0-0-2-0-3-40', '2-1-1-0-1-1-0-4-1', '1-1-2-1-2-0-0-4-98', '2-1-1-1-0-0-0-4-37', '1-1-1-1-3-0-0-4-37', '2-0-1-0-2-3-0-4-31', '2-0-1-0-2-3', '2-1-1-0-0-1-0-4-56', '2-1-2-2-1-0-0-4-44', '2-1-1-1-1-2-0-3-97', '1-0-0-1-0-0-0', '2-1-0-0-2-3-0-2', '2-0-2-0-0-2-0-4-81', '2-1-0-1-2-1', '2-0-2-1-1-0-0-3-23', '2-0-1-1-0-0-0-4-43', '2-1-2-2-0-1-0-4-78', '2-0-1-1-1-2-0-3-22', '2-0-2-0-0-1-0-4-64', '1-1-0-1-3-1-0-3', '1-0-2-2-3-0-0-4-42', '2-1-1-1-0-1-0-4-27', '1-1-1-0-2-0-0-4-89', '1-0-2-1-3-0-0-4-23', '2-1-2-1-3-2-0-4-4', '2-0-2-2-1-2-1-3-5', '2-0-2-1-1-0-0-3-14', '1-1-0-1-2-1-0', '2-0-1-0-0-1-1', '2-0-1-1-1-1-0-4-25', '1-0-2-1-2-3-0-4-86', '2-0-2-1-2-3-0-4-78', '2-0-2-0-1-1-0-4-21', '1-1-1-1-3-2-0-4-6', '2-0-2-1-0-1-0-4-13', '2-1-1-0-2-3-0-4-21', '2-0-1-0-0-0-0-3-26', '2-1-1-0-0-1-0-4-51', '1-0-1-1-3-0-0-4-96', '2-0-2-1-2-3-0-4-56', '2-1-1-1-1-1-0-4-32', '2-0-1-1-2-3-0-4-10', '2-1-2-2-2-1-0-4-22', '2-1-1-0-0-3-0-4-55', '1-0-2-1-3-3-0-3-98', '1-1-0-1-3-0', '1-0-2-1-3-3-0-3-38', '2-1-1-0-1-2-0-4-5', '2-0-1-0-0-1-0-3-78', '2-0-2-1-2-2-0-4-14', '1-0-2-1-1-1-0-4-57', '2-1-2-0-2-3-0-4-100', '2-0-1-1-3-3-0-4-99', '1-1-1-2-3-3-0-4', '2-0-1-2-3-2-0-4-3', '2-0-1-0-2-2-0-3-76', '1-0-1-1-3-2-0-3-33', '1-0-2-2-1-0-0-4-50', '2-0-0-1-2-3-0-3-7', '2-0-2-1-2-2-0-4-16', '2-1-1-0-2-1-0-3-6', '2-0-1-1-1-0-0-4', '2-0-2-2-1-1', '2-1-1-1-0-2-0-4-55', '2-0-2-1-2-2-0-3-46', '2-0-1-1-0-0-0-3-34', '1-0-2-0-3-1-0-4-31', '2-1-1-1-0-1-0-4-72', '2-0-2-1-1-2-1-3-8', '2-1-2-1-0-0-0-4-57', '2-0-1-0-1-2-0-3-1', '2-0-2-1-2-1-0-3-63', '2-0-1-1-3-1-0-4-46', '1-0-2-0-0-2-1-4', '2-1-2-0-2-0-0-4-53', '2-0-1-1-1--1-0-1', '2-1-2-1-2-2-0-3-42', '2-1-1-0-2-1-0-3-63', '1-0-2-0-3-1-0-4-27', '2-0-2-2-0-0-0-4-46', '2-0-2-0-2-3-0-3-40', '2-0-2-1-0-3-0-4', '1-0-1-1-3-3-0-4-42', '1-0-1-0-2-1-0', '2-0-1-1-0-2-1-3', '1-0-2-1-2-1-0-4-22', '1-0-2-1-0-2-1-4-3', '2-0-2-1-1-2-1-4-6', '2-0-2-0-1-0-0-3-38', '2-1-0-1-2-3-0-3-63', '2-0-2-0-3-3-0-4', '2-1-1-0-1-3-0-4-11', '2-0-2-1-1-0-0-4-49', '2-0-2-0-0-2-0-4-27', '2-1-1-1-3-3-1-4-3', '2-1-1-1-0-0-0-4-1', '2-0-1-1-2-1-0-3-14', '2-1-1-1-1-1-0-4-51', '1-0-1-1-2-3-0-4-53', '2-0-1-2-1-3-0-4-78', '2-1-2-1-1-2-0-3-32', '2-0-1-1-0-0-0-3-37', '2-1-2-1-2-2-0-3-84', '2-0-1-1-2-3-0-4-71', '2-0-0-1-2-1-0-3-99', '2-0-0-1-0-3-0', '2-0-2-2-3-0-0-3-2', '2-1-1-0-2-1-0-3-72', '1-0-1-1-1-3-0-4-50', '2-0-1-1-2-3-0-3-57', '2-0-1-1-1-0-0-3-100', '1-0-1-2-2-0-0', '2-0-2-0-1-0-0-4-31', '1-1-2-1-3-1', '2-0-2-2-2', '2-0-2-1-1-1-0-3-67', '2-0-2-1-0-3-1-4-3', '2-1-1-1-1-2-0-3-8', '2-0-1-1-1-0-0-4-56', '2-0-2-0-1-3-0-4-42', '2-0-1-2-1-0-0-3-10', '1-0-1-1-0-1-0-4', '2-1-1-2-0-3-0-4', '2-0-1-0-2-0-0-3-48', '2-0-2-1-2-3-0-3-10', '2-0-1-2-1-0-1-4-6', '2-1-2-1-1-1-0-3-74', '1-0-1-1-2-2-1-4', '1-1-2-0-3-1-0-4-37', '2-1-1-0-2-0-0-4-9', '1-0-1-0-3-1-0-4-34', '2-0-2-1-1-3-0-4-30', '2-1-2-1-2-3-0-4-33', '1-1-1-1-3-3-0-3-6', '2-0-2-1-1-0-0-4-23', '2-0-2-0-2-2-0-4-31', '2-0-1-0-1-2-0-4-21', '2-0-1-1-2-0-0-3-92', '2-1-2-1-0-1-1-3', '1-1-1-1-1-3-0-1-52', '1-0-1-1-3-0-0-4-21', '2-0-2-1-0-0-0-4', '2-0-1-0-1-0-0-3-64', '2-0-2-1-2-0-0-4-66', '2-1-2-1-0-0-0-4-8', '1-1-1-1-3-1-0-3', '2-0-2-1-2-1-0-4-61', '1-1-1-0-0', '2-0-2-1-2-0-0-4-19', '2-1-2-2-1-1', '2-0-1-0-2-1-0-3-97', '2-0-2-2-1-2-0-4-4', '1-0-2-1-1-1-0-4-100', '2-0-1-2-1-2-0-4-78', '2-0-2-1-2-1-0-4-92', '2-1-2-1-0-1-0-3-80', '2-0-2-2-1-1-0-4', '1-0-2-1-2-0-0-4-61', '2-0-0', '1-1-1-0-3-3-0-4-8', '2-1-1-1-2-2-0-4-10', '2-1-2-0-2-0-0-4-39', '2-1-2-1-2-3-0-4-23', '2-0-2-2-1-3-0-3-17', '2-0-2-0-0-1-0-4-49', '2-0-1-0-2-0-1-4-2', '2-0-1-0-2-3-0-3-7', '2-0-2-1-0-1-0-4-41', '2-1-1-2-0-3-0-4-6', '2-0-2-1-1-0-0-4-38', '2-1-1-1-0-0-0-3', '2-0-1-1-1-0-0-3-48', '2-0-2-1-2-3-0-4-72', '2-0-1-2-0--1-0-4-35', '2-0-2-0-1-0-0-3-72', '1-0-0-2-3-0-0-4-74', '2-0-2-1-1-1-0-4-2', '2-0-1-1-0-1-0-3-81', '2-0-1-1-1-0-0-3-89', '2-1-2-0-1-1-0-3-60', '2-0-2-0-2-0-0-3-16', '1-1-1-1-2-0-0-4-76', '2-0-2-0-1-2-0-4-79', '2-1-1-1-2-0-0-4-16', '2-1-1-1-2-3-0-4-64', '2-0-1-1-1-0-0-3-80', '2-0-1-2-0-2-0-4-83', '2-0-1-1-2-0-0-4-6', '1-0-1-1-2-0-1-4-3', '2-0-2-0-3-2-0-4-4', '2-1-2-1-1-3-0-4-73', '2-0-2-1-0-2-0-3-42', '2-1-2-2-1-1-0', '1-1-1-1-0-1-0', '2-0-2-1-2-2-0-3-16', '2-0-2-2-1-1-0-3-43', '2-1-2-2-0-2-0-4-80', '2-0-0-2-0-1', '1-1-0-1-3', '1-0-1-1-3-3-0', '2-1-2-1-2-1-0-4-85', '2-1-2-2-1-2-0-4-79', '2-0-2-0-2-0-0-3-74', '2-0-1-1-1-3-0-3-17', '2-1-0-0-2-3', '2-1-2-1-3-1-0-4-72', '1-0-2-1-2-3-0-4-63', '1-1-1-1-3-3-0-4-2', '2-0-2-1-0-1-1-4-3', '1-0-2-1-0-3-1-3', '2-0-2-1-1-3-0-4-49', '2-1-2-1-0-3-0-4-15', '2-1-2-1-1-2-0-3-44', '2-0-1-2-2-2-0-4-24', '2-0-1-2-3-2-0-3-25', '2-0-1-1-1-0-0-4-77', '1-0-1-1-3-3-0-4-63', '2-0-0-1-1-0-0-4-66', '2-1-1-1-1-0-0-3-37', '2-1-0-0-2-3-0-3', '2-1-1-1-1-3-0-4-73', '2-0-1-1-2-0-1-4-6', '2-0-1-2-1-3', '2-1-1-0-1-0-0-4-5', '1-1-1-1-3-2', '1-1-2-1-2-1-0', '1-0-2-1-1-0-0-4-59', '2-0-1-1-3-2-0-3-23', '2-1-1-2-0-0-1-4-8', '2-0-1-1-2-2-0-4-38', '1-0-1-1-1-0', '1-1-2-1-3-0-0-4-24', '1-0-1-1-2-0-0-3-63', '2-1-1-1-0-0-1-3', '2-1-1-1-0-2-0-4-74', '2-0-2-1-2-3-0-3-40', '2-0-2-1-0-1-0-3-68', '2-0-1-1-1-2-0-3-28', '2-1-1-1-1-0-0-4-99', '2-0-1-2-0-1-0-4-91', '2-0-2-2-2-0-0-4-40', '2-0-1-0', '2-1-1-2-0-3-0-4-45', '2-0-1-1-1-0-0-3-95', '2-0-1-0-2-1-0-4-81', '2-1-1-1-1-2-0-4', '2-1-1-1-2-2-0-3-66', '2-1-2-0-2-3-0-3-10', '2-0-2-1-2-0-0-3-12', '2-0-2-0-2', '2-0-2-1-2-2-0-4-61', '1-0-1-1-3-0-0-4-11', '2-0-1-1-3-1-0-4-49', '1-0-2-2-3-3-0-4-12', '2-1-2-1-2-1-0-4-12', '2-1-1-2-0-1-0', '2-0-2-1-2-1-0-4-40', '2-0-2-0-1-1-0-4-35', '1-1-1-0-3-0-0-3-36', '2-1-1-2-2-3-0-4-19', '2-0-1-0-1-3-0-3-33', '2-0-2-1-1-3-0-4-56', '2-0-1-0-0-1-1-4-1', '2-0-1-2-0-0-0-4-54', '2-0-2-0-0-3-0-4-36', '2-0-1-0-1-0-0-4-97', '1-0-2-1-1-2-0-3-99', '2-1-2-1-2-3-0-4-15', '2-1-1-0-0-2-0-4-98', '2-1-1-1-1-0-0-3-11', '2-0-1-1-1-3-0-4-93', '2-0-2-1-0-3-0-3-34', '2-0-1-1-0-1-0-4-63', '2-0-2-1-2-1-0-3-17', '1-0-1-1-3-1-0-4-56', '2-0-2-1-0-2-0-4-92', '2-1-1-0-2-2-0-3-19', '1-1-1-0-2-3-0-3-22', '2-1-2-1-2-2-0-3-100', '2-0-2-2-0-0-0-4-80', '2-1-2-1-2-0-0-4-22', '2-0-2-1-2-3-0-4-1', '2-0-1-1-2-2-0-4-73', '2-1-2-1-1-2-0-3-82', '1-0-2-1-1', '2-1-0-1-1-3-0-3-33', '2-1-2-2-1', '2-0-2-2-1-3-1', '2-1-1-1-1-0-0-4-31', '2-0-2-1-1-1-0-3-8', '1-1-1-1-2-3-0-4-60', '2-1-1-0-3-2-0-4-49', '2-0-1-1-1-1-0-3-100', '2-0-2-1-1-1-0-4-10', '2-0-2-0-2-3-0-4-43', '2-1-1-1-1-1-0-4-23', '2-0-1-1-0-3-0-4-38', '2-0-0-0-0--1-0-3-27', '2-1-1-0-1-3-0-3-10', '2-0-2-2-1-0-0-4-11', '1-0-1-1-3-1-0-4-88', '2-0-2-2-0-1-0-4-97', '2-0-1-1-1-2-0-4-3', '2-0-2-1-1-1-0-3', '2-0-2-1-2-0-0-4-17', '2-0-1-1-0-3-0-4-1', '2-0-1-2-1-0-0-3-4', '1-0-1-1-3-0-0-4-94', '2-1-1-0-2-3-0-4-12', '2-1-0-2-0-0-0', '2-0-1-1-2-0-0-3-11', '2-1-2-2-0-1-0-3-78', '1-1-1-2-2-0-0-4-60', '2-1-1-0-1-0-0-4-64', '2-0-2-1-0-0-0-4-6', '2-0-2-0-1-0-0-3-17', '2-0-2-2-0-3-1', '2-0-1-1-1-3-0-4-80', '2-0-1-1-1-1-0-4-43', '2-0-2-0-0-0-0-4-59', '2-1-2-1-1-1-0-3-63', '2-1-1-1-1-0-0-3-14', '2-1-1-1-1-3-0-4-29', '2-0-2-1-0-0-0-3-43', '2-0-2-0-2-3-0', '2-0-2-1-0-2-0-4-22', '2-1-1-1-2-3-0-4-13', '2-1-2-1-0-3-1-4-3', '2-0-0-1-0--1-0-3-25', '2-0-2-1-0-1-0-3-3', '2-1-0-1-2', '2-0-2-1-3', '2-0-1-1-0-1-0-4-85', '2-0-1-2-1-1-0-4-84', '2-0-2-1-0-2-0-4-86', '2-0-2-1-2-0-0-4-15', '2-1-2-0-1-1-0-4-22', '1-0-2-1-1-1-0-3-54', '2-0-1-0-2-2-0-3-28', '2-0-1-0-3-2-0-3-41', '2-1-0-1-2-3-0-2', '2-0-1-0-1-2-0-4-59', '2-0-1-1-1-3-0-3-97', '1-1-2-1-3-3-0-4-83', '2-1-1-1-3-0-0-4-29', '2-0-1-1-0-3-0-3-23', '2-0-1-1-2-1-1-4-2', '2-1-1-0-2-2-1', '2-0-1-1-0-3-0-4-45', '2-0-2-1-1-0-0-4-16', '2-1-2-0-0-3', '2-0-0-1-3-3-0-3-44', '2-0-1-2-0-0-0-3', '2-0-0-2-1-0-0-3', '2-0-1-1-1-3-0-3-36', '2-0-2-1-0-0-0-3-73', '2-1-2-1-2-1-0-3-43', '2-1-1-0-2-0-0-3-39', '2-1-1-1-1-1-0-4-97', '2-0-1-0-0-0-0-4-93', '2-1-2-1-2-1-0-3-34', '2-1-1-1-2-2-0-4-17', '2-1-2-2-1-2-0-3-29', '2-0-2-1-2-3-0-3-99', '2-1-1-0-2-0-0-3-75', '2-0-1-2-3-1-0-3', '2-1-2-1-1-2-0-4-98', '2-1-1-1-1-0-0-4-4', '2-0-2-2-1-3-0-3-99', '2-0-2-2-1-0-1-4', '2-0-1-0-2-1-0-4-76', '2-0-2-1-2-0-0-3-97', '2-0-2-1-2-1-0-4-99', '2-1-1-0-1-0-0-4-40', '1-0-1-1-3-3', '2-0-2-0-1-1-0-4-6', '2-1-2-1-0-2-0-4-52', '1-0-1-1-3-2-0-4', '2-0-2-1-0-0-0-3-54', '2-0-1-2-1-0-0-4-63', '2-1-2-1-1-1-0-4-55', '2-0-2-1-3-3-0-3-100', '1-0-1-1-2-0-0-3-35', '2-0-1-0-2-1-0-4-44', '2-0-1-2-1-2-0-4-76', '2-1-1-0-1-0-0-4-53', '2-0-1-1-1-2-0-3-50', '2-0-1-1-1-3-0-3-66', '2-1-2-1-1-0-0-3-26', '1-0-2-1-2-3', '1-0-1-1-3-3-0-4-14', '1-0-2-1-3-0-0-4-57', '2-0-2-1-1-2-0-3-79', '2-0-1-1-1-2-0-3-68', '2-0-2-1-1-0-0-4-31', '2-0-2-1-0-1-1-4-5', '1-0-1-1-3-3-0-3-16', '2-0-1-0-2-0-0-3-41', '2-0-1-1-2-3-0-3', '1-1-1-1-0-0-0-3-48', '1-1-1-1-3-0-0-4-14', '1-0-2-1-0-3-1', '2-1-1-1-0-1-0-4-65', '2-0-1-1-2-1-0-3-37', '2-0-2-1-2-2-0-4-37', '2-1-2-1-0-0-0-4-5', '2-0-1-1-1-1-0-4-72', '2-0-1-1-2-1-0-4-88', '1-0-2-1-3-0-0-4-5', '2-0-2-2-1-1-0-3-81', '2-0-1-1-3-1-0-4-4', '2-0-2-1-1-0-0-4-4', '2-1-2-1-0-0-0-4-54', '2-1-2-0-0-1-0-4-61', '2-1-1-1-2-1-0-4-31', '1-0-1-1-3-0-0-4-9', '2-0-1-2-0-0-0-4-30', '2-1-1-0-1-1-0-4-51', '2-0-1-1-1-2-0-3-19', '2-0-2-2-2-0-0-4-89', '2-0-1-1-1-1-0-4-12', '2-0-1-0-0-3-1-3', '2-0-2-1-1-3-0-3-1', '1-0-2-1-3-3-0-4-63', '2-0-1-1-2-0-0-3-28', '2-0-1-0-1-1-0-3-25', '2-0-1-1-3-0-1-4-5', '2-0-1-2-1-1-0-4-49', '2-0-1-2-1-1-0-3-31', '2-0-1-1-2-0-0-3-56', '2-0-1-1-2-2-0-2', '1-0-0-0-1-0', '1-0-2-1-1-0-0-3-99', '2-0-1-1-1-3-0-3-32', '2-0-2-0-1-2-0-4-7', '2-0-1-0-2-0-0-4-42', '1-0-1-2-1-0-0', '2-0-2-1-0-2-0-3-23', '2-0-2-1-0-0-0-1-69', '2-1-2-0-1-1-0-4-1', '1-0-1-1-0-0-0-4', '2-1-2-1-1-1-0-4-14', '1-0-2-0-1-1', '2-0-1-0-0-3-0-3-86', '1-0-2-1-2-1-0-4-27', '2-1-1-2-2-1-0-4-20', '2-0-0-1-0-3-1-3-3', '2-0-2-1-3-1-0-3-73', '2-1-1-1-0-1-0-4-76', '1-0-1-1-1-3-0-3-53', '1-1-1-0-2-3-0-4-61', '2-0-2-1-1-3-0-4-61', '1-1-2-1-3-3-0-3-38', '2-0-1-1-1--1-0-3-100', '2-0-1-0-2-3-0', '2-0-0-0-0--1-0-3-10', '2-0-2-1-1-1-0-4-94', '1-0-2-2-3-0-0-4', '2-0-1-0-0-3-0-4-8', '2-1-2-0-1-1-0-3-99', '2-0-2-0-1-0-0-4-39', '2-1-1-0-1-0-0-4-37', '2-0-1-1-1-3-0-4-31', '1-0-2-2-3-0-0-3', '1-0-1-2-3-2-0-4', '2-0-1-0-1-3-0-3-35', '2-0-1-1-0-2-0-3-94', '2-0-1-2-1-2-1-4-4', '2-0-2-0-2-0-0-4-15', '2-0-2-0-2-3-0-4-9', '2-1-2-1-3-2-1', '2-0-1-1-2-0-0-3-95', '2-1-2-1-0-3-1-3', '2-0-2-0-1-1-0-4-100', '2-1-2-1-2-3-0-4-100', '2-0-2-0-2-0-0-4-77', '2-0-1-1-2-3-0-4-42', '2-0-1-0-1-2-0-3-76', '2-1-0-0-3-3', '1-0-2-2-3-0-0-3-17', '1-0-2-1-0-2-0-4-49', '2-0-0-1-2-2-0-3-24', '2-1-1-0-0-0-1', '2-1-0-0-0-0', '2-0-2-0-3-1-0-4-49', '2-0-2-1-3-1-0-4-34', '1-1-1-1-2-1-0-4-60', '1-0-1-1-2-0-0-4-56', '2-0-1-0-2-1-0-3-53', '2-0-2-1-2-1-0-4-43', '1-0-2-1-0-3-0-4-21', '2-0-1-0-0-2-0-4-67', '2-1-2-2-2-3-0-4-78', '2-0-2-2-1-0-0-3-11', '2-1-2-1-0-3-0-4-35', '2-0-2-0-2-0-0-4-97', '1-0-1-1-2-0-0-4-73', '2-1-2-1-1-1-0-4-38', '2-0-2-0-1-1-0-4-79', '2-1-2-1-0-1-0-4-75', '2-0-2-0-1-3-0-4-93', '2-0-2-0-0-0-0-4-49', '2-0-2-0-1-1-0', '2-1-1-2-3-2-0', '2-1-2-1-1-1-0-4-16', '2-0-1-1-0-0-0-2-57', '2-0-0-1-1-2-0-3-14', '2-0-1-1-1-0-0-2-51', '2-0-1-1-1-1-0-3-92', '1-0-2-0-3-3-0-3-36', '2-1-2-0-0-2-0-4-23', '2-0-1-1-2-0-0-3-8', '2-1-1-2-0-0-0-3-88', '2-0-2-1-1-3-0-3-71', '2-0-2-1-3-0-0-4-43', '2-1-1-1-2-0-0-4-34', '1-1-2-1-3-1-0-3-36', '1-1-2-1-3-1-1-4-2', '2-1-1-1-2-3-0-3-13', '2-0-1-0-3-3-0-3', '2-0-1-0-0-0-0-3-8', '2-0-2-1-3-0-0-3', '2-1-1-0-2-0', '2-0-2-1-3-2-0-4-100', '1-0-1-0-3-3-0-4-37', '2-0-2-0-2-2-0-3-36', '2-0-2-2-2-0-0-4-39', '1-1-2-1-3-0-1-3-1', '2-0-1-0-2-3-0-4-62', '2-0-1-0-2-0-0-4-51', '1-0-2-1-1-3-0-3-100', '2-0-1-0-0-2-0-4-78', '2-1-1-1-0-3-0-3-35', '2-0-1-0-3-0-0-4-51', '2-0-2-2-0-0-0-3-99', '1-0-2-2-0-3-1', '2-1-1-0-2-0-0-4-55', '2-0-2-1-2-1-0-4-100', '2-0-0-0-1-2', '2-0-0-2-1-2-0-3', '2-0-2-0-0-2-0-3-79', '2-0-2-0-1-0-0-3-93', '2-1-1-1-0-0-0-4-11', '2-0-1-0-2-0-0-3-84', '2-0-2-0-2-1-0-4-73', '2-0-2-0-3-3-0-4-34', '1-0-1-1-3-0-0-4-43', '2-0-1-1-2-2-0-3-4', '2-1-1-1-0-0-0-4-33', '2-0-1-2-0-2-0-3-34', '2-0-1-0-2-0-0-4-11', '2-0-2-0-2-1-0-4-69', '2-0-2-2-1-3-0-4-33', '2-0-1-1-1-0-0-3-77', '2-0-2-1-0-2-1', '2-0-2-1-1-1-0-4-16', '2-0-2-1-2-0-0-4-34', '1-0-2-0-3-0-0-4-30', '2-1-1-1-0-1-0-4-9', '2-1-1-1-3-2', '2-1-2-1-1-0-0-3-5', '2-0-1-0-3-2', '2-0-1-1-2-0-0-3-83', '2-0-2-0-1-1-0-4-38', '2-0-1-0-1-3-0-4-35', '2-1-1-1-0-1-0-3-45', '2-1-2-1-2-0-0-4-85', '2-0-1-0-1-0-0-4-89', '2-0-1-2-1-2-0-4-98', '2-0-1-1-2-1-0-4-16', '1-0-1-0-3-0-0-4-49', '2-0-1-1-1-2-0-4-40', '2-0-1-1-1-3-0-4-44', '2-0-1-1-2-2-0-4-63', '2-1-2-1-2-1-0-4-42', '2-0-1-0-0-0-0-3-99', '2-0-1-0-0-1-0-4-74', '2-0-1-0-0-0-0-4-87', '2-1-1-1-0-0-0-3-85', '2-0-2-1-1-2-0-4-49', '2-1-1-1-1-1-0-3-2', '2-0-2-2-1-1-0-3-37', '2-0-0-1-1-2-0-3-5', '2-0-1-1-2-3-0-4-4', '2-0-1-0-0-0-0-3-21', '2-0-1-1-2-0-0-3-70', '2-1-0-0-2-0-0-3', '2-0-2-1-0-3-0-3-70', '2-1-2-1-2-2-0-4-27', '1-0-2-1-2-0-0', '2-0-1-0-1-2-0-3-38', '2-1-1-0-1-0-0-4-3', '2-0-1-1-0-2-0-3-34', '2-0-2-2-2-1', '2-1-2-1-0-3-0-4-91', '2-1-1-1-3-3-0-4-40', '2-0-1-0-1-1-0-4-1', '1-1-2-1-1-3-0-4', '1-0-2-1-1-1-0-3-46', '2-1-1-1-1-1-1-1-1', '1-0-1-0-2-0-0-4-32', '2-0-1-1-1-2-0-4-49', '2-0-2-0-0-2-0-4-29', '1-1-2-1-1-1-0-4', '2-0-1-1-1-0-0-3-99', '2-1-2-1-2-2-0-4-76', '1-1-2-1-3-0-0-4-40', '2-0-1-2-0-3', '2-1-2-1-0-2-0-4-46', '2-1-2-2-2-1-0-4-42', '2-0-2-0-1-3-0-3-24', '2-0-1-1-0-0-1-3-5', '2-0-2-1-1-0-0-3-42', '1-0-1-1-3-1', '1-1-2-1-2-1-0-4-97', '2-0-1-0-0-3-0-3-77', '1-0-1-1-3-1-0-4-68', '2-0-0-2-1-2-0-4', '2-0-2-1-1-3-0-3-47', '2-0-2-1-2-1-0-4-76', '1-0-2-1-3-1-0-4-52', '2-1-2-0-1-0-0-4-100', '2-0-2-2-0-2-0-4-37', '2-1-1-1-2-0-0-4-14', '1-1-2-0-3-1-0-4', '2-0-1-1-1-3-0-4-21', '2-1-1-1-1-1-0-3-38', '2-1-1-1-1-1-0-4-47', '2-1-1-0-0-3-0-4', '2-0-2-1-2-2-0-3-27', '2-0-2-2-0-2-0-3-95', '2-0-2-1-2-2-0-4-3', '2-0-2-0-1-0-0-4-46', '2-1-2-1-2-3-0-4-21', '2-0-2-1-0-3-0-4-62', '2-0-1-2-0-0-0-4-100', '2-1-2-1-2-2-0-4-37', '2-0-2-1-1-1-0-3-47', '2-1-1-0-1-0-0-4-50', '2-0-2-0-2-0-0-4-68', '1-1-2-1-3-3-0', '2-1-2-0-1-0-0-4', '2-1-1-0-1-0-0-4-18', '2-1-1-1-1-0-0-3-17', '2-0-1-0-1-0-0-4-70', '2-1-1-1-2-3-0-4-32', '2-0-0-1-2-0-0-3-76', '2-0-1-1-2-2-0-4-96', '2-0-0-1-2-0-0-3-78', '1-0-2-2-1-3-0-4', '2-0-1-1-0--1', '2-1-0-1-2-3-0-4-1', '2-0-1-1-0-0-0-4-67', '2-0-2-1-0-3-0-4-50', '2-1-1-0-2-2-0-4-52', '2-0-2-1-1-2-0-3-66', '1-1-2-1-2-0-0-4-7', '2-0-2-1-0-0-0-3-36', '2-1-2-1-1-2-0-4-47', '2-0-2-1-3-1-0-4-21', '1-0-1-1-2-2-0-3', '2-0-1-0-3-0-0-3-2', '1-0-0-1-3-3-0-3', '2-0-2-1-0-1-0-3-16', '2-1-1-1-1-2-1-4', '2-0-1-2-1-1-1-3-5', '1-0-1-1-3-2-0-4-50', '2-1-2-0-2-3-0-4-39', '2-1-1-2-0-1-1-4-8', '2-1-1-1-1-1-0-4-52', '1-0-1-2-0-2-1-4-1', '2-1-1-0-0-2-0-4-89', '1-1-1-1-3-3-0-4-80', '2-1-2-0-2-3-0-4-6', '2-0-1-1-0-3-0-3', '1-0-1-1-0-0-0-4-92', '2-0-2-1-2-3-0-3-84', '2-0-0-0-0--1-0-3-17', '1-0-0-1-2-3-0-3', '2-0-1-1-1-0-0-4-33', '2-0-2-1-2-0-0-3-41', '1-0-1-2-3-3-0-4-37', '1-0-1-1-3-0-0-4-19', '2-0-1-1-0-3-0-4-55', '2-1-2-1-0-0-1-3', '1-0-2-0-3-2-0-4-48', '2-0-1-0-1-2-0-3', '1-0-2-0-0-0-0', '2-0-1-1-1-2-0-4-87', '2-0-1-1-2-1-0-3-2', '2-1-2-2-2-3-0-4-61', '2-0-1-2-0--1-0-3-99', '2-0-1-0-2-2-1-4', '1-0-2-1-2-3-1-4-7', '2-0-2-1-3-2-1', '2-0-1-2-3-0-0-4-1', '2-0-2-1-3-3-0-4-6', '1-0-2-0-3-0-0-4-35', '2-0-2-0-0-2-0-4-95', '2-0-1-1-1-1-0-3-86', '2-1-1-1-2-0-0-3-98', '2-0-2-1-3-0-0-4-42', '1-1-0-1-3-0-0-3-14', '2-1-2-1-1-2-0-3-28', '2-1-1-1-1-0-0-3-52', '2-1-2-1-1-1-0-1', '2-0-1-1-1-1-0-3-3', '2-1-2-0-1-1-0-4-9', '1-0-2-1-2-0-0-4', '2-1-2-2-1-2-0-4-42', '2-0-2-1-0-0-0-3-48', '2-0-1-2-2-3-0-4', '2-0-1-0-0-0-0-4-60', '2-1-2-1-3-1-0-4-3', '1-0-1-1-1-2-0-4-40', '2-0-2-0-2-3-0-3-69', '1-0-1-1-3-1-0-3-37', '2-0-1-2-3-0-0-4-31', '2-1-1-1-1-0-0', '2-1-2-1-2-3-0-3-30', '2-0-1-1-1-3-0-3-7', '2-1-2-2-0-1-0-4-14', '2-0-1-1-0-0-0', '2-0-1-1-1-1-0-3-36', '1-0-1-1-3-2-0-3-50', '2-0-1-1-1--1-0-1-71', '2-1-1-0-2-1-0-4-3', '2-0-1-1-2-3-0-4-41', '2-0-1-2-1-1-0-4-13', '2-1-1-1-2-1-0-3-16', '2-1-1-2-2-1-0-3-96', '2-0-1-2-1-2-0-4-50', '2-1-1-1-0-2-0-3-76', '2-0-1-1-0-0-1-4-6', '2-1-1-1-2-0-0-4-11', '1-0-1-0-3-2-0-4-33', '2-0-1-0-1-2-0-4-34', '2-0-2-2-0-1-0-4-81', '2-0-1-0-2-3-1-4-8', '2-0-1-0-1-2-0-4-4', '2-0-2-1-0-3-0-4-14', '2-0-2-2-0-3-1-4', '2-0-1-1-0-3-0-4-72', '2-0-2-1-0-3-0-3-100', '2-1-2-0-1-0-1', '2-0-2-0-1-3-0-3-35', '2-1-1-1-1-1-0-3-46', '1-1-1-1-3-2-0-3-23', '2-0-2-1-3-3-0-4-36', '2-0-1-0-3-0-0-4-87', '2-0-2-1-1-1-0-3-88', '1-1-1-1-2-1-0-4-85', '2-1-0-0-2-2-0', '2-1-1-1-0', '2-1-2-1-1-1-0-4-98', '2-1-2-0-2-1-0-3-3', '2-0-1-0-0-0-0-3-22', '1-0-1-2-0-3-1', '2-0-1-1-3-3-0-4-37', '1-1-1-0-3-0-0-4-39', '1-0-1-1-3-3-0-4', '2-0-2-1-3-2-0-4-1', '2-1-2-1-1-2-0-3-99', '2-1-1-1-3-0-0-3-44', '1-0-1-1-1-1-0-4-100', '2-0-1-0-2-0-0-4-13', '2-1-1-0-3-3-0-4-3', '2-0-2-2-1-0-0-3-21', '2-0-2-1-2-3-0-4-18', '2-0-1-1-2-2-0-3-72', '1-0-0-1-2-1-0-3-33', '2-1-1-1-2-2-0-4-2', '2-0-1-1-0-2-0-4-25', '2-0-1-1-1-0-1-4', '2-0-2-1-2-1-0-4-19', '2-0-1-1-0-0-0-4-66', '2-0-1-1-3-0-0-4-22', '2-0-2-1-2-0-0-4-91', '2-0-0-2-1-0', '2-1-1-1-1-1-0-4-31', '2-0-1-1-1-3-0-3-78', '1-0-2-1-1-0', '1-0-1-1-2-1-0-3', '2-0-1-1-1-2-0-4-94', '1-0-1-1-1-1-0-4-57', '1-0-1-1-3-2-0-4-24', '2-1-1-0-0-2-0-4-94', '2-1-1-1-2-3-0', '2-0-2-0-1-2-0-4-72', '2-0-1-1-0-0-0-3-5', '1-0-1-0-3-1-0-4-11', '2-0-2-1-0-1-0-4-51', '2-0-1-1-0-1-0-4-69', '2-0-2-2-1-1-0-4-97', '2-0-2-1-0-0-0-4-69', '1-0-1-1-2-3-0-4-61', '2-1-2-2-0-2-0', '1-1-2-1-2-3-0-3-54', '2-0-2-0-3-1-0-4-39', '1-0-1-1-2-1-0-4-70', '2-0-2-0-1-1-0-4-4', '2-0-0-1-3-3-0-3-39', '2-0-0-1-0-1-1', '1-1-1-1-0-3-0-4-36', '2-1-2-2-1-3-0-4-5', '2-0-2-1-0-2-0-4-34', '2-0-2-1-0-2-0-4-71', '2-0-2-1-0-2-0-4-97', '2-1-1-1-0-2-0-3-63', '2-0-1-2-1-0-0-4-100', '2-1-2-1-2-2-0-4-49', '2-0-1-2-0-0-0', '1-0-1-2-3-0-0-4-42', '2-0-2-0-1-1-0-4-80', '2-0-2-1-2-1-0-3-60', '1-0-0-2-3-0-0', '2-0-2-1-0-0-0', '2-0-1-1-1-0-0-4-31', '1-0-2-2-1-2-0-4', '2-1-1-1-0-0-0-3-62', '2-1-1-1-0-1-0-4-100', '1-0-2-1-0-0-1-3-1', '1-0-1-0-3-3-0-4-12', '1-0-1-1-3-3-0-4-17', '2-0-2-0-3-0-0-4-48', '2-1-2-1-1-1-1', '2-1-0-0-2-1-0-3-46', '2-0-1-1-2-0-0-3-65', '2-0-1-1-2-1-0-4-28', '1-0-2-1-1-3', '1-1-0-1-2-1-0-3-60', '1-0-1-1-1-1-0', '2-0-1-0-1-0-0-4-77', '2-1-2-1-2-1-1-4-8', '1-0-2-1-2-3-0-3-2', '1-0-2-1-0-3-0-4-49', '1-1-2-1-0-0-0-3', '2-0-1-1-1-2-0-4-35', '2-1-2-1-2-1-0-4-37', '2-0-2-1-3-3-0-3-36', '2-0-1-1-0-2-0-3-30', '2-0-0-1-1-1-0-3-64', '2-0-1-2-0-0-0-4-40', '2-0-2-1-1-0-0-4-50', '2-0-2-1-0-0-0-4-70', '2-0-2-1-2-3-0-4-17', '2-0-1-1-1-3-0-4-46', '2-1-1-1-1-0-0-3-76', '2-1-2-1-2-2-0-3-40', '2-0-1-1-1-3-0-4-27', '1-0-2-1-3-3-0-4-36', '2-0-1-2-0-0-0-4-49', '2-0-2-2-2-2-0-3-71', '1-1-1-1-2-0-0-4-31', '2-1-2-1-0-3-1-4-1', '2-0-1-0-1-3-0-4-3', '2-0-1-1-2-2-0-3-20', '1-0-1-1-2-0-0-3-88', '1-0-2-1-2-1-0-4-41', '2-1-0-1-2-0-0-4-5', '2-0-1-0-0-2-0-3-78', '2-0-1-0-3-3-0-4-2', '2-1-1-1-0-3-0-3-18', '2-0-1-0-1-3-0-3-40', '2-0-1-1-1-1-0-4-96', '2-0-1-1-2-3-0-4-19', '2-0-2-0-2-2-1', '2-0-1-1-0-2-0-4-97', '2-0-1-1-0-3-0-4-84', '2-0-1-0-1-2-0-3-89', '2-0-1-1-2-2-0-4-69', '2-0-1-0-1-1-0-3-54', '2-1-2-1-2-2-0-4-36', '2-0-2-0-0', '2-1-2-2-2-2-0-4-97', '2-0-1-1-0-3-0-3-66', '2-1-2-2-1-0-0-4-17', '2-0-2-0-2-1-0-4-1', '2-0-2-1-2-1-0-4-23', '1-1-2-1-0-0-0-4-39', '2-1-1-0-1-1-0-4-100', '2-1-2-0-1-2-0-4-45', '2-1-1-2-1-0-0-3-31', '2-0-1-0-3-2-0-4-43', '2-0-1-1-1-1-0-4-90', '1-1-1-1-2-2', '2-1-1-0-1-3-0-3-47', '2-0-1-1-0-2-0-3-77', '2-0-1-1-0-2-0-4-79', '2-1-2-1-1-2-1', '2-0-1-0-0-2-1-3-1', '2-0-1-2-1-1-0-4-48', '2-1-1-1-3-0-0-3-39', '2-0-1-1-1-3-0-4-36', '2-0-1-1-2-2-0-4-47', '2-0-1-0-2-3-0-4-36', '1-1-1-1-3-2-0-4', '2-1-2-1-3-2-0-4-74', '2-1-1-1-3-2-0-4-68', '2-0-2-0-2-2-0-3-1', '1-0-1-1-2-0-1-3', '2-0-1-1-0--1-0-3-46', '2-0-1-1-1-3-0-4-33', '2-0-1-1-1-3-0-4-81', '2-0-1-2-0-1-0-4-69', '2-0-2-2-1-1-0-4-7', '2-0-1-0-2-0-0-4-31', '2-1-1-1-2-0-0', '1-0-0-1-3-0-0-4-56', '2-1-2-0-1-0-1-3', '2-0-1-0-2-1-0-4-43', '2-0-1-0-1-3-0-4-81', '2-0-1-1-0-1-0-4-71', '2-1-2-1-2-0-0-3-24', '2-1-1-1-2-0-0-4-58', '2-1-0-0-2-0', '2-0-2-1-0-0-0-4-37', '1-1-2-1-3', '2-0-2-1-1-1-0-4-15', '2-1-1-2-1-1-0', '2-0-1-1-2-3-0-4-94', '2-0-1-2-0--1-0', '2-0-1-0-1-0-0-3-85', '2-0-2-2-1-0-0-3-5', '2-1-0-1-1--1-0-3-100', '2-0-1-1-1-0-0-3-32', '2-0-2-1-1-2-0-3-30', '1-1-1-1-2-0-0-4-50', '2-1-2-1-1-3-0-4-38', '1-0-1-1-1-0-0-3-58', '2-0-1-0-2-2-0-3-84', '1-0-1-1-2-0-0-3-23', '2-1-2-1-1-3-0-3-69', '2-1-2-0-2-3-0-4-51', '2-0-1-1-0-0-0-3-4', '2-0-2-1-1-3-0-3-38', '2-1-2-1-3-1-0-4-25', '1-1-2-2-3-1', '2-0-1-1-2-2-1-4-3', '2-1-0-1-0-0-0-3', '1-0-2-1-3-2-0-4-4', '1-0-2-1-0-2-1', '2-0-2-1-1-3-0-3-28', '1-0-0-1-3-3-0', '1-0-2-1-2-0-0-4-54', '2-0-2-0-1-0-0-3-13', '2-1-2-1-0-1-0-4-77', '2-1-1-1-2-3-0-4-31', '2-0-2-2-0-0-0-3-64', '2-0-2-1-0-1-0-3-18', '1-0-2-1-2-0-0-4-25', '2-1-1-0-3-3-0-4-51', '2-1-2-1-2-1-0-4-29', '2-0-2-1-0-2-0-4-76', '2-1-2-0-3-2-0', '1-0-2-2-2-2-0-4-87', '1-0-2-0-3-1-0-4-47', '2-0-2-0-1-2-0-3-76', '2-0-1-1-1-0-0-3-83', '2-0-1-1-2-2-0-4-1', '2-0-1-1-0-3-0-4-26', '1-0-0-0-3', '2-0-1-1-2-0-0-3-14', '1-1-1-1-2-0-0-4-3', '2-0-1-2-0-0-0-3-64', '1-1-1-2-3-0-0', '1-0-2-0-3-3-0-4-57', '2-1-2-1-1-0-0-4-19', '2-1-2-1-3-0-0-3-98', '2-0-1-1-0-3-0-4-54', '2-0-2-1-0-1-0-3-77', '2-0-1-0-2-0-0-3-44', '2-0-1-1-3-3-0-3-52', '2-1-1-1-3-2-0-4-3', '2-1-1-1-0-2-0-4-9', '1-0-2-1-2-0-0-4-35', '2-0-1-1-2-0-0-4-100', '2-1-0-1-2-1-0-3', '2-0-2-0-3-0-0-4-10', '2-0-1-1-3-2-0-4-44', '2-1-1-0-0-0-0-3-78', '2-1-2-1-0-0-0-4-13', '2-1-2-1-1-1-0-4-32', '1-0-2-1-2-1-1-3-11', '2-0-2-1-3-1-0-4', '2-1-2-0-2-0-0-4-3', '2-1-1-1-2-1-0-4-50', '1-0-2-1-3-0-0-4-96', '2-1-2-1-2-2-0-4-31', '2-0-1-1-1-2-0-4-80', '2-0-2-2-1-0-0-3-39', '2-0-2-2-0-3-0-3-5', '2-1-2-1-0-1-0-4-65', '2-0-2-0-3-1-0-4-55', '2-1-1-1-0-3-0-4-100', '2-1-1-1-0-0-0-3-22', '2-0-1-0-1-0-0-4-98', '2-0-1-1-3-1-0-4-89', '2-0-2-1-2-1-0-4-17', '2-0-0-1-1-2-0-3-40', '2-1-1-2-0-0-0-4-19', '2-0-1-1-1-2-0-3-31', '2-0-2-1-1-3-0-4-17', '2-0-1-1-1-3-0-4-56', '2-1-2-1-2-2-0-4-5', '2-1-1-1-1-0-0-3-73', '2-0-2-2-1-2-0-4-22', '1-0-1-1-3-0-0-4-86', '2-0-1-1-1-2-0-3-42', '2-1-1-1-1-1-0-4-38', '1-0-1-1-3-0-0-4-99', '2-1-1-0-3-2-0-4-44', '2-0-1-2-1-1', '2-0-1-2-1-1-0-4-10', '2-1-2-1-1-2-0-4-44', '2-0-0-1-1--1-0-2', '2-0-2-1-1-2-0-4-9', '2-1-2-1-3-0-0-3-89', '2-0-1-1-2-0-0-3-42', '2-1-2-1-0-1-0-4-39', '2-1-1-1-0-1-0-4-99', '1-0-1-0-1-1-0-4', '2-1-1-0-2-0-0-4-28', '2-0-2-1-1-0-0-4-97', '2-0-2-1-3-3-0-4-1', '2-1-1-0-2-2-0-4-18', '2-0-1-1-2-2-0-3-82', '2-0-2-1-0-0-0-4-48', '1-0-1-2-3-2-0-4-54', '2-0-1-1-0-1-0-3-34', '2-1-2-0-2-3-0-4-31', '2-1-1-0-2-1-0-3-81', '1-1-2-1-2-3-0-4-47', '1-1-2-1-1-0-0-4-100', '1-0-2-0-0-3-1-3', '1-0-1-2-3-0-0-4-41', '2-1-1-1-1-3-0-4-92', '1-1-1-1-0-0-0-3-98', '2-0-1-1-2-3-0-4-93', '2-0-1-1-0-0-0-4-65', '2-0-1-1-1-0-0-4-6', '2-1-1-0-1-0-0-4-75', '1-0-1-2-3-0-0-4-43', '1-0-2-1-2-1-0-4-54', '1-0-2-1-2-0-1-3-8', '2-0-0-1-0-0-0-3-63', '2-0-1-1-0-1-0-3-91', '2-0-2-1-1-1-0-3-68', '1-1-2-1-2-0-0-4-50', '2-0-1-1-1-3-0-4-6', '2-0-0-1-0-0-0-3-55', '2-0-2-1-2-0-0-4-32', '2-0-1-1-2-0-0-3-89', '2-1-2-0-2-1-0-3-51', '2-0-1-1-2-3-0-4-47', '1-0-1-1-3-3-0-4-43', '2-0-2-0-0-2-1-3', '2-1-0-1-2-0-0-2', '2-1-1-1-1-0-0-3-38', '2-1-1-1-3-0-0-4-91', '2-0-1-1-3-3-0-4-21', '1-1-2-1-2-3-0-4-87', '1-1-2-1-2-2-0-4-81', '2-0-1-1-3-0-0', '2-1-2-1-2-2-0-3-4', '2-1-1-0-1-1-0-4', '1-0-2-1-3', '2-0-1-0-0-0-0-4-70', '2-0-2-1-1-2-0-4-33', '1-0-0-1-1-0-0-3-54', '1-0-1-0-3-1-0-3', '2-0-0-1-0-0-0-3-35', '1-0-1-1-1-3-0-4-100', '2-0-2-1-1-2-0-3-81', '2-0-2-2-1-2-0-4-47', '2-0-2-1-0-1-0-4-14', '2-1-2-1-0-2-0-4-19', '2-1-2-1-2-2-0-4-16', '2-0-1-0-3-1-0-4-52', '2-1-1-1-0-1-0-4-25', '1-0-1-1-2-3-1-4-7', '2-1-1-1-0-0-0-4-51', '2-1-1-1-2-2-0-3-36', '2-1-2-1-1-2-0-4-38', '2-0-0-1-0--1-1', '2-0-2-0-0-2-0-4', '2-0-2-1-1-3-0', '2-1-1-1-0-1-0-4-74', '2-1-2-1-0-1-0-4-47', '2-0-2-1-0-1-1-3-2', '2-1-1-1-0-1-0-3-79', '2-0-2-0-0-1-0-3-91', '2-0-1-1-2-3-0-4-22', '1-0-2-1-3-3-0-4-11', '2-0-1-1-1-1-1-3-7', '2-1-1-1-1-2-0-3-4', '2-0-1-1-1-0-0-3-30', '2-0-2-1-1-0', '2-0-1-2-2-3-0', '2-0-2-1-0-1-1-3-6', '2-0-1-0-2-3-0-3-16', '2-0-2-1-1-2-0-4-60', '1-0-1-0-1-2-0-4', '2-1-2-1-2-2-0-4-9', '2-1-1-2-0-1-0-4-6', '2-0-2-1-1-3-0-4-19', '1-0-2-1-1-3-0-3', '2-0-1-1-1-1-0-4-29', '2-1-0-1-1-1-0-3-6', '2-0-1-1-0-0-1-4-7', '1-0-2-0-3-3-0-4-3', '2-0-2-1-1-2-0-4-4', '2-0-2-1-0-2-0-4-12', '2-0-1-1-0-3-1-4-5', '2-0-1-1-1-3-0-4-90', '2-1-1-1-0-2-0-3', '2-1-0-0-3-2-0-3', '2-0-1-0-2-0-0-3-40', '2-0-2-1-1-0-0-4-22', '2-0-1-0-0-1-0-4-91', '2-0-0-1-2-0-0-3-38', '2-1-1-0-2-2-0-3-88', '1-1-1-1-3-1-0-4-2', '2-1-2-1-3-2-0-4-97', '2-0-1-1-0--1-0-3-20', '2-0-2-1-0-1-0-4-42', '2-1-1-2-0--1-0-4-45', '2-0-1-1-1-0-0-4-38', '2-0-1-1-3-2-0-4-5', '2-0-2-1-1-3-0-3-24', '2-0-0-1-0-2-0-3-12', '2-0-2-1-3-3-0-3-54', '2-1-2-1-1-1-0-4-44', '1-0-1-2-3-2-0-4-96', '1-1-0-0-3-2-0', '2-0-1-1-0-2-0-4-4', '1-0-2-2-1-0-0', '2-0-2-2-1-0-0-4-5', '1-0-1-1-1-0-0-4-52', '2-0-1-0-2-3-0-4-82', '2-0-1-1-1-2-1-4-7', '2-0-1-1-0-3-0-4-30', '2-0-0-0-2', '2-0-1-2-0-3-0-3-71', '2-1-1-1-1--1-0-3-35', '2-0-1-1-1-0-0-4-14', '1-0-2-0-1-0-0-4-29', '2-0-1-0-2-3-0-3-35', '2-0-1-1-1-1-0-4-16', '1-0-1-1-2-3-0-4-99', '2-1-1-2-0-3-0-4-100', '2-0-0-0-0--1', '2-1-2-0-1-1-0-4-10', '2-0-2-1-2-1-0-4-85', '2-1-1-1-2-1-0-3-18', '2-0-2-1-2-3-0-3-72', '2-1-0-1-0-1-0-3-61', '2-1-1-1-1-2-1-4-3', '1-1-1-1-3-0-0-3-38', '2-0-1-1-1-1-0-4-91', '2-0-2-1-1-2-0-4-19', '2-1-1-1-1-0-0-4-2', '2-0-1-2-2-1-0-4-67', '2-0-1-1-2-2-0-4-94', '2-0-1-0-0-0-0-4-9', '1-0-1-1-1-0-0-4-49', '2-0-2-2-2-2-0-3-50', '2-1-1-1-2-0-0-3-100', '2-0-1-1-1-0-0-3-29', '1-0-2-2-2-1-0-4-99', '2-1-2-1-2-0-0-3-14', '1-0-1-1-3-2-0-4-55', '2-0-2-1-1-1-0-4-44', '2-0-2-1-1-1-0-3-19', '2-0-0-1-0-0-1', '1-0-0-1-2-1-0-3-39', '2-0-1-0-2-0-0-4-76', '2-0-2-1-1-0-0-3-98', '2-0-1-1-1--1-0-3-40', '2-0-2-1-2-2-0-3-82', '2-1-2-2-1-3-0-4-59', '2-0-2-0-2-2-1-4-8', '2-0-2-1-0-0-0-3-14', '2-1-2-1-2-1-0-3-32', '2-0-2-2-1-0-0-4-54', '2-1-1-1-3-2-0-4-7', '2-1-1-1-0-0-0-1-1', '1-1-1-1-2-2-0-1-48', '2-0-1-2-1-0-1', '2-1-2-0-1-3-0-4', '2-1-1-1-0-2-0-3-54', '2-1-1-1-2-3-0-4-20', '2-0-2-1-3-0-0-4-37', '2-1-2-1-1-0-0-4-69', '2-1-0-1-0-0-0-3-47', '2-0-1-1-0-3-1-4-1', '1-0-2-1-2-0-0-3-33', '1-1-2-0-2-3-0', '2-0-2-1-0-0-0-4-74', '1-0-0-2-2-1', '2-0-2-1-0-2-1-4', '2-0-1-1-2-2-0-2-74', '2-0-1-1-0-1-0-3-72', '1-1-2-1-2-2-0-3-12', '2-1-2-1-1-0-0-3-41', '2-0-2-1-1-0-0-4-63', '1-0-2-1-3-3-0-3-21', '2-0-1-1-1-0-0-4-7', '1-0-0-1-2-2', '1-1-2-1-3-1-1-3', '1-1-0-1-2-3-0-3', '2-0-1-1-2-0-0-3-84', '2-1-1-0-2-2-0-4-46', '2-1-1-1-2-1-0-3-35', '2-0-1-2-1-1-0-4-98', '2-0-1-0-3-3-0-3-34', '2-1-1-2-1-1-0-3-78', '2-0-2-0-0-2-0-4-9', '2-0-2-1-2-0-0-4-61', '2-0-1-1-0-0-0-4-57', '2-0-2-1-0-3-0-4-41', '1-0-1-0-0-0-0-3-98', '1-1-2-1-1-0-0-4', '2-1-2-1-1-1-0-4-52', '2-0-1-0-1-3-0-3-63', '1-1-2-1-2-0-0-4-22', '1-1-1-1-0-2-0-4-34', '2-0-1-1-2-2-0-3-22', '2-1-1-1-1-0-0-3-57', '2-0-1-0-2-3-0-3-98', '2-0-1-1-3--1-0-3-44', '1-0-0-2-3-0-0-4', '2-1-1-1-0-3-0-3-75', '2-1-2-1-2-1-0-3-19', '2-1-1-0-2-1-0-4-21', '2-0-2-1-0-0-0-3-30', '2-0-1-1-0-1-0-4-17', '2-1-2-1-0-1-0-3-8', '2-1-2-1-2-0-0-3-41', '2-1-2-0-0-2-0-4-96', '2-0-2-2-3-1-0-4-4', '2-1-1-0-1-2-0-3-44', '2-0-1-0-0-1-0-3-91', '2-0-1-1-0-2-0-4-86', '2-1-1-2-0-2-0-4-40', '2-1-1-1-0-3-0-3-73', '1-1-1-1-3-0-0-4-100', '2-1-2-1-0-3-0-4-20', '2-0-1-1-0-0-0-3-97', '1-1-0-0-0-0', '2-1-1-0-1-3-0-4-75', '2-0-1-1-2-3-0-4-37', '2-1-1-1-1--1-0-3-58', '2-0-1-1-2-2-0-4-66', '2-0-2-0-0-0-1', '2-0-1-2-0-2-0-4-79', '2-1-1-2-1-2-0-4-15', '2-1-2-1-1-3-0-4-87', '2-0-2-2-2-2-0-4-84', '1-1-1-1-1-3-0-1', '1-0-2-1-2-0-1-4-6', '2-0-1-0-0-0-0-4-91', '2-1-2-1-1-1-0-4', '2-0-2-1-0-0-0-4-78', '2-0-2-0-1-1-0-3-100', '2-0-1-2-0-3-0-3-97', '2-1-2-1-1-2-0-4-83', '1-1-2-2-2-0-0-4-60', '1-0-1-1-2-3-1-4', '2-0-1-1-0-0-0-1', '2-0-1-1-2-1-0-4-39', '2-0-2-1-0-1-0-3-100', '2-1-0-1-1-1-0', '2-0-1-0-1-2-0-4-10', '2-0-1-1-2-2-0-3-98', '1-0-1-1-2-3-0-4-39', '2-0-1-2-0-0-0-3-36', '2-0-0-2-2-0-0-4-99', '2-0-1-1-0-3-0-3-26', '2-1-2-1-0-1-0-4-26', '2-0-2-0-1-3-0-3', '2-0-1-1-0-0-0-4-62', '2-0-2-1-0-3-0-3-3', '1-0-2-1-3-3-0-3-3', '2-0-2-1-3-3-0-4-45', '2-1-2-1-3-1-0-3-25', '2-1-1-1-1-1-0-3-5', '1-0-2-1-1-0-0-4-100', '2-1-2-1-0-0-0-4-45', '2-1-2-1-3-0-0-3-9', '1-1-2-2-3-0-0-4-50', '2-0-2-2-0-1-0-3', '2-0-1-1-0-1-0-2-46', '2-1-1-1-3-0', '1-0-1-2-3-1-0-4-99', '1-0-2-2-3-1-0-4-73', '2-1-2-0-0-0-0-3-55', '1-0-1-1-1-0-0-4-98', '2-0-1-1-2-1-0-4-100', '2-1-2-0-2-0-0-4-10', '2-0-2-0-1-3-0-4-4', '2-1-1-1-1-1-0-3-16', '2-1-1-1-0-2-0-4-25', '2-0-2-0-2-3-0-3-92', '2-0-0-1-1-2-0-3-48', '2-0-1-1-2-0-1-3-5', '2-1-1-0-0-3-0-4-80', '2-0-1-0-2-0-0-3-37', '2-1-2-0-1-0-0-3-5', '2-0-1-1-1-3-0-4-78', '2-0-0-0-1-0-0', '2-0-2-1-1-0-0-3-24', '2-0-1-2-0-3-1-4-1', '2-1-2-0-0-1-0-4-96', '2-0-1-1-0-0-0-3-67', '2-1-2-1-3-1-0-3-44', '1-1-1-1-3-0-1-4-3', '2-1-1-1-0-1-0-4-38', '1-0-2-1-3-2-0-4-22', '1-1-1-0-3-2-0-3', '2-1-1-1-1-1-0-3-52', '1-1-2-1-3-0-0-3-40', '2-0-2-1-1-3-0-3-57', '2-0-2-1-1-2-1-4-1', '2-0-1-1-3--1', '2-0-2-0-0-2-0-4-31', '2-0-2-1-1-0-0-4-29', '2-0-1-1-0-1-0-3-48', '2-1-1-1-1-0-0-3-19', '2-0-1-0-0-2-0-4-45', '2-0-1-1-1-2-0-4-76', '1-0-2-1-0-0-0-3-51', '2-1-2-1-0-0-0-3-15', '2-1-1-1-3-3-0-4-8', '2-0-2-1-1-0-0-3-81', '2-0-1-1-2-1-0-4-56', '1-0-1-2-2-3', '2-0-1-0-1--1-0', '2-0-2-1-0-0-0-4-54', '2-1-1-1-0-3-0-4-39', '1-0-1-1-3-1-0', '2-0-1-1-0-3-0-4-99', '2-1-2-1-2-0', '2-0-1-1-0-0-0-4-72', '2-0-1-1-1-3-0-4-87', '2-1-1-2-0-0-0-3-81', '2-0-2-1-1-0-0-4-24', '2-0-2-0-2-0-0-3-45', '2-0-2-0-0-0-0-4-100', '2-0-0-0-2-2', '1-1-0-1-1-0-0-3', '1-0-1-1-0-1-0-4-47', '2-1-1-1-0-0-0-3-55', '2-1-2-1-2-1-0-4-98', '1-0-1-1-3-0-0-4-10', '2-0-2-1-2-0-0-3-83', '1-1-1-1-2-0-0-4-18', '2-0-2-2-1-2-0-4-10', '1-1-2-1-3-0-0-4-53', '2-0-2-2-2-3-1-4', '1-0-2-1-1-3-0-4-100', '1-0-2-2-3-0', '2-0-2-1-2-1-0-3-25', '2-1-1-1-0-3-0-4-75', '2-0-1-1-2-0-0-3-86', '1-0-1-0-3-0-0-4-20', '2-0-2-1-0-0-0-3-92', '2-1-1-0-0', '2-0-1-0-2-2-0-4-63', '2-0-2-1-0-1-0-4-27', '2-0-2-2-3-0-0-3-41', '2-1-2-1-1-1-0-4-61', '2-0-2-2-1-0-1-4-6', '2-0-2-2-2-3-0-4-10', '2-0-1-2-0-1-0-4-4', '2-0-1-2-0-3-0-4-79', '2-0-0-2-0-1-0', '2-0-2-1-2-1-0-4-39', '2-0-0-1-2-3-0-3-44', '2-0-2-1-1-0-0-3-49', '2-0-2-1-3-2-1-4-6', '2-0-2-1-0-0-0-3-80', '2-1-2-1-2-2-0-4-22', '2-1-2-1-0-0-0-4-66', '1-0-2-1-1-3-0-4-3', '2-0-1-2-0-0-0-4-73', '2-1-2-1-1-0-0-4-9', '2-1-1-2-2-1', '2-1-2-1-3-1-0-4-2', '2-0-2-1-2-3-0-3-100', '2-0-1-0-0-2-0-4-57', '2-0-1-1-0-3-0-4-85', '2-0-2-1-2-1-0-4-45', '2-0-1-0-2-2-0-4-31', '2-1-1-1-2-2-0-3-99', '2-1-1-2-0-0-0-3-32', '2-0-1-2-0-2-1', '2-0-2-2-2-1-0', '2-0-2-1-2-2-0-4-58', '2-1-2-1-0-3-0-4-52', '2-0-2-2-2-2-0-3', '2-1-2-2-1-1-0-3-17', '1-0-1-1-3-3-0-4-100', '2-0-1-1-2-1-0-4-50', '2-1-1-1', '2-0-1-1-0-1-0-4-80', '2-0-2-2-1-2-0-3', '2-0-2-1-2-3-0-3-86', '1-1-1-1-1-2-0-4', '2-1-1-0-0-0-0-3-89', '1-0-0-1-2-2-0-3-54', '2-0-1-1-0-0-0-3-41', '2-0-0-2-2-3', '2-0-2-1-1-2-0-3-63', '2-0-1-0-2-3-0-4-8', '2-1-2-1-0-0-0-4-47', '2-1-1-2-1-0-0-4-9', '2-1-1-1-2-2-0-3-39', '2-0-2-2-0-0-0-3-40', '2-0-2-0-0-2-0-3-28', '2-1-1-0-1-1-0-3-51', '2-0-1-1-1-0-0-4-54', '2-0-2-0-1-0-0-4-28', '1-0-1-1-1-2-0-4-51', '2-1-2-1-1-0-1-4-8', '2-1-2-1-0-1-0-4-33', '2-1-2-1-3-2-1-4-4', '2-0-2-0-2-2-0-3-84', '2-1-1-1-1-2-0-3-9', '1-1-2-0-2-1-0-4-60', '2-1-1-1-1-2-0-4-74', '2-1-1-0-3-3-0-4-24', '1-0-2-2-3-1-0-4-42', '2-1-0-0-1--1-0-3-40', '1-0-1-0-0-3-0-4-98', '1-0-1-1-2-3-0-4-58', '2-0-1-1-2-3-0-4-62', '2-1-1-1-2-3-0-3-55', '2-1-1-1-1-0-0-4-62', '2-1-1-1-0-2-0-3-16', '2-0-2-1-1-0-0-4-78', '2-0-1-1-2-1-0-3-75', '2-0-1-1-3-2-0-4-86', '2-0-1-0-1-0-0-3-62', '2-0-1-0-1-3-0-4-99', '2-0-2-1-3-3-1-4', '2-0-1-0-2-3-0-3-90', '2-0-1-1-1-1-0-4-62', '2-0-2-2-1-2-0-4-98', '2-1-1-0-0-0-0', '2-1-2-1-3-0-0-4-42', '2-0-2-1-2-3-0-4-10', '2-1-1-1-0-2-0-3-25', '2-0-0-1-0-0-0-3-8', '2-0-2-0-2-2-0-4-99', '2-1-2-1-3-0-0-4-3', '1-0-2-0-2-2-0-4', '2-0-2-1-0-0-0-3', '2-0-1-1-0-1-0-4-83', '1-0-1-1-3-0-0-4-95', '2-0-2-0-2-3-0-4-74', '2-0-2-0-2-1-0-4-12', '2-0-1-1-1-0-0-3-11', '2-1-1-0-2-0-0-4-54', '2-0-2-1-1-1-0-3-52', '1-0-2-1-0-0-0-4', '2-0-1-2-0-1-0-3-5', '2-1-1-1-2-0-0-4-1', '2-1-1-1-0-2-0-4-21', '2-0-2-1-0-0-0-3-66', '2-0-1-1-3-2-1-4-3', '2-0-1-1-1-1-0-3-73', '2-1-2-1-3-1-0-4-10', '2-0-1-0-1-3-0-3-41', '1-0-2-1-1-3-0-4-57', '2-1-1-0-0-0-0-4-91', '1-1-2-1-3-3-0-4-26', '2-1-2-1-1-0-0-4-78', '2-0-1-0-2-2-0-3-80', '2-0-1-1-2-1-0-4-27', '1-0-1-1-2-3-1-4-2', '2-0-1-1-2-0-0-3-75', '2-0-1-0-1-2-0-4-37', '2-0-2-0-3-1-0-4-12', '2-0-2-0-1-0-0-3-80', '2-1-1-1-3-0-0-3-46', '1-0-1-1-3-2-0-4-19', '2-0-2-1-1-1-0-4-80', '1-0-2-1-3-3-0-4-8', '2-0-1-1-2-1-0', '2-1-0-2-3-2-0-4-1', '2-0-2-0-2-2-0-3-53', '2-1-2-0-2-0-0-3', '2-1-2-1-1-1-0-4-76', '2-0-0-1-0-1-0-3-34', '1-1-1-1-2', '2-1-2-1-0-1-0-4-25', '2-0-2-2-2-3-0-4-100', '1-1-1-1-3-0-0-4-7', '2-0-1-0-0--1-0-3-98', '2-1-1-0-1-0-0-3', '2-1-1-1-0-0-0-3-10', '2-0-2-1-2-0-1-4-12', '2-1-2-1-1-1-0-4-19', '2-0-1-1-1-1-0-3-16', '2-1-2-1-0-1-0-4', '2-1-1-1-1-2-0-4-2', '2-0-1-1-3-3-0-4-52', '2-1-1-1-1-2-0-4-8', '2-0-1-2-3', '2-1-1-1-0-1-0-4-24', '2-0-2-0-1-2-0-4-82', '2-0-2-1-2-3-0-4-50', '2-0-1-0-2-3-0-3-42', '1-0-2-1-2-2-0-4-2', '2-1-0-1-2-2-0-3-30', '2-0-1-0-2-3-0-4-75', '2-1-1-1-0-0-0-4-84', '2-0-2-1-1-2-0-3-6', '2-0-0-1-0-0-0-3-100', '2-0-1-1-0-0-0-4-23', '2-1-2-1-1-0-0-3-2', '2-0-2-0-2-3-0-4-35', '2-0-2-1-1-3-0-3-25', '1-1-1-1-3-2-0-4-100', '2-1-2-0-2-0-0-3-12', '2-0-2-1-1-3-0-4-81', '2-0-1-2-3-1-0-4-1', '2-0-2-1-3-1-0-4-43', '2-1-1-0-2-0-0-4-81', '2-0-2-1-0-0-0-3-100', '2-1-2-1-3-0-0-4-89', '2-1-1-1-2-2-0-4-30', '2-1-2-1-1-0-0-3-78', '2-0-1-1-0-0-0-4-12', '2-1-2-1-0-0-0-4-80', '1-0-0-1-2-0-0-3-54', '2-0-2-0-0-0-0-3-49', '1-0-2-1-3-2-0-4-13', '2-1-2-1-0-3-0-4-45', '2-1-2-1-2-0-0-4-66', '2-0-1-0-0-3-0-4-76', '2-1-2-0-3-0-0', '2-0-2-1-1-1-0-4-67', '2-0-2-1-0-3-0-4-63', '2-0-2-1-1-2-0-4-13', '2-0-1-2-0-2-0-3', '2-0-2-1-2-0-0-4-97', '1-0-1-1-2-2-1-3', '2-0-1-0-2-0-0-3-9', '2-1-2-1-3-0-0-4-5', '2-0-1-0-0--1-0-3', '2-0-1-1-2-2-0-4-50', '2-1-2-1-1-1-0-3-62', '1-0-1-1-3-0-0-3-100', '2-0-2-2-2-0-0-4-2', '2-1-1-1-0--1-0-3-100', '2-0-1-1-3-2-0-4-46', '2-0-1-1-1-1-0-4-85', '2-1-2-0-2-0-0-4-5', '2-0-1-1-0-0-1-3-6', '2-0-1-2-2-0-0-4-80', '2-0-2-1-2-1-1-4-5', '2-0-1-1-2-0-0-3-26', '2-0-0-1-0-0-1-3-3', '2-0-2-0-1-2-0-4-62', '2-0-0-2-0-0-0', '2-1-2-1-2-1-0-3-75', '2-1-1-1-2-2-0-4-11', '2-0-2-2-2-0-0-3-68', '2-0-2-1-2-0-1-4-1', '2-0-1-1-3-1-0-3-100', '2-0-1-1-2-1-0-3-9', '2-0-2-1-3-2-0-4-17', '2-1-2-1-0-3-0-3-9', '2-1-2-1-0-3-0-3-65', '1-0-2-1-0-0-0-3-95', '2-0-2-1-1-1-0-3-83', '2-1-2-0-1-0-0-3-37', '2-0-2-1-0-2-0-4-80', '2-0-2-1-1-0-0-3-63', '2-0-1-1-2-2-0-4-27', '2-0-1-0-1-0-0-4-39', '1-0-1-2-2-0-0-4-70', '2-0-2-0-1-2-0-4-22', '2-0-2-1-2-1-0-3-47', '2-0-2-1-2-2-1-4-5', '2-0-1-0-0-2-0-3-30', '2-0-1-2-1-3-0-4-100', '1-0-1-0-0-2-0-4-51', '2-0-1-0-0-0-0-4-46', '2-0-1-1-2-1-0-4-30', '2-0-2-0-0-0-0-3-35', '1-0-1-0-1-3-0-4', '2-1-2-2-2-2-0-4-1', '2-0-1-1-0-1-0-4-45', '2-0-2-1-3-3-0-4-97', '2-0-2-1-2-1-0-4-18', '2-0-2-2-1-0-0-4-76', '2-1-2-2-2-0-0-3-76', '2-0-2-2-0-0-0-4-13', '2-1-1-1-0-0-0-3-80', '1-0-0-1-0-0-0-3-97', '2-0-1-0-3-1-0-3', '2-0-1-0-3-0-0-3-11', '2-0-0-0-0-0-0-3-65', '1-0-2-2-3-1-0-4-36', '1-0-2-1-3-3-0-4-17', '2-1-2-1-0-2-0-4-71', '1-0-2-1-3-0-0-4-100', '2-0-2-1-0-1-0-4-26', '2-0-2-1-2-2-0-3-9', '2-0-1-1-2-2-0-3-41', '1-0-2-1-0-0-0', '1-0-1-1-2-2', '2-1-1-1-2-1-0-4-18', '2-1-2-1-0-1-0-4-69', '1-1-1-1-3-0-1', '1-0-2-1-3-0-0-4-37', '2-0-1-0-2-2-0-3-45', '2-1-1-2-0-0-0-3-6', '2-1-2-1-0-1-0-4-41', '2-0-2-0-2-2-0-4-18', '2-1-2-1-2-0-0-3-81', '2-1-2-1-2-3-0-4-3', '2-1-1-1-3-3-0-3-66', '2-1-1-1-1-1-0-3-36', '2-0-0-1-2-1-0-3', '2-0-2-1-1-3-0-4-77', '1-0-1-1-3-3-0-4-29', '1-1-2-1', '1-1-1-1-2-2-0-4-61', '2-0-2-1-1-0-0-3-40', '2-0-2-1-2-0-0-3-28', '2-0-1-1-2-1-0-4-89', '1-0-1-1-3-3-0-4-20', '2-0-2-1-1-3-0-4-95', '2-0-1-1-3-3-0-3-93', '2-1-1-0-1-2-0-4-11', '2-0-1-1-2-1-0-4-69', '2-0-2-1-0-2-0-4-30', '2-0-1-1-0--1-0-3-38', '2-0-1-1-2-3-0-4-82', '1-1-0-1-0-0-0-3-99', '2-1-1-0-3-3-0-4-22', '2-0-2-1-0-0-0-4-75', '2-0-2-1-3-3-0-3-90', '2-1-1-1-2-0', '1-1-1-1-2-0-0-4-47', '1-0-2-1-2-0-0-3-54', '2-1-1-1-1-3-0-4-52', '1-0-1-1-3-1-0-4', '2-0-1-1-1-1-0-3-19', '2-1-1-1-2-3-0-4-16', '2-1-2-1-3-0-0-3-42', '2-0-1-0-2-0-0-4-7', '1-1-2-1-3-3-0-4-6', '2-0-2-0-3-3-0-3-22', '2-1-1-0-0-1-0-3-80', '2-1-2-1-1-2-1-3', '2-1-2-1-2-3-0-3-36', '2-0-1-1-2-2-0-4-74', '2-1-1-1-3-2-0-4-42', '2-1-2-0-1-0-0-3-45', '2-0-2-2-0-1-0-4-37', '1-1-1-1-2-1-0-4-29', '2-1-2-1-0-3-0-4-100', '2-0-1-0-2-1-0-4-37', '2-1-1-1-0-3-0-4-37', '2-0-1-2-1-0-0-4-3', '2-0-1-1-0-0-0-3-28', '2-0-1-1-2-3-0-3-9', '2-1-1-1-3-0-0-4-39', '2-1-2-1-2', '2-0-2-1-0-2-1-3-4', '2-1-1-1-2-1-0-4-69', '2-1-1-2-0--1', '1-0-2-2-3-3-0-3', '2-1-2-1-3-0-0-4', '2-0-1-1-0-3-0-4-62', '2-0-1-1-1-0-0-4-76', '2-0-1-0-1-0-0-3-42', '2-0-1-1-0-2-0-4-74', '2-0-2-2-1-3-0-4-43', '2-0-1-1-1-2-0-4-19', '2-1-2-1-1-3-0-4-99', '2-0-1-0-0-2-0-3-32', '2-1-2-1-1-1-0-4-43', '2-1-2-2-2-3-0-3-24', '1-0-2-0-3-1-0-4-3', '2-1-1-1-0-2-0-4-61', '2-0-2-0-1-2-0-4-85', '2-0-2-1-2-2-0-4-52', '2-1-1-1-1-2-0-4-23', '2-0-2-2-3-0-0-4', '2-0-2-1-1-1-0-4-99', '1-0-2-1-1-2-0-4-3', '2-1-2-1-2-3-0-4-68', '2-1-2-2-3-1-1-3', '2-0-1-1-2-0-0-4-51', '2-1-1-0-2-3-0-2', '2-1-2-1-2-1-0-4-17', '2-1-2-2-3-2-1-3-2', '2-0-2-1-2-2-0-3-42', '2-0-1-1-0-1-0-4-54', '2-0-0-1-2-1-0-3-93', '2-0-1-1-0-3-0-4-66', '2-1-2-1-3-0-0-4-91', '1-0-1-2-3-0-0-4-73', '2-0-2-1-0-3-0-4-5', '2-0-2-1-1-1-0-4-26', '2-1-2-0-1-2-0-4-44', '2-1-1-0-0-0-0-3-37', '1-0-0-1-3-2', '2-0-1-1-1-1-0-3-33', '2-0-1-1-1-1-0-4-64', '1-0-1-1-3-2-0-4-33', '2-1-1-0-2-0-0-4-66', '2-1-1-2-1-2-0-4-100', '2-0-1-0-1-2-0-4-63', '2-1-2-1-0-0-0-4-92', '1-0-1-1-2-3-0-4-73', '2-0-2-0-1-2-0-4-75', '2-1-2-1-0-1-0-4-44', '1-1-2-1-2-0-0-3-35', '2-0-2-2-0-2-0-4-63', '2-0-2-0-2-3-0-3-79', '2-1-1-1-2-1-0-4-42', '2-0-1-1-1-0-0-4-10', '1-1-2-1-0-0-0-4-34', '1-1-2-1-2-0-0-4-51', '2-0-1-1-1-2-0-4-54', '2-0-1-1-1-2-0-4-70', '2-0-1-0-0-3-0-4-34', '2-0-2-2-0-0-0-4-34', '2-0-2-2-2-0', '1-0-1-1-3-1-0-3-43', '2-0-1-0-1-1-0-4-6', '2-1-1-1-2-2-0-4-80', '1-1-1-0-0-0-0', '2-0-2-0-1-0-0-3-14', '2-1-2-1-1-2-0-4-1', '2-0-1-1-1-0-0-4-57', '2-0-2-1-2-3-0-4-35', '2-0-1-1-1-2-0-4-57', '1-0-2-1-1-3-0-3-52', '2-0-0-1-2-0-0-3-67', '2-0-2-1-0-0-0-4-40', '2-1-1-1-1-2-0-3-99', '2-0-1-1-0-2-0-3-55', '1-0-1-1-3-2-0-4-14', '2-1-1-2-1-3-0-4-18', '2-0-1-1-0-2-0-4-55', '1-0-2-2-0-3-1-4-1', '2-0-1-1-1-2-0-4-73', '1-0-1-1-2-3-0-4-4', '2-1-2-2-0-1-0', '1-0-1-0-2-2-0', '2-1-1-1-2-2-0-4-29', '1-0-1-1-3-1-0-4-95', '2-0-2-0-0-2-0', '2-0-1-1-0-0-0-3-69', '2-1-1-1-0-1-0-3-14', '2-0-2-0-2-2-0-4-24', '1-1-1-1-3-3-0-3-14', '1-0-2-1-2-0-0-3-71', '1-0-1-1-2-3-1-4-6', '2-1-1-1-2-2-0-4-39', '2-0-2-1-0-3-0-4-95', '2-0-0-2-0-1-0-3-19', '2-1-2-0-1-2-0-4', '1-0-2-2-3-1-0-4', '1-0-1-1-3-1-0-4-58', '2-0-1-2-0-0-0-3-3', '2-1-1-0-0-1-0-4-79', '2-1-2-0-1-3-0-4-1', '2-1-2-0-0-1-0-4-32', '2-1-2-1-2-1-0-4-15', '2-0-1-1-0-1-0-4-77', '2-0-0-1-2-3-0-3-59', '1-0-1-2-3-3-0-4-5', '1-0-1-1-0-3-0-4', '1-0-2-1-3-1-0-3-98', '2-0-2-2-1-2-0-4-33', '1-0-2-1-2-2-0', '2-0-2-0-1-2-0-4-63', '1-1-1-1-2-1-0-4', '1-1-2-1-2-3-0-3-24', '2-0-1-1-2-0-0-3-33', '2-0-2-0-2-0-0-3-61', '2-1-2-1-1-0-0-3-18', '2-1-2-2-2-2-0-3-46', '2-1-1-1-2-3-0-4-7', '2-0-1-0-1-1-0-4-45', '2-1-2-0-1-2-0-3-37', '2-0-2-1-1-0-0-3-30', '2-0-2-1-1-1-0-4-87', '1-1-2-1-0-0-0-4-40', '2-0-2-2-1-3-0-4-99', '2-1-2-1-1-0-1', '2-0-2-0-1-2-0-4-47', '2-0-2-0-1-2-0-4-70', '1-0-2-2-1', '2-0-2-1-2-0-0-4-31', '2-0-1-0-1-0-0-3', '1-1-2-1-2-3-0-3-86', '2-1-2-1-1-1-0-4-18', '2-0-1-1-0-1-0-3-96', '2-0-1-2-0-0-0-3-31', '2-1-1-1-2-0-0-4-32', '2-0-2-0-2-3-0-4-100', '2-1-2-1-3-3-0-3', '1-0-2-1-1-2-0-4-50', '2-1-1-0-2-2-0-4-8', '1-0-1-1-2-0-0-4-4', '2-0-0-1-2-3-0-3-99', '1-1-1-0-3-0-1-4-4', '2-1-1-1-0-2-1-3', '2-1-1-1-2-2-0-4-91', '2-0-2-1-3-0-0-4-86', '2-0-2-0-0-2-0-4-30', '2-0-0-1-1-0-0-3-48', '2-0-2-1-2-2-1-4-10', '2-1-1-1-1-1-0-4-4', '2-0-2-1-0-0-0-4-44', '2-0-2-2-3-1-0-4-2', '2-1-2-0-2-0-0-3-51', '2-0-1-2-0-0-0-3-33', '2-1-2-1-1-1-0-4-21', '2-1-1-1-0-0-0-3-65', '2-1-1-2-3', '2-0-1-1-0-2-0-4-13', '2-0-2-0-1-3-0-4-58', '2-0-1-0-2-0-0-3-17', '2-0-2-0-1-3-0-4-70', '1-0-2-2', '1-0-2-0-3-3-0-3-31', '2-0-1-2-1-0-0-4-68', '2-1-1-0-1-1-0-4-6', '2-0-1-0-0-3-0-3-76', '2-1-1-0-2-2-0-4-88', '1-0-1-0-0', '2-1-1-2-2-1-0-4-54', '2-0-2-1-2-1-0-3-94', '2-1-1-0-2-2-0-4-63', '2-0-1-1-3-1-1-3', '1-0-2-0', '2-0-2-1-3-1-0-4-32', '1-1-1-1-3-0-0-4-19', '2-0-2-2-2-0-0-4-78', '2-0-1-0-3-3-0-4-56', '2-0-1-0-3-0-0-4-6', '2-1-1-1-2-2-0-4-66', '2-1-1-1-1-3-0-3-17', '2-0-1-0-2-2-0-4', '2-0-2-0-1-3-0-3-59', '2-1-2-1-3-1-0-4-6', '1-0-1-1-3-0-0-4-62', '2-1-2-1-0-1-0-4-59', '2-0-0-1-1-2-0-3-46', '1-0-2-1-3-1-0-3-23', '2-0-2-0-2-3-0-4-40', '2-1-2-1-2-1-0-4', '2-0-1-1-2-1-0-3-96', '2-1-1-1-1-0-0-4-79', '2-1-1-2-0-', '2-1-1-1-0--1-0-3-38', '2-1-2-1-0-0-0-3-26', '2-0-1-0-2--1-0-3-40', '2-0-2-2-0-2-0-3-25', '2-1-1-1-0-3-0-4-53', '2-0-1-0-0-0-0-4-74', '2-0-1-1-0-2-0-4-11', '1-0-1-1-3-0-0-4-17', '2-0-2-1-2-1-0-3-49', '2-0-2-0-1--1-0', '2-1-2-1-1-1-0-3-10', '2-1-1-2-2-3-0-3-11', '1-1-2-1-0-3', '2-0-1-0-2-0-0-4-17', '2-0-1-1-0--1-0-3-33', '2-0-1-1-1-3-0-4-85', '1-0-2-2-2-1', '2-0-2-2-1-0-0-4-35', '1-0-0-1-3-0-0-3-61', '1-1-2-1-0-3-0-3-40', '2-1-2-2-1-3-0-4-39', '1-0-2-0-0-3-1', '1-0-0-1-2-2-1-3', '2-0-1-1-2-0-0-3-7', '2-0-2-1-1-2-0-3-33', '1-0-1-1-2-2-1-3-3', '2-0-1-1-2-0-0-4-4', '2-0-2-1-2-2-0-3-24', '2-0-2-0-0-3-0-4-98', '2-0-2-2-0-3-0-4-97', '2-0-1-1-3-0-0-4-86', '2-0-2-0-1-2-0-3-59', '2-0-0-2-1-1', '2-0-2-1-2-2-0-4-17', '2-0-2-2-2-0-0-3-47', '2-1-1-1-1-0-0-3-33', '2-0-0-1-0-3-1-3', '1-0-1-1-2-0-1', '1-0-2-2-3-2', '2-0-2-0-1-0-0-3-86', '2-0-2-1-3-3-0-3-47', '2-0-1-1-3-0-0-4-48', '2-0-1-1-2-2-0-3-18', '2-1-2-0-0-1-0-4-93', '2-0-2-0-1-2-0-4-98', '2-1-2-2-2-3-0-4-1', '1-0-1-0-1-1-0', '2-0-2-1-2-1-0-4-38', '2-0-1-1-2-2-0-4-32', '2-1-1-2-2-0-0-3-19', '2-0-2-1-3-2-0-4-52', '1-0-1-1-2-0-0-3-82', '2-1-1-1-1-0-0-3-74', '2-0-1-1-1-0-0-4-24', '2-0-1-1-2-1-0-3-38', '2-1-1-0-2-0-0-4-67', '2-0-2-1-1-2-0-3-100', '2-0-1-0-0-', '2-0-2-0-2-2-0-4-76', '2-1-1-0-2-0-0-4-34', '2-0-1-1-2-1-1-4-5', '2-1-1-0-2-1-0-3-53', '2-1-2-1-1-0-1-3-7', '2-0-1-1-2-3-0-3-2', '1-0-1-1-3-0-0-4-24', '1-1-0-1-2-0-0', '2-0-0-1-1-1-0-3-69', '2-0-2-1-0-0-0-3-8', '1-0-2-1-3-3-0-3-62', '2-1-1-0-2-2-0-4-82', '2-1-0-1-1-2', '1-1-1-1-1-0-0-4', '2-0-2-2-0-3-0-4-80', '2-0-2-2-0-1-0-4-71', '2-0-1-1-1-0-0-4-5', '2-1-2-0-1-0-0-4-18', '2-1-1-0-1-2-0', '2-0-1-1-2-0-0-4-99', '2-0-2-1-1-0-0-4-7', '2-0-1-2-0-3-0-4-67', '2-1-1-0-1-1-0-4-20', '2-1-2-1-2-2-0-3-15', '1-0-1-0-3-3-0-4-13', '2-1-1-2-1-0-0-3-22', '1-1-0-1-0-1-0', '2-0-0-2-0--1-0-4', '1-0-1-1-2-2-0', '2-1-1-1-0-0-0-4-5', '1-0-0-0-1-0-0-3-52', '2-1-1-0-2-0-0-4-8', '2-1-1-1-0-0-0-4-88', '2-1-1-1-0-3-0-4-77', '2-1-1-1-2-3-0-3-69', '2-1-2-1-2-0-0-4-98', '2-0-1-0-1-0-0-4-17', '1-0-1-1-3-2-0-4-39', '1-1-1-1-2-3-0-4-88', '2-0-1-1-2-3-0-4-77', '2-0-1-1-1-2-0-3-59', '2-0-2-1-1-0-0-3-43', '2-0-1-1-1-0-0-4-63', '2-1-0-2-0-0-0-4-37', '2-0-2-1-1-2-0-3-58', '2-0-1-1-0-1-0-4-68', '1-0-2-1-3-2-0-4-19', '2-0-1-1-2--1-0-3-63', '2-0-2-0-1-3-0-4-82', '2-0-1-1-1-1-0-3-83', '2-0-0-2-1-1-0-3', '2-1-2-1-2-2-0-3-3', '2-0-2-2-1-3-0-4-8', '2-0-2-0-0-2-0-4-60', '1-1-2-1-2-3-0-4-24', '2-1-2-1-2-3-0-3-21', '2-1-2-2-2-3-0-4-99', '2-1-1-1-2-2-0-4-99', '2-1-2-0-1-1-0-4-18', '2-0-0-1-1-3-0-3-11', '2-0-2-2-2-1-0-3-76', '2-1-1-1-0-1-0-4-7', '2-0-2-1-1-1-0-4-32', '2-1-1-1-1-1-0-4-98', '2-1-1-0-2-1-0-3-79', '2-0-1-2-1-0-0-4-7', '1-1-2-1-3-0-0-4-50', '2-0-1-1-2-2-0-4-88', '1-1-1-1-0-3-0-4', '2-0-1-1-1-0-0-4-52', '2-0-0-1-3-3-0-3-3', '2-1-0-1-0--1', '2-1-2-1-3-0-0-4-99', '2-0-2-0-0-1-1-4-3', '1-1-2-1-2-1-0-4-60', '2-0-1-0-2-1-0-3-100', '2-0-0-1-2-1-0-3-14', '2-1-1-2', '2-0-1-1-2-3-0-4-88', '2-1-1-1-2-2-0-3-49', '2-0-1-1-1-0-0-3-65', '2-0-1-0-3--1', '2-0-2-1-1-1-0-4-31', '2-0-1-0-1-1-0-4-59', '2-1-0-2', '2-0-1-1-0-2-0-4-100', '2-1-1-1-2-1-0-3-68', '1-0-2-2-3-3-0-4-76', '2-1-2-1-3-1-0-4-5', '2-0-1-1-1--1-0-3-41', '2-0-2-1-2-2-0-3-74', '2-0-2-1-1-0-0-3-50', '2-0-0-1-2-1-0-2-100', '1-0-2-1-3-3-0-3-19', '2-1-2-2-1-0-0-4-35', '2-1-2-1-1-1-0-4-71', '2-1-2-1-2-2-0-3-38', '2-0-1-1-0-3-1-3', '2-0-2-0-1-0-0-4-5', '1-1-2-1-3-3-0-4', '2-0-2-1-2--1-0-3-100', '1-0-1-1-2-2-1-4-6', '2-0-2-1-1-1-0-4-34', '1-0-2-1-2-3-1-3-10', '1-1-1-1-2-0-0-4-53', '1-0-0-1-2-1-0-3-78', '2-1-1-1-0--1-0-4-12', '2-0-2-0-0-0-0-4-9', '2-0-1-0-1-3-0', '2-1-1-1-0--1-0-4', '2-1-2-2-2-3-0-4-24', '1-0-2-1-0-0-0-4-49', '2-0-2-1-1-2-0-4-2', '2-1-2-1-0-2-0-4-65', '2-1-2-2-2-2', '2-1-1-2-2-3-0-3-1', '2-1-0-1-2-3-0', '2-0-2-1-3-1-0-3-21', '2-0-1-1-0-1-0-3-78', '2-1-1-1-0-2-0-4-35', '2-0-2-1-1-3-0-4-67', '1-0-0-1-0-0-0-3-99', '1-1-1-1-2-0-0-4-43', '2-0-1-1-0-1-0-4-4', '1-1-2-1-3-1-0-4-21', '2-0-2-2-1-1-0-4-22', '2-0-1-0-2-2-0-4-39', '2-0-1-1-2-3-0-4-55', '2-0-1-0-1-3-0-4-27', '2-1-2-2-0-0-0-3-36', '1-0-2-0-3-1-0-4-35', '2-0-0-1-3-1-0-3', '2-0-2-1-1-1-1', '2-0-2-1-1-0-0-4-66', '2-0-2-2-0-1-0-4-96', '2-0-2-1-0-0-0-4-57', '2-0-2-0-1-2-0-4-61', '2-1-1-2-1-1-0-3-5', '2-0-1-1-2-0-0-4-83', '2-0-1-1-0-3-0-4-25', '2-0-1-0-2-2-0-4-77', '2-0-2-1-1-1-0-4-28', '2-0-2-1-2-1-0-4-52', '2-0-1-1-0-0-0-3-61', '2-1-2-1-1-0-0-4-44', '2-0-1-0-1-0', '2-0-0-1-2-2-0-3-18', '2-0-2-1-1-0-0-3-7', '2-0-2-1-3-1-0-4-33', '2-1-2-1-0-0-0-4-22', '2-0-2-1-3-2-0-4-2', '2-0-1-1-0-0-0-3-18', '2-0-1-0-0-0-0-4-26', '2-0-1-0-0-1-0-4-85', '2-0-2-0-2-1-0-4-99', '2-0-2-1-1-0-0-3-67', '2-0-2-1-2-1-0-3-12', '2-1-1-0-1-2-0-4-41', '1-0-1-1-1-3-0-4-99', '2-1-2-0-0-2-0-4-83', '2-0-2-1-0-3-1-3-1', '1-0-1-1-0-1-0-4-45', '2-1-1-0-0-0', '2-0-1-0-1-0-0-4-47', '2-1-1-1-1-1-0-4-67', '2-1-1-1-1-1-0-4-81', '2-0-2-0-2-1-0-4-50', '2-0-2-1-0-0-0-3-47', '2-0-1-1-1-1-0-3-9', '2-0-1-1-2-2-0-3-25', '2-0-1-0-1-1-0-3-93', '2-0-1-0-2-2-0-4-41', '2-1-2-1-0-1-0-4-72', '2-0-1-1-1-0-0-4-67', '2-1-2-1-2-0-1-4-7', '2-1-1-0-1-3-0-4-42', '2-0-1-0-2-2-0-3-63', '2-1-2-2-0-3-0', '2-1-2-1-0-3-1-3-4', '1-1-2-1-2-3', '2-1-2-1-0-2-0-3-26', '2-1-2-1-3-3-0-3-42', '2-0-1-1-0-1-0-4-91', '2-0-2-1-0-3-0-3-45', '2-0-2-2-1-2-0-4-15', '2-1-2-1-1-0-0-4-100', '2-1-1-1-1-2-0-4-24', '2-1-1-1-2-2-0-4-62', '2-1-2-1-2-2-0-4-87', '2-0-1-0-3-1-0-4-76', '2-0-1-1-2-3-0-3-68', '1-1-1-0-2-3-0-3-62', '2-0-1-0-2-2-1', '2-0-1-0-0-1-0-4-33', '2-0-2-2-0-1-0-4-93', '2-0-2-0-2-0-0-4-98', '2-1-1-0-2-0-0-3-92', '2-1-2-1-1-0-0-4-81', '1-1-1-1-0-2', '2-0-2-0-1-2-0-3-9', '1-1-1-1-3-2-0-4-45', '1-0-2-1-3-1-0-4-71', '2-0-1-0-2-0-0-4-41', '2-1-2-1-0-1-0-3-37', '2-0-1-0-2-3-0-3-62', '2-1-1-1-1-3-0-4-40', '2-1-1-1-2-3-0-3-50', '1-0-2-1-3-1-0-4-60', '2-1-2-0-2-1-0-4-19', '2-1-2-1-2-2-0-3-13', '2-1-1-1-0-1-0-3-51', '2-0-1-1-2-1-0-3-1', '2-1-2-1-2-2-0-3-7', '2-0-1-1-2-2-0-4-28', '2-0-1-0-3-1-1', '1-0-1-1-2-0-1-4-4', '2-0-1-2-1-1-1', '2-1-2-1-2-0-0-4-68', '2-0-2-1-1-1-0-4-30', '2-1-2-0-2-1-0-3-54', '2-0-2-1-1-3-0-3-44', '2-0-1-1-3-3-0-3-37', '1-0-0-1-2-0-0-3-41', '2-0-1-0-2-0-0-3-85', '2-0-2-2-2-0-0-4-47', '2-0-1-1-0-0-0-3-2', '2-1-2-0-3-1-0-4-54', '2-0-1-0-2-0-0-4-75', '2-0-2-1-0-0-0-3-23', '2-1-2-1-0-2-0-4-27', '1-0-0-1-3-0-0-4', '2-0-1-1-0-1-0-3-76', '2-0-2-0-3-0-1', '2-0-1-2-1-0-0-4-37', '2-0-1-0-2-0-0-3-11', '2-1-2-1-2-1-0-4-55', '2-0-2-0-1-0-0-3-65', '2-0-1-0-2-1-0-4-13', '2-0-2-0-1-0-0-4-1', '1-0-2-0-3-0-0-3', '1-0-2-1-3-3-0-4-19', '2-0-2-1-0-1-0-4-100', '2-0-2-1-2-0-0-4-57', '2-1-2-1-0-0-0-4-50', '2-1-1-1-2-1-0-4-36', '2-0-1-1-0-0-0-4-81', '1-1-2-1-3-1-0-3-42', '2-0-2-1-3-2-1-4', '2-0-1-1-3-3-1-4-2', '2-0-2-1-0-1-0-4-62', '1-1-2-1-3-2', '1-0-1-1-0-2-0', '2-0-2-0-2-3-0-4-11', '2-0-1-1-1-1-0-3-38', '2-1-1-2-0-0-0-3-71', '2-1-0-1-2-1-0-3-34', '2-1-2-1-1-3-0-4-3', '2-0-2-1-1-3-0-4-6', '1-0-1-1-3-3-0-3-25', '2-0-1-1-2-3-0-4-40', '2-1-1-1-2-3-0-4-22', '2-0-1-1-0-1-0-4-34', '2-0-1-0-1-3', '2-1-1-2-1-0-0-3-39', '2-1-2-1-2-0-0-4-76', '2-0-2-1-2-3-0-4', '2-0-1-1-2-3-0-3-41', '2-1-2-1-3-2-0-4-10', '2-0-1-0-3--1-1-3-3', '2-0-0-1-1-0-0-3-27', '2-0-2-1-3-1-0-4-41', '2-0-1-1-1-2-0-3-79', '2-1-1-1-2-3-0-4-82', '2-1-1-1-1-2-0-4-1', '1-1-1-1-1-3', '2-0-1-1-2-2-0-3-13', '2-0-1-0-0-1-0-3-96', '1-0-2-0-1-3-0-3', '2-0-2-0-1-1-0-4-30', '2-1-2-0-1-0-0-4-7', '2-0-1-1-1-1-0-4-61', '2-0-1-1-2-3-0-3-55', '2-1-1-2-2-0-0-4-20', '2-1-2-1-3-1-0-4-52', '1-1-2-1-3-2-0-4-18', '2-0-1-0-0-2-0-4-35', '2-1-2-1-0-2-0-4-81', '2-1-2-0-0-0-0-4-21', '2-0-1-1-2--1-0-3-45', '2-1-2-1-2-3-0-4-82', '2-0-1-1-2-0-0-3-46', '2-0-2-0-1-0-0-3-71', '1-0-1-1-3-0-0-3-4', '2-0-1-1-2-2-0-4-14', '2-1-1-1-1-3-0-4-82', '2-1-0-1-1-0-0-3-6', '2-1-1-1-2-2-0-4-46', '2-0-2-1-3-0-0-4-39', '2-0-1-0-2-3-0-4-86', '1-0-1-1-2-0-0-3-21', '2-1-1-1-2-1-0-4-99', '2-1-2-1-0-2-0-3-22', '2-0-2-2-2-0-0-4-4', '2-1-2-1-0-2-1-3', '2-0-2-1-2-3-0-3-95', '2-0-1-1-1', '2-0-2-1-1-0-0-4-27', '2-0-2-1-3-0-1-4-8', '2-1-1-1-1-0-0-4-82', '2-1-2-1-2-3-0-3-37', '2-0-2-1-0-0-0-4-21', '2-0-1-0-1-2-0-3-80', '2-0-2-2-2-2-0-4-48', '1-0-2-1-3-1-0-4-10', '2-1-2-1-0-2-0-4-76', '1-0-1-1-3-0-0-4-13', '1-1-2-1-3-3-0-3-24', '1-1-1-1-2-0-0-3-50', '2-0-2-0-0-1-0-4-68', '2-1-2-1-2-0-0-4-14', '2-0-2-0-1-2-0-4-76', '2-1-1-0-0-1-1', '2-1-2-1-2-0-0-4-70', '1-0-1-1-2-0-0-4-63', '2-1-2-1-1-1-0-1-49', '2-1-1-0-0-1-0-4-93', '1-1-2-1-3-3-0-4-9', '1-0-1-0-3-3-0-4-18', '2-1-1-1-2-2-0-3-91', '2-0-2-1-1-0-0-4-92', '1-0-0-1-2-0-0-3-85', '1-1-2-1-2-3-0-4-79', '2-0-1-0-2-0-0-4-50', '2-1-0-1-1', '2-0-2-1-2-2-0-4-33', '2-0-1-1-1-1-0-3-5', '2-1-2-0-1-3-0-3-99', '1-0-2-1-3-0-0-4-98', '2-1-2-1-2-2-0-4-59', '2-0-0-1-1-0-0-3-74', '2-0-2-0-2-1-0-4-45', '1-0-2-1-2-3-0-4-72', '2-0-1-1-0-0-0-3-60', '1-0-1-1-3-1-0-4-57', '2-1-1-1-0-0-0-3-6', '2-0-2-0-1-1-0-3-99', '2-0-1-0-1-1-0-3-55', '2-0-2-1-0-2-0-3', '1-0-1-1-1', '1-0-2-1-3-0-0-4-3', '2-1-2-1-0-1-0-4-43', '2-0-2-0-1-2-0-4-23', '2-0-0-1-0-1-0-3-22', '1-0-1-0-3-1-0-3-12', '2-0-0-1-2--1-0-3', '2-0-1-1-1-0-0-4-15', '1-0-1-0-3-0-0-3-49', '2-0-1-0-2-0-1-3-1', '2-1-2-1-0-0-0-4-35', '2-1-1-0-0-1-0-3-56', '2-1-2-1-2-3-0-3-56', '1-0-0-1-2-0-0-3-23', '2-1-1-0-1-1-0-3-1', '2-0-1-0-3-0-0', '2-1-1-1-0-3-0-4-15', '2-0-1-1-0-0-0-1-64', '2-0-2-0-1-3-0-3-14', '2-0-1-1-2-2-0-4-31', '2-0-2-2-1-1-0-4-44', '2-1-1-1-0-2-0-4-37', '1-1-2-2-2-0-0', '2-1-2-2-1-2-0-4-3', '2-1-2-0-1-0-0-4-41', '2-0-1-0-2-1-0-3-49', '2-1-0-1-0-1-0-3-71', '2-0-1-1-1-0-0-4-3', '2-0-1-0-2-0-0-4-5', '2-0-2-1-1-1-0-4-45', '2-1-1-1-2-0-0-4-42', '2-1-1-1-0-0-0-4-8', '2-1-1-1-0-0-0-4', '2-1-1-1-2-2-0-4-100', '1-0-0-1-0-0-0-3-55', '2-0-0-1-1-2-0-3-43', '2-0-2-1-1-2-0-4-27', '2-0-1-2-1-2-1', '2-1-1-1-1-2-0-3-96', '2-0-1-1-0-2-0-3-84', '2-0-2-1-0-2-0-4-45', '1-0-0-0-0-0-0', '1-0-2-1-1-3-0-4-99', '2-1-1-1-2-2-0-3-100', '1-0-1-1-0-1-1-4', '1-0-1-1-3-0-0-4-100', '1-1-1-0-2-0-0-3-52', '2-0-2-1-1-2-0-4-15', '1-1-2-1-2-0-0-3-62', '2-1-1-1-0--1-0-3-53', '2-1-2-0-3-1-0-4', '2-0-2-1-2-1-0-3-36', '1-0-1-1-3-2-0-3', '2-0-2-1-0-1-0-4-16', '1-0-2-1-0-2-0-4', '1-0-2-1-2-1-0-4-88', '2-1-2-1-0-0-0-3-37', '2-1-2-2-1-0-0-4-6', '2-0-2-2-0-0-0-2', '2-1-2-1-2-0-0-4-31', '2-1-1-1-1-1-0-4-58', '2-0-1-0-1-0-0-3-55', '1-0-1-0-3-0-0-3-1', '2-0-1-1-0-0-0-3-100', '2-1-1-0-2-1-0-4-6', '2-0-2-1-1-3-0-3-43', '1-0-1-0-0-1-0-3-98', '1-1-2-1-3-3-0-4-99', '1-0-2-1-2-1-0-3-64', '2-1-2-1-2-0-0-3-65', '1-1-2-1-3-2-0-4-26', '2-0-1-1-1-3-0-4-73', '2-1-2-1-0-0-1-4-4', '2-1-1-0-1-1-0-4-36', '2-0-1-1-2-0-0-4-34', '2-1-1-2-2-0-0-4-1', '2-0-1-2-0-2-0-4-3', '2-1-2-1-2-0-0-4-15', '2-0-2-2-2-0-0-3-84', '2-0-1-1-1-3-0-4-10', '1-1-2-1-3-1-0-4-40', '2-0-1-2-2-0-0-4-39', '2-0-2-0-1-0-0-3-3', '2-0-1-0-1-3-0-3-99', '2-0-1-1-2-1-0-4-18', '1-0-2-1-2-3-0-3-88', '2-1-2-1-3-0-0-3-5', '2-0-1-1-0-0-0-4-69', '2-0-1-1-0-0-0-4-36', '2-1-1-1-0-2-0-4-43', '2-0-1-0-1-0-0-3-63', '2-1-1-1-2-1-0-3-31', '1-0-2-1-2-1-0-4-70', '2-0-2-2-2-1-0-4-46', '2-0-1-2-0-2-0-4-6', '1-1-2-1-0-1-0-4-40', '2-0-1-0-0-0-0-4-54', '2-1-0-1-3-0-0', '2-1-2-1-3-2-0-4-31', '2-0-1-1-2--1-0-3-56', '1-1-2-1-3-0-0-4-18', '2-1-2-0-3-1-0-3', '1-0-0-1-2-0-1-3-6', '2-0-1-2-2-2-0-4', '1-0-2-1-3-2-0-4-29', '2-0-2-1-1-1-0-4-92', '2-0-1-1-2-3-0-3-98', '2-0-1-2-2-1-0-3-76', '2-1-2-0-1-1-0-4-42', '2-1-1-0-2-2-0-3-77', '2-0-1-0-1-1-0-4-39', '2-0-1-1-0--1-0-3-78', '2-0-2-1-1-2', '1-1-1-1-2-1-0-4-61', '1-0-1-2-1-1-0-3', '2-0-1-0-2-2-0-4-97', '2-0-2-1-0-0-0-4-11', '2-0-2-1-2-0-1-3', '2-0-1-0-1-2-0-3-45', '2-0-1-1-0-1-0-4-8', '2-0-2-0-2-0-0-4-92', '2-0-1-0-2-3-0-3-86', '2-0-1-1-3-2-0-4-41', '2-0-2-1-1-3-0-4-100', '2-1-1-0-1-1-0-3-64', '2-0-1-1-0-1-0-3-35', '2-0-2-0-2-3-0-4-53', '2-0-2-0-2-3-0-4-79', '1-0-1-1-0-2-0-4', '2-1-1-1-2-1-0-4-62', '2-0-1-1-1-2-0-3-46', '1-0-2-1-3-2-0-4-6', '2-1-2-1-2-2-0-4-56', '1-0-2-2-2-0-0-4-33', '2-0-2-2-1-2-0-4-85', '2-1-1-1-1-2-0-3-92', '2-0-1-1-0-1-0-4-23', '2-1-1-2-3-3-0-3-44', '2-0-1-1-1-2-0-3-100', '2-0-2-2-0-0-0-4-50', '2-1-1-1-2-2-0-3-45', '2-1-1-2-0-1-0-4-22', '2-0-2-0-1-2-0-3-7', '2-1-2-1-1-0-0-4-65', '2-0-1-1-1-0-0-4-25', '2-1-0-2-3-2', '2-0-2-0-1-2-0-4-13', '2-1-1-0-0-3-1', '1-0-2-1-1-0-0-4-57', '2-1-2-1-1-3-0-4-83', '2-1-1-1-0-1-0-4-58', '2-0-0-1-1-0-0-3-25', '1-0-2-1-2-0-0-3', '2-0-1-1-1-2-0-3-62', '2-0-1-0-2-0-0-4-8', '2-0-0-2-0--1-0-4-31', '2-0-1-1-2-0-0-4-24', '2-0-1-1-1--1-0-4-14', '2-0-1-1-1-3-0-3-82', '2-1-1-1-1-1-0-4-46', '2-1-2-1-1-2-0-3-33', '2-0-1-1-0-0-1-3-1', '2-1-1-0-1-1-0-4-4', '2-1-2-0-1-0-0-3-4', '2-0-1-0-2-2-0-4-47', '2-1-2-1-3-2-0-4-25', '2-0-1-1-0-3-0-3-55', '2-1-2-1-1-0-0-3-99', '2-1-2-2-0-1-0-3-85', '2-1-1-0-2-1-0-4-76', '2-0-1-0-2-0-0-3-95', '2-0-2-2-0-2-1-3', '2-0-1-0-2-3-0-4-47', '1-0-2-2-3-0-0-1', '2-0-1-0-1-0-0-4-6', '2-0-2-0-2-1-0-4-10', '2-1-2-0-1-1-1-4', '2-1-1-0-2-2-0-3-100', '2-0-1-1-0-0-0-4-47', '2-1-2-1-2-0-0-4-43', '2-1-1-1-1-0-0-3-6', '2-1-2-1-2-1-0-3-99', '2-0-2-0-0-1-0-4-80', '2-0-2-2-2-2-0', '1-0-2-1-2-2-1-3-1', '1-0-1-0-3-3', '2-0-2-1-1-1-0-3-27', '2-1-2-1-1-1-1-3-8', '2-1-0-1-0-3-0-3-3', '2-0-2-1-0-0-0-4-18', '2-0-1-0-1-0-0-3-29', '1-0-2-1-1-3-0-3-4', '2-0-1-0-1-3-0-4-55', '2-0-1-2-0-0-0-4-5', '2-0-2-1-0-1-0-4-73', '2-0-1-1-0-2-0-4-32', '2-0-2-1-2-2-0-2-32', '2-0-1-1-2-2-0-3-30', '2-1-1-2-1-3-0', '1-0-0-0-3-3', '2-1-2-1-0-3-0-4-24', '2-0-2-1-0-1-0-3-24', '2-0-1-2-1-1-0-4-32', '2-0-2-2-0-0-0-4-15', '2-1-1-1-1-0-0-4-40', '2-1-2-0-2-0-0-4-51', '2-1-0-1-0--1-1', '1-0-1-1-0-3-0', '1-0-2-1-2-3-0-4-53', '2-0-1-0-2-1-0-4-14', '2-1-1-1-2-0-0-4-95', '2-0-2-1-3-3-1-3-6', '1-0-1-2-2-2-0-4', '1-0-1-1-3-3-0-3', '2-1-2-1-1-0-0-4-51', '2-1-2-2-0-1-0-4-85', '2-0-2-1-1-0-0-4-44', '2-1-1-1-2-3-0-4-77', '2-0-2-1-1-0-0-4-68', '2-0-2-1-1-0-0-4-28', '2-1-2-1-2-1-0-4-91', '1-0', '2-0-2-2-2-3-0-4-36', '2-0-2-1-2-3-0-4-47', '2-1-1-1-0-0-0-4-47', '2-0-2-1-1-0-0-4-65', '2-1-2-0-2-1-0', '2-0-1-0-2-2-0-4-5', '2-1-1-1-1-2-0', '2-0-1-1-1-1-0-4-48', '2-1-1-0-0-2-0-4-80', '2-0-1-1-0-0-0-4-14', '1-0-1-1-3-1-0-4-32', '2-1-0-1-1-1-0-4-44', '2-1-2-1-0-2-1-3-3', '2-0-1-1-2-3-0-4-65', '2-0-0-1-1-2-0-3-42', '2-0-1-0-1-0-0-4-83', '1-0-2-1-2-0-0-4-59', '2-1-1-1-2--1', '1-0-2-1-2-2-0-3-66', '2-1-2-0-1-3-0-4-72', '2-1-2-1-0-2-0-3-89', '2-1-2-1-1-3-0-3-56', '2-0-2-1-0-1-0-4-68', '2-0-1-0-1-0-0-3-24', '2-0-2-2-1-3-0', '2-1-1-1-0-2-1-4', '2-0-1-1-2-3-0-4-64', '2-0-1-2-1-2-0-3-100', '2-0-1-1-2-3-0-4-35', '1-0-1-1-3-0-0-4-67', '2-0-1-1-3-3-0-3-94', '2-1-2-1-0-1-1-4-3', '2-1-0-1-2-2-0-3-95', '1-1-1-1-3-2-0-4-14', '2-0-1-2-1-0-0-4-15', '1-1-1-1-2-3-0-4-62', '2-1-1-1-2-1-0-4-39', '2-0-1-1-0--1-0-4-37', '2-1-1-2-1-2-0-3-35', '2-1-1-0-1-3-0-4-6', '2-0-1-1-2-1-0-4-40', '1-0-1-1-3-3-0-1-39', '2-0-2-1-3-0-0-4-6', '1-0-1-1-1-2', '2-1-1-1-2-0-0-3-38', '2-1-2-0-3-2-0-4', '2-1-2-0-1-2-0-4-40', '2-0-1-1-1-1-0-3-74', '2-0-2-1-2-2-0-4-6', '2-0-1-1-0-0-0-4-25', '2-0-1-1-1-2-0-3-23', '2-0-2-1-0-2-0-4-94', '2-0-2-1-0-2-1-3', '2-0-2-1-0-1-1-3', '2-0-1-1-3-0-0-4-37', '2-1-2-1-2-3-0-4-6', '2-0-0-0-0-0-0-3-15', '2-0-1-1-2-0-0-4-36', '1-0-1-1-1-1-0-3-3', '2-1-1-1-2-0-0-4-29', '2-1-2-1-2-2-0-4-65', '1-0-1-1-2-3-0-4-98', '2-0-2-1-0-3-1-3-3', '2-1-1-2-0-1-1-4', '2-1-1-2-3-1-0-3-28', '2-0-2-1-2-0-0-3-43', '2-0-1-0-1-0-0-4-18', '1-1-2-1-1-0-0', '2-0-1-1-2-3-0-3-48', '2-0-1-2-1-3-1', '2-0-2-2-2-1-0-3-37', '2-0-1-2-0-2-0-4-25', '2-0-1-0-2-1-0-4-98', '2-1-2-1-0-0-0-4-37', '1-1-1-0-3-2', '2-0-1-0-1-2-0-4-22', '1-1-1-1-2-3-0-4-3', '1-0-2-1-3-0-0-4-90', '2-1-2-2-1-2-0-4-30', '2-1-2-1-2-2-0-3-20', '2-1-0-1-1-3-0-4', '2-0-2-2-0-0-1-4-3', '1-0-1-1-0-3-1-4-1', '2-0-2-1-3-0-0-4', '2-0-0-0-2-1-0', '2-0-2-2-2-3-0-4-18', '2-0-2-2-0-2-0-4-70', '2-1-1-2-0-1-1', '2-1-2-1-2-2-0-4-34', '2-0-1-2-2-0-0-3-45', '2-1-2-1-0-0-0-4-68', '1-0-2-1-2-1-1-3', '1-1-2-1-2-2-0-4-61', '2-1-2-0-2-2-0-4-22', '2-0-1-1-1-1-0-4-46', '2-0-2-1-2-2-0-3-30', '2-0-2-2-2-0-0-4-16', '2-0-2-1-0-1-0-4-37', '2-0-2-0-2-3-0-4-6', '1-0-1-1-1-3-0-2', '2-1-2-1-1-2-0-4-90', '1-1-2-1-2-0-0-3-51', '2-0-1-0-0-3-0-4', '2-0-2-1-0-1-0-4-78', '2-0-1-1-1-0-0-4-74', '2-1-1-1-1-1-0-4-1', '2-1-2-1-2-3-0-4-65', '2-0-1-0-1-2-0-4-46', '2-1-2-1-1-1-1-4-6', '2-0-2-1-2-3-1-3-9', '2-0-1-1-2-0-0-3-4', '1-0-1-2-3', '2-0-1-1-1-1-0-4-28', '2-0-2-1-2-1-0-4-78', '2-1-1-1-0-2-0-4-45', '2-0-2-1-3-3-0-4', '2-0-2-2-1-0-0-4-97', '2-0-1-1-1-2-0-3-8', '2-0-2-2-0-1-1-4', '2-0-2-1-0-3-0-4-98', '2-0-1-1-2--1-0-3-100', '2-0-1-1-0-1-0-4-31', '2-0-2-1-1-0-0-4', '2-0-1-1-2-3-0-3-84', '2-1-1-1-1-1-0-3-17', '2-1-1-2-0-0-0-3-45', '2-0-1-1-2-1-0-3-70', '2-0-1-0-1-0-0-4-45', '2-1-1-1-1-0-0-3-39', '2-0-1-1-2-2-1-4-8', '2-1-1-1-1-0-0-3-54', '2-0-2-1-0-2-0-3-81', '2-0-1-2-0-3-0-3-77', '2-0-1-0-0-0-0', '2-0-2-1-0-1-0-3-28', '2-1-2-1-0-0-0-3-45', '2-0-1-1-1-1-0-3-29', '2-0-2-1-0-3-0-4-47', '2-0-1-2-1-0-0-4-21', '2-0-2-2-1-2-0-4-35', '2-1-2-1-3-1-0-4-99', '2-1-2-1-1-0-0-3-16', '1-0-0-1-2-2-0-3-58', '1-1-2-1-2-3-0-4-33', '2-0-2-1-0-0-0-3-4', '2-1-1-1-1-3-0-3-24', '1-0-1-1-2-3-0', '2-0-1-2-0-1-0-4-83', '2-1-2-1-3', '2-1-1-0-0-0-0-3-94', '2-0-1-0-2-2-0-4-42', '1-1-2-1-0-0-0-3-95', '2-0-1-0-0-2-1-3', '2-1-1-0-2-2', '2-0-2-1-3-0-0-4-97', '2-0-1-2-1-0-0-3-21', '1-1-1-1-3-0-0-4-12', '2-0-2-1-3-0-0-3-40', '2-1-1-1-0-3-0-4-19', '2-1-0-1-0-1-1-3', '2-0-2-2-0-1-1', '1-0-2-1-2-3-0-4-25', '2-1-1-0-2-0-0-4-82', '1-0-1-0-3-1-0-4', '2-0-2-1-2-2-0-3-12', '2-1-2-1-1-3-0-4-25', '2-0-1-1-0-3-0-3-71', '2-1-2-2-2-0-0-4-22', '2-1-1-0-2-2-0-4-56', '1-0-1-2-3-0-0-4-56', '2-1-0-1-3-2-0', '1-0-2-1-0-1', '2-1-2-2-0-0-0-4-92', '2-0-2-2-1-0-0-4-69', '2-0-1-0-2-3-0-4-42', '1-1-1-1-2-0-0-4-99', '2-0-2-1-2-2-0-4-22', '2-1-1-2-0-2-0-4-45', '1-0-2-2-3-3-0-4-97', '1-0-2-2-0-1-1-4-1', '2-0-2-1-2-1-1', '2-0-1-0-2-2-0-3-75', '2-1-2-1-1-0-0-4-98', '1-0-0-1-0-0-0-4-98', '2-1-1-0-2-3-0-4-67', '2-0-2-2-2-1-0-4-40', '2-0-1-1-1-1-0-3-62', '2-1-1-1-0--1-0-3-39', '2-0-1-1-0-3-0-3-72', '2-0-2-0-2-3-0-4-10', '2-1-2-1-0-0-0-4-78', '1-0-1-1-3-3-0-4-8', '1-1-2-1-3-3-0-4-42', '2-0-2-1-2-3-0-4-2', '2-0-1-0-1-0-1', '2-0-2-0-3-0-0-4-54', '2-1-2-1-1-2-0-4-28', '2-0-2-0-0-1-1-3-3', '2-0-1-1-2-2-0-4-52', '2-0-2-1-1-2-0-4-54', '2-0-1-1-3-2-1-4-2', '2-0-1-1-1-3-0-3-55', '2-0-0-0-1-0', '2-0-1-1-2-0-0-3-34', '1-1-1-1-3-3-0-1-7', '2-1-1-1-0-0-0-3-82', '2-0-1-0-0-0-0-3-54', '2-0-1-1-1-2-0-4-83', '2-0-1-1-0-0-0-4-100', '2-0-2-1-2-0-0-4-6', '2-0-1-0-1-2-0-3-98', '2-0-1-2-1-3-0-4-15', '2-0-2-1-2-3-0-4-33', '2-1-1-1-0-2-0-4-70', '2-0-2-1-0-0-0-3-63', '2-1-1-1-0-1-0-4-18', '2-0-2-1-2-3-0-4-14', '2-1-1-1-2-1-0-3-97', '2-0-1-1-0-0-0-4-78', '2-0-0-0-2-0-0-3-76', '2-1-2-1-0-1-0-4-37', '2-1-1-2-3-1-0-4-42', '2-0-1-1-1-2-1-3-1', '2-0-1-0-1-1-0-3-44', '2-0-1-0-3-2-0-3-12', '2-1-2-0-0-1-0-4-7', '2-0-1-2-1-2-0-4-10', '1-0-2-2-3-0-0-4-54', '2-0-2-1-1-2-0-3-16', '2-0-2-1-1-3-0-3-55', '2-1-2-1-2-2-0-4-38', '1-0-0-2-3', '2-1-2-1-2-1-0-3-42', '2-1-2-1-1-2-1-3-1', '2-0-1-2-1-0-0-4-11', '2-0-1-2-1-2-1-4', '2-0-1-1-2-1-0-4-24', '1-0-2-0-2-0-0-3-73', '1-0-1-1-2-3-1-4-5', '1-0-2-2-3-2-0-4-14', '2-0-2-2-0-2-0-4-10', '2-0-1-0-1-2-0-4-100', '1-0-1-0-3-0-0-4-26', '2-0-1-1-1-3-0-3-51', '2-1-2-1-2-0-0-4-65', '2-0-1-1-0-0-0-3-96', '2-0-1-1-0-2-0-3-28', '2-0-2-2-0-2-0-4-58', '2-0-1-1-2-1-0-3-99', '2-0-2-1-3-0-0-4-5', '2-1-2-0-2-3-0-4-62', '2-0-1-1-1--1-1-3-3', '2-1-1-2-3-1-0-4-1', '2-0-2-1-2-3-0-4-13', '2-1-1-2-1-3-0-4-59', '2-1-0-1-0-0-0-3-45', '1-1-1-0-2-0-0-3-89', '2-0-1-1-1-1-0-4-9', '2-1-2-1-2-3-0-4-59', '2-1-1-1-1-1-0-3-72', '2-0-2-1-0-0-0-3-28', '1-0-0-1-3', '2-0-2-1-0-0-1-3-1', '2-0-2-1-0-0-0-3-94', '2-0-2-1-0-0-0-4-83', '2-1-2-0-0-1-0-3-42', '2-1-2-0-0-1-0-3-65', '2-0-0-1-2-0-0-2-76', '2-1-1-1-1-3-1-4-3', '1-0-1-1-3-3-0-3-12', '2-0-1-1-0-1-1-4-5', '2-1-1-1-3-3-0-4-43', '1-1-2-1-2-2-0-4-54', '2-0-1-1-1-1-1-4-2', '2-1-2-2-1-1-0-4-4', '1-0-1-2-3-3', '2-0-2-1-2-1-0-4-21', '2-0-2-1-1-3-0-4-33', '2-0-1-0-1-1-0-4-28', '2-0-2-0-2-1-0-3-76', '2-0-1-1-1-3-0-3-8', '2-1-1-1-2-0-0-4-54', '1-0-1-1-3-0-0-3-36', '2-0-2-0-0-1-0-4-91', '2-0-1-1-0-3-0-4-4', '2-1-1-1-0-2-0-4-18', '2-1-2-1-1-3-0-4-70', '2-0-2-1-0-3-0-3-41', '2-1-1-1-1-1-0-4-45', '2-1-2-0-0-2-0-3-43', '2-0-1-0-3-2-0-4', '2-0-2-0-1-0-0-3-37', '2-0-1-1-2-0-0-3-100', '2-0-0-1-3-1-0', '1-0-1-1-3-0-0-3-95', '2-1-1-2-1-2-0-4-30', '1-0-2-1-0-3-0-4-53', '2-1-1-2-3-2-0-3-79', '2-1-2-1-0-2-0-4-45', '2-0-1-1-3-1-0-4-2', '2-0-2-1-0-1-0-4-98', '2-0-2-1-1-2-0-4-100', '2-0-2-2-1-1-0-3-99', '2-0-2-1-2-0-0-3-91', '2-1-1-1-0-0-0-3-70', '2-1-2-0-1-0-0-4-43', '2-0-2-1-3-0-0-3-96', '2-0-2-1-2-1-0-4-42', '2-0-2-1-0-0-1-3-2', '2-0-1-1-0-3-0-3-25', '2-0-1-0-1-1-0-3-53', '2-0-1-1-0-0-0-4-31', '2-0-2-1-1-0-0-4-15', '2-1-1-2-0-0-0-4-62', '2-0-1-2-2-1-0-4-98', '1-0-2-1-2-3-0-3', '1-0-2-1-0-3-1-4-4', '2-0-1-1-1-3-0-4-14', '2-0-1-0-3-0-1-4-7', '2-0-2-1-2-2-0-4-25', '1-1-1-1-2-1-0', '2-0-1-1-0-2-0-4-76', '2-0-1-2-1-3-0-3-41', '2-1-1-1-2-1-0-3-38', '2-0-1-1-0--1-0-3-16', '2-0-0-1-2--1-0-3-89', '1-1-1-1-0-0-0', '2-1-2-1-2-2-0-3-56', '2-0-2-2-0-0-0-4-5', '2-1-2-1-1-2-0-4-33', '2-1-2-1-2-0-0-4-50', '1-0-0-1-0-1-0', '2-0-1-1-1-0-0-3-44', '2-1-1-0-2-3-0-3-76', '2-1-2-0-0-0-0-4-43', '2-0-2-0-1-1-0-4-64', '2-0-2-1-1-2-0-3-69', '1-0-2-0-0-3-1-4', '2-1-2-0-0-0-0-4-92', '1-1-1-1-2-0-0-4-87', '2-0-2-1-3-0-0-3-5', '1-1-2-1-2-2-0-4-98', '2-1-2-2-2-1-0-4', '2-0-1-1-3-0-0-4', '2-0-2-1-1-1-0-4-17', '2-1-0-0-2-3-0', '2-0-0-1-2-0-0-3-17', '2-0-1-1-1-1-0-4-18', '2-0-1-1-0-1-0-4-51', '2-0-2-0-1-0-0-3-33', '2-0-1-1-1-3-0-4-24', '2-0-2-2-2-1-0-4-2', '2-0-2-0-3-1-0', '1-1-2-1-0-0-0', '2-0-2-1-2-1-0-4', '2-0-0-1-2-1-0-2', '2-1-1-2-3-1-0-3-1', '2-0-2-1-0-1-0-4-34', '2-0-1-1-0-2-0-4-54', '1-1-2-2-3-3-0-4-19', '2-0-2-1-0-0-0-3-90', '1-0-2-1-3-2-0-3-19', '2-1-2-1-1-0-0-4-31', '2-0-1-1-3-1-0-4-95', '1-1-1-1-3-3-0-4-12', '2-0-2-1-2-3-0-4-46', '1-1-2-2-2-3-0-3-13', '2-1-1-2-0-2-0-3-45', '2-1-2-1-2-2-0-3-43', '2-0-1-1-2-2-0-4-49', '2-1-2-1-2-3-0-4-18', '2-1-2-0-0-0-0-3-33', '2-0-1-0-2-0-0-4-12', '2-0-1-1-0-1-0-4-42', '2-0-2-0-0-0-0-3-81', '2-0-1-0-0-3-0-4-54', '2-1-0-0-2-0-0-3-73', '1-1-2-1-2-2-0-4-85', '2-0-1-0-1-2-0-3-27', '1-0-1-2-0-1-1-4-1', '2-1-2-0-1-1-0-4-63', '1-0-1-1-2-0-0-4-99', '2-0-1-1-0-0-0-3-58', '2-0-2-1-3-3-0-3-19', '2-1-2-1-1-0-0-4-4', '2-1-1-1-0-1-0-3-32', '2-0-1-1-1-3-0-3-94', '2-0-1-0-2-2-0-3-39', '2-1-2-1-0-3-1-3-1', '2-0-1-1-3-3-0-3', '2-0-2-2-0-0-0-3-82', '2-0-2-1-2-3-1-4-6', '2-0-1-1-2-2-0-4-48', '2-1-2-1-1-3-0-4-92', '1-0-1-2-3-0-0', '2-0-1-1-1-3-0-4-88', '2-0-1-1-2-0-0-3-10', '2-0-1-0-2-2-0-4-12', '2-0-2-0-2-0-0-4-63', '1-0-1-1-0-0-1-4', '2-0-1-1-0-2-0-4-41', '2-0-1-1-2-2-0-4-61', '2-0-1-2-1-2-0-3-21', '2-1-2-0-2-0-0-4-88', '2-0-2-1-0-0-0-4-22', '2-0-2-1-2-2-0-3-65', '2-1-2-1-3-0-0-4-9', '2-0-2-1-1-1-0-4-83', '2-1-2-2-1-3-0-4-42', '2-0-1-2-0--1', '2-0-2-0-2-3-0-4-27', '2-1-2-2-1-2-0-4-20', '2-0-1-0-0-3-0-3-94', '2-0-1-0-3-0-0-4-11', '2-1-1-1-0-0-0-4-76', '2-1-2-1-1-1-0-4-85', '2-0-2-2-3-2', '2-0-1-2-0-3-0-4', '2-0-1-0-2-1-0-3-9', '2-0-1-1-1-1-0-3-23', '2-0-0-0-0-1-0-3', '2-1-1-1-1-1-0-4-36', '2-1-2-1-1-2-0-3-3', '2-0-2-2-2-0-0-3', '1-0-1-2-3-0-0-3-33', '2-0-2-0-1-3-0-4-9', '2-0-0-0-3-1-0', '2-0-1-1-2-3-0-3-45', '2-0-1-1-3-0-0-4-75', '1-0-1-1-2-2-1-4-5', '2-0-1-2-1-3-0-4-99', '2-1-1-0-1-0-0-2', '1-0-2-0-3-1-0-4-56', '2-0-1-1-2-3-0-3-30', '2-0-1-1-1-3-0-3-61', '2-0-1-1-1-3-0-4-25', '2-0-1-1-0-3-0-3-32', '2-0-1-1-2-2-0-4-71', '2-0-1-2-0--1-0-4-52', '2-0-1-1-1-0-0-3-22', '2-0-1-0-1--1-0-3', '2-0-2-0-0-0-0-4-36', '2-0-2-0-2-3-0-4-92', '2-1-2-0-2-0-0-4-79', '2-0-1-1-0-1-0-4-9', '2-0-1-1-2-3-0-3-20', '2-0-1-1-1-3-0-4-22', '2-1-1-0-1-2-0-4-4', '2-0-1-0-2-2-0-3', '2-1-2-1-1-1-0-4-99', '1-0-2-1-3-2-0-4-100', '2-1-1-1-3-3-1', '2-0-1-1-2-2-0-3-1', '2-0-2-1-0-0-0-2', '2-0-2-1-2-2-0-3-37', '2-0-0-2-2-0', '2-0-1-0-1-1-0-4-54', '2-1-2-1-0-1-0-4-100', '2-0-1-2-1-0-0-4-47', '2-0-1-1-2-1-0-4-82', '1-1-1-0-3-1-0-4-39', '2-0-1-1-2-0-0-1-39', '2-1-1-2-3-2-0-3-45', '2-1-1-2-1-0-0-4-15', '2-1-1-0-2-1-0-4-9', '1-0-1-1-3-2-0-3-100', '1-0-2-1-2-2-0-4-62', '2-0-2-0-2-0-0-3-43', '1-0-2-0-0-3', '2-1-1-1-3-1-0-3-68', '2-1-2-1-0-1-0-4-58', '1-0-2-0-3-3-0-3-41', '1-0-2-0-3-2-0-4', '2-0-1-1-0-2-0-4-43', '2-0-2-1-0-1-0-4-2', '2-1-2-1-3-1-0-4-45', '2-0-1-0-1-0-0-3-75', '2-1-1-2-0-0-0-3-12', '2-0-2-0-1-1-0-4-48', '2-0-2-1-1-0-0-4-53', '2-0-1-1-0-2-0-4-60', '1-0-1-1-3-0-0-3-5', '2-1-1-1-1-0-0-4-49', '2-0-1-0-0-3-0', '1-0-0-0', '2-0-1-1-1--1-0-3-21', '2-0-2-1-1-1-0-4-7', '1-0-2-1-3-2-0-4-24', '2-1-2-1-0-0-0-3-79', '2-0-1-1-0-1-0-4-26', '2-0-2-1-0-2-0-4-50', '2-1-1-0-0-0-0-4-40', '1-0-2-1-0-2-0-3-100', '2-0-1-1-1-2-0-4-11', '1-0-1-1-2-3-0-3-37', '2-0-1-0-0', '1-1-0-0-3-0-1-3-4', '2-0-2-0-2-3-0-4-68', '1-1-1-1-3-0-0-4-6', '1-0-0-1-1-0-0-3-86', '2-1-2-1-0-2-0-4-63', '2-0-2-2-1-3-0-4-38', '2-1-1-0-0-0-0-4-32', '1-0-2-1-2-1-0-3-59', '1-0-1-1-3-0', '2-0-2-1-2-2-0-4-74', '2-1-1-0-2-2-0-4-59', '2-0-1-1-2-2-0-4-17', '2-1-2-2', '2-1-1-0-1-0-0-3-9', '2-0-1-1-1-0-0-2-30', '2-0-1-1-2-1-1', '2-1-1-1-0-2-1-3-10', '2-0-2-1-0-1-0-3-57', '2-0-1-0-1-1-0-4-42', '2-0-1-2-1-2-0-4-19', '2-0-1-1-1-2-0-4-55', '2-0-2-1-0-2-0-4-24', '2-1-1-1-0-1-0-3-99', '2-0-1-0-2-2-0-4-75', '2-0-2-1-1-2-0-4-21', '2-1-2-1-1-1-0-4-4', '2-0-2-1-1-1-0-3-4', '1-0-1-1-2-0-0-4-55', '2-0-1-1-1-2-0-3-14', '2-1-1-0-2-1-0-4-27', '2-1-1-1-3-0-0-4-3', '1-0-2-0-3-3-0-4-32', '2-1-1-1-2-1-0-1', '2-1-0-1-0-2-0-3-36', '2-0-1-0-1-2-0-3-77', '2-0-1-0-2-3-0-4-41', '2-0-1-1-1-0-1-4-9', '2-1-1-1-1-1-0-4-5', '1-0-1-1-3-0-0-3-99', '1-0-2-2-3-2-0', '2-1-1-1-2-0-0-3-49', '2-1-1-0-0-0-0-4-54', '2-0-1-1-0-1-0-3-15', '2-0-2-0-2-1-0-4-35', '2-0-2-1-2-0-0-4-80', '2-1-1-2-0-0-0-4-11', '2-1-2-0-2-0-0', '2-1-1-1-3-0-0-4-28', '2-0-2-1-1-1-0-3-5', '1-0-1-1-0', '2-0-1-1-3-0-0-4-33', '2-1-1-1-2-3-0-4-49', '2-1-2-1-2-2-0-4-99', '2-1-2-1-1-3-0-3-26', '2-0-2-2-0-0-0-3-86', '2-1-1-0-2-3-0-3-51', '2-0-1-1-2-2-0-4-55', '2-1-1-2-2-0-0-3-42', '2-0-2-0-3-0-0-3-52', '2-0-1-1-2-3-0-4-31', '2-0-0-1-3-3', '2-0-2-2-3-3-0', '2-1-2-1-0-0-0-3-82', '2-0-2-1-3-1', '2-0-1-0-0-0-0-4-35', '2-0-0-1-0-0-0-3-21', '2-1-1-1-0-0-0-4-7', '2-0-2-1-1-1-0-4-47', '2-0-2-1-2-0-0-3-15', '2-0-2-1-0-0-0-4-16', '2-1-1-1-1-2-0-4-98', '2-1-1-2-0-3-0-3-40', '1-0-2-1-3-3-0-4-51', '2-0-1-1-1-2-0-3-54', '2-0-1-0-0-0-0-4-73', '2-0-2-0-0-0-0-4-2', '1-1-2-1-3-0-0-3-6', '2-1-2-1-0-2-0-3-15', '2-1-1-2-2-2-0-3-2', '1-0-1-0-2-0-0-3-57', '2-1-1-1-3-1-0-4-5', '2-0-1-1-0-3-0-4-12', '2-0-2-1-1-0-0-3-82', '2-0-1-1-0-0-0-3-32', '2-0-2-1-1-0-0-4-51', '2-0-2-1-1-1-0-4-51', '2-1-1-0-2-2-0-4-10', '1-0-1-1-3-1-0-4-62', '2-0-1-2-2-3-0-3-22', '2-1-0-2-2-2-0-3-20', '2-1-2-1-0-2-0-4-10', '2-0-1-0-1-3-0-4-64', '2-0-1-0-0-2-0-4-27', '1-0-2-0-0-0-1-4', '2-1-1-1-1-0-0-4-16', '2-1-1-1-1-3-0-4-67', '2-0-1-2-3-3-0-3', '2-0-2-2-1-0-0-4-62', '2-1-2-1-1-0-0-4-55', '1-1-2-1-3-3-0-3-50', '2-0-1-1-1-0-0-3-50', '1-0-1-1-3-2-0', '2-0-0-1-0-0-0-3-6', '2-0-2-1-3-1-0-4-2', '2-1-1-0-1-3-0-3', '1-0-1-1-1-2-0-3', '2-0-2-1-1-2-0-4-61', '2-1-2-2-1-2-0-3-4', '2-0-1-1-1-3-0-4-19', '2-0-1-0-2-1-0-3-74', '2-0-1-2-1-2-0-3-20', '2-0-1-0-2-3-0-3-85', '2-0-0-2-2-1-0-4', '1-0-1-1-0-0-0-3', '2-1-1-0-1-0-0-4-73', '1-0-1-0-3-1-0', '2-0-2-1-1-2-0-3-52', '2-1-1-1-2-3-0-3-99', '2-0-0-0-2-0-0-3', '1-0-2-1-3-3', '2-1-1-1-2-2-0-4-69', '2-1-0-0-1', '1-0-1-1-0-0-0-3-54', '2-1-0-1-2-3-0-3-1', '2-1-1-1-2-3-0-4-40', '1-1-1-1-1-0', '1-0-1-1-1-3', '2-1-1-1-3-1-1-4', '2-0-2-1-3-2-0-4-3', '2-1-2-0-0-0-0-3-29', '1-0-2-1-3-3-0-4-38', '2-0-2-1-2-3-0-3', '2-0-1-1-0-3-0-4-34', '1-1-1-1-0-1', '2-0-1-1-0-1-1-4-2', '2-1-2-1-1-0-0-4-76', '2-0-2-0-1-3-0-4', '2-0-1-1-2-3-0-3-66', '2-0-2-2-1-1-0-4-81', '2-1-2-1-3-2-0-3-1', '2-0-1-1-0-3-0-4-59', '2-0-2-1-1-1-0-3-80', '2-1-2-2-2-1-0-4-78', '2-0-2-2-1-0-0-4-98', '2-0-2-0-1-2-0-4-27', '2-0-2-1-0-0-0-3-72', '1-0-2-1-2-3-0-3-81', '2-0-2-1-1-0-0-4-94', '1-0-1-1-2-3-0-4-68', '2-1-1-2-2-2-0-4-42', '2-1-1-1-1-0-0-3-62', '1-0-2-2-3-3', '2-0-1-1-0-0-0-4-3', '2-1-2-1-1-2', '2-1-1-0-1-0-0-3-6', '1-0-2-1-3-3-0-4-97', '1-1-1-2-2', '2-1-1-1-1-0-1-4-3', '2-1-2-2-0-1-0-3-63', '2-0-1-0-2-3-0-3', '2-0-2-1-3-1-0-4-39', '2-0-1-1-1-1-0-4-75', '1-1-2-0-3-2-0', '2-1-2-0-2-2-0-4-55', '2-1-0-1-0-0-0-3-59', '2-0-1-0-2-0-0-4-100', '2-1-1-0-2-1-0-4-75', '2-1-2-0-2-3-0-4-48', '2-1-2-0-2-2-0-4-88', '2-0-2-0-3-2-0-4-22', '2-0-1-0-1-0-0-3-9', '2-0-0-1-1-1-0-3-6', '2-1-0-1-0-0-0-3-38', '2-0-0-1-3-1-0-3-2', '2-0-2-0-1-0-0-4-18', '2-0-1-1-1-0-1-3', '2-0-2-2-2-0-0-4-24', '2-0-1-1-1-2-0-3-24', '2-1-0-1-0-0-0-3-49', '2-0-2-1-0-3-1-4-4', '1-0-1-1-3-1-0-3', '1-1-1-0-3-3-0-3-39', '2-1-1-0-1-3-0-3-4', '2-1-1-2-2-2-0-4-96', '2-1-1-0-2-3-0-4-69', '2-0-1-2-2-2-0-3', '2-1-1-2-3-0-0-4-45', '2-1-1-2-1-1-0-4-31', '2-0-2-1-1-0-0-4-26', '2-0-1-0-1-2-0-4-6', '2-0-2-1-2-2-0-4-51', '2-1-1-1-1-2-0-3-81', '2-0-2-0-2-2', '1-1-1-0-0-1-0', '1-1-0-1-3-0-0-3', '2-0-1-1-0-3-0-4-76', '2-0-1-0-2-0-0-4-44', '2-0-1-2-2', '2-0-1-1-0--1-0-3-32', '2-0-2-0-2-2-0-4-3', '2-1-1-1-2-0-0-4-100', '2-1-0-1-0-1-1-3-6', '2-0-1-1-1--1-0-3-12', '2-0-2-0-2-1-0-4-43', '1-0-2-1-2-1-0-4-65', '1-0-1-1-3-1-0-4-67', '2-0-2-1-0-0-0-3-29', '2-0-0-1-1-2-0-3-27', '2-1-2-2-0-1-0-4-41', '2-1-0-0-1--1-0-3', '2-1-2-1-1-0-0-4-83', '2-0-1-0-3-1-0', '1-1-1-1-2-3-0-4-29', '2-0-2-1-1-0-0-3-53', '1-0-2-1-2-0-0-4-64', '2-1-1-1-2-2-0-4-38', '2-0-2-1-2-0-0-4-53', '1-0-1-0-3-3-0-4', '2-1-1-0-3-0-0', '1-0-1-2-3-0', '2-1-1-1-0-3-0-4-28', '2-0-1-2-3-1-0-3-23', '2-0-2-1-2-2-0-3-83', '1-0-2-0-3-3-0-4-19', '2-1-2-2-1-2-0-3', '2-1-2-1-2-2-0-3-58', '2-0-1-0-2-3-0-4-28', '2-1-2-1-0-1-0-3-18', '2-0-2-2-0-0-0-3-30', '1-1-2-1-3-2-0', '2-0-1-1-2-0-0-1-99', '2-1-1-1-1-2-0-3-45', '2-1-2-1-2-2-0-4-53', '2-0-1-1-3-0-0-4-30', '2-1-1-1-1-0-0-4-22', '1-0-1-1-2-2-1-4-3', '2-0-2-0-3-3-0-4-4', '2-1-1-0-2-0-0-3-52', '1-0-0-1-1', '2-0-2-1-2-3-0-3-36', '1-0-1-0-0-0-0-3-99', '1-0-0-1-1-3-0-3-57', '1-0-2-1-2-2-0-3', '1-1-0-1-3-3-0-3-64', '2-0-2-1-1-3-0-3-31', '2-0-1-1-1-2-0-3-80', '1-0-1-1-1-2-0-4-98', '2-1-2-2-2-2-0-3', '2-0-1-1-3-0-0-4-36', '2-0-2-0-1-1-0-3-34', '2-1-2-1-3-0-0-4-30', '2-0-1-2-0-0-0-4-94', '1-0-2-2-3-1-0-4-64', '1-0-1-0-2-0-0-4-34', '2-0-1-0-2-1-0-4-100', '2-1-2-1-2-2-0-3-48', '1-0-2-2-2-3', '2-1-2-0-1-3', '2-0-2-2-1-0-0-3-70', '2-0-1-1-1-0-0-4-86', '2-0-2-1-1-3-0-4-39', '2-0-1-0-2-3-0-3-2', '2-1-1-1-1-0-0-4-63', '2-0-1-2-3-0-0-3', '2-1-2-1-1-3-0-4-26', '2-0-2-1-0-0-0-3-86', '1-0-1-0-3-2-0-4-18', '2-1-1-1-0-1-0-3-9', '1-0-0-1-2-0-0-3-1', '2-0-2-1-1-3-0-4-29', '2-0-1-0-1-1-0-4-86', '2-1-2-1-1-3-0-3-36', '2-1-1-0-2-3-0-4-82', '2-0-1-2-2-2-0-3-89', '2-0-2-1-1-0-0-3-8', '2-1-1-1-2-3-0-3-39', '2-0-1-1-1-2-0-3-34', '2-0-1-0-2-1-0-4-74', '2-0-2-0-1-1-0-4-51', '2-1-2-1-2-0-0-4-21', '2-0-1-1-0-2-0-3-45', '2-1-2-1-2-0-0-4-24', '2-1-1-2-1-2-0-3-15', '2-0-2-1-1-0-0-4-43', '2-0-2-2-1-0-0-4-2', '2-0-1-2-3-0', '2-0-2-1-0-0-0-4-24', '2-0-1-1-1-0', '2-1-1-1-1-2-0-4-39', '2-0-1-0-2-0-0-4-54', '2-1-2-0-0-3-0-4-8', '2-0-1-2-0-1-0-4-85', '2-1-2-1-0-0-0-3-76', '2-0-2-2-1-0-0-4-80', '1-0-0-1-1-0-0-4-1', '2-0-0-2-2-1-0', '2-0-2-2-0-1-0-4-33', '2-0-2-2-0-2-0-4', '2-0-1-1-2-2-0-4-53', '2-0-1-1-1-3-0-3-52', '2-1-2-2-2-3-0-4', '2-0-2-1-2-2-1-3-6', '2-1-2-1-1-1-1-3', '2-0-2-1-1-1-0-3-76', '2-0-2-1-3-1-0-4-42', '2-0-1-2-0-0-0-4-12', '1-0-2-1-3-2-0-4', '2-1-2-1-0-1-0-3-12', '2-0-2-1-0-3-0-3-74', '2-1-1-1-1-3-0-4-2', '2-0-2-1-0-1-0-4-59', '2-1-1-1-1-2-0-4-3', '1-0-1-1-3-1-0-3-97', '2-1-1-0-3-3-0-4-50', '2-1-1-1-0-1-0-4-36', '2-1-2-2-1-2-0-3-21', '2-0-2-1-2-1-0-4-86', '2-0-0-2-0-0-0-4-34', '2-1-1-0-2-0-0-4-72', '2-1-2-2-0-0-0-4-61', '1-0-1-1-1-0-0-4', '2-0-1-2-0-0-0-4-18', '2-1-2-1-0-0-0-3-83', '2-1-2-1-1-1-0-4-3', '2-1-2-1-1-1-0-3-4', '2-1-2-1-1-0-0-3-30', '2-0-1-1-2-2-0-4-12', '1-1-2-1-0-0-0-4-38', '2-0-1-1-3-0-0-4-34', '2-0-2-1-1-1-0-4-55', '2-1-2-1-0-2-0-3-27', '1-0-2-1-3-0-0-4-64', '2-0-1-2-0-2-0-3-2', '2-0-1-1-1-3-0-4-53', '1-0-1-1-3-3-0-4-23', '2-0-2-1-1-1-0-4-6', '2-1-1-1-1-0-0-3-16', '2-1-2-2-3-3-0-3', '1-0-2-1-1-2', '2-1-1-1-2-2-0-3-16', '2-1-1-1-1-1-0-3-59', '2-0-2-1-0-0-1-4', '2-0-2-2-2-0-0-4-15', '2-0-0-1-1-3-0-4-4', '2-0-1-1-0-1-0-4-65', '2-0-1-1-1-0-1-4-3', '2-1-0-1-1-1-0-3-19', '2-1-1-1-0-3-0-4-55', '2-0-2-1-0-2-0-4-77', '2-1-1-0-3-0-0-4-24', '2-1-2-1-0-3-0-3-91', '2-0-2-1-2--1-0-3', '1-1-2-1-3-1-0-4-17', '2-0-1-0-2-1-0-4-1', '1-0-1-1-1-1-0-4-98', '1-0-2-1-1-1-0-4-44', '1-0-1-1-2-2-0-4-59', '2-0-2-0-2-3-0-3-20', '1-1-2-2-3', '2-0-2-1-2-3-0-3-87', '2-0-1-1-2-1-0-4-35', '2-1-1-1-1-0-0-4-52', '2-0-1-0-2-1-0-4-9', '1-1-1-1-2-1-0-4-97', '2-0-1-1-2-0-0-4', '2-0-2-1-2-2-0-4-34', '2-0-2-1-0-2-0-4-62', '2-0-0-1-1-2-0-3-34', '2-1-1-1-2-1-0-3-34', '2-0-1-1-0-1-1-3-2', '2-0-2-1-2-1-0-3-61', '1-0-1-2-3-0-0-4-55', '2-1-0-1-1-0-0-4-5', '1-0-2-1-2-2-0-4-39', '2-0-2-1-1-2-0-4-14', '2-0-1-1-1-0-1-3-2', '2-1-1-1-1-0-0-4-83', '2-1-2-1-3-3-0-3-44', '2-0-1-1-3-0', '2-1-1-1-0-0-0-4-14', '2-0-1-1-0-3-0-4-65', '2-0-1-2-2-1-0-3-16', '2-0-1-1-1-0-0-4-34', '2-0-2-1-0-0-0-4-41', '2-0-1-0-0-2-0-4-95', '2-0-2-2-1-2-0-4-9', '2-0-1-1-1-0-0-3-31', '2-1-2-1-3-2-0-4-44', '2-0-2-0-1-3-0-4-100', '2-0-2-1-2-1-0-4-24', '1-0-2-2-3-1-0-3-37', '2-0-2-0-0-1-0-4-37', '1-0-2-1-1-1-0-4-53', '1-1-1-1-0-2-0-3-38', '2-0-1-0-2-3-0-3-82', '2-0-1-2-1-0-0-4', '2-0-2-2-0-2-0-4-2', '2-1-1-1-2-2-1-4-6', '2-0-2-1-2-3-0-4-37', '1-0-1-1-1-0-0-4-48', '1-0-1-1-0-0-0-4-15', '2-0-1-1-3-1-0-4-85', '2-0-1-1-0-1-1-3-1', '2-1-1-1-0-0-0-4-71', '2-1-1-1-1-1-0-3-67', '1-1-2-1-3-0-0-4', '2-1-1-1-3-2-1-4-4', '2-1-1-1-2-3-0-4-55', '1-0-0-1-1-1-0', '1-0-1-1-1-3-0-4-51', '2-1-1-0-2-0-0-4-75', '2-0-2-2-2-3-0-3-54', '2-0-2-1-3-0-0-4-17', '2-1-1-0-2-0-0-4-39', '2-0-1-0-0-1', '1-0-2-2-3-3-0-3-12', '2-0-2-1-2-0-1-4', '2-1-1-2-2-2', '2-1-1-1-2-3-0-4-21', '2-0-2-1-1-0-0-3-22', '1-0-1-0-3-3-0-4-20', '1-0-0-1-1-2-0-3', '2-1-2-0-0--1-0', '2-0-1-0-1-2-0-4-17', '2-1-2-2-2-0-0-4-38', '2-1-2-1-2-1-0-4-34', '2-1-1-1-2-0-0-4-19', '1-1-1-1-3-2-0-4-5', '2-0-1-1-2-2-0-4-30', '2-0-2-1-0-2-0-4-74', '1-0-2-1-3-3-0-3-14', '2-0-2-1-3-2-0-4-4', '2-0-1-1-2-3-0-4-9', '1-0-1-1-2-0-0-3-100', '2-0-1-1-0-0-0-4-39', '2-0-2-2-1-2-0-4-44', '2-0-1-0-3-3-0-4-43', '1-1-2-1-2-3-0-3-61', '1-0-1-1-3-3-0-4-59', '2-1-1-1-0-0-0-4-77', '2-0-1-1-1-0-0-4-29', '1-0-1-1-0-2-0-3', '2-0-2-2-0-3-0-3', '1-1-1-1-2-0-0-4-14', '2-1-0-1-2-1-0-3-97', '2-0-2-0-1-0-0-4-30', '2-0-2-1-2', '2-0-2-1-0-0-0-3-62', '2-1-1-0-1-0-0-4-39', '2-0-1-2-3-1-0', '2-0-2-2-0-1-0', '2-0-1-1-1-1-0-4-37', '2-1-1-1-2-0-0-3-12', '2-0-1-1-0-0-0-4-79', '2-0-2-2-1-2-0-3-11', '2-1-1-1-0-0-0-4-16', '2-1-0-0-2--1-1', '2-1-2-0-2-2-0-4-54', '2-0-2-0-1-1-0-4-13', '2-0-2-1-2-0-0-4-45', '2-1-2-0-0-0-0-3-98', '2-0-1-1-2-2-0-4-33', '2-0-2-1-1-0-0-3-5', '2-1-2-1-3-3-0-4-52', '1-0-1-1-3-0-0-4-50', '2-0-2-2-2-3-0-4-39', '2-0-1-0-1-0-0-3-33', '2-0-1-1-2-0-0-4-55', '2-0-2-1-1-0-0-4-18', '2-1-2-1-2-3-0-3-50', '1-0-2-1-2-1-0-4-100', '2-1-0-1-0--1-0-3-37', '2-0-1-0-0-0-0-4-27', '2-0-1-2-0-2-0-4-89', '2-0-1-1-1-2-0-3-30', '1-0-2-0-3-2-0-4-36', '2-0-1-1-2-2-0-3-27', '2-0-0-1-2-0-0-3-16', '2-0-1-0-2-2-0-4-83', '2-1-2-1-1-1-0-3-3', '2-0-2-1-1-1-0-4-36', '2-1-1-0-3-1-0-4-49', '2-1-1-1-0-3-0-3-24', '2-0-1-0-1-1-0-3-28', '2-0-1-1-2-2-0-3-95', '2-1-1-1-0-3-0-4-5', '1-0-2-1-0-3-1-4-5', '1-0-1-2-0-0-1-4-1', '2-0-1-1-1-1-0-3-13', '2-0-1-1-0-0-0-3-89', '2-0-0-1-2-3-0-3-81', '2-1-2-2-3-2-1-3', '1-0-2-0-2-3-0-4', '1-1-1-1-3-0-0-4-99', '1-0-2-1-2-3-0-4-21', '1-0-1-0-3-0-0-4-34', '1-0-1-1-3-0-0-4-27', '2-1-1-1-2-2-0-4-70', '1-0-1-2-2', '2-1-1-0-0-1-1-4', '1-0-1-2-3-1-0-4-68', '2-0-2-1-1-1-0-4-40', '2-0-1-1-2-0-0-4-42', '1-0-0-1-3-0-0-3-7', '1-0-1-1-2-2-0-4-3', '2-1-1-1-1-1-1-3-1', '2-0-1-1-2-2-0-4-45', '1-1-2-2-2-2-0', '1-0-2-1-2-3-0-4-71', '2-0-1-1-1-0-0-4-51', '2-0-2-1-0-3-1-3-4', '2-1-2-1-3-2-0-3-29', '1-1-1-1-2-0-0-4-21', '2-0-2-0-2-3-0-4-55', '1-0-1-0-3-0-0-4-12', '2-1-1-2-3-2-0-3', '2-0-2-1-0-2-0-4-19', '2-1-1-2-0-0-0-4-6', '2-1-1-1-1-1-0-4-33', '2-1-1-1-3-1-0-4-27', '2-0-2-0-2-3-0-4-7', '2-0-1-0-0-2-0-4-34', '2-1-1-0-0-0-0-3-14', '2-1-2-1-1-3-1', '2-0-2-1-0-1-0-3-75', '2-1-0-0-0-0-0-3', '2-1-2-0-1-1-0-4-99', '2-1-2-2-1-1-0-4-40', '2-1-1-1-1-0-1-4-4', '2-0-2-1-2-0-0-4-94', '2-0-1-1-1-0-0-4-64', '2-1-0-1-0-0', '2-1-1-1-2-1-0-4-19', '2-0-1-1-1-1-0-4-59', '1-0-2-1-2-2-0-4-65', '2-0-1-1-1-2-1', '2-1-1-1-3-3-0-3-1', '2-0-1-1-1-1-0-3-68', '2-1-2-1-2-1-0-3-7', '2-1-2-1-1-1-0-4-50', '2-1-2-1-0-1-0-4-10', '2-0-2-2-0-0-0-4-32', '2-1-1-0-1-1-0-4-85', '2-1-1-1-2-3-0-4-29', '2-0-1-0-0-0-0-4-78', '2-1-0-1-2-0-0-2-95', '2-1-2-1-0-0-0-3-70', '2-0-1-0-1-0-0-4-62', '2-1-2-0-0-2-0-4-48', '2-1-1-1-1-0-0-4-72', '1-0-0-1-2-2-1', '2-0-1-1-3-0-0-4-87', '2-0-1-1-0-1-0-4-32', '1-0-1-2-0-0-0-3', '1-0-2-0-3-1-0-4-37', '1-0-2-1-3-3-0-3-100', '2-1-1-0-0-0-0-3-7', '2-0-1-0-2-3-0-4-90', '1-0-2-1-3-2-0-3-17', '2-0-1-0-1-1-0-3-84', '2-1-1-0-2-0-0-3-22', '2-0-1-0-1-2-0-3-87', '1-0-2-0-3-0-0-4-36', '2-1-2-0-1', '2-0-2-1-1-3-0-4-34', '2-0-1-0-2-0-0-4-16', '1-1-1', '2-0-1-1-0-3-0', '2-1-1-1-0-1-0-3-100', '2-1-1-1-2--1-0', '1-1-2-2-0-0-0-4-50', '2-0-1-0-1-0-0-4-33', '2-1-1-1-1-1-0-3-86', '2-0-0-1-2-2-0-3-3', '1-0-1-1-2-0-0-4-37', '2-0-2-2-1-2-0-3-86', '2-0-2-2-0-2-0-4-79', '1-1-2-1-0-3-0-4-32', '2-1-1-1-0--1-0-3-37', '2-0-1-0-1-1-0-3-51', '2-1-1-0-1-1-0', '2-1-1-1-2-0-0-4-41', '2-1-0-2-0-0', '2-0-1-1-3-2-0-4', '2-0-0-1-1-1-0-3-75', '1-1-1-0-3-3-1-4-4', '2-0-1-0-1-2-0-3-35', '2-0-1-1-3-0-0-4-17', '2-1-2-1-0-2-0-4-34', '1-0-1-2-3-0-0-4-68', '2-0-2-1-0-3-0-4-45', '2-0-2-1-2-0-0-3-51', '2-1-1-2-1-2-0-4-6', '2-1-2-1-1-1-0-3-41', '2-1-2-0-2-0-0-3-10', '2-0-0-1-1-2-1', '2-0-2-1-1-0-0-3-78', '2-0-0-1-1-2-0-3-71', '2-1-1-1-2', '2-0-1-1-2-0-0-3-85', '2-0-1-2-1-0-0-4-5', '2-1-1-1-0-1-1', '2-1-2-1-2-0-0-3-35', '2-0-1-1-0-2-0-3-81', '2-1-2-1-0-3-0-3', '1-0-2-1-0-0-1-3', '1-0-2-2-1-1-0-4-52', '1-0-2-1-1-3-0-4-52', '2-0-2-1-0-2-0-4-40', '2-0-2-0-0-2-0-4-35', '2-0-2-0-0-0-0-3-70', '2-0-2-2-0-3-1-3-3', '2-1-1-1-0-0-0-3-42', '2-1-1-1-1-1-0-3-31', '2-0-1-1-1-3-0-4-38', '2-0-2-1-0-0-1-4-4', '2-0-1-1-1--1-0-3-22', '1-1-1-1-0-3-0', '2-1-2-1-2-2-0-4', '2-0-2-2-0-0-0-3-58', '1-0-0-0-2-0-0-3', '2-0-2-1-1-2-0-3-13', '1-0-2-1-3-3-0-3-13', '2-0-2-1-2-1-0-4-65', '2-1-2-0-2-2-0-3-23', '1-0-2-1-1-3-0-4-98', '2-0-0-0-2-0-0-3-10', '2-1-1-2-1-2-0-3-55', '2-0-0-1-2-2-0-3-56', '2-0-2-0-0-2-0-4-76', '2-0-2-1-3-1-0-4-74', '1-0-1-1-2-2-0-4-60', '2-0-1-0-2-3-0-3-99', '2-0-2-2-0-0-0-4-93', '2-0-2-1-2-2-0-4-23', '2-0-1-1-2-0-0-4-31', '2-0-2-0-1-0-0-4-37', '1-1-1-1-2-0-0-4-85', '2-0-2-1-1-1-0-4-85', '1-0-2-1-2-0-1-3', '2-0-2-0-2-3-0-4-94', '2-0-2-2-1-3-1-4-5', '2-0-1-1-2-2-1-3-6', '2-1-0-1-1-0', '2-1-1-1-2-0-0-4-44', '1-1-1-1-1-0-0-3', '2-1-1-2-1-3-0-3-18', '2-0-0-1-2-0-1-3-6', '2-0-2-1-1-3-0-4-76', '1-1-1-1-2-2-0-4-77', '2-0-1-0-0-1-0-4-8', '2-0-2-1-1-1-0-3-2', '2-0-2-0-2-1-0-4-70', '2-0-1-2', '2-0-2-0-0-0-0-3-60', '2-0-2-2-2-0-0-4-68', '2-0-2-1-1-1-0-4-9', '1-0-2-1-3-2-0-3-21', '2-0-1-0-1-0-0-4-1', '2-1-2-1-3-2-0-3', '2-0-2-1-1-1-0-3-44', '2-1-2-2-0-3-0-3-86', '2-0-2-1-1-1-0-3-32', '1-1-1-1-3-2-0', '2-1-1-1-0-2-0-3-43', '2-1-1-0-2-2-0-4-81', '1-1-0-1-3-0-0-4-9', '2-1-1-2-0-0-0-4-46', '1-1-2-1-0-1-0', '1-1-2-1-3-1-0-4', '2-0-2-2-1-2-0-3-99', '2-1-1-1-1-0-0-4-5', '2-0-2-0-2-3-0-3-1', '2-0-2-0-0-2-0-4-70', '2-1-1-1-0-2-0-4-41', '2-1-1-1-2-0-0-4-35', '2-1-1-1-2-0-0-3-29', '2-0-2-1-0-1-0-4-65', '2-0-1-1-1-2-0-4-44', '2-0-2-1-2-2-0-4-35', '2-1-2-2-3-3-1-4-3', '2-1-1-1-2-2-0-4-65', '2-0-2-1-1-0-0-4-57', '2-0-2-1-2-0-0-3-19', '2-1-2-1-0-0-0-3-72', '1-1-0-0-0-0-0', '1-0-2-0-1-1-0-4-56', '1-0-2-1-3-1-0-3-30', '2-0-2-1-1-1-0-4-21', '2-0-2-1-1-0-0-3-21', '2-1-2-2-3-1-1-4', '2-0-1-0-2-0-0-3-83', '1-1-2-1-2-0-0-4', '2-0-1-1-1-1-0-3-60', '2-0-1-1-3-2-0-4-93', '1-1-1-1-2-3-0-4-22', '1-0-1-1-3-2-0-4-43', '2-1-2-1-1-0-0-3-75', '1-0-2-0-1-2', '2-1-1-1-2-1-0-4-10', '2-0-2-1-2-3-1-4-9', '2-0-1-0-1-1-0-3', '2-0-2-0-1-0-0-4-15', '2-1-2-1-2-0-0-3-69', '2-0-0-0-0--1-0-4', '2-0-1-0-2-0-0-4-83', '2-0-1-0-1-0-0-4-59', '2-1-2-1-0-2-0', '2-1-1-0-2-2-0-4-100', '2-1-2-1-1-3-0-4-36', '2-0-1-0-2-0-0-4-93', '2-0-1-1-2-0-0-4-40', '2-0-1-0-0-0-0-4-97', '2-1-1-0-0-0-0-3-72', '2-0-2-1-0-0-0-4-96', '2-0-1-2-1-1-0-4-100', '1-1-1-1-2-0-0-4-45', '2-1-1-2-1-1-0-4-59', '2-1-0-1-2-0-0-4-81', '2-0-1-0-2-1-0-3-90', '2-0-1-1-0-2-0-3-33', '1-1-2-1-3-0-0-4-38', '2-0-1-1-0-1-0-3-37', '1-0-2-1-3-3-0-3-8', '2-1-2-2-0-3-0-3-14', '2-0-1-0-1-0-0-3-82', '2-1-1-0-2-3-0-4-42', '1-0-2-1-2-2-0-4-64', '2-1-1-2-1-3-0-4-6', '2-1-1-1-0--1-0-3-30', '2-0-2-1-2-3-0-3-1', '2-0-1-1-2-0-0-4-13', '2-0-2-1-0-2-0-4-25', '2-1-1-0-2-3-0-4-74', '2-0-1-1-0-0-0-4-6', '2-0-2-1-1-1-0-3-60', '2-1-2-0-2-0-0-4-11', '2-1-2-1-0-2-0-4-44', '2-0-1-1-0-3-0-4-20', '2-0-2-0-0-3-0-4-95', '2-0-0-1-2-1-0-3-28', '2-0-2-2-1-0-0-4-45', '2-1-2-2-0-0-0-4-80', '2-1-2-1-0-2-1-4-1', '1-0-1-0-2-1-0-3-32', '2-0-1-0-1-1-0-4-4', '2-0-1-2-0-0-0-3-100', '2-0-1-1-2-2-0-3-45', '1-0-2-1-1-2-0-4', '2-1-2-0-0-0-0-4-45', '1-0-1-1-2-0-0-3-71', '2-0-2-1-0-1-0-4-1', '2-1-2-1-2-1-0-4-46', '1-1-1-0-3-0-1', '2-1-1-0-2-1-0-4-88', '2-0-2-1-3-3-0-4-47', '2-0-1-1-2-0-0-3-76', '2-1-1-1-2-2-0-4-41', '2-1-2-2-1-0-0-4-18', '2-0-1-1-1-2-0-3-71', '2-0-1-2-2-0-0-4-99', '1-0-2-1-3-3-0-4-29', '1-1-2-2-3-3-0-4', '2-0-0-2-1-0-0-4-13', '2-1-1-1-2-1-0-4-12', '2-0-1-2-2-3-0-4-89', '2-1-2-2-1-0-0-3-76', '2-1-2-0-3-1-0-3-54', '2-1-1-1-2-3-0-3-17', '1-0-1-1-3-0-0-4-56', '2-0-2-2-0-0-0-4-73', '2-0-1-0-1-1-0-4-75', '2-0-2-0-2-1-0-3-33', '1-0-1-1-3-0-0-4-66', '2-0-1-0-1-0-0-3-99', '2-1-1-1-1-1-0-3-37', '1-1-1-1-2-0-0-4-46', '2-0-2-1-0-1-0-4-4', '2-0-1-1-0-1-0-4-49', '1-1-1-1-2-0-0-4-23', '2-0-1-2-1-3-0-3', '2-1-1-1-0-1-0-4-41', '2-0-1-2-2-2-0-4-17', '2-0-1-2-3-2-0-4-42', '1-0-1-0-3-0-0-4-2', '2-1-2-0-0-3-0-3-18', '1-0-2-1-2-2-0-3-100', '1-0-1-1-1-1-0-3-57', '1-1-1-1-0-3-0-4-49', '2-1-1-1-2-3-0-3-29', '1-0-1-0-3-1', '2-1-1-1-0-0-0-4-27', '1-0-1-1-3-3-0-4-28', '2-0-2-1-1-3-0-3-21', '1-0-0-1-0-3-0-3-45', '2-0-1-1-2-1-0-3-12', '2-0-2-0-1-0-0-4-26', '2-0-1-1-0-0-0-3-99', '2-1-2-0-2-3-0-4-10', '2-0-2-1-1-0-0-3-97', '2-0-2-0-1-1-0-3-87', '2-1-2-1-1-0-0-4-41', '2-0-1-2-1-1-0-4-21', '1-1-1-2-0-0-0-3-48', '2-0-0-1-1-2-0-3-87', '2-0-2-0-3-3-0-4-52', '2-1-2-2-1-2', '1-0-2-1-2-2-0-4', '2-0-1-0-3-1-0-4-13', '2-1-1-1-1-3-0-4-43', '1-0-2-1-0-2-0-4-55', '2-1-2-1-0-1-1-4', '2-1-2-1-0-3-0-4-46', '1-0-2-1-0-0-0-4-53', '1-0-1-2-0-0-1', '2-0-1-1-2-3-0-4-34', '1-0-2-1-3-3-0-3-29', '2-0-1-1-1-0-0-2-67', '2-1-2-0-0-2-0', '2-1-1-1-0-3-0-3-27', '2-0-0-2-1-2-0-4-100', '2-0-0-1-1-2-1-3-5', '2-1-2-1-1-3-0-4-14', '2-1-0-2-0-0-0-3', '2-0-1-0-0-0-0-4-68', '2-1-2-2-0-0-0-4-63', '2-1-2-1-2-1-0-4-10', '1-0-2-2-2-0-0-3', '2-1-1-1-2-0-0-4', '2-0-1-0-2-1-0-4', '2-0-2-1-2-0-0-3-69', '2-0-1-0-2-2-0-4-53', '2-0-2-1-0-3-0-3-64', '2-1-2-0-1-3-1-4-1', '2-0-1-0-1-0-0-4-43', '2-0-2-2-0-2-0-3', '2-1-2-1-1-2-0-3-4', '2-0-2-1-1-1-0-3-30', '2-0-2-1-2-2-0-3-23', '2-1-1-1-2-2-0-4-87', '2-1-2-1-2-3-0-4-64', '2-0-1-1-1-3-0-3-71', '1-0-2-1-1-0-0-4-28', '2-0-2-1-0-3-0-4-37', '2-0-2-1-1-0-0-4-2', '2-1-2-0-1-2-0-4-35', '2-0-1-0-1-2-0-4-54', '2-1-0-1-0-0-0-3-71', '2-1-2-1-0-0-0-2', '2-1-1-1-2-1-0-3-41', '2-0-1-1-0-2-0-3-74', '2-0-1-1-2-3-0-4-14', '2-0-1-1-2-1-0-4-3', '2-1-2-2-2-3-0-4-40', '2-0-2-1-2-3-0-4-8', '1-0-1-2-3-3-0-4-43', '1-0-0-1-0-1', '2-0-1-0-1-2-0-3-29', '2-0-2-0-0-0-0-3-23', '2-0-1-1-2-3', '2-0-2-0-1-3-0-3-16', '1-0-2-2-3-0-0-1-32', '1-0-1-1-2-3-0-4-100', '2-1-1-1-2-3-0-4-47', '2-0-1-1-3-0-0-3-41', '2-0-2-1-3-1-0-4-5', '2-0-1-1-0-0-0-3-85', '2-0-1-1-2-3-0-3-29', '2-0-1-1-3-3-0-4-29', '2-0-2-2-0-2-0-4-35', '2-0-1-1-2-0-0-4-59', '2-0-1-0-2-3-1-4-1', '2-1-1-2-1-2-0-4-17', '2-1-1-1-0-1-0-3-36', '2-0-1-1-2-3-0-4-74', '2-0-1-2-1-0-0-4-16', '2-0-1-2-2-1-0-3-23', '1-0-0-1-3-3-0-3-18', '2-1-2-1-2-1-0-3-23', '2-1-0-1-1-0-0-3-22', '2-1-2-0-0-0-0-4-91', '2-1-1-1-1-1-0-3-62', '2-0-2-2-0-0-0-2-56', '2-0-1-1-1-1-0-3-99', '2-1-2-1-0-2-0-4-75', '2-0-2-2-1-2-0-4-17', '2-1-2-0-2-0-0-3-56', '1-0-0-1-1-2-0-3-99', '2-1-2-0-3-3-0-4-4', '2-1-2-2-0-2-0-3', '1-1-2-1-1-1-0-3-49', '2-0-1-1-2-0-0-3-81', '2-0-1-2-1-0-0-4-50', '2-1-1-0-1-2-0-4-63', '2-0-1-1-1-1-0-4-65', '2-0-1-1-1-1-1-4-1', '2-0-1-1-2-1-0-3-36', '2-1-2-1-2-0-0-3-1', '2-0-1-2-1-2-0-4-45', '2-1-1-0-0-1-0-4-83', '2-0-2-1-0-2-0-4-42', '2-0-1-1-0-1-0-3-43', '1-0-2-0-1-0', '2-0-1-1-0-3-0-4-61', '2-1-1-2-0-1-0-4-45', '2-1-2-1-1-0-0-3-73', '2-0-2-1-2-0-0-4-23', '2-1-2-1-1-3-0-4-84', '2-0-2-1-1-3-0-3-22', '1-0-1-2-3-1-0-4-74', '1-0-2-1-1-1-0-4-46', '2-0-1-0-1-0-0-4-8', '2-0-1-0-2-2-0-4-84', '2-0-2-1-0-0-0-4-62', '1-0-0-1-1-0-0-4', '2-0-2-1-2-2-0-4-72', '2-0-1-1-2-0-0-4-64', '2-0-2-1-0-1-0-4-43', '2-1-2-1-0-3-0-3-27', '2-1-1-1-0-3-0-4-47', '2-0-1-1-0-3-0-4-50', '2-0-1-1-2-2-1-4-6', '2-0-2-2-0-0-0-3-33', '1-0-2-1-3-3-0-3-20', '1-0-1-1-0-0-0-3-100', '2-1-1-1-1-1-0-3-24', '2-0-2-0-2-0-0-3-44', '1-0-1-1-3-2-0-4-10', '2-0-1-1-0-2-0-4-37', '2-0-1-1-1-1-0-3-43', '1-0-1-2-2-3-0-4-70', '2-0-1-1-1-3-0-4-42', '1-1-1-2-3-3-0-4-100', '1-1-1-1-2-1', '2-1-2-0-1-0-0-4-99', '1-1-1-2-0', '2-1-2-1-2-0-1', '2-0-1-1-1-1-0-4-73', '1-0-1-2-3-0-0-3', '2-0-1-1-0-2-0-4-81', '2-1-1-1-2-2-0-4-95', '2-1-2-1-0-1-0-4-6', '2-0-2-1-2-2-0-3-66', '1-1-0-1-3-0-0-3-37', '2-0-1-1-1-0-0-4-78', '2-1-2-1-0-2-0-3-54', '2-0-2-1-1-3-0-4-99', '2-1-2-0-2-2-0-4-23', '2-0-1-0-2-2-0-3-51', '1-0-2-0-0-3-1-3-3', '2-0-1-1-2-1-0-4-98', '2-0-2-1-1-1-0-3-57', '2-1-1-1-1-2-0-3-98', '1-0-2-1-0-3-0-4-19', '2-0-1-1-0-0', '2-0-1-2-2-1-0-4', '2-1-0-2-2-1', '1-0-1-2-3-0-0-3-34', '2-1-0-1-0--1-0-3-18', '2-0-2-0-1-0-0-3-10', '2-0-2-1-1-1-0-4-50', '2-0-2-1-1-1-0-4-84', '2-0-2-1-3-0-0-4-45', '1-0-1-1-2-3-1-3', '1-0-2-1-2-1-0-4', '2-1-2-1-2-2-0-3-32', '2-0-1-1-0-2-0-4-92', '2-0-2-2-1-0-0-4-26', '2-1-1-0-2-2-0-3-29', '2-0-2-0-1-0-0', '2-1-2-0-0-0-0-3-68', '2-0-2-1-0-1-0-4-92', '2-0-1-0-2-1-0-4-39', '2-0-2-1-2-2-0-4-79', '2-0-2-0-0-3-0-3-73', '1-1-1-2-2-2-0-3', '2-1-1-1-2-1-0-3-5', '2-1-1-1-1-0-0-3-9', '2-1-1-1-2-0-0-3', '2-1-1-2-3-0-0-4-80', '2-0-2-1-0-1-0-4-3', '2-0-1-1-3-2', '2-0-2-1-2-3-0-4-6', '2-0-1-1-0-2-0-4-16', '2-1-2-1-0-1-0-4-54', '1-0-1-1-1-3-0-3-50', '2-1-1-1-1-0-0-4', '2-0-2-1-3-3-1-4-4', '2-0-1-1-1-0-0-4-44', '2-0-1-0-3-0-0-3-10', '2-1-1-1-2-0-0-3-64', '2-1-1-1-1-1-0-4-12', '2-0-2-0-2-2-1-4-2', '2-0-1-1-2-0-0-4-54', '2-1-2-1-1-0-0-4-63', '2-0-1-2-1-1-0-4-45', '2-0-2-0-2-1-0-4-74', '2-1-1-0-0-1-0-4-86', '2-0-1-1-1-2-0-3-12', '1-0-1-1-3-3-0-4-39', '2-0-1-1-0-2-0-4-48', '2-1-2-1-2-3-0-4-87', '2-1-2-0-2-2-0-4-51', '2-0-2-1-3-0-1-4-6', '2-0-1-1-0-1-0-4-53', '2-0-1-1-2-0-0-3-9', '1-0-1-1-3-0-0-3-29', '1-0-2-1-3-3-0-4-34', '2-0-2-0-1-0-0-4-63', '1-1-1-1-2-3-0-4-58', '2-1-1-1-1-2-0-4-16', '2-0-2-0-1-3-0-4-5', '2-0-1-1-2-1-0-3-15', '2-1-2-1-0-1-0-4-42', '2-0-0-1-2-1-0-3-33', '2-1-2-1-3-0', '1-0-2-0-3-1-0-4-30', '1-0-2-1-1-2-0-3-57', '1-1-1-1-3-0-0-4-25', '2-0-1-1-0-2-0-4-35', '2-1-1-1-2-1-0-4-14', '2-0-1-1-1-0-0-4-28', '2-0-2-1-2-2-0-4-50', '2-1-2-1-1-0-0-4', '2-0-1-1-1--1-0-4', '2-0-1-0-1-1-0-3-39', '2-0-1-1-1-0-0-4-91', '2-0-1-1-2-2-1-4', '2-0-2-0-1-0-0-4-24', '2-1-2-1-1-2-0-4-100', '2-1-2-0-3-3-0', '2-0-1-1-2-3-0-3-35', '1-0-2-2-1-1-0-4', '2-0-2-0-2-0-0-3-75', '2-0-1-2-0-0-0-4-21', '1-0-0-1-3-2-0-3-29', '1-1-2-1-2-0-0-4-21', '2-1-2-2-1-1-0-3-6', '2-1-1-1-1-1-0-4-37', '2-0-2-1-0-0-1-3', '2-0-1-1-0-1-0-4-7', '2-0-2-1-0-0-0-3-67', '2-0-2-2-2-2-0-4-64', '2-0-1-2-1-0-0-4-99', '2-0-0-0-1-3', '2-0-1-0-0-1-0-3-68', '2-1-1-0-2-2-0-4-42', '2-1-1-1-1-3-1-4', '2-0-1-0-2-0-1-4-1', '2-0-1-0-1-0-0-4-32', '2-0-1-1-2-0-0-4-94', '2-0-1-1-3--1-0-3-22', '2-0-2-0-0-0-0-1', '2-1-2-1-1-1-0-4-60', '2-0-1-1-0-0-0-4-50', '2-1-1-0-1-0-0-2-41', '2-1-2-2-1-2-0-4-17', '2-0-1-0-1-1-0-3-56', '2-0-1-2-0-1', '2-0-2-1-0-0-0-4-81', '1-1-1-1-1-2-0-3', '2-0-2-2-0-1-1-4-9', '2-0-1-1-1-2-0-4-58', '2-0-1-1-3-', '2-0-2-0-1-2-0-4-8', '2-0-2-1-1-2-0-4-46', '1-0-1-1-3-1-0-3-61', '2-0-1-1-2-2-0-4-34', '2-0-0-2-2-2-0', '2-0-2-1-0-2-0-3-17', '2-1-1-1-2-2-0-3-53', '1-1-0-1-1-3-0-3', '2-0-1-1-2-1-0-4-73', '2-0-2-1-1-2-0-4-83', '1-0-1-1-3-1-0-4-96', '2-1-1-1-0-1-0-3-92', '2-1-0-1-1-3-0', '2-0-2-2-0-0-1-3', '2-1-2-0-2-1-0-4-28', '2-0-2-0-0-1-0-4-38', '2-1-2-1-2-2-0-4-3', '2-0-2-1-1-0-0-4-34', '2-1-2-1-1-3-0-3-4', '2-0-2-0-0-3-1-3', '2-0-1-0-1-1-0-4-51', '1-0-2-1-3-3-0-4-56', '2-1-1-1-2-0-0-4-80', '2-0-2-1-2-2-0-3-64', '2-0-1-1-1-2-0-3-29', '2-0-1-1-2-3-0-4-78', '2-1-1-1-2-3-0-3-59', '2-0-1-1-1-3-0-4-39', '2-1-2-1-1-2-0-3-86', '1-0-2-1-2-3-0-4-64', '2-0-1-1-0-2-0-4-31', '2-1-2-0-0-0-0', '1-0-1-2-1-2-0', '2-1-1-0-2-1-0-4-100', '2-1-1-2-3-0-0-3-42', '2-0-2-1-1-3-0-4-60', '2-0-2-1-1-1-0-3-21', '2-1-1-1-2-0-0-4-77', '2-1-2-0-2-2-0-4-35', '2-0-1-1-2-1-0-4-60', '2-1-2-0-2-3-0-4-35', '2-0-0-1-0-3', '1-1-2-1-3-0-0-3-19', '1-0-1-0-2-3-0-4-32', '2-1-1-1-2-0-0-3-75', '1-0-2-0-3-0-0-3-33', '2-0-0-1-1-0', '2-1-2-1-1-3-1-3-9', '2-1-2-1-2-0-0-3-42', '1-1-1-1-3-0-0-4-54', '2-1-1-1-2-0-0-3-10', '2-0-0-1-2-3-0-3-2', '2-0-2-2-0-0-0-4-63', '2-1-2-2-1-3-0-3-85', '2-1-1-1-2-0-0-4-17', '2-0-1-1-1-0-0-4-35', '2-1-2-2-1-2-0-4-85', '2-1-1-0-0-2-0-4-31', '2-0-1-1-0-0-0-3-13', '2-0-1-1-1-2-0', '2-1-1-0-0-3-0-4-42', '1-0-2-1-3-2-0-4-64', '2-0-2-1-1-0-0-3-4', '2-0-2-1-1--1-0-3-36', '1-0-2-1-3-2-0-3-57', '2-1-1-1-3-1-0', '2-0-1-2-1-2-0-3-5', '2-0-2-1-1-3-0-4-32', '2-0-1-1-2-3-0-3-40', '2-0-2-0-2-2-0-3-93', '2-1-1-2-1-1-0-4-79', '2-1-1-1-0-0-0-3-99', '2-1-2-0-3-0-0-4', '2-0-1-1-1-2-0-3-9', '2-0-2-1-0-0-0-4-97', '2-0-2-1-1-0-0-3-29', '2-0-2-0-0-3-0-4-76', '2-0-1-1-3-0-0-4-26', '2-0-1-0-1-3-0-3', '2-0-2-1-0-0-0-3-49', '2-1-1-2-2-1-0-4-42', '2-0-1-1-0-0-0-4-7', '1-0-1-0-2', '2-0-0-2-1-1-0', '2-1-2-0-0-2-0-4-64', '1-1-2', '2-0-1-1-3-0-0-4-35', '2-0-2-2-1-0-0-3-33', '2-0-1-2-0-3-0-3-99', '2-0-2-2-1-1-0-4-8', '2-0-0-1-0-0-1-3', '2-0-2-1-0-1-0-4-80', '2-1-1-2-2-2-0-3', '2-0-2-1-0-2-0-4-55', '1-1-2-1-0-2-0-4-33', '2-0-0-2-2-1', '2-0-2-2-1-1-0', '2-0-0-1-2-0-0-3-55', '2-0-2-1-1-0-0-4-84', '2-1-1-1-1-0-0-4-3', '2-0-2-1-3-2-0-4-19', '1-1-1-1-2-1-0-4-3', '2-0-2-0-0-1-0-3-34', '2-1-2-1-1-3-0-4-6', '2-1-2-0-2-3-0-3-53', '2-1-1-1-0-0-0-3-37', '1-0-1-1-2-1-0-4-61', '2-0-2-2-2-0-0-4-49', '2-0-1-0-3-2-0-3-43', '2-0-2-1-3-1-0-4-30', '2-0-1-1-0-2-0-4-23', '1-0-2-0-3-0-0-3-34', '1-1-0-1-2-0-0-3-76', '2-1-1-1-0-2-0-4-8', '2-0-1-0-1-0-0-3-30', '1-0-1-1-3-3-0-4-99', '2-0-1-0-1-0-0-3-81', '2-1-2-1-2-1-0-4-43', '2-0-0-0-0-0-0-3-82', '1-1-1-1-2-0-0-3-5', '2-0-2-1-2-0-0-4-20', '1-1-2-0-2-3', '2-0-1-0-1-0-0-4-88', '2-0-1-1-1-3-0-4-50', '2-1-1-1-1-3-1-3', '2-1-0-1-1-2-1-3-3', '1-0-2-2-2-0-0-4-55', '1-0-2-1-2-3-0-3-43', '2-1-2-0-1-2-0-4-6', '2-1-2-0-2-3-0-4-88', '2-1-1-0-2-0-0-4-17', '2-1-1-0-3-0-0-3-3', '2-0-1-0-0-2-0-3-5', '1-0-2-1-3-0-0-4-30', '1-0-2-1-3-3-0-4-64', '2-0-1-0-2-2-0-4-95', '2-0-0-2-0-0-0-4', '2-0-1-0-1-0-0-4-92', '2-1-1-2-0-3-1-4-8', '1-0-2-0-3-3-0-4-47', '2-1-1-1-2-3-0-4-70', '2-1-1-1-2-3-0-4-6', '2-1-1-1-1--1-0-3-36', '2-0-2-0-2-1-0-4-42', '1-1-1-1-3-0-0-3-20', '2-0-2-1-2-0-0-3-33', '2-1-1-1-0-0-1-4-2', '2-0-2-1-1-2-0-4-63', '2-1-1-1-2-1-0-3-82', '2-1-2-1-1-2-0-4-36', '2-1-1-1-2-3-0-3-12', '2-1-1-1-2--1-0-3', '2-1-2-1-1-3-1-4-8', '2-1-1-2-0-0-0-3-73', '2-1-2-1-2-3-0-4-46', '2-0-1-1-3-3-1', '1-1-2-1-0-2-0-3-33', '2-0-1-1-0-1-0-4-94', '2-0-2-0-2-1-0-4-29', '2-0-1-0-1-2-0-4-9', '2-1-2-2-1-1-0-3-7', '2-1-2-1-1-0-0-4-47', '2-0-1-2-2-2-0-4-72', '2-1-2-2-0-0-0-4-14', '2-1-1-1-1-3-0-4-17', '2-1-1-1-1-3-0-4-98', '2-0-1-2-1-2-0-4-49', '2-0-1-1-2-2-0-3-44', '2-0-2-1-0-1-0-4-23', '2-0-2-0-2-2-0-4-53', '2-1-1-0-0-0-0-3-18', '2-0-0-2-2-3-0-3-37', '2-0-2-1-2-0-0-4-82', '2-1-2-0-1-0-0-4-34', '2-0-2-1-2-0-0-3-74', '2-0-0-1-1-3-0-4', '2-0-2-0-2-0-0-3-98', '2-0-1-1-0-3-0-4-23', '1-0-1-1-3-0-0-4-2', '2-1-1-1-1-2-0-3-46', '2-0-1-0-0-1-0-4-60', '1-1-1-1-3-0-0-4-66', '2-0-1-0-2-1-0-4-51', '2-0-2-0-0-2-0-3', '2-0-1-0-0-2-0', '2-1-2-1-2-2-0-4-14', '1-1-2-2-3-2-0', '2-1-1-1-2--1-0-3-29', '2-1-1-1-0-1-0-4-87', '2-0-2-0-1-2-0-4-57', '2-0-2-1-3-0-0-4-10', '2-0-1-1-2-3-0-4-28', '2-0-1-1-2-0-0-4-81', '2-1-1-2-3-3-0-4-43', '2-0-2-1-1-3-0-4-20', '2-1-2-1-2-2-0-4-83', '2-0-1-0-1-3-0-3-32', '2-1-1-1-1-2-0-4-40', '2-1-0-0-2-1-0', '2-0-1-1-0-0-0-4-19', '1-0-2-1-3-3-0-4-90', '1-0-2-1-3-0-0-3-14', '1-0-2-0-3-2-0-4-58', '2-0-2-2-1-1-0-4-84', '2-0-1-1-2-2-0-4-89', '2-1-2-1-0-1-0-4-89', '2-1-2-1-2-2-0-4-20', '2-0-2-2-2-3-0-4-68', '2-1-1-0-1-2-0-4-22', '2-1-1-1-2-2-0-4-20', '1-0-2-1-3-2-0-3-31', '2-0-2-1-2-2-0-4-42', '2-1-2-1-1-0-0-4-96', '2-0-2-1-0-3-1-4-5', '1-0-1-0-2-3', '2-0-2-1-1-2-0-4-8', '2-0-0-1-1-2-0-3-84', '2-0-0-0-2-2-0-3-5', '2-1-1-0-0-0-0-4-31', '2-0-1-2-0-2-0', '2-1-1-0-1-0-0-4-51', '2-1-0-1-0-2-0-3-61', '2-0-2-0-1-1-0-4-76', '2-1-1-2-0-0-0-4-45', '2-1-1-0-2-2-0-3-3', '2-0-2-0-3-2-0-4-100', '2-0-1-2-1-0-0-4-41', '1-1-2-0', '2-0-2-2-0-0-0-4-29', '1-0-1-1-1-2-0', '2-1-1-1-2-0-0-3-80', '2-0-1-1-0-3-0-3-18', '2-0-1-1-2-0-0-4-67', '2-0-2-1-2-3-0-4-24', '2-0-2-1-0-1-0-4-99', '2-0-1-0-2-3-0-4-1', '2-0-2-1-0-2-0-4-63', '2-0-1-0-2-0-0', '2-0-2-1-0-3-0-4-34', '2-0-1-0-0-1-0-4-25', '2-0-1-1-1-1-0-4-40', '2-1-1-1-2-1-0-4-63', '1-0-1-1-2-3-0-3-68', '2-0-0-1-0-0-1-3-1', '1-0-2-1-3-1-0-3-32', '2-1-1-1-2-1-0-3-37', '2-1-2-1-0-0-0-3-33', '1-0-0-2-2', '2-0-1-2-1-1-0-4-3', '2-0-1-0-0-3-1-4-3', '2-1-2-2-2-3-0-4-67', '2-1-1-1-0-2-0-3-21', '2-1-1-0-1-2-0-4-36', '2-1-2-2-1-1-0-4-76', '2-0-2-0-1-0-0-4-41', '2-1-1-1-0-3-0-3-88', '2-0-2-0-2-1-0-3', '2-0-2-1-0-2-0-4-54', '2-0-1-1-2-0-1', '2-0-2-1-0-0-0-4-99', '2-1-1-1-1-2-0-4-5', '2-1-2-2-2-1-0-4-44', '2-1-2-2-1-0-0-3-57', '2-0-1-1-2-2-0-4-9', '1-1-2-0-0-2-0-3-52', '2-0-1-0-1-2-0-4-92', '2-0-2-1-0-2-0-3-12', '1-0-0-0-2', '2-0-2-1-2-1-0-3-38', '2-0-1-1-2-2-0-4-65', '2-0-2-1-2-1-0-4-83', '2-0-2-1-0-1-0-4-46', '2-0-2-0-2-2-0-4-23', '1-1-1-0-2-1-0-4-52', '2-1-2-1-1-3-0-4-64', '2-0-2-1-2-3-0-3-70', '2-1-1-2-1-3-0-4-9', '1-0-2-1-2-2-1-4-1', '2-1-1-0-2-1-1-4', '2-0-2-1-0-3-0-4-73', '2-1-1-1-0-0-0-4-31', '2-1-2-1-0-0-1-4', '2-1-1-1-2-0-0-4-38', '2-0-2-1-1-1-0-3-81', '1-1-2-1-0-1-0-4-32', '1-0-1-1-3-0-0-3-14', '2-0-2-1-2-3-0-4-79', '2-0-1-0-0-3-0-4-62', '1-1-0-0-3-2', '2-0-1-2-2-3-0-3', '2-1-1-1-0-2-0-4-72', '2-0-1-0-2-3-1-3-3', '2-0-1-1-0-0-0-4-99', '2-0-2-2-1-2-0-3-80', '2-0-1-1-3-1-0-3-5', '2-1-1-0-2-0-0-4-70', '1-0-1-1-2-3-0-4-78', '2-0-0-1-1-0-0-3', '2-0-2-1-2-0-0-4-9', '1-1-2-0-3-3-0-3', '2-0-2-1-0-1-0-3-45', '2-0-2-2-1-0-0-4-99', '2-1-1-0-1-0-0-4-63', '2-0-0-1-2-0-0-3-85', '2-1-2-0-2-0-0-4-68', '2-0-0-1-2-0-0-3-59', '1-0-1-1-3-3-0-4-4', '2-0-1-0-1-1-0-4-53', '2-0-2-2-0-0-0-4-1', '2-0-1-1-1-3-0-3-16', '1-0-1-1-2-0-0-3', '2-1-1-1-0-1-0-4-46', '2-0-1-1-0-0-0-3-57', '2-0-1-1-3-2-0-3-35', '2-0-1-0-1-3-0-4', '2-1-1-0-1-3-0-3-5', '2-0-2-1-1-2-0-4-77', '1-0-0-1-3-2-0-3-11', '2-0-1-1-0-2-1-4', '2-0-1-1-2-0-0-3-3', '2-1-1-1-1-0-0-4-75', '2-0-0-1-0', '1-1-2-1-3-0-0-4-7', '2-0-2-1-3-0-0-4-90', '2-0-2-0-2-0-0-4', '2-0-1-1-2-2-0-3-49', '1-0-1-1-3-1-0-4-99', '2-0-1-0-2-0-0-4-60', '2-1-2-0-2-2-0-4-6', '1-1-2-1-2-0-0-4-48', '1-1-2-1-3-0-0-3-16', '2-0-2-2-0-0-0-3-100', '2-0-1-1-0-2-0-4-18', '2-1-1-1-2-3-0-3-49', '2-1-1-1-3-3-0-4', '2-0-1-1-1-3-0-4-57', '2-0-2-0-1-1-0-4-34', '2-0-1-0-2-1-0-4-38', '1-1-2-1-2-2-0-4-5', '2-0-1-1-1-2-0-4-59', '1-0-1-1-1-0-0-4-51', '2-0-0-1-1-0-0-3-22', '2-0-2-0-1-0-0-3-60', '2-1-1-1-0-0-0-4-22', '1-0-1-2-3-3-0-4-84', '2-1-1-1-2-3-0-4-26', '2-0-1-2-1-1-1-4', '1-0-1-1-0-0-1', '2-1-1-1-2-0-0-4-92', '1-0-1-1-3-3-0-3-9', '2-0-2-1-0-1-0-4-70', '1-0-1-1-2-0-0-3-3', '2-1-2-1-1-1-1-4', '1-0-2-1-3-3-0-4-4', '2-1-1-1-2-0-0-3-32', '2-1-1-1-2-0-0-4-57', '2-0-1-1-1-2-0-3-5', '2-0-2-1-0-0-0-3-85', '1-1-1-1-3-3-0-3-4', '2-0-2-2-1-3-0-4-47', '2-0-0-1-0-0-0-3-96', '1-0-1-1-3-3-0-4-22', '1-1-2-1-1-1-0', '2-1-2-0-0-0-0-3-83', '2-0-2-1-1-2-0-3-3', '2-0-2-2-2-3-0-4-46', '2-0-2-0-0-1-0-4-85', '2-0-1-0-2-0-0-4-67', '1-0-0-1-3-2-0-3-62', '2-0-2-2-2-2-1', '2-0-2-1-1-1-0-3-15', '2-0-1-0-1-0-0-3-79', '2-1-0-1-0-0-0-3-76', '2-0-1-2-0-3-0-4-84', '2-1-2-1-0-0-0-4-42', '1-0-1-1-2-2-0-4-71', '2-1-2-0-1-1-1-4-1', '2-1-2-1-2-0-0-3-56', '2-1-1-1-2-2-0-3-44', '2-0-1-1-2-3-0-4-29', '2-0-2-0-2-1-0-3-54', '1-1-1-1-2-3-0-4-43', '2-1-2-1-2-3-0-4-58', '2-1-1-1-2-0-0-3-95', '2-1-2-1-0-1-0-3-58', '1-0-2-2-2-1-0-4', '2-0-2-1-0-1-0-4-88', '2-1-1-1-1-1-0-4-41', '2-0-1-0-0-1-0-4-75', '2-1-2-1-0-0-0-3-36', '2-0-2-1-2-0-0-4-71', '1-0-2-1-3-0-0-3-33', '1-0-2-2-0-0-0-4-51', '1-0-2-1-2-3-1-3', '1-1-2-2-3-0', '1-0-1-1-2-0-0-3-1', '2-1-1-2-1', '1-0-2-1-3-0-0-3-92', '2-1-1-0-1-3-0-3-37', '2-1-2-1-1-0-0-4-3', '2-0-2-0-2-1', '2-1-2-0-2--1-0-4', '2-0-2-2-2-2-0-4-79', '2-0-2-1-1-2-0-4-64', '1-1-0', '2-0-0-1-2', '2-1-1-1-0-2-0-3-99', '2-0-1-0-3-2-0-3-55', '2-0-1-1-0-0-0-3-29', '2-0-1-0-0-2-0-4-9', '2-0-1-1-0-2-0-4-68', '2-0-0-1-0-1-1-3-1', '2-0-1-2-3-0-0', '2-0-2-0-0-1-0-4-62', '1-0-2-1-0-2-1-4-1', '2-0-1-1-0-0-0-4-41', '2-1-1-0-3-2-0-4-20', '2-0-2-1-0-1-0', '1-1-2-1-2-0-0-3-54', '1-0-1-1-2-0-0-4-61', '1-0-2-0-1-3-0-4-100', '2-0-1-0-0-3-1-3-1', '2-0-2-0-2-0-0-4-17', '2-0-2-0-2-3-0-3-48', '2-0-1-2-1-2-0-4-20', '2-1-2-1-2-2-0-3-46', '2-1-1-1-2-1-0-4-97', '2-0-2-1-2-3-0-4-83', '2-0-1-0-1-1-0-4-61', '1-0-1-0-1-0-0-4', '1-1-1-1-3-2-0-3-55', '2-0-1-2-1-0-0-4-45', '2-0-2-1-0-2-0-3-13', '1-0-2-1-3-0-0-4-21', '2-0-1-1-2-3-0-3-33', '2-0-2-1-1-0-0-3-77', '1-0-1-0-3-1-0-4-2', '2-0-2-1-1-0-0-3-59', '2-1-2-2-2-3-0-4-95', '1-1-2-1-0-2-0-3', '1-0-1-1-2-0-0-4-78', '2-1-2-2-1-3-0-3-39', '2-0-2-1-0-0-0-3-31', '2-0-1-2-0--1-0-4', '1-1-0-1-3-3-0-3-19', '2-1-2-1-2-1-0-3-92', '2-1-0-2-0-0-0-4-21', '2-1-2-2-1-2-0-4-81', '2-0-1-1-1-0-0-4-62', '2-0-1-1-3-1-1-4', '2-0-2-1-2-3-0-3-98', '2-0-2-0-3-0-0-4-22', '2-0-2-1-1-2-0-4-42', '2-0-1-1-0-3-0-3-34', '2-1-2-2-3-2-1', '1-0-1-1-3-0-0-4-20', '2-0-0-1-2-2-0-3-99', '2-0-2-1-0-2-0-3-38', '2-0-2-1-2-0-0-3-73', '2-0-1-0-0-2-0-4-26', '2-0-1-1-1-0-0-4-19', '2-0-2-1-0-0-0-4-46', '2-0-2-1-3-0-0-4-7', '2-0-2-1-1-1-0-3-3', '2-0-2-1-1-2-0-4-1', '2-0-2-0-0-0-0-4-77', '1-1-2-0-3-3-0-4-48', '2-1-1-0-0-3', '1-0-2-1-0-0-1-4-3', '2-1-2-0-2-0-0-4-55', '2-0-2-1-1-0-0-4-55', '2-0-1-0-3-3-0-4', '2-0-1-0-1-1-0-4-18', '2-0-2-0-0-0-0-4-98', '1-1-1-1-0-2-0-4-36', '2-0-2-2-3-0-0-3', '2-1-2-1-2-3-0-3-40', '2-1-1-1-3-3-0-4-6', '2-1-1-1-1-1-0-4-39', '2-0-2-1-0-3-0-3-99', '2-1-1-1-2-3-0-4-46', '2-0-2-1-0-3-0-4-75', '1-0-0-1-1-0-0-3-100', '2-0-2-1-0-0-0-4-90', '2-0-1-1-0-1-0-3-74', '1-0-2-1-3-2-0-4-20', '2-0-1-1-1-2-0-3-66', '2-1-2-0-2-1-0-4-18', '1-0-2-2-3-0-0-4-44', '2-1-1-1-0-0-0-4-18', '2-0-2-0-0-0-0-4-25', '2-0-2-1-0-2-0-4-26', '2-0-1-1-1-0-0-4-60', '2-0-2-2-1-0-0-3', '2-0-2-1-2-0-1-3-7', '2-1-2-2-2-2-0-3-99', '2-1-1-1-0-0-0-4-87', '2-0-1-1-1-0-1-4-1', '2-0-1-1-1-2-0-3-4', '2-1-2-0-0-0-0-4-29', '2-0-1-0-1-3-0-4-79', '2-1-1-1-0-3-0-4-78', '2-1-2-0-3-1-0-4-4', '2-0-2-1-0-2', '2-0-2-1-2-1-0-4-96', '2-1-2-1-3-2-1-4', '2-0-2-1-2-3-1-4-3', '2-0-2-2-1-3-0-4-31', '2-1-2-1-1-1-0-3-36', '2-1-2-1-1-1-0-4-23', '2-1-1-1-0-1-1-4-2', '1-1-2-1-0-0', '2-0-1-1-0-0-0-4-82', '2-0-1-0-0-1-0-3-97', '1-1-1-1-2-2-0-4-62', '2-0-1-1-2-0-0-4-78', '2-1-2-0-0-1-1-4-1', '2-1-1-2-2-0-0-3-15', '2-1-2-0-0-0-0-4-4', '2-0-1-2-1-1-0-3-14', '2-1-1-1-1-1-0-4-14', '2-0-2-0-0-0-0-3-29', '1-1-0-1-2-1-0-3', '2-0-1-0-1-3-0-3-93', '2-0-2-1-3-0-1-4', '2-1-2-0-2-3-0-4-55', '2-1-2-1-1-0-0-4-14', '2-0-2-1-1-0-0-3-46', '2-0-1-0-0-3-0-3-57', '2-0-2-2-2-3', '2-0-2-1-0-2-0-4-27', '2-1-1-1-2-1-0-4-53', '2-1-2-0-2-1-0-3', '2-1-2-2-1-2-0-3-39', '2-0-2-0-1-3-0-4-15', '2-1-1-1-3-0-0-4-7', '2-0-1-0-2-1-0-4-54', '2-0-1-0-0-0-0-3-60', '2-0-1-1-1-3-0-3-29', '2-1-2-2-0-0-0-3-54', '1-0-1-1-2-1-0-4-55', '2-1-2-1-2-3-0-3-48', '2-0-1-1-3-2-0-3-15', '2-0-1-2-3-1', '2-1-2-1-2-2-0-3-34', '2-0-1-0-2-3-0-4-43', '2-1-1-0-2-2-0-3', '2-1-2-1-1-0-0-4-16', '1-0-2-1-3-3-0-4-13', '2-0-2-2-1-0-1-4-2', '2-1-1-2-1-3-0-4-30', '2-0-2-1-0-0-0-4-7', '2-0-0-1-0-0-0-3-53', '1-0-1-0-3-0-0-3-33', '2-0-1-1-1-3-0-4-4', '2-0-2-0-0-2-0-3-38', '2-0-1-0-2-3-0-4-67', '2-0-2-1-3-3-0-4-27', '2-1-0-2-1', '2-0-1-1-3-0-0-4-5', '2-0-1-2-0-2-0-4-19', '2-0-2-1-1-0-0-4-61', '1-1-1-1-3-3-0-4-3', '2-0-0-1-3-3-0', '2-0-1-1-1-3-0-4-43', '2-0-1-1-1-0-0-4-88', '2-0-2-1-0-3-0-3-4', '2-0-1-0-0-2-0-4-94', '2-1-1-1-2-0-0-3-23', '1-0-0-1-2', '2-1-2-2-0-1-0-4-76', '2-1-1-1-2-3-0-3-98', '2-0-2-1-2-1-0-3-71', '2-1-0-0-0-0-0', '2-0-2-2-1-1-0-4-15', '2-0-1-2-0-0-0-4-99', '1-0-1-1-3-3-0-3-97', '2-0-2-1-1-2-0-3-64', '2-0-2-1-0-0-0-3-35', '2-0-1-1-1-3', '2-0-1-1-0-2-0-4-71', '2-1-2-0-3-3-0-4-50', '1-0-1-1-2-3-0-4-87', '2-0-2-0-1-0-0-3-100', '2-0-1-1-1-0-0-3-60', '2-1-2-1-1-2-0-4-19', '2-0-2-1-0-3-0-4-3', '2-0-2-1-2-2-0-3-41', '2-1-2-1-1-0-0-4-75', '2-1-1-1-1-0-0-4-6', '2-0-1-2-1', '2-0-2-0-0-0-0-4-17', '2-1-1-1-2-3-0-3-15', '1-0-1-2-2-0-0-4', '2-0-2-1-0-0-0-4-86', '2-0-1-1-1-3-0-4-98', '2-1-1-1-2-2-0-3-97', '2-0-1-1-2-1-0-4-99', '1-1-2-1-2-0-0-4-26', '2-1-1-0-3-0-0-4-20', '2-1-2-1-2-3-0-3-98', '2-0-2-1-1-1-0-3-18', '2-1-1-1-0-1-0-3-46', '2-0-2-1-1-3-1-4-5', '2-0-2-1-2-0-0-4-28', '1-0-2-1-0-3-0-3', '1-0-1-0-3-0-0-3-26', '2-0-2-2-2-2-0-3-18', '2-1-2-1-3-0-0-4-2', '2-1-2-1-2-0-0-4-10', '2-0-1-1-0-1-0-4-36', '2-0-2-1-1-3-0-3-10', '2-1-1-2-1-1-0-4-6', '2-0-1-0-1-3-0-4-58', '2-0-2-1-1-0-0-4-54', '2-0-1-1-0-3-0-4-52', '1-0-2-1-3-0-0-4-52', '2-0-1-0-0-2-0-4-76', '2-0-2-1-0-0-0-4-8', '2-1-1-1-2-2-0-4-96', '2-0-1-0-1-1-0-4-99', '1-0-1-1-1-0-0-3-59', '2-1-1-1-0-2-0-4-81', '1-0-1-0-1-2-0-4-52', '2-0-2-1-1-1-0-3-33', '2-0-2-1-3-0-0-4-74', '2-1-2-2-3-3-0-4-82', '2-0-2-1-2-0-0-3-100', '2-1-2-2-0-1-0-4-36', '2-0-2-2-0-2-0-4-90', '2-0-1-0-3-0-1-4', '2-0-1-1-1-0-0-4-85', '2-0-2-1-1-0-0-3-32', '2-1-1-2-2-2-0-4-84', '2-0-1-0-1-2-0-4-33', '2-0-2-0-1-1-0-4-65', '2-1-2-1-0-1-0-3-25', '2-0-2-1-1-0-0-4-19', '2-0-2-1-2-1-0-3-13', '1-1-1-1-3-3-0', '2-0-1-2-2-0-0-4-4', '2-0-2-1-2-0-0-4-54', '1-1-0-0-3-0-1', '2-1-2-1-2-1-0-4-56', '2-0-2-1-3-3-1-3', '2-1-2-1-1-2-0-3-83', '2-0-1-0-0-0-0-3-89', '2-0-1-1-1-1-0-3-37', '2-1-2-2-3-0', '2-0-1-1-2-0-0-4-44', '2-0-2-1-2-1-0-3-100', '2-0-1-1-0--1-0-3-67', '2-1-1-1-1-3-0-4-83', '2-0-0-1-0-1-0-4-7', '2-1-1-0-3-2-0-3-44', '2-0-1-0-1-3-0-3-43', '2-0-1-1-2-0-0-4-91', '2-1-2-1-0-0-0-3-98', '2-0-2-1-0-0-0-4-17', '2-0-0-1-2-1-0-3-43', '2-0-2-1-3-3-0-3-42', '2-0-2-1-0-0-0-4-98', '1-0-0-1-2-2-0-3-22', '2-1-2-1-1-0-0-4-62', '2-1-1-0-1-3-0-4-73', '2-1-1-0-1-0-0-3-49', '2-0-2-1-1-3', '2-1-2-1-2-1-0-3-30', '1-0-1-1-1-0-0-3-88', '2-0-2-1-2-0-0-4-67', '1-0-2-0-1-1-0-4', '2-0-1-1-2-1-0-4-54', '2-0-2-1-1-2-0-4-45', '2-1-2-0-0--1-0-3-38', '2-1-2-2-0-2-0-4-41', '2-0-2-0-1-1-0-4-10', '2-0-1-1-2-0-0-4-84', '2-0-1-2-2-2-0-4-42', '1-0-2-1-3-2-0-4-39', '1-1-1-2-2-2-0', '2-0-1-1-2-1-0-4-62', '2-0-1-1-0-1-0-4-76', '1-1-2-2-3-2-0-4', '2-1-1-1-2-2-0-3-31', '2-0-1-0-2-3-0-3-50', '2-0-2-0-0--1-0', '2-0-0-0-2-1-0-2-75', '2-1-1-1-2-0-0-4-55', '2-0-1-1-0-2-0-4-5', '2-0-2-1-2-1-1-3-1', '2-0-2-1-0-2-0-3-7', '2-1-2-2-3-1', '2-0-2-0-3-0-0-4-57', '2-1-1-1-0-0-0-3-98', '2-1-1-2-2-1-0-3', '2-0-2-1-2-3-0-4-26', '2-1-1-0-0-1-0-3', '2-1-1-2-1-1-0-4-4', '2-1-2-1-2-1-0-4-6', '2-1-2-0-1-0', '2-0-1-1-0-0-0-3-62', '1-1-1-1-2-0-0-4-56', '1-0-0-1-3-0-0-3-50', '2-0-2-1-2-2-0-4-98', '2-0-1-2-0-0-0-3-39', '2-0-2-1-2-3-0-4-63', '2-0-1-1-2-0-0-3-69', '2-0-2-2-1-0-0-3-85', '2-1-1-2-0-0-0-4-39', '1-1-0-0-3-0-0', '2-0-1-0-1-0-0-3-84', '2-1-1-0-3-3-0-3-24', '2-0-1-1-1-3-1', '2-0-1-0-0-0-0-3-20', '2-0-1-1-1-2-0-4-78', '2-0-2-0-2-2-0-4-14', '2-0-2-1-0-0-0-2-33', '2-1-1-1-1-3-0-4-23', '2-1-2-0-3-3', '2-0-1-1-2-0-0-3-74', '2-0-2-2-1-0-1-3-3', '2-1-1-1-2-1-0-4-2', '2-1-1-1-0-0-0-3-69', '2-0-2-1-3-1-0-4-37', '2-0-1-1-2-0-0-4-19', '2-0-2-1-3-1-0-3-55', '2-1-2-1-2-2-0-4-82', '2-1-1-1-3-2-0-4-6', '2-0-2-1-1-2-0-4-43', '1-0-2-1-3-2-0-4-27', '2-0-0-1-2-1-0-3-73', '2-1-0-1-2-0-0-3-5', '2-0-2-1-2-3-0', '2-0-0-1-1-2-0-3-64', '2-0-2-2-1-1-0-3-17', '2-0-1-1-0-0-0-4-5', '2-0-1-1-1--1-0-3-62', '2-1-1-1-0-0-0-4-30', '2-1-2-0-1-3-0-4-4', '2-0-0-1-2-1-0-3-3', '2-0-1-1-0--1-0-4-98', '1-0-1-2-3-2-0-4-5', '2-0-1-0-2-0-0-3-10', '1-0-1-1-2-2-1', '2-0-1-1-2-2-0-4-59', '2-1-0-1-3', '2-1-1-1-0-3-0-4-38', '1-0-1-1-3-0-0-3-3', '1-0-2-0-0-2-0-4-23', '2-0-1-1-3-0-0-3-15', '2-0-1-0-1-0-0-4-52', '2-0-1-0-1--1-0-3-63', '1-1-1-0-3-3', '2-1-2-2-0-0-0-4-100', '2-0-1-2-0-1-0-3-54', '2-0-1-1-3-3-0-4-53', '2-1-1-2-1-0-0-4-5', '2-0-1-1-2-0-0-3-45', '2-1-2-0-1-2-0-4-1', '2-0-1-0-2-0-0-4-90', '2-0-1-2-0-0-0-3-77', '2-0-2-2-1-3-0-4-42', '2-0-1-0-2-2-0-3-100', '2-1-1-0-0-0-0-4-100', '2-1-1-1-2-3-0-4-43', '2-1-1-1-1-0-1-3', '1-1-1-0-2-0', '2-0-1-0-1-1-0-4-92', '2-0-2-1-1-0-0-4-1', '2-0-2-0-0-3-0-4-74', '2-0-1-0-1-2-0-4-47', '1-0-2-0-1', '2-0-1-0-2-3-0-4-51', '2-1-2-1-1-1-0-3-99', '2-1-2-2-2-2-0-4-95', '1-0-1-1-3-3-0-3-96', '2-0-1-0-1-2-0-3-28', '1-1-1-1-3-1-0-4-4', '2-0-1-1-1-0-0-3-67', '2-1-1-2-1-1-0-3', '2-1-2-0-2-2-0-3-82', '2-1-2-1-0-0-0-4-90', '1-0-2-1-1-1', '2-0-1-1-0-0-0-3-82', '2-0-2-1-1-3-0-3-75', '2-0-2-1-0-0-0-4-25', '2-0-2-1-0-3-0-3-38', '2-0-1-1-0-1-0-4-72', '2-1-1-1-0-0-0-4-90', '2-0-1-1-3-0-0-4-88', '2-0-1-0-0-0-0-4-29', '2-1-1-1-1-2-1-3-4', '1-0-2-0-0-2', '2-1-1-1-1-0-0-3-15', '2-0-2-1-2-0-0-4-1', '2-0-0-0-2-2-0-3', '2-0-1-1-2-2-0-3-63', '1-1-2-1-3-0-0-4-36', '2-1-1-0-3-0-0-4-3', '2-1-2-0-1-3-0-4-7', '2-0-1-1-0-1-0-4-33', '2-1-1-1-1-1-0-4-77', '1-1-1-1-3-0-0-4-80', '2-1-1-0-2-1-0-4-54', '2-1-1-0-2-3-0-4-88', '2-1-0-1-0-2-0-3-22', '2-0-2-1-0-0-0-4-39', '1-0-2-1-1-1-0-4-50', '2-0-1-1-0-', '2-1-0-1-1-0-0-2-81', '2-0-2-1-1-1-0-4-86', '2-1-1-1-1-3-0-4-46', '2-1-1-0-2-2-0-4-11', '2-1-1-1-2-1-0-4', '2-0-2-1-1-0-0-3-69', '2-1-1-0-1-0-0-4-20', '2-1-1-2-1-2-0-4-55', '1-0-1-0-3-2-0-4', '2-0-2-1-0-0-1-4-2', '2-1-1-1-2--1-0-3-26', '2-0-1-0-1-0-0-4-26', '2-0-1-1-2-0-0-4-10', '2-0-2-0-0-1-0-3-75', '2-1-1-0-2-2-0-4-3', '2-1-1-0-3-0-0-4', '2-1-2-1-0-2-0-4-86', '2-0-2-1-1-3-0-4-25', '2-0-1-0-1-3-0-3-100', '1-0-2-1-2-1-1-4', '1-0-2-2-2-0', '2-0-1-1-1-1-0-4-30', '2-0-0-1-1-2-0-3-24', '2-1-2-2-1-2-0-4-46', '2-1-0-0-1--1', '2-0-1-1-2-3-0-4-68', '2-1-1-1-0-0-0-3-16', '2-0-2-0-0-1-0-4-52', '2-1-0-2-2', '2-1-1-2-1-2-0', '2-0-1-2-3-3-0-3-42', '2-1-1-1-0-3-0-4-99', '2-0-2-1-3-1-1-4-8', '2-0-2-1-2-1', '2-0-2-1-2-3-0-3-38', '2-0-1-0-1-2-0-4-97', '2-0-1-2-0-1-1-3-1', '1-1-1-1-2-0-0-3-29', '2-0-1-0-1-2-0-4-98', '2-0-2-0-2-2-0-3-39', '2-0-1-0-2-3-0-3-93', '2-0-1-0-2-3-0-4-65', '2-0-2-1-2-2-0-3-15', '2-0-1-1-3-0-0-4-41', '2-1-1-0-1-1-0-4-64', '2-0-2-1-0-0-0-4-35', '2-0-2-0-3-1-0-4-51', '2-0-2-2-0-1-0-4-84', '2-1-1-1-1-0-0-4-42', '2-1-1-1-0-2-0-4-23', '1-0-1-1-0-0-0-3-99', '2-0-2-1-1-0-0-4-60', '2-0-2-1-1-3-0-3-16', '1-0-1-2-2-3-0-4', '2-1-2-1-0-0-0-4-44', '2-1-2-1-1-1-0-4-22', '2-0-2-0-0-3-0-4-62', '1-1-1-1-0-1-0-4', '2-0-2-1-0-2-0-4-31', '1-1-2-1-2-0-0-4-14', '2-0-2-0-3-0-0', '1-0-1-1-2-0-0-1-62', '2-0-1-0-1-1-0-4-25', '2-0-2-2-0-3', '2-0-1-1-3-1-0-4-38', '1-1-2-1-3-0-0-4-100', '1-1-0-0-0-0-0-3', '2-0-2-1-3-0-0-4-99', '2-1-2-1-0-0-0-3-44', '2-0-2-1-2-3-0-4-71', '2-1-2-0-1-0-0-4-8', '2-1-1-1-2-1-0-4-100', '2-0-2-1-1-0-0-4-40', '2-0-2-0-1-0-0-4-13', '2-1-1-0-2-0-0-4-16', '2-0-0-0-0-0-0-2-77', '2-0-1-1-1-3-0-3-100', '2-1-0-1-3-1-0-3-7', '2-0-2-2-2-3-0-3-35', '2-0-1-2-0-0-0-4-14', '2-0-1-1-1-1-1-4-5', '2-0-2-0-1-0-0-3-12', '1-0-0-1-2-0', '2-0-2-1-2-2-0-4-11', '2-1-2-1-2-2-0-4-33', '2-0-1-1-1-3-0-3-27', '2-1-1-1-1-2-0-3-25', '2-0-1-2-0-2-0-4-98', '2-1-1-1-0-2-0-4-88', '2-0-1-1-1-2-0-4-20', '2-0-2-1-0-2-0-4-91', '2-0-2-1-2-0-0-3-11', '2-0-2-1-1-0-0-4-62', '1-1-1-1-3-2-0-4-64', '2-0-1-1-2-2-0-4-4', '2-1-1-2-3-2-0-4-80', '2-1-2-2-1-2-0-4-21', '2-0-2-0-3-0-1-4', '2-1-1-1-1-1-1-4-7', '2-0-2-0-3-2-0-4', '2-0-1-0-1--1', '2-1-1', '1-0-1-1-3-2-0-4-63', '1-1-0-1-0-0-0-3', '2-1-2-0-2-0-0-3-49', '1-0-1-1-1-0-0-4-99', '2-0-2-1-2-3-0-3-90', '2-0-1-2-0-2-0-4-67', '2-1-1-1-2-3-0-4-37', '2-1-1-1-1-3-0-4-100', '1-0-1-1-1-0-0-4-58', '2-1-1-0-1-3-0-4-36', '1-0-0-1-3-0-0-3-35', '2-0-2-2-1-1-0-4-37', '1-1-2-1-2-3-0-4-6', '1-0-2-0-3-0-0-4-11', '1-0-2-1-3-2-0-3-100', '2-0-0-2-1-', '1-1-0-1-2-0', '2-1-1-1-1-0-0-3-53', '2-0-1-0-2-1-0-3-92', '1-1-1-1-0-0-0-4-47', '2-0-2-1-1-2-0-3-28', '1-0-2-1-3-1-0-4-31', '2-0-2-2-0-0-0-3-96', '2-0-1-2-0-3-0-3-83', '2-0-2-1-2-0-0-4-29', '2-0-2-1-0-1-0-4-79', '2-0-2-1-1-1-0-4-12', '2-0-2-1-1-2-0-4-50', '2-0-1-1-3-0-0-4-7', '2-0-1-2-2-1-0-4-23', '2-1-1-1-0-0-1-4-10', '1-1-1-1-2-3-0-4-97', '2-1-2-1-0-0-0-3-42', '1-0-1-1-0-0-0-3-96', '1-0-1-0-3-0', '2-1-1-1-2-2-0-4-28', '2-0-1-0-1-0-0-4-31', '1-0-1-2-3-2-0-3', '2-0-1-1-1-0-0-3-16', '2-0-2-1-0-3-0-3-48', '2-0-2-0-0-2-0-4-94', '2-0-2-1-2-2-0-4-57', '1-1-1-1-2-0-0-4-51', '2-0-1-1-1-1-0-4-42', '2-1-1-1-0-3-0-4-7', '2-0-2-1-2-3-0-4-97', '2-0-2-1-3-1-0-3-43', '2-0-1-0-3-0-0-4-33', '2-1-1-1-2-3-1-4-6', '2-0-2-0-2-0-0-4-85', '2-1-1-0-0-2-0-4-49', '2-1-1-2-1-2-0-3', '2-0-0-0-1-1', '2-0-0-1-2-1-0-4-38', '2-0-1-2-2-2-0-3-1', '2-0-1-2-0-3-0-4-28', '1-0-1-1-2-2-0-4-52', '2-1-1-1-1-0-0-4-34', '2-0-2-0-2-3-0-4-95', '2-1-2-1-0-1-0-3-19', '2-1-1-1-0-1-0-4-29', '1-0-1-2-2-3-0-3', '2-0-2-1-2-0-0-4-56', '2-1-0-0-0-2-0', '2-0-2-1-2-0-0-3-8', '2-0-1-1-1-3-0-4-17', '2-0-2-1-1-0-0-4-14', '2-0-2-2-1-0-0-4-19', '2-0-2-0-1-3-0-3-8', '2-0-1-1-0-0-0-4-71', '2-0-2-0-0-0-0-4-66', '1-0-1-2-1-2-0-3', '2-0-1-1-3-0-1-3-5', '2-0-2-1-2-3-0-4-74', '2-0-1-1-0-0-1-3-2', '1-0-2-1-3-0-0-4-13', '2-0-2-0-1-0-0-4-89', '2-0-1-1-0-3-0-4-63', '2-0-2-1-0-1-0-3-36', '1-0-2-1-3-0-0-4-53', '2-0-2-1-3-3-0-4-40', '1-1-1-1-0-0-0-4-48', '2-1-2-1-2-0-0-4-34', '1-1-1-0-3-3-0-4-39', '2-1-1-1-1-2-0-4-36', '2-1-2-2-1-2-0-3-41', '2-0-1-0-2-2-0-4-78', '2-1-2-1-0-3-0-4-25', '1-0-2-0-0-0-1', '2-0-2-1-3-0-0-4-49', '2-0-1-1-1-0-0-4-30', '2-0-1-0-3-3-0-3-13', '2-0-2-1-3-2-0-4-73', '2-1-2-1-2-3-0-4-29', '2-0-1-1-2-0', '1-1-1-1-3-0-0-3-16', '1-0-2-1-2-0-0-4-4', '2-1-1-1-3-3-0-4-44', '2-0-2-1-2-0-0-3-3', '1-1-0-1-2-0-0-3-13', '2-0-2-0-1-2-0-3-15', '2-1-1-1-2-2-0-4-21', '2-0-2-0-0-3-0-3', '2-0-2-2-1-0-0-4-18', '2-0-2-1-0-1-0-4-96', '2-0-1-1-2-0-0-4-1', '2-1-2-1-3-3-0-4-42', '2-0-2-0-2-3-0-4-75', '2-1-2-1-2-3-0-3-47', '1-1-2-1-0-0-0-4-33', '2-0-2-1-2-1-1-4-7', '2-1-1-1-0-0-0-4-9', '2-1-2-1-2-2-0-3-5', '2-0-1-0-3-2-0-3-56', '2-1-1-1-2-0-0-3-41', '2-0-2-1-2-0-0-4-90', '2-0-2-1-2-2-0-4-77', '2-0-2-0-2-0-0-4-11', '2-0-2-1-1-3-0-4-22', '1-0-2-1-3-3-0-4-28', '2-0-2-1-1-3-0-4-16', '2-0-1-1-1-', '2-1-2-0-2-0-0-4-62', '2-0-2-1-2-0-0-4-70', '1-0-2-1-2-1-1-4-11', '2-1-1-1-1-1-0-3-100', '2-1-1-0-2-0-0-3-88', '2-1-1-1-0-1-0-4-47', '2-0-1-1-2-3-0-3-58', '2-1-1-0-2-0-0-4-40', '2-1-1-1-2-1-0-3-32', '2-1-2-2-0-0-0-3-72', '2-0-2-0-1-0-0-4-44', '2-0-2-2-1-3-0-4-60', '2-0-2-1-1-0-0-4-33', '2-1-1-1-1-1-1-4-6', '2-0-2-2-1-2-0-4-72', '2-1-1-1-2-3-0-4-50', '2-0-2-2-0-0-0-3-79', '2-1-1-0-2-1-0-4-18', '2-1-1-2-0-0-0-4-43', '2-0-1-2-2-0-0-4', '2-0-1-1-1-3-0-3-9', '1-0-1-0-1-3-0-3', '2-0-1-1-2-1-0-4-23', '2-0-1-1-1--1-0-3', '2-0-1-0-3-1-0-4-14', '2-0-2-0-2-0-0-3-95', '2-0-2-1-2-0-0-4-30', '1-1-1-1-2-2-0-3-58', '2-1-1-1-1-3-0-4-74', '2-1-1-1-2-1-0-4-66', '2-0-1-1-1-3-0-3-70', '2-1-1-1-0-1-0-4-17', '2-1-2-0-2-1-0-4-51', '2-1-2-1-0-0-1', '2-0-2-2-0-0-0-3-39', '2-0-2-1-1-0-0-4-10', '2-0-2-2-1-1-0-4-11', '2-0-2-0-2-3-0-3-18', '2-0-0-1-0-0-0-4-5', '2-1-2-1-0-2-0-4-25', '1-1-1-0-3-1-0-4', '2-1-1-1-1-0-0-4-25', '1-0-2-1-3-2-0-4-56', '1-1', '2-0-1-0-0-1-0-4-78', '2-0-2-0-0-0-0-3-64', '2-0-1-1-0-1-0-3-28', '2-0-2-1-0-3-0-4-12', '1-0-2-1-2-3-0-3-27', '2-0-0-1-1-1-0-3-21', '1-0-1-0-3-0-0-4-35', '2-0-0-2-0--1-0', '2-1-2-1-0-1-0-4-68', '1-0-2-0-3-3-0-3', '2-0-2-1-0-1-0-4-12', '2-1-1-0-3-2-0', '1-0-2-0-3-3-0-4-12', '2-0-2-1-3-0-0-4-89', '2-1-2-1-0-0-0-4-25', '2-1-1-1-0-3-0-3-100', '2-1-2-1-0-1-0-3-47', '2-0-2-0-2-2-0-3', '2-0-2-1-2-0-1-4-10', '2-0-1-0-3-2-0-3', '2-0-2-1-1-2-0-4-11', '2-1-2-1-0-0-0-4-82', '2-0-2-0-2-3-0-4-14', '2-0-1-2-1-3-0-4-19', '1-0-2-1-3-1-0-4-92', '2-0-0-2-1-2-0', '2-0-2-1-2-0-0-3-53', '2-1-1-1-1-2-0-4-90', '1-0-2-0-2-3', '2-0-1-1-0-1-1-3-5', '2-1-1-1-1-0-0-4-26', '2-0-1-1-2-1-0-3-61', '2-0-2-1-1-1-0-3-55', '2-1-1-1-0-2-1', '2-0-2-1-0-2-0-4-35', '2-0-2-1-0-0-1-4-6', '2-1-1-1-2-3-0-3-2', '2-0-1-1-0-3-0-3-46', '2-1-1-1-0-0-0-4-10', '2-0-1-1-1-2-0-4-10', '2-0-1-2-2-0-0-4-36', '2-0-1-1-1-0-0-4-8', '2-0-1-2-0-0-0-4-6', '1-0-1-1-0-2-1-4-3', '2-0-2-0-0-3-0-3-49', '1-0-2-1-3-0-0-3-34', '2-0-0-1-2-3', '2-1-0-1-0-0-0-3-97', '2-0-2-0-0-0-0-3-86', '1-1-1-1-3-2-0-3-81', '2-0-1-0-0-0-1-4', '1-0-2-1-2-3-0-3-63', '2-0-2-2-1-3-0-4-100', '2-1-1-2-1-2', '1-1-2-1-0-0-0-4-50', '1-1-2-2-3-2', '1-0-1-0-2-0-0-4', '2-0-1-1-0-1-0-4-40', '2-0-1-1-0-1-0-4-46', '2-1-1-0-0-1', '2-0-2-1-1-0-0-4-45', '2-0-2-0-0-1-0-4-9', '2-0-2-2-1-3-0-4', '2-1-2-1-0-2-0-4-41', '2-0-2-0-0-0-0-3-55', '2-0-2-0-0-1-0-4-86', '2-0-2-1-2-0-0-4-48', '2-1-2-2-0-0-0-4-41', '2-1-2-1-1-2-0-4-41', '2-0-1-1-3-0-0-4-50', '2-0-1-1-0-0-0-3-94', '2-1-1-1-0-3-1', '2-0-1-0-0-1-0-4-29', '2-0-1-1-2-2-0-4-2', '2-1-1-1-1-3-0-4-87', '2-1-2-1-0-2-0-4-48', '1-0-1-0-1-0-0-4-29', '2-0-2-0-2-1-0-4-14', '2-0-2-1-0-0-0-3-81', '2-1-2-1-0-0-0-4-10', '2-0-1-0-0-1-0-4-46', '2-1-1-1-0-2-0-4-65', '2-0-1-1-3-2-0-4-36', '2-0-1-1-1-3-0-3-2', '2-1-1-1-1-3-0-4-60', '2-0-2-0-0-3-0-4-35', '1-1-0-1-2-2-0', '1-1-2-1-0-0-0-3-32', '2-0-2-1-1-2-0-4-22', '2-0-1-2-2-2-0-4-99', '1-0-1-1-0-0-0-3-53', '2-0-1-2-1-1-0-3-99', '2-0-2-0-1-1-0-3-84', '2-0-2-2-1-3-0-3', '2-0-1-0-2-3-0-4-95', '1-0-2-1-2-3-1-3-9', '1-1-2-1-2-1-0-4-35', '2-0-0-1-1-1-0-3-47', '1-0-2-1-3-2-0-4-33', '2-0-2-1-1-2-0-3-34', '2-1-1-1-0-3-0-3-19', '2-0-2-1-3-3-0-4-32', '2-1-1-0-0-1-0-4-32', '2-1-1-0-1-1-0-4-42', '2-0-2-1-1-2-0-3-19', '1-0-1-1-2-3-0-3-59', '2-1-2-0-2-0-0-3-60', '2-1-0-0-1-', '2-0-2-1-0-2-0-4-7', '2-0-2-1-2-1-0-4-95', '2-0-2-2-3-0-0-4-88', '1-0-1-1-3-3-0-4-5', '2-1-2-0-0-0-0-4-19', '2-1-2-1-3-0-0-4-70', '1-0-1-1-3-1-0-4-97', '2-0-1-2-2-0-0-4-2', '2-1-0-2-2-2-0-3', '2-1-1-1-2-3-1', '1-0-2-1-3-3-0-4-40', '2-1-2-0-0-1-0-3-54', '1-1-2-0-2-1-0-4', '1-0-1-1-3-3-0-4-34', '2-0-0-2-2-2-0-4-97', '2-0-0-1-0--1-1-3-1', '2-1-2-1-0-0-0-4-16', '1-mean', '2-0-1-1-2-3-0-4-45', '2-0-1-0-1-0-0-4-46', '1-0-0-0-3-2-0', '2-1-1-0-0-2-0-4-90', '2-0-2-1-2-2-1-3-5', '2-1-1-1-0-0-0-4-20', '2-1-1-1-1-1-1-4', '2-0-1-2-0-3-0-4-4', '2-0-1-0-0-1-0-4-94', '2-1-2-1-0-3-1-4-8', '2-0-1-1-0-1-0-4-20', '2-1-2-0-2-2-0', '2-1-2-1-2-0-0-4-55', '2-1-1-0-2-1-0-4-55', '2-1-2-2-2-2-0-3-6', '2-0-1-1-1-2-0-4-91', '2-1-1-1-2-1-0-4-84', '2-1-1-0-0-2-0-4-48', '2-0-1-0-3-1-1-4', '2-0-1-1-2-3-0-4-36', '2-1-2-1-0-0-0-4-77', '2-0-1-1-1-1-0-3-46', '2-1-1-0-1-0-0-3-35', '2-0-2-2-0-3-0-4-79', '2-0-1-0-3-2-0-4-76', '2-0-2-0-1-3-0-4-85', '2-1-2-1-3-0-0-4-31', '1-1-2-1-1-3-0-4-100', '2-0-2-2-2-3-0-4-82', '2-1-2-1-1-1-0-4-20', '1-0-2-1-2-3-1', '2-1-2-2-3-2-0-4-81', '1-0-2-1', '2-0-2-1-1-2-0-4-44', '2-0-1-1-0--1-0-3-23', '2-0-2-1-1-0-0-4-72', '2-1-2-1-3-0-0-4-1', '2-1-1-1-1-2-0-3-12', '2-0-2-1-1-1-0-3-99', '2-0-2-1-1-1-0-4-23', '2-1-1-0-2-3-0-4-55', '2-0-2-1-1-0-0-3-48', '2-1-1-0-0-3-0', '2-0-1-1-1-3-0-3-57', '2-1-2-0-0-2-0-4', '2-0-2-1-2-1-0-4-62', '1-0-1-1-0-0-0-4-54', '2-0-2-1-0-1-0-4-36', '2-1-1-1-1-0-0-3-99', '2-0-1-1-1-2-0-3-91', '2-1-1-1-0-2-0-4-58', '2-1-1-1-1-2-0-4-59', '2-1-2-0-2-0-0-4-8', '2-0-1-1-1-2-0-4-63', '2-0-2-0-2-1-0-4-37', '2-1-2-1-0-0-0-3-25', '2-0-0-0-1-0-0-3-51', '2-0-2-1-0-3-0-4-20', '1-0-1-1-3-1-0-3-42', '2-0-1-1-1-0-0-3-64', '2-0-1-1-3-3-0-3-34', '2-0-1-1-0-3-0-3-64', '1-0-1-1-2-1-0-3-100', '2-1-2-1-0-0-0-3-23', '2-1-0-1-1-0-0-3', '2-0-1-1-2-0-0-4-71', '2-1-1-1-3-0-1', '1-0-1-1-1-0-0', '2-0-1-0-1-2-0-4-2', '1-0-2-1-2-3-0-3-61', '2-0-1-1-0-1-0-3-38', '2-1-2-1-0-1-0-4-48', '2-0-1-1-2-3-0-4-48', '2-1-2-1-1-1-0-4-33', '2-0-1-1-1-2-0-4-65', '2-0-2-1-2-3-0-3-57', '2-1-1-2-1-0-0-4', '2-0-1-1-0-2-0-3-46', '1-1-2-1-3-1-0-3-20', '1-0-2-0-3-3-0-3-27', '2-0-0-1-1-3-0', '2-1-2-2-0-0-0', '2-1-1-2-1-2-0-4-80', '2-0-2-2-1-1-0-4-38', '2-0-1-0-0-2-0-4-25', '2-0-2-0-2-1-0-4-31', '2-0-1-1-2-1-0-4-25', '2-0-1-1-1-0-0-4-39', '2-1-1-1-1-3-0-4-90', '1-0-2-0-1-0-0', '2-0-1-2-1-0-0-4-38', '1-0-2-2-1-0-0-3-92', '2-0-1-1-2-1-0-4-48', '2-0-2-0-2-0-0-4-75', '2-1-2-1-3-3-0-3-74', '1-0-2-2-0', '2-0-2-1-3-2-0-4-34', '2-0-1-0-1-0-0-4-94', '2-0-2-1-2--1', '2-0-2-1-1-2-0-3', '2-1-1-1-2-2-0-3-58', '1-0-1-1-3-1-0-3-10', '1-1-1-1-3-2-0-3', '2-0-2-2-0-0-0-4-22', '1-1-2-0-2-0', '2-1-1-0-1-3-0-4-41', '2-0-2-2-1-1-0-4-100', '1-0-1-1-1-0-0-3-99', '2-0-2-0-1-2-0-3-14', '2-0-1-0-1-2-0-3-95', '2-1-2-0-2-2-0-4-79', '2-1-1-1-2-3-0-3-36', '2-1-1-0-0-0-0-3-17', '2-0-1-1-0-2-0-3-64', '2-1-1-1-0-3-0-4-65', '2-0-2-0-2-3-0-3-23', '2-1-2-1-2-0-0-3-10', '2-1-1-1-0-3-0-4-52', '2-0-2-2-3-2-0-4-3', '2-0-0-0-1-3-0-3-82', '1-1-1-0-2-0-0-4-62', '2-1-1-1-0--1', '2-1-2-2-1-3-0-4-77', '2-0-2-0-2-2-0-4-32', '2-0-1-2-0-2-0-3-25', '2-0-1-0-1-1-0-4-20', '2-0-2-1-0-0-0-4-59', '2-0-0-1-2-0-0-3-99', '1-0-2-0-3-3-0-3-48', '2-1-1-1-2-3-0-4-96', '1-0-2-1-3-3-0-4-21', '2-1-1-1-2-1-0-3-98', '2-0-1-1-2-0-0-4-80', '2-0-1-1-2-2-0-3-7', '1-1-1-0-2-3', '2-1-1-1-0-0-0-3-35', '1-0-1-0-0-0-0', '1-1-1-1-3-3-0-3', '2-1-1-1-2-1-0-4-56', '2-1-0-1-1-3-0-4-18', '2-0-2-1-2-3-0-4-66', '2-1-2-0-1-2-0-4-22', '1-0-0-1-2-2-0', '1-0-1-1-2-0-0-3-80', '2-0-2-0-0-0-0-4-60', '1-1-1-1-3-3-0-4-21', '2-0-2-1-3-0-0-4-23', '2-1-2-0-3-1-0', '2-0-1-1-0-3-0-3-100', '2-1-0-2-1-2-0', '2-0-2-1-0-2-1-4-2', '2-1-2-1-2-2-0-3-17', '2-0-2-1-3-3-0-3', '1-0-0-1-1-0-0', '1-0-2-1-0-2-1-4', '2-0-1-1-1-1-0-3-22', '2-0-2-0-1-1-0-3-94', '2-0-2-1-2-0-0-4-65', '2-1-2-1-0-2-0-4-24', '2-1-1-1-1-0-0-4-37', '2-0-0-1-2-0-0-3-100', '2-0-1-1-2-0-0-3-61', '2-1-2-1-1-2-0-4-8', '1-1-2-1-3-0-0-4-5', '1-0-2-1-3-1-0-4-38', '2-1-2-1-0-0-0-4-91', '2-0-1-0-2-3-0-3-32', '2-1-1-1-0-2-0-4-99', '1-1-2-1-2-1-0-4-22', '1-1-2-1-3-0-0-4-52', '2-0-0-1-2-1-0-3-95', '2-1-1-1-2-3-0-3-84', '2-0-1-1-1-2-0-4-26', '2-1-2-0-2-2', '2-0-2-1-2-3-0-3-14', '2-0-2-0-1-2-0-3-33', '1-0-1-0-3-1-0-4-13', '1-0-1-1-2-2-0-4-33', '1-1-2-1-2-2-0-3-85', '2-0-0-1-2-1-0', '2-1-1-2-1-3-0-3', '2-0-2-1-1-3-0-3-41', '2-0-2-2-1-0-0-4-10', '2-1-2-1-1-2-0-4-7', '1-1-0-0-3-0-0-3-39', '2-1-1-1-2-1-0-4-64', '2-0-2-1-2-3-0-4-68', '2-0-1-1-1-2-0-4-30', '2-1-2-2-2-2-0-3-22', '2-1-1-1-1-1-0-4-43', '2-0-2-1-2-3-0-4-27', '1-1-2-1-2-2-0-4-22', '2-1-1-1-2-1-0-3-96', '1-1-1-1-2-3-0-3-62', '2-0-1-0-1-3-0-4-65', '2-1-2-1-3-1-1-4', '2-1-1-1-2-2-0-4-12', '2-1-1-1-1-0-0-3-41', '2-0-1-2-1-0-0-4-13', '1-1-2-1-2-0-0-4-54', '2-0-2-2-2-1-0-4-71', '2-0-2-1-0-0-0-4-28', '2-0-2-1-1-0-1-4-7', '2-0-2-1-0-1-0-3-19', '2-0-1-1-2-1-0-3-10', '2-1-1-1-2-0-0-4-31', '2-0-2-1-0-1-0-4-20', '2-0-1-1-3-3-0-3-5', '2-0-1-0-1-0-0-4-76', '2-1-1-1-2-0-0-4-33', '1-1-2-1-3-0-0-4-6', '2-0-2-0-1-2-0-4-29', '2-0-2-1-0-1-0-3-86', '2-0-1-2-1-3-0-4-48', '1-0-2-1-2-0-0-3-53', '2-1-2-1-1-3-0-4-100', '1-0-2-1-2-1-1-4-9', '2-1-1-1-0-1-0-3-54', '2-0-2-1-0-1-1-3-3', '1-0-2-0-3-3-0', '2-1-2-1-2-0-0-3-99', '2-0-1-2-1-2-0-3', '2-0-1-0-2-2-0-4-92', '2-0-1-2-0-0-0-4-28', '1-0-1-0-3-0-0-3-18', '2-1-1-1-1-0-0-4-45', '2-0-1-2-1-2-0-4-2', '1-0-1-0-1-0-0-4-52', '2-0-1-0-1-3-0-4-88', '2-0-1-1-0-1-0-3-99', '2-0-1-2-0-0-0-4-16', '2-0-1-2-0-1-0', '2-0-2-1-1-0-0-3-100', '1-0-0-0-3-3-0-3-37', '2-0-1-1-2-3-0-3-28', '2-0-1-1-0-3-0-4-60', '1-1-0-1-3-0-0', '1-0-2-1-2-1-0', '2-0-0-1-0-0-0-3-7', '2-0-2-1-0-0-0-3-18', '1-0-1-0-3-0-0-4-1', '2-0-1-1-1-2-0-3-44', '2-0-1-1-1-2-1-3-2', '2-0-2-1-2-3-0-4-77', '2-0-1-1-2-3-0-4-2', '2-1-2-0-1-0-0-3-41', '2-0-1-1-2-3-0-3-67', '2-0-1-0-2-2-0-3-42', '2-0-2-1-3-0-0-3-43', '2-1-1-0-2-0-0-4-99', '1-0-2-1-3-0-0-3-18', '2-0-1-1-2-0-0-4-12', '2-1-1-1-2-3-0-3-79', '1-1-0-1-3-3-0', '2-0-2-1-2-0-0-3-39', '2-0-2-1-3-2-0-4-51', '2-0-2-0-2-0-0-4-39', '2-0-2-0-2-0-0-4-62', '2-0-2-0-2-0-0-3-48', '2-0-2-0-3-1-0-4', '2-1-2-1-1-3-0-4-2', '2-0-1-0-2-0-0-4-14', '2-0-2-0-0-0-0-3-36', '1-0-1-2-2-2-0', '2-0-2-1-2-2-0-4-100', '2-1-2-1-2-0-0-3-26', '2-1-2-0-2-1-0-4-49', '2-0-2-2-0-0-1-4', '2-1-1-1-2-0-0-3-6', '2-0-1-1-1-0-0-3-84', '1-0-1-1-2-0-0-4-82', '1-0-0-1-0-0-0-3-98', '2-0-1-0-0-3-1-4-1', '2-0-1-0-2-0-1-4', '2-0-2-0-1-3-0-4-30', '2-0-1-2-1-0-0-4-93', '2-0-1-0-0-2-0-3-47', '1-0-1-2', '1-1-1-1-3-3-1', '2-0-2-1-0-2-1-4-1', '2-0-1-1-0--1-0-3-97', '1-1-2-1-0-0-0-3-39', '1-1-2-1-2-3-0-4-56', '1-0-2-0-3-0-0-3-31', '2-0-1-1-1--1-0-3-89', '2-1-2-1-1-3-0-4-47', '2-0-1-1-1-3-0-4-55', '2-0-2-1-2-1-0-4-3', '1-0-0-0-2-0', '1-0-1-1-3-3-0-4-16', '2-0-2-0-2-0-0-4-43', '2-0-2-0-1-0-0-4-17', '2-0-2-1-0-0-0-4-72', '2-0-2-2-1-1-0-4-12', '2-0-1-2-1-2-0-3-44', '2-0-1-0-2-2-0-3-14', '2-0-1-1-2-2-0-4-36', '2-0-2-2-3-0-0-4-42', '2-1-1-1-1-0-0-4-59', '1-0-2-1-2-1-0-4-64', '2-0-0-1-3-1-0-4-4', '2-0-1-1-1-0-0-3-58', '2-1-2-1-2-3-0-3-72', '2-1-1-0-2-0-0-4-46', '2-0-2-1-0-0-0-3-60', '2-0-2-2-1-0-0-4-22', '2-0-2-2-0-0-0-4-18', '1-0-1-0-3-0-0-4-36', '1-1-1-0-0-0-0-4', '2-0-1-0-0-0-0-4-99', '1-0-2-1-3-0-0', '1-0-1-0-1', '2-0-2-0-0-3-0-3-62', '1-0-2-1-0-0-1-4', '2-1-1-1-1-0-0-4-53', '2-0-0-1-1-0-0-2', '2-0-1-2-0-0-0-4-63', '2-1-1-0-2-1-0-4-77', '2-0-2-0-1--1', '2-0-2-1-2-2-0-4-59', '2-1-0-1-1-1-0-4', '2-0-2-0-3-0-0-3-98', '2-1-2-2-1-2-0-4-59', '2-0-1-2-0-1-0-3', '2-1-1-2-0-3', '2-0-2-0-1-1-0-4', '2-1-0-0-2-2-0-3-18', '2-1-2-1-2-0-0-4-25', '2-0-1-2-2-1-0-4-38', '2-0-1-1-1-1-1', '2-0-1-0-1-1-0-4-34', '2-0-2-0-0-3-1-4-2', '2-0-2-1-1-0-0-4-76', '2-0-1-1-0-3-0-4-74', '2-0-2-2-3-0-0', '2-0-0-1-1-2-0', '2-1-1-0-0-0-0-4-56', '2-0-2-0-1-2', '2-0-2-1-1-2-0-4-62', '2-1-1-1-2-1-0-4-6', '2-0-2-0-0-0-0-4-90', '2-0-1-0-2-2-0-4-80', '2-0-1-0-0--1-0-3-69', '2-1-1-1-2-3-0-3-31', '2-0-1-1-0-1-0-4-59', '2-1-2-1-2-1-0-4-7', '2-0-2-0-2-2-0-3-83', '2-1-1-1-1-3-0-4-36', '2-1-1-1-2-2-0-3-18', '2-1-2-0-2-3-0-4', '1-0-2-1-0-3-1-4-3', '2-1-2-0-2-0-0-4-37', '2-0-2-0-2-1-0-4-39', '1-1-2-1-2-0-0-4-56', '1-0-2-1-0-0-0-3-99', '2-1-1-1-3-3-0-4-30', '2-1-1-0-2-0-0-4-25', '2-0-0-2-0-0-0-4-19', '2-1-1-1-2-1-0-4-3', '2-1-2-1-1-3-0-3', '1-0-2-1-0-1-0-4-49', '2-0-2-1-1-1-0-4-37', '2-0-1-2-2-0', '2-1-1-1-0-1-0-4-78', '2-1-0-2-2-1-0', '2-0-1-0-3-2-0-4-51', '2-0-1-1-2-1-0-4-34', '2-0-2-1-3-1-0', '2-1-1-1-1-1-0-4-44', '2-0-1-1-0-0-0-4-63', '2-0-1-1-2-2-0-4-68', '2-1-1-1-2-3-0-3-21', '2-0-2-1-3-1-0-3-16', '1-0-0-1-3-2-0-3', '2-0-2-1-2-3-0-4-51', '1-1-2-1-1-0-0-4-49', '1-1-1-0-2-3-0-3', '2-0-1-1-2-0-0-4-35', '2-0-1-1-0-1-0-3-39', '2-0-1-1-1-3-0-4', '2-1-2-1-1-0-0-3-33', '1-0-1-0-2-2-0-3', '2-1-2-1-2-1-0-3-44', '2-1-1-1-2-0-0-3-14', '2-0-2-1-1-3-0-4-41', '2-1-1-1-2-2-0-3-94', '2-0-1-1-3-1-0-4-15', '2-0-1-0-2-2-1-4-1', '2-0-1-1-2-3-0-3-27', '2-1-1-1-0-0-0-4-57', '2-0-1-1-1-2-0-4-51', '2-1-2-1-2-0-0-4-48', '2-0-1-1-3-0-0-4-4', '2-0-2-1-2-1-0-4-60', '2-1-1-0-3', '2-0-0-1-3-0-0-3-43', '2-0-1-0-0-1-0-4-54', '1-0-2-1-3-1', '2-0-1-1-2-3-0-4-23', '2-1-1-1-0-0-0-3-36', '2-0-1-0-2-1-0-4-62', '2-0-1-1-0-2-0-4-58', '2-0-2-0-2-0-0-4-84', '2-0-2-1-1-2-1-4-8', '1-1-1-2-2-3', '2-0-0-1-1-0-0-3-80', '2-1-1-1-2-1-0-4-1', '1-1-1-1-2-1-0-4-5', '2-0-1-1-0-1-0-3-64', '2-0-1-1-2-3-0-3-44', '2-1-2-1-1-0-0-4-6', '2-0-0-1', '1-1-2-1-2-0-0-3-56', '2-1-2-0-2-3', '2-0-0-0-0-1-0-3-75', '2-1-2-1-3-3-0', '2-0-1-1-2-3-0-4-73', '1-0-2-2-2-0-0-4-99', '2-1-2-0-2-3-0-4-42', '2-0-2-1-1-1-0-4-1', '1-0-1-0-3-1-0-4-20', '2-1-2-1-1-3-0-4-79', '2-1-1-0-1-1-0-4-37', '2-0-1-1-1-3-0-3-23', '2-0-1-0-1', '1-1-1-1-3-3-0-4-68', '2-1-2-1-0-2-0-4-66', '2-0-2-2-1-3-1-4', '1-0-2-0-3-0-0-4-57', '2-0-1-1-2-0-0-3-19', '1-1-2-1-3-1-0-4-4', '2-0-2-1-2-3', '2-0-1-1-0-2-0-4-40', '2-1-1-0-2-0-1', '1-0-2-2-3-0-0-4-53', '2-1-1-1-2-3-0-4-11', '2-0-1-0-3-0-0-4-16', '2-0-1-0-2-3-0-3-75', '2-0-1-2-0--1-0-3-14', '2-0-1-0-1-0-0-3-35', '1-0-2-0-2-0-0-3-34', '1-1-2-1-0-0-0-3-97', '2-1-1-1-3-2-0-4-5', '2-0-2-1-0-2-0-3-25', '2-1-0-1-2--1-0-3', '2-0-1-1-0-0-0-3-73', '2-0-1-2-2-3-0-3-38', '2-0-2-0-2-3-0-4-99', '2-0-1-0-1-0-0-4-24', '2-0-1-1-0--1-0-3-14', '2-1-1-1-3-0-0-4-8', '2-1-0-1-2-0-0-3-37', '2-1-1-0-2-3-0', '2-0-2-1-1-0-0-3-61', '1-0-2-0-1-2-0-4', '1-0-0-1-3-2-0-3-57', '2-0-2-0-3-3-0', '2-1-2-1-2-0-0-4-57', '2-0-1-0-1-3-0-4-82', '2-1-2-1-3-1-0-3-4', '2-0-1-1-2-0-0-4-38', '2-1-1-1-1-1-0-3-65', '2-1-1-1-2-2-0-4-42', '2-0-1-0-0-1-0-4-79', '2-0-2-0-0-1-0-4-77', '2-0-1-1-1-2-0-4-16', '2-0-2-1-2-2-0-3-87', '2-0-0-2-0', '1-0-2-2-0-0-0-4', '1-1-1-1-2-0-0-3-14', '2-0-2-1-2-2-0-4-99', '2-0-1-1-2-0-0-3-31', '2-0-1-0-2-1-0-3-45', '2-0-2-1-2-0-0-4-77', '2-0-0-1-1-2-0-3-7', '2-1-2-1-0-2-0-4-33', '2-0-1-1-0-2-0-3-35', '2-0-1-1-2-0-0-3', '2-0-2-0-2-3-0-4-98', '2-0-2-0-2-2-0-4-15', '2-1-2-0-3-1', '2-1-1-1-1-1-0-4-2', '2-1-1-0-2-2-0-4-37', '2-0-1-1-0-2-0-3-78', '2-0-2-2-1-3-0-4-4', '2-0-2-1-0-0-0-3-99', '2-0-0-1-1-0-0-3-23', '2-0-1-1-2-2-0-3-59', '2-0-2-1-2-2-0-4-20', '2-0-1-0-2-0-0-3-46', '2-0-1-0-0-0-0-3-77', '1-0-1-1-2-2-0-4-4', '2-1-1-1-3-2-0', '2-0-2-2-1-2-0-3-100', '2-1-1-1-1-0-0-4-24', '2-1-1-0-3-3-0-3', '2-0-2-1-1-2-1-4', '2-1-0-1-3-1', '2-0-1-1-0-1-0-4-21', '2-1-1-2-1-2-0-4-45', '2-1-2-1-2-0-0-3-74', '2-0-2-1-2-2-0-4-39', '1-0-1-1-2-1-0-3-52', '2-0-2-0-2-0-0-3-53', '2-0-2-0-2-0-0-4-38', '1-1-1-1-3-1-0-4-23', '2-0-2-1-2-0-0-4-46', '2-1-2-2-3-2-0-3', '2-1-1-2-2-3-0-4-67', '2-0-1-2-0-3-0-3-79', '2-1-2-1-2-3-0-4-38', '2-1-2-0-0-0-0-4-53', '2-0-2-0-0-1-0-3', '2-0-1-0-3-3-0-4-76', '2-0-1-1-1-2-0-3-69', '1-1-0-1-3-1-0-3-80', '2-0-2-0-0-2-0-4-78', '2-0-0-2-2-1-0-4-99', '2-0-1-0-0-0-0-4-85', '2-1-2-0-1-2-0-4-8', '2-1-1-0-2-1-0-4-56', '2-1-1-1-1-2-0-3-24', '1-0-1-1-0-3-1-3-3', '2-1-0-1-1-0-0-3-14', '2-0-1-0-0-2-0-4-15', '2-0-2-0-0-0-0-3-100', '2-0-0-1-1-0-0-3-79', '2-0-2-1-2-0-0-4-14', '2-1-0-1-1-2-0-3-23', '2-1-1-1-1-3-0-4-48', '2-1-2-1-1-3-0-3-71', '2-0-1-2-2-2-0-4-45', '2-0-2-1-0-2-0-4-70', '1-0-1-1-1-0-0-4-55', '2-0-2-2-0-2-0-4-98', '2-0-1-1-2-3-0-4-38', '2-0-2-1-2-0-0-3-23', '2-1-2-2-1-0-0-4-41', '2-1-2-1-0-0-0-4-76', '2-0-2-1-0-0-0-3-34', '2-0-2-0-2-3-0-3-94', '2-0-2-2-2-1-0-3-74', '2-0-1-1-0-1-0-4-3', '2-0-1-1-0-0-0-3-23', '1-1-1-1-0-0-0-3-99', '2-0-2-0-0-3-1-4-1', '2-1-2-0-2-3-0-4-3', '2-0-2-0-2-1-0-4-48', '2-1-1-1-2-3-0-4', '1-0-1-2-1-3-0-4', '2-0-2-1-2-2-0-3-49', '1-0-2-2-0-0', '2-0-1-1-2-2-0-4-87', '2-1-2-0-3-3-0-4', '1-0-2-1-2-3-0-4-43', '1-1-2-1-3-1-0-4-99', '2-1-1-1-1-0-0-4-81', '2-0-2-1-1-0-0-4-41', '2-0-2-1-2-3-0-4-39', '2-1-1-0-1-1-0-3-14', '2-1-2-1-1-2-0-4-87', '1-0-2-1-3-1-0-4-62', '2-1-1-1-3-2-0-4-39', '2-1-1-1-0-1-0-4-30', '2-1-1-1-1-1-1-1', '2-1-1-1-1-2-0-3-18', '2-0-2-1-2-2-0-4-38', '2-1-2-1-1-2-0-3-73', '2-1-0-2-1-0-0-3-62', '2-1-2-0-2-1-0-4-29', '2-1-1-1-0-0-0-3-13', '2-0-1-1-2-1-0-4-77', '1-0-1-2-2-3-0-3-43', '2-0-1-0-1-3-0-4-80', '2-1-1-1-3-1-0-4-66', '2-1-1-1-2-1-0-3-40', '2-0-1-1-2-0-0-4-27', '1-1-1-1-1-1-0', '2-1-2-1-1-0-0-4-5', '2-0-1-0-0-1-0-4-95', '2-1-1-2-1-1-0-4-8', '2-1-2-0-0-0-0-4-40', '2-0-1-1-0-1-0-4-87', '2-0-1-0-2-3-0-4-9', '2-0-2-1-1-0-0-4-21', '2-0-2-2-0-2-0-3-37', '2-0-1-1-2--1-0', '2-1-1-1-1-0-0-4-100', '1-0-1-1-2-0-0-4-39', '2-1-2-1-1-1-0-4-91', '2-0-0-1-0-0-0-3-65', '2-1-1-2-0-3-0', '2-1-1-1-2-2-0-4-83', '1-0-2-1-0-0-0-3-21', '2-0-2-1-1-3-0-4-40', '2-0-2-0-1-0-0-4-65', '2-1-1-1-0-3-0-3-74', '1-0-1-1-3-3-0-4-97', '1-1-1-1-1-3-0-4-53', '2-0-1-1-3-0-0-4-42', '2-1-2-1-1-0-0-3-85', '2-0-1-1-2-3-0-4-49', '2-0-2-2-1-1-0-4-99', '2-0-2-2-1-2-0-3-16', '2-0-1-1-1-0-0-3-12', '2-0-2-0-2-1-0-4-3', '2-0-2-1-1-1-0-3-11', '2-0-1-0-3-1-0-4-18', '1-1-2-1-3-2-0-4-38', '2-0-1-1-0-0-0-4-59', '2-0-2-0-0-0-0-3-51', '1-0-1-2-3-0-0-4-95', '2-1-1-1-0-2-0-4-5', '2-1-1-1-1--1-0', '2-0-2-0-3-3-0-3', '2-1-2-1-0-1-0-3-10', '2-1-2-0-0-0-0-3-56', '2-0-2-0-3-2-0-4-11', '1-0-2-1-3-0-0-4-95', '2-0-2-1-2-2-0-4-66', '2-0-2-0-2-0-0-3-22', '1-0-1-1-2-2-0-4-88', '2-1-1-1-0-1-0-4-63', '1-1-2-1-3-1-1-4-3', '2-1-1-1-2-2-0-4', '1-0-1-2-0-0-0', '2-0-1-1-2-1-0-3-16', '2-0-2-1-2-0-0-4-40', '2-0-1-0-1-3-0-4-4', '2-1-2-0-1-3-0-3-18', '2-1-1-2-2-1-0-4', '1-1-1-1-0-0-0-3-97', '2-1-1-1-2-0-0-3-2', '2-1-1-1-2-0-0-4-71', '2-0-1-0-0-1-0-4-100', '2-0-1-1-2-2-0-4-19', '1-0-1-1-3-0-0-3-27', '2-0-1-0-1-0-1-4-4', '2-1-0-1-2-3-0-3', '2-0-2-0-1-0-0-4-10', '2-0-1-1-1-0-0-4-13', '2-1-2-0-1-2-0-4-43', '2-0-1-2-1-2-0-4-18', '2-1-1-1-1--1-0-3-98', '2-1-2-0-3-1-0-3-4', '2-0-1-1-0-2-0-3-100', '2-1-1-2-0-1-0-4', '2-1-2-1-2-1-0-4-30', '1-0-1-1-3-1-0-4-55', '2-0-1-1-0-2-1-4-4', '2-0-1-1-2-3-0-3-16', '2-0-1-2-0-0-0-4-53', '2-1-1-0-1-2', '1-0-1-1-2-3-1-3-7', '2-0-2-1-1-0-0-4-42', '1-0-1-1-0-2-0-4-53', '2-0-0-2-1-0-0-4', '2-1-1-1-1-1-0-4-3', '2-0-2-2-0-1-0-4', '2-1-2-1-0-3-0-4-11', '2-1-2-0-2-1-0-4-5', '2-1-1-0-2-0-0-3', '2-0-1-1-0-1-0-3', '2-1-2-1-1-1-0-4-35', '2-1-2-1-0-1-0-4-76', '2-0-2-2-0-0-1', '2-0-2-0-1-3-0-4-6', '2-0-2-1-1-2-0-4-48', '2-0-2-0-0-0-1-3', '2-1-0-1-0-2', '2-1-1-2-2-3-0-4-11', '2-1-2-1-0-3-0-3-100', '2-0-1-1-2-2-0-4-37', '2-1-1-0-1-3-0', '2-0-2-2-3-2-0-4', '2-1-1-1-2-1-0-4-44', '2-0-2-1-2-0-0-4-87', '2-0-1-1-3-0-0-3-7', '1-0-1-0-3-0-0-3-34', '2-0-1-1-1-2-0-3-75', '2-1-2-1-1-0-0-3-37', '2-0-2-0-3-0-0-4', '2-1-1-1-2-1-0-4-46', '2-1-1-1-2-0-0-4-66', '1-1-2-1-3-2-0-4-6', '2-0-1-0-0-2', '2-1-2-1-2-2-0-3-31', '1-0-1-1-3-2-0-4-56', '2-1-1-1-0-0-0-3-34', '2-1-1-1-3-0-0-4-42', '1-0-2-1-1-2-0-4-98', '1-0-1-1-2-0-1-3-4', '2-1-1-1-0-2-0-4-76', '2-0-1-0-3-0-0-4-10', '2-0-2-2-0-3-0-4-3', '1-0-2-1-3-3-0-4-2', '2-0-2-1-1-0-0-3-33', '2-1-2-1-2-1-0-4-57', '2-0-1-0-2-2-0-3-62', '1-0-2-1-2-1-0-4-58', '2-0-1-1-2-0-0-4-76', '2-0-1-0-0-1-0-4-35', '2-0-1-1-2-1-0-4-19', '1-1-1-1-0-0-0-3-46', '2-0-0-1-2-3-0-3', '2-1-2-2-0-2-0-4', '2-0-1-1-0-0-0-3-42', '2-1-2-0-0-1-0-4-40', '2-1-2-1-2-3-0-3-67', '1-1-1-0-2-1-0-4-87', '2-0-1-1-0-0-0-2-32', '2-1-1-2-0-0-0', '2-0-2-2-0-2-1-4-4', '2-0-1-1-2-1-0-4-21', '2-0-2-0-2-0-0-4-14', '2-1-1-1-2-0-0-4-68', '2-0-2-2-1-0-0-3-14', '2-1-2-2-3-0-0', '2-0-1-1-2-0-0-3-49', '2-0-2-1-1-0-1-3-5', '2-1-2-1-1-2-0-4-3', '2-0-1-1-1-2-0-4-81', '2-0-1-1-2-0-0-3-79', '1-1-1-1-0-1-0-4-36', '2-1-0-0-2-1', '2-1-1-0-0-0-0-3-55', '2-0-0-1-0-1-0-3-33', '2-0-2-1', '2-1-2-1-0-3-0-4-33', '2-1-0-0-2', '2-0-2-0-2-3-0-3-95', '2-1-1-1-0-1-1-1-2', '2-0-0-2-2', '2-1-1-0-0-0-0-3-64', '2-0-1-2-2-0-0-4-67', '2-1-1-1-1-', '2-0-2-1-2-2-0-2-34', '2-1-2-2-1-2-0-4-19', '2-1-1-1-0-2-0-4-80', '2-1-1-2-0-1-0-4-83', '1-1-1-0-2-1-0-4', '2-0-1-2-2-3-0-4-99', '2-0-0-1-3-0-0-3-35', '2-1-2-1-2-2-0-4-75', '2-0-2-1-0-2-0-3-55', '1-0-1-1-3-3-0-4-35', '2-0-1-0-2-0-0-4-18', '2-0-1-1-2-0-0-4-89', '2-1-1-0-2-2-1-4', '2-0-2-1-2-3-1-4', '2-1-1-1-0--1-0-3', '2-1-2-0-0-3-0-3-8', '1-0-2-0-3-0-0-4-1', '2-1-2-1-0-0-0-3', '2-0-2-2-2-2-0-4-14', '1-0-2-1-1-2-0-4-56', '2-0-1-2-0-0-0-4-51', '1-0-0-1-1-3-0-3-48', '2-0-1-0-1-0-0-4-63', '2-1-2-0-0-2-0-1-23', '1-0-1-1-2-0-0-4-71', '2-0-1-1-0-1-0-3-31', '2-1-1-1-3-3-0-4-2', '2-1-2-2-3-0-0-4', '2-0-2-1-2-1-0-4-69', '1-1-2-0-2-3-0-4-59', '2-1-1-0-2-2-0-4-83', '2-1-1-1-2-3-0-3-43', '2-0-1-1-0-2-1-4-1', '2-1-2-2-0-0-0-4-78', '1-0-1-1-3-2-0-4-57', '1-0-1-1-3-1-0-4-94', '2-0-1-2-0--1-0-4-30', '2-0-1-0-2-0-0-4-45', '2-1-1-1-0-3-0-4-84', '2-0-2-0-0-0-0-3-54', '2-1-1-1-0-0-0-3-31', '1-0-1-0-2-3-0-4-36', '2-0-2-1-0-3-0-3-62', '2-0-2-1-2-1-0-4-72', '2-0-2-1-2-1-0-3-74', '2-0-1-0-1-3-0-4-26', '2-1-2-2-3-3-0', '2-0-1-1-1-0-1-3-3', '1-1-1-2-3-0-0-4-100', '2-0-1-1-3-0-0-4-95', '1-1-2-0-3-3-0-4', '2-0-2-0-1-1-0-4-61', '1-0-2-0-2-3-0-4-75', '2-0-2-1-0-3', '2-1-1-1-0-0-0-4-28', '2-0-2-2-2-1-0-3-78', '2-0-1-1-0-0-0-2-84', '2-1-2-0-1-3-0', '2-0-1-0-2-2-0-4-99', '2-1-0-1-3-0-0-3', '1-0-2-1-3-1-0-4-37', '1-1-1-1-2-3-0-3-22', '2-0-1-1-2-3-0-4-39', '1-0-2-1-2-2-0-4-100', '2-1-2-0-0-0-0-4-23', '2-1-2-1-0-1-0-4-63', '2-0-1-1-0-2-0-3-27', '2-0-1-0-2-2-0-3-17', '1-1-2-1-1-1-0-3-100', '2-0-0-0-0--1-0-4-36', '2-0-1-1-1-0-0-4-95', '2-1-1-1-0-2-0-3-69', '1-0-2-0-2-3-0-3', '2-1-2-1-2-3-0-4-55', '2-0-1-0-3-1-0-3-52', '1-1-1-2-3-1-0', '2-0-2-0-1-2-0-4-17', '2-0-1-1-0-2-0-3-19', '2-0-2-1-0-0-0-3-64', '2-1-2-1-0-2-0-4-1', '2-0-1-1-2-1-0-4-32', '2-1-1-1-0-1-0-3', '2-0-2-1-2-3-1-4-1', '2-0-0-1-0-0-0-3-61', '2-0-2-0-2-1-0-4-9', '1-0-2-1-3-2-0-4-18', '2-1-1-0-1-0-0-3-33', '1-0-2-1-3-1-0-4', '1-1-1-1-1-2-0', '2-0-2-0-0-0-0-4-89', '2-0-2-0-0-2-0-4-38', '1-1-2-0-0-0-0-3', '2-0-1-0-2-3-0-4-29', '2-0-2-2-0-0-0-4-77', '2-0-1-1-0-0-0-4-77', '2-0-1-1-2-1-0-4-71', '2-1-2-2-0-1-0-4', '2-0-1-1-1-2-0-4-93', '2-1-2-1-0-1-0-3-51', '2-0-2-0-2-3-0-4-84', '2-0-2-1-3-3-0-4-90', '1-1-2-2-2-2', '1-0-2-0-3-1-0-3-19', '2-1-2-1-0-0-0-3-34', '2-1-1-1-1-1-0-4-71', '2-0-1-1-0-2-0-4-39', '2-0-2-1-0-0-0-4-76', '2-0-1-1-0-0-1-4-3', '2-1-1-1-1-0-0-4-8', '2-1-0-1-1-2-0-3-5', '2-0-1-1-2-0-0-4-8', '2-0-2-1-3-3-0-4-15', '2-0-2-1-0-0-0-4-65', '2-1-1-2-1-0-0-4-31', '2-0-2-0-1-3-0-4-34', '2-1-0-1-3-2-0-3', '2-0-2-2-2-0-0-4', '2-1-1-0-0-0-0-4-4', '2-1-2-0-1-0-0-3-43', '2-0-1-1-2-1-0-4-12', '2-1-1-2-0-0-0-3-16', '2-0-2-0-1-0-0-4-33', '1-1-2-0-2-3-0-4', '1-0-2-0-1-3-0', '2-0-1-1-3-0-0-3-89', '2-1-1-1-0-1-0-3-84', '2-0-1-1-1-1-0-4-56', '2-0-2-1-1-3-0-4-69', '2-0-2-1-2-2-0-4-54', '1-1-0-1-3-1-0', '1-0-2-1-1-3-0-3-53', '1-0-1-1-3-0-0-4-98', '1-0-1-1-2-0-0-4-59', '2-0-2-0-1-1-0-4-8', '1-1-2-1-3-1-0-4-85', '2-1-1-1-1-1-0-3-74', '1-0-1-1-3-0-0-4-51', '2-0-1-1-3-0-0-4-39', '2-0-1-1-2-3-0-3-99', '1-0-2-0-1-2-0-4-100', '2-0-2-1-0-2-1-4-3', '2-1-1-0-2-2-0-4-72', '2-0-2-1-1-3-0-3-26', '1-0-2-0-0-0-0-4', '2-0-1-0-2-0-0-3-53', '2-0-0-1-2-0-1-4-3', '2-1-2-0-0-2-0-4-93', '2-0-1-0-3-3-0-4-16', '1-0-1-1-3-1-0-4-31', '2-0-2-0-2-0-0-3-63', '2-0-2-1-0-3-0-3-28', '2-1-2-0-2-0-0-4-30', '2-1-1-1-0-0-0-4-97', '2-0-2-1-2-3-0-4-55', '2-1-2-1-0-3-0-4-18', '2-0-2-1-1-2-0-4-25', '1-1-2-1-0-1', '2-0-1-1-1-1-0-3-90', '2-1-0-1-1-0-0-3-100', '2-1-2-0-2-3-0-3-68', '2-0-1-1-1-0-0-4-47', '2-0-1-1-0-1-0-3-97', '2-0-2-1-2-0-0-4-50', '2-0-0-1-2-2-0-3-73', '2-1-1-1-2-2-0-4-52', '2-1-1-1-0-3-0', '1-0-2-1-3-2-0-4-30', '2-0-2-1-3-3-0-4-48', '2-1-1-1-1-2-0-3-31', '2-0-1-0-0-2-0-4-8', '2-1-1-1-2-3-0-4-100', '2-0-1-0-0-2-0-4-86', '2-1-1-1-1-2-0-4-81', '2-0-1-1-0-2', '2-1-1-0-0-3-0-4-41', '2-1-2-1-0-3-0-4-86', '2-0-1-1-0--1-0-3-62', '2-0-1-1-0-2-0-4-82', '1-0-2-1-2', '1-0-1-0-3-1-0-4-41', '2-0-2-1-0-0-0-3-79', '2-0-1-0-1-2-0-4-99', '2-1-2-1-0-2-0-4-6', '2-0-2-0-1-2-0-3-58', '2-0-1-2-0-2-0-4', '2-0-2-0-0-0-0-3-58', '2-0-2-1-1-1-0-3-73', '2-0-1-1-0-0-0-3-86', '2-1-2-1-2-1-0-4-35', '2-1-1-1-1-1-0-3-45', '2-1-1-0-0-0-0-3-93', '2-0-1-1-2-1-0-3-57', '1-1-1-1-2-1-0-4-18', '2-0-2-2-1-0-1-4-4', '2-0-1-2-0-3-0-3-67', '2-1-1-1-0-3-0-4-22', '2-0-2-1-1-3-0-4-54', '2-1-2-1-3-1-0-4-4', '2-1-2-1-2-0-0-4-42', '2-0-2-1-1-3-0-3-98', '2-1-0-1-1-1-0-4-2', '2-0-2-1-1-1-0-4-69', '1-0-1-1-1-0-0-3-50', '2-1-1-0-1-1-0-3-100', '2-1-2-0-0-2', '2-0-2-0-0-3-0-3-9', '2-0-2-1-0-0-0-4-53', '2-0-1-0-1-0-0-4-27', '2-1-2-1-2-3-0-3', '2-1-0-1-1-2-1', '2-0-1-1-1-3-0-4-18', '2-0-1-1-1-0-0-3-21', '2-0-0-1-1-', '1-0-2-2-3-0-0-4-95', '2-0-1-2-0-3-0-3', '1-1-2-1-3-1-0-3', '2-1-1-1-2-0-0-4-94', '2-1-0-1-2-0-0-3-100', '2-1-1-1-1-3-0-4-71', '2-0-1-1-0-2-0-4-70', '2-0-2-2-0-3-0-4', '2-1-1-1-1-2-0-4-61', '2-1-2-1-2-0-0-4-2', '2-1-2-0-1-3-0-4-40', '2-1-1-1-2-2-0-4-97', '2-0-1-1-1-3-0-4-40', '1-1-2-1-3-1-0', '2-0-2-1-0-2-0-4-32', '2-0-1-1-0-0-0-3-56', '2-0-2-1-2-1-1-4-1', '2-0-1-1-2-0-0-4-86', '2-0-2-2-0-2-0', '2-0-1-0-1-3-0-4-36', '2-1-2-1-0-0-0-4-31', '2-0-2-2-0-0-1-4-2', '1-0-1-1-1-0-0-4-1', '2-0-2-2-2-0-0-4-14', '2-1-2-1-2-2-0-3-29', '2-1-2-0-0-1-0-3-83', '2-1-2-0-1-3-0-3-41', '2-1-1-2-3-0-0-4-79', '2-0-1-1-0-0-0-4-54', '2-1-1-0-1-3-0-1-100', '1-1-1-0-2-0-0-4', '2-0-1-1-1-3-0-4-5', '2-0-1-1-0-0-0-3-68', '1-1-1-0-0-1-0-4-33', '2-1-1-0-2-2-0-3-25', '2-1-2-1-3-0-0-3-1', '2-1-1-1-0-0-0-3-58', '2-1-1-2-2-2-0-4-11', '2-1-1-2-1-1-0-4-22', '2-0-2-1-0-1-0-4-11', '2-0-1-0-2-0', '2-0-2-0-1-2-0-3-63', '2-0-2-1-0-0-0-3-22', '2-0-2-1-2-3-0-4-82', '2-1-1-1-1-0-1', '2-0-1-1-0--1-0-3-99', '2-0-0-1-0-0-0-4-2', '1-0-2-1-3-0-0-4-33', '2-0-2-2-1-2-0-3-60', '2-0-1-1-0-3-0-4-31', '2-0-2-1-2-0-0-3-56', '2-0-1-1-2-1-0-4-4', '2-1-2-1-2-0-0-4-8', '1-0-0-2-3-0-0-3', '1-0-2-1-3-1-0-3-35', '2-0-2-1-0-1-0-4-75', '2-0-2-1-0-0-0-3-20', '2-0-1-1-1-2-0-4-2', '2-1-1-1-1-1-1-3-7', '2-0-2-1-2-1-0-4-54', '1-0-1-1-2-0-0-3-86', '2-0-1-1-0-1-0-4-78', '2-1-1-1-0-0-0-4-23', '2-0-1-1-0-1-0-3-19', '1-1-1-1-3-0-0-4-9', '2-0-1-1-0-0-0-3-98', '2-0-2-1-0-0-0-3-41', '2-0-1-1-3-2-0-4-40', '2-0-1-1-0-0-1', '2-0-1-1-2-1-0-3-60', '2-0-2-1-1-2-0-1-63', '2-0-1-0-1-1-0-4-47', '2-1-2-1-0-1-0-4-32', '2-1-2-1-1-0-0-4-13', '2-0-2-1-0-3-0-3-47', '2-1-1-1-3-0-0-4-87', '1-0-1-1-3-0-0-4-16', '1-1-1-1-2-3-0-4-51', '2-0-2-1-2-0-0-4-84', '2-0-1-0-1-2', '2-1-1-1-1-0-0-4-21', '1-1-2-0-2-2-0', '2-0-1-0-2-0-0-3-69', '2-1-2-2-1-0-0-4-30', '2-0-2-1-0-3-0-4-6', '2-0-2-0-2-0-0-3-42', '2-1-2-0-1-0-0-4-1', '2-1-1-1-2-2-0-4-43', '2-0-1-0-3-3-0-4-14', '2-0-1-1-0-0-0-3-33', '2-1-1-1-2-3-0-4-5', '2-1-1-1-1-1-0-4-53', '2-0-1-0-2-0-0-3-38', '2-0-1-1-0-1-0-4-15', '1-0-1-0-0-2', '2-1-1-1-1-2-0-4-92', '2-1-1-1-0-0-0-3-28', '2-1-2-1-1-0-0-3-3', '2-0-1-1-0-0-0-4-61', '2-0-2-1-1-2-0-3-39', '2-1-1-1-3-2-0-4', '2-0-1-2-0-0-0-4-69', '2-1-2-2-1-2-0-4-55', '2-0-2-0-3-3-0-4-12', '1-0-1-1-0-3-0-4-53', '2-1-1-0-1-2-0-3-77', '2-1-1-1-0-0-0-4-17', '2-0-1-0-3-2-0-4-53', '2-0-2-1-2-3-0-3-77', '2-0-1-2-0-0-0-4-61', '2-0-1-1-1-3-0-4-66', '1-1-2-1-1-2-0-4', '1-0-1-1-3-0-0-4-7', '2-1-2-0-1-2-0-4-60', '2-1-1-1-1-1-0-3-14', '2-0-1-0-3-2-0-4-9', '2-0-2-1-1-0-0-3-6', '2-1-2-1-0-0-0-3-59', '1-1-1-1-3-0-0-3-18', '2-0-2-0-1-2-1-3', '1-0-2-1-3-0-0-3-55', '2-0-1-0-0-3-1', '2-1-1-0-2-0-0-4-59', '2-0-1-2-2-2-0', '2-0-1-1-0-0-0-4-60', '2-1-1-1-2-2-0-4-51', '1-0-1-1-3-0-0-4-42', '2-0-1-1-1-0-0-3-49', '2-0-2-1-1-3-0-3-82', '2-1-1-1-1-0-0-3-75', '2-1-2-2-1-1-0-4-85', '2-0-1', '2-0-2-0-3-2-0', '2-1-2-1-2-1-0-4-3', '2-0-1-0-2-0-0-4-43', '2-0-1-1-0-0-0-3-8', '2-0-1-1-2-3-0-3-88', '2-1-1-1-1-0-0-4-57', '2-0-1-0-2-0-0-4-91', '2-0-1-2-0-0-0-3-10', '1-0-1-0-0-0-0-3-94', '1-1-1-1-3-3-0-4-5', '2-0-2-1-1-2-0-3-93', '2-0-2-2-0-2-0-4-73', '2-0-2-2-2-2-0-4-2', '2-0-2-1-1-3-0-4-45', '2-0-1-2-1-1-0-4-68', '2-0-1-1-2-2-0-3-74', '2-1-2-1-0-0-0-3-56', '2-0-2-1-2-0-0-3-27', '2-0-2-1-2-0-0-4-27', '2-0-1-1-2-3-0-3-18', '2-0-1-0-2-0-0-4-10', '2-1-2-1-2-3-0-4-42', '2-0-1-0-2-3-0-4-73', '1-0-2-1-3-3-0-3-34', '2-1-1-2-2-1-0-3-13', '2-0-2-1-1-1-0-3-26', '2-0-2-1-0-2-0-4-81', '2-0-2-0-0-0-0-4-41', '2-0-0-1-2-1-0-4', '2-0-2-1-1-1-0-4-57', '2-0-1-0-2-3-0-3-38', '2-0-0-1-2-1', '2-1-2-1-0-0-1-4-9', '1-1-2-1-0-2-0-4-50', '2-0-1-1-0-1-0-4-97', '1-0-2-1-2-3-0-4-54', '2-0-2-1-0-2-0-4-20', '2-0-2-0-1-2-0-3-18', '1-0-1-2-3-0-0-4-75', '2-1-0-0-0-2-0-3', '2-0-1-2-0--1-0-3', '2-1-2-1-2-2-0-4-44', '2-1-2-0-0-1-1-4', '1-0-1-0-3-3-0-4-1', '2-0-2-1-2-0-0-4-13', '1-0-1-1-1-2-0-3-50', '2-0-2-1-2-2-0-4-49', '2-1-2-2-2-2-0-4-16', '2-1-1-1-3-1-0-3-41', '2-0-1-1-1-3-0-3-75', '2-0-1-1-0-1-0-4-74', '2-0-1-1-0-3-0-4-57', '2-1-1-0-1-2-0-4-6', '2-0-1-2-1-1-0-4', '2-1-2-0-2-2-0-4-4', '2-1-2-1-0-2-0-4-35', '2-0-0-1-2-3-0-3-1', '2-0-2-1-3-1-0-4-7', '2-1-2-1-2-1-0-3-36', '2-0-2-2-2-1-0-4-74', '2-0-0-0-1-1-0-3', '2-1-1-0-0-0-0-4', '2-1-2-1-2-1-0-3-86', '2-1-2-1-2-0-0-4-5', '2-1-2-1-2-3-0-4-36', '2-1-1-1-2-0-0-4-70', '2-0-1-1-0--1-0', '2-1-2-1-2-1-0-4-40', '2-1-0-0-2--1-1-3-5', '2-0-1-1-3-3-0-4-22', '2-0-2-1-1-1-0-4-68', '2-0-1-0-1-', '1-1-2-2-0-0-0-3-100', '2-0-2-1-0-2-0-3-3', '2-0-2-0-0-2-0-4-86', '2-0-1-1-2-3-0-3-7', '2-0-2-1-2-0-0-3-2', '2-0-2-0-0-2-0-4-17', '2-1-2-1-1-0-0-4-38', '2-1-2-1-1-0-0-3-100', '2-1-2-1-1-1-0-3-92', '2-0-1-1-1-2-0-4-23', '1-0-1-2-3-2-0', '2-0-2-1-0-1-0-3-61', '2-0-2-0-2-2-0-4-26', '2-0-1-1-2-0-0-3-16', '2-0-1-1-1-1-0-3-31', '2-0-2-1-1-0-0-4-81', '2-1-2-0-1-2-0-4-41', '2-1-1-2-0-3-1-4-1', '2-0-1-1-3-3-0-3-42', '2-0-1-1-1-1-0-4-88', '2-0-2-0-2-3-0-4-20', '1-0-1-0-0-2-0-3-100', '2-0-1-1-1-2-0-4-53', '1-0-1-2-3-1', '2-0-1-2-0-2-0-3-92', '2-0-2-0-1-0-0-4-34', '2-0-1-0-2-1-0-3-40', '2-1-2-1-3-1-0-4-44', '1-0-1-0-2-1-0-4', '1-0-2-1-2-1-0-4-62', '2-1-2-2-1-0-0-4', '2-0-1-1-0-0-0-3-39', '2-1-2-0-0-3-0', '2-0-1-0-2-1-0-4-35', '1-0-1-1-0-1-0-4-49', '2-1-2-1-3-1-0-3-52', '2-1-1-1-1-3-0-3-71', '2-0-2-2-1-1-0-4-5', '1-0-2-1-3-0-0-3-43', '1-0-2-2-1-0-0-3', '2-1-1-1-1-0-0-3-13', '2-0-2-2-0-3-0-3-97', '2-0-2-0-2-3-0-4-85', '2-1-2-1-1-1-0-4-59', '2-0-1-1-2-2-0-3-51', '2-0-2-1-0-0-0-3-32', '2-1-1-1-2-3-0-3-5', '2-1-1-1-2-2-0-3-10', '1-1-2-2-3-1-0-4-50', '2-0-1-1-1-0-0-3-36', '2-1-2-1-2-0-0-3-12', '1-0-1-0-0-1-0-3', '2-0-1-1-0-0-0-3-30', '2-0-2-1-3-2-0-4-47', '2-0-2-1-2-3-1-3', '2-0-1-2-1-3-0-4-2', '1-0-1-0-0-0-0-4-51', '2-0-2-0-2-3-0-4-37', '2-0-1-1-0-0-0-4-98', '2-0-1-0-1-3-0-3-34', '1-0-0-1-2-1-0-4', '2-1-1-0-1-1-0-4-10', '2-0-2-1-0-0-0-3-7', '2-0-1-1-1-2-0-4-82', '1-0-1-2-0', '2-1-0-1-1--1-0-3', '2-1-2-2-2-0-0-4-90', '2-0-1-0-1-1-0-4-35', '2-0-2-1-2-0-0-4-74', '2-0-0-1-1-2-0-3-28', '2-0-1-1-0-0-0-4-35', '2-0-1-1-0-3-0-4-93', '1-1-0-1-0-0-0-3-97', '2-1-1-2-1-1-0-4-17', '1-1-1-1-3-0-0-4-3', '2-1-2-0-1-0-0-3', '2-1-0-1-2-0-0-3-31', '2-0-1-1-3-1-0-4-39', '2-0-1-1-2-2-0-3-52', '2-0-2-1-1-2-0-4-7', '2-0-1-1-1-2-0-4-64', '2-1-1-0-1-0-0-4-69', '1-0-2-0-3-2-0', '2-0-1-0-2-3-0-3-40', '2-1-1-0-2-0-0-4-68', '2-0-2-1-2-2-1-4', '2-1-1-1-1-3-0-3-64', '2-1-1-0-1-0-0-4-10', '1-0-2-1-3-0-0-3-15', '2-0-1-1-2-0-1-4-1', '2-1-0-0-3', '2-0-2-0-1-2-0-4-46', '2-0-1-1-0-0-0-3-88', '1-0-1-1-3-2-0-3-11', '2-1-2-0-1-1-0-4-41', '2-0-2-2-1-2-0-4-99', '2-0-2-0-1-2-0', '2-0-2-1-0-2-0-4-53', '2-0-0-1-1-3-0-2', '2-1-1-1-0-3-0-4-76', '2-0-2-2-1-0-1-3-5', '1-0-1-1-0-3-0-4-19', '2-1-1-1-1-1-0-3-7', '2-0-1-1-0-0-0-4-91', '2-1-1-2-2-0-0-4', '2-0-2-1-2-2-0-4-8', '2-0-2-1-1-0-0-3-35', '2-1-1-1-2-0-0-3-18', '2-0-1-0-2-1-0', '1-0-2-1-0-0-1-4-5', '2-0-2-1-1-0-0-3-38', '2-0-1-1-0-0-0-4-74', '2-1-1-1-1-1-0-3-35', '2-0-1-0-0-1-0-4-61', '1-0-1-2-3-0-0-4', '2-0-2-0-2-2-0-4-79', '2-0-1-1-0-2-0-3-40', '2-0-2-2-0-0-0-4-20', '2-0-1-1-2-2-0-4-6', '2-0-2-0-0-1-1-3', '2-1-1-1-3-1-0-4-68', '2-0-1-2-2-0-0', '2-0-1-1-0-2-1-3-3', '2-0-1-1-2-1-0-4-11', '2-1-2-0-0-2-0-3-99', '2-0-1-0-1-2-0-4', '2-0-1-1-1-2-0-3-25', '2-1-2-1-0-1-0-4-55', '2-0-2-1-2-3-0-3-18', '2-0-1-1-1-1-0-3-18', '1-0-1-2-1-3-0', '2-0-2-1-1-2-0-4-41', '2-1-2-1-2-1-0-4-18', '2-1-2-1-2-0-1-4-8', '2-1-2-1-1-0-0-3-36', '1-0-0-1-0-1-0-3-15', '2-1-1-1-0-0-0-4-54', '2-1-1-2-1-2-0-4-7', '2-0-1-1-1-0-0-4-48', '2-0-1-1-1-0-0-4-9', '1-1-1-1-2-0-0-4-88', '2-0-2-1-1-0-0-4-25', '2-1-1-1-2-0-0-4-63', '2-0-1-1-2-3-0-3-50', '2-0-2-2-1-1-0-4-34', '1-0-2-2-3-3-0-3-14', '2-0-0-1-1-1-0-3-74', '2-0-2-1-1-3-0-4-3', '2-0-1-1-1-0-0-4-26', '2-1-1-1-3-2-0-4-43', '2-1-2-1-1-0-0-4-8', '1-0-1-1-3-0-0-3-69', '2-1-1-1-0-2-0-3-34', '2-1-1-0-0-2-0-3-100', '2-1-1-1-1-0-0-4-70', '1-0-1-1-3-0-0-4-30', '1-0-2-1-3-0-0-3-10', '2-1-2-1-2-0-0-4', '2-1-1-1-3-0-0-4-98', '2-1-2-0-2-0-0-4-6', '2-1-0-0-1-0-0', '2-0-0-1-0-2-1-3', '1-0-2-1-3-0-0-4-61', '2-0-1-2-2-3-0-4-29', '2-1-1-2-3-0-0', '1-0-2-1-2-3-0-4-100', '2-1-1-1-1-0-0-3-23', '2-0-1-1-1-1-0-3-17', '2-0-2-1-2-1-0-4-25', '2-0-2-1-2-2-0-4-4', '2-1-1-1-3-3-0-4-7', '2-1-0-1-0-1-0-3', '2-0-1-1-1-3-1-4', '2-0-2-1-0-1-0-3-78', '2-0-2-2-0-0-0-3-62', '2-0-2-1-3-0-0-4-15', '2-1-1-1-3-0-0-4-40', '2-1-1-0-3-1-0-4', '2-0-2-2-1-3-0-4-6', '2-1-2-1-1-2-0-4-84', '2-0-2-1-2-1-1-4-12', '2-1-2-2-1-1-0-4-18', '1-0-1-1-2-0-0-1', '2-1-2-1-2-3-0-4-35', '2-1-1-1-0-3-0-3-99', '1-1-2-0-0-0-0', '2-1-0-1-2-1-0', '2-0-2-1-1-2-0-4-79', '2-0-2-0-1', '2-1-2-1-1-3-1-4', '2-1-1-1-0-0-0-4-98', '2-1-2-0-2-1-0-4-25', '2-0-2-2-2-1-0-4-79', '2-1-2-1-1-3-0-3-85', '1-0-1-1-3-1-0-4-59', '2-0-1-2-0-0-0-4-31', '2-0-1-1-1-3-0-3-33', '1-0-1-1-3-0-0-4-22', '2-0-2-0-3-2-0-3-11', '2-1-1-1-2-1-0-4-37', '2-1-2-2-0-2-0-4-78', '1-1-2-0-2-2', '2-0-0-1-2-2', '2-0-1-1-1-2-0-4-27', '2-0-2-1-3-1-0-4-73', '2-0-2-0-2-0-0-4-61', '2-1-1-1-2-0-0-4-82', '2-0-2-1-0-1-0-4-60', '2-1-1-0-1-1-0-4-41', '2-0-2-1-2-1-0-4-46', '2-0-2-0-1-3-0-3-42', '2-0-1-1-0-0-0-3-19', '1-0-1-0-3-3-0-4-38', '2-0-2-0-0-1-1-4', '2-0-2-0-0-2-0-4-36', '2-1-2-1-0-0-0', '2-0-1-1-1-0-0-3-14', '2-1-2-1-3-0-0-4-8', '2-0-2-1-2-2-0-3-97', '2-1-1-2-1-3-0-3-79', '2-1-1-1-1-2-0-3-23', '2-0-1-1-2-0-0-4-21', '2-0-1-0-2-1-0-3-91', '2-0-0-2-2-2-0-4', '2-0-2-0-0-0-0-3-6', '2-1-1-0-2-3-0-4-53', '2-0-2-1-1-2-0-4-84', '2-0-2-1-1-0-0-4-56', '1-0-2-1-3-2-0-3-56', '2-1-1-1-1-2-0-3-59', '1-0-2-1-0-1-0-3', '2-0-1-0-1-0-0-4-48', '2-0-2-1-2-0-0-3-58', '2-1-2-1-2-3-0-4-25', '1-1-2-1-3-2-0-4-52', '1-1-1-1-2-0-0', '2-0-2-1-0-2-0-4-28', '2-0-1-0-2-3-0-4-88', '2-1-2-1-2-1-0-4-16', '1-0-2-1-3-0-0-4-11', '2-1-1-1-0-1-1-4', '2-1-2-1-2-1-0-4-39', '2-0-2-0-1-0-0-3-44', '2-1-0-1-0-0-0-4', '2-0-0-2-1--1', '1-1-2-2-0-0-0-3', '2-0-2-1-0-1-1-4', '2-1-2-0-0-3-0-4-43', '2-1-1-2-0-0-0-3-63', '2-1-1-0-0-2-0-3-96', '2-1-2-0-0-2-0-4-87', '2-1-1-1-1-0-0-4-32', '2-1-1-1-3-2-1-3-5', '2-1-1-0-1-2-0-4-18', '2-0-2-1-1-0-0-4-70', '1-0-2-1-3-3-0-4-100', '2-1-1-0-0-0-0-3-49', '1-0-2-1-2-2-0-4-54', '1-0-1-0-0-3', '2-0-1-0-1-0-0-3-52', '2-0-2-1-2-2-0-3-98', '2-0-2-1-0-2-0-3-64', '2-1-1-1-2-2-0-4-78', '2-0-2-0-1-1-0-3-47', '2-0-2-1-1-2-0-4-18', '1-0-0-2-3-2-0-4', '2-0-1-1-0-0-1-4', '2-0-1-1-0-0-0-4-42', '2-1-1-1-0-3-0-3-3', '1-0-1-1-3-1-0-4-19', '2-1-2-2-3-0-0-4-44', '2-0-1-0-1-0-0-4-34', '2-1-1-2-1-2-0-4-35', '2-0-2-1-0-2-0-4-3', '1-0-1-2-3-2-0-4-99', '2-0-1-1-0-0-0-4-73', '2-0-2-0-0-2-0-4-98', '2-0-2-2-1-0-0-4-16', '2-1-1-1-0-0-0-4-36', '1-0-1-1-1-2-0-4-31', '1-0-2-0-3-2-0-3-16', '2-0-0-1-1-2-0-3-100', '2-0-2-2-2-3-0-4-24', '2-0-0-1-2-1-0-3-74', '2-0-1-1-0-0-0-4-38', '1-0-2-1-2-3-0-3-72', '2-1-1-2-1-1-0-4-7', '2-0-1-1-1-0-0-3-55', '2-0-0-1-1-0-0-3-76', '2-0-2-1-1-3-0-3-23', '2-0-1-0-3-0-0-3-51', '2-1-2-2-2-1-0-4-40', '1-0-2-1-3-1-0-3-4', '1-1-1-1-0-1-0-4-47', '2-1-0-0-1-0-0-3-50', '2-0-2-2-2-1-0-3-98', '2-0-2-1-2-3-0-4-81', '1-1-2-0-2-2-0-4-52', '2-0-0-1-0-2-0-3', '2-0-2-0-1-0-0-3-30', '2-0-2-0-2-3-0-3-47', '1-0-1-1-2-2-0-4-55', '2-0-2-1-3-0-1-3', '2-1-1-0-2-0-0-4-53', '2-1-2-1-2-3-0-3-29', '2-0-2-1-2-2-0-3-44', '2-1-2-1-0-0-0-4-72', '2-0-1-0-0-2-0-4-37', '2-1-1-1-3-0-0-3-29', '1-1-0-1-0-0-0', '2-0-1-1-0-3-0-3-80', '2-0-2-1-0-0-0-3-91', '2-1-1-0-1-2-0-4-40', '2-1-1-1-2-2-0-3-50', '2-1-1-1-2-2-1-4', '2-0-1-1-1-2-0-4-31', '2-0-2-2-0-0-0-4-47', '2-1-1-2-0--1-0-4', '2-0-1-0-1-1-0-4-43', '2-1-1-0-2-0-0-3-54', '2-0-2-1-3-2-0-4-31', '2-0-1-1-2-1-0-4-46', '2-0-2-1-0-0-0-3-25', '1-0-1-0-3-2-0-4-39', '2-0-2-2-3-3-0-3', '1-1-1-1-3-3-0-4-100', '1-0-2-1-3-0-0-3-52', '2-1-1-1-0-0-0-4-49', '2-1-2-1-2-1-0-4-44', '2-0-1-0-0-0-0-4-6', '2-0-1-1-1-0-1-4-5', '2-0-1-1-2-0-0-4-68', '2-1-1-1-0-0-0-4-39', '2-1-2-1-1-0-0-3-66', '1-1-1-1-1-0-0-3-99', '2-0-1-1-1-3-0-4-3', '2-0-2-1-3-3-0-3-49', '2-0-1-0-0-0-0-3-3', '2-1-0-1-1--1-0', '2-0-2-0-3-0', '2-1-2-2-3', '2-1-2-1-1-2-0-4-99', '2-1-1-0-1-0-0-3-69', '1-0-2-0-3-0-0', '2-1-1-2-1-1', '2-1-1-1-3-3-0-4-3', '2-0-1-1-0-1-0-3-94', '2-1-2-1-3-3-0-4-6', '2-0-2-2-3-0', '2-1-2-2-2-0-0-3', '2-0-1-1-2-2', '2-0-2-1-0--1-0-3-55', '2-0-1-1-3-1-1-4-2', '2-1-1-1-0-2-0-3-19', '2-1-2-1-2-0-0-4-20', '2-1-2-1-0-0-0-3-99', '2-0-1-1-1-3-0-3-46', '2-0-1-1-3-3-0-4-94', '2-0-2-0-1-3-0-4-89', '2-0-0-2-0-0-0-3-71', '2-0-1-2-1-3-0-1', '2-1-0-1-1-0-0-3-83', '2-0-2-0-0--1-0-4', '2-1-2-0-2-2-0-4-18', '2-1-2-1-2-0-0-4-29', '2-0-1-1-0-0-0-3-35', '2-1-1-2-1-0', '1-0-1-0-3-3-0-4-35', '2-0-1-1-0--1-0-3-29', '2-0-1-1-1-3-0-3-72', '2-1-2-1-1-2-0-4-4', '1-1-2-1-0-0-0-3-100', '2-1-1-1-1-2-0-3-83', '2-0-1-1-2-2-0-3-43', '2-0-1-1-2-1-0-4-49', '1-1-2-1-3-0-0-3', '2-0-2-0-3-3-0-4-22', '2-0-2-2-0-0-0-4-83', '2-0-2-1-1-0-1-3-6', '2-0-2-0-2-2-0-4-1', '2-0-2-0-1-2-0-3-29', '1-0-0-1-3-3', '1-0-2-0-3-3-0-4-17', '2-0-2-0-1-3-0-4-88', '2-0-0-0-2-0-0-3-12', '2-0-1-2-0-1-1-4', '2-1-1-0-1-0-0-3-10', '2-0-1-0-2-1-0-4-60', '2-1-2-1-3-1-0-4', '2-0-2-1-1-3-0-3-35', '2-0-2-1-2-3-0-4-96', '2-1-1-1-1-3-0-4-13', '2-0-1-1-1-1-0-4-24', '2-0-0-1-2-2-0-3-23', '2-1-2-2-1-3-0-4-4', '2-0-2-0-2-2-0-4-84', '2-0-1-1-1-0-0-4-94', '2-0-2-2-0-0-0-4', '2-0-1-1-1-0-0-4-43', '1-0-1-0-2-2-0-4-34', '2-0-1-0-0-0-1-4-1', '2-0-1-1-0-1-0-3-49', '2-0-1-1-2-0-0-4-87', '2-0-2-1-2-1-0-3-85', '1-0-1-1-1-3-0-4-58', '2-1-0-1-1-1-0-2', '1-1-2-2-0-0-0-4-48', '2-1-1-0-1-2-0-3-47', '2-0-2-2-2-1-0-4-1', '1-1-2-1-3-1-0-4-55', '1-0-0-1-0-0-0-4-99', '1-0-2-0-0-2-0', '2-0-1-1-0-1-0-3-5', '2-0-1-1-2-2-0-4-44', '2-0-1-2-0--1-0-4-50', '2-0-1-1-0-3-0-3-20', '2-1-1-2-1-0-0-4-32', '1-0-2-1-2-1-0-4-60', '2-0-1-1-1-1-0-4-79', '2-0-2-0-1-1-0-4-26', '1-0-2-1-2-3-1-4-10', '2-0-1-0-2-3-0-4-84', '2-1-2-1-1-2-0-3-96', '2-0-2-1-1-2-0-4-98', '2-1-1-0-1-3-0-4-69', '2-0-2-1-1-1-0-3-42', '2-0-2-2-1-3-0-3-41', '2-0-1-1-1-0-0-3-46', '2-0-1-0-2-0-0-3-18', '2-0-1-0-2-1-0-4-16', '1-0-2-1-1-3-0-4-54', '2-0-2-0-0-0-1-4-1', '2-0-1-0-2-2-0-3-11', '2-0-2-1-0-1-0-3-92', '2-1-2-1-1-0-0-4-40', '2-1-2-1-0-2-0-4-77', '2-0-1-0-1-0-0-3-83', '2-0-2-2-1-3', '2-0-2-1-1-0-0-3-65', '2-1-2-1-0-0-0-4-59', '2-1-1-2-3-1-0-4', '2-0-0-0-2-3-0-3-17', '1-0-1-0-2-0-0-4-72', '2-0-2-1-1-2-0-4-38', '2-1-0-0-3-3-0-3-20', '2-0-2-1-1-2-0-4-93', '2-0-2-1-0-1-0-4-28', '2-0-1-0-2-2-0-3-12', '2-1-2-1-2-1-0-4-11', '2-1-2-1-0-0-0-3-41', '2-0-2-1-2-2-0-4-13', '2-0-1-1-2-0-0-4-98', '2-1-1-2-2-0-0-4-84', '2-0-2-0-2-0-0-4-93', '2-1-1-1-2-3-0-3-35', '2-1-1-1-0-1-0-3-43', '2-0-2-2-2-1-0-4-10', '1-1-1-1-3-3-0-4-18', '1-0-1-1-0-0-0-4-47', '1-1-1-0-3-0-0-4-6', '2-1-0-1-0-1-0-3-100', '2-0-2-1-2-0-0-4-3', '2-0-1-1-1-1-0-3-49', '1-0-1-1-2-1-0-4', '2-1-1-1-2-2-0-3-65', '2-0-2-0-2-2-0-3-99', '2-0-2-1-0-3-0-4-9', '2-0-2-1-0-0-0-3-46', '2-0-2-1-0-1-0-3-53', '2-1-2-1-2-2-0-4-100', '2-0-2-1-2-3-0-4-25', '1-0-1-2-3-1-0', '2-1-1-1-0-2-0-4-17', '2-0-1-1-2-0-0-4-50', '1-0-1-1-2-0-0-4-68', '2-0-1-0-0-2-0-4-85', '2-0-2-1-0-1-0-3-29', '1-0-2-1-3-0-0-4-17', '2-1-2-1-3-2-0-3-42', '2-1-2-0-0-0-0-3-63', '2-0-0-0-0-0-0-4', '2-0-2-1-1-1-0-4-42', '2-1-1-1-1-2-0-3-3', '2-1-2-2-2-2-0', '2-0-2-0-1-3-0-4-45', '2-0-1-1-1-1-0-4-20', '2-0-0-1-0-0-0-3-72', '2-0-1-2-0-1-0-4-55', '2-0-2-1-2-3-0-4-98', '2-0-1-1-0-0-0-3-52', '2-0-1-1-2-0-0-4-53', '2-1-1-1-0-2-0-4-100', '2-0-1-1-1-0-0-4-53', '2-0-2-0-1-1-0-4-60', '2-0-2-1-2-1-0-3-46', '1-0-0-1', '2-0-1-1-2-0-0-4-93', '1-0-1-0-0-3-0-4-50', '2-0-2-0-2-3-0-3-38', '2-0-1-2-1-2-0-4-34', '2-0-1-0-2-3-0-3-80', '1-0-1-2-3-3-0-4-96', '2-1-1-0-2-0-0-4', '2-1-2-2-2-2-0-4-67', '2-0-0-0-0--1-0', '2-1-1-1-2-0-0-4-50', '2-1-2-1-1-0-0-3-8', '1-1-1-1-2-1-0-4-51', '2-1-1-1-2-2-0-4-14', '2-0-2-0-0-0-0-4-71', '2-0-2-1-2-1-0-4-47', '1-1-0-1-1-3-0', '2-0-1-1-1-3-0-4-16', '2-1-2-0-0-0-0-3-40', '2-1-1-2-1-3-0-4', '2-0-0-2-0-0-0-4-12', '2-0-1-0-0-1-0-3-79', '1-1-1-1-3-0-0-3-66', '2-0-1-2-1-0-0-3-100', '2-0-2-2-3-3-0-4', '1-1-1-1-2-0-0-4-20', '2-0-1-0-0-3', '2-0-2-2-2-1-0-4-97', '1-0-1-1-3-0-0-4-58', '1-1-1-0-3-1-0-4-13', '1-0-2-1-3-1-0-3-2', '1-0-2-0-1-3-0-3-56', '2-1-1-1-0-1-0-4-43', '2-1-1-1-0-0-0-4-32', '1-0-1-1-3-2-0-4-99', '1-0-1-1-3-2-0-4-98', '1-0-2-1-1-1-0', '1-0-2-1-2-0-1-4', '2-1-1-2-2-0-0', '2-1-2-1-1-0-0-4-1', '2-0-2-0-2-3-0-4-45', '2-1-1-1-0-0-0-4-83', '2-0-2-1-1-3-0-3-48', '2-0-2-2-0-3-0-4-5', '2-0-2-1-0-2-0-3-36', '2-0-1-1-2-2-0-4-13', '2-0-1-1-0-3-0-3-47', '2-1-1-2-0-2-0-4-26', '2-1-0-2-0', '1-0-1-2-3-1-0-4-38', '2-0-2-1-2-2-0-4-78', '1-1-2-1-1-2-0-4-98', '1-1-2-1-2-0-0-4-52', '2-0-1-0-0-0-0-4-82', '2-0-1-0-0-0-0-3', '2-0-1-1-1-3-0-3-28', '1-0-1-0-3-0-0-4-21', '2-1-1-2-3-2-0-4-44', '2-0-0-0-2-0-0-3-82', '2-1-1-1-2-2-0-3-3', '2-1-2-1-2-0-0-4-97', '2-0-1-1-2-2-0-4-98', '2-0-0-0-0', '2-0-2-1-1-0-0-4-75', '2-0-1-1-2-0-0-3-73', '2-0-1-1-3-1-0-4-55', '2-1-0-1-1-3-0-3-3', '2-0-1-0-2-0-0-4-85', '2-0-2-1-2-3-0-4-40', '2-0-1-0-0-1-0-4-37', '2-0-2-0-0-2-1-4-2', '2-0-1-1-3-3-1-4-4', '2-1-2-1-1-2-0-4-51', '2-0-2-1-2-0-0-3-29', '2-0-1-1-1-2-0-4-22', '2-1-0-1-0--1-1-3', '1-0-2-2-2-0-0-3-3', '2-0-1-1-2-1-0-4-6', '2-0-1-0-0-0-0-3-94', '2-0-1-2-1-0-0-4-18', '2-0-0-2-2-2-0-4-2', '2-1-2-1-1-3-1-3-3', '2-0-0-1-2-0-0-3-10', '2-1-2-1-2-3-0-4-7', '2-0-1-2-1-0-0-4-72', '2-0-2-0-1-0-0-4-62', '2-0-2-1-1-1-0-4-79', '1-0-1-2-1-0-0-4-100', '2-1-1-1-1-1-0-4-18', '2-1-1-0-0-2-0', '2-1-1-0-2-3-0-4-80', '2-0-2-1-2-1-0-4-12', '2-0-2-1-0-0-0-4-4', '2-1-2-0-2-2-0-3-42', '2-0-1-1-2-1-0-4-9', '2-1-2-1-2-2-0-4-12', '2-0-2-1-3-1-0-3-3', '2-0-1-1-1-1-0-3-51', '2-0-2-0-1-1-0-4-62', '2-0-2-1-2-0-0-4-10', '2-1-0-1-2--1-0-3-38', '2-1-1-1-2-1-0-3-20', '2-0-1-1-1-3-0', '1-0-1-1-2-3-1', '2-0-2-2-3-3-0-3-4', '2-1-2-2-2-1', '2-0-1-1-0-2-0-4-84', '2-1-1-1-1-0-0-4-44', '2-1-2-1-1-2-0-3-5', '2-0-2-0-1-0-0-4', '2-1-2-0-1-1-0-3', '2-0-1-1-2-0-0-4-66', '1-0-0-1-2-0-0-3-100', '2-0-2-1-1-0-0-3-16', '2-0-2-2-0-1-0-4-26', '2-1-1-0-2-0-0-4-80', '1-0-0-1-3-2-0-3-3', '2-0-2-1-2-0-0-3-13', '2-0-1-1-1-2-0-4-14', '2-1-1-1-0-0-1-4-6', '2-0-2-1-2-3-0-4-9', '2-0-2-0-1-2-0-4-26', '1-0-2-2-3-0-0-3-36', '2-0-2-1-0-0-0-4-32', '2-0-1-0-0-0-0-3-53', '2-0-2-2-1-0-0-4-14', '2-0-1-2-1-1-0-4-99', '2-0-2-1-0-3-0-4-26', '2-0-2-2-2-2-1-4', '2-0-1-1-1-1-0-4-13', '2-0-0-0-0-1-0', '2-0-2-1-2-3-0-4-95', '2-0-2-1-0-1-0-4-32', '2-1-1-0-1-0-0-4-33', '2-0-1-0-1-3-0-3-75', '2-0-1-1-3-3-0-3-29', '1-0-1-1-3-0-0-3-88', '2-1-1-1-0-1-1-1', '2-1-1-1-2-0-0-4-52', '2-0-1-0-1-2-0-4-1', '2-0-0-1-2-0-0-3-4', '2-0-2-0-1-2-0-4-43', '2-0-1-0-2--1', '2-0-2-1-2-2-0-4-75', '2-0-1-2-0-0-0-4-19', '1-0-2-1-3-3-0-4-20', '2-0-1-1-3-0-0-4-40', '2-1-2-0-0-2-0-4-45', '2-0-0-2-1-1-0-4-99', '2-0-2-0-2-1-0-4-27', '2-0-2-2-1-3-0-3-35', '2-0-1-1-2-2-0-3-19', '2-0-2-2-0-3-0-4-82', '2-0-2-1-1-2-0-4-20', '2-0-1-2-3-2-0-4', '2-1-1-2-2-0-0-3-22', '2-1-2-1-0-2-0-4-73', '1-1-2-2-3-3-0', '2-0-2-1-2-1-0-4-51', '2-1-1-1-1-3-0-3-36', '1-0-0-1-1-2', '2-0-2-2-0-2-0-4-92', '2-0-1-0-0-1-0-4-3', '2-0-2-1-2-0-0-3-94', '2-0-2-1-2-0-0-4-72', '2-0-2-0-2-0-0-4-41', '2-0-2-1-2-2-0-4', '2-0-2-0-3-2-0-4-98', '2-1-1-1-3-0-0-4-89', '2-1-2-1-1-2-0-3-69', '2-0-1-1-0-0-0-3-79', '2-1-1-1-1-0-0-3-60', '2-0-2-0-1-2-0-4-10', '2-1-0-1-2-0-0-3-3', '2-0-2-1-2-2-0-3-3', '2-1-2-0-0', '2-0-1-0-2-3-0-4-100', '2-1-1-0-0-2-0-4-32', '1-0-1-1-2-3-0-4-62', '2-0-2-1-2-2-0-3-96', '2-0-2-2-0-0-0-3-34', '2-0-2-1-1-0-0-4-35', '2-0-2-1-2-2-0-2', '2-0-0-1-2-3-0', '2-0-1-1-2-0-0-3-1', '1-1-2-1-2-3-0-3-81', '1-0-2-1-3-2-0-3-97', '2-0-1-1-3-2-0-3-36', '2-1-1-1-3-3-0-3-6', '2-0-2-0-0-1-1-4-2', '2-1-1-1-2-2-0-4-6', '2-1-2-1-2-0-0-4-1', '2-0-1-1-1-2-0-3-33', '2-1-2-2-2', '2-0-2-1-0', '2-0-1-0-1-0-0-3-92', '2-0-2-1-2-3-0-4-43', '1-0-2-0-2-3-0-3-75', '1-0-1-1-2-2-0-4-62', '2-1-2-0-1-0-0-4-9', '2-0-1-1-0-0-0-4-2', '1-1-2-1-2-3-0-4', '2-1-2-1-0-0-0-4-64', '2-1-2-0-0-1-0-4-21', '2-0-2-1-1-3-0-4-26', '2-0-1-2-0-1-0-4-25', '2-0-1-2-0-2-0-4-4', '2-1-1-1-2-3-0-3', '2-0-2-0-0-3-0-4-79', '2-0-2-2-2-0-0-4-35', '1-0-2-1-2-1-0-4-66', '2-0-2-0-1-3-0-4-3', '1-0-0-1-3-3-0-3-8', '2-1-2-1', '2-0-2-2-2-0-0-4-45', '2-0-1-1-3-2-0-4-37', '1-0-2-0-0-2-1', '2-1-1-1-1--1-0-3', '1-0-2-1-2-3-1-4', '2-0-2-1-2-1-0-3-82', '2-0-2-1-0-0-0-4-5', '2-1-1-1-0-1-0-4', '1-0-2-1-0-3', '1-0-2-0-3-0', '2-0-2-1-1-1-0-4-13', '2-1-2-0-0-2-0-3-95', '2-0-1-0-2-0-0-4-73', '2-0-2-0-3-0-0-4-98', '1-1-1-1-2-3', '2-0-2-0-2-1-0-4-100', '2-0-2-0-1-1-0-4-81', '2-1-2-1-3-0-0-3-6', '1-1-1-1-1-2-0-4-98', '1-0-1-1-0-2-1-3-1', '2-1-1-1-3-0-0-4-6', '2-1-2-0-1-0-1-3-1', '2-0-1-1-3-0-0-4-49', '2-0-2-1-2-3-0-4-30', '2-0-0-1-2--1-0', '2-0-2-1-0-3-0-3-98', '1-0-2-1-0-0-0-3-96', '2-0-2-0-2-3-0-3-68', '2-1-2-1-3-0-0-4-6', '2-1-1-0-2-1-0-4-5', '2-0-0-0-3-3-0', '2-0-2-1-3-3-0-4-100', '2-0-2-1-1-2-0-4-65', '1-1-1-1-2-1-0-4-13', '2-0-1-1-1-2-1-4-3', '2-1-1-1-1-1-1-4-1', '2-1-2-1-0-2-0-4-91', '2-0-1-1-1-1-0-4-38', '2-1-2-0-2-0-0-4', '2-1-2-1-1-1-0-4-49', '2-1-2-2-1-1-0-4-29', '2-0-1-1-1-2-0-3-51', '2-0-2-0-0-2', '2-0-1-0-0-1-0-3-3', '2-0-1-0-0-0-0-3-70', '2-1-1-1-1-0-0-4-11', '2-0-1-1-0-2-0-4-65', '2-0-2-2', '2-0-1-1-2-1-0-4-43', '1-0-2-1-3-3-0-3-6', '2-0-2-2-1-2-0-4-5', '2-0-1-1-1-0-0-4-11', '2-0-2-1-1-1-0-3-12', '2-1-1-1-0-0-0-4-34', '2-0-2-1-1-0-0-4-8', '2-0-2-0-3-1', '2-0-1-0-0-1-0-4-69', '2-0-2-1-1-3-0-3-79', '1-0-2-0-2-2-0', '1-1-1-0-3-0-0', '2-0-2-1-1-3-0-4-71', '2-1-1-1-1-1-0-4-35', '2-0-1-1-2-1-0-4-26', '2-0-2-1-1-2-0-4-76', '1-0-1-1-3-2-0-4-67', '2-1-1-1-3-0-0-4-45', '1-0-1-1-3-2-0-4-18', '2-0-2-1-0-1-0-4-76', '2-1-2-1-1-1-0-4-66', '2-1-2-1-0-0-0-4-98', '2-0-1-0-2-3-0-4-74', '2-0-1-0-0-1-0-4-67', '2-0-0-1-2-3-0-4-37', '2-0-1-1-1-0-0-3-35', '2-0-2-1-2-0-0-3-96', '2-0-2-0-2-0-0-3-65', '2-0-1-1-0-2-0-3-71', '2-0-1-1-0-2-0-3-31', '2-0-2-1-1-2-0-3-42', '1-1-0-1-3-1-0-3-14', '2-1-1-0-1-0-0-4-48', '2-0-1-0-3-0-0-4-14', '1-0-2-2-1-0-0-4-51', '1-0-1-1-3-2-0-4-44', '2-1-2-0-0-3-0-3-55', '2-1-2-1-0-0-0-3-50', '2-0-1-1-1--1-0-3-74', '2-0-1-2-0-2-1-4', '2-0-2-1-1-0-0-4-86', '1-0-1-0-3-1-0-3-38', '1-1-1-1-2-1-0-4-99', '2-0-2-1-0-0-0-3-70', '2-1-1-0-2-1-0-4-42', '2-0-1-1-2-0-0-3-15', '1-0-2-1-2-2-1-4-10', '2-1-1-1-0-1-0-4-73', '1-1-1-1-3-3-0-3-18', '2-0-2-0-1-0-0-4-11', '2-1-1-1-1-0-0-3-35', '1-1-1-1-2-0-0-4-13', '2-0-2-1-1-3-0-3-20', '2-1-1-2-2-0-0-4-38', '2-0-2-2-2-0-0-3-19', '1-1-1-2-0-0-0-3', '2-0-1-0-2-2-0-4-94', '1-0-1-1-3-0-0-3-19', '1-1-2-0-2-0-0-4-88', '2-0-1-1-0-0-0-3-53', '2-0-0-1-3-3-0-3-22', '2-1-0-0-0-0-0-3-81', '2-0-2-2-0-2-0-4-4', '2-0-1-1-1-3-0-3-41', '1-1-1-1-3-0-0-4-38', '2-0-2-2-2-3-0-3-79', '2-1-2-1-2-3-0-3-15', '2-0-2-1-2-1-0-3-87', '2-0-1-2-2-2-0-4-36', '2-1-2-0-0-0-0-4-41', '2-0-2-0-0-0-1-3-3', '2-0-2-1-2-3-0-4-57', '2-0-1-0-2-0-0-4-1', '2-0-2-1-0-3-0-4-74', '2-1-1-1-1-2-0-4-82', '2-1-0-1-2-0-0', '2-1-1-1-1-0-0-3-65', '2-0-1-1-2-2-0-4-85', '2-0-1-1-0-0-0-3-16', '2-1-1-1-2-0-0-4-69', '2-0-2-1-2-0-0-3-99', '2-0-2-1-2-1-0-4-35', '2-0-1-2-0-0-0-3-65', '2-1-2-0-3-0-0-4-24', '2-0-2-1-2-2-0-3-54', '2-0-1-1-1-3-0-4-71', '2-0-2-2-1-1-0-3', '2-0-2-1-2-2-0-4-2', '2-0-2-2-1-0-0-4-63', '2-1-2-1-2-0-0-4-4', '2-0-2-0-0-0', '2-1-1-1-3-2-0-4-1', '2-1-1-2-1-0-0-4-8', '2-0-2-0-2-0-0-3-10', '2-0-2-1-2-0-0-4-69', '2-0-1-1-1-1-0-4-39', '1-0-1-0-3-3-0-4-4', '2-1-0', '2-0-2-1-1-2-0-4-80', '2-1-1-2-1-0-0-4-37', '2-0-0-2', '2-0-2-2-0-3-0-4-25', '1-1-2-0-3-0-0-4-5', '2-1-1-2-0-0-0-3-5', '2-0-1-1-1--1-0-3-67', '2-0-1-1-2-2-0-3-97', '2-1-1-1-0-3-0-4-29', '2-1-2-0-1-0-0-4-2', '2-0-1-1-3-1-0-3-87', '1-0-1-0-0-0-0-4-94', '2-0-1-1-2-1-0-4-41', '2-0-2-1-0-3-0-3-46', '2-0-1-1-2-0-0-3-91', '2-0-2-1-1-3-0-4-18', '2-1-2-2-1-2-0-4-7', '1-0-2-0-2-1-0', '2-0-1-1-1-1-0-4-1', '2-1-1-1-3-2-1-3', '1-0-1-0-3-3-0-4-2', '2-1-2-0-3-2-0-4-4', '2-0-1-1-2-0-0-4-56', '2-1-2-1-0-1-0-3-70', '2-0-2-2-0-0-0-4-100', '1-0-2-2-2-2-1-4', '2-0-1-1-0-0-0-3-47', '2-0-1-0-2-1-0-4-50', '2-1-1-2-3-3-0-3', '2-0-1-1-0-0-0-3-17', '2-0-1-1-2-1-0-3-100', '1-0-0-2-3-1-0', '2-0-2-2-2-1-0-3-14', '2-0-2-1-2-3-0-4-87', '2-0-2-0-1-2-0-3-88', '2-1-1-1-2-2-0-4-44', '2-1-1-1-1-3-1', '2-0-2-1-1-2-0-4-34', '2-0-2-0-1-2-0-4-32', '2-0-0-2-1-2', '2-1-1-1-0-2-0-3-82', '2-1-0-0-2-3-0-2-82', '1-0-2-2-2-3-0-4-55', '2-0-1-0-2-3-0-3-88', '2-0-2-0-0-0-0-3-30', '2-1-1-1-0-0-0-3-39', '1-0-1-0-2-3-0-4-71', '2-0-1-1-0-3-0-3-5', '1-1-1-1-3-2-0-4-16', '2-1-2-1-2-2-0-4-26', '2-1-1-1-2-3-0-4-1', '2-0-1-1-2-3-0-4-12', '2-0-0-2-2-0-0-4', '1-0-1-1-2-1', '2-1-1-1-1-3-0-3-5', '2-0-2-1-1-3-0-3-42', '2-0-1-1-0-1-1-3', '2-1-2-1-2-2-0-3-30', '1-0-1-1-3-3-0-4-12', '2-1-1-1-0-2-0-3-73', '1-0-1-2-3-2-0-4-51', '2-1-1-0-2-1-0-4-71', '2-0-2-2-0-2-0-3-84', '2-1-1-1-1-0-0-4-17', '2-0-2-0-1-1-0-4-16', '2-0-0-1-1--1-0-3-9', '2-0-1-0-1-0-0-4-30', '2-1-1-1-1-1-0-4-16', '1-0-2-1-2-0-0-4-88', '2-1-2-1-1-1-0-3-1', '2-0-2-1-1-2-0-4-36', '2-1-1-1-1-0-0-4-23', '2-1-1-1-0-1-0-3-55', '1-0-1-1-2-1-0-3-62', '2-1-1-1-0-2-0-4-52', '2-0-1-2-0-0-0-4', '2-0-1-0-2-3-1-4', '2-0-0-1-1-2-0-3-33', '2-0-0-1-1-3-0-3-33', '2-0-1-0-0-0-0-4-95', '2-0-2-1-3-2-0-3-6', '2-1-2-1-2-3-0-4-72', '2-0-2-0-2-1-0-4-62', '2-1-1-1-3-1-0-4-40', '1-0-0-1-3-0-0-3-3', '1-0-1-1-3-2-0-3-95', '2-0-2-2-0-0-0-4-85', '2-0-1-1-1-1-0-3-24', '2-1-1-0-2-1-0-3-77', '1-1-2-1-2-3-0-4-23', '2-1-1-0-0-1-0-4-98', '2-0-1-2-1-0-0-4-6', '1-1-2-1-3-3-0-4-68', '2-0-2-1-1-0-0-3-51', '1-0-2-2-3-2-0-4', '2-0-1-2-2-0-0-4-37', '2-0-0-2-2-1-0-3-80', '1-1-2-2-3-1-0-4-37', '2-0-1-1-2-0-0-4-18', '1-0-2-1-1-0-0-4-54', '2-1-2-1-2-2-0-4-47', '2-1-1-1-2-0-0-4-15', '2-0-2-1-0-2-0-3-29', '2-1-2-1-3-3-0-4-5', '2-1-2-0-0-0-0-4-67', '2-0-2-1-2-3-0-4-58', '2-1-1-1-1-3-0-3-69', '2-0-1-0-1-3-0-4-10', '2-1-1-1-2-3-0-3-4', '2-0-2-0-0-0-0-3-63', '2-0-2-1-3-3-0-3-34', '2-0-1-2-1-2-0-4-99', '2-1-1-1-3-0-0-4-2', '2-0-2-0-0-1-0', '1-0-2-2-0-0-0', '2-0-1-1-1-2-0-4-21', '2-0-1-0-0-0-0-3-6', '2-0-2-0-1-0-0-4-81', '2-0-1-2-1-3-1-4-4', '2-0-1-2-0-0-0-4-36', '2-0-1-0-0-2-0-3-85', '1-0-1-1-3-1-0-4-11', '2-0-1-2-1-1-0-3-84', '2-0-1-1-2-1-0-3-64', '1-0-2-1-3-0-0-4-18', '2-0-1-1-0-3-0-3-62', '2-0-1-1-1-1-0-4-58', '2-0-1-1-0-2-0-4-64', '2-0-0-1-1-0-0-3-12', '2-0-2-1-1-2-0-3-36', '2-0-2-1-0-2-0-3-100', '1-0-1-1-3-1-0-4-30', '2-0-1-1-2-0-0-4-11', '2-0-2-2-1-0-0-4-49', '2-0-1-0-2-1-0-4-99', '2-1-2-1-1-1-0-4-96', '2-0-2-1-1-0-0', '2-0-2-1-0-1-0-4-30', '1-0-1-2-3-3-0-4-16', '1-1-0-1-2-3-0', '2-0-1-1-1-1-0-3-8', '2-0-1-1-0-2-0-4-38', '2-0-1-1-1-2-0-4-85', '2-1-1-1-1-3-0', '2-0-1-1-2-3-0-3-89', '2-0-2-1-2-2-0-3-32', '2-1-2-1-1-2-0-3-6', '2-0-1-1-2-0-0-4-69', '2-0-1-1-2-3-0-4-97', '2-0-1-0-2-3-0-4-14', '2-0-2-1-1-3-0-4-53', '2-0-1-1-1-3-0-3-20', '2-0-1-1-0-0-0-4-30', '2-0-1-1-3-0-0-3-39', '2-0-0-1-3-0-0-3-5', '2-1-2-2-2-3', '2-0-2-2-1-0-0-3-48', '2-1-2-1-0-3-0-3-26', '2-0-2-1-3-3-0', '2-0-2-1-0-1-0-4-6', '2-0-2-1-0-2-0-4-15', '2-1-1-2-3-3-0-4-28', '2-1-1-1-0-1-0', '2-1-1-1-0-2-0-4-39', '2-1-2-0-0-0-0-4-99', '1-0-1-1-1-2-0-3-54', '2-0-1-0-2-3-0-4-58', '2-1-1-1-0-1-0-4-15', '2-1-1-2-3-1-0-4-45', '2-0-1-1-1-1-0-4-36', '2-1-1-1-2-0-0-4-65', '2-1-1-1-0-1-0-4-71', '2-0-2-1-2-0-0-3-62', '1-0-1-1-3-0-0-4-32', '2-0-1-2-0-0-0-3-51', '2-1-2-0-1-1-0-4-60', '2-0-2-1-2-1-0-4-34', '2-0-1-1-0-3-0-4-32', '2-0-2-1-1-2-0-3-31', '2-1-2-1-2-0-0-3-50', '2-1-2-1-2-0-0-3-80', '2-0-1-1-2-2-1-3', '2-0-2-0-1-0-0-4-58', '2-0-1-0-2-0-0-3-98', '2-0-1-0-3-3-0-4-41', '2-0-0-1-0-0-0-4', '2-1-1-1-1-0-0-4-51', '2-0-1-1-0-0-0-3-20', '2-1-2-1-3-3-0-4-30', '2-1-1-2-3-1-0-4-28', '1-0-0-1-0-3', '2-0-1-1-2-3-0-3-100', '1-0-1-1-1-2-0-4-41', '2-1-2-1-2-1-0-4-13', '2-0-2-1-2-1-0-4-11', '1-0-1-1-2-0-0-4-5', '2-0-2-1-1-0-0-4-93', '2-1-1-2-2-1-0-4-44', '2-1-2-0-1-1-0-4-34', '1-1-2-2-3-1-0-4-19', '2-1-1-1-1-1-0-3-64', '1-0-2-0-3-3-0-4-58', '2-0-1-0-2-3-0-3-81', '2-0-2-1-0-0-0-4-49', '1-0-1-1-0-2-1', '2-1-2-0-1-3-0-4-8', '2-0-2-1-0-2-0-3-98', '2-0-1-0-1-0-1-3-4', '2-0-2-1-0-1-0-4-45', '2-1-1-1-2-0-0-3-99', '2-1-2-0-1-3-0-4-36', '2-0-1-1-1-2-0-3-1', '2-0-2-0-2-3-0-4-17', '2-1-1-0-1-0-0-4-41', '2-0-2-1-1-1-0-4-82', '1-0-1-1-2-2-0-3-87', '1-0-2-1-3-0-0-4-14', '2-0-1-1-2-2-0-4-84', '1-0-0-0-3-0-0-3-31', '2-0-2-1-2-2', '2-1-2-1-2-3-0-4-40', '2-0-2-1-2-1-0-3-39', '2-0-0-0-3-1', '2-1-1-1-2-1-0-3-71', '2-0-2-0-1-0-0-4-2', '1-0-2-0-1-0-0-4-56', '2-1-2-0-1-0-0-3-52', '2-1-2-1-0-1-0-4-98', '2-1-1-0-2-2-0', '2-0-0-1-1-0-0', '2-0-2-2-3-3-0-4-2', '2-0-0-1-0-3-0-3-70', '2-0-2-1-2-0-1-3-12', '1-0-2-1-1-2-0-4-99', '1-0-1-1-2-3-0-4-24', '1-0-1-1-2-1-1-4', '2-1-1-2-3-1-0', '1-0-0-0-3-2-0-3-39', '2-0-2-1-2-0-0-4-96', '2-0-1-1-1-1-0-4-50', '2-0-2-1-2-0-0-4-24', '2-0-1-1-0-1-0-4-73', '2-0-0-1-0--1-0', '1-0-1-1-3-1-0-4-33', '2-0-2-0-0-2-0-3-60', '2-1-1-1-1-1-0-4-11', '2-0-2-0-0-3-0-4-6', '2-1-1-2-1-2-0-3-37', '2-0-1-1-1-3-0-3-99', '2-0-2-0-2-2-0-3-79', '2-0-1-1-1-1-0', '1-0-1-0-3-3-0-3-35', '1-0-1-1-2-3-0-3-56', '2-0-2-1-2-2-1-3', '2-1-1-1-3-2-0-3-8', '2-1-1-1-2-0-0-3-66', '2-1-2-1-1-0-0-4-72', '2-1-1-1-2-', '2-0-2-1-2-0-0-4-68', '2-1-1-0-2-2-0-3-99', '2-0-2-2-1-0-1', '2-0-2-1-0-0-0-4-100', '2-0-1-0-1-1-0-4-52', '2-0-2-1-2-0-0-3-40', '2-1-1-0-2-0-0-4-3', '1-0-1-0-2-3-0-4-34', '2-1-1-1-0-0-0-4-99', '2-0-1-1-2-0-0-4-72', '1-1-2-2-2-3', '2-1-1-1-1-2-1-4-1', '2-1-1-1-0-2-0-4-84', '2-0-2-1-2-1-0-4-28', '2-0-0-0-2-0-0', '1-1-2-2-3-2-0-3-19', '2-0-1-2-1-1-0-4-19', '2-0-2-1-1-3-0-4-79', '2-1-1-2-0-0-0-4-60', '2-1-2-0-2-1-0-4-100', '1-0-2-1-2-3-0-4-83', '2-1-2-0-2-3-0-4-32', '2-1-1-0-2-3-0-3-34', '1-0-2-2-3-1-0', '2-1-1-1-3-3', '2-0-1-1-2-1-1-4-4', '2-0-1-1-2-2-0-4-21', '2-0-2-0-1-3-0-3-11', '2-0-2-1-1-2-0-3-46', '1-1-0-1-3-3-0-3', '2-1-1-1-1-0-0-3-88', '2-0-1-1-0-1-0-3-33', '2-0-1-0-1-1-0-4-29', '2-1-1-1-0-2-0-3-71', '2-0-2-1-0-0-1-4-13', '2-1-0-2-1-0-0', '2-1-1-2-1-0-0-4-55', '2-0-1-1-2-1-0-4-59', '2-0-1-0-0-0-0-3-27', '2-0-1-1-3-3-0-3-100', '1-0-1-1-1-2-0-4-3', '2-1-1-1-2-2-0-3-64', '2-0-1-1-3-1-0-4-1', '2-0-2-2-1-1-0-4-48', '2-1-1-1-0-2-0-4-69', '2-0-2-1-2-2-0-4-83', '1-0-2-0-3-3-0-4-4', '2-0-2-0-2-0-0-4-40', '2-0-1-1-1-3-1-3', '1-1-2-0-3-3-0-3-48', '2-1-1-2-2-3-0-4-2', '1-0-2-2-1-3-0', '2-1-1-1-1-1-0-4-74', '2-0-2-1-0-1-0-4-31', '2-0-0-1-2-0', '2-0-1-0-1-0-1-4', '2-0-1-0-3-1-0-4-2', '1-0-1-1-3-3-0-3-35', '2-1-2-1-0-0-0-3-40', '2-0-2-2-0-2-0-4-25', '2-0-2-0-2-0-0-4-1', '2-0-1-1-1-0-0-4-90', '2-1-1-1-0-1-0-4-44', '2-0-1-1-0-2-0-3-13', '2-0-2-1-2-0-0-4-35', '1-0-2-1-3-0', '1-1-1-1-0-0-0-4', '2-1-1-1-1-3-0-3-49', '1-0-1-2-3-2-0-4-53', '2-0-2-0-2-0-0-4-89', '2-1-1-1-0-1-0-4-1', '2-0-2-1-0-1-0-4-5', '2-0-1-1-1-2-0-4-41', '1-0-1-1-3-1-0-3-32', '2-1-1-1-0-1-0-3-18', '2-1-1-0-2-2-0-4-6', '2-1-1-2-0-2-0', '2-0-2-1-2-2-0-4-92', '1-0-2-1-3-3-0-4-53', '2-0-1-0-1-3-0-4-34', '2-0-1-0-2-1-0-4-79', '2-0-2-2-3-1', '2-0-1-2-1-2-0-4-59', '2-0-2-1-1-0-0-3-66', '1-1-1-1-2-0-0-4-58', '2-0-2-1-1-0-0-4-30', '1-0-1-1-3-3-0-4-27', '2-1-2-1-2-2-0-3-1', '1-1-1-1-0-2-0-4', '2-0-1-1-1-3-0-3-63', '2-0-1-1-1-2-0-3-99', '1-1-2-2-2-3-0', '2-0-1-1-0-0-0-4-84', '2-1-2-1-2-2-0-3-16', '2-1-2-1-2-0-0-4-18', '2-0-2-1-1-0-0-3-41', '2-0-1-1-0-2-1-3-4', '2-0-0-1-2-0-0-3-66', '2-0-1-1-2-0-0-1', '2-0-1-1-0-1-0-4-88', '1-1-2-1-3-2-0-3-98', '2-0-2-0-1-2-0-4-59', '2-0-2-0-3-0-0-3-54', '1-0-1-0-2-0', '2-1-1-0-2-0-0-4-32', '2-1-1-1-2-2-0-3', '2-0-2-1-1-0-0-4-3', '2-0-1-1-2-3-0-3-97', '1-1-2-2-0-0-0-3-99', '1-0-2-1-2-0-0-3-32', '2-0-1-0-2-0-0-4-86', '2-1-1-0-2-0-0-4-19', '1-0-0-0-1', '2-1-1-1-0-2-0-3-24', '2-1-1-0-1', '2-0-2-1-0-0-0-3-2', '2-1-2-1-2-3-0-4-47', '2-1-2-1-3-1-0-4-43', '2-1-1-1-0-1-0-4-69', '2-0-1-0-3-1-0-3-4', '1-0-0-1-1-3', '2-0-2-1-0-0-0-4-31', '2-0-2-1-3-3-0-4-88', '1-0-1-1-3-1-0-3-19', '2-0-1-0-2-0-0-3-33', '2-1-2-1-2-2-0-4-60', '2-0-2-1-2-3-0-4-67', '2-0-2-1-3-1-1', '2-1-2-1-0-1-0-3-59', '2-1-2-0-2-1-0-4-42', '2-0-2-2-0-3-0-3-4', '2-0-2-0-0-1-0-4-6', '2-1-0-2-2-1-0-4', '1-0-1-2-1-2-0-4', '2-1-1-0-2-3-0-3-59', '2-1-1-2-3-1', '2-0-1-1-0-1-0-4-28', '2-1-0-2-1-0-0-3', '2-1-2-2-1-1-0-4-41', '2-1-1-2-2-3-0-3-40', '2-1-1-1-2-1-0-4-32', '2-0-2-0-0-3-0-4-94', '2-0-2-1-0-2-1-3-1', '1-0-1-1-0-0-1-4-3', '2-0-1-2-0-0-0-3-75', '2-0-2-0-1-1-0-4-84', '2-0-1-1-0-0-0-4-20', '2-1-1-1-2-0-0-4-96', '2-0-2-1-1-1-0-3-51', '2-1-1-0-2-1-0-4-81', '2-0-1-2-0-0-0-4-15', '1-0-0-1-2-1', '2-1-1-1-0-0-0-4-55', '1-1-2-1-2-0-0-3', '2-1-2-2-0-3-0-3', '2-1-1-1-2-0-0-4-30', '2-0-2-2-2-1-0-4-14', '2-1-1-1-1-1', '2-0-1-0-2-0-0-3-99', '2-0-2-2-0-0-0-4-11', '2-1-2-1-2-3-0-4-28', '2-0-1-1-2-2-0-3-40', '1-0-0-2-3-2-0-4-56', '2-1-2-2-2-0-0-3-44', '2-0-2-0-1-1-0-4-15', '2-1-1-1-0-0-0-4-3', '1-0-1-0-2-0-0', '2-0-0-2-1', '2-1-2-1-3-0-0-3', '2-1-1-1-0-1-0-4-79', '2-0-1-0-1-0-0-4-38', '2-0-1-1-1-3-0-4-59', '2-0-2-1-0-0-0-3-55', '2-1-1-1-0-2-0-4-24', '1-0-1-2-3-3-0-3-38', '2-0-1-0-2-0-0-3-78', '2-0-1-2-1-3-0-4-43', '2-1-1-1-2-1-0-3-45', '2-0-1-1-0-3-0-4-75', '2-1-2-2-0-3-0-4-76', '2-0-2-0-2-1-0-3-73', '1-0-2-0-3-0-0-4-12', '2-1-1-0-0-0-0-3-54', '2-0-1-2-2-1-0-4-1', '2-1-1-1-0-2-0-3-26', '2-0-2-1-0-0-0-3-52', '2-1-0-0-2-2-0-3', '2-0-1-1-0-1-0-4-58', '2-1-1-1-2-3-0-4-27', '1-0-2-1-3-0-0-4-31', '2-0-1-2-1-0-0-4-27', '2-1-2-0-0-0-0-3-9', '2-1-1-1-2-3-0-4-45', '2-0-1-0-1-2-0-4-66', '2-1-2-0-2-3-0-4-60', '2-1-1-0-0-0-0-3-91', '2-0-1-0-2-0-0-3-29', '1-1-2-1-3-3-1', '2-0-1-1-0-0-1-4-5', '2-1-0-1-0-2-0-3', '2-0-1-1-2-1-0-4-1', '1-0-2-1-1-0-0-4-58', '2-0-2-0-2-1-0-4-55', '2-0-2-1-2-0-0-4-36', '1-1-1-1-2-3-0-4-24', '1-1-1-1-1-0-0-4-98', '2-0-1-1-2-1-0-4-87', '2-1-1-1-0-1-0-3-88', '2-1-2-1-2-1-0-3-54', '1-1-1-1-3-1-0-3-16', '2-0-2-1-2-3-0-4-28', '1-0-2-1-1-3-0', '2-0-0-1-1-2-0-3-9', '2-0-1-1-2-1-0-3-21', '1-1-1-2-2-0', '2-1-2-2-0-0-0-3-34', '2-1-1-1-1-1-0-3-19', '2-0-1-0-3-0', '2-0-1-1-2-3-1-4-8', '1-1-1-0-3-3-0-4-36', '2-0-1-2-2-0-0-4-1', '2-1-1-0-2-1-0-4-92', '1-1-2-1-0-0-0-3-98', '2-0-1-1-0-0-0-3-77', '2-0-0-1-2-0-0-4-49', '2-1-2-1-3-0-0-4-43', '2-0-2-1-1-1-0-3-6', '2-1-2-1-2-1-0-4-5', '2-0-1-0-0-0-0-3-98', '2-0-1-1-3-1-0-3-85', '2-0-2-2-1-3-0-4-9', '2-0-2-0-2-2-0-4-73', '2-0-1-0-0-0-0-4-25', '2-0-2-2-0-0-0-4-14', '1-0-0-1-3-0-0-4-13', '2-0-1-1-1-0-0-4-23', '1-0-1-2-3-3-0-4-68', '2-0-1-1-2-2-0-3-15', '2-0-1-1-2-1-0-3-41', '2-0-1-2-0-1-0-4-97', '1-0-0-1-3-3-0-3-35', '2-1-1-1-1-3-0-4-21', '1-0-2-1-2-1-1', '2-0-1-0-1-1-0-4-82', '2-0-2-0-1-0-0-4-72', '2-1-2-2-1-0-0-4-77', '2-1-1-0-1-1-0-4-35', '2-1-2-1-2-1-0-3-97', '2-0-2-2-0-1-1-3', '2-1-1-1-3-0-0-3-8', '2-0-1-0-2-0-0-4', '2-1-1-1-2-1-0-4-21', '2-0-1-1-1-3-0-4-95', '2-0-2-1-2-3-0-4-70', '2-1-0-1-0-0-0-2-92', '1-1-2-1-0-2-0', '2-0-2-2-2-3-0-3-100', '2-1-2-1-2-1-0-4-99', '1-0-2-1-1-1-0-4', '2-0-0-1-0-1', '2-0-2-1-0-2-0-3-87', '2-0-1-1-2-1-0-4-95', '2-1-1-1-2-1-0-4-35', '2-1-2-1-0-2-0-4', '2-0-1-1-1-2-0-3-10', '2-0-2-1-1-2-0-4-66', '2-0-1-1-0-0-0-4-55', '1-0-1-1-2-1-0-4-52', '2-0-1-0-0-0-0-4-79', '1-0-2-1-3-2-0-4-8', '2-0-1-1-2-3-0-3-65', '2-1-2-1-0-3-0-4-82', '2-0-2-0-2-0-0-4-8', '2-1-1-1-2-0-0-4-3', '2-0-1-1-3-0-0-3-75', '2-1-2-1-3-1-0-4-1', '2-1-2-1-2-1-0-4-45', '2-0-1-1-2-1-1-3-8', '2-0-1-0-1-2-0-4-32', '1-0-2-0-0-3-0', '2-0-2-1-0-3-0-4-10', '2-1-2-1-1-0-0-4-77', '1-0-1-1-1-3-0-4-98', '2-0-2-1-0-2-0-3-31', '2-0-1-1-1-1-0-4-34', '2-0-1-2-0-0-0-4-35', '2-0-0-2-1--1-0-4-27', '2-0-2-0-3-3-0-4-56', '1-0-0-1-2-1-0-3-72', '1-1-2-1-3-2-0-4', '2-1-1-0-1-1-0-4-18', '2-0-2-0-2-2-0-3-54', '2-0-0-2-2-0-0', '1-0-1-1-3-0-0-4-63', '2-0-2-0-2-0-0-4-13', '2-0-1-1-0-2-0-3-50', '2-0-1-0-3-3-1', '2-0-1-0-2-3-0-3-6', '1-0-2-1-0-2-1-3-5', '1-0-2-1-3-3-0-4-42', '2-1-2-0-2-1-0-4-10', '2-0-1-1-2-3-0-3-47', '2-1-2-0-2-0-0-4-69', '1-0-1-2-3-1-0-4-43', '2-1-1-1-1-1-0-4-15', '2-1-2-0-1-2-0-4-4', '2-0-2-1-1-2-0-3-59', '2-0-1-1-0-2-0-4-22', '2-1-2-0-0-1-0-4-53', '2-1-1-1-2-1-0-4-57', '2-1-1-1-2-3-0-4-30', '2-0-2-2-1-1-0-4-76', '2-0-2-1-2-0-0-4-63', '2-0-1-1-2-1', '2-1-1-1-1-0-0-3-48', '2-0-1-1-1-1-0-3-1', '1-0-1-1-3-1-0-3-28', '2-0-1-0-1-1-0-4-80', '2-1-1-1-0-1-0-4-52', '2-1-2-0-2-3-0-4-18', '2-0-2-0-0-1-0-4-57', '1-0-2-1-0-0-0-4-51', '2-0-2-1-2-0-0-4-73', '1-0-2-0-3-1-0-3', '2-0-2-0-0-1-0-3-90', '1-0-2-1-2-2-0-3-41', '2-0-1-0-0-1-0-4-51', '2-0-1-1-0-2-0-4-80', '2-1-1-2-3-1-0-4-80', '1-0-1-1-3-1-0-4-28', '2-1-2-1-1-0-1-4-9', '2-0-1-0-0-1-0', '2-1-2-1-0-3-0-4-49', '2-1-1-1-2-1-0-3-83', '1-0-1-0-0-2-0-4', '2-1-2-0-1-0-0-4-6', '2-1-1-1-0-3-0-4-88', '2-0-0-1-2-3-0-3-89', '2-1-2-1-1-2-0-4-27', '2-0-1-1-3-3-0-4', '2-1-0-1-2-0-0-3-35', '2-0-2-1-1-1-0-3-49', '2-1-2-0-2-0-0-4-23', '2-1-1-1-1-1-0-4-99', '1-0-1-1-3-3-0-4-19', '2-0-2-1-1-1-0-4-95', '1-1-1-0-3-1-0-4-37', '2-0-1-1-1-1-0-4-68', '2-0-1-1-1-2', '2-0-2-0-1-2-0-3-38', '2-0-0-0-2-1-0-4', '2-0-1-0-2-3-0-3-8', '2-1-1-1-2-2-0-4-49', '2-0-1-1-1-0-0-3-68', '2-1-2-0-0-2-0-4-91', '2-0-0-1-1-3-0-3', '2-0-2-1-1-3-0-4-43', '2-1-1-1-0-1-0-4-75', '2-0-2-2-0-0-0-4-84', '2-0-1-2-1-2-0-4-47', '2-1-0-2-0-0-0-4-64', '2-0-2-2-1-1-0-4-51', '2-0-1-0-3--1-1', '2-1-1-1-3-1-0-4-8', '2-0-2-0-1-3-0-4-72', '2-1-1-2-0-2-1-4', '2-0-1-1-1-2-0-4-100', '2-0-1-1-1-0-0-3-51', '2-1-2-1-1-0-0-4-7', '2-1-2-0-1-0-0-4-40', '2-1-1-2-0-0-0-4-13', '2-1-0-0-2-1-0-3', '2-0-1-1-2-1-0-4-58', '1-0-1-1-3', '2-0-2-0-1-2-0-3-17', '2-1-2-1-1-0-0-3-14', '2-0-2-1-1-2-0-3-9', '1-0-1-1-1-0-0-4-40', '2-0-1-0-3-2-0-4-52', '2-0-2-1-1-0-0-4-5', '2-0-1-0-0-2-0-3-10', '1-0-2-0-0-3-0-3-23', '2-1-2-1-1-1-0-4-10', '1-0-2-0-1-1-0', '2-1-2-1-2-2-0-3-39', '2-1-1-1-1-3-0-4-53', '2-0-2-1-1-1-0-4-71', '1-0-2-2-3-3-0-4-73', '1-0-2-1-2-3-0-4-27', '2-0-0-1-1-0-0-4-20', '2-1-1-1-3-0-0-3-4', '2-1-2-1-2-0-0-3-34', '1-0-2-1-3-0-0-3-21', '2-1-2-1-2-2-0-3-28', '2-0-1-1-2-2-0-3-12', '2-1-2-1-1-0-0-4-25', '2-1-1-1-2-3-0-3-26', '1-1-2-0-3-2-0-3', '2-1-1-2-0-1-0-3-85', '2-1-1-0-3-1', '2-1-2-1-1-0-0-3-23', '2-0-2-1-0-2-0-4-48', '2-0-1-1-2-1-0-3-35', '1-1-2-1-3-3-0-3-99', '1-0-2-0-3-1-0', '2-0-2-1-2-1-0-4-98', '2-0-2-2-0', '2-0-2-1-2-0-0-3-87', '2-0-2-2-1-1-1-4-5', '2-0-1-1-0-2-0-4-3', '2-0-2-1-0-2-0-4-13', '1-0-1-2-3-3-0-4-52', '2-0-1-1-1-1-0-3-84', '2-0-2-1-1-2-0-4-32', '2-0-2-1-1-2-0-4-3', '2-1-1-1-1-0-1-3-2', '2-1-1-1-0-3-0-3-65', '2-1-2-2-1-2-0', '2-1-2-1-0-1-0-4-17', '1-1-0-1-2-0-0-3', '2-1-1-1-1-3-0-4-19', '1-1-2-0-3-3-0-4-49', '2-0-2-1-1-0-0-3-87', '1-0-2-1-1-0-0-3-91', '2-0-2-1-2-3-0-3-79', '2-0-1-1-0-3-0-3-37', '2-1-2-1-0-0-0-3-55', '1-0-0-1-2-1-0-4-99', '2-0-2-2-0-1-0-3-73', '2-0-2-1-2-0-0-3-21', '2-0-2-1-2-2-0-4-36', '2-0-1-1-2-0-0-3-96', '2-0-1-1-2-1-0-4-20', '2-0-2-1-1-3-0-3-69', '2-1-1-0-2-0-0-3-72', '1-0-0-1-3-3-0-3-34', '2-1-2-1-1-1-0-4-56', '2-0-1-1-3-0-1-3', '2-1-0-0-2--1-0-4', '2-1-2-0-2-0-0-4-52', '2-0-2-1-1-0-1-4-6', '2-0-1-1-2-2-0-4-23', '2-1-1-1-0-0-0-4-82', '1-0-1-1-3-3-0-3-17', '2-0-2-1-0-3-1', '2-0-1-1-1-1-0-3-82', '2-0-1-0-1-0-0-4-28', '1-0-1-1-3-2-0-4-9', '2-1-2-1-1-3-0-4-77', '2-0-2-1-0-0-0-3-27', '2-1-1-1-1-1-0-4-7', '2-0-1-1-1-3-0-4-67', '2-0-2-1-2-2-0-4-88', '2-1-1-2-0-2-1-4-8', '2-0-1-0-3-3-0-4-51', '2-0-1-1-1-0-0-3-27', '2-1-2-1-0-0-0-4-1', '2-0-1-1-1-1-0-4-49', '1-0-1-2-3-0-0-4-52', '2-0-0-1-2-1-0-3-1', '2-0-1-1-1-0-0-3-98', '2-1-1-0-0-0-0-3-83', '2-0-2-1-2-2-0-3-36', '2-0-1-1-0-3-0-4-46', '2-0-2-1-3-1-0-4-40', '2-0-1-0-1-1-0-4', '2-0-1-0-1-2-0-3-86', '2-1-1-1-0-0-0-3-79', '2-0-2-1-0-2-0-3-54', '2-1-2-1-0-2-0-4-53', '2-0-1-0-2-3-0-4-55', '2-1-1-1-1-0-0-4-39', '2-1-1-0-0-0-0-4-78', '1-1-1-2-3-0-0-4', '2-0-2-2-1-3-0-3-22', '1-0-2-2-0-3-1-4', '2-1-2-0-2-0-0-4-4', '2-0-2-1-1-1-0-4-100', '2-1-2-1-1-1-0-4-87', '2-0-1-2-2-3-0-4-68', '2-1-2-0-1-1-1', '1-0-1-2-1-2', '2-1-1-1-1-1-0-4-6', '2-1-1-1-0-3-0-3-63', '2-0-1-1-2-1-0-3-56', '2-0-2-1-0-1-0-4-44', '2-1-2-2-2-2-0-3-78', '2-1-1-2-1-3-0-3-77', '1-1-2-2-0-1-0-3-50', '2-1-2-1-2-3-0-4-22', '2-0-1-1-2-2-0-4-58', '1-0-2-0-0-0-0-4-100', '2-1-1-0-3-2-0-3', '2-1-2-1-0-3-0-4-59', '1-1-1-1-1-1-0-4', '2-0-1-1-0-0-0-4-32', '2-0-2-0-2-2-0-3-70', '2-0-1-1-2-0-0-4-26', '1-0-1-1-2-2-0-4-37', '2-0-1-0-2-2-0-4-36', '2-0-1-2-0-0-0-3-84', '2-0-2-0-0-2-0-4-77', '2-1-1-1-2-2-0-3-96', '2-0-2-0-1-2-0-4-84', '2-0-2-1-0-0-0-3-50', '2-0-2-0-1-0-0-4-45', '2-1-2-0-0-0-0-4-65', '2-0-1-0-1-3-0-4-83', '2-0-1-0-3-1-0-3-14', '1-0-1-1-3-1-0-4-21', '2-0-1-0-0-0-0-4-96', '2-1-2-1-2-0-0-4-32', '2-0-1-1-2-3-0-4-61', '1-0-1-1-1-3-0-4', '2-1-1-2-1-1-0-4-18', '1-0-1-1-1-2-0-4-42', '2-0-2-0-3-3-0-3-100', '2-0-0-0-2-3-0-3-60', '1-0-2-1-2-0-0-4-68', '2-0-2-2-1-2-0-4-74', '2-1-1-0-3-2', '1-0-0-1-2-3-0-3-64', '2-0-1-0-2-2-0-4-10', '1-0-1-0-3-0-0-3-4', '2-0-2-1-1-3-0-3-68', '2-1-1-1-3-0-0-4-46', '2-1-1-0-1-1-0-4-48', '1-0-2-1-3-0-0-4-2', '2-0-1-2-1-3-0-4-41', '2-1-0-0-2--1', '2-1-1-1-1--1', '2-1-1-1-2-1-0-4-7', '2-0-1-1-1-2-0-3-72', '2-0-1-1-2--1-0-3-16', '2-1-2-1-0-2-0-3-34', '2-1-1-2-1-1-0-4-35', '1-0-2-1-3-3-0-4-98', '2-0-1-0-3', '1-0-1-1-2-1-0-4-21', '1-1-2-0-2-2-0-4', '2-1-2-1-0-0-0-4-61', '2-0-1-1-0-0-0-3-46', '1-0-1-0-3-2-0-4-38', '2-0-1-1-1-0-0-3-13', '1-0-2-2-2-3-1-3-2', '2-1-2-1-1-1-0-4-1', '2-1-1-1-0-1-0-4-35', '2-0-2-1-0-3-0-3-16', '1-0-1-1-3-0-0-4-49', '2-1-2-1-2-0-0-3-60', '2-0-0-1-2-1-0-3-18', '1-0-2-1-0-0-0-4-96', '2-1-2-1-2-1-0-4-84', '1-0-2-1-3-2-0', '2-0-2-1-2-2-0-4-40', '2-0-2-1-0-3-0-3-25', '2-1-2-1-1-2-0-3-54', '2-0-1-1-0-0-0-4-44', '2-0-2-0-2-3-0-3-67', '2-0-1-1-1-1-0-4-82', '2-1-2-2-3-1-1', '1-0-1-1-2-0-0-4-66', '2-0-2-0-1-0-0-4-12', '2-0-2-2-0-2-0-4-45', '2-0-0-1-1-3-0-3-45', '2-1-1-1-2-1-0-4-17', '2-0-1-0-3-3-0', '1-1-1-1-0-2-0-4-49', '2-0-2-2-0-0-1-4-9', '1-0-2-1-2-2-0-3-68', '2-0-1-0-1-1-0-4-76', '2-0-1-0-2-0-0-4-32', '2-1-2-2-2-1-0-3-19', '1-0-1-1-3-0-0-4-14', '1-0-1-1-3-3-0-4-11', '2-1-2-1-3-3', '1-1-2-1-0', '2-1-1-1-0-3-0-4-18', '2-0-1-1-1-3-0-4-2', '1-0-1-1-3-3-0-4-3', '2-0-1-0-2-1-0-4-95', '1-0-1-1-2-3-0-4-70', '2-0-2-1-0-1-0-3', '2-0-2-1-0-0-0-4-68', '2-0-1-0-0-0-0-3-39', '2-0-2-0-0-2-0-3-36', '1-0-2-1-2-1-0-3-72', '2-1-2-0-0-1-0-4-76', '2-1-2-1-2-2-0-4-66', '1-1-2-2-0-1', '2-0-2-0-2-3-0-4', '2-0-0-1-1-1-0-3-7', '1-0-2-1-3-3-0-4-35', '2-0-1-1-1-1-0-4-63', '2-0-1-1-2-1-1-3', '1-0-1-2-3-2-0-4-38', '2-1-2-1-1-1-0-4-17', '1-1-1-1-2-3-0-4-20', '2-0-1-0-2-1-0-4-73', '2-1-2-1-2-2-0-4-29', '2-0-2-2-1-0-0-3-30', '2-1-1-1-2-1-0-3-27', '2-1-2-0-2-1-0-4-16', '2-0-2-1-2-3-0-4-65', '2-1-1-1-1-2-0-4-71', '1-1-2-1-3-0-0-4-4', '2-1-2-1-1-1-1-4-9', '1-0-2-1-2-3-0-4-61', '2-1-1-1-1-2-0-4-66', '2-1-1-0-1-3-0-3-42', '2-1-2-2-1-2-0-4', '2-0-1-2-3-0-0-4', '2-0-1-1-3-1-0-4-3', '2-0-1-1-3-2-0-4-47', '2-1-0-1-1-3-0-3', '2-0-2-1-1-1-0-4-66', '2-0-2-0-0-0-0-3-78', '2-0-2-2-2-2-0-3-75', '1-0-1-0-0-1-0', '2-0-0-1-1-0-0-3-18', '1-1-2-1-3-1-1-3-3', '1-0-2-1-2-0-0-4-3', '2-0-2-1-1-2-0-4-59', '2-0-1-1-2-1-0-4-74', '1-1-1-1-2-2-0-1', '2-1-1-0-3-0', '2-0-1-0-2-1-0-4-90', '1-0-2-1-3-0-0-4-32', '1-1-2-1-3-3-0-4-14', '2-0-1-0-0-0-0-4-10', '1-0-2-1-1-3-0-4-56', '2-0-2-0-0-', '2-0-1-1-2-1-0-4-96', '2-0-1-1-3-3-0', '2-0-2-0-2-0-0-4-6', '1-0-2-2-2-0-0-4-87', '2-0-2-1-1-3-0-4-87', '1-0-1-1-2-1-1-4-6', '2-0-2-0-0-0-0-4-94', '2-1-2-1-2-2-0-4-1', '1-0-2-2-1-2-0-4-49', '2-1-2-0-0-0-0-4-55', '2-0-2-2-1-2-0-3-47', '2-1-1-1-0-3-0-3-5', '1-0-1-1-3-3-0-4-51', '2-1-2-0-2-3-0-4-14', '2-0-1-1-1-0-0-4-79', '2-0-1-1-1-2-0-4-62', '1-1-1-1-2-2-0-3', '2-1-2-0-2-1-0-3-22', '1-1-2-0-2-3-0-4-61', '2-0-1-0-2-0-0-3-75', '2-0-1-1-2-1-0-4-55', '2-0-2-1-1-2-0-3-86', '2-1-1-0-2-1-0-4-63', '2-0-1-2-0-2', '1-0-2-1-2-1-0-4-87', '1-0-2-1-3-2-0-4-5', '2-0-2-1-0-1-0-4-84', '1-1-2-1-3-2-0-3-85', '2-1-1-1-2-3-0-4-41', '2-0-1-1-2-1-0-3-42', '1-0-1-1-2-0-0-4-100', '2-1-0-1-0-1-1', '2-1-2-0-1-1-0-4-45', '1-0-2-0-3-2-0-4-3', '2-0-2-2-0-3-0-4-77', '2-0-2-1-0-3-1-4-2', '2-0-2-2-0-0', '2-0-1-1-0-3', '2-1-2-1-3-0-0-3-90', '1-1-2-0-2-1-0-4-59', '2-1-1-0-1-1-0-4-47', '2-0-2-1-2-2-0-3-1', '2-0-1-1-0-0-0-4-80', '1-0-0-1-2-3-0-3-66', '1-0-2-1-2-0-0-4-2', '2-0-1-1-2-0-0-3-38', '2-1-1-1-0-1-0-4-70', '2-0-2-1-2-3-0-3-22', '2-0-1-1-2-0-0-4-74', '1-1-1-0-3-3-1', '2-1-2-1-2-1-0-4-8', '2-0-2-2-0-0-0-4-98', '2-0-1-1-2-0-0-3-67', '2-0-1-1-0-0-1-3-3', '2-1-1-0-1-3-0-1', '1-0-1-2-1-3-0-3-49', '2-1-1-1-2-3-0-3-40', '1-0-0-2-3-2-0', '2-1-2-0-2-1-0-4-3', '2-0-1-0-2-3-0-4-10', '1-0-0-2-3-2-0-4-68', '2-1-1-1-0-1-0-3-44', '1-0-1-1-1-2-0-4-50', '2-0-2-2-1-1-0-4-41', '2-1-1-1-0-3-0-3-86', '2-0-2-0-0-2-0-4-52', '2-0-0-1-2-0-0-3-88', '2-0-2-1-0-2-0-4-14', '1-0-1-1-2-2-0-4-100', '2-0-0-1-0-2', '2-0-2-2-1-0-0-3-62', '1-1-1-0-3-3-1-4', '2-1-1-2-0-1-0-4-40', '1-1-1-1-2-2-0-4-60', '2-0-2-1-1-2-0-3-23', '2-0-1-1-2-2-0-3-58', '2-0-1-1-2-0-0-4-30', '2-0-1-1-2-0-0', '2-1-2-1-2-2-0-3-23', '2-1-2-1-2-0-0-3-67', '2-1-2-1-2-2-0', '1-0-1-0-3-0-0-3', '2-0-1-0-0-1-0-3-98', '2-0-2-0-2-3-0-4-80', '2-1-2-1-0-1-1', '2-0-1-0-2-0-0-4-98', '1-0-1-1-0-0-0-3-17', '2-1-1-1-2-3-0-3-37', '2-0-2-2-2-1-0-4-48', '2-1-1-0-0-2-0-4-55', '2-0-1-1-2-2-1-3-10', '2-0-1-1-0-0-0-3-22', '2-0-0-1-0-1-0-3-35', '2-0-1-1-2-2-0-3-38', '2-1-2-1-1-3-0', '2-0-0-2-2-2', '2-1-1-0-2-3-0-4-6', '1-1-2-1-3-0-0-4-19', '2-1-2-1-3-0-0-4-44', '2-1-1-1-3-0-0-4-70', '2-1-0-0-2-0-0', '2-1-1-2-2-3-0-3-15', '2-0-1-0-1-3-0-3-82', '1-0-2-2-1-1', '2-0-2-1-2-1-0-4-67', '2-1-2-0-1-0-0-3-2', '2-1-2-2-3-2-0-4-82', '2-0-1-2-0-0-0-3-67', '2-0-1-1-0-2-0-4-33', '2-1-2-2-3-3', '2-1-0-1-2-0-0-3-51', '1-1-2-1-2-3-0-4-31', '2-0-2-1-1-2-1-3-5', '2-1-1-0-2-1-0-3-16', '2-0-1-1-0-3-0-4-21', '2-1-2-0-0-2-0-4-99', '2-1-2', '2-0-1-1-0-1-0-4-14', '2-1-2-2-2-1-0-4-16', '2-1-1-2-1-0-0-4-36', '2-0-2-1-0-1-0-4-87', '1-0-1-1-3-0-0-3-51', '2-1-1-0-3-3-0-3-49', '2-1-2-1-3-0-0-4-52', '2-0-1-2-1-3-0-3-19', '1-0-2-1-0-3-0-3-57', '2-1-2-0-0-3-0-4-64', '2-0-1-1-1-1-0-3-6', '1-0-1-1-3-1-0-3-60', '2-0-0-0-3-1-0-3', '2-0-1-0-2-3-0-3-11', '2-0-2-1-1', '1-0-1-1-2-0-0-3-53', '2-0-1-1-3-3-0-3-46', '1-0-2-2-0-3', '2-0-1-1-1-0-0-4-84', '2-0-2-1-0-0-1-3-3', '2-0-1-1-2-0-0-3-88', '1-0-1-1-3-3-0-3-99', '2-0-1-1-1-2-0-4-77', '2-0-1-0-0-1-0-3-85', '2-0-2-1-2-2-0-4-60', '2-1-2-1-2-3-0-4-95', '2-1-1-0-0-0-0-4-93', '2-0-1-1-1-0-0-3-93', '2-0-2-1-1-2-0-3-10', '2-0-0-1-1-0-0-3-47', '2-0-1-0-2-1-0-3-67', '2-0-1-1-0-2-0-3-29', '2-1-2-2-0-0-0-4-60', '2-0-1-1-3-0-0-3-99', '2-1-1-2-0-2-0-3-100', '2-1-0-0-1-0', '1-1-1-1-0-0', '2-1-2-0-2-0-0-3-79', '2-0-1-1-0-0-0-3-9', '2-0-1-1-3-2-1-3', '2-0-1-0-1-1-0-3-98', '2-1-1-1-1-2-0-4-100', '2-1-2-1-2-2-1', '2-1-2-1-2-1-0-4-49', '1-0-1-1-2-2-1-4-7', '2-0-2-0-0-2-0-3-74', '2-1-2-1-0-1-0-4-22', '2-1-2-2-3-0-1', '2-0-2-0-1-3-1-4', '2-0-0-0-0-0-0-3-74', '1-0-1-0-3-2', '2-1-1-0-2-0-0-3-28', '2-0-1-1-0--1-0-3-40', '2-1-0-1-0-0-0-3-20', '2-1-2-1-0-3-0-4-19', '1-0-2-1-2-0-0-3-83', '2-1-1-0-2-0-0-3-86', '2-1-1-1-1-1-0-3', '1-1-2-0-3-3-0', '2-0-1-2-1-1-1-3', '2-0-2-2-1-0-0', '1-1-2-1-3-3-0-4-81', '2-0-1-1-1-2-0-4-99', '2-0-2-1-1-0-0-4-64', '2-0-2-1-2-2-0-4-32', '2-1-1-1-2-1-0-3-43', '2-0-2-1-2-2-0-3-85', '2-0-1-1-2-0-0-3-6', '2-0-1-1-3-3-0-4-24', '2-0-2-0-1-1-0-3-51', '2-0-2-0-2-1-0-4-61', '2-0-0-1-2-0-0-3-71', '2-1-1-1-1-3-0-3-38', '2-0-1-0-2-1-0-4-27', '2-0-2-1-1-3-0-4-88', '2-0-2-2-2-1-0-4-98', '2-0-2-2-0-0-0-3-81', '2-0-1-1-0-3-0-4-18', '2-1-1-0-2-3-0-2-32', '2-0-2-1-2-3-0-4-89', '2-0-1-1-2-1-0-4-38', '2-1-2-2-0-2-0-3-80', '1-0-2-2-3-3-0-4', '2-1-1-0-1-0-0-4-77', '2-0-2-2-0-2-0-4-3', '2-0-1-2-0-1-0-4-89', '2-1-1-1-1-2-0-3-5', '2-1-2-0-0-1-1', '2-1-1-1-1-2-0-4-19', '2-0-0-1-2-2-0-3-100', '2-0-2-1-0-2-0-4-38', '2-0-2-1-2-0-0-3-82', '1-0-0-1-3-1-0-3-56', '1-0-1-1-2-3-0-4-3', '2-0-1-2-1-2-0-3-45', '2-0-1-1-2-3-0-3-3', '2-0-2-1-0-2-1-3-3', '1-1-1-1-3-0-0-4-47', '1-0-2-0-3-1-0-4', '2-1-1-1-3-2-1', '2-0-0-1-2-0-0-3-31', '2-1-2-0-2-2-0-3-98', '2-0-1-1-0--1-0-3-18', '2-1-2-0-2-0-0-4-16', '2-0-2-0-2-0-0-4-100', '2-0-1-1-1-1-0-4-14', '2-0-1-1-2-1-0-3-98', '1-1-0-1-2-3-0-3-20', '2-1-1-2-2-1-0-4-67', '1-1-2-2-2-3-0-3', '2-1-2-0-2-0-0-4-80', '2-1-2-0-0-1-0-4-31', '2-0-2-2-1-1-0-4-66', '2-0-2-1-2-3-0-4-20', '2-1-0-2-2-2', '2-1-2-0-2-3-0-3-18', '1-0-1-1-3-0-0-4-4', '2-0-2-1-1-3-1', '2-1-0-1-2-0-0-4', '1-0-1-1-3-2-0-4-96', '2-1-1-0-3-1-0-4-44', '2-0-2-0-0-0-0-3-76', '2-1-2-1-1-2-0-4-63', '2-0-1-0-0-1-0-3-53', '2-1-1-0-2-0-1-4', '2-0-1-1-0-0-0-3-36', '2-1-1-1-2-0-0-4-51', '2-0-0-1-1-0-0-3-17', '2-0-1-0-0--1-0', '2-0-2-0-0-0-0-4-35', '2-0-2-1-2-1-0-4-27', '2-0-2-0-3-3-0-4-53', '2-0-1-0-2-1-0-4-97', '1-0-1-1-0-0-0-3-49', '2-0-1-2-0-2-0-3-29', '2-1-1-1-1-0-0-4-9', '2-1-1-0-0-0-0-4-80', '2-0-1-1-2-3-0-3-71', '1-0-1-1-2-0-0-4-54', '2-0-1-0-2-1-0-4-31', '2-0-1-0-3-2-0-4-13', '2-0-2-1-3-1-0-3-41', '1-0-1-1-3-2-0-4-51', '2-1-1-0-1-3-0-3-85', '2-1-1-1-0-1', '2-0-2-1-1-0-0-4-69', '2-0-1-1-1-1-0-4-23', '1-1-2-2', '2-0-2-1-1-3-0-4-48', '1-0-1-1-1-0-0-4-41', '2-0-1-1-2-3-0-4-44', '2-0-1-1-0-1-0-3-44', '2-0-2-1-1-3-0-4-37', '2-0-1-1-0-1-0-4-10', '2-1-2-2-2-0-0-4-44', '2-0-1-2-0-1-0-3-1', '2-1-0-1-3-0', '2-0-2-0-0-0-0-3-28', '2-0-1-1-2--1-0-3-58', '2-0-2-0-2-3-0-4-29', '2-0-1-1-0-0-0-3-24', '2-1-2-2-1-0-0-4-29', '2-0-1-1-2-1-0-4', '2-0-2-1-0-1-0-4-91', '2-0-1-0-2-0-0-4-71', '2-1-1-1-1-2-0-4-65', '2-0-1-0-0-0-0-4-90', '2-0-1-0-2-3-0-4-85', '2-1-1-0-1-0-0-3-48', '2-0-1-1-1-1-0-3-81', '2-0-1-0-3-3-0-4-55', '2-1-1-1-2-1-0-3-44', '1-0-1-1-3-2-0-4-100', '2-0-2-2-0-1-0-4-70', '2-1-2-1-1-1-0-4-40', '2-0-1-0-2-3-0-4-96', '1-1-2-0-3-1-0-4-5', '2-0-1-1-2-1-0-3-54', '1-0-1-1-2-0-0-4-22', '2-1-2-1-0-0-0-4-53', '2-0-1-0-0-1-0-3', '2-0-2-0-0-1-0-3-86', '2-0-2-0-2-3-0-4-21', '2-0-1-1-2-0-0-4-20', '1-0-1-0-0-0-0-3', '2-0-2-1-2-2-0-4-48', '2-1-0-1-1-0-0-3-51', '2-0-0-1-1-1-0-3-25', '2-0-1-1-2-0-0-3-30', '2-0-1-0-2-2-0-4-67', '2-0-1-1-0-0-0-4-18', '2-0-1-2-1-3-0-1-61', '2-0-2-1-0-0-0-4-91', '2-0-1-1-2-0-0-4-52', '1-1-0-0-3-0-0-3-13', '2-0-1-2-0-3-0-4-62', '2-0-1-1-0-2-0-4-21', '2-0-1-0-2-1-0-4-80', '2-0-1-1-1-1-0-3-76', '2-1-2-1-2-0-0-3-33', '1-0-2-1-1-2-0-4-28', '2-0-1-0-2-1-0-4-75', '2-1-2-1-1-0-0-3-83', '2-1-1-1-0--1-0-3-7', '2-0-2-1-2-2-0-4-47', '2-1-1-1-2-3-0-3-70', '2-1-1-0-1-2-0-3', '2-1-1-1-2-1-0-3-28', '1-0-1-2-3-1-0-4-37', '2-0-2-1-0-2-0-4-68', '2-0-1-1-1-3-0-4-37', '2-1-1-2-1-3-0-3-5', '1-0-2-1-2-0-0-4-55', '2-1-1-1-1-0-0-4-98', '2-0-1-0-3-3-0-4-18', '2-0-2-1-1-1-0', '2-0-2-0-0-0-0-4-61', '2-1-1-0-1-1-0-4-46', '2-1-2-1-0-1-0-4-8', '2-0-1-2-0-0-0-3-58', '1-0-2-1-0-0-0-4-55', '2-0-1-1-0-2-0-4-6', '2-1-2-1-0--1', '1-0-1-1-2-0-0-3-22', '1-1-1-1-3-0-0-4-45', '2-1-2-0-1-1-0-4-78', '2-1-2-0-2-3-0-4-56', '1-0-1-1-1-1-0-4-99', '2-0-1-0-2-2-0-4-37', '2-0-2-0-1-0-1-4-4', '1-1-1-2-3-1', '2-0-2-2-1-2-0-4-82', '1-1-2-1-3-3-0-4-25', '2-1-1-1-2-0-0-3-33', '1-1-1-1-0-1-0-4-46', '1-1-1-0-0-0-0-4-33', '2-1-1-0-0-0-0-4-94', '2-1-1-0-2-2-0-3-31', '2-0-1-1-2-3-0-4-81', '1-1-2-1-3-2-0-4-1', '2-0-2-2-1-3-0-4-2', '2-0-2-1-3-3-1', '2-0-2-1-0-0-0-4-36', '2-0-2-1-1-1-0-4-41', '2-0-1-1-2-0-0-4-46', '2-1-1-1-2--1-0-3-92', '2-1-1-1-1-1-0-4-17', '2-1-1-1-2-2-0-3-47', '2-0-2-2-0-1-0-3-43', '2-1-2-0-2-2-0-4-49', '1-0-2-1-2-3-0-4-74', '2-0-2-2-2-3-0-3-49', '2-0-1-1-1-0-0-4-58', '2-0-2-0-0-1-0-4-100', '2-0-1-1-1-1-0-4-31', '2-0-1-0-2-3-0-4-53', '1-1-0-1-3-0-0-3-53', '2-0-2-2-2-3-1', '2-0-2-0-1-1-0-4-85', '2-0-0-2-0-0-0-4-14', '2-0-1-1-0-0-0-3-10', '2-0-1-1-0-0-0-3-70', '2-0-2-1-3-2-0-4-89', '2-0-0-1-0-0-0-3-44', '2-1-1-1-3', '2-1-2-0-2-0-0-3-28', '2-0-1-1-2-2-0-4-99', '2-1-1-1-2-1-0-4-94', '2-0-1-2-1-1-0-4-8', '2-0-1-1-2-0-0-3-5', '2-1-2-2-0-2-0-4-93', '2-0-1-1-1-0-0-4-22', '2-1-2-1-1-0-0-3-64', '2-0-2-2-1-1-0-4-42', '1-0-1-1-2-3-0-3-42', '2-0-2-1-2-1-0-3-80', '2-0-1-1-0-3-0-3-78', '1-0-2-1-2-3-0-4-82', '2-0-1-1-1-3-0-4-1', '2-1-1-0-0-1-0-4-4', '2-0-1-1-2-3-0-4-7', '2-0-1-0-1-2-0-3-2', '2-1-2-1-0-0-0-3-31', '2-1-2-1-0-3-0-4-27', '2-1-2-1-2-3-0-4-39', '1-0-2-2-0-2-0-3', '2-0-1-1-1-2-0-4-24', '1-0-1-1-2-2-0-4-54', '1-0-2-1-2-1-0-4-5', '1-0-1-1-2-1-0-4-56', '1-0-1-1-1-2-0-4-58', '2-0-2-1-0-1-0-3-32', '2-1-1-1-1-0-0-4-55', '2-0-1-0-0-3-1-4', '2-0-2-2-1-2-0-3-20', '1-1-2-1-0-3-0-4-40', '1-1-2-0-2-1-0', '2-0-1-2-1-3-0-3-2', '2-0-2-0-2-1-0-4-67', '2-0-1-0-0-0-0-4-86', '2-1-1-1-0-1-0-4-20', '2-0-1-1-2-3-0-4-8', '2-1-2-0-1-2-0-3-43', '2-0-2-2-0-3-0-3-6', '2-0-1-2-0-1-0-3-73', '2-1-2-0-2-2-0-4-76', '2-0-2-1-3-2-0-4-5', '2-0-1-0-2-3-1-3-2', '2-0-2-0-1-0-0-3-62', '1-0-0-2-3-1', '2-1-2-2-1-0-0-3', '1-0-0-1-1-2-0-3-100', '2-0-2-0-2-2-0-4-17', '1-1-2-1-2-3-0-4-61', '2-0-0-1-1-0-0-3-8', '2-1-2-0-0-0-0-4-39', '2-0-0-1-2-0-1-3', '2-0-1-1-2-0-0-4-92', '2-0-1-1-3-1-0-3-55', '2-0-2-1-1-1-1-3-6', '2-1-1-1-0-1-0-4-21', '2-0-1-1-2-1-0-3-49', '2-1-1-0-0-3-0-3-48', '1-0-1-2-0-2-1-4', '1-1-2-1-3-3-0-4-38', '2-1-1-0-2-3-0-4-78', '2-1-1-1-2-0-0-4-39', '1-1-1-1-3-0-0-4', '2-0-2-1-2-3-0-4-62', '2-0-2-0-2-2-0-4-69', '2-0-2-0-2-3-0-4-97', '2-0-1-1-0--1-0-4-33', '2-1-2-1-2-2-0-3-97', '2-1-1-1-2-0-0-3-22', '2-1-1-0-0-1-0-4-91', '2-0-2-1-0-0-0-4-33', '2-0-1-1-1-0-0-1-43', '2-0-2-1-0-2-0-4-21', '2-1-2-1-3-3-0-4-31', '2-1-2-1-2-0-0-3-36', '2-0-1-1-2-3-0-3-69', '2-1-2-1-1-3-0-4-81', '2-0-2-1-0-0-0-3-95', '2-1-0-2-1-0', '1-0-1-0-3-0-0-4-13', '1-0-2-1-1-0-0-4-5', '2-0-2-0-3-3', '2-0-1-1-2-1-0-4-70', '1-0-0-2-2-1-0', '2-1-2-1-1-0-0-3-98', '2-0-2-1-0-3-0-4-43', '2-0-1-1-1-0-0-3-17', '2-0-2-1-2-3-0-4-73', '1-0-1-2-1-3-0-3', '2-0-2-1-2-1-0-4-73', '2-1-1-1-0-3-0-4-24', '2-0-1-1-3-0-0-4-24', '2-0-2-0-1-1-0-4-99', '2-1-1-0-1-2-0-3-40', '2-0-1-1-3-3-0-4-2', '2-1-1-1-2-0-0-4-22', '2-1-2-1-1-1-0-4-26', '2-0-1-0-0-0-0-4-8', '1-0-2-2-2-3-0-4', '2-1-1-1-2-2-0-4-18', '1-1-2-1-3-1-0-4-1', '2-1-0-1-0--1-0-3-3', '2-0-0-0-0-0', '2-0-1-1-0-2-0-4-93', '2-1-2-0-2--1-0-4-38', '1-0-1-1-3-0-0-4-69', '2-0-0-1-0--1-0-3-14', '2-0-1-1-1-1-0-4-3', '1-1-1-1-2-0-0-4-61', '2-0-2-2-2-1-0-4-75', '2-1-1-1-1-3-0-4', '1-0-1-1-3-3-0-4-57', '2-0-1-0-2-0-0-3-79', '1-1-1-1-2-3-0-4-75', '2-1-1-1-1-1-0-4-57', '2-0-1-1-1-0-0-3-70', '1-0-1-1-3-2-0-4-58', '1-0-1-0-1-3-0', '1-0-1-0-3-2-0-3-13', '2-0-1-2-1-2-0-3-36', '2-1-0-0-2-2-0-3-19', '1-1-0-1-2-1-0-3-30', '2-1-2-1-1-2-0-4', '2-0-2-2-0-0-0-3-92', '2-1-2-0-2-2-0-4-8', '2-0-1-1-0-1-0-3-100', '2-1-2-1-1-1-1-4-1', '2-0-1-1-2-0-0-4-2', '2-1-2-1-2-2-0-3-87', '1-0-1-0-3-0-0', '2-0-1-1-0-0-0-4-26', '2-1-1-2-2-0', '2-0-2-1-1-1-0-4-48', '2-0-1-2-0-2-0-3-6', '2-0-1-1-0-0-0-3-3', '1-0-1-0-3-0-0-4-11', '2-0-2-1-0-0-0-3-1', '2-0-2-2-2-1-0-4-50', '2-0-2-1-0-1-0-3-10', '2-0-2-1-1-2-0-4-5', '1-0-2-1-3-3-0-3-57', '1-0-2-2-0-1-0-4-99', '1-0-1-0-0-0-0-3-50', '2-0-1-1-2-2-1-4-7', '2-1-1-1-0-1-0-4-54', '2-0-1-0-2-0-0-3-100', '2-1-2-1-1-2-1-4', '2-0-2-1-1-2-0-4-47', '2-1-2-1-1-1-0-4-63', '2-1-1-1-0-0-0-3-15', '2-0-1-0-0-1-0-4', '1-0-1-1-0-3-1-4-3', '2-0-1-0-1-2-0-3-84', '2-0-1-0-1-3-0-4-39', '1-0-1-2-1-0', '2-0-2-2-0-1-0-4-7', '2-1-1-2-1-2-0-4-18', '2-1-2-1-1-3-0-4-40', '2-1-2-0-2-0-0-4-58', '2-1-1-1-0-2-0-4-71', '1-0-1-2-3-3-0', '1-1-2-0-2-0-0-4-52', '2-1-2-0-3-3-0-4-23', '1-0-2-1-3-0-0-3-100', '2-1-1-1-2-0-0-4-20', '2-0-1-1-1-2-0-3-32', '2-1-2-1-3-2-0-4-45', '2-0-2-0-0-0-0-3-59', '2-0-2-1-1-3-0-4-11', '2-0-1-1-0-0-0-4-75', '2-0-1-1-3-1-0-3-86', '2-0-2-1-2-3-0-4-21', '1-1-2-1-3-0-0-3-11', '1-0-1-0-3-2-0-3-21', '2-1-2-1-0-0-0-4-17', '2-1-1-0-0-0-0-4-74', '2-1-2-2-3-1-1-4-3', '2-1-1-1-0-0-0-3-59', '2-1-1-2-0-2', '2-1-2-1-2-0-0-4-39', '2-0-1-2-1-0-0-4-83', '2-1-2-2-0-0-0-4-42', '2-0-1-0-2-0-0-4-69', '2-0-0-2-2-3-0', '2-0-1-2-1-2-0-4-17', '2-0-1-1-1-2-0-3-83', '2-0-1-1-1-0-1-3-1', '2-1-1-0-2-2-0-4-5', '1-0-2-2-3-3-0-4-17', '2-0-2-2-1-0-0-3-51', '2-0-1-0-0-3-0-4-98', '1-1-2-2-3-0-0-4-37', '1-0-1-1-2-3-0-3-98', '2-1-2-1-1-1', '2-0-1-2-1-1-0-4-4', '2-1-0-1-0--1-0-3-23', '2-0-2-1-0-1-0-3-34', '2-1-2-2-2-2-0-3-97', '1-0-2-0-0', '2-0-2-0-2-1-0-3-9', '2-0-1-1-0-1-0-4-19', '2-0-1-2-2-3-0-4-1', '2-0-2-0-1-0-0-4-35', '2-1-1-0-0-0-0-3-77', '1-0-2-2-3-0-0', '2-1-2-1-2-2-0-4-7', '2-0-1-1-0-0-0-4-51', '2-0-0-1-2-3-0-3-58', '2-1-2-0-1-3-0-4-42', '2-1-0-0-1-0-0-3-1', '1-0-2-1-3-0-0-4-24', '2-0-2-2-0-1-0-3-100', '2-0-1-1-3-0-1-3-4', '2-0-1-1-1-0-0-3-38', '2-0-1-1-1-3-0-3-13', '2-0-1-0-0-2-0-3-33', '2-0-1-1-3-3-0-4-41', '2-1-2-1-0-1-0-4-35', '1-0-2-1-2-0-0-4-66', '1-0-2-2-1-2-0-4-100', '2-1-2-1-2-2-0-4-55', '2-1-2-0-1-0-0-4-35', '1-0-1-1-3-3-0-3-29', '2-0-1-1-1-0-0-4-72', '2-1-2-2-2-0-0-4-61', '1-0-2-1-3-3-0-3-31', '2-1-1-0-2-2-0-4-71', '2-0-0-1-1-0-0-3-42', '2-1-1-1-1-0-0-3-64', '2-1-1-1-0-1-0-3-63', '2-1-1-0-2-3-0-4-18', '2-0-2-1-2-0-0-3-48', '2-0-2-0-1-3-0-4-63', '1-0-1-0-1-3-0-4-29', '2-1-2-1-0-3-0-4-13', '2-0-2-1-2-2-0-4-69', '2-1-2-0-0-0-0-3-52', '1-0-2-1-2-0-0-3-58', '2-1-1-0-0-1-0-4-65', '2-0-1-0-1-1-0-4-5', '1-1-0-1-3-3-0-3-45', '2-0-1-1-3-1-0-4-43', '2-0-2-0-2-3-0-4-1', '2-1-2-1-2-1-0-3-100', '2-0-1-1-0-3-0-3-16', '2-1-1-1-0-1-0-4-22', '2-0-1-1-2-3-0-4-98', '2-1-2-1-1-3-0-4-18', '2-0-2-1-0-1-1-4-4', '2-0-2-1-2-1-0-3-52', '2-1-2-1-1-2-0-3-20', '2-0-2-0-0-2-0-3-91', '2-0-1-0-0-0-0-3-69', '2-0-0-1-0-1-0-3-41', '2-0-2-1-1-1-0-4-49', '2-0-1-1-0-3-0-4-71', '2-1-1-2-2-1-0-4-15', '2-0-2-1-0--1', '1-0-2-1-2-0-0-4-22', '2-1-1-1-1-1-0-4-24', '2-0-2-2-2-2-0-4-35', '2-0-0-1-3-0-0-3', '2-1-1-2-0-1-0-3', '2-1-2-1-2-1-0-4-60', '2-0-1-2-1-1-0-4-31', '2-0-2-1-0-0-0-4-14', '2-1-2-1-2-0-0-3-7', '2-1-0-1-1-2-0-3', '2-0-2-0-2-2-0-4-12', '2-0-2-1-0-3-0-4-71', '2-0-1-0-1-0-0-3-48', '2-0-0-1-0-2-0', '2-0-1-1-1-0-0-2', '2-0-1-1-2-0-0-3-50', '2-0-1-0-2-1-0-3-42', '2-0-2-0-0-1-0-4-25', '2-0-2-2-2-2-0-3-1', '2-0-2-1-1-3-0-3-29', '2-0-2-0-2-2-0-4-89', '2-0-2-1-1-0-0-4-48', '1-0-1-1-0-0-0-4-17', '2-0-0-1-0-0-0-3-77', '2-0-1-1-1-2-0-4-34', '2-1-2-1-2-0-0-4-12', '2-1-2-0-0-1-0-3', '1-0-2-1-2-0-0-4-56', '2-1-2-0-1-3-0-4-34', '2-1-1-1-1-0-0-3-50', '2-0-1-1-2-0-1-4-2', '2-0-1-2-1-1-0-3-59', '2-0-2-1-2-1-0-4-8', '2-0-0-0-1-2-0-3-5', '2-1-2-2-2-0-0-4-1', '2-1-1-1-1-0-0-4-84', '2-0-1-2-1-1-0-3-43', '1-1-1-1-2-0-0-4-30', '2-0-0-1-2-2-0-4', '2-0-1-1-2-0-0-4-90', '2-0-1-2-0-0-0-4-34', '1-1-1-1-3-0-1-4', '2-1-2-1-0-1-0-3-49', '2-0-1-1-3--1-0', '1-0-1-0-3-0-0-4-38', '2-0-2-0-2-2-0-4-74', '2-0-1-2-2-1-0-4-16', '2-0-1-0-2-2-0', '2-0-1-1-2-1-0-3-65', '2-1-2-1-2-1-0-4-24', '1-1-2-1-2-1-0-3-99', '2-1-0-0-3-3-0-3', '2-0-1-0-2-1-0-3-12', '2-0-1-1-2-0-0-4-61', '2-1-2-1-1-2-0-4-6', '2-0-1-2-1-1-0-3-46', '2-1-1-1-0-1-0-3-87', '2-1-1-0-2-1-0-4-11', '2-0-2-0-2-3-0-3-26', '2-0-1-0-1-0-0-4-82', '2-0-1-1-2-2-0-4-43', '2-1-2-1-0-2-0-4-54', '2-0-1-0-1-1-0-3-97', '2-1-1-2-2', '2-0-1-1-2-1-0-3-50', '2-0-2-1-0-1-0-3-93', '1-0-2-1-0-1-1', '2-0-1-1-2-2-0-4-64', '2-1-1-1-1-3-0-3-60', '2-0-2-1-2-0-0-3-49', '2-0-2-1-1-1-0-4-19', '1-0-1-1-0-2-0-4-15', '2-0-1-0-0-0-0-4-94', '2-0-2-0-0-0-0-3', '2-1-1-1-2-3-0-4-48', '2-1-2-0-1-0-0-4-61', '2-0-1-1-3-2-0-4-33', '2-0-2-1-2-2-0-4-44', '2-0-1-0-3-2-0-3-51', '2-0-1-1-2-2-0-4-22', '2-0-2-0-1-1-0-3-7', '2-1-1-1-1-2-0-4-7', '1-1-2-1-3-0-0-4-67', '2-0-2-1-1-2-0-3-50', '2-0-1-1-0-0-0-4-21', '1-0-1-1-0-2', '2-0-1-0-0-1-0-4-96', '2-0-1-1-2-2-0-3-46', '2-0-1-1-0-2-0-3-6', '2-0-1-1-2-3-0-4-87', '1-0-1-1-2-1-0-4-22', '1-1-1-1-3-0-0-4-23', '2-0-2-1-3-1-0-3-51', '2-1-2-1-0-1-0-3-68', '2-0-1-1-0-0-0-4-11', '1-1-1-1', '2-0-1-0-0-1-0-4-34', '2-0-2-0-0-3-0-4-31', '2-1-2-1-2-2-0-4-70', '1-0-1-1-3-1-0-4-14', '2-0-1-1-1-0-0-4-68', '2-0-1-1-2-0-0-3-57', '2-0-2-1-2-3-0-3-43', '1-0-1-1-3-0-0-4', '1-1-0-0-3-2-0-3', '2-0-1-1-1-2-0-4-18', '2-0-2-0-3-2-0-4-5', '2-1-1-1-1-2-0-4-21', '2-1-2-0-0-2-0-3-7', '2-0-1-1-3-3-0-4-46', '2-1-1-1-3-2-1-4-3', '2-1-1-2-2-2-0-3-11', '1-0-1-1-1-1-0-4-41', '2-1-1-1-2-3-0-3-53', '2-1-2-1-3-2-0-4-98', '2-1-1-2-0-0-0-4-90', '2-0-1-1-1-0-0-3-78', '2-1-1-0-0-1-0', '2-1-2-0-1-0-0-3-78', '2-0-2-1-0-1-0-4-29', '2-0-2-0-0-0-0-3-99', '2-0-1-1-2-0-1-3-4', '2-0-2-0-1-2-0-4-18', '1-1-2-1-3-3-0-4-52', '2-0-2-2-1-1-0-4-4', '1-1-0-1-0', '2-1-1-0-2-1-0-4-70', '2-1-1-1-0-1-0-4-56', '2-0-0-1-1-0-0-3-14', '2-0-2-1-1-1-0-4-81', '2-0-2-1-2-1-0-4-5', '2-1-2-1-1-2-0-3-18', '2-1-2-1-1-1-0-4-8', '2-0-2-0-1-0-0-4-29', '2-1-0-1-1-0-0-3-85', '2-0-2-1-0-2-0-3-43', '1-1-1-2-0-0-0-3-98', '2-0-1-1-2-3-0-3-39', '2-0-1-1-2-3-0-3-49', '2-1-2-0-0-1-0-3-79', '2-1-2-2-1-0-0-4-7', '2-1-2-1-2-2', '1-1-2-1-0-3-0', '2-1-1-0-2-2-0-3-52', '2-1-2-1-1-0-0-4-99', '2-0-2-1-2-1-0-3-99', '1-0-2-1-0-2-1-3', '2-0-1-1-1-3-0-3-1', '1-0-1-1-3-2-0-4-34', '2-1-2-2-2-1-0-4-1', '1-0-1-0-0-3-0', '1-1-1-1-2-2-0-4-5', '2-0-1-1-2-3-0-4-27', '2-0-1-0-0-1-0-4-62', '2-1-2-2-3-2-0-4', '2-0-2-1-2-1-0-4-44', '2-0-2-1-1-1-0-4-11', '2-1-0-1-0-2-0-3-37', '2-1-2-0-3-2', '2-0-2-0-1-0-0-3-45', '2-1-2-1-0-0-0-3-57', '2-0-1-2-1-1-0-4-61', '2-0-2-0-0-2-1', '1-1-2-1-3-2-0-4-16', '1-0-1-1-2-0-0-4-35', '2-0-1-1-1-0-1-3-5', '2-0-2-1-1-2-0-4-35', '2-1-1-2-0--1-0', '2-0-1-2-1-1-0-4-64', '2-0-1-1-1-3-0-3-40', '2-0-2-0-2-1-0-4-76', '2-1-2-0-2-0-0-4-42', '2-0-1-1-1-0-0-4-98', '1-1-2-1-3-0-0-4-11', '2-1-2-1-1-0-0-3-21', '2-0-1-0-0-0-0-4-5', '2-0-1-1-2-3-0', '2-1-2-2-2-1-0-4-54', '2-0-1-0-1-3-0-3-10', '2-0-2-0-0-2-0-4-57', '2-mean', '2-0-1-0-1-1-0-4-84', '2-0-1-2-2-1', '2-1-2-2-1-1-0-4-38', '2-0-2-1-2-2-0-3-70', '2-0-1-1-0-1-0-4-95', '2-0-1-0-2-3-0-4-18', '1-1-2-2-0-1-0-3', '2-1-1-1-1-0-0-4-96', '2-1-2-1-1-2-0-4-23', '2-0-2-1-0-1-0-4-48', '2-1-2-1-1-3-0-4-86', '1-0-2-1-2-3-0-4-39', '2-0-1-1-0-3-0-3-9', '2-1-1-0-0-0-0-4-79', '2-1-2-1-2-3-0-3-5', '2-1-1-0-2-0-0-4-52', '1-0-1-0-2-2-0-4', '2-0-2-0-0--1-0-4-33', '2-0-2-0-1-3-0-4-62', '2-0-2-0-2-0-0-4-31', '2-0-2-1-1-0-0-4-79', '2-1-2-0-1-1-0-4', '2-1-1-0-2-1-0-4-67', '2-0-1-0-2-2-0-4-45', '2-0-2-1-2-1-0-4-30', '2-1-1-0-2-3-0-4', '1-0-1-2-3-1-0-4-96', '2-1-2-0-2-3-0-4-70', '2-0-1-0-2-3-0-4-98', '2-0-2-1-1-2-1-4-7', '1-0-2-2-1-1-0', '2-0-2-2-0-0-0-4-19', '2-0-1-0-3-2-0', '2-0-2-1-1-1-0-3-56', '2-0-1-0-1-2-0-4-31', '2-1-1-0-1-3-0-3-39', '2-0-1-1-0-3-0-4-37', '1-0-2-1-2-2-0-4-53', '2-0-1-1-0-0-0-4-9', '1-0-1-0-2-0-0-3', '1-1-2-1-3-1-0-4-24', '2-1-2-0-0-1-0-4-33', '2-0-2-1-1-0-0-3-13', '1-1-2-1-0-1-0-4-50', '2-1-1-0-0-3-1-4-1', '2-0-1-2-2-1-0-4-81', '2-1-2-0-2-3-0-4-28', '2-0-1-1-0-2-0-4-96', '2-1-1-1-3-0-0', '2-0-1-1-3-1-0-4-21', '2-0-1-1-2-3-0-4-99', '2-0-1-1-1-2-0-3-36', '2-1-2-2-2-1-0-3', '2-1-1-1-2-2-0-4-55', '1-1-1-1-2-0-0-3-61', '1-0-0-2-3-0-0-3-41', '2-0-2-2-0-2-1-4-3', '1-1-2-1-3-2-0-4-85', '2-0-1-1-0-1-0-3-63', '1-1-1-2-2-3-0-4-60', '1-0-2-0-3-3-0-4-18', '2-0-2-0-0-0-0-3-24', '2-0-2-1-3-2-0-3-19', '2-0-2-0-1-0-0-4-60', '2-1-2-1-2-2-0-4-96', '2-1-1-1-0-2-0-3-7', '2-1-2-1-0-1-0-4-56', '2-0-1-0-0-0-0-3-95', '2-1-0-1-0-0-0', '2-0-2-1-2-3-0-4-29', '2-1-2-1-0-2-1', '2-0-1-1-0--1-0-3-44', '2-0-2-1-0-2-1-3-5', '1-1-1-0-2-2-0-3', '2-0-1-2-0-1-1', '2-1-2-1-2-3-0-4', '2-0-2-0-1-0-0-3-99', '1-0-2-1-3-0-0-3-99', '2-0-1-1-0-1-0-4-12', '2-0-1-1-1-1-0-4-76', '1-0-1-0-0-1', '2-0-1-1-0-1-0-4-67', '1-0-2-1-2-0-0-4-63', '2-0-2-1-1-1-0-3-69', '2-1-2-2-2-3-0-3', '2-1-1-2-1-0-0-4-51', '2-1-1-2-1-1-0-4-100', '1-1-1-1-1-0-0-3-51', '2-0-2-0-0-2-0-4-44', '2-0-2-0-3-1-0-4-99', '1-1-1-1-3-2-0-4-49', '2-0-2-0-2-1-0-4-16', '2-0-2-1-0-3-0-4-57', '2-0-2-1-0-3-0-3-39', '2-0-2-0-1-1-0-4-23', '2-0-2-1-0-1-0-4-25', '2-0-1-1-0-2-0-4-30', '2-1-2-1-2-3-0-4-37', '2-0-1-1-1-2-0-4', '2-1-1-1-2-1-0-3-22', '2-0-1-1-3-2-0-4-2', '2-0-1-1-2-2-0-3-36', '2-1-1-1-2-3-0-4-69', '2-0-2-0-2-3-0-3-4', '2-0-1-2-3-1-0-3-3', '2-0-1-1-0-1', '2-0-1-1-3-0-0-4-100', '2-0-2-0-2-2-0-4-96', '2-0-2-0-0-0-0', '2-1-2-1-1-2-0-4-2', '2-1-2-1-0-0-0-3-43', '2-0-2-1-0-1-0-3-99', '2-0-1-1-2-0-0-4-96', '2-0-1-1-2-2-0-3-100', '2-1-2-1-1-2-0-3-26', '2-0-0-1-3-3-0-3-99', '2-1-2-2-0-0-0-4-85', '2-0-1-1-0-1-0-4-38', '2-0-1-1-1-2-0-3-77', '2-1-1-1-3-2-0-3-5', '2-0-2-0-2-3-0-4-24', '2-0-2-0-2-0-0-3-8', '2-1-1-1-1-3-0-4-7', '2-0-1-1-0-1-0-4-57', '1-0-1-1-3-0-0-3-55', '2-1-1-2-1-2-0-4-4', '1-0-0-1-1-1-0-3', '2-1-2-1-1-3-0-3-73', '1-1-1-2-3-3-0', '2-1-1-1-2-3-0-3-57', '2-1-1-1-0-3-1-3', '1-1-2-1-2-3-0-4-49', '2-0-0-1-0-1-0-4', '2-0-2-1-1-3-0-3-9', '2-1-2-2-1-0-0-4-40', '2-1-1-1-2-2-0-4-98', '2-0-1-0-2-0-0-4-96', '2-1-2-2-0-2', '2-0-2-2-2-2-1-3', '2-0-0-1-0-1-1-3', '2-0-2-0-1-1-0-3-11', '2-0-1-2-2-0-0-4-45', '2-1-1-2-2-2-0-4-2', '1-1-2-1-3-3-0-4-7', '2-0-1-2-0-0-0-3-53', '1-1-2-1-3-0-0-4-1', '2-0-2-2-1-1-0-4-43', '2-1-1-0-0-2-0-3-41', '2-0-1-0-0-1-1-3-1', '1-0-1-2-0-2', '2-1-2-0-1-0-0-4-48', '2-1-0-1-1-1', '1-1-1-1-0-2-0-3', '2-0-1-1-2-2-0-4-10', '2-0-0-1-2-0-0-4', '2-0-1-1-0-2-1-4-5', '1-0-2-1-1-0-0-4-44', '2-0-2-0-0-3-0-4', '2-0-2-1-1--1-0-3', '2-0-1-2-0-0-0-4-71', '2-0-2-1-1-0-0-3-58', '2-0-1-1-1-2-0-4-1', '1-0-1-1-1-2-0-4-1', '2-0-2-0-1-1-0-4-94', '2-0-2-0-2-3-0-4-71', '2-0-1-1-1-0-0-3-19', '2-1-2-0-1-0-0-4-45', '2-0-2-1-0-1-0-3-43', '2-1-1-0-2-3-0-3-100', '1-1-1-1-2-3-0-4-77', '1-0-2-1-2-0-1-4-11', '2-0-1-1-1-0-0-4-65', '2-1-2-1-0-2-0-4-8', '1-0-1-1-2-2-0-4-63', '2-0-1-1-2-1-0-4-91', '1-0-1-0-2-3-0-3', '2-1-2-1-1-0-0-4-35', '2-0-2-1-1-1-0-3-65', '2-0-1-1-0-0-0-3-54', '2-1-1-1-2-2-0-3-11', '2-0-1-1-0-0-0-3-81', '2-0-2-1-0-0-0-3-84', '1-0-1-1-3-0-0-4-57', '2-0-2-1-0-3-0-3', '2-1-1-0-2-2-0-4-76', '2-1-2-1-3-2-0-4-6', '2-1-2-1-1-2-0-4-37', '2-0-1-1-1-1-0-4-80', '1-0-1-1-2-1-0-4-86', '2-0-1-1-1-0-0-4-71', '2-1-1-0-2-1-1-3', '1-1-1-1-3-0-0-4-20', '2-1-1-0-0-0-0-4-98', '2-0-1-1-2-0-0-4-29', '2-0-1-0-3-2-0-4-56', '2-1-2-2-2-0', '2-1-1-0-2-3-0-3-95', '1-0-0-1-3-2-0', '2-1-1-2-1-3-0-4-79', '2-0-1-1-1-0-0-3-40', '2-0-1-0-1-0-0-4-66', '2-1-2-0-1-3-0-3-53', '2-1-1-1-0-0-0-4-44', '2-0-2-1-0-0-0-4-61', '2-0-1-2-0-0-0-4-98', '2-0-1-1-1-0-1', '2-0-2-1-0-2-0-4-6', '1-1-2-1-2-2', '2-0-0-1-2-2-0-3-25', '2-0-1-1-2-0-0-3-17', '2-1-2-0-2--1', '2-0-2-1-2-1-0-3-43', '2-1-2-1-0-1-0-3-45', '2-0-1-1-2-3-0-4-59', '2-0-1-2-2-0-0-4-16', '2-0-1-1-1-3-0-4-64', '2-0-2-1-0-2-0-3-33', '1-0-2-1-2-2-0-4-74', '2-1-2-1-2-0-0-4-87', '2-0-1-0-3-3-0-3-33', '2-0-2-1-1-3-0-4-10', '2-0-2-0-2-0-0-3-89', '2-0-1-2-0-1-0-4-99', '2-1-2-1-1-1-0-3-20', '1-0-2-0-3-0-0-4', '1-0-2-2-2-2-0', '2-1-1-1-1-3-0-4-15', '2-1-1-1-3-0-0-3-98', '2-0-1-1-2-3-0-3-43', '1-1-1-1-3-0-0-4-21', '1-0-1-1-0-1-1', '1-1-2-2-2-2-0-4', '1-0-1-1-3-0-0-4-12', '2-0-2-1-2-3-0-4-60', '2-1-2-0-1-3-0-4-39', '1-0-1-1-2-3-0-4-1', '2-0-1-1-3-0-0-4-28', '2-1-2-1-0-3-1-3-3', '2-0-2-2-1-0-0-4-12', '2-1-2-2-2-2-0-3-14', '1-1-1-0-2-0-0-3', '2-1-2-0-2-1-0-4-77', '1-1-2-2-3-1-0-3', '2-0-1-0-2-1-0-4-42', '2-0-2-1-2-1-0-3', '2-1-1-0-1-0-0-3-4', '2-1-1-1-2-2-0-3-78', '2-0-2-0-2-3-0-4-52', '2-1-1-1-2-1-0-3-63', '2-1-1-1-2-3-0-4-18', '2-0-1-1-1--1-0-3-19', '2-1-2-0-1-3-0-4-35', '2-1-2-0-0-2-0-4-39', '2-1-2-0-1-0-0-3-39', '1-0-1-0-3-3-0-3-11', '1-1-2-2-3-1-0', '2-0-1-1-2-3-0-4-84', '2-0-1-1-2-2-0-3-39', '2-1-1-1-2-2-1', '2-0-1-0-2-3-0-4-78', '2-1-1-1-1--1-0-3-100', '1-1-2-1-1-0', '1-0-2-0-3-0-0-4-31', '2-0-2-2-2-1-0-4-39', '1-1-2-0-2-2-0-4-88', '2-0-2-1-2-1-0-4-91', '2-1-1-0-2-3-0-4-100', '2-0-2-1-1-3-0-4-62', '2-0-2-0-2-2-0-4-8', '2-1-2-1-0-1-0-4-82', '2-0-1-1-1-2-0-4-25', '2-1-2-0-0-2-0-4-61', '1-1-2-2-0', '2-1-2-1-0-1-0-3-43', '2-0-1-1-2-2-0-3-2', '1-1-1-1-2-3-0-3-53', '1-0-1-0-3-2-0-4-49', '2-0-1-1-1-3-0-3-93', '2-0-2-1-1-0-0-4-9', '2-0-1-1-1-1-0-3-77', '2-0-2-0-0-2-1-4', '2-0-1-0-0-2-1', '2-1-2-1-0-1-0-4-57', '2-0-0-1-1-1-0-3', '2-1-2-1-2-2-0-4-15', '2-0-1-0-0-0-0-3-46', '2-1-0-0-2-1-0-3-80', '1-0-2-1-2-2-0-4-63', '2-0-2-1-1-3-0-4-75', '1-0-2-0-3-3-0-3-58', '2-0-2-1-1-3-0-3-46', '2-0-2-0-1-', '2-0-2-0-1-1-0-3-62', '2-1-2-0-2-1-0-4', '2-0-1-1-0-0-0-4-94', '1-0-1-1-2-2-0-4-57', '2-0-2-0-2-1-0-3-32', '2-0-2-0-0-2-0-3-89', '2-0-2-1-1-0-0-4-100', '2-0-2-0-0-1-0-4-70', '2-0-2-2-0-0-0-3-78', '2-1-2-0-0-1-0-3-33', '2-0-1-2-0-2-0-4-94', '2-0-2-1-0-1-1-3-5', '1-1-1-1-1-3-0', '2-1-2-1-0-1-0-4-36', '2-0-2-0-2-2-0-4-67', '2-0-1-0-3-0-1-4-3', '2-1-1-1-2-0-0-4-64', '2-0-1-0-3-1-0-4-10', '1-0-1-1-0-3-1', '2-0-1-2-1-0-0-4-4', '1-0-0-1-3-3-0-3-67', '2-1-2-1-0-0', '2-1-2-0', '1-1-1-1-0-2-0', '1-0-2-1-0-0-0-3-100', '2-1-1-1-0-0-0-4-13', '2-0-0-0-2-3-0', '2-0-2-1-1-2-0-3-71', '2-1-1-1-3-1-0-4-41', '2-0-2-1-0-2-0-3-8', '2-0-1-0-2-0-0-4-81', '2-1-1-2-0-0', '2-1-1-0-0-0-0-4-84', '2-1-1-1-0-0-0-3-47', '1-1-1-1-2-3-0-3-77', '2-0-1-0-2-0-1-3', '2-0-2-0-0-0-0-4-99', '2-0-1-1-3--1-0-3-40', '2-1-2-1-0-1-0-4-80', '1-0-1-1-0-0-0-3-92', '2-1-2-1-1-3-0-4-16', '2-0-1-0-1-3-0-3-37', '1-1-2-1-1-1', '2-0-0-1-0-0-0-3-11', '2-1-1-0-0-0-0-3', '1-0-1-1-3-0-0-4-97', '2-1-1-1-1-1-0-4-22', '2-0-2-0-2-0-0', '2-0-2-2-0-1-0-4-75', '2-0-2-2-1-0-0-4-44', '2-0-1-1-2-1-0-4-65', '2-1-1-0-0-3-0-4-4', '2-0-2-1-1-0-0-4-12', '2-1-2-1-2-1-0-4-70', '2-0-1-1-0-1-0-3-92', '2-0-1-0-1-0-0-4-53', '2-0-2-1-2-3-0-3-45', '2-1-2-2-2-0-0-4-14', '1-0-1-1-0-3-0-4-54', '2-0-1-1-2-2-0', '2-1-0-1-0-0-0-2', '2-1-1-1-0-0-0-4-21', '2-0-1-1-1--1-1-3', '2-0-1-1-0-0-0-3-1', '2-0-0-2-1-2-0-3-72', '2-1-1-1-1-0-0-4-74', '1-0-2-1-3-1-0', '1-1-1-1-3-1-0-4-8', '2-0-2-0-0-1-0-4-84', '1-0-1-1-2-0-0-4-87', '2-1-2-0-1-1-0-3-7', '2-0-1-0-2-2-0-4-38', '2-1-1-1-2-1-0-4-34', '2-0-2-0-1-3-0-3-72', '1-1-0-1-3-2-0-3-4', '2-0-2-0-2-3-0-3', '2-1-2-1-1-3-0-4-10', '1-0-1-1-3-0-0-4-55', '2-1-1-1-2-3-0-4-83', '2-0-2-1-0-0-0-4-52', '2-1-2-2-1-0-0-3-46', '2-0-1-0-3-0-0-4-52', '2-1-2-2-1-1-0-3', '2-0-1-0-0-2-0-4', '1-0-1-1-0-2-0-3-19', '2-0-2-0-2-2-0-4-42', '2-1-2-1-0-2-1-4-8', '2-0-1-1-0-2-0-4-66', '2-0-2-1-0-2-0-3-62', '2-0-1-2-0-2-1-4-1', '2-0-2-1-0-0-0-3-88', '2-1-1-0-3-3-0-3-50', '2-0-2-1-2-2-0-3-77', '2-0-1-1-2-0-0-3-35', '1-0-2-0-0-0', '2-1-2-1-0-1-0-4-45', '2-1-1-2-2-0-0-4-13', '2-0-1-0-1-0-0-3-40', '2-1-2-1-1-1-0-4-65', '1-1-1-1-2-3-0-4-48', '1-1-0-1-2-0-0-3-51', '2-0-1-1-1-3-0-3-43', '1-0-2-1-2-1-0-4-59', '2-0-1-1-0-3-0-3-98', '2-0-1-1-0-2-0-3-42', '2-0-1-0-2-2-0-4-18', '2-0-1-1-1-0-0-3-56', '2-0-1-1-1-1-0-4-33', '2-0-2-1-3-0', '1-0-2-1-3-1-0-4-17', '1-0-1-1-2-3-0-4', '1-1-1-0-3-0-0-3', '2-0-1-1-0-1-0-3-51', '2-0-2-1-1-3-0-4-46', '2-0-2-1-0-0-1-3-4', '2-0-2-0-1-3-0-4-60', '2-0-1-1-2-3-1-4-2', '2-0-1-1-1-0-1-4-7', '2-1-1-1-2-2-0-4-48', '2-0-2-0-2-0-0-3-24', '2-0-1-0-1-0-0-4-87', '2-0-1-1-0-0-0-4-87', '2-0-2-2-0-1-0-4-8', '2-0-2-0-1-3-0-4-1', '2-1-1-1-0-1-0-4-26', '2-0-2-1-1-0-0-4-88', '2-0-1-0-1-0-0-4-85', '2-1-2-1-2-0-0-3-64', '2-1-2-1-1-1-0-3-90', '2-1-2-1-2-1-0-4-54', '2-0-2-1-2-0-1', '2-0-1-0-1-0-0-4-3', '2-0-0-0-0-0-0', '2-1-1-1-2-3-0-4-9', '2-0-1-0-3-0-0-4', '2-0-1-0-1-0-0-3-61', '2-0-1-1-0-0-0-4-8', '2-0-1-0-3-1-0-3-22', '1-0-1-2-3-1-0-4', '2-1-1-0-1-0-0-4-49', '1-0-2-2-0-2-0-3-99', '1-1-2-0-3-3', '2-0-2-1-2-3-0-3-65', '2-0-0-0-2-3-0-3-88', '1-0-1-1-3-3-0-3-31', '1-0-1-1-3-2-0-4-8', '2-0-1-0-1-2-0-4-28', '2-1-1-1-3-2-1-4', '2-1-1-1-2-0-0-3-36', '2-0-0-1-0-2-1-3-1', '2-1-1-1-3-1-0-4-6', '1-0-2-0-0-2-1-4-3', '1-1-1-1-2-1-0-4-46', '2-0-2-1-2-0-0-4-88', '2-1-1-0-0-0-0-4-99', '2-0-2-0-1-2-0-4-38', '1-0-2-1-3-3-0-4-62', '1-0-1-2-3-1-0-4-16', '1-0-0-1-3-0-0-3-39', '2-0-1-1-2-1-0-4-75', '2-0-1-1-1-1-0-4-86', '2-0-2-1-2-0-0-3-18', '2-0-1-0-3-3-0-3-100', '1-0-1-0-3-3-0', '1-1-1-1-3-3-0-4-4', '2-1-2-1-0-2-0-4-12', '2-0-1-1-1-3-0-4-79', '2-0-1-1-2-1-0-4-17', '2-0-2-1-1-1-0-3-17', '2-0-1-1-0-1-0-4-43', '2-0-1-2-2-2-0-4-23', '2-1-2-1-2-1-0-4-20', '1-0-0-1-2-0-0-3', '2-0-2-2-2-2-0-3-48', '2-0-1-1-0-2-0-3-37', '1-0-2-1-0-0-0-3-50', '2-0-1-1-2-3-0-3-80', '2-0-2-1-1-0-0-3-56', '2-1-2-1-2-0-0-4-35', '2-0-2-2-1-0-0-4-3', '2-0-2-1-0-0-0-4-26', '2-0-1-1-1-2-0-4-98', '2-1-2-1-0-0-0-4-15', '2-1-2-1-2-1-0-4-100', '1-1-2-1-0-0-0-4-49', '2-1-1-1-1-1-0-4-48', '2-0-2-0-0-0-0-3-72', '1-0-1-1-3-2-0-3-68', '2-0-2-1-2-3-0-3-32', '2-0-1-1-2-0-0-4-75', '2-1-1-0-2-1-1-4-4', '1-0-2-1-2-3-0-4-66', '2-0-1-1-3-0-0-4-23', '2-0-2-2-1-1-0-4-72', '2-1-1-1-1-1-0-4-85', '2-0-2-2-1-3-0-4-73', '2-1-2-0-1-0-0-3-77', '2-1-1-1-2-3-0-4-99', '1-1-2-1-3-2-0-3-52', '2-0-2-2-0-3-0-4-62', '2-0-1-0-0-0-0-3-9', '2-0-1-0-1-1-0-4-38', '2-1-2-1-2-3-0-4-89', '2-0-2-0-3-2-0-3-12', '2-0-1-1-2-2-0-4-25', '2-0-0-0-2-0', '2-0-1-1-2-0-0-4-14', '2-0-0-1-2-2-0-3-34', '2-0-2-0-0-1-0-4-76', '2-0-1-1-0-0-0-4-4', '2-0-2-1-1-1-0-4-43', '1-1-2-1-3-0-0-4-9', '2-1-1-1-0-1-0-4-95', '1-0-2-0-0-0-1-4-3', '2-0-2-2-1-1-0-4-9', '2-1-2-1-1-1-0-3-49', '2-0-2-1-0--1-0-3', '2-0-2-0-0-0-0-3-34', '2-0-2-2-3-2-0', '2-1-0-1-2-1-0-4-21', '2-0-1-0-1-1-0-3-35', '2-0-2-1-1-0-0-4-32', '2-1-2-0-2-3-0-4-53', '2-0-1-0-2-0-0-4-6', '1-0-2-1-0-1-1-4-1', '2-1-2-1-0-3', '2-0-1-1-0-3-0-4-6', '2-1-1-1-1-1-0-4-25', '1-1-1-2', '2-1-1-0-0-2-0-3-76', '2-0-1-0-2-0-0-4-48', '2-0-1-1-2-2-0-4-42', '2-1-2-2-0-0-0-3-14', '2-1-0-1-1-2-0', '1-0-2-2-1-3', '2-0-1-1-1-2-0-4-45', '2-1-1-1-2-1-0-3-93', '2-0-1-1-2-0-0-3-41', '1-1-2-1-3-3-0-4-5', '1-1-2-1-2-1-0-4-54', '2-1-1-2-0-0-0-4-89', '2-0-0-1-2-0-0-3-51', '1-0-1-1-3-0-0-3-24', '2-0-2-1-1-0-0-4-82', '2-1-1-0-2-0-0-4-92', '1-0-0-1-1-1', '2-0-1-0-2-1-0-4-36', '2-0-1-1-0-2-0-3-24', '2-0-1-1-0-3-0-4-80', '1-0-2-1-3-3-0-4-55', '1-0-2-0-3-1-0-4-33', '2-1-2-2-1-3', '2-0-1-1-0-1-0-4-99', '2-1-2-2-3-3-0-3-80', '2-1-1-0-2-2-0-3-61', '2-0-1-0-3-1-0-4-4', '2-0-2-1-0-0-0-3-57', '2-0-1-2-1-0-0-4-44', '2-0-2-2-1-2-0-4-30', '2-0-2-1-1-0-0-4-98', '2-0-1-1-1-2-0-4-75', '2-0-1-2-0-0-0-3-71', '2-0-1-1-1-3-0-4-51', '2-0-1-0-0-2-0-3-97', '1-0-2-1-3-0-0-4-88', '2-1-1-0-2-1-0-3-55', '2-0-1-1-0-2-0-4-8', '2-0-2-1-0-0-0-3-53', '1-0-2-1-2-1-0-4-72', '2-1-2-2-1-2-0-4-53', '2-0-1-1-1-0-0-4-59', '2-0-2-1-1-0-0-3-20', '2-0-0-0-0-0-0-2', '1-0-0-1-1-0-0-3-49', '2-0-2-1-3-2-0-3-21', '1-0-1-1-3-2-0-4-27', '2-1-2-1-1-0-0-3-47', '2-0-2-0-3-0-0-4-4', '2-0-2-2-1-3-0-3-42', '2-1-0-1-0-3-0', '2-1-1-1-0-1-0-3-33', '2-0-1-1-0-2-0-4-99', '2-0-2-1-2-3-0-3-53', '2-0-2-2-2-2-0-4-80', '2-0-2-2-2-3-0-4-76', '2-1-2-0-0-1-0', '2-0-1-2-0-0-1-4', '2-0-1-1-0-3-0-4-44', '2-0-1-1-3-0-0-3-30', '1-0-2-1-2-0-0-4-71', '2-1-1-1-2-1-0-4-98', '2-0-1-1-2-0-0-4-37', '2-0-2-1-2-0-1-4-5', '2-1-2-0-0-0-0-4-75', '2-0-2-0-0-1-1-3-1', '2-0-2-1-0-0-0-4-67', '2-0-2-1-0-0-0-4-51', '2-0-2-1-2-3-0-3-13', '2-0-2-1-0-3-0-4-67', '2-1-1-0-2-1', '2-0-2-0-0-1-1-3-2', '2-0-1-2-2-0-0-4-34', '1-0-0-1-0-1-0-3', '1-1-0-1-2-3-0-3-18', '2-0-2-1-0-0-0-4-77', '2-0-2-1-3-1-0-4-35', '2-0-1-1-2-0-0-4-39', '2-0-2-1-2-1-0-3-32', '2-1-1-1-0-0-0-3-76', '2-1-2-1-2-2-0-3-98', '2-1-1-1-0-3-0-4-89', '2-1-1-1-2-3-0-4-8', '2-0-1-0-1-0-0-3-25', '2-0-0-1-0-0-0', '2-1-2-1-0-0-0-4-36', '2-0-2-1-1-0-0-4-99', '2-0-1-0-2-1-0-4-7', '2-0-1-2-1-0-0-3-46', '2-0-2-2-1-1-0-3-42', '2-1-1-0-2-1-0-4-28', '2-1-1-1-2-3-0-3-18', '1-1-1-1-2-2-0-4-15', '2-1-2-1-2-2-0-4-28', '2-0-1-1-2-1-0-3-24', '2-0-1-1-0-1-1-4-1', '2-0-2-1-0-0-0-4-29', '1-1-2-1-1-3', '2-0-2-0-0-3-0-3-78', '2-0-2-1-3-2-0-4-35', '2-0-2-1-2-0-0-4-76', '2-1-2-1-1-0-0-4-74', '2-0-2-0-0-3', '2-0-2-1-2-3-0-3-33', '2-0-0-1-2-2-0-3-84', '2-1-2-0-2-3-0-3-32', '2-0-2-2-0-1-0-4-19', '2-0-2-1-0-1-0-3-59', '2-1-1-2-0-0-0-3', '2-1-2-1-2-2-0-3-8', '2-1-1-0-2-1-0-4-14', '2-0-2-1-0-1-0-3-7', '2-0-1-1-1-2-0-4-95', '2-1-2-1-1-1-0-4-64', '2-1-1-1-2-2-0-4-82', '2-0-1-0-0-0-0-3-33', '2-0-2-1-2-2-0-3-34', '2-0-1-2-2-3-0-4-98', '2-1-2-2-0-1-0-3-36', '2-1-1-1-1-0-0-4-20', '1-0-2-1-3-0-0-3-71', '1-0-1-1-3-0-0-4-6', '2-0-2-2-1-0-1-3-2', '2-0-2-1-1-3-0-3-11', '1-0-2-1-2-3-0-3-60', '2-0-2-1-0-3-0-3-14', '2-1-2-2-3-1-0-4-1', '1-0-2-1-0-3-0-4', '2-0-1-2-0-0-0-4-77', '2-0-0-1-2-2-0-3', '1-1-1-1-3-1-0-3-48', '2-1-0-1-2-1-0-3-38', '1-0-2-1-2-0-0-4-21', '2-1-2-2-2-1-0-4-39', '2-0-1-0-2-2-1-4-8', '2-1-2-2-1-1-0-4-77', '1-0-1-1-3-0-0-4-59', '2-1-2-1-0-1-0-4-52', '2-0-1-1-3-1-0-3-47', '2-0-1-2-1-3-0-4', '2-0-1-0-1-1-0-4-66', '1-0-1-1-2-1-1', '1-1-2-1-3-3-0-4-19', '1-0-1-1-3-2-0-4-97', '2-0-2-2-0-0-0-4-27', '2-1-1-2-0-0-0-3-34', '1-0-2-2-2-3-1-4-2', '1-1-0-1-0-0-0-3-100', '2-0-2-1-1-2-0-3-84', '2-0-1-1-2-1-1-4-6', '2-0-1-2-0-0-0-3-63', '2-1-1-0-0-1-0-4-31', '1-0-2-1-3-1-0-4-100', '2-1-1-1-3-3-0', '2-0-0-2-0--1-0-4-26', '2-1-1-1-3-2-0-3-7', '1-1-1-1-2-0-0-4-5', '2-0-2-1-1-2-0-3-61', '2-0-1-1-0-2-0-3-98', '1-0-1-1-2-0-0-4-52', '2-1-2-2-0-0-0-3-84', '1-1-1-1-3-0-0-4-4', '2-1-1-1-0-2-0-4-26', '1-1-1-1-2-3-0-4-18', '2-0-1-2-0-1-1-4-9', '2-0-2-0-3-0-1-4-7', '2-0-2-1-2-1-0-3-23', '2-0-1-2-1-2-0-4-82', '2-1-2-2-1-2-0-4-18', '2-1-2-1-0-3-0', '2-0-2-1-2-2-0-4-31', '2-1-2-1-0-2-0-4-80', '1-1-1-1-2-1-0-3-31', '2-1-2-1-0-3-0-4-41', '2-1-2-1-2-3-0-4-96', '2-0-2-0-0-2-0-4-7', '1-1-0-1-2-1-0-3-3', '2-0-1-2-2-0-0-4-97', '2-0-1-1-2-2-0-4-11', '2-0-2-1-1-2-1', '2-0-0-1-0--1-0-3-21', '2-1-2-2-1-2-0-4-29', '2-0-2-1-2-0-0-4-85', '2-1-1-0-3-3-0-4', '2-0-1-1-0-2-0-4-20', '2-0-2-1-3-0-0', '2-0-2-0-0-2-0-4-91', '2-0-1-1-0-1-0-2', '1-0-1-1-1-0-0-4-54', '2-0-2-0-1-1-0-4-63', '2-0-1-0-1-2-0-3-82', '2-1-1-1-1-2-0-3-53', '1-0-2-1-0-2-1-4-4', '2-1-1-0-0-0-0-3-15', '1-0-0-1-3-0-0-3-25', '1-1-2-1-1-1-0-4-50', '2-1-1-1-2-2-0-4-33', '2-1-2-0-1-2-0-4-39', '2-1-0-1-1-1-0-3-70', '2-1-2-1-2-3-0-4-70', '2-1-2-1-2-0-0', '2-1-2-0-2-0-0-4-20', '2-0-1-0-0-0-0-3-85', '2-0-2-1-1-2-0-3-20', '2-0-1-1-2-2-0-3-3', '2-0-2-2-3-1-0-4', '2-0-1-0-0-0-0-4-53', '2-0-2-1-2-3-0-3-89', '1-1-0-1-3-1-0-3-47', '2-1-1-1-3-3-0-4-4', '2-1-2-1-2-3-0-4-1', '1-1-1-1-3-3-1-3', '2-0-1-0-2-2-0-4-50', '1-0-2-2-2-1-0-3-99', '2-1-1-1-1-0-0-4-77', '2-0-1-1-0-1-0-3-85', '2-1-2-2-3-3-1', '1-1-2-1-2-0-0-4-86', '2-0-1-1-1-0-0-3-47', '2-1-1-1-2-0-0-3-40', '2-0-1-1-1-0-0-3-23', '2-1-1-0-2-3-0-4-71', '2-1-0-0', '1-1-1-1-3-0-0-4-53', '2-1-2-1-0-0-0-4-58', '2-0-2-2-1-0-0-4', '2-1-1-1-1-1-0-4-75', '1-0-0-0-1-1-0-3', '2-1-1-1-2-0-0-4-37', '2-1-2-1-1-1-0-4-57', '2-0-1-1-0-1-0-4-48', '2-0-1-0-0-0-0-4-17', '2-1-2-1-3-1-0-4-97', '1-0-2-2-1-2-0-3', '2-1-2-1-1-0-0-3-56', '2-0-2-0-0-2-1-4-3', '2-0-0-1-2-0-1-3-7', '1-1-2-1-2-2-0-4-55', '1-0-0-0-0-0-0-3-51', '2-0-2-1-2-0-0-4-58', '1-0-1-1-3-0-0-3-67', '1-0-2-1-3-1-0-4-5', '1-0-1-0-0-0-0-4-100', '2-1-1-0-2-2-0-3-10', '2-0-1-1-3-2-0-4-85', '2-0-1-1-3-0-0-4-46', '2-1-2-1-1-0-1-4', '2-1-2-0-3', '2-1-0-1-1-0-0-3-75', '2-0-2-0-2-3-0-4-61', '1-1-2-0-3-3-0-4-36', '2-0-2-1-1-1-0-4-63', '2-0-1-0-0-0-0-3-56', '2-0-2-2-1-2-0-3-26', '1-0-2-1-3-3-0-4-25', '2-0-1-1-1-3-0-3-79', '2-1-1-1-1-3-0-4-69', '2-0-1-0-2-2-0-4-74', '2-0-2-1-1-0-0-4-73', '2-0-1-0-1-1-0-4-79', '2-0-1-1-2-2-0-3-48', '2-1-2-1-0-2-0-3-90', '1-0-1-1-0-2-0-4-55', '2-1-2-1-1-3-0-3-6', '2-0-2-0-1-0-0-4-6', '2-0-2-2-0-1-0-3-10', '2-1-2-1-2-2-0-4-45', '1-1-2-1-2-1-0-4-98', '2-1-2-1-0-0-0-4-89', '2-1-1-1-2-3-0-3-23', '2-0-1-0-1-0-0-4-5', '1-0-2-1-1-0-0-3', '2-1-2-2-1-3-0-4', '2-0-1-1-2--1-0-3', '2-0-1-2-0-3-0-3-81', '2-0-1-1-1-2-0-4-67', '2-1-0-2-3-2-0', '1-0-0-0-3-3-0', '2-0-2-1-2-0-0-3-61', '1-0-2-2-0-0-0-4-99', '1-0-0-2-3-2', '2-0-1-1-2-1-0-3-45', '2-0-1-1-3-0-0-4-44', '2-1-1-1-2-2-0-4-92', '1-0-1-1-2', '2-0-1-1-2-0-1-4-7', '2-0-2-1-3-1-0-3-25', '2-1-1-2-0-3-0-4-40', '2-0-1-1-1-1-0-3-45', '2-0-2-1-2-1-0-3-4', '2-1-2-1-0-3-0-4-92', '2-1-1-1-0-0-0-3-87', '2-1-2-2-3-0-1-4', '2-0-1-1-0-1-0-3-36', '1-0-2-0-3-0-0-3-43', '2-1-2-0-0-0-0-4-68', '2-0-1-1-2-3-0-4-66', '2-0-1-0-0-2-0-4-91', '2-0-2-0-3-2-0-3', '1-1-0-1-1-0', '2-1-2-0-2-1-0-4-78', '1-0-2-2-3-3-0-4-64', '2-1-1-0-2-3-0-4-5', '1-0-1-1-2-3-1-3-6', '2-0-2-2-3-2-0-4-1', '2-0-0-2-0-0-0-4-38', '2-0-1-0-1-1-0-4-95', '2-1-2-1-2-3-0-4-80', '2-0-1-1-0-0-0-4-1', '2-0-2-2-1-3-0-3-33', '1-0-1-1-0-0-0-4-93', '2-0-2-1-2-1-0-4-70', '1-1-2-1-3-0-1', '2-0-1-2-0-0-0-4-22', '2-1-2-0-0-0-0-3-14', '2-1-2-1-2-2-0-3-35', '2-1-1-1-3-1-0-4-29', '2-0-2-1-0-2-0-4-57', '2-1-1-1-2-0-0-4-45', '2-1-1-2-0-1-0-3-26', '2-1-2-1-2-1-0-4-32', '2-0-1-1-0-2-0-4-49', '2-0-2-0-2-0-0-4-9', '2-1-2-1-1-3-0-3-70', '2-1-1-0-1-3-0-4-100', '2-0-1-2-2-2-0-4-2', '2-1-2-1-0-3-1-4-2', '2-0-1-0-1-0-0-3-1', '2-1-2-0-0-1-0-4-63', '2-0-2-1-0-1-0-4-52', '1-0-2-1-2-0', '2-1-2-1-2-1-1-3-7', '2-0-2-2-0-2-1-4-2', '2-0-1-2-0-2-0-4-2', '1-0-2-1-3-0-0-4-16', '2-1-2-1-1-2-0-4-69', '2-1-2-0-2-2-0-3-53', '2-0-2-0-1-0-0-3-88', '2-0-1-0-3-0-1', '2-0-2-1-1-1-0-3-41', '2-0-0-1-0-3-0-3', '1-1-2-1-3-3-0-4-66', '2-0-1-1-1-1-0-4-8', '2-1-1-1-0--1-0-3-78', '2-1-2-1-2-1-0-4-23', '2-0-2-2-2-2-0-4-97', '1-0-2-2-1-2-0-4-50', '2-0-2-0-1-2-0-3-8', '1-0-0-1-0-0-0-3-93', '2-0-1-1-1-2-0-3-60', '2-0-1-0-2-3-0-4-93', '1-0-2-0-3-3', '2-0-1-1-2-1-0-3-59', '2-1-2-1-1-2-0-4-64', '2-0-2-0-1-2-0-3-47', '1-1-1-1-3-1-0-3-49', '2-1-2-1-2-3-0-4-98', '2-0-1-1-1-1-0-4-67', '1-0-1-2-3-3-0-3-42', '2-0-1-1-1-0-0-4-89', '2-0-0-1-0-1-0-3-65', '2-1-1-2-2-1-0-3-15', '2-1-1-2-3-3-0-4', '2-1-2-2-0-0-0-3-80', '2-0-2-2-2-2-0-4', '1-1-2-1-3-3-1-4-3', '1-0-0-1-2-1-0-3', '2-1-1-2-2-0-0-4-42', '2-0-2-1-1-1-0-3-10', '1-1-2-0-0-2', '2-1-2-0-1-0-0-4-37', '2-0-1-2-0-3-0-3-3', '1-0-0-0-0', '2-0-1-1-1-0-0-4-61'])"
      ]
     },
     "execution_count": 10,
     "metadata": {},
     "output_type": "execute_result"
    }
   ],
   "source": [
    "df.keys()"
   ]
  },
  {
   "cell_type": "code",
   "execution_count": null,
   "metadata": {
    "collapsed": true
   },
   "outputs": [],
   "source": []
  }
 ],
 "metadata": {
  "anaconda-cloud": {},
  "kernelspec": {
   "display_name": "Python 3",
   "language": "python",
   "name": "python3"
  },
  "language_info": {
   "codemirror_mode": {
    "name": "ipython",
    "version": 3
   },
   "file_extension": ".py",
   "mimetype": "text/x-python",
   "name": "python",
   "nbconvert_exporter": "python",
   "pygments_lexer": "ipython3",
   "version": "3.6.8"
  }
 },
 "nbformat": 4,
 "nbformat_minor": 1
}
