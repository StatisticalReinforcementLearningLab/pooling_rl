{
 "cells": [
  {
   "cell_type": "code",
   "execution_count": 1,
   "metadata": {},
   "outputs": [],
   "source": [
    "import numpy as np\n",
    "import pickle\n",
    "import matplotlib.pyplot as plt\n",
    "%matplotlib inline\n",
    "import pandas as pd\n",
    "import pandas as pd\n",
    "import sys\n",
    "sys.path\n",
    "sys.path.append('../models')\n",
    "sys.path.append('../simulation')\n",
    "import numpy as np\n",
    "import pickle\n",
    "import random\n",
    "import os\n",
    "import math\n",
    "import sim_functions_cleaner  as sf\n",
    "import operator\n",
    "import study"
   ]
  },
  {
   "cell_type": "code",
   "execution_count": 2,
   "metadata": {},
   "outputs": [],
   "source": [
    "def get_all_states():\n",
    "    all_states = []\n",
    "    counts = {}\n",
    "    for person,data in experiment.population.items():\n",
    "        h = data.history\n",
    "        for time,cd in h.items():\n",
    "            \n",
    "            if cd['avail'] and cd['decision_time']:\n",
    "                #cd['tod'],cd['dow'],cd['weather'],\n",
    "                states = [1,cd['tod'],cd['dow'],cd['pretreatment'],cd['location']]\n",
    "                key = '-'.join(str(i) for i in states)\n",
    "                if key not in counts: \n",
    "                    counts[key]=0\n",
    "                counts[key]=counts[key]+1\n",
    "                all_states.append(states)\n",
    "    return all_states"
   ]
  },
  {
   "cell_type": "code",
   "execution_count": 3,
   "metadata": {},
   "outputs": [],
   "source": [
    "coeffs = np.array([ 0.05,  0.25, -0.3 ,  0.25,  0.25, -0.3 ])\n",
    "coeffs = np.array([0.05,  0.25,  0.25,  0.25, -0.3 ])\n",
    "#coeffs = np.array([ 0.05,  0.25, -0.3 ])\n",
    "\n",
    "#coeffs = np.array([ 0.05, -0.3 ,  0.25,  0.25 ])\n",
    "\n",
    "#coeffs = np.array([0.05,  0.3 ,  0.3 , -0.35 ])\n",
    "#coeffs = np.array([ 0.05 , 0.25, -0.3])\n",
    "#coeffs = np.array([0.05, ,  0.25, -0.3 ])"
   ]
  },
  {
   "cell_type": "code",
   "execution_count": 4,
   "metadata": {},
   "outputs": [],
   "source": [
    "with open('../simulation/visited_states_200.pkl','rb') as f:\n",
    "    experiment = pickle.load(f)"
   ]
  },
  {
   "cell_type": "code",
   "execution_count": 5,
   "metadata": {},
   "outputs": [],
   "source": [
    "ast = get_all_states()\n"
   ]
  },
  {
   "cell_type": "code",
   "execution_count": 6,
   "metadata": {},
   "outputs": [],
   "source": [
    "def get_all_states_by_group(gid):\n",
    "    all_states = []\n",
    "    counts = {}\n",
    "    for person,data in experiment.population.items():\n",
    "        h = data.history\n",
    "        \n",
    "        if data.gid==gid:\n",
    "            for time,cd in h.items():\n",
    "            \n",
    "                if cd['avail'] and cd['decision_time']:\n",
    "                    #cd['tod'],cd['dow'],cd['weather'],\n",
    "                    states = [1,cd['tod'],cd['dow'],cd['pretreatment'],cd['location']]\n",
    "                    key = '-'.join(str(i) for i in states)\n",
    "                    if key not in counts: \n",
    "                        counts[key]=0\n",
    "                    counts[key]=counts[key]+1\n",
    "                    all_states.append(states)\n",
    "    return all_states"
   ]
  },
  {
   "cell_type": "code",
   "execution_count": 7,
   "metadata": {},
   "outputs": [],
   "source": [
    "group_two = get_all_states_by_group(2)\n",
    "group_one = get_all_states_by_group(1)"
   ]
  },
  {
   "cell_type": "code",
   "execution_count": 8,
   "metadata": {},
   "outputs": [],
   "source": [
    "def get_percent_actions(states,coeffs,offset):\n",
    "    return [(np.dot(coeffs.T,s)+offset)>0 for s in states]"
   ]
  },
  {
   "cell_type": "code",
   "execution_count": 9,
   "metadata": {},
   "outputs": [],
   "source": [
    "def get_reward(states,coeffs,offset):\n",
    "    return [(np.dot(coeffs.T,i)+offset) for i in states]"
   ]
  },
  {
   "cell_type": "code",
   "execution_count": 10,
   "metadata": {},
   "outputs": [],
   "source": [
    "def test_smooth(sigma):\n",
    "    all_rewards = []\n",
    "    #os = [np.random.normal(loc=-0.1,scale=.37) for i in range(8)]\n",
    "    for i in range(50):\n",
    "        offset = np.random.normal(loc=0.0,scale=sigma)\n",
    "        #offset = os[i%8]\n",
    "        #print(offset)\n",
    "        rew = get_reward(ast,coeffs,offset)\n",
    "        #return rew\n",
    "        all_rewards.extend(rew)\n",
    "    return all_rewards"
   ]
  },
  {
   "cell_type": "code",
   "execution_count": 11,
   "metadata": {},
   "outputs": [],
   "source": [
    "#[np.random.normal(loc=-0.1,scale=.37) for i in range(8)]"
   ]
  },
  {
   "cell_type": "code",
   "execution_count": 12,
   "metadata": {},
   "outputs": [],
   "source": [
    "#for s in np.arange(.1,.45,.05):\n",
    "#    print(s)\n",
    "#    rews = test_smooth(s)\n",
    "#    print(sum([i for i in rews if i>=0])/len(rews))"
   ]
  },
  {
   "cell_type": "code",
   "execution_count": 397,
   "metadata": {},
   "outputs": [
    {
     "name": "stdout",
     "output_type": "stream",
     "text": [
      "0.31639962108926756\n"
     ]
    }
   ],
   "source": [
    "arews = []\n",
    "for a in range(10):\n",
    "    rews = test_smooth(.37)\n",
    "    arews.extend(rews)\n",
    "print(sum([i for i in arews if i>=0])/len(arews))"
   ]
  },
  {
   "cell_type": "code",
   "execution_count": 389,
   "metadata": {},
   "outputs": [
    {
     "data": {
      "text/plain": [
       "0.28545013949279346"
      ]
     },
     "execution_count": 389,
     "metadata": {},
     "output_type": "execute_result"
    }
   ],
   "source": [
    "np.array(rews).mean()"
   ]
  },
  {
   "cell_type": "code",
   "execution_count": 325,
   "metadata": {},
   "outputs": [
    {
     "name": "stdout",
     "output_type": "stream",
     "text": [
      "0.21751837694795645\n"
     ]
    }
   ],
   "source": [
    "treat = get_reward(ast,coeffs,0)\n",
    "print(np.array(treat).mean())"
   ]
  },
  {
   "cell_type": "code",
   "execution_count": 169,
   "metadata": {},
   "outputs": [],
   "source": [
    "coeffs = np.array([0.05,  0.25,  0.25,  -0.3, 0.25 ])"
   ]
  },
  {
   "cell_type": "code",
   "execution_count": 189,
   "metadata": {},
   "outputs": [],
   "source": [
    "def get_percent_actions_three(states,coeffs,offset,offtwo):\n",
    "    to_return = []\n",
    "    for s in states:\n",
    "        new_coeff = [i for i in coeffs]\n",
    "        new_coeff[-1]=new_coeff[-1]+np.random.normal(-0.3,offset)\n",
    "        #print(new_coeff)\n",
    "        #print(s)\n",
    "        to_return.append(np.dot(np.array(new_coeff).T,s)+np.random.normal(0.0,offtwo))\n",
    "    return to_return"
   ]
  },
  {
   "cell_type": "code",
   "execution_count": 190,
   "metadata": {},
   "outputs": [],
   "source": [
    "per_one = get_percent_actions_three(group_one,coeffs,0.25,.37)\n",
    "per_two = get_percent_actions_three(group_two,coeffs,0.25,.37)"
   ]
  },
  {
   "cell_type": "code",
   "execution_count": 191,
   "metadata": {},
   "outputs": [
    {
     "name": "stdout",
     "output_type": "stream",
     "text": [
      "0.58582769773596\n"
     ]
    }
   ],
   "source": [
    "#print(sum(per_one)/len(per_one))\n",
    "print(len([i for i in per_one+per_two if i>0])/len(per_one+per_two))"
   ]
  },
  {
   "cell_type": "code",
   "execution_count": 107,
   "metadata": {},
   "outputs": [
    {
     "data": {
      "text/plain": [
       "0.8844751543663628"
      ]
     },
     "execution_count": 107,
     "metadata": {},
     "output_type": "execute_result"
    }
   ],
   "source": [
    "len([i for i in per_one+per_two if i>0])/len(per_one+per_two)"
   ]
  },
  {
   "cell_type": "code",
   "execution_count": 110,
   "metadata": {},
   "outputs": [
    {
     "data": {
      "text/plain": [
       "0.24442343298521066"
      ]
     },
     "execution_count": 110,
     "metadata": {},
     "output_type": "execute_result"
    }
   ],
   "source": [
    "np.array([(np.dot(coeffs.T,st)+0) for st in group_two+group_one]).std()"
   ]
  },
  {
   "cell_type": "code",
   "execution_count": 111,
   "metadata": {},
   "outputs": [
    {
     "data": {
      "text/plain": [
       "0.8219615530542558"
      ]
     },
     "execution_count": 111,
     "metadata": {},
     "output_type": "execute_result"
    }
   ],
   "source": [
    "sum(per_one)/len(per_one)"
   ]
  },
  {
   "cell_type": "code",
   "execution_count": 112,
   "metadata": {},
   "outputs": [
    {
     "data": {
      "text/plain": [
       "0.2120246207957793"
      ]
     },
     "execution_count": 112,
     "metadata": {},
     "output_type": "execute_result"
    }
   ],
   "source": [
    "sum(per_two)/len(per_two)"
   ]
  },
  {
   "cell_type": "code",
   "execution_count": null,
   "metadata": {},
   "outputs": [],
   "source": [
    "per_one = get_percent_actions(group_one,coeffs,0.0)\n",
    "per_two = get_percent_actions(group_two,coeffs,-0.5)"
   ]
  },
  {
   "cell_type": "code",
   "execution_count": 159,
   "metadata": {},
   "outputs": [],
   "source": [
    "coeffs_one = np.array([0.05,  0.25,  0.25,  -.3, .25+.25])\n",
    "coeffs_two = np.array([0.05,  0.25,  0.25,  -.3, .25-.25])"
   ]
  },
  {
   "cell_type": "code",
   "execution_count": null,
   "metadata": {},
   "outputs": [],
   "source": []
  },
  {
   "cell_type": "code",
   "execution_count": 162,
   "metadata": {},
   "outputs": [],
   "source": [
    "rew_one = get_reward(group_one,coeffs_one,0.00)\n",
    "rew_two = get_reward(group_two,coeffs_two,-.35)\n",
    "per_one = get_percent_actions(group_one,coeffs_one,0.0)\n",
    "per_two = get_percent_actions(group_two,coeffs_two,-.35)"
   ]
  },
  {
   "cell_type": "code",
   "execution_count": 163,
   "metadata": {},
   "outputs": [
    {
     "name": "stdout",
     "output_type": "stream",
     "text": [
      "0.7781712406728215\n",
      "0.1048032534622994\n"
     ]
    }
   ],
   "source": [
    "print(len([i for i in per_one if i>0])/len(per_one))\n",
    "print(len([i for i in per_two if i>0])/len(per_two))"
   ]
  },
  {
   "cell_type": "code",
   "execution_count": 164,
   "metadata": {},
   "outputs": [],
   "source": [
    "alls = []\n",
    "for s in group_one:\n",
    "    alls.append(s[-1]*.25+.2)\n",
    "for s in group_two:\n",
    "    alls.append(s[-1]*.25-.2)"
   ]
  },
  {
   "cell_type": "code",
   "execution_count": 165,
   "metadata": {},
   "outputs": [
    {
     "data": {
      "text/plain": [
       "0.23341762211620554"
      ]
     },
     "execution_count": 165,
     "metadata": {},
     "output_type": "execute_result"
    }
   ],
   "source": [
    "np.array(alls).std()"
   ]
  },
  {
   "cell_type": "code",
   "execution_count": 664,
   "metadata": {},
   "outputs": [
    {
     "data": {
      "text/plain": [
       "0.32156081500853695"
      ]
     },
     "execution_count": 664,
     "metadata": {},
     "output_type": "execute_result"
    }
   ],
   "source": [
    "np.array([np.random.normal(0,.323) for i in range(68020)])"
   ]
  },
  {
   "cell_type": "code",
   "execution_count": 95,
   "metadata": {},
   "outputs": [
    {
     "data": {
      "text/plain": [
       "0.3341668498571114"
      ]
     },
     "execution_count": 95,
     "metadata": {},
     "output_type": "execute_result"
    }
   ],
   "source": []
  },
  {
   "cell_type": "code",
   "execution_count": 216,
   "metadata": {},
   "outputs": [],
   "source": [
    "#coeffs_one = np.array([.05,  0.0,  0.0,  0.0, -0.2+.25 ])\n",
    "#coeffs_two = np.array([.05,  0.0,  0.0,  0.0, -0.2-.1 ])\n",
    "#rew_one = get_reward(group_one,coeffs_one,-0.0)\n",
    "#rew_two = get_reward(group_two,coeffs_two,-0.0)"
   ]
  },
  {
   "cell_type": "code",
   "execution_count": 166,
   "metadata": {},
   "outputs": [
    {
     "data": {
      "text/plain": [
       "0.3709644326170883"
      ]
     },
     "execution_count": 166,
     "metadata": {},
     "output_type": "execute_result"
    }
   ],
   "source": [
    "np.array(rew_one+rew_two).std()"
   ]
  },
  {
   "cell_type": "code",
   "execution_count": 219,
   "metadata": {},
   "outputs": [
    {
     "name": "stdout",
     "output_type": "stream",
     "text": [
      "5\n",
      "0.05\n",
      "25\n",
      "0.3\n",
      "50\n",
      "0.35\n",
      "75\n",
      "0.55\n",
      "95\n",
      "0.8\n"
     ]
    }
   ],
   "source": [
    "for i in [5,25,50,75,95]:\n",
    "    print(i)\n",
    "    print(np.percentile([rew_one],i))"
   ]
  },
  {
   "cell_type": "code",
   "execution_count": 220,
   "metadata": {},
   "outputs": [
    {
     "name": "stdout",
     "output_type": "stream",
     "text": [
      "5\n",
      "-0.8500000000000001\n",
      "25\n",
      "-0.6000000000000001\n",
      "50\n",
      "-0.3\n",
      "75\n",
      "-0.04999999999999993\n",
      "95\n",
      "0.20000000000000007\n"
     ]
    }
   ],
   "source": [
    "for i in [5,25,50,75,95]:\n",
    "    print(i)\n",
    "    print(np.percentile(rew_two,i))"
   ]
  },
  {
   "cell_type": "code",
   "execution_count": null,
   "metadata": {},
   "outputs": [],
   "source": []
  },
  {
   "cell_type": "code",
   "execution_count": 221,
   "metadata": {},
   "outputs": [
    {
     "data": {
      "text/plain": [
       "0.446484362148451"
      ]
     },
     "execution_count": 221,
     "metadata": {},
     "output_type": "execute_result"
    }
   ],
   "source": [
    "np.array([r for r in rew_one+rew_two]).std()"
   ]
  },
  {
   "cell_type": "code",
   "execution_count": 370,
   "metadata": {},
   "outputs": [
    {
     "name": "stdout",
     "output_type": "stream",
     "text": [
      "0.15\n",
      "0.22770362498378996\n",
      "0.2\n",
      "0.23374088956881384\n",
      "0.25\n",
      "0.26403586248768895\n",
      "0.30000000000000004\n",
      "0.3428470248066565\n",
      "0.3500000000000001\n",
      "0.27206724999040666\n",
      "0.40000000000000013\n",
      "0.3509350289657297\n",
      "0.45000000000000007\n",
      "0.382853039808708\n"
     ]
    }
   ],
   "source": [
    "for s in np.arange(.1,.45,.05):\n",
    "    print(s)\n",
    "    rews = test_smooth(s)\n",
    "    print(sum([i for i in rews if i>=0])/len(rews))"
   ]
  },
  {
   "cell_type": "code",
   "execution_count": 198,
   "metadata": {},
   "outputs": [
    {
     "data": {
      "text/plain": [
       "0.050000000000000044"
      ]
     },
     "execution_count": 198,
     "metadata": {},
     "output_type": "execute_result"
    }
   ],
   "source": [
    "-0.24999999999999994+.3"
   ]
  },
  {
   "cell_type": "code",
   "execution_count": 199,
   "metadata": {},
   "outputs": [
    {
     "data": {
      "text/plain": [
       "0.025000000000000022"
      ]
     },
     "execution_count": 199,
     "metadata": {},
     "output_type": "execute_result"
    }
   ],
   "source": [
    "0.050000000000000044/2"
   ]
  },
  {
   "cell_type": "code",
   "execution_count": 539,
   "metadata": {},
   "outputs": [
    {
     "data": {
      "text/plain": [
       "0.04999999999999999"
      ]
     },
     "execution_count": 539,
     "metadata": {},
     "output_type": "execute_result"
    }
   ],
   "source": [
    "np.percentile(rew_one+rew_two,50)"
   ]
  },
  {
   "cell_type": "code",
   "execution_count": 203,
   "metadata": {},
   "outputs": [
    {
     "data": {
      "text/plain": [
       "1.45"
      ]
     },
     "execution_count": 203,
     "metadata": {},
     "output_type": "execute_result"
    }
   ],
   "source": [
    ".95--.5"
   ]
  },
  {
   "cell_type": "code",
   "execution_count": 204,
   "metadata": {},
   "outputs": [
    {
     "data": {
      "text/plain": [
       "0.3625"
      ]
     },
     "execution_count": 204,
     "metadata": {},
     "output_type": "execute_result"
    }
   ],
   "source": [
    "1.45/4"
   ]
  },
  {
   "cell_type": "code",
   "execution_count": 540,
   "metadata": {},
   "outputs": [
    {
     "name": "stdout",
     "output_type": "stream",
     "text": [
      "5\n",
      "-0.55\n",
      "25\n",
      "-0.25\n",
      "50\n",
      "0.04999999999999999\n",
      "75\n",
      "0.05\n",
      "95\n",
      "0.35\n"
     ]
    }
   ],
   "source": [
    "for i in [5,25,50,75,95]:\n",
    "    print(i)\n",
    "    print(np.percentile(rew_two+rew_one,i))"
   ]
  },
  {
   "cell_type": "code",
   "execution_count": 206,
   "metadata": {},
   "outputs": [
    {
     "data": {
      "text/plain": [
       "1.3"
      ]
     },
     "execution_count": 206,
     "metadata": {},
     "output_type": "execute_result"
    }
   ],
   "source": [
    ".8--.5"
   ]
  },
  {
   "cell_type": "code",
   "execution_count": 207,
   "metadata": {},
   "outputs": [
    {
     "data": {
      "text/plain": [
       "0.325"
      ]
     },
     "execution_count": 207,
     "metadata": {},
     "output_type": "execute_result"
    }
   ],
   "source": [
    "1.3/4"
   ]
  },
  {
   "cell_type": "code",
   "execution_count": null,
   "metadata": {},
   "outputs": [],
   "source": []
  }
 ],
 "metadata": {
  "kernelspec": {
   "display_name": "Python 3",
   "language": "python",
   "name": "python3"
  },
  "language_info": {
   "codemirror_mode": {
    "name": "ipython",
    "version": 3
   },
   "file_extension": ".py",
   "mimetype": "text/x-python",
   "name": "python",
   "nbconvert_exporter": "python",
   "pygments_lexer": "ipython3",
   "version": "3.6.8"
  }
 },
 "nbformat": 4,
 "nbformat_minor": 2
}
