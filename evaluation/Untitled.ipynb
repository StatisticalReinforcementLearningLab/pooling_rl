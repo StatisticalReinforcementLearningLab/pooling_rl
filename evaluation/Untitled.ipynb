{
 "cells": [
  {
   "cell_type": "code",
   "execution_count": 12,
   "metadata": {},
   "outputs": [],
   "source": [
    "import pickle\n",
    "import operator"
   ]
  },
  {
   "cell_type": "code",
   "execution_count": 76,
   "metadata": {},
   "outputs": [],
   "source": [
    "import os\n",
    "import numpy as np"
   ]
  },
  {
   "cell_type": "code",
   "execution_count": 98,
   "metadata": {},
   "outputs": [
    {
     "data": {
      "text/plain": [
       "['population_size_32_update_days_7_short_EB_case_one_2_testing_final.pkl',\n",
       " 'population_size_32_update_days_7_short_EB_case_one_3_testing_final.pkl',\n",
       " 'population_size_32_update_days_7_short_EB_case_one_0_testing_final.pkl',\n",
       " 'population_size_32_update_days_7_short_EB_case_one_1_testing_final.pkl']"
      ]
     },
     "execution_count": 98,
     "metadata": {},
     "output_type": "execute_result"
    }
   ],
   "source": [
    "finals = [f for f in os.listdir('../../Downloads/from_cluster' ) if 'final' in f]\n",
    "finals"
   ]
  },
  {
   "cell_type": "code",
   "execution_count": 99,
   "metadata": {},
   "outputs": [],
   "source": [
    "def get_biggest_case(case,pop_size):\n",
    "    to_return = {}\n",
    "    finals = [f for f in os.listdir('../../Downloads/from_cluster' ) if 'safer' in f and case in f and pop_size in f]\n",
    "    for f in finals:\n",
    "        to_return[f]=int(f.split('testing')[1].split('safer')[0].strip('_'))\n",
    "    sorted_x = sorted(to_return.items(), key=operator.itemgetter(1),reverse=True)\n",
    "    \n",
    "    \n",
    "    to_return = {}\n",
    "    \n",
    "    new_fs = [f for f in os.listdir('../../Downloads/from_cluster' ) if 'safer' in f and case in f \\\n",
    "              and pop_size in f and str(sorted_x[0][1]) in f]\n",
    "   \n",
    "    for f in new_fs:\n",
    "        with open('../../Downloads/from_cluster/{}'.format(sorted_x[0][0]),'rb') as f:\n",
    "              return pickle.load(f)\n",
    "    \n",
    "    return to_return"
   ]
  },
  {
   "cell_type": "code",
   "execution_count": 67,
   "metadata": {},
   "outputs": [],
   "source": [
    "t = 'population_size_64_update_days_7_short_EB_case_three_2090_testing_6500_safer_f.pkl'.split('testing')"
   ]
  },
  {
   "cell_type": "code",
   "execution_count": 89,
   "metadata": {},
   "outputs": [],
   "source": [
    "d= get_biggest_case('case_one','32')"
   ]
  },
  {
   "cell_type": "code",
   "execution_count": null,
   "metadata": {},
   "outputs": [],
   "source": []
  },
  {
   "cell_type": "code",
   "execution_count": null,
   "metadata": {},
   "outputs": [],
   "source": []
  },
  {
   "cell_type": "code",
   "execution_count": 90,
   "metadata": {},
   "outputs": [],
   "source": [
    "def get_steps(history):\n",
    "    return [v['steps'] for v in history.values()]"
   ]
  },
  {
   "cell_type": "code",
   "execution_count": 91,
   "metadata": {},
   "outputs": [],
   "source": [
    "s = get_steps(d['history'])"
   ]
  },
  {
   "cell_type": "code",
   "execution_count": 93,
   "metadata": {},
   "outputs": [
    {
     "data": {
      "text/plain": [
       "1.8402944479124614"
      ]
     },
     "execution_count": 93,
     "metadata": {},
     "output_type": "execute_result"
    }
   ],
   "source": [
    "d= get_biggest_case('case_one','32')\n",
    "s = get_steps(d['history'])\n",
    "np.array(s).mean()"
   ]
  },
  {
   "cell_type": "code",
   "execution_count": 94,
   "metadata": {},
   "outputs": [
    {
     "data": {
      "text/plain": [
       "1.8704299790609387"
      ]
     },
     "execution_count": 94,
     "metadata": {},
     "output_type": "execute_result"
    }
   ],
   "source": [
    "d= get_biggest_case('case_two','32')\n",
    "s = get_steps(d['history'])\n",
    "np.array(s).mean()"
   ]
  },
  {
   "cell_type": "code",
   "execution_count": 97,
   "metadata": {},
   "outputs": [
    {
     "data": {
      "text/plain": [
       "1.82188607749713"
      ]
     },
     "execution_count": 97,
     "metadata": {},
     "output_type": "execute_result"
    }
   ],
   "source": [
    "d= get_biggest_case('case_three','32')\n",
    "s = get_steps(d['history'])\n",
    "np.array(s).mean()"
   ]
  },
  {
   "cell_type": "code",
   "execution_count": 101,
   "metadata": {},
   "outputs": [
    {
     "name": "stdout",
     "output_type": "stream",
     "text": [
      "1.8200799345885619\n",
      "1.8654754385136683\n",
      "1.7872307800706604\n"
     ]
    }
   ],
   "source": [
    "d= get_biggest_case('case_one','64')\n",
    "s = get_steps(d['history'])\n",
    "print(np.array(s).mean())\n",
    "d= get_biggest_case('case_two','64')\n",
    "s = get_steps(d['history'])\n",
    "print(np.array(s).mean())\n",
    "d= get_biggest_case('case_three','64')\n",
    "s = get_steps(d['history'])\n",
    "print(np.array(s).mean())"
   ]
  },
  {
   "cell_type": "code",
   "execution_count": null,
   "metadata": {},
   "outputs": [],
   "source": []
  }
 ],
 "metadata": {
  "kernelspec": {
   "display_name": "Python 3",
   "language": "python",
   "name": "python3"
  },
  "language_info": {
   "codemirror_mode": {
    "name": "ipython",
    "version": 3
   },
   "file_extension": ".py",
   "mimetype": "text/x-python",
   "name": "python",
   "nbconvert_exporter": "python",
   "pygments_lexer": "ipython3",
   "version": "3.6.8"
  }
 },
 "nbformat": 4,
 "nbformat_minor": 2
}
