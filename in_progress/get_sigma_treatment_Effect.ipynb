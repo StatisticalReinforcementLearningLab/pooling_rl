{
 "cells": [
  {
   "cell_type": "code",
   "execution_count": 15,
   "metadata": {},
   "outputs": [],
   "source": [
    "import pandas as pd\n",
    "import numpy as np\n",
    "import pickle\n",
    "import math\n",
    "from sklearn.linear_model import LinearRegression"
   ]
  },
  {
   "cell_type": "code",
   "execution_count": 5,
   "metadata": {},
   "outputs": [],
   "source": [
    "with open('../../Downloads/distributions/merged_est.pkl','rb') as f:\n",
    "    merged = pickle.load(f)"
   ]
  },
  {
   "cell_type": "code",
   "execution_count": 6,
   "metadata": {},
   "outputs": [],
   "source": [
    "def adjust_to_thirty_minute(steps):\n",
    "    return steps.fillna(0).tz_localize(None).resample('30T').sum().fillna(0)"
   ]
  },
  {
   "cell_type": "code",
   "execution_count": 7,
   "metadata": {},
   "outputs": [],
   "source": [
    "def get_activity_suggestion(user_df):\n",
    "    to_return = {}\n",
    "    for index,row in user_df.iterrows():\n",
    "        if type(row['avail'])==bool and row['avail']:\n",
    "            if type(row['send.active'])==bool:\n",
    "                sent = row['send.active']\n",
    "                i = index.round('30T').tz_localize(None)\n",
    "                to_return[i]=sent\n",
    "    return to_return"
   ]
  },
  {
   "cell_type": "code",
   "execution_count": 9,
   "metadata": {},
   "outputs": [],
   "source": [
    "def get_anti_sedentary(user_df):\n",
    "    to_return = {}\n",
    "    for index,row in user_df.iterrows():\n",
    "        if type(row['avail'])==bool and row['avail']:\n",
    "            if type(row['send.sedentary'])==bool:\n",
    "                sent = row['send.sedentary']\n",
    "                i = index.round('30T').tz_localize(None)\n",
    "                to_return[i]=sent\n",
    "    return to_return"
   ]
  },
  {
   "cell_type": "code",
   "execution_count": 27,
   "metadata": {},
   "outputs": [],
   "source": [
    "def get_intercept():\n",
    "    to_return = {'True':[],'False':[]}\n",
    "    for k,v in merged.items():\n",
    "        if k!=4:\n",
    "            \n",
    "            a = all_actives[k]\n",
    "            b = all_antis[k]\n",
    "        #print(len(a))\n",
    "            xs = []\n",
    "            ys = []\n",
    "            if k!=4:\n",
    "                steps = adjust_to_thirty_minute(v['steps'])\n",
    "                for i,s in steps.iteritems():\n",
    "                    dow = i.dayofweek\n",
    "                    #i in a and i in b and\n",
    "                    if  i.hour>=9 and i.hour<21 and i in a or i in b:\n",
    "                    #print('found')\n",
    "                        #action = a[i]\n",
    "                        to_return['True'].append(s)\n",
    "                    #print(action)\n",
    "                    #int(dow==5 or dow==6)\n",
    "                        #if action:\n",
    "                            #to_return['True'].append(s)\n",
    "                        #else:\n",
    "                            #to_return['False'].append(s)\n",
    "                        #elif b[i]:\n",
    "                        #else:\n",
    "                            #if not b[i]:\n",
    "                                #to_return['False'].append(s)\n",
    "                    #if i in b and i.hour>=9 and i.hour<21:\n",
    "                       \n",
    "                        #action = b[i]\n",
    "                    #print(action)\n",
    "                    #int(dow==5 or dow==6)\n",
    "                        #if action:\n",
    "                            #to_return[int(dow==5 or dow==6)]['False'].append(s)\n",
    "    return to_return"
   ]
  },
  {
   "cell_type": "code",
   "execution_count": 11,
   "metadata": {},
   "outputs": [],
   "source": [
    "all_antis = {k:get_anti_sedentary(v) for k,v in merged.items() if k!=4}\n",
    "all_actives = {k:get_activity_suggestion(v) for k,v in merged.items() if k!=4}\n"
   ]
  },
  {
   "cell_type": "code",
   "execution_count": 28,
   "metadata": {},
   "outputs": [],
   "source": [
    "d= get_intercept()"
   ]
  },
  {
   "cell_type": "code",
   "execution_count": 13,
   "metadata": {},
   "outputs": [],
   "source": [
    "all_steps = d['True']+d['False']"
   ]
  },
  {
   "cell_type": "code",
   "execution_count": 16,
   "metadata": {},
   "outputs": [
    {
     "data": {
      "text/plain": [
       "2.9781234766107825"
      ]
     },
     "execution_count": 16,
     "metadata": {},
     "output_type": "execute_result"
    }
   ],
   "source": [
    "np.array([math.log(s+.5) for s in all_steps]).std()"
   ]
  },
  {
   "cell_type": "code",
   "execution_count": 29,
   "metadata": {},
   "outputs": [
    {
     "data": {
      "text/plain": [
       "3.0636408465857343"
      ]
     },
     "execution_count": 29,
     "metadata": {},
     "output_type": "execute_result"
    }
   ],
   "source": [
    "np.array([math.log(s+.5) for s in d['True']]).std()"
   ]
  },
  {
   "cell_type": "code",
   "execution_count": 26,
   "metadata": {},
   "outputs": [
    {
     "data": {
      "text/plain": [
       "8.090152106156188"
      ]
     },
     "execution_count": 26,
     "metadata": {},
     "output_type": "execute_result"
    }
   ],
   "source": [
    "2.8443192693782087**2"
   ]
  },
  {
   "cell_type": "code",
   "execution_count": null,
   "metadata": {},
   "outputs": [],
   "source": []
  }
 ],
 "metadata": {
  "kernelspec": {
   "display_name": "Python 3",
   "language": "python",
   "name": "python3"
  },
  "language_info": {
   "codemirror_mode": {
    "name": "ipython",
    "version": 3
   },
   "file_extension": ".py",
   "mimetype": "text/x-python",
   "name": "python",
   "nbconvert_exporter": "python",
   "pygments_lexer": "ipython3",
   "version": "3.6.8"
  }
 },
 "nbformat": 4,
 "nbformat_minor": 2
}
