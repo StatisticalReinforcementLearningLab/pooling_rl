{
 "cells": [
  {
   "cell_type": "code",
   "execution_count": 2,
   "metadata": {},
   "outputs": [],
   "source": [
    "import gpflow\n",
    "import numpy as np\n",
    "import math\n",
    "import tensorflow as tf\n",
    "import get_history as gh"
   ]
  },
  {
   "cell_type": "code",
   "execution_count": 34,
   "metadata": {},
   "outputs": [],
   "source": [
    "sess = tf.Session()"
   ]
  },
  {
   "cell_type": "code",
   "execution_count": 57,
   "metadata": {},
   "outputs": [],
   "source": [
    " def get_all_sigmas(sigma_v,g_one,g_two,day_one,day_two):\n",
    "    #sigmax = [[] for i in range(100)]\n",
    "    #tf.placeholder(tf.float64, shape=(100, 2,2))\n",
    "    \n",
    "            \n",
    "        #print('eff')\n",
    "        #print(effects.shape)\n",
    "        #user_term = tf.constant(np.array([[0.0,0.0],[0.0,0.0]]))           \n",
    "        \n",
    "\n",
    "\n",
    "        #print('eff')\n",
    "        #print(effects.shape)\n",
    "        #effects = tf.tensordot(effects,tf.transpose(g_two),axes = [[1],[0]])\n",
    "    \n",
    "    \n",
    "    \n",
    "        \n",
    "        \n",
    "        get_g = g_one\n",
    "        get_g_two = g_two\n",
    "        \n",
    "        effects_onef = [[] for i in range(100)]\n",
    "        effects_twof = [[] for i in range(100)]\n",
    "\n",
    "        \n",
    "        to_return = [[] for i in range(100)]\n",
    "        for i in range(100):\n",
    "            temp = [[] for i in range(100)]\n",
    "            tempeo = [[] for i in range(100)]\n",
    "            tempet = [[] for i in range(100)]\n",
    "            for j in range( 100):\n",
    "                rho = rbf_custom(day_one[i], X2=day_two[j])\n",
    "            #print(sess.run(rho))\n",
    "                val = rho[0]\n",
    "        #tf.scalar_mul(val,sigma_v)\n",
    "            #print(val)\n",
    "                this_sigma = tf.scalar_mul(val,sigma_v)\n",
    "            #print(this_sigma)\n",
    "                effects_one = tf.tensordot(get_g[i],this_sigma,axes=[[0],[1]])\n",
    "                effects_two = tf.tensordot(effects_one,get_g_two[j],axes = [[0],[0]])\n",
    "                \n",
    "                tempeo[j]=tf.tensordot(get_g[i],sigma_v,axes=[[0],[1]])\n",
    "                tempet[j]=tf.tensordot(tf.tensordot(get_g[i],sigma_v,axes=[[0],[1]]),get_g_two[j],axes = [[0],[0]])\n",
    "                \n",
    "                temp[j]=effects_two\n",
    "                \n",
    "            to_return[i]=temp\n",
    "            effects_onef[i]=tempeo\n",
    "            effects_twof[i]=tempet\n",
    "            \n",
    "            \n",
    "        return to_return,effects_onef,effects_twof "
   ]
  },
  {
   "cell_type": "code",
   "execution_count": 4,
   "metadata": {},
   "outputs": [],
   "source": [
    "##need to reformat history\n",
    "def put_x_together(h):\n",
    "    X = []\n",
    "    \n",
    "    for i in range(len(h.states)):\n",
    "        state_vector = h.states[i]\n",
    "        state_vector.append(float(h.users[i]))\n",
    "        state_vector.append(float(h.day_function[i]))\n",
    "        X.append(state_vector)\n",
    "    return X"
   ]
  },
  {
   "cell_type": "code",
   "execution_count": 5,
   "metadata": {},
   "outputs": [],
   "source": [
    "history = gh.get_history(5,100,5)"
   ]
  },
  {
   "cell_type": "code",
   "execution_count": 6,
   "metadata": {},
   "outputs": [],
   "source": [
    "X = put_x_together(history)\n",
    "X=np.array(X)"
   ]
  },
  {
   "cell_type": "code",
   "execution_count": 7,
   "metadata": {},
   "outputs": [],
   "source": [
    "def gather_cols(params, indices, name=None):\n",
    "    \"\"\"Gather columns of a 2D tensor.\n",
    "\n",
    "    Args:\n",
    "        params: A 2D tensor.\n",
    "        indices: A 1D tensor. Must be one of the following types: ``int32``, ``int64``.\n",
    "        name: A name for the operation (optional).\n",
    "\n",
    "    Returns:\n",
    "        A 2D Tensor. Has the same type as ``params``.\n",
    "    \"\"\"\n",
    "    with tf.op_scope([params, indices], name, \"gather_cols\") as scope:\n",
    "        # Check input\n",
    "        params = tf.convert_to_tensor(params, name=\"params\")\n",
    "        indices = tf.convert_to_tensor(indices, name=\"indices\")\n",
    "        try:\n",
    "            params.get_shape().assert_has_rank(2)\n",
    "        except ValueError:\n",
    "            raise ValueError('\\'params\\' must be 2D.')\n",
    "        try:\n",
    "            indices.get_shape().assert_has_rank(1)\n",
    "        except ValueError:\n",
    "            raise ValueError('\\'params\\' must be 1D.')\n",
    "\n",
    "        # Define op\n",
    "        p_shape = tf.shape(params)\n",
    "        p_flat = tf.reshape(params, [-1])\n",
    "        i_flat = tf.reshape(tf.reshape(tf.range(0, p_shape[0]) * p_shape[1],\n",
    "                                       [-1, 1]) + indices, [-1])\n",
    "        return tf.reshape(tf.gather(p_flat, i_flat),\n",
    "                          [p_shape[0], -1])"
   ]
  },
  {
   "cell_type": "code",
   "execution_count": 8,
   "metadata": {},
   "outputs": [],
   "source": [
    "def rbf_custom_np( X, X2=None):\n",
    "        #print(X)\n",
    "        #print(X2)\n",
    "        if X2 is None:\n",
    "             X2=X\n",
    "        return math.exp(-((X-X2)**2)/1.0)\n",
    "        #tf.divide(tf.square(-tf.subtract(X,X2)),tf.constant(1.0,dtype=tf.float64)))\n",
    "rdayone = [x[6] for x in X]\n",
    "rdaytwo = rdayone\n",
    "rhos = np.array([[rbf_custom_np( rdayone[i], X2=rdaytwo[j]) for j in range(100)] for i in range(100)])\n"
   ]
  },
  {
   "cell_type": "code",
   "execution_count": 20,
   "metadata": {},
   "outputs": [],
   "source": [
    "    def rbf_custom( X, X2=None):\n",
    "        #print(X)\n",
    "        #print(X2)\n",
    "        if X2 is None:\n",
    "             X2=X\n",
    "        return tf.exp(-tf.divide(tf.square(tf.subtract(X,X2)),tf.constant(1.0,dtype=tf.float64)))\n",
    "        #return tf.constant(1.0,dtype=tf.float64)"
   ]
  },
  {
   "cell_type": "code",
   "execution_count": 29,
   "metadata": {},
   "outputs": [
    {
     "data": {
      "text/plain": [
       "1.1253517471925912e-07"
      ]
     },
     "execution_count": 29,
     "metadata": {},
     "output_type": "execute_result"
    }
   ],
   "source": [
    "rbf_custom_np( 1, X2=5)"
   ]
  },
  {
   "cell_type": "code",
   "execution_count": 35,
   "metadata": {},
   "outputs": [
    {
     "data": {
      "text/plain": [
       "array([1.12535175e-07])"
      ]
     },
     "execution_count": 35,
     "metadata": {},
     "output_type": "execute_result"
    }
   ],
   "source": [
    "rbf_custom(tf.constant([1.0],dtype=tf.float64),tf.constant([5.0],dtype=tf.float64)).eval(session=sess)"
   ]
  },
  {
   "cell_type": "code",
   "execution_count": 9,
   "metadata": {},
   "outputs": [
    {
     "name": "stdout",
     "output_type": "stream",
     "text": [
      "WARNING:tensorflow:tf.op_scope(values, name, default_name) is deprecated, use tf.name_scope(name, default_name, values)\n"
     ]
    },
    {
     "name": "stderr",
     "output_type": "stream",
     "text": [
      "WARNING:tensorflow:tf.op_scope(values, name, default_name) is deprecated, use tf.name_scope(name, default_name, values)\n"
     ]
    }
   ],
   "source": [
    "Xt = tf.constant(X)\n",
    "g_one = gather_cols(Xt, [3,4], name=None)"
   ]
  },
  {
   "cell_type": "code",
   "execution_count": 10,
   "metadata": {},
   "outputs": [],
   "source": [
    "g_two=g_one"
   ]
  },
  {
   "cell_type": "code",
   "execution_count": 11,
   "metadata": {},
   "outputs": [],
   "source": [
    "sigma_v =  tf.constant(np.array([[10.0,0.0],[0.0,10.0]]))"
   ]
  },
  {
   "cell_type": "code",
   "execution_count": 15,
   "metadata": {},
   "outputs": [],
   "source": [
    "effects_one = tf.tensordot(tf.transpose(g_one),sigma_v,axes=[[0],[1]])\n",
    "effects_two = tf.tensordot(effects_one,tf.transpose(g_two),axes = [[1],[0]])\n",
    "effects_three = tf.matmul(effects_two,rhos)"
   ]
  },
  {
   "cell_type": "code",
   "execution_count": 59,
   "metadata": {},
   "outputs": [],
   "source": [
    "effects_four = tf.multiply(effects_two,rhos)"
   ]
  },
  {
   "cell_type": "code",
   "execution_count": 23,
   "metadata": {},
   "outputs": [],
   "source": [
    "day_one = tf.constant(rdayone,dtype=tf.float64)\n",
    "day_two = tf.constant(rdaytwo,dtype=tf.float64)"
   ]
  },
  {
   "cell_type": "code",
   "execution_count": 27,
   "metadata": {},
   "outputs": [
    {
     "name": "stdout",
     "output_type": "stream",
     "text": [
      "WARNING:tensorflow:tf.op_scope(values, name, default_name) is deprecated, use tf.name_scope(name, default_name, values)\n"
     ]
    },
    {
     "name": "stderr",
     "output_type": "stream",
     "text": [
      "WARNING:tensorflow:tf.op_scope(values, name, default_name) is deprecated, use tf.name_scope(name, default_name, values)\n"
     ]
    },
    {
     "name": "stdout",
     "output_type": "stream",
     "text": [
      "WARNING:tensorflow:tf.op_scope(values, name, default_name) is deprecated, use tf.name_scope(name, default_name, values)\n"
     ]
    },
    {
     "name": "stderr",
     "output_type": "stream",
     "text": [
      "WARNING:tensorflow:tf.op_scope(values, name, default_name) is deprecated, use tf.name_scope(name, default_name, values)\n"
     ]
    }
   ],
   "source": [
    "day_two = gather_cols(Xt, [6], name=None)\n",
    "day_one = gather_cols(Xt, [6], name=None)\n"
   ]
  },
  {
   "cell_type": "code",
   "execution_count": 58,
   "metadata": {},
   "outputs": [],
   "source": [
    "test = get_all_sigmas(sigma_v,g_one,g_two,day_one,day_two)"
   ]
  },
  {
   "cell_type": "code",
   "execution_count": 41,
   "metadata": {},
   "outputs": [],
   "source": [
    "ef = sess.run(test[0])"
   ]
  },
  {
   "cell_type": "code",
   "execution_count": 46,
   "metadata": {},
   "outputs": [
    {
     "data": {
      "text/plain": [
       "array([2.61161526e+000, 9.11904516e-001, 2.62467820e+000, 2.44816333e+000,\n",
       "       9.79957842e-001, 2.59757154e+000, 2.56848822e+000, 4.66262582e-002,\n",
       "       9.99542392e-001, 4.77759216e-002, 3.20653571e-004, 9.36039750e-001,\n",
       "       4.88592941e-002, 4.71598828e-002, 3.07013339e-004, 3.38637508e-004,\n",
       "       2.62522934e-007, 3.45447606e-011, 6.16160387e-016, 9.50889585e-001,\n",
       "       3.11277089e-007, 3.32562799e-004, 4.54491476e-002, 2.71452458e-007,\n",
       "       1.31902385e-021, 4.12423089e-028, 3.20429153e-004, 3.80123276e-011,\n",
       "       1.77092716e-035, 6.08681502e-016, 1.31709134e-021, 4.19586835e-028,\n",
       "       2.99624932e-007, 9.64268681e-044, 3.28498901e-011, 3.47110259e-011,\n",
       "       5.94896177e-016, 6.79513350e-053, 1.28596779e-021, 6.13181664e-016,\n",
       "       4.29147968e-028, 2.80012813e-007, 1.40721971e-021, 7.17450248e-063,\n",
       "       4.03915698e-028, 1.77700722e-035, 9.97442177e-044, 7.22995372e-053,\n",
       "       1.71482030e-035, 1.00287915e-073, 7.00314720e-063, 9.22323026e-044,\n",
       "       7.83708175e-053, 1.99728359e-085, 5.16107980e-098, 7.75917688e-063,\n",
       "       1.72764811e-111, 3.58844733e-011, 1.58765449e-035, 1.00162091e-073,\n",
       "       9.87587217e-044, 6.23381930e-016, 7.06962520e-053, 7.88493348e-063,\n",
       "       1.27877380e-021, 3.99927299e-028, 1.68812923e-035, 8.26558153e-126,\n",
       "       1.10260268e-073, 1.03684178e-073, 5.09059424e-141, 4.33348645e-157,\n",
       "       4.71822737e-174, 7.98106050e-192, 1.57487508e-210, 1.94388422e-085,\n",
       "       9.48347019e-044, 1.88330734e-085, 7.11154633e-053, 4.61821865e-098,\n",
       "       4.61078715e-098, 7.08448065e-063, 4.54878406e-230, 1.64569210e-111,\n",
       "       1.67748947e-111, 1.91274727e-085, 7.96826506e-126, 4.63243776e-098,\n",
       "       1.01330886e-073, 1.84969247e-250, 9.40770073e-272, 1.87549322e-085,\n",
       "       4.60266745e-141, 4.36450015e-157, 1.68039867e-111, 7.69163687e-126,\n",
       "       5.17344608e-098, 1.73540351e-111, 8.06101689e-126, 7.25454047e-126])"
      ]
     },
     "execution_count": 46,
     "metadata": {},
     "output_type": "execute_result"
    }
   ],
   "source": [
    "np.array(ef)[0]"
   ]
  },
  {
   "cell_type": "code",
   "execution_count": 47,
   "metadata": {},
   "outputs": [],
   "source": [
    "cef = sess.run(effects_three)"
   ]
  },
  {
   "cell_type": "code",
   "execution_count": 50,
   "metadata": {},
   "outputs": [],
   "source": [
    "eone = sess.run(test[1])"
   ]
  },
  {
   "cell_type": "code",
   "execution_count": 53,
   "metadata": {},
   "outputs": [],
   "source": [
    "ceone = sess.run(effects_one)"
   ]
  },
  {
   "cell_type": "code",
   "execution_count": 56,
   "metadata": {},
   "outputs": [
    {
     "data": {
      "text/plain": [
       "array([0.38520803, 0.33582183])"
      ]
     },
     "execution_count": 56,
     "metadata": {},
     "output_type": "execute_result"
    }
   ],
   "source": [
    "rhos[0]"
   ]
  },
  {
   "cell_type": "code",
   "execution_count": 55,
   "metadata": {},
   "outputs": [
    {
     "data": {
      "text/plain": [
       "array([3.85208027, 3.35821831])"
      ]
     },
     "execution_count": 55,
     "metadata": {},
     "output_type": "execute_result"
    }
   ],
   "source": [
    "np.array(ceone)[0]"
   ]
  },
  {
   "cell_type": "code",
   "execution_count": 52,
   "metadata": {},
   "outputs": [
    {
     "data": {
      "text/plain": [
       "array([[3.85208027, 3.35821831],\n",
       "       [3.85208027, 3.35821831],\n",
       "       [3.85208027, 3.35821831],\n",
       "       [3.85208027, 3.35821831],\n",
       "       [3.85208027, 3.35821831],\n",
       "       [3.85208027, 3.35821831],\n",
       "       [3.85208027, 3.35821831],\n",
       "       [3.85208027, 3.35821831],\n",
       "       [3.85208027, 3.35821831],\n",
       "       [3.85208027, 3.35821831],\n",
       "       [3.85208027, 3.35821831],\n",
       "       [3.85208027, 3.35821831],\n",
       "       [3.85208027, 3.35821831],\n",
       "       [3.85208027, 3.35821831],\n",
       "       [3.85208027, 3.35821831],\n",
       "       [3.85208027, 3.35821831],\n",
       "       [3.85208027, 3.35821831],\n",
       "       [3.85208027, 3.35821831],\n",
       "       [3.85208027, 3.35821831],\n",
       "       [3.85208027, 3.35821831],\n",
       "       [3.85208027, 3.35821831],\n",
       "       [3.85208027, 3.35821831],\n",
       "       [3.85208027, 3.35821831],\n",
       "       [3.85208027, 3.35821831],\n",
       "       [3.85208027, 3.35821831],\n",
       "       [3.85208027, 3.35821831],\n",
       "       [3.85208027, 3.35821831],\n",
       "       [3.85208027, 3.35821831],\n",
       "       [3.85208027, 3.35821831],\n",
       "       [3.85208027, 3.35821831],\n",
       "       [3.85208027, 3.35821831],\n",
       "       [3.85208027, 3.35821831],\n",
       "       [3.85208027, 3.35821831],\n",
       "       [3.85208027, 3.35821831],\n",
       "       [3.85208027, 3.35821831],\n",
       "       [3.85208027, 3.35821831],\n",
       "       [3.85208027, 3.35821831],\n",
       "       [3.85208027, 3.35821831],\n",
       "       [3.85208027, 3.35821831],\n",
       "       [3.85208027, 3.35821831],\n",
       "       [3.85208027, 3.35821831],\n",
       "       [3.85208027, 3.35821831],\n",
       "       [3.85208027, 3.35821831],\n",
       "       [3.85208027, 3.35821831],\n",
       "       [3.85208027, 3.35821831],\n",
       "       [3.85208027, 3.35821831],\n",
       "       [3.85208027, 3.35821831],\n",
       "       [3.85208027, 3.35821831],\n",
       "       [3.85208027, 3.35821831],\n",
       "       [3.85208027, 3.35821831],\n",
       "       [3.85208027, 3.35821831],\n",
       "       [3.85208027, 3.35821831],\n",
       "       [3.85208027, 3.35821831],\n",
       "       [3.85208027, 3.35821831],\n",
       "       [3.85208027, 3.35821831],\n",
       "       [3.85208027, 3.35821831],\n",
       "       [3.85208027, 3.35821831],\n",
       "       [3.85208027, 3.35821831],\n",
       "       [3.85208027, 3.35821831],\n",
       "       [3.85208027, 3.35821831],\n",
       "       [3.85208027, 3.35821831],\n",
       "       [3.85208027, 3.35821831],\n",
       "       [3.85208027, 3.35821831],\n",
       "       [3.85208027, 3.35821831],\n",
       "       [3.85208027, 3.35821831],\n",
       "       [3.85208027, 3.35821831],\n",
       "       [3.85208027, 3.35821831],\n",
       "       [3.85208027, 3.35821831],\n",
       "       [3.85208027, 3.35821831],\n",
       "       [3.85208027, 3.35821831],\n",
       "       [3.85208027, 3.35821831],\n",
       "       [3.85208027, 3.35821831],\n",
       "       [3.85208027, 3.35821831],\n",
       "       [3.85208027, 3.35821831],\n",
       "       [3.85208027, 3.35821831],\n",
       "       [3.85208027, 3.35821831],\n",
       "       [3.85208027, 3.35821831],\n",
       "       [3.85208027, 3.35821831],\n",
       "       [3.85208027, 3.35821831],\n",
       "       [3.85208027, 3.35821831],\n",
       "       [3.85208027, 3.35821831],\n",
       "       [3.85208027, 3.35821831],\n",
       "       [3.85208027, 3.35821831],\n",
       "       [3.85208027, 3.35821831],\n",
       "       [3.85208027, 3.35821831],\n",
       "       [3.85208027, 3.35821831],\n",
       "       [3.85208027, 3.35821831],\n",
       "       [3.85208027, 3.35821831],\n",
       "       [3.85208027, 3.35821831],\n",
       "       [3.85208027, 3.35821831],\n",
       "       [3.85208027, 3.35821831],\n",
       "       [3.85208027, 3.35821831],\n",
       "       [3.85208027, 3.35821831],\n",
       "       [3.85208027, 3.35821831],\n",
       "       [3.85208027, 3.35821831],\n",
       "       [3.85208027, 3.35821831],\n",
       "       [3.85208027, 3.35821831],\n",
       "       [3.85208027, 3.35821831],\n",
       "       [3.85208027, 3.35821831],\n",
       "       [3.85208027, 3.35821831]])"
      ]
     },
     "execution_count": 52,
     "metadata": {},
     "output_type": "execute_result"
    }
   ],
   "source": [
    "np.array(eone)[0]"
   ]
  },
  {
   "cell_type": "code",
   "execution_count": 60,
   "metadata": {},
   "outputs": [],
   "source": [
    "eff = sess.run(effects_four)"
   ]
  },
  {
   "cell_type": "code",
   "execution_count": 61,
   "metadata": {},
   "outputs": [
    {
     "data": {
      "text/plain": [
       "array([2.61161526e+000, 9.11904516e-001, 2.62467820e+000, 2.44816333e+000,\n",
       "       9.79957842e-001, 2.59757154e+000, 2.56848822e+000, 4.66262582e-002,\n",
       "       9.99542392e-001, 4.77759216e-002, 3.20653571e-004, 9.36039750e-001,\n",
       "       4.88592941e-002, 4.71598828e-002, 3.07013339e-004, 3.38637508e-004,\n",
       "       2.62522934e-007, 3.45447606e-011, 6.16160387e-016, 9.50889585e-001,\n",
       "       3.11277089e-007, 3.32562799e-004, 4.54491476e-002, 2.71452458e-007,\n",
       "       1.31902385e-021, 4.12423089e-028, 3.20429153e-004, 3.80123276e-011,\n",
       "       1.77092716e-035, 6.08681502e-016, 1.31709134e-021, 4.19586835e-028,\n",
       "       2.99624932e-007, 9.64268681e-044, 3.28498901e-011, 3.47110259e-011,\n",
       "       5.94896177e-016, 6.79513350e-053, 1.28596779e-021, 6.13181664e-016,\n",
       "       4.29147968e-028, 2.80012813e-007, 1.40721971e-021, 7.17450248e-063,\n",
       "       4.03915698e-028, 1.77700722e-035, 9.97442177e-044, 7.22995372e-053,\n",
       "       1.71482030e-035, 1.00287915e-073, 7.00314720e-063, 9.22323026e-044,\n",
       "       7.83708175e-053, 1.99728359e-085, 5.16107980e-098, 7.75917688e-063,\n",
       "       1.72764811e-111, 3.58844733e-011, 1.58765449e-035, 1.00162091e-073,\n",
       "       9.87587217e-044, 6.23381930e-016, 7.06962520e-053, 7.88493348e-063,\n",
       "       1.27877380e-021, 3.99927299e-028, 1.68812923e-035, 8.26558153e-126,\n",
       "       1.10260268e-073, 1.03684178e-073, 5.09059424e-141, 4.33348645e-157,\n",
       "       4.71822737e-174, 7.98106050e-192, 1.57487508e-210, 1.94388422e-085,\n",
       "       9.48347019e-044, 1.88330734e-085, 7.11154633e-053, 4.61821865e-098,\n",
       "       4.61078715e-098, 7.08448065e-063, 4.54878406e-230, 1.64569210e-111,\n",
       "       1.67748947e-111, 1.91274727e-085, 7.96826506e-126, 4.63243776e-098,\n",
       "       1.01330886e-073, 1.84969247e-250, 9.40770073e-272, 1.87549322e-085,\n",
       "       4.60266745e-141, 4.36450015e-157, 1.68039867e-111, 7.69163687e-126,\n",
       "       5.17344608e-098, 1.73540351e-111, 8.06101689e-126, 7.25454047e-126])"
      ]
     },
     "execution_count": 61,
     "metadata": {},
     "output_type": "execute_result"
    }
   ],
   "source": [
    "np.array(eff)[0]"
   ]
  },
  {
   "cell_type": "code",
   "execution_count": null,
   "metadata": {},
   "outputs": [],
   "source": []
  }
 ],
 "metadata": {
  "kernelspec": {
   "display_name": "Python 3",
   "language": "python",
   "name": "python3"
  },
  "language_info": {
   "codemirror_mode": {
    "name": "ipython",
    "version": 3
   },
   "file_extension": ".py",
   "mimetype": "text/x-python",
   "name": "python",
   "nbconvert_exporter": "python",
   "pygments_lexer": "ipython3",
   "version": "3.6.8"
  }
 },
 "nbformat": 4,
 "nbformat_minor": 2
}
