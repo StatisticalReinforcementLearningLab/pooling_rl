{
 "cells": [
  {
   "cell_type": "code",
   "execution_count": 1,
   "metadata": {},
   "outputs": [],
   "source": [
    "##get data\n",
    "import numpy as np\n",
    "import sys\n",
    "sys.path\n",
    "sys.path.append('../models')\n",
    "import pickle\n",
    "import math\n",
    "import tensorflow as tf\n",
    "import gpflow\n",
    "import random"
   ]
  },
  {
   "cell_type": "code",
   "execution_count": 2,
   "metadata": {},
   "outputs": [],
   "source": [
    "##set grid\n",
    "u1 = np.arange(.1,1.1,.1)\n",
    "u2 = np.arange(.1,1.1,.1)\n",
    "rho = np.arange(.8,1.1,.05)"
   ]
  },
  {
   "cell_type": "code",
   "execution_count": 3,
   "metadata": {},
   "outputs": [],
   "source": [
    "v1 = np.arange(1,10,1)\n",
    "v2 = np.arange(10,10,1)"
   ]
  },
  {
   "cell_type": "code",
   "execution_count": 4,
   "metadata": {},
   "outputs": [],
   "source": [
    "\n",
    "noise = np.arange(400.0,500.0,100.0)\n"
   ]
  },
  {
   "cell_type": "code",
   "execution_count": 5,
   "metadata": {},
   "outputs": [],
   "source": [
    "with open('../../Downloads/processed_data_for_gridsearch_GP_onehot_random.pkl','rb') as f:\n",
    "    data = pickle.load(f)\n",
    "    "
   ]
  },
  {
   "cell_type": "code",
   "execution_count": 6,
   "metadata": {},
   "outputs": [],
   "source": [
    "X=data[0]\n",
    "y=data[1]"
   ]
  },
  {
   "cell_type": "code",
   "execution_count": 7,
   "metadata": {},
   "outputs": [],
   "source": [
    "def rbf_custom_np( X, X2=None):\n",
    "        #print(X)\n",
    "        #print(X2)\n",
    "        if X2 is None:\n",
    "             X2=X\n",
    "        return math.exp(-((X-X2)**2)/1.0)\n",
    "        #tf.divide(tf.square(-tf.subtract(X,X2)),tf.constant(1.0,dtype=tf.float64)))\n"
   ]
  },
  {
   "cell_type": "code",
   "execution_count": 8,
   "metadata": {},
   "outputs": [],
   "source": [
    "import CustomKernelStatic\n"
   ]
  },
  {
   "cell_type": "code",
   "execution_count": 51,
   "metadata": {},
   "outputs": [
    {
     "data": {
      "text/plain": [
       "[-0.0, 4.0, 37.0]"
      ]
     },
     "execution_count": 51,
     "metadata": {},
     "output_type": "execute_result"
    }
   ],
   "source": [
    "X[900][-3:]"
   ]
  },
  {
   "cell_type": "code",
   "execution_count": 9,
   "metadata": {},
   "outputs": [],
   "source": [
    "def get_likelihood(u1,u2,s1,s2,rho,noise,X,y,rhos,users):\n",
    "    sess = tf.Session()\n",
    "    k =  CustomKernelStatic.CustomKernelStatic(194,mysession=sess,rhos=rhos,select_users=users,baseline_indices=[i for i in range(192)],\\\n",
    "                  psi_indices=[0,64],user_day_index=193,user_index=192,num_data_points=len(X),initial_u1=u1,initial_u2=u2,\\\n",
    "                           initial_s1=s1,initial_s2=s2,initial_rho=rho,initial_noise=noise)\n",
    "  \n",
    "    m = gpflow.models.GPR(X,y, kern=k)\n",
    "    m.initialize(session=sess)\n",
    " \n",
    "    try:\n",
    "        l =m.compute_log_likelihood()\n",
    "        print('huzzah')\n",
    "        print(l)\n",
    "    except:\n",
    "        l=-100\n",
    "        print('not huzzah not')\n",
    "        print(l)\n",
    "    sess.close()\n",
    "    return l\n",
    "    ##get likelihood #return likelihood"
   ]
  },
  {
   "cell_type": "code",
   "execution_count": 10,
   "metadata": {},
   "outputs": [],
   "source": [
    "def run():\n",
    "    to_save = {}\n",
    "    u1 = np.arange(.1,1.1,.1)\n",
    "    u2 = np.arange(.1,1.1,.1)\n",
    "    first_rhos = np.arange(.8,1.1,.05)\n",
    "    v1 = np.arange(1,10,1)\n",
    "    v2 = np.arange(1,10,1)\n",
    "    \n",
    "    noise = np.arange(400.0,600.0,100.0)\n",
    "    \n",
    "    with open('../../Downloads/processed_data_for_gridsearch_GP_onehot.pkl','rb') as f:\n",
    "        data = pickle.load(f)\n",
    "    \n",
    "    X=data[0]\n",
    "    y=data[1]\n",
    "    #for x in X:\n",
    "        #x[0]=1+random.random()/.01\n",
    "   # for x in X:\n",
    "       # x[6]=1+random.random()/.01\n",
    "    newX = []\n",
    "    for x in X:\n",
    "        newX.append(np.array([float(i) for i in x]))\n",
    "    newX=np.array(newX)\n",
    "    \n",
    "    rdayone = [x[193] for x in newX]\n",
    "    rdaytwo = rdayone\n",
    "    rhos = np.array([[rbf_custom_np( rdayone[i], X2=rdaytwo[j]) for j in range(len(X))] for i in range(len(X))])\n",
    "    users = np.array([[float(newX[i][192]==newX[j][192]) for j in range(len(X))] for i in range(len(X))])\n",
    "    \n",
    "    print(X.shape)\n",
    "    print(y.shape)\n",
    "    print(len(set(X[:,0])))\n",
    "    for uone in u1:\n",
    "        for utwo in u2:\n",
    "            for rho in first_rhos:\n",
    "                for s1 in v1:\n",
    "                    for s2 in v2:\n",
    "                        for n in noise:\n",
    "                            likli=get_likelihood(uone,uone,s1,s2,rho,n,newX,y,rhos,users)\n",
    "                             \n",
    "                            key = '-'.join([str(i) for i in[uone,utwo,rho,s1,s2,n]])\n",
    "                            to_save[key]=likli\n",
    "                            \n",
    "    return to_save"
   ]
  },
  {
   "cell_type": "code",
   "execution_count": 13,
   "metadata": {},
   "outputs": [],
   "source": [
    " #run()\n",
    "    "
   ]
  },
  {
   "cell_type": "code",
   "execution_count": 13,
   "metadata": {},
   "outputs": [],
   "source": [
    "    X=data[0]\n",
    "    y=data[1]\n",
    "    for x in X:\n",
    "        x[0]=1+random.random()\n",
    "    for x in X:\n",
    "        x[6]=1+random.random()"
   ]
  },
  {
   "cell_type": "code",
   "execution_count": 11,
   "metadata": {},
   "outputs": [],
   "source": [
    "newX = []\n",
    "for x in X:\n",
    "    newX.append(np.array([float(i) for i in x]))\n",
    "newX=np.array(newX)\n",
    "#newX=newX.astype(float)\n"
   ]
  },
  {
   "cell_type": "code",
   "execution_count": 12,
   "metadata": {},
   "outputs": [],
   "source": [
    "    rdayone = [x[193] for x in newX]\n",
    "    rdaytwo = rdayone\n",
    "    rhos = np.array([[rbf_custom_np( rdayone[i], X2=rdaytwo[j]) for j in range(len(X))] for i in range(len(X))])\n",
    "    users = np.array([[float(newX[i][192]==newX[j][192]) for j in range(len(X))] for i in range(len(X))])\n",
    "    "
   ]
  },
  {
   "cell_type": "code",
   "execution_count": 85,
   "metadata": {},
   "outputs": [
    {
     "data": {
      "text/plain": [
       "{numpy.float64}"
      ]
     },
     "execution_count": 85,
     "metadata": {},
     "output_type": "execute_result"
    }
   ],
   "source": [
    "set([type(y[i][0]) for i in range(len(y))])"
   ]
  },
  {
   "cell_type": "code",
   "execution_count": 86,
   "metadata": {},
   "outputs": [
    {
     "data": {
      "text/plain": [
       "{numpy.float64}"
      ]
     },
     "execution_count": 86,
     "metadata": {},
     "output_type": "execute_result"
    }
   ],
   "source": [
    "set([type(i) for i in newX[0]])"
   ]
  },
  {
   "cell_type": "code",
   "execution_count": 93,
   "metadata": {},
   "outputs": [
    {
     "data": {
      "text/plain": [
       "numpy.int64"
      ]
     },
     "execution_count": 93,
     "metadata": {},
     "output_type": "execute_result"
    }
   ],
   "source": [
    "type(noise[0])"
   ]
  },
  {
   "cell_type": "code",
   "execution_count": 13,
   "metadata": {},
   "outputs": [
    {
     "name": "stderr",
     "output_type": "stream",
     "text": [
      "WARNING:gpflow.logdensities:Shape of x must be 2D at computation.\n",
      "WARNING:gpflow.logdensities:Shape of mu may be unknown or not 2D.\n"
     ]
    }
   ],
   "source": [
    "    sess = tf.Session()\n",
    "    k =  CustomKernelStatic.CustomKernelStatic(194,mysession=sess,rhos=rhos,select_users=users,baseline_indices=[i for i in range(192)],\\\n",
    "                  psi_indices=[0,64],user_day_index=193,user_index=192,num_data_points=len(X),initial_u1=u1[0],initial_u2=u2[0],\\\n",
    "                           initial_s1=v1[0],initial_s2=20,initial_rho=rho[0],initial_noise=noise[0])\n",
    "  \n",
    "    m = gpflow.models.GPR(newX,y, kern=k)\n",
    "    m.initialize(session=sess)"
   ]
  },
  {
   "cell_type": "code",
   "execution_count": 14,
   "metadata": {},
   "outputs": [],
   "source": [
    "gpflow.train.ScipyOptimizer().minimize(m,session=sess)\n",
    "lik=m.compute_log_likelihood()\n",
    "\n"
   ]
  },
  {
   "cell_type": "code",
   "execution_count": 15,
   "metadata": {},
   "outputs": [
    {
     "data": {
      "text/plain": [
       "array(24492.49426332)"
      ]
     },
     "execution_count": 15,
     "metadata": {},
     "output_type": "execute_result"
    }
   ],
   "source": [
    "m.kern.sigma_u1.value"
   ]
  },
  {
   "cell_type": "code",
   "execution_count": 16,
   "metadata": {},
   "outputs": [
    {
     "data": {
      "text/plain": [
       "array(2231.29672266)"
      ]
     },
     "execution_count": 16,
     "metadata": {},
     "output_type": "execute_result"
    }
   ],
   "source": [
    "m.kern.sigma_u2.value"
   ]
  },
  {
   "cell_type": "code",
   "execution_count": 17,
   "metadata": {},
   "outputs": [
    {
     "data": {
      "text/plain": [
       "array([[[5.21906177e+02, 0.00000000e+00],\n",
       "        [0.00000000e+00, 1.00000000e-06]]])"
      ]
     },
     "execution_count": 17,
     "metadata": {},
     "output_type": "execute_result"
    }
   ],
   "source": [
    "m.kern.sigma_v.value"
   ]
  },
  {
   "cell_type": "code",
   "execution_count": 18,
   "metadata": {},
   "outputs": [
    {
     "data": {
      "text/plain": [
       "array(2.)"
      ]
     },
     "execution_count": 18,
     "metadata": {},
     "output_type": "execute_result"
    }
   ],
   "source": [
    "m.kern.sigma_rho.value"
   ]
  },
  {
   "cell_type": "code",
   "execution_count": 19,
   "metadata": {},
   "outputs": [
    {
     "data": {
      "text/plain": [
       "array(95224.65812823)"
      ]
     },
     "execution_count": 19,
     "metadata": {},
     "output_type": "execute_result"
    }
   ],
   "source": [
    "m.kern.noise_term.value"
   ]
  },
  {
   "cell_type": "code",
   "execution_count": 22,
   "metadata": {},
   "outputs": [
    {
     "data": {
      "text/plain": [
       "array([[24492.49426332,  7392.56533143],\n",
       "       [ 7392.56533143,  2231.29672266]])"
      ]
     },
     "execution_count": 22,
     "metadata": {},
     "output_type": "execute_result"
    }
   ],
   "source": [
    "get_sigma_u(24492.49426332,2231.29672266,2)"
   ]
  },
  {
   "cell_type": "code",
   "execution_count": 21,
   "metadata": {},
   "outputs": [],
   "source": [
    "def get_sigma_u(u1,u2,rho):\n",
    "    off_diagaonal_term = u1**.5*u2**.5*(rho-1)\n",
    "    return np.array([[u1,off_diagaonal_term],[off_diagaonal_term,u2]])"
   ]
  },
  {
   "cell_type": "code",
   "execution_count": 15,
   "metadata": {},
   "outputs": [
    {
     "ename": "NameError",
     "evalue": "name 'sess' is not defined",
     "output_type": "error",
     "traceback": [
      "\u001b[0;31m---------------------------------------------------------------------------\u001b[0m",
      "\u001b[0;31mNameError\u001b[0m                                 Traceback (most recent call last)",
      "\u001b[0;32m<ipython-input-15-e1e23f5baa4c>\u001b[0m in \u001b[0;36m<module>\u001b[0;34m\u001b[0m\n\u001b[0;32m----> 1\u001b[0;31m \u001b[0msess\u001b[0m\u001b[0;34m.\u001b[0m\u001b[0mclose\u001b[0m\u001b[0;34m(\u001b[0m\u001b[0;34m)\u001b[0m\u001b[0;34m\u001b[0m\u001b[0;34m\u001b[0m\u001b[0m\n\u001b[0m",
      "\u001b[0;31mNameError\u001b[0m: name 'sess' is not defined"
     ]
    }
   ],
   "source": [
    "sess.close()"
   ]
  },
  {
   "cell_type": "code",
   "execution_count": 22,
   "metadata": {},
   "outputs": [
    {
     "data": {
      "text/plain": [
       "-1263332.3926229083"
      ]
     },
     "execution_count": 22,
     "metadata": {},
     "output_type": "execute_result"
    }
   ],
   "source": [
    "lik"
   ]
  },
  {
   "cell_type": "code",
   "execution_count": 98,
   "metadata": {},
   "outputs": [
    {
     "data": {
      "text/plain": [
       "-2450425.7153464314"
      ]
     },
     "execution_count": 98,
     "metadata": {},
     "output_type": "execute_result"
    }
   ],
   "source": [
    "lik"
   ]
  },
  {
   "cell_type": "code",
   "execution_count": 23,
   "metadata": {},
   "outputs": [
    {
     "data": {
      "text/plain": [
       "-1269271.1689228236"
      ]
     },
     "execution_count": 23,
     "metadata": {},
     "output_type": "execute_result"
    }
   ],
   "source": [
    "lik\n"
   ]
  },
  {
   "cell_type": "code",
   "execution_count": 49,
   "metadata": {},
   "outputs": [],
   "source": [
    "for x in X:\n",
    "    x[0]=1\n",
    "\n"
   ]
  },
  {
   "cell_type": "code",
   "execution_count": 103,
   "metadata": {},
   "outputs": [
    {
     "data": {
      "text/plain": [
       "407.30819143947593"
      ]
     },
     "execution_count": 103,
     "metadata": {},
     "output_type": "execute_result"
    }
   ],
   "source": [
    "np.array([yy[0] for yy in y]).std()"
   ]
  },
  {
   "cell_type": "code",
   "execution_count": 91,
   "metadata": {},
   "outputs": [
    {
     "name": "stdout",
     "output_type": "stream",
     "text": [
      "0\n",
      "1\n",
      "\n",
      "\n",
      "1\n",
      "2\n",
      "\n",
      "\n",
      "2\n",
      "2\n",
      "\n",
      "\n",
      "3\n",
      "4\n",
      "\n",
      "\n",
      "4\n",
      "2\n",
      "\n",
      "\n",
      "5\n",
      "2\n",
      "\n",
      "\n",
      "6\n",
      "1\n",
      "\n",
      "\n",
      "7\n",
      "2\n",
      "\n",
      "\n",
      "8\n",
      "2\n",
      "\n",
      "\n",
      "9\n",
      "4\n",
      "\n",
      "\n",
      "10\n",
      "2\n",
      "\n",
      "\n",
      "11\n",
      "2\n",
      "\n",
      "\n",
      "12\n",
      "2\n",
      "\n",
      "\n",
      "13\n",
      "3\n",
      "\n",
      "\n",
      "14\n",
      "3\n",
      "\n",
      "\n",
      "15\n",
      "7\n",
      "\n",
      "\n",
      "16\n",
      "3\n",
      "\n",
      "\n",
      "17\n",
      "3\n",
      "\n",
      "\n",
      "18\n",
      "36\n",
      "\n",
      "\n",
      "19\n",
      "62\n",
      "\n",
      "\n"
     ]
    }
   ],
   "source": [
    "for i in range(len(X[0])):\n",
    "    print(i)\n",
    "    print(len(set(X[:,i])))\n",
    "    print('\\n')"
   ]
  },
  {
   "cell_type": "code",
   "execution_count": 24,
   "metadata": {},
   "outputs": [
    {
     "ename": "TypeError",
     "evalue": "object of type 'NoneType' has no len()",
     "output_type": "error",
     "traceback": [
      "\u001b[0;31m---------------------------------------------------------------------------\u001b[0m",
      "\u001b[0;31mTypeError\u001b[0m                                 Traceback (most recent call last)",
      "\u001b[0;32m<ipython-input-24-44bdbe629696>\u001b[0m in \u001b[0;36m<module>\u001b[0;34m\u001b[0m\n\u001b[0;32m----> 1\u001b[0;31m \u001b[0mm\u001b[0m \u001b[0;34m=\u001b[0m \u001b[0mnp\u001b[0m\u001b[0;34m.\u001b[0m\u001b[0meye\u001b[0m\u001b[0;34m(\u001b[0m\u001b[0mlen\u001b[0m\u001b[0;34m(\u001b[0m\u001b[0;32mNone\u001b[0m\u001b[0;34m)\u001b[0m\u001b[0;34m)\u001b[0m\u001b[0;34m\u001b[0m\u001b[0;34m\u001b[0m\u001b[0m\n\u001b[0m\u001b[1;32m      2\u001b[0m \u001b[0mm\u001b[0m \u001b[0;34m=\u001b[0m \u001b[0mnp\u001b[0m\u001b[0;34m.\u001b[0m\u001b[0madd\u001b[0m\u001b[0;34m(\u001b[0m\u001b[0mm\u001b[0m\u001b[0;34m,\u001b[0m\u001b[0;36m.1\u001b[0m\u001b[0;34m)\u001b[0m\u001b[0;34m\u001b[0m\u001b[0;34m\u001b[0m\u001b[0m\n",
      "\u001b[0;31mTypeError\u001b[0m: object of type 'NoneType' has no len()"
     ]
    }
   ],
   "source": [
    "    m = np.eye(len(None))\n",
    "    m = np.add(m,.1)"
   ]
  },
  {
   "cell_type": "code",
   "execution_count": null,
   "metadata": {},
   "outputs": [],
   "source": []
  }
 ],
 "metadata": {
  "kernelspec": {
   "display_name": "Python 3",
   "language": "python",
   "name": "python3"
  },
  "language_info": {
   "codemirror_mode": {
    "name": "ipython",
    "version": 3
   },
   "file_extension": ".py",
   "mimetype": "text/x-python",
   "name": "python",
   "nbconvert_exporter": "python",
   "pygments_lexer": "ipython3",
   "version": "3.6.8"
  }
 },
 "nbformat": 4,
 "nbformat_minor": 2
}
