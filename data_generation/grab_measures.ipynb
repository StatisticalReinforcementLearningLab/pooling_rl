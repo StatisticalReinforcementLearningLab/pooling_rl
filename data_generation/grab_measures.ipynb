{
 "cells": [
  {
   "cell_type": "code",
   "execution_count": 40,
   "metadata": {
    "collapsed": true
   },
   "outputs": [],
   "source": [
    "import pandas as pd\n",
    "import pickle"
   ]
  },
  {
   "cell_type": "code",
   "execution_count": 7,
   "metadata": {
    "collapsed": true
   },
   "outputs": [],
   "source": [
    "\n",
    "root =  '../../../../Volumes/dav/HeartSteps/Data/'\n",
    "survey_file = 'Survey_Intake.csv'"
   ]
  },
  {
   "cell_type": "code",
   "execution_count": 45,
   "metadata": {
    "collapsed": false
   },
   "outputs": [],
   "source": [
    "to_write =  '../../../../Volumes/dav/HeartSteps/pooling_rl_shared_data/processed/'"
   ]
  },
  {
   "cell_type": "code",
   "execution_count": 10,
   "metadata": {
    "collapsed": false
   },
   "outputs": [],
   "source": [
    "def get_conscientiousness():\n",
    "    pass"
   ]
  },
  {
   "cell_type": "code",
   "execution_count": 11,
   "metadata": {
    "collapsed": false
   },
   "outputs": [],
   "source": [
    "def create_map():\n",
    "    slices = df.iloc[0]\n",
    "    the_map = {i:r for i,r in slices.iteritems()}\n",
    "    return the_map"
   ]
  },
  {
   "cell_type": "code",
   "execution_count": null,
   "metadata": {
    "collapsed": false
   },
   "outputs": [],
   "source": [
    "rootdf = pd.read_csv('{}{}'.format(root,survey_file))\n"
   ]
  },
  {
   "cell_type": "code",
   "execution_count": 12,
   "metadata": {
    "collapsed": false
   },
   "outputs": [],
   "source": [
    "df = pd.read_csv('{}{}'.format(root,survey_file))\n",
    "df = df.drop([0,1])\n",
    "df=df.rename(columns=create_map())\n",
    "df=df.drop([2])"
   ]
  },
  {
   "cell_type": "code",
   "execution_count": 14,
   "metadata": {
    "collapsed": false
   },
   "outputs": [],
   "source": [
    "start_consc = 'detail'\n",
    "end_consc = 'makeplans'"
   ]
  },
  {
   "cell_type": "code",
   "execution_count": 15,
   "metadata": {
    "collapsed": true
   },
   "outputs": [],
   "source": [
    "start_self_eff = 'selfeff.tired'\n",
    "end_self_eff = 'selfeff.precip'"
   ]
  },
  {
   "cell_type": "code",
   "execution_count": 16,
   "metadata": {
    "collapsed": true
   },
   "outputs": [],
   "source": [
    "start_act_choice = 'stairs'\n",
    "end_act_choice = 'stand'"
   ]
  },
  {
   "cell_type": "code",
   "execution_count": 22,
   "metadata": {
    "collapsed": true
   },
   "outputs": [],
   "source": [
    "def get_set(start,end):\n",
    "    c = [c for c in df.columns]\n",
    "    start_index = c.index(start)\n",
    "    end_index = c.index(end)\n",
    "    \n",
    "    return set([c[i] for i in range(len(c)) if i>=start_index and i<=end_index])"
   ]
  },
  {
   "cell_type": "code",
   "execution_count": 34,
   "metadata": {
    "collapsed": false
   },
   "outputs": [],
   "source": [
    "def get_measures_per_person(the_set):\n",
    "    to_return  = {}\n",
    "    \n",
    "    for i,row in df.iterrows():\n",
    "        if type(row['id'])==str:\n",
    "            temp = {s:row[s] for s in the_set}\n",
    "            theid = int(row['id'].split('test')[1])\n",
    "            to_return[theid]=temp\n",
    "    return to_return"
   ]
  },
  {
   "cell_type": "code",
   "execution_count": 46,
   "metadata": {
    "collapsed": false
   },
   "outputs": [],
   "source": [
    "consc = get_set(start_consc,end_consc)\n",
    "consc_measures  = get_measures_per_person(consc)\n",
    "with open('{}consciousness_measures.pkl'.format(to_write),'wb') as f:\n",
    "    pickle.dump(consc_measures,f)"
   ]
  },
  {
   "cell_type": "code",
   "execution_count": 47,
   "metadata": {
    "collapsed": false
   },
   "outputs": [],
   "source": [
    "consc = get_set(start_self_eff,end_self_eff)\n",
    "consc_measures  = get_measures_per_person(consc)\n",
    "with open('{}self_efficacy_measures.pkl'.format(to_write),'wb') as f:\n",
    "    pickle.dump(consc_measures,f)"
   ]
  },
  {
   "cell_type": "code",
   "execution_count": 48,
   "metadata": {
    "collapsed": false
   },
   "outputs": [],
   "source": [
    "consc = get_set(start_act_choice,end_act_choice)\n",
    "consc_measures  = get_measures_per_person(consc)\n",
    "with open('{}activity_choice_measures.pkl'.format(to_write),'wb') as f:\n",
    "    pickle.dump(consc_measures,f)"
   ]
  },
  {
   "cell_type": "code",
   "execution_count": null,
   "metadata": {
    "collapsed": false
   },
   "outputs": [],
   "source": []
  },
  {
   "cell_type": "code",
   "execution_count": null,
   "metadata": {
    "collapsed": true
   },
   "outputs": [],
   "source": []
  }
 ],
 "metadata": {
  "anaconda-cloud": {},
  "kernelspec": {
   "display_name": "Python [Root]",
   "language": "python",
   "name": "Python [Root]"
  }
 },
 "nbformat": 4,
 "nbformat_minor": 0
}
