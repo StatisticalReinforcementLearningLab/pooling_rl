{
 "cells": [
  {
   "cell_type": "code",
   "execution_count": 1,
   "metadata": {},
   "outputs": [],
   "source": [
    "import numpy as np\n",
    "from sklearn.linear_model import LinearRegression\n",
    "import pickle"
   ]
  },
  {
   "cell_type": "code",
   "execution_count": 2,
   "metadata": {},
   "outputs": [],
   "source": [
    "one = [0,0,0]\n",
    "two = [0,0,1]"
   ]
  },
  {
   "cell_type": "code",
   "execution_count": 40,
   "metadata": {},
   "outputs": [],
   "source": [
    "three = [0,1,1]\n",
    "four = [0,1,0]"
   ]
  },
  {
   "cell_type": "code",
   "execution_count": 21,
   "metadata": {},
   "outputs": [],
   "source": [
    "X = [one,two,three,four]\n",
    "y = [1,0,2,0]"
   ]
  },
  {
   "cell_type": "code",
   "execution_count": 32,
   "metadata": {},
   "outputs": [
    {
     "name": "stdout",
     "output_type": "stream",
     "text": [
      "[0.25 0.25 1.  ]\n",
      "1.1102230246251565e-16\n"
     ]
    }
   ],
   "source": [
    "reg = LinearRegression().fit(X, y)\n",
    "print(reg.coef_)\n",
    "print(reg.intercept_)\n",
    "gold = [reg.intercept_]+list(reg.coef_)"
   ]
  },
  {
   "cell_type": "code",
   "execution_count": 37,
   "metadata": {},
   "outputs": [],
   "source": [
    "def get_mse(sone,stwo):\n",
    "    return np.sqrt(sum([(sone[i]-stwo[i])**2 for i in range(len(sone))]))"
   ]
  },
  {
   "cell_type": "code",
   "execution_count": 35,
   "metadata": {},
   "outputs": [
    {
     "data": {
      "text/plain": [
       "[1.1102230246251565e-16,\n",
       " 0.24999999999999992,\n",
       " 0.24999999999999992,\n",
       " 0.9999999999999999]"
      ]
     },
     "execution_count": 35,
     "metadata": {},
     "output_type": "execute_result"
    }
   ],
   "source": [
    "gold"
   ]
  },
  {
   "cell_type": "code",
   "execution_count": 38,
   "metadata": {},
   "outputs": [
    {
     "name": "stdout",
     "output_type": "stream",
     "text": [
      "[0.25 0.25 1.  ]\n",
      "1.1102230246251565e-16\n",
      "0.0\n"
     ]
    }
   ],
   "source": [
    "X = X\n",
    "y = [.5,.5,2,0]\n",
    "reg = LinearRegression().fit(X, y)\n",
    "print(reg.coef_)\n",
    "print(reg.intercept_)\n",
    "ni = [reg.intercept_]+list(reg.coef_)\n",
    "#print(ni)\n",
    "print(get_mse(ni,gold))"
   ]
  },
  {
   "cell_type": "code",
   "execution_count": 41,
   "metadata": {},
   "outputs": [
    {
     "name": "stdout",
     "output_type": "stream",
     "text": [
      "[0.125 0.125 1.25 ]\n",
      "0.1250000000000001\n",
      "0.3307189138830737\n"
     ]
    }
   ],
   "source": [
    "X = X\n",
    "y = [.5,1,2,0]\n",
    "reg = LinearRegression().fit(X, y)\n",
    "print(reg.coef_)\n",
    "print(reg.intercept_)\n",
    "ni = [reg.intercept_]+list(reg.coef_)\n",
    "#print(ni)\n",
    "print(get_mse(ni,gold))"
   ]
  },
  {
   "cell_type": "code",
   "execution_count": null,
   "metadata": {},
   "outputs": [],
   "source": []
  }
 ],
 "metadata": {
  "kernelspec": {
   "display_name": "Python 3",
   "language": "python",
   "name": "python3"
  },
  "language_info": {
   "codemirror_mode": {
    "name": "ipython",
    "version": 3
   },
   "file_extension": ".py",
   "mimetype": "text/x-python",
   "name": "python",
   "nbconvert_exporter": "python",
   "pygments_lexer": "ipython3",
   "version": "3.6.8"
  }
 },
 "nbformat": 4,
 "nbformat_minor": 2
}
