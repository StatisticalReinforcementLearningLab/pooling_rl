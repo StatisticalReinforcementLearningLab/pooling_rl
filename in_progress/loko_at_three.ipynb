{
 "cells": [
  {
   "cell_type": "code",
   "execution_count": 1,
   "metadata": {},
   "outputs": [],
   "source": [
    "import numpy as np\n",
    "import pickle\n",
    "import matplotlib.pyplot as plt\n",
    "%matplotlib inline\n",
    "import pandas as pd\n",
    "import pandas as pd\n",
    "import sys\n",
    "sys.path\n",
    "sys.path.append('../models')\n",
    "sys.path.append('../simulation')\n",
    "import numpy as np\n",
    "import pickle\n",
    "import random\n",
    "import os\n",
    "import math\n",
    "import sim_functions_cleaner  as sf\n",
    "import operator\n",
    "import study"
   ]
  },
  {
   "cell_type": "code",
   "execution_count": 2,
   "metadata": {},
   "outputs": [],
   "source": [
    "#orig np.array([0.13747917218640332, -0.08988142,   0.11982505, -0.16109622, 0.10403158])\n",
    "coeffs =  np.array([0.05, 0.1,   -0.15,.1, -0.3, 0.15])\n",
    "#coeffs = np.array([0.13747917218640332, -0.08988142,   0.11982505, -0.16109622, 0.10403158])\n"
   ]
  },
  {
   "cell_type": "code",
   "execution_count": 1528,
   "metadata": {},
   "outputs": [],
   "source": [
    "#all_ys = [np.dot(coeffs.T,s) for s in data]"
   ]
  },
  {
   "cell_type": "code",
   "execution_count": 56,
   "metadata": {},
   "outputs": [],
   "source": [
    "coeffs = np.array([-0.00450962,  0.3400117 ,  0.34388982,  0.27559853, -0.39487572])\n",
    "#coeffs =  np.array([ 0.05,  0.25,  0.25,  0.25, -0.3])"
   ]
  },
  {
   "cell_type": "code",
   "execution_count": 4,
   "metadata": {},
   "outputs": [],
   "source": [
    "def reward_percent_correct_aciton(percent):\n",
    "    pass"
   ]
  },
  {
   "cell_type": "code",
   "execution_count": 50,
   "metadata": {},
   "outputs": [],
   "source": [
    "with open('../simulation/history_for_effect_case_three_sigdif.pkl','rb') as f:\n",
    "    experiment = pickle.load(f)\n",
    "    "
   ]
  },
  {
   "cell_type": "code",
   "execution_count": 44,
   "metadata": {},
   "outputs": [],
   "source": [
    "all_steps  = []\n",
    "all_act = []\n",
    "all_no_act = []\n",
    "for p in experiment.population.values():\n",
    "    # if  v['decision_time'] and v['avail'] \n",
    "    all_steps.extend([v['steps'] for k,v in p.history.items() if v['tod']!=2 ])\n",
    "    all_act.extend([v['steps'] for k,v in p.history.items() if v['tod']!=2 \\\n",
    "                    and v['decision_time'] and v['avail'] and v['action']==1])\n",
    "    all_no_act.extend([v['steps'] for k,v in p.history.items() if v['tod']!=2 \\\n",
    "                    and v['decision_time'] and v['avail'] and v['action']==0])"
   ]
  },
  {
   "cell_type": "code",
   "execution_count": 45,
   "metadata": {},
   "outputs": [
    {
     "name": "stdout",
     "output_type": "stream",
     "text": [
      "5.0768084675054475\n",
      "4.584019616558695\n",
      "5.0082042335348085\n"
     ]
    }
   ],
   "source": [
    "print(np.array(all_act).mean())\n",
    "print(np.array(all_no_act).mean())\n",
    "\n",
    "print(np.array(all_steps).mean())\n",
    "\n"
   ]
  },
  {
   "cell_type": "code",
   "execution_count": 46,
   "metadata": {},
   "outputs": [],
   "source": [
    "def get_all_states():\n",
    "    all_states = []\n",
    "    counts = {}\n",
    "    times = {}\n",
    "    for person,data in experiment.population.items():\n",
    "        h = data.history\n",
    "        for time,cd in h.items():\n",
    "            \n",
    "            if cd['avail'] and cd['decision_time']:\n",
    "                states = [1,cd['tod'],cd['dow'],cd['pretreatment'],cd['location']]\n",
    "                states = [int(s) for s in states]\n",
    "                optimal = int(np.dot(coeffs.T,states)+data.Z>=0)\n",
    "                if time not in times:\n",
    "                    times[time]=[]\n",
    "                times[time].append(optimal)\n",
    "                \n",
    "    return times"
   ]
  },
  {
   "cell_type": "code",
   "execution_count": 57,
   "metadata": {},
   "outputs": [],
   "source": [
    "s = get_all_states()\n"
   ]
  },
  {
   "cell_type": "code",
   "execution_count": 58,
   "metadata": {},
   "outputs": [],
   "source": [
    "ps = [sum(v)/len(v) for v in s.values()]"
   ]
  },
  {
   "cell_type": "code",
   "execution_count": 59,
   "metadata": {},
   "outputs": [
    {
     "data": {
      "text/plain": [
       "0.7552941176470588"
      ]
     },
     "execution_count": 59,
     "metadata": {},
     "output_type": "execute_result"
    }
   ],
   "source": [
    "sum([1 for i in ps if i>=.6 or i<=.4])/len(ps)"
   ]
  },
  {
   "cell_type": "code",
   "execution_count": 62,
   "metadata": {},
   "outputs": [],
   "source": [
    "def get_percent(coeffs,s,p):\n",
    "    average_add = []\n",
    "    for k,v in s.items():\n",
    "        state = [int(i) for i in k.split('-')]\n",
    "        add = np.dot(coeffs.T,state)\n",
    "        #print(add)\n",
    "        temp = [add if add>0 else 0 for i in range(int(v*p)) ]\n",
    "        temp_loss = [add if add<0 else 0 for i in range(int(v*(1-p))) ]\n",
    "        #print(len(temp))\n",
    "        #print(add)\n",
    "        #print(int(v*(1-p)))\n",
    "        #print(len(temp_loss))\n",
    "        \n",
    "        if p>0:\n",
    "            \n",
    "            average_add.extend(temp)\n",
    "        if p<1:\n",
    "            average_add.extend(temp_loss)\n",
    "    return np.array(average_add).mean()\n"
   ]
  },
  {
   "cell_type": "code",
   "execution_count": 63,
   "metadata": {},
   "outputs": [],
   "source": [
    "def get_adds(coeffs,s):\n",
    "    average_add = []\n",
    "    for k,v in s.items():\n",
    "        state = [int(i) for i in k.split('-')]\n",
    "        add = np.dot(coeffs.T,state)\n",
    "        \n",
    "            \n",
    "        average_add.extend([add for i in range(v)])\n",
    "     \n",
    "    adds =  np.array(average_add)\n",
    "    return len([ a for a in adds if a>0])/len(adds)\n"
   ]
  },
  {
   "cell_type": "code",
   "execution_count": 66,
   "metadata": {},
   "outputs": [],
   "source": [
    "adds = get_adds(coeffs,s)\n"
   ]
  },
  {
   "cell_type": "code",
   "execution_count": 1536,
   "metadata": {},
   "outputs": [],
   "source": [
    "perfect = get_percent(1)\n"
   ]
  },
  {
   "cell_type": "code",
   "execution_count": 1537,
   "metadata": {},
   "outputs": [],
   "source": [
    "terrible = get_percent(0)\n"
   ]
  },
  {
   "cell_type": "code",
   "execution_count": 1538,
   "metadata": {},
   "outputs": [
    {
     "data": {
      "text/plain": [
       "0.18160447761194026"
      ]
     },
     "execution_count": 1538,
     "metadata": {},
     "output_type": "execute_result"
    }
   ],
   "source": [
    "perfect-terrible\n"
   ]
  },
  {
   "cell_type": "code",
   "execution_count": 68,
   "metadata": {},
   "outputs": [
    {
     "data": {
      "text/plain": [
       "0.5757128356556243"
      ]
     },
     "execution_count": 68,
     "metadata": {},
     "output_type": "execute_result"
    }
   ],
   "source": [
    "##get percent optimal action for each case\n",
    "\n",
    "adds\n"
   ]
  },
  {
   "cell_type": "code",
   "execution_count": 1540,
   "metadata": {},
   "outputs": [
    {
     "data": {
      "text/plain": [
       "0.027422371866816314"
      ]
     },
     "execution_count": 1540,
     "metadata": {},
     "output_type": "execute_result"
    }
   ],
   "source": [
    "get_percent(.75)-get_percent(.6)\n"
   ]
  },
  {
   "cell_type": "code",
   "execution_count": 1511,
   "metadata": {},
   "outputs": [
    {
     "data": {
      "text/plain": [
       "0.15440516273849603"
      ]
     },
     "execution_count": 1511,
     "metadata": {},
     "output_type": "execute_result"
    }
   ],
   "source": [
    "get_percent(.60)"
   ]
  },
  {
   "cell_type": "code",
   "execution_count": 1526,
   "metadata": {},
   "outputs": [
    {
     "data": {
      "text/plain": [
       "{'1-0-0-1-0-0': 328,\n",
       " '1-0-0-1-1-0': 353,\n",
       " '1-1-0-1-1-0': 650,\n",
       " '1-1-0-1-0-0': 533,\n",
       " '1-0-0-1-0-1': 556,\n",
       " '1-1-0-1-1-1': 467,\n",
       " '1-1-0-1-0-1': 654,\n",
       " '1-0-0-1-1-1': 309,\n",
       " '1-0-1-1-1-1': 143,\n",
       " '1-0-1-1-0-1': 161,\n",
       " '1-1-1-1-0-1': 286,\n",
       " '1-1-1-1-1-0': 195,\n",
       " '1-0-1-1-0-0': 153,\n",
       " '1-0-1-1-1-0': 139,\n",
       " '1-1-1-1-0-0': 219,\n",
       " '1-1-1-1-1-1': 214}"
      ]
     },
     "execution_count": 1526,
     "metadata": {},
     "output_type": "execute_result"
    }
   ],
   "source": [
    "s"
   ]
  },
  {
   "cell_type": "code",
   "execution_count": 1543,
   "metadata": {},
   "outputs": [],
   "source": [
    "with open('../../Downloads/distributions/dists_anti_sedentary_4_4.pkl','rb') as f:\n",
    "    dists_sed = pickle.load(f)\n",
    "with open('../../Downloads/distributions/key_matches_anti_sedentary_4_4.pkl','rb') as f:\n",
    "    matches_sed = pickle.load(f)\n",
    "with open('../../Downloads/distributions/dists_activity_suggestion_4_4.pkl','rb') as f:\n",
    "    dists_act = pickle.load(f)\n",
    "with open('../../Downloads/distributions/key_matches_activity_suggestion_4_4.pkl','rb') as f:\n",
    "    matches_act = pickle.load(f)\n",
    "with open('../../Downloads/distributions/dists_base_4_4.pkl','rb') as f:\n",
    "    dists_base = pickle.load(f)\n",
    "with open('../../Downloads/distributions/key_matches_base_4_4.pkl','rb') as f:\n",
    "    matches_base = pickle.load(f)"
   ]
  },
  {
   "cell_type": "code",
   "execution_count": 1544,
   "metadata": {},
   "outputs": [],
   "source": [
    "def get_all_states():\n",
    "    gids = [1,2]\n",
    "    tod = [0,1]\n",
    "    dow  = [0,1]\n",
    "    pretreatment = [0,1]\n",
    "    temp = [0,1]\n",
    "    loc = [0,1]\n",
    "    \n",
    "    all_states = []\n",
    "    st = ['gid','tod','dow','wea','pre','loc']\n",
    "    \n",
    "    for g in gids:\n",
    "        for t in tod:\n",
    "            for d in dow:\n",
    "                for tp in temp:\n",
    "                    for p in pretreatment:\n",
    "                        for l in loc:\n",
    "                            all_states.append([g,t,d,tp,p,l])\n",
    "    all_keys = []\n",
    "    for s in all_states:\n",
    "        new_key = ['aint','1']\n",
    "        for i in range(len(s)):\n",
    "            new_key.append(st[i])\n",
    "            new_key.append(str(s[i]))\n",
    "        all_keys.append('-'.join(new_key))\n",
    "    return all_keys"
   ]
  },
  {
   "cell_type": "code",
   "execution_count": 1546,
   "metadata": {},
   "outputs": [
    {
     "data": {
      "text/plain": [
       "array([-3.00000000e-01, -2.50000000e-01, -2.00000000e-01, -1.50000000e-01,\n",
       "       -1.00000000e-01, -5.00000000e-02, -5.55111512e-17,  5.00000000e-02,\n",
       "        1.00000000e-01,  1.50000000e-01,  2.00000000e-01,  2.50000000e-01])"
      ]
     },
     "execution_count": 1546,
     "metadata": {},
     "output_type": "execute_result"
    }
   ],
   "source": [
    "np.arange(-.3,.3,.05)"
   ]
  },
  {
   "cell_type": "code",
   "execution_count": 47,
   "metadata": {},
   "outputs": [],
   "source": [
    "def get_dif(coeffs,states):\n",
    "    return get_percent(coeffs,s,.8)-get_percent(coeffs,s,.6)\n"
   ]
  },
  {
   "cell_type": "code",
   "execution_count": 41,
   "metadata": {},
   "outputs": [],
   "source": [
    "def find_max():\n",
    "    coeffs = np.array([0.05, 0.1,   -0.15,.1, -0.3, 0.15])\n",
    "    therange = np.arange(-.3,.3,.05)\n",
    "    maxval = -1 \n",
    "    found = None\n",
    "    avg=None\n",
    "    for tod_val in therange:\n",
    "        for dow_val in therange:\n",
    "            for weather_val in therange:\n",
    "                for preval in therange:\n",
    "                    for locval in therange:\n",
    "                        coeffs = np.array([0.05,tod_val,dow_val,weather_val,preval,locval])\n",
    "                        dif = get_dif(coeffs,s)\n",
    "                        avg_send = get_adds(coeffs,s)\n",
    "                        if dif>maxval and avg_send<.8 and avg_send>.4:\n",
    "                            maxval=dif\n",
    "                            found = coeffs\n",
    "                            avg = avg_send\n",
    "    return maxval,found,avg\n"
   ]
  },
  {
   "cell_type": "code",
   "execution_count": 42,
   "metadata": {},
   "outputs": [
    {
     "data": {
      "text/plain": [
       "(0.055273501017614746,\n",
       " array([ 0.05,  0.25, -0.3 ,  0.25,  0.25, -0.3 ]),\n",
       " 0.7753895912966774)"
      ]
     },
     "execution_count": 42,
     "metadata": {},
     "output_type": "execute_result"
    }
   ],
   "source": [
    "find_max()\n"
   ]
  },
  {
   "cell_type": "code",
   "execution_count": 1577,
   "metadata": {},
   "outputs": [
    {
     "data": {
      "text/plain": [
       "(0.042536475869809215,\n",
       " array([ 0.05,  0.2 , -0.2 ,  0.2 ,  0.2 , -0.3 ]),\n",
       " 0.7861940298507463)"
      ]
     },
     "execution_count": 1577,
     "metadata": {},
     "output_type": "execute_result"
    }
   ],
   "source": [
    "find_max()\n"
   ]
  },
  {
   "cell_type": "code",
   "execution_count": 49,
   "metadata": {},
   "outputs": [
    {
     "name": "stdout",
     "output_type": "stream",
     "text": [
      "0.08360848344997726\n",
      "0.8983681270214643\n"
     ]
    }
   ],
   "source": [
    "o=np.array([ 0.05,  0.2 ,  0.05,  0.25,  0.25, -0.3 ])\n",
    "print(get_dif(o,s))\n",
    "print(get_adds(o,s))\n"
   ]
  },
  {
   "cell_type": "code",
   "execution_count": 1599,
   "metadata": {},
   "outputs": [
    {
     "name": "stdout",
     "output_type": "stream",
     "text": [
      "0.037176051953289435\n",
      "0.6455223880597015\n"
     ]
    }
   ],
   "source": [
    "o=np.array([  0.05,  0.25, -0.25,   0.25, -0.3 ])\n",
    "print(get_dif(o,s))\n",
    "print(get_adds(o,s))"
   ]
  },
  {
   "cell_type": "code",
   "execution_count": 1603,
   "metadata": {},
   "outputs": [
    {
     "data": {
      "text/plain": [
       "(0.05194505088007151,\n",
       " array([ 0.05,  0.25,  0.25,  0.25, -0.3 ]),\n",
       " 0.7966417910447762)"
      ]
     },
     "execution_count": 1603,
     "metadata": {},
     "output_type": "execute_result"
    }
   ],
   "source": [
    "##no weather\n",
    "find_max()"
   ]
  },
  {
   "cell_type": "code",
   "execution_count": null,
   "metadata": {},
   "outputs": [],
   "source": [
    "def get_x_y(state_key):\n",
    "    root = matches_sed[ state_key]\n",
    "    mean_control = dists_sed[root][0]\n",
    "    other = matches_act[state_key]\n",
    "    mean_treatment = dists_act[other][0]\n",
    "    y = mean_treatment - mean_control \n",
    "    parts = state_key.split('-')\n",
    "    x = [1]\n",
    "    occurs = min( dists_sed[root][2],dists_act[other][2])\n",
    "\n",
    "    if True:\n",
    "    #len(root.split('-'))==14 and len(other.split('-'))==14:\n",
    "        #print(root)\n",
    "        #print(other)\n",
    "        print(state_key)\n",
    "        for i in range(5,len(parts),2):\n",
    "\n",
    "                x.append(int(parts[i]))\n",
    "        print(x)\n",
    "    return x,y,dists_sed[root][1],dists_act[other][1],occurs,root,other\n",
    "    "
   ]
  }
 ],
 "metadata": {
  "kernelspec": {
   "display_name": "Python 3",
   "language": "python",
   "name": "python3"
  },
  "language_info": {
   "codemirror_mode": {
    "name": "ipython",
    "version": 3
   },
   "file_extension": ".py",
   "mimetype": "text/x-python",
   "name": "python",
   "nbconvert_exporter": "python",
   "pygments_lexer": "ipython3",
   "version": "3.6.8"
  }
 },
 "nbformat": 4,
 "nbformat_minor": 2
}
