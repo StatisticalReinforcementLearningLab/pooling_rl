{
 "cells": [
  {
   "cell_type": "code",
   "execution_count": 1,
   "metadata": {},
   "outputs": [],
   "source": [
    "import numpy as np\n",
    "import pickle\n",
    "import matplotlib.pyplot as plt\n",
    "%matplotlib inline\n",
    "import pandas as pd"
   ]
  },
  {
   "cell_type": "code",
   "execution_count": 2,
   "metadata": {},
   "outputs": [],
   "source": [
    "with open('../../Downloads/distributions/dists_intervention_anti_sed_3_8.pkl','rb') as f:\n",
    "    dists_sed = pickle.load(f)\n",
    "with open('../../Downloads/distributions/key_matches_intervention_anti_sed_3_8.pkl','rb') as f:\n",
    "    matches_sed = pickle.load(f)\n",
    "with open('../../Downloads/distributions/dists_actsugg_3_8.pkl','rb') as f:\n",
    "    dists_act = pickle.load(f)\n",
    "with open('../../Downloads/distributions/key_matches_act_sugg_3_8.pkl','rb') as f:\n",
    "    matches_act = pickle.load(f)\n",
    "with open('../../Downloads/distributions/dists_base_3_8.pkl','rb') as f:\n",
    "    dists_base = pickle.load(f)\n",
    "with open('../../Downloads/distributions/key_matches_base_3_8.pkl','rb') as f:\n",
    "    matches_base = pickle.load(f)"
   ]
  },
  {
   "cell_type": "code",
   "execution_count": 87,
   "metadata": {},
   "outputs": [],
   "source": [
    "alls = []\n",
    "for k,v in matches_base.items():\n",
    "    if len(v.split('-'))==12:\n",
    "        if 'tod-2' not in v:\n",
    "            alls.append(dists_base[v][1])"
   ]
  },
  {
   "cell_type": "code",
   "execution_count": 88,
   "metadata": {},
   "outputs": [
    {
     "data": {
      "text/plain": [
       "0.9429981542767136"
      ]
     },
     "execution_count": 88,
     "metadata": {},
     "output_type": "execute_result"
    }
   ],
   "source": [
    "np.percentile(alls,50)"
   ]
  },
  {
   "cell_type": "code",
   "execution_count": 86,
   "metadata": {},
   "outputs": [
    {
     "data": {
      "text/plain": [
       "[0.0, 0.0, 0.0, 0.0, 0.0, 0.0, 0.0, 0.0]"
      ]
     },
     "execution_count": 86,
     "metadata": {},
     "output_type": "execute_result"
    }
   ],
   "source": [
    "alls"
   ]
  },
  {
   "cell_type": "code",
   "execution_count": 54,
   "metadata": {},
   "outputs": [],
   "source": [
    "def get_all_states():\n",
    "    gids = [1,2]\n",
    "    tod = [0,1]\n",
    "    dow  = [0,1]\n",
    "    pretreatment = [0,1]\n",
    "    temp = [0,1]\n",
    "    loc = [0,1]\n",
    "    \n",
    "    all_states = []\n",
    "    st = ['gid','tod','dow','wea','pre','loc']\n",
    "    \n",
    "    for g in gids:\n",
    "        for t in tod:\n",
    "            for d in dow:\n",
    "                for tp in temp:\n",
    "                    for p in pretreatment:\n",
    "                        for l in loc:\n",
    "                            all_states.append([g,t,d,tp,p,l])\n",
    "    all_keys = []\n",
    "    #new_keys = [['aint','1'],['aint','0']]\n",
    "    for s in all_states:\n",
    "        #for new_key in new_keys:\n",
    "            new_key = ['aint','1']\n",
    "            for i in range(len(s)):\n",
    "                new_key.append(st[i])\n",
    "                new_key.append(str(s[i]))\n",
    "            all_keys.append('-'.join(new_key))\n",
    "    return all_keys"
   ]
  },
  {
   "cell_type": "code",
   "execution_count": 96,
   "metadata": {},
   "outputs": [],
   "source": [
    "def get_x_y_check(state_key):\n",
    "    #root = matches_sed[state_key]\n",
    "    #mean_control = dists_sed[root][0]\n",
    "    \n",
    "    #treatment = 'aint-1-'+state_key\n",
    "    #control = 'aint-1-'+state_key\n",
    "    to_return =[]\n",
    "    if len(matches_sed[state_key].split('-'))==14 and 'tod-2' not in state_key:\n",
    "        print(matches_sed[state_key])\n",
    "        to_return.append(dists_sed[matches_sed[state_key]][1])\n",
    "    if len(matches_act[state_key].split('-'))==14:\n",
    "        to_return.append(dists_act[matches_act[state_key]][1])\n",
    "    \n",
    "    return to_return\n"
   ]
  },
  {
   "cell_type": "code",
   "execution_count": 97,
   "metadata": {},
   "outputs": [],
   "source": [
    "def get_all_states_both():\n",
    "    gids = [1,2]\n",
    "    tod = [0,1]\n",
    "    dow  = [0,1]\n",
    "    pretreatment = [0,1]\n",
    "    temp = [0,1]\n",
    "    loc = [0,1]\n",
    "    actions = [0,1]\n",
    "    aint = [0,1]\n",
    "    all_states = []\n",
    "    st = ['aint','gid','tod','dow','wea','pre','loc']\n",
    "    for act in actions:\n",
    "        for g in gids:\n",
    "            for t in tod:\n",
    "                for d in dow:\n",
    "                    for tp in temp:\n",
    "                        for p in pretreatment:\n",
    "                            for l in loc:\n",
    "                                all_states.append([act,g,t,d,tp,p,l])\n",
    "    all_keys = []\n",
    "    for s in all_states:\n",
    "        new_key = []\n",
    "        #new_key = ['aint','1']\n",
    "        for i in range(len(s)):\n",
    "            new_key.append(st[i])\n",
    "            new_key.append(str(s[i]))\n",
    "        all_keys.append('-'.join(new_key))\n",
    "    return all_keys"
   ]
  },
  {
   "cell_type": "code",
   "execution_count": 98,
   "metadata": {},
   "outputs": [],
   "source": [
    "def get_all_xs_all_ys():\n",
    "\n",
    "    all_ys = []\n",
    "    for sk in s:\n",
    "        #print(s)\n",
    "        z= get_x_y_check(sk)\n",
    "        if len(z)>0:\n",
    "            all_ys.extend(z)\n",
    "\n",
    "    return all_ys"
   ]
  },
  {
   "cell_type": "code",
   "execution_count": 99,
   "metadata": {},
   "outputs": [],
   "source": [
    "s = get_all_states()"
   ]
  },
  {
   "cell_type": "code",
   "execution_count": 100,
   "metadata": {},
   "outputs": [
    {
     "name": "stdout",
     "output_type": "stream",
     "text": [
      "aint-1-gid-2-tod-0-dow-0-wea-0-pre-0-loc-0\n",
      "aint-1-gid-2-tod-0-dow-0-wea-0-pre-0-loc-1\n",
      "aint-1-gid-2-tod-0-dow-0-wea-0-pre-1-loc-0\n",
      "aint-1-gid-2-tod-0-dow-0-wea-0-pre-1-loc-1\n",
      "aint-1-gid-2-tod-0-dow-0-wea-1-pre-0-loc-0\n",
      "aint-1-gid-2-tod-0-dow-0-wea-1-pre-0-loc-1\n",
      "aint-1-gid-2-tod-0-dow-0-wea-1-pre-1-loc-0\n",
      "aint-1-gid-2-tod-0-dow-0-wea-1-pre-1-loc-1\n",
      "aint-1-gid-2-tod-0-dow-1-wea-1-pre-0-loc-0\n",
      "aint-1-gid-2-tod-1-dow-0-wea-0-pre-0-loc-0\n",
      "aint-1-gid-2-tod-1-dow-0-wea-0-pre-0-loc-1\n",
      "aint-1-gid-2-tod-1-dow-0-wea-0-pre-1-loc-0\n",
      "aint-1-gid-2-tod-1-dow-0-wea-0-pre-1-loc-1\n",
      "aint-1-gid-2-tod-1-dow-0-wea-1-pre-0-loc-0\n",
      "aint-1-gid-2-tod-1-dow-0-wea-1-pre-0-loc-1\n",
      "aint-1-gid-2-tod-1-dow-0-wea-1-pre-1-loc-0\n",
      "aint-1-gid-2-tod-1-dow-0-wea-1-pre-1-loc-1\n",
      "aint-1-gid-2-tod-1-dow-1-wea-0-pre-0-loc-0\n"
     ]
    }
   ],
   "source": [
    "test = get_all_xs_all_ys()"
   ]
  },
  {
   "cell_type": "code",
   "execution_count": 101,
   "metadata": {},
   "outputs": [
    {
     "data": {
      "text/plain": [
       "1.1460557266394875"
      ]
     },
     "execution_count": 101,
     "metadata": {},
     "output_type": "execute_result"
    }
   ],
   "source": [
    "np.array(test).mean()"
   ]
  },
  {
   "cell_type": "code",
   "execution_count": 102,
   "metadata": {},
   "outputs": [
    {
     "data": {
      "text/plain": [
       "1.1352687796447338"
      ]
     },
     "execution_count": 102,
     "metadata": {},
     "output_type": "execute_result"
    }
   ],
   "source": [
    "np.percentile(np.array(test),50)"
   ]
  },
  {
   "cell_type": "code",
   "execution_count": 103,
   "metadata": {},
   "outputs": [
    {
     "data": {
      "text/plain": [
       "1.2507950256852172"
      ]
     },
     "execution_count": 103,
     "metadata": {},
     "output_type": "execute_result"
    }
   ],
   "source": [
    "np.percentile(np.array(test),75)"
   ]
  },
  {
   "cell_type": "code",
   "execution_count": 104,
   "metadata": {},
   "outputs": [
    {
     "data": {
      "text/plain": [
       "1.0306027392818635"
      ]
     },
     "execution_count": 104,
     "metadata": {},
     "output_type": "execute_result"
    }
   ],
   "source": [
    "np.percentile(np.array(test),25)"
   ]
  },
  {
   "cell_type": "code",
   "execution_count": 49,
   "metadata": {},
   "outputs": [
    {
     "data": {
      "text/plain": [
       "['aint-0-gid-1-tod-0-dow-0-wea-0-pre-0-loc-0',\n",
       " 'aint-0-gid-1-tod-0-dow-0-wea-0-pre-0-loc-1',\n",
       " 'aint-0-gid-1-tod-0-dow-0-wea-0-pre-1-loc-0',\n",
       " 'aint-0-gid-1-tod-0-dow-0-wea-0-pre-1-loc-1',\n",
       " 'aint-0-gid-1-tod-0-dow-0-wea-1-pre-0-loc-0',\n",
       " 'aint-0-gid-1-tod-0-dow-0-wea-1-pre-0-loc-1',\n",
       " 'aint-0-gid-1-tod-0-dow-0-wea-1-pre-1-loc-0',\n",
       " 'aint-0-gid-1-tod-0-dow-0-wea-1-pre-1-loc-1',\n",
       " 'aint-0-gid-1-tod-0-dow-1-wea-0-pre-0-loc-0',\n",
       " 'aint-0-gid-1-tod-0-dow-1-wea-0-pre-0-loc-1',\n",
       " 'aint-0-gid-1-tod-0-dow-1-wea-0-pre-1-loc-0',\n",
       " 'aint-0-gid-1-tod-0-dow-1-wea-0-pre-1-loc-1',\n",
       " 'aint-0-gid-1-tod-0-dow-1-wea-1-pre-0-loc-0',\n",
       " 'aint-0-gid-1-tod-0-dow-1-wea-1-pre-0-loc-1',\n",
       " 'aint-0-gid-1-tod-0-dow-1-wea-1-pre-1-loc-0',\n",
       " 'aint-0-gid-1-tod-0-dow-1-wea-1-pre-1-loc-1',\n",
       " 'aint-0-gid-1-tod-1-dow-0-wea-0-pre-0-loc-0',\n",
       " 'aint-0-gid-1-tod-1-dow-0-wea-0-pre-0-loc-1',\n",
       " 'aint-0-gid-1-tod-1-dow-0-wea-0-pre-1-loc-0',\n",
       " 'aint-0-gid-1-tod-1-dow-0-wea-0-pre-1-loc-1',\n",
       " 'aint-0-gid-1-tod-1-dow-0-wea-1-pre-0-loc-0',\n",
       " 'aint-0-gid-1-tod-1-dow-0-wea-1-pre-0-loc-1',\n",
       " 'aint-0-gid-1-tod-1-dow-0-wea-1-pre-1-loc-0',\n",
       " 'aint-0-gid-1-tod-1-dow-0-wea-1-pre-1-loc-1',\n",
       " 'aint-0-gid-1-tod-1-dow-1-wea-0-pre-0-loc-0',\n",
       " 'aint-0-gid-1-tod-1-dow-1-wea-0-pre-0-loc-1',\n",
       " 'aint-0-gid-1-tod-1-dow-1-wea-0-pre-1-loc-0',\n",
       " 'aint-0-gid-1-tod-1-dow-1-wea-0-pre-1-loc-1',\n",
       " 'aint-0-gid-1-tod-1-dow-1-wea-1-pre-0-loc-0',\n",
       " 'aint-0-gid-1-tod-1-dow-1-wea-1-pre-0-loc-1',\n",
       " 'aint-0-gid-1-tod-1-dow-1-wea-1-pre-1-loc-0',\n",
       " 'aint-0-gid-1-tod-1-dow-1-wea-1-pre-1-loc-1',\n",
       " 'aint-0-gid-2-tod-0-dow-0-wea-0-pre-0-loc-0',\n",
       " 'aint-0-gid-2-tod-0-dow-0-wea-0-pre-0-loc-1',\n",
       " 'aint-0-gid-2-tod-0-dow-0-wea-0-pre-1-loc-0',\n",
       " 'aint-0-gid-2-tod-0-dow-0-wea-0-pre-1-loc-1',\n",
       " 'aint-0-gid-2-tod-0-dow-0-wea-1-pre-0-loc-0',\n",
       " 'aint-0-gid-2-tod-0-dow-0-wea-1-pre-0-loc-1',\n",
       " 'aint-0-gid-2-tod-0-dow-0-wea-1-pre-1-loc-0',\n",
       " 'aint-0-gid-2-tod-0-dow-0-wea-1-pre-1-loc-1',\n",
       " 'aint-0-gid-2-tod-0-dow-1-wea-0-pre-0-loc-0',\n",
       " 'aint-0-gid-2-tod-0-dow-1-wea-0-pre-0-loc-1',\n",
       " 'aint-0-gid-2-tod-0-dow-1-wea-0-pre-1-loc-0',\n",
       " 'aint-0-gid-2-tod-0-dow-1-wea-0-pre-1-loc-1',\n",
       " 'aint-0-gid-2-tod-0-dow-1-wea-1-pre-0-loc-0',\n",
       " 'aint-0-gid-2-tod-0-dow-1-wea-1-pre-0-loc-1',\n",
       " 'aint-0-gid-2-tod-0-dow-1-wea-1-pre-1-loc-0',\n",
       " 'aint-0-gid-2-tod-0-dow-1-wea-1-pre-1-loc-1',\n",
       " 'aint-0-gid-2-tod-1-dow-0-wea-0-pre-0-loc-0',\n",
       " 'aint-0-gid-2-tod-1-dow-0-wea-0-pre-0-loc-1',\n",
       " 'aint-0-gid-2-tod-1-dow-0-wea-0-pre-1-loc-0',\n",
       " 'aint-0-gid-2-tod-1-dow-0-wea-0-pre-1-loc-1',\n",
       " 'aint-0-gid-2-tod-1-dow-0-wea-1-pre-0-loc-0',\n",
       " 'aint-0-gid-2-tod-1-dow-0-wea-1-pre-0-loc-1',\n",
       " 'aint-0-gid-2-tod-1-dow-0-wea-1-pre-1-loc-0',\n",
       " 'aint-0-gid-2-tod-1-dow-0-wea-1-pre-1-loc-1',\n",
       " 'aint-0-gid-2-tod-1-dow-1-wea-0-pre-0-loc-0',\n",
       " 'aint-0-gid-2-tod-1-dow-1-wea-0-pre-0-loc-1',\n",
       " 'aint-0-gid-2-tod-1-dow-1-wea-0-pre-1-loc-0',\n",
       " 'aint-0-gid-2-tod-1-dow-1-wea-0-pre-1-loc-1',\n",
       " 'aint-0-gid-2-tod-1-dow-1-wea-1-pre-0-loc-0',\n",
       " 'aint-0-gid-2-tod-1-dow-1-wea-1-pre-0-loc-1',\n",
       " 'aint-0-gid-2-tod-1-dow-1-wea-1-pre-1-loc-0',\n",
       " 'aint-0-gid-2-tod-1-dow-1-wea-1-pre-1-loc-1',\n",
       " 'aint-1-gid-1-tod-0-dow-0-wea-0-pre-0-loc-0',\n",
       " 'aint-1-gid-1-tod-0-dow-0-wea-0-pre-0-loc-1',\n",
       " 'aint-1-gid-1-tod-0-dow-0-wea-0-pre-1-loc-0',\n",
       " 'aint-1-gid-1-tod-0-dow-0-wea-0-pre-1-loc-1',\n",
       " 'aint-1-gid-1-tod-0-dow-0-wea-1-pre-0-loc-0',\n",
       " 'aint-1-gid-1-tod-0-dow-0-wea-1-pre-0-loc-1',\n",
       " 'aint-1-gid-1-tod-0-dow-0-wea-1-pre-1-loc-0',\n",
       " 'aint-1-gid-1-tod-0-dow-0-wea-1-pre-1-loc-1',\n",
       " 'aint-1-gid-1-tod-0-dow-1-wea-0-pre-0-loc-0',\n",
       " 'aint-1-gid-1-tod-0-dow-1-wea-0-pre-0-loc-1',\n",
       " 'aint-1-gid-1-tod-0-dow-1-wea-0-pre-1-loc-0',\n",
       " 'aint-1-gid-1-tod-0-dow-1-wea-0-pre-1-loc-1',\n",
       " 'aint-1-gid-1-tod-0-dow-1-wea-1-pre-0-loc-0',\n",
       " 'aint-1-gid-1-tod-0-dow-1-wea-1-pre-0-loc-1',\n",
       " 'aint-1-gid-1-tod-0-dow-1-wea-1-pre-1-loc-0',\n",
       " 'aint-1-gid-1-tod-0-dow-1-wea-1-pre-1-loc-1',\n",
       " 'aint-1-gid-1-tod-1-dow-0-wea-0-pre-0-loc-0',\n",
       " 'aint-1-gid-1-tod-1-dow-0-wea-0-pre-0-loc-1',\n",
       " 'aint-1-gid-1-tod-1-dow-0-wea-0-pre-1-loc-0',\n",
       " 'aint-1-gid-1-tod-1-dow-0-wea-0-pre-1-loc-1',\n",
       " 'aint-1-gid-1-tod-1-dow-0-wea-1-pre-0-loc-0',\n",
       " 'aint-1-gid-1-tod-1-dow-0-wea-1-pre-0-loc-1',\n",
       " 'aint-1-gid-1-tod-1-dow-0-wea-1-pre-1-loc-0',\n",
       " 'aint-1-gid-1-tod-1-dow-0-wea-1-pre-1-loc-1',\n",
       " 'aint-1-gid-1-tod-1-dow-1-wea-0-pre-0-loc-0',\n",
       " 'aint-1-gid-1-tod-1-dow-1-wea-0-pre-0-loc-1',\n",
       " 'aint-1-gid-1-tod-1-dow-1-wea-0-pre-1-loc-0',\n",
       " 'aint-1-gid-1-tod-1-dow-1-wea-0-pre-1-loc-1',\n",
       " 'aint-1-gid-1-tod-1-dow-1-wea-1-pre-0-loc-0',\n",
       " 'aint-1-gid-1-tod-1-dow-1-wea-1-pre-0-loc-1',\n",
       " 'aint-1-gid-1-tod-1-dow-1-wea-1-pre-1-loc-0',\n",
       " 'aint-1-gid-1-tod-1-dow-1-wea-1-pre-1-loc-1',\n",
       " 'aint-1-gid-2-tod-0-dow-0-wea-0-pre-0-loc-0',\n",
       " 'aint-1-gid-2-tod-0-dow-0-wea-0-pre-0-loc-1',\n",
       " 'aint-1-gid-2-tod-0-dow-0-wea-0-pre-1-loc-0',\n",
       " 'aint-1-gid-2-tod-0-dow-0-wea-0-pre-1-loc-1',\n",
       " 'aint-1-gid-2-tod-0-dow-0-wea-1-pre-0-loc-0',\n",
       " 'aint-1-gid-2-tod-0-dow-0-wea-1-pre-0-loc-1',\n",
       " 'aint-1-gid-2-tod-0-dow-0-wea-1-pre-1-loc-0',\n",
       " 'aint-1-gid-2-tod-0-dow-0-wea-1-pre-1-loc-1',\n",
       " 'aint-1-gid-2-tod-0-dow-1-wea-0-pre-0-loc-0',\n",
       " 'aint-1-gid-2-tod-0-dow-1-wea-0-pre-0-loc-1',\n",
       " 'aint-1-gid-2-tod-0-dow-1-wea-0-pre-1-loc-0',\n",
       " 'aint-1-gid-2-tod-0-dow-1-wea-0-pre-1-loc-1',\n",
       " 'aint-1-gid-2-tod-0-dow-1-wea-1-pre-0-loc-0',\n",
       " 'aint-1-gid-2-tod-0-dow-1-wea-1-pre-0-loc-1',\n",
       " 'aint-1-gid-2-tod-0-dow-1-wea-1-pre-1-loc-0',\n",
       " 'aint-1-gid-2-tod-0-dow-1-wea-1-pre-1-loc-1',\n",
       " 'aint-1-gid-2-tod-1-dow-0-wea-0-pre-0-loc-0',\n",
       " 'aint-1-gid-2-tod-1-dow-0-wea-0-pre-0-loc-1',\n",
       " 'aint-1-gid-2-tod-1-dow-0-wea-0-pre-1-loc-0',\n",
       " 'aint-1-gid-2-tod-1-dow-0-wea-0-pre-1-loc-1',\n",
       " 'aint-1-gid-2-tod-1-dow-0-wea-1-pre-0-loc-0',\n",
       " 'aint-1-gid-2-tod-1-dow-0-wea-1-pre-0-loc-1',\n",
       " 'aint-1-gid-2-tod-1-dow-0-wea-1-pre-1-loc-0',\n",
       " 'aint-1-gid-2-tod-1-dow-0-wea-1-pre-1-loc-1',\n",
       " 'aint-1-gid-2-tod-1-dow-1-wea-0-pre-0-loc-0',\n",
       " 'aint-1-gid-2-tod-1-dow-1-wea-0-pre-0-loc-1',\n",
       " 'aint-1-gid-2-tod-1-dow-1-wea-0-pre-1-loc-0',\n",
       " 'aint-1-gid-2-tod-1-dow-1-wea-0-pre-1-loc-1',\n",
       " 'aint-1-gid-2-tod-1-dow-1-wea-1-pre-0-loc-0',\n",
       " 'aint-1-gid-2-tod-1-dow-1-wea-1-pre-0-loc-1',\n",
       " 'aint-1-gid-2-tod-1-dow-1-wea-1-pre-1-loc-0',\n",
       " 'aint-1-gid-2-tod-1-dow-1-wea-1-pre-1-loc-1']"
      ]
     },
     "execution_count": 49,
     "metadata": {},
     "output_type": "execute_result"
    }
   ],
   "source": [
    "s"
   ]
  },
  {
   "cell_type": "code",
   "execution_count": 7,
   "metadata": {},
   "outputs": [],
   "source": [
    "sigmas = []\n",
    "for k,v in matches_sed.items():\n",
    "    sigmas.append(dists_sed[v][1])\n",
    "for k,v in matches_act.items():\n",
    "    sigmas.append(dists_act[v][1])\n",
    "#for k,v in matches_base.items():\n",
    "#    sigmas.append(dists_base[v][1])\n",
    "    "
   ]
  },
  {
   "cell_type": "code",
   "execution_count": 10,
   "metadata": {},
   "outputs": [
    {
     "data": {
      "text/plain": [
       "1.1490257222321916"
      ]
     },
     "execution_count": 10,
     "metadata": {},
     "output_type": "execute_result"
    }
   ],
   "source": [
    "np.percentile(np.array([i for i in sigmas if i!=0]),50)"
   ]
  },
  {
   "cell_type": "code",
   "execution_count": null,
   "metadata": {},
   "outputs": [],
   "source": []
  }
 ],
 "metadata": {
  "kernelspec": {
   "display_name": "Python 3",
   "language": "python",
   "name": "python3"
  },
  "language_info": {
   "codemirror_mode": {
    "name": "ipython",
    "version": 3
   },
   "file_extension": ".py",
   "mimetype": "text/x-python",
   "name": "python",
   "nbconvert_exporter": "python",
   "pygments_lexer": "ipython3",
   "version": "3.6.8"
  }
 },
 "nbformat": 4,
 "nbformat_minor": 2
}
