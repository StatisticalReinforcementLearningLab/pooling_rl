{
 "cells": [
  {
   "cell_type": "code",
   "execution_count": 3,
   "metadata": {
    "collapsed": true
   },
   "outputs": [],
   "source": [
    "import pickle\n",
    "import numpy as np\n",
    "import pandas as pd\n",
    "from sklearn import preprocessing\n",
    "from sklearn.feature_selection import RFECV\n",
    "from sklearn.svm import SVR\n",
    "from sklearn.feature_selection import SelectPercentile\n",
    "from sklearn.feature_selection import f_regression\n",
    "from sklearn.model_selection import cross_val_score\n",
    "from sklearn.pipeline import Pipeline\n",
    "from sklearn.ensemble import ExtraTreesRegressor\n",
    "import operator"
   ]
  },
  {
   "cell_type": "code",
   "execution_count": 4,
   "metadata": {
    "collapsed": true
   },
   "outputs": [],
   "source": [
    "def adjust_to_thirty_minute(steps):\n",
    "    return steps.fillna(0).tz_localize(None).resample('30T').sum().fillna(0)"
   ]
  },
  {
   "cell_type": "code",
   "execution_count": 5,
   "metadata": {
    "collapsed": true
   },
   "outputs": [],
   "source": [
    "def get_processed(file_name):\n",
    "    \n",
    "    root = '../../../../Volumes/dav/HeartSteps/pooling_rl_shared_data/processed/'\n",
    "    with open('{}{}.pkl'.format(root,file_name),'rb') as f:\n",
    "        return pickle.load(f)"
   ]
  },
  {
   "cell_type": "code",
   "execution_count": 8,
   "metadata": {
    "collapsed": true
   },
   "outputs": [],
   "source": [
    "merged = get_processed('merged_est')"
   ]
  },
  {
   "cell_type": "code",
   "execution_count": null,
   "metadata": {
    "collapsed": false
   },
   "outputs": [],
   "source": []
  },
  {
   "cell_type": "code",
   "execution_count": 68,
   "metadata": {
    "collapsed": false
   },
   "outputs": [
    {
     "data": {
      "text/plain": [
       "Index(['avail', 'decision.utime', 'jbsteps10', 'location.category',\n",
       "       'location.category.response', 'sedentary.width', 'send', 'send.active',\n",
       "       'send.sedentary', 'steps', 'study.day', 'user', 'weather.condition',\n",
       "       'weather.condition.response', 'window.utime'],\n",
       "      dtype='object')"
      ]
     },
     "execution_count": 68,
     "metadata": {},
     "output_type": "execute_result"
    }
   ],
   "source": [
    "merged[1].columns"
   ]
  },
  {
   "cell_type": "code",
   "execution_count": 69,
   "metadata": {
    "collapsed": true
   },
   "outputs": [],
   "source": [
    "def get_target_indices_sent(df):\n",
    "    return df.loc[(df['send.active'] == True)&(df['avail'] == True  )].index"
   ]
  },
  {
   "cell_type": "code",
   "execution_count": 70,
   "metadata": {
    "collapsed": true
   },
   "outputs": [],
   "source": [
    "def get_target_indices_notsent(df):\n",
    "    return df.loc[(df['send.active'] == False)&(df['avail'] == True  )].index"
   ]
  },
  {
   "cell_type": "code",
   "execution_count": 11,
   "metadata": {
    "collapsed": true
   },
   "outputs": [],
   "source": [
    "def get_near_targets(targets):\n",
    "    return targets.round('30T').tz_localize(None)"
   ]
  },
  {
   "cell_type": "code",
   "execution_count": 16,
   "metadata": {
    "collapsed": false
   },
   "outputs": [],
   "source": [
    "targets = get_target_indices_sent(merged[1])"
   ]
  },
  {
   "cell_type": "code",
   "execution_count": 88,
   "metadata": {
    "collapsed": false
   },
   "outputs": [
    {
     "data": {
      "text/plain": [
       "2015-07-22 09:00:00-05:00      NaN\n",
       "2015-07-22 09:05:00-05:00      NaN\n",
       "2015-07-22 09:10:00-05:00      NaN\n",
       "2015-07-22 09:15:00-05:00      NaN\n",
       "2015-07-22 09:20:00-05:00      NaN\n",
       "2015-07-22 09:25:00-05:00      NaN\n",
       "2015-07-22 09:30:00-05:00      NaN\n",
       "2015-07-22 09:35:00-05:00      NaN\n",
       "2015-07-22 09:40:00-05:00      NaN\n",
       "2015-07-22 09:45:00-05:00      NaN\n",
       "2015-07-22 09:50:00-05:00      NaN\n",
       "2015-07-22 09:55:00-05:00      NaN\n",
       "2015-07-22 10:00:00-05:00      NaN\n",
       "2015-07-22 10:05:00-05:00      NaN\n",
       "2015-07-22 10:10:00-05:00      NaN\n",
       "2015-07-22 10:15:00-05:00      NaN\n",
       "2015-07-22 10:20:00-05:00      NaN\n",
       "2015-07-22 10:25:00-05:00      NaN\n",
       "2015-07-22 10:30:00-05:00      NaN\n",
       "2015-07-22 10:35:00-05:00      NaN\n",
       "2015-07-22 10:40:00-05:00      NaN\n",
       "2015-07-22 10:45:00-05:00      NaN\n",
       "2015-07-22 10:50:00-05:00      NaN\n",
       "2015-07-22 10:55:00-05:00      NaN\n",
       "2015-07-22 11:00:00-05:00      NaN\n",
       "2015-07-22 11:05:00-05:00      NaN\n",
       "2015-07-22 11:10:00-05:00      NaN\n",
       "2015-07-22 11:15:00-05:00      NaN\n",
       "2015-07-22 11:20:00-05:00      NaN\n",
       "2015-07-22 11:25:00-05:00      NaN\n",
       "                             ...  \n",
       "2015-09-14 18:50:00-05:00      NaN\n",
       "2015-09-14 18:55:00-05:00      NaN\n",
       "2015-09-14 19:00:00-05:00      NaN\n",
       "2015-09-14 19:05:00-05:00      NaN\n",
       "2015-09-14 19:10:00-05:00      NaN\n",
       "2015-09-14 19:15:00-05:00      NaN\n",
       "2015-09-14 19:20:00-05:00      NaN\n",
       "2015-09-14 19:25:00-05:00      NaN\n",
       "2015-09-14 19:30:00-05:00      NaN\n",
       "2015-09-14 19:35:00-05:00      NaN\n",
       "2015-09-14 19:40:00-05:00      NaN\n",
       "2015-09-14 19:45:00-05:00      NaN\n",
       "2015-09-14 19:50:00-05:00      NaN\n",
       "2015-09-14 19:55:00-05:00      NaN\n",
       "2015-09-14 20:00:00-05:00      NaN\n",
       "2015-09-14 20:05:00-05:00      NaN\n",
       "2015-09-14 20:10:00-05:00      NaN\n",
       "2015-09-14 20:15:00-05:00      NaN\n",
       "2015-09-14 20:20:00-05:00      NaN\n",
       "2015-09-14 20:25:00-05:00      NaN\n",
       "2015-09-14 20:30:00-05:00      NaN\n",
       "2015-09-14 20:35:00-05:00      NaN\n",
       "2015-09-14 20:40:00-05:00      NaN\n",
       "2015-09-14 20:45:00-05:00      NaN\n",
       "2015-09-14 20:50:00-05:00      NaN\n",
       "2015-09-14 20:55:00-05:00      NaN\n",
       "2015-09-15 05:31:05-05:00     True\n",
       "2015-09-15 11:31:30-05:00     True\n",
       "2015-09-15 13:32:00-05:00    False\n",
       "2015-09-15 16:31:27-05:00    False\n",
       "Name: avail, Length: 4874, dtype: object"
      ]
     },
     "execution_count": 88,
     "metadata": {},
     "output_type": "execute_result"
    }
   ],
   "source": [
    "merged[1].avail"
   ]
  },
  {
   "cell_type": "code",
   "execution_count": 55,
   "metadata": {
    "collapsed": false
   },
   "outputs": [],
   "source": [
    "targets = get_near_targets(targets)"
   ]
  },
  {
   "cell_type": "code",
   "execution_count": 89,
   "metadata": {
    "collapsed": false
   },
   "outputs": [],
   "source": [
    "def measure_responsivity(df):\n",
    "    steps = adjust_to_thirty_minute(df['steps'])\n",
    "    targets_intervention = get_target_indices_sent(df)\n",
    "    targets_intervention = get_near_targets(targets_intervention)\n",
    "    \n",
    "    targets_control = get_target_indices_notsent(df)\n",
    "    targets_control = get_near_targets(targets_control)\n",
    "    \n",
    "    \n",
    "    to_return = []\n",
    "    average_steps_control = np.array([steps[t] for t in targets_control]).mean()\n",
    "    average_steps_intervention = np.array([steps[t] for t in targets_intervention]).mean()\n",
    "\n",
    "    return average_steps_control-average_steps_intervention"
   ]
  },
  {
   "cell_type": "code",
   "execution_count": null,
   "metadata": {
    "collapsed": false
   },
   "outputs": [],
   "source": []
  },
  {
   "cell_type": "code",
   "execution_count": 50,
   "metadata": {
    "collapsed": true
   },
   "outputs": [],
   "source": [
    "def make_feature_matrix():\n",
    "    other = get_processed('other_activity_no_missing')\n",
    "    agg_consc = get_processed('agg_conscientiousness_measures')\n",
    "    agg_selfeff = get_processed('agg_self_efficacy_measures')\n",
    "    agg_actchoice = get_processed('agg_activity_choice_measures')\n",
    "    other_keys = list(other[1].keys())\n",
    "    #other_keys = ['vigact.days','vigact.hrs','vigact.min','modact.days']\n",
    "    pids = [p for p in other.keys() if p!=4]\n",
    "    \n",
    "    to_return = []\n",
    "    feature_names = other_keys+['conscientiousness']+['self_efficacy']+['activity_choice']\n",
    "    \n",
    "    for p in pids:\n",
    "        temp = [other[p][o] for o in other_keys]\n",
    "        temp.append(agg_consc[p])\n",
    "        temp.append(agg_selfeff[p])\n",
    "        temp.append(agg_actchoice[p])\n",
    "        to_return.append(temp)\n",
    "    return to_return,feature_names,pids"
   ]
  },
  {
   "cell_type": "code",
   "execution_count": 71,
   "metadata": {
    "collapsed": false
   },
   "outputs": [],
   "source": [
    "X,fn,pids = make_feature_matrix()"
   ]
  },
  {
   "cell_type": "code",
   "execution_count": null,
   "metadata": {
    "collapsed": true
   },
   "outputs": [],
   "source": []
  },
  {
   "cell_type": "code",
   "execution_count": null,
   "metadata": {
    "collapsed": false
   },
   "outputs": [],
   "source": []
  },
  {
   "cell_type": "code",
   "execution_count": 72,
   "metadata": {
    "collapsed": false
   },
   "outputs": [],
   "source": [
    "def fix(x):\n",
    "    to_return = []\n",
    "    for i in x:\n",
    "        if type(i)==str:\n",
    "            if i=='no':\n",
    "                to_return.append(0)\n",
    "            elif i=='yes':\n",
    "                to_return.append(1)\n",
    "            elif i=='X':\n",
    "                to_return.append(0)\n",
    "            else:\n",
    "                #print(i)\n",
    "                if pd.isnull(float(i)):\n",
    "                    print(i)\n",
    "                to_return.append(float(i))\n",
    "        else:\n",
    "            if pd.isnull(float(i)):\n",
    "                    i = 0\n",
    "            to_return.append(i)\n",
    "    return to_return"
   ]
  },
  {
   "cell_type": "code",
   "execution_count": 73,
   "metadata": {
    "collapsed": false
   },
   "outputs": [],
   "source": [
    "X = [fix(x) for x in X]"
   ]
  },
  {
   "cell_type": "code",
   "execution_count": null,
   "metadata": {
    "collapsed": false
   },
   "outputs": [],
   "source": []
  },
  {
   "cell_type": "code",
   "execution_count": 74,
   "metadata": {
    "collapsed": false
   },
   "outputs": [],
   "source": [
    "X_scaled = preprocessing.scale(X)"
   ]
  },
  {
   "cell_type": "code",
   "execution_count": 75,
   "metadata": {
    "collapsed": false
   },
   "outputs": [],
   "source": [
    "def get_training_data_responsivity(pids):\n",
    "    merged = get_processed('merged_est')\n",
    "    to_return = {}\n",
    "    for p in pids:\n",
    "        if p in merged:\n",
    "            df  = merged[p]\n",
    "            #steps = adjust_to_thirty_minute(df['steps'])\n",
    "            y = measure_responsivity(df)\n",
    "            to_return[p]=y\n",
    "    return to_return"
   ]
  },
  {
   "cell_type": "code",
   "execution_count": 90,
   "metadata": {
    "collapsed": false
   },
   "outputs": [],
   "source": [
    "steps = get_training_data_responsivity(pids)"
   ]
  },
  {
   "cell_type": "code",
   "execution_count": 91,
   "metadata": {
    "collapsed": false
   },
   "outputs": [
    {
     "data": {
      "text/plain": [
       "{1: -96.267646211466456,\n",
       " 2: 20.297450980392142,\n",
       " 3: -61.0575022461815,\n",
       " 5: 42.964102564102561,\n",
       " 6: 88.638012780869929,\n",
       " 7: -168.61578947368423,\n",
       " 8: 26.35720720720721,\n",
       " 9: 58.320740740740732,\n",
       " 10: 67.403999999999996,\n",
       " 11: -63.317460317460331,\n",
       " 13: 56.156060606060606,\n",
       " 14: -38.36750543647095,\n",
       " 15: 15.817910447761193,\n",
       " 17: -12.796590909090895,\n",
       " 18: -139.64550687559958,\n",
       " 19: 34.794871794871796,\n",
       " 21: 26.531747333880219,\n",
       " 22: 70.631442241968557,\n",
       " 23: -14.502094679514045,\n",
       " 25: 10.741269841269855,\n",
       " 27: 13.967090707964601,\n",
       " 28: -52.969924812030058,\n",
       " 30: -72.249404761904771,\n",
       " 31: -114.36675824175822,\n",
       " 32: 33.692339544513459,\n",
       " 33: -36.143735460285825,\n",
       " 34: 94.821724137931042,\n",
       " 35: -43.407258064516128,\n",
       " 37: 200.44698469846981,\n",
       " 39: 4.0193464052287595,\n",
       " 40: 7.5163934426229417,\n",
       " 41: -39.583877551020407,\n",
       " 42: 48.174685620557682,\n",
       " 44: 40.020671834625318,\n",
       " 46: -41.576876617773962,\n",
       " 48: -3.4239033693579159}"
      ]
     },
     "execution_count": 91,
     "metadata": {},
     "output_type": "execute_result"
    }
   ],
   "source": [
    "steps"
   ]
  },
  {
   "cell_type": "code",
   "execution_count": 92,
   "metadata": {
    "collapsed": false
   },
   "outputs": [],
   "source": [
    "pid_lookup = {pids[i]:i for i in range(len(pids))}"
   ]
  },
  {
   "cell_type": "code",
   "execution_count": null,
   "metadata": {
    "collapsed": false
   },
   "outputs": [],
   "source": []
  },
  {
   "cell_type": "code",
   "execution_count": 93,
   "metadata": {
    "collapsed": true
   },
   "outputs": [],
   "source": [
    "def make_matrix_for_first_analysis(steps,pid_lookup,X):\n",
    "    \n",
    "    big_matrix_X = []\n",
    "    big_matrix_y = []\n",
    "    for pid,stepcount in steps.items():\n",
    "        #for s in stepcount:\n",
    "        big_matrix_X.append(X[pid_lookup[pid]])\n",
    "        big_matrix_y.append(stepcount)\n",
    "    return big_matrix_X,big_matrix_y\n",
    "        "
   ]
  },
  {
   "cell_type": "code",
   "execution_count": 94,
   "metadata": {
    "collapsed": false
   },
   "outputs": [],
   "source": [
    "bx,by = make_matrix_for_first_analysis(steps,pid_lookup,X_scaled)"
   ]
  },
  {
   "cell_type": "code",
   "execution_count": 95,
   "metadata": {
    "collapsed": false
   },
   "outputs": [],
   "source": [
    "by_scaled = preprocessing.scale(by)"
   ]
  },
  {
   "cell_type": "code",
   "execution_count": 98,
   "metadata": {
    "collapsed": false
   },
   "outputs": [],
   "source": [
    "et = ExtraTreesRegressor(n_estimators=10, max_features=9,\n",
    "                                       random_state=0)"
   ]
  },
  {
   "cell_type": "code",
   "execution_count": 99,
   "metadata": {
    "collapsed": false
   },
   "outputs": [
    {
     "data": {
      "text/plain": [
       "ExtraTreesRegressor(bootstrap=False, criterion='mse', max_depth=None,\n",
       "          max_features=9, max_leaf_nodes=None, min_impurity_decrease=0.0,\n",
       "          min_impurity_split=None, min_samples_leaf=1, min_samples_split=2,\n",
       "          min_weight_fraction_leaf=0.0, n_estimators=10, n_jobs=1,\n",
       "          oob_score=False, random_state=0, verbose=0, warm_start=False)"
      ]
     },
     "execution_count": 99,
     "metadata": {},
     "output_type": "execute_result"
    }
   ],
   "source": [
    "et.fit(bx, by)"
   ]
  },
  {
   "cell_type": "code",
   "execution_count": 100,
   "metadata": {
    "collapsed": false
   },
   "outputs": [
    {
     "data": {
      "text/plain": [
       "array([ 0.06065006,  0.24453863,  0.05362615,  0.10904874,  0.20753303,\n",
       "        0.04530203,  0.11239996,  0.08887171,  0.07802969])"
      ]
     },
     "execution_count": 100,
     "metadata": {},
     "output_type": "execute_result"
    }
   ],
   "source": [
    "et.feature_importances_"
   ]
  },
  {
   "cell_type": "code",
   "execution_count": 101,
   "metadata": {
    "collapsed": true
   },
   "outputs": [],
   "source": [
    "def nice_dict(feats,fns):\n",
    "    \n",
    "    to_return = {fns[i]:feats[i] for i in range(len(feats))}\n",
    "    return sorted(to_return.items(), key=operator.itemgetter(1),reverse=True)"
   ]
  },
  {
   "cell_type": "code",
   "execution_count": null,
   "metadata": {
    "collapsed": true
   },
   "outputs": [],
   "source": []
  },
  {
   "cell_type": "code",
   "execution_count": 102,
   "metadata": {
    "collapsed": false
   },
   "outputs": [
    {
     "data": {
      "text/plain": [
       "[('vigact.min', 0.24453863473151088),\n",
       " ('modact.days', 0.2075330274268051),\n",
       " ('conscientiousness', 0.11239996378748159),\n",
       " ('vigact.days', 0.10904873946666131),\n",
       " ('self_efficacy', 0.088871705516369817),\n",
       " ('activity_choice', 0.078029685916945882),\n",
       " ('fittracker', 0.060650057909543496),\n",
       " ('fitapp', 0.053626154288689151),\n",
       " ('vigact.hrs', 0.045302030955992792)]"
      ]
     },
     "execution_count": 102,
     "metadata": {},
     "output_type": "execute_result"
    }
   ],
   "source": [
    "nice_dict(et.feature_importances_,fn)"
   ]
  },
  {
   "cell_type": "code",
   "execution_count": 49,
   "metadata": {
    "collapsed": false
   },
   "outputs": [
    {
     "data": {
      "text/plain": [
       "[('vigact.days', 0.1984310495834936),\n",
       " ('walk10.days', 0.11353117626506644),\n",
       " ('walk.hrs', 0.09485361023720658),\n",
       " ('self_efficacy', 0.08516129147174448),\n",
       " ('fitapp', 0.06336909764426349),\n",
       " ('activity_choice', 0.06183849836927986),\n",
       " ('vigact.min', 0.05973011235354826),\n",
       " ('walk.min', 0.05741741235288851),\n",
       " ('sit.hrs', 0.05707537793825111),\n",
       " ('conscientiousness', 0.045379791484796816),\n",
       " ('modact.hrs', 0.04413522387124863),\n",
       " ('modact.days', 0.04301716201280671),\n",
       " ('modact.min', 0.03635889312650151),\n",
       " ('fittracker', 0.027887931739907938),\n",
       " ('vigact.hrs', 0.011813371548996105),\n",
       " ('sit.min', 0.0)]"
      ]
     },
     "execution_count": 49,
     "metadata": {},
     "output_type": "execute_result"
    }
   ],
   "source": [
    "#all features\n",
    "[('vigact.days', 0.19843104958349361),\n",
    " ('walk10.days', 0.11353117626506644),\n",
    " ('walk.hrs', 0.094853610237206579),\n",
    " ('self_efficacy', 0.085161291471744477),\n",
    " ('fitapp', 0.063369097644263489),\n",
    " ('activity_choice', 0.061838498369279862),\n",
    " ('vigact.min', 0.059730112353548262),\n",
    " ('walk.min', 0.057417412352888511),\n",
    " ('sit.hrs', 0.057075377938251112),\n",
    " ('conscientiousness', 0.045379791484796816),\n",
    " ('modact.hrs', 0.04413522387124863),\n",
    " ('modact.days', 0.043017162012806712),\n",
    " ('modact.min', 0.036358893126501507),\n",
    " ('fittracker', 0.027887931739907938),\n",
    " ('vigact.hrs', 0.011813371548996105),\n",
    " ('sit.min', 0.0)]"
   ]
  },
  {
   "cell_type": "code",
   "execution_count": null,
   "metadata": {
    "collapsed": true
   },
   "outputs": [],
   "source": []
  }
 ],
 "metadata": {
  "anaconda-cloud": {},
  "kernelspec": {
   "display_name": "Python [Root]",
   "language": "python",
   "name": "Python [Root]"
  },
  "language_info": {
   "codemirror_mode": {
    "name": "ipython",
    "version": 3
   },
   "file_extension": ".py",
   "mimetype": "text/x-python",
   "name": "python",
   "nbconvert_exporter": "python",
   "pygments_lexer": "ipython3",
   "version": "3.5.6"
  }
 },
 "nbformat": 4,
 "nbformat_minor": 0
}
