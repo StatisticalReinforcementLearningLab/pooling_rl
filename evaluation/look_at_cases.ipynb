{
 "cells": [
  {
   "cell_type": "code",
   "execution_count": 1,
   "metadata": {},
   "outputs": [],
   "source": [
    "results_path = '../../Downloads/pooling_results/'"
   ]
  },
  {
   "cell_type": "code",
   "execution_count": 2,
   "metadata": {},
   "outputs": [],
   "source": [
    "import numpy as np\n",
    "import pickle\n",
    "import os\n",
    "import math"
   ]
  },
  {
   "cell_type": "code",
   "execution_count": 105,
   "metadata": {},
   "outputs": [],
   "source": [
    "def get_results_personalized(pop_size,update_time,case):\n",
    "    \n",
    "    files = os.listdir('{}personalized/results/{}/'.format(results_path,case))\n",
    "    \n",
    "    steps = []\n",
    "\n",
    "    #check population and pop_size,update_time\n",
    "    files = [f for f in files if '.DS' not in f and '_continuous_pretreatment_new' in f]\n",
    "    files = files[:50]\n",
    "    print(len(files))\n",
    "    for ff in files:\n",
    "        sim = int(ff.split('sim_')[1].strip('_continuous_pretreatment_wea_new.pkl'))\n",
    "        try:\n",
    "            with open('{}/personalized/results/{}/{}'.\\\n",
    "              format(results_path,case,ff),'rb') as f:\n",
    "                d = pickle.load(f)\n",
    "            if int(sim)<60:\n",
    "                steps.extend([k['steps'] for k in d.values() if k['avail'] and k['decision_time']])\n",
    "        except:\n",
    "            print(f)\n",
    "    return steps"
   ]
  },
  {
   "cell_type": "code",
   "execution_count": 182,
   "metadata": {},
   "outputs": [],
   "source": [
    "def get_results_p_time(pop_size,update_time,case):\n",
    "    \n",
    "    files = os.listdir('{}personalized/results/{}/'.format(results_path,case))\n",
    "    \n",
    "    steps = []\n",
    "    #check population and pop_size,update_time\n",
    "    files = [f for f in files if '.DS' not in f]\n",
    "    #files = files[:50]\n",
    "    print(len(files))\n",
    "    to_return = {}\n",
    "\n",
    "    for ff in files:\n",
    "        sim = int(ff.split('sim_')[1].strip('_continuous_pretreatment_diff_wdt.pkl'))\n",
    "        print(sim)\n",
    "        groupids = {}\n",
    "        with open('{}/personalized/results/{}/{}'.\\\n",
    "              format(results_path,case,ff),'rb') as f:\n",
    "            d = pickle.load(f)\n",
    "        temp = {}\n",
    "        for k,vv in d.items():\n",
    "            #print(k)\n",
    "            if sim<50:\n",
    "                pid = k.split('-')[0]\n",
    "                time = k.split('-')[1]\n",
    "                group_id = k.split('-')[2]\n",
    "            \n",
    "              \n",
    "                if pid not in temp:\n",
    "                    temp[pid]=[]\n",
    "                temp[pid].append(vv['steps'])\n",
    "                groupids[pid]=group_id\n",
    "            if sim<50:    \n",
    "                to_return[ff]=[temp,groupids]\n",
    "            \n",
    "    return to_return"
   ]
  },
  {
   "cell_type": "code",
   "execution_count": 183,
   "metadata": {},
   "outputs": [
    {
     "name": "stdout",
     "output_type": "stream",
     "text": [
      "50\n",
      "275049\n"
     ]
    },
    {
     "data": {
      "text/plain": [
       "5.6325211934339325"
      ]
     },
     "execution_count": 183,
     "metadata": {},
     "output_type": "execute_result"
    }
   ],
   "source": [
    "p_c_one= get_results_personalized(32,7,'case_two')\n",
    "#bsteps_cone = get_step_counts(batch_one)\n",
    "print(len(p_c_one))\n",
    "np.array(p_c_one).mean()"
   ]
  },
  {
   "cell_type": "code",
   "execution_count": null,
   "metadata": {},
   "outputs": [],
   "source": []
  },
  {
   "cell_type": "code",
   "execution_count": 184,
   "metadata": {},
   "outputs": [
    {
     "name": "stdout",
     "output_type": "stream",
     "text": [
      "50\n",
      "275536\n"
     ]
    },
    {
     "data": {
      "text/plain": [
       "5.631119974710635"
      ]
     },
     "execution_count": 184,
     "metadata": {},
     "output_type": "execute_result"
    }
   ],
   "source": [
    "p_c_one= get_results_personalized(32,7,'case_one')\n",
    "print(len(p_c_one))\n",
    "#bsteps_cone = get_step_counts(batch_one)\n",
    "np.array(p_c_one).mean()"
   ]
  },
  {
   "cell_type": "code",
   "execution_count": 185,
   "metadata": {},
   "outputs": [
    {
     "name": "stdout",
     "output_type": "stream",
     "text": [
      "50\n",
      "275175\n"
     ]
    },
    {
     "data": {
      "text/plain": [
       "5.631494527136436"
      ]
     },
     "execution_count": 185,
     "metadata": {},
     "output_type": "execute_result"
    }
   ],
   "source": [
    "p_c_one= get_results_personalized(32,7,'case_three')\n",
    "print(len(p_c_one))\n",
    "#bsteps_cone = get_step_counts(batch_one)\n",
    "np.array(p_c_one).mean()"
   ]
  },
  {
   "cell_type": "code",
   "execution_count": 170,
   "metadata": {},
   "outputs": [],
   "source": [
    "def get_results_batch(pop_size,update_time,case):\n",
    "    \n",
    "    files = os.listdir('{}batch/results/{}/'.format(results_path,case))\n",
    "    \n",
    "    steps = []\n",
    "    #check population and pop_size,update_time\n",
    "    files = [f for f in files if '.DS' not in f and '_continuous_pretreatment_diff_w' in f]\n",
    "    files = files[:50]\n",
    "    print(len(files))\n",
    "    for f in files:\n",
    "        with open('{}/batch/results/{}/{}'.\\\n",
    "              format(results_path,case,f),'rb') as f:\n",
    "            d = pickle.load(f)\n",
    "        steps.extend([k['steps'] for k in d.values() if k['decision_time'] and k['avail']])\n",
    "    return steps"
   ]
  },
  {
   "cell_type": "code",
   "execution_count": 164,
   "metadata": {},
   "outputs": [],
   "source": [
    "def get_results_batch_time(pop_size,update_time,case):\n",
    "    \n",
    "    files = os.listdir('{}batch/results/{}/'.format(results_path,case))\n",
    "    \n",
    "    steps = []\n",
    "    #check population and pop_size,update_time\n",
    "    files = [f for f in files if '.DS' not in f]\n",
    "    files = files[:50]\n",
    "    print(len(files))\n",
    "    to_return = {}\n",
    "    group_ids={}\n",
    "    for ff in files:\n",
    "        with open('{}/batch/results/{}/{}'.\\\n",
    "              format(results_path,case,ff),'rb') as f:\n",
    "            d = pickle.load(f)\n",
    "        temp = {}\n",
    "        for k,vv in d.items():\n",
    "            pid = k.split('-')[0]\n",
    "            time = k.split('-')[1]\n",
    "            if pid not in temp:\n",
    "                temp[pid]=[]\n",
    "            temp[pid].append(vv['steps'])\n",
    "            \n",
    "        to_return[ff]=temp\n",
    "    return to_return"
   ]
  },
  {
   "cell_type": "code",
   "execution_count": 165,
   "metadata": {},
   "outputs": [],
   "source": [
    "with open('{}batch/results/{}/population_size_32_update_days_7_short_static_sim_0.pkl'.format(results_path,'case_one'),'rb') as f:\n",
    "    dt = pickle.load(f)"
   ]
  },
  {
   "cell_type": "code",
   "execution_count": null,
   "metadata": {},
   "outputs": [],
   "source": []
  },
  {
   "cell_type": "code",
   "execution_count": 56,
   "metadata": {},
   "outputs": [
    {
     "name": "stdout",
     "output_type": "stream",
     "text": [
      "50\n"
     ]
    }
   ],
   "source": [
    "batch_c_one= get_results_batch_time(32,7,'case_one')\n",
    "#bsteps_cone = get_step_counts(batch_one)\n",
    "#print(len(batch_c_one))\n",
    "#np.array(batch_c_one).mean()"
   ]
  },
  {
   "cell_type": "code",
   "execution_count": 14,
   "metadata": {},
   "outputs": [
    {
     "name": "stdout",
     "output_type": "stream",
     "text": [
      "5\n",
      "2\n",
      "4\n",
      "3\n",
      "1\n",
      "0\n"
     ]
    }
   ],
   "source": [
    "batch_c_one= get_results_p_time(32,7,'case_three')"
   ]
  },
  {
   "cell_type": "code",
   "execution_count": 15,
   "metadata": {},
   "outputs": [],
   "source": [
    "#with open('to_plot_case_one_personalized_continuous.pkl','wb') as f:\n",
    "#    pickle.dump(batch_c_one,f)"
   ]
  },
  {
   "cell_type": "code",
   "execution_count": 57,
   "metadata": {},
   "outputs": [],
   "source": [
    "#with open('to_plot_case_one_batch.pkl','wb') as f:\n",
    "#    pickle.dump(batch_c_one,f)"
   ]
  },
  {
   "cell_type": "code",
   "execution_count": 137,
   "metadata": {},
   "outputs": [
    {
     "data": {
      "text/plain": [
       "471.6503056629485"
      ]
     },
     "execution_count": 137,
     "metadata": {},
     "output_type": "execute_result"
    }
   ],
   "source": [
    "math.exp(6.156237833167206)"
   ]
  },
  {
   "cell_type": "code",
   "execution_count": null,
   "metadata": {},
   "outputs": [],
   "source": [
    "5.593677643634102,5.553803400871995,5.591160655453143"
   ]
  },
  {
   "cell_type": "code",
   "execution_count": 186,
   "metadata": {},
   "outputs": [
    {
     "name": "stdout",
     "output_type": "stream",
     "text": [
      "50\n"
     ]
    },
    {
     "data": {
      "text/plain": [
       "5.827554804327649"
      ]
     },
     "execution_count": 186,
     "metadata": {},
     "output_type": "execute_result"
    }
   ],
   "source": [
    "batch_c_two= get_results_batch(32,7,'case_one')\n",
    "np.array(batch_c_two).mean()"
   ]
  },
  {
   "cell_type": "code",
   "execution_count": 187,
   "metadata": {},
   "outputs": [
    {
     "name": "stdout",
     "output_type": "stream",
     "text": [
      "50\n"
     ]
    },
    {
     "data": {
      "text/plain": [
       "5.769532653855995"
      ]
     },
     "execution_count": 187,
     "metadata": {},
     "output_type": "execute_result"
    }
   ],
   "source": [
    "batch_c_two= get_results_batch(32,7,'case_two')\n",
    "np.array(batch_c_two).mean()"
   ]
  },
  {
   "cell_type": "code",
   "execution_count": 177,
   "metadata": {},
   "outputs": [],
   "source": [
    "#(np.array([math.exp(s)-.5 for s in batch_c_two])).mean()"
   ]
  },
  {
   "cell_type": "code",
   "execution_count": 188,
   "metadata": {},
   "outputs": [
    {
     "name": "stdout",
     "output_type": "stream",
     "text": [
      "50\n"
     ]
    },
    {
     "data": {
      "text/plain": [
       "5.813412415319863"
      ]
     },
     "execution_count": 188,
     "metadata": {},
     "output_type": "execute_result"
    }
   ],
   "source": [
    "batch_c_two= get_results_batch(32,7,'case_three')\n",
    "np.array(batch_c_two).mean()"
   ]
  },
  {
   "cell_type": "code",
   "execution_count": 178,
   "metadata": {},
   "outputs": [],
   "source": [
    "with open('{}/{}'.format('../../Downloads/cases_from_cluster/case_two_two','updates_case_two_participant_32_7_7300.txt'),'r') as f:\n",
    "    l = f.readlines()"
   ]
  },
  {
   "cell_type": "code",
   "execution_count": 179,
   "metadata": {},
   "outputs": [
    {
     "data": {
      "text/plain": [
       "'p_info 2015-10-19 19:00:00 6878  3:23AM EST on Feb 25, 2019 29 -0.31972464337509376 1\\n'"
      ]
     },
     "execution_count": 179,
     "metadata": {},
     "output_type": "execute_result"
    }
   ],
   "source": [
    "l[-1]"
   ]
  },
  {
   "cell_type": "code",
   "execution_count": 25,
   "metadata": {},
   "outputs": [],
   "source": [
    "def count_done(direct,files):\n",
    "    goods =[]\n",
    "    for f in files:\n",
    "        with open('{}/{}'.format(direct,f),'r') as f:\n",
    "            l = f.readlines()\n",
    "        if  '2015-09-13 19:00:00' in  l[-1]:\n",
    "            goods.append(f)\n",
    "    return goods"
   ]
  },
  {
   "cell_type": "code",
   "execution_count": 33,
   "metadata": {},
   "outputs": [
    {
     "data": {
      "text/plain": [
       "15"
      ]
     },
     "execution_count": 33,
     "metadata": {},
     "output_type": "execute_result"
    }
   ],
   "source": [
    "ptwo = [f for f in os.listdir('../../Downloads/cases_from_cluster/case_two') if '32' in f and 'part' in f and 'no_tuning' not in f]\n",
    "good_two = count_done('../../Downloads/cases_from_cluster/case_two',ptwo)\n",
    "len(good_two)"
   ]
  },
  {
   "cell_type": "code",
   "execution_count": 34,
   "metadata": {},
   "outputs": [
    {
     "data": {
      "text/plain": [
       "15"
      ]
     },
     "execution_count": 34,
     "metadata": {},
     "output_type": "execute_result"
    }
   ],
   "source": [
    "ptwo = [f for f in os.listdir('../../Downloads/cases_from_cluster/case_three') if '32' in f and 'part' in f  and 'no_tuning' not in f]\n",
    "good_three = count_done('../../Downloads/cases_from_cluster/case_three',ptwo)\n",
    "len(good_three)"
   ]
  },
  {
   "cell_type": "code",
   "execution_count": 35,
   "metadata": {},
   "outputs": [
    {
     "data": {
      "text/plain": [
       "15"
      ]
     },
     "execution_count": 35,
     "metadata": {},
     "output_type": "execute_result"
    }
   ],
   "source": [
    "ptwo = [f for f in os.listdir('../../Downloads/cases_from_cluster/case_one') if '32' in f and 'part' in f  and 'no_tuning' not in f]\n",
    "good_three = count_done('../../Downloads/cases_from_cluster/case_one',ptwo)\n",
    "len(good_three)"
   ]
  },
  {
   "cell_type": "code",
   "execution_count": null,
   "metadata": {},
   "outputs": [],
   "source": [
    "def look_at_group_correlation(groupids,predictions):\n",
    "    group_one = []\n",
    "    group_two = []\n",
    "    \n",
    "    for k,v in predictions.items():\n",
    "        if groupids[k]=="
   ]
  }
 ],
 "metadata": {
  "kernelspec": {
   "display_name": "Python 3",
   "language": "python",
   "name": "python3"
  },
  "language_info": {
   "codemirror_mode": {
    "name": "ipython",
    "version": 3
   },
   "file_extension": ".py",
   "mimetype": "text/x-python",
   "name": "python",
   "nbconvert_exporter": "python",
   "pygments_lexer": "ipython3",
   "version": "3.6.8"
  }
 },
 "nbformat": 4,
 "nbformat_minor": 2
}
