{
 "cells": [
  {
   "cell_type": "code",
   "execution_count": 1,
   "metadata": {},
   "outputs": [],
   "source": [
    "import pandas as pd\n",
    "import numpy as np\n",
    "import pickle\n",
    "from sklearn.linear_model import LinearRegression"
   ]
  },
  {
   "cell_type": "code",
   "execution_count": 2,
   "metadata": {},
   "outputs": [],
   "source": [
    "with open('../../Downloads/distributions/merged_est.pkl','rb') as f:\n",
    "    merged = pickle.load(f)"
   ]
  },
  {
   "cell_type": "code",
   "execution_count": 3,
   "metadata": {},
   "outputs": [],
   "source": [
    "def adjust_to_thirty_minute(steps):\n",
    "    return steps.fillna(0).tz_localize(None).resample('30T').sum().fillna(0)"
   ]
  },
  {
   "cell_type": "code",
   "execution_count": 4,
   "metadata": {},
   "outputs": [
    {
     "data": {
      "text/plain": [
       "Index(['avail', 'decision.utime', 'jbsteps10', 'location.category',\n",
       "       'location.category.response', 'sedentary.width', 'send', 'send.active',\n",
       "       'send.sedentary', 'steps', 'study.day', 'user', 'weather.condition',\n",
       "       'weather.condition.response', 'window.utime'],\n",
       "      dtype='object')"
      ]
     },
     "execution_count": 4,
     "metadata": {},
     "output_type": "execute_result"
    }
   ],
   "source": [
    "merged[1].columns"
   ]
  },
  {
   "cell_type": "code",
   "execution_count": 5,
   "metadata": {},
   "outputs": [],
   "source": [
    "def get_activity_suggestion(user_df):\n",
    "    to_return = {}\n",
    "    for index,row in user_df.iterrows():\n",
    "        if type(row['avail'])==bool and row['avail']:\n",
    "            if type(row['send.active'])==bool:\n",
    "                sent = row['send.active']\n",
    "                i = index.round('30T').tz_localize(None)\n",
    "                to_return[i]=sent\n",
    "    return to_return"
   ]
  },
  {
   "cell_type": "code",
   "execution_count": 6,
   "metadata": {},
   "outputs": [],
   "source": [
    "def get_anti_sedentary(user_df):\n",
    "    to_return = {}\n",
    "    for index,row in user_df.iterrows():\n",
    "        if type(row['avail'])==bool and row['avail']:\n",
    "            if type(row['send.sedentary'])==bool:\n",
    "                sent = row['send.sedentary']\n",
    "                i = index.round('30T').tz_localize(None)\n",
    "                to_return[i]=sent\n",
    "    return to_return"
   ]
  },
  {
   "cell_type": "code",
   "execution_count": 8,
   "metadata": {},
   "outputs": [],
   "source": [
    "all_antis = {k:get_anti_sedentary(v) for k,v in merged.items() if k!=4}\n",
    "all_actives = {k:get_activity_suggestion(v) for k,v in merged.items() if k!=4}\n"
   ]
  },
  {
   "cell_type": "code",
   "execution_count": null,
   "metadata": {},
   "outputs": [],
   "source": []
  },
  {
   "cell_type": "code",
   "execution_count": 27,
   "metadata": {},
   "outputs": [
    {
     "ename": "SyntaxError",
     "evalue": "invalid syntax (<ipython-input-27-8658762c36af>, line 22)",
     "output_type": "error",
     "traceback": [
      "\u001b[0;36m  File \u001b[0;32m\"<ipython-input-27-8658762c36af>\"\u001b[0;36m, line \u001b[0;32m22\u001b[0m\n\u001b[0;31m    elif b[i]\u001b[0m\n\u001b[0m             ^\u001b[0m\n\u001b[0;31mSyntaxError\u001b[0m\u001b[0;31m:\u001b[0m invalid syntax\n"
     ]
    }
   ],
   "source": [
    "def get_all_dow():\n",
    "    to_return = {0:{'True':[],'False':[]},1:{'True':[],'False':[]}}\n",
    "    for k,v in merged.items():\n",
    "        if k!=4:\n",
    "            \n",
    "            a = all_actives[k]\n",
    "            b = all_antis[k]\n",
    "        #print(len(a))\n",
    "            xs = []\n",
    "            ys = []\n",
    "            if k!=4:\n",
    "                steps = adjust_to_thirty_minute(v['steps'])\n",
    "                for i,s in steps.iteritems():\n",
    "                    dow = i.dayofweek\n",
    "                    if i in a and i in b and i.hour>=9 and i.hour<21:\n",
    "                    #print('found')\n",
    "                        action = a[i]\n",
    "                    #print(action)\n",
    "                    #int(dow==5 or dow==6)\n",
    "                        if action:\n",
    "                            to_return[int(dow==5 or dow==6)]['True'].append(s)\n",
    "                        elif b[i]\n",
    "                      \n",
    "                                to_return[int(dow==5 or dow==6)]['False'].append(s)\n",
    "                        #elif b[i]:\n",
    "                        #else:\n",
    "                            #to_return[int(dow==5 or dow==6)]['False'].append(s)\n",
    "                    #if i in b and i.hour>=9 and i.hour<21:\n",
    "                       \n",
    "                        #action = b[i]\n",
    "                    #print(action)\n",
    "                    #int(dow==5 or dow==6)\n",
    "                        #if action:\n",
    "                            #to_return[int(dow==5 or dow==6)]['False'].append(s)\n",
    "    return to_return"
   ]
  },
  {
   "cell_type": "code",
   "execution_count": 28,
   "metadata": {},
   "outputs": [
    {
     "ename": "SyntaxError",
     "evalue": "invalid syntax (<ipython-input-28-155330e3c2db>, line 22)",
     "output_type": "error",
     "traceback": [
      "\u001b[0;36m  File \u001b[0;32m\"<ipython-input-28-155330e3c2db>\"\u001b[0;36m, line \u001b[0;32m22\u001b[0m\n\u001b[0;31m    elif b[i]\u001b[0m\n\u001b[0m             ^\u001b[0m\n\u001b[0;31mSyntaxError\u001b[0m\u001b[0;31m:\u001b[0m invalid syntax\n"
     ]
    }
   ],
   "source": [
    "def get_all_tod():\n",
    "    to_return = {0:{'True':[],'False':[]},1:{'True':[],'False':[]}}\n",
    "    for k,v in merged.items():\n",
    "        if k!=4:\n",
    "            \n",
    "            a = all_actives[k]\n",
    "            b = all_antis[k]\n",
    "        #print(len(a))\n",
    "            xs = []\n",
    "            ys = []\n",
    "            if k!=4:\n",
    "                steps = adjust_to_thirty_minute(v['steps'])\n",
    "                for i,s in steps.iteritems():\n",
    "                    hour = hour_ids[i.hour]\n",
    "                    if i in a and i in b and hour!=2:\n",
    "                    #print('found')\n",
    "                        action = a[i]\n",
    "                    #print(action)\n",
    "                    #int(dow==5 or dow==6)\n",
    "                        if action:\n",
    "                            to_return[int(hour)]['True'].append(s)\n",
    "                        elif b[i]\n",
    "                \n",
    "                                to_return[int(hour)]['False'].append(s)\n",
    "                        #elif b[i]:\n",
    "                        #else:\n",
    "                            #to_return[int(hour)]['False'].append(s)\n",
    "                    #if i in b and i.hour>=9 and i.hour<21:\n",
    "                       \n",
    "                        #action = b[i]\n",
    "                    #print(action)\n",
    "                    #int(dow==5 or dow==6)\n",
    "                        #if action:\n",
    "                            #to_return[int(dow==5 or dow==6)]['False'].append(s)\n",
    "    return to_return"
   ]
  },
  {
   "cell_type": "code",
   "execution_count": 41,
   "metadata": {},
   "outputs": [],
   "source": [
    "def get_all_temperature():\n",
    "    to_return = {0:{'True':[],'False':[]},1:{'True':[],'False':[]}}\n",
    "    for k,v in merged.items():\n",
    "        if k!=4:\n",
    "            \n",
    "            a = all_actives[k]\n",
    "            b = all_antis[k]\n",
    "        #print(len(a))\n",
    "            xs = []\n",
    "            ys = []\n",
    "            if k!=4:\n",
    "                steps = adjust_to_thirty_minute(v['steps'])\n",
    "                for i,s in steps.iteritems():\n",
    "                    temp = None\n",
    "                    if i in temps[k]:\n",
    "                        temp = temps[k][i]\n",
    "                    if i in a and i in b and i.hour>=9 and i.hour<21:\n",
    "                    #print('found')\n",
    "                        action = a[i]\n",
    "                    #print(action)\n",
    "                    #int(dow==5 or dow==6)\n",
    "                        if  temp is not None:\n",
    "                            #to_return[int(temp)]['True'].append(s)\n",
    "                        \n",
    "                            if action:\n",
    "                                to_return[int(temp)]['True'].append(s)\n",
    "                            elif b[i]:\n",
    "                         \n",
    "                                    to_return[int(temp)]['False'].append(s)\n",
    "                    #if i in b and i.hour>=9 and i.hour<21:\n",
    "                       \n",
    "                        #action = b[i]\n",
    "                    #print(action)\n",
    "                    #int(dow==5 or dow==6)\n",
    "                        #if action:\n",
    "                            #to_return[int(dow==5 or dow==6)]['False'].append(s)\n",
    "    return to_return"
   ]
  },
  {
   "cell_type": "code",
   "execution_count": 42,
   "metadata": {},
   "outputs": [],
   "source": [
    "def get_all_last_steps():\n",
    "    to_return = {0:{'True':[],'False':[]},1:{'True':[],'False':[]}}\n",
    "    for k,v in merged.items():\n",
    "        if k!=4:\n",
    "            \n",
    "            a = all_actives[k]\n",
    "            b = all_antis[k]\n",
    "        #print(len(a))\n",
    "            xs = []\n",
    "            ys = []\n",
    "            if k!=4:\n",
    "                steps = adjust_to_thirty_minute(v['steps'])\n",
    "                for i,s in steps.iteritems():\n",
    "                    temp = None\n",
    "                    if i in last_steps[k]:\n",
    "                        temp = last_steps[k][i]\n",
    "                    if i in a and i in b and i.hour>=9 and i.hour<21:\n",
    "                    #print('found')\n",
    "                        action = a[i]\n",
    "                    #print(action)\n",
    "                    #int(dow==5 or dow==6)\n",
    "                    #int(dow==5 or dow==6)\n",
    "                        if  temp is not None:\n",
    "                            #to_return[int(temp)]['True'].append(s)\n",
    "                        \n",
    "                            if action:\n",
    "                                to_return[int(temp)]['True'].append(s)\n",
    "                            elif b[i]:\n",
    "                    \n",
    "                                    to_return[int(temp)]['False'].append(s)\n",
    "                    #if i in b and i.hour>=9 and i.hour<21:\n",
    "                       \n",
    "                        #action = b[i]\n",
    "                    #print(action)\n",
    "                    #int(dow==5 or dow==6)\n",
    "                        #if action:\n",
    "                            #to_return[int(dow==5 or dow==6)]['False'].append(s)\n",
    "    return to_return"
   ]
  },
  {
   "cell_type": "code",
   "execution_count": 31,
   "metadata": {},
   "outputs": [],
   "source": [
    "def get_all_location():\n",
    "    to_return = {0:{'True':[],'False':[]},1:{'True':[],'False':[]}}\n",
    "    for k,v in merged.items():\n",
    "        if k!=4:\n",
    "            \n",
    "            a = all_actives[k]\n",
    "            b = all_antis[k]\n",
    "        #print(len(a))\n",
    "            xs = []\n",
    "            ys = []\n",
    "            if k!=4:\n",
    "                steps = adjust_to_thirty_minute(v['steps'])\n",
    "                for i,s in steps.iteritems():\n",
    "                    temp = None\n",
    "                    if i in location[k]:\n",
    "                        temp = location[k][i]\n",
    "                    if i in a and i in b and i.hour>=9 and i.hour<21:\n",
    "                    #print('found')\n",
    "                        action = a[i]\n",
    "                    #print(action)\n",
    "                    #int(dow==5 or dow==6)\n",
    "                        if  temp is not None:\n",
    "                            #to_return[int(temp)]['True'].append(s)\n",
    "                        \n",
    "                            if action:\n",
    "                                to_return[int(temp)]['True'].append(s)\n",
    "                            elif b[i]:\n",
    "                      \n",
    "                                    to_return[int(temp)]['False'].append(s)\n",
    "                            \n",
    "                        #elif b[i] and temp is not None:\n",
    "                        #else:\n",
    "                            #to_return[int(temp)]['False'].append(s)\n",
    "                    #if i in b and i.hour>=9 and i.hour<21:\n",
    "                       \n",
    "                        #action = b[i]\n",
    "                    #print(action)\n",
    "                    #int(dow==5 or dow==6)\n",
    "                        #if action:\n",
    "                            #to_return[int(dow==5 or dow==6)]['False'].append(s)\n",
    "    return to_return"
   ]
  },
  {
   "cell_type": "code",
   "execution_count": 32,
   "metadata": {},
   "outputs": [],
   "source": [
    "def get_intercept():\n",
    "    to_return = {'True':[],'False':[]}\n",
    "    for k,v in merged.items():\n",
    "        if k!=4:\n",
    "            \n",
    "            a = all_actives[k]\n",
    "            b = all_antis[k]\n",
    "        #print(len(a))\n",
    "            xs = []\n",
    "            ys = []\n",
    "            if k!=4:\n",
    "                steps = adjust_to_thirty_minute(v['steps'])\n",
    "                for i,s in steps.iteritems():\n",
    "                    dow = i.dayofweek\n",
    "                    if i in a and i in b and i.hour>=9 and i.hour<21:\n",
    "                    #print('found')\n",
    "                        action = a[i]\n",
    "                    #print(action)\n",
    "                    #int(dow==5 or dow==6)\n",
    "                        if action:\n",
    "                            to_return['True'].append(s)\n",
    "                        #else:\n",
    "                            #to_return['False'].append(s)\n",
    "                        #elif b[i]:\n",
    "                        elif b[i]:\n",
    "                    \n",
    "                                to_return['False'].append(s)\n",
    "                    #if i in b and i.hour>=9 and i.hour<21:\n",
    "                       \n",
    "                        #action = b[i]\n",
    "                    #print(action)\n",
    "                    #int(dow==5 or dow==6)\n",
    "                        #if action:\n",
    "                            #to_return[int(dow==5 or dow==6)]['False'].append(s)\n",
    "    return to_return"
   ]
  },
  {
   "cell_type": "code",
   "execution_count": null,
   "metadata": {},
   "outputs": [],
   "source": [
    "test = get_all_tod()"
   ]
  },
  {
   "cell_type": "code",
   "execution_count": null,
   "metadata": {},
   "outputs": [],
   "source": [
    "tn = get_intercept()"
   ]
  },
  {
   "cell_type": "code",
   "execution_count": 15,
   "metadata": {},
   "outputs": [],
   "source": [
    "import math\n",
    "def make_x_y(d):\n",
    "    X = []\n",
    "    y = []\n",
    "    \n",
    "    mean_zero = np.array([math.log(s+.5) for s in d[0]['True']]).mean()-np.array([math.log(s+.5) for s in d[0]['False']]).mean()\n",
    "    mean_one = np.array([math.log(s+.5) for s in d[1]['True']]).mean()-np.array([math.log(s+.5) for s in d[1]['False']]).mean()\n",
    "    X = [[0],[1]]\n",
    "    y = [mean_zero,mean_one]\n",
    "    return X,y"
   ]
  },
  {
   "cell_type": "code",
   "execution_count": 16,
   "metadata": {},
   "outputs": [],
   "source": [
    "import math\n",
    "def make_x_y_intercept(d):\n",
    "    X = []\n",
    "    y = []\n",
    "    print( len(d['True']))\n",
    "    print( len(d['False']))\n",
    "    \n",
    "    mean_zero = np.array([math.log(s+.5) for s in d['True']]).mean()-np.array([math.log(s+.5) for s in d['False']]).mean()\n",
    "    X = [[0]]\n",
    "    y = [mean_zero]\n",
    "    return X,y"
   ]
  },
  {
   "cell_type": "code",
   "execution_count": 17,
   "metadata": {},
   "outputs": [],
   "source": [
    "import math\n",
    "def make_x_y_fancy(d):\n",
    "    X = []\n",
    "    y = []\n",
    "    \n",
    "    \n",
    "    mzero_one,szero_one = get_mean_std( d[0]['True'])\n",
    "    mzero_zero,szero_zero = get_mean_std( d[0]['False'])\n",
    "    \n",
    "    mone_one,sone_one = get_mean_std( d[1]['True'])\n",
    "    mone_zero,sone_zero = get_mean_std( d[1]['False'])\n",
    "    \n",
    "    mean_zero = mzero_one-mzero_zero\n",
    "    mean_one = mone_one-mone_zero\n",
    "    \n",
    "    \n",
    "    X = [[0],[1]]\n",
    "    y = [mean_zero,mean_one]\n",
    "    return X,y"
   ]
  },
  {
   "cell_type": "code",
   "execution_count": 18,
   "metadata": {},
   "outputs": [],
   "source": [
    "def get_mean_std(raw_array):\n",
    "    arr = [s+.5 for s in raw_array]\n",
    "    \n",
    "    phi = np.sqrt(np.array(arr).std()**2+np.array(arr).mean()**2)\n",
    "    \n",
    "    normal_mean = math.log(np.array(arr).mean()**2/phi)\n",
    "    normal_std = np.sqrt(math.log(phi**2/np.array(arr).mean()**2))\n",
    "    return normal_mean,normal_std"
   ]
  },
  {
   "cell_type": "code",
   "execution_count": 19,
   "metadata": {},
   "outputs": [],
   "source": [
    "import math\n",
    "def make_x_y_intercept(d):\n",
    "    X = []\n",
    "    y = []\n",
    "    o = min( len(d['True']),len(d['False']))\n",
    "\n",
    "    \n",
    "    #mean_zero = np.array([math.log(s+.5) for s in d['True']]).mean()-np.array([math.log(s+.5) for s in d['False']]).mean()\n",
    "    m_one,std_one = get_mean_std( d['True'])\n",
    "    \n",
    "    m_zero,std_zero = get_mean_std( d['False'])\n",
    "    \n",
    "    for i in range(o):\n",
    "        X.append([0])\n",
    "        y_one = np.random.normal(loc =m_one,scale=std_one)\n",
    "        y_two = np.random.normal(loc =m_zero,scale=std_zero)\n",
    "        y.append(y_one-y_two)\n",
    "    return X,y"
   ]
  },
  {
   "cell_type": "code",
   "execution_count": 47,
   "metadata": {},
   "outputs": [],
   "source": [
    "test = get_all_temperature()"
   ]
  },
  {
   "cell_type": "code",
   "execution_count": 48,
   "metadata": {},
   "outputs": [
    {
     "data": {
      "text/plain": [
       "array([0.18145672])"
      ]
     },
     "execution_count": 48,
     "metadata": {},
     "output_type": "execute_result"
    }
   ],
   "source": [
    "X,y = make_x_y_fancy(test)\n",
    "reg = LinearRegression().fit(X, y)\n",
    "reg.coef_"
   ]
  },
  {
   "cell_type": "code",
   "execution_count": 296,
   "metadata": {},
   "outputs": [
    {
     "data": {
      "text/plain": [
       "[-0.01597239389423022, 0.38353261266077876]"
      ]
     },
     "execution_count": 296,
     "metadata": {},
     "output_type": "execute_result"
    }
   ],
   "source": []
  },
  {
   "cell_type": "code",
   "execution_count": 297,
   "metadata": {},
   "outputs": [],
   "source": [
    "reg = LinearRegression().fit(X, y)"
   ]
  },
  {
   "cell_type": "code",
   "execution_count": 298,
   "metadata": {},
   "outputs": [
    {
     "data": {
      "text/plain": [
       "array([0.39950501])"
      ]
     },
     "execution_count": 298,
     "metadata": {},
     "output_type": "execute_result"
    }
   ],
   "source": [
    "reg.coef_"
   ]
  },
  {
   "cell_type": "code",
   "execution_count": 248,
   "metadata": {},
   "outputs": [
    {
     "data": {
      "text/plain": [
       "0.22518209432175196"
      ]
     },
     "execution_count": 248,
     "metadata": {},
     "output_type": "execute_result"
    }
   ],
   "source": [
    "reg.intercept_"
   ]
  },
  {
   "cell_type": "code",
   "execution_count": 315,
   "metadata": {},
   "outputs": [
    {
     "data": {
      "text/plain": [
       "0.24084978362502385"
      ]
     },
     "execution_count": 315,
     "metadata": {},
     "output_type": "execute_result"
    }
   ],
   "source": [
    "X,y = make_x_y_intercept(tn)\n",
    "reg = LinearRegression().fit(X, y)\n",
    "reg.coef_\n",
    "reg.intercept_"
   ]
  },
  {
   "cell_type": "code",
   "execution_count": 257,
   "metadata": {},
   "outputs": [
    {
     "data": {
      "text/plain": [
       "[0.20298266707683954]"
      ]
     },
     "execution_count": 257,
     "metadata": {},
     "output_type": "execute_result"
    }
   ],
   "source": [
    "y"
   ]
  },
  {
   "cell_type": "code",
   "execution_count": 90,
   "metadata": {},
   "outputs": [
    {
     "data": {
      "text/plain": [
       "220.20762711864407"
      ]
     },
     "execution_count": 90,
     "metadata": {},
     "output_type": "execute_result"
    }
   ],
   "source": [
    "np.array(test[1]['True']).mean()"
   ]
  },
  {
   "cell_type": "code",
   "execution_count": 89,
   "metadata": {},
   "outputs": [
    {
     "data": {
      "text/plain": [
       "(1021,)"
      ]
     },
     "execution_count": 89,
     "metadata": {},
     "output_type": "execute_result"
    }
   ],
   "source": [
    "np.array(test[1]['False']).shape"
   ]
  },
  {
   "cell_type": "code",
   "execution_count": 91,
   "metadata": {},
   "outputs": [
    {
     "data": {
      "text/plain": [
       "[19.762575975894237, 0.21252427829148246]"
      ]
     },
     "execution_count": 91,
     "metadata": {},
     "output_type": "execute_result"
    }
   ],
   "source": [
    "y"
   ]
  },
  {
   "cell_type": "code",
   "execution_count": 20,
   "metadata": {},
   "outputs": [],
   "source": [
    "with open('../../Downloads/distributions/hour_to_id.pkl','rb') as f:\n",
    "    hour_ids = pickle.load(f)\n",
    "with open('../../Downloads/distributions/tonly_lookup_dict.pkl','rb') as f:\n",
    "    temps = pickle.load(f)\n",
    "with open('../../Downloads/distributions/newlog_steps_last30min.pkl','rb') as f:\n",
    "    last_steps = pickle.load(f)\n",
    "with open('../../Downloads/distributions/location_lookup_dict_basics.pkl','rb') as f:\n",
    "    location = pickle.load(f)\n"
   ]
  },
  {
   "cell_type": "code",
   "execution_count": null,
   "metadata": {},
   "outputs": [],
   "source": []
  },
  {
   "cell_type": "code",
   "execution_count": 184,
   "metadata": {},
   "outputs": [
    {
     "data": {
      "text/plain": [
       "int"
      ]
     },
     "execution_count": 184,
     "metadata": {},
     "output_type": "execute_result"
    }
   ],
   "source": [
    "type(hour_ids[2])"
   ]
  },
  {
   "cell_type": "code",
   "execution_count": null,
   "metadata": {},
   "outputs": [],
   "source": []
  }
 ],
 "metadata": {
  "kernelspec": {
   "display_name": "Python 3",
   "language": "python",
   "name": "python3"
  },
  "language_info": {
   "codemirror_mode": {
    "name": "ipython",
    "version": 3
   },
   "file_extension": ".py",
   "mimetype": "text/x-python",
   "name": "python",
   "nbconvert_exporter": "python",
   "pygments_lexer": "ipython3",
   "version": "3.6.8"
  }
 },
 "nbformat": 4,
 "nbformat_minor": 2
}
