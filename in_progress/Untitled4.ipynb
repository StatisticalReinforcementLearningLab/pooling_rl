{
 "cells": [
  {
   "cell_type": "code",
   "execution_count": 6,
   "metadata": {},
   "outputs": [],
   "source": [
    "import pickle\n",
    "import pandas as pd\n",
    "import pytz"
   ]
  },
  {
   "cell_type": "code",
   "execution_count": null,
   "metadata": {},
   "outputs": [],
   "source": [
    "Timestamp('2015-07-27 00:00:00-0500', tz='EST', freq='30T')"
   ]
  },
  {
   "cell_type": "code",
   "execution_count": 2,
   "metadata": {},
   "outputs": [],
   "source": [
    "with open('../../Downloads/population_time_indices/all_ordered_times_Mondays.pkl','rb') as f:\n",
    "    t = pickle.load(f)"
   ]
  },
  {
   "cell_type": "code",
   "execution_count": 4,
   "metadata": {},
   "outputs": [],
   "source": [
    "\n",
    "with open('../../Downloads/population_time_indices/time_to_active_participants_pop_50.pkl','rb') as f:\n",
    "    tt = pickle.load(f)"
   ]
  },
  {
   "cell_type": "code",
   "execution_count": 7,
   "metadata": {},
   "outputs": [],
   "source": [
    "news = [ts.tz_localize(None) for ts in t]\n",
    "    "
   ]
  },
  {
   "cell_type": "code",
   "execution_count": 10,
   "metadata": {},
   "outputs": [],
   "source": [
    "with open('../../Downloads/population_time_indices/all_ordered_times_Mondays.pkl','wb') as f:\n",
    "    pickle.dump(news,f)"
   ]
  },
  {
   "cell_type": "code",
   "execution_count": null,
   "metadata": {},
   "outputs": [],
   "source": [
    "'aint-1-gid-1-tod-0-dow-0-wea-0-pre-1-loc-0'"
   ]
  },
  {
   "cell_type": "code",
   "execution_count": 11,
   "metadata": {},
   "outputs": [],
   "source": [
    "with open('../../Downloads/current_distributions/key_matches_interventions.pkl','rb') as f:\n",
    "    k = pickle.load(f)"
   ]
  },
  {
   "cell_type": "code",
   "execution_count": 14,
   "metadata": {},
   "outputs": [
    {
     "data": {
      "text/plain": [
       "True"
      ]
     },
     "execution_count": 14,
     "metadata": {},
     "output_type": "execute_result"
    }
   ],
   "source": [
    "'aint-1-gid-2-tod-0-dow-0-wea-1-pre-0-loc-0' in k"
   ]
  },
  {
   "cell_type": "code",
   "execution_count": 15,
   "metadata": {},
   "outputs": [],
   "source": [
    "with open('../../Downloads/state_keys_one_hot.pkl','rb') as f:\n",
    "    sk = pickle.load(f)"
   ]
  },
  {
   "cell_type": "code",
   "execution_count": 16,
   "metadata": {},
   "outputs": [
    {
     "data": {
      "text/plain": [
       "{'tod-0-dow-0-wea-0-pre-0-loc-2': 0,\n",
       " 'tod-0-dow-0-wea-0-pre-0-loc-0': 1,\n",
       " 'tod-0-dow-1-wea-1-pre-0-loc-0': 2,\n",
       " 'tod-1-dow-0-wea-0-pre-0-loc-2': 3,\n",
       " 'tod-0-dow-0-wea-1-pre-1-loc-3': 4,\n",
       " 'tod-0-dow-0-wea-1-pre-1-loc-2': 5,\n",
       " 'tod-0-dow-1-wea-0-pre-1-loc-1': 6,\n",
       " 'tod-0-dow-0-wea-1-pre-0-loc-3': 7,\n",
       " 'tod-1-dow-0-wea-1-pre-0-loc-1': 8,\n",
       " 'tod-1-dow-1-wea-0-pre-0-loc-2': 9,\n",
       " 'tod-0-dow-0-wea-1-pre-0-loc-0': 10,\n",
       " 'tod-1-dow-0-wea-0-pre-0-loc-0': 11,\n",
       " 'tod-0-dow-1-wea-0-pre-0-loc-2': 12,\n",
       " 'tod-1-dow-1-wea-0-pre-1-loc-3': 13,\n",
       " 'tod-1-dow-0-wea-0-pre-0-loc-1': 14,\n",
       " 'tod-1-dow-0-wea-1-pre-1-loc-2': 15,\n",
       " 'tod-0-dow-1-wea-1-pre-0-loc-3': 16,\n",
       " 'tod-1-dow-0-wea-0-pre-1-loc-3': 17,\n",
       " 'tod-0-dow-0-wea-1-pre-0-loc-2': 18,\n",
       " 'tod-0-dow-0-wea-0-pre-1-loc-3': 19,\n",
       " 'tod-1-dow-1-wea-1-pre-1-loc-1': 20,\n",
       " 'tod-0-dow-1-wea-0-pre-1-loc-2': 21,\n",
       " 'tod-0-dow-0-wea-0-pre-1-loc-2': 22,\n",
       " 'tod-1-dow-1-wea-1-pre-0-loc-0': 23,\n",
       " 'tod-0-dow-1-wea-0-pre-0-loc-1': 24,\n",
       " 'tod-0-dow-1-wea-1-pre-0-loc-2': 25,\n",
       " 'tod-0-dow-1-wea-0-pre-0-loc-0': 26,\n",
       " 'tod-1-dow-0-wea-1-pre-0-loc-3': 27,\n",
       " 'tod-1-dow-0-wea-1-pre-1-loc-0': 28,\n",
       " 'tod-0-dow-1-wea-1-pre-1-loc-2': 29,\n",
       " 'tod-0-dow-1-wea-1-pre-1-loc-1': 30,\n",
       " 'tod-1-dow-1-wea-1-pre-0-loc-3': 31,\n",
       " 'tod-1-dow-0-wea-0-pre-1-loc-2': 32,\n",
       " 'tod-1-dow-1-wea-0-pre-1-loc-1': 33,\n",
       " 'tod-0-dow-1-wea-1-pre-1-loc-0': 34,\n",
       " 'tod-1-dow-1-wea-0-pre-1-loc-2': 35,\n",
       " 'tod-1-dow-1-wea-1-pre-1-loc-0': 36,\n",
       " 'tod-0-dow-0-wea-1-pre-1-loc-1': 37,\n",
       " 'tod-0-dow-1-wea-0-pre-1-loc-0': 38,\n",
       " 'tod-1-dow-1-wea-0-pre-0-loc-3': 39,\n",
       " 'tod-0-dow-1-wea-1-pre-0-loc-1': 40,\n",
       " 'tod-1-dow-1-wea-1-pre-0-loc-1': 41,\n",
       " 'tod-0-dow-0-wea-1-pre-1-loc-0': 42,\n",
       " 'tod-1-dow-0-wea-1-pre-0-loc-2': 43,\n",
       " 'tod-1-dow-0-wea-1-pre-1-loc-1': 44,\n",
       " 'tod-0-dow-1-wea-0-pre-0-loc-3': 45,\n",
       " 'tod-1-dow-1-wea-1-pre-1-loc-2': 46,\n",
       " 'tod-0-dow-0-wea-1-pre-0-loc-1': 47,\n",
       " 'tod-1-dow-1-wea-1-pre-1-loc-3': 48,\n",
       " 'tod-1-dow-0-wea-1-pre-1-loc-3': 49,\n",
       " 'tod-0-dow-1-wea-1-pre-1-loc-3': 50,\n",
       " 'tod-1-dow-1-wea-0-pre-0-loc-0': 51,\n",
       " 'tod-0-dow-0-wea-0-pre-0-loc-1': 52,\n",
       " 'tod-1-dow-0-wea-0-pre-1-loc-0': 53,\n",
       " 'tod-1-dow-0-wea-0-pre-1-loc-1': 54,\n",
       " 'tod-0-dow-0-wea-0-pre-1-loc-1': 55,\n",
       " 'tod-1-dow-1-wea-0-pre-0-loc-1': 56,\n",
       " 'tod-0-dow-1-wea-0-pre-1-loc-3': 57,\n",
       " 'tod-1-dow-1-wea-0-pre-1-loc-0': 58,\n",
       " 'tod-0-dow-0-wea-0-pre-0-loc-3': 59,\n",
       " 'tod-1-dow-0-wea-0-pre-0-loc-3': 60,\n",
       " 'tod-1-dow-1-wea-1-pre-0-loc-2': 61,\n",
       " 'tod-0-dow-0-wea-0-pre-1-loc-0': 62,\n",
       " 'tod-1-dow-0-wea-1-pre-0-loc-0': 63}"
      ]
     },
     "execution_count": 16,
     "metadata": {},
     "output_type": "execute_result"
    }
   ],
   "source": [
    "sk"
   ]
  },
  {
   "cell_type": "code",
   "execution_count": null,
   "metadata": {},
   "outputs": [],
   "source": []
  }
 ],
 "metadata": {
  "kernelspec": {
   "display_name": "Python 3",
   "language": "python",
   "name": "python3"
  },
  "language_info": {
   "codemirror_mode": {
    "name": "ipython",
    "version": 3
   },
   "file_extension": ".py",
   "mimetype": "text/x-python",
   "name": "python",
   "nbconvert_exporter": "python",
   "pygments_lexer": "ipython3",
   "version": "3.6.8"
  }
 },
 "nbformat": 4,
 "nbformat_minor": 2
}
