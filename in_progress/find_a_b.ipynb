{
 "cells": [
  {
   "cell_type": "code",
   "execution_count": 1,
   "metadata": {},
   "outputs": [],
   "source": [
    "import numpy as np\n",
    "import pickle\n",
    "import matplotlib.pyplot as plt\n",
    "%matplotlib inline\n",
    "import pandas as pd\n",
    "import pandas as pd\n",
    "import sys\n",
    "sys.path\n",
    "sys.path.append('../models')\n",
    "sys.path.append('../simulation')\n",
    "import numpy as np\n",
    "import pickle\n",
    "import random\n",
    "import os\n",
    "import math\n",
    "import sim_functions_cleaner  as sf\n",
    "import operator\n",
    "import study"
   ]
  },
  {
   "cell_type": "code",
   "execution_count": 132,
   "metadata": {},
   "outputs": [],
   "source": [
    "def get_all_states():\n",
    "    all_states = []\n",
    "    counts = {}\n",
    "    for person,data in experiment.population.items():\n",
    "        h = data.history\n",
    "        for time,cd in h.items():\n",
    "            \n",
    "            if cd['avail'] and cd['decision_time']:\n",
    "                states = [1,cd['tod'],cd['dow'],cd['weather'],cd['pretreatment'],cd['location']]\n",
    "                key = '-'.join(str(i) for i in states)\n",
    "                if key not in counts: \n",
    "                    counts[key]=0\n",
    "                counts[key]=counts[key]+1\n",
    "    return counts"
   ]
  },
  {
   "cell_type": "code",
   "execution_count": 172,
   "metadata": {},
   "outputs": [],
   "source": [
    "coeffs = np.array([ 0.05,  0.25, -0.3 ,  0.25,  0.25, -0.3 ])\n",
    "#coeffs = np.array([0.05,  0.25,  0.25,  0.25, -0.3 ])"
   ]
  },
  {
   "cell_type": "code",
   "execution_count": 134,
   "metadata": {},
   "outputs": [],
   "source": [
    "with open('../simulation/visited_states_200.pkl','rb') as f:\n",
    "    experiment = pickle.load(f)"
   ]
  },
  {
   "cell_type": "code",
   "execution_count": 190,
   "metadata": {},
   "outputs": [],
   "source": [
    "s = get_all_states()\n"
   ]
  },
  {
   "cell_type": "code",
   "execution_count": 174,
   "metadata": {},
   "outputs": [],
   "source": [
    "def get_all_states_by_group(gid):\n",
    "    all_states = []\n",
    "    counts = {}\n",
    "    for person,data in experiment.population.items():\n",
    "        h = data.history\n",
    "        \n",
    "        if data.gid==gid:\n",
    "            for time,cd in h.items():\n",
    "            \n",
    "                if cd['avail'] and cd['decision_time']:\n",
    "                    states = [1,cd['tod'],cd['dow'],cd['weather'],cd['pretreatment'],cd['location']]\n",
    "                    key = '-'.join(str(i) for i in states)\n",
    "                    if key not in counts: \n",
    "                        counts[key]=0\n",
    "                    counts[key]=counts[key]+1\n",
    "                    all_states.append(states)\n",
    "    return all_states"
   ]
  },
  {
   "cell_type": "code",
   "execution_count": 175,
   "metadata": {},
   "outputs": [],
   "source": [
    "group_two = get_all_states_by_group(2)\n",
    "group_one = get_all_states_by_group(1)"
   ]
  },
  {
   "cell_type": "code",
   "execution_count": 176,
   "metadata": {},
   "outputs": [],
   "source": [
    "def get_percent_actions(states,coeffs,offset):\n",
    "    return [(np.dot(coeffs.T,s)+offset)>0 for s in states]"
   ]
  },
  {
   "cell_type": "code",
   "execution_count": 177,
   "metadata": {},
   "outputs": [],
   "source": [
    "def get_reward(states,coeffs,offset):\n",
    "    return [(np.dot(coeffs.T,s)+offset) for s in states]"
   ]
  },
  {
   "cell_type": "code",
   "execution_count": null,
   "metadata": {},
   "outputs": [],
   "source": []
  },
  {
   "cell_type": "code",
   "execution_count": 197,
   "metadata": {},
   "outputs": [
    {
     "data": {
      "text/plain": [
       "0.34394516318729784"
      ]
     },
     "execution_count": 197,
     "metadata": {},
     "output_type": "execute_result"
    }
   ],
   "source": [
    "np.array([(np.dot(coeffs.T,st)+0) for st in group_two+group_one]).mean()"
   ]
  },
  {
   "cell_type": "code",
   "execution_count": 178,
   "metadata": {},
   "outputs": [],
   "source": [
    "per_one = get_percent_actions(group_one,coeffs,0)\n",
    "per_two = get_percent_actions(group_two,coeffs,0)"
   ]
  },
  {
   "cell_type": "code",
   "execution_count": 179,
   "metadata": {},
   "outputs": [
    {
     "data": {
      "text/plain": [
       "0.8289806500569116"
      ]
     },
     "execution_count": 179,
     "metadata": {},
     "output_type": "execute_result"
    }
   ],
   "source": [
    "sum(per_one)/len(per_one)"
   ]
  },
  {
   "cell_type": "code",
   "execution_count": 180,
   "metadata": {},
   "outputs": [
    {
     "data": {
      "text/plain": [
       "0.8007803912947901"
      ]
     },
     "execution_count": 180,
     "metadata": {},
     "output_type": "execute_result"
    }
   ],
   "source": [
    "sum(per_two)/len(per_two)"
   ]
  },
  {
   "cell_type": "code",
   "execution_count": null,
   "metadata": {},
   "outputs": [],
   "source": []
  },
  {
   "cell_type": "code",
   "execution_count": 181,
   "metadata": {},
   "outputs": [],
   "source": [
    "rew_one = get_reward(group_one,coeffs,0)\n",
    "rew_two = get_reward(group_two,coeffs,-.5)\n",
    "per_one = get_percent_actions(group_one,coeffs,0)\n",
    "per_two = get_percent_actions(group_two,coeffs,-.5)"
   ]
  },
  {
   "cell_type": "code",
   "execution_count": 182,
   "metadata": {},
   "outputs": [
    {
     "data": {
      "text/plain": [
       "0.8289806500569116"
      ]
     },
     "execution_count": 182,
     "metadata": {},
     "output_type": "execute_result"
    }
   ],
   "source": [
    "sum(per_one)/len(per_one)"
   ]
  },
  {
   "cell_type": "code",
   "execution_count": 183,
   "metadata": {},
   "outputs": [
    {
     "data": {
      "text/plain": [
       "0.33430424269070125"
      ]
     },
     "execution_count": 183,
     "metadata": {},
     "output_type": "execute_result"
    }
   ],
   "source": [
    "sum(per_two)/len(per_two)"
   ]
  },
  {
   "cell_type": "code",
   "execution_count": 184,
   "metadata": {},
   "outputs": [
    {
     "name": "stdout",
     "output_type": "stream",
     "text": [
      "5\n",
      "-0.049999999999999975\n",
      "25\n",
      "0.25\n",
      "50\n",
      "0.3\n",
      "75\n",
      "0.55\n",
      "95\n",
      "0.8\n"
     ]
    }
   ],
   "source": [
    "for i in [5,25,50,75,95]:\n",
    "    print(i)\n",
    "    print(np.percentile(rew_one,i))"
   ]
  },
  {
   "cell_type": "code",
   "execution_count": 185,
   "metadata": {},
   "outputs": [
    {
     "name": "stdout",
     "output_type": "stream",
     "text": [
      "5\n",
      "-0.55\n",
      "25\n",
      "-0.3\n",
      "50\n",
      "-0.24999999999999994\n",
      "75\n",
      "0.050000000000000044\n",
      "95\n",
      "0.30000000000000004\n"
     ]
    }
   ],
   "source": [
    "for i in [5,25,50,75,95]:\n",
    "    print(i)\n",
    "    print(np.percentile(rew_two,i))"
   ]
  },
  {
   "cell_type": "code",
   "execution_count": 198,
   "metadata": {},
   "outputs": [
    {
     "data": {
      "text/plain": [
       "0.050000000000000044"
      ]
     },
     "execution_count": 198,
     "metadata": {},
     "output_type": "execute_result"
    }
   ],
   "source": [
    "-0.24999999999999994+.3"
   ]
  },
  {
   "cell_type": "code",
   "execution_count": 199,
   "metadata": {},
   "outputs": [
    {
     "data": {
      "text/plain": [
       "0.025000000000000022"
      ]
     },
     "execution_count": 199,
     "metadata": {},
     "output_type": "execute_result"
    }
   ],
   "source": [
    "0.050000000000000044/2"
   ]
  },
  {
   "cell_type": "code",
   "execution_count": 202,
   "metadata": {},
   "outputs": [
    {
     "data": {
      "text/plain": [
       "-0.5"
      ]
     },
     "execution_count": 202,
     "metadata": {},
     "output_type": "execute_result"
    }
   ],
   "source": [
    "np.percentile(rew_one+rew_two,5)"
   ]
  },
  {
   "cell_type": "code",
   "execution_count": 203,
   "metadata": {},
   "outputs": [
    {
     "data": {
      "text/plain": [
       "1.45"
      ]
     },
     "execution_count": 203,
     "metadata": {},
     "output_type": "execute_result"
    }
   ],
   "source": [
    ".95--.5"
   ]
  },
  {
   "cell_type": "code",
   "execution_count": 204,
   "metadata": {},
   "outputs": [
    {
     "data": {
      "text/plain": [
       "0.3625"
      ]
     },
     "execution_count": 204,
     "metadata": {},
     "output_type": "execute_result"
    }
   ],
   "source": [
    "1.45/4"
   ]
  },
  {
   "cell_type": "code",
   "execution_count": 205,
   "metadata": {},
   "outputs": [
    {
     "name": "stdout",
     "output_type": "stream",
     "text": [
      "5\n",
      "-0.5\n",
      "25\n",
      "-0.25\n",
      "50\n",
      "0.050000000000000044\n",
      "75\n",
      "0.30000000000000004\n",
      "95\n",
      "0.8\n"
     ]
    }
   ],
   "source": [
    "for i in [5,25,50,75,95]:\n",
    "    print(i)\n",
    "    print(np.percentile(rew_two+rew_one,i))"
   ]
  },
  {
   "cell_type": "code",
   "execution_count": 206,
   "metadata": {},
   "outputs": [
    {
     "data": {
      "text/plain": [
       "1.3"
      ]
     },
     "execution_count": 206,
     "metadata": {},
     "output_type": "execute_result"
    }
   ],
   "source": [
    ".8--.5"
   ]
  },
  {
   "cell_type": "code",
   "execution_count": 207,
   "metadata": {},
   "outputs": [
    {
     "data": {
      "text/plain": [
       "0.325"
      ]
     },
     "execution_count": 207,
     "metadata": {},
     "output_type": "execute_result"
    }
   ],
   "source": [
    "1.3/4"
   ]
  },
  {
   "cell_type": "code",
   "execution_count": null,
   "metadata": {},
   "outputs": [],
   "source": []
  }
 ],
 "metadata": {
  "kernelspec": {
   "display_name": "Python 3",
   "language": "python",
   "name": "python3"
  },
  "language_info": {
   "codemirror_mode": {
    "name": "ipython",
    "version": 3
   },
   "file_extension": ".py",
   "mimetype": "text/x-python",
   "name": "python",
   "nbconvert_exporter": "python",
   "pygments_lexer": "ipython3",
   "version": "3.6.8"
  }
 },
 "nbformat": 4,
 "nbformat_minor": 2
}
