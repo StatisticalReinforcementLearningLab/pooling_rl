{
 "cells": [
  {
   "cell_type": "code",
   "execution_count": 1,
   "metadata": {},
   "outputs": [],
   "source": [
    "import gpflow\n",
    "import numpy as np\n",
    "import math\n",
    "import tensorflow as tf\n",
    "import get_history as gh\n",
    "import pickle"
   ]
  },
  {
   "cell_type": "code",
   "execution_count": 2,
   "metadata": {},
   "outputs": [],
   "source": [
    "sess = tf.Session()"
   ]
  },
  {
   "cell_type": "code",
   "execution_count": 3,
   "metadata": {},
   "outputs": [],
   "source": [
    " def get_all_sigmas(sigma_v,g_one,g_two,day_one,day_two):\n",
    "    #sigmax = [[] for i in range(100)]\n",
    "    #tf.placeholder(tf.float64, shape=(100, 2,2))\n",
    "    \n",
    "            \n",
    "        #print('eff')\n",
    "        #print(effects.shape)\n",
    "        #user_term = tf.constant(np.array([[0.0,0.0],[0.0,0.0]]))           \n",
    "        \n",
    "\n",
    "\n",
    "        #print('eff')\n",
    "        #print(effects.shape)\n",
    "        #effects = tf.tensordot(effects,tf.transpose(g_two),axes = [[1],[0]])\n",
    "    \n",
    "    \n",
    "    \n",
    "        \n",
    "        \n",
    "        get_g = g_one\n",
    "        get_g_two = g_two\n",
    "        \n",
    "        effects_onef = [[] for i in range(100)]\n",
    "        effects_twof = [[] for i in range(100)]\n",
    "\n",
    "        \n",
    "        to_return = [[] for i in range(100)]\n",
    "        for i in range(100):\n",
    "            temp = [[] for i in range(100)]\n",
    "            tempeo = [[] for i in range(100)]\n",
    "            tempet = [[] for i in range(100)]\n",
    "            for j in range( 100):\n",
    "                rho = rbf_custom(day_one[i], X2=day_two[j])\n",
    "            #print(sess.run(rho))\n",
    "                val = rho[0]\n",
    "        #tf.scalar_mul(val,sigma_v)\n",
    "            #print(val)\n",
    "                this_sigma = tf.scalar_mul(val,sigma_v)\n",
    "            #print(this_sigma)\n",
    "                effects_one = tf.tensordot(get_g[i],this_sigma,axes=[[0],[1]])\n",
    "                effects_two = tf.tensordot(effects_one,get_g_two[j],axes = [[0],[0]])\n",
    "                \n",
    "                tempeo[j]=tf.tensordot(get_g[i],sigma_v,axes=[[0],[1]])\n",
    "                tempet[j]=tf.tensordot(tf.tensordot(get_g[i],sigma_v,axes=[[0],[1]]),get_g_two[j],axes = [[0],[0]])\n",
    "                \n",
    "                temp[j]=effects_two\n",
    "                \n",
    "            to_return[i]=temp\n",
    "            effects_onef[i]=tempeo\n",
    "            effects_twof[i]=tempet\n",
    "            \n",
    "            \n",
    "        return to_return,effects_onef,effects_twof "
   ]
  },
  {
   "cell_type": "code",
   "execution_count": 4,
   "metadata": {},
   "outputs": [],
   "source": [
    "##need to reformat history\n",
    "def put_x_together(h):\n",
    "    X = []\n",
    "    \n",
    "    for i in range(len(h.states)):\n",
    "        state_vector = h.states[i]\n",
    "        state_vector.append(float(h.users[i]))\n",
    "        state_vector.append(float(h.day_function[i]))\n",
    "        X.append(state_vector)\n",
    "    return X"
   ]
  },
  {
   "cell_type": "code",
   "execution_count": 5,
   "metadata": {},
   "outputs": [],
   "source": [
    "history = gh.get_history(5,100,5)"
   ]
  },
  {
   "cell_type": "code",
   "execution_count": 6,
   "metadata": {},
   "outputs": [],
   "source": [
    "X = put_x_together(history)\n",
    "X=np.array(X)"
   ]
  },
  {
   "cell_type": "code",
   "execution_count": 5,
   "metadata": {},
   "outputs": [],
   "source": [
    "def gather_cols(params, indices, name=None):\n",
    "    \"\"\"Gather columns of a 2D tensor.\n",
    "\n",
    "    Args:\n",
    "        params: A 2D tensor.\n",
    "        indices: A 1D tensor. Must be one of the following types: ``int32``, ``int64``.\n",
    "        name: A name for the operation (optional).\n",
    "\n",
    "    Returns:\n",
    "        A 2D Tensor. Has the same type as ``params``.\n",
    "    \"\"\"\n",
    "    with tf.op_scope([params, indices], name, \"gather_cols\") as scope:\n",
    "        # Check input\n",
    "        params = tf.convert_to_tensor(params, name=\"params\")\n",
    "        indices = tf.convert_to_tensor(indices, name=\"indices\")\n",
    "        try:\n",
    "            params.get_shape().assert_has_rank(2)\n",
    "        except ValueError:\n",
    "            raise ValueError('\\'params\\' must be 2D.')\n",
    "        try:\n",
    "            indices.get_shape().assert_has_rank(1)\n",
    "        except ValueError:\n",
    "            raise ValueError('\\'params\\' must be 1D.')\n",
    "\n",
    "        # Define op\n",
    "        p_shape = tf.shape(params)\n",
    "        p_flat = tf.reshape(params, [-1])\n",
    "        i_flat = tf.reshape(tf.reshape(tf.range(0, p_shape[0]) * p_shape[1],\n",
    "                                       [-1, 1]) + indices, [-1])\n",
    "        return tf.reshape(tf.gather(p_flat, i_flat),\n",
    "                          [p_shape[0], -1])"
   ]
  },
  {
   "cell_type": "code",
   "execution_count": 6,
   "metadata": {},
   "outputs": [
    {
     "ename": "NameError",
     "evalue": "name 'X' is not defined",
     "output_type": "error",
     "traceback": [
      "\u001b[0;31m---------------------------------------------------------------------------\u001b[0m",
      "\u001b[0;31mNameError\u001b[0m                                 Traceback (most recent call last)",
      "\u001b[0;32m<ipython-input-6-c57ccded1b77>\u001b[0m in \u001b[0;36m<module>\u001b[0;34m\u001b[0m\n\u001b[1;32m      6\u001b[0m         \u001b[0;32mreturn\u001b[0m \u001b[0mmath\u001b[0m\u001b[0;34m.\u001b[0m\u001b[0mexp\u001b[0m\u001b[0;34m(\u001b[0m\u001b[0;34m-\u001b[0m\u001b[0;34m(\u001b[0m\u001b[0;34m(\u001b[0m\u001b[0mX\u001b[0m\u001b[0;34m-\u001b[0m\u001b[0mX2\u001b[0m\u001b[0;34m)\u001b[0m\u001b[0;34m**\u001b[0m\u001b[0;36m2\u001b[0m\u001b[0;34m)\u001b[0m\u001b[0;34m/\u001b[0m\u001b[0;36m1.0\u001b[0m\u001b[0;34m)\u001b[0m\u001b[0;34m\u001b[0m\u001b[0;34m\u001b[0m\u001b[0m\n\u001b[1;32m      7\u001b[0m         \u001b[0;31m#tf.divide(tf.square(-tf.subtract(X,X2)),tf.constant(1.0,dtype=tf.float64)))\u001b[0m\u001b[0;34m\u001b[0m\u001b[0;34m\u001b[0m\u001b[0;34m\u001b[0m\u001b[0m\n\u001b[0;32m----> 8\u001b[0;31m \u001b[0mrdayone\u001b[0m \u001b[0;34m=\u001b[0m \u001b[0;34m[\u001b[0m\u001b[0mx\u001b[0m\u001b[0;34m[\u001b[0m\u001b[0;36m6\u001b[0m\u001b[0;34m]\u001b[0m \u001b[0;32mfor\u001b[0m \u001b[0mx\u001b[0m \u001b[0;32min\u001b[0m \u001b[0mX\u001b[0m\u001b[0;34m]\u001b[0m\u001b[0;34m\u001b[0m\u001b[0;34m\u001b[0m\u001b[0m\n\u001b[0m\u001b[1;32m      9\u001b[0m \u001b[0mrdaytwo\u001b[0m \u001b[0;34m=\u001b[0m \u001b[0mrdayone\u001b[0m\u001b[0;34m\u001b[0m\u001b[0;34m\u001b[0m\u001b[0m\n\u001b[1;32m     10\u001b[0m \u001b[0mrhos\u001b[0m \u001b[0;34m=\u001b[0m \u001b[0mnp\u001b[0m\u001b[0;34m.\u001b[0m\u001b[0marray\u001b[0m\u001b[0;34m(\u001b[0m\u001b[0;34m[\u001b[0m\u001b[0;34m[\u001b[0m\u001b[0mrbf_custom_np\u001b[0m\u001b[0;34m(\u001b[0m \u001b[0mrdayone\u001b[0m\u001b[0;34m[\u001b[0m\u001b[0mi\u001b[0m\u001b[0;34m]\u001b[0m\u001b[0;34m,\u001b[0m \u001b[0mX2\u001b[0m\u001b[0;34m=\u001b[0m\u001b[0mrdaytwo\u001b[0m\u001b[0;34m[\u001b[0m\u001b[0mj\u001b[0m\u001b[0;34m]\u001b[0m\u001b[0;34m)\u001b[0m \u001b[0;32mfor\u001b[0m \u001b[0mj\u001b[0m \u001b[0;32min\u001b[0m \u001b[0mrange\u001b[0m\u001b[0;34m(\u001b[0m\u001b[0;36m100\u001b[0m\u001b[0;34m)\u001b[0m\u001b[0;34m]\u001b[0m \u001b[0;32mfor\u001b[0m \u001b[0mi\u001b[0m \u001b[0;32min\u001b[0m \u001b[0mrange\u001b[0m\u001b[0;34m(\u001b[0m\u001b[0;36m100\u001b[0m\u001b[0;34m)\u001b[0m\u001b[0;34m]\u001b[0m\u001b[0;34m)\u001b[0m\u001b[0;34m\u001b[0m\u001b[0;34m\u001b[0m\u001b[0m\n",
      "\u001b[0;31mNameError\u001b[0m: name 'X' is not defined"
     ]
    }
   ],
   "source": [
    "def rbf_custom_np( X, X2=None):\n",
    "        #print(X)\n",
    "        #print(X2)\n",
    "        if X2 is None:\n",
    "             X2=X\n",
    "        return math.exp(-((X-X2)**2)/1.0)\n",
    "        #tf.divide(tf.square(-tf.subtract(X,X2)),tf.constant(1.0,dtype=tf.float64)))\n",
    "rdayone = [x[6] for x in X]\n",
    "rdaytwo = rdayone\n",
    "rhos = np.array([[rbf_custom_np( rdayone[i], X2=rdaytwo[j]) for j in range(100)] for i in range(100)])\n"
   ]
  },
  {
   "cell_type": "code",
   "execution_count": 7,
   "metadata": {},
   "outputs": [],
   "source": [
    "    def rbf_custom( X, X2=None):\n",
    "        #print(X)\n",
    "        #print(X2)\n",
    "        if X2 is None:\n",
    "             X2=X\n",
    "        return tf.exp(-tf.divide(tf.square(tf.subtract(X,X2)),tf.constant(1.0,dtype=tf.float64)))\n",
    "        #return tf.constant(1.0,dtype=tf.float64)"
   ]
  },
  {
   "cell_type": "code",
   "execution_count": 29,
   "metadata": {},
   "outputs": [
    {
     "data": {
      "text/plain": [
       "1.1253517471925912e-07"
      ]
     },
     "execution_count": 29,
     "metadata": {},
     "output_type": "execute_result"
    }
   ],
   "source": [
    "rbf_custom_np( 1, X2=5)"
   ]
  },
  {
   "cell_type": "code",
   "execution_count": 35,
   "metadata": {},
   "outputs": [
    {
     "data": {
      "text/plain": [
       "array([1.12535175e-07])"
      ]
     },
     "execution_count": 35,
     "metadata": {},
     "output_type": "execute_result"
    }
   ],
   "source": [
    "rbf_custom(tf.constant([1.0],dtype=tf.float64),tf.constant([5.0],dtype=tf.float64)).eval(session=sess)"
   ]
  },
  {
   "cell_type": "code",
   "execution_count": 9,
   "metadata": {},
   "outputs": [
    {
     "name": "stdout",
     "output_type": "stream",
     "text": [
      "WARNING:tensorflow:tf.op_scope(values, name, default_name) is deprecated, use tf.name_scope(name, default_name, values)\n"
     ]
    },
    {
     "name": "stderr",
     "output_type": "stream",
     "text": [
      "WARNING:tensorflow:tf.op_scope(values, name, default_name) is deprecated, use tf.name_scope(name, default_name, values)\n"
     ]
    }
   ],
   "source": [
    "Xt = tf.constant(t)\n",
    "g_one = gather_cols(t, [3,4], name=None)\n"
   ]
  },
  {
   "cell_type": "code",
   "execution_count": 61,
   "metadata": {},
   "outputs": [],
   "source": [
    "gr = tf.reshape(g_one,(1,100,2))\n",
    "z = tf.reshape(tf.tensordot(gr,su,axes=[[2],[1]]),(100,2))"
   ]
  },
  {
   "cell_type": "code",
   "execution_count": 66,
   "metadata": {},
   "outputs": [],
   "source": [
    "testone = sess.run(tf.tensordot(g_one,sigma_v,axes=[[1],[1]]))"
   ]
  },
  {
   "cell_type": "code",
   "execution_count": 67,
   "metadata": {},
   "outputs": [],
   "source": [
    "testtwo = sess.run(z)"
   ]
  },
  {
   "cell_type": "code",
   "execution_count": 69,
   "metadata": {},
   "outputs": [],
   "source": [
    "bads = []\n",
    "for i in range(testone.shape[0]):\n",
    "    for j in range(2):\n",
    "        if testone[i][j]!=testtwo[i][j]:\n",
    "            bads.append((i,j))"
   ]
  },
  {
   "cell_type": "code",
   "execution_count": 71,
   "metadata": {},
   "outputs": [],
   "source": [
    "noise_term = 1000*np.eye(100)\n",
    "noise_term = noise_term.reshape(1,100,100)\n",
    "ns = tf.constant(noise_term)"
   ]
  },
  {
   "cell_type": "code",
   "execution_count": 75,
   "metadata": {},
   "outputs": [
    {
     "data": {
      "text/plain": [
       "<tf.Tensor 'Reshape_21:0' shape=(100, 100) dtype=float64>"
      ]
     },
     "execution_count": 75,
     "metadata": {},
     "output_type": "execute_result"
    }
   ],
   "source": [
    "tf.reshape(tf.add(ns,ns),(100,100))"
   ]
  },
  {
   "cell_type": "code",
   "execution_count": 81,
   "metadata": {},
   "outputs": [
    {
     "data": {
      "text/plain": [
       "array([[[2000.,    0.,    0., ...,    0.,    0.,    0.],\n",
       "        [   0., 2000.,    0., ...,    0.,    0.,    0.],\n",
       "        [   0.,    0., 2000., ...,    0.,    0.,    0.],\n",
       "        ...,\n",
       "        [   0.,    0.,    0., ..., 2000.,    0.,    0.],\n",
       "        [   0.,    0.,    0., ...,    0., 2000.,    0.],\n",
       "        [   0.,    0.,    0., ...,    0.,    0., 2000.]]])"
      ]
     },
     "execution_count": 81,
     "metadata": {},
     "output_type": "execute_result"
    }
   ],
   "source": [
    "sess.run(tf.add(ns,ot))"
   ]
  },
  {
   "cell_type": "code",
   "execution_count": 76,
   "metadata": {},
   "outputs": [],
   "source": [
    "ot = tf.constant(1000*np.eye(100))"
   ]
  },
  {
   "cell_type": "code",
   "execution_count": 11,
   "metadata": {},
   "outputs": [],
   "source": [
    "g_two=g_one\n"
   ]
  },
  {
   "cell_type": "code",
   "execution_count": 25,
   "metadata": {},
   "outputs": [],
   "source": [
    "sigma_u = gpflow.Param(np.array([[1.0,0.1],[0.1,1.0]]), transform=gpflow.transforms.DiagMatrix(2)(gpflow.transforms.positive),fix_shape=True)\n",
    "        "
   ]
  },
  {
   "cell_type": "code",
   "execution_count": 46,
   "metadata": {},
   "outputs": [],
   "source": [
    "su = tf.reshape(sigma_v,(1,2,2))"
   ]
  },
  {
   "cell_type": "code",
   "execution_count": 40,
   "metadata": {},
   "outputs": [],
   "source": [
    "effects_one = tf.tensordot(g_one,sigma_v,axes=[[1],[1]])\n",
    "effects_one.shape\n",
    "effects_one = tf.tensordot(effects_one,g_two,axes=[[1],[1]])"
   ]
  },
  {
   "cell_type": "code",
   "execution_count": 41,
   "metadata": {},
   "outputs": [
    {
     "data": {
      "text/plain": [
       "TensorShape([Dimension(100), Dimension(100)])"
      ]
     },
     "execution_count": 41,
     "metadata": {},
     "output_type": "execute_result"
    }
   ],
   "source": [
    "effects_one.shape"
   ]
  },
  {
   "cell_type": "code",
   "execution_count": 28,
   "metadata": {},
   "outputs": [],
   "source": [
    "sigma_v =  tf.constant(np.array([[10.0,0.0],[0.0,10.0]]))\n"
   ]
  },
  {
   "cell_type": "code",
   "execution_count": 15,
   "metadata": {},
   "outputs": [],
   "source": [
    "effects_one = tf.tensordot(tf.transpose(g_one),sigma_v,axes=[[0],[1]])\n",
    "effects_two = tf.tensordot(effects_one,tf.transpose(g_two),axes = [[1],[0]])\n",
    "effects_three = tf.matmul(effects_two,rhos)"
   ]
  },
  {
   "cell_type": "code",
   "execution_count": 59,
   "metadata": {},
   "outputs": [],
   "source": [
    "effects_four = tf.multiply(effects_two,rhos)\n"
   ]
  },
  {
   "cell_type": "code",
   "execution_count": 23,
   "metadata": {},
   "outputs": [],
   "source": [
    "day_one = tf.constant(rdayone,dtype=tf.float64)\n",
    "day_two = tf.constant(rdaytwo,dtype=tf.float64)"
   ]
  },
  {
   "cell_type": "code",
   "execution_count": 27,
   "metadata": {},
   "outputs": [
    {
     "name": "stdout",
     "output_type": "stream",
     "text": [
      "WARNING:tensorflow:tf.op_scope(values, name, default_name) is deprecated, use tf.name_scope(name, default_name, values)\n"
     ]
    },
    {
     "name": "stderr",
     "output_type": "stream",
     "text": [
      "WARNING:tensorflow:tf.op_scope(values, name, default_name) is deprecated, use tf.name_scope(name, default_name, values)\n"
     ]
    },
    {
     "name": "stdout",
     "output_type": "stream",
     "text": [
      "WARNING:tensorflow:tf.op_scope(values, name, default_name) is deprecated, use tf.name_scope(name, default_name, values)\n"
     ]
    },
    {
     "name": "stderr",
     "output_type": "stream",
     "text": [
      "WARNING:tensorflow:tf.op_scope(values, name, default_name) is deprecated, use tf.name_scope(name, default_name, values)\n"
     ]
    }
   ],
   "source": [
    "day_two = gather_cols(Xt, [6], name=None)\n",
    "day_one = gather_cols(Xt, [6], name=None)\n"
   ]
  },
  {
   "cell_type": "code",
   "execution_count": 58,
   "metadata": {},
   "outputs": [],
   "source": [
    "test = get_all_sigmas(sigma_v,g_one,g_two,day_one,day_two)"
   ]
  },
  {
   "cell_type": "code",
   "execution_count": 41,
   "metadata": {},
   "outputs": [],
   "source": [
    "ef = sess.run(test[0])\n"
   ]
  },
  {
   "cell_type": "code",
   "execution_count": 8,
   "metadata": {},
   "outputs": [],
   "source": [
    "with open('testX.pkl','rb') as f:\n",
    "    t = pickle.load(f)\n",
    "    "
   ]
  },
  {
   "cell_type": "code",
   "execution_count": 35,
   "metadata": {},
   "outputs": [],
   "source": [
    "users = np.array([[float(t[i][8]==t[j][8]) for j in range(100)] for i in range(100)])"
   ]
  },
  {
   "cell_type": "code",
   "execution_count": 45,
   "metadata": {},
   "outputs": [
    {
     "name": "stdout",
     "output_type": "stream",
     "text": [
      "WARNING:tensorflow:tf.op_scope(values, name, default_name) is deprecated, use tf.name_scope(name, default_name, values)\n"
     ]
    },
    {
     "name": "stderr",
     "output_type": "stream",
     "text": [
      "WARNING:tensorflow:tf.op_scope(values, name, default_name) is deprecated, use tf.name_scope(name, default_name, values)\n"
     ]
    }
   ],
   "source": [
    "g_one = gather_cols(t, [6,7], name=None)"
   ]
  },
  {
   "cell_type": "code",
   "execution_count": 38,
   "metadata": {},
   "outputs": [],
   "source": [
    "sigma_u = tf.constant(np.array([[1.0,0.1],[0.1,1.0]]))"
   ]
  },
  {
   "cell_type": "code",
   "execution_count": 39,
   "metadata": {},
   "outputs": [],
   "source": [
    "sigma_u_n = np.array([[1.0,0.1],[0.1,1.0]])"
   ]
  },
  {
   "cell_type": "code",
   "execution_count": 6,
   "metadata": {},
   "outputs": [],
   "source": [
    "sigma_theta = tf.constant(np.array([[1.1, 0.1, 0.1, 0.1, 0.1, 0.1],\n",
    "       [0.1, 1.1, 0.1, 0.1, 0.1, 0.1],\n",
    "       [0.1, 0.1, 1.1, 0.1, 0.1, 0.1],\n",
    "       [0.1, 0.1, 0.1, 1.1, 0.1, 0.1],\n",
    "       [0.1, 0.1, 0.1, 0.1, 1.1, 0.1],\n",
    "       [0.1, 0.1, 0.1, 0.1, 0.1, 1.1]]))"
   ]
  },
  {
   "cell_type": "code",
   "execution_count": 21,
   "metadata": {},
   "outputs": [],
   "source": [
    "sigma_theta_n = np.array([[1.1, 0.1, 0.1, 0.1, 0.1, 0.1],\n",
    "       [0.1, 1.1, 0.1, 0.1, 0.1, 0.1],\n",
    "       [0.1, 0.1, 1.1, 0.1, 0.1, 0.1],\n",
    "       [0.1, 0.1, 0.1, 1.1, 0.1, 0.1],\n",
    "       [0.1, 0.1, 0.1, 0.1, 1.1, 0.1],\n",
    "       [0.1, 0.1, 0.1, 0.1, 0.1, 1.1]])"
   ]
  },
  {
   "cell_type": "code",
   "execution_count": 160,
   "metadata": {},
   "outputs": [],
   "source": [
    "def simple_check(x):\n",
    "    to_return = []\n",
    "    for i in range(len(x)):\n",
    "        temp = []\n",
    "        u_one=x[i][9]\n",
    "        for j in range(len(x)):\n",
    "            u_two=x[j][9]\n",
    "            temp.append(rbf_custom_np(u_one,u_two))\n",
    "        to_return.append(temp)\n",
    "    return to_return"
   ]
  },
  {
   "cell_type": "code",
   "execution_count": 164,
   "metadata": {},
   "outputs": [],
   "source": [
    "def simple_users(x):\n",
    "    to_return = []\n",
    "    for i in range(len(x)):\n",
    "        temp = []\n",
    "        u_one=x[i][8]\n",
    "        for j in range(len(x)):\n",
    "            u_two=x[j][8]\n",
    "            temp.append(u_one==u_two)\n",
    "        to_return.append(temp)\n",
    "    return to_return"
   ]
  },
  {
   "cell_type": "code",
   "execution_count": 171,
   "metadata": {},
   "outputs": [],
   "source": [
    "rhot = simple_check(t)\n",
    "userst = simple_users(t)"
   ]
  },
  {
   "cell_type": "code",
   "execution_count": 172,
   "metadata": {},
   "outputs": [],
   "source": [
    "goods = set([])\n",
    "for i in range(len(rhot)):\n",
    "    for j in range(len(rhot)):\n",
    "        goods.add(userst[i][j]==users[i][j])"
   ]
  },
  {
   "cell_type": "code",
   "execution_count": 184,
   "metadata": {},
   "outputs": [],
   "source": [
    "def one_by_one(x_one,x_two):\n",
    "    b_one = x_one[:6]\n",
    "    b_two = x_two[:6]\n",
    "    e_one = x_one[6:8]\n",
    "    e_two = x_two[6:8]\n",
    "    \n",
    "    u_one = x_one[8]\n",
    "    u_two = x_two[8]\n",
    "    \n",
    "    d_one = x_one[9]\n",
    "    d_two = x_two[9]\n",
    "    \n",
    "    bterm = np.dot(b_one.T,sigma_theta_n)\n",
    "    print(bterm.shape)\n",
    "    bterm = np.dot(bterm,b_two)\n",
    "    print(bterm.shape)\n",
    "    rho = rbf_custom_np(d_one,d_two)\n",
    "    \n",
    "    e_term_u_term = float(u_one==u_two)*sigma_u_n\n",
    "    print(e_term_u_term.shape)\n",
    "    e_term_r_term = rho*sigma_v_n\n",
    "    print(e_term_r_term.shape)\n",
    "    e_term = np.add(e_term_u_term,e_term_r_term)\n",
    "    print(e_term.shape)\n",
    "    e_term = np.dot(e_one.T,e_term)\n",
    "    e_term = np.dot(e_term,e_two)\n",
    "    \n",
    "    return bterm+e_term"
   ]
  },
  {
   "cell_type": "code",
   "execution_count": 181,
   "metadata": {},
   "outputs": [],
   "source": [
    "k = []\n",
    "for xone in t:\n",
    "    temp = []\n",
    "    for xtwo in t:\n",
    "        temp.append(one_by_one(xone,xtwo))\n",
    "    k.append(temp)"
   ]
  },
  {
   "cell_type": "code",
   "execution_count": 185,
   "metadata": {},
   "outputs": [
    {
     "name": "stdout",
     "output_type": "stream",
     "text": [
      "(6,)\n",
      "()\n",
      "(2, 2)\n",
      "(2, 2)\n",
      "(2, 2)\n"
     ]
    },
    {
     "data": {
      "text/plain": [
       "0.2886254158137378"
      ]
     },
     "execution_count": 185,
     "metadata": {},
     "output_type": "execute_result"
    }
   ],
   "source": [
    "one_by_one(t[0],t[0])"
   ]
  },
  {
   "cell_type": "code",
   "execution_count": 180,
   "metadata": {},
   "outputs": [],
   "source": [
    "def rbf_custom_np( X, X2=None):\n",
    "        #print(X)\n",
    "        #print(X2)\n",
    "        if X2 is None:\n",
    "             X2=X\n",
    "        ##sigma denominator \n",
    "        return math.exp((-(X-X2)**2)/1.0)\n",
    "        #tf.divide(tf.square(-tf.subtract(X,X2)),tf.constant(1.0,dtype=tf.float64)))\n",
    "rdayone = [x[9] for x in t]\n",
    "rdaytwo = rdayone\n",
    "rhos = np.array([[rbf_custom_np( rdayone[i], X2=rdaytwo[j]) for j in range(100)] for i in range(100)])\n"
   ]
  },
  {
   "cell_type": "code",
   "execution_count": 151,
   "metadata": {},
   "outputs": [
    {
     "name": "stdout",
     "output_type": "stream",
     "text": [
      "(100, 2)\n"
     ]
    }
   ],
   "source": [
    "tmp = np.array([np.dot(i[6:8].T,sigma_u_n) for i in t])\n",
    "print(tmp.shape)\n",
    "#tmp = np.dot(users,)\n",
    "tmp = np.dot(users,tmp)\n",
    "#tmp.shape\n",
    "#tmp = np.multiply(users,tmp)\n"
   ]
  },
  {
   "cell_type": "code",
   "execution_count": 152,
   "metadata": {},
   "outputs": [
    {
     "data": {
      "text/plain": [
       "(100, 2)"
      ]
     },
     "execution_count": 152,
     "metadata": {},
     "output_type": "execute_result"
    }
   ],
   "source": [
    "tmp2 = np.array([np.dot(i[6:8].T,sigma_v_n) for i in t])\n",
    "tmp2 = np.dot(rhos,tmp2)\n",
    "tmp2.shape"
   ]
  },
  {
   "cell_type": "code",
   "execution_count": 153,
   "metadata": {},
   "outputs": [
    {
     "data": {
      "text/plain": [
       "(100, 2)"
      ]
     },
     "execution_count": 153,
     "metadata": {},
     "output_type": "execute_result"
    }
   ],
   "source": [
    "inm = np.add(tmp,tmp2)\n",
    "inm.shape"
   ]
  },
  {
   "cell_type": "code",
   "execution_count": 154,
   "metadata": {},
   "outputs": [],
   "source": [
    "tmp3 = np.dot(inm,gs.T)\n",
    "#tmp3 = np.multiply(tmp3,rhos)"
   ]
  },
  {
   "cell_type": "code",
   "execution_count": 109,
   "metadata": {},
   "outputs": [],
   "source": [
    "#gs = np.array([tt[6:8] for tt in t])"
   ]
  },
  {
   "cell_type": "code",
   "execution_count": 119,
   "metadata": {},
   "outputs": [],
   "source": [
    "#np.dot(tmp,gs.T)"
   ]
  },
  {
   "cell_type": "code",
   "execution_count": 120,
   "metadata": {},
   "outputs": [],
   "source": [
    "tmp2 = np.array([np.dot(i[6:8].T,sigma_v_n) for i in t])\n",
    "#print(tmp.shape)\n",
    "tmp2 = np.dot(tmp2,gs.T)\n",
    "#np.array([np.dot(tmp2[i],t[i][6:8]) for i in range(len(t))])\n",
    "tmp2 = np.multiply(rhos,tmp2)"
   ]
  },
  {
   "cell_type": "code",
   "execution_count": 121,
   "metadata": {},
   "outputs": [],
   "source": [
    "to_add = np.add(tmp,tmp2)"
   ]
  },
  {
   "cell_type": "code",
   "execution_count": 126,
   "metadata": {},
   "outputs": [],
   "source": [
    "bs = np.array([tt[:6] for tt in t])\n",
    "bases =np.array([ np.dot(t[i][:6].T,sigma_theta_n) for i in range(len(t))])\n",
    "bases = np.dot(bases,bs.T)"
   ]
  },
  {
   "cell_type": "code",
   "execution_count": 155,
   "metadata": {},
   "outputs": [],
   "source": [
    "f = np.add(tmp3,bases)"
   ]
  },
  {
   "cell_type": "code",
   "execution_count": null,
   "metadata": {},
   "outputs": [],
   "source": []
  },
  {
   "cell_type": "code",
   "execution_count": 47,
   "metadata": {},
   "outputs": [],
   "source": [
    "effects = tf.tensordot(tf.transpose(g_one),sigma_u,axes=[[0],[1]])"
   ]
  },
  {
   "cell_type": "code",
   "execution_count": 84,
   "metadata": {},
   "outputs": [],
   "source": [
    "effects = tf.tensordot(tf.transpose(g_one),sigma_u,axes=[[0],[1]])\n",
    "effects.shape\n",
    "g_one.shape\n",
    "effects = tf.tensordot(effects,g_one,axes = [[1],[0]])"
   ]
  },
  {
   "cell_type": "code",
   "execution_count": 91,
   "metadata": {},
   "outputs": [],
   "source": [
    "sigma_v = tf.constant(np.array([[10.0,0.0],[0.0,10.0]]))\n",
    "sigma_v_n = np.array([[10.0,0.0],[0.0,10.0]])"
   ]
  },
  {
   "cell_type": "code",
   "execution_count": null,
   "metadata": {},
   "outputs": [],
   "source": [
    "effects = tf.tensordot(tf.transpose(g_one),self.sigma_u,axes=[[0],[1]])\n",
    "       \n",
    "        \n",
    "        effects = tf.tensordot(effects,tf.transpose(g_two),axes = [[1],[0]])\n",
    "        effects_one = tf.multiply(effects,self.select_users)\n",
    "        "
   ]
  },
  {
   "cell_type": "code",
   "execution_count": 10,
   "metadata": {},
   "outputs": [
    {
     "name": "stdout",
     "output_type": "stream",
     "text": [
      "WARNING:tensorflow:tf.op_scope(values, name, default_name) is deprecated, use tf.name_scope(name, default_name, values)\n"
     ]
    },
    {
     "name": "stderr",
     "output_type": "stream",
     "text": [
      "WARNING:tensorflow:tf.op_scope(values, name, default_name) is deprecated, use tf.name_scope(name, default_name, values)\n"
     ]
    }
   ],
   "source": [
    "g_one = gather_cols(t, [0,1,2,3,4,5], name=None)\n"
   ]
  },
  {
   "cell_type": "code",
   "execution_count": 16,
   "metadata": {},
   "outputs": [
    {
     "data": {
      "text/plain": [
       "array([0.13704423, 0.07842119, 0.08709108, 0.10787279, 0.13052058,\n",
       "       0.11927317])"
      ]
     },
     "execution_count": 16,
     "metadata": {},
     "output_type": "execute_result"
    }
   ],
   "source": []
  },
  {
   "cell_type": "code",
   "execution_count": 31,
   "metadata": {},
   "outputs": [
    {
     "data": {
      "text/plain": [
       "array([0.16900769, 0.18051304, 0.19270994, 0.16883474, 0.19394026,\n",
       "       0.15886896])"
      ]
     },
     "execution_count": 31,
     "metadata": {},
     "output_type": "execute_result"
    }
   ],
   "source": [
    "np.dot(t[1][:6].T,sigma_theta_n)\n"
   ]
  },
  {
   "cell_type": "code",
   "execution_count": 32,
   "metadata": {},
   "outputs": [
    {
     "data": {
      "text/plain": [
       "array([[0.20306654, 0.1444435 , 0.15311339, 0.1738951 , 0.19654289,\n",
       "        0.18529548],\n",
       "       [0.16900769, 0.18051304, 0.19270994, 0.16883474, 0.19394026,\n",
       "        0.15886896],\n",
       "       [0.17530068, 0.17210316, 0.20558964, 0.16901978, 0.1367579 ,\n",
       "        0.22915186],\n",
       "       [0.25127764, 0.20908923, 0.17096525, 0.23097841, 0.21108273,\n",
       "        0.18065022],\n",
       "       [0.22458481, 0.20656863, 0.20176628, 0.18763896, 0.22115227,\n",
       "        0.18677918],\n",
       "       [0.21236665, 0.19130789, 0.22363798, 0.20865415, 0.18076802,\n",
       "        0.21559932],\n",
       "       [0.19617418, 0.20027123, 0.19363122, 0.19776997, 0.13507307,\n",
       "        0.19026146],\n",
       "       [0.16415333, 0.17107733, 0.18397277, 0.22423342, 0.21688109,\n",
       "        0.17442875],\n",
       "       [0.18244239, 0.1604054 , 0.15096006, 0.17628733, 0.16524577,\n",
       "        0.1494247 ],\n",
       "       [0.19055565, 0.17687039, 0.15732275, 0.1760492 , 0.18118789,\n",
       "        0.17802238],\n",
       "       [0.18891691, 0.22799978, 0.23435146, 0.22593272, 0.16719313,\n",
       "        0.19236233],\n",
       "       [0.20106273, 0.15901373, 0.20501691, 0.16407782, 0.21054292,\n",
       "        0.18902473],\n",
       "       [0.20723276, 0.18944731, 0.168804  , 0.18672328, 0.18883066,\n",
       "        0.19038533],\n",
       "       [0.20348748, 0.17797624, 0.23746779, 0.18039457, 0.22405343,\n",
       "        0.21538011],\n",
       "       [0.20740589, 0.22810159, 0.16049018, 0.16085377, 0.20777573,\n",
       "        0.19471254],\n",
       "       [0.17654613, 0.18947751, 0.16039202, 0.19713223, 0.18526989,\n",
       "        0.16482998],\n",
       "       [0.19670437, 0.18522535, 0.19762622, 0.17616194, 0.16176513,\n",
       "        0.19481629],\n",
       "       [0.16826602, 0.20160587, 0.14599254, 0.18785493, 0.17496756,\n",
       "        0.16790685],\n",
       "       [0.19962052, 0.19500168, 0.17512092, 0.22375767, 0.24160973,\n",
       "        0.15441303],\n",
       "       [0.21464114, 0.22888569, 0.22871322, 0.21426526, 0.20372297,\n",
       "        0.19573357],\n",
       "       [0.19246367, 0.21229512, 0.17822685, 0.20678784, 0.19623681,\n",
       "        0.1840149 ],\n",
       "       [0.16691116, 0.21447955, 0.17009772, 0.20739079, 0.17759442,\n",
       "        0.15946555],\n",
       "       [0.20883876, 0.18591961, 0.21877972, 0.1788375 , 0.1939372 ,\n",
       "        0.22039648],\n",
       "       [0.19309452, 0.14959934, 0.16267088, 0.1611512 , 0.16262999,\n",
       "        0.15001526],\n",
       "       [0.16585901, 0.2302081 , 0.18392309, 0.19848122, 0.23863283,\n",
       "        0.21454596],\n",
       "       [0.17748667, 0.17918844, 0.19723674, 0.1896623 , 0.16705766,\n",
       "        0.16392232],\n",
       "       [0.21221069, 0.20869877, 0.21122188, 0.21947926, 0.21798671,\n",
       "        0.18822884],\n",
       "       [0.19773391, 0.17324149, 0.20896745, 0.17612412, 0.21915427,\n",
       "        0.18634866],\n",
       "       [0.13449675, 0.11168137, 0.17540164, 0.16965746, 0.18812764,\n",
       "        0.15513986],\n",
       "       [0.14455439, 0.20343412, 0.19038404, 0.21349954, 0.13133638,\n",
       "        0.20920181],\n",
       "       [0.18292801, 0.22980675, 0.20124967, 0.21148489, 0.18468714,\n",
       "        0.19063621],\n",
       "       [0.20003796, 0.16079153, 0.16892809, 0.19790432, 0.22381035,\n",
       "        0.19690673],\n",
       "       [0.21282679, 0.17411403, 0.16397721, 0.19668304, 0.17378703,\n",
       "        0.16612572],\n",
       "       [0.1970647 , 0.20309392, 0.19759251, 0.15392562, 0.18183007,\n",
       "        0.17729044],\n",
       "       [0.17119226, 0.17162904, 0.18634406, 0.16810921, 0.20196484,\n",
       "        0.17373926],\n",
       "       [0.17300913, 0.22094062, 0.19893376, 0.18668374, 0.21728259,\n",
       "        0.13992114],\n",
       "       [0.20651744, 0.2142451 , 0.21641586, 0.23890089, 0.1970884 ,\n",
       "        0.19325895],\n",
       "       [0.17737008, 0.17554244, 0.17925519, 0.16952467, 0.15963334,\n",
       "        0.18707637],\n",
       "       [0.16714932, 0.17038685, 0.21374653, 0.20488791, 0.18688006,\n",
       "        0.1708339 ],\n",
       "       [0.1928175 , 0.19273025, 0.15685806, 0.16406214, 0.15158145,\n",
       "        0.12322777],\n",
       "       [0.18414518, 0.1901564 , 0.17101158, 0.17153234, 0.21717983,\n",
       "        0.19798007],\n",
       "       [0.18590304, 0.20071928, 0.21608172, 0.21565047, 0.21954446,\n",
       "        0.19954604],\n",
       "       [0.18026422, 0.18701985, 0.18586503, 0.23594293, 0.15897793,\n",
       "        0.17593242],\n",
       "       [0.19298371, 0.20125998, 0.20381746, 0.20480372, 0.16091249,\n",
       "        0.15835387],\n",
       "       [0.24307268, 0.23803766, 0.21159298, 0.24465674, 0.21273038,\n",
       "        0.21025484],\n",
       "       [0.21076333, 0.19021112, 0.19734173, 0.20494925, 0.19440453,\n",
       "        0.17917984],\n",
       "       [0.19766793, 0.17330576, 0.18012856, 0.16589197, 0.19782932,\n",
       "        0.1600603 ],\n",
       "       [0.19053402, 0.1843159 , 0.19991241, 0.17167184, 0.17510847,\n",
       "        0.15852984],\n",
       "       [0.19432765, 0.18469957, 0.17586997, 0.18224481, 0.17775434,\n",
       "        0.1885143 ],\n",
       "       [0.13361835, 0.16323973, 0.17532277, 0.15844428, 0.1667254 ,\n",
       "        0.20726578],\n",
       "       [0.18439307, 0.20825295, 0.2147354 , 0.20001664, 0.23593181,\n",
       "        0.19143994],\n",
       "       [0.17690516, 0.18047623, 0.15271609, 0.19116076, 0.18255315,\n",
       "        0.20997402],\n",
       "       [0.23684254, 0.25400081, 0.20026922, 0.20034287, 0.17842069,\n",
       "        0.20057362],\n",
       "       [0.17797139, 0.1827788 , 0.19413069, 0.15158346, 0.15540687,\n",
       "        0.17363321],\n",
       "       [0.17878743, 0.16382783, 0.18668376, 0.20852408, 0.20171236,\n",
       "        0.21070839],\n",
       "       [0.19358165, 0.2129471 , 0.20371323, 0.17764981, 0.16966725,\n",
       "        0.17770507],\n",
       "       [0.19160498, 0.19171595, 0.20337081, 0.17006506, 0.17877587,\n",
       "        0.1659651 ],\n",
       "       [0.21102701, 0.19210284, 0.20024938, 0.1634359 , 0.17702789,\n",
       "        0.20626336],\n",
       "       [0.16847143, 0.19869108, 0.19731808, 0.20305056, 0.18897146,\n",
       "        0.1829708 ],\n",
       "       [0.1824301 , 0.17826735, 0.13712483, 0.16059688, 0.20354593,\n",
       "        0.15814396],\n",
       "       [0.17502388, 0.19287308, 0.19057976, 0.14307483, 0.19973961,\n",
       "        0.16701718],\n",
       "       [0.16154745, 0.15633046, 0.1709725 , 0.20217472, 0.16455035,\n",
       "        0.17630571],\n",
       "       [0.17300594, 0.18503542, 0.19206321, 0.15407878, 0.19614609,\n",
       "        0.19931086],\n",
       "       [0.2023417 , 0.15625067, 0.20696064, 0.18875316, 0.19234723,\n",
       "        0.1817196 ],\n",
       "       [0.2178426 , 0.21674097, 0.19564608, 0.18488377, 0.20101862,\n",
       "        0.22285465],\n",
       "       [0.18058878, 0.20964844, 0.23388964, 0.2032577 , 0.17523822,\n",
       "        0.16301356],\n",
       "       [0.2510416 , 0.24020147, 0.17918135, 0.21463977, 0.21816571,\n",
       "        0.1946582 ],\n",
       "       [0.18785677, 0.24412848, 0.22150532, 0.2195363 , 0.19311079,\n",
       "        0.23171517],\n",
       "       [0.21935578, 0.19850173, 0.19459573, 0.15969475, 0.21683777,\n",
       "        0.18596769],\n",
       "       [0.13017628, 0.18145982, 0.18944915, 0.23784402, 0.17447988,\n",
       "        0.18373324],\n",
       "       [0.18564743, 0.18124477, 0.17342593, 0.2193682 , 0.19573262,\n",
       "        0.22344196],\n",
       "       [0.234001  , 0.19037716, 0.23036931, 0.21570727, 0.19226684,\n",
       "        0.20286271],\n",
       "       [0.13798708, 0.17309174, 0.17551213, 0.1892858 , 0.19398385,\n",
       "        0.19609095],\n",
       "       [0.2063873 , 0.21122755, 0.20050376, 0.18131829, 0.19606395,\n",
       "        0.23208999],\n",
       "       [0.18818388, 0.1523894 , 0.18484743, 0.19426575, 0.14988818,\n",
       "        0.22739828],\n",
       "       [0.23477274, 0.20274087, 0.20768353, 0.19774006, 0.17201901,\n",
       "        0.19731204],\n",
       "       [0.17840079, 0.19485901, 0.19857569, 0.17201865, 0.19384786,\n",
       "        0.18933357],\n",
       "       [0.19942248, 0.19140285, 0.21048517, 0.18784112, 0.19885873,\n",
       "        0.22740654],\n",
       "       [0.19113131, 0.15570967, 0.20460005, 0.16142651, 0.19465614,\n",
       "        0.21406141],\n",
       "       [0.18692532, 0.21392211, 0.22554248, 0.16350124, 0.20700668,\n",
       "        0.18581182],\n",
       "       [0.24412218, 0.17224893, 0.19979651, 0.20030235, 0.1949508 ,\n",
       "        0.23087736],\n",
       "       [0.14166142, 0.14668354, 0.16815264, 0.19952832, 0.13183536,\n",
       "        0.13873876],\n",
       "       [0.22216754, 0.2079404 , 0.18855746, 0.19656578, 0.18820099,\n",
       "        0.19374403],\n",
       "       [0.18987148, 0.22075073, 0.19915191, 0.18220127, 0.16529328,\n",
       "        0.20898979],\n",
       "       [0.23223615, 0.1882277 , 0.17350476, 0.17688674, 0.18833123,\n",
       "        0.19903143],\n",
       "       [0.22698815, 0.16832965, 0.1888634 , 0.22951365, 0.18916574,\n",
       "        0.20784963],\n",
       "       [0.19466454, 0.17805406, 0.17914836, 0.20572078, 0.17497303,\n",
       "        0.21834288],\n",
       "       [0.17598108, 0.19180777, 0.20151751, 0.20680261, 0.18715645,\n",
       "        0.18716906],\n",
       "       [0.22695241, 0.17842624, 0.17711962, 0.22507581, 0.17564488,\n",
       "        0.15470245],\n",
       "       [0.23170186, 0.19518216, 0.1812947 , 0.17438421, 0.16575104,\n",
       "        0.16707041],\n",
       "       [0.25413049, 0.18331396, 0.22275403, 0.19778537, 0.17016756,\n",
       "        0.19551562],\n",
       "       [0.19587968, 0.20312148, 0.21789788, 0.17190873, 0.19935191,\n",
       "        0.22812628],\n",
       "       [0.20209891, 0.17490546, 0.1727369 , 0.15080382, 0.19213021,\n",
       "        0.19884983],\n",
       "       [0.17686367, 0.17955011, 0.17825394, 0.19956756, 0.16385754,\n",
       "        0.19457695],\n",
       "       [0.18019574, 0.21588169, 0.19658355, 0.22269191, 0.20744807,\n",
       "        0.19785275],\n",
       "       [0.20657329, 0.1739083 , 0.21130197, 0.17423853, 0.21700693,\n",
       "        0.15016951],\n",
       "       [0.13613551, 0.18220303, 0.15301537, 0.18288238, 0.18169309,\n",
       "        0.16134307],\n",
       "       [0.20641707, 0.19852443, 0.17471918, 0.21699251, 0.22245181,\n",
       "        0.19384114],\n",
       "       [0.19910718, 0.17872799, 0.16365699, 0.17512069, 0.1826316 ,\n",
       "        0.17526792],\n",
       "       [0.23970591, 0.12721052, 0.21985188, 0.23009899, 0.21508235,\n",
       "        0.20905036]])"
      ]
     },
     "execution_count": 32,
     "metadata": {},
     "output_type": "execute_result"
    }
   ],
   "source": [
    "        effects = tf.tensordot(tf.transpose(g_one),self.sigma_u,axes=[[0],[1]])\n",
    "       \n",
    "        \n",
    "        effects = tf.tensordot(effects,tf.transpose(g_two),axes = [[1],[0]])\n",
    "        effects_one = tf.multiply(effects,self.select_users)\n",
    "        \n",
    "        \n",
    "        \n",
    "        effects = tf.tensordot(tf.transpose(g_one),self.sigma_v,axes=[[0],[1]])\n",
    "       \n",
    "        \n",
    "        effects = tf.tensordot(effects,tf.transpose(g_two),axes = [[1],[0]])\n",
    "        effects_two = tf.multiply(effects,self.rhos)\n",
    "        \n",
    "        effects = tf.add(effects_one,effects_two)"
   ]
  },
  {
   "cell_type": "code",
   "execution_count": null,
   "metadata": {},
   "outputs": [],
   "source": []
  },
  {
   "cell_type": "code",
   "execution_count": 60,
   "metadata": {},
   "outputs": [],
   "source": [
    "\n",
    "eff = sess.run(effects_four)\n"
   ]
  },
  {
   "cell_type": "code",
   "execution_count": 61,
   "metadata": {},
   "outputs": [
    {
     "data": {
      "text/plain": [
       "array([2.61161526e+000, 9.11904516e-001, 2.62467820e+000, 2.44816333e+000,\n",
       "       9.79957842e-001, 2.59757154e+000, 2.56848822e+000, 4.66262582e-002,\n",
       "       9.99542392e-001, 4.77759216e-002, 3.20653571e-004, 9.36039750e-001,\n",
       "       4.88592941e-002, 4.71598828e-002, 3.07013339e-004, 3.38637508e-004,\n",
       "       2.62522934e-007, 3.45447606e-011, 6.16160387e-016, 9.50889585e-001,\n",
       "       3.11277089e-007, 3.32562799e-004, 4.54491476e-002, 2.71452458e-007,\n",
       "       1.31902385e-021, 4.12423089e-028, 3.20429153e-004, 3.80123276e-011,\n",
       "       1.77092716e-035, 6.08681502e-016, 1.31709134e-021, 4.19586835e-028,\n",
       "       2.99624932e-007, 9.64268681e-044, 3.28498901e-011, 3.47110259e-011,\n",
       "       5.94896177e-016, 6.79513350e-053, 1.28596779e-021, 6.13181664e-016,\n",
       "       4.29147968e-028, 2.80012813e-007, 1.40721971e-021, 7.17450248e-063,\n",
       "       4.03915698e-028, 1.77700722e-035, 9.97442177e-044, 7.22995372e-053,\n",
       "       1.71482030e-035, 1.00287915e-073, 7.00314720e-063, 9.22323026e-044,\n",
       "       7.83708175e-053, 1.99728359e-085, 5.16107980e-098, 7.75917688e-063,\n",
       "       1.72764811e-111, 3.58844733e-011, 1.58765449e-035, 1.00162091e-073,\n",
       "       9.87587217e-044, 6.23381930e-016, 7.06962520e-053, 7.88493348e-063,\n",
       "       1.27877380e-021, 3.99927299e-028, 1.68812923e-035, 8.26558153e-126,\n",
       "       1.10260268e-073, 1.03684178e-073, 5.09059424e-141, 4.33348645e-157,\n",
       "       4.71822737e-174, 7.98106050e-192, 1.57487508e-210, 1.94388422e-085,\n",
       "       9.48347019e-044, 1.88330734e-085, 7.11154633e-053, 4.61821865e-098,\n",
       "       4.61078715e-098, 7.08448065e-063, 4.54878406e-230, 1.64569210e-111,\n",
       "       1.67748947e-111, 1.91274727e-085, 7.96826506e-126, 4.63243776e-098,\n",
       "       1.01330886e-073, 1.84969247e-250, 9.40770073e-272, 1.87549322e-085,\n",
       "       4.60266745e-141, 4.36450015e-157, 1.68039867e-111, 7.69163687e-126,\n",
       "       5.17344608e-098, 1.73540351e-111, 8.06101689e-126, 7.25454047e-126])"
      ]
     },
     "execution_count": 61,
     "metadata": {},
     "output_type": "execute_result"
    }
   ],
   "source": [
    "np.array(eff)[0]\n"
   ]
  },
  {
   "cell_type": "code",
   "execution_count": 186,
   "metadata": {},
   "outputs": [
    {
     "ename": "NameError",
     "evalue": "name 'M' is not defined",
     "output_type": "error",
     "traceback": [
      "\u001b[0;31m---------------------------------------------------------------------------\u001b[0m",
      "\u001b[0;31mNameError\u001b[0m                                 Traceback (most recent call last)",
      "\u001b[0;32m<ipython-input-186-f3e8788da83b>\u001b[0m in \u001b[0;36m<module>\u001b[0;34m\u001b[0m\n\u001b[0;32m----> 1\u001b[0;31m \u001b[0mM\u001b[0m\u001b[0;34m\u001b[0m\u001b[0;34m\u001b[0m\u001b[0m\n\u001b[0m",
      "\u001b[0;31mNameError\u001b[0m: name 'M' is not defined"
     ]
    }
   ],
   "source": [
    "M\n"
   ]
  },
  {
   "cell_type": "code",
   "execution_count": null,
   "metadata": {},
   "outputs": [],
   "source": []
  }
 ],
 "metadata": {
  "kernelspec": {
   "display_name": "Python 3",
   "language": "python",
   "name": "python3"
  },
  "language_info": {
   "codemirror_mode": {
    "name": "ipython",
    "version": 3
   },
   "file_extension": ".py",
   "mimetype": "text/x-python",
   "name": "python",
   "nbconvert_exporter": "python",
   "pygments_lexer": "ipython3",
   "version": "3.6.8"
  }
 },
 "nbformat": 4,
 "nbformat_minor": 2
}
