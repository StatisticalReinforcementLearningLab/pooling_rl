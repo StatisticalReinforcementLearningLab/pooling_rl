{
 "cells": [
  {
   "cell_type": "code",
   "execution_count": 3,
   "metadata": {},
   "outputs": [],
   "source": [
    "##get data\n",
    "import numpy as np"
   ]
  },
  {
   "cell_type": "code",
   "execution_count": 9,
   "metadata": {},
   "outputs": [],
   "source": [
    "##set grid\n",
    "u1 = np.arange(.1,1.1,.1)\n",
    "u2 = np.arange(.1,1.1,.1)\n",
    "rho = np.arange(.1,1.1,.2)"
   ]
  },
  {
   "cell_type": "code",
   "execution_count": 11,
   "metadata": {},
   "outputs": [],
   "source": [
    "v1 = np.arange(1,10,1)\n",
    "v2 = np.arange(1,10,1)"
   ]
  },
  {
   "cell_type": "code",
   "execution_count": 12,
   "metadata": {},
   "outputs": [],
   "source": [
    "noise = np.arange(.1,1.1,.1)"
   ]
  },
  {
   "cell_type": "code",
   "execution_count": null,
   "metadata": {},
   "outputs": [],
   "source": [
    "def rbf_custom_np( X, X2=None):\n",
    "        #print(X)\n",
    "        #print(X2)\n",
    "        if X2 is None:\n",
    "             X2=X\n",
    "        return math.exp(-((X-X2)**2)/1.0)\n",
    "        #tf.divide(tf.square(-tf.subtract(X,X2)),tf.constant(1.0,dtype=tf.float64)))\n",
    "rdayone = [x[9] for x in X]\n",
    "rdaytwo = rdayone\n",
    "rhos = np.array([[rbf_custom_np( rdayone[i], X2=rdaytwo[j]) for j in range(len(X))] for i in range(len(X))])\n",
    "users = np.array([[float(X[i][8]==X[j][8]) for j in range(len(X))] for i in range(len(X))])\n"
   ]
  },
  {
   "cell_type": "code",
   "execution_count": null,
   "metadata": {},
   "outputs": [],
   "source": [
    "import CustomKernelStatic"
   ]
  },
  {
   "cell_type": "code",
   "execution_count": null,
   "metadata": {},
   "outputs": [],
   "source": [
    "def get_likelihood():\n",
    "    sess = tf.Session()\n",
    "    k =  CustomKernelStatic(10,mysession=sess,rhos=rhos,select_users=users,baseline_indices=[0,1,2,3,4,5,6],\\\n",
    "                  psi_indices=[0,7],user_day_index=9,user_index=8,num_data_points=len(X))\n",
    "\n",
    "    m = gpflow.models.GPR(X,y, kern=k)\n",
    "    m.initialize(session=sess)"
   ]
  }
 ],
 "metadata": {
  "kernelspec": {
   "display_name": "Python 3",
   "language": "python",
   "name": "python3"
  },
  "language_info": {
   "codemirror_mode": {
    "name": "ipython",
    "version": 3
   },
   "file_extension": ".py",
   "mimetype": "text/x-python",
   "name": "python",
   "nbconvert_exporter": "python",
   "pygments_lexer": "ipython3",
   "version": "3.7.1"
  }
 },
 "nbformat": 4,
 "nbformat_minor": 2
}
