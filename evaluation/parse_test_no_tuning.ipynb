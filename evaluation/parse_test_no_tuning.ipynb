{
 "cells": [
  {
   "cell_type": "code",
   "execution_count": 1,
   "metadata": {},
   "outputs": [],
   "source": [
    "import numpy as np\n",
    "import os"
   ]
  },
  {
   "cell_type": "code",
   "execution_count": 5,
   "metadata": {},
   "outputs": [],
   "source": [
    "def get_all_valid_files(case,date):\n",
    "    direct = '../../Downloads/cases_from_cluster/{}_two'.format(case)\n",
    "    files = [f for f in os.listdir('{}/'.format(direct)) if '32' in f and 'part' in f and 'no_tuning' in f]\n",
    "    #good_two = count_done('../../Downloads/cases_from_cluster/{}_two'.format(case),ptwo)\n",
    "    goods ={}\n",
    "    for ff in files:\n",
    "        with open('{}/{}'.format(direct,ff),'r') as f:\n",
    "            l = f.readlines()\n",
    "        if  '2015-10-19 19:00:00' in  l[-1]:\n",
    "            #goods.append(f)\n",
    "        \n",
    "            goods[ff]=l\n",
    "    return goods"
   ]
  },
  {
   "cell_type": "code",
   "execution_count": 6,
   "metadata": {},
   "outputs": [],
   "source": [
    "f = get_all_valid_files('case_two', '2015-10-19 19:00:00')"
   ]
  },
  {
   "cell_type": "code",
   "execution_count": 7,
   "metadata": {},
   "outputs": [],
   "source": [
    "def get_output(lines):\n",
    "    to_return = {}\n",
    "    gids = {}\n",
    "    for l in lines:\n",
    "        try:\n",
    "            p_id = l.split(' ')[10]\n",
    "            steps = float(l.split(' ')[11])\n",
    "            gid =  l.split(' ')[12]\n",
    "            if p_id not in to_return:\n",
    "                to_return[p_id]=[]\n",
    "            to_return[p_id].append(steps)\n",
    "            if p_id not in gids:\n",
    "                gids[p_id]=gid\n",
    "        except:\n",
    "            print(l)\n",
    "    return to_return,gids"
   ]
  },
  {
   "cell_type": "code",
   "execution_count": 8,
   "metadata": {},
   "outputs": [],
   "source": [
    "def get_all_steps_across_files(case,date):\n",
    "    files = get_all_valid_files(case,date)\n",
    "    all_steps = []\n",
    "    for f,v in files.items():\n",
    "        od = get_output(v)\n",
    "        for k,v in od[0].items():\n",
    "            all_steps.extend(v)\n",
    "    return all_steps"
   ]
  },
  {
   "cell_type": "code",
   "execution_count": 10,
   "metadata": {},
   "outputs": [
    {
     "data": {
      "text/plain": [
       "nan"
      ]
     },
     "execution_count": 10,
     "metadata": {},
     "output_type": "execute_result"
    }
   ],
   "source": [
    "f_two = get_all_steps_across_files('case_two', '2015-10-19 19:00:00')\n",
    "np.array(f_two).mean()"
   ]
  },
  {
   "cell_type": "code",
   "execution_count": 11,
   "metadata": {},
   "outputs": [
    {
     "data": {
      "text/plain": [
       "nan"
      ]
     },
     "execution_count": 11,
     "metadata": {},
     "output_type": "execute_result"
    }
   ],
   "source": [
    "f_three = get_all_steps_across_files('case_three', '2015-10-19 19:00:00')\n",
    "np.array(f_three).mean()"
   ]
  },
  {
   "cell_type": "code",
   "execution_count": 12,
   "metadata": {},
   "outputs": [
    {
     "data": {
      "text/plain": [
       "2.7244330428546872"
      ]
     },
     "execution_count": 12,
     "metadata": {},
     "output_type": "execute_result"
    }
   ],
   "source": [
    "f_one = get_all_steps_across_files('case_one', '2015-10-19 19:00:00')\n",
    "np.array(f_one).mean()"
   ]
  },
  {
   "cell_type": "code",
   "execution_count": null,
   "metadata": {},
   "outputs": [],
   "source": []
  }
 ],
 "metadata": {
  "kernelspec": {
   "display_name": "Python 3",
   "language": "python",
   "name": "python3"
  },
  "language_info": {
   "codemirror_mode": {
    "name": "ipython",
    "version": 3
   },
   "file_extension": ".py",
   "mimetype": "text/x-python",
   "name": "python",
   "nbconvert_exporter": "python",
   "pygments_lexer": "ipython3",
   "version": "3.6.8"
  }
 },
 "nbformat": 4,
 "nbformat_minor": 2
}
