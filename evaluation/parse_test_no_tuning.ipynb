{
 "cells": [
  {
   "cell_type": "code",
   "execution_count": 68,
   "metadata": {},
   "outputs": [],
   "source": [
    "import numpy as np\n",
    "import os\n",
    "import numpy as np\n",
    "import os\n",
    "import pandas as pd"
   ]
  },
  {
   "cell_type": "code",
   "execution_count": 57,
   "metadata": {},
   "outputs": [],
   "source": [
    "def get_all_valid_files(case,date):\n",
    "    direct = '../../Downloads/cases_from_cluster/{}'.format(case)\n",
    "    files = [f for f in os.listdir('{}/'.format(direct)) if '_32_' in f and 'part' in f and 'no_tuning' in f]\n",
    "    #good_two = count_done('../../Downloads/cases_from_cluster/{}_two'.format(case),ptwo)\n",
    "    goods ={}\n",
    "    for ff in files:\n",
    "        with open('{}/{}'.format(direct,ff),'r') as f:\n",
    "            l = f.readlines()\n",
    "        if  '2015-08-01 19:00:00' in  l[-1]:\n",
    "            #goods.append(f)\n",
    "        \n",
    "            goods[ff]=l\n",
    "    return goods"
   ]
  },
  {
   "cell_type": "code",
   "execution_count": 33,
   "metadata": {},
   "outputs": [],
   "source": [
    "f = get_all_valid_files('case_two', '2015-10-19 19:00:00')"
   ]
  },
  {
   "cell_type": "code",
   "execution_count": 41,
   "metadata": {},
   "outputs": [],
   "source": [
    "def get_output(lines):\n",
    "    to_return = {}\n",
    "    gids = {}\n",
    "    for l in lines:\n",
    "        try:\n",
    "            p_id = l.split(' ')[10]\n",
    "            steps = float(l.split(' ')[11])\n",
    "            gid =  l.split(' ')[12]\n",
    "            if p_id not in to_return:\n",
    "                to_return[p_id]=[]\n",
    "            to_return[p_id].append(steps)\n",
    "            if p_id not in gids:\n",
    "                gids[p_id]=gid\n",
    "        except:\n",
    "            print(l)\n",
    "    return to_return,gids"
   ]
  },
  {
   "cell_type": "code",
   "execution_count": 56,
   "metadata": {},
   "outputs": [],
   "source": [
    "def get_by_date(file_lines):\n",
    "    to_return = {}\n",
    "    for l in file_lines:\n",
    "        if 'Feb 25' in l:\n",
    "            pid = l.split(' Feb 25, 2019')[1].split(' ')[1]\n",
    "        \n",
    "            time = pd.Timestamp(l.split(' ')[1])\n",
    "            steps = float( l.split(' Feb 25, 2019')[1].split(' ')[3])\n",
    "        elif 'Feb 26' in l:\n",
    "            pid = l.split(' Feb 26, 2019')[1].split(' ')[1]\n",
    "        \n",
    "            time = pd.Timestamp(l.split(' ')[1])\n",
    "            steps = float( l.split(' Feb 26, 2019')[1].split(' ')[3])\n",
    "        #pid = l.split(' ')[11]\n",
    "        if pid not in to_return:\n",
    "            to_return[pid]={}\n",
    "        to_return[pid][time]=steps\n",
    "        #gid =  l.split(' ')[12]\n",
    "    return to_return"
   ]
  },
  {
   "cell_type": "code",
   "execution_count": 61,
   "metadata": {},
   "outputs": [],
   "source": [
    "def check_any_date(case,daylimit,pop):\n",
    "    direct = '../../Downloads/cases_from_cluster/{}'.format(case)\n",
    "    files = [f for f in os.listdir('{}/'.format(direct)) if pop in f and 'part' in f and 'no_tuning' in f]\n",
    "    #good_two = count_done('../../Downloads/cases_from_cluster/{}_two'.format(case),ptwo)\n",
    "    all_goods ={}\n",
    "    for ff in files:\n",
    "        with open('{}/{}'.format(direct,ff),'r') as f:\n",
    "            l = f.readlines()\n",
    "        by_date = get_by_date(l)\n",
    "        #print(by_date)\n",
    "        goods = [k for k,v in by_date.items() if (sorted(v)[-1]-sorted(v)[0]).days>daylimit]\n",
    "        if len(goods)==int(pop.strip('_')):\n",
    "            all_goods[ff]=by_date\n",
    "    return all_goods\n",
    "            "
   ]
  },
  {
   "cell_type": "code",
   "execution_count": 65,
   "metadata": {},
   "outputs": [],
   "source": [
    "def get_all_steps_across_files(case,date,pop):\n",
    "    files = get_all_valid_files(case,date,pop)\n",
    "    all_steps = []\n",
    "    for f,v in files.items():\n",
    "        od = get_output(v)\n",
    "        for k,v in od[0].items():\n",
    "            all_steps.extend(v)\n",
    "    return all_steps"
   ]
  },
  {
   "cell_type": "code",
   "execution_count": 77,
   "metadata": {},
   "outputs": [],
   "source": [
    "def dict_to_steps(time_dict):\n",
    "    all_steps = []\n",
    "    print(len(time_dict))\n",
    "    fcount = 0\n",
    "    for f,d in time_dict.items():\n",
    "        while fcount<50:\n",
    "            for k,v in d.items():\n",
    "                all_steps.extend(list(v.values()))\n",
    "            fcount = fcount+1\n",
    "    return np.array(all_steps)"
   ]
  },
  {
   "cell_type": "code",
   "execution_count": 78,
   "metadata": {},
   "outputs": [
    {
     "name": "stdout",
     "output_type": "stream",
     "text": [
      "123\n"
     ]
    },
    {
     "data": {
      "text/plain": [
       "2.608290076185522"
      ]
     },
     "execution_count": 78,
     "metadata": {},
     "output_type": "execute_result"
    }
   ],
   "source": [
    "steps = dict_to_steps(check_any_date('case_one',41,'_32_'))\n",
    "steps.mean()"
   ]
  },
  {
   "cell_type": "code",
   "execution_count": 79,
   "metadata": {},
   "outputs": [
    {
     "name": "stdout",
     "output_type": "stream",
     "text": [
      "98\n"
     ]
    },
    {
     "data": {
      "text/plain": [
       "2.7046961118298825"
      ]
     },
     "execution_count": 79,
     "metadata": {},
     "output_type": "execute_result"
    }
   ],
   "source": [
    "steps = dict_to_steps(check_any_date('case_three',41,'_32_'))\n",
    "steps.mean()"
   ]
  },
  {
   "cell_type": "code",
   "execution_count": 54,
   "metadata": {},
   "outputs": [
    {
     "data": {
      "text/plain": [
       "nan"
      ]
     },
     "execution_count": 54,
     "metadata": {},
     "output_type": "execute_result"
    }
   ],
   "source": [
    "f_one = get_all_steps_across_files('case_one', '2015-10-19 19:00:00')\n",
    "np.array(f_one).mean()"
   ]
  },
  {
   "cell_type": "code",
   "execution_count": null,
   "metadata": {},
   "outputs": [],
   "source": []
  }
 ],
 "metadata": {
  "kernelspec": {
   "display_name": "Python 3",
   "language": "python",
   "name": "python3"
  },
  "language_info": {
   "codemirror_mode": {
    "name": "ipython",
    "version": 3
   },
   "file_extension": ".py",
   "mimetype": "text/x-python",
   "name": "python",
   "nbconvert_exporter": "python",
   "pygments_lexer": "ipython3",
   "version": "3.6.8"
  }
 },
 "nbformat": 4,
 "nbformat_minor": 2
}
