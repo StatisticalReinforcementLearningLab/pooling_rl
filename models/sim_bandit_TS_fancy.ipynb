{
 "cells": [
  {
   "cell_type": "code",
   "execution_count": 1,
   "metadata": {
    "collapsed": false
   },
   "outputs": [],
   "source": [
    "import bandit\n",
    "from numpy.random import uniform\n",
    "from numpy.linalg import solve\n",
    "from numpy.linalg import inv\n",
    "import numpy as np\n",
    "import state_params\n",
    "import random\n",
    "from scipy.stats import norm\n",
    "import TS_fancy\n",
    "from scipy.linalg import block_diag\n",
    "from scipy.interpolate import BSpline\n",
    "import eta\n"
   ]
  },
  {
   "cell_type": "code",
   "execution_count": 2,
   "metadata": {
    "collapsed": false
   },
   "outputs": [],
   "source": [
    "sp = state_params.state_params(10)"
   ]
  },
  {
   "cell_type": "code",
   "execution_count": 3,
   "metadata": {
    "collapsed": false
   },
   "outputs": [],
   "source": [
    "def simulate(pZ,init):\n",
    "    total_reward = 0\n",
    "  # simulation\n",
    "    nT = 450\n",
    "\n",
    "      # initial state\n",
    "    Z_init = [uniform() for i in range(pZ)]\n",
    "    X_init =0\n",
    "    I_init = (uniform() < 0.8)\n",
    "  \n",
    "\n",
    "  \n",
    "    # policy initilization\n",
    "    mu_beta = init.mu_2\n",
    "    Sigma_beta = init.sigma_2\n",
    "    \n",
    "    \n",
    "    the_eta = eta.eta()\n",
    "    \n",
    "    current_eta = the_eta.eta_init\n",
    "    \n",
    "    # placeholder\n",
    "    batch = [[] for i in range(nT)]\n",
    "  \n",
    "  \n",
    "    # performance matrix\n",
    "\n",
    "  \n",
    "  \n",
    "    for t in range(nT):\n",
    "    \n",
    "    \n",
    "    # current state \n",
    "    \n",
    "        if(t==0):\n",
    "      \n",
    "            Z_next = Z_init\n",
    "            X_next = X_init\n",
    "            I_next = I_init\n",
    "      \n",
    "    \n",
    "    \n",
    "        Z = Z_next\n",
    "        X = X_next\n",
    "        I = I_next\n",
    "    \n",
    "    # action selection\n",
    "    \n",
    "        if I == 1:\n",
    "      \n",
    "          # calculate prob\n",
    "      \n",
    "            prob = TS_fancy.prob_cal(Z, X, mu_beta, Sigma_beta, init, current_eta)\n",
    "            #print(prob)\n",
    "            #print(':)')\n",
    "          # sample the action\n",
    "            A = int(uniform() < prob)\n",
    "      \n",
    "        else:\n",
    "      \n",
    "            prob = 0\n",
    "            A = 0\n",
    "      \n",
    "        \n",
    "    \n",
    "        R = 1+Z[0]+(Z[0]**2)-(.05*X)+A*(1-.1*X)+np.random.normal(scale=1)\n",
    "        Z_next = [uniform() for i in range(pZ)]\n",
    "        X_next = TS_fancy.gen_nextdosage(X,A)\n",
    "        I_next = (uniform()<.8)\n",
    "        \n",
    "        \n",
    "        batch[t]=TS_fancy.make_batch(t,Z,X,I,A,prob,R)\n",
    "        \n",
    "        \n",
    "        total_reward = total_reward+R\n",
    "        if (t+1)%5 == 0: \n",
    "            if (t+1)%35==0:  \n",
    "            #update the txt effect posterior\n",
    "               \n",
    "                temp = TS_fancy.policy_update(batch[:t], init,proxy=True)\n",
    "                #print('returning temp')\n",
    "                #return temp\n",
    "            #print(temp)\n",
    "                mu_beta = temp[0]\n",
    "                Sigma_beta = temp[1]\n",
    "                eta_params = temp[2]\n",
    "                the_eta.update_params(eta_params)\n",
    "                \n",
    "                current_eta = the_eta.eta_function\n",
    "                print('ne eta')\n",
    "            else:\n",
    "                temp = TS_fancy.policy_update(batch[:t], init,proxy=False)\n",
    "               \n",
    "            #print(temp)\n",
    "                mu_beta = temp[0]\n",
    "                Sigma_beta = temp[1]\n",
    "      \n",
    "   \n",
    "    \n",
    "        #policy_update_ts(batch, init)\n",
    "    print(total_reward)\n",
    "    return batch,total_reward\n",
    "  \n",
    "    \n"
   ]
  },
  {
   "cell_type": "code",
   "execution_count": 4,
   "metadata": {
    "collapsed": false
   },
   "outputs": [],
   "source": [
    "#b,t = simulate(sp.pZ,sp)"
   ]
  },
  {
   "cell_type": "code",
   "execution_count": null,
   "metadata": {
    "collapsed": false
   },
   "outputs": [
    {
     "name": "stdout",
     "output_type": "stream",
     "text": [
      "margin\n",
      "0\n",
      "margin\n",
      "0\n",
      "margin\n",
      "0\n",
      "margin\n",
      "0\n",
      "margin\n",
      "0\n",
      "margin\n",
      "0\n",
      "margin\n",
      "0\n",
      "margin\n",
      "0\n",
      "margin\n",
      "0\n",
      "margin\n",
      "0\n",
      "margin\n",
      "0\n",
      "margin\n",
      "0\n",
      "margin\n",
      "0\n",
      "margin\n",
      "0\n",
      "margin\n",
      "0\n",
      "margin\n",
      "0\n",
      "margin\n",
      "0\n",
      "margin\n",
      "0\n",
      "margin\n",
      "0\n",
      "margin\n",
      "0\n",
      "margin\n",
      "0\n",
      "margin\n",
      "0\n",
      "margin\n",
      "0\n",
      "margin\n",
      "0\n",
      "margin\n",
      "0\n",
      "margin\n",
      "0\n",
      "margin\n",
      "0\n",
      "margin\n",
      "0\n",
      "margin\n",
      "0\n",
      "margin\n",
      "0\n",
      "margin\n",
      "0\n",
      "(1001, 50)\n"
     ]
    }
   ],
   "source": [
    "play =simulate(sp.pZ,sp)"
   ]
  },
  {
   "cell_type": "code",
   "execution_count": 6,
   "metadata": {
    "collapsed": false
   },
   "outputs": [],
   "source": [
    "play = play+np.random.rand(50,50)"
   ]
  },
  {
   "cell_type": "code",
   "execution_count": 5,
   "metadata": {
    "collapsed": false
   },
   "outputs": [
    {
     "data": {
      "text/plain": [
       "0.01"
      ]
     },
     "execution_count": 5,
     "metadata": {},
     "output_type": "execute_result"
    }
   ],
   "source": [
    "1e-2"
   ]
  },
  {
   "cell_type": "code",
   "execution_count": 17,
   "metadata": {
    "collapsed": false
   },
   "outputs": [
    {
     "ename": "AttributeError",
     "evalue": "'int' object has no attribute 'ndim'",
     "output_type": "error",
     "traceback": [
      "\u001b[0;31m---------------------------------------------------------------------------\u001b[0m",
      "\u001b[0;31mAttributeError\u001b[0m                            Traceback (most recent call last)",
      "\u001b[0;32m<ipython-input-17-6daa539b4edf>\u001b[0m in \u001b[0;36m<module>\u001b[0;34m()\u001b[0m\n\u001b[1;32m      1\u001b[0m \u001b[0;31m#range=c(0, 1/(1-input$lambda)), nbasis=50, norder = 4)\u001b[0m\u001b[0;34m\u001b[0m\u001b[0;34m\u001b[0m\u001b[0m\n\u001b[0;32m----> 2\u001b[0;31m \u001b[0mBSpline\u001b[0m\u001b[0;34m(\u001b[0m\u001b[0mnp\u001b[0m\u001b[0;34m.\u001b[0m\u001b[0marange\u001b[0m\u001b[0;34m(\u001b[0m\u001b[0;36m0\u001b[0m\u001b[0;34m,\u001b[0m\u001b[0;36m1\u001b[0m\u001b[0;34m/\u001b[0m\u001b[0;36m0.1\u001b[0m\u001b[0;34m+\u001b[0m\u001b[0;36m1\u001b[0m\u001b[0;34m)\u001b[0m\u001b[0;34m,\u001b[0m\u001b[0;36m50\u001b[0m\u001b[0;34m,\u001b[0m\u001b[0;36m4\u001b[0m\u001b[0;34m)\u001b[0m\u001b[0;34m\u001b[0m\u001b[0m\n\u001b[0m",
      "\u001b[0;32m/Users/sabina/anaconda3/lib/python3.5/site-packages/scipy/interpolate/_bsplines.py\u001b[0m in \u001b[0;36m__init__\u001b[0;34m(self, t, c, k, extrapolate, axis)\u001b[0m\n\u001b[1;32m    194\u001b[0m \u001b[0;34m\u001b[0m\u001b[0m\n\u001b[1;32m    195\u001b[0m         \u001b[0;32mif\u001b[0m \u001b[0;32mnot\u001b[0m \u001b[0;34m(\u001b[0m\u001b[0;36m0\u001b[0m \u001b[0;34m<=\u001b[0m \u001b[0maxis\u001b[0m \u001b[0;34m<\u001b[0m \u001b[0mself\u001b[0m\u001b[0;34m.\u001b[0m\u001b[0mc\u001b[0m\u001b[0;34m.\u001b[0m\u001b[0mndim\u001b[0m\u001b[0;34m)\u001b[0m\u001b[0;34m:\u001b[0m\u001b[0;34m\u001b[0m\u001b[0m\n\u001b[0;32m--> 196\u001b[0;31m             \u001b[0;32mraise\u001b[0m \u001b[0mValueError\u001b[0m\u001b[0;34m(\u001b[0m\u001b[0;34m\"%s must be between 0 and %s\"\u001b[0m \u001b[0;34m%\u001b[0m \u001b[0;34m(\u001b[0m\u001b[0maxis\u001b[0m\u001b[0;34m,\u001b[0m \u001b[0mc\u001b[0m\u001b[0;34m.\u001b[0m\u001b[0mndim\u001b[0m\u001b[0;34m)\u001b[0m\u001b[0;34m)\u001b[0m\u001b[0;34m\u001b[0m\u001b[0m\n\u001b[0m\u001b[1;32m    197\u001b[0m \u001b[0;34m\u001b[0m\u001b[0m\n\u001b[1;32m    198\u001b[0m         \u001b[0mself\u001b[0m\u001b[0;34m.\u001b[0m\u001b[0maxis\u001b[0m \u001b[0;34m=\u001b[0m \u001b[0maxis\u001b[0m\u001b[0;34m\u001b[0m\u001b[0m\n",
      "\u001b[0;31mAttributeError\u001b[0m: 'int' object has no attribute 'ndim'"
     ]
    }
   ],
   "source": [
    "#range=c(0, 1/(1-input$lambda)), nbasis=50, norder = 4)\n",
    "BSpline(np.arange(0,1/0.1+1),50,4)"
   ]
  },
  {
   "cell_type": "code",
   "execution_count": 6,
   "metadata": {
    "collapsed": false
   },
   "outputs": [
    {
     "data": {
      "text/plain": [
       "array([ 0. ,  0.2,  0.4,  0.6,  0.8,  1. ,  1.2,  1.4,  1.6,  1.8,  2. ,\n",
       "        2.2,  2.4,  2.6,  2.8,  3. ,  3.2,  3.4,  3.6,  3.8,  4. ,  4.2,\n",
       "        4.4,  4.6,  4.8,  5. ,  5.2,  5.4,  5.6,  5.8,  6. ,  6.2,  6.4,\n",
       "        6.6,  6.8,  7. ,  7.2,  7.4,  7.6,  7.8,  8. ,  8.2,  8.4,  8.6,\n",
       "        8.8,  9. ,  9.2,  9.4,  9.6,  9.8])"
      ]
     },
     "execution_count": 6,
     "metadata": {},
     "output_type": "execute_result"
    }
   ],
   "source": [
    "np.arange(0,10,(10)/50)"
   ]
  },
  {
   "cell_type": "code",
   "execution_count": 6,
   "metadata": {
    "collapsed": false
   },
   "outputs": [
    {
     "data": {
      "text/plain": [
       "array([  0.  ,   0.01,   0.02, ...,   9.98,   9.99,  10.  ])"
      ]
     },
     "execution_count": 6,
     "metadata": {},
     "output_type": "execute_result"
    }
   ],
   "source": [
    "np.arange(0,1/(1-.9),.01)"
   ]
  },
  {
   "cell_type": "code",
   "execution_count": null,
   "metadata": {
    "collapsed": true
   },
   "outputs": [],
   "source": []
  }
 ],
 "metadata": {
  "anaconda-cloud": {},
  "kernelspec": {
   "display_name": "Python [Root]",
   "language": "python",
   "name": "Python [Root]"
  },
  "language_info": {
   "codemirror_mode": {
    "name": "ipython",
    "version": 3
   },
   "file_extension": ".py",
   "mimetype": "text/x-python",
   "name": "python",
   "nbconvert_exporter": "python",
   "pygments_lexer": "ipython3",
   "version": "3.5.6"
  }
 },
 "nbformat": 4,
 "nbformat_minor": 0
}
