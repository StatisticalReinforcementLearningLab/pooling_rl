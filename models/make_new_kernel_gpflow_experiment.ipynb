{
 "cells": [
  {
   "cell_type": "code",
   "execution_count": 1,
   "metadata": {},
   "outputs": [],
   "source": [
    "import gpflow\n",
    "import numpy as np\n",
    "import math\n",
    "import tensorflow as tf\n",
    "sess = tf.Session()"
   ]
  },
  {
   "cell_type": "code",
   "execution_count": 8,
   "metadata": {},
   "outputs": [],
   "source": [
    "\n",
    "\n",
    "\n",
    "class CustomKernel(gpflow.kernels.Kernel):\n",
    "    def __init__(self,input_dim,variance=1.0, lengthscales=1.0,\n",
    "                 active_dims=None, ARD=None, name=None):\n",
    "        super().__init__(input_dim)\n",
    "        self.sigma_u = gpflow.Param(1.0, transform=gpflow.transforms.positive,\n",
    "                                  dtype=gpflow.settings.float_type)\n",
    "        lengthscales, self.ARD = self._validate_ard_shape(\"lengthscales\", lengthscales, ARD)\n",
    "        self.lengthscales = gpflow.Param(lengthscales, transform=gpflow.transforms.positive,\n",
    "                                      dtype=gpflow.settings.float_type)\n",
    "        \n",
    "        #tf.tensor([[1,2],[2,1]])\n",
    "        #gpflow.Param(1.0, transform=gpflow.transforms.positive)\n",
    "        #self.variance = gpflow.Param(1.0, transform=gpflow.transforms.positive)\n",
    "    \n",
    "    @gpflow.params_as_tensors\n",
    "    def _scaled_square_dist(self, X, X2):\n",
    "        \"\"\"\n",
    "        Returns ((X - X2ᵀ)/lengthscales)².\n",
    "        Due to the implementation and floating-point imprecision, the\n",
    "        result may actually be very slightly negative for entries very\n",
    "        close to each other.\n",
    "        \"\"\"\n",
    "        X = X / self.lengthscales\n",
    "        Xs = tf.reduce_sum(tf.square(X), axis=-1, keepdims=True)\n",
    "\n",
    "        if X2 is None:\n",
    "            dist = -2 * tf.matmul(X, X, transpose_b=True)\n",
    "            dist += Xs + tf.matrix_transpose(Xs)\n",
    "            return dist\n",
    "\n",
    "        X2 = X2 / self.lengthscales\n",
    "        X2s = tf.reduce_sum(tf.square(X2), axis=-1, keepdims=True)\n",
    "        dist = -2 * tf.matmul(X, X2, transpose_b=True)\n",
    "        dist += Xs + tf.matrix_transpose(X2s)\n",
    "        return dist\n",
    "    \n",
    "    @staticmethod\n",
    "    def _clipped_sqrt(r2):\n",
    "        # Clipping around the (single) float precision which is ~1e-45.\n",
    "        return tf.sqrt(tf.maximum(r2, 1e-40))\n",
    "    \n",
    "    def scaled_square_dist(self, X, X2):  # pragma: no cover\n",
    "        return self._scaled_square_dist(X, X2)\n",
    "    \n",
    "    @gpflow.params_as_tensors\n",
    "    def K_r2(self, r2):\n",
    "        return self.variance * tf.exp(-r2 / 2.)\n",
    "    \n",
    "    @gpflow.params_as_tensors\n",
    "    def K(self, X, X2=None, presliced=False):\n",
    "        \n",
    "        #feature_vector_one = X[0:4]\n",
    "        #time_index_one = X[4:5]\n",
    "        #user_index_one = X[5:6]\n",
    "        \n",
    "        \n",
    "        #if X2!=None:\n",
    "            #feature_vector_two = X2[0:4]\n",
    "            #time_index_two = X2[4:5]\n",
    "            #user_index_two = X2[5:6]\n",
    "\n",
    "        \n",
    "        \n",
    "        \n",
    "        \n",
    "        return self.sigma_u * 1\n",
    "       \n",
    "        \n",
    "        #self.variance * tf.minimum(X, tf.transpose(X2))\n",
    "\n",
    "    @gpflow.params_as_tensors\n",
    "    def Kdiag(self, X, presliced=False):\n",
    "        return tf.fill(tf.shape(X)[:-1], tf.squeeze(self.variance))"
   ]
  },
  {
   "cell_type": "code",
   "execution_count": 9,
   "metadata": {},
   "outputs": [],
   "source": [
    "X = np.array([np.ones(6),np.zeros(6)])\n",
    "y = np.array([[.3],[.5]])"
   ]
  },
  {
   "cell_type": "code",
   "execution_count": 14,
   "metadata": {},
   "outputs": [
    {
     "name": "stderr",
     "output_type": "stream",
     "text": [
      "WARNING:gpflow.logdensities:Shape of x must be 2D at computation.\n",
      "WARNING:gpflow.logdensities:Shape of mu may be unknown or not 2D.\n"
     ]
    }
   ],
   "source": [
    "    k =  CustomKernel(6)\n",
    "    m = gpflow.models.GPR(X,y, kern=k)"
   ]
  },
  {
   "cell_type": "code",
   "execution_count": null,
   "metadata": {},
   "outputs": [],
   "source": []
  },
  {
   "cell_type": "code",
   "execution_count": 15,
   "metadata": {},
   "outputs": [
    {
     "name": "stdout",
     "output_type": "stream",
     "text": [
      "INFO:tensorflow:Optimization terminated with:\n",
      "  Message: b'CONVERGENCE: NORM_OF_PROJECTED_GRADIENT_<=_PGTOL'\n",
      "  Objective function value: 0.312148\n",
      "  Number of iterations: 5\n",
      "  Number of functions evaluations: 9\n"
     ]
    },
    {
     "name": "stderr",
     "output_type": "stream",
     "text": [
      "INFO:tensorflow:Optimization terminated with:\n",
      "  Message: b'CONVERGENCE: NORM_OF_PROJECTED_GRADIENT_<=_PGTOL'\n",
      "  Objective function value: 0.312148\n",
      "  Number of iterations: 5\n",
      "  Number of functions evaluations: 9\n"
     ]
    }
   ],
   "source": [
    "gpflow.train.ScipyOptimizer().minimize(m,session=sess)"
   ]
  },
  {
   "cell_type": "code",
   "execution_count": 66,
   "metadata": {},
   "outputs": [],
   "source": [
    "#m.as_pandas_table()"
   ]
  },
  {
   "cell_type": "code",
   "execution_count": 22,
   "metadata": {},
   "outputs": [],
   "source": [
    "def obtain_kernel_and_sigma_u(all_xs,all_ys):\n",
    "    k =  CustomKernel(all_xs.shape[1])\n",
    "    m = gpflow.models.GPR(all_xs, all_ys, kern=k)\n",
    "    gpflow.train.ScipyOptimizer().minimize(m,session=sess)\n",
    "    sigma_u = m.kern.sigma_u.value\n",
    "    cov = np.zeros((all_xs.shape[0],all_xs.shape[0]))\n",
    "    print(m.as_pandas_table())\n",
    "    for i in range(all_xs.shape[0]):\n",
    "        for j in range(all_xs.shape[0]):\n",
    "            term = m.kern.K(all_xs[i],all_xs[j])\n",
    "            cov[i][j]=term.eval(session=sess)\n",
    "    return cov,sigma_u"
   ]
  },
  {
   "cell_type": "code",
   "execution_count": 23,
   "metadata": {},
   "outputs": [
    {
     "name": "stderr",
     "output_type": "stream",
     "text": [
      "WARNING:gpflow.logdensities:Shape of x must be 2D at computation.\n",
      "WARNING:gpflow.logdensities:Shape of mu may be unknown or not 2D.\n"
     ]
    },
    {
     "name": "stdout",
     "output_type": "stream",
     "text": [
      "INFO:tensorflow:Optimization terminated with:\n",
      "  Message: b'CONVERGENCE: NORM_OF_PROJECTED_GRADIENT_<=_PGTOL'\n",
      "  Objective function value: 0.312148\n",
      "  Number of iterations: 5\n",
      "  Number of functions evaluations: 9\n"
     ]
    },
    {
     "name": "stderr",
     "output_type": "stream",
     "text": [
      "INFO:tensorflow:Optimization terminated with:\n",
      "  Message: b'CONVERGENCE: NORM_OF_PROJECTED_GRADIENT_<=_PGTOL'\n",
      "  Objective function value: 0.312148\n",
      "  Number of iterations: 5\n",
      "  Number of functions evaluations: 9\n"
     ]
    },
    {
     "name": "stdout",
     "output_type": "stream",
     "text": [
      "                             class prior transform  trainable shape  \\\n",
      "GPR/kern/lengthscales    Parameter  None       +ve       True    ()   \n",
      "GPR/kern/sigma_u         Parameter  None       +ve       True    ()   \n",
      "GPR/likelihood/variance  Parameter  None       +ve       True    ()   \n",
      "\n",
      "                         fixed_shape                 value  \n",
      "GPR/kern/lengthscales           True                   1.0  \n",
      "GPR/kern/sigma_u                True    0.1500026161960994  \n",
      "GPR/likelihood/variance         True  0.020000046520069675  \n"
     ]
    },
    {
     "data": {
      "text/plain": [
       "(array([[0.15000262, 0.15000262],\n",
       "        [0.15000262, 0.15000262]]), array(0.15000262))"
      ]
     },
     "execution_count": 23,
     "metadata": {},
     "output_type": "execute_result"
    }
   ],
   "source": [
    "obtain_kernel_and_sigma_u(X,y)\n"
   ]
  },
  {
   "cell_type": "code",
   "execution_count": 118,
   "metadata": {},
   "outputs": [
    {
     "data": {
      "text/plain": [
       "<tf.Tensor 'norm_9/Squeeze:0' shape=() dtype=float32>"
      ]
     },
     "execution_count": 118,
     "metadata": {},
     "output_type": "execute_result"
    }
   ],
   "source": [
    "#one = tf.constant([0,0])\n",
    "#two = tf.constant([1,1])\n",
    "inp= tf.constant([[1.0, 2, 3], [4, 5, 6.0], [7.0, 8, 9]])\n",
    "tf.norm([inp,inp],ord=2)\n"
   ]
  },
  {
   "cell_type": "code",
   "execution_count": 16,
   "metadata": {},
   "outputs": [],
   "source": [
    "\n",
    "gr = m.kern.K(X,X)"
   ]
  },
  {
   "cell_type": "code",
   "execution_count": 19,
   "metadata": {},
   "outputs": [
    {
     "data": {
      "text/plain": [
       "(2, 6)"
      ]
     },
     "execution_count": 19,
     "metadata": {},
     "output_type": "execute_result"
    }
   ],
   "source": [
    "X.shape"
   ]
  },
  {
   "cell_type": "code",
   "execution_count": 20,
   "metadata": {},
   "outputs": [
    {
     "data": {
      "text/plain": [
       "1.0"
      ]
     },
     "execution_count": 20,
     "metadata": {},
     "output_type": "execute_result"
    }
   ],
   "source": [
    "gr.eval()"
   ]
  },
  {
   "cell_type": "code",
   "execution_count": null,
   "metadata": {},
   "outputs": [],
   "source": []
  }
 ],
 "metadata": {
  "kernelspec": {
   "display_name": "Python 3",
   "language": "python",
   "name": "python3"
  },
  "language_info": {
   "codemirror_mode": {
    "name": "ipython",
    "version": 3
   },
   "file_extension": ".py",
   "mimetype": "text/x-python",
   "name": "python",
   "nbconvert_exporter": "python",
   "pygments_lexer": "ipython3",
   "version": "3.6.7"
  }
 },
 "nbformat": 4,
 "nbformat_minor": 2
}
