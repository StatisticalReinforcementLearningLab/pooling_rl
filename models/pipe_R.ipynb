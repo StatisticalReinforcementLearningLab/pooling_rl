{
 "cells": [
  {
   "cell_type": "code",
   "execution_count": 1,
   "metadata": {
    "collapsed": false
   },
   "outputs": [],
   "source": [
    "import bandit\n",
    "import numpy as np\n",
    "import state_params"
   ]
  },
  {
   "cell_type": "code",
   "execution_count": 2,
   "metadata": {
    "collapsed": true
   },
   "outputs": [],
   "source": [
    "###initializing variables"
   ]
  },
  {
   "cell_type": "markdown",
   "metadata": {},
   "source": [
    "input$xi <- 10\n",
    "input$eta.init = function(x) 0\n",
    "input$gamma.mdp <- 0.9\n",
    "input$lambda <- 0.9\n",
    "input$p.sed <- 0.3\n",
    "input$weight <- 0.5\n",
    "\n",
    "# index in the batch set: (time, state = (Z, X, I), action, prob, reward)\n",
    "input$z.index <- 2:(1+pZ)\n",
    "input$x.index <- 2+pZ\n",
    "input$avail.index <- 3+pZ \n",
    "input$action.index <- 4+pZ\n",
    "input$prob.index <- 5+pZ \n",
    "input$rwrd.index <- 6+pZ\n",
    "input$sigma <- 1\n",
    "input$mu0 = rep(0, length(input$feat0(z = rep(0, pZ), x = 0)))\n",
    "input$mu1 = rep(0, length(input$feat1(z = rep(0, pZ), x = 0)))\n",
    "input$mu2 = rep(0, length(input$feat2(z = rep(0, pZ), x = 0)))\n",
    "input$Sigma0 <- diag(10, length(input$feat0(z = rep(0, pZ), x = 0)));\n",
    "input$Sigma1 <- diag(10, length(input$feat1(z = rep(0, pZ), x = 0)));\n",
    "input$Sigma2 <- diag(10, length(input$feat2(z = rep(0, pZ), x = 0)));"
   ]
  },
  {
   "cell_type": "code",
   "execution_count": 3,
   "metadata": {
    "collapsed": true
   },
   "outputs": [],
   "source": [
    "def get_vec_indices(pZ):\n",
    "    return [i for i in range(2,pZ+1)]"
   ]
  },
  {
   "cell_type": "code",
   "execution_count": 4,
   "metadata": {
    "collapsed": false
   },
   "outputs": [],
   "source": [
    "sp = state_params.state_params()"
   ]
  },
  {
   "cell_type": "code",
   "execution_count": 5,
   "metadata": {
    "collapsed": false
   },
   "outputs": [
    {
     "data": {
      "text/plain": [
       "10"
      ]
     },
     "execution_count": 5,
     "metadata": {},
     "output_type": "execute_result"
    }
   ],
   "source": [
    "sp.xi"
   ]
  },
  {
   "cell_type": "code",
   "execution_count": 4,
   "metadata": {
    "collapsed": true
   },
   "outputs": [],
   "source": [
    "z = bandit.init_mu(0,2)\n"
   ]
  },
  {
   "cell_type": "code",
   "execution_count": 5,
   "metadata": {
    "collapsed": false
   },
   "outputs": [],
   "source": [
    "sigma_0 = np.diag([10 for i in range(len(mu_0))])\n",
    "sigma_1 = np.diag([10 for i in range(len(mu_1))])\n",
    "sigma_2 = np.diag([10 for i in range(len(mu_2))])\n"
   ]
  },
  {
   "cell_type": "code",
   "execution_count": 6,
   "metadata": {
    "collapsed": false
   },
   "outputs": [
    {
     "name": "stdout",
     "output_type": "stream",
     "text": [
      "10\n"
     ]
    }
   ],
   "source": [
    "#z, x, mu, Sigma, eta, input\n",
    "bandit.calculate_prob(z,0,[1,0,0],sigma_2,0,0)"
   ]
  },
  {
   "cell_type": "code",
   "execution_count": 6,
   "metadata": {
    "collapsed": true
   },
   "outputs": [],
   "source": [
    "pZ = 2\n",
    "pi_max = .8\n",
    "pi_min = .1\n",
    "\n",
    "\n",
    "sigma = 1\n",
    "\n",
    "\n",
    "xi  = 10 \n",
    "eta_init = 0\n",
    "gamma_mdp = .9\n",
    "lambda_knot = .9 \n",
    "prob_sedentary = .9 \n",
    "weight = .5 \n",
    "z_init = get_vec_indices(pZ)\n",
    "x_index = 2+pZ\n",
    "avail_index = 3+pZ\n",
    "prob_index = 5+pZ\n",
    "rwrd_index = 6+pZ\n"
   ]
  },
  {
   "cell_type": "code",
   "execution_count": null,
   "metadata": {
    "collapsed": true
   },
   "outputs": [],
   "source": []
  }
 ],
 "metadata": {
  "anaconda-cloud": {},
  "kernelspec": {
   "display_name": "Python [Root]",
   "language": "python",
   "name": "Python [Root]"
  },
  "language_info": {
   "codemirror_mode": {
    "name": "ipython",
    "version": 3
   },
   "file_extension": ".py",
   "mimetype": "text/x-python",
   "name": "python",
   "nbconvert_exporter": "python",
   "pygments_lexer": "ipython3",
   "version": "3.5.6"
  }
 },
 "nbformat": 4,
 "nbformat_minor": 0
}
