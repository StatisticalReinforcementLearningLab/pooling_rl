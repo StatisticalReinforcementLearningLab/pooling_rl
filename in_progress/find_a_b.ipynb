{
 "cells": [
  {
   "cell_type": "code",
   "execution_count": 1,
   "metadata": {},
   "outputs": [],
   "source": [
    "import numpy as np\n",
    "import pickle\n",
    "import matplotlib.pyplot as plt\n",
    "%matplotlib inline\n",
    "import pandas as pd\n",
    "import pandas as pd\n",
    "import sys\n",
    "sys.path\n",
    "sys.path.append('../models')\n",
    "sys.path.append('../simulation')\n",
    "import numpy as np\n",
    "import pickle\n",
    "import random\n",
    "import os\n",
    "import math\n",
    "import sim_functions_cleaner  as sf\n",
    "import operator\n",
    "import study"
   ]
  },
  {
   "cell_type": "code",
   "execution_count": 227,
   "metadata": {},
   "outputs": [],
   "source": [
    "def get_all_states():\n",
    "    all_states = []\n",
    "    counts = {}\n",
    "    for person,data in experiment.population.items():\n",
    "        h = data.history\n",
    "        for time,cd in h.items():\n",
    "            \n",
    "            if cd['avail'] and cd['decision_time']:\n",
    "                #cd['tod'],cd['dow'],cd['weather'],\n",
    "                states = [1,cd['dow'],cd['pretreatment'],cd['location']]\n",
    "                key = '-'.join(str(i) for i in states)\n",
    "                if key not in counts: \n",
    "                    counts[key]=0\n",
    "                counts[key]=counts[key]+1\n",
    "                all_states.append(states)\n",
    "    return all_states"
   ]
  },
  {
   "cell_type": "code",
   "execution_count": 262,
   "metadata": {},
   "outputs": [],
   "source": [
    "coeffs = np.array([ 0.05,  0.25, -0.3 ,  0.25,  0.25, -0.3 ])\n",
    "#coeffs = np.array([0.05,  0.25,  0.25,  0.25, -0.3 ])\n",
    "coeffs = np.array([ 0.05,  0.25, -0.3 ])\n",
    "\n",
    "coeffs = np.array([ 0.05, -0.3 ,  0.25,  0.25 ])\n",
    "\n",
    "coeffs = np.array([ 0.05, -0.35,  0.3 ,  0.3 ])"
   ]
  },
  {
   "cell_type": "code",
   "execution_count": 4,
   "metadata": {},
   "outputs": [],
   "source": [
    "with open('../simulation/visited_states_200.pkl','rb') as f:\n",
    "    experiment = pickle.load(f)"
   ]
  },
  {
   "cell_type": "code",
   "execution_count": 229,
   "metadata": {},
   "outputs": [],
   "source": [
    "ast = get_all_states()\n"
   ]
  },
  {
   "cell_type": "code",
   "execution_count": 230,
   "metadata": {},
   "outputs": [],
   "source": [
    "def get_all_states_by_group(gid):\n",
    "    all_states = []\n",
    "    counts = {}\n",
    "    for person,data in experiment.population.items():\n",
    "        h = data.history\n",
    "        \n",
    "        if data.gid==gid:\n",
    "            for time,cd in h.items():\n",
    "            \n",
    "                if cd['avail'] and cd['decision_time']:\n",
    "                    #cd['tod'],cd['dow'],cd['weather'],\n",
    "                    states = [1,cd['dow'],cd['pretreatment'],cd['location']]\n",
    "                    key = '-'.join(str(i) for i in states)\n",
    "                    if key not in counts: \n",
    "                        counts[key]=0\n",
    "                    counts[key]=counts[key]+1\n",
    "                    all_states.append(states)\n",
    "    return all_states"
   ]
  },
  {
   "cell_type": "code",
   "execution_count": 231,
   "metadata": {},
   "outputs": [],
   "source": [
    "group_two = get_all_states_by_group(2)\n",
    "group_one = get_all_states_by_group(1)"
   ]
  },
  {
   "cell_type": "code",
   "execution_count": 232,
   "metadata": {},
   "outputs": [],
   "source": [
    "def get_percent_actions(states,coeffs,offset):\n",
    "    return [(np.dot(coeffs.T,s)+offset)>0 for s in states]"
   ]
  },
  {
   "cell_type": "code",
   "execution_count": 233,
   "metadata": {},
   "outputs": [],
   "source": [
    "def get_reward(states,coeffs,offset):\n",
    "    return [(np.dot(coeffs.T,i)+offset) for i in states]"
   ]
  },
  {
   "cell_type": "code",
   "execution_count": 396,
   "metadata": {},
   "outputs": [],
   "source": [
    "def test_smooth(sigma):\n",
    "    all_rewards = []\n",
    "    #os = [np.random.normal(loc=-0.1,scale=.37) for i in range(8)]\n",
    "    for i in range(50):\n",
    "        offset = np.random.normal(loc=0.0,scale=sigma)\n",
    "        #offset = os[i%8]\n",
    "        #print(offset)\n",
    "        rew = get_reward(ast,coeffs,offset)\n",
    "        #return rew\n",
    "        all_rewards.extend(rew)\n",
    "    return all_rewards"
   ]
  },
  {
   "cell_type": "code",
   "execution_count": 382,
   "metadata": {},
   "outputs": [],
   "source": [
    "#[np.random.normal(loc=-0.1,scale=.37) for i in range(8)]"
   ]
  },
  {
   "cell_type": "code",
   "execution_count": 383,
   "metadata": {},
   "outputs": [
    {
     "name": "stdout",
     "output_type": "stream",
     "text": [
      "0.1\n",
      "0.2682253477336359\n",
      "0.15000000000000002\n",
      "0.27790128235055217\n",
      "0.20000000000000004\n",
      "0.2625988208679883\n",
      "0.25000000000000006\n",
      "0.2849982373373827\n",
      "0.30000000000000004\n",
      "0.30043711780852533\n",
      "0.3500000000000001\n",
      "0.3197164088702994\n",
      "0.40000000000000013\n",
      "0.26439682221737476\n"
     ]
    }
   ],
   "source": [
    "for s in np.arange(.1,.45,.05):\n",
    "    print(s)\n",
    "    rews = test_smooth(s)\n",
    "    print(sum([i for i in rews if i>=0])/len(rews))"
   ]
  },
  {
   "cell_type": "code",
   "execution_count": 370,
   "metadata": {},
   "outputs": [
    {
     "name": "stdout",
     "output_type": "stream",
     "text": [
      "0.15\n",
      "0.22770362498378996\n",
      "0.2\n",
      "0.23374088956881384\n",
      "0.25\n",
      "0.26403586248768895\n",
      "0.30000000000000004\n",
      "0.3428470248066565\n",
      "0.3500000000000001\n",
      "0.27206724999040666\n",
      "0.40000000000000013\n",
      "0.3509350289657297\n",
      "0.45000000000000007\n",
      "0.382853039808708\n"
     ]
    }
   ],
   "source": [
    "for s in np.arange(.1,.45,.05):\n",
    "    print(s)\n",
    "    rews = test_smooth(s)\n",
    "    print(sum([i for i in rews if i>=0])/len(rews))"
   ]
  },
  {
   "cell_type": "code",
   "execution_count": 397,
   "metadata": {},
   "outputs": [
    {
     "name": "stdout",
     "output_type": "stream",
     "text": [
      "0.31639962108926756\n"
     ]
    }
   ],
   "source": [
    "arews = []\n",
    "for a in range(10):\n",
    "    rews = test_smooth(.37)\n",
    "    arews.extend(rews)\n",
    "print(sum([i for i in arews if i>=0])/len(arews))"
   ]
  },
  {
   "cell_type": "code",
   "execution_count": 389,
   "metadata": {},
   "outputs": [
    {
     "data": {
      "text/plain": [
       "0.28545013949279346"
      ]
     },
     "execution_count": 389,
     "metadata": {},
     "output_type": "execute_result"
    }
   ],
   "source": [
    "np.array(rews).mean()"
   ]
  },
  {
   "cell_type": "code",
   "execution_count": 325,
   "metadata": {},
   "outputs": [
    {
     "name": "stdout",
     "output_type": "stream",
     "text": [
      "0.21751837694795645\n"
     ]
    }
   ],
   "source": [
    "treat = get_reward(ast,coeffs,0)\n",
    "print(np.array(treat).mean())"
   ]
  },
  {
   "cell_type": "code",
   "execution_count": 16,
   "metadata": {},
   "outputs": [
    {
     "data": {
      "text/plain": [
       "0.06766906792119966"
      ]
     },
     "execution_count": 16,
     "metadata": {},
     "output_type": "execute_result"
    }
   ],
   "source": [
    "np.array([(np.dot(coeffs.T,st)+0) for st in group_two+group_one]).st()"
   ]
  },
  {
   "cell_type": "code",
   "execution_count": 286,
   "metadata": {},
   "outputs": [],
   "source": [
    "per_one = get_percent_actions(group_one,coeffs,0.0)\n",
    "per_two = get_percent_actions(group_two,coeffs,-0.5)"
   ]
  },
  {
   "cell_type": "code",
   "execution_count": 287,
   "metadata": {},
   "outputs": [
    {
     "data": {
      "text/plain": [
       "0.7473441254584545"
      ]
     },
     "execution_count": 287,
     "metadata": {},
     "output_type": "execute_result"
    }
   ],
   "source": [
    "sum(per_one)/len(per_one)"
   ]
  },
  {
   "cell_type": "code",
   "execution_count": 288,
   "metadata": {},
   "outputs": [
    {
     "data": {
      "text/plain": [
       "0.1282974280061552"
      ]
     },
     "execution_count": 288,
     "metadata": {},
     "output_type": "execute_result"
    }
   ],
   "source": [
    "sum(per_two)/len(per_two)"
   ]
  },
  {
   "cell_type": "code",
   "execution_count": 333,
   "metadata": {},
   "outputs": [
    {
     "data": {
      "text/plain": [
       "-0.0499911790649809"
      ]
     },
     "execution_count": 333,
     "metadata": {},
     "output_type": "execute_result"
    }
   ],
   "source": [
    "np.array(rew_one+rew_two).mean()"
   ]
  },
  {
   "cell_type": "code",
   "execution_count": 289,
   "metadata": {},
   "outputs": [],
   "source": [
    "rew_one = get_reward(group_one,coeffs,0.0)\n",
    "rew_two = get_reward(group_two,coeffs,-.5)\n",
    "per_one = get_percent_actions(group_one,coeffs,0.0)\n",
    "per_two = get_percent_actions(group_two,coeffs,-.5)"
   ]
  },
  {
   "cell_type": "code",
   "execution_count": 290,
   "metadata": {},
   "outputs": [
    {
     "data": {
      "text/plain": [
       "0.7473441254584545"
      ]
     },
     "execution_count": 290,
     "metadata": {},
     "output_type": "execute_result"
    }
   ],
   "source": [
    "sum(per_one)/len(per_one)"
   ]
  },
  {
   "cell_type": "code",
   "execution_count": 291,
   "metadata": {},
   "outputs": [
    {
     "data": {
      "text/plain": [
       "0.1282974280061552"
      ]
     },
     "execution_count": 291,
     "metadata": {},
     "output_type": "execute_result"
    }
   ],
   "source": [
    "sum(per_two)/len(per_two)"
   ]
  },
  {
   "cell_type": "code",
   "execution_count": 292,
   "metadata": {},
   "outputs": [
    {
     "name": "stdout",
     "output_type": "stream",
     "text": [
      "5\n",
      "-0.3\n",
      "25\n",
      "0.0\n",
      "50\n",
      "0.35\n",
      "75\n",
      "0.35\n",
      "95\n",
      "0.65\n"
     ]
    }
   ],
   "source": [
    "for i in [5,25,50,75,95]:\n",
    "    print(i)\n",
    "    print(np.percentile(rew_one,i))"
   ]
  },
  {
   "cell_type": "code",
   "execution_count": 293,
   "metadata": {},
   "outputs": [
    {
     "name": "stdout",
     "output_type": "stream",
     "text": [
      "5\n",
      "-0.8\n",
      "25\n",
      "-0.5\n",
      "50\n",
      "-0.15000000000000002\n",
      "75\n",
      "-0.15000000000000002\n",
      "95\n",
      "0.15000000000000002\n"
     ]
    }
   ],
   "source": [
    "for i in [5,25,50,75,95]:\n",
    "    print(i)\n",
    "    print(np.percentile(rew_two,i))"
   ]
  },
  {
   "cell_type": "code",
   "execution_count": null,
   "metadata": {},
   "outputs": [],
   "source": []
  },
  {
   "cell_type": "code",
   "execution_count": 133,
   "metadata": {},
   "outputs": [
    {
     "data": {
      "text/plain": [
       "0.352423409554728"
      ]
     },
     "execution_count": 133,
     "metadata": {},
     "output_type": "execute_result"
    }
   ],
   "source": [
    "np.array([r+0.12929506027638932 for r in rew_one+rew_two]).std()"
   ]
  },
  {
   "cell_type": "code",
   "execution_count": 198,
   "metadata": {},
   "outputs": [
    {
     "data": {
      "text/plain": [
       "0.050000000000000044"
      ]
     },
     "execution_count": 198,
     "metadata": {},
     "output_type": "execute_result"
    }
   ],
   "source": [
    "-0.24999999999999994+.3"
   ]
  },
  {
   "cell_type": "code",
   "execution_count": 199,
   "metadata": {},
   "outputs": [
    {
     "data": {
      "text/plain": [
       "0.025000000000000022"
      ]
     },
     "execution_count": 199,
     "metadata": {},
     "output_type": "execute_result"
    }
   ],
   "source": [
    "0.050000000000000044/2"
   ]
  },
  {
   "cell_type": "code",
   "execution_count": 202,
   "metadata": {},
   "outputs": [
    {
     "data": {
      "text/plain": [
       "-0.5"
      ]
     },
     "execution_count": 202,
     "metadata": {},
     "output_type": "execute_result"
    }
   ],
   "source": [
    "np.percentile(rew_one+rew_two,5)"
   ]
  },
  {
   "cell_type": "code",
   "execution_count": 203,
   "metadata": {},
   "outputs": [
    {
     "data": {
      "text/plain": [
       "1.45"
      ]
     },
     "execution_count": 203,
     "metadata": {},
     "output_type": "execute_result"
    }
   ],
   "source": [
    ".95--.5"
   ]
  },
  {
   "cell_type": "code",
   "execution_count": 204,
   "metadata": {},
   "outputs": [
    {
     "data": {
      "text/plain": [
       "0.3625"
      ]
     },
     "execution_count": 204,
     "metadata": {},
     "output_type": "execute_result"
    }
   ],
   "source": [
    "1.45/4"
   ]
  },
  {
   "cell_type": "code",
   "execution_count": 205,
   "metadata": {},
   "outputs": [
    {
     "name": "stdout",
     "output_type": "stream",
     "text": [
      "5\n",
      "-0.5\n",
      "25\n",
      "-0.25\n",
      "50\n",
      "0.050000000000000044\n",
      "75\n",
      "0.30000000000000004\n",
      "95\n",
      "0.8\n"
     ]
    }
   ],
   "source": [
    "for i in [5,25,50,75,95]:\n",
    "    print(i)\n",
    "    print(np.percentile(rew_two+rew_one,i))"
   ]
  },
  {
   "cell_type": "code",
   "execution_count": 206,
   "metadata": {},
   "outputs": [
    {
     "data": {
      "text/plain": [
       "1.3"
      ]
     },
     "execution_count": 206,
     "metadata": {},
     "output_type": "execute_result"
    }
   ],
   "source": [
    ".8--.5"
   ]
  },
  {
   "cell_type": "code",
   "execution_count": 207,
   "metadata": {},
   "outputs": [
    {
     "data": {
      "text/plain": [
       "0.325"
      ]
     },
     "execution_count": 207,
     "metadata": {},
     "output_type": "execute_result"
    }
   ],
   "source": [
    "1.3/4"
   ]
  },
  {
   "cell_type": "code",
   "execution_count": null,
   "metadata": {},
   "outputs": [],
   "source": []
  }
 ],
 "metadata": {
  "kernelspec": {
   "display_name": "Python 3",
   "language": "python",
   "name": "python3"
  },
  "language_info": {
   "codemirror_mode": {
    "name": "ipython",
    "version": 3
   },
   "file_extension": ".py",
   "mimetype": "text/x-python",
   "name": "python",
   "nbconvert_exporter": "python",
   "pygments_lexer": "ipython3",
   "version": "3.6.8"
  }
 },
 "nbformat": 4,
 "nbformat_minor": 2
}
