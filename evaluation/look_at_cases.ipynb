{
 "cells": [
  {
   "cell_type": "code",
   "execution_count": 1,
   "metadata": {},
   "outputs": [],
   "source": [
    "results_path = '../../Downloads/pooling_results/'"
   ]
  },
  {
   "cell_type": "code",
   "execution_count": 2,
   "metadata": {},
   "outputs": [],
   "source": [
    "import numpy as np\n",
    "import pickle\n",
    "import os"
   ]
  },
  {
   "cell_type": "code",
   "execution_count": 3,
   "metadata": {},
   "outputs": [],
   "source": [
    "def get_results_personalized(pop_size,update_time,case):\n",
    "    \n",
    "    files = os.listdir('{}personalized/results/{}/'.format(results_path,case))\n",
    "    \n",
    "    steps = []\n",
    "    print(len(files))\n",
    "    #check population and pop_size,update_time\n",
    "    files = [f for f in files[:65] if '.DS' not in f]\n",
    "    files = files[:50]\n",
    "    for f in files:\n",
    "        try:\n",
    "            with open('{}/personalized/results/{}/{}'.\\\n",
    "              format(results_path,case,f),'rb') as f:\n",
    "                d = pickle.load(f)\n",
    "            steps.extend([k['steps'] for k in d.values()])\n",
    "        except:\n",
    "            print(f)\n",
    "    return steps"
   ]
  },
  {
   "cell_type": "code",
   "execution_count": 4,
   "metadata": {},
   "outputs": [
    {
     "name": "stdout",
     "output_type": "stream",
     "text": [
      "101\n",
      "3302400\n"
     ]
    },
    {
     "data": {
      "text/plain": [
       "1.5895243947136315"
      ]
     },
     "execution_count": 4,
     "metadata": {},
     "output_type": "execute_result"
    }
   ],
   "source": [
    "p_c_one= get_results_personalized(32,7,'case_one')\n",
    "#bsteps_cone = get_step_counts(batch_one)\n",
    "print(len(p_c_one))\n",
    "np.array(p_c_one).mean()"
   ]
  },
  {
   "cell_type": "code",
   "execution_count": 10,
   "metadata": {},
   "outputs": [],
   "source": [
    "#p_c_one"
   ]
  },
  {
   "cell_type": "code",
   "execution_count": 11,
   "metadata": {},
   "outputs": [
    {
     "name": "stdout",
     "output_type": "stream",
     "text": [
      "101\n",
      "3302400\n"
     ]
    },
    {
     "data": {
      "text/plain": [
       "1.59414976109821"
      ]
     },
     "execution_count": 11,
     "metadata": {},
     "output_type": "execute_result"
    }
   ],
   "source": [
    "p_c_one= get_results_personalized(32,7,'case_two')\n",
    "print(len(p_c_one))\n",
    "#bsteps_cone = get_step_counts(batch_one)\n",
    "np.array(p_c_one).mean()"
   ]
  },
  {
   "cell_type": "code",
   "execution_count": 7,
   "metadata": {},
   "outputs": [
    {
     "name": "stdout",
     "output_type": "stream",
     "text": [
      "101\n",
      "2311680\n"
     ]
    },
    {
     "data": {
      "text/plain": [
       "1.5959729310901765"
      ]
     },
     "execution_count": 7,
     "metadata": {},
     "output_type": "execute_result"
    }
   ],
   "source": [
    "p_c_one= get_results_personalized(32,7,'case_three')\n",
    "print(len(p_c_one))\n",
    "#bsteps_cone = get_step_counts(batch_one)\n",
    "np.array(p_c_one).mean()"
   ]
  },
  {
   "cell_type": "code",
   "execution_count": 16,
   "metadata": {},
   "outputs": [],
   "source": [
    "def get_results_batch(pop_size,update_time,case):\n",
    "    \n",
    "    files = os.listdir('{}batch/results/{}/'.format(results_path,case))\n",
    "    \n",
    "    steps = []\n",
    "    #check population and pop_size,update_time\n",
    "    files = [f for f in files if '.DS' not in f]\n",
    "    files = files[:50]\n",
    "    print(len(files))\n",
    "    for f in files:\n",
    "        with open('{}/batch/results/{}/{}'.\\\n",
    "              format(results_path,case,f),'rb') as f:\n",
    "            d = pickle.load(f)\n",
    "        steps.extend([k['steps'] for k in d.values()])\n",
    "    return steps"
   ]
  },
  {
   "cell_type": "code",
   "execution_count": 11,
   "metadata": {},
   "outputs": [
    {
     "name": "stdout",
     "output_type": "stream",
     "text": [
      "50\n"
     ]
    },
    {
     "data": {
      "text/plain": [
       "1.5890849488745697"
      ]
     },
     "execution_count": 11,
     "metadata": {},
     "output_type": "execute_result"
    }
   ],
   "source": [
    "batch_c_one= get_results_batch(32,7,'case_one')\n",
    "#bsteps_cone = get_step_counts(batch_one)\n",
    "#print(len(batch_c_one))\n",
    "np.array(batch_c_one).mean()"
   ]
  },
  {
   "cell_type": "code",
   "execution_count": 14,
   "metadata": {},
   "outputs": [
    {
     "ename": "NameError",
     "evalue": "name 'math' is not defined",
     "output_type": "error",
     "traceback": [
      "\u001b[0;31m-----------------------------------------------------------------\u001b[0m",
      "\u001b[0;31mNameError\u001b[0m                       Traceback (most recent call last)",
      "\u001b[0;32m<ipython-input-14-150f26ffde77>\u001b[0m in \u001b[0;36m<module>\u001b[0;34m\u001b[0m\n\u001b[0;32m----> 1\u001b[0;31m \u001b[0mnp\u001b[0m\u001b[0;34m.\u001b[0m\u001b[0mmedian\u001b[0m\u001b[0;34m(\u001b[0m\u001b[0mnp\u001b[0m\u001b[0;34m.\u001b[0m\u001b[0marray\u001b[0m\u001b[0;34m(\u001b[0m\u001b[0;34m[\u001b[0m\u001b[0mmath\u001b[0m\u001b[0;34m.\u001b[0m\u001b[0mexp\u001b[0m\u001b[0;34m(\u001b[0m\u001b[0ms\u001b[0m\u001b[0;34m)\u001b[0m \u001b[0;32mfor\u001b[0m \u001b[0ms\u001b[0m \u001b[0;32min\u001b[0m \u001b[0mbatch_c_one\u001b[0m\u001b[0;34m]\u001b[0m\u001b[0;34m)\u001b[0m\u001b[0;34m)\u001b[0m\u001b[0;34m\u001b[0m\u001b[0;34m\u001b[0m\u001b[0m\n\u001b[0m",
      "\u001b[0;32m<ipython-input-14-150f26ffde77>\u001b[0m in \u001b[0;36m<listcomp>\u001b[0;34m(.0)\u001b[0m\n\u001b[0;32m----> 1\u001b[0;31m \u001b[0mnp\u001b[0m\u001b[0;34m.\u001b[0m\u001b[0mmedian\u001b[0m\u001b[0;34m(\u001b[0m\u001b[0mnp\u001b[0m\u001b[0;34m.\u001b[0m\u001b[0marray\u001b[0m\u001b[0;34m(\u001b[0m\u001b[0;34m[\u001b[0m\u001b[0mmath\u001b[0m\u001b[0;34m.\u001b[0m\u001b[0mexp\u001b[0m\u001b[0;34m(\u001b[0m\u001b[0ms\u001b[0m\u001b[0;34m)\u001b[0m \u001b[0;32mfor\u001b[0m \u001b[0ms\u001b[0m \u001b[0;32min\u001b[0m \u001b[0mbatch_c_one\u001b[0m\u001b[0;34m]\u001b[0m\u001b[0;34m)\u001b[0m\u001b[0;34m)\u001b[0m\u001b[0;34m\u001b[0m\u001b[0;34m\u001b[0m\u001b[0m\n\u001b[0m",
      "\u001b[0;31mNameError\u001b[0m: name 'math' is not defined"
     ]
    }
   ],
   "source": [
    "np.median(np.array([math.exp(s) for s in batch_c_one]))"
   ]
  },
  {
   "cell_type": "code",
   "execution_count": 12,
   "metadata": {},
   "outputs": [
    {
     "name": "stdout",
     "output_type": "stream",
     "text": [
      "50\n"
     ]
    },
    {
     "data": {
      "text/plain": [
       "1.5928677412183978"
      ]
     },
     "execution_count": 12,
     "metadata": {},
     "output_type": "execute_result"
    }
   ],
   "source": [
    "batch_c_two= get_results_batch(32,7,'case_two')\n",
    "np.array(batch_c_two).mean()"
   ]
  },
  {
   "cell_type": "code",
   "execution_count": null,
   "metadata": {},
   "outputs": [],
   "source": [
    "(np.array([math.exp(s)-.5 for s in batch_c_two])).mean()"
   ]
  },
  {
   "cell_type": "code",
   "execution_count": 13,
   "metadata": {},
   "outputs": [
    {
     "name": "stdout",
     "output_type": "stream",
     "text": [
      "50\n"
     ]
    },
    {
     "data": {
      "text/plain": [
       "1.595813851188467"
      ]
     },
     "execution_count": 13,
     "metadata": {},
     "output_type": "execute_result"
    }
   ],
   "source": [
    "batch_c_two= get_results_batch(32,7,'case_three')\n",
    "np.array(batch_c_two).mean()"
   ]
  },
  {
   "cell_type": "code",
   "execution_count": 178,
   "metadata": {},
   "outputs": [],
   "source": [
    "with open('{}/{}'.format('../../Downloads/cases_from_cluster/case_two_two','updates_case_two_participant_32_7_7300.txt'),'r') as f:\n",
    "    l = f.readlines()"
   ]
  },
  {
   "cell_type": "code",
   "execution_count": 179,
   "metadata": {},
   "outputs": [
    {
     "data": {
      "text/plain": [
       "'p_info 2015-10-19 19:00:00 6878  3:23AM EST on Feb 25, 2019 29 -0.31972464337509376 1\\n'"
      ]
     },
     "execution_count": 179,
     "metadata": {},
     "output_type": "execute_result"
    }
   ],
   "source": [
    "l[-1]"
   ]
  },
  {
   "cell_type": "code",
   "execution_count": 27,
   "metadata": {},
   "outputs": [],
   "source": [
    "def count_done(direct,files):\n",
    "    goods =[]\n",
    "    for f in files:\n",
    "        with open('{}/{}'.format(direct,f),'r') as f:\n",
    "            l = f.readlines()\n",
    "        if  '2015-09-13 19:00:00' in  l[-1]:\n",
    "            goods.append(f)\n",
    "    return goods"
   ]
  },
  {
   "cell_type": "code",
   "execution_count": 28,
   "metadata": {},
   "outputs": [
    {
     "data": {
      "text/plain": [
       "117"
      ]
     },
     "execution_count": 28,
     "metadata": {},
     "output_type": "execute_result"
    }
   ],
   "source": [
    "ptwo = [f for f in os.listdir('../../Downloads/cases_from_cluster/case_two_two') if '64' in f and 'part' in f and 'no_tuning' not in f]\n",
    "good_two = count_done('../../Downloads/cases_from_cluster/case_two_two',ptwo)\n",
    "len(good_two)"
   ]
  },
  {
   "cell_type": "code",
   "execution_count": 29,
   "metadata": {},
   "outputs": [
    {
     "data": {
      "text/plain": [
       "66"
      ]
     },
     "execution_count": 29,
     "metadata": {},
     "output_type": "execute_result"
    }
   ],
   "source": [
    "ptwo = [f for f in os.listdir('../../Downloads/cases_from_cluster/case_three_two') if '64' in f and 'part' in f  and 'no_tuning' not in f]\n",
    "good_three = count_done('../../Downloads/cases_from_cluster/case_three_two',ptwo)\n",
    "len(good_three)"
   ]
  },
  {
   "cell_type": "code",
   "execution_count": 30,
   "metadata": {},
   "outputs": [
    {
     "data": {
      "text/plain": [
       "166"
      ]
     },
     "execution_count": 30,
     "metadata": {},
     "output_type": "execute_result"
    }
   ],
   "source": [
    "ptwo = [f for f in os.listdir('../../Downloads/cases_from_cluster/case_one_two') if '64' in f and 'part' in f  and 'no_tuning' not in f]\n",
    "good_three = count_done('../../Downloads/cases_from_cluster/case_one_two',ptwo)\n",
    "len(good_three)"
   ]
  },
  {
   "cell_type": "code",
   "execution_count": null,
   "metadata": {},
   "outputs": [],
   "source": [
    "def look_at_group_correlation(groupids,predictions):\n",
    "    group_one = []\n",
    "    group_two = []\n",
    "    \n",
    "    for k,v in predictions.items():\n",
    "        if groupids[k]=="
   ]
  }
 ],
 "metadata": {
  "kernelspec": {
   "display_name": "Python 3",
   "language": "python",
   "name": "python3"
  },
  "language_info": {
   "codemirror_mode": {
    "name": "ipython",
    "version": 3
   },
   "file_extension": ".py",
   "mimetype": "text/x-python",
   "name": "python",
   "nbconvert_exporter": "python",
   "pygments_lexer": "ipython3",
   "version": "3.6.8"
  }
 },
 "nbformat": 4,
 "nbformat_minor": 2
}
