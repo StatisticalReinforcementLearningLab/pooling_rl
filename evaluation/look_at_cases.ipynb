{
 "cells": [
  {
   "cell_type": "code",
   "execution_count": 2,
   "metadata": {},
   "outputs": [],
   "source": [
    "results_path = '../../Downloads/pooling_results/'"
   ]
  },
  {
   "cell_type": "code",
   "execution_count": 3,
   "metadata": {},
   "outputs": [],
   "source": [
    "import numpy as np\n",
    "import pickle\n",
    "import os"
   ]
  },
  {
   "cell_type": "code",
   "execution_count": 76,
   "metadata": {},
   "outputs": [],
   "source": [
    "def get_results_personalized(pop_size,update_time,case):\n",
    "    \n",
    "    files = os.listdir('{}personalized/results/{}/'.format(results_path,case))\n",
    "    \n",
    "    steps = []\n",
    "    print(len(files))\n",
    "    #check population and pop_size,update_time\n",
    "    files = [f for f in files[:20] ]\n",
    "    for f in files:\n",
    "        try:\n",
    "            with open('{}/personalized/results/{}/{}'.\\\n",
    "              format(results_path,case,f),'rb') as f:\n",
    "                d = pickle.load(f)\n",
    "            steps.extend([k['steps'] for k in d.values()])\n",
    "        except:\n",
    "            print(f)\n",
    "    return steps"
   ]
  },
  {
   "cell_type": "code",
   "execution_count": 81,
   "metadata": {},
   "outputs": [
    {
     "name": "stdout",
     "output_type": "stream",
     "text": [
      "83\n",
      "<_io.BufferedReader name='../../Downloads/pooling_results//personalized/results/case_one/.DS_Store'>\n",
      "1254912\n"
     ]
    },
    {
     "data": {
      "text/plain": [
       "1.8169439203463118"
      ]
     },
     "execution_count": 81,
     "metadata": {},
     "output_type": "execute_result"
    }
   ],
   "source": [
    "p_c_one= get_results_personalized(32,7,'case_one')\n",
    "#bsteps_cone = get_step_counts(batch_one)\n",
    "print(len(p_c_one))\n",
    "np.array(p_c_one).mean()"
   ]
  },
  {
   "cell_type": "code",
   "execution_count": 82,
   "metadata": {},
   "outputs": [
    {
     "name": "stdout",
     "output_type": "stream",
     "text": [
      "36\n",
      "<_io.BufferedReader name='../../Downloads/pooling_results//personalized/results/case_two/.DS_Store'>\n",
      "1254912\n"
     ]
    },
    {
     "data": {
      "text/plain": [
       "1.8248412904787716"
      ]
     },
     "execution_count": 82,
     "metadata": {},
     "output_type": "execute_result"
    }
   ],
   "source": [
    "p_c_one= get_results_personalized(32,7,'case_two')\n",
    "print(len(p_c_one))\n",
    "#bsteps_cone = get_step_counts(batch_one)\n",
    "np.array(p_c_one).mean()"
   ]
  },
  {
   "cell_type": "code",
   "execution_count": 83,
   "metadata": {},
   "outputs": [
    {
     "name": "stdout",
     "output_type": "stream",
     "text": [
      "21\n",
      "<_io.BufferedReader name='../../Downloads/pooling_results//personalized/results/case_three/.DS_Store'>\n",
      "1254912\n"
     ]
    },
    {
     "data": {
      "text/plain": [
       "1.832044017228698"
      ]
     },
     "execution_count": 83,
     "metadata": {},
     "output_type": "execute_result"
    }
   ],
   "source": [
    "p_c_one= get_results_personalized(32,7,'case_three')\n",
    "print(len(p_c_one))\n",
    "#bsteps_cone = get_step_counts(batch_one)\n",
    "np.array(p_c_one).mean()"
   ]
  },
  {
   "cell_type": "code",
   "execution_count": 68,
   "metadata": {},
   "outputs": [],
   "source": [
    "def get_results_batch(pop_size,update_time,case):\n",
    "    \n",
    "    files = os.listdir('{}batch/results/{}/'.format(results_path,case))\n",
    "    \n",
    "    steps = []\n",
    "    #check population and pop_size,update_time\n",
    "    files = [f for f in files[:] ]\n",
    "    print(len(files))\n",
    "    for f in files:\n",
    "        with open('{}/batch/results/{}/{}'.\\\n",
    "              format(results_path,case,f),'rb') as f:\n",
    "            d = pickle.load(f)\n",
    "        steps.extend([k['steps'] for k in d.values()])\n",
    "    return steps"
   ]
  },
  {
   "cell_type": "code",
   "execution_count": 69,
   "metadata": {},
   "outputs": [
    {
     "name": "stdout",
     "output_type": "stream",
     "text": [
      "35\n"
     ]
    },
    {
     "data": {
      "text/plain": [
       "1.8305666981139472"
      ]
     },
     "execution_count": 69,
     "metadata": {},
     "output_type": "execute_result"
    }
   ],
   "source": [
    "batch_c_one= get_results_batch(32,7,'case_one')\n",
    "#bsteps_cone = get_step_counts(batch_one)\n",
    "#print(len(batch_c_one))\n",
    "np.array(batch_c_one).mean()"
   ]
  },
  {
   "cell_type": "code",
   "execution_count": null,
   "metadata": {},
   "outputs": [],
   "source": []
  },
  {
   "cell_type": "code",
   "execution_count": 70,
   "metadata": {},
   "outputs": [
    {
     "name": "stdout",
     "output_type": "stream",
     "text": [
      "35\n"
     ]
    },
    {
     "data": {
      "text/plain": [
       "1.828729112352759"
      ]
     },
     "execution_count": 70,
     "metadata": {},
     "output_type": "execute_result"
    }
   ],
   "source": [
    "batch_c_two= get_results_batch(32,7,'case_two')\n",
    "np.array(batch_c_two).mean()"
   ]
  },
  {
   "cell_type": "code",
   "execution_count": 71,
   "metadata": {},
   "outputs": [
    {
     "name": "stdout",
     "output_type": "stream",
     "text": [
      "35\n"
     ]
    },
    {
     "data": {
      "text/plain": [
       "1.8180877227144823"
      ]
     },
     "execution_count": 71,
     "metadata": {},
     "output_type": "execute_result"
    }
   ],
   "source": [
    "batch_c_two= get_results_batch(32,7,'case_three')\n",
    "np.array(batch_c_two).mean()"
   ]
  },
  {
   "cell_type": "code",
   "execution_count": null,
   "metadata": {},
   "outputs": [],
   "source": []
  }
 ],
 "metadata": {
  "kernelspec": {
   "display_name": "Python 3",
   "language": "python",
   "name": "python3"
  },
  "language_info": {
   "codemirror_mode": {
    "name": "ipython",
    "version": 3
   },
   "file_extension": ".py",
   "mimetype": "text/x-python",
   "name": "python",
   "nbconvert_exporter": "python",
   "pygments_lexer": "ipython3",
   "version": "3.6.8"
  }
 },
 "nbformat": 4,
 "nbformat_minor": 2
}
