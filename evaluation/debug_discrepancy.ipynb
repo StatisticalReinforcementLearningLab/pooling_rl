{
 "cells": [
  {
   "cell_type": "code",
   "execution_count": 1,
   "metadata": {},
   "outputs": [],
   "source": [
    "import numpy as np\n",
    "import pickle\n",
    "import os\n",
    "import math\n",
    "import itertools\n",
    "import operator"
   ]
  },
  {
   "cell_type": "code",
   "execution_count": 2,
   "metadata": {},
   "outputs": [],
   "source": [
    "results_path = '../../Downloads/pooling_results/'\n",
    "def get_results_personalized(pop_size,update_time,case,typet='personalized'):\n",
    "    \n",
    "    files = os.listdir('{}{}/results/{}/'.format(results_path,typet,case))\n",
    "    \n",
    "    steps = {}\n",
    "\n",
    "    #check population and pop_size,update_time\n",
    "    files = [f for f in files if '.DS' not in f and '_adjustmentsnew' in f and 'regrets' not in f and 'update_days_{}'.format(update_time) in f and '2015' not in f]\n",
    "    #files = files[:50]\n",
    "    print(len(files))\n",
    "    #print(files)\n",
    "    for ff in files:\n",
    "        #sim = int(ff.split('sim_')[1].strip('_continuous_pretreatment_base_coef_scale_hybrid.pkl'))\n",
    "\n",
    "            with open('{}/{}/results/{}/{}'.\\\n",
    "              format(results_path,typet,case,ff),'rb') as f:\n",
    "                d = pickle.load(f)\n",
    "            #return d\n",
    "            #break\n",
    "            #if int(sim)<60:\n",
    "            steps[ff] = d\n",
    "            #[k['steps'] for k in d.values() if k['avail'] and k['decision_time']]\n",
    "   \n",
    "   #ps = list(itertools.chain.from_iterable(p.values()))\n",
    "    #np.array(ps).mean()\n",
    "    return steps"
   ]
  },
  {
   "cell_type": "code",
   "execution_count": 308,
   "metadata": {},
   "outputs": [],
   "source": [
    "results_path = '../../Downloads/pooling_results/'\n",
    "def get_rewards(pop_size,update_time,case,typet='personalized'):\n",
    "    \n",
    "    files = os.listdir('{}{}/results/{}/'.format(results_path,typet,case))\n",
    "    \n",
    "    steps = []\n",
    "\n",
    "    #check population and pop_size,update_time\n",
    "    # and 'origstatic' not in f\n",
    "    files = [f for f in files if '.DS' not in f and '_nono' in f and 'regrets' not in f  and 'update_days_{}'.format(update_time) in f and '2015' not in f]\n",
    "    #files = files[:50]\n",
    "    print(len(files))\n",
    "    #print(files)\n",
    "    for ff in files:\n",
    "            sim = int(ff.split('sim_')[1].split('_nono')[0])\n",
    "            \n",
    "            with open('{}/{}/results/{}/{}'.\\\n",
    "              format(results_path,typet,case,ff),'rb') as f:\n",
    "                d = pickle.load(f)\n",
    "            #return d\n",
    "            #break\n",
    "            if int(sim)<50:\n",
    "                steps = steps+[k['steps'] for k in d.values() if k['avail'] and k['decision_time'] ]\n",
    "   \n",
    "   #ps = list(itertools.chain.from_iterable(p.values()))\n",
    "    #np.array(ps).mean()\n",
    "    return steps"
   ]
  },
  {
   "cell_type": "code",
   "execution_count": 309,
   "metadata": {},
   "outputs": [],
   "source": [
    "def get_state_keys(ld):\n",
    "    \n",
    "    key = '-'.join(['tod',str(ld['tod']),'dow',str(ld['dow']),'wea',str(ld['weather']),'pre',str(ld['pretreatment']),'location',str(ld['location'])])\n",
    "    return key"
   ]
  },
  {
   "cell_type": "code",
   "execution_count": 310,
   "metadata": {},
   "outputs": [],
   "source": [
    "def get_all_state_keys(r):\n",
    "    to_return = {}\n",
    "    for fn,data in r.items():\n",
    "        for kk,vv in data.items():\n",
    "            sk = get_state_keys(vv)\n",
    "            if vv['decision_time'] and vv['avail']:\n",
    "                if sk not in to_return:\n",
    "                    to_return[sk]=[]\n",
    "                to_return[sk].append(vv)\n",
    "    return to_return\n",
    "        "
   ]
  },
  {
   "cell_type": "code",
   "execution_count": 938,
   "metadata": {},
   "outputs": [
    {
     "name": "stdout",
     "output_type": "stream",
     "text": [
      "50\n"
     ]
    },
    {
     "data": {
      "text/plain": [
       "8.451282794968902"
      ]
     },
     "execution_count": 938,
     "metadata": {},
     "output_type": "execute_result"
    }
   ],
   "source": [
    "rewsp = get_rewards(32,1,'case_one',typet='personalized')\n",
    "np.array(rewsp).mean()"
   ]
  },
  {
   "cell_type": "code",
   "execution_count": 939,
   "metadata": {},
   "outputs": [
    {
     "name": "stdout",
     "output_type": "stream",
     "text": [
      "50\n"
     ]
    },
    {
     "data": {
      "text/plain": [
       "8.571217100152621"
      ]
     },
     "execution_count": 939,
     "metadata": {},
     "output_type": "execute_result"
    }
   ],
   "source": [
    "rewsb = get_rewards(32,1,'case_one',typet='batch')\n",
    "np.array(rewsb).mean()"
   ]
  },
  {
   "cell_type": "code",
   "execution_count": 8,
   "metadata": {},
   "outputs": [
    {
     "data": {
      "text/plain": [
       "0.022825281693824806"
      ]
     },
     "execution_count": 8,
     "metadata": {},
     "output_type": "execute_result"
    }
   ],
   "source": [
    "np.array(rewsb).mean()-np.array(rewsp).mean()"
   ]
  },
  {
   "cell_type": "code",
   "execution_count": 9,
   "metadata": {},
   "outputs": [
    {
     "name": "stdout",
     "output_type": "stream",
     "text": [
      "50\n"
     ]
    }
   ],
   "source": [
    "inspect_p =  get_results_personalized(32,1,'case_one',typet='personalized')"
   ]
  },
  {
   "cell_type": "code",
   "execution_count": 10,
   "metadata": {},
   "outputs": [],
   "source": [
    "states_dt = get_all_state_keys(inspect_p)"
   ]
  },
  {
   "cell_type": "code",
   "execution_count": 11,
   "metadata": {},
   "outputs": [
    {
     "data": {
      "text/plain": [
       "{'tod-0-dow-0-wea-0-pre-1-location-1': 29855,\n",
       " 'tod-0-dow-0-wea-0-pre-0-location-1': 8910,\n",
       " 'tod-1-dow-0-wea-0-pre-1-location-1': 37132,\n",
       " 'tod-1-dow-0-wea-0-pre-1-location-0': 61868,\n",
       " 'tod-1-dow-0-wea-1-pre-1-location-0': 65145,\n",
       " 'tod-0-dow-0-wea-1-pre-1-location-0': 36175,\n",
       " 'tod-0-dow-0-wea-1-pre-1-location-1': 27934,\n",
       " 'tod-1-dow-0-wea-1-pre-1-location-1': 41365,\n",
       " 'tod-0-dow-0-wea-0-pre-1-location-0': 37602,\n",
       " 'tod-0-dow-0-wea-0-pre-0-location-0': 3811,\n",
       " 'tod-0-dow-0-wea-1-pre-0-location-0': 5054,\n",
       " 'tod-1-dow-0-wea-0-pre-0-location-0': 5875,\n",
       " 'tod-0-dow-1-wea-0-pre-1-location-0': 18926,\n",
       " 'tod-1-dow-1-wea-1-pre-1-location-0': 28606,\n",
       " 'tod-1-dow-1-wea-0-pre-0-location-0': 5265,\n",
       " 'tod-1-dow-1-wea-0-pre-1-location-0': 28796,\n",
       " 'tod-1-dow-0-wea-1-pre-0-location-0': 6004,\n",
       " 'tod-1-dow-0-wea-0-pre-0-location-1': 7947,\n",
       " 'tod-0-dow-0-wea-1-pre-0-location-1': 7259,\n",
       " 'tod-0-dow-1-wea-0-pre-0-location-0': 5394,\n",
       " 'tod-0-dow-1-wea-1-pre-1-location-0': 20188,\n",
       " 'tod-1-dow-0-wea-1-pre-0-location-1': 8064,\n",
       " 'tod-0-dow-1-wea-1-pre-1-location-1': 5509,\n",
       " 'tod-1-dow-1-wea-1-pre-1-location-1': 10537,\n",
       " 'tod-0-dow-1-wea-1-pre-0-location-0': 4084,\n",
       " 'tod-1-dow-1-wea-0-pre-1-location-1': 10273,\n",
       " 'tod-0-dow-1-wea-1-pre-0-location-1': 1612,\n",
       " 'tod-1-dow-1-wea-1-pre-0-location-1': 1854,\n",
       " 'tod-1-dow-1-wea-1-pre-0-location-0': 3789,\n",
       " 'tod-1-dow-1-wea-0-pre-0-location-1': 2280,\n",
       " 'tod-0-dow-1-wea-0-pre-1-location-1': 5046,\n",
       " 'tod-0-dow-1-wea-0-pre-0-location-1': 1791}"
      ]
     },
     "execution_count": 11,
     "metadata": {},
     "output_type": "execute_result"
    }
   ],
   "source": [
    "{k:len(v) for k,v in states_dt.items()}"
   ]
  },
  {
   "cell_type": "code",
   "execution_count": 12,
   "metadata": {},
   "outputs": [],
   "source": [
    "lens = {k:len(v) for k,v in states_dt.items()}"
   ]
  },
  {
   "cell_type": "code",
   "execution_count": 197,
   "metadata": {},
   "outputs": [
    {
     "data": {
      "text/plain": [
       "29855"
      ]
     },
     "execution_count": 197,
     "metadata": {},
     "output_type": "execute_result"
    }
   ],
   "source": [
    "lens['tod-0-dow-0-wea-0-pre-1-location-1']"
   ]
  },
  {
   "cell_type": "code",
   "execution_count": 198,
   "metadata": {},
   "outputs": [
    {
     "data": {
      "text/plain": [
       "[('tod-1-dow-0-wea-1-pre-1-location-0', 65145),\n",
       " ('tod-1-dow-0-wea-0-pre-1-location-0', 61868),\n",
       " ('tod-1-dow-0-wea-1-pre-1-location-1', 41365),\n",
       " ('tod-0-dow-0-wea-0-pre-1-location-0', 37602),\n",
       " ('tod-1-dow-0-wea-0-pre-1-location-1', 37132),\n",
       " ('tod-0-dow-0-wea-1-pre-1-location-0', 36175),\n",
       " ('tod-0-dow-0-wea-0-pre-1-location-1', 29855),\n",
       " ('tod-1-dow-1-wea-0-pre-1-location-0', 28796),\n",
       " ('tod-1-dow-1-wea-1-pre-1-location-0', 28606),\n",
       " ('tod-0-dow-0-wea-1-pre-1-location-1', 27934),\n",
       " ('tod-0-dow-1-wea-1-pre-1-location-0', 20188),\n",
       " ('tod-0-dow-1-wea-0-pre-1-location-0', 18926),\n",
       " ('tod-1-dow-1-wea-1-pre-1-location-1', 10537),\n",
       " ('tod-1-dow-1-wea-0-pre-1-location-1', 10273),\n",
       " ('tod-0-dow-0-wea-0-pre-0-location-1', 8910),\n",
       " ('tod-1-dow-0-wea-1-pre-0-location-1', 8064),\n",
       " ('tod-1-dow-0-wea-0-pre-0-location-1', 7947),\n",
       " ('tod-0-dow-0-wea-1-pre-0-location-1', 7259),\n",
       " ('tod-1-dow-0-wea-1-pre-0-location-0', 6004),\n",
       " ('tod-1-dow-0-wea-0-pre-0-location-0', 5875),\n",
       " ('tod-0-dow-1-wea-1-pre-1-location-1', 5509),\n",
       " ('tod-0-dow-1-wea-0-pre-0-location-0', 5394),\n",
       " ('tod-1-dow-1-wea-0-pre-0-location-0', 5265),\n",
       " ('tod-0-dow-0-wea-1-pre-0-location-0', 5054),\n",
       " ('tod-0-dow-1-wea-0-pre-1-location-1', 5046),\n",
       " ('tod-0-dow-1-wea-1-pre-0-location-0', 4084),\n",
       " ('tod-0-dow-0-wea-0-pre-0-location-0', 3811),\n",
       " ('tod-1-dow-1-wea-1-pre-0-location-0', 3789),\n",
       " ('tod-1-dow-1-wea-0-pre-0-location-1', 2280),\n",
       " ('tod-1-dow-1-wea-1-pre-0-location-1', 1854),\n",
       " ('tod-0-dow-1-wea-0-pre-0-location-1', 1791),\n",
       " ('tod-0-dow-1-wea-1-pre-0-location-1', 1612)]"
      ]
     },
     "execution_count": 198,
     "metadata": {},
     "output_type": "execute_result"
    }
   ],
   "source": [
    "sorted(lens.items(), key=lambda kv: kv[1],reverse=True)"
   ]
  },
  {
   "cell_type": "code",
   "execution_count": 179,
   "metadata": {},
   "outputs": [
    {
     "data": {
      "text/plain": [
       "[('tod-1-dow-0-wea-1-pre-1-location-0', 63698),\n",
       " ('tod-1-dow-0-wea-0-pre-1-location-0', 60006),\n",
       " ('tod-0-dow-0-wea-0-pre-1-location-0', 42562),\n",
       " ('tod-1-dow-0-wea-1-pre-1-location-1', 41507),\n",
       " ('tod-0-dow-0-wea-1-pre-1-location-0', 37629),\n",
       " ('tod-1-dow-0-wea-0-pre-1-location-1', 37513),\n",
       " ('tod-0-dow-0-wea-1-pre-1-location-1', 26234),\n",
       " ('tod-1-dow-1-wea-1-pre-1-location-0', 26220),\n",
       " ('tod-1-dow-1-wea-0-pre-1-location-0', 25828),\n",
       " ('tod-0-dow-0-wea-0-pre-1-location-1', 25673),\n",
       " ('tod-0-dow-1-wea-1-pre-1-location-0', 17756),\n",
       " ('tod-0-dow-1-wea-0-pre-1-location-0', 14996),\n",
       " ('tod-1-dow-1-wea-0-pre-1-location-1', 14552),\n",
       " ('tod-1-dow-1-wea-1-pre-1-location-1', 13720),\n",
       " ('tod-0-dow-1-wea-0-pre-1-location-1', 8547),\n",
       " ('tod-1-dow-0-wea-1-pre-0-location-1', 8097),\n",
       " ('tod-1-dow-0-wea-0-pre-0-location-1', 7963),\n",
       " ('tod-0-dow-1-wea-1-pre-1-location-1', 7805),\n",
       " ('tod-0-dow-0-wea-0-pre-0-location-1', 7354),\n",
       " ('tod-0-dow-0-wea-1-pre-0-location-1', 6699),\n",
       " ('tod-1-dow-0-wea-0-pre-0-location-0', 6322),\n",
       " ('tod-1-dow-0-wea-1-pre-0-location-0', 5994),\n",
       " ('tod-0-dow-0-wea-1-pre-0-location-0', 5805),\n",
       " ('tod-0-dow-0-wea-0-pre-0-location-0', 4644),\n",
       " ('tod-0-dow-1-wea-0-pre-0-location-0', 4031),\n",
       " ('tod-1-dow-1-wea-0-pre-0-location-0', 3620),\n",
       " ('tod-0-dow-1-wea-1-pre-0-location-0', 3441),\n",
       " ('tod-0-dow-1-wea-0-pre-0-location-1', 3418),\n",
       " ('tod-1-dow-1-wea-1-pre-0-location-0', 3000),\n",
       " ('tod-1-dow-1-wea-0-pre-0-location-1', 2986),\n",
       " ('tod-1-dow-1-wea-1-pre-0-location-1', 2424),\n",
       " ('tod-0-dow-1-wea-1-pre-0-location-1', 2406)]"
      ]
     },
     "execution_count": 179,
     "metadata": {},
     "output_type": "execute_result"
    }
   ],
   "source": [
    "sorted(lens.items(), key=lambda kv: kv[1],reverse=True)\n"
   ]
  },
  {
   "cell_type": "code",
   "execution_count": 180,
   "metadata": {},
   "outputs": [],
   "source": [
    "def calculate_optimal(state_dict):\n",
    "    optimals = []\n",
    "    for k,v in state_dict.items():\n",
    "        x = [1]+[int(k.split('-')[i]) for i in range(1,11,2)]\n",
    "        \n",
    "        add = np.dot(coef.T,x)\n",
    "        if add>0:\n",
    "            for i in range(int(.8*len(v))):\n",
    "                optimals.append(add)\n",
    "        else:\n",
    "            for i in range(int(.8*len(v))):\n",
    "                optimals.append(0)\n",
    "    return optimals"
   ]
  },
  {
   "cell_type": "code",
   "execution_count": 17,
   "metadata": {},
   "outputs": [],
   "source": [
    "def get_optimal_action(state_dict):\n",
    "    optimals = []\n",
    "    for k,v in state_dict.items():\n",
    "        x = [1]+[int(k.split('-')[i]) for i in range(1,11,2)]\n",
    "        \n",
    "        add = np.dot(coef.T,x)\n",
    "        #v=[i for i in range(1000)]\n",
    "        z = len(v)\n",
    "        #if 'wea-0' in k:\n",
    "            #z = z*2\n",
    "        #else:\n",
    "           # z=z*2\n",
    "        \n",
    "        if add>0:\n",
    "\n",
    "            for i in range(int(z)):\n",
    "                optimals.append(1)\n",
    "        else:\n",
    "            for i in range(int(z)):\n",
    "                optimals.append(0)\n",
    "    return optimals"
   ]
  },
  {
   "cell_type": "code",
   "execution_count": 1037,
   "metadata": {},
   "outputs": [],
   "source": [
    "def calculate_optimalc(state_dict):\n",
    "    optimals = []\n",
    "    for k,v in state_dict.items():\n",
    "        x = [1]+[int(k.split('-')[i]) for i in range(1,11,2)]\n",
    "        #print(x)\n",
    "        add = np.dot(coef.T,x)\n",
    "        #v=[i for i in range(1000)]\n",
    "        z = len(v)\n",
    "        #if 'wea-0' in k:\n",
    "            #z = z*2\n",
    "        #else:\n",
    "           # z=z*2\n",
    "        \n",
    "        if add>=0:\n",
    "\n",
    "            for i in range(int(.9/2*z)):\n",
    "                optimals.append(add)\n",
    "            for i in range(int(.1/2*z)):\n",
    "                optimals.append(0)\n",
    "        else:\n",
    "            for i in range(int(.9/2*z)):\n",
    "                optimals.append(0)\n",
    "            for i in range(int(.1/2*z)):\n",
    "                optimals.append(add)\n",
    "    return optimals"
   ]
  },
  {
   "cell_type": "code",
   "execution_count": 1038,
   "metadata": {},
   "outputs": [],
   "source": [
    "def calculate_optimalcw(state_dict):\n",
    "    optimals = []\n",
    "    for k,v in state_dict.items():\n",
    "        x = [1]+[int(k.split('-')[i]) for i in range(1,11,2)]\n",
    "        #v=[i for i in range(1000)]\n",
    "        add = np.dot(coef.T,x)\n",
    "        z = len(v)\n",
    "        #if 'wea-0' in k:\n",
    "         #   z = z*2\n",
    "        #else:\n",
    "            #z=z*2\n",
    "        if add>=0:\n",
    "            for i in range(int(.8/2*z)):\n",
    "                optimals.append(add)\n",
    "            for i in range(int(.2/2*z)):\n",
    "                optimals.append(0)\n",
    "        else:\n",
    "            for i in range(int(.8/2*z)):\n",
    "                optimals.append(0)\n",
    "            for i in range(int(.2/2*z)):\n",
    "                optimals.append(add)\n",
    "    return optimals"
   ]
  },
  {
   "cell_type": "code",
   "execution_count": 1039,
   "metadata": {},
   "outputs": [],
   "source": [
    "def calculate_worst(state_dict):\n",
    "    optimals = []\n",
    "    for k,v in state_dict.items():\n",
    "        x = [1]+[int(k.split('-')[i]) for i in range(1,11,2)]\n",
    "        \n",
    "        add = np.dot(coef.T,x)\n",
    "        if add>=0:\n",
    "            for i in range(int(.6*len(v))):\n",
    "                optimals.append(0)\n",
    "        else:\n",
    "            for i in range(int(.4*len(v))):\n",
    "                optimals.append(add)\n",
    "    return optimals"
   ]
  },
  {
   "cell_type": "code",
   "execution_count": 1047,
   "metadata": {},
   "outputs": [],
   "source": [
    "# 0.24941052\n",
    "#dow\n",
    "#0.0696645\n",
    "#0.05,  -0.05,  0.05,  0.15 , -0.35,  0.5\n",
    "#remember best so far\n",
    "#0.05,  0.05,  0.05,  0.25, -0.3 ,  0.4\n",
    "coef = np.array([.05, -0.1 ,  0.05,  0.2 , -0.3 ,  0.6])\n",
    "\n",
    "coef = np.array([0.04772972,  0.0696645 ,  0.21549613, 0.24941052 ,-0.22475609 , 0.22540878])"
   ]
  },
  {
   "cell_type": "code",
   "execution_count": 1048,
   "metadata": {},
   "outputs": [
    {
     "data": {
      "text/plain": [
       "0.16041490315713608"
      ]
     },
     "execution_count": 1048,
     "metadata": {},
     "output_type": "execute_result"
    }
   ],
   "source": [
    "0.275-0.11458509684286394"
   ]
  },
  {
   "cell_type": "code",
   "execution_count": 1049,
   "metadata": {},
   "outputs": [],
   "source": [
    "oa = get_optimal_action(states_dt)"
   ]
  },
  {
   "cell_type": "code",
   "execution_count": 1050,
   "metadata": {},
   "outputs": [
    {
     "name": "stdout",
     "output_type": "stream",
     "text": [
      "99470\n",
      "444480\n"
     ]
    }
   ],
   "source": [
    "print(oa.count(0))\n",
    "print(oa.count(1))\n"
   ]
  },
  {
   "cell_type": "code",
   "execution_count": 1051,
   "metadata": {},
   "outputs": [
    {
     "name": "stdout",
     "output_type": "stream",
     "text": [
      "0.17201266634710205\n"
     ]
    }
   ],
   "source": [
    "o = calculate_optimalc(states_dt)\n",
    "BIG = np.array(o).mean()\n",
    "print(BIG)"
   ]
  },
  {
   "cell_type": "code",
   "execution_count": 1052,
   "metadata": {},
   "outputs": [
    {
     "name": "stdout",
     "output_type": "stream",
     "text": [
      "0.1501788293305313\n"
     ]
    }
   ],
   "source": [
    "o = calculate_optimalcw(states_dt)\n",
    "SMALL = np.array(o).mean()\n",
    "print(SMALL)"
   ]
  },
  {
   "cell_type": "code",
   "execution_count": 1053,
   "metadata": {},
   "outputs": [
    {
     "name": "stdout",
     "output_type": "stream",
     "text": [
      "0.02183383701657074\n"
     ]
    }
   ],
   "source": [
    "print(BIG-SMALL)"
   ]
  },
  {
   "cell_type": "code",
   "execution_count": 1018,
   "metadata": {},
   "outputs": [
    {
     "data": {
      "text/plain": [
       "-0.0875178207093494"
      ]
     },
     "execution_count": 1018,
     "metadata": {},
     "output_type": "execute_result"
    }
   ],
   "source": [
    "w = calculate_worst(states_dt)\n",
    "np.array(w).mean()"
   ]
  },
  {
   "cell_type": "code",
   "execution_count": 55,
   "metadata": {},
   "outputs": [
    {
     "name": "stdout",
     "output_type": "stream",
     "text": [
      "tod-0-dow-0-wea-1-pre-1-location-0\n",
      "74037\n",
      "tod-1-dow-0-wea-1-pre-1-location-0\n",
      "114744\n",
      "tod-0-dow-0-wea-1-pre-1-location-1\n",
      "44334\n",
      "tod-0-dow-0-wea-1-pre-0-location-1\n",
      "10977\n",
      "tod-1-dow-0-wea-1-pre-1-location-1\n",
      "68217\n",
      "tod-1-dow-0-wea-1-pre-0-location-1\n",
      "12457\n",
      "tod-1-dow-0-wea-1-pre-0-location-0\n",
      "10864\n",
      "tod-0-dow-1-wea-1-pre-1-location-0\n",
      "32085\n",
      "tod-1-dow-1-wea-1-pre-1-location-0\n",
      "50013\n",
      "tod-1-dow-1-wea-1-pre-0-location-0\n",
      "4656\n",
      "tod-1-dow-1-wea-1-pre-1-location-1\n",
      "23027\n",
      "tod-0-dow-1-wea-1-pre-0-location-1\n",
      "4283\n",
      "tod-0-dow-1-wea-1-pre-1-location-1\n",
      "13660\n",
      "tod-0-dow-0-wea-1-pre-0-location-0\n",
      "11429\n",
      "tod-1-dow-1-wea-1-pre-0-location-1\n",
      "3838\n",
      "tod-0-dow-1-wea-1-pre-0-location-0\n",
      "5745\n",
      "tod-0-dow-0-wea-0-pre-1-location-0\n",
      "5963\n",
      "tod-1-dow-0-wea-0-pre-1-location-0\n",
      "11507\n",
      "tod-1-dow-0-wea-0-pre-0-location-0\n",
      "1345\n",
      "tod-0-dow-1-wea-0-pre-1-location-0\n",
      "3106\n",
      "tod-1-dow-1-wea-0-pre-1-location-0\n",
      "5651\n",
      "tod-1-dow-1-wea-0-pre-0-location-1\n",
      "904\n",
      "tod-0-dow-1-wea-0-pre-0-location-1\n",
      "645\n",
      "tod-1-dow-1-wea-0-pre-1-location-1\n",
      "3337\n",
      "tod-0-dow-0-wea-0-pre-1-location-1\n",
      "7072\n",
      "tod-1-dow-0-wea-0-pre-1-location-1\n",
      "9638\n",
      "tod-1-dow-0-wea-0-pre-0-location-1\n",
      "2328\n",
      "tod-0-dow-0-wea-0-pre-0-location-1\n",
      "2097\n",
      "tod-1-dow-1-wea-0-pre-0-location-0\n",
      "924\n",
      "tod-0-dow-1-wea-0-pre-1-location-1\n",
      "1920\n",
      "tod-0-dow-1-wea-0-pre-0-location-0\n",
      "956\n",
      "tod-0-dow-0-wea-0-pre-0-location-0\n",
      "691\n"
     ]
    }
   ],
   "source": [
    "for k,v in states_dt.items():\n",
    "    print(k)\n",
    "    print(len(v))"
   ]
  },
  {
   "cell_type": "code",
   "execution_count": null,
   "metadata": {},
   "outputs": [],
   "source": []
  },
  {
   "cell_type": "code",
   "execution_count": null,
   "metadata": {},
   "outputs": [],
   "source": [
    "tod-1-dow-0-wea-1-pre-1-location-0"
   ]
  },
  {
   "cell_type": "code",
   "execution_count": 60,
   "metadata": {},
   "outputs": [
    {
     "data": {
      "text/plain": [
       "0.14204865"
      ]
     },
     "execution_count": 60,
     "metadata": {},
     "output_type": "execute_result"
    }
   ],
   "source": [
    "np.dot(coef.T,[1,1,0,1,1,0])"
   ]
  },
  {
   "cell_type": "code",
   "execution_count": 58,
   "metadata": {},
   "outputs": [
    {
     "name": "stdout",
     "output_type": "stream",
     "text": [
      "tod-0-dow-0-wea-1-pre-1-location-0\n",
      "66064\n",
      "tod-1-dow-0-wea-1-pre-1-location-0\n",
      "112838\n",
      "tod-0-dow-0-wea-1-pre-0-location-1\n",
      "13444\n",
      "tod-1-dow-0-wea-1-pre-1-location-1\n",
      "71847\n",
      "tod-0-dow-0-wea-1-pre-1-location-1\n",
      "52999\n",
      "tod-1-dow-0-wea-1-pre-0-location-0\n",
      "10831\n",
      "tod-0-dow-1-wea-1-pre-1-location-0\n",
      "36674\n",
      "tod-1-dow-1-wea-1-pre-1-location-0\n",
      "53717\n",
      "tod-1-dow-1-wea-1-pre-0-location-0\n",
      "6219\n",
      "tod-0-dow-1-wea-1-pre-0-location-0\n",
      "6992\n",
      "tod-1-dow-0-wea-1-pre-0-location-1\n",
      "12956\n",
      "tod-0-dow-1-wea-1-pre-1-location-1\n",
      "9528\n",
      "tod-1-dow-1-wea-1-pre-1-location-1\n",
      "17649\n",
      "tod-0-dow-0-wea-1-pre-0-location-0\n",
      "9060\n",
      "tod-1-dow-1-wea-1-pre-0-location-1\n",
      "3085\n",
      "tod-0-dow-1-wea-1-pre-0-location-1\n",
      "2643\n",
      "tod-0-dow-0-wea-0-pre-1-location-0\n",
      "6668\n",
      "tod-1-dow-0-wea-0-pre-1-location-0\n",
      "13908\n",
      "tod-0-dow-1-wea-0-pre-1-location-0\n",
      "3775\n",
      "tod-1-dow-1-wea-0-pre-1-location-0\n",
      "5546\n",
      "tod-1-dow-1-wea-0-pre-1-location-1\n",
      "3477\n",
      "tod-0-dow-1-wea-0-pre-0-location-0\n",
      "1151\n",
      "tod-1-dow-0-wea-0-pre-1-location-1\n",
      "7875\n",
      "tod-0-dow-0-wea-0-pre-1-location-1\n",
      "5638\n",
      "tod-1-dow-1-wea-0-pre-0-location-1\n",
      "733\n",
      "tod-0-dow-0-wea-0-pre-0-location-1\n",
      "1877\n",
      "tod-1-dow-0-wea-0-pre-0-location-1\n",
      "1830\n",
      "tod-0-dow-1-wea-0-pre-1-location-1\n",
      "1287\n",
      "tod-1-dow-0-wea-0-pre-0-location-0\n",
      "1315\n",
      "tod-0-dow-0-wea-0-pre-0-location-0\n",
      "850\n",
      "tod-1-dow-1-wea-0-pre-0-location-0\n",
      "974\n",
      "tod-0-dow-1-wea-0-pre-0-location-1\n",
      "500\n"
     ]
    }
   ],
   "source": [
    "for k,v in states_dtp.items():\n",
    "    print(k)\n",
    "    print(len(v))"
   ]
  },
  {
   "cell_type": "code",
   "execution_count": null,
   "metadata": {},
   "outputs": [],
   "source": []
  }
 ],
 "metadata": {
  "kernelspec": {
   "display_name": "Python 3",
   "language": "python",
   "name": "python3"
  },
  "language_info": {
   "codemirror_mode": {
    "name": "ipython",
    "version": 3
   },
   "file_extension": ".py",
   "mimetype": "text/x-python",
   "name": "python",
   "nbconvert_exporter": "python",
   "pygments_lexer": "ipython3",
   "version": "3.6.8"
  }
 },
 "nbformat": 4,
 "nbformat_minor": 2
}
