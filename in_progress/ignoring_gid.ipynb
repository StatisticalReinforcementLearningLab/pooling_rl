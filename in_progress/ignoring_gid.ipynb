{
 "cells": [
  {
   "cell_type": "code",
   "execution_count": 5,
   "metadata": {},
   "outputs": [],
   "source": [
    "import pandas as pd\n",
    "import numpy as np\n",
    "import pickle\n",
    "import math\n",
    "from sklearn.linear_model import LinearRegression"
   ]
  },
  {
   "cell_type": "code",
   "execution_count": 6,
   "metadata": {},
   "outputs": [],
   "source": [
    "with open('../../Downloads/distributions/dists_intervention_anti_sed_3_8.pkl','rb') as f:\n",
    "    dists_sed = pickle.load(f)\n",
    "with open('../../Downloads/distributions/key_matches_intervention_anti_sed_3_8.pkl','rb') as f:\n",
    "    matches_sed = pickle.load(f)\n",
    "with open('../../Downloads/distributions/dists_actsugg_3_8.pkl','rb') as f:\n",
    "    dists_act = pickle.load(f)\n",
    "with open('../../Downloads/distributions/key_matches_act_sugg_3_8.pkl','rb') as f:\n",
    "    matches_act = pickle.load(f)\n",
    "with open('../../Downloads/distributions/dists_base_3_8.pkl','rb') as f:\n",
    "    dists_base = pickle.load(f)\n",
    "with open('../../Downloads/distributions/key_matches_base_3_8.pkl','rb') as f:\n",
    "    matches_base = pickle.load(f)"
   ]
  },
  {
   "cell_type": "code",
   "execution_count": 17,
   "metadata": {},
   "outputs": [],
   "source": [
    "def get_new(dists,matches):\n",
    "    to_return = {}\n",
    "    for k,v in matches.items():\n",
    "        if 'tod-2' not in v and len(v.split('-'))==14:\n",
    "            nv = v[:7]+v[13:]\n",
    "            if nv not in to_return:\n",
    "                to_return[nv]=dists[v]\n",
    "            else:\n",
    "                to_return[nv].append(dists[v])\n",
    "    return to_return"
   ]
  },
  {
   "cell_type": "code",
   "execution_count": 30,
   "metadata": {},
   "outputs": [],
   "source": [
    "def get_one_hots(dists,matches):\n",
    "    to_return = {}\n",
    "    \n",
    "    for k in ['tod','dow','wea','pre']:\n",
    "        for val in ['0','1']:\n",
    "            tk = k+'-'+val\n",
    "            for kk,v in matches.items():\n",
    "                if len(v.split('-'))==12 and 'tod-2' not in v and 'aint-1' in v:\n",
    "                    if tk not in to_return:\n",
    "                        to_return[tk]=[dists[v]]\n",
    "                    else:\n",
    "                        to_return[tk].append(dists[v])\n",
    "    return to_return"
   ]
  },
  {
   "cell_type": "code",
   "execution_count": null,
   "metadata": {},
   "outputs": [],
   "source": [
    "def to_one_hot_vectors(actsugg,sedentary):\n",
    "    orders = ['tod','dow','wea','pre']\n",
    "    \n",
    "    X = []\n",
    "    y = []\n",
    "    \n",
    "    for i in range(len(orders)):\n",
    "        target = orders[i]\n",
    "        \n",
    "    \n",
    "    "
   ]
  },
  {
   "cell_type": "code",
   "execution_count": 13,
   "metadata": {},
   "outputs": [
    {
     "data": {
      "text/plain": [
       "'aint-1-tod-2-dow-0-wea-1-pre-0-loc-1'"
      ]
     },
     "execution_count": 13,
     "metadata": {},
     "output_type": "execute_result"
    }
   ],
   "source": [
    "'aint-1-gid-2-tod-2-dow-0-wea-1-pre-0-loc-1'[:7]+'aint-1-gid-2-tod-2-dow-0-wea-1-pre-0-loc-1'[13:]"
   ]
  },
  {
   "cell_type": "code",
   "execution_count": 24,
   "metadata": {},
   "outputs": [],
   "source": [
    "tr = get_new(dists_act,matches_act)"
   ]
  },
  {
   "cell_type": "code",
   "execution_count": 32,
   "metadata": {},
   "outputs": [],
   "source": [
    "x=get_one_hots(dists_act,matches_act)"
   ]
  },
  {
   "cell_type": "code",
   "execution_count": 35,
   "metadata": {},
   "outputs": [
    {
     "data": {
      "text/plain": [
       "10"
      ]
     },
     "execution_count": 35,
     "metadata": {},
     "output_type": "execute_result"
    }
   ],
   "source": [
    "len(x['dow-1'])"
   ]
  },
  {
   "cell_type": "code",
   "execution_count": null,
   "metadata": {},
   "outputs": [],
   "source": []
  }
 ],
 "metadata": {
  "kernelspec": {
   "display_name": "Python 3",
   "language": "python",
   "name": "python3"
  },
  "language_info": {
   "codemirror_mode": {
    "name": "ipython",
    "version": 3
   },
   "file_extension": ".py",
   "mimetype": "text/x-python",
   "name": "python",
   "nbconvert_exporter": "python",
   "pygments_lexer": "ipython3",
   "version": "3.6.8"
  }
 },
 "nbformat": 4,
 "nbformat_minor": 2
}
