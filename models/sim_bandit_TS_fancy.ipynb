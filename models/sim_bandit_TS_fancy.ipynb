{
 "cells": [
  {
   "cell_type": "code",
   "execution_count": 1,
   "metadata": {
    "collapsed": false
   },
   "outputs": [],
   "source": [
    "import bandit\n",
    "from numpy.random import uniform\n",
    "from numpy.linalg import solve\n",
    "import numpy as np\n",
    "import state_params\n",
    "import random\n",
    "from scipy.stats import norm\n",
    "import TS_fancy\n",
    "from scipy.linalg import block_diag\n",
    "from scipy.interpolate import BSpline\n",
    "import eta"
   ]
  },
  {
   "cell_type": "code",
   "execution_count": 2,
   "metadata": {
    "collapsed": false
   },
   "outputs": [],
   "source": [
    "sp = state_params.state_params(10)"
   ]
  },
  {
   "cell_type": "code",
   "execution_count": 3,
   "metadata": {
    "collapsed": false
   },
   "outputs": [],
   "source": [
    "def simulate(pZ,init):\n",
    "    total_reward = 0\n",
    "  # simulation\n",
    "    nT = 450\n",
    "\n",
    "      # initial state\n",
    "    Z_init = [uniform() for i in range(pZ)]\n",
    "    X_init =0\n",
    "    I_init = (uniform() < 0.8)\n",
    "  \n",
    "\n",
    "  \n",
    "    # policy initilization\n",
    "    mu_beta = init.mu_2\n",
    "    Sigma_beta = init.sigma_2\n",
    "    \n",
    "    \n",
    "    eta_function = eta.eta()\n",
    "    \n",
    "    # placeholder\n",
    "    batch = [[] for i in range(nT)]\n",
    "  \n",
    "  \n",
    "    # performance matrix\n",
    "\n",
    "  \n",
    "  \n",
    "    for t in range(nT):\n",
    "    \n",
    "    \n",
    "    # current state \n",
    "    \n",
    "        if(t==0):\n",
    "      \n",
    "            Z_next = Z_init\n",
    "            X_next = X_init\n",
    "            I_next = I_init\n",
    "      \n",
    "    \n",
    "    \n",
    "        Z = Z_next\n",
    "        X = X_next\n",
    "        I = I_next\n",
    "    \n",
    "    # action selection\n",
    "    \n",
    "        if I == 1:\n",
    "      \n",
    "          # calculate prob\n",
    "      \n",
    "            prob = TS_fancy.prob_cal(Z, X, mu_beta, Sigma_beta, init, eta_function.eta_init)\n",
    "            #print(prob)\n",
    "            #print(':)')\n",
    "          # sample the action\n",
    "            A = int(uniform() < prob)\n",
    "      \n",
    "        else:\n",
    "      \n",
    "            prob = 0\n",
    "            A = 0\n",
    "      \n",
    "        \n",
    "    \n",
    "        R = 1+Z[0]+(Z[0]**2)-(.05*X)+A*(1-.1*X)+np.random.normal(scale=1)\n",
    "        Z_next = [uniform() for i in range(pZ)]\n",
    "        X_next = TS_fancy.gen_nextdosage(X,A)\n",
    "        I_next = (uniform()<.8)\n",
    "        \n",
    "        \n",
    "        batch[t]=TS_fancy.make_batch(t,Z,X,I,A,prob,R)\n",
    "        \n",
    "        \n",
    "        total_reward = total_reward+R\n",
    "        if (t+1)%5 == 0: \n",
    "            if (t+1)%35==0:  \n",
    "            #update the txt effect posterior\n",
    "                temp = TS_fancy.policy_update(batch[:t], init,proxy=True)\n",
    "                print('returning temp')\n",
    "                return temp\n",
    "            #print(temp)\n",
    "                mu_beta = temp[0]\n",
    "                Sigma_beta = temp[1]\n",
    "                #eta_function = temp[2]\n",
    "            else:\n",
    "                temp = TS_fancy.policy_update(batch[:t], init,proxy=False)\n",
    "               \n",
    "            #print(temp)\n",
    "                mu_beta = temp[0]\n",
    "                Sigma_beta = temp[1]\n",
    "      \n",
    "   \n",
    "    \n",
    "        #policy_update_ts(batch, init)\n",
    "    print(total_reward)\n",
    "    return batch,total_reward\n",
    "  \n",
    "    \n"
   ]
  },
  {
   "cell_type": "code",
   "execution_count": 11,
   "metadata": {
    "collapsed": false
   },
   "outputs": [
    {
     "name": "stdout",
     "output_type": "stream",
     "text": [
      "called F all\n"
     ]
    }
   ],
   "source": [
    "b,t =simulate(sp.pZ,sp)"
   ]
  },
  {
   "cell_type": "code",
   "execution_count": 4,
   "metadata": {
    "collapsed": false
   },
   "outputs": [
    {
     "name": "stdout",
     "output_type": "stream",
     "text": [
      "0.012968778610229492\n",
      "returning temp\n"
     ]
    }
   ],
   "source": [
    "play =simulate(sp.pZ,sp)"
   ]
  },
  {
   "cell_type": "code",
   "execution_count": 5,
   "metadata": {
    "collapsed": false
   },
   "outputs": [
    {
     "data": {
      "text/plain": [
       "(1001,)"
      ]
     },
     "execution_count": 5,
     "metadata": {},
     "output_type": "execute_result"
    }
   ],
   "source": [
    "np.array(play).shape"
   ]
  },
  {
   "cell_type": "code",
   "execution_count": 6,
   "metadata": {
    "collapsed": false
   },
   "outputs": [
    {
     "data": {
      "text/plain": [
       "[array([ 26.04166667,  25.01552109,  24.02000417, ...,   0.        ,\n",
       "          0.        ,   0.        ]),\n",
       " array([-76.20833333, -72.85523021, -69.61101667, ...,   0.        ,\n",
       "          0.        ,   0.        ]),\n",
       " array([ 90.45833333,  86.2571474 ,  82.20135833, ...,   0.        ,\n",
       "          0.        ,   0.        ]),\n",
       " array([-49.95833333, -47.56068854, -45.24968333, ...,   0.        ,\n",
       "          0.        ,   0.        ]),\n",
       " array([ 10.66666667,  10.14325026,   9.6393375 , ...,   0.        ,\n",
       "          0.        ,   0.        ]),\n",
       " array([ 0.,  0.,  0., ...,  0.,  0.,  0.]),\n",
       " array([ 0.,  0.,  0., ...,  0.,  0.,  0.]),\n",
       " array([ 0.,  0.,  0., ...,  0.,  0.,  0.]),\n",
       " array([ 0.,  0.,  0., ...,  0.,  0.,  0.]),\n",
       " array([ 0.,  0.,  0., ...,  0.,  0.,  0.]),\n",
       " array([ 0.,  0.,  0., ...,  0.,  0.,  0.]),\n",
       " array([ 0.,  0.,  0., ...,  0.,  0.,  0.]),\n",
       " array([ 0.,  0.,  0., ...,  0.,  0.,  0.]),\n",
       " array([ 0.,  0.,  0., ...,  0.,  0.,  0.]),\n",
       " array([ 0.,  0.,  0., ...,  0.,  0.,  0.]),\n",
       " array([ 0.,  0.,  0., ...,  0.,  0.,  0.]),\n",
       " array([ 0.,  0.,  0., ...,  0.,  0.,  0.]),\n",
       " array([ 0.,  0.,  0., ...,  0.,  0.,  0.]),\n",
       " array([ 0.,  0.,  0., ...,  0.,  0.,  0.]),\n",
       " array([ 0.,  0.,  0., ...,  0.,  0.,  0.]),\n",
       " array([ 0.,  0.,  0., ...,  0.,  0.,  0.]),\n",
       " array([ 0.,  0.,  0., ...,  0.,  0.,  0.]),\n",
       " array([ 0.,  0.,  0., ...,  0.,  0.,  0.]),\n",
       " array([ 0.,  0.,  0., ...,  0.,  0.,  0.]),\n",
       " array([ 0.,  0.,  0., ...,  0.,  0.,  0.]),\n",
       " array([ 0.,  0.,  0., ...,  0.,  0.,  0.]),\n",
       " array([ 0.,  0.,  0., ...,  0.,  0.,  0.]),\n",
       " array([ 0.,  0.,  0., ...,  0.,  0.,  0.]),\n",
       " array([ 0.,  0.,  0., ...,  0.,  0.,  0.]),\n",
       " array([ 0.,  0.,  0., ...,  0.,  0.,  0.]),\n",
       " array([ 0.,  0.,  0., ...,  0.,  0.,  0.]),\n",
       " array([ 0.,  0.,  0., ...,  0.,  0.,  0.]),\n",
       " array([ 0.,  0.,  0., ...,  0.,  0.,  0.]),\n",
       " array([ 0.,  0.,  0., ...,  0.,  0.,  0.]),\n",
       " array([ 0.,  0.,  0., ...,  0.,  0.,  0.]),\n",
       " array([ 0.,  0.,  0., ...,  0.,  0.,  0.]),\n",
       " array([ 0.,  0.,  0., ...,  0.,  0.,  0.]),\n",
       " array([ 0.,  0.,  0., ...,  0.,  0.,  0.]),\n",
       " array([ 0.,  0.,  0., ...,  0.,  0.,  0.]),\n",
       " array([ 0.,  0.,  0., ...,  0.,  0.,  0.]),\n",
       " array([  0.        ,   0.        ,   0.        , ...,  24.02000417,\n",
       "         25.01552109,  26.04166667]),\n",
       " array([   0.        ,    0.        ,    0.        , ..., -110.46068333,\n",
       "        -114.93435521, -119.54166667]),\n",
       " array([   0.        ,    0.        ,    0.        , ...,  194.95035833,\n",
       "         202.5945224 ,  210.45833333]),\n",
       " array([   0.        ,    0.        ,    0.        , ..., -157.99868333,\n",
       "        -163.89806354, -169.95833333]),\n",
       " array([  0.        ,   0.        ,   0.        , ...,  50.48900417,\n",
       "         52.22237526,  54.        ]),\n",
       " array([ 0.,  0.,  0., ...,  0.,  0.,  0.]),\n",
       " array([ 0.,  0.,  0., ...,  0.,  0.,  0.]),\n",
       " array([ 0.,  0.,  0., ...,  0.,  0.,  0.]),\n",
       " array([ 0.,  0.,  0., ...,  0.,  0.,  0.]),\n",
       " array([ 0.,  0.,  0., ...,  0.,  0.,  0.])]"
      ]
     },
     "execution_count": 6,
     "metadata": {},
     "output_type": "execute_result"
    }
   ],
   "source": [
    "play"
   ]
  },
  {
   "cell_type": "code",
   "execution_count": 17,
   "metadata": {
    "collapsed": false
   },
   "outputs": [
    {
     "ename": "AttributeError",
     "evalue": "'int' object has no attribute 'ndim'",
     "output_type": "error",
     "traceback": [
      "\u001b[0;31m---------------------------------------------------------------------------\u001b[0m",
      "\u001b[0;31mAttributeError\u001b[0m                            Traceback (most recent call last)",
      "\u001b[0;32m<ipython-input-17-6daa539b4edf>\u001b[0m in \u001b[0;36m<module>\u001b[0;34m()\u001b[0m\n\u001b[1;32m      1\u001b[0m \u001b[0;31m#range=c(0, 1/(1-input$lambda)), nbasis=50, norder = 4)\u001b[0m\u001b[0;34m\u001b[0m\u001b[0;34m\u001b[0m\u001b[0m\n\u001b[0;32m----> 2\u001b[0;31m \u001b[0mBSpline\u001b[0m\u001b[0;34m(\u001b[0m\u001b[0mnp\u001b[0m\u001b[0;34m.\u001b[0m\u001b[0marange\u001b[0m\u001b[0;34m(\u001b[0m\u001b[0;36m0\u001b[0m\u001b[0;34m,\u001b[0m\u001b[0;36m1\u001b[0m\u001b[0;34m/\u001b[0m\u001b[0;36m0.1\u001b[0m\u001b[0;34m+\u001b[0m\u001b[0;36m1\u001b[0m\u001b[0;34m)\u001b[0m\u001b[0;34m,\u001b[0m\u001b[0;36m50\u001b[0m\u001b[0;34m,\u001b[0m\u001b[0;36m4\u001b[0m\u001b[0;34m)\u001b[0m\u001b[0;34m\u001b[0m\u001b[0m\n\u001b[0m",
      "\u001b[0;32m/Users/sabina/anaconda3/lib/python3.5/site-packages/scipy/interpolate/_bsplines.py\u001b[0m in \u001b[0;36m__init__\u001b[0;34m(self, t, c, k, extrapolate, axis)\u001b[0m\n\u001b[1;32m    194\u001b[0m \u001b[0;34m\u001b[0m\u001b[0m\n\u001b[1;32m    195\u001b[0m         \u001b[0;32mif\u001b[0m \u001b[0;32mnot\u001b[0m \u001b[0;34m(\u001b[0m\u001b[0;36m0\u001b[0m \u001b[0;34m<=\u001b[0m \u001b[0maxis\u001b[0m \u001b[0;34m<\u001b[0m \u001b[0mself\u001b[0m\u001b[0;34m.\u001b[0m\u001b[0mc\u001b[0m\u001b[0;34m.\u001b[0m\u001b[0mndim\u001b[0m\u001b[0;34m)\u001b[0m\u001b[0;34m:\u001b[0m\u001b[0;34m\u001b[0m\u001b[0m\n\u001b[0;32m--> 196\u001b[0;31m             \u001b[0;32mraise\u001b[0m \u001b[0mValueError\u001b[0m\u001b[0;34m(\u001b[0m\u001b[0;34m\"%s must be between 0 and %s\"\u001b[0m \u001b[0;34m%\u001b[0m \u001b[0;34m(\u001b[0m\u001b[0maxis\u001b[0m\u001b[0;34m,\u001b[0m \u001b[0mc\u001b[0m\u001b[0;34m.\u001b[0m\u001b[0mndim\u001b[0m\u001b[0;34m)\u001b[0m\u001b[0;34m)\u001b[0m\u001b[0;34m\u001b[0m\u001b[0m\n\u001b[0m\u001b[1;32m    197\u001b[0m \u001b[0;34m\u001b[0m\u001b[0m\n\u001b[1;32m    198\u001b[0m         \u001b[0mself\u001b[0m\u001b[0;34m.\u001b[0m\u001b[0maxis\u001b[0m \u001b[0;34m=\u001b[0m \u001b[0maxis\u001b[0m\u001b[0;34m\u001b[0m\u001b[0m\n",
      "\u001b[0;31mAttributeError\u001b[0m: 'int' object has no attribute 'ndim'"
     ]
    }
   ],
   "source": [
    "#range=c(0, 1/(1-input$lambda)), nbasis=50, norder = 4)\n",
    "BSpline(np.arange(0,1/0.1+1),50,4)"
   ]
  },
  {
   "cell_type": "code",
   "execution_count": 6,
   "metadata": {
    "collapsed": false
   },
   "outputs": [
    {
     "data": {
      "text/plain": [
       "array([ 0. ,  0.2,  0.4,  0.6,  0.8,  1. ,  1.2,  1.4,  1.6,  1.8,  2. ,\n",
       "        2.2,  2.4,  2.6,  2.8,  3. ,  3.2,  3.4,  3.6,  3.8,  4. ,  4.2,\n",
       "        4.4,  4.6,  4.8,  5. ,  5.2,  5.4,  5.6,  5.8,  6. ,  6.2,  6.4,\n",
       "        6.6,  6.8,  7. ,  7.2,  7.4,  7.6,  7.8,  8. ,  8.2,  8.4,  8.6,\n",
       "        8.8,  9. ,  9.2,  9.4,  9.6,  9.8])"
      ]
     },
     "execution_count": 6,
     "metadata": {},
     "output_type": "execute_result"
    }
   ],
   "source": [
    "np.arange(0,10,(10)/50)"
   ]
  },
  {
   "cell_type": "code",
   "execution_count": 6,
   "metadata": {
    "collapsed": false
   },
   "outputs": [
    {
     "data": {
      "text/plain": [
       "array([  0.  ,   0.01,   0.02, ...,   9.98,   9.99,  10.  ])"
      ]
     },
     "execution_count": 6,
     "metadata": {},
     "output_type": "execute_result"
    }
   ],
   "source": [
    "np.arange(0,1/(1-.9),.01)"
   ]
  },
  {
   "cell_type": "code",
   "execution_count": null,
   "metadata": {
    "collapsed": true
   },
   "outputs": [],
   "source": []
  }
 ],
 "metadata": {
  "anaconda-cloud": {},
  "kernelspec": {
   "display_name": "Python [Root]",
   "language": "python",
   "name": "Python [Root]"
  },
  "language_info": {
   "codemirror_mode": {
    "name": "ipython",
    "version": 3
   },
   "file_extension": ".py",
   "mimetype": "text/x-python",
   "name": "python",
   "nbconvert_exporter": "python",
   "pygments_lexer": "ipython3",
   "version": "3.5.6"
  }
 },
 "nbformat": 4,
 "nbformat_minor": 0
}
