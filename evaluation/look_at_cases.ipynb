{
 "cells": [
  {
   "cell_type": "code",
   "execution_count": 1,
   "metadata": {},
   "outputs": [],
   "source": [
    "results_path = '../../Downloads/pooling_results/'"
   ]
  },
  {
   "cell_type": "code",
   "execution_count": 2,
   "metadata": {},
   "outputs": [],
   "source": [
    "import numpy as np\n",
    "import pickle\n",
    "import os\n",
    "import math"
   ]
  },
  {
   "cell_type": "code",
   "execution_count": 5,
   "metadata": {},
   "outputs": [],
   "source": [
    "def get_results_personalized(pop_size,update_time,case):\n",
    "    \n",
    "    files = os.listdir('{}personalized/results/{}/'.format(results_path,case))\n",
    "    \n",
    "    steps = []\n",
    "\n",
    "    #check population and pop_size,update_time\n",
    "    files = [f for f in files if '.DS' not in f and '_seedone' in f and 'regrets' not in f and 'update_days_{}'.format(update_time) in f and '2015' not in f]\n",
    "    #files = files[:50]\n",
    "    print(len(files))\n",
    "    print(files)\n",
    "    for ff in files:\n",
    "        #sim = int(ff.split('sim_')[1].strip('_continuous_pretreatment_base_coef_scale_hybrid.pkl'))\n",
    "        try:\n",
    "            with open('{}/personalized/results/{}/{}'.\\\n",
    "              format(results_path,case,ff),'rb') as f:\n",
    "                d = pickle.load(f)\n",
    "            #if int(sim)<60:\n",
    "            steps = steps+[k['steps'] for k in d.values() if k['avail'] and k['decision_time']]\n",
    "        except:\n",
    "            print(f)\n",
    "    return steps"
   ]
  },
  {
   "cell_type": "code",
   "execution_count": 6,
   "metadata": {},
   "outputs": [
    {
     "ename": "NameError",
     "evalue": "name 'p_c_one' is not defined",
     "output_type": "error",
     "traceback": [
      "\u001b[0;31m----------------------------------------------------------------\u001b[0m",
      "\u001b[0;31mNameError\u001b[0m                      Traceback (most recent call last)",
      "\u001b[0;32m<ipython-input-6-4911a37b890f>\u001b[0m in \u001b[0;36m<module>\u001b[0;34m\u001b[0m\n\u001b[0;32m----> 1\u001b[0;31m \u001b[0mp_c_one\u001b[0m\u001b[0;34m\u001b[0m\u001b[0;34m\u001b[0m\u001b[0m\n\u001b[0m",
      "\u001b[0;31mNameError\u001b[0m: name 'p_c_one' is not defined"
     ]
    }
   ],
   "source": [
    "p_c_one"
   ]
  },
  {
   "cell_type": "code",
   "execution_count": null,
   "metadata": {},
   "outputs": [],
   "source": [
    "p_c_one= get_results_personalized(32,1,'case_one')\n",
    "print(len(p_c_one))\n",
    "#bsteps_cone = get_step_counts(batch_one)\n",
    "np.array(p_c_one).mean()"
   ]
  },
  {
   "cell_type": "code",
   "execution_count": 87,
   "metadata": {},
   "outputs": [
    {
     "name": "stdout",
     "output_type": "stream",
     "text": [
      "50\n",
      "['population_size_32_update_days_7_short_static_sim_14_weightedseeds_coeff.pkl', 'population_size_32_update_days_7_short_static_sim_25_weightedseeds_coeff.pkl', 'population_size_32_update_days_7_short_static_sim_2_weightedseeds_coeff.pkl', 'population_size_32_update_days_7_short_static_sim_47_weightedseeds_coeff.pkl', 'population_size_32_update_days_7_short_static_sim_36_weightedseeds_coeff.pkl', 'population_size_32_update_days_7_short_static_sim_39_weightedseeds_coeff.pkl', 'population_size_32_update_days_7_short_static_sim_48_weightedseeds_coeff.pkl', 'population_size_32_update_days_7_short_static_sim_21_weightedseeds_coeff.pkl', 'population_size_32_update_days_7_short_static_sim_6_weightedseeds_coeff.pkl', 'population_size_32_update_days_7_short_static_sim_9_weightedseeds_coeff.pkl', 'population_size_32_update_days_7_short_static_sim_10_weightedseeds_coeff.pkl', 'population_size_32_update_days_7_short_static_sim_43_weightedseeds_coeff.pkl', 'population_size_32_update_days_7_short_static_sim_32_weightedseeds_coeff.pkl', 'population_size_32_update_days_7_short_static_sim_40_weightedseeds_coeff.pkl', 'population_size_32_update_days_7_short_static_sim_31_weightedseeds_coeff.pkl', 'population_size_32_update_days_7_short_static_sim_22_weightedseeds_coeff.pkl', 'population_size_32_update_days_7_short_static_sim_5_weightedseeds_coeff.pkl', 'population_size_32_update_days_7_short_static_sim_13_weightedseeds_coeff.pkl', 'population_size_32_update_days_7_short_static_sim_44_weightedseeds_coeff.pkl', 'population_size_32_update_days_7_short_static_sim_35_weightedseeds_coeff.pkl', 'population_size_32_update_days_7_short_static_sim_29_weightedseeds_coeff.pkl', 'population_size_32_update_days_7_short_static_sim_17_weightedseeds_coeff.pkl', 'population_size_32_update_days_7_short_static_sim_18_weightedseeds_coeff.pkl', 'population_size_32_update_days_7_short_static_sim_26_weightedseeds_coeff.pkl', 'population_size_32_update_days_7_short_static_sim_1_weightedseeds_coeff.pkl', 'population_size_32_update_days_7_short_static_sim_33_weightedseeds_coeff.pkl', 'population_size_32_update_days_7_short_static_sim_42_weightedseeds_coeff.pkl', 'population_size_32_update_days_7_short_static_sim_11_weightedseeds_coeff.pkl', 'population_size_32_update_days_7_short_static_sim_8_weightedseeds_coeff.pkl', 'population_size_32_update_days_7_short_static_sim_7_weightedseeds_coeff.pkl', 'population_size_32_update_days_7_short_static_sim_20_weightedseeds_coeff.pkl', 'population_size_32_update_days_7_short_static_sim_49_weightedseeds_coeff.pkl', 'population_size_32_update_days_7_short_static_sim_38_weightedseeds_coeff.pkl', 'population_size_32_update_days_7_short_static_sim_37_weightedseeds_coeff.pkl', 'population_size_32_update_days_7_short_static_sim_46_weightedseeds_coeff.pkl', 'population_size_32_update_days_7_short_static_sim_3_weightedseeds_coeff.pkl', 'population_size_32_update_days_7_short_static_sim_24_weightedseeds_coeff.pkl', 'population_size_32_update_days_7_short_static_sim_15_weightedseeds_coeff.pkl', 'population_size_32_update_days_7_short_static_sim_0_weightedseeds_coeff.pkl', 'population_size_32_update_days_7_short_static_sim_27_weightedseeds_coeff.pkl', 'population_size_32_update_days_7_short_static_sim_19_weightedseeds_coeff.pkl', 'population_size_32_update_days_7_short_static_sim_16_weightedseeds_coeff.pkl', 'population_size_32_update_days_7_short_static_sim_28_weightedseeds_coeff.pkl', 'population_size_32_update_days_7_short_static_sim_34_weightedseeds_coeff.pkl', 'population_size_32_update_days_7_short_static_sim_45_weightedseeds_coeff.pkl', 'population_size_32_update_days_7_short_static_sim_12_weightedseeds_coeff.pkl', 'population_size_32_update_days_7_short_static_sim_4_weightedseeds_coeff.pkl', 'population_size_32_update_days_7_short_static_sim_23_weightedseeds_coeff.pkl', 'population_size_32_update_days_7_short_static_sim_30_weightedseeds_coeff.pkl', 'population_size_32_update_days_7_short_static_sim_41_weightedseeds_coeff.pkl']\n",
      "543950\n"
     ]
    },
    {
     "data": {
      "text/plain": [
       "5.165712786828349"
      ]
     },
     "execution_count": 87,
     "metadata": {},
     "output_type": "execute_result"
    }
   ],
   "source": [
    "p_c_one= get_results_personalized(32,7,'case_two')\n",
    "#bsteps_cone = get_step_counts(batch_one)\n",
    "print(len(p_c_one))\n",
    "np.array(p_c_one).mean()"
   ]
  },
  {
   "cell_type": "code",
   "execution_count": 88,
   "metadata": {},
   "outputs": [
    {
     "name": "stdout",
     "output_type": "stream",
     "text": [
      "50\n",
      "['population_size_32_update_days_7_short_static_sim_14_weightedseeds_coeff.pkl', 'population_size_32_update_days_7_short_static_sim_25_weightedseeds_coeff.pkl', 'population_size_32_update_days_7_short_static_sim_2_weightedseeds_coeff.pkl', 'population_size_32_update_days_7_short_static_sim_47_weightedseeds_coeff.pkl', 'population_size_32_update_days_7_short_static_sim_36_weightedseeds_coeff.pkl', 'population_size_32_update_days_7_short_static_sim_39_weightedseeds_coeff.pkl', 'population_size_32_update_days_7_short_static_sim_48_weightedseeds_coeff.pkl', 'population_size_32_update_days_7_short_static_sim_21_weightedseeds_coeff.pkl', 'population_size_32_update_days_7_short_static_sim_6_weightedseeds_coeff.pkl', 'population_size_32_update_days_7_short_static_sim_9_weightedseeds_coeff.pkl', 'population_size_32_update_days_7_short_static_sim_10_weightedseeds_coeff.pkl', 'population_size_32_update_days_7_short_static_sim_43_weightedseeds_coeff.pkl', 'population_size_32_update_days_7_short_static_sim_32_weightedseeds_coeff.pkl', 'population_size_32_update_days_7_short_static_sim_40_weightedseeds_coeff.pkl', 'population_size_32_update_days_7_short_static_sim_31_weightedseeds_coeff.pkl', 'population_size_32_update_days_7_short_static_sim_22_weightedseeds_coeff.pkl', 'population_size_32_update_days_7_short_static_sim_5_weightedseeds_coeff.pkl', 'population_size_32_update_days_7_short_static_sim_13_weightedseeds_coeff.pkl', 'population_size_32_update_days_7_short_static_sim_44_weightedseeds_coeff.pkl', 'population_size_32_update_days_7_short_static_sim_35_weightedseeds_coeff.pkl', 'population_size_32_update_days_7_short_static_sim_29_weightedseeds_coeff.pkl', 'population_size_32_update_days_7_short_static_sim_17_weightedseeds_coeff.pkl', 'population_size_32_update_days_7_short_static_sim_18_weightedseeds_coeff.pkl', 'population_size_32_update_days_7_short_static_sim_26_weightedseeds_coeff.pkl', 'population_size_32_update_days_7_short_static_sim_1_weightedseeds_coeff.pkl', 'population_size_32_update_days_7_short_static_sim_33_weightedseeds_coeff.pkl', 'population_size_32_update_days_7_short_static_sim_42_weightedseeds_coeff.pkl', 'population_size_32_update_days_7_short_static_sim_11_weightedseeds_coeff.pkl', 'population_size_32_update_days_7_short_static_sim_8_weightedseeds_coeff.pkl', 'population_size_32_update_days_7_short_static_sim_7_weightedseeds_coeff.pkl', 'population_size_32_update_days_7_short_static_sim_20_weightedseeds_coeff.pkl', 'population_size_32_update_days_7_short_static_sim_49_weightedseeds_coeff.pkl', 'population_size_32_update_days_7_short_static_sim_38_weightedseeds_coeff.pkl', 'population_size_32_update_days_7_short_static_sim_37_weightedseeds_coeff.pkl', 'population_size_32_update_days_7_short_static_sim_46_weightedseeds_coeff.pkl', 'population_size_32_update_days_7_short_static_sim_3_weightedseeds_coeff.pkl', 'population_size_32_update_days_7_short_static_sim_24_weightedseeds_coeff.pkl', 'population_size_32_update_days_7_short_static_sim_15_weightedseeds_coeff.pkl', 'population_size_32_update_days_7_short_static_sim_0_weightedseeds_coeff.pkl', 'population_size_32_update_days_7_short_static_sim_27_weightedseeds_coeff.pkl', 'population_size_32_update_days_7_short_static_sim_19_weightedseeds_coeff.pkl', 'population_size_32_update_days_7_short_static_sim_16_weightedseeds_coeff.pkl', 'population_size_32_update_days_7_short_static_sim_28_weightedseeds_coeff.pkl', 'population_size_32_update_days_7_short_static_sim_34_weightedseeds_coeff.pkl', 'population_size_32_update_days_7_short_static_sim_45_weightedseeds_coeff.pkl', 'population_size_32_update_days_7_short_static_sim_12_weightedseeds_coeff.pkl', 'population_size_32_update_days_7_short_static_sim_4_weightedseeds_coeff.pkl', 'population_size_32_update_days_7_short_static_sim_23_weightedseeds_coeff.pkl', 'population_size_32_update_days_7_short_static_sim_30_weightedseeds_coeff.pkl', 'population_size_32_update_days_7_short_static_sim_41_weightedseeds_coeff.pkl']\n",
      "543950\n"
     ]
    },
    {
     "data": {
      "text/plain": [
       "5.1642927643530605"
      ]
     },
     "execution_count": 88,
     "metadata": {},
     "output_type": "execute_result"
    }
   ],
   "source": [
    "p_c_one= get_results_personalized(32,7,'case_three')\n",
    "print(len(p_c_one))\n",
    "#bsteps_cone = get_step_counts(batch_one)\n",
    "np.array(p_c_one).mean()"
   ]
  },
  {
   "cell_type": "code",
   "execution_count": 3,
   "metadata": {},
   "outputs": [],
   "source": [
    "def get_results_batch(pop_size,update_time,case):\n",
    "    \n",
    "    files = os.listdir('{}batch/results/{}/'.format(results_path,case))\n",
    "    \n",
    "    steps = []\n",
    "    #check population and pop_size,update_time\n",
    "    files = [f for f in files if '.DS' not in f and  '_current' in f and 'regrets' not in f and 'update_days_{}'.format(update_time) in f and 'bigsigma' not in f]\n",
    "    #files = files[:50]\n",
    "    print(len(files))\n",
    "    print(files)\n",
    "    for f in files:\n",
    "        sim = int(f.split('sim_')[1].split('_')[0])\n",
    "        if sim<10:\n",
    "            with open('{}/batch/results/{}/{}'.\\\n",
    "              format(results_path,case,f),'rb') as f:\n",
    "                d = pickle.load(f)\n",
    "            steps= steps + [k['steps'] for k in d.values() if k['decision_time'] and k['avail']]\n",
    "    return steps"
   ]
  },
  {
   "cell_type": "code",
   "execution_count": 41,
   "metadata": {},
   "outputs": [],
   "source": [
    "def get_results_batch_time(pop_size,update_time,case):\n",
    "    \n",
    "    files = os.listdir('{}batch/results/{}/'.format(results_path,case))\n",
    "    \n",
    "    steps = []\n",
    "    #check population and pop_size,update_time\n",
    "    files = [f for f in files if '.DS' not in f]\n",
    "    files = files[:50]\n",
    "    print(len(files))\n",
    "    to_return = {}\n",
    "    group_ids={}\n",
    "    for ff in files:\n",
    "        with open('{}/batch/results/{}/{}'.\\\n",
    "              format(results_path,case,ff),'rb') as f:\n",
    "            d = pickle.load(f)\n",
    "        temp = {}\n",
    "        for k,vv in d.items():\n",
    "            pid = k.split('-')[0]\n",
    "            time = k.split('-')[1]\n",
    "            if pid not in temp:\n",
    "                temp[pid]=[]\n",
    "            temp[pid].append(vv['steps'])\n",
    "            \n",
    "        to_return[ff]=temp\n",
    "    return to_return"
   ]
  },
  {
   "cell_type": "code",
   "execution_count": 165,
   "metadata": {},
   "outputs": [],
   "source": [
    "with open('{}batch/results/{}/population_size_32_update_days_7_short_static_sim_0.pkl'.format(results_path,'case_one'),'rb') as f:\n",
    "    dt = pickle.load(f)"
   ]
  },
  {
   "cell_type": "code",
   "execution_count": 12,
   "metadata": {},
   "outputs": [
    {
     "data": {
      "text/plain": [
       "'4'"
      ]
     },
     "execution_count": 12,
     "metadata": {},
     "output_type": "execute_result"
    }
   ],
   "source": [
    "'population_size_32_update_days_1_short_static_sim_4_orignow_seedone.pkl'.split('sim_')[1].split('_')[0]"
   ]
  },
  {
   "cell_type": "code",
   "execution_count": 4,
   "metadata": {},
   "outputs": [
    {
     "name": "stdout",
     "output_type": "stream",
     "text": [
      "50\n",
      "['population_size_32_update_days_1_short_static_sim_49_orignow_current.pkl', 'population_size_32_update_days_1_short_static_sim_18_orignow_current.pkl', 'population_size_32_update_days_1_short_static_sim_48_orignow_current.pkl', 'population_size_32_update_days_1_short_static_sim_19_orignow_current.pkl', 'population_size_32_update_days_1_short_static_sim_40_orignow_current.pkl', 'population_size_32_update_days_1_short_static_sim_11_orignow_current.pkl', 'population_size_32_update_days_1_short_static_sim_41_orignow_current.pkl', 'population_size_32_update_days_1_short_static_sim_10_orignow_current.pkl', 'population_size_32_update_days_1_short_static_sim_13_orignow_current.pkl', 'population_size_32_update_days_1_short_static_sim_42_orignow_current.pkl', 'population_size_32_update_days_1_short_static_sim_12_orignow_current.pkl', 'population_size_32_update_days_1_short_static_sim_43_orignow_current.pkl', 'population_size_32_update_days_1_short_static_sim_14_orignow_current.pkl', 'population_size_32_update_days_1_short_static_sim_45_orignow_current.pkl', 'population_size_32_update_days_1_short_static_sim_15_orignow_current.pkl', 'population_size_32_update_days_1_short_static_sim_44_orignow_current.pkl', 'population_size_32_update_days_1_short_static_sim_47_orignow_current.pkl', 'population_size_32_update_days_1_short_static_sim_16_orignow_current.pkl', 'population_size_32_update_days_1_short_static_sim_46_orignow_current.pkl', 'population_size_32_update_days_1_short_static_sim_17_orignow_current.pkl', 'population_size_32_update_days_1_short_static_sim_27_orignow_current.pkl', 'population_size_32_update_days_1_short_static_sim_3_orignow_current.pkl', 'population_size_32_update_days_1_short_static_sim_26_orignow_current.pkl', 'population_size_32_update_days_1_short_static_sim_2_orignow_current.pkl', 'population_size_32_update_days_1_short_static_sim_1_orignow_current.pkl', 'population_size_32_update_days_1_short_static_sim_25_orignow_current.pkl', 'population_size_32_update_days_1_short_static_sim_0_orignow_current.pkl', 'population_size_32_update_days_1_short_static_sim_24_orignow_current.pkl', 'population_size_32_update_days_1_short_static_sim_6_orignow_current.pkl', 'population_size_32_update_days_1_short_static_sim_22_orignow_current.pkl', 'population_size_32_update_days_1_short_static_sim_7_orignow_current.pkl', 'population_size_32_update_days_1_short_static_sim_23_orignow_current.pkl', 'population_size_32_update_days_1_short_static_sim_20_orignow_current.pkl', 'population_size_32_update_days_1_short_static_sim_4_orignow_current.pkl', 'population_size_32_update_days_1_short_static_sim_39_orignow_current.pkl', 'population_size_32_update_days_1_short_static_sim_21_orignow_current.pkl', 'population_size_32_update_days_1_short_static_sim_5_orignow_current.pkl', 'population_size_32_update_days_1_short_static_sim_38_orignow_current.pkl', 'population_size_32_update_days_1_short_static_sim_35_orignow_current.pkl', 'population_size_32_update_days_1_short_static_sim_8_orignow_current.pkl', 'population_size_32_update_days_1_short_static_sim_34_orignow_current.pkl', 'population_size_32_update_days_1_short_static_sim_9_orignow_current.pkl', 'population_size_32_update_days_1_short_static_sim_37_orignow_current.pkl', 'population_size_32_update_days_1_short_static_sim_36_orignow_current.pkl', 'population_size_32_update_days_1_short_static_sim_29_orignow_current.pkl', 'population_size_32_update_days_1_short_static_sim_30_orignow_current.pkl', 'population_size_32_update_days_1_short_static_sim_28_orignow_current.pkl', 'population_size_32_update_days_1_short_static_sim_31_orignow_current.pkl', 'population_size_32_update_days_1_short_static_sim_32_orignow_current.pkl', 'population_size_32_update_days_1_short_static_sim_33_orignow_current.pkl']\n"
     ]
    },
    {
     "data": {
      "text/plain": [
       "5.143565709207936"
      ]
     },
     "execution_count": 4,
     "metadata": {},
     "output_type": "execute_result"
    }
   ],
   "source": [
    "batch_c_two= get_results_batch(32,1,'case_one')\n",
    "np.array(batch_c_two).mean()"
   ]
  },
  {
   "cell_type": "code",
   "execution_count": null,
   "metadata": {},
   "outputs": [],
   "source": [
    "5.150730694560906"
   ]
  },
  {
   "cell_type": "code",
   "execution_count": 2,
   "metadata": {},
   "outputs": [
    {
     "ename": "NameError",
     "evalue": "name 'os' is not defined",
     "output_type": "error",
     "traceback": [
      "\u001b[0;31m----------------------------------------------------------------\u001b[0m",
      "\u001b[0;31mNameError\u001b[0m                      Traceback (most recent call last)",
      "\u001b[0;32m<ipython-input-2-e3df87ccf11a>\u001b[0m in \u001b[0;36m<module>\u001b[0;34m\u001b[0m\n\u001b[0;32m----> 1\u001b[0;31m \u001b[0mbatch_c_two\u001b[0m\u001b[0;34m=\u001b[0m \u001b[0mget_results_batch\u001b[0m\u001b[0;34m(\u001b[0m\u001b[0;36m32\u001b[0m\u001b[0;34m,\u001b[0m\u001b[0;36m7\u001b[0m\u001b[0;34m,\u001b[0m\u001b[0;34m'case_two'\u001b[0m\u001b[0;34m)\u001b[0m\u001b[0;34m\u001b[0m\u001b[0;34m\u001b[0m\u001b[0m\n\u001b[0m\u001b[1;32m      2\u001b[0m \u001b[0mnp\u001b[0m\u001b[0;34m.\u001b[0m\u001b[0marray\u001b[0m\u001b[0;34m(\u001b[0m\u001b[0mbatch_c_two\u001b[0m\u001b[0;34m)\u001b[0m\u001b[0;34m.\u001b[0m\u001b[0mmean\u001b[0m\u001b[0;34m(\u001b[0m\u001b[0;34m)\u001b[0m\u001b[0;34m\u001b[0m\u001b[0;34m\u001b[0m\u001b[0m\n",
      "\u001b[0;32m<ipython-input-1-3b816ad4af7e>\u001b[0m in \u001b[0;36mget_results_batch\u001b[0;34m(pop_size, update_time, case)\u001b[0m\n\u001b[1;32m      1\u001b[0m \u001b[0;32mdef\u001b[0m \u001b[0mget_results_batch\u001b[0m\u001b[0;34m(\u001b[0m\u001b[0mpop_size\u001b[0m\u001b[0;34m,\u001b[0m\u001b[0mupdate_time\u001b[0m\u001b[0;34m,\u001b[0m\u001b[0mcase\u001b[0m\u001b[0;34m)\u001b[0m\u001b[0;34m:\u001b[0m\u001b[0;34m\u001b[0m\u001b[0;34m\u001b[0m\u001b[0m\n\u001b[1;32m      2\u001b[0m \u001b[0;34m\u001b[0m\u001b[0m\n\u001b[0;32m----> 3\u001b[0;31m     \u001b[0mfiles\u001b[0m \u001b[0;34m=\u001b[0m \u001b[0mos\u001b[0m\u001b[0;34m.\u001b[0m\u001b[0mlistdir\u001b[0m\u001b[0;34m(\u001b[0m\u001b[0;34m'{}batch/results/{}/'\u001b[0m\u001b[0;34m.\u001b[0m\u001b[0mformat\u001b[0m\u001b[0;34m(\u001b[0m\u001b[0mresults_path\u001b[0m\u001b[0;34m,\u001b[0m\u001b[0mcase\u001b[0m\u001b[0;34m)\u001b[0m\u001b[0;34m)\u001b[0m\u001b[0;34m\u001b[0m\u001b[0;34m\u001b[0m\u001b[0m\n\u001b[0m\u001b[1;32m      4\u001b[0m \u001b[0;34m\u001b[0m\u001b[0m\n\u001b[1;32m      5\u001b[0m     \u001b[0msteps\u001b[0m \u001b[0;34m=\u001b[0m \u001b[0;34m[\u001b[0m\u001b[0;34m]\u001b[0m\u001b[0;34m\u001b[0m\u001b[0;34m\u001b[0m\u001b[0m\n",
      "\u001b[0;31mNameError\u001b[0m: name 'os' is not defined"
     ]
    }
   ],
   "source": [
    "batch_c_two= get_results_batch(32,7,'case_two')\n",
    "np.array(batch_c_two).mean()"
   ]
  },
  {
   "cell_type": "code",
   "execution_count": 90,
   "metadata": {},
   "outputs": [
    {
     "name": "stdout",
     "output_type": "stream",
     "text": [
      "50\n",
      "['population_size_32_update_days_7_short_static_sim_14_weightedseeds_coeff.pkl', 'population_size_32_update_days_7_short_static_sim_25_weightedseeds_coeff.pkl', 'population_size_32_update_days_7_short_static_sim_2_weightedseeds_coeff.pkl', 'population_size_32_update_days_7_short_static_sim_47_weightedseeds_coeff.pkl', 'population_size_32_update_days_7_short_static_sim_36_weightedseeds_coeff.pkl', 'population_size_32_update_days_7_short_static_sim_39_weightedseeds_coeff.pkl', 'population_size_32_update_days_7_short_static_sim_48_weightedseeds_coeff.pkl', 'population_size_32_update_days_7_short_static_sim_21_weightedseeds_coeff.pkl', 'population_size_32_update_days_7_short_static_sim_6_weightedseeds_coeff.pkl', 'population_size_32_update_days_7_short_static_sim_9_weightedseeds_coeff.pkl', 'population_size_32_update_days_7_short_static_sim_10_weightedseeds_coeff.pkl', 'population_size_32_update_days_7_short_static_sim_43_weightedseeds_coeff.pkl', 'population_size_32_update_days_7_short_static_sim_32_weightedseeds_coeff.pkl', 'population_size_32_update_days_7_short_static_sim_40_weightedseeds_coeff.pkl', 'population_size_32_update_days_7_short_static_sim_31_weightedseeds_coeff.pkl', 'population_size_32_update_days_7_short_static_sim_22_weightedseeds_coeff.pkl', 'population_size_32_update_days_7_short_static_sim_5_weightedseeds_coeff.pkl', 'population_size_32_update_days_7_short_static_sim_13_weightedseeds_coeff.pkl', 'population_size_32_update_days_7_short_static_sim_44_weightedseeds_coeff.pkl', 'population_size_32_update_days_7_short_static_sim_35_weightedseeds_coeff.pkl', 'population_size_32_update_days_7_short_static_sim_29_weightedseeds_coeff.pkl', 'population_size_32_update_days_7_short_static_sim_17_weightedseeds_coeff.pkl', 'population_size_32_update_days_7_short_static_sim_18_weightedseeds_coeff.pkl', 'population_size_32_update_days_7_short_static_sim_26_weightedseeds_coeff.pkl', 'population_size_32_update_days_7_short_static_sim_1_weightedseeds_coeff.pkl', 'population_size_32_update_days_7_short_static_sim_33_weightedseeds_coeff.pkl', 'population_size_32_update_days_7_short_static_sim_42_weightedseeds_coeff.pkl', 'population_size_32_update_days_7_short_static_sim_11_weightedseeds_coeff.pkl', 'population_size_32_update_days_7_short_static_sim_8_weightedseeds_coeff.pkl', 'population_size_32_update_days_7_short_static_sim_7_weightedseeds_coeff.pkl', 'population_size_32_update_days_7_short_static_sim_20_weightedseeds_coeff.pkl', 'population_size_32_update_days_7_short_static_sim_49_weightedseeds_coeff.pkl', 'population_size_32_update_days_7_short_static_sim_38_weightedseeds_coeff.pkl', 'population_size_32_update_days_7_short_static_sim_37_weightedseeds_coeff.pkl', 'population_size_32_update_days_7_short_static_sim_46_weightedseeds_coeff.pkl', 'population_size_32_update_days_7_short_static_sim_3_weightedseeds_coeff.pkl', 'population_size_32_update_days_7_short_static_sim_24_weightedseeds_coeff.pkl', 'population_size_32_update_days_7_short_static_sim_15_weightedseeds_coeff.pkl', 'population_size_32_update_days_7_short_static_sim_0_weightedseeds_coeff.pkl', 'population_size_32_update_days_7_short_static_sim_27_weightedseeds_coeff.pkl', 'population_size_32_update_days_7_short_static_sim_19_weightedseeds_coeff.pkl', 'population_size_32_update_days_7_short_static_sim_16_weightedseeds_coeff.pkl', 'population_size_32_update_days_7_short_static_sim_28_weightedseeds_coeff.pkl', 'population_size_32_update_days_7_short_static_sim_34_weightedseeds_coeff.pkl', 'population_size_32_update_days_7_short_static_sim_45_weightedseeds_coeff.pkl', 'population_size_32_update_days_7_short_static_sim_12_weightedseeds_coeff.pkl', 'population_size_32_update_days_7_short_static_sim_4_weightedseeds_coeff.pkl', 'population_size_32_update_days_7_short_static_sim_23_weightedseeds_coeff.pkl', 'population_size_32_update_days_7_short_static_sim_30_weightedseeds_coeff.pkl', 'population_size_32_update_days_7_short_static_sim_41_weightedseeds_coeff.pkl']\n"
     ]
    },
    {
     "data": {
      "text/plain": [
       "5.197172029448641"
      ]
     },
     "execution_count": 90,
     "metadata": {},
     "output_type": "execute_result"
    }
   ],
   "source": [
    "batch_c_two= get_results_batch(32,7,'case_three')\n",
    "np.array(batch_c_two).mean()"
   ]
  },
  {
   "cell_type": "code",
   "execution_count": 15,
   "metadata": {},
   "outputs": [],
   "source": [
    "#with open('to_plot_case_one_personalized_continuous.pkl','wb') as f:\n",
    "#    pickle.dump(batch_c_one,f)"
   ]
  },
  {
   "cell_type": "code",
   "execution_count": 57,
   "metadata": {},
   "outputs": [],
   "source": [
    "#with open('to_plot_case_one_batch.pkl','wb') as f:\n",
    "#    pickle.dump(batch_c_one,f)"
   ]
  },
  {
   "cell_type": "code",
   "execution_count": 137,
   "metadata": {},
   "outputs": [
    {
     "data": {
      "text/plain": [
       "471.6503056629485"
      ]
     },
     "execution_count": 137,
     "metadata": {},
     "output_type": "execute_result"
    }
   ],
   "source": [
    "math.exp(6.156237833167206)"
   ]
  },
  {
   "cell_type": "code",
   "execution_count": null,
   "metadata": {},
   "outputs": [],
   "source": [
    "5.593677643634102,5.553803400871995,5.591160655453143"
   ]
  },
  {
   "cell_type": "code",
   "execution_count": 187,
   "metadata": {},
   "outputs": [
    {
     "name": "stdout",
     "output_type": "stream",
     "text": [
      "50\n"
     ]
    },
    {
     "data": {
      "text/plain": [
       "5.769532653855995"
      ]
     },
     "execution_count": 187,
     "metadata": {},
     "output_type": "execute_result"
    }
   ],
   "source": [
    "batch_c_two= get_results_batch(32,7,'case_two')\n",
    "np.array(batch_c_two).mean()"
   ]
  },
  {
   "cell_type": "code",
   "execution_count": 177,
   "metadata": {},
   "outputs": [],
   "source": [
    "#(np.array([math.exp(s)-.5 for s in batch_c_two])).mean()"
   ]
  },
  {
   "cell_type": "code",
   "execution_count": 188,
   "metadata": {},
   "outputs": [
    {
     "name": "stdout",
     "output_type": "stream",
     "text": [
      "50\n"
     ]
    },
    {
     "data": {
      "text/plain": [
       "5.813412415319863"
      ]
     },
     "execution_count": 188,
     "metadata": {},
     "output_type": "execute_result"
    }
   ],
   "source": [
    "batch_c_two= get_results_batch(32,7,'case_three')\n",
    "np.array(batch_c_two).mean()"
   ]
  },
  {
   "cell_type": "code",
   "execution_count": 6,
   "metadata": {},
   "outputs": [],
   "source": [
    "def get_results_p_time(pop_size,update_time,case):\n",
    "    \n",
    "    files = os.listdir('{}personalized/results/{}/'.format(results_path,case))\n",
    "    \n",
    "    steps = []\n",
    "    #check population and pop_size,update_time\n",
    "    files = [f for f in files if '.DS' not in f]\n",
    "    #files = files[:50]\n",
    "    print(len(files))\n",
    "    to_return = {}\n",
    "\n",
    "    for ff in files:\n",
    "        sim = int(ff.split('sim_')[1].strip('_continuous_pretreatment_diff_wdt.pkl'))\n",
    "        print(sim)\n",
    "        groupids = {}\n",
    "        with open('{}/personalized/results/{}/{}'.\\\n",
    "              format(results_path,case,ff),'rb') as f:\n",
    "            d = pickle.load(f)\n",
    "        temp = {}\n",
    "        for k,vv in d.items():\n",
    "            #print(k)\n",
    "            if sim<50:\n",
    "                pid = k.split('-')[0]\n",
    "                time = k.split('-')[1]\n",
    "                group_id = k.split('-')[2]\n",
    "            \n",
    "              \n",
    "                if pid not in temp:\n",
    "                    temp[pid]=[]\n",
    "                temp[pid].append(vv['steps'])\n",
    "                groupids[pid]=group_id\n",
    "            if sim<50:    \n",
    "                to_return[ff]=[temp,groupids]\n",
    "            \n",
    "    return to_return"
   ]
  },
  {
   "cell_type": "code",
   "execution_count": 178,
   "metadata": {},
   "outputs": [],
   "source": [
    "with open('{}/{}'.format('../../Downloads/cases_from_cluster/case_two_two','updates_case_two_participant_32_7_7300.txt'),'r') as f:\n",
    "    l = f.readlines()"
   ]
  },
  {
   "cell_type": "code",
   "execution_count": 179,
   "metadata": {},
   "outputs": [
    {
     "data": {
      "text/plain": [
       "'p_info 2015-10-19 19:00:00 6878  3:23AM EST on Feb 25, 2019 29 -0.31972464337509376 1\\n'"
      ]
     },
     "execution_count": 179,
     "metadata": {},
     "output_type": "execute_result"
    }
   ],
   "source": [
    "l[-1]"
   ]
  },
  {
   "cell_type": "code",
   "execution_count": 25,
   "metadata": {},
   "outputs": [],
   "source": [
    "def count_done(direct,files):\n",
    "    goods =[]\n",
    "    for f in files:\n",
    "        with open('{}/{}'.format(direct,f),'r') as f:\n",
    "            l = f.readlines()\n",
    "        if  '2015-09-13 19:00:00' in  l[-1]:\n",
    "            goods.append(f)\n",
    "    return goods"
   ]
  },
  {
   "cell_type": "code",
   "execution_count": 33,
   "metadata": {},
   "outputs": [
    {
     "data": {
      "text/plain": [
       "15"
      ]
     },
     "execution_count": 33,
     "metadata": {},
     "output_type": "execute_result"
    }
   ],
   "source": [
    "ptwo = [f for f in os.listdir('../../Downloads/cases_from_cluster/case_two') if '32' in f and 'part' in f and 'no_tuning' not in f]\n",
    "good_two = count_done('../../Downloads/cases_from_cluster/case_two',ptwo)\n",
    "len(good_two)"
   ]
  },
  {
   "cell_type": "code",
   "execution_count": 34,
   "metadata": {},
   "outputs": [
    {
     "data": {
      "text/plain": [
       "15"
      ]
     },
     "execution_count": 34,
     "metadata": {},
     "output_type": "execute_result"
    }
   ],
   "source": [
    "ptwo = [f for f in os.listdir('../../Downloads/cases_from_cluster/case_three') if '32' in f and 'part' in f  and 'no_tuning' not in f]\n",
    "good_three = count_done('../../Downloads/cases_from_cluster/case_three',ptwo)\n",
    "len(good_three)"
   ]
  },
  {
   "cell_type": "code",
   "execution_count": 35,
   "metadata": {},
   "outputs": [
    {
     "data": {
      "text/plain": [
       "15"
      ]
     },
     "execution_count": 35,
     "metadata": {},
     "output_type": "execute_result"
    }
   ],
   "source": [
    "ptwo = [f for f in os.listdir('../../Downloads/cases_from_cluster/case_one') if '32' in f and 'part' in f  and 'no_tuning' not in f]\n",
    "good_three = count_done('../../Downloads/cases_from_cluster/case_one',ptwo)\n",
    "len(good_three)"
   ]
  },
  {
   "cell_type": "code",
   "execution_count": null,
   "metadata": {},
   "outputs": [],
   "source": [
    "def look_at_group_correlation(groupids,predictions):\n",
    "    group_one = []\n",
    "    group_two = []\n",
    "    \n",
    "    for k,v in predictions.items():\n",
    "        if groupids[k]=="
   ]
  }
 ],
 "metadata": {
  "kernelspec": {
   "display_name": "Python 3",
   "language": "python",
   "name": "python3"
  },
  "language_info": {
   "codemirror_mode": {
    "name": "ipython",
    "version": 3
   },
   "file_extension": ".py",
   "mimetype": "text/x-python",
   "name": "python",
   "nbconvert_exporter": "python",
   "pygments_lexer": "ipython3",
   "version": "3.6.8"
  }
 },
 "nbformat": 4,
 "nbformat_minor": 2
}
