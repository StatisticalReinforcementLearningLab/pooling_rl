{
 "cells": [
  {
   "cell_type": "code",
   "execution_count": 1,
   "metadata": {},
   "outputs": [],
   "source": [
    "import gpflow\n",
    "import numpy as np\n",
    "import math\n",
    "import tensorflow as tf\n",
    "sess = tf.Session()"
   ]
  },
  {
   "cell_type": "code",
   "execution_count": 2,
   "metadata": {},
   "outputs": [],
   "source": [
    "import get_history as gh"
   ]
  },
  {
   "cell_type": "code",
   "execution_count": null,
   "metadata": {},
   "outputs": [],
   "source": []
  },
  {
   "cell_type": "code",
   "execution_count": null,
   "metadata": {},
   "outputs": [],
   "source": []
  },
  {
   "cell_type": "code",
   "execution_count": 20,
   "metadata": {},
   "outputs": [],
   "source": [
    "\n",
    "\n",
    "\n",
    "class CustomKernel(gpflow.kernels.Kernel):\n",
    "    def __init__(self,input_dim,variance=1.0, lengthscales=1.0,\n",
    "                 active_dims=None, ARD=None, name=None):\n",
    "        super().__init__(input_dim)\n",
    "\n",
    "        self.sigma_u = tf.constant([[100.0,10.0],[10.0,100.0]])\n",
    "        \n",
    "        self.sigma_theta = tf.constant([[100.0,10.0,10.0],[10.0,100.0,10.0],\\\n",
    "                                    [10.0,10.0,100.0]])\n",
    "        \n",
    "        #gpflow.Param(1.0, transform=gpflow.transforms.positive,\n",
    "                                  #dtype=gpflow.settings.float_type)\n",
    "        \n",
    "        self.sigma_v =  tf.constant([[100.0,0.1],[0.1,100.0]])\n",
    "        #gpflow.Param(1.0, transform=gpflow.transforms.positive,\n",
    "                                  #dtype=gpflow.settings.float_type)\n",
    "        \n",
    "        ##will it freak out if there is no parameter?\n",
    "        \n",
    "    \n",
    "    @staticmethod\n",
    "    def rbf(self, X, X2):\n",
    "        return tf.exp(-(X-X2) / 2.2)\n",
    "    \n",
    "    @gpflow.params_as_tensors\n",
    "    def _scaled_square_dist(self, X, X2):\n",
    "        \"\"\"\n",
    "        Assumes each X has the form: [phi(state_action),psi(state_action),user_index,user_day_in_study_index]\n",
    "        \n",
    "        \n",
    "        \"\"\"\n",
    "        X = X / self.lengthscales\n",
    "        Xs = tf.reduce_sum(tf.square(X), axis=-1, keepdims=True)\n",
    "\n",
    "        if X2 is None:\n",
    "            dist = -2 * tf.matmul(X, X, transpose_b=True)\n",
    "            dist += Xs + tf.matrix_transpose(Xs)\n",
    "            return dist\n",
    "\n",
    "        X2 = X2 / self.lengthscales\n",
    "        X2s = tf.reduce_sum(tf.square(X2), axis=-1, keepdims=True)\n",
    "        dist = -2 * tf.matmul(X, X2, transpose_b=True)\n",
    "        dist += Xs + tf.matrix_transpose(X2s)\n",
    "        return dist\n",
    "    \n",
    "    @staticmethod\n",
    "    def _clipped_sqrt(r2):\n",
    "        # Clipping around the (single) float precision which is ~1e-45.\n",
    "        return tf.sqrt(tf.maximum(r2, 1e-40))\n",
    "    \n",
    "    def scaled_square_dist(self, X, X2):  # pragma: no cover\n",
    "        return self._scaled_square_dist(X, X2)\n",
    "    \n",
    "    @gpflow.params_as_tensors\n",
    "    def K_r2(self, X, X2):\n",
    "        return self.variance * tf.exp(-r2 / 2.)\n",
    "    \n",
    "    @gpflow.params_as_tensors\n",
    "    def K(self, X, X2=None, presliced=False):\n",
    "        \n",
    "        #feature_vector_one = X[0:4]\n",
    "        #time_index_one = X[4:5]\n",
    "        #user_index_one = X[5:6]\n",
    "        \n",
    "        \n",
    "        #if X2!=None:\n",
    "            #feature_vector_two = X2[0:4]\n",
    "            #time_index_two = X2[4:5]\n",
    "            #user_index_two = X2[5:6]\n",
    "\n",
    "        user_id_one = X[-2]\n",
    "        day_one = X[-1]\n",
    "        f_one = X[0:3]\n",
    "        g_one = X[3:5]\n",
    "        rho_term = 1\n",
    "        \n",
    "        result = 1\n",
    "        \n",
    "        if X2!=None:\n",
    "            user_id_two = X2[-2]\n",
    "            day_two = X2[-1]\n",
    "            f_two = X2[0:3]\n",
    "            g_two = X2[3:5]\n",
    "        \n",
    "        \n",
    "            rho_term = self.rbf(X,X2) \n",
    "            \n",
    "            baselines = tf.matmul(f_one,self.sigma_theta,a_transpose=True)\n",
    "            baselines = tf.matmul(baselines,f_two)\n",
    "            \n",
    "            print(baselines)\n",
    "            \n",
    "            if user_one==user_two:\n",
    "                user_term = self.sigma_u\n",
    "            else:\n",
    "                user_term = tf.constant([0.0,0.0,0.0,0.0])\n",
    "            \n",
    "            effect_term = tf.scalar_mul(rho_term,self.sigma_v)\n",
    "            effect_term = tf.add(user_term,effect_term)\n",
    "            effects = tf.matmul(g_one,effect_term,a_transpose=True)\n",
    "            effects = tf.matmul(effects,g_two)\n",
    "            resulf = tf.add(baselines,effects)\n",
    "            #stuff to return\n",
    "            \n",
    "            \n",
    "      \n",
    "        \n",
    "        return result\n",
    "       \n",
    "        \n",
    "        #self.variance * tf.minimum(X, tf.transpose(X2))\n",
    "\n",
    "    @gpflow.params_as_tensors\n",
    "    def Kdiag(self, X, presliced=False):\n",
    "        return tf.fill(tf.shape(X)[:-1], tf.squeeze(self.variance))"
   ]
  },
  {
   "cell_type": "code",
   "execution_count": 7,
   "metadata": {},
   "outputs": [
    {
     "data": {
      "text/plain": [
       "{0: 1,\n",
       " 2: 2,\n",
       " 11: 3,\n",
       " 15: 4,\n",
       " 19: 5,\n",
       " 26: 6,\n",
       " 35: 7,\n",
       " 37: 8,\n",
       " 43: 9,\n",
       " 44: 10,\n",
       " 47: 11,\n",
       " 58: 12,\n",
       " 59: 13,\n",
       " 74: 14,\n",
       " 78: 15,\n",
       " 79: 16,\n",
       " 80: 17,\n",
       " 82: 18,\n",
       " 91: 19,\n",
       " 93: 20,\n",
       " 1: 1,\n",
       " 3: 2,\n",
       " 6: 3,\n",
       " 7: 4,\n",
       " 8: 5,\n",
       " 12: 6,\n",
       " 14: 7,\n",
       " 22: 8,\n",
       " 23: 9,\n",
       " 27: 10,\n",
       " 28: 11,\n",
       " 32: 12,\n",
       " 41: 13,\n",
       " 46: 14,\n",
       " 48: 15,\n",
       " 63: 16,\n",
       " 64: 17,\n",
       " 66: 18,\n",
       " 68: 19,\n",
       " 76: 20,\n",
       " 83: 21,\n",
       " 92: 22,\n",
       " 94: 23,\n",
       " 4: 1,\n",
       " 9: 2,\n",
       " 16: 3,\n",
       " 21: 4,\n",
       " 24: 5,\n",
       " 25: 6,\n",
       " 33: 7,\n",
       " 34: 8,\n",
       " 38: 9,\n",
       " 40: 10,\n",
       " 51: 11,\n",
       " 52: 12,\n",
       " 70: 13,\n",
       " 71: 14,\n",
       " 72: 15,\n",
       " 81: 16,\n",
       " 87: 17,\n",
       " 88: 18,\n",
       " 89: 19,\n",
       " 90: 20,\n",
       " 99: 21,\n",
       " 5: 1,\n",
       " 10: 2,\n",
       " 17: 3,\n",
       " 18: 4,\n",
       " 20: 5,\n",
       " 30: 6,\n",
       " 39: 7,\n",
       " 45: 8,\n",
       " 49: 9,\n",
       " 50: 10,\n",
       " 54: 11,\n",
       " 56: 12,\n",
       " 57: 13,\n",
       " 61: 14,\n",
       " 62: 15,\n",
       " 65: 16,\n",
       " 67: 17,\n",
       " 69: 18,\n",
       " 73: 19,\n",
       " 75: 20,\n",
       " 84: 21,\n",
       " 86: 22,\n",
       " 95: 23,\n",
       " 96: 24,\n",
       " 98: 25,\n",
       " 13: 1,\n",
       " 29: 2,\n",
       " 31: 3,\n",
       " 36: 4,\n",
       " 42: 5,\n",
       " 53: 6,\n",
       " 55: 7,\n",
       " 60: 8,\n",
       " 77: 9,\n",
       " 85: 10,\n",
       " 97: 11}"
      ]
     },
     "execution_count": 7,
     "metadata": {},
     "output_type": "execute_result"
    }
   ],
   "source": []
  },
  {
   "cell_type": "code",
   "execution_count": 8,
   "metadata": {},
   "outputs": [],
   "source": [
    "##need to reformat history\n",
    "def put_x_together(h):\n",
    "    X = []\n",
    "    \n",
    "    for i in range(len(h.states)):\n",
    "        state_vector = h.states[i]\n",
    "        state_vector.append(h.users[i])\n",
    "        state_vector.append(h.day_function[i])\n",
    "        X.append(state_vector)\n",
    "    return X\n"
   ]
  },
  {
   "cell_type": "code",
   "execution_count": 11,
   "metadata": {},
   "outputs": [],
   "source": [
    "history = gh.get_history(5,100,5)"
   ]
  },
  {
   "cell_type": "code",
   "execution_count": 12,
   "metadata": {},
   "outputs": [],
   "source": [
    "X = put_x_together(history)"
   ]
  },
  {
   "cell_type": "code",
   "execution_count": 14,
   "metadata": {},
   "outputs": [],
   "source": [
    "X = np.array(X)"
   ]
  },
  {
   "cell_type": "code",
   "execution_count": 15,
   "metadata": {},
   "outputs": [],
   "source": [
    "y = np.array([[r] for r in history.rewards])"
   ]
  },
  {
   "cell_type": "code",
   "execution_count": 21,
   "metadata": {},
   "outputs": [
    {
     "name": "stderr",
     "output_type": "stream",
     "text": [
      "WARNING:gpflow.logdensities:Shape of x must be 2D at computation.\n",
      "WARNING:gpflow.logdensities:Shape of mu may be unknown or not 2D.\n"
     ]
    }
   ],
   "source": [
    "k =  CustomKernel(5)\n",
    "m = gpflow.models.GPR(X,y, kern=k)"
   ]
  },
  {
   "cell_type": "code",
   "execution_count": null,
   "metadata": {},
   "outputs": [],
   "source": []
  },
  {
   "cell_type": "code",
   "execution_count": 22,
   "metadata": {},
   "outputs": [
    {
     "name": "stdout",
     "output_type": "stream",
     "text": [
      "INFO:tensorflow:Optimization terminated with:\n",
      "  Message: b'CONVERGENCE: NORM_OF_PROJECTED_GRADIENT_<=_PGTOL'\n",
      "  Objective function value: 643.655810\n",
      "  Number of iterations: 36\n",
      "  Number of functions evaluations: 37\n"
     ]
    },
    {
     "name": "stderr",
     "output_type": "stream",
     "text": [
      "INFO:tensorflow:Optimization terminated with:\n",
      "  Message: b'CONVERGENCE: NORM_OF_PROJECTED_GRADIENT_<=_PGTOL'\n",
      "  Objective function value: 643.655810\n",
      "  Number of iterations: 36\n",
      "  Number of functions evaluations: 37\n"
     ]
    }
   ],
   "source": [
    "gpflow.train.ScipyOptimizer().minimize(m,session=sess)"
   ]
  },
  {
   "cell_type": "code",
   "execution_count": 23,
   "metadata": {},
   "outputs": [
    {
     "data": {
      "text/html": [
       "<div>\n",
       "<style scoped>\n",
       "    .dataframe tbody tr th:only-of-type {\n",
       "        vertical-align: middle;\n",
       "    }\n",
       "\n",
       "    .dataframe tbody tr th {\n",
       "        vertical-align: top;\n",
       "    }\n",
       "\n",
       "    .dataframe thead th {\n",
       "        text-align: right;\n",
       "    }\n",
       "</style>\n",
       "<table border=\"1\" class=\"dataframe\">\n",
       "  <thead>\n",
       "    <tr style=\"text-align: right;\">\n",
       "      <th></th>\n",
       "      <th>class</th>\n",
       "      <th>prior</th>\n",
       "      <th>transform</th>\n",
       "      <th>trainable</th>\n",
       "      <th>shape</th>\n",
       "      <th>fixed_shape</th>\n",
       "      <th>value</th>\n",
       "    </tr>\n",
       "  </thead>\n",
       "  <tbody>\n",
       "    <tr>\n",
       "      <th>GPR/likelihood/variance</th>\n",
       "      <td>Parameter</td>\n",
       "      <td>None</td>\n",
       "      <td>+ve</td>\n",
       "      <td>True</td>\n",
       "      <td>()</td>\n",
       "      <td>True</td>\n",
       "      <td>22719.843323996523</td>\n",
       "    </tr>\n",
       "  </tbody>\n",
       "</table>\n",
       "</div>"
      ],
      "text/plain": [
       "                             class prior transform  trainable shape  \\\n",
       "GPR/likelihood/variance  Parameter  None       +ve       True    ()   \n",
       "\n",
       "                         fixed_shape               value  \n",
       "GPR/likelihood/variance         True  22719.843323996523  "
      ]
     },
     "execution_count": 23,
     "metadata": {},
     "output_type": "execute_result"
    }
   ],
   "source": [
    "m.as_pandas_table()"
   ]
  },
  {
   "cell_type": "code",
   "execution_count": 22,
   "metadata": {},
   "outputs": [],
   "source": [
    "def obtain_kernel_and_sigma_u(all_xs,all_ys):\n",
    "    k =  CustomKernel(all_xs.shape[1])\n",
    "    m = gpflow.models.GPR(all_xs, all_ys, kern=k)\n",
    "    gpflow.train.ScipyOptimizer().minimize(m,session=sess)\n",
    "    sigma_u = m.kern.sigma_u.value\n",
    "    cov = np.zeros((all_xs.shape[0],all_xs.shape[0]))\n",
    "    print(m.as_pandas_table())\n",
    "    for i in range(all_xs.shape[0]):\n",
    "        for j in range(all_xs.shape[0]):\n",
    "            term = m.kern.K(all_xs[i],all_xs[j])\n",
    "            cov[i][j]=term.eval(session=sess)\n",
    "    return cov,sigma_u"
   ]
  },
  {
   "cell_type": "code",
   "execution_count": 23,
   "metadata": {},
   "outputs": [
    {
     "name": "stderr",
     "output_type": "stream",
     "text": [
      "WARNING:gpflow.logdensities:Shape of x must be 2D at computation.\n",
      "WARNING:gpflow.logdensities:Shape of mu may be unknown or not 2D.\n"
     ]
    },
    {
     "name": "stdout",
     "output_type": "stream",
     "text": [
      "INFO:tensorflow:Optimization terminated with:\n",
      "  Message: b'CONVERGENCE: NORM_OF_PROJECTED_GRADIENT_<=_PGTOL'\n",
      "  Objective function value: 0.312148\n",
      "  Number of iterations: 5\n",
      "  Number of functions evaluations: 9\n"
     ]
    },
    {
     "name": "stderr",
     "output_type": "stream",
     "text": [
      "INFO:tensorflow:Optimization terminated with:\n",
      "  Message: b'CONVERGENCE: NORM_OF_PROJECTED_GRADIENT_<=_PGTOL'\n",
      "  Objective function value: 0.312148\n",
      "  Number of iterations: 5\n",
      "  Number of functions evaluations: 9\n"
     ]
    },
    {
     "name": "stdout",
     "output_type": "stream",
     "text": [
      "                             class prior transform  trainable shape  \\\n",
      "GPR/kern/lengthscales    Parameter  None       +ve       True    ()   \n",
      "GPR/kern/sigma_u         Parameter  None       +ve       True    ()   \n",
      "GPR/likelihood/variance  Parameter  None       +ve       True    ()   \n",
      "\n",
      "                         fixed_shape                 value  \n",
      "GPR/kern/lengthscales           True                   1.0  \n",
      "GPR/kern/sigma_u                True    0.1500026161960994  \n",
      "GPR/likelihood/variance         True  0.020000046520069675  \n"
     ]
    },
    {
     "data": {
      "text/plain": [
       "(array([[0.15000262, 0.15000262],\n",
       "        [0.15000262, 0.15000262]]), array(0.15000262))"
      ]
     },
     "execution_count": 23,
     "metadata": {},
     "output_type": "execute_result"
    }
   ],
   "source": [
    "obtain_kernel_and_sigma_u(X,y)\n"
   ]
  },
  {
   "cell_type": "code",
   "execution_count": 118,
   "metadata": {},
   "outputs": [
    {
     "data": {
      "text/plain": [
       "<tf.Tensor 'norm_9/Squeeze:0' shape=() dtype=float32>"
      ]
     },
     "execution_count": 118,
     "metadata": {},
     "output_type": "execute_result"
    }
   ],
   "source": [
    "#one = tf.constant([0,0])\n",
    "#two = tf.constant([1,1])\n",
    "inp= tf.constant([[1.0, 2, 3], [4, 5, 6.0], [7.0, 8, 9]])\n",
    "tf.norm([inp,inp],ord=2)\n"
   ]
  },
  {
   "cell_type": "code",
   "execution_count": 16,
   "metadata": {},
   "outputs": [],
   "source": [
    "\n",
    "gr = m.kern.K(X,X)"
   ]
  },
  {
   "cell_type": "code",
   "execution_count": 19,
   "metadata": {},
   "outputs": [
    {
     "data": {
      "text/plain": [
       "(2, 6)"
      ]
     },
     "execution_count": 19,
     "metadata": {},
     "output_type": "execute_result"
    }
   ],
   "source": [
    "X.shape"
   ]
  },
  {
   "cell_type": "code",
   "execution_count": 20,
   "metadata": {},
   "outputs": [
    {
     "data": {
      "text/plain": [
       "1.0"
      ]
     },
     "execution_count": 20,
     "metadata": {},
     "output_type": "execute_result"
    }
   ],
   "source": [
    "gr.eval()"
   ]
  },
  {
   "cell_type": "code",
   "execution_count": null,
   "metadata": {},
   "outputs": [],
   "source": []
  }
 ],
 "metadata": {
  "kernelspec": {
   "display_name": "Python 3",
   "language": "python",
   "name": "python3"
  },
  "language_info": {
   "codemirror_mode": {
    "name": "ipython",
    "version": 3
   },
   "file_extension": ".py",
   "mimetype": "text/x-python",
   "name": "python",
   "nbconvert_exporter": "python",
   "pygments_lexer": "ipython3",
   "version": "3.6.8"
  }
 },
 "nbformat": 4,
 "nbformat_minor": 2
}
