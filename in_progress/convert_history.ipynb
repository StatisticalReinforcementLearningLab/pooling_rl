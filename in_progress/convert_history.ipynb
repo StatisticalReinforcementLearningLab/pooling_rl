{
 "cells": [
  {
   "cell_type": "code",
   "execution_count": 20,
   "metadata": {},
   "outputs": [],
   "source": [
    "import pickle\n",
    "import numpy as np\n",
    "import os\n",
    "import sys\n",
    "sys.path.append('../simulation')\n",
    "import study\n",
    "from sklearn import preprocessing"
   ]
  },
  {
   "cell_type": "code",
   "execution_count": 13,
   "metadata": {},
   "outputs": [],
   "source": [
    "root =  '../../../../Volumes/dav/HeartSteps/pooling_rl_shared_data/temporary_files/'"
   ]
  },
  {
   "cell_type": "code",
   "execution_count": 14,
   "metadata": {},
   "outputs": [],
   "source": [
    "def get_experiment():\n",
    "    with open('{}simulated_history.pkl'.format(root),'rb') as f:\n",
    "        return pickle.load(f)"
   ]
  },
  {
   "cell_type": "code",
   "execution_count": 50,
   "metadata": {},
   "outputs": [],
   "source": [
    "###eventually sort by time date"
   ]
  },
  {
   "cell_type": "code",
   "execution_count": 17,
   "metadata": {},
   "outputs": [],
   "source": [
    "def create_phi(exp,pi):\n",
    "    indices = ['weather','location']\n",
    "    g0 = ['location']\n",
    "    f1=['ltps']\n",
    "    \n",
    "    ##returns phi and psi indices\n",
    "    \n",
    "    all_data = []\n",
    "    steps=[]\n",
    "    for user_id,d in exp.population.items():\n",
    "        history = d.history\n",
    "        history_keys = sorted(history)\n",
    "        for hk in history_keys:\n",
    "            \n",
    "            h = history[hk]\n",
    "            if h['decision_time']:\n",
    "                v = [1]\n",
    "                v.extend([h[i] for i in indices])\n",
    "                v.append(pi*1)\n",
    "                v.extend([pi*h[i] for i in f1])\n",
    "                action = h['action']\n",
    "                if action<0:\n",
    "                    action=0\n",
    "        \n",
    "                v.append((action-pi)*1)\n",
    "                v.extend([(action-pi)*h[i] for i in f1])\n",
    "                v.append(action)\n",
    "                v.append(float(user_id))\n",
    "                v.append(float(h['study_day']))\n",
    "                all_data.append(v)\n",
    "                steps.append(h['steps'])\n",
    "    return all_data,steps"
   ]
  },
  {
   "cell_type": "code",
   "execution_count": 18,
   "metadata": {},
   "outputs": [],
   "source": [
    "exp = get_experiment()"
   ]
  },
  {
   "cell_type": "code",
   "execution_count": 19,
   "metadata": {},
   "outputs": [],
   "source": [
    "ad = create_phi(exp,.6)"
   ]
  },
  {
   "cell_type": "code",
   "execution_count": 21,
   "metadata": {},
   "outputs": [],
   "source": [
    "new_x = preprocessing.scale(np.array(ad[0]))"
   ]
  },
  {
   "cell_type": "code",
   "execution_count": 22,
   "metadata": {},
   "outputs": [],
   "source": [
    "new_y = preprocessing.scale(np.array(ad[1]))"
   ]
  },
  {
   "cell_type": "code",
   "execution_count": 26,
   "metadata": {},
   "outputs": [
    {
     "data": {
      "text/plain": [
       "8030"
      ]
     },
     "execution_count": 26,
     "metadata": {},
     "output_type": "execute_result"
    }
   ],
   "source": [
    "len(new_x)"
   ]
  },
  {
   "cell_type": "code",
   "execution_count": 64,
   "metadata": {},
   "outputs": [],
   "source": [
    "##save this and then mess around with kernel"
   ]
  },
  {
   "cell_type": "code",
   "execution_count": 35,
   "metadata": {},
   "outputs": [],
   "source": [
    "    with open('{}parsed_to_phi.pkl'.format(root),'wb') as f:\n",
    "        pickle.dump({'processed_history':new_x,'g0_index':0,'a_f0_index':7,'steps':new_y},f)"
   ]
  },
  {
   "cell_type": "code",
   "execution_count": 34,
   "metadata": {},
   "outputs": [],
   "source": [
    "#next, don't normalize the user id and day in study\n",
    "#set([i[9] for i in new_x[:1000]])"
   ]
  },
  {
   "cell_type": "code",
   "execution_count": null,
   "metadata": {},
   "outputs": [],
   "source": []
  }
 ],
 "metadata": {
  "kernelspec": {
   "display_name": "Python 3",
   "language": "python",
   "name": "python3"
  },
  "language_info": {
   "codemirror_mode": {
    "name": "ipython",
    "version": 3
   },
   "file_extension": ".py",
   "mimetype": "text/x-python",
   "name": "python",
   "nbconvert_exporter": "python",
   "pygments_lexer": "ipython3",
   "version": "3.6.8"
  }
 },
 "nbformat": 4,
 "nbformat_minor": 2
}
