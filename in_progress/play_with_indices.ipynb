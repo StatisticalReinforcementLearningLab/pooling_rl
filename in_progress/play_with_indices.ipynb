{
 "cells": [
  {
   "cell_type": "code",
   "execution_count": 31,
   "metadata": {},
   "outputs": [],
   "source": [
    "import pickle\n",
    "import pickle\n",
    "import numpy as np\n",
    "import os\n",
    "import sys\n",
    "sys.path.append('../simulation')\n",
    "import study\n",
    "from sklearn import preprocessing\n",
    "import time"
   ]
  },
  {
   "cell_type": "code",
   "execution_count": 18,
   "metadata": {},
   "outputs": [],
   "source": [
    "def get_phi(exp,pi,baseline_features,responsivity_features):\n",
    "        all_data = []\n",
    "        steps=[]\n",
    "      \n",
    "\n",
    "        ##might add pi to the user's history\n",
    "        for user_id,user_data in exp.population.items():\n",
    "            history = user_data.history\n",
    "            history_keys = sorted({k:v for k,v in history.items() if v['decision_time']})\n",
    "          \n",
    "            for hk in history_keys:\n",
    "            \n",
    "                h = history[hk]\n",
    "               \n",
    "                v = [1]\n",
    "                v.extend([h[i] for i in baseline_features])\n",
    "                v.append(pi*1)\n",
    "                v.extend([pi*h[i] for i in responsivity_features])\n",
    "                action = h['action']\n",
    "                if action<0:\n",
    "                    action=0\n",
    "                \n",
    "                v.append((action-pi)*1)\n",
    "                v.extend([(action-pi)*h[i] for i in responsivity_features])\n",
    "                v.append(action)\n",
    "                v.append(float(user_id))\n",
    "                v.append(float(h['study_day']))\n",
    "                all_data.append(v)\n",
    "                steps.append(h['steps'])\n",
    "    \n",
    "    \n",
    "        return all_data,steps"
   ]
  },
  {
   "cell_type": "code",
   "execution_count": 6,
   "metadata": {},
   "outputs": [],
   "source": [
    "root =  '../../../../Volumes/dav/HeartSteps/pooling_rl_shared_data/temporary_files/'\n",
    "def get_experiment():\n",
    "    with open('{}simulated_history.pkl'.format(root),'rb') as f:\n",
    "        return pickle.load(f)"
   ]
  },
  {
   "cell_type": "code",
   "execution_count": 11,
   "metadata": {},
   "outputs": [],
   "source": [
    "exp = get_experiment()"
   ]
  },
  {
   "cell_type": "code",
   "execution_count": 19,
   "metadata": {},
   "outputs": [],
   "source": [
    "data,steps = get_phi(exp,.6,['weather','location','ltps'],['weather','location','ltps'])"
   ]
  },
  {
   "cell_type": "code",
   "execution_count": 83,
   "metadata": {},
   "outputs": [],
   "source": [
    "def new_standardize(X,y):\n",
    "    new_x = [x[:-2] for x in X]\n",
    "    new_x = preprocessing.scale(np.array(new_x))\n",
    "    to_return = np.zeros((len(X),len(X[0])))\n",
    "    for i in range(len(X)):\n",
    "        #temp=np.zeros(len(X[i]))\n",
    "        to_return[i][:-2]=new_x[i]\n",
    "        to_return[i][-2]=X[i][-2]\n",
    "        to_return[i][-1]=X[i][-1]\n",
    "    \n",
    "    return to_return,preprocessing.scale(np.array(y))"
   ]
  },
  {
   "cell_type": "code",
   "execution_count": 86,
   "metadata": {},
   "outputs": [],
   "source": [
    "def new_standardize_faster(X,y):\n",
    "    new_x = [x[:-2] for x in X]\n",
    "    new_x = preprocessing.scale(np.array(new_x))\n",
    "    to_return = np.zeros((len(X),len(X[0])))\n",
    "    for i in range(len(X)):\n",
    "        temp=new_x[i].tolist()\n",
    "        temp.extend(X[i][-2:])\n",
    "        to_return[i]=np.array(temp)\n",
    "    return to_return,preprocessing.scale(np.array(y))"
   ]
  },
  {
   "cell_type": "code",
   "execution_count": 87,
   "metadata": {},
   "outputs": [],
   "source": [
    "times_one = []\n",
    "times_two = []\n",
    "for i in range(100):\n",
    "    start = time.time()\n",
    "    tx = new_standardize(data,steps)\n",
    "    end = time.time()\n",
    "    times_one.append(end-start)\n",
    "    start = time.time()\n",
    "    tx = new_standardize_faster(data,steps)\n",
    "    end = time.time()\n",
    "    times_two.append(end-start)"
   ]
  },
  {
   "cell_type": "code",
   "execution_count": 88,
   "metadata": {},
   "outputs": [
    {
     "name": "stdout",
     "output_type": "stream",
     "text": [
      "0.0258988356590271\n",
      "0.035096099376678465\n"
     ]
    }
   ],
   "source": [
    "print(np.array(times_one).mean())\n",
    "print(np.array(times_two).mean())"
   ]
  },
  {
   "cell_type": "code",
   "execution_count": 47,
   "metadata": {},
   "outputs": [
    {
     "name": "stdout",
     "output_type": "stream",
     "text": [
      "0.04175996780395508\n"
     ]
    }
   ],
   "source": [
    "start = time.time()\n",
    "tx = new_standardize_faster(data,steps)\n",
    "end = time.time()\n",
    "print(end-start)"
   ]
  },
  {
   "cell_type": "code",
   "execution_count": 53,
   "metadata": {},
   "outputs": [
    {
     "data": {
      "text/plain": [
       "array([ 0.        ,  0.9898399 ,  0.28742215, -0.49941618,  0.        ,\n",
       "        0.9898399 ,  0.28742215, -0.49941618, -0.36301921, -1.06834361,\n",
       "       -0.44676152,  0.4020273 , -0.36301921,  2.        , 67.        ])"
      ]
     },
     "execution_count": 53,
     "metadata": {},
     "output_type": "execute_result"
    }
   ],
   "source": [
    "def create_H(num_baseline_features,num_responsivity_features):\n",
    "    ##for now have fixed random effects size one\n",
    "    \n",
    "    random_effect_one = [1]\n",
    "    random_effect_two = [1]\n",
    "    \n",
    "    row_one = []\n",
    "    \n",
    "    \n",
    "    \n",
    "    #np.transpose(np.array([[1]+[0 for i in range(context_len)]+[0,0,0,0],[0]+[0 for i in range(context_len)]+[1,0,1,0]]))"
   ]
  },
  {
   "cell_type": "code",
   "execution_count": null,
   "metadata": {},
   "outputs": [],
   "source": []
  }
 ],
 "metadata": {
  "kernelspec": {
   "display_name": "Python 3",
   "language": "python",
   "name": "python3"
  },
  "language_info": {
   "codemirror_mode": {
    "name": "ipython",
    "version": 3
   },
   "file_extension": ".py",
   "mimetype": "text/x-python",
   "name": "python",
   "nbconvert_exporter": "python",
   "pygments_lexer": "ipython3",
   "version": "3.6.8"
  }
 },
 "nbformat": 4,
 "nbformat_minor": 2
}
