{
 "cells": [
  {
   "cell_type": "code",
   "execution_count": 1,
   "metadata": {},
   "outputs": [],
   "source": [
    "import pandas as pd\n",
    "import sys\n",
    "sys.path\n",
    "sys.path.append('../models')\n",
    "import numpy as np\n",
    "import pickle\n",
    "import random\n",
    "import os\n",
    "import math\n",
    "import sim_functions_cleaner  as sf\n",
    "import operator\n",
    "import study\n",
    "import time as time_module\n",
    "\n",
    "import TS_personal_params_pooled as pp\n",
    "import TS_global_params_pooled as gtp\n",
    "from numpy.random import uniform\n",
    "\n",
    "#sys.path.append('../simulation')\n",
    "import TS_fancy_pooled \n",
    "import TS\n",
    "#import TS_fancy_pooled \n",
    "import eta\n",
    "import pooling_bandits as pb\n",
    "import warnings \n",
    "warnings.simplefilter('ignore')\n",
    "from sklearn import preprocessing\n",
    "import tensorflow as tf\n",
    "import gc\n",
    "import feature_transformations as tf\n",
    "\n",
    "import matplotlib.pyplot as plt\n",
    "%matplotlib inline"
   ]
  },
  {
   "cell_type": "code",
   "execution_count": null,
   "metadata": {},
   "outputs": [],
   "source": []
  },
  {
   "cell_type": "code",
   "execution_count": 2,
   "metadata": {},
   "outputs": [],
   "source": [
    "from pympler import muppy\n",
    "all_objects = muppy.get_objects()\n",
    "from pympler import summary\n"
   ]
  },
  {
   "cell_type": "code",
   "execution_count": 3,
   "metadata": {},
   "outputs": [],
   "source": [
    "##for each person generate dates\n",
    "##easiest to take from original data, this might best mimic actual situation "
   ]
  },
  {
   "cell_type": "code",
   "execution_count": 4,
   "metadata": {},
   "outputs": [],
   "source": [
    "#root =  '../../../../Volumes/dav/HeartSteps/pooling_rl_shared_data/processed/'"
   ]
  },
  {
   "cell_type": "code",
   "execution_count": 5,
   "metadata": {},
   "outputs": [],
   "source": [
    "write_directory = '../temp'"
   ]
  },
  {
   "cell_type": "code",
   "execution_count": 6,
   "metadata": {},
   "outputs": [],
   "source": [
    "def initialize_policy_params_TS(experiment,update_period,standardize=False):\n",
    "    #,'location_1','location_2','location_3'\n",
    "    #'continuous_temp',\n",
    "    global_p =gtp.TS_global_params(21,baseline_keys=['tod','dow','pretreatment','location'],psi_features=[0,5], responsivity_keys= ['tod','dow','pretreatment','location'])\n",
    "    personal_p = pp.TS_personal_params()\n",
    "    #global_p =gtp.TS_global_params(10,context_dimension)\n",
    "    \n",
    "    \n",
    "    \n",
    "    #global_p.mu_dimension = 64\n",
    "\n",
    "    global_p.kdim =24\n",
    "    #194\n",
    "    global_p.baseline_indices = [i for i in range(24)]\n",
    "    #[i for i in range(192)]\n",
    "    #[0,1,2,3,4,5,6]\n",
    "    global_p.psi_indices =[0,5]\n",
    "    #[0,64]\n",
    "    global_p.user_id_index =21\n",
    " \n",
    "    global_p.psi_features =[0,5]\n",
    "    #[0,64]\n",
    "    \n",
    "    global_p.update_period = update_period\n",
    "    \n",
    "    global_p.standardize = standardize\n",
    "    #print(type(personal_p))\n",
    "    \n",
    "    for person in experiment.population.keys():\n",
    "        experiment.population[person].root = '../../regal/murphy_lab/pooling/distributions/'\n",
    "        initial_context = [0 for i in range(global_p.theta_dim)]\n",
    "        personal_p.mus0[person]= global_p.get_mu0(initial_context)\n",
    "        personal_p.mus1[person]= global_p.get_mu1(global_p.num_baseline_features)\n",
    "        personal_p.mus2[person]= global_p.get_mu2(global_p.num_responsivity_features)\n",
    "        \n",
    "        personal_p.sigmas0[person]= global_p.get_asigma(len( personal_p.mus0[person]))\n",
    "        personal_p.sigmas1[person]= global_p.get_asigma(global_p.num_baseline_features+1)\n",
    "        personal_p.sigmas2[person]= global_p.get_asigma( global_p.num_responsivity_features+1)\n",
    "        \n",
    "        \n",
    "        \n",
    "        personal_p.batch[person]=[[] for i in range(len(experiment.person_to_time[person]))]\n",
    "        personal_p.batch_index[person]=0\n",
    "        \n",
    "        #personal_p.etas[person]=eta.eta()\n",
    "        \n",
    "        personal_p.last_update[person]=experiment.person_to_time[person][0]\n",
    "        \n",
    "        \n",
    "    return global_p ,personal_p     "
   ]
  },
  {
   "cell_type": "code",
   "execution_count": 7,
   "metadata": {},
   "outputs": [],
   "source": [
    "def get_optimal_reward(beta,states):\n",
    "    return np.dot(beta,states)"
   ]
  },
  {
   "cell_type": "code",
   "execution_count": 8,
   "metadata": {},
   "outputs": [],
   "source": [
    "def new_kind_of_simulation(experiment,policy=None,personal_policy_params=None,global_policy_params=None,which_gen=None,tf = None):\n",
    "    #write_directory = '../../murphy_lab/lab/pooling/temp'\n",
    "    experiment.last_update_day=experiment.study_days[0]\n",
    "    for time in experiment.study_days:\n",
    "        \n",
    "        #if time> experiment.study_days[0]:\n",
    "        #history  = pb.make_history(experiment)\n",
    "        if time==experiment.last_update_day+pd.DateOffset(days=global_policy_params.update_period):\n",
    "            experiment.last_update_day=time\n",
    "            #print('Global update', time,global_policy_params.decision_times, file=open('updates_{}_{}.txt'.format(len(experiment.population),global_policy_params.update_period), 'a'))\n",
    "            if global_policy_params.decision_times>2:\n",
    "                global_policy_params.last_global_update_time=time\n",
    "              \n",
    "        tod = sf.get_time_of_day(time)\n",
    "        dow = sf.get_day_of_week(time)\n",
    "        #if time==experiment.study_days[0]:\n",
    "           # print('init weather')\n",
    "         #   weather = tf.get_weather_prior(tod,time.month,seed=experiment.rando_gen)\n",
    "          #  temperature = tf.continuous_temperature(weather)\n",
    "        #elif time.hour in experiment.weather_update_hours and time.minute==0:\n",
    "            #weather = tf.get_next_weather(str(tod),str(time.month),weather,seed=experiment.rando_gen)\n",
    "            #temperature = tf.continuous_temperature(weather)\n",
    "            ##location depends on person \n",
    "            \n",
    "        for person in experiment.dates_to_people[time]:\n",
    "                dt=False\n",
    "                action = 0 \n",
    "                prob=0\n",
    "                #1\n",
    "                ##for every active person update person specific aspects of their context\n",
    "                participant = experiment.population[person]\n",
    "                participant.set_tod(tod)\n",
    "                participant.set_dow(dow)\n",
    "                \n",
    "                availability = (participant.rando_gen.uniform() < 0.8)\n",
    "                participant.set_available(availability)\n",
    "                \n",
    "                if participant.pid==0 and time in participant.decision_times:\n",
    "                    print(np.__version__)\n",
    "                    print(experiment.sim_number)\n",
    "                    print(participant.rando_gen.rand())\n",
    "                    print(context_dict)\n",
    "                    \n",
    "                \n",
    "                if time==participant.last_update_day+pd.DateOffset(days=global_policy_params.update_period):\n",
    "                    \n",
    "                    history = participant.history\n",
    "                    \n",
    "                    #print(participant.pid)\n",
    "                    #print('updated')\n",
    "                    #print(len(history))\n",
    "                    #print(participant.last_update_day)\n",
    "                    #print(history)\n",
    "                    #return {participant.pid:history}\n",
    "                    temp_hist = tf.get_history_decision_time_avail_single({participant.pid:history},time)\n",
    "                    \n",
    "                    temp_hist= tf.history_semi_continuous(temp_hist,global_policy_params)\n",
    "                    #sf.get_data_for_txt_effect_u\n",
    "                    \n",
    "                    context,steps,probs,actions= tf.get_form_TS(temp_hist)\n",
    "                    #sf.get_data_for_txt_effect_update(history,global_policy_params)\n",
    "                       \n",
    "                    #phi = get_phi(context,probs,actions,[i for i in range(len(context[0]))],[i for i in range(len(context[0]))])\n",
    "                    \n",
    "                    temp = TS.policy_update_ts_new( context,steps,probs,actions,global_policy_params.sigma,\\\n",
    "                                               personal_policy_params.mus1[participant.pid],\\\n",
    "                                               personal_policy_params.sigmas1[participant.pid],\\\n",
    "                                               personal_policy_params.mus2[participant.pid],\\\n",
    "                                               personal_policy_params.sigmas2[participant.pid],\n",
    "                                                \n",
    "                                              )\n",
    "                    mu_beta = temp[0]\n",
    "                    Sigma_beta = temp[1]\n",
    "                    personal_policy_params.update_mus(participant.pid,mu_beta,2)\n",
    "                    personal_policy_params.update_sigmas(participant.pid,Sigma_beta,2)\n",
    "                    participant.last_update_day=time\n",
    "                    #history = None\n",
    "    \n",
    "                #update global context variables\n",
    "\n",
    "                #participant.set_wea(weather)\n",
    "                \n",
    "                #random.seed(participant.pid)\n",
    "                \n",
    "\n",
    "                \n",
    "\n",
    "                \n",
    "                if time == participant.times[0]:\n",
    "                    #get first location \n",
    "                    location = tf.get_location_prior(str(participant.gid),str(tod),str(dow),seed=participant.rando_gen)\n",
    "                    participant.set_inaction_duration(0)\n",
    "                    participant.set_action_duration(0)\n",
    "                   \n",
    "                    \n",
    "                    \n",
    "                if time <= participant.times[0]:\n",
    "                    steps_last_time_period = 0  \n",
    "                    \n",
    "                    ##set first pre-treatment, yesterday step count, variation and dosage\n",
    "                else:\n",
    "                    \n",
    "                    if time.hour==0 and time.minute==0:\n",
    "                        participant.current_day_counter=participant.current_day_counter+1\n",
    "                    \n",
    "                    #print(time)\n",
    "                    steps_last_time_period = participant.steps\n",
    "                \n",
    "                 \n",
    "\n",
    "                if time.hour in experiment.location_update_hours and time.minute==0:\n",
    "                    location = tf.get_next_location(participant.gid,tod,dow,participant.get_loc(),seed=participant.rando_gen)\n",
    "                \n",
    "    \n",
    "                \n",
    "                participant.set_loc(location)\n",
    "                \n",
    "\n",
    "                prob = -1\n",
    "                add=None\n",
    "                optimal_action = -1\n",
    "                optimal_reward = -100\n",
    "                if time in participant.decision_times:\n",
    "                                        #print(personal_policy_params.batch_index[participant.pid])\n",
    "                    \n",
    "                    \n",
    "                    ##if we have made no global updates\n",
    "\n",
    "                    \n",
    "                    \n",
    "                    \n",
    "                    dt=True\n",
    "                    action=0\n",
    "                    \n",
    "                    \n",
    "\n",
    "                    \n",
    "                    if policy==None:\n",
    "                        action = sf.get_action(policy)\n",
    "                        \n",
    "                        \n",
    "                        \n",
    "                    elif policy=='TS':\n",
    "                 \n",
    "                        #,int(location==1),int(location==2),int(location==3)\n",
    "                    #temperature,\n",
    "                    #sf.get_pretreatment()\n",
    "                        z=np.array([1,tod,dow,sf.get_pretreatment(participant.steps),location])\n",
    "                        \n",
    "                        \n",
    "                        prob = TS.prob_cal_ts(z,0,personal_policy_params.mus2[participant.pid],personal_policy_params.sigmas2[participant.pid],global_policy_params,seed=experiment.algo_rando_gen)\n",
    "                        \n",
    "                        #print('prob {}'.format(prob))\n",
    "                        #random.seed(participant.pid)\n",
    "                        action = int(experiment.algo_rando_gen.uniform() <prob)\n",
    "                        #int(experiment.rando_gen.uniform() < prob)\n",
    "                            \n",
    "\n",
    "                    \n",
    "                        if availability:\n",
    "                    \n",
    "\n",
    "                   \n",
    "                    \n",
    "                    \n",
    "                   \n",
    "                    \n",
    "                            context = [action,participant.gid,tod,dow,sf.get_pretreatment(steps_last_time_period),location,\\\n",
    "                0,0,0]\n",
    "                    \n",
    "                        \n",
    "                            steps = tf.get_steps_action(context,seed=participant.rando_gen)\n",
    "                        \n",
    "                        \n",
    "                            add = action*sf.get_add_no_action(z,experiment.beta,participant.Z)\n",
    "                   \n",
    "                        \n",
    "                            participant.steps =  steps+add\n",
    "                        \n",
    "                            optimal_reward = get_optimal_reward(experiment.beta,z)\n",
    "                            optimal_action = int(optimal_reward>=0)\n",
    "                        \n",
    "                    else:\n",
    "                   \n",
    "                        steps = tf.get_steps_no_action(participant.gid,tod,dow,location,sf.get_pretreatment(steps_last_time_period),seed=participant.rando_gen)\n",
    "                        participant.steps = steps\n",
    "\n",
    "                \n",
    "\n",
    "                    global_policy_params.decision_times =   global_policy_params.decision_times+1\n",
    "                \n",
    "                    \n",
    "                    \n",
    "                else:\n",
    "                    #participant.steps_last_time_period = participant.steps\n",
    "                        steps = tf.get_steps_no_action(participant.gid,tod,dow,location,sf.get_pretreatment(steps_last_time_period),seed=participant.rando_gen)\n",
    "                        participant.steps = steps     \n",
    "                \n",
    "                ##history:\n",
    "              \n",
    "                 ##history:\n",
    "                context_dict =  {'steps':participant.steps,'add':add,'action':action,'weather':None,'location':location,'location_1':int(location==1),\\\n",
    "                    'ltps':steps_last_time_period,'location_2':int(location==2),'location_3':int(location==3),\\\n",
    "                        'study_day':participant.current_day_counter,\\\n",
    "                                 'temperature':None,'decision_time':dt,\\\n",
    "                                 'time':time,'avail':availability,'prob':prob,\\\n",
    "                                 'dow':dow,'tod':tod,\\\n",
    "                                 'pretreatment':sf.get_pretreatment(steps_last_time_period),\\\n",
    "                                'optimal_reward':optimal_reward,'optimal_action':optimal_action}\n",
    "                participant.history[time]=context_dict\n",
    "\n",
    "\n",
    "                #if global_policy_params.decision_times%100==0:\n",
    "                   # my_directory = '{}/pop_size_{}_update_{}_study_length_{}/participant_{}'.format(global_policy_params.write_directory,participant.pid,experiment.study_length,len(experiment.population),global_policy_params.update_period)\n",
    "                    #if not os.path.exists(my_directory):\n",
    "                     #   os.makedirs(my_directory)\n",
    "                    #with open('{}/history_{}.pkl'.format(my_directory,global_policy_params.decision_times),'wb') as f:\n",
    "                     #   pickle.dump(participant.history,f)\n",
    "\n",
    "\n"
   ]
  },
  {
   "cell_type": "code",
   "execution_count": 9,
   "metadata": {},
   "outputs": [],
   "source": [
    "def make_to_save(exp):\n",
    "    to_save  = {}\n",
    "    for pid,pdata in exp.population.items():\n",
    "        for time,context in pdata.history.items():\n",
    "            key = '{}-{}-{}'.format(pid,time,pdata.gid)\n",
    "            to_save[key]=context\n",
    "    return to_save"
   ]
  },
  {
   "cell_type": "code",
   "execution_count": 10,
   "metadata": {},
   "outputs": [
    {
     "name": "stdout",
     "output_type": "stream",
     "text": [
      "init\n",
      "0\n",
      "0\n",
      "0.7151893663724195\n",
      "init\n",
      "1\n",
      "0\n",
      "0.7203244934421581\n",
      "init\n",
      "2\n",
      "0\n",
      "0.025926231827891333\n",
      "init\n",
      "3\n",
      "0\n",
      "0.7081478226181048\n",
      "init\n",
      "4\n",
      "0\n",
      "0.5472322491757223\n",
      "init\n",
      "5\n",
      "0\n",
      "0.8707323061773764\n",
      "init\n",
      "6\n",
      "0\n",
      "0.3319798053011772\n",
      "init\n",
      "7\n",
      "0\n",
      "0.7799187922401146\n",
      "init\n",
      "8\n",
      "0\n",
      "0.968540662820932\n",
      "init\n",
      "9\n",
      "0\n",
      "0.5018745921487388\n",
      "init\n",
      "10\n",
      "0\n",
      "0.0207519493594015\n",
      "init\n",
      "11\n",
      "0\n",
      "0.019475241487624584\n",
      "init\n",
      "12\n",
      "0\n",
      "0.7400496965154048\n",
      "init\n",
      "13\n",
      "0\n",
      "0.2375412200349123\n",
      "init\n",
      "14\n",
      "0\n",
      "0.7731650520792968\n",
      "init\n",
      "15\n",
      "0\n",
      "0.17889592492099848\n",
      "init\n",
      "16\n",
      "0\n",
      "0.5231633414006761\n",
      "init\n",
      "17\n",
      "0\n",
      "0.5305867556052941\n",
      "init\n",
      "18\n",
      "0\n",
      "0.5054533737348429\n",
      "init\n",
      "19\n",
      "0\n",
      "0.7612497166748563\n",
      "init\n",
      "20\n",
      "0\n",
      "0.897713727909418\n",
      "init\n",
      "21\n",
      "0\n",
      "0.28910965978981684\n",
      "init\n",
      "22\n",
      "0\n",
      "0.4816810617633659\n",
      "init\n",
      "23\n",
      "0\n",
      "0.9469626038148141\n",
      "init\n",
      "24\n",
      "0\n",
      "0.699512049949576\n",
      "init\n",
      "25\n",
      "0\n",
      "0.5822769286725598\n",
      "init\n",
      "26\n",
      "0\n",
      "0.5193914793053007\n",
      "init\n",
      "27\n",
      "0\n",
      "0.8145837404945526\n",
      "init\n",
      "28\n",
      "0\n",
      "0.5612396023276411\n",
      "init\n",
      "29\n",
      "0\n",
      "0.2849059652276268\n",
      "init\n",
      "30\n",
      "0\n",
      "0.38074848963511654\n",
      "init\n",
      "31\n",
      "0\n",
      "0.958105566519\n"
     ]
    }
   ],
   "source": [
    "pop_size=32\n",
    "experiment = study.study('../../Downloads/distributions/',pop_size,'short','case_one',sim_number=0)"
   ]
  },
  {
   "cell_type": "code",
   "execution_count": 32,
   "metadata": {},
   "outputs": [
    {
     "name": "stdout",
     "output_type": "stream",
     "text": [
      "15\n"
     ]
    }
   ],
   "source": [
    "glob,personal = initialize_policy_params_TS(experiment,7,standardize=False)"
   ]
  },
  {
   "cell_type": "code",
   "execution_count": 33,
   "metadata": {},
   "outputs": [],
   "source": [
    "feat_trans = tf.feature_transformation('../../Downloads/distributions/')"
   ]
  },
  {
   "cell_type": "code",
   "execution_count": 34,
   "metadata": {},
   "outputs": [
    {
     "data": {
      "text/plain": [
       "1.15"
      ]
     },
     "execution_count": 34,
     "metadata": {},
     "output_type": "execute_result"
    }
   ],
   "source": [
    "glob.sigma"
   ]
  },
  {
   "cell_type": "code",
   "execution_count": null,
   "metadata": {},
   "outputs": [],
   "source": []
  },
  {
   "cell_type": "code",
   "execution_count": 35,
   "metadata": {},
   "outputs": [
    {
     "name": "stdout",
     "output_type": "stream",
     "text": [
      "1.15.4\n",
      "0\n",
      "0.5701967704178796\n",
      "{'steps': 4.224565095050746, 'add': None, 'action': 0, 'weather': None, 'location': 0, 'location_1': 0, 'ltps': 4.287369775925046, 'location_2': 0, 'location_3': 0, 'study_day': 0, 'temperature': None, 'decision_time': False, 'time': Timestamp('2015-07-27 09:30:00'), 'avail': True, 'prob': -1, 'dow': 0, 'tod': 0, 'pretreatment': 1, 'optimal_reward': -100, 'optimal_action': -1}\n",
      "1.15.4\n",
      "0\n",
      "0.8209932298479351\n",
      "{'steps': 6.006290574096377, 'add': None, 'action': 0, 'weather': None, 'location': 0, 'location_1': 0, 'ltps': 6.199789503531555, 'location_2': 0, 'location_3': 0, 'study_day': 0, 'temperature': None, 'decision_time': False, 'time': Timestamp('2015-07-27 12:30:00'), 'avail': True, 'prob': -1, 'dow': 0, 'tod': 0, 'pretreatment': 1, 'optimal_reward': -100, 'optimal_action': -1}\n",
      "1.15.4\n",
      "0\n",
      "0.41426299451466997\n",
      "{'steps': 1.9772078848152304, 'add': None, 'action': 0, 'weather': None, 'location': 0, 'location_1': 0, 'ltps': 3.2748634529303717, 'location_2': 0, 'location_3': 0, 'study_day': 0, 'temperature': None, 'decision_time': False, 'time': Timestamp('2015-07-27 14:30:00'), 'avail': True, 'prob': -1, 'dow': 0, 'tod': 0, 'pretreatment': 0, 'optimal_reward': -100, 'optimal_action': -1}\n",
      "1.15.4\n",
      "0\n",
      "0.6674103799636817\n",
      "{'steps': 4.929002785245386, 'add': None, 'action': 0, 'weather': None, 'location': 0, 'location_1': 0, 'ltps': 5.788561687449847, 'location_2': 0, 'location_3': 0, 'study_day': 0, 'temperature': None, 'decision_time': False, 'time': Timestamp('2015-07-27 16:30:00'), 'avail': False, 'prob': -1, 'dow': 0, 'tod': 1, 'pretreatment': 1, 'optimal_reward': -100, 'optimal_action': -1}\n",
      "1.15.4\n",
      "0\n",
      "0.5761573344178369\n",
      "{'steps': 6.761696426715369, 'add': None, 'action': 0, 'weather': None, 'location': 0, 'location_1': 0, 'ltps': 4.809013443379731, 'location_2': 0, 'location_3': 0, 'study_day': 0, 'temperature': None, 'decision_time': False, 'time': Timestamp('2015-07-27 18:30:00'), 'avail': True, 'prob': -1, 'dow': 0, 'tod': 1, 'pretreatment': 1, 'optimal_reward': -100, 'optimal_action': -1}\n",
      "1.15.4\n",
      "0\n",
      "0.19999652489640007\n",
      "{'steps': 6.2033949343608095, 'add': None, 'action': 0, 'weather': None, 'location': 0, 'location_1': 0, 'ltps': 4.081861422308192, 'location_2': 0, 'location_3': 0, 'study_day': 1, 'temperature': None, 'decision_time': False, 'time': Timestamp('2015-07-28 09:30:00'), 'avail': False, 'prob': -1, 'dow': 0, 'tod': 0, 'pretreatment': 0, 'optimal_reward': -100, 'optimal_action': -1}\n",
      "1.15.4\n",
      "0\n",
      "0.3982210622160919\n",
      "{'steps': 5.061953605317003, 'add': None, 'action': 0, 'weather': None, 'location': 0, 'location_1': 0, 'ltps': 5.188021395358039, 'location_2': 0, 'location_3': 0, 'study_day': 1, 'temperature': None, 'decision_time': False, 'time': Timestamp('2015-07-28 12:30:00'), 'avail': True, 'prob': -1, 'dow': 0, 'tod': 0, 'pretreatment': 1, 'optimal_reward': -100, 'optimal_action': -1}\n",
      "1.15.4\n",
      "0\n",
      "0.4344166255581208\n",
      "{'steps': 6.0239472030769665, 'add': None, 'action': 0, 'weather': None, 'location': 0, 'location_1': 0, 'ltps': 5.294830140556726, 'location_2': 0, 'location_3': 0, 'study_day': 1, 'temperature': None, 'decision_time': False, 'time': Timestamp('2015-07-28 14:30:00'), 'avail': True, 'prob': -1, 'dow': 0, 'tod': 0, 'pretreatment': 1, 'optimal_reward': -100, 'optimal_action': -1}\n",
      "1.15.4\n",
      "0\n",
      "0.8966712930403421\n",
      "{'steps': 6.591297678756892, 'add': None, 'action': 0, 'weather': None, 'location': 0, 'location_1': 0, 'ltps': 6.689529278553834, 'location_2': 0, 'location_3': 0, 'study_day': 1, 'temperature': None, 'decision_time': False, 'time': Timestamp('2015-07-28 16:30:00'), 'avail': True, 'prob': -1, 'dow': 0, 'tod': 1, 'pretreatment': 1, 'optimal_reward': -100, 'optimal_action': -1}\n",
      "1.15.4\n",
      "0\n",
      "0.8726506554473953\n",
      "{'steps': 7.9001279328047636, 'add': None, 'action': 0, 'weather': None, 'location': 1, 'location_1': 1, 'ltps': 5.0022108461993255, 'location_2': 0, 'location_3': 0, 'study_day': 1, 'temperature': None, 'decision_time': False, 'time': Timestamp('2015-07-28 18:30:00'), 'avail': True, 'prob': -1, 'dow': 0, 'tod': 1, 'pretreatment': 1, 'optimal_reward': -100, 'optimal_action': -1}\n",
      "1.15.4\n",
      "0\n",
      "0.09784448449403405\n",
      "{'steps': 6.3171400660756785, 'add': None, 'action': 0, 'weather': None, 'location': 0, 'location_1': 0, 'ltps': 4.260103971461102, 'location_2': 0, 'location_3': 0, 'study_day': 2, 'temperature': None, 'decision_time': False, 'time': Timestamp('2015-07-29 09:30:00'), 'avail': True, 'prob': -1, 'dow': 0, 'tod': 0, 'pretreatment': 1, 'optimal_reward': -100, 'optimal_action': -1}\n",
      "1.15.4\n",
      "0\n",
      "0.6720478073539145\n",
      "{'steps': 5.91520291821917, 'add': None, 'action': 0, 'weather': None, 'location': 0, 'location_1': 0, 'ltps': 7.501699567043701, 'location_2': 0, 'location_3': 0, 'study_day': 2, 'temperature': None, 'decision_time': False, 'time': Timestamp('2015-07-29 12:30:00'), 'avail': True, 'prob': -1, 'dow': 0, 'tod': 0, 'pretreatment': 1, 'optimal_reward': -100, 'optimal_action': -1}\n",
      "1.15.4\n",
      "0\n",
      "0.3015986344809425\n",
      "{'steps': 5.083257367589181, 'add': None, 'action': 0, 'weather': None, 'location': 0, 'location_1': 0, 'ltps': 6.669891787734916, 'location_2': 0, 'location_3': 0, 'study_day': 2, 'temperature': None, 'decision_time': False, 'time': Timestamp('2015-07-29 14:30:00'), 'avail': True, 'prob': -1, 'dow': 0, 'tod': 0, 'pretreatment': 1, 'optimal_reward': -100, 'optimal_action': -1}\n",
      "1.15.4\n",
      "0\n",
      "0.6969972417249873\n",
      "{'steps': 5.514030318325098, 'add': None, 'action': 0, 'weather': None, 'location': 0, 'location_1': 0, 'ltps': 7.171189887381369, 'location_2': 0, 'location_3': 0, 'study_day': 2, 'temperature': None, 'decision_time': False, 'time': Timestamp('2015-07-29 16:30:00'), 'avail': True, 'prob': -1, 'dow': 0, 'tod': 1, 'pretreatment': 1, 'optimal_reward': -100, 'optimal_action': -1}\n",
      "1.15.4\n",
      "0\n",
      "0.044612301254114084\n",
      "{'steps': 5.939532054709842, 'add': None, 'action': 0, 'weather': None, 'location': 0, 'location_1': 0, 'ltps': 5.9070576936827255, 'location_2': 0, 'location_3': 0, 'study_day': 2, 'temperature': None, 'decision_time': False, 'time': Timestamp('2015-07-29 18:30:00'), 'avail': False, 'prob': -1, 'dow': 0, 'tod': 1, 'pretreatment': 1, 'optimal_reward': -100, 'optimal_action': -1}\n",
      "1.15.4\n",
      "0\n",
      "0.22116091534608384\n",
      "{'steps': 3.1828913947088187, 'add': None, 'action': 0, 'weather': None, 'location': 1, 'location_1': 1, 'ltps': 2.086528939768384, 'location_2': 0, 'location_3': 0, 'study_day': 3, 'temperature': None, 'decision_time': False, 'time': Timestamp('2015-07-30 09:30:00'), 'avail': False, 'prob': -1, 'dow': 0, 'tod': 0, 'pretreatment': 0, 'optimal_reward': -100, 'optimal_action': -1}\n",
      "1.15.4\n",
      "0\n",
      "0.7832344383138131\n",
      "{'steps': 6.472142688107847, 'add': None, 'action': 0, 'weather': None, 'location': 1, 'location_1': 1, 'ltps': 9.062268981936723, 'location_2': 0, 'location_3': 0, 'study_day': 3, 'temperature': None, 'decision_time': False, 'time': Timestamp('2015-07-30 12:30:00'), 'avail': True, 'prob': -1, 'dow': 0, 'tod': 0, 'pretreatment': 1, 'optimal_reward': -100, 'optimal_action': -1}\n",
      "1.15.4\n",
      "0\n",
      "0.28705151991962974\n",
      "{'steps': 4.08000704186541, 'add': None, 'action': 0, 'weather': None, 'location': 1, 'location_1': 1, 'ltps': 6.2732198138444675, 'location_2': 0, 'location_3': 0, 'study_day': 3, 'temperature': None, 'decision_time': False, 'time': Timestamp('2015-07-30 14:30:00'), 'avail': True, 'prob': -1, 'dow': 0, 'tod': 0, 'pretreatment': 1, 'optimal_reward': -100, 'optimal_action': -1}\n",
      "1.15.4\n",
      "0\n",
      "0.9049483455499269\n",
      "{'steps': 6.281789155830531, 'add': None, 'action': 0, 'weather': None, 'location': 0, 'location_1': 0, 'ltps': 5.644231350716953, 'location_2': 0, 'location_3': 0, 'study_day': 3, 'temperature': None, 'decision_time': False, 'time': Timestamp('2015-07-30 16:30:00'), 'avail': True, 'prob': -1, 'dow': 0, 'tod': 1, 'pretreatment': 1, 'optimal_reward': -100, 'optimal_action': -1}\n",
      "1.15.4\n",
      "0\n",
      "0.7487882575401331\n",
      "{'steps': 7.31747265483463, 'add': None, 'action': 0, 'weather': None, 'location': 0, 'location_1': 0, 'ltps': 4.8001041478465885, 'location_2': 0, 'location_3': 0, 'study_day': 3, 'temperature': None, 'decision_time': False, 'time': Timestamp('2015-07-30 18:30:00'), 'avail': True, 'prob': -1, 'dow': 0, 'tod': 1, 'pretreatment': 1, 'optimal_reward': -100, 'optimal_action': -1}\n",
      "1.15.4\n",
      "0\n",
      "0.2097499496556351\n",
      "{'steps': 4.83213945798932, 'add': None, 'action': 0, 'weather': None, 'location': 0, 'location_1': 0, 'ltps': 2.924178886214204, 'location_2': 0, 'location_3': 0, 'study_day': 4, 'temperature': None, 'decision_time': False, 'time': Timestamp('2015-07-31 09:30:00'), 'avail': True, 'prob': -1, 'dow': 0, 'tod': 0, 'pretreatment': 0, 'optimal_reward': -100, 'optimal_action': -1}\n",
      "1.15.4\n",
      "0\n",
      "0.7908401632274049\n",
      "{'steps': 5.537187694808186, 'add': None, 'action': 0, 'weather': None, 'location': 0, 'location_1': 0, 'ltps': 6.538117941988957, 'location_2': 0, 'location_3': 0, 'study_day': 4, 'temperature': None, 'decision_time': False, 'time': Timestamp('2015-07-31 12:30:00'), 'avail': False, 'prob': -1, 'dow': 0, 'tod': 0, 'pretreatment': 1, 'optimal_reward': -100, 'optimal_action': -1}\n",
      "1.15.4\n",
      "0\n",
      "0.8869607812174175\n",
      "{'steps': 5.40393406709744, 'add': None, 'action': 0, 'weather': None, 'location': 0, 'location_1': 0, 'ltps': 7.8583181302506055, 'location_2': 0, 'location_3': 0, 'study_day': 4, 'temperature': None, 'decision_time': False, 'time': Timestamp('2015-07-31 14:30:00'), 'avail': True, 'prob': -1, 'dow': 0, 'tod': 0, 'pretreatment': 1, 'optimal_reward': -100, 'optimal_action': -1}\n"
     ]
    },
    {
     "name": "stdout",
     "output_type": "stream",
     "text": [
      "1.15.4\n",
      "0\n",
      "0.3000289194759296\n",
      "{'steps': 7.540549728398487, 'add': None, 'action': 0, 'weather': None, 'location': 0, 'location_1': 0, 'ltps': 7.9378556344781, 'location_2': 0, 'location_3': 0, 'study_day': 4, 'temperature': None, 'decision_time': False, 'time': Timestamp('2015-07-31 16:30:00'), 'avail': False, 'prob': -1, 'dow': 0, 'tod': 1, 'pretreatment': 1, 'optimal_reward': -100, 'optimal_action': -1}\n",
      "1.15.4\n",
      "0\n",
      "0.2473987555391537\n",
      "{'steps': 6.337225198140162, 'add': None, 'action': 0, 'weather': None, 'location': 0, 'location_1': 0, 'ltps': 5.568133356310936, 'location_2': 0, 'location_3': 0, 'study_day': 4, 'temperature': None, 'decision_time': False, 'time': Timestamp('2015-07-31 18:30:00'), 'avail': True, 'prob': -1, 'dow': 0, 'tod': 1, 'pretreatment': 1, 'optimal_reward': -100, 'optimal_action': -1}\n",
      "1.15.4\n",
      "0\n",
      "0.4037927406673345\n",
      "{'steps': 5.959340391938301, 'add': None, 'action': 0, 'weather': None, 'location': 1, 'location_1': 1, 'ltps': 3.4462243605043, 'location_2': 0, 'location_3': 0, 'study_day': 5, 'temperature': None, 'decision_time': False, 'time': Timestamp('2015-08-01 09:30:00'), 'avail': True, 'prob': -1, 'dow': 1, 'tod': 0, 'pretreatment': 0, 'optimal_reward': -100, 'optimal_action': -1}\n",
      "1.15.4\n",
      "0\n",
      "0.11047711099174473\n",
      "{'steps': 8.806639020611808, 'add': None, 'action': 0, 'weather': None, 'location': 0, 'location_1': 0, 'ltps': 6.288720810181729, 'location_2': 0, 'location_3': 0, 'study_day': 5, 'temperature': None, 'decision_time': False, 'time': Timestamp('2015-08-01 12:30:00'), 'avail': True, 'prob': -1, 'dow': 1, 'tod': 0, 'pretreatment': 1, 'optimal_reward': -100, 'optimal_action': -1}\n",
      "1.15.4\n",
      "0\n",
      "0.6347863229336947\n",
      "{'steps': 6.851401381622042, 'add': None, 'action': 0, 'weather': None, 'location': 0, 'location_1': 0, 'ltps': 6.474983685733193, 'location_2': 0, 'location_3': 0, 'study_day': 5, 'temperature': None, 'decision_time': False, 'time': Timestamp('2015-08-01 14:30:00'), 'avail': False, 'prob': -1, 'dow': 1, 'tod': 0, 'pretreatment': 1, 'optimal_reward': -100, 'optimal_action': -1}\n",
      "1.15.4\n",
      "0\n",
      "0.22286381801498023\n",
      "{'steps': 6.766299579857303, 'add': None, 'action': 0, 'weather': None, 'location': 1, 'location_1': 1, 'ltps': 7.975690653297688, 'location_2': 0, 'location_3': 0, 'study_day': 5, 'temperature': None, 'decision_time': False, 'time': Timestamp('2015-08-01 16:30:00'), 'avail': True, 'prob': -1, 'dow': 1, 'tod': 1, 'pretreatment': 1, 'optimal_reward': -100, 'optimal_action': -1}\n",
      "1.15.4\n",
      "0\n",
      "0.4564095653390666\n",
      "{'steps': 7.331472402867657, 'add': None, 'action': 0, 'weather': None, 'location': 1, 'location_1': 1, 'ltps': 7.341578522490957, 'location_2': 0, 'location_3': 0, 'study_day': 5, 'temperature': None, 'decision_time': False, 'time': Timestamp('2015-08-01 18:30:00'), 'avail': True, 'prob': -1, 'dow': 1, 'tod': 1, 'pretreatment': 1, 'optimal_reward': -100, 'optimal_action': -1}\n",
      "1.15.4\n",
      "0\n",
      "0.1024137584524164\n",
      "{'steps': 5.42268524344949, 'add': None, 'action': 0, 'weather': None, 'location': 0, 'location_1': 0, 'ltps': 5.852124918246237, 'location_2': 0, 'location_3': 0, 'study_day': 6, 'temperature': None, 'decision_time': False, 'time': Timestamp('2015-08-02 09:30:00'), 'avail': True, 'prob': -1, 'dow': 1, 'tod': 0, 'pretreatment': 1, 'optimal_reward': -100, 'optimal_action': -1}\n",
      "1.15.4\n",
      "0\n",
      "0.2503982128535728\n",
      "{'steps': 5.808740447124075, 'add': None, 'action': 0, 'weather': None, 'location': 1, 'location_1': 1, 'ltps': 6.963812925287405, 'location_2': 0, 'location_3': 0, 'study_day': 6, 'temperature': None, 'decision_time': False, 'time': Timestamp('2015-08-02 12:30:00'), 'avail': False, 'prob': -1, 'dow': 1, 'tod': 0, 'pretreatment': 1, 'optimal_reward': -100, 'optimal_action': -1}\n",
      "1.15.4\n",
      "0\n",
      "0.3519362404956907\n",
      "{'steps': 6.504377665111134, 'add': None, 'action': 0, 'weather': None, 'location': 1, 'location_1': 1, 'ltps': 4.551839111182975, 'location_2': 0, 'location_3': 0, 'study_day': 6, 'temperature': None, 'decision_time': False, 'time': Timestamp('2015-08-02 14:30:00'), 'avail': True, 'prob': -1, 'dow': 1, 'tod': 0, 'pretreatment': 1, 'optimal_reward': -100, 'optimal_action': -1}\n",
      "1.15.4\n",
      "0\n",
      "0.21243436129404103\n",
      "{'steps': 6.787493395789663, 'add': None, 'action': 0, 'weather': None, 'location': 1, 'location_1': 1, 'ltps': 6.487133904520503, 'location_2': 0, 'location_3': 0, 'study_day': 6, 'temperature': None, 'decision_time': False, 'time': Timestamp('2015-08-02 16:30:00'), 'avail': True, 'prob': -1, 'dow': 1, 'tod': 1, 'pretreatment': 1, 'optimal_reward': -100, 'optimal_action': -1}\n",
      "1.15.4\n",
      "0\n",
      "0.11566187190501331\n",
      "{'steps': 6.76358455884421, 'add': None, 'action': 0, 'weather': None, 'location': 0, 'location_1': 0, 'ltps': 4.462231979468573, 'location_2': 0, 'location_3': 0, 'study_day': 6, 'temperature': None, 'decision_time': False, 'time': Timestamp('2015-08-02 18:30:00'), 'avail': True, 'prob': -1, 'dow': 1, 'tod': 1, 'pretreatment': 1, 'optimal_reward': -100, 'optimal_action': -1}\n",
      "1.15.4\n",
      "0\n",
      "0.8108386151289514\n",
      "{'steps': 5.954311036676572, 'add': None, 'action': 0, 'weather': None, 'location': 1, 'location_1': 1, 'ltps': 5.023157328389948, 'location_2': 0, 'location_3': 0, 'study_day': 7, 'temperature': None, 'decision_time': False, 'time': Timestamp('2015-08-03 09:30:00'), 'avail': True, 'prob': -1, 'dow': 0, 'tod': 0, 'pretreatment': 1, 'optimal_reward': -100, 'optimal_action': -1}\n",
      "1.15.4\n",
      "0\n",
      "0.7573641432377087\n",
      "{'steps': 4.457162357505537, 'add': None, 'action': 0, 'weather': None, 'location': 0, 'location_1': 0, 'ltps': 7.335453508279916, 'location_2': 0, 'location_3': 0, 'study_day': 7, 'temperature': None, 'decision_time': False, 'time': Timestamp('2015-08-03 12:30:00'), 'avail': False, 'prob': -1, 'dow': 0, 'tod': 0, 'pretreatment': 1, 'optimal_reward': -100, 'optimal_action': -1}\n",
      "1.15.4\n",
      "0\n",
      "0.03855724605899835\n",
      "{'steps': 6.007739525040806, 'add': None, 'action': 0, 'weather': None, 'location': 0, 'location_1': 0, 'ltps': 5.363595739487826, 'location_2': 0, 'location_3': 0, 'study_day': 7, 'temperature': None, 'decision_time': False, 'time': Timestamp('2015-08-03 14:30:00'), 'avail': True, 'prob': -1, 'dow': 0, 'tod': 0, 'pretreatment': 1, 'optimal_reward': -100, 'optimal_action': -1}\n",
      "1.15.4\n",
      "0\n",
      "0.1509348973110416\n",
      "{'steps': 5.992173671379151, 'add': None, 'action': 0, 'weather': None, 'location': 0, 'location_1': 0, 'ltps': 7.037011272389744, 'location_2': 0, 'location_3': 0, 'study_day': 7, 'temperature': None, 'decision_time': False, 'time': Timestamp('2015-08-03 16:30:00'), 'avail': False, 'prob': -1, 'dow': 0, 'tod': 1, 'pretreatment': 1, 'optimal_reward': -100, 'optimal_action': -1}\n",
      "1.15.4\n",
      "0\n",
      "0.33597754234025523\n",
      "{'steps': 5.692702323894013, 'add': None, 'action': 0, 'weather': None, 'location': 1, 'location_1': 1, 'ltps': 6.536895461977419, 'location_2': 0, 'location_3': 0, 'study_day': 7, 'temperature': None, 'decision_time': False, 'time': Timestamp('2015-08-03 18:30:00'), 'avail': True, 'prob': -1, 'dow': 0, 'tod': 1, 'pretreatment': 1, 'optimal_reward': -100, 'optimal_action': -1}\n",
      "1.15.4\n",
      "0\n",
      "0.020950069267730465\n",
      "{'steps': 5.308600846621627, 'add': None, 'action': 0, 'weather': None, 'location': 0, 'location_1': 0, 'ltps': 2.755523451207483, 'location_2': 0, 'location_3': 0, 'study_day': 8, 'temperature': None, 'decision_time': False, 'time': Timestamp('2015-08-04 09:30:00'), 'avail': True, 'prob': -1, 'dow': 0, 'tod': 0, 'pretreatment': 0, 'optimal_reward': -100, 'optimal_action': -1}\n",
      "1.15.4\n",
      "0\n",
      "0.995815292959635\n",
      "{'steps': 4.061619092885331, 'add': None, 'action': 0, 'weather': None, 'location': 1, 'location_1': 1, 'ltps': 7.577480128852416, 'location_2': 0, 'location_3': 0, 'study_day': 8, 'temperature': None, 'decision_time': False, 'time': Timestamp('2015-08-04 12:30:00'), 'avail': True, 'prob': -1, 'dow': 0, 'tod': 0, 'pretreatment': 1, 'optimal_reward': -100, 'optimal_action': -1}\n",
      "1.15.4\n",
      "0\n",
      "0.5258089530767229\n",
      "{'steps': 6.035714043439858, 'add': None, 'action': 0, 'weather': None, 'location': 1, 'location_1': 1, 'ltps': 2.919704701807263, 'location_2': 0, 'location_3': 0, 'study_day': 8, 'temperature': None, 'decision_time': False, 'time': Timestamp('2015-08-04 14:30:00'), 'avail': False, 'prob': -1, 'dow': 0, 'tod': 0, 'pretreatment': 0, 'optimal_reward': -100, 'optimal_action': -1}\n",
      "1.15.4\n",
      "0\n",
      "0.9692058717176852\n",
      "{'steps': 4.095232560618197, 'add': None, 'action': 0, 'weather': None, 'location': 1, 'location_1': 1, 'ltps': 6.0332043052928945, 'location_2': 0, 'location_3': 0, 'study_day': 8, 'temperature': None, 'decision_time': False, 'time': Timestamp('2015-08-04 16:30:00'), 'avail': False, 'prob': -1, 'dow': 0, 'tod': 1, 'pretreatment': 1, 'optimal_reward': -100, 'optimal_action': -1}\n"
     ]
    },
    {
     "name": "stdout",
     "output_type": "stream",
     "text": [
      "1.15.4\n",
      "0\n",
      "0.4186368635700265\n",
      "{'steps': 5.726648274205105, 'add': None, 'action': 0, 'weather': None, 'location': 0, 'location_1': 0, 'ltps': 5.343870960776168, 'location_2': 0, 'location_3': 0, 'study_day': 8, 'temperature': None, 'decision_time': False, 'time': Timestamp('2015-08-04 18:30:00'), 'avail': True, 'prob': -1, 'dow': 0, 'tod': 1, 'pretreatment': 1, 'optimal_reward': -100, 'optimal_action': -1}\n",
      "1.15.4\n",
      "0\n",
      "0.9478218871115895\n",
      "{'steps': 7.165143903928262, 'add': None, 'action': 0, 'weather': None, 'location': 1, 'location_1': 1, 'ltps': 5.114799458437697, 'location_2': 0, 'location_3': 0, 'study_day': 9, 'temperature': None, 'decision_time': False, 'time': Timestamp('2015-08-05 09:30:00'), 'avail': True, 'prob': -1, 'dow': 0, 'tod': 0, 'pretreatment': 1, 'optimal_reward': -100, 'optimal_action': -1}\n",
      "1.15.4\n",
      "0\n",
      "0.024577024306966067\n",
      "{'steps': 6.61328585308747, 'add': None, 'action': 0, 'weather': None, 'location': 1, 'location_1': 1, 'ltps': 5.578441584817746, 'location_2': 0, 'location_3': 0, 'study_day': 9, 'temperature': None, 'decision_time': False, 'time': Timestamp('2015-08-05 12:30:00'), 'avail': True, 'prob': -1, 'dow': 0, 'tod': 0, 'pretreatment': 1, 'optimal_reward': -100, 'optimal_action': -1}\n",
      "1.15.4\n",
      "0\n",
      "0.6339816530073832\n",
      "{'steps': 5.240322426089725, 'add': None, 'action': 0, 'weather': None, 'location': 1, 'location_1': 1, 'ltps': 3.7769702708117388, 'location_2': 0, 'location_3': 0, 'study_day': 9, 'temperature': None, 'decision_time': False, 'time': Timestamp('2015-08-05 14:30:00'), 'avail': True, 'prob': -1, 'dow': 0, 'tod': 0, 'pretreatment': 0, 'optimal_reward': -100, 'optimal_action': -1}\n",
      "1.15.4\n",
      "0\n",
      "0.9234555382041066\n",
      "{'steps': 5.779363233601572, 'add': None, 'action': 0, 'weather': None, 'location': 1, 'location_1': 1, 'ltps': 4.985189420243661, 'location_2': 0, 'location_3': 0, 'study_day': 9, 'temperature': None, 'decision_time': False, 'time': Timestamp('2015-08-05 16:30:00'), 'avail': True, 'prob': -1, 'dow': 0, 'tod': 1, 'pretreatment': 1, 'optimal_reward': -100, 'optimal_action': -1}\n",
      "1.15.4\n",
      "0\n",
      "0.1355484331085064\n",
      "{'steps': 4.457387244042733, 'add': None, 'action': 0, 'weather': None, 'location': 0, 'location_1': 0, 'ltps': 5.6057279144082015, 'location_2': 0, 'location_3': 0, 'study_day': 9, 'temperature': None, 'decision_time': False, 'time': Timestamp('2015-08-05 18:30:00'), 'avail': True, 'prob': -1, 'dow': 0, 'tod': 1, 'pretreatment': 1, 'optimal_reward': -100, 'optimal_action': -1}\n",
      "1.15.4\n",
      "0\n",
      "0.4175392009968566\n",
      "{'steps': 5.397460776325362, 'add': None, 'action': 0, 'weather': None, 'location': 1, 'location_1': 1, 'ltps': 5.317417647386157, 'location_2': 0, 'location_3': 0, 'study_day': 10, 'temperature': None, 'decision_time': False, 'time': Timestamp('2015-08-06 09:30:00'), 'avail': True, 'prob': -1, 'dow': 0, 'tod': 0, 'pretreatment': 1, 'optimal_reward': -100, 'optimal_action': -1}\n",
      "1.15.4\n",
      "0\n",
      "0.4299967804707131\n",
      "{'steps': 6.676634109196445, 'add': None, 'action': 0, 'weather': None, 'location': 1, 'location_1': 1, 'ltps': 5.524400173286482, 'location_2': 0, 'location_3': 0, 'study_day': 10, 'temperature': None, 'decision_time': False, 'time': Timestamp('2015-08-06 12:30:00'), 'avail': True, 'prob': -1, 'dow': 0, 'tod': 0, 'pretreatment': 1, 'optimal_reward': -100, 'optimal_action': -1}\n",
      "1.15.4\n",
      "0\n",
      "0.5488463284661673\n",
      "{'steps': 5.649430786648876, 'add': None, 'action': 0, 'weather': None, 'location': 1, 'location_1': 1, 'ltps': 6.444467105864858, 'location_2': 0, 'location_3': 0, 'study_day': 10, 'temperature': None, 'decision_time': False, 'time': Timestamp('2015-08-06 14:30:00'), 'avail': True, 'prob': -1, 'dow': 0, 'tod': 0, 'pretreatment': 1, 'optimal_reward': -100, 'optimal_action': -1}\n",
      "1.15.4\n",
      "0\n",
      "0.3305963007592103\n",
      "{'steps': 5.9984560743018145, 'add': None, 'action': 0, 'weather': None, 'location': 1, 'location_1': 1, 'ltps': 4.941019895952727, 'location_2': 0, 'location_3': 0, 'study_day': 10, 'temperature': None, 'decision_time': False, 'time': Timestamp('2015-08-06 16:30:00'), 'avail': False, 'prob': -1, 'dow': 0, 'tod': 1, 'pretreatment': 1, 'optimal_reward': -100, 'optimal_action': -1}\n",
      "1.15.4\n",
      "0\n",
      "0.15236448365130972\n",
      "{'steps': 7.108131420294149, 'add': None, 'action': 0, 'weather': None, 'location': 0, 'location_1': 0, 'ltps': 3.4371216559032254, 'location_2': 0, 'location_3': 0, 'study_day': 10, 'temperature': None, 'decision_time': False, 'time': Timestamp('2015-08-06 18:30:00'), 'avail': True, 'prob': -1, 'dow': 0, 'tod': 1, 'pretreatment': 0, 'optimal_reward': -100, 'optimal_action': -1}\n"
     ]
    },
    {
     "ename": "KeyboardInterrupt",
     "evalue": "",
     "output_type": "error",
     "traceback": [
      "\u001b[0;31m--------------------------------------------------------------------\u001b[0m",
      "\u001b[0;31mKeyboardInterrupt\u001b[0m                  Traceback (most recent call last)",
      "\u001b[0;32m<ipython-input-35-84c846c1bab7>\u001b[0m in \u001b[0;36m<module>\u001b[0;34m\u001b[0m\n\u001b[1;32m      1\u001b[0m \u001b[0mstart\u001b[0m \u001b[0;34m=\u001b[0m \u001b[0mtime_module\u001b[0m\u001b[0;34m.\u001b[0m\u001b[0mtime\u001b[0m\u001b[0;34m(\u001b[0m\u001b[0;34m)\u001b[0m\u001b[0;34m\u001b[0m\u001b[0;34m\u001b[0m\u001b[0m\n\u001b[0;32m----> 2\u001b[0;31m \u001b[0mhist\u001b[0m \u001b[0;34m=\u001b[0m \u001b[0mnew_kind_of_simulation\u001b[0m\u001b[0;34m(\u001b[0m\u001b[0mexperiment\u001b[0m\u001b[0;34m,\u001b[0m\u001b[0;34m'TS'\u001b[0m\u001b[0;34m,\u001b[0m\u001b[0mpersonal\u001b[0m\u001b[0;34m,\u001b[0m\u001b[0mglob\u001b[0m\u001b[0;34m,\u001b[0m\u001b[0mtf\u001b[0m\u001b[0;34m=\u001b[0m\u001b[0mfeat_trans\u001b[0m\u001b[0;34m)\u001b[0m\u001b[0;34m\u001b[0m\u001b[0;34m\u001b[0m\u001b[0m\n\u001b[0m\u001b[1;32m      3\u001b[0m \u001b[0mend\u001b[0m \u001b[0;34m=\u001b[0m \u001b[0mtime_module\u001b[0m\u001b[0;34m.\u001b[0m\u001b[0mtime\u001b[0m\u001b[0;34m(\u001b[0m\u001b[0;34m)\u001b[0m\u001b[0;34m\u001b[0m\u001b[0;34m\u001b[0m\u001b[0m\n\u001b[1;32m      4\u001b[0m \u001b[0mprint\u001b[0m\u001b[0;34m(\u001b[0m\u001b[0mend\u001b[0m\u001b[0;34m-\u001b[0m\u001b[0mstart\u001b[0m\u001b[0;34m)\u001b[0m\u001b[0;34m\u001b[0m\u001b[0;34m\u001b[0m\u001b[0m\n",
      "\u001b[0;32m<ipython-input-29-07041e05ffa0>\u001b[0m in \u001b[0;36mnew_kind_of_simulation\u001b[0;34m(experiment, policy, personal_policy_params, global_policy_params, which_gen, tf)\u001b[0m\n\u001b[1;32m     87\u001b[0m \u001b[0;34m\u001b[0m\u001b[0m\n\u001b[1;32m     88\u001b[0m \u001b[0;34m\u001b[0m\u001b[0m\n\u001b[0;32m---> 89\u001b[0;31m                 \u001b[0;32mif\u001b[0m \u001b[0mtime\u001b[0m \u001b[0;34m==\u001b[0m \u001b[0mparticipant\u001b[0m\u001b[0;34m.\u001b[0m\u001b[0mtimes\u001b[0m\u001b[0;34m[\u001b[0m\u001b[0;36m0\u001b[0m\u001b[0;34m]\u001b[0m\u001b[0;34m:\u001b[0m\u001b[0;34m\u001b[0m\u001b[0;34m\u001b[0m\u001b[0m\n\u001b[0m\u001b[1;32m     90\u001b[0m                     \u001b[0;31m#get first location\u001b[0m\u001b[0;34m\u001b[0m\u001b[0;34m\u001b[0m\u001b[0;34m\u001b[0m\u001b[0m\n\u001b[1;32m     91\u001b[0m                     \u001b[0mlocation\u001b[0m \u001b[0;34m=\u001b[0m \u001b[0mtf\u001b[0m\u001b[0;34m.\u001b[0m\u001b[0mget_location_prior\u001b[0m\u001b[0;34m(\u001b[0m\u001b[0mstr\u001b[0m\u001b[0;34m(\u001b[0m\u001b[0mparticipant\u001b[0m\u001b[0;34m.\u001b[0m\u001b[0mgid\u001b[0m\u001b[0;34m)\u001b[0m\u001b[0;34m,\u001b[0m\u001b[0mstr\u001b[0m\u001b[0;34m(\u001b[0m\u001b[0mtod\u001b[0m\u001b[0;34m)\u001b[0m\u001b[0;34m,\u001b[0m\u001b[0mstr\u001b[0m\u001b[0;34m(\u001b[0m\u001b[0mdow\u001b[0m\u001b[0;34m)\u001b[0m\u001b[0;34m,\u001b[0m\u001b[0mseed\u001b[0m\u001b[0;34m=\u001b[0m\u001b[0mparticipant\u001b[0m\u001b[0;34m.\u001b[0m\u001b[0mrando_gen\u001b[0m\u001b[0;34m)\u001b[0m\u001b[0;34m\u001b[0m\u001b[0;34m\u001b[0m\u001b[0m\n",
      "\u001b[0;32m~/anaconda3/envs/py36/lib/python3.6/site-packages/pandas/core/indexes/datetimes.py\u001b[0m in \u001b[0;36m__getitem__\u001b[0;34m(self, key)\u001b[0m\n\u001b[1;32m   1168\u001b[0m \u001b[0;34m\u001b[0m\u001b[0m\n\u001b[1;32m   1169\u001b[0m     \u001b[0;32mdef\u001b[0m \u001b[0m__getitem__\u001b[0m\u001b[0;34m(\u001b[0m\u001b[0mself\u001b[0m\u001b[0;34m,\u001b[0m \u001b[0mkey\u001b[0m\u001b[0;34m)\u001b[0m\u001b[0;34m:\u001b[0m\u001b[0;34m\u001b[0m\u001b[0;34m\u001b[0m\u001b[0m\n\u001b[0;32m-> 1170\u001b[0;31m         \u001b[0mresult\u001b[0m \u001b[0;34m=\u001b[0m \u001b[0mself\u001b[0m\u001b[0;34m.\u001b[0m\u001b[0m_data\u001b[0m\u001b[0;34m.\u001b[0m\u001b[0m__getitem__\u001b[0m\u001b[0;34m(\u001b[0m\u001b[0mkey\u001b[0m\u001b[0;34m)\u001b[0m\u001b[0;34m\u001b[0m\u001b[0;34m\u001b[0m\u001b[0m\n\u001b[0m\u001b[1;32m   1171\u001b[0m         \u001b[0;32mif\u001b[0m \u001b[0mis_scalar\u001b[0m\u001b[0;34m(\u001b[0m\u001b[0mresult\u001b[0m\u001b[0;34m)\u001b[0m\u001b[0;34m:\u001b[0m\u001b[0;34m\u001b[0m\u001b[0;34m\u001b[0m\u001b[0m\n\u001b[1;32m   1172\u001b[0m             \u001b[0;32mreturn\u001b[0m \u001b[0mresult\u001b[0m\u001b[0;34m\u001b[0m\u001b[0;34m\u001b[0m\u001b[0m\n",
      "\u001b[0;32m~/anaconda3/envs/py36/lib/python3.6/site-packages/pandas/core/arrays/datetimelike.py\u001b[0m in \u001b[0;36m__getitem__\u001b[0;34m(self, key)\u001b[0m\n\u001b[1;32m    425\u001b[0m         \u001b[0;32mif\u001b[0m \u001b[0mis_int\u001b[0m\u001b[0;34m:\u001b[0m\u001b[0;34m\u001b[0m\u001b[0;34m\u001b[0m\u001b[0m\n\u001b[1;32m    426\u001b[0m             \u001b[0mval\u001b[0m \u001b[0;34m=\u001b[0m \u001b[0mgetitem\u001b[0m\u001b[0;34m(\u001b[0m\u001b[0mkey\u001b[0m\u001b[0;34m)\u001b[0m\u001b[0;34m\u001b[0m\u001b[0;34m\u001b[0m\u001b[0m\n\u001b[0;32m--> 427\u001b[0;31m             \u001b[0;32mreturn\u001b[0m \u001b[0mself\u001b[0m\u001b[0;34m.\u001b[0m\u001b[0m_box_func\u001b[0m\u001b[0;34m(\u001b[0m\u001b[0mval\u001b[0m\u001b[0;34m)\u001b[0m\u001b[0;34m\u001b[0m\u001b[0;34m\u001b[0m\u001b[0m\n\u001b[0m\u001b[1;32m    428\u001b[0m \u001b[0;34m\u001b[0m\u001b[0m\n\u001b[1;32m    429\u001b[0m         \u001b[0;32mif\u001b[0m \u001b[0mcom\u001b[0m\u001b[0;34m.\u001b[0m\u001b[0mis_bool_indexer\u001b[0m\u001b[0;34m(\u001b[0m\u001b[0mkey\u001b[0m\u001b[0;34m)\u001b[0m\u001b[0;34m:\u001b[0m\u001b[0;34m\u001b[0m\u001b[0;34m\u001b[0m\u001b[0m\n",
      "\u001b[0;32m~/anaconda3/envs/py36/lib/python3.6/site-packages/pandas/core/arrays/datetimes.py\u001b[0m in \u001b[0;36m_box_func\u001b[0;34m(self)\u001b[0m\n\u001b[1;32m    511\u001b[0m     \u001b[0;34m@\u001b[0m\u001b[0mproperty\u001b[0m\u001b[0;34m\u001b[0m\u001b[0;34m\u001b[0m\u001b[0m\n\u001b[1;32m    512\u001b[0m     \u001b[0;32mdef\u001b[0m \u001b[0m_box_func\u001b[0m\u001b[0;34m(\u001b[0m\u001b[0mself\u001b[0m\u001b[0;34m)\u001b[0m\u001b[0;34m:\u001b[0m\u001b[0;34m\u001b[0m\u001b[0;34m\u001b[0m\u001b[0m\n\u001b[0;32m--> 513\u001b[0;31m         \u001b[0;32mreturn\u001b[0m \u001b[0;32mlambda\u001b[0m \u001b[0mx\u001b[0m\u001b[0;34m:\u001b[0m \u001b[0mTimestamp\u001b[0m\u001b[0;34m(\u001b[0m\u001b[0mx\u001b[0m\u001b[0;34m,\u001b[0m \u001b[0mfreq\u001b[0m\u001b[0;34m=\u001b[0m\u001b[0mself\u001b[0m\u001b[0;34m.\u001b[0m\u001b[0mfreq\u001b[0m\u001b[0;34m,\u001b[0m \u001b[0mtz\u001b[0m\u001b[0;34m=\u001b[0m\u001b[0mself\u001b[0m\u001b[0;34m.\u001b[0m\u001b[0mtz\u001b[0m\u001b[0;34m)\u001b[0m\u001b[0;34m\u001b[0m\u001b[0;34m\u001b[0m\u001b[0m\n\u001b[0m\u001b[1;32m    514\u001b[0m \u001b[0;34m\u001b[0m\u001b[0m\n\u001b[1;32m    515\u001b[0m     \u001b[0;34m@\u001b[0m\u001b[0mproperty\u001b[0m\u001b[0;34m\u001b[0m\u001b[0;34m\u001b[0m\u001b[0m\n",
      "\u001b[0;31mKeyboardInterrupt\u001b[0m: "
     ]
    }
   ],
   "source": [
    "start = time_module.time()\n",
    "hist = new_kind_of_simulation(experiment,'TS',personal,glob,tf=feat_trans)\n",
    "end = time_module.time()\n",
    "print(end-start)"
   ]
  },
  {
   "cell_type": "code",
   "execution_count": 15,
   "metadata": {},
   "outputs": [
    {
     "data": {
      "text/plain": [
       "48"
      ]
     },
     "execution_count": 15,
     "metadata": {},
     "output_type": "execute_result"
    }
   ],
   "source": [
    "528-480"
   ]
  },
  {
   "cell_type": "code",
   "execution_count": 58,
   "metadata": {},
   "outputs": [
    {
     "data": {
      "text/plain": [
       "array([-0.62298647,  1.28410306, -0.00517905, -0.68447877,  0.5739958 ])"
      ]
     },
     "execution_count": 58,
     "metadata": {},
     "output_type": "execute_result"
    }
   ],
   "source": [
    "personal.mus2[10]"
   ]
  },
  {
   "cell_type": "code",
   "execution_count": 59,
   "metadata": {},
   "outputs": [
    {
     "data": {
      "text/plain": [
       "array([ 0.05,  0.07,  0.2 , -0.2 ,  0.2 ])"
      ]
     },
     "execution_count": 59,
     "metadata": {},
     "output_type": "execute_result"
    }
   ],
   "source": [
    "experiment.beta\n"
   ]
  },
  {
   "cell_type": "code",
   "execution_count": 60,
   "metadata": {},
   "outputs": [
    {
     "data": {
      "text/plain": [
       "0.06313681868743047"
      ]
     },
     "execution_count": 60,
     "metadata": {},
     "output_type": "execute_result"
    }
   ],
   "source": [
    "all_steps  = []\n",
    "for p in experiment.population.values():\n",
    "    all_steps.extend([v['add'] for k,v in p.history.items() if  v['decision_time'] and v['avail'] and v['add'] is not None  and k>pd.Timestamp('2015-08-31 00:00:00')])\n",
    "np.array(all_steps).mean()"
   ]
  },
  {
   "cell_type": "code",
   "execution_count": 61,
   "metadata": {},
   "outputs": [
    {
     "data": {
      "text/plain": [
       "5.0522519795378935"
      ]
     },
     "execution_count": 61,
     "metadata": {},
     "output_type": "execute_result"
    }
   ],
   "source": [
    "all_steps  = []\n",
    "for p in experiment.population.values():\n",
    "    all_steps.extend([v['steps'] for v in p.history.values() if v['action'] and v['decision_time'] and v['avail']])\n",
    "np.array(all_steps).mean()"
   ]
  },
  {
   "cell_type": "code",
   "execution_count": 62,
   "metadata": {},
   "outputs": [],
   "source": [
    "def get_regret(experiment):\n",
    "    optimal_actions ={}\n",
    "    rewards = {}\n",
    "    \n",
    "    for pid,person in experiment.population.items():\n",
    "        for time,data in person.history.items():\n",
    "            if data['decision_time'] and data['avail']:\n",
    "                key = time\n",
    "                if key not in optimal_actions:\n",
    "                    optimal_actions[key]=[]\n",
    "                if key not in rewards:\n",
    "                    rewards[key]=[]\n",
    "                if data['optimal_action']!=-1:\n",
    "                    optimal_actions[key].append(int(data['action']==data['optimal_action']))\n",
    "                    regret = int(data['action']!=data['optimal_action'])*(abs(data['optimal_reward']))\n",
    "                    rewards[key].append(regret)\n",
    "    return optimal_actions,rewards"
   ]
  },
  {
   "cell_type": "code",
   "execution_count": 63,
   "metadata": {},
   "outputs": [],
   "source": [
    "actions,regets = get_regret(experiment)"
   ]
  },
  {
   "cell_type": "code",
   "execution_count": 64,
   "metadata": {},
   "outputs": [],
   "source": [
    "def get_to_plot_actions(actions):\n",
    "    \n",
    "    skeys = sorted(actions.keys())\n",
    "    to_plot = []\n",
    "    for k in skeys:\n",
    "        to_plot.append(sum(actions[k])/len(actions[k]))\n",
    "    return to_plot"
   ]
  },
  {
   "cell_type": "code",
   "execution_count": 65,
   "metadata": {},
   "outputs": [],
   "source": [
    "aplot =  get_to_plot_actions(actions)"
   ]
  },
  {
   "cell_type": "code",
   "execution_count": 66,
   "metadata": {},
   "outputs": [
    {
     "data": {
      "text/plain": [
       "[<matplotlib.lines.Line2D at 0x10e718470>]"
      ]
     },
     "execution_count": 66,
     "metadata": {},
     "output_type": "execute_result"
    },
    {
     "data": {
      "image/png": "[encoded data removed]",
      "text/plain": [
       "<Figure size 432x288 with 1 Axes>"
      ]
     },
     "metadata": {
      "needs_background": "light"
     },
     "output_type": "display_data"
    }
   ],
   "source": [
    "plt.plot(aplot)"
   ]
  },
  {
   "cell_type": "code",
   "execution_count": 27,
   "metadata": {},
   "outputs": [
    {
     "ename": "NameError",
     "evalue": "name 'get_to_plot_regrets' is not defined",
     "output_type": "error",
     "traceback": [
      "\u001b[0;31m----------------------------------------------------------------\u001b[0m",
      "\u001b[0;31mNameError\u001b[0m                      Traceback (most recent call last)",
      "\u001b[0;32m<ipython-input-27-80bfa42b8e8e>\u001b[0m in \u001b[0;36m<module>\u001b[0;34m\u001b[0m\n\u001b[0;32m----> 1\u001b[0;31m \u001b[0mrplot\u001b[0m \u001b[0;34m=\u001b[0m  \u001b[0mget_to_plot_regrets\u001b[0m\u001b[0;34m(\u001b[0m\u001b[0mactions\u001b[0m\u001b[0;34m)\u001b[0m\u001b[0;34m\u001b[0m\u001b[0;34m\u001b[0m\u001b[0m\n\u001b[0m\u001b[1;32m      2\u001b[0m \u001b[0mplt\u001b[0m\u001b[0;34m.\u001b[0m\u001b[0mplot\u001b[0m\u001b[0;34m(\u001b[0m\u001b[0mrplot\u001b[0m\u001b[0;34m)\u001b[0m\u001b[0;34m\u001b[0m\u001b[0;34m\u001b[0m\u001b[0m\n",
      "\u001b[0;31mNameError\u001b[0m: name 'get_to_plot_regrets' is not defined"
     ]
    }
   ],
   "source": [
    "rplot =  get_to_plot_regrets(actions)\n",
    "plt.plot(rplot)\n"
   ]
  },
  {
   "cell_type": "code",
   "execution_count": 28,
   "metadata": {},
   "outputs": [],
   "source": [
    "def run_many():\n",
    "    for case in ['case_one']:\n",
    "        #,'case_two','case_three'\n",
    "    #case = 'case_one'\n",
    "        for u in [1]:\n",
    "        \n",
    "            all_actions = {}\n",
    "            all_rewards = {}\n",
    "            feat_trans = tf.feature_transformation('../../Downloads/distributions/')\n",
    "        \n",
    "            for sim in range(50):\n",
    "                pop_size=32\n",
    "                experiment = study.study('../../Downloads/distributions/',pop_size,'short',which_gen=case,sim_number=sim)\n",
    "                glob,personal = initialize_policy_params_TS(experiment,u,standardize=False)\n",
    "                hist = new_kind_of_simulation(experiment,'TS',personal,glob,tf=feat_trans)\n",
    "                to_Save = make_to_save(experiment)\n",
    "                actions,rewards = get_regret(experiment)\n",
    "            \n",
    "                for i,a in actions.items():\n",
    "                    if i not in all_actions:\n",
    "                        all_actions[i]=a\n",
    "                    else:\n",
    "                        all_actions[i].extend(a)\n",
    "                for i,a in rewards.items():\n",
    "                    if i not in all_rewards:\n",
    "                        all_rewards[i]=a\n",
    "                    else:\n",
    "                        all_rewards[i].extend(a)\n",
    "            \n",
    "\n",
    "                filename = '{}/results/{}/population_size_{}_update_days_{}_{}_static_sim_{}_orignowhrandless_coeff.pkl'.format('../../Downloads/pooling_results/personalized/',case,pop_size,u,'short',sim)\n",
    "                with open(filename,'wb') as f:\n",
    "                    pickle.dump(to_Save,f)\n",
    "            filename = '{}/results/{}/population_size_{}_update_days_{}_{}_static_sim_regrets_actions_l_orignowhrandless_coeff.pkl'.format('../../Downloads/pooling_results/personalized/',case,pop_size,u,'short')\n",
    "            with open(filename,'wb') as f:\n",
    "                pickle.dump({'actions':all_actions,'regrets':all_rewards},f)"
   ]
  },
  {
   "cell_type": "code",
   "execution_count": 29,
   "metadata": {},
   "outputs": [
    {
     "name": "stdout",
     "output_type": "stream",
     "text": [
      "18\n",
      "init weather\n",
      "18\n",
      "init weather\n",
      "18\n",
      "init weather\n",
      "18\n",
      "init weather\n",
      "18\n",
      "init weather\n",
      "18\n",
      "init weather\n",
      "18\n",
      "init weather\n",
      "18\n",
      "init weather\n",
      "18\n",
      "init weather\n",
      "18\n",
      "init weather\n",
      "18\n",
      "init weather\n",
      "18\n",
      "init weather\n",
      "18\n",
      "init weather\n",
      "18\n",
      "init weather\n",
      "18\n",
      "init weather\n",
      "18\n",
      "init weather\n",
      "18\n",
      "init weather\n",
      "18\n",
      "init weather\n",
      "18\n",
      "init weather\n",
      "18\n",
      "init weather\n",
      "18\n",
      "init weather\n",
      "18\n",
      "init weather\n",
      "18\n",
      "init weather\n",
      "18\n",
      "init weather\n",
      "18\n",
      "init weather\n",
      "18\n",
      "init weather\n",
      "18\n",
      "init weather\n",
      "18\n",
      "init weather\n",
      "18\n",
      "init weather\n",
      "18\n",
      "init weather\n",
      "18\n",
      "init weather\n",
      "18\n",
      "init weather\n",
      "18\n",
      "init weather\n",
      "18\n",
      "init weather\n",
      "18\n",
      "init weather\n",
      "18\n",
      "init weather\n",
      "18\n",
      "init weather\n",
      "18\n",
      "init weather\n",
      "18\n",
      "init weather\n",
      "18\n",
      "init weather\n",
      "18\n",
      "init weather\n",
      "18\n",
      "init weather\n",
      "18\n",
      "init weather\n",
      "18\n",
      "init weather\n",
      "18\n",
      "init weather\n",
      "18\n",
      "init weather\n",
      "18\n",
      "init weather\n",
      "18\n",
      "init weather\n",
      "18\n",
      "init weather\n",
      "18\n",
      "init weather\n"
     ]
    }
   ],
   "source": [
    "run_many()\n"
   ]
  },
  {
   "cell_type": "code",
   "execution_count": null,
   "metadata": {},
   "outputs": [],
   "source": [
    "to_Save = make_to_save(experiment)"
   ]
  },
  {
   "cell_type": "code",
   "execution_count": null,
   "metadata": {},
   "outputs": [],
   "source": [
    "    filename = '{}/results/population_size_{}_update_days_{}_{}_static.pkl'.format('../../Downloads/pooling_results/personalized/',pop_size,7,'short')\n",
    "    with open(filename,'wb') as f:\n",
    "        pickle.dump(to_Save,f)"
   ]
  },
  {
   "cell_type": "code",
   "execution_count": null,
   "metadata": {},
   "outputs": [],
   "source": [
    "goods = []\n",
    "bads = []\n",
    "for participant in experiment.population:\n",
    "    if personal.mus2[participant][0]>0 and personal.mus2[participant][1]>0:\n",
    "        goods.append(participant)\n",
    "    else:\n",
    "        bads.append(participant)\n",
    "print(len(goods))\n",
    "print(len(bads))\n",
    "print(len(goods)/(len(goods)+len(bads)))\n"
   ]
  },
  {
   "cell_type": "markdown",
   "metadata": {},
   "source": [
    "##### all_steps  = [\n",
    "]\n",
    "for p in experiment.population.values():\n",
    "    all_steps.extend([v['steps'] for v in p.history.values()])"
   ]
  },
  {
   "cell_type": "code",
   "execution_count": 72,
   "metadata": {},
   "outputs": [
    {
     "data": {
      "text/plain": [
       "0"
      ]
     },
     "execution_count": 72,
     "metadata": {},
     "output_type": "execute_result"
    }
   ],
   "source": [
    "#o\n",
    "20.15853214263916\n",
    "0.16741123356661955\n",
    "247.8333568572998\n",
    "#faster\n",
    "\n",
    "#with more data\n",
    "159\n",
    "0.0390877393575815"
   ]
  },
  {
   "cell_type": "code",
   "execution_count": 34,
   "metadata": {},
   "outputs": [],
   "source": [
    "xz = np.ones((23,23))"
   ]
  },
  {
   "cell_type": "code",
   "execution_count": 36,
   "metadata": {},
   "outputs": [],
   "source": [
    "y = np.array([np.array([1]+[i for i in row]) for row in xz]).mean()"
   ]
  },
  {
   "cell_type": "code",
   "execution_count": 37,
   "metadata": {},
   "outputs": [
    {
     "data": {
      "text/plain": [
       "1.0"
      ]
     },
     "execution_count": 37,
     "metadata": {},
     "output_type": "execute_result"
    }
   ],
   "source": [
    "y"
   ]
  }
 ],
 "metadata": {
  "anaconda-cloud": {},
  "kernelspec": {
   "display_name": "Python 3",
   "language": "python",
   "name": "python3"
  },
  "language_info": {
   "codemirror_mode": {
    "name": "ipython",
    "version": 3
   },
   "file_extension": ".py",
   "mimetype": "text/x-python",
   "name": "python",
   "nbconvert_exporter": "python",
   "pygments_lexer": "ipython3",
   "version": "3.6.8"
  }
 },
 "nbformat": 4,
 "nbformat_minor": 1
}
