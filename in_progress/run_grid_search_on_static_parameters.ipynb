{
 "cells": [
  {
   "cell_type": "code",
   "execution_count": 1,
   "metadata": {},
   "outputs": [],
   "source": [
    "##get data\n",
    "import numpy as np\n",
    "import sys\n",
    "sys.path\n",
    "sys.path.append('../models')\n",
    "import pickle\n",
    "import math\n",
    "import tensorflow as tf\n",
    "import gpflow\n",
    "import random\n",
    "from sklearn import preprocessing"
   ]
  },
  {
   "cell_type": "code",
   "execution_count": 2,
   "metadata": {},
   "outputs": [],
   "source": [
    "user_index = 12\n",
    "day_index = 13\n",
    "baseline_indices = [i for i in range(12)]\n",
    "psi =[0,6]"
   ]
  },
  {
   "cell_type": "code",
   "execution_count": 45,
   "metadata": {},
   "outputs": [],
   "source": [
    "user_index = 128\n",
    "day_index = 129\n",
    "baseline_indices = [i for i in range(128)]\n",
    "psi =[0,64]"
   ]
  },
  {
   "cell_type": "code",
   "execution_count": 3,
   "metadata": {},
   "outputs": [],
   "source": [
    "##set grid\n",
    "u1 = np.arange(.1,1.1,.1)\n",
    "u2 = np.arange(.1,1.1,.1)\n",
    "rho = np.arange(.8,1.1,.05)"
   ]
  },
  {
   "cell_type": "code",
   "execution_count": 4,
   "metadata": {},
   "outputs": [],
   "source": [
    "v1 = np.arange(.1,1,.1)\n",
    "v2 = np.arange(.1,2,.5)"
   ]
  },
  {
   "cell_type": "code",
   "execution_count": 5,
   "metadata": {},
   "outputs": [],
   "source": [
    "\n",
    "noise = np.arange(5000.0,6000.0,100.0)\n"
   ]
  },
  {
   "cell_type": "code",
   "execution_count": 6,
   "metadata": {},
   "outputs": [],
   "source": [
    "#_onehot_rm_mid\n",
    "#mid_nonhot\n",
    "with open('../../Downloads/processed_data_for_gridsearch_GP_rm_mid_nonhot.pkl','rb') as f:\n",
    "    data = pickle.load(f)\n",
    "    "
   ]
  },
  {
   "cell_type": "code",
   "execution_count": 7,
   "metadata": {},
   "outputs": [],
   "source": [
    "X=data[0]\n",
    "y=data[1]"
   ]
  },
  {
   "cell_type": "code",
   "execution_count": 8,
   "metadata": {},
   "outputs": [],
   "source": [
    "def rbf_custom_np( X, X2=None):\n",
    "        #print(X)\n",
    "        #print(X2)\n",
    "        if X2 is None:\n",
    "             X2=X\n",
    "        return math.exp(-((X-X2)**2)/1.0)\n",
    "        #tf.divide(tf.square(-tf.subtract(X,X2)),tf.constant(1.0,dtype=tf.float64)))\n"
   ]
  },
  {
   "cell_type": "code",
   "execution_count": 9,
   "metadata": {},
   "outputs": [],
   "source": [
    "import CustomKernelStatic\n"
   ]
  },
  {
   "cell_type": "code",
   "execution_count": 10,
   "metadata": {},
   "outputs": [
    {
     "data": {
      "text/plain": [
       "[-0.0, 4.0, 37.0]"
      ]
     },
     "execution_count": 10,
     "metadata": {},
     "output_type": "execute_result"
    }
   ],
   "source": [
    "X[900][-3:]"
   ]
  },
  {
   "cell_type": "code",
   "execution_count": 10,
   "metadata": {},
   "outputs": [],
   "source": [
    "def get_likelihood(u1,u2,s1,s2,rho,noise,X,y,rhos,users):\n",
    "    sess = tf.Session()\n",
    "    k =  CustomKernelStatic.CustomKernelStatic(194,mysession=sess,rhos=rhos,select_users=users,baseline_indices=[i for i in range(192)],\\\n",
    "                  psi_indices=[0,64],user_day_index=193,user_index=192,num_data_points=len(X),initial_u1=u1,initial_u2=u2,\\\n",
    "                           initial_s1=s1,initial_s2=s2,initial_rho=rho,initial_noise=noise)\n",
    "  \n",
    "    m = gpflow.models.GPR(X,y, kern=k)\n",
    "    m.initialize(session=sess)\n",
    " \n",
    "    try:\n",
    "        l =m.compute_log_likelihood()\n",
    "        print('huzzah')\n",
    "        print(l)\n",
    "    except:\n",
    "        l=-100\n",
    "        print('not huzzah not')\n",
    "        print(l)\n",
    "    sess.close()\n",
    "    return l\n",
    "    ##get likelihood #return likelihood"
   ]
  },
  {
   "cell_type": "code",
   "execution_count": 11,
   "metadata": {},
   "outputs": [],
   "source": [
    "def run():\n",
    "    to_save = {}\n",
    "    u1 = np.arange(.1,1.1,.1)\n",
    "    u2 = np.arange(.1,1.1,.1)\n",
    "    first_rhos = np.arange(.8,1.1,.05)\n",
    "    v1 = np.arange(1,10,1)\n",
    "    v2 = np.arange(1,10,1)\n",
    "    \n",
    "    noise = np.arange(400.0,600.0,100.0)\n",
    "    \n",
    "    with open('../../Downloads/processed_data_for_gridsearch_GP_onehot.pkl','rb') as f:\n",
    "        data = pickle.load(f)\n",
    "    \n",
    "    X=data[0]\n",
    "    y=data[1]\n",
    "    #for x in X:\n",
    "        #x[0]=1+random.random()/.01\n",
    "   # for x in X:\n",
    "       # x[6]=1+random.random()/.01\n",
    "    newX = []\n",
    "    for x in X:\n",
    "        newX.append(np.array([float(i) for i in x]))\n",
    "    newX=np.array(newX)\n",
    "    \n",
    "    rdayone = [x[193] for x in newX]\n",
    "    rdaytwo = rdayone\n",
    "    rhos = np.array([[rbf_custom_np( rdayone[i], X2=rdaytwo[j]) for j in range(len(X))] for i in range(len(X))])\n",
    "    users = np.array([[float(newX[i][192]==newX[j][192]) for j in range(len(X))] for i in range(len(X))])\n",
    "    \n",
    "    print(X.shape)\n",
    "    print(y.shape)\n",
    "    print(len(set(X[:,0])))\n",
    "    for uone in u1:\n",
    "        for utwo in u2:\n",
    "            for rho in first_rhos:\n",
    "                for s1 in v1:\n",
    "                    for s2 in v2:\n",
    "                        for n in noise:\n",
    "                            likli=get_likelihood(uone,uone,s1,s2,rho,n,newX,y,rhos,users)\n",
    "                             \n",
    "                            key = '-'.join([str(i) for i in[uone,utwo,rho,s1,s2,n]])\n",
    "                            to_save[key]=likli\n",
    "                            \n",
    "    return to_save"
   ]
  },
  {
   "cell_type": "code",
   "execution_count": 15,
   "metadata": {},
   "outputs": [],
   "source": [
    " #run()\n",
    "    "
   ]
  },
  {
   "cell_type": "code",
   "execution_count": 12,
   "metadata": {},
   "outputs": [],
   "source": [
    "def new_standardize(X,y):\n",
    "    new_x = [x[:-2] for x in X]\n",
    "    new_x = np.array(new_x)\n",
    "    #ds = np.diag(np.random.rand(new_x.shape[0]))\n",
    "    #ds = np.random.rand(new_x.shape[0],new_x.shape[1])\n",
    "    #print(ds)\n",
    "    #print(new_x)\n",
    "    #new_x = np.add(ds,new_x)\n",
    "    #feature_range=(0, 1)\n",
    "    mm = preprocessing.MinMaxScaler(feature_range=(.01, 1))\n",
    "    new_x =mm.fit_transform(np.array(new_x))\n",
    "    to_return = np.zeros((len(X),len(X[0])))\n",
    "    for i in range(len(X)):\n",
    "        #temp=np.zeros(len(X[i]))\n",
    "        to_return[i][:-2]=new_x[i]\n",
    "        #to_return[i][0]=X[i][0]\n",
    "        #to_return[i][64]=X[i][64]\n",
    "        to_return[i][-2]=X[i][-2]\n",
    "        to_return[i][-1]=X[i][-1]\n",
    "   # mm = preprocessing.MinMaxScaler(feature_range=(50, 100))\n",
    "    #y=mm.fit_transform(y)\n",
    "    return [to_return,y]"
   ]
  },
  {
   "cell_type": "code",
   "execution_count": 14,
   "metadata": {},
   "outputs": [],
   "source": [
    "    #X=data[0]\n",
    "    #y=data[1]\n",
    "    #for x in X:\n",
    "    #    x[0]=1+random.random()\n",
    "    #for x in X:\n",
    "    #    x[6]=1+random.random()"
   ]
  },
  {
   "cell_type": "code",
   "execution_count": 18,
   "metadata": {},
   "outputs": [],
   "source": [
    "newX = []\n",
    "for x in X:\n",
    "    newX.append(np.array([float(i) for i in x]))\n",
    "newX=np.array(newX)\n",
    "#newX=newX.astype(float)\n",
    "newy=y"
   ]
  },
  {
   "cell_type": "code",
   "execution_count": 13,
   "metadata": {},
   "outputs": [],
   "source": [
    "def get_Xy(how_many):\n",
    "    X=data[0]\n",
    "    y=data[1]\n",
    "    \n",
    "    newX = []\n",
    "    for x in X:\n",
    "        newX.append(np.array([float(i) for i in x]))\n",
    "    newX=np.array(newX)\n",
    "\n",
    "    newy=y\n",
    "    \n",
    "    perms = np.random.permutation(newX.shape[0])\n",
    "    \n",
    "    temp_x = np.array([newX[i] for i in perms])\n",
    "    temp_y = np.array([newy[i] for i in perms])\n",
    "    #temp_x,temp_y = new_standardize(temp_x,temp_y)\n",
    "    return temp_x[:how_many],temp_y[:how_many]\n",
    "    "
   ]
  },
  {
   "cell_type": "code",
   "execution_count": 14,
   "metadata": {},
   "outputs": [],
   "source": [
    "newX,newy = get_Xy(len(X))"
   ]
  },
  {
   "cell_type": "code",
   "execution_count": 15,
   "metadata": {},
   "outputs": [],
   "source": [
    "\n",
    "    rdayone = [x[day_index] for x in newX]\n",
    "    rdaytwo = rdayone\n",
    "    rhos = np.array([[rbf_custom_np( rdayone[i], X2=rdaytwo[j]) for j in range(len(newX))] for i in range(len(newX))])\n",
    "    users = np.array([[float(newX[i][user_index]==newX[j][user_index]) for j in range(len(newX))] for i in range(len(newX))])\n",
    "    "
   ]
  },
  {
   "cell_type": "code",
   "execution_count": 16,
   "metadata": {},
   "outputs": [
    {
     "data": {
      "text/plain": [
       "(6286, 14)"
      ]
     },
     "execution_count": 16,
     "metadata": {},
     "output_type": "execute_result"
    }
   ],
   "source": [
    "newX.shape"
   ]
  },
  {
   "cell_type": "code",
   "execution_count": 43,
   "metadata": {},
   "outputs": [],
   "source": [
    "#newX,newy = new_standardize(newX,newy)\n",
    "\n",
    "#newy=y"
   ]
  },
  {
   "cell_type": "code",
   "execution_count": 44,
   "metadata": {},
   "outputs": [],
   "source": [
    "#newX[300]"
   ]
  },
  {
   "cell_type": "code",
   "execution_count": 138,
   "metadata": {},
   "outputs": [
    {
     "data": {
      "text/plain": [
       "array([[298.],\n",
       "       [  0.],\n",
       "       [492.],\n",
       "       ...,\n",
       "       [  0.],\n",
       "       [314.],\n",
       "       [102.]])"
      ]
     },
     "execution_count": 138,
     "metadata": {},
     "output_type": "execute_result"
    }
   ],
   "source": [
    "newy"
   ]
  },
  {
   "cell_type": "code",
   "execution_count": 55,
   "metadata": {},
   "outputs": [],
   "source": [
    "u1[0]=42185.919130213224\n",
    "u2[0]=1e-06\n",
    "v1[0]=1e-06\n",
    "v2[0]= 1e-06\n",
    "noise[0]=90448.869339658486\n",
    "rho[0]=2"
   ]
  },
  {
   "cell_type": "code",
   "execution_count": 19,
   "metadata": {},
   "outputs": [],
   "source": [
    "sess.close()\n"
   ]
  },
  {
   "cell_type": "code",
   "execution_count": null,
   "metadata": {},
   "outputs": [
    {
     "name": "stderr",
     "output_type": "stream",
     "text": [
      "WARNING:gpflow.logdensities:Shape of x must be 2D at computation.\n",
      "WARNING:gpflow.logdensities:Shape of mu may be unknown or not 2D.\n"
     ]
    }
   ],
   "source": [
    "    sess = tf.Session()\n",
    "    k =  CustomKernelStatic.CustomKernelStatic(len(X[0]),mysession=sess,rhos=rhos,select_users=users,baseline_indices=baseline_indices,\\\n",
    "                  psi_indices=psi,user_day_index=day_index,user_index=user_index,num_data_points=len(newX),initial_u1=u1[0],initial_u2=u2[0],\\\n",
    "                           initial_s1=v1[0],initial_s2=v2[0],initial_rho=rho[0],initial_noise=noise[0])\n",
    "  \n",
    "    m = gpflow.models.GPR(newX,newy, kern=k)\n",
    "    m.initialize(session=sess)\n",
    "    #m.likelihood.variance=0\n",
    "    #m.likelihood.variance.trainable =False"
   ]
  },
  {
   "cell_type": "code",
   "execution_count": null,
   "metadata": {},
   "outputs": [],
   "source": [
    "gpflow.train.ScipyOptimizer().minimize(m,session=sess)\n",
    "#lik=m.compute_log_likelihood()\n",
    "\n"
   ]
  },
  {
   "cell_type": "code",
   "execution_count": 21,
   "metadata": {},
   "outputs": [
    {
     "name": "stdout",
     "output_type": "stream",
     "text": [
      "3579.43015185706\n",
      "1e-06\n",
      "[[[4492.02905157    0.        ]\n",
      "  [   0.         2027.39758508]]]\n",
      "4.332451923484488e-24\n",
      "14367.371087724912\n"
     ]
    }
   ],
   "source": [
    "print(m.kern.sigma_u1.value)\n",
    "print(m.kern.sigma_u2.value)\n",
    "print(m.kern.sigma_v.value)\n",
    "print(m.kern.sigma_rho.value)\n",
    "print(m.kern.noise_term.value)\n",
    "print(m.likelihood.variance.value)"
   ]
  },
  {
   "cell_type": "code",
   "execution_count": 48,
   "metadata": {},
   "outputs": [
    {
     "name": "stdout",
     "output_type": "stream",
     "text": [
      "42185.919130213224\n",
      "1e-06\n",
      "[[[1.e-06 0.e+00]\n",
      "  [0.e+00 1.e-06]]]\n",
      "2.0\n",
      "63591.23048226423\n"
     ]
    }
   ],
   "source": [
    "print(m.kern.sigma_u1.value)\n",
    "print(m.kern.sigma_u2.value)\n",
    "print(m.kern.sigma_v.value)\n",
    "print(m.kern.sigma_rho.value)\n",
    "print(m.kern.noise_term.value)"
   ]
  },
  {
   "cell_type": "code",
   "execution_count": 38,
   "metadata": {},
   "outputs": [
    {
     "name": "stdout",
     "output_type": "stream",
     "text": [
      "32444.132304687628\n",
      "1e-06\n",
      "[[[1.36860511e+03 0.00000000e+00]\n",
      "  [0.00000000e+00 1.00000000e-06]]]\n",
      "9.24832631638378e-187\n",
      "72107.18149736902\n"
     ]
    }
   ],
   "source": [
    "print(m.kern.sigma_u1.value)\n",
    "print(m.kern.sigma_u2.value)\n",
    "print(m.kern.sigma_v.value)\n",
    "print(m.kern.sigma_rho.value)\n",
    "print(m.kern.noise_term.value)"
   ]
  },
  {
   "cell_type": "code",
   "execution_count": 92,
   "metadata": {},
   "outputs": [
    {
     "data": {
      "text/plain": [
       "array(35636.58405931)"
      ]
     },
     "execution_count": 92,
     "metadata": {},
     "output_type": "execute_result"
    }
   ],
   "source": [
    "m.kern.sigma_u1.value"
   ]
  },
  {
   "cell_type": "code",
   "execution_count": 93,
   "metadata": {},
   "outputs": [
    {
     "data": {
      "text/plain": [
       "array(35636.58405931)"
      ]
     },
     "execution_count": 93,
     "metadata": {},
     "output_type": "execute_result"
    }
   ],
   "source": [
    "m.kern.sigma_u2.value"
   ]
  },
  {
   "cell_type": "code",
   "execution_count": 94,
   "metadata": {},
   "outputs": [
    {
     "data": {
      "text/plain": [
       "array([[[1.00000000e-01, 0.00000000e+00],\n",
       "        [0.00000000e+00, 4.78052777e+03]]])"
      ]
     },
     "execution_count": 94,
     "metadata": {},
     "output_type": "execute_result"
    }
   ],
   "source": [
    "m.kern.sigma_v.value"
   ]
  },
  {
   "cell_type": "code",
   "execution_count": 95,
   "metadata": {},
   "outputs": [
    {
     "data": {
      "text/plain": [
       "array(2.)"
      ]
     },
     "execution_count": 95,
     "metadata": {},
     "output_type": "execute_result"
    }
   ],
   "source": [
    "m.kern.sigma_rho.value"
   ]
  },
  {
   "cell_type": "code",
   "execution_count": 96,
   "metadata": {},
   "outputs": [
    {
     "data": {
      "text/plain": [
       "array(72004.57408901)"
      ]
     },
     "execution_count": 96,
     "metadata": {},
     "output_type": "execute_result"
    }
   ],
   "source": [
    "m.kern.noise_term.value"
   ]
  },
  {
   "cell_type": "code",
   "execution_count": 24,
   "metadata": {},
   "outputs": [
    {
     "data": {
      "text/plain": [
       "array([[ 3.57943015e+03, -5.98283390e-02],\n",
       "       [-5.98283390e-02,  1.00000000e-06]])"
      ]
     },
     "execution_count": 24,
     "metadata": {},
     "output_type": "execute_result"
    }
   ],
   "source": [
    "get_sigma_u(3579.43015185706,1e-06,0)"
   ]
  },
  {
   "cell_type": "code",
   "execution_count": 23,
   "metadata": {},
   "outputs": [],
   "source": [
    "def get_sigma_u(u1,u2,rho):\n",
    "    off_diagaonal_term = u1**.5*u2**.5*(rho-1)\n",
    "    return np.array([[u1,off_diagaonal_term],[off_diagaonal_term,u2]])"
   ]
  },
  {
   "cell_type": "code",
   "execution_count": 33,
   "metadata": {},
   "outputs": [],
   "source": [
    "sess.close()"
   ]
  },
  {
   "cell_type": "code",
   "execution_count": 22,
   "metadata": {},
   "outputs": [
    {
     "data": {
      "text/plain": [
       "-1263332.3926229083"
      ]
     },
     "execution_count": 22,
     "metadata": {},
     "output_type": "execute_result"
    }
   ],
   "source": [
    "lik"
   ]
  },
  {
   "cell_type": "code",
   "execution_count": 98,
   "metadata": {},
   "outputs": [
    {
     "data": {
      "text/plain": [
       "-2450425.7153464314"
      ]
     },
     "execution_count": 98,
     "metadata": {},
     "output_type": "execute_result"
    }
   ],
   "source": [
    "lik"
   ]
  },
  {
   "cell_type": "code",
   "execution_count": 23,
   "metadata": {},
   "outputs": [
    {
     "data": {
      "text/plain": [
       "-1269271.1689228236"
      ]
     },
     "execution_count": 23,
     "metadata": {},
     "output_type": "execute_result"
    }
   ],
   "source": [
    "lik\n"
   ]
  },
  {
   "cell_type": "code",
   "execution_count": 49,
   "metadata": {},
   "outputs": [],
   "source": [
    "for x in X:\n",
    "    x[0]=1\n",
    "\n"
   ]
  },
  {
   "cell_type": "code",
   "execution_count": 103,
   "metadata": {},
   "outputs": [
    {
     "data": {
      "text/plain": [
       "407.30819143947593"
      ]
     },
     "execution_count": 103,
     "metadata": {},
     "output_type": "execute_result"
    }
   ],
   "source": [
    "np.array([yy[0] for yy in y]).std()"
   ]
  },
  {
   "cell_type": "code",
   "execution_count": 91,
   "metadata": {},
   "outputs": [
    {
     "name": "stdout",
     "output_type": "stream",
     "text": [
      "0\n",
      "1\n",
      "\n",
      "\n",
      "1\n",
      "2\n",
      "\n",
      "\n",
      "2\n",
      "2\n",
      "\n",
      "\n",
      "3\n",
      "4\n",
      "\n",
      "\n",
      "4\n",
      "2\n",
      "\n",
      "\n",
      "5\n",
      "2\n",
      "\n",
      "\n",
      "6\n",
      "1\n",
      "\n",
      "\n",
      "7\n",
      "2\n",
      "\n",
      "\n",
      "8\n",
      "2\n",
      "\n",
      "\n",
      "9\n",
      "4\n",
      "\n",
      "\n",
      "10\n",
      "2\n",
      "\n",
      "\n",
      "11\n",
      "2\n",
      "\n",
      "\n",
      "12\n",
      "2\n",
      "\n",
      "\n",
      "13\n",
      "3\n",
      "\n",
      "\n",
      "14\n",
      "3\n",
      "\n",
      "\n",
      "15\n",
      "7\n",
      "\n",
      "\n",
      "16\n",
      "3\n",
      "\n",
      "\n",
      "17\n",
      "3\n",
      "\n",
      "\n",
      "18\n",
      "36\n",
      "\n",
      "\n",
      "19\n",
      "62\n",
      "\n",
      "\n"
     ]
    }
   ],
   "source": [
    "for i in range(len(X[0])):\n",
    "    print(i)\n",
    "    print(len(set(X[:,i])))\n",
    "    print('\\n')"
   ]
  },
  {
   "cell_type": "code",
   "execution_count": 25,
   "metadata": {},
   "outputs": [
    {
     "ename": "TypeError",
     "evalue": "'NoneType' object cannot be interpreted as an integer",
     "output_type": "error",
     "traceback": [
      "\u001b[0;31m---------------------------------------------------------------------------\u001b[0m",
      "\u001b[0;31mTypeError\u001b[0m                                 Traceback (most recent call last)",
      "\u001b[0;32m<ipython-input-25-efef495c98b9>\u001b[0m in \u001b[0;36m<module>\u001b[0;34m\u001b[0m\n\u001b[0;32m----> 1\u001b[0;31m \u001b[0mm\u001b[0m \u001b[0;34m=\u001b[0m \u001b[0mnp\u001b[0m\u001b[0;34m.\u001b[0m\u001b[0meye\u001b[0m\u001b[0;34m(\u001b[0m\u001b[0;32mNone\u001b[0m\u001b[0;34m)\u001b[0m\u001b[0;34m\u001b[0m\u001b[0;34m\u001b[0m\u001b[0m\n\u001b[0m\u001b[1;32m      2\u001b[0m \u001b[0mm\u001b[0m \u001b[0;34m=\u001b[0m \u001b[0mnp\u001b[0m\u001b[0;34m.\u001b[0m\u001b[0madd\u001b[0m\u001b[0;34m(\u001b[0m\u001b[0mm\u001b[0m\u001b[0;34m,\u001b[0m\u001b[0;36m.1\u001b[0m\u001b[0;34m)\u001b[0m\u001b[0;34m\u001b[0m\u001b[0;34m\u001b[0m\u001b[0m\n",
      "\u001b[0;32m~/anaconda3/envs/py36/lib/python3.6/site-packages/numpy/lib/twodim_base.py\u001b[0m in \u001b[0;36meye\u001b[0;34m(N, M, k, dtype, order)\u001b[0m\n\u001b[1;32m    184\u001b[0m     \u001b[0;32mif\u001b[0m \u001b[0mM\u001b[0m \u001b[0;32mis\u001b[0m \u001b[0;32mNone\u001b[0m\u001b[0;34m:\u001b[0m\u001b[0;34m\u001b[0m\u001b[0;34m\u001b[0m\u001b[0m\n\u001b[1;32m    185\u001b[0m         \u001b[0mM\u001b[0m \u001b[0;34m=\u001b[0m \u001b[0mN\u001b[0m\u001b[0;34m\u001b[0m\u001b[0;34m\u001b[0m\u001b[0m\n\u001b[0;32m--> 186\u001b[0;31m     \u001b[0mm\u001b[0m \u001b[0;34m=\u001b[0m \u001b[0mzeros\u001b[0m\u001b[0;34m(\u001b[0m\u001b[0;34m(\u001b[0m\u001b[0mN\u001b[0m\u001b[0;34m,\u001b[0m \u001b[0mM\u001b[0m\u001b[0;34m)\u001b[0m\u001b[0;34m,\u001b[0m \u001b[0mdtype\u001b[0m\u001b[0;34m=\u001b[0m\u001b[0mdtype\u001b[0m\u001b[0;34m,\u001b[0m \u001b[0morder\u001b[0m\u001b[0;34m=\u001b[0m\u001b[0morder\u001b[0m\u001b[0;34m)\u001b[0m\u001b[0;34m\u001b[0m\u001b[0;34m\u001b[0m\u001b[0m\n\u001b[0m\u001b[1;32m    187\u001b[0m     \u001b[0;32mif\u001b[0m \u001b[0mk\u001b[0m \u001b[0;34m>=\u001b[0m \u001b[0mM\u001b[0m\u001b[0;34m:\u001b[0m\u001b[0;34m\u001b[0m\u001b[0;34m\u001b[0m\u001b[0m\n\u001b[1;32m    188\u001b[0m         \u001b[0;32mreturn\u001b[0m \u001b[0mm\u001b[0m\u001b[0;34m\u001b[0m\u001b[0;34m\u001b[0m\u001b[0m\n",
      "\u001b[0;31mTypeError\u001b[0m: 'NoneType' object cannot be interpreted as an integer"
     ]
    }
   ],
   "source": [
    "    m = np.eye(None)\n",
    "    m = np.add(m,.1)"
   ]
  },
  {
   "cell_type": "code",
   "execution_count": null,
   "metadata": {},
   "outputs": [],
   "source": []
  }
 ],
 "metadata": {
  "kernelspec": {
   "display_name": "Python 3",
   "language": "python",
   "name": "python3"
  },
  "language_info": {
   "codemirror_mode": {
    "name": "ipython",
    "version": 3
   },
   "file_extension": ".py",
   "mimetype": "text/x-python",
   "name": "python",
   "nbconvert_exporter": "python",
   "pygments_lexer": "ipython3",
   "version": "3.6.8"
  }
 },
 "nbformat": 4,
 "nbformat_minor": 2
}
