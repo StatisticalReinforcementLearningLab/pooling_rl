{
 "cells": [
  {
   "cell_type": "code",
   "execution_count": 240,
   "metadata": {},
   "outputs": [],
   "source": [
    "import pandas as pd\n",
    "import sys\n",
    "sys.path\n",
    "sys.path.append('../models')\n",
    "sys.path.append('../simulation')\n",
    "import numpy as np\n",
    "import pickle\n",
    "import random\n",
    "import os\n",
    "import math\n",
    "import sim_functions_cleaner  as sf\n",
    "import operator\n",
    "import study\n",
    "import time as time_module\n",
    "from scipy.linalg import block_diag\n",
    "import TS_personal_params_pooled as pp\n",
    "import TS_global_params_pooled as gtp\n",
    "from numpy.random import uniform\n",
    "\n",
    "#sys.path.append('../simulation')\n",
    "import TS_fancy_pooled \n",
    "import TS\n",
    "#import TS_fancy_pooled \n",
    "import eta\n",
    "import pooling_bandits as pb\n",
    "import simple_bandits\n",
    "import warnings \n",
    "warnings.simplefilter('ignore')\n",
    "from sklearn import preprocessing\n",
    "#import tensorflow as tf\n",
    "import gc\n",
    "import standard_bandits as do_work\n",
    "import feature_transformations as tf\n",
    "import matplotlib.pyplot as plt\n",
    "%matplotlib inline"
   ]
  },
  {
   "cell_type": "code",
   "execution_count": 90,
   "metadata": {},
   "outputs": [],
   "source": [
    "with open('../simulation/test_this_history.pkl','rb') as f:\n",
    "    rhist = pickle.load(f)"
   ]
  },
  {
   "cell_type": "code",
   "execution_count": 91,
   "metadata": {},
   "outputs": [],
   "source": [
    "def initialize_policy_params_TS(experiment,update_period,standardize=False):\n",
    "    \n",
    "    global_p =gtp.TS_global_params(21,baseline_keys=['tod','dow','pretreatment','location'],psi_features=[0,5], responsivity_keys= ['tod','dow','pretreatment','location'])\n",
    "    personal_p = pp.TS_personal_params()\n",
    "  \n",
    "    \n",
    "    global_p.standardize = standardize\n",
    "    global_p.kdim =21\n",
    "\n",
    "    #global_p.baseline_indices = [i for i in range(24)]\n",
    "\n",
    "    global_p.psi_indices =[0,5]\n",
    "    #[0,64]\n",
    "    global_p.user_id_index =24\n",
    "    #192\n",
    "    #global_p.user_day_index =19\n",
    "    #193\n",
    "    \n",
    "    #global_p.baseline_features = [i for i in range(192)]\n",
    "    global_p.psi_features =[0,5]\n",
    "    #[0,64]\n",
    "    \n",
    "    global_p.update_period = update_period\n",
    "    initial_context = [0 for i in range(global_p.theta_dim)]\n",
    "    \n",
    "    global_p.mus0= global_p.get_mu0(initial_context)\n",
    "    #global_p.get_mu0(initial_context)\n",
    "    global_p.mus1= global_p.get_mu1(global_p.num_baseline_features)\n",
    "    global_p.mus2= global_p.get_mu2(global_p.num_responsivity_features)\n",
    "    #np.array([.120,3.3,-.11])\n",
    "    #global_p.get_mu2(global_p.num_responsivity_features)\n",
    "        \n",
    "    #global_p.sigmas0= global_p.get_asigma(len( personal_p.mus0[person]))\n",
    "    global_p.sigmas1= global_p.get_asigma(global_p.num_baseline_features+1)\n",
    "    global_p.sigmas2= global_p.get_asigma( global_p.num_responsivity_features+1)\n",
    "        \n",
    "        \n",
    "    \n",
    "    #print(type(personal_p))\n",
    "    \n",
    "    for person in experiment.population.keys():\n",
    "        experiment.population[person].root = '../../regal/murphy_lab/pooling/distributions/'\n",
    "        \n",
    "\n",
    "        \n",
    "        personal_p.batch[person]=[[] for i in range(len(experiment.person_to_time[person]))]\n",
    "        personal_p.batch_index[person]=0\n",
    "        \n",
    "        #personal_p.etas[person]=eta.eta()\n",
    "        \n",
    "        personal_p.last_update[person]=experiment.person_to_time[person][0]\n",
    "        \n",
    "        \n",
    "    return global_p ,personal_p     "
   ]
  },
  {
   "cell_type": "code",
   "execution_count": 92,
   "metadata": {},
   "outputs": [
    {
     "name": "stdout",
     "output_type": "stream",
     "text": [
      "15\n"
     ]
    }
   ],
   "source": [
    "##check one the history is similar\n",
    "time = pd.Timestamp('2015-08-17 19:00:00')\n",
    "\n",
    "glob,personal = initialize_policy_params_TS(rhist,7,standardize=False)\n",
    "feat_trans = tf.feature_transformation('../../Downloads/distributions/')\n"
   ]
  },
  {
   "cell_type": "code",
   "execution_count": 93,
   "metadata": {},
   "outputs": [
    {
     "name": "stdout",
     "output_type": "stream",
     "text": [
      "5.124978588962189\n",
      "1.1885715755800625\n"
     ]
    }
   ],
   "source": [
    "##baseline\n",
    "\n",
    "temp_hist = feat_trans.get_history_decision_time_avail(rhist,time)\n",
    "temp_hist= feat_trans.history_semi_continuous(temp_hist,glob)\n",
    "#no intercept but that is added in the other function so it is used in policy update\n",
    "\n",
    "context,steps,probs,actions= feat_trans.get_form_TS(temp_hist)\n",
    "                \n",
    "temp_data = feat_trans.get_phi_from_history_lookups(temp_hist)\n",
    "                #print(context)\n",
    "               # print(steps)\n",
    "steps = feat_trans.get_RT_o(steps,temp_data[0],glob.mu_theta,glob.theta_dim)\n",
    "print(steps.mean())\n",
    "print(steps.std())\n",
    "                #print(len(context))\n",
    "                #print(len(steps))\n",
    "                \n",
    "                ##why is it sigma here and not the noise, which should it be?\n"
   ]
  },
  {
   "cell_type": "code",
   "execution_count": null,
   "metadata": {},
   "outputs": [],
   "source": [
    "steps = feat_trans.get_RT_o(steps,temp_data[0],glob.mu_theta,glob.theta_dim)"
   ]
  },
  {
   "cell_type": "code",
   "execution_count": null,
   "metadata": {},
   "outputs": [],
   "source": [
    "inv_Sigma = solve(Sigma,np.eye(len(Sigma[0])))"
   ]
  },
  {
   "cell_type": "code",
   "execution_count": 336,
   "metadata": {},
   "outputs": [],
   "source": [
    "posterior_baseline= TS.policy_update_ts_new( context,steps,probs,actions,glob.noise_term**.5,\\\n",
    "                                               glob.mus1,\\\n",
    "                                               glob.sigmas1,\\\n",
    "                                               glob.mus2,\\\n",
    "                                               glob.sigmas2,   \n",
    "                                              )\n"
   ]
  },
  {
   "cell_type": "code",
   "execution_count": 185,
   "metadata": {},
   "outputs": [],
   "source": [
    "        f_one = TS.transform_f1_new(context)\n",
    "        f_two = TS.transform_f2_new(context)\n",
    "        \n",
    "        X_trn = TS.get_X_trn_new(f_one,actions,f_two,probs)"
   ]
  },
  {
   "cell_type": "code",
   "execution_count": null,
   "metadata": {},
   "outputs": [],
   "source": [
    " 0.08360331, -0.05316288,  0.30300525,  0.07435143,  0.11629954"
   ]
  },
  {
   "cell_type": "code",
   "execution_count": 337,
   "metadata": {},
   "outputs": [
    {
     "data": {
      "text/plain": [
       "[array([ 0.08360331, -0.05316288,  0.30300525,  0.07435143,  0.11629954]),\n",
       " array([[ 0.09745588, -0.02546992, -0.01280663, -0.07030492, -0.02253609],\n",
       "        [-0.02546992,  0.05045578, -0.0012546 , -0.00505827,  0.00043247],\n",
       "        [-0.01280663, -0.0012546 ,  0.06964607,  0.002033  , -0.0114217 ],\n",
       "        [-0.07030492, -0.00505827,  0.002033  ,  0.08492448,  0.00598308],\n",
       "        [-0.02253609,  0.00043247, -0.0114217 ,  0.00598308,  0.05457523]])]"
      ]
     },
     "execution_count": 337,
     "metadata": {},
     "output_type": "execute_result"
    }
   ],
   "source": [
    "posterior_baseline"
   ]
  },
  {
   "cell_type": "code",
   "execution_count": 241,
   "metadata": {},
   "outputs": [],
   "source": [
    "Sigma_tmp = block_diag(glob.sigmas1,glob.sigmas2,glob.sigmas2)"
   ]
  },
  {
   "cell_type": "code",
   "execution_count": 246,
   "metadata": {},
   "outputs": [],
   "source": [
    "inv_Sigma = np.linalg.solve(Sigma_tmp,np.eye(len(Sigma_tmp[0])))"
   ]
  },
  {
   "cell_type": "code",
   "execution_count": 304,
   "metadata": {},
   "outputs": [],
   "source": [
    "    term_one = np.dot(np.transpose(history[0]),history[0])+(glob.noise_term**.5)*inv_Sigma\n",
    "    term_two = np.dot(np.transpose(history[0]),history[2])+np.dot((glob.noise_term**.5)*inv_Sigma,np.eye(15))\n",
    "    pos_mean = np.linalg.solve(term_one,term_two)"
   ]
  },
  {
   "cell_type": "code",
   "execution_count": 314,
   "metadata": {},
   "outputs": [
    {
     "data": {
      "text/plain": [
       "(15, 15)"
      ]
     },
     "execution_count": 314,
     "metadata": {},
     "output_type": "execute_result"
    }
   ],
   "source": [
    "term_two.shape"
   ]
  },
  {
   "cell_type": "code",
   "execution_count": 96,
   "metadata": {},
   "outputs": [],
   "source": [
    "#pooled\n",
    "temp =feat_trans.get_history_decision_time_avail(rhist,time)\n",
    "                    #print(history[1])\n",
    "t = feat_trans.history_semi_continuous(temp,glob)\n",
    "history = feat_trans.get_phi_from_history_lookups(t)\n",
    "y_adjusted = feat_trans.get_RT_o(history[2],history[0],glob.mu_theta,glob.theta_dim)\n"
   ]
  },
  {
   "cell_type": "code",
   "execution_count": 200,
   "metadata": {},
   "outputs": [
    {
     "data": {
      "text/plain": [
       "1.1885715755800625"
      ]
     },
     "execution_count": 200,
     "metadata": {},
     "output_type": "execute_result"
    }
   ],
   "source": [
    "history[2].std()"
   ]
  },
  {
   "cell_type": "code",
   "execution_count": 315,
   "metadata": {},
   "outputs": [],
   "source": [
    "def get_cov(history,sigma_theta):\n",
    "    return np.dot(np.dot(history,sigma_theta),history.T)"
   ]
  },
  {
   "cell_type": "code",
   "execution_count": 316,
   "metadata": {},
   "outputs": [],
   "source": [
    "cov = get_cov(history[0],glob.sigma_theta)"
   ]
  },
  {
   "cell_type": "code",
   "execution_count": 354,
   "metadata": {},
   "outputs": [
    {
     "data": {
      "text/plain": [
       "array([[3.  , 3.  , 3.  , ..., 2.  , 3.  , 3.  ],\n",
       "       [3.  , 3.  , 3.  , ..., 2.  , 3.  , 3.  ],\n",
       "       [3.  , 3.  , 4.5 , ..., 2.  , 4.5 , 4.5 ],\n",
       "       ...,\n",
       "       [2.  , 2.  , 2.  , ..., 6.84, 4.44, 4.44],\n",
       "       [3.  , 3.  , 4.5 , ..., 4.44, 6.72, 6.72],\n",
       "       [3.  , 3.  , 4.5 , ..., 4.44, 6.72, 6.72]])"
      ]
     },
     "execution_count": 354,
     "metadata": {},
     "output_type": "execute_result"
    }
   ],
   "source": [
    "cov"
   ]
  },
  {
   "cell_type": "code",
   "execution_count": 321,
   "metadata": {},
   "outputs": [],
   "source": [
    "def get_inv_term(cov,X_dim,noise_term):\n",
    "    noise = noise_term * np.eye(cov.shape[0])\n",
    "    middle_term = np.add(cov,noise)\n",
    "    #inv_term = np.linalg.inv(middle_term)\n",
    "    return np.linalg.inv(middle_term)"
   ]
  },
  {
   "cell_type": "code",
   "execution_count": 323,
   "metadata": {},
   "outputs": [],
   "source": [
    "inv_term = get_inv_term(cov,15,glob.noise_term)\n",
    "glob.inv_term = inv_term\n",
    "#np.linalg.inv(glob.noise_term*np.eye(history[0].shape[0]))"
   ]
  },
  {
   "cell_type": "code",
   "execution_count": 338,
   "metadata": {},
   "outputs": [],
   "source": [
    "###I want to compare this step to the policy update, if I set everything to zero will it                               \n",
    "temp = simple_bandits.calculate_posterior_faster(glob,\\\n",
    "                                                  0,0,\\\n",
    "                                                  history[0], history[1],y_adjusted )\n",
    "\n",
    "\n"
   ]
  },
  {
   "cell_type": "code",
   "execution_count": 326,
   "metadata": {},
   "outputs": [],
   "source": [
    "\n",
    "\n",
    "\n",
    "\n",
    "def get_M_faster(global_params,user_id,user_study_day,history,users):\n",
    "    \n",
    "    \n",
    "    day_id =user_study_day\n",
    "    #print(history)\n",
    "    M = [[] for i in range(history.shape[0])]\n",
    "    \n",
    "    H = simple_bandits.create_H(global_params.num_baseline_features,global_params.num_responsivity_features)\n",
    "    \n",
    "    phi = history[:,global_params.baseline_indices]\n",
    "    ##should be fine\n",
    "    #print(global_params.sigma_theta)\n",
    "    t_one = np.dot(phi,global_params.sigma_theta)\n",
    "    #print(t_one.shape)\n",
    "    temp = np.dot(H,global_params.sigma_u)\n",
    "    #print(temp.shape)\n",
    "    #print(global_params.sigma_u)\n",
    "    temp = np.dot(temp,H.T)\n",
    "    temp = np.dot(phi,temp)\n",
    "    \n",
    "    user_ids =users\n",
    "    #history[:,global_params.user_id_index]\n",
    "\n",
    "    my_days = np.ma.masked_where(user_ids==user_id, user_ids).mask.astype(float)\n",
    "    \n",
    "    if type(my_days)!=np.ndarray:\n",
    "        my_days = np.zeros(history.shape[0])\n",
    "    user_matrix = np.diag(my_days)\n",
    "\n",
    "    t_two = np.matmul(user_matrix,temp)\n",
    "    #print(set([i for i in t_two[1000]]))\n",
    "    term = np.add(t_one,t_two)\n",
    "    \n",
    "    \n",
    "    return term\n"
   ]
  },
  {
   "cell_type": "code",
   "execution_count": 330,
   "metadata": {},
   "outputs": [],
   "source": [
    "def get_middle_term(X_dim,cov,noise_term,M,adjusted_rewards,mu_theta,inv_term):\n",
    "  \n",
    "    middle_term = np.matmul(M.T,inv_term)\n",
    "    print(middle_term.shape)\n",
    "    #return middle_term\n",
    "    #return middle_term\n",
    "    #print(middle_term)\n",
    "    print(inv_term.shape)\n",
    "    print(adjusted_rewards.shape)\n",
    "    middle_term = np.matmul(middle_term,adjusted_rewards)\n",
    "    #print(middle_term)\n",
    "    print(middle_term.shape)\n",
    "    #return middle_term\n",
    "    return np.add(mu_theta,middle_term.T[0])"
   ]
  },
  {
   "cell_type": "code",
   "execution_count": 353,
   "metadata": {},
   "outputs": [
    {
     "name": "stdout",
     "output_type": "stream",
     "text": [
      "(15, 2783)\n",
      "(2783, 2783)\n",
      "(2783, 1)\n",
      "(15, 1)\n"
     ]
    },
    {
     "data": {
      "text/plain": [
       "array([ 0.08360331, -0.05316288,  0.30300525,  0.07435143,  0.11629954])"
      ]
     },
     "execution_count": 353,
     "metadata": {},
     "output_type": "execute_result"
    }
   ],
   "source": [
    "H = simple_bandits.create_H(glob.num_baseline_features,glob.num_responsivity_features)\n",
    "M = get_M_faster(glob,2,-1,history[0],history[1])\n",
    "mu = get_middle_term(2,-1,10,M,np.array([i for i in history[2]]),glob.mu_theta,glob.inv_term)\n",
    "mu[-5:]"
   ]
  },
  {
   "cell_type": "code",
   "execution_count": 376,
   "metadata": {},
   "outputs": [],
   "source": [
    "def get_post_sigma(H,cov,sigma_u,sigma_v,noise_term,M,x_dim,sigma_theta,inv_term):\n",
    "    #M = get_M(global_params,user_id,user_study_day,history[0])\n",
    "    \n",
    "    ##change this to be mu_theta\n",
    "    ##is it updated?  the current mu_theta?\n",
    "    #adjusted_rewards =[history[1][i]-np.dot(history[0][i][0:6],np.ones(6)) for i in range(len(history[0]))]\n",
    "    \n",
    "    \n",
    "    \n",
    "    #first_term = np.add(sigma_u,sigma_v)\n",
    "    first_term = sigma_u\n",
    "   \n",
    "    first_term = np.dot(H,first_term)\n",
    "\n",
    "    first_term = np.dot(first_term,H.T)\n",
    "    #print(first_term)\n",
    "    \n",
    "    #noise = noise_term * np.eye(x_dim)\n",
    "    #print(noise.shape)\n",
    "    #middle_term = np.add(cov,noise)\n",
    "    #print(middle_term.shape)\n",
    "    middle_term = np.dot(M.T,inv_term)\n",
    "    #print(middle_term.shape)\n",
    "    middle_term = np.dot(middle_term,M)\n",
    "    #print(middle_term.shape)\n",
    "    last = np.add(sigma_theta,first_term)\n",
    "    last = np.subtract(last,middle_term)\n",
    "    \n",
    "    return last"
   ]
  },
  {
   "cell_type": "code",
   "execution_count": 377,
   "metadata": {},
   "outputs": [],
   "source": [
    "sigma = get_post_sigma(H,cov,glob.sigma_u.reshape(2,2),None,glob.noise_term,M,history[0].shape[0],glob.sigma_theta,glob.inv_term)"
   ]
  },
  {
   "cell_type": "code",
   "execution_count": 378,
   "metadata": {},
   "outputs": [],
   "source": [
    "stuff = []\n",
    "for row in range(10,15):\n",
    "    temp = []\n",
    "    for column in range(10,15):\n",
    "        temp.append(sigma[row][column])\n",
    "    stuff.append(temp)"
   ]
  },
  {
   "cell_type": "code",
   "execution_count": 379,
   "metadata": {},
   "outputs": [
    {
     "data": {
      "text/plain": [
       "[[0.09745587947806533,\n",
       "  -0.025469924653243013,\n",
       "  -0.012806625753481037,\n",
       "  -0.07030492324433216,\n",
       "  -0.022536094346316617],\n",
       " [-0.02546992465324508,\n",
       "  0.05045577614007846,\n",
       "  -0.0012546047838403807,\n",
       "  -0.005058265196319495,\n",
       "  0.0004324715363728077],\n",
       " [-0.012806625753481687,\n",
       "  -0.0012546047838398562,\n",
       "  0.06964606619671421,\n",
       "  0.0020329995729350472,\n",
       "  -0.011421697858617592],\n",
       " [-0.07030492324433063,\n",
       "  -0.005058265196317997,\n",
       "  0.0020329995729349536,\n",
       "  0.08492447755579302,\n",
       "  0.005983080967406025],\n",
       " [-0.0225360943463175,\n",
       "  0.00043247153637395765,\n",
       "  -0.011421697858617135,\n",
       "  0.005983080967405893,\n",
       "  0.05457523218297167]]"
      ]
     },
     "execution_count": 379,
     "metadata": {},
     "output_type": "execute_result"
    }
   ],
   "source": [
    "stuff"
   ]
  },
  {
   "cell_type": "code",
   "execution_count": null,
   "metadata": {},
   "outputs": [],
   "source": [
    " array([[ 0.09745588, -0.02546992, -0.01280663, -0.07030492, -0.02253609],\n",
    "        [-0.02546992,  0.05045578, -0.0012546 , -0.00505827,  0.00043247],\n",
    "        [-0.01280663, -0.0012546 ,  0.06964607,  0.002033  , -0.0114217 ],\n",
    "        [-0.07030492, -0.00505827,  0.002033  ,  0.08492448,  0.00598308],\n",
    "        [-0.02253609,  0.00043247, -0.0114217 ,  0.00598308,  0.05457523]])]"
   ]
  },
  {
   "cell_type": "code",
   "execution_count": 352,
   "metadata": {},
   "outputs": [],
   "source": [
    "glob.sigma_u = np.array([[0,0],[0,0]])"
   ]
  },
  {
   "cell_type": "code",
   "execution_count": 308,
   "metadata": {},
   "outputs": [],
   "source": [
    "mt = np.dot(M.T,glob.inv_term)\n",
    "t2 = np.dot(mt,history[2])\n",
    "#np.linalg.solve(np.dot(M.T,glob.inv_term),)"
   ]
  },
  {
   "cell_type": "code",
   "execution_count": 312,
   "metadata": {},
   "outputs": [
    {
     "ename": "LinAlgError",
     "evalue": "Last 2 dimensions of the array must be square",
     "output_type": "error",
     "traceback": [
      "\u001b[0;31m--------------------------------------------------------------------\u001b[0m",
      "\u001b[0;31mLinAlgError\u001b[0m                        Traceback (most recent call last)",
      "\u001b[0;32m<ipython-input-312-2614272e79e8>\u001b[0m in \u001b[0;36m<module>\u001b[0;34m\u001b[0m\n\u001b[0;32m----> 1\u001b[0;31m \u001b[0mnp\u001b[0m\u001b[0;34m.\u001b[0m\u001b[0mlinalg\u001b[0m\u001b[0;34m.\u001b[0m\u001b[0msolve\u001b[0m\u001b[0;34m(\u001b[0m\u001b[0mhistory\u001b[0m\u001b[0;34m[\u001b[0m\u001b[0;36m2\u001b[0m\u001b[0;34m]\u001b[0m\u001b[0;34m,\u001b[0m\u001b[0mmt\u001b[0m\u001b[0;34m)\u001b[0m\u001b[0;34m\u001b[0m\u001b[0;34m\u001b[0m\u001b[0m\n\u001b[0m",
      "\u001b[0;32m~/anaconda3/envs/py36/lib/python3.6/site-packages/numpy/linalg/linalg.py\u001b[0m in \u001b[0;36msolve\u001b[0;34m(a, b)\u001b[0m\n\u001b[1;32m    379\u001b[0m     \u001b[0ma\u001b[0m\u001b[0;34m,\u001b[0m \u001b[0m_\u001b[0m \u001b[0;34m=\u001b[0m \u001b[0m_makearray\u001b[0m\u001b[0;34m(\u001b[0m\u001b[0ma\u001b[0m\u001b[0;34m)\u001b[0m\u001b[0;34m\u001b[0m\u001b[0;34m\u001b[0m\u001b[0m\n\u001b[1;32m    380\u001b[0m     \u001b[0m_assertRankAtLeast2\u001b[0m\u001b[0;34m(\u001b[0m\u001b[0ma\u001b[0m\u001b[0;34m)\u001b[0m\u001b[0;34m\u001b[0m\u001b[0;34m\u001b[0m\u001b[0m\n\u001b[0;32m--> 381\u001b[0;31m     \u001b[0m_assertNdSquareness\u001b[0m\u001b[0;34m(\u001b[0m\u001b[0ma\u001b[0m\u001b[0;34m)\u001b[0m\u001b[0;34m\u001b[0m\u001b[0;34m\u001b[0m\u001b[0m\n\u001b[0m\u001b[1;32m    382\u001b[0m     \u001b[0mb\u001b[0m\u001b[0;34m,\u001b[0m \u001b[0mwrap\u001b[0m \u001b[0;34m=\u001b[0m \u001b[0m_makearray\u001b[0m\u001b[0;34m(\u001b[0m\u001b[0mb\u001b[0m\u001b[0;34m)\u001b[0m\u001b[0;34m\u001b[0m\u001b[0;34m\u001b[0m\u001b[0m\n\u001b[1;32m    383\u001b[0m     \u001b[0mt\u001b[0m\u001b[0;34m,\u001b[0m \u001b[0mresult_t\u001b[0m \u001b[0;34m=\u001b[0m \u001b[0m_commonType\u001b[0m\u001b[0;34m(\u001b[0m\u001b[0ma\u001b[0m\u001b[0;34m,\u001b[0m \u001b[0mb\u001b[0m\u001b[0;34m)\u001b[0m\u001b[0;34m\u001b[0m\u001b[0;34m\u001b[0m\u001b[0m\n",
      "\u001b[0;32m~/anaconda3/envs/py36/lib/python3.6/site-packages/numpy/linalg/linalg.py\u001b[0m in \u001b[0;36m_assertNdSquareness\u001b[0;34m(*arrays)\u001b[0m\n\u001b[1;32m    213\u001b[0m         \u001b[0mm\u001b[0m\u001b[0;34m,\u001b[0m \u001b[0mn\u001b[0m \u001b[0;34m=\u001b[0m \u001b[0ma\u001b[0m\u001b[0;34m.\u001b[0m\u001b[0mshape\u001b[0m\u001b[0;34m[\u001b[0m\u001b[0;34m-\u001b[0m\u001b[0;36m2\u001b[0m\u001b[0;34m:\u001b[0m\u001b[0;34m]\u001b[0m\u001b[0;34m\u001b[0m\u001b[0;34m\u001b[0m\u001b[0m\n\u001b[1;32m    214\u001b[0m         \u001b[0;32mif\u001b[0m \u001b[0mm\u001b[0m \u001b[0;34m!=\u001b[0m \u001b[0mn\u001b[0m\u001b[0;34m:\u001b[0m\u001b[0;34m\u001b[0m\u001b[0;34m\u001b[0m\u001b[0m\n\u001b[0;32m--> 215\u001b[0;31m             \u001b[0;32mraise\u001b[0m \u001b[0mLinAlgError\u001b[0m\u001b[0;34m(\u001b[0m\u001b[0;34m'Last 2 dimensions of the array must be square'\u001b[0m\u001b[0;34m)\u001b[0m\u001b[0;34m\u001b[0m\u001b[0;34m\u001b[0m\u001b[0m\n\u001b[0m\u001b[1;32m    216\u001b[0m \u001b[0;34m\u001b[0m\u001b[0m\n\u001b[1;32m    217\u001b[0m \u001b[0;32mdef\u001b[0m \u001b[0m_assertFinite\u001b[0m\u001b[0;34m(\u001b[0m\u001b[0;34m*\u001b[0m\u001b[0marrays\u001b[0m\u001b[0;34m)\u001b[0m\u001b[0;34m:\u001b[0m\u001b[0;34m\u001b[0m\u001b[0;34m\u001b[0m\u001b[0m\n",
      "\u001b[0;31mLinAlgError\u001b[0m: Last 2 dimensions of the array must be square"
     ]
    }
   ],
   "source": [
    "#np.linalg.solve(history[2],mt)"
   ]
  },
  {
   "cell_type": "code",
   "execution_count": 206,
   "metadata": {},
   "outputs": [],
   "source": [
    "# [history[2][i]-np.dot(history[0][i],glob.mu_theta) for i in range(len(history[0]))]"
   ]
  },
  {
   "cell_type": "code",
   "execution_count": 207,
   "metadata": {},
   "outputs": [
    {
     "data": {
      "text/plain": [
       "array([1. , 0. , 0. , 1. , 0. , 0.5, 0. , 0. , 0.5, 0. , 0.5, 0. , 0. ,\n",
       "       0.5, 0. ])"
      ]
     },
     "execution_count": 207,
     "metadata": {},
     "output_type": "execute_result"
    }
   ],
   "source": [
    "#np.dot(history[0][0].T,glob.sigma_theta)"
   ]
  },
  {
   "cell_type": "code",
   "execution_count": 208,
   "metadata": {},
   "outputs": [
    {
     "data": {
      "text/plain": [
       "array([1873.49431207, 1095.41811558,  513.15342009, 1642.86756791,\n",
       "        766.69714323, 1233.2406518 ,  715.23285641,  373.10480605,\n",
       "       1094.46307386,  529.54732496,   14.29586599,    6.19407692,\n",
       "         13.05362984,   16.41992942,   11.13901505])"
      ]
     },
     "execution_count": 208,
     "metadata": {},
     "output_type": "execute_result"
    }
   ],
   "source": [
    "mu"
   ]
  },
  {
   "cell_type": "code",
   "execution_count": null,
   "metadata": {},
   "outputs": [],
   "source": []
  }
 ],
 "metadata": {
  "kernelspec": {
   "display_name": "Python 3",
   "language": "python",
   "name": "python3"
  },
  "language_info": {
   "codemirror_mode": {
    "name": "ipython",
    "version": 3
   },
   "file_extension": ".py",
   "mimetype": "text/x-python",
   "name": "python",
   "nbconvert_exporter": "python",
   "pygments_lexer": "ipython3",
   "version": "3.6.8"
  }
 },
 "nbformat": 4,
 "nbformat_minor": 2
}
