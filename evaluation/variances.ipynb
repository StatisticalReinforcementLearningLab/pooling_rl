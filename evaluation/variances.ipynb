{
 "cells": [
  {
   "cell_type": "code",
   "execution_count": 45,
   "metadata": {},
   "outputs": [],
   "source": [
    "import pickle\n",
    "import itertools\n",
    "import pandas as pd\n",
    "import numpy as np\n",
    "import matplotlib.pyplot as plt\n",
    "\n",
    "%matplotlib inline"
   ]
  },
  {
   "cell_type": "code",
   "execution_count": 5,
   "metadata": {},
   "outputs": [],
   "source": [
    "with open('../../Downloads/to_save_personalized_523_tpl4rnf.pkl','rb') as f:\n",
    "    personalized = pickle.load(f)"
   ]
  },
  {
   "cell_type": "code",
   "execution_count": 50,
   "metadata": {},
   "outputs": [],
   "source": [
    "with open('../../Downloads/cases_to_plot_base_523_tpl4rnf.pkl','rb') as f:\n",
    "    pooled = pickle.load(f)"
   ]
  },
  {
   "cell_type": "code",
   "execution_count": 3,
   "metadata": {},
   "outputs": [],
   "source": [
    "##within study variance\n",
    "#sum_k=1^K(n_k * (\\bar{x}_k - \\bar{x})^2)\n",
    "#where \\bar{x}_k is the average regret in study k \n",
    "#k is an index of the study\n",
    "#n_k is the number of people in the study\n",
    "#\\bar{x} is the average regret across all people and all studies\n"
   ]
  },
  {
   "cell_type": "code",
   "execution_count": 12,
   "metadata": {},
   "outputs": [],
   "source": [
    "def group_by_time_stamp(case_dict):\n",
    "    to_return={}\n",
    "    \n",
    "    for sim,data in case_dict.items():\n",
    "        for date,results in data.items():\n",
    "            if date not in to_return:\n",
    "                to_return[date]={}\n",
    "            to_return[date][sim]=results\n",
    "    return to_return"
   ]
  },
  {
   "cell_type": "code",
   "execution_count": 72,
   "metadata": {},
   "outputs": [],
   "source": [
    "grouped_pooled = group_by_time_stamp(pooled['case_two']['regrets'])"
   ]
  },
  {
   "cell_type": "code",
   "execution_count": 73,
   "metadata": {},
   "outputs": [],
   "source": [
    "grouped_personalized= group_by_time_stamp(personalized['case_two']['regrets'])"
   ]
  },
  {
   "cell_type": "code",
   "execution_count": 52,
   "metadata": {},
   "outputs": [],
   "source": [
    "def between_study_variance(a_time):\n",
    "    to_return = []\n",
    "    \n",
    "    all_data = list(itertools.chain.from_iterable([v for v in a_time.values()]))\n",
    "    print(len(all_data))\n",
    "    print(sum([len(v) for v in a_time.values()]))\n",
    "    print(32*50)\n",
    "    xbar = np.array(all_data).mean()\n",
    "    for gid,gdata in a_time.items():\n",
    "        to_return.append(len(gdata)*(np.array(gdata).mean()-xbar)**2)\n",
    "    return sum(to_return)"
   ]
  },
  {
   "cell_type": "code",
   "execution_count": 53,
   "metadata": {},
   "outputs": [],
   "source": [
    "test = grouped[pd.Timestamp('2015-07-27 13:00:00')]"
   ]
  },
  {
   "cell_type": "code",
   "execution_count": 54,
   "metadata": {},
   "outputs": [
    {
     "name": "stdout",
     "output_type": "stream",
     "text": [
      "1278\n",
      "1278\n",
      "1600\n"
     ]
    },
    {
     "data": {
      "text/plain": [
       "2.560470248636041"
      ]
     },
     "execution_count": 54,
     "metadata": {},
     "output_type": "execute_result"
    }
   ],
   "source": [
    "between_study_variance(test)"
   ]
  },
  {
   "cell_type": "code",
   "execution_count": 55,
   "metadata": {},
   "outputs": [],
   "source": [
    "##between study variance ? \n",
    "#sum_k=1^K sum_i=1^n_k (x_{i,k}-\\bar{x_k})^2\n",
    "#k is an index of the study\n",
    "#i is an index of the person\n",
    "#n_k is the number of people in the study\n",
    "#\\bar{x} is the average regret across all people and all studies\n",
    "#x_{i,k} is the observation of the ith person in the kth group\n"
   ]
  },
  {
   "cell_type": "code",
   "execution_count": 56,
   "metadata": {},
   "outputs": [],
   "source": [
    "def within_study_variance(a_time):\n",
    "    \n",
    "    to_return = []\n",
    "    for gid,gdata in a_time.items():\n",
    "        this_mean = np.array(gdata).mean()\n",
    "        temp = sum([(i-this_mean)**2 for i in gdata])\n",
    "        to_return.append(temp)\n",
    "    return sum(to_return)\n",
    "    "
   ]
  },
  {
   "cell_type": "code",
   "execution_count": 57,
   "metadata": {},
   "outputs": [],
   "source": [
    "def within_by_date(grouped):\n",
    "    dates = sorted(grouped)\n",
    "    to_return = [within_study_variance(grouped[a_time]) for a_time in dates]\n",
    "    return to_return,dates\n",
    "        "
   ]
  },
  {
   "cell_type": "code",
   "execution_count": 60,
   "metadata": {},
   "outputs": [],
   "source": [
    "def get_weekly_averages(points):\n",
    "    to_return = []\n",
    "    for i in range(0,len(points),35):\n",
    "        temp = points[i:i+35]\n",
    "        to_return.append(np.array(temp).mean())\n",
    "    return to_return"
   ]
  },
  {
   "cell_type": "code",
   "execution_count": 61,
   "metadata": {},
   "outputs": [
    {
     "data": {
      "text/plain": [
       "69.14992467412338"
      ]
     },
     "execution_count": 61,
     "metadata": {},
     "output_type": "execute_result"
    }
   ],
   "source": [
    "within_study_variance(test)"
   ]
  },
  {
   "cell_type": "code",
   "execution_count": 74,
   "metadata": {},
   "outputs": [],
   "source": [
    "a,x = within_by_date(grouped_pooled)\n",
    "app,xpp = within_by_date(grouped_personalized)"
   ]
  },
  {
   "cell_type": "code",
   "execution_count": 76,
   "metadata": {},
   "outputs": [
    {
     "data": {
      "text/plain": [
       "<matplotlib.legend.Legend at 0x14c4ef0b8>"
      ]
     },
     "execution_count": 76,
     "metadata": {},
     "output_type": "execute_result"
    },
    {
     "data": {
      "image/png": "[encoded data removed]",
      "text/plain": [
       "<Figure size 432x288 with 1 Axes>"
      ]
     },
     "metadata": {
      "needs_background": "light"
     },
     "output_type": "display_data"
    }
   ],
   "source": [
    "plt.plot(get_weekly_averages(a),label='pooled')\n",
    "plt.plot(get_weekly_averages(app),label='personalized')\n",
    "plt.legend()"
   ]
  },
  {
   "cell_type": "code",
   "execution_count": null,
   "metadata": {},
   "outputs": [],
   "source": []
  }
 ],
 "metadata": {
  "kernelspec": {
   "display_name": "Python 3",
   "language": "python",
   "name": "python3"
  },
  "language_info": {
   "codemirror_mode": {
    "name": "ipython",
    "version": 3
   },
   "file_extension": ".py",
   "mimetype": "text/x-python",
   "name": "python",
   "nbconvert_exporter": "python",
   "pygments_lexer": "ipython3",
   "version": "3.6.8"
  }
 },
 "nbformat": 4,
 "nbformat_minor": 2
}
