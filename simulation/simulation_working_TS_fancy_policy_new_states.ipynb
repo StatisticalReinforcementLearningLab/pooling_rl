{
 "cells": [
  {
   "cell_type": "code",
   "execution_count": 1,
   "metadata": {
    "collapsed": false
   },
   "outputs": [],
   "source": [
    "import pandas as pd\n",
    "import numpy as np\n",
    "import pickle\n",
    "import random\n",
    "import os\n",
    "import math\n",
    "import sys\n",
    "from numpy.random import uniform\n",
    "sys.path\n",
    "sys.path.append('../models')\n",
    "sys.path.append('../simulation')\n",
    "import TS_fancy\n",
    "import sim_functions as sf\n",
    "import eta\n",
    "import state_params"
   ]
  },
  {
   "cell_type": "markdown",
   "metadata": {},
   "source": [
    "'''\n",
    "Context: \n",
    "group_id,day_of_week,time_of_day,location,weather,previous_step_count,last_step_count,variation_in_step_counts\n",
    "'''"
   ]
  },
  {
   "cell_type": "markdown",
   "metadata": {
    "collapsed": false
   },
   "source": [
    "A study needs some days. So you can specify days like this: \n"
   ]
  },
  {
   "cell_type": "code",
   "execution_count": 2,
   "metadata": {
    "collapsed": true
   },
   "outputs": [],
   "source": [
    "days = pd.date_range(start = '7/22/2015',end =pd.Timestamp('7/22/2015')+pd.DateOffset(days=90),freq='30T')"
   ]
  },
  {
   "cell_type": "markdown",
   "metadata": {},
   "source": [
    "I made 90 days because that's  the length of the study\n",
    "However, because I am lazy, I'm only testing for a week"
   ]
  },
  {
   "cell_type": "code",
   "execution_count": 3,
   "metadata": {
    "collapsed": false
   },
   "outputs": [],
   "source": [
    "def get_decision_times(days):\n",
    "    decision_hours = [10,1,3,5,7]\n",
    "    decision_times = []\n",
    "    for d in days:\n",
    "        new_dt = d\n",
    "        for h in decision_hours:\n",
    "            decision_times.append(new_dt.replace(hour=h))\n",
    "    return decision_times"
   ]
  },
  {
   "cell_type": "markdown",
   "metadata": {},
   "source": [
    "You can pass in a bunch of decision times. I just tested with one. "
   ]
  },
  {
   "cell_type": "code",
   "execution_count": 4,
   "metadata": {
    "collapsed": false
   },
   "outputs": [],
   "source": [
    "decision_times = get_decision_times(days)\n",
    "num_people = 2"
   ]
  },
  {
   "cell_type": "code",
   "execution_count": null,
   "metadata": {
    "collapsed": false
   },
   "outputs": [],
   "source": []
  },
  {
   "cell_type": "markdown",
   "metadata": {},
   "source": [
    "Right now I think the number of people is being totally ignored. This needs to be fixed. "
   ]
  },
  {
   "cell_type": "code",
   "execution_count": 5,
   "metadata": {
    "collapsed": true
   },
   "outputs": [],
   "source": [
    "def get_initial_context(num_people,first_index):\n",
    "    return sf.get_initial_context(num_people,first_index)"
   ]
  },
  {
   "cell_type": "code",
   "execution_count": 6,
   "metadata": {
    "collapsed": false
   },
   "outputs": [
    {
     "name": "stdout",
     "output_type": "stream",
     "text": [
      "hello\n",
      "hello\n"
     ]
    }
   ],
   "source": [
    "peoples_context = get_initial_context(num_people,days[0])[0]"
   ]
  },
  {
   "cell_type": "code",
   "execution_count": 9,
   "metadata": {
    "collapsed": false
   },
   "outputs": [
    {
     "data": {
      "text/plain": [
       "9"
      ]
     },
     "execution_count": 9,
     "metadata": {},
     "output_type": "execute_result"
    }
   ],
   "source": [
    "len(peoples_context)"
   ]
  },
  {
   "cell_type": "code",
   "execution_count": 7,
   "metadata": {
    "collapsed": false
   },
   "outputs": [],
   "source": [
    "def simulate_run(num_people,time_indices,decision_times,init=None,action_algorithm = None):\n",
    "    \n",
    "    \n",
    "    initial_contexts = sf.get_initial_context(num_people,time_indices[0])\n",
    "    \n",
    "    ##for now number of people is one\n",
    "    \n",
    "    all_people = []\n",
    "    \n",
    "    \n",
    "                 \n",
    "    ##Initialize bandit algorithm\n",
    "    \n",
    "    \n",
    "    all_rewards = []\n",
    "    \n",
    "    \n",
    "    \n",
    "    \n",
    "    ##Time is constrained by the input times\n",
    "\n",
    "    \n",
    "    \n",
    "    for n in range(num_people):\n",
    "        #print('person')\n",
    "        initial_context = initial_contexts[n]\n",
    "    \n",
    "        total_reward = 0\n",
    "        \n",
    "        the_eta = eta.eta()\n",
    "    \n",
    "        current_eta = the_eta.eta_init\n",
    "        \n",
    "        batch = [[] for i in range(len(time_indices))]\n",
    "        \n",
    "        ##place_holder\n",
    "        Z_init = initial_context[:2]\n",
    "        ##these two should be in context vector\n",
    "        X_init = 0 \n",
    "        I_init = (uniform() < 0.8)\n",
    "        \n",
    "         # policy initilization\n",
    "        mu_beta = init.mu_2\n",
    "        Sigma_beta = init.sigma_2\n",
    "        \n",
    "        \n",
    "        hour_steps = 0 \n",
    "        steps_last_half_hour = 0\n",
    "        \n",
    "        action_duration = 0 \n",
    "        inaction_duration = 0\n",
    "        \n",
    "        initial_steps = sf.get_steps(initial_context,-1,0)\n",
    "        current_steps = initial_steps\n",
    "        action = -1 \n",
    "        all_steps = []\n",
    "    \n",
    "        last_day = time_indices[0]\n",
    "    \n",
    "        new_day = False\n",
    "    \n",
    "        #for d in range(num_days):\n",
    "    \n",
    "    \n",
    "        start_of_day = 0 \n",
    "        end_of_day=0\n",
    "        current_index=0\n",
    "    \n",
    "    \n",
    "        first_week = time_indices[0].date()+pd.DateOffset(days=8)\n",
    "        batch_index = 0 \n",
    "        \n",
    "        dt_counter = 1 \n",
    "        \n",
    "        \n",
    "         \n",
    "        \n",
    "        for i in time_indices:\n",
    "           \n",
    "        \n",
    "            ##durations\n",
    "            if hour_steps>0:\n",
    "                action_duration = action_duration+1\n",
    "                inaction_duration=0\n",
    "            else:\n",
    "                inaction_duration = inaction_duration+1\n",
    "                action_duration = 0 \n",
    "            duration = action_duration\n",
    "            if action_duration==0:\n",
    "                duration = inaction_duration\n",
    "            \n",
    "            duration = int(duration>5)\n",
    "            \n",
    "            \n",
    "            ##Everything I do before I advance the day\n",
    "            \n",
    "            if i == time_indices[0]:\n",
    "      \n",
    "                Z_next = Z_init\n",
    "                X_next = X_init\n",
    "                I_next = I_init\n",
    "      \n",
    "    \n",
    "            Z = Z_next\n",
    "            X = X_next\n",
    "            I = I_next\n",
    "            \n",
    "            \n",
    "            if I==1:\n",
    "                prob = TS_fancy.prob_cal(Z, X, mu_beta, Sigma_beta, init,current_eta)\n",
    "                    # sample the action\n",
    "                A = int(uniform() < prob)\n",
    "                    \n",
    "            else:\n",
    "      \n",
    "                prob = 0\n",
    "                A = 0\n",
    "            \n",
    "            ##is this where beta should be?\n",
    "            R = 1+Z[0]+(Z[0]**2)-(.05*X)+A*(1-.1*X)+np.random.normal(scale=1)\n",
    "            \n",
    "            \n",
    "\n",
    "            \n",
    "            \n",
    "            if i.date()!=last_day.date():\n",
    "           \n",
    "                new_day=True\n",
    "            \n",
    "            \n",
    "            \n",
    "            decision_time = bool(i in decision_times)\n",
    "    \n",
    "            if i!=time_indices[0]:\n",
    "                hour_steps = current_steps+steps_last_half_hour \n",
    "                \n",
    "                if i in decision_times:\n",
    "                    \n",
    "                    if action_algorithm==None:\n",
    "                        action = sf.get_action(my_context,action_algorithm)\n",
    "                    elif action_algorithm=='TS_fancy':\n",
    "                        ##first get action, then update policy - so this weaving needs to be straight\n",
    "                        action=A\n",
    "                    else:\n",
    "                        action = -1\n",
    "                \n",
    "                    dt_counter = dt_counter+1\n",
    "           \n",
    "                lsc = initial_context[sf.get_index('yesterday')]\n",
    "                variation = initial_context[sf.get_index('variation')]\n",
    "                if new_day:\n",
    "\n",
    "                \n",
    "                \n",
    "        \n",
    "                    if i<first_week:\n",
    "                        variation = sf.get_variation_pre_week(variation,all_steps,time_indices,last_day)\n",
    "                    else:\n",
    "                        variation = sf.get_variation(all_steps,time_indices,last_day)\n",
    "                \n",
    "                \n",
    "                    lsc = sf.get_new_lsc(all_steps[start_of_day:end_of_day])\n",
    "           \n",
    "                \n",
    "            \n",
    "                #which context is this? - do i need both?\n",
    "                \n",
    "                \n",
    "                ##before getting action need to upate A and Prob\n",
    "\n",
    "            \n",
    "                ##fix this\n",
    "                ##is this always what the reward should be?\n",
    "                \n",
    "                Z_next = initial_context[:2]\n",
    "                X_next = TS_fancy.gen_nextdosage(X,A)\n",
    "                I_next = (uniform()<.8)\n",
    "        \n",
    "        \n",
    "               \n",
    "            \n",
    "\n",
    "            ##redo get_steps\n",
    "            \n",
    "                my_context = sf.get_context_revised(i,initial_context,current_steps,decision_time,lsc,variation,action)\n",
    "               \n",
    "                \n",
    "                next_steps = sf.get_steps(my_context,action,duration) \n",
    "                all_steps.append(next_steps)\n",
    "                initial_context = my_context\n",
    "                current_steps = next_steps\n",
    "            else:\n",
    "                if i in decision_times:\n",
    "                    #print('type two decision time')\n",
    "                    if action_algorithm==None:\n",
    "                        action = sf.get_action(initial_context,action_algorithm)\n",
    "                    elif action_algorithm=='TS_fancy':\n",
    "                        ##first get action, then update policy - so this weaving needs to be straight\n",
    "                        action=A\n",
    "                    \n",
    "                else:\n",
    "                    action = -1\n",
    "                dt_counter = dt_counter+1\n",
    "                \n",
    "                next_steps = sf.get_steps(initial_context,action,duration) \n",
    "                all_steps.append(next_steps)\n",
    "                current_steps = next_steps\n",
    "                \n",
    "                ##SET Z_next, X_next, I_next\n",
    "                \n",
    "                \n",
    "                \n",
    "            if new_day:\n",
    "            \n",
    "                start_of_day = current_index\n",
    "                new_day=False\n",
    "            \n",
    "            \n",
    "            batch[batch_index]=TS_fancy.make_batch(batch_index,Z,X,I,A,prob,R)\n",
    "        \n",
    "        \n",
    "            total_reward = total_reward+R\n",
    "            \n",
    "            last_day = i\n",
    "            end_of_day = current_index  \n",
    "            current_index = current_index+1\n",
    "           \n",
    "            total_reward = total_reward+R\n",
    "            \n",
    "            \n",
    "            ##this assumes we update the policy at the end\n",
    "            if i in decision_times and dt_counter%5==0:\n",
    "                if dt_counter%35==0:\n",
    "                    temp = TS_fancy.policy_update(batch[:batch_index], init,proxy=True)\n",
    "                        #print(temp)\n",
    "                    mu_beta = temp[0]\n",
    "                    Sigma_beta = temp[1]\n",
    "                #print(temp)\n",
    "                \n",
    "                    eta_params = temp[2]\n",
    "                    the_eta.update_params(eta_params)\n",
    "                    current_eta = the_eta.eta_function\n",
    "                else:\n",
    "                    temp = TS_fancy.policy_update(batch[:batch_index], init)\n",
    "                        #print(temp)\n",
    "                    mu_beta = temp[0]\n",
    "                    Sigma_beta = temp[1]\n",
    "               \n",
    "                    \n",
    "                #dt_counter = 0\n",
    "            batch_index = batch_index+1\n",
    "        all_people.append(all_steps)\n",
    "            \n",
    "    return all_people\n"
   ]
  },
  {
   "cell_type": "code",
   "execution_count": 8,
   "metadata": {
    "collapsed": false
   },
   "outputs": [],
   "source": [
    "sp = state_params.state_params(10)"
   ]
  },
  {
   "cell_type": "code",
   "execution_count": 11,
   "metadata": {
    "collapsed": false,
    "scrolled": false
   },
   "outputs": [
    {
     "name": "stdout",
     "output_type": "stream",
     "text": [
      "hello\n",
      "hello\n"
     ]
    },
    {
     "ename": "KeyboardInterrupt",
     "evalue": "",
     "output_type": "error",
     "traceback": [
      "\u001b[0;31m---------------------------------------------------------------------------\u001b[0m",
      "\u001b[0;31mKeyboardInterrupt\u001b[0m                         Traceback (most recent call last)",
      "\u001b[0;32m<ipython-input-11-d0d3d36df6d2>\u001b[0m in \u001b[0;36m<module>\u001b[0;34m()\u001b[0m\n\u001b[0;32m----> 1\u001b[0;31m \u001b[0mx\u001b[0m\u001b[0;34m=\u001b[0m\u001b[0msimulate_run\u001b[0m\u001b[0;34m(\u001b[0m\u001b[0mnum_people\u001b[0m\u001b[0;34m,\u001b[0m\u001b[0mdays\u001b[0m\u001b[0;34m,\u001b[0m\u001b[0mdecision_times\u001b[0m\u001b[0;34m,\u001b[0m\u001b[0minit\u001b[0m\u001b[0;34m=\u001b[0m\u001b[0msp\u001b[0m\u001b[0;34m,\u001b[0m\u001b[0maction_algorithm\u001b[0m \u001b[0;34m=\u001b[0m \u001b[0;34m'TS_fancy'\u001b[0m\u001b[0;34m)\u001b[0m\u001b[0;34m\u001b[0m\u001b[0m\n\u001b[0m",
      "\u001b[0;32m<ipython-input-7-7471a701b32e>\u001b[0m in \u001b[0;36msimulate_run\u001b[0;34m(num_people, time_indices, decision_times, init, action_algorithm)\u001b[0m\n\u001b[1;32m    231\u001b[0m             \u001b[0;32mif\u001b[0m \u001b[0mi\u001b[0m \u001b[0;32min\u001b[0m \u001b[0mdecision_times\u001b[0m \u001b[0;32mand\u001b[0m \u001b[0mdt_counter\u001b[0m\u001b[0;34m%\u001b[0m\u001b[0;36m5\u001b[0m\u001b[0;34m==\u001b[0m\u001b[0;36m0\u001b[0m\u001b[0;34m:\u001b[0m\u001b[0;34m\u001b[0m\u001b[0m\n\u001b[1;32m    232\u001b[0m                 \u001b[0;32mif\u001b[0m \u001b[0mdt_counter\u001b[0m\u001b[0;34m%\u001b[0m\u001b[0;36m35\u001b[0m\u001b[0;34m==\u001b[0m\u001b[0;36m0\u001b[0m\u001b[0;34m:\u001b[0m\u001b[0;34m\u001b[0m\u001b[0m\n\u001b[0;32m--> 233\u001b[0;31m                     \u001b[0mtemp\u001b[0m \u001b[0;34m=\u001b[0m \u001b[0mTS_fancy\u001b[0m\u001b[0;34m.\u001b[0m\u001b[0mpolicy_update\u001b[0m\u001b[0;34m(\u001b[0m\u001b[0mbatch\u001b[0m\u001b[0;34m[\u001b[0m\u001b[0;34m:\u001b[0m\u001b[0mbatch_index\u001b[0m\u001b[0;34m]\u001b[0m\u001b[0;34m,\u001b[0m \u001b[0minit\u001b[0m\u001b[0;34m,\u001b[0m\u001b[0mproxy\u001b[0m\u001b[0;34m=\u001b[0m\u001b[0;32mTrue\u001b[0m\u001b[0;34m)\u001b[0m\u001b[0;34m\u001b[0m\u001b[0m\n\u001b[0m\u001b[1;32m    234\u001b[0m                         \u001b[0;31m#print(temp)\u001b[0m\u001b[0;34m\u001b[0m\u001b[0;34m\u001b[0m\u001b[0m\n\u001b[1;32m    235\u001b[0m                     \u001b[0mmu_beta\u001b[0m \u001b[0;34m=\u001b[0m \u001b[0mtemp\u001b[0m\u001b[0;34m[\u001b[0m\u001b[0;36m0\u001b[0m\u001b[0;34m]\u001b[0m\u001b[0;34m\u001b[0m\u001b[0m\n",
      "\u001b[0;32m/Users/sabina/pooling_rl/models/TS_fancy.py\u001b[0m in \u001b[0;36mpolicy_update\u001b[0;34m(batch, init, proxy, etaf)\u001b[0m\n\u001b[1;32m    267\u001b[0m         \u001b[0mX_null\u001b[0m \u001b[0;34m=\u001b[0m \u001b[0mnp\u001b[0m\u001b[0;34m.\u001b[0m\u001b[0marange\u001b[0m\u001b[0;34m(\u001b[0m\u001b[0;36m0\u001b[0m\u001b[0;34m,\u001b[0m\u001b[0;36m1\u001b[0m\u001b[0;34m/\u001b[0m\u001b[0;34m(\u001b[0m\u001b[0;36m1\u001b[0m\u001b[0;34m-\u001b[0m\u001b[0minit\u001b[0m\u001b[0;34m.\u001b[0m\u001b[0mlambda_knot\u001b[0m\u001b[0;34m)\u001b[0m\u001b[0;34m,\u001b[0m\u001b[0;36m.01\u001b[0m\u001b[0;34m)\u001b[0m\u001b[0;34m\u001b[0m\u001b[0m\n\u001b[1;32m    268\u001b[0m         \u001b[0mZ_trn\u001b[0m \u001b[0;34m=\u001b[0m  \u001b[0mget_Z_trn\u001b[0m\u001b[0;34m(\u001b[0m\u001b[0mbatch\u001b[0m\u001b[0;34m,\u001b[0m\u001b[0minit\u001b[0m\u001b[0;34m)\u001b[0m\u001b[0;34m\u001b[0m\u001b[0m\n\u001b[0;32m--> 269\u001b[0;31m         \u001b[0mF_all\u001b[0m \u001b[0;34m=\u001b[0m \u001b[0mget_F_all\u001b[0m\u001b[0;34m(\u001b[0m\u001b[0mX_null\u001b[0m\u001b[0;34m,\u001b[0m\u001b[0mZ_trn\u001b[0m\u001b[0;34m,\u001b[0m\u001b[0minit\u001b[0m\u001b[0;34m)\u001b[0m\u001b[0;34m\u001b[0m\u001b[0m\n\u001b[0m\u001b[1;32m    270\u001b[0m         \u001b[0mF0\u001b[0m \u001b[0;34m=\u001b[0m \u001b[0;34m[\u001b[0m\u001b[0mf\u001b[0m\u001b[0;34m[\u001b[0m\u001b[0;34m:\u001b[0m\u001b[0mlen\u001b[0m\u001b[0;34m(\u001b[0m\u001b[0malpha_0\u001b[0m\u001b[0;34m)\u001b[0m\u001b[0;34m]\u001b[0m \u001b[0;32mfor\u001b[0m \u001b[0mf\u001b[0m \u001b[0;32min\u001b[0m \u001b[0mF_all\u001b[0m\u001b[0;34m]\u001b[0m\u001b[0;34m\u001b[0m\u001b[0m\n\u001b[1;32m    271\u001b[0m         \u001b[0mF1\u001b[0m \u001b[0;34m=\u001b[0m \u001b[0;34m[\u001b[0m\u001b[0mf\u001b[0m\u001b[0;34m[\u001b[0m\u001b[0mlen\u001b[0m\u001b[0;34m(\u001b[0m\u001b[0malpha_0\u001b[0m\u001b[0;34m)\u001b[0m\u001b[0;34m:\u001b[0m\u001b[0mlen\u001b[0m\u001b[0;34m(\u001b[0m\u001b[0malpha_0\u001b[0m\u001b[0;34m)\u001b[0m\u001b[0;34m+\u001b[0m\u001b[0mlen\u001b[0m\u001b[0;34m(\u001b[0m\u001b[0malpha_1\u001b[0m\u001b[0;34m)\u001b[0m\u001b[0;34m]\u001b[0m \u001b[0;32mfor\u001b[0m \u001b[0mf\u001b[0m \u001b[0;32min\u001b[0m \u001b[0mF_all\u001b[0m\u001b[0;34m]\u001b[0m\u001b[0;34m\u001b[0m\u001b[0m\n",
      "\u001b[0;32m/Users/sabina/pooling_rl/models/TS_fancy.py\u001b[0m in \u001b[0;36mget_F_all\u001b[0;34m(X_null, Z_trn, init)\u001b[0m\n\u001b[1;32m    242\u001b[0m     \u001b[0;31m#print('called F all')\u001b[0m\u001b[0;34m\u001b[0m\u001b[0;34m\u001b[0m\u001b[0m\n\u001b[1;32m    243\u001b[0m \u001b[0;34m\u001b[0m\u001b[0m\n\u001b[0;32m--> 244\u001b[0;31m     \u001b[0mDS\u001b[0m \u001b[0;34m=\u001b[0m \u001b[0;34m[\u001b[0m\u001b[0mapply_inner\u001b[0m\u001b[0;34m(\u001b[0m\u001b[0mx\u001b[0m\u001b[0;34m,\u001b[0m\u001b[0mZ_trn\u001b[0m\u001b[0;34m,\u001b[0m\u001b[0minit\u001b[0m\u001b[0;34m)\u001b[0m \u001b[0;32mfor\u001b[0m \u001b[0mx\u001b[0m \u001b[0;32min\u001b[0m \u001b[0mX_null\u001b[0m\u001b[0;34m]\u001b[0m\u001b[0;34m\u001b[0m\u001b[0m\n\u001b[0m\u001b[1;32m    245\u001b[0m     \u001b[0;31m#print(np.array(DS).shape)\u001b[0m\u001b[0;34m\u001b[0m\u001b[0;34m\u001b[0m\u001b[0m\n\u001b[1;32m    246\u001b[0m     \u001b[0;31m#ds = apply_inner(X_null,Z_trn,init)\u001b[0m\u001b[0;34m\u001b[0m\u001b[0;34m\u001b[0m\u001b[0m\n",
      "\u001b[0;32m/Users/sabina/pooling_rl/models/TS_fancy.py\u001b[0m in \u001b[0;36m<listcomp>\u001b[0;34m(.0)\u001b[0m\n\u001b[1;32m    242\u001b[0m     \u001b[0;31m#print('called F all')\u001b[0m\u001b[0;34m\u001b[0m\u001b[0;34m\u001b[0m\u001b[0m\n\u001b[1;32m    243\u001b[0m \u001b[0;34m\u001b[0m\u001b[0m\n\u001b[0;32m--> 244\u001b[0;31m     \u001b[0mDS\u001b[0m \u001b[0;34m=\u001b[0m \u001b[0;34m[\u001b[0m\u001b[0mapply_inner\u001b[0m\u001b[0;34m(\u001b[0m\u001b[0mx\u001b[0m\u001b[0;34m,\u001b[0m\u001b[0mZ_trn\u001b[0m\u001b[0;34m,\u001b[0m\u001b[0minit\u001b[0m\u001b[0;34m)\u001b[0m \u001b[0;32mfor\u001b[0m \u001b[0mx\u001b[0m \u001b[0;32min\u001b[0m \u001b[0mX_null\u001b[0m\u001b[0;34m]\u001b[0m\u001b[0;34m\u001b[0m\u001b[0m\n\u001b[0m\u001b[1;32m    245\u001b[0m     \u001b[0;31m#print(np.array(DS).shape)\u001b[0m\u001b[0;34m\u001b[0m\u001b[0;34m\u001b[0m\u001b[0m\n\u001b[1;32m    246\u001b[0m     \u001b[0;31m#ds = apply_inner(X_null,Z_trn,init)\u001b[0m\u001b[0;34m\u001b[0m\u001b[0;34m\u001b[0m\u001b[0m\n",
      "\u001b[0;32m/Users/sabina/pooling_rl/models/TS_fancy.py\u001b[0m in \u001b[0;36mapply_inner\u001b[0;34m(x, Z, init)\u001b[0m\n\u001b[1;32m    236\u001b[0m \u001b[0;31m##for each row in Z?\u001b[0m\u001b[0;34m\u001b[0m\u001b[0;34m\u001b[0m\u001b[0m\n\u001b[1;32m    237\u001b[0m \u001b[0;32mdef\u001b[0m \u001b[0mapply_inner\u001b[0m\u001b[0;34m(\u001b[0m\u001b[0mx\u001b[0m\u001b[0;34m,\u001b[0m\u001b[0mZ\u001b[0m\u001b[0;34m,\u001b[0m\u001b[0minit\u001b[0m\u001b[0;34m)\u001b[0m\u001b[0;34m:\u001b[0m\u001b[0;34m\u001b[0m\u001b[0m\n\u001b[0;32m--> 238\u001b[0;31m     \u001b[0;32mreturn\u001b[0m \u001b[0;34m[\u001b[0m\u001b[0minit\u001b[0m\u001b[0;34m.\u001b[0m\u001b[0mfeat0_function\u001b[0m\u001b[0;34m(\u001b[0m\u001b[0mz\u001b[0m\u001b[0;34m,\u001b[0m\u001b[0mx\u001b[0m\u001b[0;34m)\u001b[0m\u001b[0;34m+\u001b[0m\u001b[0minit\u001b[0m\u001b[0;34m.\u001b[0m\u001b[0mfeat1_function\u001b[0m\u001b[0;34m(\u001b[0m\u001b[0mz\u001b[0m\u001b[0;34m,\u001b[0m\u001b[0mx\u001b[0m\u001b[0;34m)\u001b[0m\u001b[0;34m+\u001b[0m\u001b[0minit\u001b[0m\u001b[0;34m.\u001b[0m\u001b[0mfeat2_function\u001b[0m\u001b[0;34m(\u001b[0m\u001b[0mz\u001b[0m\u001b[0;34m,\u001b[0m\u001b[0mx\u001b[0m\u001b[0;34m)\u001b[0m \u001b[0;32mfor\u001b[0m \u001b[0mz\u001b[0m \u001b[0;32min\u001b[0m \u001b[0mZ\u001b[0m\u001b[0;34m]\u001b[0m\u001b[0;34m\u001b[0m\u001b[0m\n\u001b[0m\u001b[1;32m    239\u001b[0m \u001b[0;34m\u001b[0m\u001b[0m\n\u001b[1;32m    240\u001b[0m \u001b[0;34m\u001b[0m\u001b[0m\n",
      "\u001b[0;32m/Users/sabina/pooling_rl/models/TS_fancy.py\u001b[0m in \u001b[0;36m<listcomp>\u001b[0;34m(.0)\u001b[0m\n\u001b[1;32m    236\u001b[0m \u001b[0;31m##for each row in Z?\u001b[0m\u001b[0;34m\u001b[0m\u001b[0;34m\u001b[0m\u001b[0m\n\u001b[1;32m    237\u001b[0m \u001b[0;32mdef\u001b[0m \u001b[0mapply_inner\u001b[0m\u001b[0;34m(\u001b[0m\u001b[0mx\u001b[0m\u001b[0;34m,\u001b[0m\u001b[0mZ\u001b[0m\u001b[0;34m,\u001b[0m\u001b[0minit\u001b[0m\u001b[0;34m)\u001b[0m\u001b[0;34m:\u001b[0m\u001b[0;34m\u001b[0m\u001b[0m\n\u001b[0;32m--> 238\u001b[0;31m     \u001b[0;32mreturn\u001b[0m \u001b[0;34m[\u001b[0m\u001b[0minit\u001b[0m\u001b[0;34m.\u001b[0m\u001b[0mfeat0_function\u001b[0m\u001b[0;34m(\u001b[0m\u001b[0mz\u001b[0m\u001b[0;34m,\u001b[0m\u001b[0mx\u001b[0m\u001b[0;34m)\u001b[0m\u001b[0;34m+\u001b[0m\u001b[0minit\u001b[0m\u001b[0;34m.\u001b[0m\u001b[0mfeat1_function\u001b[0m\u001b[0;34m(\u001b[0m\u001b[0mz\u001b[0m\u001b[0;34m,\u001b[0m\u001b[0mx\u001b[0m\u001b[0;34m)\u001b[0m\u001b[0;34m+\u001b[0m\u001b[0minit\u001b[0m\u001b[0;34m.\u001b[0m\u001b[0mfeat2_function\u001b[0m\u001b[0;34m(\u001b[0m\u001b[0mz\u001b[0m\u001b[0;34m,\u001b[0m\u001b[0mx\u001b[0m\u001b[0;34m)\u001b[0m \u001b[0;32mfor\u001b[0m \u001b[0mz\u001b[0m \u001b[0;32min\u001b[0m \u001b[0mZ\u001b[0m\u001b[0;34m]\u001b[0m\u001b[0;34m\u001b[0m\u001b[0m\n\u001b[0m\u001b[1;32m    239\u001b[0m \u001b[0;34m\u001b[0m\u001b[0m\n\u001b[1;32m    240\u001b[0m \u001b[0;34m\u001b[0m\u001b[0m\n",
      "\u001b[0;32m/Users/sabina/pooling_rl/models/state_params.py\u001b[0m in \u001b[0;36mfeat1_function\u001b[0;34m(self, z, x)\u001b[0m\n\u001b[1;32m     39\u001b[0m         \u001b[0;32mif\u001b[0m \u001b[0mtype\u001b[0m\u001b[0;34m(\u001b[0m\u001b[0mx\u001b[0m\u001b[0;34m)\u001b[0m \u001b[0;32min\u001b[0m \u001b[0mself\u001b[0m\u001b[0;34m.\u001b[0m\u001b[0mnums\u001b[0m\u001b[0;34m:\u001b[0m\u001b[0;34m\u001b[0m\u001b[0m\n\u001b[1;32m     40\u001b[0m \u001b[0;34m\u001b[0m\u001b[0m\n\u001b[0;32m---> 41\u001b[0;31m             \u001b[0mtemp\u001b[0m\u001b[0;34m.\u001b[0m\u001b[0mappend\u001b[0m\u001b[0;34m(\u001b[0m\u001b[0mx\u001b[0m\u001b[0;34m)\u001b[0m\u001b[0;34m\u001b[0m\u001b[0m\n\u001b[0m\u001b[1;32m     42\u001b[0m         \u001b[0;32melse\u001b[0m\u001b[0;34m:\u001b[0m\u001b[0;34m\u001b[0m\u001b[0m\n\u001b[1;32m     43\u001b[0m             \u001b[0mtemp\u001b[0m\u001b[0;34m.\u001b[0m\u001b[0mextend\u001b[0m\u001b[0;34m(\u001b[0m\u001b[0mx\u001b[0m\u001b[0;34m)\u001b[0m\u001b[0;34m\u001b[0m\u001b[0m\n",
      "\u001b[0;31mKeyboardInterrupt\u001b[0m: "
     ]
    }
   ],
   "source": [
    "x=simulate_run(num_people,days,decision_times,init=sp,action_algorithm = 'TS_fancy')"
   ]
  },
  {
   "cell_type": "code",
   "execution_count": 10,
   "metadata": {
    "collapsed": false
   },
   "outputs": [
    {
     "data": {
      "text/plain": [
       "326.95738357489086"
      ]
     },
     "execution_count": 10,
     "metadata": {},
     "output_type": "execute_result"
    }
   ],
   "source": [
    "x[0].extend(x[1])\n",
    "np.array(x[0]).mean()"
   ]
  },
  {
   "cell_type": "code",
   "execution_count": 95,
   "metadata": {
    "collapsed": false
   },
   "outputs": [],
   "source": [
    "all_runs = []\n",
    "for i in range(5):\n",
    "    all_runs.append(simulate_run(num_people,temp_indices,decision_times))"
   ]
  },
  {
   "cell_type": "code",
   "execution_count": null,
   "metadata": {
    "collapsed": true
   },
   "outputs": [],
   "source": [
    "len"
   ]
  }
 ],
 "metadata": {
  "anaconda-cloud": {},
  "kernelspec": {
   "display_name": "Python [Root]",
   "language": "python",
   "name": "Python [Root]"
  },
  "language_info": {
   "codemirror_mode": {
    "name": "ipython",
    "version": 3
   },
   "file_extension": ".py",
   "mimetype": "text/x-python",
   "name": "python",
   "nbconvert_exporter": "python",
   "pygments_lexer": "ipython3",
   "version": "3.5.6"
  }
 },
 "nbformat": 4,
 "nbformat_minor": 0
}
