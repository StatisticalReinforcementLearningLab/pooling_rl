{
 "cells": [
  {
   "cell_type": "code",
   "execution_count": 1,
   "metadata": {},
   "outputs": [],
   "source": [
    "import numpy as np\n",
    "import pickle\n",
    "import matplotlib.pyplot as plt\n",
    "%matplotlib inline\n",
    "import pandas as pd\n",
    "import pandas as pd\n",
    "import sys\n",
    "sys.path\n",
    "sys.path.append('../models')\n",
    "sys.path.append('../simulation')\n",
    "import numpy as np\n",
    "import pickle\n",
    "import random\n",
    "import os\n",
    "import math\n",
    "import sim_functions_cleaner  as sf\n",
    "import operator\n",
    "import study"
   ]
  },
  {
   "cell_type": "code",
   "execution_count": 2,
   "metadata": {},
   "outputs": [],
   "source": [
    "with open('../../Downloads/distributions/dists_anti_sedentary_4_4.pkl','rb') as f:\n",
    "    dists_sed = pickle.load(f)\n",
    "with open('../../Downloads/distributions/key_matches_anti_sedentary_4_4.pkl','rb') as f:\n",
    "    matches_sed = pickle.load(f)\n",
    "with open('../../Downloads/distributions/dists_activity_suggestion_4_4.pkl','rb') as f:\n",
    "    dists_act = pickle.load(f)\n",
    "with open('../../Downloads/distributions/key_matches_activity_suggestion_4_4.pkl','rb') as f:\n",
    "    matches_act = pickle.load(f)\n",
    "with open('../../Downloads/distributions/dists_base_4_4.pkl','rb') as f:\n",
    "    dists_base = pickle.load(f)\n",
    "with open('../../Downloads/distributions/key_matches_base_4_4.pkl','rb') as f:\n",
    "    matches_base = pickle.load(f)"
   ]
  },
  {
   "cell_type": "code",
   "execution_count": 3,
   "metadata": {},
   "outputs": [],
   "source": [
    "def get_all_steps():\n",
    "    all_steps = []\n",
    "    for k in matches_base:\n",
    "        v = dists_base[matches_base[k]]\n",
    "        if 'tod-2' not in k and len(k.split('-'))==12:\n",
    "            for i in range(v[2]):\n",
    "            \n",
    "                s = np.random.normal(v[0],v[1])\n",
    "                all_steps.append(s)\n",
    "    for k in matches_act:\n",
    "        v = dists_act[matches_act[k]]\n",
    "        if 'tod-2' not in k and len(k.split('-'))==14:\n",
    "            for i in range(v[2]):\n",
    "                s = np.random.normal(v[0],v[1])\n",
    "                all_steps.append(s)\n",
    "    for k in matches_sed:\n",
    "        v = dists_sed[matches_sed[k]]\n",
    "        if 'tod-2' not in k and len(k.split('-'))==14:\n",
    "            for i in range(v[2]):\n",
    "                s = np.random.normal(v[0],v[1])\n",
    "                all_steps.append(s)\n",
    "    return all_steps"
   ]
  },
  {
   "cell_type": "code",
   "execution_count": 4,
   "metadata": {},
   "outputs": [],
   "source": [
    "all_steps = get_all_steps()"
   ]
  },
  {
   "cell_type": "code",
   "execution_count": 5,
   "metadata": {},
   "outputs": [
    {
     "data": {
      "text/plain": [
       "4.626544175277175"
      ]
     },
     "execution_count": 5,
     "metadata": {},
     "output_type": "execute_result"
    }
   ],
   "source": [
    "np.percentile(all_steps,50)"
   ]
  },
  {
   "cell_type": "code",
   "execution_count": 10,
   "metadata": {},
   "outputs": [],
   "source": [
    "with open('../../Downloads/distributions/merged_est.pkl','rb') as f:\n",
    "    merged = pickle.load(f)"
   ]
  },
  {
   "cell_type": "code",
   "execution_count": null,
   "metadata": {},
   "outputs": [],
   "source": [
    "ast = []\n",
    "for k,v in merged.items():\n",
    "    for "
   ]
  },
  {
   "cell_type": "code",
   "execution_count": 24,
   "metadata": {},
   "outputs": [
    {
     "data": {
      "text/plain": [
       "4.916362278953278"
      ]
     },
     "execution_count": 24,
     "metadata": {},
     "output_type": "execute_result"
    }
   ],
   "source": [
    "means = [np.random.normal(v[0],v[1]) for k,v in dists_base.items() if 'tod-2' not in k\\\n",
    "         and len(k.split('-'))==10]\n",
    "np.array(means).mean()"
   ]
  },
  {
   "cell_type": "code",
   "execution_count": 25,
   "metadata": {},
   "outputs": [
    {
     "name": "stdout",
     "output_type": "stream",
     "text": [
      "4.741557197630124\n",
      "4.481148428100295\n"
     ]
    }
   ],
   "source": [
    "means = [np.random.normal(v[0],v[1]) for k,v in dists_act.items() if 'tod-2' not in k and len(k.split('-'))==12]\n",
    "print(np.array(means).mean())\n",
    "means = [np.random.normal(v[0],v[1]) for k,v in dists_sed.items() if 'tod-2' not in k and len(k.split('-'))==12]\n",
    "print(np.array(means).mean())"
   ]
  },
  {
   "cell_type": "code",
   "execution_count": 13,
   "metadata": {},
   "outputs": [],
   "source": [
    "def get_all_keys():\n",
    "    gids = [1,2]\n",
    "    tod = [0,1]\n",
    "    dow  = [0,1]\n",
    "    pretreatment = [0,1]\n",
    "    temp = [0,1]\n",
    "    loc = [0,1]\n",
    "    \n",
    "    all_states = []\n",
    "    st = ['gid','tod','dow','wea','pre','loc']\n",
    "    \n",
    "    for g in gids:\n",
    "        for t in tod:\n",
    "            for d in dow:\n",
    "                for tp in temp:\n",
    "                    for p in pretreatment:\n",
    "                        for l in loc:\n",
    "                            all_states.append([g,t,d,tp,p,l])\n",
    "    all_keys = []\n",
    "    for s in all_states:\n",
    "        new_key = ['aint','1']\n",
    "        for i in range(len(s)):\n",
    "            new_key.append(st[i])\n",
    "            new_key.append(str(s[i]))\n",
    "        all_keys.append('-'.join(new_key))\n",
    "    return all_keys"
   ]
  },
  {
   "cell_type": "code",
   "execution_count": 14,
   "metadata": {},
   "outputs": [],
   "source": [
    "keys = get_all_keys()"
   ]
  },
  {
   "cell_type": "code",
   "execution_count": null,
   "metadata": {},
   "outputs": [],
   "source": []
  },
  {
   "cell_type": "code",
   "execution_count": 30,
   "metadata": {},
   "outputs": [],
   "source": [
    "def get_dif(coeffs,states):\n",
    "    return get_percent(coeffs,states,.8)-get_percent(coeffs,states,.5)"
   ]
  },
  {
   "cell_type": "code",
   "execution_count": 71,
   "metadata": {},
   "outputs": [],
   "source": [
    "def find_max(s):\n",
    "    #coeffs = np.array([0.05, 0.1,   -0.15,.1, -0.3, 0.15])\n",
    "    therange = np.arange(-.3,.3,.05)\n",
    "    maxval = -1 \n",
    "    found = None\n",
    "    avg=None\n",
    "    for tod_val in therange:\n",
    "        for dow_val in therange:\n",
    "            for weather_val in therange:\n",
    "                for preval in therange:\n",
    "                    for locval in therange:\n",
    "                        coeffs = np.array([0.05,tod_val,dow_val,weather_val,preval,locval])\n",
    "                        dif = get_dif(coeffs,s)\n",
    "                        avg_send = get_adds(coeffs,s)\n",
    "                        #print(avg_send)\n",
    "                        if dif>maxval and avg_send<.8 and avg_send>.4 and abs(locval-0)>1e-3 \\\n",
    "                        and abs(tod_val-0)>1e-3 and abs(preval-0)>1e-3 and abs(dow_val-0)>1e-3 and abs(weather_val-0)>1e-3:\n",
    "                            maxval=dif\n",
    "                            found = coeffs\n",
    "                            avg = avg_send\n",
    "    return maxval,found,avg"
   ]
  },
  {
   "cell_type": "code",
   "execution_count": 72,
   "metadata": {},
   "outputs": [
    {
     "data": {
      "text/plain": [
       "(0.09472052674978965,\n",
       " array([ 0.05,  0.2 ,  0.05,  0.25,  0.25, -0.3 ]),\n",
       " 0.7945466074825618)"
      ]
     },
     "execution_count": 72,
     "metadata": {},
     "output_type": "execute_result"
    }
   ],
   "source": [
    "find_max(state_dict)\n"
   ]
  },
  {
   "cell_type": "code",
   "execution_count": null,
   "metadata": {},
   "outputs": [],
   "source": [
    "0.05,  0.25, -0.25,  0.25,  0.25, -0.3"
   ]
  },
  {
   "cell_type": "code",
   "execution_count": 67,
   "metadata": {},
   "outputs": [
    {
     "name": "stdout",
     "output_type": "stream",
     "text": [
      "0.08361910503917892\n",
      "0.6816740646797718\n"
     ]
    }
   ],
   "source": [
    "o =  np.array([ 0.05,  0.25, -0.25,  0.25,  0.25, -0.3 ])\n",
    "print(                       get_dif(o,state_dict))\n",
    "                    \n",
    "print(get_adds(o,state_dict))"
   ]
  },
  {
   "cell_type": "code",
   "execution_count": 61,
   "metadata": {},
   "outputs": [
    {
     "data": {
      "text/plain": [
       "(0.0753000468240452,\n",
       " array([ 0.05,  0.1 ,  0.1 ,  0.2 ,  0.2 , -0.3 ]),\n",
       " 0.7945466074825618)"
      ]
     },
     "execution_count": 61,
     "metadata": {},
     "output_type": "execute_result"
    }
   ],
   "source": [
    "find_max(state_dict)"
   ]
  },
  {
   "cell_type": "code",
   "execution_count": 68,
   "metadata": {},
   "outputs": [
    {
     "data": {
      "text/plain": [
       "{'1-0-0-0-0-0': 58,\n",
       " '1-0-0-0-0-1': 65,\n",
       " '1-0-0-0-1-0': 43,\n",
       " '1-0-0-0-1-1': 39,\n",
       " '1-0-0-1-0-0': 66,\n",
       " '1-0-0-1-0-1': 79,\n",
       " '1-0-0-1-1-0': 77,\n",
       " '1-0-0-1-1-1': 52,\n",
       " '1-0-1-0-0-0': 40,\n",
       " '1-0-1-0-0-1': 40,\n",
       " '1-0-1-0-1-0': 38,\n",
       " '1-0-1-0-1-1': 38,\n",
       " '1-0-1-1-0-0': 32,\n",
       " '1-0-1-1-0-1': 46,\n",
       " '1-0-1-1-1-0': 51,\n",
       " '1-0-1-1-1-1': 51,\n",
       " '1-1-0-0-0-0': 60,\n",
       " '1-1-0-0-0-1': 43,\n",
       " '1-1-0-0-1-0': 76,\n",
       " '1-1-0-0-1-1': 35,\n",
       " '1-1-0-1-0-0': 55,\n",
       " '1-1-0-1-0-1': 43,\n",
       " '1-1-0-1-1-0': 56,\n",
       " '1-1-0-1-1-1': 47,\n",
       " '1-1-1-0-0-0': 35,\n",
       " '1-1-1-0-0-1': 58,\n",
       " '1-1-1-0-1-0': 46,\n",
       " '1-1-1-0-1-1': 46,\n",
       " '1-1-1-1-0-0': 40,\n",
       " '1-1-1-1-0-1': 40,\n",
       " '1-1-1-1-1-0': 41,\n",
       " '1-1-1-1-1-1': 41}"
      ]
     },
     "execution_count": 68,
     "metadata": {},
     "output_type": "execute_result"
    }
   ],
   "source": []
  },
  {
   "cell_type": "code",
   "execution_count": 16,
   "metadata": {},
   "outputs": [],
   "source": [
    "def get_state_dict(state_key):\n",
    "    \n",
    "    to_return = {}\n",
    "    for state_key in keys:\n",
    "        root = matches_sed[ state_key]\n",
    "        occurs = dists_sed[root][2]\n",
    "    \n",
    "        parts = state_key.split('-')\n",
    "        newkey = '-'.join([parts[i] for i in range(5,len(parts),2)])\n",
    "        newkey = '1-'+newkey\n",
    "        to_return[newkey]=occurs\n",
    "        \n",
    "    return to_return\n",
    "    "
   ]
  },
  {
   "cell_type": "code",
   "execution_count": 19,
   "metadata": {},
   "outputs": [],
   "source": [
    "state_dict = get_state_dict(keys)"
   ]
  },
  {
   "cell_type": "code",
   "execution_count": 25,
   "metadata": {},
   "outputs": [
    {
     "data": {
      "text/plain": [
       "{'1-0-0-0-0-0': 58,\n",
       " '1-0-0-0-0-1': 65,\n",
       " '1-0-0-0-1-0': 43,\n",
       " '1-0-0-0-1-1': 39,\n",
       " '1-0-0-1-0-0': 66,\n",
       " '1-0-0-1-0-1': 79,\n",
       " '1-0-0-1-1-0': 77,\n",
       " '1-0-0-1-1-1': 52,\n",
       " '1-0-1-0-0-0': 40,\n",
       " '1-0-1-0-0-1': 40,\n",
       " '1-0-1-0-1-0': 38,\n",
       " '1-0-1-0-1-1': 38,\n",
       " '1-0-1-1-0-0': 32,\n",
       " '1-0-1-1-0-1': 46,\n",
       " '1-0-1-1-1-0': 51,\n",
       " '1-0-1-1-1-1': 51,\n",
       " '1-1-0-0-0-0': 60,\n",
       " '1-1-0-0-0-1': 43,\n",
       " '1-1-0-0-1-0': 76,\n",
       " '1-1-0-0-1-1': 35,\n",
       " '1-1-0-1-0-0': 55,\n",
       " '1-1-0-1-0-1': 43,\n",
       " '1-1-0-1-1-0': 56,\n",
       " '1-1-0-1-1-1': 47,\n",
       " '1-1-1-0-0-0': 35,\n",
       " '1-1-1-0-0-1': 58,\n",
       " '1-1-1-0-1-0': 46,\n",
       " '1-1-1-0-1-1': 46,\n",
       " '1-1-1-1-0-0': 40,\n",
       " '1-1-1-1-0-1': 40,\n",
       " '1-1-1-1-1-0': 41,\n",
       " '1-1-1-1-1-1': 41}"
      ]
     },
     "execution_count": 25,
     "metadata": {},
     "output_type": "execute_result"
    }
   ],
   "source": [
    "state_dict"
   ]
  },
  {
   "cell_type": "code",
   "execution_count": null,
   "metadata": {},
   "outputs": [],
   "source": []
  }
 ],
 "metadata": {
  "kernelspec": {
   "display_name": "Python 3",
   "language": "python",
   "name": "python3"
  },
  "language_info": {
   "codemirror_mode": {
    "name": "ipython",
    "version": 3
   },
   "file_extension": ".py",
   "mimetype": "text/x-python",
   "name": "python",
   "nbconvert_exporter": "python",
   "pygments_lexer": "ipython3",
   "version": "3.6.8"
  }
 },
 "nbformat": 4,
 "nbformat_minor": 2
}
