{
 "cells": [
  {
   "cell_type": "code",
   "execution_count": 1,
   "metadata": {
    "collapsed": true
   },
   "outputs": [],
   "source": [
    "import pickle\n",
    "import numpy as np\n",
    "import pandas as pd\n",
    "from sklearn import preprocessing\n",
    "from sklearn.feature_selection import RFECV\n",
    "from sklearn.svm import SVR\n",
    "from sklearn.feature_selection import SelectPercentile\n",
    "from sklearn.feature_selection import f_regression\n",
    "from sklearn.model_selection import cross_val_score\n",
    "from sklearn.pipeline import Pipeline\n",
    "from sklearn.ensemble import ExtraTreesRegressor\n",
    "import operator"
   ]
  },
  {
   "cell_type": "code",
   "execution_count": 2,
   "metadata": {
    "collapsed": true
   },
   "outputs": [],
   "source": [
    "def adjust_to_thirty_minute(steps):\n",
    "    return steps.fillna(0).tz_localize(None).resample('30T').sum().fillna(0)"
   ]
  },
  {
   "cell_type": "code",
   "execution_count": 3,
   "metadata": {
    "collapsed": true
   },
   "outputs": [],
   "source": [
    "def get_processed(file_name):\n",
    "    \n",
    "    root = '../../../../Volumes/dav/HeartSteps/pooling_rl_shared_data/processed/'\n",
    "    with open('{}{}.pkl'.format(root,file_name),'rb') as f:\n",
    "        return pickle.load(f)"
   ]
  },
  {
   "cell_type": "code",
   "execution_count": 4,
   "metadata": {
    "collapsed": true
   },
   "outputs": [],
   "source": [
    "merged = get_processed('merged_est')"
   ]
  },
  {
   "cell_type": "code",
   "execution_count": 24,
   "metadata": {
    "collapsed": false
   },
   "outputs": [
    {
     "data": {
      "text/plain": [
       "2015-07-22 09:00:00       0.0\n",
       "2015-07-22 09:30:00      19.0\n",
       "2015-07-22 10:00:00     453.0\n",
       "2015-07-22 10:30:00     874.0\n",
       "2015-07-22 11:00:00       0.0\n",
       "2015-07-22 11:30:00     968.0\n",
       "2015-07-22 12:00:00     445.0\n",
       "2015-07-22 12:30:00      57.0\n",
       "2015-07-22 13:00:00     565.0\n",
       "2015-07-22 13:30:00     414.0\n",
       "2015-07-22 14:00:00       0.0\n",
       "2015-07-22 14:30:00     292.0\n",
       "2015-07-22 15:00:00     379.0\n",
       "2015-07-22 15:30:00     170.0\n",
       "2015-07-22 16:00:00     235.0\n",
       "2015-07-22 16:30:00     392.0\n",
       "2015-07-22 17:00:00     132.0\n",
       "2015-07-22 17:30:00     550.0\n",
       "2015-07-22 18:00:00    3494.0\n",
       "2015-07-22 18:30:00     360.0\n",
       "2015-07-22 19:00:00     259.0\n",
       "2015-07-22 19:30:00     505.0\n",
       "2015-07-22 20:00:00     487.0\n",
       "2015-07-22 20:30:00       0.0\n",
       "2015-07-22 21:00:00       0.0\n",
       "2015-07-22 21:30:00       0.0\n",
       "2015-07-22 22:00:00       0.0\n",
       "2015-07-22 22:30:00       0.0\n",
       "2015-07-22 23:00:00       0.0\n",
       "2015-07-22 23:30:00       0.0\n",
       "                        ...  \n",
       "2015-09-15 02:00:00       0.0\n",
       "2015-09-15 02:30:00       0.0\n",
       "2015-09-15 03:00:00       0.0\n",
       "2015-09-15 03:30:00       0.0\n",
       "2015-09-15 04:00:00       0.0\n",
       "2015-09-15 04:30:00       0.0\n",
       "2015-09-15 05:00:00       0.0\n",
       "2015-09-15 05:30:00       0.0\n",
       "2015-09-15 06:00:00       0.0\n",
       "2015-09-15 06:30:00       0.0\n",
       "2015-09-15 07:00:00       0.0\n",
       "2015-09-15 07:30:00       0.0\n",
       "2015-09-15 08:00:00       0.0\n",
       "2015-09-15 08:30:00       0.0\n",
       "2015-09-15 09:00:00       0.0\n",
       "2015-09-15 09:30:00       0.0\n",
       "2015-09-15 10:00:00       0.0\n",
       "2015-09-15 10:30:00       0.0\n",
       "2015-09-15 11:00:00       0.0\n",
       "2015-09-15 11:30:00       0.0\n",
       "2015-09-15 12:00:00       0.0\n",
       "2015-09-15 12:30:00       0.0\n",
       "2015-09-15 13:00:00       0.0\n",
       "2015-09-15 13:30:00       0.0\n",
       "2015-09-15 14:00:00       0.0\n",
       "2015-09-15 14:30:00       0.0\n",
       "2015-09-15 15:00:00       0.0\n",
       "2015-09-15 15:30:00       0.0\n",
       "2015-09-15 16:00:00       0.0\n",
       "2015-09-15 16:30:00       0.0\n",
       "Freq: 30T, Name: steps, Length: 2656, dtype: float64"
      ]
     },
     "execution_count": 24,
     "metadata": {},
     "output_type": "execute_result"
    }
   ],
   "source": [
    " adjust_to_thirty_minute(merged[1]['steps'])"
   ]
  },
  {
   "cell_type": "code",
   "execution_count": 25,
   "metadata": {
    "collapsed": false
   },
   "outputs": [
    {
     "data": {
      "text/plain": [
       "Index(['avail', 'decision.utime', 'jbsteps10', 'location.category',\n",
       "       'location.category.response', 'sedentary.width', 'send', 'send.active',\n",
       "       'send.sedentary', 'steps', 'study.day', 'user', 'weather.condition',\n",
       "       'weather.condition.response', 'window.utime'],\n",
       "      dtype='object')"
      ]
     },
     "execution_count": 25,
     "metadata": {},
     "output_type": "execute_result"
    }
   ],
   "source": [
    "merged[1].columns"
   ]
  },
  {
   "cell_type": "code",
   "execution_count": 52,
   "metadata": {
    "collapsed": true
   },
   "outputs": [],
   "source": [
    "def get_target_indices(df):\n",
    "    return df.loc[(df['send'] == True)&(df['avail'] == True  )].index"
   ]
  },
  {
   "cell_type": "code",
   "execution_count": 53,
   "metadata": {
    "collapsed": true
   },
   "outputs": [],
   "source": [
    "def get_near_targets(targets):\n",
    "    return targets.round('30T').tz_localize(None)"
   ]
  },
  {
   "cell_type": "code",
   "execution_count": 54,
   "metadata": {
    "collapsed": true
   },
   "outputs": [],
   "source": [
    "targets = get_target_indices(merged[1])"
   ]
  },
  {
   "cell_type": "code",
   "execution_count": 55,
   "metadata": {
    "collapsed": false
   },
   "outputs": [],
   "source": [
    "targets = get_near_targets(targets)"
   ]
  },
  {
   "cell_type": "code",
   "execution_count": 56,
   "metadata": {
    "collapsed": false
   },
   "outputs": [],
   "source": [
    "def measure_responsivity(df):\n",
    "    steps = adjust_to_thirty_minute(df['steps'])\n",
    "    targets = get_target_indices(df)\n",
    "    targets = get_near_targets(targets)\n",
    "    to_return = []\n",
    "    for t in targets:\n",
    "        before = t- pd.DateOffset(minutes=30)\n",
    "        after = t\n",
    "        sb = steps[before]\n",
    "        sa = steps[after]\n",
    "        #/(sb+1\n",
    "        to_return.append((sa-sb)/(sb+1))\n",
    "    return to_return"
   ]
  },
  {
   "cell_type": "code",
   "execution_count": null,
   "metadata": {
    "collapsed": false
   },
   "outputs": [],
   "source": []
  },
  {
   "cell_type": "code",
   "execution_count": 57,
   "metadata": {
    "collapsed": true
   },
   "outputs": [],
   "source": [
    "def make_feature_matrix():\n",
    "    other = get_processed('other_activity')\n",
    "    agg_consc = get_processed('agg_conscientiousness_measures')\n",
    "    agg_selfeff = get_processed('agg_self_efficacy_measures')\n",
    "    agg_actchoice = get_processed('agg_activity_choice_measures')\n",
    "    other_keys = list(other[1].keys())\n",
    "    #other_keys = ['vigact.days','vigact.hrs','vigact.min','modact.days']\n",
    "    pids = [p for p in other.keys() if p!=4]\n",
    "    \n",
    "    to_return = []\n",
    "    feature_names = other_keys+['conscientiousness']+['self_efficacy']+['activity_choice']\n",
    "    \n",
    "    for p in pids:\n",
    "        temp = [other[p][o] for o in other_keys]\n",
    "        temp.append(agg_consc[p])\n",
    "        temp.append(agg_selfeff[p])\n",
    "        temp.append(agg_actchoice[p])\n",
    "        to_return.append(temp)\n",
    "    return to_return,feature_names,pids"
   ]
  },
  {
   "cell_type": "code",
   "execution_count": 58,
   "metadata": {
    "collapsed": false
   },
   "outputs": [],
   "source": [
    "X,fn,pids = make_feature_matrix()"
   ]
  },
  {
   "cell_type": "code",
   "execution_count": null,
   "metadata": {
    "collapsed": true
   },
   "outputs": [],
   "source": []
  },
  {
   "cell_type": "code",
   "execution_count": null,
   "metadata": {
    "collapsed": false
   },
   "outputs": [],
   "source": []
  },
  {
   "cell_type": "code",
   "execution_count": 59,
   "metadata": {
    "collapsed": false
   },
   "outputs": [],
   "source": [
    "def fix(x):\n",
    "    to_return = []\n",
    "    for i in x:\n",
    "        if type(i)==str:\n",
    "            if i=='no':\n",
    "                to_return.append(0)\n",
    "            elif i=='yes':\n",
    "                to_return.append(1)\n",
    "            elif i=='X':\n",
    "                to_return.append(0)\n",
    "            else:\n",
    "                #print(i)\n",
    "                if pd.isnull(float(i)):\n",
    "                    print(i)\n",
    "                to_return.append(float(i))\n",
    "        else:\n",
    "            if pd.isnull(float(i)):\n",
    "                    i = 0\n",
    "            to_return.append(i)\n",
    "    return to_return"
   ]
  },
  {
   "cell_type": "code",
   "execution_count": 60,
   "metadata": {
    "collapsed": false
   },
   "outputs": [],
   "source": [
    "X = [fix(x) for x in X]"
   ]
  },
  {
   "cell_type": "code",
   "execution_count": null,
   "metadata": {
    "collapsed": false
   },
   "outputs": [],
   "source": []
  },
  {
   "cell_type": "code",
   "execution_count": 61,
   "metadata": {
    "collapsed": false
   },
   "outputs": [],
   "source": [
    "X_scaled = preprocessing.scale(X)"
   ]
  },
  {
   "cell_type": "code",
   "execution_count": 62,
   "metadata": {
    "collapsed": false
   },
   "outputs": [],
   "source": [
    "def get_training_data_responsivity(pids):\n",
    "    merged = get_processed('merged_est')\n",
    "    to_return = {}\n",
    "    for p in pids:\n",
    "        if p in merged:\n",
    "            df  = merged[p]\n",
    "            #steps = adjust_to_thirty_minute(df['steps'])\n",
    "            y = measure_responsivity(df)\n",
    "            to_return[p]=y\n",
    "    return to_return"
   ]
  },
  {
   "cell_type": "code",
   "execution_count": 63,
   "metadata": {
    "collapsed": false
   },
   "outputs": [],
   "source": [
    "steps = get_training_data_responsivity(pids)"
   ]
  },
  {
   "cell_type": "code",
   "execution_count": 64,
   "metadata": {
    "collapsed": false
   },
   "outputs": [],
   "source": [
    "pid_lookup = {pids[i]:i for i in range(len(pids))}"
   ]
  },
  {
   "cell_type": "code",
   "execution_count": 65,
   "metadata": {
    "collapsed": true
   },
   "outputs": [],
   "source": [
    "def make_matrix_for_first_analysis(steps,pid_lookup,X):\n",
    "    \n",
    "    big_matrix_X = []\n",
    "    big_matrix_y = []\n",
    "    for pid,stepcount in steps.items():\n",
    "        for s in stepcount:\n",
    "            big_matrix_X.append(X[pid_lookup[pid]])\n",
    "            big_matrix_y.append(s)\n",
    "    return big_matrix_X,big_matrix_y\n",
    "        "
   ]
  },
  {
   "cell_type": "code",
   "execution_count": 66,
   "metadata": {
    "collapsed": true
   },
   "outputs": [],
   "source": [
    "bx,by = make_matrix_for_first_analysis(steps,pid_lookup,X_scaled)"
   ]
  },
  {
   "cell_type": "code",
   "execution_count": 67,
   "metadata": {
    "collapsed": false
   },
   "outputs": [],
   "source": [
    "by_scaled = preprocessing.scale(by)"
   ]
  },
  {
   "cell_type": "code",
   "execution_count": 68,
   "metadata": {
    "collapsed": false
   },
   "outputs": [],
   "source": [
    "et = ExtraTreesRegressor(n_estimators=10, max_features=4,\n",
    "                                       random_state=0)"
   ]
  },
  {
   "cell_type": "code",
   "execution_count": 69,
   "metadata": {
    "collapsed": false
   },
   "outputs": [
    {
     "data": {
      "text/plain": [
       "ExtraTreesRegressor(bootstrap=False, criterion='mse', max_depth=None,\n",
       "          max_features=4, max_leaf_nodes=None, min_impurity_decrease=0.0,\n",
       "          min_impurity_split=None, min_samples_leaf=1, min_samples_split=2,\n",
       "          min_weight_fraction_leaf=0.0, n_estimators=10, n_jobs=1,\n",
       "          oob_score=False, random_state=0, verbose=0, warm_start=False)"
      ]
     },
     "execution_count": 69,
     "metadata": {},
     "output_type": "execute_result"
    }
   ],
   "source": [
    "et.fit(bx, by)"
   ]
  },
  {
   "cell_type": "code",
   "execution_count": 70,
   "metadata": {
    "collapsed": false
   },
   "outputs": [
    {
     "data": {
      "text/plain": [
       "array([ 0.0540918 ,  0.0147709 ,  0.06356462,  0.06453754,  0.        ,\n",
       "        0.21675013,  0.06666962,  0.22181772,  0.03908551,  0.03956535,\n",
       "        0.03088215,  0.01191712,  0.04423204,  0.04326198,  0.03354569,\n",
       "        0.05530785])"
      ]
     },
     "execution_count": 70,
     "metadata": {},
     "output_type": "execute_result"
    }
   ],
   "source": [
    "et.feature_importances_"
   ]
  },
  {
   "cell_type": "code",
   "execution_count": 71,
   "metadata": {
    "collapsed": true
   },
   "outputs": [],
   "source": [
    "def nice_dict(feats,fns):\n",
    "    \n",
    "    to_return = {fns[i]:feats[i] for i in range(len(feats))}\n",
    "    return sorted(to_return.items(), key=operator.itemgetter(1),reverse=True)"
   ]
  },
  {
   "cell_type": "code",
   "execution_count": 72,
   "metadata": {
    "collapsed": false
   },
   "outputs": [
    {
     "data": {
      "text/plain": [
       "[('modact.days', 0.22181771811080728),\n",
       " ('vigact.days', 0.21675012670050489),\n",
       " ('modact.min', 0.066669621005768342),\n",
       " ('walk.min', 0.064537536784083374),\n",
       " ('fittracker', 0.063564617812372978),\n",
       " ('activity_choice', 0.05530784657340123),\n",
       " ('sit.hrs', 0.054091803132829464),\n",
       " ('walk10.days', 0.044232038469906962),\n",
       " ('conscientiousness', 0.043261977675293391),\n",
       " ('vigact.hrs', 0.039565346463468001),\n",
       " ('vigact.min', 0.039085506011996687),\n",
       " ('self_efficacy', 0.033545692398085088),\n",
       " ('modact.hrs', 0.030882147506498054),\n",
       " ('walk.hrs', 0.014770899660899551),\n",
       " ('fitapp', 0.011917121694084662),\n",
       " ('sit.min', 0.0)]"
      ]
     },
     "execution_count": 72,
     "metadata": {},
     "output_type": "execute_result"
    }
   ],
   "source": [
    "nice_dict(et.feature_importances_,fn)"
   ]
  },
  {
   "cell_type": "code",
   "execution_count": 304,
   "metadata": {
    "collapsed": false
   },
   "outputs": [
    {
     "data": {
      "text/plain": [
       "16"
      ]
     },
     "execution_count": 304,
     "metadata": {},
     "output_type": "execute_result"
    }
   ],
   "source": []
  },
  {
   "cell_type": "code",
   "execution_count": null,
   "metadata": {
    "collapsed": true
   },
   "outputs": [],
   "source": []
  }
 ],
 "metadata": {
  "anaconda-cloud": {},
  "kernelspec": {
   "display_name": "Python [Root]",
   "language": "python",
   "name": "Python [Root]"
  },
  "language_info": {
   "codemirror_mode": {
    "name": "ipython",
    "version": 3
   },
   "file_extension": ".py",
   "mimetype": "text/x-python",
   "name": "python",
   "nbconvert_exporter": "python",
   "pygments_lexer": "ipython3",
   "version": "3.5.6"
  }
 },
 "nbformat": 4,
 "nbformat_minor": 0
}
