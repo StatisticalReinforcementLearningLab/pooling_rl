{
 "cells": [
  {
   "cell_type": "code",
   "execution_count": 1,
   "metadata": {
    "collapsed": false
   },
   "outputs": [],
   "source": [
    "import pandas as pd\n",
    "import numpy as np\n",
    "import pickle\n",
    "import random\n",
    "import os\n",
    "import math\n",
    "import sim_functions  as sf\n"
   ]
  },
  {
   "cell_type": "markdown",
   "metadata": {},
   "source": [
    "'''\n",
    "Context: \n",
    "group_id,day_of_week,time_of_day,location,weather,previous_step_count,last_step_count,variation_in_step_counts\n",
    "'''"
   ]
  },
  {
   "cell_type": "markdown",
   "metadata": {
    "collapsed": false
   },
   "source": [
    "A study needs some days. So you can specify days like this: \n"
   ]
  },
  {
   "cell_type": "markdown",
   "metadata": {},
   "source": [
    "You can pass in a bunch of decision times. I just tested with one. "
   ]
  },
  {
   "cell_type": "code",
   "execution_count": 2,
   "metadata": {
    "collapsed": true
   },
   "outputs": [],
   "source": [
    "##First pass we will just look at the average generating the same amount of people. "
   ]
  },
  {
   "cell_type": "code",
   "execution_count": 3,
   "metadata": {
    "collapsed": true
   },
   "outputs": [],
   "source": [
    "root =  '../../../../Volumes/dav/HeartSteps/pooling_rl_shared_data/processed/'\n",
    "with open('{}filled_step_counts.pkl'.format(root),'rb') as f:\n",
    "    ground_truth = pickle.load(f)"
   ]
  },
  {
   "cell_type": "code",
   "execution_count": 4,
   "metadata": {
    "collapsed": true
   },
   "outputs": [],
   "source": [
    "def get_days(people):\n",
    "    all_day_lengths = []\n",
    "    for person,steps in people.items():\n",
    "        indices = steps.index\n",
    "        days = set([i.date() for i in indices])\n",
    "        all_day_lengths.append(len(days))\n",
    "    return np.array(all_day_lengths)"
   ]
  },
  {
   "cell_type": "code",
   "execution_count": 5,
   "metadata": {
    "collapsed": false
   },
   "outputs": [
    {
     "name": "stdout",
     "output_type": "stream",
     "text": [
      "45.6111111111\n"
     ]
    }
   ],
   "source": [
    "days_in_study = get_days(ground_truth)\n",
    "print(days_in_study.mean())"
   ]
  },
  {
   "cell_type": "code",
   "execution_count": null,
   "metadata": {
    "collapsed": false
   },
   "outputs": [],
   "source": []
  },
  {
   "cell_type": "code",
   "execution_count": 6,
   "metadata": {
    "collapsed": true
   },
   "outputs": [],
   "source": [
    "days = pd.date_range(start = '7/22/2015',end =pd.Timestamp('7/22/2015')+pd.DateOffset(days=46),freq='30T')"
   ]
  },
  {
   "cell_type": "code",
   "execution_count": 7,
   "metadata": {
    "collapsed": false
   },
   "outputs": [],
   "source": [
    "dates = pd.date_range(start = '7/22/2015 00:00:00',end =pd.Timestamp('7/22/2015 00:00:00')+pd.DateOffset(days=46),freq='24H')\n"
   ]
  },
  {
   "cell_type": "code",
   "execution_count": null,
   "metadata": {
    "collapsed": false
   },
   "outputs": [],
   "source": []
  },
  {
   "cell_type": "code",
   "execution_count": 8,
   "metadata": {
    "collapsed": true
   },
   "outputs": [],
   "source": [
    "def get_decision_times(date):\n",
    "    \n",
    "    decision_times = [11,13,16,19,21]\n",
    "    \n",
    "    return[date.replace(hour=h) for h in decision_times]"
   ]
  },
  {
   "cell_type": "code",
   "execution_count": 9,
   "metadata": {
    "collapsed": false
   },
   "outputs": [
    {
     "data": {
      "text/plain": [
       "[Timestamp('2015-07-22 11:00:00', freq='24H'),\n",
       " Timestamp('2015-07-22 13:00:00', freq='24H'),\n",
       " Timestamp('2015-07-22 16:00:00', freq='24H'),\n",
       " Timestamp('2015-07-22 19:00:00', freq='24H'),\n",
       " Timestamp('2015-07-22 21:00:00', freq='24H')]"
      ]
     },
     "execution_count": 9,
     "metadata": {},
     "output_type": "execute_result"
    }
   ],
   "source": [
    "get_decision_times(dates[0])"
   ]
  },
  {
   "cell_type": "code",
   "execution_count": 10,
   "metadata": {
    "collapsed": false
   },
   "outputs": [],
   "source": [
    "decision_times = [get_decision_times(d) for d in dates]"
   ]
  },
  {
   "cell_type": "code",
   "execution_count": null,
   "metadata": {
    "collapsed": false
   },
   "outputs": [],
   "source": []
  },
  {
   "cell_type": "markdown",
   "metadata": {},
   "source": [
    "Right now I think the number of people is being totally ignored. This needs to be fixed. "
   ]
  },
  {
   "cell_type": "code",
   "execution_count": 14,
   "metadata": {
    "collapsed": false
   },
   "outputs": [
    {
     "data": {
      "text/plain": [
       "207.01370855122792"
      ]
     },
     "execution_count": 14,
     "metadata": {},
     "output_type": "execute_result"
    }
   ],
   "source": [
    "np.array(x).mean()\n",
    "#np.array(x).std()"
   ]
  },
  {
   "cell_type": "code",
   "execution_count": 15,
   "metadata": {
    "collapsed": false
   },
   "outputs": [
    {
     "data": {
      "text/plain": [
       "267.8619020654599"
      ]
     },
     "execution_count": 15,
     "metadata": {},
     "output_type": "execute_result"
    }
   ],
   "source": [
    "np.array(x).mean()\n",
    "np.array(x).std()"
   ]
  },
  {
   "cell_type": "code",
   "execution_count": 95,
   "metadata": {
    "collapsed": false
   },
   "outputs": [],
   "source": [
    "all_runs = []\n",
    "for i in range(5):\n",
    "    all_runs.append(simulate_run(num_people,temp_indices,decision_times))"
   ]
  },
  {
   "cell_type": "code",
   "execution_count": 37,
   "metadata": {
    "collapsed": false
   },
   "outputs": [
    {
     "ename": "FileNotFoundError",
     "evalue": "[Errno 2] No such file or directory: '../../../../Volumes/dav/HeartSteps/pooling_rl_shared_data/distributions/hour_to_id.pkl'",
     "output_type": "error",
     "traceback": [
      "\u001b[0;31m---------------------------------------------------------------------------\u001b[0m",
      "\u001b[0;31mFileNotFoundError\u001b[0m                         Traceback (most recent call last)",
      "\u001b[0;32m<ipython-input-37-fb04efcfda46>\u001b[0m in \u001b[0;36m<module>\u001b[0;34m()\u001b[0m\n\u001b[1;32m      1\u001b[0m \u001b[0mall_runs\u001b[0m \u001b[0;34m=\u001b[0m \u001b[0;34m[\u001b[0m\u001b[0;34m]\u001b[0m\u001b[0;34m\u001b[0m\u001b[0m\n\u001b[1;32m      2\u001b[0m \u001b[0;32mfor\u001b[0m \u001b[0mi\u001b[0m \u001b[0;32min\u001b[0m \u001b[0mrange\u001b[0m\u001b[0;34m(\u001b[0m\u001b[0;36m100\u001b[0m\u001b[0;34m)\u001b[0m\u001b[0;34m:\u001b[0m\u001b[0;34m\u001b[0m\u001b[0m\n\u001b[0;32m----> 3\u001b[0;31m     \u001b[0mall_runs\u001b[0m\u001b[0;34m.\u001b[0m\u001b[0mappend\u001b[0m\u001b[0;34m(\u001b[0m\u001b[0msf\u001b[0m\u001b[0;34m.\u001b[0m\u001b[0msimulate_run\u001b[0m\u001b[0;34m(\u001b[0m\u001b[0;36m36\u001b[0m\u001b[0;34m,\u001b[0m\u001b[0mdays\u001b[0m\u001b[0;34m,\u001b[0m\u001b[0mdecision_times\u001b[0m\u001b[0;34m)\u001b[0m\u001b[0;34m)\u001b[0m\u001b[0;34m\u001b[0m\u001b[0m\n\u001b[0m",
      "\u001b[0;32m/Users/sabina/pooling_rl/simulation/sim_functions.py\u001b[0m in \u001b[0;36msimulate_run\u001b[0;34m(num_people, time_indices, decision_times, action_algorithm)\u001b[0m\n\u001b[1;32m    513\u001b[0m \u001b[0;34m\u001b[0m\u001b[0m\n\u001b[1;32m    514\u001b[0m             \u001b[0;31m##action will be the last action\u001b[0m\u001b[0;34m\u001b[0m\u001b[0;34m\u001b[0m\u001b[0m\n\u001b[0;32m--> 515\u001b[0;31m                 \u001b[0mmy_context\u001b[0m \u001b[0;34m=\u001b[0m \u001b[0mget_context_revised\u001b[0m\u001b[0;34m(\u001b[0m\u001b[0mi\u001b[0m\u001b[0;34m,\u001b[0m\u001b[0minitial_context\u001b[0m\u001b[0;34m,\u001b[0m\u001b[0mcurrent_steps\u001b[0m\u001b[0;34m,\u001b[0m\u001b[0mdecision_time\u001b[0m\u001b[0;34m,\u001b[0m\u001b[0mlsc\u001b[0m\u001b[0;34m,\u001b[0m\u001b[0mvariation\u001b[0m\u001b[0;34m,\u001b[0m\u001b[0maction\u001b[0m\u001b[0;34m)\u001b[0m\u001b[0;34m\u001b[0m\u001b[0m\n\u001b[0m\u001b[1;32m    516\u001b[0m             \u001b[0;31m#return my_context\u001b[0m\u001b[0;34m\u001b[0m\u001b[0;34m\u001b[0m\u001b[0m\n\u001b[1;32m    517\u001b[0m                 \u001b[0;32mif\u001b[0m \u001b[0mi\u001b[0m \u001b[0;32min\u001b[0m \u001b[0mdecision_times\u001b[0m\u001b[0;34m:\u001b[0m\u001b[0;34m\u001b[0m\u001b[0m\n",
      "\u001b[0;32m/Users/sabina/pooling_rl/simulation/sim_functions.py\u001b[0m in \u001b[0;36mget_context_revised\u001b[0;34m(current_index, current_context, current_steps, decision_time, ysc, variation, last_action)\u001b[0m\n\u001b[1;32m    294\u001b[0m \u001b[0;32mdef\u001b[0m \u001b[0mget_context_revised\u001b[0m\u001b[0;34m(\u001b[0m\u001b[0mcurrent_index\u001b[0m\u001b[0;34m,\u001b[0m\u001b[0mcurrent_context\u001b[0m\u001b[0;34m,\u001b[0m\u001b[0mcurrent_steps\u001b[0m\u001b[0;34m,\u001b[0m\u001b[0mdecision_time\u001b[0m\u001b[0;34m,\u001b[0m\u001b[0mysc\u001b[0m\u001b[0;34m,\u001b[0m\u001b[0mvariation\u001b[0m\u001b[0;34m,\u001b[0m\u001b[0mlast_action\u001b[0m\u001b[0;34m)\u001b[0m\u001b[0;34m:\u001b[0m\u001b[0;34m\u001b[0m\u001b[0m\n\u001b[1;32m    295\u001b[0m \u001b[0;34m\u001b[0m\u001b[0m\n\u001b[0;32m--> 296\u001b[0;31m     \u001b[0mday_of_week\u001b[0m \u001b[0;34m=\u001b[0m \u001b[0mget_time_of_day\u001b[0m\u001b[0;34m(\u001b[0m\u001b[0mcurrent_index\u001b[0m\u001b[0;34m)\u001b[0m\u001b[0;34m\u001b[0m\u001b[0m\n\u001b[0m\u001b[1;32m    297\u001b[0m     \u001b[0mtime_of_day\u001b[0m \u001b[0;34m=\u001b[0m \u001b[0mget_day_of_week\u001b[0m\u001b[0;34m(\u001b[0m\u001b[0mcurrent_index\u001b[0m\u001b[0;34m)\u001b[0m\u001b[0;34m\u001b[0m\u001b[0m\n\u001b[1;32m    298\u001b[0m \u001b[0;34m\u001b[0m\u001b[0m\n",
      "\u001b[0;32m/Users/sabina/pooling_rl/simulation/sim_functions.py\u001b[0m in \u001b[0;36mget_time_of_day\u001b[0;34m(an_index)\u001b[0m\n\u001b[1;32m     64\u001b[0m \u001b[0;34m\u001b[0m\u001b[0m\n\u001b[1;32m     65\u001b[0m \u001b[0;32mdef\u001b[0m \u001b[0mget_time_of_day\u001b[0m\u001b[0;34m(\u001b[0m\u001b[0man_index\u001b[0m\u001b[0;34m)\u001b[0m\u001b[0;34m:\u001b[0m\u001b[0;34m\u001b[0m\u001b[0m\n\u001b[0;32m---> 66\u001b[0;31m     \u001b[0;32mwith\u001b[0m \u001b[0mopen\u001b[0m\u001b[0;34m(\u001b[0m\u001b[0;34m'{}hour_to_id.pkl'\u001b[0m\u001b[0;34m.\u001b[0m\u001b[0mformat\u001b[0m\u001b[0;34m(\u001b[0m\u001b[0mroot\u001b[0m\u001b[0;34m)\u001b[0m\u001b[0;34m,\u001b[0m\u001b[0;34m'rb'\u001b[0m\u001b[0;34m)\u001b[0m \u001b[0;32mas\u001b[0m \u001b[0mf\u001b[0m\u001b[0;34m:\u001b[0m\u001b[0;34m\u001b[0m\u001b[0m\n\u001b[0m\u001b[1;32m     67\u001b[0m         \u001b[0mhour_lookup\u001b[0m \u001b[0;34m=\u001b[0m \u001b[0mpickle\u001b[0m\u001b[0;34m.\u001b[0m\u001b[0mload\u001b[0m\u001b[0;34m(\u001b[0m\u001b[0mf\u001b[0m\u001b[0;34m)\u001b[0m\u001b[0;34m\u001b[0m\u001b[0m\n\u001b[1;32m     68\u001b[0m     \u001b[0;32mreturn\u001b[0m \u001b[0mhour_lookup\u001b[0m\u001b[0;34m[\u001b[0m\u001b[0man_index\u001b[0m\u001b[0;34m.\u001b[0m\u001b[0mhour\u001b[0m\u001b[0;34m]\u001b[0m\u001b[0;34m\u001b[0m\u001b[0m\n",
      "\u001b[0;31mFileNotFoundError\u001b[0m: [Errno 2] No such file or directory: '../../../../Volumes/dav/HeartSteps/pooling_rl_shared_data/distributions/hour_to_id.pkl'"
     ]
    }
   ],
   "source": [
    "all_runs = []\n",
    "for i in range(100):\n",
    "    all_runs.append(sf.simulate_run(36,days,decision_times))"
   ]
  },
  {
   "cell_type": "code",
   "execution_count": 36,
   "metadata": {
    "collapsed": true
   },
   "outputs": [],
   "source": [
    "def get_error(runs):\n",
    "    runs_mean = []\n",
    "    for run in runs:\n",
    "        for person in run:\n",
    "            runs_mean.extend(person)\n",
    "    return np.array(runs_mean).mean()"
   ]
  },
  {
   "cell_type": "code",
   "execution_count": 26,
   "metadata": {
    "collapsed": false
   },
   "outputs": [
    {
     "name": "stdout",
     "output_type": "stream",
     "text": [
      "483.135004515\n"
     ]
    }
   ],
   "source": [
    "runs_mean = []\n",
    "for run in all_runs[0]:\n",
    "    runs_mean.extend(run)\n",
    "print(np.array(runs_mean).mean())"
   ]
  },
  {
   "cell_type": "code",
   "execution_count": null,
   "metadata": {
    "collapsed": true
   },
   "outputs": [],
   "source": [
    "125.975254453"
   ]
  },
  {
   "cell_type": "code",
   "execution_count": 35,
   "metadata": {
    "collapsed": false
   },
   "outputs": [
    {
     "name": "stdout",
     "output_type": "stream",
     "text": [
      "120.677047897\n"
     ]
    }
   ],
   "source": [
    "gt_30_min_mean = []\n",
    "for k,v in ground_truth.items():\n",
    "    gt_30_min_mean.extend(list(v.resample('30T').sum().fillna(0)))\n",
    "print(np.array(gt_30_min_mean).mean())"
   ]
  },
  {
   "cell_type": "code",
   "execution_count": 29,
   "metadata": {
    "collapsed": false
   },
   "outputs": [
    {
     "data": {
      "text/plain": [
       "570.57754506115191"
      ]
     },
     "execution_count": 29,
     "metadata": {},
     "output_type": "execute_result"
    }
   ],
   "source": [
    "np.array(all_runs[0][2]).mean()"
   ]
  },
  {
   "cell_type": "code",
   "execution_count": 33,
   "metadata": {
    "collapsed": false
   },
   "outputs": [
    {
     "data": {
      "text/plain": [
       "2015-07-22 10:00:00-04:00       0.0\n",
       "2015-07-22 10:30:00-04:00      19.0\n",
       "2015-07-22 11:00:00-04:00     453.0\n",
       "2015-07-22 11:30:00-04:00     874.0\n",
       "2015-07-22 12:00:00-04:00       0.0\n",
       "2015-07-22 12:30:00-04:00     968.0\n",
       "2015-07-22 13:00:00-04:00     445.0\n",
       "2015-07-22 13:30:00-04:00      57.0\n",
       "2015-07-22 14:00:00-04:00     565.0\n",
       "2015-07-22 14:30:00-04:00     414.0\n",
       "2015-07-22 15:00:00-04:00       0.0\n",
       "2015-07-22 15:30:00-04:00     292.0\n",
       "2015-07-22 16:00:00-04:00     379.0\n",
       "2015-07-22 16:30:00-04:00     170.0\n",
       "2015-07-22 17:00:00-04:00     235.0\n",
       "2015-07-22 17:30:00-04:00     392.0\n",
       "2015-07-22 18:00:00-04:00     132.0\n",
       "2015-07-22 18:30:00-04:00     550.0\n",
       "2015-07-22 19:00:00-04:00    3494.0\n",
       "2015-07-22 19:30:00-04:00     360.0\n",
       "2015-07-22 20:00:00-04:00     259.0\n",
       "2015-07-22 20:30:00-04:00     505.0\n",
       "2015-07-22 21:00:00-04:00     487.0\n",
       "2015-07-22 21:30:00-04:00       0.0\n",
       "2015-07-22 22:00:00-04:00       NaN\n",
       "2015-07-22 22:30:00-04:00       NaN\n",
       "2015-07-22 23:00:00-04:00       NaN\n",
       "2015-07-22 23:30:00-04:00       NaN\n",
       "2015-07-23 00:00:00-04:00       NaN\n",
       "2015-07-23 00:30:00-04:00       NaN\n",
       "                              ...  \n",
       "2015-09-15 03:00:00-04:00       NaN\n",
       "2015-09-15 03:30:00-04:00       NaN\n",
       "2015-09-15 04:00:00-04:00       NaN\n",
       "2015-09-15 04:30:00-04:00       NaN\n",
       "2015-09-15 05:00:00-04:00       NaN\n",
       "2015-09-15 05:30:00-04:00       NaN\n",
       "2015-09-15 06:00:00-04:00       NaN\n",
       "2015-09-15 06:30:00-04:00       0.0\n",
       "2015-09-15 07:00:00-04:00       NaN\n",
       "2015-09-15 07:30:00-04:00       NaN\n",
       "2015-09-15 08:00:00-04:00       NaN\n",
       "2015-09-15 08:30:00-04:00       NaN\n",
       "2015-09-15 09:00:00-04:00       NaN\n",
       "2015-09-15 09:30:00-04:00       NaN\n",
       "2015-09-15 10:00:00-04:00       NaN\n",
       "2015-09-15 10:30:00-04:00       NaN\n",
       "2015-09-15 11:00:00-04:00       NaN\n",
       "2015-09-15 11:30:00-04:00       NaN\n",
       "2015-09-15 12:00:00-04:00       NaN\n",
       "2015-09-15 12:30:00-04:00       0.0\n",
       "2015-09-15 13:00:00-04:00       NaN\n",
       "2015-09-15 13:30:00-04:00       NaN\n",
       "2015-09-15 14:00:00-04:00       NaN\n",
       "2015-09-15 14:30:00-04:00       0.0\n",
       "2015-09-15 15:00:00-04:00       NaN\n",
       "2015-09-15 15:30:00-04:00       NaN\n",
       "2015-09-15 16:00:00-04:00       NaN\n",
       "2015-09-15 16:30:00-04:00       NaN\n",
       "2015-09-15 17:00:00-04:00       NaN\n",
       "2015-09-15 17:30:00-04:00       0.0\n",
       "Freq: 30T, Name: steps, Length: 2656, dtype: float64"
      ]
     },
     "execution_count": 33,
     "metadata": {},
     "output_type": "execute_result"
    }
   ],
   "source": [
    "ground_truth[1].resample('30T').sum()"
   ]
  },
  {
   "cell_type": "code",
   "execution_count": null,
   "metadata": {
    "collapsed": true
   },
   "outputs": [],
   "source": []
  }
 ],
 "metadata": {
  "anaconda-cloud": {},
  "kernelspec": {
   "display_name": "Python [Root]",
   "language": "python",
   "name": "Python [Root]"
  },
  "language_info": {
   "codemirror_mode": {
    "name": "ipython",
    "version": 3
   },
   "file_extension": ".py",
   "mimetype": "text/x-python",
   "name": "python",
   "nbconvert_exporter": "python",
   "pygments_lexer": "ipython3",
   "version": "3.5.6"
  }
 },
 "nbformat": 4,
 "nbformat_minor": 0
}
