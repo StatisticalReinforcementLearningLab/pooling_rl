{
 "cells": [
  {
   "cell_type": "code",
   "execution_count": 2,
   "metadata": {},
   "outputs": [],
   "source": [
    "import pandas as pd\n",
    "import sys\n",
    "sys.path\n",
    "sys.path.append('../models')\n",
    "import numpy as np\n",
    "import pickle\n",
    "import random\n",
    "import os\n",
    "import math\n",
    "import sim_functions_cleaner  as sf\n",
    "import operator\n",
    "import study\n",
    "import time\n",
    "import TS_personal_params_pooled as pp\n",
    "import TS_global_params_pooled as gtp\n",
    "from numpy.random import uniform\n",
    "\n",
    "#sys.path.append('../simulation')\n",
    "import TS_fancy_pooled \n",
    "#import TS_fancy_pooled \n",
    "import eta\n",
    "import pooling_bandits as pb\n",
    "import warnings \n",
    "warnings.simplefilter('ignore')"
   ]
  },
  {
   "cell_type": "code",
   "execution_count": 3,
   "metadata": {},
   "outputs": [],
   "source": [
    "import warnings\n",
    "with warnings.catch_warnings():\n",
    "    warnings.simplefilter('ignore')\n",
    "import logging\n",
    "logging.getLogger(\"FFC\").setLevel(logging.ERROR)"
   ]
  },
  {
   "cell_type": "code",
   "execution_count": 3,
   "metadata": {},
   "outputs": [],
   "source": [
    "##for each person generate dates\n",
    "##easiest to take from original data, this might best mimic actual situation "
   ]
  },
  {
   "cell_type": "code",
   "execution_count": 4,
   "metadata": {},
   "outputs": [],
   "source": [
    "#root =  '../../../../Volumes/dav/HeartSteps/pooling_rl_shared_data/processed/'"
   ]
  },
  {
   "cell_type": "code",
   "execution_count": 5,
   "metadata": {},
   "outputs": [],
   "source": [
    "#experiment.population[1]"
   ]
  },
  {
   "cell_type": "code",
   "execution_count": 4,
   "metadata": {},
   "outputs": [],
   "source": [
    "def initialize_policy_params_TS(experiment,context_dimension):\n",
    "    \n",
    "    global_p =gtp.TS_global_params(10,context_dimension) \n",
    "    personal_p = pp.TS_personal_params()\n",
    "    \n",
    "    #print(type(personal_p))\n",
    "    \n",
    "    for person in experiment.population.keys():\n",
    "        initial_context = [0 for i in range(context_dimension)]\n",
    "        personal_p.mus0[person]= global_p.get_mu0(initial_context)\n",
    "        personal_p.mus1[person]= global_p.get_mu1(initial_context)\n",
    "        personal_p.mus2[person]= global_p.get_mu2(initial_context)\n",
    "\n",
    "        personal_p.sigmas0[person]= global_p.get_asigma(len( personal_p.mus0[person]))\n",
    "        personal_p.sigmas1[person]= global_p.get_asigma(len( personal_p.mus1[person]))\n",
    "        personal_p.sigmas2[person]= global_p.get_asigma(len( personal_p.mus2[person]))\n",
    "     \n",
    "        \n",
    "        \n",
    "        personal_p.batch[person]=[[] for i in range(len(experiment.person_to_time[person]))]\n",
    "        personal_p.batch_index[person]=0\n",
    "        \n",
    "        personal_p.etas[person]=eta.eta()\n",
    "   \n",
    "        personal_p.last_update[person]=experiment.person_to_time[person][0]\n",
    "        \n",
    "        \n",
    "    return global_p ,personal_p     "
   ]
  },
  {
   "cell_type": "code",
   "execution_count": null,
   "metadata": {},
   "outputs": [],
   "source": []
  },
  {
   "cell_type": "code",
   "execution_count": 7,
   "metadata": {},
   "outputs": [],
   "source": [
    "#days = pd.date_range(start = '7/22/2015',end =pd.Timestamp('7/22/2015')+pd.DateOffset(days=45),freq='30T')"
   ]
  },
  {
   "cell_type": "code",
   "execution_count": 8,
   "metadata": {},
   "outputs": [],
   "source": [
    "#ft = experiment.study_days[96]"
   ]
  },
  {
   "cell_type": "code",
   "execution_count": 9,
   "metadata": {},
   "outputs": [],
   "source": [
    "#yesterday = ft-pd.DateOffset(days=1)\n",
    "#end = yesterday.replace(hour=0,minute=0)\n",
    "#start = experiment.study_days[0]\n",
    "#end"
   ]
  },
  {
   "cell_type": "code",
   "execution_count": 9,
   "metadata": {},
   "outputs": [],
   "source": [
    "def new_kind_of_simulation(experiment,policy=None,personal_policy_params=None,global_policy_params=None):\n",
    "    \n",
    "\n",
    "    for time in experiment.study_days:\n",
    "            if time> experiment.study_days[0]:\n",
    "                history  = pb.make_history(experiment)\n",
    "            if time==experiment.last_update_day+pd.DateOffset(days=1):\n",
    "                experiment.last_update_day=time\n",
    "                ##global update\n",
    "                #print(time)\n",
    "                #print(experiment.last_update_day+pd.DateOffset(days=1))\n",
    "                ##am i checking the current time (need to check the \n",
    "                #current time make sure i'm not using all of the history)\n",
    "               \n",
    "                #print(history)\n",
    "                temp_params = TS_fancy_pooled.global_updates(history[0],history[1])\n",
    "                print(temp_params['cov'].shape)\n",
    "                global_policy_params.update_params(temp_params)\n",
    "                del temp_params\n",
    "                ##update global params using these temp_params\n",
    "                \n",
    "                \n",
    "                \n",
    "            ##update global context\n",
    "            ##global context shared across all participants\n",
    "            tod = sf.get_time_of_day(time)\n",
    "            dow = sf.get_day_of_week(time)\n",
    "            if time==experiment.study_days[0]:\n",
    "                \n",
    "                weather = sf.get_weather_prior(tod,time.month)\n",
    "            elif time.hour in experiment.weather_update_hours and time.minute==0:\n",
    "                weather = sf.get_next_weather(str(tod),str(time.month),weather)\n",
    "            ##location depends on person \n",
    "            \n",
    "            for person in experiment.dates_to_people[time]:\n",
    "                dt=False\n",
    "                action = 0 \n",
    "                prob=0\n",
    "                #1\n",
    "                ##for every active person update person specific aspects of their context\n",
    "                participant = experiment.population[person]\n",
    "                #update global context variables\n",
    "                participant.set_tod(tod)\n",
    "                participant.set_dow(dow)\n",
    "                participant.set_wea(weather)\n",
    "                \n",
    "                \n",
    "                availability = (uniform() < 0.8)\n",
    "                participant.set_available(availability)\n",
    "                \n",
    "                if time == participant.times[0]:\n",
    "                    #get first location \n",
    "                    location = sf.get_location_prior(str(participant.gid),str(dow),str(tod))\n",
    "                    participant.set_inaction_duration(0)\n",
    "                    participant.set_action_duration(0)\n",
    "                    participant.set_duration(0)\n",
    "                    participant.set_dosage(0)\n",
    "                    #personal_policy_params.etas[participant.pid]\n",
    "                    \n",
    "                    \n",
    "                if time <= participant.times[1]:\n",
    "                    steps_last_time_period = 0  \n",
    "                    \n",
    "                    ##set first pre-treatment, yesterday step count, variation and dosage\n",
    "                else:\n",
    "                    #print(time)\n",
    "                    steps_last_time_period = participant.find_last_time_period_steps(time)\n",
    "                    participant.update_duration(steps_last_time_period)\n",
    "             \n",
    "                    #get var id\n",
    "                    \n",
    "                if time.date() <= participant.times[0].date():\n",
    "                    steps_yesterday = 0    \n",
    "                else:\n",
    "                    steps_yesterday =  participant.find_yesterday_steps(time)\n",
    "                    steps_yesterday = sf.to_yid(steps_yesterday)\n",
    "                    \n",
    "                if time.hour in experiment.location_update_hours:\n",
    "                    location = sf.get_next_location(participant.gid,dow,tod,participant.get_loc())\n",
    "                \n",
    "                if time.date()>(participant.times[0]+pd.DateOffset(days=1)).date():\n",
    "                  \n",
    "                    if time.hour==0 and time.minute==0:\n",
    "                        variation = participant.find_variation(time)\n",
    "                else:\n",
    "                    variation = 1 \n",
    "                \n",
    "                participant.set_loc(location)\n",
    "                ##maybe faster to update instead of query?\n",
    "                participant.set_last_time_period_steps(steps_last_time_period)\n",
    "                participant.set_yesterday_steps(steps_yesterday)\n",
    "                participant.set_variation(variation)\n",
    "                \n",
    "                ##continue\n",
    "                #2\n",
    "                ##for every active person take an action according to current context, policy, and parameters\n",
    "                \n",
    "                \n",
    "                ##for now:\n",
    "                ##eval with empty array \n",
    "                if time in participant.decision_times and availability:\n",
    "                    \n",
    "                    dt=True\n",
    "                    action=0\n",
    "                    \n",
    "                    if policy==None:\n",
    "                        action = sf.get_action(policy)\n",
    "                        \n",
    "                        \n",
    "                        \n",
    "                    elif policy=='TS':\n",
    "                        #some context slice\n",
    "                            prob = TS.prob_cal_ts([int(tod),int(dow)],participant.dosage,\\\n",
    "                                              personal_policy_params.mus2[participant.pid],personal_policy_params.sigmas2[participant.pid],\\\n",
    "                                                 global_policy_params)\n",
    "                            action = int(uniform() < prob)\n",
    "                            \n",
    "                        \n",
    "                            \n",
    "                    elif policy=='TS_fancy':\n",
    "                        #previous\n",
    "                        #Z, X, mu_beta, Sigma_beta, init,current_eta\n",
    "                        \n",
    "                        ##need to make eta part of the global policy params\n",
    "                        prob = TS_fancy_pooled.prob_cal([location,weather,steps_last_time_period,variation,steps_yesterday],participant.dosage,\\\n",
    "                                              personal_policy_params.mus2[participant.pid],personal_policy_params.sigmas2[participant.pid],\\\n",
    "                                                 global_policy_params,personal_policy_params.etas[participant.pid])\n",
    "                        action = int(uniform() < prob)\n",
    "                        \n",
    "                        \n",
    "                        \n",
    "                    ##is this the same as in the TS?\n",
    "                    ##don't think so, but for now keep like this\n",
    "                    ##no it isn't, i have to redo this\n",
    "                    participant.update_dosage(action)\n",
    "                    \n",
    "                    context = [action,participant.gid,tod,dow,location,weather,participant.get_prekey(participant.duration,steps_last_time_period),\\\n",
    "                              steps_yesterday,variation,sf.dosage_to_dosage_key(participant.dosage)]\n",
    "                    steps = sf.get_steps_action(context)\n",
    "                else:\n",
    "                    steps = sf.get_steps_no_action(participant.gid,tod,dow,location,weather)\n",
    "                \n",
    "                \n",
    "                \n",
    "                personal_policy_params.update_batch(participant.pid,[0,location,weather,steps_last_time_period,variation,steps_yesterday,participant.dosage,\\\n",
    "                                                                        int(availability) ,action,prob,steps])  \n",
    "                \n",
    "                ##history:\n",
    "                context_dict =  {'steps':steps,'action':action,'weather':weather,'location':location,\\\n",
    "                                'ltps':steps_last_time_period,'duration':participant.duration,\\\n",
    "                                'study_day':participant.current_day_counter,'decision_time':dt}\n",
    "                participant.history[time]=context_dict\n",
    "                \n",
    "            #3\n",
    "            ##for every active person generate a step count given current context\n",
    "            \n",
    "            \n",
    "            \n",
    "            \n",
    "            ##update at midnight (here we have ensured that no one has a ) experiment.update_hour\n",
    "            \n",
    "                if time.hour==0 and time.minute==0 :\n",
    "                    ##update the policy\n",
    "                    #print(personal_policy_params.batch_index[participant.pid])\n",
    "               \n",
    "                    batch = personal_policy_params.batch[participant.pid]\\\n",
    "                    [:personal_policy_params.batch_index[participant.pid]]\n",
    "                    \n",
    "                    \n",
    "                    \n",
    "                    ##do global updates\n",
    "                    \n",
    "                    if time==personal_policy_params.last_update[participant.pid]+pd.DateOffset(days=8):\n",
    "                        #print('batch')\n",
    "                        #print(batch)\n",
    "                        temp = TS_fancy_pooled.policy_update( global_policy_params,batch,\\\n",
    "                                              personal_policy_params.mus0[participant.pid],\\\n",
    "                                               personal_policy_params.sigmas0[participant.pid],\\\n",
    "                                               personal_policy_params.mus1[participant.pid],\\\n",
    "                                               personal_policy_params.sigmas1[participant.pid],\\\n",
    "                                               personal_policy_params.mus2[participant.pid],\\\n",
    "                                               personal_policy_params.sigmas2[participant.pid],\\\n",
    "                                               proxy=True\n",
    "                                              )\n",
    "                    \n",
    "                      \n",
    "                \n",
    "                        eta_params = temp[2]\n",
    "                        personal_policy_params.etas[participant.pid].update_params(eta_params)\n",
    "                        personal_policy_params.etas[participant.pid].which_function = 'other'\n",
    "                        personal_policy_params.last_update[participant.pid]=time\n",
    "                    else:\n",
    "                        ##calculate posterior\n",
    "                        \n",
    "                        ##pretend they are scaled\n",
    "                        if time>participant.times[0]:\n",
    "                           \n",
    "                            temp = pb.calculate_posterior(global_policy_params,\\\n",
    "                                                      participant.pid,participant.current_day_counter,\\\n",
    "                                                          history[0], history[1] )\n",
    "                        \n",
    "                        #temp = TS_fancy_pooled.policy_update( global_policy_params,batch,\\\n",
    "                                           #   personal_policy_params.mus0[participant.pid],\\\n",
    "                                             #  personal_policy_params.sigmas0[participant.pid],\\\n",
    "                                             #  personal_policy_params.mus1[participant.pid],\\\n",
    "                                             #  personal_policy_params.sigmas1[participant.pid],\\\n",
    "                                             #  personal_policy_params.mus2[participant.pid],\\\n",
    "                                             #  personal_policy_params.sigmas2[participant.pid],\\\n",
    "                                           #\n",
    "                                             # )\n",
    "                        \n",
    "                        else:\n",
    "                            temp = [personal_policy_params.mus2[participant.pid],personal_policy_params.sigmas2[participant.pid]]\n",
    "                    \n",
    "                    #print(temp)\n",
    "                    mu_beta = temp[0]\n",
    "                    Sigma_beta = temp[1]\n",
    "                    personal_policy_params.update_mus(participant.pid,mu_beta,2)\n",
    "                    personal_policy_params.update_sigmas(participant.pid,Sigma_beta,2)\n",
    "                    \n",
    "\n"
   ]
  },
  {
   "cell_type": "code",
   "execution_count": 10,
   "metadata": {},
   "outputs": [],
   "source": [
    "experiment = study.study()"
   ]
  },
  {
   "cell_type": "code",
   "execution_count": 11,
   "metadata": {},
   "outputs": [],
   "source": [
    "glob,personal = initialize_policy_params_TS(experiment,5)"
   ]
  },
  {
   "cell_type": "code",
   "execution_count": 13,
   "metadata": {},
   "outputs": [],
   "source": [
    "i = [0, [0, 1, 0, 1, 0], 0, 1, 0, 0, 0.0]"
   ]
  },
  {
   "cell_type": "code",
   "execution_count": 12,
   "metadata": {},
   "outputs": [
    {
     "data": {
      "text/plain": [
       "6"
      ]
     },
     "execution_count": 12,
     "metadata": {},
     "output_type": "execute_result"
    }
   ],
   "source": [
    "glob.x_index"
   ]
  },
  {
   "cell_type": "code",
   "execution_count": 15,
   "metadata": {},
   "outputs": [
    {
     "data": {
      "text/plain": [
       "11"
      ]
     },
     "execution_count": 15,
     "metadata": {},
     "output_type": "execute_result"
    }
   ],
   "source": [
    "len([0, 3, 1, 0, 1, 0, 17, 0, 0, 0, 0.0])"
   ]
  },
  {
   "cell_type": "code",
   "execution_count": 1,
   "metadata": {},
   "outputs": [
    {
     "ename": "NameError",
     "evalue": "name 'j' is not defined",
     "output_type": "error",
     "traceback": [
      "\u001b[0;31m---------------------------------------------------------------------------\u001b[0m",
      "\u001b[0;31mNameError\u001b[0m                                 Traceback (most recent call last)",
      "\u001b[0;32m<ipython-input-1-ce4026f2daec>\u001b[0m in \u001b[0;36m<module>\u001b[0;34m\u001b[0m\n\u001b[0;32m----> 1\u001b[0;31m \u001b[0mj\u001b[0m\u001b[0;34m.\u001b[0m\u001b[0mextend\u001b[0m\u001b[0;34m(\u001b[0m\u001b[0mi\u001b[0m\u001b[0;34m[\u001b[0m\u001b[0;36m1\u001b[0m\u001b[0;34m:\u001b[0m\u001b[0;34m]\u001b[0m\u001b[0;34m)\u001b[0m\u001b[0;34m\u001b[0m\u001b[0;34m\u001b[0m\u001b[0m\n\u001b[0m",
      "\u001b[0;31mNameError\u001b[0m: name 'j' is not defined"
     ]
    }
   ],
   "source": [
    "j.extend(i[1:])"
   ]
  },
  {
   "cell_type": "code",
   "execution_count": null,
   "metadata": {},
   "outputs": [
    {
     "name": "stderr",
     "output_type": "stream",
     "text": [
      "WARNING:gpflow.logdensities:Shape of x must be 2D at computation.\n",
      "WARNING:gpflow.logdensities:Shape of mu may be unknown or not 2D.\n"
     ]
    },
    {
     "name": "stdout",
     "output_type": "stream",
     "text": [
      "called\n",
      "(5, 5)\n"
     ]
    },
    {
     "name": "stderr",
     "output_type": "stream",
     "text": [
      "WARNING:gpflow.logdensities:Shape of x must be 2D at computation.\n",
      "WARNING:gpflow.logdensities:Shape of mu may be unknown or not 2D.\n"
     ]
    },
    {
     "name": "stdout",
     "output_type": "stream",
     "text": [
      "called\n",
      "(8, 8)\n"
     ]
    },
    {
     "name": "stderr",
     "output_type": "stream",
     "text": [
      "WARNING:gpflow.logdensities:Shape of x must be 2D at computation.\n",
      "WARNING:gpflow.logdensities:Shape of mu may be unknown or not 2D.\n"
     ]
    },
    {
     "name": "stdout",
     "output_type": "stream",
     "text": [
      "called\n",
      "(16, 16)\n"
     ]
    },
    {
     "name": "stderr",
     "output_type": "stream",
     "text": [
      "WARNING:gpflow.logdensities:Shape of x must be 2D at computation.\n",
      "WARNING:gpflow.logdensities:Shape of mu may be unknown or not 2D.\n"
     ]
    },
    {
     "name": "stdout",
     "output_type": "stream",
     "text": [
      "called\n",
      "(28, 28)\n"
     ]
    },
    {
     "name": "stderr",
     "output_type": "stream",
     "text": [
      "WARNING:gpflow.logdensities:Shape of x must be 2D at computation.\n",
      "WARNING:gpflow.logdensities:Shape of mu may be unknown or not 2D.\n"
     ]
    },
    {
     "name": "stdout",
     "output_type": "stream",
     "text": [
      "called\n",
      "(40, 40)\n"
     ]
    },
    {
     "name": "stderr",
     "output_type": "stream",
     "text": [
      "WARNING:gpflow.logdensities:Shape of x must be 2D at computation.\n",
      "WARNING:gpflow.logdensities:Shape of mu may be unknown or not 2D.\n"
     ]
    },
    {
     "name": "stdout",
     "output_type": "stream",
     "text": [
      "called\n",
      "(61, 61)\n"
     ]
    },
    {
     "name": "stderr",
     "output_type": "stream",
     "text": [
      "WARNING:gpflow.logdensities:Shape of x must be 2D at computation.\n",
      "WARNING:gpflow.logdensities:Shape of mu may be unknown or not 2D.\n"
     ]
    },
    {
     "name": "stdout",
     "output_type": "stream",
     "text": [
      "called\n",
      "(97, 97)\n"
     ]
    },
    {
     "name": "stderr",
     "output_type": "stream",
     "text": [
      "WARNING:gpflow.logdensities:Shape of x must be 2D at computation.\n",
      "WARNING:gpflow.logdensities:Shape of mu may be unknown or not 2D.\n"
     ]
    },
    {
     "name": "stdout",
     "output_type": "stream",
     "text": [
      "called\n",
      "(135, 135)\n"
     ]
    },
    {
     "name": "stderr",
     "output_type": "stream",
     "text": [
      "WARNING:gpflow.logdensities:Shape of x must be 2D at computation.\n",
      "WARNING:gpflow.logdensities:Shape of mu may be unknown or not 2D.\n"
     ]
    },
    {
     "name": "stdout",
     "output_type": "stream",
     "text": [
      "called\n",
      "(177, 177)\n"
     ]
    },
    {
     "name": "stderr",
     "output_type": "stream",
     "text": [
      "WARNING:gpflow.logdensities:Shape of x must be 2D at computation.\n",
      "WARNING:gpflow.logdensities:Shape of mu may be unknown or not 2D.\n"
     ]
    },
    {
     "name": "stdout",
     "output_type": "stream",
     "text": [
      "called\n",
      "(218, 218)\n"
     ]
    },
    {
     "name": "stderr",
     "output_type": "stream",
     "text": [
      "WARNING:gpflow.logdensities:Shape of x must be 2D at computation.\n",
      "WARNING:gpflow.logdensities:Shape of mu may be unknown or not 2D.\n"
     ]
    },
    {
     "name": "stdout",
     "output_type": "stream",
     "text": [
      "called\n",
      "(256, 256)\n"
     ]
    },
    {
     "name": "stderr",
     "output_type": "stream",
     "text": [
      "WARNING:gpflow.logdensities:Shape of x must be 2D at computation.\n",
      "WARNING:gpflow.logdensities:Shape of mu may be unknown or not 2D.\n"
     ]
    },
    {
     "name": "stdout",
     "output_type": "stream",
     "text": [
      "called\n",
      "(301, 301)\n"
     ]
    },
    {
     "name": "stderr",
     "output_type": "stream",
     "text": [
      "WARNING:gpflow.logdensities:Shape of x must be 2D at computation.\n",
      "WARNING:gpflow.logdensities:Shape of mu may be unknown or not 2D.\n"
     ]
    },
    {
     "name": "stdout",
     "output_type": "stream",
     "text": [
      "called\n",
      "(341, 341)\n"
     ]
    },
    {
     "name": "stderr",
     "output_type": "stream",
     "text": [
      "WARNING:gpflow.logdensities:Shape of x must be 2D at computation.\n",
      "WARNING:gpflow.logdensities:Shape of mu may be unknown or not 2D.\n"
     ]
    },
    {
     "name": "stdout",
     "output_type": "stream",
     "text": [
      "called\n",
      "(380, 380)\n"
     ]
    },
    {
     "name": "stderr",
     "output_type": "stream",
     "text": [
      "WARNING:gpflow.logdensities:Shape of x must be 2D at computation.\n",
      "WARNING:gpflow.logdensities:Shape of mu may be unknown or not 2D.\n"
     ]
    },
    {
     "name": "stdout",
     "output_type": "stream",
     "text": [
      "called\n",
      "(416, 416)\n"
     ]
    },
    {
     "name": "stderr",
     "output_type": "stream",
     "text": [
      "WARNING:gpflow.logdensities:Shape of x must be 2D at computation.\n",
      "WARNING:gpflow.logdensities:Shape of mu may be unknown or not 2D.\n"
     ]
    },
    {
     "name": "stdout",
     "output_type": "stream",
     "text": [
      "called\n",
      "(460, 460)\n"
     ]
    },
    {
     "name": "stderr",
     "output_type": "stream",
     "text": [
      "WARNING:gpflow.logdensities:Shape of x must be 2D at computation.\n",
      "WARNING:gpflow.logdensities:Shape of mu may be unknown or not 2D.\n"
     ]
    },
    {
     "name": "stdout",
     "output_type": "stream",
     "text": [
      "called\n",
      "(507, 507)\n"
     ]
    },
    {
     "name": "stderr",
     "output_type": "stream",
     "text": [
      "WARNING:gpflow.logdensities:Shape of x must be 2D at computation.\n",
      "WARNING:gpflow.logdensities:Shape of mu may be unknown or not 2D.\n"
     ]
    },
    {
     "name": "stdout",
     "output_type": "stream",
     "text": [
      "called\n",
      "(549, 549)\n"
     ]
    },
    {
     "name": "stderr",
     "output_type": "stream",
     "text": [
      "WARNING:gpflow.logdensities:Shape of x must be 2D at computation.\n",
      "WARNING:gpflow.logdensities:Shape of mu may be unknown or not 2D.\n"
     ]
    },
    {
     "name": "stdout",
     "output_type": "stream",
     "text": [
      "called\n",
      "(586, 586)\n"
     ]
    },
    {
     "name": "stderr",
     "output_type": "stream",
     "text": [
      "WARNING:gpflow.logdensities:Shape of x must be 2D at computation.\n",
      "WARNING:gpflow.logdensities:Shape of mu may be unknown or not 2D.\n"
     ]
    },
    {
     "name": "stdout",
     "output_type": "stream",
     "text": [
      "called\n",
      "(627, 627)\n"
     ]
    },
    {
     "name": "stderr",
     "output_type": "stream",
     "text": [
      "WARNING:gpflow.logdensities:Shape of x must be 2D at computation.\n",
      "WARNING:gpflow.logdensities:Shape of mu may be unknown or not 2D.\n"
     ]
    },
    {
     "name": "stdout",
     "output_type": "stream",
     "text": [
      "called\n",
      "(667, 667)\n"
     ]
    },
    {
     "name": "stderr",
     "output_type": "stream",
     "text": [
      "WARNING:gpflow.logdensities:Shape of x must be 2D at computation.\n",
      "WARNING:gpflow.logdensities:Shape of mu may be unknown or not 2D.\n"
     ]
    },
    {
     "name": "stdout",
     "output_type": "stream",
     "text": [
      "called\n",
      "(709, 709)\n"
     ]
    },
    {
     "name": "stderr",
     "output_type": "stream",
     "text": [
      "WARNING:gpflow.logdensities:Shape of x must be 2D at computation.\n",
      "WARNING:gpflow.logdensities:Shape of mu may be unknown or not 2D.\n"
     ]
    },
    {
     "name": "stdout",
     "output_type": "stream",
     "text": [
      "called\n",
      "(745, 745)\n"
     ]
    },
    {
     "name": "stderr",
     "output_type": "stream",
     "text": [
      "WARNING:gpflow.logdensities:Shape of x must be 2D at computation.\n",
      "WARNING:gpflow.logdensities:Shape of mu may be unknown or not 2D.\n"
     ]
    },
    {
     "name": "stdout",
     "output_type": "stream",
     "text": [
      "called\n",
      "(784, 784)\n"
     ]
    },
    {
     "name": "stderr",
     "output_type": "stream",
     "text": [
      "WARNING:gpflow.logdensities:Shape of x must be 2D at computation.\n",
      "WARNING:gpflow.logdensities:Shape of mu may be unknown or not 2D.\n"
     ]
    },
    {
     "name": "stdout",
     "output_type": "stream",
     "text": [
      "called\n",
      "(822, 822)\n"
     ]
    },
    {
     "name": "stderr",
     "output_type": "stream",
     "text": [
      "WARNING:gpflow.logdensities:Shape of x must be 2D at computation.\n",
      "WARNING:gpflow.logdensities:Shape of mu may be unknown or not 2D.\n"
     ]
    },
    {
     "name": "stdout",
     "output_type": "stream",
     "text": [
      "called\n",
      "(861, 861)\n"
     ]
    },
    {
     "name": "stderr",
     "output_type": "stream",
     "text": [
      "WARNING:gpflow.logdensities:Shape of x must be 2D at computation.\n",
      "WARNING:gpflow.logdensities:Shape of mu may be unknown or not 2D.\n"
     ]
    },
    {
     "name": "stdout",
     "output_type": "stream",
     "text": [
      "called\n",
      "(897, 897)\n"
     ]
    },
    {
     "name": "stderr",
     "output_type": "stream",
     "text": [
      "WARNING:gpflow.logdensities:Shape of x must be 2D at computation.\n",
      "WARNING:gpflow.logdensities:Shape of mu may be unknown or not 2D.\n"
     ]
    },
    {
     "name": "stdout",
     "output_type": "stream",
     "text": [
      "called\n",
      "(940, 940)\n"
     ]
    },
    {
     "name": "stderr",
     "output_type": "stream",
     "text": [
      "WARNING:gpflow.logdensities:Shape of x must be 2D at computation.\n",
      "WARNING:gpflow.logdensities:Shape of mu may be unknown or not 2D.\n"
     ]
    },
    {
     "name": "stdout",
     "output_type": "stream",
     "text": [
      "called\n",
      "(980, 980)\n"
     ]
    },
    {
     "name": "stderr",
     "output_type": "stream",
     "text": [
      "WARNING:gpflow.logdensities:Shape of x must be 2D at computation.\n",
      "WARNING:gpflow.logdensities:Shape of mu may be unknown or not 2D.\n"
     ]
    },
    {
     "name": "stdout",
     "output_type": "stream",
     "text": [
      "called\n",
      "(1020, 1020)\n"
     ]
    },
    {
     "name": "stderr",
     "output_type": "stream",
     "text": [
      "WARNING:gpflow.logdensities:Shape of x must be 2D at computation.\n",
      "WARNING:gpflow.logdensities:Shape of mu may be unknown or not 2D.\n"
     ]
    },
    {
     "name": "stdout",
     "output_type": "stream",
     "text": [
      "called\n",
      "(1060, 1060)\n"
     ]
    },
    {
     "name": "stderr",
     "output_type": "stream",
     "text": [
      "WARNING:gpflow.logdensities:Shape of x must be 2D at computation.\n",
      "WARNING:gpflow.logdensities:Shape of mu may be unknown or not 2D.\n"
     ]
    },
    {
     "name": "stdout",
     "output_type": "stream",
     "text": [
      "called\n",
      "(1097, 1097)\n"
     ]
    },
    {
     "name": "stderr",
     "output_type": "stream",
     "text": [
      "WARNING:gpflow.logdensities:Shape of x must be 2D at computation.\n",
      "WARNING:gpflow.logdensities:Shape of mu may be unknown or not 2D.\n"
     ]
    },
    {
     "name": "stdout",
     "output_type": "stream",
     "text": [
      "called\n",
      "(1136, 1136)\n"
     ]
    },
    {
     "name": "stderr",
     "output_type": "stream",
     "text": [
      "WARNING:gpflow.logdensities:Shape of x must be 2D at computation.\n",
      "WARNING:gpflow.logdensities:Shape of mu may be unknown or not 2D.\n"
     ]
    },
    {
     "name": "stdout",
     "output_type": "stream",
     "text": [
      "called\n",
      "(1180, 1180)\n"
     ]
    },
    {
     "name": "stderr",
     "output_type": "stream",
     "text": [
      "WARNING:gpflow.logdensities:Shape of x must be 2D at computation.\n",
      "WARNING:gpflow.logdensities:Shape of mu may be unknown or not 2D.\n"
     ]
    },
    {
     "name": "stdout",
     "output_type": "stream",
     "text": [
      "called\n",
      "(1221, 1221)\n"
     ]
    },
    {
     "name": "stderr",
     "output_type": "stream",
     "text": [
      "WARNING:gpflow.logdensities:Shape of x must be 2D at computation.\n",
      "WARNING:gpflow.logdensities:Shape of mu may be unknown or not 2D.\n"
     ]
    },
    {
     "name": "stdout",
     "output_type": "stream",
     "text": [
      "called\n",
      "(1264, 1264)\n"
     ]
    },
    {
     "name": "stderr",
     "output_type": "stream",
     "text": [
      "WARNING:gpflow.logdensities:Shape of x must be 2D at computation.\n",
      "WARNING:gpflow.logdensities:Shape of mu may be unknown or not 2D.\n"
     ]
    },
    {
     "name": "stdout",
     "output_type": "stream",
     "text": [
      "called\n",
      "(1304, 1304)\n"
     ]
    },
    {
     "name": "stderr",
     "output_type": "stream",
     "text": [
      "WARNING:gpflow.logdensities:Shape of x must be 2D at computation.\n",
      "WARNING:gpflow.logdensities:Shape of mu may be unknown or not 2D.\n"
     ]
    },
    {
     "name": "stdout",
     "output_type": "stream",
     "text": [
      "called\n",
      "(1351, 1351)\n"
     ]
    },
    {
     "name": "stderr",
     "output_type": "stream",
     "text": [
      "WARNING:gpflow.logdensities:Shape of x must be 2D at computation.\n",
      "WARNING:gpflow.logdensities:Shape of mu may be unknown or not 2D.\n"
     ]
    },
    {
     "name": "stdout",
     "output_type": "stream",
     "text": [
      "called\n",
      "(1388, 1388)\n"
     ]
    },
    {
     "name": "stderr",
     "output_type": "stream",
     "text": [
      "WARNING:gpflow.logdensities:Shape of x must be 2D at computation.\n",
      "WARNING:gpflow.logdensities:Shape of mu may be unknown or not 2D.\n"
     ]
    },
    {
     "name": "stdout",
     "output_type": "stream",
     "text": [
      "called\n",
      "(1436, 1436)\n"
     ]
    },
    {
     "name": "stderr",
     "output_type": "stream",
     "text": [
      "WARNING:gpflow.logdensities:Shape of x must be 2D at computation.\n",
      "WARNING:gpflow.logdensities:Shape of mu may be unknown or not 2D.\n"
     ]
    },
    {
     "name": "stdout",
     "output_type": "stream",
     "text": [
      "called\n",
      "(1477, 1477)\n"
     ]
    },
    {
     "name": "stderr",
     "output_type": "stream",
     "text": [
      "WARNING:gpflow.logdensities:Shape of x must be 2D at computation.\n",
      "WARNING:gpflow.logdensities:Shape of mu may be unknown or not 2D.\n"
     ]
    },
    {
     "name": "stdout",
     "output_type": "stream",
     "text": [
      "called\n",
      "(1520, 1520)\n"
     ]
    },
    {
     "name": "stderr",
     "output_type": "stream",
     "text": [
      "WARNING:gpflow.logdensities:Shape of x must be 2D at computation.\n",
      "WARNING:gpflow.logdensities:Shape of mu may be unknown or not 2D.\n"
     ]
    },
    {
     "name": "stdout",
     "output_type": "stream",
     "text": [
      "called\n",
      "(1561, 1561)\n"
     ]
    },
    {
     "name": "stderr",
     "output_type": "stream",
     "text": [
      "WARNING:gpflow.logdensities:Shape of x must be 2D at computation.\n",
      "WARNING:gpflow.logdensities:Shape of mu may be unknown or not 2D.\n"
     ]
    },
    {
     "name": "stdout",
     "output_type": "stream",
     "text": [
      "called\n",
      "(1602, 1602)\n"
     ]
    },
    {
     "name": "stderr",
     "output_type": "stream",
     "text": [
      "WARNING:gpflow.logdensities:Shape of x must be 2D at computation.\n",
      "WARNING:gpflow.logdensities:Shape of mu may be unknown or not 2D.\n"
     ]
    },
    {
     "name": "stdout",
     "output_type": "stream",
     "text": [
      "called\n",
      "(1638, 1638)\n"
     ]
    },
    {
     "name": "stderr",
     "output_type": "stream",
     "text": [
      "WARNING:gpflow.logdensities:Shape of x must be 2D at computation.\n",
      "WARNING:gpflow.logdensities:Shape of mu may be unknown or not 2D.\n"
     ]
    },
    {
     "name": "stdout",
     "output_type": "stream",
     "text": [
      "called\n",
      "(1679, 1679)\n"
     ]
    },
    {
     "name": "stderr",
     "output_type": "stream",
     "text": [
      "WARNING:gpflow.logdensities:Shape of x must be 2D at computation.\n",
      "WARNING:gpflow.logdensities:Shape of mu may be unknown or not 2D.\n"
     ]
    },
    {
     "name": "stdout",
     "output_type": "stream",
     "text": [
      "called\n",
      "(1721, 1721)\n"
     ]
    },
    {
     "name": "stderr",
     "output_type": "stream",
     "text": [
      "WARNING:gpflow.logdensities:Shape of x must be 2D at computation.\n",
      "WARNING:gpflow.logdensities:Shape of mu may be unknown or not 2D.\n"
     ]
    },
    {
     "name": "stdout",
     "output_type": "stream",
     "text": [
      "called\n",
      "(1759, 1759)\n"
     ]
    },
    {
     "name": "stderr",
     "output_type": "stream",
     "text": [
      "WARNING:gpflow.logdensities:Shape of x must be 2D at computation.\n",
      "WARNING:gpflow.logdensities:Shape of mu may be unknown or not 2D.\n"
     ]
    },
    {
     "name": "stdout",
     "output_type": "stream",
     "text": [
      "called\n",
      "(1791, 1791)\n"
     ]
    },
    {
     "name": "stderr",
     "output_type": "stream",
     "text": [
      "WARNING:gpflow.logdensities:Shape of x must be 2D at computation.\n",
      "WARNING:gpflow.logdensities:Shape of mu may be unknown or not 2D.\n"
     ]
    },
    {
     "name": "stdout",
     "output_type": "stream",
     "text": [
      "called\n",
      "(1821, 1821)\n"
     ]
    },
    {
     "name": "stderr",
     "output_type": "stream",
     "text": [
      "WARNING:gpflow.logdensities:Shape of x must be 2D at computation.\n",
      "WARNING:gpflow.logdensities:Shape of mu may be unknown or not 2D.\n"
     ]
    },
    {
     "name": "stdout",
     "output_type": "stream",
     "text": [
      "called\n",
      "(1842, 1842)\n"
     ]
    },
    {
     "name": "stderr",
     "output_type": "stream",
     "text": [
      "WARNING:gpflow.logdensities:Shape of x must be 2D at computation.\n",
      "WARNING:gpflow.logdensities:Shape of mu may be unknown or not 2D.\n"
     ]
    },
    {
     "name": "stdout",
     "output_type": "stream",
     "text": [
      "called\n",
      "(1857, 1857)\n"
     ]
    },
    {
     "name": "stderr",
     "output_type": "stream",
     "text": [
      "WARNING:gpflow.logdensities:Shape of x must be 2D at computation.\n",
      "WARNING:gpflow.logdensities:Shape of mu may be unknown or not 2D.\n"
     ]
    },
    {
     "name": "stdout",
     "output_type": "stream",
     "text": [
      "called\n",
      "(1874, 1874)\n"
     ]
    },
    {
     "name": "stderr",
     "output_type": "stream",
     "text": [
      "WARNING:gpflow.logdensities:Shape of x must be 2D at computation.\n",
      "WARNING:gpflow.logdensities:Shape of mu may be unknown or not 2D.\n"
     ]
    },
    {
     "name": "stdout",
     "output_type": "stream",
     "text": [
      "called\n",
      "(1892, 1892)\n"
     ]
    },
    {
     "name": "stderr",
     "output_type": "stream",
     "text": [
      "WARNING:gpflow.logdensities:Shape of x must be 2D at computation.\n",
      "WARNING:gpflow.logdensities:Shape of mu may be unknown or not 2D.\n"
     ]
    },
    {
     "name": "stdout",
     "output_type": "stream",
     "text": [
      "called\n",
      "(1906, 1906)\n"
     ]
    },
    {
     "name": "stderr",
     "output_type": "stream",
     "text": [
      "WARNING:gpflow.logdensities:Shape of x must be 2D at computation.\n",
      "WARNING:gpflow.logdensities:Shape of mu may be unknown or not 2D.\n"
     ]
    },
    {
     "name": "stdout",
     "output_type": "stream",
     "text": [
      "called\n",
      "(1916, 1916)\n"
     ]
    },
    {
     "name": "stderr",
     "output_type": "stream",
     "text": [
      "WARNING:gpflow.logdensities:Shape of x must be 2D at computation.\n",
      "WARNING:gpflow.logdensities:Shape of mu may be unknown or not 2D.\n"
     ]
    },
    {
     "name": "stdout",
     "output_type": "stream",
     "text": [
      "called\n",
      "(1924, 1924)\n"
     ]
    },
    {
     "name": "stderr",
     "output_type": "stream",
     "text": [
      "WARNING:gpflow.logdensities:Shape of x must be 2D at computation.\n",
      "WARNING:gpflow.logdensities:Shape of mu may be unknown or not 2D.\n"
     ]
    },
    {
     "name": "stdout",
     "output_type": "stream",
     "text": [
      "called\n",
      "(1933, 1933)\n"
     ]
    },
    {
     "name": "stderr",
     "output_type": "stream",
     "text": [
      "WARNING:gpflow.logdensities:Shape of x must be 2D at computation.\n",
      "WARNING:gpflow.logdensities:Shape of mu may be unknown or not 2D.\n"
     ]
    },
    {
     "name": "stdout",
     "output_type": "stream",
     "text": [
      "called\n",
      "(1939, 1939)\n"
     ]
    },
    {
     "name": "stderr",
     "output_type": "stream",
     "text": [
      "WARNING:gpflow.logdensities:Shape of x must be 2D at computation.\n",
      "WARNING:gpflow.logdensities:Shape of mu may be unknown or not 2D.\n"
     ]
    },
    {
     "name": "stdout",
     "output_type": "stream",
     "text": [
      "called\n",
      "(1947, 1947)\n"
     ]
    },
    {
     "name": "stderr",
     "output_type": "stream",
     "text": [
      "WARNING:gpflow.logdensities:Shape of x must be 2D at computation.\n",
      "WARNING:gpflow.logdensities:Shape of mu may be unknown or not 2D.\n"
     ]
    },
    {
     "name": "stdout",
     "output_type": "stream",
     "text": [
      "called\n",
      "(1956, 1956)\n"
     ]
    },
    {
     "name": "stderr",
     "output_type": "stream",
     "text": [
      "WARNING:gpflow.logdensities:Shape of x must be 2D at computation.\n",
      "WARNING:gpflow.logdensities:Shape of mu may be unknown or not 2D.\n"
     ]
    },
    {
     "name": "stdout",
     "output_type": "stream",
     "text": [
      "called\n",
      "(1963, 1963)\n"
     ]
    },
    {
     "name": "stderr",
     "output_type": "stream",
     "text": [
      "WARNING:gpflow.logdensities:Shape of x must be 2D at computation.\n",
      "WARNING:gpflow.logdensities:Shape of mu may be unknown or not 2D.\n"
     ]
    },
    {
     "name": "stdout",
     "output_type": "stream",
     "text": [
      "called\n",
      "(1970, 1970)\n"
     ]
    },
    {
     "name": "stderr",
     "output_type": "stream",
     "text": [
      "WARNING:gpflow.logdensities:Shape of x must be 2D at computation.\n",
      "WARNING:gpflow.logdensities:Shape of mu may be unknown or not 2D.\n"
     ]
    },
    {
     "name": "stdout",
     "output_type": "stream",
     "text": [
      "called\n",
      "(1978, 1978)\n"
     ]
    },
    {
     "name": "stderr",
     "output_type": "stream",
     "text": [
      "WARNING:gpflow.logdensities:Shape of x must be 2D at computation.\n",
      "WARNING:gpflow.logdensities:Shape of mu may be unknown or not 2D.\n"
     ]
    },
    {
     "name": "stdout",
     "output_type": "stream",
     "text": [
      "called\n",
      "(2000, 2000)\n"
     ]
    },
    {
     "name": "stderr",
     "output_type": "stream",
     "text": [
      "WARNING:gpflow.logdensities:Shape of x must be 2D at computation.\n",
      "WARNING:gpflow.logdensities:Shape of mu may be unknown or not 2D.\n"
     ]
    }
   ],
   "source": [
    "start = time.time()\n",
    "new_kind_of_simulation(experiment,'TS_fancy',personal,glob)\n",
    "end = time.time()\n",
    "print(end-start)"
   ]
  },
  {
   "cell_type": "code",
   "execution_count": null,
   "metadata": {},
   "outputs": [],
   "source": [
    "all_steps  = [\n",
    "]\n",
    "for p in experiment.population.values():\n",
    "    all_steps.extend([v['steps'] for v in p.history.values()])"
   ]
  },
  {
   "cell_type": "code",
   "execution_count": 29,
   "metadata": {},
   "outputs": [
    {
     "data": {
      "text/plain": [
       "269.48361421434157"
      ]
     },
     "execution_count": 29,
     "metadata": {},
     "output_type": "execute_result"
    }
   ],
   "source": [
    "np.array(all_steps).mean()"
   ]
  },
  {
   "cell_type": "code",
   "execution_count": null,
   "metadata": {
    "collapsed": true
   },
   "outputs": [],
   "source": [
    "[223.62212776908694,]"
   ]
  },
  {
   "cell_type": "code",
   "execution_count": 17,
   "metadata": {},
   "outputs": [
    {
     "data": {
      "text/plain": [
       "{0, 1}"
      ]
     },
     "execution_count": 17,
     "metadata": {},
     "output_type": "execute_result"
    }
   ],
   "source": [
    "all_steps  = set([])\n",
    "for p in experiment.population.values():\n",
    "    all_steps.update([v['action'] for v in p.history.values()])\n",
    "all_steps"
   ]
  },
  {
   "cell_type": "code",
   "execution_count": 5,
   "metadata": {
    "collapsed": true
   },
   "outputs": [],
   "source": [
    "def get_today_variance(today,lookup,all_steps):\n",
    "    morning = today.replace(hour=0,minute=0)\n",
    "    \n",
    "    tonight = today.replace(hour=23,minute=30)\n",
    "    \n",
    "    steps = all_steps[lookup[morning]:lookup[tonight]+1]\n",
    "    \n",
    "   \n",
    "    \n",
    "    steps = transform_to_hour(steps)\n",
    "    \n",
    "    return np.array(steps).std()"
   ]
  },
  {
   "cell_type": "code",
   "execution_count": 6,
   "metadata": {
    "collapsed": true
   },
   "outputs": [],
   "source": [
    "means = []\n",
    "for n in range(1000):\n",
    "    gr=sf.simulate_run(1,days,[])\n",
    "    means.append(np.array(gr[0][0]).mean())"
   ]
  },
  {
   "cell_type": "code",
   "execution_count": 49,
   "metadata": {},
   "outputs": [
    {
     "data": {
      "text/plain": [
       "446.51003316358634"
      ]
     },
     "execution_count": 49,
     "metadata": {},
     "output_type": "execute_result"
    }
   ],
   "source": [
    "np.array(gr[0][0]).mean()"
   ]
  },
  {
   "cell_type": "code",
   "execution_count": 7,
   "metadata": {},
   "outputs": [
    {
     "data": {
      "text/plain": [
       "137.29867338336618"
      ]
     },
     "execution_count": 7,
     "metadata": {},
     "output_type": "execute_result"
    }
   ],
   "source": [
    "np.array(means).mean()"
   ]
  },
  {
   "cell_type": "code",
   "execution_count": 38,
   "metadata": {},
   "outputs": [
    {
     "data": {
      "text/plain": [
       "[2, 0, 0, 0, 2, 1, 0, 1, 1]"
      ]
     },
     "execution_count": 38,
     "metadata": {},
     "output_type": "execute_result"
    }
   ],
   "source": [
    "gr[1][0]"
   ]
  },
  {
   "cell_type": "code",
   "execution_count": 13,
   "metadata": {},
   "outputs": [
    {
     "name": "stdout",
     "output_type": "stream",
     "text": [
      "False\n"
     ]
    },
    {
     "data": {
      "text/plain": [
       "0.0"
      ]
     },
     "execution_count": 13,
     "metadata": {},
     "output_type": "execute_result"
    }
   ],
   "source": [
    "get_today_variance(gr[0],gr[1],gr[2])"
   ]
  },
  {
   "cell_type": "code",
   "execution_count": 14,
   "metadata": {
    "collapsed": true
   },
   "outputs": [],
   "source": [
    "def get_all_day_slices(first,last):\n",
    "    slices = []\n",
    "    day = first\n",
    "    \n",
    "    while day<last:\n",
    "        slice_one = [day]\n",
    "        #slice_one.append(day.replace(hour=23,minute=30))\n",
    "        \n",
    "        day_two = day+pd.DateOffset(days=1)\n",
    "        slice_one.append(day_two)\n",
    "        slices.append(slice_one)\n",
    "        day=day_two\n",
    "    return slices"
   ]
  },
  {
   "cell_type": "code",
   "execution_count": 8,
   "metadata": {
    "collapsed": true
   },
   "outputs": [],
   "source": [
    "def transform_to_hour(steps):\n",
    "    to_return = []\n",
    "    for i in range(0,len(steps)-1,2):\n",
    "        to_return.append(steps[i]+steps[i+1])\n",
    "    return to_return"
   ]
  },
  {
   "cell_type": "code",
   "execution_count": 35,
   "metadata": {
    "collapsed": true
   },
   "outputs": [],
   "source": [
    "def day_slices_to_median(day_slices,day_lookup,all_steps):\n",
    "    days_steps = []\n",
    "    for ds in day_slices:\n",
    "        steps = all_steps[day_lookup[ds[0]]:day_lookup[ds[1]]]\n",
    "       \n",
    "        steps = transform_to_hour(steps)\n",
    "        print(len(steps))\n",
    "        days_steps.append(np.array(steps).std())\n",
    "\n",
    "    return np.median(np.array(days_steps))\n",
    "        "
   ]
  },
  {
   "cell_type": "code",
   "execution_count": 19,
   "metadata": {
    "collapsed": true
   },
   "outputs": [],
   "source": [
    "x=get_all_day_slices(gr[3],gr[4])"
   ]
  },
  {
   "cell_type": "code",
   "execution_count": 43,
   "metadata": {},
   "outputs": [
    {
     "data": {
      "text/plain": [
       "Timestamp('2015-07-29 00:00:00', freq='30T')"
      ]
     },
     "execution_count": 43,
     "metadata": {},
     "output_type": "execute_result"
    }
   ],
   "source": [
    "gr[4]"
   ]
  },
  {
   "cell_type": "code",
   "execution_count": 13,
   "metadata": {},
   "outputs": [
    {
     "data": {
      "text/plain": [
       "[1, 2, 3, 4]"
      ]
     },
     "execution_count": 13,
     "metadata": {},
     "output_type": "execute_result"
    }
   ],
   "source": [
    "[1]+[2]+[3,4]"
   ]
  },
  {
   "cell_type": "code",
   "execution_count": 3,
   "metadata": {
    "collapsed": true
   },
   "outputs": [],
   "source": [
    "    last_index = dd[one_week_ago.date()][0]\n",
    "    \n",
    "    day_slices=get_all_day_slices(last_index,dd[i.date()][0])\n",
    "    \n",
    "    median = day_slices_to_median(day_slices,gr[2],gr[5])"
   ]
  },
  {
   "cell_type": "markdown",
   "metadata": {},
   "source": [
    "You can pass in a bunch of decision times. I just tested with one. "
   ]
  },
  {
   "cell_type": "markdown",
   "metadata": {},
   "source": [
    "Right now I think the number of people is being totally ignored. This needs to be fixed. "
   ]
  },
  {
   "cell_type": "code",
   "execution_count": 12,
   "metadata": {},
   "outputs": [
    {
     "ename": "NameError",
     "evalue": "name 'temp_indices' is not defined",
     "output_type": "error",
     "traceback": [
      "\u001b[0;31m---------------------------------------------------------------------------\u001b[0m",
      "\u001b[0;31mNameError\u001b[0m                                 Traceback (most recent call last)",
      "\u001b[0;32m<ipython-input-12-618acf68e125>\u001b[0m in \u001b[0;36m<module>\u001b[0;34m()\u001b[0m\n\u001b[0;32m----> 1\u001b[0;31m \u001b[0mx\u001b[0m\u001b[0;34m=\u001b[0m\u001b[0msim_functions\u001b[0m\u001b[0;34m.\u001b[0m\u001b[0msimulate_run\u001b[0m\u001b[0;34m(\u001b[0m\u001b[0mnum_people\u001b[0m\u001b[0;34m,\u001b[0m\u001b[0mtemp_indices\u001b[0m\u001b[0;34m,\u001b[0m\u001b[0mdecision_times\u001b[0m\u001b[0;34m)\u001b[0m\u001b[0;34m\u001b[0m\u001b[0m\n\u001b[0m",
      "\u001b[0;31mNameError\u001b[0m: name 'temp_indices' is not defined"
     ]
    }
   ],
   "source": [
    "x=sim_functions.simulate_run(num_people,temp_indices,decision_times)"
   ]
  },
  {
   "cell_type": "code",
   "execution_count": 14,
   "metadata": {},
   "outputs": [
    {
     "data": {
      "text/plain": [
       "207.01370855122792"
      ]
     },
     "execution_count": 14,
     "metadata": {},
     "output_type": "execute_result"
    }
   ],
   "source": [
    "np.array(x).mean()\n",
    "#np.array(x).std()"
   ]
  },
  {
   "cell_type": "code",
   "execution_count": 15,
   "metadata": {},
   "outputs": [
    {
     "data": {
      "text/plain": [
       "267.8619020654599"
      ]
     },
     "execution_count": 15,
     "metadata": {},
     "output_type": "execute_result"
    }
   ],
   "source": [
    "np.array(x).mean()\n",
    "np.array(x).std()"
   ]
  },
  {
   "cell_type": "code",
   "execution_count": null,
   "metadata": {
    "collapsed": true
   },
   "outputs": [],
   "source": [
    "2-2-0-1-1-0-0-1"
   ]
  },
  {
   "cell_type": "code",
   "execution_count": 5,
   "metadata": {
    "collapsed": true
   },
   "outputs": [],
   "source": [
    "root =  '../../../../Volumes/dav/HeartSteps/pooling_rl_shared_data/temporary/'\n",
    "data_root =  '../../../../Volumes/dav/HeartSteps/pooling_rl_shared_data/distributions/'\n"
   ]
  },
  {
   "cell_type": "code",
   "execution_count": 9,
   "metadata": {
    "collapsed": true
   },
   "outputs": [],
   "source": [
    "with open('../../../../Volumes/dav/HeartSteps/pooling_rl_shared_data/distributions/steps_both_groups_logs_dosage_estf.pkl'.format(),'rb') as f:\n",
    "    df = pickle.load(f)"
   ]
  },
  {
   "cell_type": "code",
   "execution_count": 10,
   "metadata": {},
   "outputs": [
    {
     "data": {
      "text/plain": [
       "dict_keys(['2-0-2-1-2-1-0-3-18', '2-1-1-1-0-1-0-3-77', '2-0-0-0-3-3-0-3-9', '2-0-2-0-2-2-0-4-37', '2-1-2-1-0-1-0-4-70', '2-0-1-0-2-0-0-4-35', '2-1-2-1-0-1-0-3-13', '2-0-2-2-2-0-0-4-48', '2-0-1-1-2-1-0-3-28', '2-0-0-2-1-1-0-3-8', '2-0-2-0-2-0-0-3', '2-1-1-1-0-2-0-4-78', '2-0-1-1-2-1-0-3-31', '2-0-1-1-1-1-0-4-70', '2-0-1-2-1-3-0-4-66', '2-0-2-1-0-1-0-3-31', '2-0-1-2-0--1-0-4-25', '1-0-2-0-3-0-0-4-16', '2-1-2-0-3-2-0-4-3', '2-0-0-1-0-1-0-3', '2-1-1-1-1-1-0-3-18', '2-1-1-0-1-1-0-4-53', '2-1-2-2-1-1-0-4-35', '2-0-1-2-0--1-0-3-31', '2-0-1-2-0-3-0-4-64', '2-0-2-1-1-2-0', '1-1-1-0-3-3-0-3-38', '2-0-0-1-2-1-0-4-77', '2-0-2-2-1-1-1', '2-0-1-2-1-2-0', '2-0-2-2-0-2-1-3-3', '2-0-1-1-1-1-1-3-9', '1-0-2-0-0-0-0-4-94', '2-0-2-1-1-2-0-3-22', '2-0-1-2-0-0-1-4-9', '2-0-2-0-2-2-0-4-39', '2-1-1-1-2-0-0-4-91', '2-0-2-1-0-2-0-3-21', '2-0-1-0-0-0-0-4-38', '2-0-2-1-0-3-0-3-96', '2-0-2-0-0-1-1-4-1', '2-0-1-1-2-0-0-3-47', '2-0-1-1-1-2-0-4-9', '2-0-1-0-1-1-0-4-30', '2-0-1-1-0-2-0-3-53', '2-1-1-1-0-0-0-4-95', '2-1-1-1-2-1-0-3-8', '2-1-2-1-2-0-0-4-41', '2-0-2-2-2-2-0-3-61', '2-1-2-1-2-1-0-4-81', '1-0-1-0-0-3-0-4', '2-0-1-0-3-0-0-3-53', '2-0-1-2-0-2-0-4-69', '2-0-2-2-2-1-0-4-76', '2-0-2-1-1-0-0-3-72', '2-0-2-1-0-1-0-3-37', '2-1-2-1-3-2-0-3-7', '2-0-1-1-3-1-0-4-41', '2-0-1-1-1-0-0-4-50', '2-0-1-1-3-0-0-3-35', '1-1-2-2-2-0-0-4-13', '2-1-2-0-1-1-0-4-72', '2-0-1-1-3-0-0-3-29', '2-0-1-1-3-0-0-3-57', '1-1-1-1-2-3-0-3-20', '2-0-2-1-1-1-0-1-45', '2-0-1-2-0-0-0-4-17', '1-0-2-0-3-3-0-4-36', '2-1-2-1-0-1-0-3-84', '2-1-2-1-2-1-0-4-14', '1-0-2-1-3-0-0-3-98', '2-0-1-1-2-0-0-4-65', '2-0-2-1-2-0-0-4-42', '2-0-0-2-1-0-0', '2-0-2-0-2-0-0-4-47', '2-0-2-1-1-3-0-4-28', '2-0-2-0-2-1-0-3-17', '1-1-1-1-3-1-0-4-54', '1-1-1-1-0-0-0-4-38', '2-1-2-0-1-0-0-4-53', '2-0-2-0-2-0-0-2-45', '1-1-1-0-3-2-0-4-49', '2-0-2-0-2-0-0-4-10', '2-0-2-1-0-3-0-4-96', '2-0-1-1-0-0-0-4-15', '2-1-1-0-1-0-0-3-47', '2-1-1-2-2-3-0-3', '2-0-1-1-2-0-0-4-49', '2-1-2-0-1-0-0-4-63', '2-1-2-1-0-0-0-3-27', '2-0-1-0-0-2-1-4', '2-1-1-1-1-0-0-3-4', '1-0-2-0-1-3-0-3-100', '2-1-1-1-0-0-0-4-45', '2-0-1-1-2-2-0-4-46', '2-0-2-0-2-2-0-4-70', '2-0-1-1-2-2-0-3-6', '1-0-1-2-1-0-0-4', '2-0-1-1-2-0-0-4-60', '2-1-1-1-2-3-0-3-7', '2-0-1-2-1-0-0-3-41', '2-1-2-1-1-0-1-3-8', '2-1-1-1-0-0-0-4-38', '2-0-1-2-2-3-0-4-42', '2-0-1-1-0-1-0-4-37', '2-1-1-0-2-2-0-4-62', '2-1-1-2-2-3-0-4', '2-1-1-1-2-3-0-4-63', '2-1-1-0-2-1-0-4-86', '2-0-2-1-1-2-0-4-23', '2-0-1-2-0-0-0-4-33', '1-0-1-1-3-0-0-3-15', '2-0-2-1-2-3-1-4-5', '2-0-1-1-3-2-0-4-24', '2-0-2-0-2-1-0-3-1', '2-0-2-1-2-2-0-4-84', '2-0-2-2-1-2-1-3', '2-0-2-1-2-1-0-4-37', '2-1-0-1-0-1', '2-0-2-1-0-2-0-4-43', '2-0-2-1-0-0-0-4-56', '1-0-2-1-2-0-0-4-87', '2-1-1-0-0-0-1-3-1', '1-1-2-1-2-0-0-4-35', '2-0-1-0-0-1-0-3-76', '2-0-1-1-0-1-0-4-50', '2-0-1-2-1-1-0-3-23', '2-1-1-1-1-2-0-3-63', '2-0-2-1-2-1-0-4-50', '2-0-2-0-3-1-0-4-11', '2-0-1-1-2-0-0-3-59', '1-1-2-1-2-2-0-3-22', '2-0-2-1-2-1-0-3-78', '2-0-1-1-0-1-0-3-32', '2-1-2-1-1-3-0-4-4', '1-0-1-1-1-3-0-4-59', '2-1-1-1-1-1-1-3', '1-0-2-1-2-0-0-4-32', '2-0-1-2-2-3-0-4-35', '2-1-2-1-2-1-0-3-13', '2-0-2-2-1-2-0-3-44', '1-0-2-2-3-3-0-4-52', '2-1-1-2-2-2-0-4-54', '2-0-1-1-2-1-1-4-1', '2-0-1-1-3-1-0-4-37', '1-0-1-2-3-0-0-4-51', '2-1-1-2-0-1', '2-0-1-1-0-3-0-3-8', '2-1-1-1-2-0-0-3-7', '2-0-2-0-0-0-0-3-97', '2-0-1-2-1-0-0-4-98', '2-0-2-1-3-1-0-3-37', '2-1-2-0-2-', '2-0-2-2-2-3-0-4-89', '2-0-2-1-0-2-0-3-99', '2-1-2-1-1-3-0-4-55', '2-0-2-1-1-3-1-4', '1-0-1-1-1-0-0-4-31', '2-0-2-2-1-1-0-4-98', '2-0-2-1-0-0-0-3-71', '2-1-2-1-0-1-0-4-18', '2-1-1-1-1-2-0-4-20', '2-0-2-1-1-1-0-4-5', '2-0-2-0-1-3-0-4-38', '1-1-2-0-2-0-0', '1-0-1-1-3-0-0-4-88', '2-0-2-0-2-3-0-4-73', '2-1-1-1-2-3-0-3-28', '1-0-2-1-2-0-0-4-41', '1-0-2-1-3-2-0-4-9', '1-1-2-2-3-0-0-3-50', '2-0-2-1-0-1-0-4-33', '2-0-2-1-1-3-1-3', '2-1-0-2-2-1-0-4-84', '2-0-2-0-0-0-0-4-80', '1-1-1-1-2-3-0-4-53', '2-0-2-0-2-3-0-4-4', '2-1-1-2-0-0-0-3-43', '2-1-1-1-1-1-0-3-58', '1-1-0-1-2-3-0-3-99', '2-0-1-1-0-2-0-4-26', '2-0-2-1-0-1-1-4-1', '2-0-2-1-1-0-0-4-85', '2-1-0-1-1-1-0-3-16', '2-0-1-1-2-0-1-4-5', '2-0-2-0-1-1-0-4-9', '2-0-1-1-3-0-0-4-93', '1-0-1-1-2-1-0', '2-1-1-1-0-0-0-4-59', '1-0-2-1-2-0-0-3-52', '2-1-1-0-2-2-0-4-66', '2-1-2-2-2-3-0-4-46', '2-0-2-1-1-2-0-3-65', '2-0-2-0-2-3-0-3-100', '1-1-2-1-1-2-0', '2-0-2-1-1-0-0-3-31', '2-0-1-0-1-2-0-4-53', '2-1-1-0-2-1-1', '1-0-1-1-3-2-0-4-20', '1-0-2-2-2-2-0-4', '2-1-1-0-2-1-0-4-74', '2-0-2-1-2-1-0-4-71', '2-0-2-0-2-0-0-4-69', '2-0-1-1-2-3-0-4-33', '2-1-1-1-2-2-0-3-77', '2-1-2-0-0-1-0-3-68', '2-1-2-1-0-1-0', '2-1-0-1-2-0-0-3-94', '1-0-1-1-3-0-0-4-18', '2-0-1-0-1-1-0-3-20', '2-0-2-1-2-0-0-3-35', '2-0-2-2-0-0-0-3-85', '1-1-1-1-1-1-0-4-99', '2-1-2-1-1-2-0-4-24', '2-1-1-1-0-0-0-3-8', '2-1-2-2-2-3-0-4-22', '2-0-2-1-2-3-1-3-7', '2-0-2-2-1-0-0-4-74', '2-0-2-1-2-0-0-4-62', '2-1-2-0-2-0-0-4-100', '2-1-2-1-2-2-0-4-85', '1-0-1-1-2-0-0-4-33', '2-0-2-1-0-1-0-3-5', '2-0-1-1-3-3-0-4-16', '2-0-2-0-0-0-0-4', '1-0-1-1-0-1', '2-1-2-2-0-0-0-3-77', '2-1-1-1-2-1-0-3-62', '2-0-2-1-3-0-0-4-3', '2-1-2-0-2-0', '2-1-2-1-0-2-0-4-100', '2-1-1-1-3-3-0-3-3', '2-0-2-1-0-0-0-3-16', '2-0-1-1-0-0-0-3-26', '2-0-1-0-0-3-0-4-97', '2-0-0-1-0-0-0-3-45', '2-0-1-1-1-2-0-4-12', '2-0-1-1-2-0-0-3-48', '2-0-0-1-2-0-0-3-34', '2-1-1-1-0-0-1', '2-1-2-1-0-0-0-4-32', '2-0-2-0-1-1-0-4-14', '1-0-1-1-3-0-0-4-25', '2-0-2-1-1-1-0-4-93', '2-1-2-1-1-1-0-3-17', '2-1-1-1-1-2-0-3-2', '2-1-1-1-2-3-0-4-34', '2-1-2-1-2-2-0-3-66', '2-1-2-1-1-1-0-3-13', '2-0-1-2-1-2-0-4-60', '2-0-2-2-1-3-0-3-34', '2-1-2-1-1-2-0-4-62', '1-0-2-2-2-0-0-4', '2-0-2-1-3-3-0-4-21', '2-0-2-0-3-1-0-3-48', '2-0-1-1-2-1-0-4-10', '2-0-1-2-1-1-0-3', '2-1-2-1-0-0-0-4-73', '2-1-1-1-1-0-0-4-41', '2-1-1-1-3-0-0-4-1', '2-1-2-1-1-1-0-4-31', '2-0-0-1-2-0-0-3-65', '2-0-1-2-1-0', '1-0-1-2-1-0-0-4-49', '2-0-1-0-0-2-1-4-1', '2-0-2-0-2-0-0-3-38', '2-1-1-1-3-3-0-3-43', '1-0-2-1-3-3-0-3-35', '2-1-0-2-3', '2-0-2-1-1-2-0-4-87', '1-0-1-1-1-2-0-4-100', '2-1-2-1-3-3-0-3-31', '2-0-1-1-0-2-1-4-7', '1-1-1-0-2-3-0-4', '2-0-2-1-2-2-0-4-82', '2-0-0-1-0-2-0-3-71', '2-1-1-0-2-0-0-3-81', '2-0-2-1-2-1-0-4-20', '1-0-1-1-1-3-0-4-54', '2-0-2-2-3-0-0-4-1', '1-0-1-1-2-0-0-3-64', '2-0-2-1-0-3-0-4-25', '1-0-0-1-1-1-0-3-41', '2-0-1-0-1-2-0-3-55', '2-0-2-1-0-0-0-4-45', '2-0-1-1-3-3-0-4-35', '1-0-2-1-2-0-0-3-39', '2-0-2-1-1-1-0-4-59', '1-0-0-1-3-1-0-3', '2-0-2-1-1-0-0-4-20', '2-0-1-0-2-3-0-3-14', '2-0-0-2-1--1-0-4', '1-1-1-1-3-1-0-4-99', '2-0-1-1-2-0-1-4', '2-0-2-1-3-0-0-1-49', '2-1-2-0-2-2-0-4', '2-0-2-0-1-2-0-4-44', '2-0-1-1-1-0-0-3-41', '2-0-2-0-3-0-0-4-52', '2-1-2-1-2-2-0-4-98', '1-0-1-1-2-3-0-4-42', '2-0-2-1-0-2-0-4-23', '1-1-2-1-3-3-0-3-4', '2-0-2-1-0-0-0-4-84', '2-0-2-0-0-0-0-3-71', '2-1-2-1-0-0-0-4-97', '2-1-2-1-2-0-0-3-95', '2-0-2-1-2-1-0-3-5', '2-0-1-1-2--1-0-3-67', '2-0-2-1-0-1-0-4-63', '2-0-2-1-0-1-0-3-62', '2-0-2-1-2-1-0-3-44', '2-1-1-1-2-1-0-3-12', '1-1-2-1-2-3-0-4-55', '2-0-2-1-0-1-0-4-71', '2-0-2-2-1-1-0-4-86', '2-0-2-0-1-0-0-4-38', '2-0-1-1-1-3-1-4-1', '2-0-2-2-1', '2-0-1-0-3-', '2-0-1-1-2-2-0-4-83', '2-1-2-1-2-1-0-3-65', '2-1-1-1-2-1-0-4-77', '2-0-1-1-1-2-0-4-89', '2-0-1-1-0-2-0-3-49', '2-1-2-0-2-3-0-4-12', '2-0-0-0-0--1-0-3', '2-1-2-1-1-2-0-4-20', '2-1-2-1-0-3-0-4-76', '2-1-2-0-2-3-0-3-48', '2-1-2-1-3-3-0-4-74', '2-0-0-0-1-0-0-3-81', '1-1-1-0-2-0-0-4-87', '1-0-2-2-3-0-0-4-14', '2-0-2-1-2-1-0-4-41', '1-1-1-1-3-3-0-4', '2-0-1-0-2-0-1-3-8', '2-1-0-1-3-0-0-3-96', '1-0-1-1-1-2-0-3-100', '2-1-1-1-2-0-0-3-73', '2-0-1-1-0-1-0-4-100', '2-1-0-1-2-0-0-4-10', '1-1-1-1-3-3-1-4', '2-1-2-0-1-1-0-3-8', '2-0-2-2-1-2', '2-0-1-1-1-1-0-4-69', '2-1-1-1-1-3-0-4-85', '2-0-1-1-3--1-0-3', '2-0-2-0-0-2-0-4-24', '2-0-2-0-1-2-0-4-30', '2-0-2-0-2-1-0-4-52', '1-0-1-1-2-3', '2-0-2-1-2-2-0-4-43', '1-0-1-0-3-2-0', '1-0-0-1-2-0-0', '2-0-1-1-0-1-0-3-4', '2-0-2-1-2-2-0-4-15', '1-0-0-1-2-0-0-3-55', '2-1-2-1-1-0-0-4-61', '2-0-2-2-1-0-0-4-28', '2-0-1-1-1-0-0-3-69', '2-1-1-1-0-3-0-4-54', '2-0-2-1-2-3-0-3-96', '2-0-1-0-1-0-0-4-40', '2-0-2-1-1-1-0-3-7', '2-0-1-1-1-2-0-3-26', '1-1-1-0-2-1-0-4-61', '1-0-2-1-2-0-0-3-22', '2-1-2-2-0-3', '2-0-2-2-2-2-1-4-4', '2-1-2-1-2-0-0-4-96', '2-0-1-1-2-1-0-4-84', '2-0-1-1-2-2-0-4-76', '2-0-2-1-0-0-0-1', '2-0-2-0-0-3-1-3-1', '2-0-1-1-2-1-0-3-94', '2-0-2-1-1-1-0-4-8', '2-1-1-1-0-3-0-3-81', '2-0-2-2-2-3-0', '2-0-2-0-2-0-0-4-20', '2-0-1-2-1-2-0-4-32', '2-1-2-1-0-3-0-4-26', '2-0-1-1-1-1-0-4-99', '2-1-2-1-1-0-0-4-46', '2-0-1-2-1-2-0-4-11', '1-0-0-1-3-2-0-4', '2-0-1-1-3-3-0-4-17', '2-0-1-1-2-1-0-3-39', '2-1-2-1-2-1-0-4-51', '2-0-2-1-1-0-0-3-27', '2-0-1-1-3-2-0-3-33', '2-0-2-0-2-2-0-4-11', '2-0-1-2-0-3-0', '2-1-1-0-3-1-0-3-51', '2-1-1-2-0-3-0-3', '2-0-2-0-1-3-0-4-87', '2-0-1-0-1-3-0-3-83', '1-1-2-0-2', '2-1-0-1-2-0-0-4-54', '2-0-2-2-0-0-0-4-56', '2-1-2-1-1-1-0-4-47', '2-0-2-0-2-2-0-3-75', '2-0-1-1-2-2-0-3-33', '2-1-2-2-1-0-0-4-55', '2-0-1-1-0-1-0-3-95', '2-0-1-2-0-3-0-4-81', '2-0-1-1-0--1-0-4', '2-0-1-1-0-0-0-4-17', '2-1-1-1-0-0-0-4-70', '2-1-2-1-0-1', '2-1-2-0-2-2-0-4-20', '2-1-0-0-1-0-0-3', '1-0-0-1-3-0-0-4-27', '2-1-1-1-2-0-0-4-7', '1-0-1-1-2-0-0-4-64', '2-0-1-1-3-2-0-4-29', '2-1-1-2-1-1-0-4-37', '2-0-1-1-0-2-0-3-76', '2-1-1-0-1-3-0-4', '2-0-1-0-1-0-0-4-75', '2-0-1-0-2-3-0-4-6', '2-0-2-1-0-3-0-4-77', '1-1-2-1-2-1', '1-0-2-1-2-0-1-4-1', '1-0-1-2-0-0-1-4', '2-0-2-1-2-2-0-4-45', '2-1-2-1-1-2-0-4-43', '2-0-1-0-0-1-0-4-26', '2-0-1-0-2-0-0-4-9', '2-0-1-1-0-1-0-4-27', '1-0-1-0-3-3-0-4-41', '2-0-1-1-0-1-0-4-92', '2-1-2-2-3-2-0-4-1', '2-1-0-1-0-0-0-3-69', '2-0-1-1-1-1-0-4-26', '1-1-1-0-3-1-1', '1-0-0-1-2-0-1-3-2', '1-1-2-1-3-1-0-4-54', '1-1-2-1-2-1-0-4-26', '2-0-1-0-2-0-0-3-74', '2-0-0-1-1-1-0-3-99', '2-1-2-1-0-3-0-4-99', '2-0-2-0-0-1-0-3-52', '2-1-1-0-1-3-0-3-11', '2-0-2-1-3-0-0-1', '2-0-2-0-1-0-0-4-16', '2-1-1-1-1-2-0-4-83', '1-1-1-2-2-3-0', '2-0-0-1-0-2-0-3-57', '2-0-1-0-1-0-0-3-43', '2-1-1-1-1-3-0-4-65', '2-0-1-1-0-2-0-3-20', '2-1-0-1-2-2', '2-0-2-2-1-3-0-3-72', '2-1-2-1-2-3-0-4-57', '1-1-2-1-2-3-0', '2-1-2-1-1-3-0-4-45', '1-0-2-1-2-3-0-4-2', '2-0-2-0-0-1-0-4-78', '1-1-1-2-2-3-0-4', '2-1-2-1-3-1-0-4-8', '1-0-1-1-3-0-0-4-3', '2-0-2-1-0-2-0-4-36', '2-0-2-0-2-3-0-3-10', '2-0-2-1-2-3-0-4-93', '2-0-1-1-1-3-0-4-97', '1-1-1-0-3-0-0-4', '2-0-1-1-2-0-0-4-16', '1-1-2-1-3-0-1-4-3', '2-0-1-1-3-3-0-4-44', '2-0-2-2-3-3', '1-1-1-1-0', '2-1-2-1-1-2-1-4-1', '1-0-2-2-3-3-0-4-58', '2-0-1-1-1-2-0-3-98', '1-0-1-0-3-2-0-4-20', '2-0-2-2-1-0-0-4-51', '2-1-1-0-0-0-0-3-99', '2-1-1-0-3-3-0-4-2', '1-0-2-2-1-3-0-4-52', '1-1-1-0-3-2-0-4', '2-1-1-1-0-0-0-3-9', '2-0-1-0-0-3-0-4-69', '2-0-0-1-2-3-0-3-34', '2-0-2-2-0-3-1-4-1', '1-0-1-0-3-3-0-4-33', '2-0-2-1-0-2-0-4-41', '2-1-1-1-0-1-0-4-16', '2-0-2-0-1-1-0-4-46', '2-0-1-1-2-1-0-3-34', '2-1-1-1-2-3-0-3-1', '2-0-2-1-0-1-0-4-57', '2-0-1-0-0-0-0-4-75', '2-0-2-1-2-3-0-3-55', '1-1-2-1-3-3-0-4-20', '2-1-1-1-2-2-0-4-64', '1-1-2-0-3-0-0', '2-0-1-0-2-2-0-3-55', '1-0-1-1-3-2-0-3-56', '2-1-1-0-0-2-0-4-100', '2-1-2-1-0-3-0-4-39', '2-0-1-0-3-0-0-4-100', '2-0-2-1-2-2-0-4-56', '2-0-0-0-1', '2-1-2-0-2-1-0-4-39', '2-1-1-0-2-1-0-4-34', '2-0-2-1-2-0-0-3-31', '2-1-1-1-0--1-0-3-99', '2-1-0-1-2-1-0-3-99', '2-1-2-1-1-0-0-4-42', '2-0-1-1-0-2-0-4-27', '2-1-1-1-0-0-0-4-15', '2-1-1-1-0-2-0-3-37', '2-0-1-0-3-3-0-4-48', '2-1-0-0-3-2', '2-1-2-1-2-3-0-4-67', '2-0-2-0-2-0-0-4-95', '2-0-1-2-0-0-0-4-80', '1-0-1-1-2-0-0-4-85', '2-1-2-2-1-3-0-4-18', '1-1-1-1-2-3-0-3-75', '1-1-1-1-3-3-0-3-100', '2-0-1-1-1-1-0-4-5', '2-0-2-1-0-0-0-4-63', '2-0-1-0-0-0-0-3-92', '2-1-1-0-3-0-0-4-51', '2-0-1-1-3-2-0-3-47', '2-1-2-1-1-0-0-3-4', '1-0-1-0-0-2-0-3', '2-0-1-1-1-1-0-1-45', '1-1-1-1-2-0-0-3-87', '2-1-2-1-0-0-0-2-82', '2-0-2-1-3-3-0-4-49', '2-1-2-0-0-3-0-3-100', '2-0-1-0-2-2-0-3-38', '2-1-2-1-2-1-0-3-31', '2-0-1-0-2-0-0-3-73', '2-0-2-0-1-0-0-4-36', '2-0-1-1-0-2-0-3-99', '2-1-2-1-0-0-0-3-16', '2-0-2-1-2-1-0-4-53', '2-1-2-1-1-2-0-4-85', '2-1-1-1-2-3-0-4-36', '2-1-2-1-0-3-0-3-75', '2-0-1-1-2-0-0-3-63', '1-0-2-1-2-2-1-3', '2-0-1-1-0-1-0-4-60', '2-0-1-1-2-3-1-4-5', '2-0-1-0-1-3-0-4-45', '2-0-1-1-3-2-0-4-38', '2-1-1-1-3-2-0-3-89', '2-1-2-1-3-2-0-4-30', '2-0-1-0-0-2-0-4-99', '2-0-2-0-2-0-0-4-33', '2-1-1-1-3-1', '2-0-1-1-0-2-0-3-57', '2-0-1-1-1-3-0-3-65', '2-1-2-2-0-1-0-3-93', '1-1-2-1-2-2-0', '2-0-2-0-0-0-0-3-94', '2-0-2-0-3-3-0-4-49', '2-1-2-1-2-2-0-4-97', '2-1-2-1-3-2', '2-0-2-1-3-1-1-4', '2-0-2-1-2-0-0-2-44', '2-0-1-0-2-1-0-4-77', '1-0-2-1-0-1-0-3-53', '2-1-2-1-0-0-0-3-17', '2-1-2-1-0-1-0-3-57', '2-0-2-2-1-0', '2-0-1-0-0-0-0-4-76', '2-1-2-0-1-3-0-4-48', '2-0-1-0-2-1-0-4-12', '2-0-2-1-0-1-0-4-17', '2-0-2-0-3-0-0-4-12', '2-0-2-1-1-1-0-4-35', '1-0-1-0-2-0-0-3-34', '2-0-1-1-3-1-0-3-53', '2-0-2-0-3-3-0-3-34', '2-0-2-0-2-3-0-4-12', '2-0-2-2-2-2-0-3-64', '2-0-1-0-1-0-0-4-56', '2-0-1-0-1-0-0-4-44', '2-0-2-1-0-1-0-4-10', '2-0-2-0-2-2-0-4-9', '2-0-1-0-0-0-0-4-98', '2-1-1-1-1-3-1-3-1', '1-1-0-1-3-2-0', '2-0-2-0-2-1-0-4-63', '2-0-1-1-1-0-0-4-66', '2-1-1-1-2-3-0-4-65', '2-0-2-1-2-3-0-4-31', '2-1-2-0-0-3-0-4-56', '2-1-1-2-2-0-0-3-90', '2-0-2-0-0-0-0-4-53', '1-1-2-1-0-0-0-4-99', '2-0-1-1-1-0-0-3-88', '2-1-2-1-0-3-0-4-75', '1-1-2-1-2-1-0-3-60', '2-0-2-0-2-1-0-4-26', '2-0-2-2-2-0-0-3-36', '1-0-1-0-3-2-0-3', '2-0-2-1-1-2-0-4-30', '2-0-1-2-2-1-0', '1-0-1-1-3-0-0-4-68', '2-0-1-1-0-1-0-4-84', '1-1-1-1-2-0-0-4-52', '2-0-1-0-2-3-0-4-37', '2-1-1-2-0-0-0-3-80', '2-0-2-1-1-0-0-4-6', '2-0-2-1-0-1-0-3-82', '2-1-1-1-2-3-0-3-90', '2-0-1-1-2-2-0-3-68', '2-0-1-2-0-0', '1-0-1-1-0-2-1-4', '2-0-0-1-2-1-0-3-48', '2-1-1-1-0-0-0-4-42', '2-1-1-2-0-0-0-4-83', '2-0-2-1-2-3-0-3-26', '2-0-2-2-0-3-0-4-7', '2-0-2-1-2-1-0-4-63', '1-0-1-0-3-1-0-4-21', '2-1-1-1-1--1-0-3-88', '2-0-0-1-2-3-0-3-100', '1-0-1-1-3-2-0-4-29', '1-0-2-1-2-2-0-4-27', '1-1-0-1-2-2-0-3', '2-0-2-1-2-3-0-4-34', '2-0-2-1-2-1-0-4-36', '1-0-1-0-3-3-0-4-49', '2-0-1-1-0-0-0-4-28', '1-1-2-1-3-2-0-3-18', '1-0-1-1-3-0-0-4-31', '2-0-2-0-0-3-0-4-54', '2-1-2-1-2-0-0-3-40', '1-0-2-0-0-0-0-4-23', '2-1-1-1-2-2-0-4-40', '2-0-1-0-3-0-0-4-99', '2-0-2-1-0-2-0-4-47', '2-1-2-1-0-1-0-4-27', '2-0-2-0-1-1-0-3', '2-0-1-2-0-0-0-4-26', '2-0-2-1-0-0-0-4-2', '2-0-0-1-1-0-0-3-1', '2-1-2-1-1-0-0-4-23', '2-0-2-1-0-0-0-3-26', '2-0-1-1-0-1-0-4-25', '2-0-1-1-1-1-0-3-57', '2-1-2-1-3-2-0-4', '2-0-1-1-1-0-0-3-26', '2-0-0-1-0--1-0-3-5', '1-0-2-0-1-2-0', '1-0-2-1-0-0-1-4-1', '2-1-1-1-2-1-0-4-58', '2-1-2-1-2-2-0-4-32', '2-0-1-1-2-3-0-3-37', '2-0-1-1-1-0-0-3-82', '2-1-2-2-2-0-0-4-78', '2-0-1-0-0-0-0-3-17', '2-0-1-1-2-3-0-4', '2-1-1-1-2-2-0-3-98', '2-1-1-0-2-3-0-4-56', '2-0-2-1-1-2-0-3-43', '1-1-2-1-2-0-0-3-25', '2-0-1-1-0-0-0-3-55', '1-0-1-2-3-1-0-4-84', '2-1-1-1-0-2', '2-0-2-1-2-3-0-4-59', '2-0-1-2-1-3-0-4-61', '2-0-2-1-1-1-1-4', '2-0-1-0-1-1-0-3-6', '2-1-2-2-1-2-0-4-61', '2-0-2-0-1-1-0-3-23', '2-1-2-1-0-1-0-3-99', '1-0-1-0', '2-0-2-1-2-0-0-4-93', '1-0-2-1-1-2-0-3-58', '2-1-1-0-0-0-0-4-96', '2-1-0-1-0-0-0-3-42', '2-0-1-1-0-3-0-3-35', '2-0-2-1-2-0-0-4-39', '2-0-1-1-1-1-0-4-53', '1-1-1-1-2-3-0-4-89', '2-0-2-1-1-2-0-4-53', '2-0-2-2-2-0-0-4-19', '2-0-2-2-2-3-0-4', '2-0-0-1-1-0-0-3-70', '1-1-1-1-3-3-0-4-81', '2-0-2-0-1-2-0-4-14', '1-0-0-1-0-3-0', '2-1-2-1-0-2-0-4-88', '2-0-2-0-0-3-0', '2-0-0-1-1--1-0-3-100', '2-0-2-1-1-2-0-4-88', '2-1-1-1-0-2-0-3-17', '2-0-1-0-3-1-1-4-3', '2-0-1-2-3-3-0', '2-0-1-0-1-1-0-4-41', '2-0-2-1-0-0-0-3-74', '2-0-1-1-2-2-0-4-100', '1-0-0-2-2-1-0-4-70', '1-0-1-1-3-0-0-4-5', '2-0-2-0-2-0-0-4-55', '2-1-1-2-2-3', '2-0-2-1-2-2-0-4-9', '2-0-2-1-1-2-1-4-5', '2-0-0-1-2-1-0-3-87', '2-0-2-0-1-3-0-3-46', '2-1-1-1-1-2-0-4-76', '2-1-2-0-1-2-0-3-41', '2-1-1-1-0-2-0', '2-0-1-1-3-1-0-4', '2-1-0-1-2--1-0', '2-1-1-1-1-1-0-4-70', '2-0-1-2-0-0-0-3-12', '2-0-2-0-2-0-0-4-45', '2-1-2-1-2-3-0-3-91', '1-0-1-1-2-0-0-4', '2-0-0-1-0-3-0-3-73', '1-1-1-1-3-3-1-4-3', '2-0-1-1-1-2-0-3-81', '2-0-2-1-0-2-1-3-2', '2-0-1-2-0-1-0-4-5', '2-1-1-0-0-1-1-4-1', '1-1-1-1-3', '2-0-1-1-2-2-0-3-35', '1-0-1-1-2-0-0-3-73', '1-0-0-2-3-1-0-4', '1-0-1-1-2-3-0-4-88', '2-0-2-1-2-1-0', '2-1-2-1-2-3-0-4-5', '2-0-1-0-1-2-0-4-30', '2-1-1-0-0-0-0-4-58', '1-0-1-1-1-0-0-3-42', '1-0-2-1-2-0-0-4-37', '2-0-1-1-0-1-0-3-77', '2-1-2-1-2-0-0-4-100', '2-0-2-1-1-3-0-3-15', '2-0-0-1-0-1-0-3-5', '1-0-2-1-3-3-0-4-99', '2-0-2-2-0-2-0-4-8', '2-0-1-1-0-3-0-4-77', '2-0-2-0-1-0-0-3-61', '2-0-1-0-2-3-0-4-76', '2-1-1-0-2-0-0-4-61', '2-0-2-0-2-2-0-4-61', '2-1-1-0-2-0-0-4-21', '1-0-2-0-2-0-0-4-1', '1-1-2-0-3-0-0-3', '2-0-2-1-1-1-0-3-78', '2-0-1-1-0-2-0-4-17', '2-0-1-1-2-3-0-4-67', '1-1-1-1-3-3-0-1', '1-1-2-2-2-2-0-4-87', '2-0-0-1-1-1-0-3-42', '2-1-1-0-2-3-0-4-19', '1-1-1-0-3-2-0-3-49', '1-1-2-1-2-2-0-4-62', '2-1-2-0-1-2-0-4-42', '2-1-1-1-2-2-0-4-1', '1-0-1-1-1-0-0-4-57', '2-1-1-1-1-0-0-3-42', '2-0-1-1-1-3-0-3-22', '2-0-1-0-1-0-0-4-80', '2-1-1-1-2-3-0-3-97', '2-1-1-0-2-2-0-4-75', '2-0-1-0-1-0-0-4-29', '2-0-2-1-0-2-0-4-58', '1-0-1-1-3-0-0-3-31', '2-0-1-1-0-2-0-3', '2-0-1-2-0-1-0-4-96', '2-0-1-1-1-3-0-4-28', '2-1-2-1-1-0', '2-0-1-0-1-1-0-3-70', '1-0-1-1-2-1-0-4-73', '2-0-1-1-1-2-1-3', '2-1-1-2-1-0-0-4-17', '2-1-1-2-2-0-0-3-71', '2-0-1-0-2-0-0-4-47', '2-0-1-0-2-3-0-4-2', '1-1-2-1-0-2', '2-0-1-1-0-0-1-3', '2-1-2-1-0-3-0-4-47', '2-1-2-1-1-0-0-3-38', '2-0-1-0-1-0-0-4-67', '2-1-1-2-0-1-0-4-85', '2-0-2-1-2-2-1-4-3', '2-0-1-2-2-2', '2-0-2-0-2-3-0-4-15', '2-0-2-0-1-2-0-4', '1-1-2-1-2', '2-0-2-1-1-2-0-4-6', '2-0-1-0-2-0-0-4-77', '2-0-2-0-2-2-0-3-7', '2-1-1-2-0-0-0-4-44', '1-0-1-1-0-0-0-3-97', '2-1-1-0-1-2-0-4-44', '2-1-1-1-0-0-0-3-72', '1-0-2-1-3-3-0-4-14', '2-0-2-0-1-3-0-3-5', '2-1-2-1-3-0-0-4-74', '2-0-0-1-2-2-0-3-1', '2-0-2-1-2-1-0-3-45', '2-1-2-1-3-0-0', '2-0-0-1-1-3-0-3-23', '2-1-2-1-0-3-1-4-4', '2-0-1-1-0-2-0-3-25', '2-0-1-0-2-2-0-3-82', '2-0-2-0-2-0-0-4-46', '2-0-2-1-0-0-0-3-44', '2-1-1-0-1-3-0-4-10', '2-0-1-1-0-3-0-4-56', '1-0-2-2-2-0-0', '2-1-2-1-0-3-0-4-88', '2-0-0-1-0-0-0-3-60', '2-1-1-1-0-0-0-4-19', '2-0-1-1-0-1-0-4-64', '2-0-1-1-1-0-0-3-3', '1-0-2-2-1-1-0-3-100', '2-0-1-0-2-0-0-4-29', '1-0-2-2-1-2-0-4-98', '2-1-1-1-2-0-0-4-12', '2-0-2-0-3-2-0-3-98', '1-0-0-1-3-3-0-3-19', '2-0-1-1-0-0-0-3-64', '2-0-1-2-0-0-0-4-27', '2-1-1-2-1-2-0-4-79', '2-0-2-0-2-0-0-4-42', '2-1-2-1-1-1-0-4-5', '2-0-2-0-1-1', '2-0-1-1-0-0-0-3-27', '2-1-1-1-3-1-0-4-97', '2-1-2-1-2-3-0-4-11', '2-1-2-0-0-1-0-4-54', '2-0-2-1-0-1-0-4-93', '2-0-1-1-2-3-0-4-20', '1-0-1-2-3-1-0-4-4', '2-0-1-0-1-2-0-3-43', '2-0-1-1-3-3-0-4-49', '2-0-1-1-1-2-0-3-49', '2-0-1-1-0-0-0-4-48', '1-0-0-1-0-0-0-3-100', '2-1-1-1-1-0-0-4-54', '2-0-1-0-1-0-0-4-99', '2-0-1-0-2-0-0-4-62', '1-1-2-2-3-0-0-4', '2-1-1-0-2-0-0-3-66', '2-0-2-1-1-1-0-4-73', '1-1-1-1-1-0-0-4-53', '2-1-1-1-1-0-0-4-66', '2-0-2-2-1-1-0-4-31', '2-0-1-0-2-3-0-3-1', '1-0-1-1-2-0-0-4-23', '2-1-2-1-2-3-0-3-11', '2-1-0-1-2-1-0-3-33', '2-0-1-0-1-1-0-4-70', '2-0-2-1-0-1-0-4-85', '1-1-1-1-2-0-0-3-89', '2-0-0-2-1--1-0', '2-0-2-0-2-1-0-4-71', '2-0-2-1-0-0-0-3-56', '2-1-1-1-1--1-0-3-70', '2-0-2-0-1-3-0-3-99', '2-0-2-1-2-1-0-4-2', '2-1-1-0-2-1-0-3-56', '2-0-1-1-2-0-0-3-37', '2-1-2-0-0-1-0-4-86', '2-0-1-0-1-0-0-4-60', '2-0-2-1-1-1-0-4-27', '2-0-2-1-0-3-1-4', '1-0-1-1-2-0-0-4-86', '2-1-2-2-1-2-0-3-23', '2-0-1-1-1-2-0-3-13', '2-1-1-0-2-3-0-4-51', '1-0-2-1-3-3-0-4', '2-0-1-1-0-3-0-3-17', '1-0-1-1-3-2-0-4-17', '2-1-1-1-1-0-0-3-66', '2-1-1-0-1-1', '1-0-1-1-2-0-1-4-6', '2-1-2-1-2-1-0-4-92', '2-1-1-1-3-0-1-4', '2-1-1-1-2-0-0-2-48', '1-1-0-1-3-2-0-3', '2-1-2-0-0-2-0-4-33', '2-0-2-1-1-3-0-4-8', '2-0-1-0-2-2-0-4-40', '1-0-2-1-2-3-0-4-60', '2-0-2-1-1-1-0-4-38', '2-0-1-0-1-3-0-4-18', '2-1-1-1-2-1', '2-0-1-1-3-0-1', '2-0-2-1-1-0-0-3', '2-0-2-0-2-2-0-4-38', '1-0-2-0-2-3-0', '2-0-1-1-1-3-0-4-72', '2-0-2-0-3-1-0-3-5', '2-0-2-1-1-0-0-4-80', '2-0-0-1-2-0-0-2', '1-1-2-1-3-3-0-4-18', '2-0-2-1-0-3-0-4-80', '2-0-1-1-1-0-0-4-4', '1-0-2-2-3-1-0-3', '1-0-2-1-3-3-0-3-53', '1-0-1-1-1-2-0-3-99', '2-1-0-0-2-0-0-4', '1-0-1-2-2-0', '2-0-2-1-0-2-0-4-46', '2-0-1-1-1-1-0-3-40', '2-0-1-1-0-0-0-3-48', '2-1-1-1-3-1-0-4-70', '1-0-2-1-3-2-0-4-25', '1-1-0-1-3-0-0-4-4', '2-0-1-1-2-0-0-4-25', '2-0-2-1-0-3-0-3-32', '1-0-0-1-3-1-0-4-51', '2-1-1-1-0-3', '2-1-2-1-3-0-0-3-2', '2-0-1-1-2-0-0-3-78', '2-0-1-1-0-0-0-3-78', '2-0-2-2-1-1-0-3-100', '2-0-1-0-2-2-0-4-13', '1-0-2-1-2-0-0-4-86', '2-0-1-1-2-0-0-3-77', '2-1-1-0-2-0-0-4-51', '2-1-1-0-2-0-0-4-10', '1-1-0-1-3-2', '2-1-1-2-0-0-1-4', '2-0-1-1-0-3-0-3-86', '2-1-2-0-0-2-0-4-86', '1-0-0-1-3-0-0-3-58', '2-0-2-1-3-1-0-4-89', '2-0-2-1-1-1-0-4-39', '2-1-1-1-2-3-0-3-14', '2-0-2-0-2-0-0-4-44', '2-1-1-1-0-0-0-4-35', '1-0-2-2-3-1', '2-0-1-1-2-0-1-3-6', '2-0-1-0-0-0-0-4-39', '2-0-0-1-0-0', '2-0-2-1-0-0-0-3-77', '1-0-1-2-3-3-0-4-99', '2-0-1-2-1-1-0-4-66', '2-0-2-0-0-2-1-4-1', '2-0-1-0-1-2-0-3-100', '2-1-1-2-1-0-0-3-8', '2-1-0-1-2-0-0-3-65', '2-0-2-1-3-0-0-4-95', '2-0-1-2-0-0-0-3-66', '2-1-1-1-0-2-0-4-50', '2-1-1-1-0-0-0-3-43', '2-0-1-1-2-0-0-4-85', '2-0-2-2-1-0-0-3-84', '2-0-2-1-1-3-0-3-54', '2-0-1-2-1-2-0-4-5', '2-0-2-1-2-2-1-4-6', '2-0-2-0-1-3-0', '1-0-1-1-2-0-0-4-24', '1-1-2-1-2-2-0-4', '2-0-1-1-2-2-0-4-82', '2-0-2-0-2-3-0-4-18', '1-1-1-0-3-3-0-4', '2-1-1-1-1-0-0-3-3', '2-0-2-1-0-3-0-4-65', '2-0-1-0-2-2-0-3-10', '2-0-1-0-0-3-0-3', '2-1-1-1-3-3-0-3-7', '2-0-1-0-2-0-0-4-88', '1-0-1-1-2-3-0-3', '2-0-2-1-0-0-0-3-37', '2-0-0-1-0-2-0-4', '1-0-2-0-3-3-0-4-41', '2-0-2-1-2-0-0-4-52', '2-1-1-1-1-0-0-4-12', '2-1-2-1-2-2-0-3-57', '2-1-1-1-2-1-0-3-21', '2-1-1-1-3-0-0-4-96', '1-0-2-1-3-1-0-4-20', '2-1-1-2-1-1-0-4-36', '2-1-1-1-1-0-0-3-79', '2-1-1-0-2-2-0-4-99', '1-1-1-1-2-2-0-4-22', '2-0-1-0-0-2-0-4-60', '2-0-2-2-1-0-0-3-54', '2-1-1-1-1-0-0-4-58', '2-0-2-0-2-0-0-4-12', '2-0-1-1-2-2-0-3-67', '2-0-2-1-1-2-0-3-74', '2-0-1-1-0-1-0-3-24', '2-0-1-1-2-0-0-4-70', '2-0-1-0-2-1-0-4-55', '2-0-2-1-1-0-0-3-54', '2-1-1-2-1-2-0-4-19', '2-0-1-0-3-3-0-4-10', '1-1-2-1-3-3-1-4', '2-0-1-1-2-2-0-4-77', '2-0-1-2-0-0-1', '2-1-2-0-0-1-0-4-100', '2-0-1-1-2-3-0-4-17', '1-1-1-1-2-1-0-4-47', '2-0-2-1-0-2-0-3-34', '1-1-1-1-2-0-0-3', '2-0-2-1-2-0-0-3-34', '2-0-2-1-2-0-0-4-44', '2-0-1-0-2-0-0-4-65', '1-0-1-1-2-2-0-4-68', '2-0-2-1-0-1-0-4-66', '2-0-2-0-1-0-0-3', '2-1-2-0-1-0-0', '1-0-1-1-3-2', '1-1-1-1-3-3-0-4-55', '2-0-1-1-2-1-0-4-45', '2-1-2-1-2-1-0-4-86', '2-0-1-0-2-3-0-4-83', '2-0-1-1-2-0-0-4-45', '2-0-2-0-1-0-0-4-47', '1-1-1-1-2-2-0', '2-0-2-1-2-1-0-3-31', '2-0-2-1-2-2-0-4-27', '1-0-2-0-3-3-0-4-38', '2-0-1-1-3-2-0-4-3', '1-0-2-1-2-0-1-4-8', '1-1-0-1-3-0-0-3-21', '2-1-2-1-1-2-0-3-43', '2-1-0-1-0-0-0-3-36', '2-0-0-2-1-1-0-4-100', '2-0-2-0-1-0-0-4-21', '2-0-2-1-3-2-0', '2-0-2-2-2-0-0-3-82', '2-1-1-1-1-1-0-4-34', '2-1-2-1-2-1-0-3', '2-1-2-0-1-0-0-3-6', '2-0-2-1-0-1-0-4-47', '1-0-1-1-1-2-0-4', '2-1-2-1-2-0-1-4', '2-0-1-2-2-2-0-4-97', '2-1-1-1-2-0-0-4-40', '2-0-1-1-2-0-0-4-41', '2-1-2-1-1-0-0-4-56', '2-0-1-1-1-2-0-3-40', '2-0-1-0-2-2-0-4-88', '1-0-1-1-3-3-0-4-30', '1-1-1-1-0-0-0-3-50', '2-0-2-0-0-0-0-4-91', '2-1-2-0-2-0-0-4-77', '2-0-2-0-2-2-0-4-33', '2-0-2-1-1-1-0-3-48', '2-1-1-1-1-0-0-4-18', '2-0-1-1-1-0-0-3-54', '1-0-1-1-3-3-0-3-100', '2-1-2-1-2-3-0-3-3', '2-0-0-1-2-3-0-3-51', '2-1-2-1-1-2-0-3', '1-0-2-1-3-0-0-4-97', '2-1-2-2-2-2-0-3-17', '2-1-1-1-1-2-0-3-15', '2-0-2-1-2-0-0-4-59', '2-0-2-0-1-2-0-4-99', '2-0-2-1-2-2-0-3-11', '1-0-2-2-1-1-0-4-100', '2-0-1-1-1-2-0-4-48', '1-0-1-0-2-1-0-4-34', '2-1-0-1-1-3', '1-1-2-1-3-1-0-4-5', '2-1-2-1-2-0-0-4-67', '2-0-2-1-0-2-0-4-98', '2-1-0-1-2-3-0-3-18', '2-0-2-1-0-1-1-3-13', '2-0-1-0-2-2-0-4-14', '2-1-2-1-2-3-0-4-66', '2-1-1-2-2-0-0-4-22', '2-1-1-1-2-1-0-4-9', '2-1-2-0-2-0-0-4-83', '1-0-1-2-3-3-0-4-42', '2-0-2-2-0-1-0-4-25', '2-1-0-1-3-2-0-3-2', '2-0-2-1-1-1-0-3-86', '2-1-2-2-1-0-0', '2-0-2-0-2-0-0-4-74', '1-1-1-1-3-2-0-4-21', '2-0-0-1-2-0-0-3-40', '2-0-2-1-0-0-0-4-88', '2-1-2-1-0-2-0-3-33', '1-0-1-1-2-2-0-4-39', '2-0-1-1-1-3-0-3-39', '2-0-1-2-0-0-0-3-29', '1-0-2-2-1-2', '2-1-1-1-3-1-1', '2-1-1-0-2-3-0-4-92', '1-0-2-1-2-3-0-4-68', '2-0-1-1-2-1-0-4-66', '2-1-0-1', '2-1-2-1-1-1-0-3-65', '1-0-2-2-1-2-0-4-51', '2-1-2-0-1-3-1-4', '2-0-1-1-0-2-0-4-46', '2-0-2-1-0-2-0-3-9', '2-0-1-1-2-3-0-4-18', '1-1-2-1-2-1-0-4-51', '1-1-0-1-0-1', '2-1-1-0-0-0-0-4-97', '2-0-1-0-2-2-0-3-85', '2-1-2-1-0-2-0-3-42', '1-0-1-0-3-3-0-4-31', '2-0-2-1-2-1-0-4-66', '2-0-2-1-0-1-0-4-97', '1-1-0-1-3-1', '2-0-1-1-3-2-0-4-17', '2-1-1-1-1-3-0-4-39', '2-0-1-2-0-3-1', '1-1-2-1-2-3-0-3-5', '2-0-2-0-2-0-0-3-12', '2-1-2-2-3-1-0-4', '2-0-2-2-2-3-0-4-40', '1-0-1-2-0-3', '1-0-1-0-3-0-0-4-31', '2-1-2-0-2-1-0-4-55', '2-0-1-1', '2-0-1-2-1-2-0-4-31', '1-0-2-2-3-0-0-4-76', '2-0-2-0-0-0-0-4-34', '2-1-0-1-2-0-0-3-26', '2-1-2-0-0-0-0-4-54', '2-0-1-1-0-0-0-4-49', '2-0-1-2-1-1-0-4-47', '2-1-1-1-3-1-0-4-87', '2-0-1-1-1-0-0', '2-0-1-0-1-1-0-4-65', '1-0-1-1-2-0-0-4-80', '1-0-2-1-0-3-0', '2-1-1-1-3-1-0-3-70', '2-0-0-2-2-1-0-4-17', '2-0-2-2-0-2-1', '2-0-1-2-1-0-0-4-60', '2-0-2-1-1-3-0-3-76', '1-0-2-0-3-0-0-4-27', '1-0-0-0-3-0-0-3-38', '2-1-1-0-2-3-0-4-72', '1-0-0-2-2-1-0-4', '2-0-1-0-3-0-0-4-9', '2-0-1-1-0-0-0-3-84', '1-0-2-1-0-1-1-4-5', '2-1-2-1-3-0-0-3-72', '2-0-0-1-0--1', '2-1-1-0-2-2-0-3-12', '1-0-0-1-2-0-0-3-60', '2-0-0-1-0-0-0-3-19', '2-1-1-1-1-0-0-4-60', '2-1-2-1-1-0-1-4-1', '2-1-1-2-2-0-0-4-44', '2-1-1-0-1-2-0-3-39', '2-1-2-1-2-1', '2-0-1-0-2-2-0-4-32', '2-0-1-0-0-0-0-4-55', '2-0-2-0-0-2-0-4-74', '2-0-2-1-1-2-0-3-29', '2-1-1-1-0-3-0-4-86', '2-0-0-1-1', '2-0-1-1-1-0-0-3-75', '2-1-2-1-1-3-0-3-100', '1-0-2-1-3-2-0-4-99', '2-1-1-1-0-2-0-3-64', '2-0-2-0-1-2-0-4-15', '2-1-0-1-0-2-0-3-50', '2-0-1-1-0-1-0-4-47', '2-0-2-1-2-1-0-3-86', '1-0-1-1-3-0-0-3-20', '2-0-2-1-3-1-0-4-25', '2-0-1-1-3-1-0-4-100', '2-0-1-2-3-1-0-4', '2-0-2-2-2-1-0-3-47', '2-0-2-1-1-1-0-4-76', '2-0-2-1-0-3-0-4-81', '2-1-1-2-1-1-0-4-62', '2-0-2-0-0-0-0-4-84', '1-1-1-1-2-0-0-3-47', '1-1-2-2-3-2-0-4-19', '2-1-2-0-1-1-0-4-40', '2-1-2-1-2-3-0-3-65', '1-0-1-1-2-2-1-4-4', '1-0-1-1-3-2-0-4-95', '2-1-0-1-2-2-0-3-20', '1-1-1-1-2-1-0-3-15', '1-0-1-0-3-1-0-4-38', '2-0-1-1-2-0-0-4-33', '1-1-1-1-3-3-0-4-14', '1-0-1-1-1-1-0-4-56', '2-0-0-1-2-3-0-3-29', '2-0-2-1-0--1-0', '2-1-1-0-2-0-0-4-31', '2-0-1-1-2-0-0-3-22', '2-0-1-0-2-0-0-4-92', '2-0-2-2-2-3-0-4-54', '2-0-2-1-0-2-0-4-5', '2-1-1-1-1-1-0-4-62', '2-1-1-0-2-1-0', '2-0-1-1-1-2-0-4-69', '2-0-0-1-2-1-0-3-97', '2-0-1-2-3-3', '2-1-1-0-0-2-0-3-31', '2-1-2-0-0-2-0-3', '2-0-2-0-2-0-0-3-20', '2-0-2-0-2-3-0-3-3', '2-1-1-1-1-3-0-4-66', '2-0-2-1-2-0-0-4-12', '2-1-2-0-3-1-0-4-50', '2-0-1-1-1-1-0-4-74', '2-1-1-2-0-0-0-4-63', '2-0-1-1-3-2-0-4-21', '2-1-2-0-0-2-0-3-93', '2-1-2-1-2-3-0-4-49', '2-0-2-1-2-2-0-3', '1-1-1-1-3-1-0-4-16', '2-0-1-1-2-1-0-3-32', '2-0-1-1-2-3-0-3-77', '2-0-2-1-2-1-0-3-42', '2-0-1-1-0-2-0-4-28', '2-1-1-1-1-2-0-3', '2-0-2-1-2-1-0-3-3', '1-0-2-1-3-2-0-3-39', '1-1-1-2-0-0-0-3-100', '1-0-1-1-3-3-0-3-22', '1-0-2-1-3-0-0-4-43', '2-1-1-2-0-1-1-4-1', '2-1-1-0-1-0-0-4-46', '2-0-2-1-1-3-0-4-36', '2-0-1-0-1-0-0-3-27', '2-1-2-1-2-0-0-4-44', '2-1-2-1-1-0-0-4-24', '2-0-1-0-1-3-0-3-25', '2-1-2-0-0--1', '2-0-1-0-0-1-0-4-97', '1-0-2-1-3-2-0-3-29', '2-1-0-2-2-2-0', '2-0-2-1-0-1-1-4-13', '1-1-1-1-3-1-0-4-19', '2-0-2-1-2-0-0-3-44', '2-0-2-2-1-1-0-4-26', '2-0-2-0-2-1-0-3-43', '2-0-1-1-1-1-0-4-95', '1-1-2-0-3-0-0-4-35', '1-0-1-2-3-2-0-4-52', '2-1-2-1-1-3-0-4-46', '2-0-0-0-2-3-0-3', '2-1-2-2-0-0-0-4-37', '2-1-2-0-1-1-0-4-39', '2-0-2-1-1-0-0-4-37', '2-1-1-2-3-3-0-4-1', '2-0-1-1-1-0-0-4-92', '1-0-2-1-3-2-0-4-37', '2-0-2-1-0-0-0-3-10', '2-0-1-0-3-0-0-4-12', '1-0-2-1-2-3-1-4-6', '1-0-1-1', '2-0-2-1-1-3-0-4-15', '2-1-2-1-2-1-0-4-36', '2-0-2-1-2-2-0-3-40', '1-0-1-1-3-2-0-4-42', '2-0-2-1-2-0-0-4-81', '2-0-2-2-1-0-0-4-33', '2-1-2-1-2-1-0-4-67', '2-0-1-2-1-1-0-4-38', '2-1-2-1-1-2-0-4-26', '1-0-1-2-3-3-0-4-74', '2-1-1-1-1-0-0-4-65', '1-0-1-1-2-3-0-3-86', '2-1-2-1-1-2-0-4-18', '2-0-0-1-0-', '2-0-2-1-2-2-0-3-100', '2-1-1-1-0--1-0-3-13', '2-0-1-1-0-1-0-3-7', '1-0-2-1-0-0-0-4-100', '2-0-2-1-2-0-0-4-43', '1-1-1-1-3-1-0-4', '2-0-1-1-2-2-0-4-35', '2-0-2-1-0-2-0-3-93', '2-0-2-1-0-0-0-4-71', '1-0-2-1-3-1-0-4-15', '2-0-1-1-2-3-0-4-95', '2-0-1-1-0-1-0-3-50', '2-0-0-1-0-0-0-4-62', '2-0-1-1-2-2-0-4-16', '2-0-2-0-1-0-1-4', '2-1-1-1-1-0-0-3-81', '2-0-2-1-2-2-1-4-9', '2-0-1-2-0-0-1-4-1', '1-0-2-1-2-3-0-4-44', '2-1-2-1-2-1-1-4-7', '2-1-2-2-1-0-0-4-76', '2-0-1-1-1-1-0-4-11', '1-0-2-1-2-0-0-4-81', '2-0-1-1-2-0-0-4-28', '2-0-2-1-3-3-0-3-10', '2-0-1-2-1-2-0-3-18', '2-0-1-1-0-3-1-4-2', '2-1-1-1-3-1-1-3-3', '2-1-1-1-2-2-0-4-31', '1-0-2-1-3-3-0-4-57', '2-0-1-1-3-3-0-4-5', '2-0-1-0-1-0-0-4-84', '2-1-2-1-1-1-0-4-75', '2-0-1-2-1-2-0-4-52', '2-0-2-2-1-1-0-3-5', '2-1-0-0-2--1-0-4-41', '1-0-2-1-3-2-0-4-57', '2-0-1-2-0-1-0-4', '2-0-2-0-2-2-0', '1-0-2-2-0-2-0', '1-1-2-1-2-3-0-3-48', '2-1-0-2-3-2-0-4', '2-0-2-0-1-0-0-4-88', '2-1-1-0-2-1-0-1', '2-1-1-1-1-2-0-3-100', '2-1-2-1-1-3-0-3-79', '2-0-1-2-0-1-0-4-54', '1-0-2-0-1-3-0-4-30', '2-0-2-1-0-1-0-4-83', '2-0-1-0-3-1-0-3-51', '2-0-2-1-0-0-0-4-73', '2-0-2-2-2-0-0-3-48', '2-1-1-0-3-0-0-4-49', '2-0-2-1-2-0-1-4-9', '2-1-2-1-2-2-0-4-30', '2-0-2-1-1-0-0-3-73', '2-0-1-0-2-1-0-3-50', '2-1-0-0-2-3-0-3-33', '2-0-1-1-2-2-0-3-94', '2-0-2-1-1-0-0-4-46', '2-0-1-1-0-2-0-3-83', '2-0-2-1-0-3-0-3-33', '2-0-0-1-0-0-0-3-99', '1-0-0-1-0', '2-0-2-1-2-0-0-4-83', '2-1-1-1-1-2-1', '1-0-2-2-0-0-0-3-100', '1-0-1-1-0-0-0-3-98', '2-0-1-0-2-3-0-4-54', '2-0-2-1-1-2-0-4-26', '2-0-1-2-3-1-0-4-3', '2-1-2-2-1-0-0-3-53', '2-0-1-1-2-0-0-3-32', '2-0-2-1-1-3-1-3-3', '1-0-2-1-3-3-0-4-23', '1-0-1-1-1-1-0-4-52', '2-1-0-0-3-3-0', '1-0-2-1-2-2-0-4-57', '2-1-1-2-1-1-0-4-45', '2-0-1-1-0-2-0-3-67', '2-1-2-1-2-1-0-4-21', '2-1-2-0-0-3-0-3-87', '2-1-1-2-1-0-0-4-4', '2-1-2-0-0-1', '2-0-2-1-0-3-0-4-70', '2-1-2-0-0-3-0-4-93', '1-0-1-1-3-3-0-4-58', '2-0-2-0-1-2-0-4-28', '2-0-2-1-3-0-0-4-47', '2-0-0-1-2-2-0-3-13', '2-1-2-1-2-3-0-3-99', '2-0-1-1-2-2-0-4-81', '2-0-1-0-2-1-0-4-58', '2-1-2-1-1-0-0-4-91', '2-1-2-1-0-1-0-4-49', '1-1-1-1-2-3-0-4-52', '2-0-1-2-1-2-0-3-47', '2-0-0-1-1-1-0-4-50', '1-0-1-0-1-3-0-3-30', '2-1-2-1-2-0-0-4-58', '2-0-2-1-3-0-0-4-30', '2-0-2-1-1-3-0-3-45', '2-0-2-1-2-1-0-3-64', '2-0-0-1-1-0-0-3-3', '2-0-1-0-1-3-0-4-54', '2-0-2-1-3-2-0-4-36', '1-1-1-1-0-3-0-3-47', '2-0-2-0-1-0-0-4-3', '2-1-2-2-2-0-0', '2-1-2-1-0-1-0-4-61', '1-0-0-1-3-0-0-3-22', '1-0-2-1-3-3-0-3-41', '1-1-1-1-1', '2-0-1-1-2-0-0-4-5', '1-0-1-1-3-3-0-4-95', '2-1-1-1-0-3-0-4-20', '2-0-2-0-0-1', '2-1-2-1-1-0-0-3-60', '1-0-2-1-3-1-0-4-13', '2-0-2-1-2-0-0-3-32', '2-1-1-1-1--1-0-3-57', '2-1-0-1-3-1-0', '2-0-1-1-3-0-1-4', '2-0-2-1-2-0-0-3-45', '2-1-1-2-0-1-0-4-32', '2-0-2-1-0-0-0-4-66', '2-1-1-1-2-0-0-4-81', '2-1-1-1-0-1-1-4-10', '2-0-2-0-1-0-0-3-24', '2-0-0-1-1-2-0-2', '1-0-2-2-3-1-0-4-17', '1-1-1-0-3-1', '2-0-1-2-0-1-0-4-27', '2-0-2-2-1-1-0-4-17', '2-0-2-1-2-0-0-3-92', '2-1-1-2-3-1-0-3', '2-0-1-2-2-0-0-4-17', '2-0-1-2-0-1-0-4-46', '2-0-2-1-2-0-0-4-100', '2-0-1-0-2-3-1-3', '1-0-1-2-3-0-0-4-96', '2-0-1-0-0-0-1-4-3', '2-1-1-1-1-2-0-4-29', '2-0-1-1-2-0-0-4-58', '1-1-2-1-2-1-0-3', '2-0-1-1-0-0-0-3-45', '2-1-1-2-3-0-0-3-1', '2-0-1-1-1-0-0-3-81', '2-1-1-1-2-0-0-3-8', '1-1-1-1-3-0-0-3-54', '2-0-2-1-2-3-0-4-15', '2-0-2-0-1-0-0-4-97', '2-1-1-1-3-0-0-4-4', '2-1-1-0-2-3-0-3-37', '2-1-2-0-3-1-0-4-23', '2-1-1-1-2-2-0-4-34', '2-0-0-0-2-1', '1-0-2-2-3-1-0-4-44', '2-0-2-1-0-2-0-4-75', '2-0-2-2-1-0-0-4-37', '2-0-0-1-1--1-0-3', '2-0-0-1-1-3-0-4-19', '2-0-1-2-1-1-0-4-80', '2-1-2-1-2-0-0-4-23', '2-1-2-1-2-3-0-3-96', '2-0-2-0-2-1-0-3-35', '2-0-1-1-2-1-0-4-5', '2-1-2-1-0-2-0-3-35', '2-0-2-1-2-3-0-4-3', '2-0-1-1-2-0-0-3-39', '1-0-0-1-3-3-0-3-55', '2-0-2-1-2-0-1-4-7', '2-0-2-0-0-2-0-4-100', '2-0-1-1-3-1-0-3', '1-0-0-1-3-0-0-3-23', '2-0-1-1-0-2-0-4-53', '2-1-0-1-1-3-0-3-49', '1-0-0-0-0-0', '2-0-1-1-2-1-0-4-79', '2-1-1-1-0-0-0-4-78', '2-0-2-2-0-0-0-3-25', '2-1-0-1-0--1-0-3-34', '2-0-0-1-1-1-0-3-24', '2-0-2-1-2-0-0-4-99', '2-0-2-1-2-0-0-4-41', '2-0-2-0-2-2-0-4-82', '2-0-1-0-2-1-0-3-16', '2-1-1-1-2-2-0-3-20', '2-1-1-1-1-3-0-3-99', '1-1-2-0-3-0', '1-0-2-1-0-3-1-3-1', '1-0-2-1-0', '2-1-2-1-2-2-0-4-72', '2-1-2-0-0-1-0-3-37', '2-0-1-1-0-3-0-4-35', '1-0-2-1-3-3-0-4-31', '1-0-1-1-2-1-0-4-4', '2-0-2-1-1-2-0-4-67', '2-0-1-1-0-3-0-4-13', '2-1-1-1-2-0-0-4-97', '2-0-1-1-1-2-0-3-6', '2-0-2-1-2-3-0-4-85', '2-1-2-1-1-3-0-4-67', '2-0-2-0-1-0-0-4-61', '2-1-2-2-1-0-0-4-38', '1-1-0-1-2-1-0-3-85', '2-1-1-0-1-2-0-3-37', '2-1-2-1-1-0-0-4-54', '2-1-2-2-3-3-0-4-80', '1-0-1-0-3-3-0-4-32', '2-1-1-1-0-1-0-4-62', '2-0-2-1-0-0-0-4-38', '2-1-1-1-2-0-0-4-84', '2-0-1-0-1-2-0-4-39', '2-1-1-1-2-0-0-3-56', '1-0-2-1-3-0-0-4-15', '2-1-1-0-2-3-0-3-31', '1-0-0-1-3-0', '1-1-0-1-1-3', '2-0-1-2-2-0-0-4-22', '1-0-2-1-1-2-0-4-100', '1-0-2-0-3-0-0-4-19', '1-0-2-1-2-2-0-4-67', '2-0-0-1-1--1-0-2-28', '2-0-2-1-2-0-0-4-92', '2-1-1-1-0-2-0-4-63', '1-0-1-1-3-3-0-4-61', '2-1-1-2-0--1-0-4-40', '2-0-1-1-3-3-0-3-24', '1-0-1-1-2-0-0-3-67', '2-0-1-0-3-0-0-4-4', '2-1-1-1-2-1-0-4-70', '2-0-2-1-0-3-0-4-72', '2-0-1-2-1-3-1-3-6', '2-0-1-1-1-2-1-4-9', '2-0-1-1-0-0-0-4-52', '2-0-1-1-2-3-0-3-46', '2-0-2-0-3-0-0-3-49', '2-0-1-1-1-3-1-3-7', '2-0-1-1-2-1-0-4-42', '2-0-2-1-2-3-0-4-84', '2-1-1-1-3-2-0-3-6', '2-0-2-0-2-0-0-3-55', '1-0-1-2-1-2-0-3-100', '2-0-1-0-2-0-0-4-38', '2-0-0-1-1--1-0', '2-1-1-1-0-0-0-3-84', '2-1-2-1-2-2-0-4-8', '2-0-2-1-2-2-1', '2-0-2-1-2-3-0-4-12', '2-0-2-1-2-2-0-4-67', '2-0-2-1-2-1-0-4-22', '2-0-1-0-2-2-0-4-52', '2-1-0-1-1-1-0-3-75', '2-1-0-0-2--1-1-3', '2-1-1-0-0-0-0-4-57', '2-0-2-1-0-2-0-3-2', '2-0-1-1-2-1-0-3-22', '2-1-1-2-0-0-0-4-22', '2-1-1-2-1-1-0-4-15', '1-1-2-2-3-2-0-3', '2-1-2-1-2-1-0-4-41', '2-0-1-2-1-0-0-3-13', '2-1-1-1-0-3-0-4-71', '2-0-1-1-1-0-0-4-45', '2-0-1-0-2-2-0-3-53', '2-0-2-1-1-2-0-4-68', '2-0-1-1-2-3-0-4-69', '2-1-2-0-2', '2-0-1-1-2-1-0-4-29', '2-0-2-1-2-0-0-3-20', '2-0-1-0-1-3-0-4-57', '2-0-1-1-0-1-0-4-5', '1-0-2-1-3-3-0-3-18', '2-1-1-0-1-0-0-4-14', '1-0-2-0-3-3-0-4-33', '2-0-1-1-3-0-0-4-55', '2-0-1-0-2-2-0-3-9', '2-1-1-1-1-1-0-4-20', '2-0-2-1-1-2-0-4-58', '2-1-1-1-1-1-0-3-40', '2-0-2-1-3-2-1-3', '2-1-2-1-1-0-0-4-64', '2-1-2-1-1-2-0-4-14', '2-0-1-1-0-0-0-4-93', '2-1-1-2-2-2-0-4-13', '2-0-2-2-2-0-0-4-76', '2-0-1-1-2-1-0-4-15', '1-0-2-1-3-0-0-4-29', '2-1-1-1-1-2-0-4-46', '2-0-1-1-0-1-0-3-27', '2-0-2-2-0-2-0-3-77', '1-0-1-0-3-0-0-3-20', '2-0-1-1-2-0-0-3-90', '2-1-2-1-3-0-0-3-4', '1-0-2-2-1-0-0-4-98', '1-0-2-1-0-1-1-4', '2-1-1-0-1-2-0-3-3', '2-0-1-1-1-3-0-3-73', '2-0-1-1-0-2-0-4-83', '1-0-0-1-3-3-0-3-44', '2-1-1-1-0-0-0-4-29', '2-1-2-1-3-2-0-4-43', '2-0-1-1-1-3-0-4-86', '2-0-2-1-1-2-0-4-99', '2-1-1-0-2-0-0-4-88', '2-0-2-2-0-0-0-4-62', '2-0-2-1-1-0-0-3-92', '1-0-1-2-0-3-1-3-1', '2-1-2-1-2-1-1-4', '2-0-0-1-0-2-0-3-11', '2-0-1-1-2-2-1-3-7', '2-0-1-1-3-3-0-4-100', '2-0-1-0-0-1-1-4', '2-1-0-2-1-2-0-3-7', '2-0-2-0-2-2-0-4-93', '2-0-1-0-0-1-0-4-99', '2-0-1-0-2-2-0-3-96', '2-0-1-1-1-2-0-4-32', '2-0-1-1-2-0-0-3-27', '1-1-0-1-2-0-0-3-43', '2-0-1-0-1-3-0-4-28', '1-0-1-1-1-1-0-4-31', '2-0-2-2-0-0-0-4-95', '2-0-0-1-1--1-0-3-7', '2-0-2-0-3-1-0-4-57', '2-0-1-1-1-2-0-4-13', '2-1-2-0-0-0-0-3-87', '2-0-1-1-1-1-0-3-39', '2-0-2-1-2-1-0-4-1', '2-0-1-2-2-3-0-4-80', '1-0-2-1-1-0-0', '1-0-1-1-3-3-0-4-60', '1-0-1-2-3-2', '2-1-2-0-0-0-0-3-45', '2-0-2-1-0-0-1', '1-0-1-1-3-0-0-3-37', '2-1-2-0-2-1-0-3-16', '2-1-1-1-2-1-0-3', '2-0-1-1-0-2-0-4-77', '2-0-2-2-1-0-0-3-63', '2-0-1-1-3-0-0-4-99', '2-0-1-1-1-3-0-4-91', '2-1-2-2-0-0-0-4-18', '1-1-2-0-3-0-0-4', '2-0-2-1-3-2-1-3-8', '1-0-2-0-0-3-0-4', '2-0-0-1-3-3-0-3', '2-1-1-0-2-1-0-4-17', '2-1-0-1-1--1-0-3-19', '2-0-2-0-1-2-0-3', '2-1-1-2-0-2-0-4-14', '2-1-1-1-2-1-0-3-3', '2-1-2-1-1-2-0-3-59', '1-0-2-1-1-2-0-3', '2-1-1-1-0-0-0-4-56', '2-0-1-2-2-2-0-3-4', '2-1-2-1-1-1-0-3-18', '2-1-2-1-0-3-0-4-64', '2-0-1-0-0-0-0-4-7', '2-0-2-2-3', '2-0-1-1-2-3-0-4-52', '2-1-2-0-2-2-0-4-52', '2-0-2-0-1-3', '2-0-1-0-1-0-0-3-45', '2-1-1-0-1-2-0-4-75', '2-0-1-1-2-0-0-4-57', '1-1-1-1-3-2-0-4-80', '2-0-1-0-2-1-0-3-65', '2-0-2-1-2-3-0-4-38', '2-0-1-1-1-0-0-4-87', '2-0-2-1-3-1-0-4-47', '1-0-0-1-3-1-0-4-18', '1-1-2-1-3-0-0-3-21', '2-0-1-0-1-0-0-4-100', '2-0-1-1-3-1-0-4-33', '2-1-1-1-2-2-0-4-35', '2-1-2-1-2-1-0-4-38', '2-0-2-0-0-2-0-4-51', '2-1-1-0-0-1-0-4-89', '2-0-2-1-3-1-0-4-27', '2-1-0-1-0-3-0-3', '2-0-2-1-0-1-0-3-50', '2-0-1-1-0-0-0-4-33', '2-1-1-1-0-0-0-4-50', '2-0-1-0-0-1-0-3-10', '2-0-2-1-0-0-0-1-5', '2-1-2-1-2-1-0-4-19', '2-0-2-0-0-0-0-4-75', '1-0-2-1-3-1-0-3-25', '2-0-2-1-0-1-0-4-67', '2-1-2-1-2-2-0-3-89', '2-0-2-2-0-0-0', '2-0-2-0-1-1-0-4-27', '2-0-0-0-1-0-0-3-88', '2-0-2-0-2-1-0-4-13', '2-1-2-1-3-2-0-3-8', '2-0-1-0-2-1-0-4-53', '2-0-2-1-1-3-0-4-50', '1-0-0-0-0-0-0-3', '1-0-2-1-1-0-0-4-51', '1-1-2-1-3-2-0-3-66', '1-1-2-0-3-1', '1-1-1-1-3-0-1-4-2', '2-0-1-1-2-0-0-4-63', '2-0-2-1-0-0-0-4-3', '2-0-0-1-1-1-0-3-36', '2-0-2-1-3-2-0-4-41', '2-0-1-1-1-1-0-4-22', '2-1-1-1-0-1-0-3-15', '2-0-1-2-0-0-0-4-29', '2-0-1-0-2-0-0-4-28', '2-0-1-1-3-0-0-3-17', '2-0-1-1-1--1-0-2', '2-1-2-1-1-2-0-4-86', '2-0-0-1-3-1-0-4-1', '2-0-2-1-2-3-0-4-100', '1-0-1-1-0-3-1-3', '1-0-1-2-2-2-0-4-43', '2-1-1-2-0-0-0-4-26', '2-1-2-2-0-2-0-4-14', '2-0-1-0-1-0-0', '2-1-1-0-2-3-0-4-28', '2-1-1-1-2-2-0', '2-1-2-2-2-2-0-3-38', '2-1-1-0-0-0-0-3-57', '2-0-1-2-0-1-1-3', '2-0-2-0-0-2-0-4-49', '1-0-2-1-2-2-0-4-66', '2-0-2-0-0-2-0-4-68', '2-0-1-1-1-2-0-4-15', '1-0-1-0-2-3-0', '2-0-1-1-3-3-0-4-48', '2-0-1-0-2-1-0-3-31', '1-0-1-1-3-3-0-4-36', '2-1-1-1-1-1-0-4-10', '2-1-2-2-0-0-0-3-57', '2-0-2-1-2-0-0-4-22', '2-1-1-2-3-0-0-4', '2-0-0-1-2-2-0-3-33', '2-0-1-1-1--1-0-2-45', '2-0-1-0-0-3-0-4-92', '2-1-1-1-2-2-0-4-93', '2-0-1-1-1-0-0-3-5', '2-0-1-1-3-1-1', '1-0-0-1-0-0-0-2-98', '2-0-2-2-1-3-0-4-66', '2-0-2-0-0-3-0-4-77', '2-1-2-0-2-2-0-3-69', '1-1-1-0-0-0', '2-0-1-1-2-0-0-4-77', '2-1-1-1-2-3-0-3-100', '2-0-2-2-0-2-0-4-26', '2-0-1-1-2-3-0-3-14', '2-0-2-0-1-0-0-4-51', '2-0-2-2-0-1-0-4-89', '2-0-1-1-2-1-0-3-87', '2-0-1-1-1-2-0-3-78', '2-0-1-1-3-3-0-4-3', '1-0-0-1-2-1-0', '2-0-1-1-2-2-0-3-66', '2-0-1-1-1-2-0-3-21', '2-0-1-1-0-0-0-4', '2-0-1-0-2-3-0-3-27', '2-0-2-1-0-1-0-3-9', '2-0-2-0-1-1-0-4-86', '2-0-2-0-1-3-0-4-41', '2-0-1-1-2-3-0-4-46', '2-0-0-0-2-1-0-4-12', '2-0-1-1-0-2-0-3-22', '2-1-0-1-0', '2-0-2-2-1-3-0-4-52', '2-0-2-0-2-2-0-3-10', '2-0-1-0-1-0-0-4-79', '2-0-1-1-1-3-0-3-85', '2-1-2-2-1-1-0-4-39', '2-1-0-1-3-2', '2-1-1-2-2-1-0', '2-0-2-1-1-1-0-3-40', '2-0-1-1-0-1-0-4-66', '2-0-1-0-0-2-0-4-33', '2-0-1-1-1-1-0-4-2', '1-1-2-1-0-0-0-3-94', '2-0-2-1-2-2-0-4-95', '2-1-1-0-2-1-0-4-79', '2-1-2-1-2-0-0-4-56', '2-1-2-1-0-2-0-4-15', '2-0-1-1-0-2-0-4-14', '2-0-1-0-0-0-1', '2-0-1-1-1-3-0-3-45', '2-0-1-1-2-1-0-3-81', '2-0-2-1-2-0-0-4-95', '2-1-2-1-3-1-0-4-40', '2-1-2-0-0-1-0-3-56', '2-0-2-0-2-1-0-3-31', '2-0-1-1-0-2-0-4-12', '2-1-2-1-2-2-1-4-6', '2-0-1-1-1-0-0-4-18', '2-0-1-1-1-0-0-3-33', '1-0-2-2-2-0-0-3-33', '2-0-1-1-2-3-0-3-21', '2-0-1-1-2-0-0-3-51', '2-1-1-0-3-3-0', '2-1-2-1-2-2-1-4', '2-0-1-1-1-2-0-3-61', '2-0-1-1-0-3-0-4-28', '1-0-2-1-3-1-0-4-30', '2-1-1-1-1-2-0-4-9', '2-1-0-1-0-0-0-3-7', '2-1-1-1-0-0-0-4-53', '2-1-2-1-2-0-0-4-99', '1-0-1-1-2-1-0-4-1', '2-0-0-1-1-3-0-3-44', '2-0-0-1-1-2-1-3', '2-1-1-1-2-3-0-3-33', '2-0-0-0-1-2-0-3', '2-0-2-0-2-2-0-3-71', '2-0-2-1-2-1-0-3-41', '2-1-2-1-2-2-0-4-93', '2-1-2-0-1-1-0-4-28', '2-0-1-1-0-1-0-4-1', '1-0-1-1-2-2-0-4-99', '2-1-1-0-1-1-0-3-63', '1-1-2-1-1', '2-0-2-1-0-1-0-4-18', '2-1-1-1-2-0-0-3-55', '2-1-1-0-2-1-0-3', '2-0-2-2-1-2-1', '2-0-2-1-2-1-0-4-89', '1-0-2-1-3-0-0-3-97', '1-1-0-1-1-0-0', '2-0-2-1-2-0-0-4-21', '2-0-1-2-0-0-0-4-64', '2-0-1-0-1-1-0-4-94', '2-0-2-1-1-1-0-4-70', '1-0-2-1-1-3-0-4-53', '2-1-1-1-0-3-0-4-46', '2-0-1-1-0-3-0-4-64', '1-1-2-1-3-0-0', '1-0-2-1-0-1-0-4', '2-1-1-1-0-1-0-4-19', '2-0-2-2-0-3-0-4-34', '2-0-2-1-1-1-0-4-53', '2-0-0-2-0-0-0-4-20', '2-1-2-2-1-2-0-4-57', '2-0-2-1-0-1-0-3-12', '2-0-2-1-2-0-0-4-18', '2-0-2-1-0-3-1-3', '2-1-1-0-1-0-0-4-47', '2-0-2-0-0-1-0-3-85', '2-0-1-2-0-3-0-4-27', '2-0-1-1-1-0-0-1-99', '2-0-1-0-1-3-0-4-42', '2-1-1-0-1-1-0-4-3', '2-0-1-1-2-1-0-3-67', '2-1-1-1-0-0-0-4-43', '2-0-1-1-2-1-0-4-67', '2-0-1-0-3-0-0-4-48', '2-0-1-1-2-0-0-4-48', '2-1-2-1-2-0-0-3-83', '2-1-2-1-2-1-0-3-98', '2-0-2-0-0-0-0-4-52', '2-1-2-0-0-3-0-4-48', '2-0-2-2-1-0-0-4-100', '2-0-2-1-3-3-0-4-35', '1-0-1-1-0-0-0-4-19', '2-0-2-1-1-3-0-4-57', '2-1-1-1-0-3-0-4-11', '2-1-2-2-0-0-0-4-20', '2-0-2-0-2-1-0-4-54', '1-0-1-1-0-0-0-4-55', '2-0-2-1-2-1-0-3-33', '1-0-1-1-2-3-0-4-67', '2-1-1-1-1-1-0-4-13', '2-1-2-0-2-1-0-4-12', '2-1-2-2-1-0-0-4-46', '2-0-2-1-2-1-0-4-77', '2-0-1-1-0-2-0-4-34', '2-0-1-2-0-1-0-4-81', '2-0-2-1-0-1-0-3-95', '2-0-1-2-1-2-0-3-49', '1-0-2-1-1-3-0-3-28', '2-0-1-1-2-0-0-3-44', '2-0-2-0-2-2-0-4-16', '2-0-2-1-1-0-0-4-95', '2-0-2-1-2-1-0-3-96', '2-1-1-2-3-2', '2-0-2-0-1-1-0-4-36', '2-0-1-2-1-1-0-3-78', '1-0-2-2-3-2-0-4-76', '2-1-2-1-3-3-0-4-9', '2-0-2-2-1-0-0-4-7', '2-0-2-1-1-0-0-4-11', '2-1-1-2-0-0-0-3-55', '2-0-2-1-1-1-0-3-28', '2-0-2-1-2-3-0-4-44', '2-0-1-1-1-3-0-4-29', '2-0-0-2-1-0-0-4-83', '2-1-1-2-0-2-0-3', '1-0-1-0-2-2-0-3-72', '2-0-1-1-2-1-0-3-90', '2-1-1-2-2-0-0-3', '2-1-1-1-0-2-0-3-20', '1-0-0-1-1-3-0-3', '1-0-0-1-2-1-0-4-4', '2-1-1-1-2-0-0-4-56', '2-0-0-1-2-0-0-3-19', '2-1-1-0-0-1-0-4', '2-0-2-0-1-3-0-4-32', '2-0-2-2-3-1-0-4-3', '2-0-1-1-2--1-0-3-83', '2-0-1-1-0-2-0-4-78', '2-1-1-1-2-0-0-3-63', '2-1-1-1-0-1-0-4-55', '2-0-2-0-1-2-1', '2-0-1-0-0-3-0-4-32', '2-0-2-0-0-3-0-4-64', '2-0-1-1-2-1-0-3-72', '2-0-0-1-1-1-0-4-80', '2-1-1-0-2-1-1-3-4', '2-1-1-1-1-2-0-4-13', '2-0-1-2-1-0-0-4-43', '2-0-1-1-0-0-0-3-87', '2-0-1-1-2-2-0-4-79', '2-1-1-1-1-0-0-3-29', '2-0-2-1-2-0-0-4-2', '2-0-2-1-1-3-0-3', '2-1-2-1-1', '1-1-2-2-0-1-0-3-48', '2-0-2-1-2-1-0-3-35', '2-0-1-0-0-0-0-3-86', '2-1-2-1-0-3-0-3-43', '2-1-1-2-1-3-0-4-36', '2-1-2-1-1-0-0-3-17', '2-1-1-1-1-3-0-4-50', '1-0-2-0-3-0-0-4-3', '2-0-1-1-1-2-0-4-33', '2-0-2-1-1-2-0-3-94', '2-0-2-2-1-1-0-4-62', '1-1-1-1-0-2-0-4-38', '2-1-1-1-1-2-0-3-22', '2-1-2-2-0-1-0-4-38', '2-0-2-1-2-2-0-4-89', '2-1-2-1-0-0-0-4-43', '2-1-2-1-2-2-0-3-10', '2-1-2-1-0-1-0-3-46', '2-1-1-0-2-2-0-4-9', '2-1-1-1-3-0-0-3-1', '2-0-1-1-0-0-0-4-16', '2-0-1-0-0-3-0-4-78', '2-1-1-1-1-0-0-4-85', '1-0-1-1-2-0-0-4-62', '2-0-2-2-1-2-0-4', '2-0-2-1-2-0-0-4-47', '2-1-2-1-0-0-0-3-67', '2-0-2-1-0-0-0-4-87', '2-0-2-1-0-2-0-4-65', '2-0-1-1-3-0-0-4-47', '1-0-1-1-3-1-0-4-22', '2-1-1-0-2', '2-1-1-2-2-2-0-3-95', '2-0-2-0-2-2-0-4-75', '2-0-1-1-0-0-0-3-74', '2-1-2-1-2-3-0-3-55', '2-0-1-1-2-3-0-4-100', '2-1-2-1-0-2-0-4-92', '2-0-2-1-0-2-0-3-67', '1-0-1-1-2-1-0-4-78', '2-1-2-2-2-3-0-3-1', '2-0-1-2-1-1-0-3-63', '2-0-1-0-0-1-0-4-76', '2-0-1-2-0-1-0-4-29', '2-0-1-1-1-2-0-3-82', '2-1-2-1-3-1-0-4-9', '2-0-1-0-0-0-0-4', '1-0-2-0-3-3-0-4-48', '2-1-2-1-2-0-0-4-92', '2-0-1-2-0-0-0-4-1', '1-0-1-1-3-0-0-4-35', '2-0-2-2-2-0-0-4-61', '1-0-2-0-2-3-0-4-34', '2-0-2-1-1-3-0-4-47', '2-0-2-1-0-1-0-4-7', '2-1-1-1-1-0-0-4-50', '2-0-0-1-1-2-0-3-12', '2-0-2-1-3-0-1-3-8', '2-0-1-1-1-1-1-4', '1-1-1-1-3-0-0-3-100', '2-1-1-0-0-3-0-4-48', '2-0-1-1-2-1-0-3-18', '1-1-1-1-3-3', '2-1-0-0-2--1-0', '2-0-1-0-2-3-0-3-77', '1-1-1-1-3-3-0-4-37', '2-0-2-0-0-1-1', '2-1-2-0-0-0-0-4-96', '2-0-2-2-2-1-0-4-68', '2-1-2-1-1-1-0-4-9', '2-1-2-1-2-2-0-4-86', '2-0-2-2-1-2-0-3-74', '2-0-1-0-0-0-0-4-51', '2-0-2-0-1-1-0-4-95', '2-0-2-0-1-3-0-4-24', '2-1-2-1-0-3-1', '2-0-1-0-2-1-0-4-17', '1-0-2-0-1-0-0-4', '1-0-1-0-2-1', '1-1-2-1-2-2-0-3-6', '2-0-2-2-2-1-0-4-100', '1-0-1-1-2-3-0-4-56', '2-1-2-1-0-1-0-4-84', '2-1-2-1-1-1-0-4-30', '2-0-1-1-0-0-0-3-15', '2-0-2-1-1-1-0-3-79', '2-0-2-0-0-1-0-4-67', '2-1-2-0-2-3-0-4-80', '2-0-2-1-0-1-0-3-98', '2-1-1-2-3-2-0-4-1', '1-1-2-1-3-3', '2-0-1-2-1-0-0-4-66', '2-1-1-1-2-2-0-4-94', '2-0-1-1-0-1-0-3-93', '2-1-1-1-2-0-0-4-53', '2-0-1-1-0-0-0-4-68', '2-1-1-1-0-1-0-4-85', '2-0-2-1-0-1-0-4-55', '2-1-2-0-2-2-0-4-53', '2-0-0-1-1--1', '1-0-1-1-2-0-0-3-61', '2-1-1-1-3-2-0-4-40', '1-1-2-1-2-3-0-4-62', '2-0-2-2-0-3-1-4-3', '2-0-0-1-1-0-0-4', '2-0-1-1-2-0-0-4-47', '2-1-2-0-2-0-0-4-82', '2-1-2-0-0-1-0-4-89', '2-0-1-1-0-0-0-4-56', '2-1-1-2-2-2-0-4', '1-0-1-1-3-0-0-3-34', '1-0-1-2-3-2-0-3-16', '2-0-1-1-2--1-0-3-41', '2-1-2-1-1-1-0-3-57', '1-0-1-1-2-1-0-4-53', '2-0-2-1-2-0-0-4-5', '2-1-1-2-0-2-0-4', '1-0-0-1-3-3-0-3-28', '2-0-1-0-1-2-0-4-51', '2-0-2-2-1-1-0-4-60', '2-0-0-1-0-0-0-3-37', '2-0-1-1-2-3-0-1-44', '2-1-1-1-1-1-0-4-76', '2-1-1-1-0-0-0-4-79', '2-0-1-2-1-0-0-3-6', '1-0-1-1-1-3-0-4-1', '2-0-0-1-3', '2-1-1-1-1-1-0-4-73', '2-0-2-0-1-2-0-3-32', '2-1-1-0-0-1-0-4-44', '2-1-2-2-1-1-0-3-18', '2-0-2-1-1-1-0-4-46', '2-0-1-0-1-0-0-4-21', '2-1-2-1-2-1-0-4-68', '2-1-2-0-1-2-0-4-5', '2-1-2-2-3-3-1-4', '1-0-2-0-3-3-0-4-31', '2-0-1-1-0-1-0-4-18', '2-1-1-1-1-3-0-4-37', '2-0-2-2-0-1-1-3-1', '2-0-0-1-1-1-0-3-1', '2-0-1-0-2-2-1-4-3', '2-0-2-0-2-2-0-4-35', '2-1-1-1-0-0-0-4-89', '1-0-1-2-1-1-0', '2-0-1-2-0-0-0-3-81', '1-0-1-0-2-0-0-4-71', '1-0-2-1-3-1-0-4-19', '2-0-2-1-0-1-0-4-50', '2-0-2-0-1-0-0-4-22', '1-1-1-1-3-1-0-4-18', '2-1-1-2-1-0-0-4-22', '2-0-1-1-1-0-0-3-52', '2-0-1-1-1-2-0-4-74', '2-0-1-2-1-2-0-4-27', '1-0-2-1-3-1-0-4-98', '2-0-2-1-1-2-0-3-14', '2-0-2-1-2-2-0-4-18', '1-0-1-1-3-1-0-4-34', '2-0-2-0-0-2-0-4-80', '2-0-1-0-0-1-1-3', '2-0-1-0-1-1-0-3-36', '2-1-1-2-3-3-0-4-81', '1-0-2-1-3-1-0-4-14', '2-0-0-1-1-1-0-3-48', '2-0-2-1-0-2-0-4', '2-0-2-1-1--1-0', '2-1-1-2-0-0-0-4-64', '2-0-2-1-3-0-0-4-32', '2-0-1-0-1-0-0-2-56', '2-0-0-1-0-2-1', '1-0-1-1-1-1-0-4-48', '2-0-1-0-2-3-0-3-39', '2-0-2-2-0-1-0-3-69', '2-0-0-1-1-0-0-3-38', '2-0-2-1-2-3-0-3-78', '2-0-1-1-1-3-0-3-77', '2-0-2-2-0-0-0-3-71', '2-1-2-2-0-1-0-4-61', '2-0-2-1-0-0', '2-1-0-1-1-0-0-3-77', '2-0-1-1-3-0-0-3-100', '2-0-2-1-2-1-0-4-58', '2-0-2-1-3-3', '2-0-1-1-1-3-0-3-30', '2-0-1-2-1-3-0-4-24', '2-1-0-1-1-0-0-3-99', '2-0-1-0-2-1-0-4-40', '2-0-1-1-1-0-0-4-17', '2-1-2-1-0-0-0-4-84', '2-0-2-1-1-2-0-4-31', '2-0-2-1-2-2-1-4-7', '2-1-1-1-0-0-0-3-53', '2-0-0-1-0-1-0-3-6', '2-1-1-0-2-3-0-4-31', '2-0-2-0-3-1-0-4-5', '2-1-1-0-1-0-0-4', '2-0-1-0-1-2-0-3-8', '2-1-0-1-1-0-0-3-58', '1-0-2-2-3-0-0-4-73', '2-1-2-1-0-1-0-4-90', '2-0-2-1-1-0-1-4-8', '2-0-1-1-1-1-0-4-41', '1-0-2-0-2-1', '2-1-1-1-1-0-1-4-1', '1-0-2-2-0-0-0-3', '2-0-2-2-1-3-0-3-73', '2-1-2-2-1-1-0-4', '2-0-2-1-0-1-0-3-66', '2-0-2-1-2-2-0-4-1', '2-1-1-1-1-2-0-4-45', '2-0-2-1-3-2-0-3-32', '2-0-1-2-1-1-0-4-43', '2-1-1-2-1-0-0-4-30', '2-0-1-1-1-1-0-3-32', '2-1-2-1-1-2-0-3-19', '1-0-1-0-3-2-0-3-38', '2-0-1-1-2-2-0-4-8', '2-0-0-1-2-2-0-3-9', '2-0-1-1-2-2-0-4-95', '2-0-2-1-2-2-0-4-62', '2-0-1-1-1-3-0-3-69', '1-0-2-1-2-0-1-4-10', '2-0-2-1-0-2-0-3-79', '2-0-2-1-2-2-0-4-29', '2-1-2-1-0-2-0-3-52', '2-0-2-2-1-1-0-4-74', '2-0-1-1-0-0-0-4-29', '2-0-0-1-0-2-0-4-36', '2-1-1-1-1-2-0-3-82', '1-1-1-1-2-3-0', '2-0-1-0-0-3-0-4-55', '2-0-2-2-0-0-1-4-1', '2-0-1-1-0-3-0-4-42', '2-1-1-1-2-2-0-4-27', '2-1-2-1-0-0-0-3-68', '2-0-1-1-1-3-0-4-12', '2-0-1-1-2-2-0-4-56', '1-0-1-1-3-0-0-3-33', '2-0-1-0-0-1-0-4-86', '2-0-1-1-2-1-0-4-97', '2-0-1-2-1-0-0-4-48', '2-1-1-0-2-0-0-4-76', '2-0-1-1-2-2-0-3-8', '2-0-2-2-0-0-0-4-92', '2-1-1-1-0-1-0-4-33', '2-0-1-1-1-0-0-3-37', '2-0-1-1-2-0-0-4-22', '2-0-2-1-1-3-0-4-98', '1-0-2-2-3', '2-1-1-1-2--1-0-3-49', '2-0-1-2-3-0-0-4-3', '2-1-1-1-1-3-0-3', '1-0-2-2-3-3-0-4-54', '2-1-2-0-0-1-0-4-98', '2-0-1-0-0-0-0-4-34', '2-0-2-1-3-0-1', '2-0-2-1-3-2-0-3-35', '2-0-2-1-1-3-0-4-9', '2-0-1-1-0-1-1-4', '2-0-2-1-2-3-1-4-10', '2-1-2-1-1-2-0-4-45', '2-0-2-2-2-0-0-4-98', '1-1-1-1-2-1-0-3', '2-1-1-1-0-3-0-4-1', '2-0-1-1-1-0-0-3-71', '2-1-1-1-0-2-0-4-7', '2-1-1-1-1-3-0-3-26', '2-0-2-0-2-0-0-4-79', '2-1-1-1-2-3', '2-1-1-1-1-1-0-4-60', '2-0-2-0-2-1-0-4-20', '2-1-2-0-1-1-0-4-7', '2-0-1-0-1-0-0-4-9', '2-0-1-0-3-0-0-4-76', '2-1-1-1-0-0-0-3-50', '1-0-2-1-0-0-0-3-98', '2-1-2-0-1-1-0-3-33', '2-1-1-0-0-0-0-4-65', '2-1-0-1-1-0-0-3-98', '1-1-2-2-0-0', '2-1-1-2-3-2-0-3-1', '1-0-1-0-1-0', '2-0-1-1-1-1-0-4-78', '2-0-1-0-1-2-0-4-85', '2-1-0-1-2-3-0-4', '2-0-2-1-0-3-0-3-11', '2-0-1-1-2-2-0-3-99', '2-1-1-1-1-0-0-4-15', '2-0-0-0-1-3-0-3', '2-0-2-0-1-2-1-3-10', '2-0-1-1-1-2-0-3-48', '2-0-1-1-1-1-0-3-34', '2-1-1-2-1-3-0-4-78', '2-0-1-0-2-2-0-4-55', '1-0-2-1-2-1-0-3', '1-1-1-0-3-2-0-4-38', '2-1-1-1-0-1-0-3-30', '2-1-1-0-0-2-0-3-84', '2-0-2-0-1-0-0-4-56', '2-1-1-1-1-3-0-3-19', '2-1-2-1-1-2-0-3-87', '2-0-1-0-0-0-0-4-43', '2-1-1-0-2-1-0-4-59', '2-0-1-1-1-0-0-3-7', '2-1-1-0-2-2-0-3-59', '2-0-2-1-1-1-0-4-14', '2-0-1-2-0-0-0-4-3', '2-0-2-2-2-1-0-4-99', '2-1-2-2-0-0', '2-0-2-1-1-0-0-4-47', '1-0-1-1-2-3-0-4-41', '2-0-2-1-3-0-0-4-33', '1-0-2-0-2-1-0-4-75', '2-0-1-1-0-0-0-4-70', '2-0-1-2-1-0-0-3-48', '2-0-1-1-1-0-0-3-76', '1-1-1-1-3-2-0-4-82', '2-0-2-1-0-1-0-3-46', '2-0-2-1-2-1-1-3', '2-0-2-1-1-1-0-4-62', '2-1-2-1-2-0-0-4-47', '2-0-2-2-0-0-0-4-37', '2-1-1-1-1-3-0-4-45', '2-0-2-1-2-1-0-3-76', '2-0-2-2-0-1-0-4-4', '1-0-1-1-2-0-0-4-72', '2-0-2-1-2-1-0-4-6', '2-1-2-1-1-0-0-4-21', '2-0-2-1-2-1-0-3-6', '2-0-2-1-3-1-0-3-27', '2-0-2-1-2-3-0-4-76', '1-0-2-1-3-2-0-4-98', '2-1-2-1-0-0-0-4-100', '2-1-2-1-2-2-0-3-37', '2-0-2-1-0-3-0-4-38', '2-0-1-1-3-0-0-4-15', '2-0-2-2-0-0-0-4-99', '2-0-1-1-3-3-0-3-39', '2-0-2-1-2-1-0-4-13', '2-1-2-0-1-3-0-3-7', '2-0-2-0-0-3-0-4-80', '2-0-1-0-1-2-0-4-86', '2-0-2-0-1-1-0-3-46', '1-0-1-1-3-0-0-4-28', '2-0-1-0-2-0-0-3-71', '2-1-1-0-0-1-0-4-63', '2-1-1-1-2-3-0-3-48', '2-0-2-1-2-2-0-4-91', '2-0-1-0-2-1-0-4-45', '1-1-1-0-2-3-0-4-89', '2-0-1-0-1-3-0-4-100', '1-1-1-1-3-1-0-4-55', '2-0-2-0-0-1-0-3-49', '2-1-2-1-1-1-0-4-46', '1-0-0-0-3-0-0-3', '2-0-1-1-1-1-0-4-10', '2-1-1-1-2-3-0-4-10', '2-0-1-1-1-0-0-3-62', '2-1-2-0-0-0-0-3-35', '2-0-1-0-0-0-0-3-93', '2-0-1-1-2-2-0-4-18', '2-0-1-1-1-3-0-4-89', '2-0-1-2-0-0-0-3-30', '2-1-1-1-3-2-0-3', '2-1-1-1-0-2-0-3-41', '2-0-1-1-0-1-0-4-16', '2-1-1-2-0-2-0-4-90', '2-0-1-2-1-3-0-3-18', '1-0-1-0-2-3-0-4-57', '1-1-2-1-2-0-0-4-62', '1-0-2-1-1-3-0-4-50', '2-0-1-1-0-1-0-3-68', '2-0-1-0-2-', '1-0-2-1-2-0-0-3-98', '2-0-2-0-2-3-0-4-13', '1-0-1-1-3-2-0-4-35', '2-1-2-1-1-2-0-3-63', '2-1-2-1-2-2-0-4-23', '2-0-1-1-0-2-0-3-62', '1-1-2-1-3-3-0-3-53', '2-0-2-1-0-2-0-4-88', '2-0-1-2-1-2-0-4-44', '2-0-1-0-2-1-0-4-11', '2-0-1-1-0-1-0-3-69', '2-0-0-1-2-0-0-3', '2-1-1-1-1-3-0-3-100', '2-0-2-1-3-2-0-3-97', '2-1-0-1-1-1-0-2-64', '1-0-2-1-3-3-0-4-71', '1-1-2-2-0-0-0-4', '2-0-1-1-2-3-0-4-3', '2-0-1-0-2-0-0-4-99', '2-0-2-0-2-0-0-4-18', '2-1-2-1-2-2-0-4-2', '2-1-1-1-2-1-0-3-76', '2-0-2-1-2-1-0-3-65', '1-0-1-0-0-2-0', '2-0-2-0-0-2-0-4-61', '2-1-1-2-0', '2-1-1-1-3-3-0-4-42', '2-0-1-1-3-0-0-3-48', '2-0-1-1-1-0-0-4-40', '1-1-2-0-0-0', '2-0-1-1-0-0-0-3-14', '2-0-2-1-3-1-0-4-96', '2-0-1-0-0-2-0-4-5', '2-1-2-0-1-1-0-4-43', '2-1-2-1-0-1-0-3-33', '2-0-2-1-1-1-0-4-3', '2-0-1-1-2-0-0-3-40', '2-0-1-0-0-0-0-4-62', '1-1-1-2-3-3', '2-1-1-1-1-1-0-4', '2-1-2-1-1-1-0-4-37', '2-1-1-1-1-2', '2-0-1-2-1-0-0-4-31', '2-0-1-1-0-0-0-4-40', '2-0-2-1-1-2-0-3-99', '2-0-1-1-1-3-0-4-13', '2-0-2-1-2-2-0-4-63', '2-0-1-1-0-1-0-4-39', '1-0-2-1-3-0-0-4-10', '1-0-2-0-3-1-0-4-58', '2-0-2-0-3-1-0-4-34', '2-0-2-1-3-2-0-4-33', '2-0-1-1-1-1-0-4-71', '1-0-0-1-2-2-1-3-2', '2-0-2-0-1-3-0-4-52', '2-0-2-1-1-0-0-4-77', '1-0-0-1-2-2-0-3', '2-1-2-0-0-1-0-3-75', '1-1-1-1-2-3-0-4', '2-0-2-1-0-2-0-4-66', '2-0-1-0-2-3-0-4-60', '2-0-1-1-2-1-0-4-94', '2-0-2-1-2-2-0-3-72', '1-0-2-1-1-0-0-3-56', '2-0-1-0-2-3-0-4-45', '2-0-2-1-0-0-1-4-5', '1-0-2-1-3-2-0-3', '2-1-2-1-2-0-0-4-93', '2-0-2-0-2-0-0-4-29', '2-0-2-1-2-2-0-3-17', '2-0-2-0-2-2-0-3-29', '2-1-2-0-2-1-0-4-86', '2-0-1-1-1-0-0-3-96', '2-0-2-2-3-3-0-4-41', '2-0-1-1-3-2-0-4-22', '2-1-0-1-1--1', '2-0-1-1-0-2-0-3-41', '2-1-1-1-2-2-0-4-16', '2-0-1-1-0-2-0-4-10', '1-1-2-2-0-1-0-4', '2-1-1-2-0-0-0-4-81', '2-0-2-1-2-2-0-2-77', '2-1-1-0-1-1-0-4-22', '1-0-2-2-2-0-0-4-3', '2-0-1-0-3-3', '2-1-0-1-1-0-0-2', '2-1-0-0-0-2', '2-1-2-1-1-3-1-3', '2-1-1-1-3-0-0-4-97', '1-1-0-1-2', '2-0-2-2-1-1-1-4', '2-0-1-0-2-1-0-4-82', '1-1-2-1-3-1-0-4-2', '2-0-2-1-2-1-0-4-94', '1-0-2-1-0-2-0', '2-1-1-1-1-2-0-4-57', '2-0-1-2-0-1-1-4-1', '2-1-0-0-0', '2-0-1-1-0-0-0-4-46', '2-1-2-2-3-1-0', '2-0-2-0-0-0-0-4-29', '2-0-1-1-0--1-0-3-31', '2-0-2-1-0-1-1-4-6', '2-0-1-1-1-0-0-4-83', '2-1-1-0-2-2-0-4-34', '2-1-2-1-1-0-0-4-36', '2-1-2-1-0-1-0-4-16', '2-1-2-2-1-1-0-4-21', '2-0-2-1-0-3-0-3-17', '2-0-1-0-0-1-0-3-29', '1-1-2-2-0-0-0', '2-0-1-1-2--1-0-3-97', '2-1-1-1-2-0-0-3-19', '2-0-1-0-1-0-0-4-41', '2-0-2-1-0-3-0-4-39', '2-1-2-1-0-0-0-4-99', '1-1-2-1-0-0-0-4', '2-0-1-1-1-0-0-3-39', '2-1-1-1-2-1-0-3-99', '2-0-2-0-1-3-0-3-23', '2-0-2-0-0-0-0-4-26', '2-0-1-1-1-3-0-4-61', '2-1-1-1-2-0-0-4-43', '2-1-1-1-3-3-0-3-5', '2-0-0-1-2-2-0-3-52', '2-0-1-0-3-0-0-3-48', '1-1-2-0-3-2', '2-0-2-2-3-0-0-4-41', '2-1-2-0-0-0-0-4-52', '2-0-2-0-1-3-1-4-10', '2-0-2-0-1-0-0-4-84', '1-0-1-1-1-2-0-3-55', '2-1-1-1-1-0-0-3-34', '2-0-1-1-3-3-0-4-15', '2-0-1-2-3-0-0-4-25', '2-1-1-1-2-3-0-3-45', '2-0-1-1-1--1-0-3-49', '2-1-2-1-3-3-0-4-44', '1-0-2-1-2-1-1-4-8', '2-1-2-1-0-0-0-3-61', '2-0-1-1-2-0-0-4-7', '2-0-2-0-2-1-0-4-4', '2-0-2-0-2-2-1-4', '2-1-1-2-2-1-0-3-44', '2-0-1-1-1-0-0-4-12', '2-0-2-2-1-2-0-3-37', '2-1-2-1-3-1-1-4-4', '2-0-2-1-2-1-0-4-7', '2-0-2-1-0-1-0-4-21', '1-0-1-1-1-1-0-4-40', '2-0-1-1-2-3-0-3-96', '2-0-1-0-1-3-0-4-53', '1-0-2-1-2-1-0-4-86', '2-0-1-1-1-0-0-3-42', '2-1-2-0-0-0-0-3-17', '2-0-0-1-3-0-0-3-88', '2-0-1-2-2-1-0-4-2', '2-1-2-1-0-1-0-3-27', '1-1-1-1-0-0-0-4-46', '1-1-0-1-0-0', '2-1-2-1-1-3-0-4-65', '1-1-1-1-3-1-0-4-6', '1-0-1-1-3-0-0-4-34', '2-1-2-1-3-0-0-4-7', '1-1-1-0-3-0-0-4-35', '1-0-2-1-3-0-0-4-55', '2-0-2-2-0-0-0-4-82', '2-1-1-1-0-0-0-3-12', '2-1-0-0-2-3-0-3-11', '1-0-2-1-3-2-0-3-33', '2-0-0-1-2-1-0-3-86', '2-0-2-1-1-2-0-4-86', '2-0-1-1-0-3-0-4-24', '2-0-2-0-0-0-0-3-32', '2-0-1-0-3-3-0-3-16', '2-1-1-1-0-2-0-3-5', '2-0-1-1-0-3-0-3-38', '1-0-2-0-1-3-0-4', '2-0-1-1-1-2-0-4-90', '2-1-1-2-1-0-0-4-7', '2-1-2-2-1-1-0-3-81', '2-0-2-0-2-3-0-3-93', '2-0-1-0-2-2-0-4-65', '2-0-0-2-1-1-0-4', '2-0-2-1-1-2-0-4-74', '2-0-2-1-0-2-0-4-52', '2-0-2-1-2-1-0-4-79', '2-1-2-1-0-2-0-3-36', '1-0-2-1-2-1', '2-1-2-2-1-0', '1-0-2-1-3-3-0-4-58', '2-1-1-0-2-2-0-4-77', '2-0-1-2-1-0-0-4-36', '2-1-1-1-0-2-0-3-78', '1-0-2-0-3-2-0-3', '2-1-1-2-1-0-0-3-59', '2-0-1-1-1-1-0-4-45', '2-1-0-1-2-3-0-2-65', '1-0-2-1-2-2-1', '2-1-1-1-1-1-1', '2-0-1-2-2-3', '2-0-2-1-0-2-1-4-4', '2-0-1-0-2', '1-0-2-2-1-0-0-3-98', '2-0-2-1-2-0-0-4-49', '2-0-1-1-2-1-0-3-23', '2-0-2-0-2-2-0-4-83', '1-1-0-0-3-0-1-3', '2-1-2-1-1-0-0-4-17', '1-0-0-1-2-2-0-3-100', '2-1-2-1-1-1-0-4-41', '2-1-2-1-2-2-0-3-99', '2-0-1-1-1-3-0-4-45', '2-0-1-2-2-2-0-4-29', '2-1-2-1-1-0-0-4-22', '1-0-0-1-2-0-0-3-84', '2-0-1-2-0-0-0-4-84', '2-0-2-2-2-2-0-4-100', '2-0-2-1-0-0-0-3-98', '2-0-2-1-1-1-0-3-62', '2-1-1-0-2-1-0-4-82', '2-0-1-1-3-0-1-4-2', '2-0-1-0-1-2-0', '2-0-2-0-0--1', '2-1-1-1-2-3-0-4-35', '2-1-2-2-1-1-0-3-16', '2-0-1-1-2-3-0-4-57', '1-0-1-0-3-0-0-3-36', '2-0-2-0-1-0-0-4-23', '2-0-1-1-1-3-0-3-3', '2-0-1-1-0-2-0-3-65', '2-0-0-1-1-0-0-3-32', '2-1-1-2-1-1-0-3-51', '2-0-2-2-0-1-0-4-29', '2-0-2-1-1-', '2-1-0-1-1-', '2-0-1-1-2-2-0-3', '2-0-1-1-3-1-1-3-3', '1-1-1-1-0-0-0-4-49', '2-1-2-2-2-0-0-4-17', '2-1-2-1-2-2-0-4-13', '2-0-1-1-0-1-0-3-65', '1-1-1-1-2-0-0-4', '2-0-1-2-0-0-0-3-43', '2-1-2-2-0-3-0-4-6', '2-0-2-0-2-0-0-4-80', '2-1-1-1-2-1-0-3-6', '2-1-2-2-2-2-0-3-15', '2-0-2-1-0-2-0-4-67', '2-0-2-1-0-0-0-3-97', '2-0-2-1-0-2-0-3-84', '2-0-1-1-0-0-0-4-27', '1-0-1-1-3-3-0-4-86', '1-0-1-0-0-0', '2-1-1-1-1-3-0-4-16', '1-1-0-1-0-0-0-3-98', '2-0-1-2-1-2-0-3-4', '1-0-1-0-3-0-0-3-11', '1-0-0-1-1-2-0', '2-0-2-1-1-2-0-4-81', '2-0-2-1-2-0-0-4-33', '2-0-1-1-1-1-0-3-2', '2-0-2-1-2-2-0-4-28', '2-0-1-1-0-1-0-3-20', '2-0-1-1-3-2-0-4-1', '2-1-1-0-2-1-0-4-95', '1-0-2-2-2-1-0', '1-0-1-1-3-3-0-4-15', '2-1-1-1-0-1-0-4-77', '2-0-1-1-0-1-0-4-62', '2-1-2-1-1-0-0-4-33', '1-0-1-1-0-0-1-3-1', '2-0-2-1-0-2-0-3-72', '2-0-2-1-2-3-0-3-17', '2-0-0-1-1-0-0-2-69', '2-0-2-2-0-0-0-4-35', '2-0-1-1-1-1-0-3-50', '2-0-2-1-1-2-0-3-32', '2-0-1-0-1-1-0-4-8', '2-0-1-1-2-2-0-4-70', '2-0-2-2-0-2-1-4-1', '2-0-1-1-1-1-0-3-78', '2-0-1-1-0-0-0-4-86', '2-1-1-1-2-2-0-3-34', '1-0-2-0-3', '2-1-1-1-0-1-0-3-69', '2-0-1-1-0-1-0-3-11', '2-0-2-0-0-1-0-4-44', '2-1-2-0-1-2-0', '2-1-2-1-0-2-0-4-50', '2-0-1-1-0-2-1-3-5', '2-0-1-0-2-1-0-4-69', '2-0-1-1-0-3-0-3-40', '2-1-2-2-2-2-0-4-15', '2-0-2-1-1-1-0-4-54', '2-0-1-1-1-2-0-4-50', '2-0-0-1-1-1-0-3-44', '2-0-2-1-0-3-0-4-79', '2-0-1-2-3-0-0-4-17', '1-0-1-1-3-1-0-4-49', '2-0-1-1-1-1-0-3-69', '1-1-2-1-3-1-1-4-1', '2-0-1-1-0-0-1-4-2', '1-1-1-0-3-0', '2-0-1-1-2-1-0-3-84', '2-1-1-0-3-1-0-3', '1-1-2-1-3-3-0-3-9', '2-1-2-0-1-1-0-4-61', '1-1-1-1-3-3-1-3-3', '1-0-2-1-3-0-0-4-6', '2-0-2-1-0-3-1-3-2', '1-1-1-1-1-0-0-4-100', '2-0-2-2-1-0-0-4-30', '2-1-2-1-2-1-1-3-8', '2-0-2-1-1-3-0-4-38', '2-1-2-0-0--1-0-3', '2-0-1-0-0-1-0-4-27', '1-0-0-1-2-3-0', '2-1-1-1-2-2-0-4-22', '2-0-2-1-2-3-0-3-37', '2-0-2-1-0-3-0', '2-1-1-0-2-3-0-3-42', '2-0-2-1-0-0-1-4-3', '2-0-1-1-2-3-1-4', '2-0-1-1-1-0-0-3-53', '2-0-2-1-2-2-0-3-92', '2-0-2-2-0-0-0-3-19', '2-0-1-1-1-2-0-3-3', '2-0-1-2-2-0-0-4-81', '2-0-2-0-0-1-0-4', '2-1-1-0-1-0-0-3-18', '2-0-1-0-1-2-0-3-3', '2-1-1-1-0-2-0-3-39', '2-0-2-1-1-1-1-3', '2-0-1-2-1-2-0-4-100', '1-0-0-1-2-2-0-3-66', '2-1-2-1-2-3-0-4-34', '2-0-2-0-2-3-0-4-16', '1-0-0-0-3-2-0-3', '1-0-1-1-2-0-0', '2-0-2-0-0-0-0-4-78', '2-0-1-1-1-3-0-4-63', '1-0-2-1-1-1-0-3', '2-0-1-2-1-1-0-4-72', '1-0-1-1-2-3-0-4-22', '2-0-2-0-0-0-0-3-25', '2-0-1-0-1-3-0-4-75', '1-1-1-0-3-2-0-4-39', '2-1-1-1-1-3-1-4-6', '2-1-1-0-2-0-0-4-27', '2-0-1-1-3-2-0', '1-0-2-2-0-2', '2-0-1-0-1-2-0-4-27', '2-0-2-0-2-2-0-4', '2-1-1-1-0-0-0-3-11', '1-1-2-2-0-1-0', '2-1-1-1-1-2-0-3-42', '2-0-2-1-0-0-0-3-15', '2-1-2-1-2-0-0-4-81', '2-0-1-1-2-1-1-4-3', '2-0-1-1-2-3-0-3-11', '2-0-1-1-2-2-0-3-28', '2-1-2-0-1-2-0-4-77', '2-0-1-1-1-3-0-4-100', '2-0-2-1-1-2-0-4-40', '2-1-2-2-1-2-0-4-41', '2-0-0-1-1-0-0-3-45', '2-1-2-1-0-2-0-3-64', '2-1-2-1-2-1-0-4-90', '2-0-2-1-0-2-0-4-82', '1-0-1-0-3-0-0-4-33', '2-0-1-1-0-3-0-4-39', '2-0-1-2-1-1-0', '2-0-2-1-1-1-0-3-29', '2-0-0-1-1-1-0-3-18', '2-1-2-2-2-2-0-4-78', '2-1-2-1-1-0-0-3', '2-0-1-1-1--1-1', '1-1-2-1-2-0-0-4-31', '1-1-1-1-3-3-0-4-8', '2-0-1-2-1-0-0-4-2', '2-0-1-0-2-1-0-4-33', '2-1-1-1-1-2-0-3-71', '1-0-1-2-0-1-1-4', '2-0-2-0-0-1-0-4-89', '2-0-1-1-2-3-1-4-6', '2-0-1-0-1-1-0-4-31', '2-0-1-1-0--1-0-4-36', '2-0-0-1-0-0-1-2-5', '1-0-1-1-0-2-1-4-1', '1-1-2-1-2-2-0-4-86', '2-1-1-1-1-0-0-3-36', '2-0-0-1-2--1', '2-1-2-1-2-1-0-4-59', '2-1-1-1-2-2-0-4-76', '2-1-2-1-2-1-0-4-9', '2-0-1-1-2-1-0-3-33', '2-0-1-1-2-1-0-4-52', '2-1-2-0-2-1', '2-0-1-0-3-2-0-4-33', '2-0-1-0-0-0-0-3-34', '2-1-2-0-2-1-0-3-35', '2-1-1-0-2-0-0-4-100', '2-0-1-1-3-1-0-3-4', '1-1-2-1-3-0-0-4-99', '2-0-2-1-2-2-0-4-96', '2-0-1-2-1-1-0-4-59', '2-1-2-2-0-3-0-3-41', '2-1-1-1-2-0-0-4-98', '2-1-2-0-0-0-0-4-57', '2-1-0-1-0-0-0-3-17', '1-0-1-1-2-3-0-3-63', '2-0-1-1-0-0-0-3-92', '2-0-2-0-2-0-0-3-9', '2-0-1-0-1-1-0-4-33', '1-0-1-1-2-1-0-4-35', '2-0-2-0-2-2-0-4-43', '2-0-2-2-0-0-0-4-71', '2-1-2-1-0-2-0-3-91', '2-1-0-1-0-1-0-3-26', '2-1-1-2-2-2-0-4-15', '2-0-2-0-2-3-0-4-33', '1-0-1-1-2-0-0-4-88', '2-0-1-1-3-3-1-4', '1-0-1-1-3-0-0-4-61', '2-0-2-1-2-1-0-4-33', '2-1-2-2-1-3-0-3-79', '2-0-1-1-2-1-0-3-3', '2-0-1-0-3-3-0-4-74', '2-1-1-1-2-2-0-3-1', '2-0-1-0-1-2-0-4-58', '2-0-1-1-0-0-0-3-91', '2-0-2-1-1-3-0-3-34', '2-0-2-1-2-0-0-4', '2-0-2-1-0-0-1-4-11', '2-1-2-0-1-2-0-4-99', '2-1-0-0-2-', '2-0-1-1-3-0-0-4-13', '2-1-2-1-2-2-0-4-57', '1-0-1-1-1-0-0-3-52', '2-0-1-0-2-2-0-4-85', '1-1-1-0-0-1-0-4', '2-1-1-1-1-1-0-4-90', '1-0-1-1-3-0-0-4-33', '2-0-2-2-0-1-0-4-82', '2-0-1-0-0-0-1-3', '1-1-2-1-3-1-0-4-36', '1-0-1-1-2-2-0-4-86', '1-1-1-1-0-0-0-3-96', '2-0-1-2-1-0-0-3-38', '2-1-2-1-2-0-0-3-31', '1-0-1-2-3-3-0-4', '2-0-1-1-1-2-0-3-27', '2-1-2-0-2-3-0-4-16', '2-0-1-0-2-0-0-3-1', '2-0-1-1-1-0-0-3-43', '2-0-2-1-0-1-0-4-77', '1-1-1-1-3-3-0-4-45', '2-0-1-1-2-2-0-4-20', '2-0-2-0-2-3-0-4-8', '2-0-1-0-3-1-0-4-51', '2-0-1-2-1-1-0-4-60', '2-0-2-1-2-3-0-3-27', '2-0-0-2-1-0-0-3-47', '2-0-1-1-0-1-0-3-8', '2-0-1-1-0-2-0-4-75', '1-1-1-0-3-1-0-4-8', '2-1-2-1-3-3-0-3-43', '2-0-2-0-2-1-0-4-83', '2-0-1-1-0-3-0-4-79', '2-0-1-1-3-0-1-4-3', '2-1-2-1-1-2-0-3-100', '2-0-2-1-1-0-0-3-84', '2-0-2-0-1-1-0-3-30', '2-1-1-1-2-2-0-4-36', '2-1-2-1-1-3-0-4-82', '2-0-1-0-2-3-1-4-2', '2-1-1-1-3-1-0-4-4', '1-0-1-1-2-0-0-4-84', '1-0-2-1-3-3-0-3-37', '2-0-2-1-0-0-0-4-94', '1-0-1-1-2-3-0-4-82', '2-0-2-0-2-2-0-4-81', '2-0-2-1-2-', '2-1-2-0-0-0-0-4', '1-1-1-0-3-3-0-3', '2-1-1-1-2-1-0-4-30', '2-1-1-0-2-1-0-3-18', '2-1-2-1-2-2-0-4-35', '2-1-1-1-2-1-0-3-64', '2-0-2-0-1-0-0-3-6', '2-1-2-1-2-3-0-4-97', '1-0-1-1-2-0-0-3-54', '2-1', '1-0-2-0-2-3-0-3-1', '2-0-0-0-2-2-0-3-72', '2-0-2-0-1-1-0-4-57', '2-1-2-2-3-3-0-4-81', '2-0-1-1-1-0-0-4-99', '1-1-1-1-2-2-0-4-98', '2-1-1-1-0-1-0-3-27', '2-1-2-1-1-1-0-4-73', '1-0-2-1-0-3-1-3-3', '2-1-1-1-0-2-0-3-100', '2-0-1-0-2-3-0-3-51', '2-0-2-1-2-1-0-3-53', '1-0-0-1-3-1', '1-0-1-1-3-0-0-3', '1-1-2-1-2-3-0-4-77', '2-0-2-1-1-3-0-3-94', '2-1-1-0-3-2-0-4', '2-1-2-0-2-2-0-4-98', '1-0-1-1-2-0-0-4-67', '2-1-1-1-2--1-0-3-14', '2-0-1-1-1-3-0-4-7', '1-0-2-1-3-3-0-4-59', '2-0-2-2-1-3-0-4-80', '2-1-2-1-1-0-0-4-37', '2-0-1-1-1-0-0-4-37', '1-0-1-1-0-0-0', '1-0-1-1-1-1-0-4', '2-0-2-2-0-0-0-4-3', '1-0-2-1-1-3-0-4', '2-1-1-1-2-3-0-4-17', '2-1-1-2-1-2-0-3-44', '2-1-1-1-2-3-0-4-66', '2-0-1-1-1-0-0-3-20', '2-0-0-1-1-1-0', '1-0-2-2-0-1', '2-0-1-1-0-2-0-3-51', '2-0-2-2-1-2-0', '2-0-1-0-2-1-0-3-61', '2-0-1-1-1-2-0-3', '2-0-1-0-1-2-0-4-84', '2-0-2-1-2-2-0-4-97', '2-1-1-0-0-0-0-4-64', '2-1-2-0-2-2-0-3-56', '2-0-1-1-1-1-0-4-52', '1-1-2-1-3-3-0-3-83', '2-1-1-2-2-2-0-4-90', '1-0-2-2-1-3-0-4-100', '2-0-2-1-2-0-0-3-57', '1-0-1-1-0-3-1-4', '2-1-1-1-0-2-0-4-20', '2-0-2-1-2-3-0-3-6', '2-1-2-1-0-0-0-4-26', '2-0-0-1-3-0', '1-1-0-1-2-1', '2-1-1-1-2-1-0-3-39', '2-0-1-1-2-0-0-4-73', '2-1-1-1-0-1-0-3-53', '2-0-2-1-2-0-0-4-11', '2-0-2-1-0-0-0-3-3', '2-0-1-2-1-0-0-3-5', '2-0-1-0-2-0-0-4-39', '2-1-2-1-2-1-0-4-58', '2-1-0-1-3-1-0-3', '2-0-2-1-0-2-0-4-49', '2-0-2-1-3-3-0-3-17', '2-1-1-1-1-0-0-3-32', '2-0-1-1-0-0-0-4-45', '2-0-2-1-0-3-0-4-21', '2-0-1-1-0-3-0-3-63', '2-1-1-0-0-0-0-3-44', '2-0-1-1-1-1-0-4-6', '2-0-2-1-2-1-0-4-48', '2-1-2-2-1-1-0-4-46', '2-1-1-0-2-3-0-4-32', '1-0-1-2-0-0-0-3-98', '2-1-2-1-1-1-0-4-100', '2-0-2-1-2-3-0-3-62', '2-1-1-1-0-0-0-4-72', '2-1-2-1-0-1-0-4-66', '2-0-2-1-2-2-0-4-65', '2-0-2-2-1-2-0-4-34', '2-0-1-1-0-3-1', '2-0-2-1-2-2-0-4-81', '2-1-2-1-2-1-1', '2-0-0-1-3-3-0-3-2', '1-1-2-1-3-2-0-4-99', '2-1-1-1-1-0-0-4-48', '2-0-2-0-0-0-0-4-57', '2-1-2-1-0-0-0-4-69', '2-1-2-1-1-3-0-4-69', '2-0-2-0-1-2-0-3-16', '2-0-0-1-1-1-0-3-98', '2-1-1-1-2-1-0-1-30', '2-1-1-1-2-0-0-4-28', '2-0-2-0-2-1-0-3-55', '1-0-2-0-3-2', '1-1-2-1-3-0-0-4-21', '2-0-1-1-0-2-0-4-85', '1-0-2-0-1-3-0-4-29', '2-0-2-2-1-2-0-4-37', '2-1-1-1-1-1-0-4-64', '2-1-1-0-2-3-0-4-66', '2-1-1-1-1-1-0-4-100', '2-0-0-1-2-3-0-4-21', '1-1-2-1-3-3-0-4-11', '2-1-2-2-1-0-0-4-5', '2-1-2-0-2-1-0-4-20', '2-0-2-0-2-2-0-4-98', '1-0-2-2-2-1-0-4-3', '1-0-2-1-1-2-0', '2-1-2-1-1-1-0-3-83', '2-0-2-0-1-2-0-4-4', '2-0-2-0-1-1-0-4-43', '2-0-2-0-2-0-0-4-50', '2-1-1-0-1-3-0-3-100', '2-0-2-1-2-3-0-4-32', '2-0-2-1-2-3-0-4-36', '2-0-1-2-0-3-1-4', '1-0-1-2-1', '1-1-1-0-3-0-0-3-37', '2-1-1-2-1-2-0-4', '2-0-0-1-1-1', '1-1-1-1-3-3-0-4-48', '2-0-1-0-0-2-0-4-92', '2-1-1-2-1-2-0-4-51', '2-0-2-1-1-1-0-4-75', '2-0-2-0-1-3-0-4-77', '2-0-2-2-2-2-0-4-39', '2-0-1-1-1-3-0-4-76', '2-1-1-1-1-1-0-3-39', '2-1-1-2-0-0-0-4-41', '2-1-2-2-1-1-0-4-6', '2-0-2-0-1-2-0-4-31', '2-1-2-1-1-0-0-4-57', '2-1-0-2-1-2-0-3', '2-1-1-0-2-2-0-3-34', '1-0-1-2-0-1', '2-1-1-1-0-3-0-4-63', '2-1-1-1-0-1-0-4-34', '2-1-1-1-1-3-1-3-5', '2-1-1-1-2-2-0-3-4', '2-1-1-1-1-2-0-4-69', '1-1-1-1-2-3-0-4-56', '2-1-1-1-1-1-0-3-53', '2-0-2-2-1-3-0-3-10', '2-1-2-1-0-0-0-4-41', '2-0-2-2-0-2-0-4-83', '1-0-1-2-0-0', '2-0-1-0-0-0-0-3-37', '2-0-1-1-3-3-0-3-40', '2-1-1-1-3-1-0-3-40', '2-1-1-1-1-0-0-4-1', '2-0-2-1-2-0-0-4-75', '2-0-1-2-1-2-0-4-43', '1-0-1-1-2-0-0-4-60', '2-0-1-2-0-0-0-4-97', '2-0-0-0-3', '2-1-2-1-1-2-0-3-75', '2-0-1-1-1-1-0-3-12', '2-1-2-0-0-', '2-0-2-1-0-1-0-4-22', '2-0-2-1-2-0-0-4-78', '2-0-2-1-2-1-1-4', '2-1-1-1-2-1-0-4-22', '2-0-2-1-1-0-0-4-36', '2-0-2-0-0-1-0-4-34', '2-1-2-1-1-2-0-3-38', '2-0-1-0-2-0-0-3-42', '2-1-2-1-2-3-0-4-32', '2-0-2-1-1-2-0-4-10', '2-0-1-1-1-1-0-3-70', '2-0-2-2-0-3-0-4-45', '2-0-2-1-2--1-0', '2-0-1-1-0-3-0-4-53', '2-0-1-0-2-0-0-4-82', '2-1-1-1-0-2-1-4-6', '2-0-2-1-1-0-0-4-59', '2-0-2-0-2-0-0-3-50', '2-1-1-1-0-1-0-4-53', '2-1-2-1-2-0-0-3-98', '2-1-1-1-1-0-0-4-47', '2-0-0-1-1-1-0-4', '2-0-2-1-1-1-0-3-45', '2-1-2-1-1-0-0-4-58', '1-1-1-0-2-2-0-3-87', '1-1-1-1-3-0-0-4-18', '2-1-1-1-1-0-1-4', '2-0-2-1-0-2-1-4-5', '2-0-0-1-2-0-0-3-74', '2-0-1-1-1-1-0-4-92', '2-1-1-1-2-0-0-4-18', '2-0-1-1-1-2-0-4-28', '2-1-1-2-0-1-0-3-32', '2-0-2-0-3-3-0-4-48', '2-1-2-1-1-0-0-3-34', '2-1-2-2-0-2-0-4-38', '2-0-2-1-2-3-0-3-81', '2-0-1-1-2-3-0-4-96', '2-1-1-1-2-1-0-4-29', '2-1-1-1-2-2-0-4-15', '2-1-1-1-0-0-1-4-1', '1-1-2-1-2-0-0-4-81', '2-1-1-2-0-0-0-3-33', '1-0-2-0-1-1-0-4-100', '2-0-1-2-0', '1-0-0-1-0-0', '1-1-1-2-0-0', '2-1-2-1-1-2-0-3-85', '1-0-2-1-3-0-0-4', '2-0-1-2-0-3-0-3-84', '2-1-1-1-2-1-0-4-33', '1-1-2-1-2-1-0-4-61', '2-1-1-1-0-0-0-4-64', '2-0-2-0-2-3-0-4-93', '2-1-2-0-1-0-0-4-4', '1-0-1-0-2-3-0-4', '2-0-1-1-1-1-0-3-35', '2-0-1-2-1-3-1-3', '2-1-1-1-2-0-0-4-26', '1-0-2-1-3-0-0-4-68', '1-0-1-1-1-1-0-3', '2-0-1-1-0-0-0-3-76', '2-0-2-2-0-0-0-4-52', '2-0-1-1-1-2-1-4-1', '2-0-2-0-0-0-0-4-85', '2-0-2-1-1-1-0-4-61', '2-0-1-1-1-2-0-3-35', '2-0-0-0-1-1-0-3-67', '2-0-1-1-1-1-0-3-25', '1-0-2-1-1-2-0-4-5', '2-1-1-1-3-0-1-4-3', '2-0-1-1-1-3-0-3-98', '1-1-1-1-2-3-0-4-15', '1-1-1-1-2-1-0-4-45', '2-0-2-1-1-3-0-4-24', '2-0-2-2-2-2-0-4-76', '2-0-1-1-0-3-1-4-3', '2-1-1-1-3-2-1-4-5', '1-0-1-1-1-0-0-4-56', '1-0-2-0-3-0-0-4-37', '2-0-1-1-0-1-1-4-3', '2-0-1-2-1-2-0-3-68', '2-0-1-2-3-0-0-3-25', '1-0-1-1-2-0', '1-1-2-1-2-0-0-4-25', '1-1-0-0', '2-0-1-1-2-3-0-3-70', '2-1-1-0-2-1-0-4-16', '2-0-0-1-0-3-0-3-41', '2-0-2-1-2-2-0-4-53', '1-1-2-1-2-2-0-4-99', '2-0-1-1-1-2-0-4-46', '2-1-2-1-0-0-0-3-5', '2-0-2-2-1-1-0-4-2', '2-0-1-0-3-1', '2-0-2-1-3-0-0-4-4', '2-0-1-0-2-1-0-3-1', '2-0-1-1-3-0-0-4-16', '2-0-2-1-0-0-0-4-13', '2-0-1-1-3-1', '2-0-2-0-0-2-0-3-13', '2-0-2-0-1-1-0-4-44', '2-0-0-0-3-3', '1-1-1-1-0-2-0-3-36', '2-1-1-0-3-2-0-3-22', '2-0-1-2-0-1-0-3-80', '1-0-2-1-2-0-1', '2-0-1-1-2-0-0-3-60', '2-1-1-1-0-2-0-4-46', '2-0-2-2-2-2-1-3-4', '2-0-2-0-0-0-0-1-95', '2-0-1-1-1-1', '2-0-1-1-3-1-0', '2-1-2-1-1-3-0-4-63', '2-0-1-1-0-1-0-4-35', '2-1-1-0-2-3-0-4-59', '2-0-2-1-1-2-0-4-17', '1-1-2-0-0-0-0-3-96', '2-0-1-1-0-2-0-4-44', '2-0-2-2-3-1-0', '2-0-2-1-1-3-0-4-13', '2-1-2-1-0--1-0', '2-1-1-1-2-1-0-4-49', '2-0-2-0-2-0-0-3-13', '2-0-1-1-0-0-0-4-13', '2-0-0-0-2-3', '2-1-1-1-1-2-0-4-67', '2-1-2-1-3-2-0', '1-0-2-1-2-2-1-4-11', '2-1-2-1-1-3-0-4-7', '2-1-1-1-1-3-0-3-6', '2-1-1-1-2-0-0-3-31', '2-0-2-1-2-2-0-4-5', '1-1-2-1-2-3-0-3-55', '2-0-2-2-0-3-0-3-8', '2-0-1-1-1-2-0-3-41', '2-0-1-1-2-2-0-4-40', '2-0-2-1-0-2-0-3-58', '2-1-1-1-0-3-0-3-41', '2-1-1-0-2-2-0-4-7', '2-0-1-0-2-2-0-4-16', '2-0-2-0-2-0-0-4-99', '2-1-1-0-1-0-0-4-85', '2-0-2-1-3-0-0-4-53', '1-1-2-1-3-3-0-3-67', '2-0-1-1-1-1-0-4-100', '1-0-2-1-1-1-0-3-97', '2-0-1-0-1-3-0-3-81', '2-0-1-1-3-0-0-4-57', '2-1-1-1-0-2-0-4-79', '1-1-1-1-2-1-0-4-22', '2-0-2-0-0-2-0-4-13', '2-1-1-0-0-0-0-4-81', '2-0-1-1-0-0-0-4-92', '2-1-0-1-2-3', '2-0-2-1-2-3-0-4-53', '2-0-2-0-1-2-0-3-79', '2-0-1-2-0-0-0-4-79', '2-0-2-2-0-0-0-4-17', '1-0-1-1-2-1-0-4-64', '2-0-2-1-1-3-0-3-56', '1-1-2-1-3-3-0-4-36', '1-0-2-1-0-2', '2-1-1-1-0-0-0-3-41', '2-0-1-0-1-0-0-4-64', '1-1-1-1-3-1-0-3-99', '2-1-1-1-2-2-1-3-6', '1-1-1-2-3', '2-0-2-1-2-1-0-4-87', '2-1-2-1-0-0-0-3-65', '2-1-1-0-0-0-0-4-77', '1-1-1-1-2-2-0-3-7', '2-0-1-0-1-0-0-3-46', '2-0-1-1-3-0-0-4-3', '1-0-2-1-2-2-1-4-3', '2-1-1-1-2-2-0-3-42', '2-0-2-0-0-2-0-4-79', '1-0-1-0-1-1-0-4-52', '2-0-2-0-0-0-0-3-79', '2-1-1-1-0-2-0-4-30', '2-0-1-1-0-0-0-3-21', '2-1-2-2-1-1-0-4-17', '1-0-0-1-2-0-1-3', '2-0-1-0-1-0-0-2', '2-1-2-1-0-2-0-4-49', '2-0-1-0-0-0-0-3-90', '2-0-2-2-0-2-1-4-9', '2-0-1-1-0-1-0-4-96', '2-0-1-1-0-1-0-4-41', '2-0-2-0-0-1-0-4-13', '2-1-1-1-1-0-0-4-64', '2-0-1-1-1-0-0-4-69', '2-1-2-1-1-2-0-4-65', '2-0-1-1-2-1-0-4-76', '2-1-1-1-0-1-0-3-7', '2-0-1-1-0-3-0-3-41', '2-0-1-1-2-2-0-4-75', '2-0-2-0-2-2-0-4-13', '2-0-1-1-1-3-0-4-99', '2-1-1-0-1-3-0-4-44', '2-1-2-1-2-1-0-4-50', '2-0-1-1-2-1-0-4-83', '2-0-2-0-1-0-0-4-42', '2-1-1-1-0-3-0-4-87', '2-0-2-2-1-3-0-4-82', '2-0-1-1-0-0-0-3-44', '2-0-1-1-1--1-0', '2-0-1-1-0-3-0-4-33', '2-0-2-1-2-2-0-4-70', '2-0-2-2-0-2', '1-1-2-1-1-0-0-4-51', '2-0-2-1-0-0-0-4-1', '2-1-0-1-1-0-0-3-7', '1-0-2-1-3-1-0-4-8', '2-0-0-1-1-3-0-3-5', '2-1-2-0-2-3-0', '2-0-0-1-2-0-0', '2-1-1-1-0-1-0-3-41', '2-0-1-1-2-1-0-4-37', '2-0-1-1-1-0-0-3-24', '2-1-1-2-1-0-0-3', '2-0-1-1-1-2-0-4-5', '2-0-1-1-3-3-0-4-34', '2-0-1-0-3-2-0-4-100', '2-0-2-1-1-1-0-1', '2-1-2-1-2-1-0-4-76', '2-1-1-1-2-2-0-4-7', '2-1-2-0-2-3-0-3-19', '2-0-1-1-0-0-0-3-63', '2-0-1-0-2-3-0-4', '1-0-1-1-2-0-0-4-41', '2-0-1-0-2-3-0-4-99', '2-0-2-0-3-0-0-4-99', '2-1-2-0-1-1-0-3-50', '2-0-1-0-3-1-0-4-100', '2-1-2-1-1-3-0-4-71', '2-0-1-0-1-2-0-4-95', '2-1-1-0-3-1-0', '1-0-2-1-2-1-0-4-21', '2-0-2-0-0-0-0-4-73', '2-0-1-1-1-1-0-3-4', '2-0-1-1-3-1-0-4-36', '2-0-2-0-2-3', '2-0-2-0-1-0-0-4-86', '1-0-2-1-2-1-0-4-33', '2-1-1-0', '2-1-2-1-2-0-0-4-80', '2-0-0-0-2-1-0-3-80', '2-0-1-0-1-2-0-4-75', '1-0-2-1-3-2', '1-0-1-2-0-3-1-4', '1-0-0-1-3-0-0-3-18', '2-1-0-1-1-2-0-3-13', '2-0-2-0-1-1-0-4-67', '2-0-1-0-1-1-0-3-34', '2-1-0-1-0-1-0', '2-0-1-1-1-1-0-4-51', '2-0-1-1-1-3-0-4-23', '2-0-1-2-2-1-0-3-2', '2-1-2-1-1-3-0-3-45', '2-1-1-1-2-1-0-4-40', '2-0-1-2-0-2-1-4-9', '2-1-2-1-1-0-0-4-34', '1-0-1-2-1-3', '1-0-1-0-3-3-0-4-11', '1-1-2-1-0-2-0-4', '2-0-2-2-0-1-0-4-34', '2-0-2-1-1-3-0-4-23', '2-1-1-1-0-0', '2-0-2-1-3-1-0-4-49', '2-0-1-1-2-', '2-0-1-1-0-0-0-4-96', '2-1-1-1-0-2-0-4', '2-1-1-1-2-1-0-4-4', '1-0-0-1-3-2-0-3-10', '1-0-2-1-2-2-0-4-83', '2-0-2-1-1-0-0-3-17', '2-0-1-0-2-2-0-4-27', '2-0-1-1-0-0-0-3-11', '2-0-2-1-1-2-0-4-52', '2-0-2-1-1-3-0-3-62', '1-1-1-1-0-3-0-3', '2-1-1-1-2-2-0-4-5', '2-1-2-1-2-0-0-3-38', '2-0-0-0-3-3-0-3-74', '2-0-1-1-0-2-0-4-72', '2-0-1-0-1-0-0-3-41', '2-1-1-1-3-2-0-3-44', '2-1-2-2-1-3-0', '2-1-2-1-1-0-0-4-2', '2-0-1-1-1-3-0-4-69', '2-0-2-0-3-0-0-4-34', '2-1-2-2-0-0-0-3-70', '2-1-2-2-1-3-0-3', '2-1-0-1-2-1-0-3-76', '2-1-1-0-1-2-0-4-1', '2-0-0-0-2-1-0-3', '2-0-1-1-1-2-0-4-36', '2-1-2-2-0-0-0-4-26', '2-1-2-1-1-1-1-4-8', '2-0-0-1-1-2-0-3-95', '1-1-1-1-0-0-0-3-34', '2-0-1-2-2-3-0-3-67', '1-0-1', '2-0-1-0-1-0-0-4-61', '2-1-2-0-1-3-0-4-3', '2-1-1-0-2-1-0-4-29', '1-1-2-0-2-0-0-4-60', '2-0-2-1-1-0-0-3-10', '2-1-2-1-2-1-0-4-96', '1-1-1-1-3-0-0-4-2', '2-0-2-2-0-0-0-4-58', '1-1-2-1-2-3-0-4-52', '2-0-1-0-0-0-0-4-61', '1-0-1-2-3-0-0-4-54', '2-1-1-1-2-3-0-4-12', '2-1-1-2-1-0-0-3-30', '1-0-1-1-2-2-0-4-22', '2-0-1-1-0-1-0-4-61', '2-0-2-1-2-2-0-4-85', '2-1-1-1-2-1-0-4-55', '2-1-1-1-2-3-0-4-33', '1-0-2-1-1-1-0-4-99', '2-1-2-0-1-1-0-4-50', '2-0-0-0-2-2-0-3-14', '2-1-2-1-3-1-0-4-29', '2-1-1-1-0-0-0-4-63', '2-1-1-0-2-2-0-3-54', '2-1-2-1-0-0-0-4-40', '2-1-1-1-2-3-0-4-94', '2-1-2-2-2-3-0-4-6', '2-0-2-0-1-2-0-4-9', '2-0-1-0-3-0-0-3-100', '1-0-2-0-3-3-0-4', '2-0-2-1-1-1-0-3-9', '1-0-2-1-3-0-0-3-96', '2-0-1-1-2-1-0-4-72', '2-0-2-0-1-2-0-4-35', '2-0-1-1-0-1-0-4-13', '2-1-0-1-0-', '1-1-0-0-3-0-0-3', '1-1-2-2-2-0-0-4', '2-1-2-2-0-3-0-4', '2-0-2-0-1-3-1', '2-0-2-1-1-2-0-3-45', '1-0-2-2-3-3-0-4-16', '2-1-2-1-1-1-0-3-6', '2-1-2-2-0-0-0-4-93', '1-0-1-1-3-0-0-4-23', '2-0-2-2-0-0-0-4-10', '2-0-2-1-1-1-0-4', '2-1-2-0-2-3-0-4-5', '2-0-2-2-1-0-0-4-48', '2-0-2-2-1-0-0-4-4', '2-0-0-1-0-0-0-3-52', '1-0-1-0-2-2', '1-1-2-1-3-2-0-4-20', '2-0-2-2-1-0-1-4-3', '2-0-1-1-0-3-0-4-43', '2-1-2-2-1-1-0-4-7', '1-1-1-0-2-0-0-4-52', '2-1-0-1-0-0-0-4-79', '1-0-1-1-3-3-0-3-63', '2-1-1-1-3-3-0-3-87', '2-0-1-1-0-1-0-4-44', '2-0-1-1-1-3-0-3-50', '2-1-2-1-1-1-0-4-6', '2-1-1-1-2-3-0-4-98', '1-0-0-1-2-3', '2-0-1-1-3', '1-0-1-2-0-1-1', '2-1-1-1-2-1-0-3-4', '2-0-0-1-0-1-0-3-11', '2-1-1-0-0-2-0-4-42', '2-0-2-1-2-2-0-3-21', '2-0-1-1-0-0-0-1-44', '2-0-2-0-2-1-0-4', '2-0-1-1-0-1-0-3-59', '2-0-1-0-0-2-0-4-3', '2-1-1-1-1-2-0-4-58', '2-1-1-1-3-1-1-4-3', '2-1-1-2-0-2-1', '1-0-1-1-1-0-0-3-51', '2-0-2-0-1-3-0-3-4', '1-0-2-2-2-3-1-3', '1-0-2-1-2-1-0-3-100', '2-1-2-1-1-3-0-4-42', '2-1-2-1-2-1-1-3', '2-1-1-2-1-3-0-3-47', '2-1-1-1-0-1-0-3-11', '2-0-1-1-1-3-0-4-8', '1-1-2-1-3-1-1-4', '2-1-2-1-1-2-0', '1-0-2-1-2-3-0-3-86', '2-1-2-2-2-1-0', '2-0-0-1-0-0-1-2', '2-1-2-2-2-1-0-4-17', '1-0-1-1-3-0-0-3-57', '1-0-2-1-3-0-0-4-35', '2-0-2-1-1-1-0-4-18', '2-0-1-2-2-2-0-4-38', '2-1-2-1-0-1-0-4-9', '2-1-1-1-2-2-0-4-53', '2-0-2-0-2-0-0-3-100', '2-1-1-1-3-0-0-3-91', '2-0-1-1-2-1-0-4-57', '2-1-2-1-2-0-0-4-69', '2-1-2-1-2-3-0-3-75', '1-1-1-0-3-3-0', '2-1-0-1-2-0-0-3-22', '2-0-1-0-1-1-0-4-17', '2-0-1-1-2-2-0-4-15', '2-0-2-2-0-2-0-3-73', '2-0-2-1-2-3-0-3-12', '2-1-1-1-3-2-0-3-97', '2-0-2-2-1-0-0-4-34', '2-1-1-0-2-0-0-4-79', '1-0-1-1-2-2-1-3-1', '2-0-2-1-0-0-0-3-51', '2-0-2-1-0-2-0-4-64', '2-1-1-0-2-2-0-4', '1-0-2-1-3-3-0-4-15', '2-0-1-2-1-1-0-4-2', '1-1-2-1-3-2-0-3-100', '2-0-1-0-3-3-0-3-14', '2-0-1-0-1-0-0-4-55', '2-0-1-0-2-3-0-3-100', '2-0-1-1-0-1-1', '1-0-2-0-0-3-1-4-3', '2-0-2-0-2-1-0-4-85', '2-0-2-1-2-0-0-4-8', '2-1-1-1-3-3-0-4-29', '2-0-1-1-0-3-0-4-9', '1-1-0-1-1-0-0-3-53', '2-0-1-1-1-0-0-3-66', '2-1-1-1-1-0-0-3-5', '2-1-2-1-3-1-0-4-42', '2-0-1-0-0-0-0-4-40', '2-1-2-1-2-1-0-4-27', '2-0-2-1-2-3-0-3-67', '2-0-1-1-1-3-1-4-7', '2-0-1-1-1-1-0-4-27', '2-1-2-1-1-1-0-4-72', '1-1-2-1-2-2-0-3-98', '2-0-2-2-0-2-0-4-100', '2-0-2-2-0-3-0-3-73', '1-0-2-1-2-0-0-4-53', '2-0-2-0-1-3-0-4-10', '2-1-1-1-1-0-0-3-77', '2-0-2-2-3-0-0-4-40', '2-0-2-1-2-0-0-3-65', '2-0-2-1-2-3-0-3-19', '2-1-1-1-0-3-0-4-98', '2-0-2-0-1-3-0-4-26', '2-1-2-1-2-3-0-4-51', '2-0-1-2-1-1-0-3-47', '2-1-1-2-0-0-0-4', '2-0-1-1-0-3-0-3-43', '2-0-1-1-2-2-0-3-29', '2-0-2-1-0-1-0-3-13', '2-0-0-0-0-', '2-1-1-1-0-0-1-3-9', '2-0-2-0-0-0-0-4-67', '2-1-2-0-2-1-0-4-8', '2-0-1-0-2-2', '2-1-1-1-2-1-0-3-94', '2-0-2-0-1-2-0-4-100', '1-1-1-1-3-1-0-4-53', '2-0-2-0-0-1-0-4-30', '2-0-1-1-2-1-0-4-7', '2-0-1-0-0-0-0-3-66', '2-0-2-1-0-2-0-4-100', '2-1-2-1-2-0-0-3-70', '2-1-0-1-0-0-0-3-39', '2-1-2-0-0-1-0-4-87', '2-1-2-2-3-3-0-4', '2-1-2-0-2-1-0-4-6', '2-1-0-1-1-1-0-3', '2-0-2-0-0-2-0-3-100', '2-0-2-1-1-0-0-4-39', '2-1-1-1-1-3-0-4-41', '2-1-2-1-1-3-0-4-20', '2-0-0-2-1-1-0-4-93', '1-0-1-2-3-0-0-4-74', '2-1-1-1-2-1-0-4-78', '1-0-2-1-3-2-0-4-62', '2-0-1-2-1-0-0-4-46', '2-1-2-1-0-1-0-4-53', '2-0-1-1-0-3-0-3-75', '2-0-1-1-0-3-0-4-100', '2-1-1-0-1-0-0-4-100', '2-1-1-0-1-1-0-4-86', '2-0-1-1-1-3-0-3-37', '1-0-1-1-3-1-0-4-50', '2-1-2-1-0-1-0-4-19', '2-0-1-0-1-0-0-4-54', '2-0-1-1-1-2-0-4-68', '1-0-2-0-3-2-0-4-17', '1-1-2-1-3-0-1-4', '2-0-2-0-0-2-0-4-59', '2-0-1-2-1-3-0-4-44', '2-1-1-1-0-0-0-3-54', '2-0-1-1-0--1-0-3-56', '2-0-2-1-0-3-1-4-1', '2-1-1-1-2-2-0-4-19', '2-1-2-1-0-1-0-3-100', '1-1-1-2-0-0-0', '2-0-1-1-1-3-0-4-68', '1-0-2-1-3-3-0-3-24', '2-0-2-1-1-1-0-3-1', '2-0-2-1-0-0-0-4-27', '2-0-1-1-0-2-0-4-67', '2-1-1-2-1-1-0-4-47', '1-0-2-2-1-1-0-4-51', '2-0-2-1-2-3-0-4-42', '2-0-1-1-0-3-0-4-36', '2-0-2-1-1-1-0-4-24', '2-1-1-1-2-2-0-4-26', '2-1-1-1-1-3', '2-1-2-0-1-1-0-4-5', '2-0-2-1-0-3-0-4-91', '2-1-2-1-2-2-0-4-21', '1-1-1-0-2-2', '1-0-1-1-2-3-0-4-33', '2-1-1-1-1-0-0-4-33', '2-0-1-0-0-2-0-3-75', '1-0-2-1-2-1-0-3-25', '2-0-1-1-1-0-0-4-81', '2-0-1-1-3-0-0-3-74', '2-1-1-1-1-2-0-3-19', '2-1-1-1-0-0-0-4-80', '2-0-1-0-2-2-0-4-11', '1-0-1-0-3', '1-0-2-2-2-1-0-4-87', '2-0-2-0-2-3-0-4-69', '2-0-1-0-1-2-0-3-97', '2-1-1-1-1-2-0-4-99', '2-0-2-1-2-2-0-4-7', '2-1-1-1-1-0-0-4-86', '2-0-1-1-0-2-0-4-42', '1-1-2-1-3-0-0-3-55', '2-1-1-2-0-3-1', '1-0-2-1-2-3-0-4-32', '2-0-2-2-0-0-0-4-43', '2-1-1-1-2-3-0-4-53', '2-1-1-1-3-0-0-4-5', '2-0-2-1-1-1-0-4-25', '2-1-1-1-2-3-0-4-3', '1-0-1-1-3-2-0-4-60', '2-0-0-0-3-1-0-3-56', '2-0-1-0-1-2-0-3-33', '2-0-1-2-1-3-1-4-5', '2-0-2-2-1-0-0-4-70', '1-0-0-1-1-0-0-3-56', '2-0-1-1-2-1-0-3-43', '1-0-2-1-1-1-0-4-51', '2-0-2-1-3-2-0-4-21', '2-1-1-1-1-2-1-3-6', '2-1-0-1-0-0-0-3-19', '2-0-2-1-1-1-0-3-38', '1-0-1-1-1-2-0-4-99', '2-0-1-0-0-3-0-4-75', '2-0-2-1-2-2-0-4-90', '1-0-1-0-3-1-0-3-18', '2-1-2-0-0-2-0-4-92', '2-1-1-0-3-1-0-4-24', '2-1-2-1-0-3-1-4', '2-0-2-1-3-1-0-4-3', '2-0-2-1-0-0-0-3-87', '2-1-1-1-1-0-0-3-18', '1-0-1-1-3-1-0-4-25', '2-0-1-1-1-0-0-3-15', '1-0-2-1-3-3-0-4-33', '2-1-2-1-0-0-0-4-18', '2-0-2-1-2-2-0-4-10', '2-1-2-1-1-3', '2-1-1-1-2-1-0-4-20', '2-0-1-0-1-0-0-4-22', '2-0-1-0-2-3-0-3-83', '2-0-2-2-0-1-0-3-58', '1-1-1-0-3-3-0-4-6', '2-0-2-0-2-0', '2-0-1-0-2-1-0-4-41', '1-0-1-1-1-1-0-4-50', '1-0-2-1-0-0-0-4-95', '2-0-2-0-3-0-0-3', '2-1-1-0-0-1-0-4-77', '2-0-2-0-3-1-0-3-100', '2-0-1-1-1-0-0-1-95', '2-0-2-1-0-2-0-3-91', '2-1-2-1-0-2-0-3-63', '2-0-2-1-0-0-0-4-50', '1-0-1-0-0-2-0-4-100', '2-0-0-1-2-1-0-3-66', '1-0-1-1-2-3-0-4-23', '2-0-1-2-1-3-0-4-18', '1-1-1-0-2-0-0-4-22', '1-0-0-0-3-2', '2-0-1-1-0-1-0-4-11', '2-0-1-0-0--1', '2-0-1-1-1-0-0-3-79', '2-0-1-1-2-3-0-3-31', '1-0-0-1-3-0-0-3-20', '2-0-1-1-1-1-0-3-80', '2-1-2-0-0-0-0-3-19', '2-1-1-1-2-0-0-3-30', '2-1-2-0-1-0-0-4-39', '2-0-2-1-3-3-0-4-4', '1-0-1-1-0-0-0-4-45', '2-0-1-2-0-2-0-4-96', '2-1-1-0-1-0-0-3-73', '2-1-2-1-2-2-0-4-11', '2-1-1-1-0-0-0-3-23', '2-1-1-1-0-0-0-3-89', '1-0-2-1-3-0-0-4-34', '1-0-2-1-0-0-1', '2-1-2-0-2-2-0-3-88', '2-0-1-1-0-0-0-4-90', '2-0-1-0-3-3-0-3-99', '1-1-1-1-2-0-0-3-24', '2-1-1-1-0-0-0-3-38', '2-0-1-0-0-2-0-4-77', '2-0-2-2-0-2-0-4-34', '2-1-2-1-0-0-0-4-55', '2-0-2-0-1-1-0-3-89', '2-0-2-1-0-2-0-4-61', '1-0-2-1-2-3-0-4-42', '2-0-2-0-0-0-0-3-2', '2-0-2-1-0-2-0-4-37', '2-1-2-1-2-0-0-4-79', '2-1-2-1-2-1-0-4-26', '2-1-2-2-0', '2-0-0-1-2-0-0-3-45', '1-0-2-1-3-0-0-3-13', '2-0-1-1-1-3-0-4-11', '2-0-1-1-1-0-0-3-9', '2-0-2-1-2-2-0-4-46', '2-1-2-1-0-3-0-4-53', '2-0-1-1-2-2-0-4-62', '2-1-2-0-0-1-0-3-39', '1-0-1-2-0-2-1', '2-1-2-1-0-0-0-3-53', '2-1-1-1-1-3-0-4-49', '2-0-1-2-0-0-0-4-25', '2-1-2-2-1-3-0-3-61', '2-1-2-0-1-2', '2-0-1-1-0-0-0-3-25', '2-1-0-1-1-1-0-3-1', '2-0-2-1-2-3-0-4-54', '2-0-2-1-1-1-0-4-65', '2-0-1-2-0-1-0-3-36', '2-0-1-1-2-3-0-3-13', '2-0-2-2-1-3-0-4-74', '2-0-1-0-3-1-0-4-53', '2-1-0-1-2-1-0-3-100', '2-0-2-1-3-1-0-4-1', '2-1-2-2-0-3-0-4-14', '2-0-1-2-1-1-0-4-30', '2-0-2-1-3-1-0-3-53', '2-1-2-1-2-1-0-4-31', '1-0-1-1-1-0-0-4-3', '2-1-1-1-1-3-0-4-24', '1-0-1-2-1-3-0-4-100', '1-0-2-1-3-1-0-3-42', '2-0-1-1-2-3-0-4-53', '2-0-1-0-2-0-0-4-84', '2-0-1-2-0-', '2-0-1-0-1-3-0-4-33', '1-1-1-1-2-0-0-4-60', '2-0-2-1-1-3-0-4-35', '2-0-1-1-1-1-0-3', '1-0-2-2-2-0-0-3-87', '2-0-1-1-0--1-0-3-49', '2-1-1-1-1-0-0-3-43', '1-0-2-1-3-2-0-4-17', '2-0-1-0-1-0-0-4-93', '2-0-1-1-0-0-0-4-64', '2-0-1-0-2-0-0-3-55', '2-0-1-1-1-0-0-3-28', '2-0-1-1-2--1-0-3-7', '2-0-1-1-3-0-0-4-2', '2-0-1-1-0-2-0-4-94', '1-1-1-1-3-1', '2-0-2-2-2-2', '2-0-2-1-0-2-0-3-35', '2-0-2-1-2-3-0-4-11', '2-0-1-1-0-1-0-4-90', '2-1-2-1-0-2-0-4-98', '2-0-2-1-0-1-0-4-82', '2-0-2-0-3-2-0-4-39', '2-0-1-2-0-0-0-3-4', '1-0-1-1-2-3-0-3-3', '2-0-1-1-2--1', '1-1-2-1-3-0-0-4-42', '2-1-1-0-0-1-0-3-4', '2-1-1-0-1-0-0-4-4', '2-0-0-1-1-1-0-3-32', '2-0-2-0-0-0-1-4', '2-0-2-1-1-0-0-3-70', '1-1-1-2-2-0-0-4', '2-0-1-1-1-3-0-4-58', '2-0-1-0-0-2-0-3-37', '2-1-0-1-2-2-0', '1-0-1-1-3-0-0-4-29', '2-1-2-0-0-1-0-4-75', '2-1-1-2-3-1-0-4-43', '2-1-1-1-1-3-0-4-35', '2-0-1-0-1-1-0-4-93', '2-0-1-1-0-0-0-3-31', '2-1-1-2-3-0-0-4-44', '2-0-0-0-1-0-0-3-70', '1-0-2-1-3-0-0-4-39', '2-0-1-1-2-2-0-3-34', '1-0-1-1-3-0-0-3-9', '2-0-2-1-2-2-0-3-62', '2-1-1-1-0-3-0-4-31', '2-1-1-1-1-2-0-4-96', '2-1-1-1-2-3-0-4-2', '1-0-1-0-3-0-0-4-18', '2-0-2-0-2-2-0-3-47', '1-1-0-1-2-2', '2-0-2-2-0-1', '2-1-1-1-1--1-0-3-60', '2-0-1-0-0-0-0-4-77', '1-1-2-1-0-1-0-4', '2-0-1-1-2-1-0-4-68', '2-1-2-1-1-3-0-3-72', '2-1-1-1-0-2-0-4-51', '2-1-1-1-0-1-0-4-61', '2-0-1-1-2-1-0-3-46', '2-0-1-0-1-2-0-4-89', '2-0-1-1-1-2-0-4-17', '2-1-2-0-0-2-0-4-56', '2-0-1-0-1-2-0-3-58', '2-0-1-1-0-3-0-4-97', '1-0-1-1-3-0-0-3-58', '2-0-1-1-1-2-0-4-79', '2-0-2-1-0-1-0-4-95', '2-1-2-1-0-1-0-3-78', '2-1-0-1-2-3-0-3-36', '2-0-2-1-0-1-0-3-88', '1-1-1-2-2-2-0-3-60', '2-0-2-1-0-2-0-4-93', '2-0-1-2-0-0-0-4-55', '2-0-1-1-1-2-0-4-29', '2-0-2-1-2-1-0-4-74', '2-0-1-1-2-2-0-4-97', '2-0-2-1-1-0-1-4', '1-0-2-2-2-3-0', '2-0-1-1-2-3-0-4-50', '2-0-1-0-0-1-0-4-98', '1-0-2-1-2-3-0-3-65', '2-1-2-1-0', '2-0-1-1-2-0-0-4-32', '2-0-2-0-0-1-0-4-99', '2-1-2-0-2-2-0-4-14', '2-1-1-0-0-2-0-3-42', '1-0-0-1-1-0-0-3', '2-0-2-2-1-2-0-3-5', '2-0-1-1-2-0-0-4-82', '2-1-1-1-1-0-1-4-2', '2-1-1-2-1-1-0-4-55', '1-1-1-1-2-3-0-4-54', '2-0-1-1-0--1-0-3-21', '1-1-1-0-3-2-0', '2-1-2-1-0-0-0-3-19', '2-0-2-2-1-1-0-3-72', '2-0-2-1-0-3-0-4-33', '2-0-1-0-2-2-0-4-33', '2-1-1-2-3-2-0-4-81', '1-0-1-1-2-1-0-4-98', '1-0-1-1-2-0-0-4-1', '2-1-2-2-0-1-0-3', '2-1-1-0-0-2', '2-0-0-1-2-0-0-3-82', '2-0-2-2-1-0-0-4-39', '1-0-1-1-2-3-0-4-63', '2-0-1-2-1-3-0-4-80', '2-0-2-1-1-0-0-4-52', '2-0-1-2-0-1-0-3-100', '2-1-1-0-2-2-0-4-31', '1-0-2-2-0-1-0-4', '1-0-1-0-3-0-0-3-32', '2-1-0-2-0-0-0-3-88', '2-0-2-1-0-0-0-3-45', '1-1-2-1-3-3-0-4-100', '2-0-0-1-2-3-0-3-3', '2-0-1-1-0-2-0-3-23', '2-1-1-1-2-2-0-3-30', '2-1-1-2-2-2-0', '1-0-1-0-1-2', '2-0-2-0-2-3-0-3-37', '2-0-1-1-0-2-0-4-62', '2-0-2-0-2-2-0-3-17', '2-1-2-1-0-2-0-4-64', '2-0-2-1-1-3-0-3-100', '2-0-1-0-2--1-0', '2-1-1-1-3-1-1-3-4', '2-0-2-0-3-1-0-4-2', '2-1-1-2-3-3-0', '1-0-2-1-2-3-0-3-44', '1-1-0-1-2-2-0-3-56', '2-1-2-1-0-1-0-4-88', '2-0-1-0-3-3-0-3-51', '2-1-2-0-1-3-0-3', '1-0-1-1-2-0-0-3-99', '2-0-2-1-1-0-0-3-36', '2-0-1-0-1-1-0-4-81', '2-0-1-1-0-0-0-4-85', '2-1-1-0-2-0-0-3-56', '2-1-1-1-2-1-0-4-38', '2-0-1-1-2-0-0-4-62', '2-0-1-1-0-1-0-3-52', '2-0-2-2-1-1-0-4-30', '2-1-1-1-0-0-0-3-66', '1-1-2-2-2-0-0-4-87', '2-0-2-1-1-1-1-4-1', '2-0-1-2-0-0-0-3-55', '1-0-2-1-0-1-0', '1-1-2-2-2', '2-0-0-1-2-0-1-4', '2-1-1-1-0-3-1-4-1', '2-1-2-1-2-1-0-3-5', '1-1-2-0-3-1-0', '2-0-2-0-0-1-0-4-75', '2-1-2-0-1-1-0', '2-0-1-2-1-0-0-4-24', '2-1-2-1-1-0-0-4-27', '2-0-1-1-2-0-0-3-62', '1-0-2-1-2-3-0-3-87', '2-0-2-0-3-0-0-4-51', '2-0-1-1-0-2-0-3-69', '2-0-1-1-2-3-0-4-32', '1-0-2-1-2-3-0-4-73', '2-1-1-1-2-3-0-4-95', '2-1-1-0-0-1-0-4-64', '2-1-2-0-2-0-0-4-81', '1-0-2-2-3-3-0-4-14', '2-0-1-2-3-2-0-3', '2-0-1-0-1-1-0-3-100', '2-1-2-1-3-3-0-4-43', '2-0-0-1-0--1-0-3', '2-0-1-1-3-1-0-4-88', '2-0-1-2-2-0-0-4-68', '2-0-0-1-1-2-0-2-100', '2-1-2-1-1-1-0-3', '2-1-1-2-3-3-0-4-45', '2-1-1-1-1-2-0-4-50', '1-0-0-1-1-0', '2-0-2-1-1-3-0-4-55', '2-0-1-1-2-2-0-3-85', '2-0-2-0-0-1-0-3-51', '1-0-1-0-2-3-0-4-38', '2-1-1-1-1-1-0-4-86', '2-1-1-1-2-1-0-4-41', '2-0-0-1-2-2-0-4-18', '2-1-0-1-1-2-1-3', '2-0-1-1-1-3-0-4-75', '1-1-1-1-2-1-0-4-48', '2-1-0-1-2-', '2-1-2-2-0-3-0-4-100', '2-1-1-2-0--1-0-3-32', '2-1-2-2-2-0-0-4-67', '2-1-2-2-0-0-0-3', '1-0-0-1-1-3-0', '2-0-1-1-1-2-0-4-8', '2-0-1-0-2-0-0-4-72', '2-1-2-1-0-1-0-4-87', '2-1-2-1-2-3-0-3-100', '2-0-2-0-1-2-0-3-100', '2-0-1-0-2-3-0-4-79', '2-1-1-1-3-0-0-4-41', '1-0-1-0-3-2-0-4-11', '2-1-2-1-1-1-0-3-100', '2-1-1-1-0-0-0-4-25', '2-1-2-1-0-1-0-3', '2-0-2-1-2-1-0-4-29', '1-0-2-1-1-2-0-4-97', '2-0-1-0-2-1-0-4-10', '2-1-2-1-2-3', '2-0-2-0-2-2-0-4-63', '2-0-2-1-2-3-0-3-52', '2-0-1-1-2-0-0-3-64', '1-1-1-1-2-3-0-3-45', '2-0-0-1-0-1-0-3-46', '2-1-2-0-2-2-0-4-94', '2-1-1-1-1-0-1-4-6', '2-1-2-1-1-0-0-4-43', '1-1-1-0-2-0-0', '1-1-0-0-3-0-0-3-35', '2-0-1-1-1-0-0-3-45', '2-0-1-1-0--1-0-3-93', '2-0-1-1-2-3-0-4-43', '2-1-0-1-1-0-0', '2-1-2-1-3-3-0-4-29', '2-0-2-0-2-2-0-3-100', '2-0-2-1-0-1-0-4-35', '2-1-2-1-0-0-0-4-20', '2-0-1-0-2-0-0-4-80', '2-1-2-2-1-1-0-4-16', '2-0-1-1-0-1-0-4-86', '2-1-2-1-1-0-0-4-49', '2-0-1-1-1-1-0-3-7', '1-0-2-2-2-1-0-3', '1-0-1-1-1-3-0-3', '1-1-1-1-1-2-0-4-53', '2-0-0-0-1-2-0', '2-0-1-0-1-2-0-4-25', '2-1-1-0-0-3-0-4-31', '1-0-2-0-2-2-0-4-75', '2-0-1-0-1-0-0-4', '2-0-1-1-2-1-0-4-31', '2-0-2-2-2-3-1-4-4', '2-1-1-2-3-0', '2-1-1-0-2-2-1-4-4', '1-1-2-0-3-0-0-3-35', '2-1-2-1-1-0-0-4-45', '2-0-1-1-2-0-0-3-97', '2-1-2-1-0-0-0-4-34', '2-0-1-1-1-2-0-4-52', '1-0-1-1-3-1-0-4-37', '2-1-2-1-0-0-0-3-35', '2-1-2-1-0-0-0-4-48', '2-0-2-1-0-1-0-3-21', '1-0-2-1-1-2-0-3-100', '2-1-2-1-0-2-0-3-39', '2-1-1-1-0-0-0-4-41', '2-1-1-0-0-1-0-4-42', '2-1-1-1-0-0-0', '2-1-1-2-0-0-0-4-12', '2-1-2-1-0-0-0-3-78', '2-1-1-1-2-0-0-4-99', '1-1-0-1-2-3', '2-1-2-1-2-2-0-4-10', '2-1-1-2-3-3', '1-0-2-1-1-1-0-4-59', '2-0-2-0-2-2-0-3-45', '2-0-2-1-1-0-0-4-87', '2-0-1-1-3-2-1', '1-1-1-1-3-0-0-3', '2-1-2-1-0-3-0-4-16', '2-0-2-0-2-2-0-4-62', '2-1-1-0-0-0-1-3', '2-1-2-1-0-2-0-3', '2-0-1-0-1-3-0-3-4', '2-1-1-0-2-0-0-4-7', '2-0-2-1-2-1-0-4-64', '2-1-1-1-0-1-0-4-28', '2-0-0-0-1-1-0', '2-0-1-1-3-3-0-4-93', '1-1-2-1-2-2-0-3-23', '2-0-2-0-2-1-0', '2-1-2-0-1-0-0-4-50', '2-0-1-0-2-3-0-4-39', '2-1-2-0-1-2-0-4-2', '2-0-2-1-2-2-0-3-59', '1-0-1-1-1-0-0-4-100', '2-0-2-1-2-0-0-4-86', '2-0-2-1-3-2-0-4', '1-1-0-1-0-1-0-3-34', '2-1-2-1-0-0-0-4-12', '2-0-1-1-0-3-0-4-40', '1-0-2-1-3-0-0-4-4', '1-1-1-1-1-3-0-4-52', '2-1-1-1-3-0-0-4', '2-1-1-1-2-1-0-4-90', '1-0-2-1-3-0-0-3-40', '2-0-1-0-2-3-0-3-12', '2-0-1-2-2-1-0-4-29', '2-1-2-0-2-0-0-3-5', '2-0-1-1-2-2-1', '2-1-2-0-2-1-0-4-31', '2-1-1-1-2-2-0-4-32', '1-0-2-2-3-1-0-4-37', '2-0-1-2-1-1-0-3-4', '2-0-1-0-3-3-0-4-100', '2-1-1-0-2-3-0-4-34', '2-1-1-1-1-3-0-4-38', '1-1-1-1-1-2-0-3-98', '2-1-1-1-2-1-0-4-16', '1-1-2-2-3-1-0-4', '2-0-2-1-2-1-0-4-81', '2-1-1-1-1-0-0-4-43', '2-1-2-1-2-1-0', '2-0-2-1-2-3-0-4-41', '2-1-2-1-2-0-0-4-36', '2-0-1-2-3-2', '2-0-1-1-2-0-0-4-79', '2-0-1-2-1-0-0-3-1', '2-0-2-1-1-0-0-4-71', '1-1-1-1-3-3-0-4-47', '2-0-2-2-2-1-0-4-36', '2-1-1-1-1-2-0-3-7', '2-0-1-1-1-2-0-4-42', '2-0-1-0-1-0-0-3-28', '2-0-1-0-0-0-0-3-35', '2-0-2-1-2-1-0-4-75', '2-1-0-1-1-2-0-3-99', '2-0-1-0-1-1-0', '1-1-1-0-3-3-0-4-38', '1-0-2-0-3-3-0-4-11', '2-1-1-1-2--1-0-3-48', '2-1-2-2-2-0-0-3-39', '2-0-2-1-3-0-0-3-35', '2-1-2-2-1-1-0-3-38', '2-0-1-2-3-2-0-4-31', '2-1-2-0-2-2-0-4-16', '2-0-1-1-0-2-0-3-56', '2-1-2-1-2-1-0-3-37', '2-0-1-1-1-1-0-4-35', '2-0-2-0-2-0-0-4-27', '2-0-2-1-1-0-0-4-13', '2-0-0-2-0-0', '1-1-0-0-0', '2-1-0-1-2-3-0-4-15', '2-0-2-1-2-0-0-3-63', '2-0-1-1-1-1-0-4-83', '2-1-1-2-1-1-0-4-51', '2-0-2-1-1-1-0-3-37', '2-0-1-1-0-0-1-3-7', '2-0-1-0-3-0-0-4-34', '1-1-2-2-0-1-0-4-48', '2-1-1-1-0-0-0-4-46', '2-0-2-1-1-2-0-3-7', '2-1-1-1-1-1-0-3-12', '2-0-2-1-3-3-0-3-86', '2-1-1-2-2-1-0-4-19', '2-0-1-1-2-0-0-3-98', '2-1-2-1-3-3-0-4-10', '2-1-1-1-1-3-0-3-21', '2-0-1-1-1--1-0-3-37', '2-0-1-1-1-3-0-4-49', '2-1-1-1-0-3-0-3', '2-1-2-1-1-0-0-3-44', '1-1-2-1-2-3-0-4-60', '2-0-2-0-0-1-0-4-79', '2-0-1-1-0-2-0-3-12', '2-0-2-0-1-0-0-4-57', '2-0-0-1-1-0-0-4-7', '2-0-1-1-2-3-0-4-60', '2-0-1-1-2-3-0-1', '2-0-1-1-2-3-0-3-81', '1-1-1-1-3-3-0-4-49', '2-1-2-1-2-3-0-3-12', '2-1-2-1-2-2-0-4-18', '2-1-2-0-1-0-0-3-61', '2-0-2-0-1-0-0-4-9', '1-0-1-1-0-0-1-4-1', '2-0-1-1-1-3-0-3-87', '2-1-1-0-1-0-0', '2-1-1-1-1-2-0-4-37', '2-1-2-1-0-0-0-4-33', '2-0-2-2-1-3-0-4-86', '2-0-1-1-2-3-0-4-25', '2-0-1-0-0-0-0-4-37', '2-0-1-1-1-3-0-3-58', '2-1-1-2-0--1-0-3', '1-0-2-0-2-0-0-4-34', '2-0-1-0-0-0', '2-0-2-1-0-1-0-3-41', '2-0-2-1-2-0-0-3', '1-1-0-1-1', '2-0-2-0-2-3-0-4-39', '2-1-1-2-2-2-0-4-38', '2-0-2-0-2-3-0-3-21', '2-0-2-1-3-0-0-3-52', '2-0-1-1-1-1-0-4-32', '2-0-1-0-0-0-0-4-100', '2-0-0-1-3-3-0-3-46', '2-1-1-0-2-2-0-3-42', '2-0-1-1-2-3-0-4-16', '2-1-2-1-0-0-0-4-24', '2-0-1-0-2-2-0-3-52', '2-0-1-1-1-2-0-4-61', '2-0-1-1-0-0-0-4-24', '1-0-1-0-3-1-0-4-33', '2-0-1-1-2-1-0-4-61', '2-1-1-1-1-1-0-4-29', '1-0-1-1-3-1-0-4-60', '1-0-2-2-1-2-0', '1-0-1-1-1-0-0-3-40', '2-0-1-0-1-1-0-4-55', '2-0-1-1-0-2-0', '2-0-0-1-0-0-0-3-5', '2-0-1-0-3-3-0-4-87', '2-0-1-1-3-1-0-4-42', '2-0-1-1-2-0-0-3-43', '2-1-1-0-0-3-0-4-57', '2-0-2-1-1-3-0-3-30', '2-1-1-1-2-3-0-3-65', '2-1-2-0-1-1-0-3-9', '2-1-1-1-1-3-1-4-1', '2-1-2-1-0-0-0-4', '1-1-1-1-0-0-0-4-34', '2-0-1-1-1-3-0-4-82', '2-0-2-1-0-1-0-4-74', '2-1-1-2-0-0-0-4-38', '1-0-2-1-2-1-0-3-53', '2-1-1-0-2-3-0-3', '1-0-2-1-2-2', '2-0-1-1-2-3-0-4-58', '1-1-2-2-3-3', '2-0-1-0-3-1-0-4', '2-0-2-2-1-1-0-4-21', '2-0-1-1-1-0-0-3-25', '2-0-2-2-1-2-0-4-7', '1-0-2-2-2', '2-0-0-0-0-0-0-3', '2-1-2-1-0-1-0-4-73', '1-0-2-1-3-0-0-3-64', '2-0-1-0-0-2-0-3-67', '1-1-1-1-3-0-0-4-64', '2-0-1-2-0-0-0-3-62', '2-0-1-1-2-1-0-4-47', '2-1-2-1-1-3-0-4-39', '2-0-0-1-2-1-0-3-81', '2-0-1-1-1-3-0-4-30', '2-0-1-1-0-1-0-4-30', '2-0-2-1-2-3-0-4-4', '2-0-2-0-2-0-0-4-54', '2-1-1-1-1-2-0-4-4', '2-0-1-1-0-1-0-3-98', '2-0-1-1-1-1-0-4-98', '2-0-1-0-0-0-1-3-1', '2-0-1-0-2-2-0-4-76', '2-0-2-2-3-2-0-4-2', '1-1-0-0-3-0', '1-0-1-1-0-0-0-4-99', '2-0-2-1-3-2-0-3', '1-1-2-1-3-0-0-4-16', '2-1-2-1-0-1-0-4-5', '2-0-1-0-2-0-0-4-74', '2-1-1-0-0-1-0-4-80', '2-0-0-1-2-2-0-2-98', '2-0-1-0-2-0-0-4-95', '2-1-2-0-0-0-0-3-57', '2-1-2-1-2-3-0-4-30', '1-0-0', '2-1-2-1-0-0-1-4-3', '2-0-2-2-1-2-0-3-33', '1-0-2-1-0-0', '1-0-2-1-0-1-0-4-21', '2-0-2-1-0-2-0-4-39', '2-1-2-0-2-2-0-4-48', '2-0-1-1-1-3-0-4-32', '2-0-1-1-2-1-0-3-27', '2-1-1-1-1-3-0-4-97', '2-1-1-2-3-0-0-4-42', '2-1-2-0-1-1-0-4-37', '2-0-2-1-2-0-0-4-38', '1-1-2-1-2-0-0-3-49', '2-0-2-0-1-0-0-3-97', '2-0-2-1-1-2-0-1', '2-0-1-2-2-2-0-4-100', '2-0-1-2-0-2-0-4-34', '1-0-1-1-1-0-0-3', '2-0-2-2-1-2-0-4-11', '1-0-1-2-3-3-0-4-73', '2-0-1-1-1-0-0-1-76', '2-0-1-0-1-0-1-3', '2-0-1-0-1-3-0-4-62', '2-1-2-2-1-2-0-3-42', '1-0-1-1-3-2-0-4-25', '2-0-1-0-2-3-0-4-44', '2-0-2-1-0-0-0-3-42', '2-1-1-1-2-3-0-4-15', '2-1-2-1-0-3-0-3-13', '2-0-0-1-0-1-0', '2-1-2-1-2-2-0-4-42', '1-0-2-0-3-0-0-4-33', '2-0-2-1-1-2-0-4-16', '1-0-1-0-3-0-0-4', '2-1-2-1-1-1-0-3-35', '2-0-2-1-1-1-0-4-64', '1-1-2-2-3-0-0', '2-0-2-0-2-0-0-4-73', '2-0-2-1-0-2-0-3-45', '2-1-2-1-2-2-0-4-50', '2-0-2-1-1-2-0-3-17', '2-1-2-1-0-1-0-4-34', '2-0-1-1-1-1-0-4', '2-0-2-1-2-3-0-3-35', '2-0-2-1-2-2-0-4-73', '2-1-1-1-2-0-0-4-76', '2-0-2-1-2-2-0-3-33', '2-0-1-1-0-3-1-3-1', '2-1-0-1-1-0-0-4', '2-0-1-1-2-3-0-4-91', '2-0-2-0-1-2-0-3-56', '2-1-2-1-0-1-0-4-78', '2-0-1-1-0-1-0-4-98', '1-0-0-1-3-3-0-3-21', '2-0-2-1-1-3-0-4-5', '1-1-2-1-2-3-0-4-5', '2-1-1-2-1-1-0-4', '2-0-1-0-2-0-0-4-78', '2-0-1-1-1-1-0-3-14', '2-0-2-1-1-0-1-3-8', '2-1-1-1-2-1-0-3-17', '2-0-1-0-2-0-0-4-33', '2-1-2-0-0-2-0-3-86', '1-1-2-1-2-0-0-4-61', '2-0-2-1-1-1-0-3-71', '2-1-1-1-0-3-0-4-9', '2-0-2-1-0-2-0-4-99', '2-1-1-1-1-1-0-4-9', '2-0-2-2-2-1-0-4-24', '2-1-2-1-2-0-0-3-6', '1-0-1-1-1-1-0-3-58', '2-0-1-2-1-2-0-3-32', '2-0-2-1-3-0-0-4-51', '2-1-2-1-2-0-0-3-17', '2-1-0-0-2-2', '2-1-2-0-0-0-0-3', '2-1-1-0-2-2-0-4-53', '2-0-1-1-2-3-0-3-17', '2-1-1-1-2-0-0-3-51', '2-1-2-2-3-1-0-4-81', '2-0-2-1-0-3-0-4-42', '2-0-1-1-0-0-0-3-90', '2-1-1-1-2-3-0-4-97', '2-0-2-1-1-2-0-4-69', '1-0-1-1-2-0-1-4-1', '2-0-1-1-1-0-0-4-55', '2-0-1-1-1--1-0-3-91', '2-0-1-1-2-3-0-3-95', '2-1-1-1-2-1-0-4-82', '2-1-2-1-0-2', '2-0-0-2-0-0-0-3-81', '2-0-2-2-2-3-0-4-47', '2-0-2-2-0-2-1-4', '2-1-2-2-1-2-0-4-44', '2-0-2-1-0-1-1-3-1', '2-1-2-1-1-0-1-4-7', '1-0-0-0-3-0', '2-1-2-1-1-0-0-4-20', '1-0-2-1-3-0-0-4-99', '2-0-0-1-0-3-1', '2-0-1-1-2-0-0-3-94', '2-0-1-0-2-1-0-3-52', '2-0-1-0-2-0-0-4-79', '2-1-1-1-0-0-0-3-32', '2-0-2-2-0-0-0-3-77', '2-0-1-1-2-1-0-3', '1-0-1-1-2-3-0-4-86', '2-1-2-1-1-1-0-4-25', '2-0-1-0-1-3-0-4-63', '2-1-1-1-2-1-0-4-96', '2-0-1-1-2-1-1-3-1', '2-1-1-1-2-3-0-4-14', '2-0-1-2-2-1-0-4-97', '2-0-1-1-2-1-0-4-14', '1-0-0-1-3-1-0-3-58', '2-1-1-1-0-2-0-3-52', '2-1-2-1-2-3-0-4-12', '2-1-1-1-0-0-0-4-24', '2-0-1-1-1-1-0-4-84', '2-0-1-1-0-1-0', '1-0-2-2-3-3-0-3-58', '2-0-2-1-1-2-0-4', '2-0-1-0-0-3-0-4-90', '2-1-1-0-0-0-0-3-79', '2-1-1-1-0-2-0-4-53', '2-1-2-1-3-0-0-3-43', '2-0-1-1-0-2-0-4-19', '2-0-2-1-2-0-0-3-10', '2-1-0-1-1-0-0-3-20', '1-1-0-1-1-3-0-3-100', '2-0-1-0-1-1-0-3-40', '1-1-1-0-2-1-0', '1-1-2-1-2-2-0-4-33', '1-0-1-2-3-0-0-4-99', '2-1-1-1-0-0-0-4-85', '1-0-0-0-3-0-0', '2-1-1-1-2-2-0-3-57', '1-0-2-2-0-1-1-4', '2-1-1-1-1-0-0-4-76', '2-0-2-0-3-3-0-3-39', '1-0-2-0-2-0-0-4-73', '2-0-1-1-0-1-0-4-75', '2-0-2-1-2-0-0-4-37', '2-0-2-0-0-0-0-4-39', '2-0-1-1-1-2-0-4-38', '2-1-1-1-0-0-0-3-100', '2-0-1-0-1-2-0-3-26', '2-0-1-2-1-0-0', '2-1-2-0-0-0-0-4-98', '2-0-1-1-0-0-0-4-22', '1-0-2-2-1-2-0-3-52', '2-1-2-2-2-3-0-4-14', '2-0-2-1-3-3-0-4-34', '1-1-1-0-2-2-0', '2-0-1-2-0-0-0-4-83', '1-0-2-2-0-1-0', '2-0-1-1-2-3-0-3-42', '2-1-2-2-0-3-0-3-38', '1-1-1-0-3-2-0-4-37', '1-1-0-1-2-0-0-3-46', '2-0-2-1-1-2-0-3-2', '2-0-2-1-2-1-0-4-93', '2-0-1-1-2-3-0-4-13', '1-0-0-1-3-1-0-4', '2-1-2-0-2-1-0-3-88', '2-1-1-0-2-3-0-4-8', '2-1-2-0-0-0-0-4-32', '1-0-2-1-3-2-0-4-43', '2-0-2-1-0-2-0-4-60', '2-0-1-1-0-3-0-4-49', '1-1-1-1-3-1-0-3-25', '2-1-2-1-0-1-0-3-48', '1-0-2-0-2', '2-1-1-2-2-3-0-3-54', '2-0-2-0-2-1-0-3-100', '1-0-2-1-3-0-0-4-56', '2-0-2-2-2-0-0', '1-0-2-0-3-3-0-4-30', '2-0-1-1-1-0-0-3-59', '2-1-1-1-2-1-0-4-13', '2-0-0-1-2-2-0-3-76', '2-0-2-1-0-1-0-3-42', '2-0-2-0-0-3-0-4-24', '2-0-2-1-0-3-0-4-94', '1-0-1-1-0-0-1-3', '2-0-2-1-1-2-0-4-75', '2-1-1-2-0-0-0-4-42', '1-1-1-1-1-3-0-4', '2-0-1-1-1-2-0-4-6', '1-1-2-1-2-1-0-3-52', '2-1-2-0-2-1-0-4-94', '1-0-2-1-2-0-0-4-23', '2-0-2-2-1-1-0-4-10', '2-0-1-1-1-2-0-3-16', '2-0-1-0-2-0-0-3', '2-0-2-1-2-1-0-4-14', '2-0-1-0-0-0-0-4-15', '2-0-1-1-0--1-0-3-25', '2-0-1-1-0-1-0-3-79', '2-0-2-0-1-1-0-4-47', '2-1-2-0-1-1-0-4-48', '2-0-2-2-1-3-0-4-72', '1-0-0-1-3-0-0-3-30', '2-1-1-1-3-3-0-4-27', '2-0-1-0-1-1-0-4-98', '2-0-1-1-0-0-0-3-59', '2-0-2-1-1-2-0-4-29', '2-0-1-1-1-1-0-4-7', '2-0-2-1-0-1-1-4-2', '2-0-2-0-1-1-0-4-33', '1-1-1-2-2-2', '2-0-1-0-2-2-0-3-7', '2-1-1-2-0-2-0-3-22', '2-0-1-2-1-2', '1-0-1-1-2-3-0-4-66', '2-1-1-2-2-3-0-4-96', '2-1-1-0-1-0-0-4-1', '2-0-1-0-2-1-0-4-52', '2-1-1-1-1-0-0-3-10', '1-0-2-1-2-3-0-4-65', '1-0-2-2-1-0-0-4', '2-0-1-0-3-3-1-3-7', '2-0-1-2-0-2-0-4-80', '2-0-2-2-0-2-0-4-46', '2-1-2-1-2-1-0-4-22', '2-0-1-0-3-0-0-4-74', '2-0-1-1-2-0-0-3-53', '1-1-2-1-3-3-0-4-98', '1-0-1-1-2-3-0-3-61', '2-0-2-1-1-0-0-3-44', '2-1-1-0-1-0-0-4-9', '2-0-2-2-1-0-0-3-4', '2-0-2-1-2-0-0-3-37', '2-1-2-0-0-0-0-4-86', '2-0-1-2-2-2-0-3-80', '2-0-1-1-3-3-0-4-87', '2-1-1-0-2-0-0-4-11', '2-1-2-1-0-3-0-4-98', '2-0-2-1-0-1-1', '2-1-1-1-1-0-0-4-19', '1-0-2-0-0-2-0-4', '2-1-1-0-2-3-0-4-70', '2-0-2-1-1-3-0-4', '2-0-1-0-2-0-0-4-37', '1-0-1-1-2-0-0-4-58', '2-0-1-0-1-1-0-3-1', '1-0-2-1-1-2-0-3-51', '1-1-1-1-3-2-0-4-18', '2-0-2-1-1-3-0-4-83', '2-0-1-1-2-0-0-3-2', '2-0-2-1-0-2-0-4-11', '2-1-2-1-0-2-0-4-16', '2-1-2-1-3-1-0-3', '2-1-2-1-0-2-0-4-78', '2-1-2-1-2-0-0-4-40', '2-1-2-0-0-0-0-4-79', '2-0-0-1-1-0-0-3-61', '2-1-0-0-1--1-0', '2-0-2-1-2-0-0-4-16', '2-0-1-0-2-2-0-4-100', '1-0-1-1-2-2-0-4-56', '2-1-2-1-2-3-0-3-10', '1-1-1-1-2-1-0-4-98', '2-1-2-0-0-1-0-4-95', '2-1-1-0-0-3-1-4', '2-0-1-2-2-0-0-3-39', '2-1-1-1-1-1-0-4-19', '2-0-1-1-3-3-1-4-3', '1-1-1-0-3-0-0-4-37', '1-0-1-1-1-0-0-4-53', '2-0-2-1-1-0-1-3', '2-0-2-1-0-3-0-4-13', '2-0-2-0-1--1-0-3', '1-0-2-0-1-1-0-4-29', '1-0-2-1-3-2-0-3-55', '2-1-1-1-1-2-0-3-11', '1-0-2-1-1-0-0-4-4', '2-1-2-1-1-0-0-4-50', '2-0-1-0-1-0-0-4-36', '2-0-1-2-3-0-0-4-42', '2-0-1-1-2-3-0-3-83', '2-0-1-1-1-2-0-4-71', '2-1-0-1-2-1-0-4', '2-0-0-1-0--1-1-3', '1-1-2-1-0-3-0-3', '1-0-1-2-1-2-0-4-100', '2-0-1-0-2-3-0-3-79', '2-0-2-1-0-0-0-3-68', '2-0-2-0-1-1-0-3-61', '2-1-1-1-1-0', '2-1-1-1-0-2-1-4-3', '2-1-1-1-1-0-0-4-38', '2-0-2-1-0-0-0-4-95', '2-1-0-1-0--1-0', '2-0-0-1-2-2-0-2-72', '2-0-2-2-0-1-1-4-1', '1-0-2-0-2-1-0-4', '2-0-1-1-0-0-0-4-76', '2-1-2-0-0-0-0-4-61', '1-0-2-1-3-3-0-4-5', '2-1-1-1-1-1-0-4-61', '2-1-2-2-2-3-0-3-61', '1-1-2-0-2-1', '1-0-1-2-0-3-1-3', '2-0-1-1-0-2-1', '2-1-1-0-3-0-0-4-22', '2-0-1-0-1-2-0-3-59', '2-1-1-1-0-0-0-3-52', '2-0-2-1-2-1-0-3-15', '2-0-1-0-1-0-0-3-8', '2-0-1-1-2-1-0-4-33', '2-0-1-1-0-2-0-4-69', '2-0-1-1-2-0-1-3-3', '2-0-2-1-3-0-0-4-52', '2-1-1-1-2-3-0-4-38', '2-0-2-2-1-0-0-3-19', '2-0-2-2-1-2-0-3-15', '2-1-1-1-2-0-0-4-5', '2-0-1-1-2-2-0-3-77', '2-0-0-1-1-2-0-3-60', '2-1-1-0-2-1-0-4-31', '2-1-2-1-1-0-0-3-19', '2-1-1-1-0-3-0-4-16', '2-0-1-0-1-1-0-4-87', '2-1-0-1-2-0-0-3', '1-0-1-1-2-2-0-4-85', '2-0-1-1-0-3-0-4-41', '2-1-1-1-0-1-1-4-1', '2-1-1-1-2-2-0-4-77', '2-0-2-2-1-1-0-4-49', '1-0-2-1-3-0-0-4-19', '2-0-1-1-1-1-0-3-10', '2-1-1-0-1-0-0-4-6', '2-1-2-0-2-1-0-3-78', '2-1-1-1-2-0-0-4-2', '2-0-1-0-2-2-0-3-99', '2-0-1-1-2-1-0-4-81', '1-1-1-1-3-3-0-4-66', '2-1-1-1-2-2-0-4-58', '1-0-1-0-3-1-0-3-13', '2-1-2-2-1-3-0-4-85', '2-0-2-0-0-2-0-4-37', '2-1-2-1-1-2-0-4-5', '1-0-2-1-3-3-0-4-39', '2-0-2-1-1-0-0-3-55', '2-1-1-1-1-1-0-3-54', '2-0-1-1-0-0-0-3-65', '2-0-1-2-1-0-0-3', '2-0-1-0-0-2-0-3-98', '1-0-2-2-2-2-1', '2-1-1-0-2-1-0-4-99', '1-0-1-1-1-2-0-4-57', '2-0-2-0-1-1-0-4-89', '2-0-2-2-2-0-0-4-75', '2-0-2-1-2-0-0-3-76', '1-0-1-0-2-1-0-3', '2-1-2-1-2-0-0-3-100', '1-0-2-1-2-0-0-4-33', '2-0-2-1-0-0-0-3-38', '1-0-2-1-3-0-0-4-20', '2-0-2-1-2-0-0-3-38', '2-1-2-0-0-3-0-4', '2-1-0-2-0-0-0-4', '2-1-2-1-1-3-0-4-28', '2-0-2-1-0-2-0-3-27', '2-0-2-0-2-1-0-4-21', '2-1-2-1-3-0-0-4-4', '2-0-1-0-0-0-0-4-69', '2-1-1-1-2-3-0-4-62', '2-0-2-0-2-0-0-2', '2-1-1-1-2-1-0-4-28', '2-0-2-1-0-3-0-4-52', '2-1-1-1-1-1-0-3-81', '1-0-2-1-0-1-0-4-57', '2-1-1-1-1-1-0-3-47', '2-0-2-1-2-2-0', '2-0-1-0-2-3-1-4-3', '2-1-1-1-1-2-1-3', '2-1-2-1-2-2-0-3', '2-0-2-0-0-0-0-4-51', '1-1-1-2-2-0-0', '2-1-1-0-2-0-0-3-14', '2-0-2-1-2-1-0-3-34', '2-0-2-0-3-1-0-4-56', '2-1-2-1-1-1-0-4-92', '2-0-0-1-1-0-0-3-39', '1-0-1-1-3-3-0-4-67', '1-0-1-1-2-2-0-3-100', '2-1-2-0-2-1-0-4-11', '2-0-1-2-1-0-0-3-98', '2-0-2-0-0-0-0-3-39', '2-1-2-1-2-0-0-4-37', '1-0-2-1-1-0-0-3-44', '2-1-1-2-3-0-0-4-1', '2-0-1-1-0-2-0-4-50', '2-1-1-0-3-3-0-4-44', '2-0-2-2-0-0-1-4-4', '2-0-2-1-0-1-0-4-40', '2-0-2-1-2-0-0-4-26', '2-0-1-1-2-1-0-4-44', '2-0-2-1-1-1-0-4-22', '2-0-1-0-3-3-0-4-86', '2-1-1-1-3-2-0-3-40', '1-0-1-2-1-1', '2-0-1-0-0-3-0-4-7', '2-0-0-1-2-0-0-3-18', '2-1-2-0-2--1-0', '2-0-2-0-2-2-0-4-45', '2-0-2-0-1-1-0-4-2', '2-1-2-1-1-3-0-4-1', '2-1-1-0-2-1-0-4-25', '1-0-1-1-1-0-0-3-1', '2-0-2-1-0-2-0-3-65', '2-0-2-0-3-3-0-4-6', '2-0-1-1-0-0-0-4-10', '2-0-2-1-2-1-1-4-6', '2-0-2-2-3-3-0-4-4', '2-1-1-1-3-0-0-3', '2-0-1-1-1-0-0-3-63', '2-1-2-1-2-2-0-4-81', '1-0-1-0-3-0-0-3-17', '1-0-1-1-2-3-0-4-72', '2-0-2-2-0-0-1-3-9', '2-1-2-1-1-3-0-4-33', '2-1-2-1-2-3-0', '1-0-1-1-1-3-0-4-3', '2-0-1-0-2-2-0-3-78', '2-0-2-0-1-0-0-4-80', '1-0-2-1-3-1-0-4-39', '2-1-2-1-0-', '2-0-1-0-0-0-0-3-91', '2-0-2-1-1-0-0-3-26', '2-0-0-1-0-1-0-2-99', '2-1-2-2-0-1-0-4-80', '2-1-1-1-0-0-0-3-1', '1-0-2-1-2-3-1-4-9', '2-0-1-1-0-2-0-3-38', '2-1-2-1-2-1-0-3-15', '2-0-1-1-3-1-0-4-35', '2-1-2-1-0-0-0-3-38', '2-0-1-0-0-0-0-4-47', '2-0-1-1-1-2-0-4-43', '2-0-2-2-0-3-1-3', '1-0-1-0-1-3', '2-0-2-1-1-3-1-4-9', '2-1-1-0-3-0-0-4-2', '2-1-1-2-3-2-0-4', '2-0-1-1-1--1-0-3-93', '2-0-1-1-2-2-0-4-67', '2-1-2-0-2-3-0-3-20', '2-0-2-1-0-0-0-3-19', '2-0-1-1-1-3-0-4-84', '1-0-1-1-3-3-0-4-2', '2-1-2-0-1-2-0-3-28', '2-0-0-1-0-0-0-3-4', '2-0-2-0-2-0-0-4-7', '2-1-2-2-0-0-0-4', '2-0-1-1-0-0-0-4-97', '2-0-2-0-2-2-0-4-10', '2-1-1-1-1-2-0-3-61', '2-1-1-1-0-0-0-4-69', '2-0-1-1-0-0-0-4-95', '2-1-1-1-1-3-0-4-70', '2-0-2', '1-1-1-1-3-2-0-4-37', '2-1-2-1-0-3-1-4-9', '2-0-2-1-1-0-0-3-99', '2-1-1-1-1-2-0-4-53', '1-0-1-0-3-0-0-3-2', '2-0-1-1-2-1-0-3-62', '2-0-1-1-3-0-0-3', '1-0-1-1-3-1-0-4-63', '2-0-2-1-2-0-0', '2-1-1-1-0-0-0-3-71', '2-0-1-2-0-0-0-3-82', '2-0-1-0-2-2-0-4-90', '2-0-2-0-2-1-0-3-41', '2-0-2-1-1-1-0-4-77', '2-0-1-1-2-1-0-3-68', '2-1-2-2-3-1-0-4-44', '2-1-2-1-1-0-0-3-42', '2-1-1-1-1-3-0-3-53', '1-1-1-0-3-3-0-4-49', '2-0-2-1-0-0-0-4-23', '2-0-1-1-2-2-0-4-60', '1-0-1-1-3-1-0-3-98', '2-0-1-0-1-1-0-4-27', '2-0-1-1-1-1-0-4-93', '2-0-2-1-2-1-0-4-32', '1-1-1-1-1-1', '1-0-0-1-3-0-0-3-6', '2-0-2-2-1-0-0-3-37', '1-0-2-2-2-0-0-3-55', '1-0-2-0-2-0-0-4-71', '2-0-2-2-1-2-0-4-84', '2-0-1-0-2-1-0-3', '2-0-2-1-0-3-0-4-29', '2-0-0-0-3-3-0-3', '2-0-2-1-0-0-0-4-19', '1-1-1-0-3-1-1-4-4', '2-0-2-1-2-0-1-4-6', '2-1-1-1-1-1-0-4-87', '2-0-1-0-0-2-0-4-100', '2-0-1-0-1-3-0-4-25', '2-0-1-2-0-0-0-4-91', '2-0-2-2-2-1-0-4-45', '2-0-1-1-0-0-0-3-83', '2-0-1-1-2-1-0-3-44', '2-1-1-0-2-2-0-4-95', '2-0-1-1-1-0-0-4-49', '2-0-2-1-2-2-0-4-76', '2-0-2-1-0-1-0-3-52', '2-0-0-1-0-0-0-3-54', '2-0-2-1-2-0-0-3-98', '2-0-1-1-0-0-0-3-93', '2-0-1-1-1-1-0-4-47', '2-1-2-1-0--1-0-3-7', '2-0-2-1-0-1-0-4-38', '2-1-1-0-1-0-0-3-53', '2-0-2-0-2-3-0-4-2', '2-1-2-0-2-0-0-3-58', '1-0-1-1-1-0-0-3-90', '2-0-1-1-2-3-0-4-54', '2-1-2-2-1-0-0-4-4', '2-1-1-0-0-3-0-4-78', '2-0-1-1-1-0-0-3-34', '2-1-1-1-0-3-0-4-35', '2-1-1-1-1', '2-0-1-1-0-0-0-3-7', '2-1-1-1-3-3-0-3', '1-0-2-1-2-2-1-4', '2-0-1-1-2-3-0-4-21', '2-0-0-1-1-0-0-3-24', '1-1-1-1-2-1-0-3-21', '2-0-2-2-2-2-0-3-39', '2-0-2-2-0-0-0-4-28', '2-1-1-1-2-2-0-3-32', '1-0-1-0-3-1-0-4-36', '2-0-2-0-1-0-0-3-4', '1-0-0-1-0-0-0-4', '2-1-2-0-0-2-0-1', '2-0-1-1-0-1-0-4-56', '2-0-2-0-3-2-0-4-55', '2-1-1-1-3-0-0-3-30', '2-0-2-2-1-2-0-3-69', '1-1-2-1-0-2-0-4-32', '2-1-1-1-1-2-0-4-12', '2-1-0-1-0--1-1-3-1', '1-1-1-1-2-2-0-4', '2-1-1-1-2-2-0-4-37', '2-1-2-2-0-0-0-3-78', '2-0-1-1-0-1-0-3-86', '2-1-1-1-0-2-0-4-38', '2-0-0-1-2-1-0-3-32', '2-0-0-1-1-0-0-3-4', '2-1-1-1-0-3-0-4-30', '2-0-1-0-2-3-0-4-35', '1-0-2-0-3-0-0-4-13', '2-0-1-2-3-0-0-3-1', '2-0-1-1-0-1-0-3-23', '2-1-1-1-2-3-0-4-28', '2-0-1-1-0-0-0-3', '2-1-2-2-0-3-0-3-40', '2-0-1-0-1-3-0-4-98', '2-1-1-1-1-0-0-3', '2-0-2-1-2-1-0-4-82', '2-1-1-2-0-0-0-4-20', '2-0-1-0-2-3-0-3-13', '2-0-1-1-3-0-0-3-26', '1-0-2-1-0-0-0-3', '1-0-2-2-2-3-1-4', '2-0-1-0-3-2-0-4-34', '2-0-1-1-2-0-1-4-3', '2-0-2-1-0-2-0-3-41', '2-0-2-0-2-0-0-4-32', '2-0-2-1-2-3-0-3-50', '1-0-1-1-3-1-0-4-100', '2-0-2-1-2-3-0-4-75', '2-0-1-1-1--1-0-3-18', '2-1-2-1-1-0-0-3-35', '2-0-1-0-0-1-0-4-90', '2-0-2-0-1-0-0-4-100', '2-0-2-1-2-1-0-3-69', '2-1-1-2-0-0-1', '2-0-2-1-1-2-0-3-24', '2-0-1-1-1-1-0-1', '2-0-2-0-1-2-0-4-2', '2-0-1-0-1-2-0-4-43', '2-0-2-1-1-1-0-3-34', '2-0-1-0-1-3-0-4-29', '2-0-2-2-0-3-0-3-45', '1-0-2-1-3-1-0-4-32', '2-0-1-1-0-0-0-3-72', '2-0-1-1-0-0-0-3-80', '2-0-1-2-2-3-0-3-68', '2-0-1-0-0-0-0-3-7', '2-0-1-0-2-0-0-4-40', '2-1-2-2-2-0-0-4', '2-1-1-1-1-0-0-3-55', '2-0-2-1-3-1-0-4-97', '2-0-2-1-0-1-0-4-81', '1-0-1-1-2-2-0-4-82', '1-0-1-1-3-2-0-4-23', '1-0-2-2-3-3-0', '2-0-2-1-2-0', '1-0-2-2-1-1-0-3', '2-0-2-1-2-2-0-4-12', '2-1-2-1-1-3-0-4', '2-0-1-1-2-3-0-4-5', '1-1-2-0-0', '2-1-1-0-0-2-0-4-79', '2-1-1-1-0-0-0-4-62', '2-1-2-0-0-2-0-4-55', '2-1-2-2-1-2-0-4-23', '2-0-2-1-2-2-0-3-8', '2-0-1-1-0-0-0-3-40', '2-0-2-1-1-0-0-4-17', '2-0-2-2-1-2-0-4-100', '2-0-1-1-0-3-0-3-54', '2-1-1-1-0-0-0-4-61', '1-0-2-1-1-3-0-4-58', '2-1-1-0-0-3-0-4-49', '1-0-2-1-2-3-0-4-4', '2-1-1-1-2-2', '2-0-1-1-1-2-0-3-39', '2-0-0-1-1-2-0-3-96', '2-1-1-2-1-3-0-4-8', '2-0-2-1-1-1-0-3-84', '2-1-0-1-2-1-0-3-70', '2-1-1-1-0-1-0-4-32', '2-0-2-1-0-1-0-3-6', '2-0-1-1-1-0-0-3', '2-1-0-1-1--1-0-3-2', '2-0-1-1-1-2-0-4-88', '2-0-1-1-0-1-0-4-93', '2-0-1-2-1-0-0-3-37', '1-0-1-1-3-3-0-3-86', '2-1-2-0-0-0-0-3-53', '2-0-1-1-3-2-0-4-35', '2-0-2-0-1-0-0-4-82', '2-1-2-1-2-0-0-3', '2-1-1-1-2-0-0-4-83', '2-1-1-1-1-2-1-4-4', '2-0-2-2-0-0-0-3', '2-1-1-0-1-3-0-4-39', '2-1-2-2-1-2-0-4-6', '2-0-2-2-1-2-0-4-43', '2-1-1-1-2-1-0-4-5', '1-0-1-0-2-2-0-3-36', '1-0-1-2-1-1-0-3-100', '1-1-2-1-3-3-0-3', '2-1-2-2-1-2-0-4-35', '2-0-0-1-3-1', '2-0-2-1-1-2-0-4-28', '1-0-1-1-0-2-1-3', '2-1-1-1-2-0-0-4-49', '2-1-1-2-2-0-0-4-21', '2-1-2-0-2-2-0-3-20', '2-0-1-0-1-0-0-3-17', '2-0-2-1-2-0-0-4-51', '2-1-1-1-0--1-0', '2-1-2-1-2-0-0-4-30', '2-1-1-2-1-1-0-3-36', '2-1-1-1-1-0-0-3-100', '2-0-1-2-0-1-0-4-19', '2-1-1-0-1-2-0-4-77', '2-0-1-1-3-2-0-4-53', '1-1-2-0-3-2-0-3-5', '2-1-1-2-0-2-0-4-100', '2-0-2-0-0-0-0-4-97', '1-1-1-1-2-2-0-4-56', '2-0-1-1-0-1-0-4-81', '2-0-0-1-2-', '2-1-1-0-2-1-0-4-46', '2-1-2-0-2-1-0-3-77', '2-1-2-1-1-1-0-3-77', '2-1-1-2-3-0-0-3', '2-0-2-1-3-3-0-4-43', '2-0-1-1-1-3-0-4-35', '2-0-1-1-3-2-0-4-4', '2-0-1-1-2-3-0-4-1', '2-1-1-1-0-1-0-4-3', '2-0-2-1-1-2-0-4-94', '2-0-1-1-1-1-0-3-20', '2-0-2-1-2-3-0-3-75', '2-0-2-0-2-1-0-4-82', '2-0-2-1-1-2-0-4-71', '2-1-1-0-1-0-0-4-22', '2-0-0-1-2-1-0-3-29', '2-0-1-1-1-1-0-4-60', '2-0-1-0-1-0-0-3-34', '2-0-1-2-2-1-0-3', '2-1-1-0-0-0-0-3-63', '1-1-1-1-0-0-0-3', '2-0-0-1-1-2-0-3-3', '2-1-1-1-1-3-0-4-57', '2-1-2-1-1-2-0-4-74', '2-0-1-1-3-3-0-3-95', '2-0-2-0-2-0-0-4-94', '2-1-1-1-1-1-0', '2-0-2-1-2-0-0-3-16', '2-1-1-2-1-3', '2-1-2-0-1-0-0-4-77', '2-0-2-1-1-1-0-3-25', '2-0-2-1-0-2-0-3-18', '2-1-2-1-1-3-1-3-1', '2-0-1-0-1-2-0-3-4', '2-0-1-1-3-0-0-4-43', '2-1-1-0-0-1-0-4-7', '2-0-2-2-0-0-0-2-34', '1-1-1-1-3-2-0-4-23', '2-0-2-2-1-0-0-4-47', '2-0-1-1-1-0-0-4-70', '2-0-1-2-2-2-0-4-80', '1-0-1-1-3-3-0-3-94', '2-1-1-1-0-2-0-4-3', '2-1-1-1-1-0-0-4-13', '2-0-1-0-1-0-0-4-25', '2-0-2-0-3-0-0-4-53', '1-0-1-1-2-0-1-4-2', '1-1-1-1-0-3', '1-0-1-1-2-3-0-4-59', '2-0-1-0-1-2-0-3-34', '2-0-2-1-0-3-0-3-81', '2-1-1-0-1-2-0-3-86', '2-0-2-1-0-3-0-3-5', '2-1-2-2-2-0-0-4-40', '1-1-2-1-2-3-0-4-25', '2-0-1-0-0-0-0-3-67', '2-1-2-1-2-0-0-4-63', '2-0-2-2-1-1-0-4-33', '2-0-1-0-0-3-0-4-53', '2-1-2-1-0-3-0-4-77', '2-0-1-1-0-2-0-4-45', '2-1-2-1-1-0-0-4-30', '1-1-0-1-2-0-0-3-52', '2-1-2-0-0-0-0-4-97', '2-0-1-1-1-0-0-4-82', '2-1-1-2-0-0-1-4-1', '2-0-2-2-1-2-0-4-80', '2-1-1-0-0-3-0-3', '2-0-2-1-3-1-0-4-10', '2-0-2-0-2-2-0-3-31', '2-1-1-1-2-3-0-3-11', '2-0-1-1-2-1-0-4-36', '2-0-2-0-2-1-0-3-53', '2-0-2-2-3-0-0-3-88', '1-0-1-1-3-2-0-4-61', '2-0-2-1-0-0-0-4-10', '2-0-2-0-0-0-0-3-98', '2-1-2-1-1-0-0-4-71', '2-0-1-1-0-1-0-4-52', '1-0-1-1-3-3-0-1', '2-1-2-0-0-3-0-4-23', '2-0-1-1-2-3-0-3-73', '2-0-2-1-1-3-0-4-31', '2-0-1-2-2-0-0-3', '2-0-2-1-1-2-0-4-24', '2-0-2-1-0-3-0-4-35', '2-0-1-0-1-1-0-4-60', '2-0-1-2-1-1-0-3-48', '1-1-1-1-0-0-0-3-100', '2-0-1-0-2-0-0-4-61', '1-1-2-1-0-0-0-3-49', '1-1-2-1-2-1-0-3-62', '2-0-1-1-1-0-0-3-10', '2-1-1-1-2-1-0-3-30', '2-1-2-0-1-3-1', '2-0-1-1-1-1-0-4-81', '2-1-2-1-2-0-0-4-7', '2-1-2-1-0-0-0-3-6', '1-0-0-1-2-0-1', '2-1-2-1-0-2-0-3-76', '2-1-2-1-1-0-0-4-26', '2-0-2-1-0-3-0-3-36', '2-0-1-1-2-2-0-4-29', '2-1-2-0-2-0-0-4-56', '1-0-2-1-1-3-0-3-99', '2-1-1-0-1-1-0-4-63', '2-0-1-1-2-3-1', '2-1-0-1-2-2-0-3', '2-0-2-0-2-2-0-4-100', '2-0-2-0-1-3-0-4-81', '2-0-1-2-1-3-1-4', '1-0-1-1-2-0-0-4-53', '2-1-1-0-2-1-0-4', '1-0-2-1-3-1-0-4-3', '2-0-2-1-1-2-0-4-39', '2-0-0-0-1-3-0', '1-1-2-1-3-3-0-4-48', '2-1-2-1-0-1-1-3-5', '2-0-1-0-1-1-0-4-64', '2-0-2-2-2-1-0-3', '2-0-1-0-1-3-0-4-20', '2-0-2-0-1-3-0-4-47', '1-0-0-1-3-0-0-3-27', '2-0-2-0-3-2-0-4-52', '2-0-1-0-2-1-0-4-83', '2-0-2-1-3-1-0-4-15', '2-1-1-1-1-0-0-3-21', '2-0-2-2-2-3-0-3-46', '2-1-1-1-0-1-0-3-75', '2-0-2-1-1-1-0-4-20', '2-0-1-0-0-1-0-3-43', '2-0-1-1-3-2-0-3', '2-1-1-2-2-0-0-4-43', '2-0-1-1-1-2-0-4-39', '2-0-2-1-2-2-0-4-19', '2-0-2-0-1-3-0-4-61', '2-1-1-1-2-2-0-3-40', '2-0-2-2-1-0-0-4-9', '2-0-1-1-0-0-0-2-56', '1-0-0-1-2-0-0-3-56', '1-1-2-1-1-1-0-4-51', '2-1-2-0-0-0-0-4-37', '2-0-2-1-0-3-0-4-1', '2-0-2-1-0-1-0-4-86', '2-1-2-0-0-2-0-4-43', '1-1-2-0-2-3-0-4-88', '2-1-2-1-1-1-0-4-54', '2-1-1-1-0-1-0-4-37', '2-0-1-1-0-2-1-4-3', '2-0-2-1-1-3-0-4-84', '2-0-1-0-2-0-0-4-46', '2-1-1-0-1-2-0-4-42', '2-0-1-0-2-2-0-4-81', '2-0-1-2-3-0-0-4-23', '2-0-2-1-0-3-0-4-99', '2-0-2-1-0-1-0-3-64', '2-0-2-1-1-3-0-4-27', '2-0-2-1-2-0-0-4-98', '1-0-2-2-2-2', '1-0-2-1-2-3-0-3-23', '2-0-1-1-1-2-0-3-38', '2-1-1-2-0-0-0-3-14', '2-1-2-1-2-3-0-4-10', '2-0-2-1-1-0-0-3-37', '1-1-2-1-1-2', '2-0-1-2-1-0-0-3-52', '2-0-1-1-1-3-0-3-12', '2-0-2-1-1-3-0-3-53', '1-0-1-1-1-1', '1-0-1-1-3-1-0-4-10', '2-1-2-1-1-0-0-3-31', '1-1-2-1-2-0-0-3-33', '2-0-2-1-1-2-1-4-3', '2-0-2-0-1-2-0-4-42', '1-1-2-1-3-0-1-4-1', '2-1-1-1-0-', '2-1-2-0-1-2-0-3-1', '2-0-2-1-2-1-0-4-49', '2-1-2-1-3-1-1', '2-0-1-1-2-2-0-3-5', '2-0-1-1-1-0-0-4-41', '1-1-2-1-2-1-0-4-24', '2-0-0-1-2-1-0-3-100', '2-0-2-1-0-0-0-4-42', '2-0-2-1-1-2-0-3-54', '2-1-1-1-2-0-0-2-57', '1-0-1-1-2-2-0-4', '2-0-2-1-0-3-0-4-46', '1-1-1-0-3-0-0-4-13', '2-0-2-2-0-3-0-4-8', '2-0-1-1-1--1', '2-1-2-1-1-2-0-4-92', '2-1-1-1-2-3-0-4-51', '2-0-2-1-1--1', '2-1-1-2-1-3-0-3-9', '2-0-0-1-2-0-0-3-84', '2-0-1-1-1-2-0-4-37', '2-1-2-0-1-3-0-4-9', '2-0-2-1-0-1', '1-0-2-1-3-0-0-4-41', '2-1-1-1-1-3-0-4-6', '2-0-1-1-0-2-0-3-72', '2-0-1-1-0-2-0-4-63', '2-1-2-0-1-0-0-4-42', '1-0-2-2-0-0-0-3-51', '1-1-2-1-3-3-0-3-17', '2-0-2-1-2-2-0-4-71', '2-1-1-1-0-1-0-3-78', '2-0-2-0-2-1-0-3-14', '1-0-1-1-3-1-0-4-27', '2-1-1-1-3-3-0-4-41', '2-0-1-1-3-0-0-4-21', '2-1-1-0-2-1-0-4-62', '2-1-2-2-2-0-0-3-14', '2-1-1-0-2-0-0-4-33', '2-1-1-2-1-0-0', '1-0-1-0-0-0-0-4', '2-1-2-1-0-2-0-3-47', '2-0-2-1-0-2-0-3-75', '2-0-2-1-0-0-0-4-93', '2-0-1-2-2-2-0-4-22', '2-0-2-2-0-0-0-4-2', '2-1-1-2-0-2-0-4-22', '2-1-2-1-1-0-0-4-85', '2-0-2-1-1-1-0-4-33', '2-0-2-1-0-2-0-4-17', '2-0-2-0-1-0-0-3-31', '2-0-2-2-1-2-0-4-16', '1-0-2-2-3-0-0-4-37', '2-1-2-1-1-3-0-4-5', '2-0-2-1-2-2-0-4-24', '2-0-1-0-2-1-0-3-11', '2-1-2-0-1-1', '2-0-1-1-1-2-0-3-2', '2-0-1-1-2-2-0-4-5', '2-1-1-0-2-0-0-3-18', '2-1-1-1-2-3-0-4-90', '2-0-1-1-0-1-0-4-6', '2-1-1-0-2-0-1-4-5', '2-1-1-1-1-2-0-4-38', '2-0-1-0-2-2-0-4-60', '2-1-1-1-0-0-0-1', '1-0-1-2-3-0-0-4-84', '2-1-2-1-2-1-0-3-58', '2-0-1-0-0-0-0-3-79', '2-0-1-0-2-1-0-3-69', '2-1-1-2-1-0-0-3-36', '1-1-2-1-3-0', '2-1-1-0-1-1-0-4-49', '2-0-2-1-2-1-0-3-83', '2-0-2-1-2-2-0-3-25', '1-0-0-1-3-0-0', '2-0-1-0-1-0-0-4-81', '2-0-1-0-3-0-0-3', '2-1-1-1-2-3-1-4', '2-1-1-1-3-1-0-4', '1-0-1-1-0-0-0-3-47', '1-1-1-0-2', '2-0-2-0-1-1-0-3-9', '2-0-2-1-1-1-0-4-56', '2-0-1-1-0-2-0-4-7', '2-0-2-1-3-3-0-4-19', '2-1-1-0-2-0-0-4-73', '2-0-2-0-0-1-0-4-81', '2-0-2-0-1-0', '2-1-1-1-2-2-0-4-9', '2-0-2-1-0-0-0-4-12', '1-0-0-1-0-0-0-2', '1-1-2-2-2-0', '2-0-1-0-0-1-0-4-10', '1-0-1-1-3-0-0-4-39', '2-0-1-1-2-0-0-4-88', '1-1-2-1-2-2-0-3', '2-0-1-1-1-3-0-3-64', '2-1-2-1-3-2-0-4-42', '1-0-2-2-3-0-0-4-77', '2-0-0-1-1-2-0-3', '2-0-0-1-0-1-0-3-9', '2-0-1-1-0-0-0-3-49', '2-1-1-1-0-0-0-3-83', '2-0-1-1-0-0-0-4-88', '2-1-1-1-0-1-0-4-97', '1-0-2-1-3-2-0-4-35', '1-1-2-1-2-0', '2-0-1-2-2-3-0-3-35', '2-0-1-0-1-0-0-4-51', '1-0-1-0-3-0-0-4-39', '2-0-1-1-1-1-0-4-54', '2-0-2-1-2-1-0-4-15', '2-0-2-0-0-3-1', '2-0-1-0-0-0-0-4-67', '2-0-2-2-0-3-0-4-6', '1-0-1-0-1-3-0-4-30', '2-0-2-1-1-3-0-3-17', '2-0-2-1-0-0-0-4-92', '1-1-1-1-1-0-0-4-99', '1-1-2-1-3-0-1-3', '2-1-0-1-1-1-0-3-38', '2-1-1-0-2-0-0-4-71', '1-1-1-1-3-3-0-4-16', '1-0-1-1-2-1-0-3-70', '1-1-1-0-3-2-0-4-36', '2-1-1-0-2-3-0-4-33', '2-0-1-1-0-2-0-4-91', '2-1-1-1-0-1-0-4-39', '2-0-1-1-0-0-0-4-34', '1-1-1-1-2-2-0-3-98', '2-1-1-1-0-2-0-4-36', '2-0-2-2-0-1-0-3-25', '2-0-2-1-1-1', '2-0-1-1-3-3-0-4-55', '2-0-1-1-2-1-0-3-25', '2-0-1-1-2-2-0-3-61', '2-0-2-1-2-2-0-3-18', '1-1-2-1-2-3-0-3-79', '2-0-2-1-0-0-0-3-65', '2-0-1-2-1-2-0-4-48', '2-0-2-1-0-2-0-4-9', '2-0-2-2-0-2-0-3-33', '2-0-2-1-0-1-0-4-19', '2-1-2-1-2-3-0-4-99', '2-0-2-1-1-1-0-4-4', '1-0-1-1-1-1-0-4-1', '2-1-2-1-0-0-0-4-75', '2-0-1-1-1-0-0-3-61', '2-0-1-1-2-2-0-4-86', '1-1-2-1-3-0-0-3-99', '2-0-2-2-1-0-0-4-17', '2-0-1-2-2-1-0-4-99', '2-1-2-1-1-0-0-3-74', '1-0-1-1-2-2-0-4-64', '1-1-2-1-2-2-0-3-26', '2-1-1-1-0-0-0-4-74', '2-1-1-1-1-3-0-3-87', '2-1-1-2-1-0-0-3-17', '2-1-1-0-2-1-0-4-78', '2-1-2-2-3-2-0-3-82', '2-0-2-2-0-0-0-3-70', '2-1-1-1-0-0-0-4-52', '2-0-2-1-1-0-0-3-15', '2-1-1-2-0-0-0-4-14', '2-1-1-0-2-1-0-4-19', '1-0-2-2-2-3-1', '2-1-1-0-1-0-0-4-36', '2-0-0-1-3-0-0', '2-0-1-1-2-3-0-4-63', '2-0-1-1-0-3-0-4-14', '2-0-1-1-3-3-0-4-23', '1-0-1-1-2-1-0-4-87', '2-0-1-0-2-3-0-4-16', '2-1-2-2-3-1-1-3-3', '2-1-2-1-2-2-0-4-40', '2-0-2-1-1-1-0-3-50', '2-1-1-2-2-0-0-4-90', '2-0-1-0-1-0-0-4-35', '2-1-2-1-2-0-0-4-3', '2-1-2-2-2-1-0-4-14', '2-1-1-1-1-1-0-3-8', '2-1-2-2-0-3-0-4-38', '2-0-2-1-2-2-0-4-30', '1-1-2-0-2-0-0-4-89', '2-0-0-1-1-0-0-3-78', '2-0-1-1-0-2-0-4-36', '2-0-2-1-3-3-0-4-3', '1-1-1-1-3-1-0-4-64', '2-0-1-1-0-1-0-4-70', '1-1-0-1-2-0-0-3-23', '2-0-2-1-3-0-0-4-41', '2-1-1-1-0-3-1-4', '2-0-2-2-0-2-0-3-63', '2-1-2-2-1-0-0-3-19', '1-1-1-1-3-0-0', '1-0-2-1-1-1-0-4-42', '2-1-1-0-1-1-0-3-75', '2-1-1-1-1-3-0-4-3', '2-0-1-1-2-0-0-4-9', '2-1-1-1-1-1-0-4-63', '2-1-1-0-0-0-0-4-49', '2-0-2-1-1-0-0-4-58', '2-1-1-1-0-0-0-3-24', '1-1-0-1-3-0-0-3-2', '2-0-1-0-1-3-0-3-47', '2-1-2-1-2-2-0-3-36', '2-0-1-1-0-3-0-4', '2-0-1-1-1-0-0-1', '2-0-2-1-1-1-0-3-46', '2-0-1-2-1-2-0-4-16', '2-1-1-2-1-0-0-4-77', '2-0-1-1-1-1-0-4-55', '1-1-0-0-3-2-0-3-6', '1-0-1-1-2-1-0-3-55', '1-1-2-2-3-2-0-4-50', '2-0-1-1-1-0-0-4-21', '1-0-1-0-1-0-0', '1-1-1-1-3-3-0-3-47', '2-0-2-2-2-2-0-4-36', '2-0-1-0-2-0-0-4-36', '2-0-2-1-2-3-0-4-45', '2-1-1-0-1-2-0-4-47', '2-0-1-1-1-1-0-4-17', '2-1-2-1-2-1-0-4-97', '2-1-1-1-2-0-0-4-4', '1-1-2-0-2-0-0-4', '2-0-1-0-0-3-0-4-45', '2-0-0-0', '2-0-1-2-0-1-0-3-93', '1-0-1-2-1-1-0-4', '1-1-2-1-2-2-0-4-48', '1-1-2-1-3-2-0-3', '2-0-2-0-0-2-1-3-1', '2-1-1-1-1-0-0-4-10', '2-0-2-1-3-1-0-3', '1-1-1-1-2-0-0-4-89', '2-1-1-1-2-0-0-4-8', '2-0-1-1-0-1-0-3-21', '2-0-2-1-2-0-0-2', '2-0-2-1-1-0-0-3-68', '1-0-2-1-0-2-0-3', '1-0-1-1-2-1-0-4-54', '1-0-2-1-3-1-0-4-4', '2-0-2-1-2-0-0-3-59', '2-1-2-2-2-0-0-4-13', '2-0-2-1-1-0-1', '2-0-1-1-1-2-0-4-56', '2-0-2-0-1-3-0-4-98', '2-1-1-1-1-3-0-3-41', '2-0-0-0-0--1-0-3-26', '2-0-1-1-1-2-0-4-66', '2-1-1-1-2-2-0-4-45', '2-0-2-1-1-2-0-3-44', '1-1-2-2-3-1-0-3-37', '2-0-1-2-1-3-0', '2-0-1-1-2-1-0-4-63', '2-1-2-1-2-3-0-3-25', '2-1-2-0-2-1-0-4-53', '2-0-2-0-0-0-0-4-28', '1-0-1-0-0-2-0-4-98', '1-0-2-1-3-0-0-4-42', '2-1-2-0-3-0-0-3', '1-0-1-1-3-0-0-4-15', '2-1-2-1-2-1-0-4-33', '2-1-2-1-0-0-0-4-63', '2-0-2-0-2-2-0-3-97', '1-0-1-1-3-3-0-4-55', '2-0-0-1-0-0-0-3-50', '2-0-1-1-0-3-0-3-28', '2-1-2-0-0-1-0-4', '2-0-2-0-1-1-0-4-18', '1-1-2-1-0-0-0-3-99', '2-1-1-1-1-1-1-4-5', '2-0-1-1-1-3-0-3', '2-1-2-0-2-2-0-4-27', '2-1-2-1-2-3-0-3-66', '2-1-2-1-2-2-0-4-17', '2-0-2-2-1-2-0-4-2', '2-0-1-1-1-0-0-4-42', '2-0-2-1-1-0-0-4-67', '2-0-2-0-1-2-0-3-61', '2-0-1-0-0-2-0-3-69', '2-0-2-0-0-3-0-4-73', '2-0-1-2-0-0-0-4-48', '2-0-1-1-2-2-0-4-24', '2-0-0-1-2-3-0-4', '2-0-2-2-1-0-1-3', '2-0-2-1-3-0-0-4-55', '1-0-2-0-2-0-0-4', '2-0-1-0-1-0-0-3-53', '2-1-2-1-2-1-0-3-96', '2-0-1-1-1-0-0-4-16', '2-0-1-1-1-2-0-4-4', '2-0-2-1-1-0-0-3-19', '2-1-1-1-2-2-0-4-8', '2-0-2-0-2-3-0-3-53', '1-1-1-1-1-0-0-4-51', '2-0-1-1-2--1-0-3-87', '1-1-2-0-3', '1-0-0-2-3-0', '2-0-1-1-1-1-0-4-44', '2-0-2-1-3-0-0-4-31', '2-0-2-1-0-1-0-4-64', '1-0-1-1-3-3-0-4-50', '2-0-1-1-0-2-1-4-2', '1-0-1-1-3-2-0-4-31', '2-0-2-1-0-3-0-3-57', '2-0-2-1-0-1-0-4-24', '2-0-1-0-1-1-0-4-63', '2-0-0-1-1-3-0-2-86', '2-0-0-1-0-0-0-3-3', '2-1-1-1-2-3-0-4-4', '1-1-0-1-0-1-0-3', '2-0-1-1-0-0-0-3-71', '2-0-1-1-1-1-0-4-19', '1-1-1-1-2-3-0-3', '2-1-1-1-0-0-1-4', '1-0-0-1-2-1-0-3-59', '2-0-0-2-0--1', '2-0-2-2-2-2-0-4-1', '2-1-1-1-0-1-0-3-20', '2-0-2-0-1-0-1', '2-1-0-0-2-0-0-4-83', '2-0-2-1-1-3-0-4-92', '2-0-1-0-1-1', '2-0-2-1-1-0-0-3-39', '2-0-1-0-1-0-0-3-100', '2-1-1-1-0-0-0-3-78', '2-0-2-1-2-0-0-4-64', '2-1-2-0-2-1-0-4-90', '2-0-1-1-0-1-0-3-12', '1-1-1-1-3-1-0-4-14', '2-0-2-1-1-3-0-3-18', '1-0-1-1-1-3-0-3-98', '2-0-1-1-0-1-0-3-62', '2-0-1-0-0-0-0-3-71', '1-0-2-0-3-3-0-3-37', '2-0-2-1-1-2-1-3', '2-0-0-1-1-0-0-3-88', '2-1-2-1-2-0-0-4-17', '2-0-2-0-0-0-0-4-37', '2-0-1-0-0-1-0-4-9', '2-0-1-1-1-0-0-4-80', '1-1-2-1-2-1-0-4', '2-0-2-1-0-1-0-3-97', '2-1-1-1-2-1-0-3-100', '2-0-0-1-1-0-0-3-56', '2-0-1-0-2-3-0-3-58', '2-1-2-1-3-0-0-4-45', '2-0-1-1-2-0-0-4-95', '2-0-1-1-0-0-0-4-58', '2-0-1-1-2-1-1-4', '2-0-1-1-3-0-0-4-29', '2-1-2-1-0-2-1-4', '2-0-1-2-0-1-0-4-62', '1-1-1-1-2-3-0-3-56', '2-1-1-0-0-0-0-4-55', '2-0-2-0-1-2-0-4-1', '2-1-2-1-0-0-0-3-74', '2-0-1-1-1-1-1-3', '2-0-2-2-2-2-0-4-98', '2-0-2-0-3-3-0-4-100', '2-1-2-1-0-0-1-4-8', '2-1-2-1-0-1-0-3-15', '1-0-2-1-0-0-0-3-97', '2-0-1-1-2-3-0-4-51', '2-0-1-2-1-2-0-4', '2-0-2-1-1-3-0-4-93', '2-1-1-1-1-0-0-3-83', '2-0-1-0-1-2-0-3-18', '1-1-1-0-3', '2-0-1-0-2-3-0-4-92', '2-1-1-1-3-1-0-3', '2-1-2-1-3-1', '2-0-2-1-0-0-1-4-1', '1-0-2-1-3-2-0-4-95', '2-0-2-1-0-1-0-3-35', '2-1-1-1-0-0-0-3-30', '2-0-1-1-1-0-0-3-1', '2-1-1-0-2-0-0', '2-1-2-1-2-2-0-3-96', '2-0-2-1-1-2-0-4-51', '2-0-1-1-1-1-0-4-4', '2-0-1-2-1-2-0-3-15', '2-0-2-0-2-1-0-4-98', '2-1-1-1-2-0-0-3-5', '2-0-2-1-1-3-0-4-74', '2-1-2-1-2-0-0-4-38', '2-0-1-1-1-2-0-3-70', '2-0-2-1-2-3-0-3-42', '2-1-1-0-2-3-0-3-21', '2-0-2-1-2-1-0-4-84', '2-0-1-0-1-0-0-4-37', '2-0-1-1-1-1-0-3-15', '2-0-2-1-0-3-0-4-36', '2-1-1-0-2-1-0-1-27', '2-1-2-0-3-0-0-3-23', '2-0-1-1-1-0-0-3-8', '1-0-1-1-1-3-0', '2-0-1-0-1-3-0-4-51', '2-1-2-1-1-0-0-3-22', '2-1-2-1-0-0-0-4-19', '2-1-1-0-1-2-0-4-69', '2-0-1-1-2-2-0-3-42', '2-0-1-2-0-1-0-4-2', '2-0-2-1-2-3-0-4-5', '2-0-0-1-2-3-0-3-12', '2-0-2-1-0-0-0-4-34', '2-1-1-0-1-1-0-4-40', '2-0-1-2-0-0-0-4-92', '2-1-2-1-1-1-0-3-64', '1-1-1-0-2-1', '2-0-1-2-0-0-0-3-79', '2-0-1-0-3-1-0-3-87', '1-0-2-1-3-3-0-4-24', '2-0-1-0-2-3-0-3-53', '1-0-2-0-3-3-0-3-57', '2-0-2-1-2-3-0-3-60', '2-0-1-0-2-2-0-4-35', '2-0-1-0-2-3-0-3-54', '1-0-1-1-1-2-0-4-54', '2-0-1-1-2-2-0-4-51', '2-1-1-1-2-1-0', '1-0-2-1-3-0-0-3-11', '1-0-1-1-2-0-1-4', '2-1-2-1-1-0-0', '2-0-2-1-0-2-0-4-8', '2-0-2-1-0-1-0-4-94', '2-1-2-0-2-0-0-3-4', '2-0-2-2-2-1-0-4-8', '2-0-2-2-1-1-0-4-3', '2-0-1-1-0-1-0-4-55', '1-0-2-0-2-0-0', '2-1-1-0-2-3-0-4-14', '2-1-1-1-2-2-0-4-3', '2-1-1-1-0-0-0-4-100', '1-0-1-2-3-0-0-4-53', '2-0-1-0-3-2-0-4-14', '2-0-2-1-2-1-0-3-98', '2-1-1-1-1-3-0-4-5', '1-0-1-1-3-3-0-4-9', '1-0-1-1-0-0-0-3-95', '2-0-2-1-2-3-0-4-61', '2-1-1-1-1-1-0-4-83', '1-0-1-0-3-1-0-3-20', '1-0-2-0-3-3-0-4-43', '2-0-1-2-0-1-0-4-79', '1-0-2-1-2-3-0-4-52', '2-1-1-2-0-0-1-3-8', '1-0-1-1-0-3', '2-0-1-1-0-2-0-4-98', '2-0-1-0-0-2-0-3', '2-0-2-0-0-1-0-3-80', '2-1-1-0-0-2-0-4', '2-0-1-1-1-3-0-4-48', '2-0-1-1-2-3-1-4-1', '2-0-1-0-2-3-0-3-67', '2-0-2-0-3-0-0-4-100', '1-0-1-1-1-3-0-2-31', '2-0-2-1-2-0-0-4-4', '2-0-1-1-0', '2-0-2-1-1-2-0-3-8', '2-0-1-2-2-2-0-4-16', '2-0-2-2-2-0-0-4-84', '2-0-2-0-1-3-0-3-21', '2-0-2-1-1-2-0-3-48', '2-1-1-1-1-0-1-4-7', '1-0-1-1-2-1-0-4-100', '2-1-1-1-0-3-0-4-27', '2-0-2-1-0-3-0-4-93', '1-0-2-1-2-3-0-4', '1-0-0-0-1-0-0', '2-0-1-1-2-0-0-3-20', '1-0-2-1-2-0-0-3-62', '2-0-1-1-1-2-0-3-7', '2-1-1-1-0-2-0-4-19', '2-1-1-0-1-1-0-3-20', '2-0-1-2-2-1-0-4-80', '1-0-2-2-2-2-1-4-2', '1-0-2-0-3-3-0-4-37', '2-0-1-0-3-1-0-4-99', '2-0-0-1-0-3-0-3-6', '1-0-1-2-3-3-0-4-4', '2-0-2-0-0-0-0-4-76', '2-0-1-0-1-0-0-3-22', '1-0-1-1-2-3-0-3-62', '1-0-1-1-1-1-0-4-42', '2-0-1-1-0-3-0-4-5', '2-0-2-0-0-1-0-3-24', '1-0-2-1-3-3-0-3-15', '2-0-2-1-3-1-0-4-54', '2-0-2-2-0-0-0-3-36', '2-0-1-2-2-1-0-3-34', '1-0-0-1-3-1-0', '2-0-1-2-1-2-0-3-8', '2-0-2-1-0-0-0-4-47', '2-1-0-1-0-3', '2-0-2-0-1-1-0-4-17', '2-0-1-2-1-0-1-4', '1-0-2-1-0-3-0-3-55', '1-1-1-0-3-0-1-4', '2-0-1-0-2-2-1-4-2', '2-0-1-2-1-1-0-3-30', '2-0-2-0-3-2', '2-0-1-1-0-1-1-4-7', '1-0-1-2-3-3-0-4-56', '2-1-1-1-1-0-0-4-36', '1-1-1-1-2-2-0-4-45', '1-1-2-1-1-3-0', '2-0-1-1-1-3-0-4-47', '1-0-2-1-3-1-0-3', '2-0-1-1-1-2-0-4-47', '2-1-2-1-1-3-0-3-7', '2-0-1-1-1-3-0-4-34', '2-1-0-2-1-2-0-3-32', '2-1-1-1-1-2-0-4-48', '1-0-0-1-3-0-0-3-14', '2-1-1-1-1-2-0-4-52', '2-0-1-2-3-2-0', '1-1-1-0-2-1-0-4-22', '2-1-2-2-3-2', '2-0-2-1-0-3-0-4-32', '2-0-2-2-0-0-0-3-94', '2-0-1-1-0-1-0-4-24', '2-0-1-0-2-2-0-4-51', '1-0-2-1-3-3-0-4-22', '1-0-1-1-3-1-0-4-39', '1-1-2-1-2-0-0', '1-0-2-0-2-2', '2-1-1-2-0-0-0-4-33', '2-0-1-0-1-2-0-4-82', '2-0-2-0-2-2-0-3-33', '1-0-1-1-2-3-0-4-55', '2-1-0-1-2-1-0-3-30', '2-1-2-2-1-2-0-3-6', '1-0-2-1-2-3-0', '2-1-2-0-0-0-0-4-18', '2-0-2-1-2-1-0-4-16', '2-1-1-0-1-0', '2-0-1-1-2-3-0-4-75', '2-1-1-0-1-3-0-4-3', '2-1-2-1-1-0-0-3-27', '2-0-2-1-2-3-1-4-7', '2-1-1-0-1-0-0-4-35', '2-0-2-1-2-3-0-4-19', '2-0-1-1-0-1-0-3-66', '2-0-1-0-0-1-0-3-67', '2-1-2-0-2-2-0-3', '2-1-2-1-3-0-0-4-10', '2-1-1-1-2-0-0-3-34', '2-0-1-1-1-1-0-3-11', '2-0-1-1-1-0-0-4-2', '2-0-0-1-1-0-0-3-100', '2-1-1-1-0-2-1-3-3', '2-1-2-2-2-2-0-4', '2-0-2-0-0-1-0-4-55', '2-1-1-0-2-3-0-3-69', '2-0-1-0-2-2-0-3-95', '2-0-1-2-2-2-0-4-98', '2-0-1-1-1-2-1-4', '2-1-1-1-2-0-0-3-35', '2-0-2-1-1-0-1-4-1', '2-0-2-0-2-0-0-4-53', '2-1-1-1-1-3-0-4-34', '2-1-2-1-3-2-0-4-1', '2-0-1-0-1-2-0-4-44', '2-0-2-1-1-0-0-3-34', '2-0-2-1-0-1-0-4-61', '1-1-2-0-0-2-0', '2-0-1-1-3-3-0-4-36', '2-1-2-1-0-0-1-4-1', '2-0-1-1-2-3-0-3-91', '2-0-1-1-1-3-0-4-9', '2-1-1-0-0-1-0-4-99', '1-0-1-1-3-2-0-4-11', '2-1-2-1-1-2-0-4-54', '2-0-2-1-0-0-0-3-83', '2-0-1-0-2-0-0-4-63', '1-0-1-1-3-1-0-4-29', '2-1-2-1-0-1-0-4-1', '2-1-0-2-1-2', '2-0-2-1-1-0-0-4-83', '2-1-1-2-1-0-0-3-38', '2-0-1-1-2-1-0-3-29', '2-0-1-1-2-0-0-4-17', '2-0-2-1-0-2-0-4-33', '2-0-1-1-1-3-0-4-20', '2-1-1-1-0-3-0-4-45', '2-0-1-0-2-1-0-3-8', '1-1-2-1-1-1-0-3', '2-0-2-1-3-3-0-4-23', '2-0-1-2-0-0-0-4-41', '2-0-1-0-1-3-0-4-22', '2-0-2-1-0-1-0-4-53', '2-1-0-1-2-0', '1-0-2-1-1-0-0-4-52', '1-0-2-1-2-2-0-4-88', '2-1-1-2-3-0-0-3-80', '2-0-1-1-2-2-0-3-37', '1-0-2-1-3-3-0-3-97', '2-0-2-2-1-1-0-3-74', '2-0-1-1-0-2-0-3-47', '2-0-2-1-2-2-0-4-21', '2-0-2-1-0-1-0-3-56', '2-1-1-1-0-2-0-4-85', '1-0-0-0-3-3-0-3', '1-0-1-2-1-1-0-4-100', '2-0-2-0-1-2-0-3-1', '2-1-2-1-2-1-0-4-66', '2-0-1-1-0-0-0-3-38', '2-0-2-0-0-3-1-4', '2-0-1-1-1-1-0-3-55', '2-0-1-1-1-2-0-3-65', '2-0-2-2-1-2-0-4-97', '2-1-2-1-0-0-0-3-75', '2-0-2-1-0-0-0-3-75', '1-1-1-1-3-0-0-4-16', '1-0-2-1-0-1-0-4-100', '2-0-1-0-2-0-0-4-49', '2-0-1-2-0-0-0-4-4', '2-1-2-0-2-1-0-4-4', '2-0-2-1-0-3-0-4-60', '2-1-1-0-2-2-1-4-5', '1-0-2-1-3-1-0-4-35', '1-0-2-2-3-0-0-4-12', '2-0-1-1-1-1-1-2-3', '2-1-1-1-0-0-0-4-75', '2-0-1-1-0-2-0-4-47', '2-1-2-1-3-3-0-4-8', '2-0-1-0-2-1-0-4-84', '2-0-0-1-2-2-0', '2-0-1-0-1-0-0-4-86', '1-0-2-1-3-0-0-4-71', '1-0-1-1-2-3-0-4-57', '2-0-1-0-2-3-0-4-80', '2-0-1-1-2-3-0-4-83', '2-0-2-1-3-0-0-4-21', '1-0-1-1-3-1-0-4-66', '2-0-1-0-2-0-1', '2-0-1-2-2-3-0-4-97', '2-0-1-1-3-3', '2-1-1-0-2-1-0-3-9', '2-0-2-0-2-1-0-4-44', '1-0-1-1-3-0-0-3-23', '2-0-2-1-2-2-0-3-19', '1-0-2-1-3-0-0-4-49', '2-1-2-1-3-0-0-4-29', '2-0-0-1-2-3-0-3-92', '2-1-1-1-2-0-0-4-36', '2-0-1-1-0--1-0-3', '2-1-1-1-2-1-0-4-91', '2-0-1-1-0--1-0-3-100', '1-0-2-1-3-1-0-4-21', '2-0-1-1-0-1-0-3-42', '2-0-1-1-3-2-0-4-100', '1-1-1-1-3-1-0', '2-0-2-1-0-2-0-4-29', '2-1-2-1-1-2-0-4-21', '1-0-0-1-3-2-0-4-34', '2-1-1-2-2-3-0', '1-0-2-1-3-0-0-3-90', '1-0-2-0-0-3-0-4-23', '1-0-1-1-0-1-1-4-1', '2-0-2-2-1-2-0-3-49', '2-0-1-2-2-0-0-3-2', '2-0-2-1-0-3-0-4-19', '2-1-2-2-2-0-0-4-42', '2-0-0-1-0-1-0-2', '2-0-1-1-1-0-0-4-1', '2-0-1-1-0-2-0-3-85', '1-0-2-0-3-3-0-3-56', '2-0-1-1-1-0-0-4-75', '2-1-1-0-2-3-0-4-76', '2-1-1-1-2-0-0-4-21', '2-0-1-1-3-0-0-3-3', '1-0-1-2-2-2', '2-0-1-0-2-0-0-4-53', '1-0-1-1-2-2-0-4-70', '1-1-1-0-2-3-0', '2-1-2-1-1-0-0-4-60', '1-0-1-1-2-2-0-4-5', '2-0-2-1-0-3-0-4-2', '2-1-1-1-0-3-1-3-1', '2-0-2-0-0-3-0-4-51', '2-1-2-1-0-3-0-4-89', '2-0-2-0-1-0-0-4-59', '1-1-0-0-3', '2-1-1-2-0-0-0-4-88', '1-0-1-2-3-2-0-4-84', '2-1-2-1-1-0-0-4-28', '2-0-2-0-2-2-0-4-55', '2-0-2-0-2-1-0-4-75', '2-0-2-1-0-0-0-3-69', '2-0-1-2-1-1-0-4-18', '2-0-1-1-1-0-0-4-20', '2-1-1-1-3-1-1-4-5', '1-0-1-1-0-1-0', '2-1-1-1-2-0-0-4-48', '2-0-1-0-2-1', '2-0-2-2-0-0-0-3-11', '2-0-1-0-2--1-0-3', '2-0-1-1-0-1-1-4-4', '2-0-2-0-0-0-0-4-86', '2-1-2-2-2-1-0-4-15', '2-1-1-1-0-0-0-4-12', '2-0-1-1-1-1-0-3-41', '1-1-1-1-3-2-0-4-4', '1-1-1-1-3-1-0-4-48', '2-1-2-1-2-3-0-4-48', '2-1-2-1-0--1-0-3', '2-1-1-2-2-3-0-4-95', '2-1-2-0-3-0', '1-1-1-1-2-3-0-3-54', '1-0-0-0-1-0-0-3', '2-0-1-1-2-2-0-4', '2-0-2-1-0-2-0-4-10', '2-0-2-1-0-0-0-4-30', '2-1-2-1-2-3-0-4-45', '2-0-2-0-3', '2-1-2-0-2-2-0-4-56', '1-0-2-1-1-0-0-4', '1-0-0-2-3-0-0-4-5', '2-0-2-1-2-2-0-3-73', '2-0-1-1-2-2-0-4-3', '2-1-2-1-0-3-0-4-37', '2-0-2-0-1-0-0-4-54', '1-1-1-2-3-1-0-4-100', '2-1-1-1-0-3-0-3-28', '2-0-2-2-0-0-0-4-96', '2-1-1-1-1-0-0-4-46', '2-0-1-1-1-3-0-3-18', '2-0-1-0-2-2-0-3-98', '2-1-1-1-3-0-0-3-40', '2-1-1-1-1-2-0-4-22', '2-1-2-1-1-2-0-4-66', '2-0-2-2-0-3-0', '1-1-1-1-3-2-0-4-47', '2-0-1-0-0-0-0-3-4', '2-0-1-1-1-2-0-4-97', '2-0-2-0-0-2-0-3-26', '2-0-1-1-1-0-0-3-18', '2-1-0-1-0-0-0-3-72', '2-1-2-1-2-1-0-3-22', '2-1-1-0-2-1-0-3-28', '1-0-1-1-3-0-0-3-16', '2-0-2-2-2-0-0-4-100', '2-0-1-2-2-3-0-4-4', '1-0-1-1-3-1-0-4-18', '2-0-2-1-1-1-0-4-74', '1-0-0-0-1-1-0', '2-0-1-1-0-3-0-4-73', '2-1-1-1-2-2-0-4-4', '2-0-2-2-0-3-1-3-2', '2-0-2-2-2-1-0-4', '2-0', '2-1-1-1-2-0-0-2', '2-1-1-1-2-3-0-4-59', '2-0-1-1-2-0-0-3-82', '2-0-1-1-1-2-0-3-43', '1-0-2', '2-0-1-1-2-3-0-3-32', '1-0-2-1-3-1-0-4-99', '1-0-1-1-2-3-1-3-5', '2-0-1-2-1-0-0-4-74', '2-0-1-1-3-3-0-4-39', '2-1-1-1-2-2-0-3-9', '2-1-1-1-1-0-0-4-35', '2-0-2-2-0-3-0-3-50', '2-0-1-0-2-3-0-4-69', '2-0-1-1-0-1-0-4', '2-0-2-2-0-0-0-4-75', '2-0-2-2-1-0-0-4-38', '1-0-2-0-2-0-0-3', '2-1-1-1-1-0-0-4-88', '2-0-1-0-2-2-0-4-71', '2-0-2-1-3-1-0-4-4', '2-0-1-1-2-0-0-4-97', '2-0-2-1-1-2-0-4-92', '2-1-2-1-2-1-0-4-64', '1-0-1-1-1-1-0-4-51', '2-1-2-1-1-0-0-3-40', '2-0-1-1-0--1-0-3-39', '2-1-0-1-0--1-0-3', '2-1-2-1-3-2-0-4-9', '2-0-2-0-1-2-0-4-56', '2-1-2-1-0-3-0-3-86', '2-0-1-1-0-1-1-3-3', '2-0-1-0-2-3-0-4-97', '2-0-2-0-1-0-0-4-48', '2-1-2-0-0-3-0-3', '1-1-2-1-2-3-0-3', '2-0-1-1-1-2-0-3-45', '2-0-2-0-0-0-0-4-46', '1-0-1-0-3-0-0-4-37', '1-0-1-1-3-3-0-3-28', '2-1-1-0-1-3', '2-1-2-2-1-0-0-4-20', '2-1-1-0-1-1-0-3', '1-0-0-1-3-0-0-3-43', '2-0-2-0-2-0-0-4-76', '2-0-1-1-1-3-0-3-38', '2-0-2-1-0-3-0-4-76', '2-1-1-0-2-2-0-3-83', '2-1-0-1-2--1', '2-0-1-0-3-2-0-4-48', '2-0-1-0-2-0-0-4-97', '2-1-1-1-0-2-0-4-22', '2-1-2-2-0-0-0-4-86', '2-1-2-0-2-2-0-3-28', '2-1-2-2-3-0-1-4-3', '2-0-1-1-0-0-1-4-1', '2-0-2-1-3-2-0-4-42', '1-1-0-0-0-0-0-3-33', '2-1-2-1-0-2-1-4-9', '2-0-2-0-1-1-0-4-93', '2-0-2-0-2-1-0-4-22', '2-1-2-0-2-2-0-4-5', '2-0-0-1-2-0-1', '2-1-1-2-0-0-1-3', '1-1-0-1', '2-0-2-1-2-1-0-4-10', '2-1-1-1-2-0-0-4-13', '2-0-2-1-1-2-0-3-40', '2-0-1-1-0-0-0-3-51', '2-1-1-0-2-0-0-4-56', '1-0-1-1-3-2-0-4-3', '2-1-2-1-2-3-0-3-20', '2-1-2-0-0-0-0-3-96', '2-0-2-0-0-0-0-3-88', '1-0-2-1-0-2-0-4-57', '2-0-1-0-1-1-0-4-100', '2-0-2-1-2-0-0-4-60', '2-1-1-1-0-1-0-4-88', '2-0-2-2-1-0-0-4-6', '2-0-2-2-2-3-0-3-10', '2-1-1-0-1-1-0-3-22', '2-0-1-2-1-1-0-4-36', '1-1-2-0-0-2-0-3', '2-0-1-1-1-1-0-3-44', '2-0-1-1-2-1-0-3-73', '2-1-1-1-2-1-0-3-9', '2-1-2-1-1-2-0-4-30', '2-1-1-0-2-0-0-4-37', '2-1-1-0-3-0-0-3', '2-0-2-1-1-2-0-4-73', '2-1-2-2-1-0-0-4-39', '2-0-1-1-1-1-0-4-21', '2-1-2-0-1-2-0-3-22', '2-0-2-1-0-2-0-4-18', '1-0-1-1-3-2-0-4-12', '2-1-1-1-0-0-0-4-26', '2-1-2-1-2-0-0-3-32', '2-0-2-0-1-0-0-4-99', '2-0-2-1-3-2-0-4-27', '1-1-2-1-2-0-0-4-5', '2-1-1-0-2-3', '2-1-1-2-2-2-0-3-67', '1-1-2-1-0-3-0-4', '2-0-2-1-0-0-0-3-96', '2-1-1-1-1-3-0-3-40', '2-0-1-0-0-1-0-3-100', '2-1-1-0-1-3-0-4-85', '2-0-2-0-0-0-0-3-38', '2-0-1-0-2-3-0-4-52', '2-1-1-1-2-2-0-3-35', '2-0-1-0-1-0-0-4-20', '2-0-1-1-1-2-0-4-7', '2-0-1-1-1-0-1-4-2', '1-0-1-1-3-3-0-4-94', '2-1-2-1-0-2-0-4-43', '2-0-1-0-0-2-0-3-8', '1-1-1-1-2-2-0-3-97', '1-0-1-2-3-3-0-4-38', '2-1-1-1-1-0-0-3-25', '2-0-0-2-0-0-0-3', '2-1-1-2-3-0-0-3-81', '1-0-2-1-2-1-0-3-74', '2-0-1-1-2-0-1-3', '2-0-2-1-0-2-0-3-80', '2-1-1-1-1-1-0-3-99', '2-0-2-2-2-3-0-3', '2-0-2-0-1-0-0-3-66', '2-1-1-0-2-2-0-4-12', '2-0-2-0-1-2-0-4-58', '2-1-2-1-1-1-0-4-42', '1-1-0-1-3-3', '2-1-2-0-1-1-0-4-3', '1-0-1-0-2-3-0-3-38', '2-1-2-1-2-2-0-4-39', '2-0-1-1-0-0-0-4-53', '2-0-2-2-1-1-0-4-20', '1-1-2-1-3-0-0-3-26', '1-0-1-0-3-0-0-3-41', '2-1-2-1-1-0-0-3-61', '2-1-2-2-2-0-0-4-46', '2-0-0-1-2-2-0-3-43', '2-1-2-1-2-3-0-4-8', '2-0-1-0-0-0-0-4-33', '1-1-1-1-2-3-0-4-23', '1-0-2-1-1-0-0-4-99', '2-0-1-1-1-0-0-4-96', '2-0-0-2-0-', '2-0-2-1-2-2-0-4-41', '2-0-2-1-1-1-0-3-100', '2-0-2-0-1-2-0-4-16', '2-0-2-1-0-0-0-3-33', '2-1-1-0-2-0-0-4-83', '2-0-1-2-1-3-0-4-45', '2-1-2-1-1-0-0-3-6', '2-0-2-1-0-1-0-4-8', '2-0-0-2-1-1-0-3-16', '2-0-1-1-0-1-0-3-41', '2-0-1-1-2-1-1-3-5', '2-0-1-1-0-3-0-3-60', '2-0-1-0-0-2-0-3-45', '2-0-1-1-2-0-0-4-15', '2-0-1-0-3-3-1-3', '2-1-2-1-2-0-0-3-92', '2-0-1-1-2-1-0-4-64', '1-0-2-1-3-0-0-3-32', '2-0-2-0-0-1-0-3-67', '2-1-1-1-2-2-1-3', '2-1-1-0-0-0-0-4-7', '2-0-1-1-0-3-0-4-48', '2-1-1-2-3-3-0-3-28', '1-0-2-1-0-3-1-4', '2-0-0-2-2-1-0-3', '2-0-0-1-1-3', '2-1-2-1-2-0-0-4-49', '2-0-1-0-2-2-0-3-60', '2-1-2-1-0-2-0-4-17', '2-0-1-1-3-2-0-4-39', '2-0-1-1-0-1-0-4-22', '2-0-2-0-1-2-0-4-34', '2-1-2-1-0-0-1-3-3', '2-0-1-0-2-1-0-4-29', '2-0-1-1-1-0-0-4-46', '2-0-2-1-2-1-0-3-67', '1-1-1-0-2-2-0-3-61', '2-0-1-0-1-1-0-3-99', '1-1-1-0-3-1-0', '2-0-2-1-2-0-0-3-36', '2-1-2-2-2-2-0-4-24', '2-0-1-0-0-2-0-4-29', '1-0-1-0-3-3-0-4-36', '2-0-1-0-2-2-0-4-8', '2-0-2-0-0-0-0-4-79', '2-0-1-0-1-0-0-3-86', '2-0-1-1-3-0-0-3-13', '2-1-0-0-0-2-0-3-79', '2-0-1-0-2-3-0-4-12', '2-1-0-0-3-2-0-3-2', '2-1-2-0-1-2-0-3', '2-1-1-1-1-3-0-4-64', '2-0-2-0-0-0-1-4-3', '2-0-1-0-1-2-0-4-29', '2-0-1-2-1-0-0-4-49', '2-0-2-2-2-3-0-3-1', '2-0-1-1-1-2-0-3-17', '2-0-1-1-2-1-0-3-93', '2-1-2-2-0-1-0-4-40', '1-0-0-0-1-1', '2-1-2-0-2-3-0-3', '2-1-1-1-3-2-0-3-9', '2-0-1-1-1-0-0-4-93', '2-0-0-0-0-0-0-4-75', '1-0-1-1-3-2-0-4-28', '2-0-2-1-0-0-0-3-76', '1-0-2-0-1-3', '2-1-1-1-2-1-0-4-65', '2-0-1-1-0--1-0-3-41', '2-1-1-1-2--1-0-3-10', '2-0-2-1-1-1-0-4-29', '1-0-2-2-3-0-0-4-64', '2-0-2-1-0-1-0-4-39', '2-0-2-1-0-0-0-4-79', '2-1-1-0-1-3-0-4-37', '2-1-1-1-0-1-0-4-14', '2-0-2-0-0-0-0-4-47', '2-0-2-0-1-0-1-4-10', '2-0-0-0-2-2-0', '2-0-1-1-0-0-0-3-12', '2-0-2-0-2-1-0-4-41', '1-0-1-1-2-1-0-4-72', '2-0-2-1-1-3-0-3-19', '2-1-2-1-0-3-0-4', '2-0-1-2-1-0-0-4-84', '2-0-2-0-0-0-0-4-64', '2-1-1-1-0-0-0-3-56', '2-0-2-1-2-3-0-4-91', '1-0-2-0-3-1', '1-0-2-0-2-3-0-4-73', '2-1-2-0-0-0-0-3-21', '1-1-1-0-0-1', '1-1-1-0-0-0-0-4-35', '1-0-1-1-2-2-0-4-66', '2-1-1-0-0-0-0-4-63', '2-0-2-2-3-1-0-4-41', '2-0-1-1-3-0-0-3-16', '2-1-1-1-0-3-0-4', '1-0-1-1-3-0-0-3-66', '1-0-1-1-3-0-0-4-37', '2-0-2-1-1-1-0-3-22', '2-0-1-1-1-0-0-4-32', '2-0-1-0-3-2-0-4-55', '2-0-1-1-3-3-0-3-21', '2-0-2-1-1-3-1-4-3', '2-0-2-1-0-1-0-3-67', '2-1-1-0-2-1-0-4-8', '1-1-2-1-3-1-1', '2-0-2-1-2-3-0-4-99', '2-0-1-0-2-0-0-4-55', '2-0-2-1-0-2-0-3-48', '2-1-1-2-1-1-0-4-19', '1-0-1-0-3-3-0-3', '2-0-2-2-0-0-0-4-36', '2-1-2-1-1-0-0-4-18', '2-0-1-2-1-0-0-4-1', '2-1-1-2-2-2-0-3-43', '2-1-1-1-3-1-0-3-29', '1-1-2-1-1-1-0-3-50', '2-1-2-2-0-0-0-3-53', '1-0-1-1-1-1-0-3-98', '1-0-1-1-2-0-0-4-3', '2-0-2-0-2-0-0-4-83', '2-0-2-0-2-2-0-3-43', '2-1-1-1-3-1-1-3', '2-1-2-1-2-1-0-4-4', '2-1-1-1-0-0-0-3-26', '2-0-2-0-1--1-0-3-25', '1-1-1-1-3-3-0-4-82', '1-0-2-1-2-1-0-4-57', '2-1-2-1-3-1-0', '2-0-2-2-0-0-0-4-79', '2-0-1-1-0-2-0-4-59', '2-1-1-1-1-3-0-4-99', '2-0-1-2-2-1-0-3-29', '2-1-1-1-2-0-0-4-10', '2-1-2-1-1-2-0-4-60', '2-0-2-1-1-1-0-3-24', '1-1-2-1-3-1-0-4-18', '2-0-1-1-0-1-0-3-6', '2-0-0-0-2-1-0-2', '2-0-2-1-0-3-0-4-100', '1-0-0-1-3-0-0-3', '2-0-1-0-0-2-0-4-7', '1-0-2-1-2-2-0-3-57', '1-0-2-1-3-3-0-3', '2-0-2-1-2-2-0-4-55', '1-0-2-0-2-0', '2-0-1-0-1-1-0-3-27', '2-0-2-1-0-0-0-3-24', '1-0-0-1-0-3-0-3', '1-1-1-1-1-3-0-4-98', '2-0-2-0-1-0-0-3-2', '2-1-2-1-0-1-1-3-8', '2-0-1-1-1--1-0-3-20', '1-0-1-2-3-3-0-4-54', '2-1-2-0-0-1-0-4-83', '2-0-1-0-2-2-0-4-9', '2-1-1-2-2-0-0-3-38', '2-1-2-0-1-0-0-4-5', '2-0-1-1-3-0-0-4-1', '2-0-2-0-1-1-0-4-97', '2-1-1-1-0-1-0-4-42', '2-0-2-1-1-3-0-4-1', '1-0-0-0-2-0-0-3-34', '2-0-2-1-0-2-0-3-96', '2-1-2-1-3-3-0-4', '2-0-2-2-2-3-0-4-98', '1-0-1-1-0-0-0-4-53', '1-1-1-1-3-1-0-3-5', '2-1-1-1-3-2-0-3-41', '2-0-2-2-2-0-0-4-1', '2-0-1-1-1-2-0-3-63', '2-0-2-0-0-0-0-4-30', '1-0-1-1-3-0-0-4-8', '1-1-1-1-1-0-0', '2-1-2-1-0-1-1-4-9', '2-1-2-0-0-0-0-4-76', '2-1-1-0-0-0-0-4-44', '2-0-2-2-0-0-0-4-25', '1-0-2-1-3-2-0-4-15', '2-1-2-0-0-0', '2-1-1-1-2-0-0-4-93', '1-0-2-0-0-3-0-3', '2-0-1-1-0-0-0-2', '2-1-1-1-1-2-0-4-51', '2-1-2-1-0-0-0-4-27', '2-0-1-1-3-0-0-4-53', '2-0-1-1-1-3-0-3-24', '2-0-1-1-2-0-0-3-55', '2-0-1-1-2-2-0-3-47', '2-1-2-1-2-1-0-4-63', '2-0-0-2-0-1-0-3', '1-0-1-1-0-0', '2-0-1-2-0-1-0-4-100', '2-0-2-1-0-1-0-4-9', '2-0-2-0-2-0-0-4-48', '2-0-1-1-2-1-0-3-19', '1-0-2-2-3-3-0-3-64', '2-0-1-1-3-0-0-3-28', '2-0-2-2-0-1-1-4-3', '2-0-1-2-1-1-0-4-78', '2-0-1-1-1-1-1-4-3', '1-0-1-0-1-1', '2-0-2-1-3-3-0-4-73', '1-1-1-1-2-2-0-4-58', '1-1-1-2-3-0', '2-1-2-1-0-1-1-4-5', '2-0-1-0-1-2-0-4-70', '2-1-1-1-2-3-0-3-9', '2-0-1-1-0-0-0-2-80', '2-0-2-0-2-3-0-4-51', '2-0-2-0-0-0-0-3-85', '2-1-2-1-2-1-0-3-68', '1-0-1-0-1-2-0', '1-0-2-0-3-0-0-4-41', '2-0-2-0-1-2-0-3-30', '1-0-2-1-2-3-0-4-41', '2-1-1-0-1-2-0-4', '2-1-0-0-3-2-0', '2-0-1-2-1-1-1-4-5', '2-0-2-1-2-3-1-3-6', '2-0-2-1-1-0-1-4-5', '2-0-1-2-2-1-0-4-35', '2-0-2-0-1-3-0-4-16', '2-0-1-1-3-2-1-3-2', '2-0-2-1-1-3-0-4-80', '2-1-2-1-2-2-0-3-27', '2-0-2-1-1-2-0-4-70', '2-0-1-0-3-3-0-3-18', '2-0-1-1-3-1-0-4-5', '1-0-2-2-3-0-0-4-75', '2-0-2-2-1-0-0-4-82', '2-0-1-0-1-3-0-3-21', '2-1-2-1-2-2-0-4-95', '2-0-2-1-3-3-0-4-99', '1-1-2-2-3-0-0-3', '2-1-1-2-0-0-0-3-60', '2-1-2-1-0-2-0-4-56', '2-1-0-1-0-3-0-3-77', '2-1-1-0-0-2-0-3', '2-0-1-0-2-2-0-4-98', '2-0-1-0-2-2-0-3-73', '2-0-1-0-3--1-1-3', '2-0-2-1-1-1-0-4-98', '2-0-1-2-1-3-0-3-38', '1-0-2-1-3-3-0', '2-1-2-1-3-0-0-4-90', '2-0-1-1-1-3-0-4-41', '2-0-0-1-1-1-0-3-61', '2-1-2-1-2-1-0-4-65', '1-0-2-0-3-0-0-3-57', '2-0-1-0-0-1-0-3-75', '2-1-1-1-2-0-0-4-23', '2-0-1-1-1-0-0-4-100', '2-1-1-0-0-0-0-4-90', '2-0-1-1-1-3-0-3-31', '2-1-2-1-1-0-0-4-32', '2-1-2-2-3-2-0', '2-1-1-1-2-2-0-4-57', '2-0-1-1-2-0-0-3-99', '2-1-1-1-2-3-0-3-38', '1-0-0-2-3-1-0-4-52', '2-0-2-1-1-2-0-3-26', '2-1-1-1-3-3-1-4', '1-0-2-2-0-1-1', '1-0-0-1-0-0-0-3', '2-1-1-1-1-0-0-4-73', '1-0-2-1-2-2-0-4-52', '2-0-2-0-1-3-0-4-31', '1-1-2-1-3-2-0-3-4', '2-0-1-1-0-1-0-3-26', '2-1-2-1-1-0-1-3', '2-0-2-2-0-0-0-3-35', '2-0-2-0-2-0-0-3-15', '2-0-1-1-2-1-0-3-76', '2-0-2-1-0-0-0-4-64', '2-0-1-0-0-3-0-3-27', '2-1-1-1-2-3-0-4-57', '2-0-2-1-0-0-0-4-20', '2-0-2-1-2-3-1', '1-1-2-0-2-3-0-4-52', '2-0-1-1-1-1-0-3-47', '2-1-1-0-2-2-0-4-22', '2-0-2-1-0-0-0-4-15', '2-0-2-1-1-3-0-4-68', '1-1-1-1-1-2', '2-0-1-1-3-1-0-4-57', '2-1-1-1-1-3-0-3-65', '2-0-2-1-2-3-0-3-29', '2-0-2-1-1-1-0-3-94', '2-0-2-2-2-2-0-4-50', '2-1-1-0-2-3-0-3-5', '2-1-1-2-2-0-0-3-21', '2-0-2-1-1-3-0-3-99', '1-1-1-1-2-0-0-4-7', '1-0-2-1-3-2-0-3-53', '2-0-2-0-0-0-0-3-57', '2-0-2-1-2-3-0-4-48', '2-1-0-1-0-0-0-3-54', '1-1-1-1-3-3-0-4-7', '1-1-2-1-2-3-0-4-26', '2-0-1-1-2-3-0-4-15', '2-0-1-1-2-0-0-3-29', '1-0-1-2-3-3-0-3', '2-0-2-2-2-2-0-4-47', '2-0-0-1-1-0-0-3-41', '2-0-1-1-0-0-0-3-43', '2-0-1-0-0-1-0-4-57', '2-1-1-1-3-0-0-4-30', '2-0-2-0-0-0-0-3-22', '2-1-2-0-0-1-0-4-91', '2-1-1-2-1-3-0-4-15', '1-0-1-1-3-1-0-4-35', '2-0-0-2-2-3-0-3', '2-1-1-1-2-2-0-3-33', '2-0-2-2-2-2-0-4-4', '2-1-2-1-0-0-0-3-100', '2-0-2-1-2-3-0-4-16', '2-1-2-1-2-2-0-4-51', '2-0-0-1-1-0-0-3-98', '2-0-1-1-2-0-0-3-18', '2-0-2-1-0-1-0-3-38', '1-0-1-2-3-2-0-4-56', '2-0-1-1-0-0-0-3-6', '1-0-2-2-1-0', '2-0-2-0-3-2-0-4-33', '2-0-1-1-2-0-0-4-3', '1-1-1-1-3-1-0-4-81', '2-1-0-1-1-3-0-3-43', '2-1-1-0-0-1-0-4-41', '2-0-2-1-0-0-0-4-55', '2-1-1-2-1-1-0-3-19', '1-0-2-1-2-0-0-4-72', '2-0-2-1-1-3-0-4-59', '2-0-1-1-0-1-0-4-82', '2-0-1-0-3-0-0-4-53', '2-0-1-1-2-0-0-3-54', '2-1-1-1-2-1-0-4-8', '1-0-2-1-3-0-0-3', '2-1-0-1-0-2-0', '2-1-1-0-3-0-0-4-44', '2-0-2-1-1-3-0-4-44', '2-0-2-1-0-1-0-4', '2-0-1-0-1-3-0-4-70', '2-0-1-1-2-0-0-4-43', '2-0-2-1-1-1-1-4-8', '2-0-1-1-2-2-0-3-96', '2-1-2-0-2-3-0-4-50', '1-1-1-0-3-1-1-4', '2-0-2-1-3-2', '1-0-1-0-3-0-0-4-17', '1-0-0-2', '2-1-2-0-2-3-0-4-22', '1-0-2-1-1-0-0-3-59', '2-1-2-2-0-0-0-4-38', '2-0-1-1-2-2-0-4-72', '2-1-2-1-1-1-0-4-79', '2-0-2-1-1-1-0-3-36', '1-0-2-1-0-3-1-3-4', '1-1-1-0-3-0-0-4-8', '1-0-0-0-1-1-0-3-29', '2-0-1-2-0-0-0-4-81', '2-1-2-2-1-0-0-4-3', '2-1-1-1-1-2-0-3-6', '2-0-2-1-2-1-0-4-68', '2-1-2-2-0-1', '2-0-0-1-1-2', '1-0-1-1-3-0-0-4-44', '2-1-2-2-1-0-0-3-35', '2-0-1-1-1-1-1-2', '2-0-0-2-0-0-0-4-33', '2-0-2-0-0-2-0-4-25', '2-0-2-1-3-1-0-4-51', '2-1-2-1-2-0-0-4-26', '1-0-1-1-3-0-0', '2-0-1-1-2-0-0-3-68', '2-0-1-2-0-0-0-4-82', '2-1-2-1-1-1-0-3-27', '2-0-1-0-2-3-0-3-96', '2-1-1-1-0-0-0-4-86', '2-1-2-1-1-3-0-4-59', '2-1-1-1-3-0-0-3-41', '2-1-1-2-1-0-0-4-62', '1-0-2-2-3-3-0-4-77', '2-1-2-1-1-3-0-4-56', '2-0-2-0-2-3-0-4-42', '2-1-1-1-2-1-0-4-43', '2-1-1-0-3-2-0-4-3', '2-0-1-1-1-3-0-4-65', '2-1-1-0-0-0-0-3-65', '2-1-1-1-1-2-0-4-97', '2-0-2-0-3-1-0-3', '2-0-2-1-0-2-0', '2-0-2-2-0-0-0-3-98', '2-0-2-0-2-2-0-4-68', '2-0-1-0-1-3-0-3-84', '2-0-1-1-1-2-0-3-18', '2-1-2-2-0-2-0-3-100', '2-0-0-0-1-0-0-3', '1-1-2-0-3-3-0-4-35', '2-0-1-0-2-3-0-4-77', '2-0-1-1-2-2-0-4-54', '1-0-1-2-3-0-0-4-5', '2-0-2-1-0-0-0-4-43', '1-0-1-1-2-2-0-3-68', '2-1-1-0-2-0-0-4-18', '2-0-0-1-3-1-0-4', '2-0-2-1-0-0-0-3-40', '2-1-2-2-1-0-0-3-29', '2-0-1-0-2-3-0-3-76', '2-0-2-0-1-0-0-4-8', '1-1-1-1-3-1-0-3-12', '2-0-1-1-0-1-0-3-47', '2-0-1-0-2-3-0-3-37', '2-1-2-0-3-0-0-3-3', '2-1-2-0-1-3-0-4-60', '2-0-2-0-0-0-0-3-17', '2-0-1-1-2', '1-0-2-2-3-0-0-4-52', '1-0-2-1-3-2-0-4-3', '1-0-2-1-1-3-0-4-4', '1-1-1-2-3-1-0-4', '2-0-2-0-3-3-0-4-11', '2-0-1-1-1-0-0-4-36', '2-0-2-2-0-0-0-3-38', '2-1-1-1-1-0-0-4-7', '1-0-1-1-2-2-0-4-61', '1-1-1-1-3-0', '2-0-2-0-1-0-0-3-63', '2-0-2-1-1-1-0-4-52', '2-1-2-1-0-3-0-4-65', '2-0-1-1-1-0-0-4-27', '2-1-1-1-0-3-1-4-3', '2-0-2-0-0-1-0-3-100', '2-0-2-1-1-2-0-4-55', '2-1-1-1-0-0-0-3-25', '2-0-2-0-1-3-0-3-31', '2-0-0-1-2-3-0-4-50', '1-0-2-0-3-1-0-4-57', '2-0-1-2-1-1-0-3-19', '2-0-2-1-3-2-0-3-38', '2-0-2-1-1-3-0-4-42', '2-1-1-1-0-2-0-3-57', '1-0-1-2-0-3-1-4-1', '2-0-1-1-0-3-1-4', '2-0-1-1-3-2-1-4', '2-0-1-0-1-0-0-3-97', '2-0-1-1-0--1-0-3-98', '2-1-2-1-1-1-0', '2-0-2-0-1-1-0-4-77', '2-1-2-0-1-0-0-3-42', '2-0-0-1-1-3-0-3-58', '1-1-0-1-3-0-0-4', '1-0-2-1-3-0-0-4-69', '2-1-0-1-1-0-0-3-45', '2-1-1-2-2-0-0-4-11', '2-0-2-1-2-1-0-3-8', '2-1-1-0-3-3', '1-0-1-1-3-1-0-4-43', '2-0-2-1-2-2-0-3-31', '2-0-2-0', '2-1-2-1-1-1-0-3-46', '2-0-1-1-2-2-0-3-10', '2-1-2-0-0-2-0-4-100', '1-1-2-1-2-3-0-3-26', '2-1-1-1-2-1-0-4-83', '2-0-2-0-0-0-0-4-68', '2-0-1-2-2-1-0-4-100', '2-1-1-1-0-0-0-4-73', '2-0-1-1-3-1-0-4-93', '2-0-2-0-0-1-0-3-31', '2-0-1-2-0-1-0-3-46', '2-1-1-1-2-1-0-3-7', '2-0-0-1-0-0-0-3', '2-0-2-0-0-0-0-3-80', '2-0-1-0-2-1-0-4-65', '2-0-0-0-0-1', '1-0-0-0-2-0-0', '1-1-2-1-1-2-0-4-100', '2-0-2-1-1-2-0-4-78', '2-0-1-1-1--1-0-3-98', '2-1-1-2-0-3-1-4', '2-0-2-0-1-3-0-3-80', '1-0-1-1-3-3-0-4-18', '2-0-1-2-2-0-0-4-100', '2-1-1-0-2-1-0-4-83', '2-1-2-1-2-3-0-4-44', '2-0-1-1-2-2-0-4-41', '1-0-2-1-2-0-0-4-100', '1-0-0-1-3-0-0-3-12', '2-0-1-2-0-0-0-4-2', '2-0-1-2-2-3-0-3-45', '1-0-1-2-2-3-0', '2-0-2-0-2-1-0-4-94', '1-0-2-2-2-3-0-4-3', '2-1-2-2-2-3-0', '1-1-1-0', '2-1-2-1-0-2-0-3-50', '2-0-2-1-1-2-0-3-95', '1-0-1-1-2-1-0-3-57', '2-0-1-0-1-1-0-4-62', '1-0-2-1-2-0-0-3-100', '2-0-1-0-2-0-0-3-35', '2-0-1-1-2-3-1-4-3', '2-1-2-1-1-2-0-4-31', '2-1-2-1-0-2-0-4-59', '2-1-1-1-1-2-0-4-17', '2-1-1-1-2-2-0-4-50', '2-0-2-1-1-2-0-3-56', '2-0-0-1-2-2-0-2', '2-1-2-1-1-2-0-3-40', '2-1-2-1-2-0-0-4-33', '1-0-1-1-1-1-0-4-59', '2-0-2-1-1-0-0-3-25', '2-0-1-0-2-3-1', '2-0-2-0-3-0-0-4-11', '2-0-1-2-0-0-0-4-24', '2-0-1-1-0-0-0-4-37', '2-1-2-0-2-1-0-4-83', '1-1-1-1-3-2-0-4-55', '2-0-1-1-2-0-0-4-23', '1-1-1-1-2-0', '2-1-1-1-1-0-0-4-14', '1-1-2-1-3-0-0-4-25', '1-1-2-1-2-0-0-4-12', '2-1-2-1-1-2-0-4-25', '2-0-0-1-2-1-0-3-37', '2-1-1-2-0-0-0-4-32', '1-1-1-1-3-1-0-3-82', '1-0-2-0-2-2-0-4-1', '2-0-1-0-2-3-0-4-11', '2-0-1-1-2-2-0-4-7', '2-0-2-1-2-0-0-3-79', '2-0-2-1-2-3-0-3-74', '2-0-1-1-1-0-0-3-85', '2-0-1-1-1-2-0-4-60', '2-0-2-1-0-', '2-0-2-1-1-2-0-3-98', '2-1-1-1-3-0-0-4-66', '2-0-2-1-1-2-0-3-85', '2-0-2-1-0-0-0-4-85', '2-0-1-1-0-3-0-4-7', '2-0-2-0-0-3-0-4-55', '2-0-1-1-0-2-0-4', '1-1-1-1-1-0-0-4-52', '2-0-1-2-2-0-0-4-35', '1-1-1-1-2-3-0-4-76', '2-0-2-1-3-3-1-4-6', '2-0-2-1-2-3-0-3-97', '1-0-1-0-2-1-0-3-71', '2-1-2-0-0-0-0-4-87', '2-0-1-1-2-2-0-4-26', '2-1-1-0-0-2-0-3-40', '2-1-1-0-1-1-0-4-1', '1-1-2-1-2-0-0-4-98', '2-1-1-1-0-0-0-4-37', '1-1-1-1-3-0-0-4-37', '2-0-1-0-2-3-0-4-31', '2-0-1-0-2-3', '2-1-1-0-0-1-0-4-56', '2-1-2-2-1-0-0-4-44', '2-1-1-1-1-2-0-3-97', '1-0-0-1-0-0-0', '2-1-0-0-2-3-0-2', '2-0-2-0-0-2-0-4-81', '2-1-0-1-2-1', '2-0-2-1-1-0-0-3-23', '2-0-1-1-0-0-0-4-43', '2-1-2-2-0-1-0-4-78', '2-0-1-1-1-2-0-3-22', '2-0-2-0-0-1-0-4-64', '1-1-0-1-3-1-0-3', '1-0-2-2-3-0-0-4-42', '2-1-1-1-0-1-0-4-27', '1-1-1-0-2-0-0-4-89', '1-0-2-1-3-0-0-4-23', '2-1-2-1-3-2-0-4-4', '2-0-2-2-1-2-1-3-5', '2-0-2-1-1-0-0-3-14', '1-1-0-1-2-1-0', '2-0-1-0-0-1-1', '2-0-1-1-1-1-0-4-25', '1-0-2-1-2-3-0-4-86', '2-0-2-1-2-3-0-4-78', '2-0-2-0-1-1-0-4-21', '1-1-1-1-3-2-0-4-6', '2-0-2-1-0-1-0-4-13', '2-1-1-0-2-3-0-4-21', '2-0-1-0-0-0-0-3-26', '2-1-1-0-0-1-0-4-51', '1-0-1-1-3-0-0-4-96', '2-0-2-1-2-3-0-4-56', '2-1-1-1-1-1-0-4-32', '2-0-1-1-2-3-0-4-10', '2-1-2-2-2-1-0-4-22', '2-1-1-0-0-3-0-4-55', '1-0-2-1-3-3-0-3-98', '1-1-0-1-3-0', '1-0-2-1-3-3-0-3-38', '2-1-1-0-1-2-0-4-5', '2-0-1-0-0-1-0-3-78', '2-0-2-1-2-2-0-4-14', '1-0-2-1-1-1-0-4-57', '2-1-2-0-2-3-0-4-100', '2-0-1-1-3-3-0-4-99', '1-1-1-2-3-3-0-4', '2-0-1-2-3-2-0-4-3', '2-0-1-0-2-2-0-3-76', '1-0-1-1-3-2-0-3-33', '1-0-2-2-1-0-0-4-50', '2-0-0-1-2-3-0-3-7', '2-0-2-1-2-2-0-4-16', '2-1-1-0-2-1-0-3-6', '2-0-1-1-1-0-0-4', '2-0-2-2-1-1', '2-1-1-1-0-2-0-4-55', '2-0-2-1-2-2-0-3-46', '2-0-1-1-0-0-0-3-34', '1-0-2-0-3-1-0-4-31', '2-1-1-1-0-1-0-4-72', '2-0-2-1-1-2-1-3-8', '2-1-2-1-0-0-0-4-57', '2-0-1-0-1-2-0-3-1', '2-0-2-1-2-1-0-3-63', '2-0-1-1-3-1-0-4-46', '1-0-2-0-0-2-1-4', '2-1-2-0-2-0-0-4-53', '2-0-1-1-1--1-0-1', '2-1-2-1-2-2-0-3-42', '2-1-1-0-2-1-0-3-63', '1-0-2-0-3-1-0-4-27', '2-0-2-2-0-0-0-4-46', '2-0-2-0-2-3-0-3-40', '2-0-2-1-0-3-0-4', '1-0-1-1-3-3-0-4-42', '1-0-1-0-2-1-0', '2-0-1-1-0-2-1-3', '1-0-2-1-2-1-0-4-22', '1-0-2-1-0-2-1-4-3', '2-0-2-1-1-2-1-4-6', '2-0-2-0-1-0-0-3-38', '2-1-0-1-2-3-0-3-63', '2-0-2-0-3-3-0-4', '2-1-1-0-1-3-0-4-11', '2-0-2-1-1-0-0-4-49', '2-0-2-0-0-2-0-4-27', '2-1-1-1-3-3-1-4-3', '2-1-1-1-0-0-0-4-1', '2-0-1-1-2-1-0-3-14', '2-1-1-1-1-1-0-4-51', '1-0-1-1-2-3-0-4-53', '2-0-1-2-1-3-0-4-78', '2-1-2-1-1-2-0-3-32', '2-0-1-1-0-0-0-3-37', '2-1-2-1-2-2-0-3-84', '2-0-1-1-2-3-0-4-71', '2-0-0-1-2-1-0-3-99', '2-0-0-1-0-3-0', '2-0-2-2-3-0-0-3-2', '2-1-1-0-2-1-0-3-72', '1-0-1-1-1-3-0-4-50', '2-0-1-1-2-3-0-3-57', '2-0-1-1-1-0-0-3-100', '1-0-1-2-2-0-0', '2-0-2-0-1-0-0-4-31', '1-1-2-1-3-1', '2-0-2-2-2', '2-0-2-1-1-1-0-3-67', '2-0-2-1-0-3-1-4-3', '2-1-1-1-1-2-0-3-8', '2-0-1-1-1-0-0-4-56', '2-0-2-0-1-3-0-4-42', '2-0-1-2-1-0-0-3-10', '1-0-1-1-0-1-0-4', '2-1-1-2-0-3-0-4', '2-0-1-0-2-0-0-3-48', '2-0-2-1-2-3-0-3-10', '2-0-1-2-1-0-1-4-6', '2-1-2-1-1-1-0-3-74', '1-0-1-1-2-2-1-4', '1-1-2-0-3-1-0-4-37', '2-1-1-0-2-0-0-4-9', '1-0-1-0-3-1-0-4-34', '2-0-2-1-1-3-0-4-30', '2-1-2-1-2-3-0-4-33', '1-1-1-1-3-3-0-3-6', '2-0-2-1-1-0-0-4-23', '2-0-2-0-2-2-0-4-31', '2-0-1-0-1-2-0-4-21', '2-0-1-1-2-0-0-3-92', '2-1-2-1-0-1-1-3', '1-1-1-1-1-3-0-1-52', '1-0-1-1-3-0-0-4-21', '2-0-2-1-0-0-0-4', '2-0-1-0-1-0-0-3-64', '2-0-2-1-2-0-0-4-66', '2-1-2-1-0-0-0-4-8', '1-1-1-1-3-1-0-3', '2-0-2-1-2-1-0-4-61', '1-1-1-0-0', '2-0-2-1-2-0-0-4-19', '2-1-2-2-1-1', '2-0-1-0-2-1-0-3-97', '2-0-2-2-1-2-0-4-4', '1-0-2-1-1-1-0-4-100', '2-0-1-2-1-2-0-4-78', '2-0-2-1-2-1-0-4-92', '2-1-2-1-0-1-0-3-80', '2-0-2-2-1-1-0-4', '1-0-2-1-2-0-0-4-61', '2-0-0', '1-1-1-0-3-3-0-4-8', '2-1-1-1-2-2-0-4-10', '2-1-2-0-2-0-0-4-39', '2-1-2-1-2-3-0-4-23', '2-0-2-2-1-3-0-3-17', '2-0-2-0-0-1-0-4-49', '2-0-1-0-2-0-1-4-2', '2-0-1-0-2-3-0-3-7', '2-0-2-1-0-1-0-4-41', '2-1-1-2-0-3-0-4-6', '2-0-2-1-1-0-0-4-38', '2-1-1-1-0-0-0-3', '2-0-1-1-1-0-0-3-48', '2-0-2-1-2-3-0-4-72', '2-0-1-2-0--1-0-4-35', '2-0-2-0-1-0-0-3-72', '1-0-0-2-3-0-0-4-74', '2-0-2-1-1-1-0-4-2', '2-0-1-1-0-1-0-3-81', '2-0-1-1-1-0-0-3-89', '2-1-2-0-1-1-0-3-60', '2-0-2-0-2-0-0-3-16', '1-1-1-1-2-0-0-4-76', '2-0-2-0-1-2-0-4-79', '2-1-1-1-2-0-0-4-16', '2-1-1-1-2-3-0-4-64', '2-0-1-1-1-0-0-3-80', '2-0-1-2-0-2-0-4-83', '2-0-1-1-2-0-0-4-6', '1-0-1-1-2-0-1-4-3', '2-0-2-0-3-2-0-4-4', '2-1-2-1-1-3-0-4-73', '2-0-2-1-0-2-0-3-42', '2-1-2-2-1-1-0', '1-1-1-1-0-1-0', '2-0-2-1-2-2-0-3-16', '2-0-2-2-1-1-0-3-43', '2-1-2-2-0-2-0-4-80', '2-0-0-2-0-1', '1-1-0-1-3', '1-0-1-1-3-3-0', '2-1-2-1-2-1-0-4-85', '2-1-2-2-1-2-0-4-79', '2-0-2-0-2-0-0-3-74', '2-0-1-1-1-3-0-3-17', '2-1-0-0-2-3', '2-1-2-1-3-1-0-4-72', '1-0-2-1-2-3-0-4-63', '1-1-1-1-3-3-0-4-2', '2-0-2-1-0-1-1-4-3', '1-0-2-1-0-3-1-3', '2-0-2-1-1-3-0-4-49', '2-1-2-1-0-3-0-4-15', '2-1-2-1-1-2-0-3-44', '2-0-1-2-2-2-0-4-24', '2-0-1-2-3-2-0-3-25', '2-0-1-1-1-0-0-4-77', '1-0-1-1-3-3-0-4-63', '2-0-0-1-1-0-0-4-66', '2-1-1-1-1-0-0-3-37', '2-1-0-0-2-3-0-3', '2-1-1-1-1-3-0-4-73', '2-0-1-1-2-0-1-4-6', '2-0-1-2-1-3', '2-1-1-0-1-0-0-4-5', '1-1-1-1-3-2', '1-1-2-1-2-1-0', '1-0-2-1-1-0-0-4-59', '2-0-1-1-3-2-0-3-23', '2-1-1-2-0-0-1-4-8', '2-0-1-1-2-2-0-4-38', '1-0-1-1-1-0', '1-1-2-1-3-0-0-4-24', '1-0-1-1-2-0-0-3-63', '2-1-1-1-0-0-1-3', '2-1-1-1-0-2-0-4-74', '2-0-2-1-2-3-0-3-40', '2-0-2-1-0-1-0-3-68', '2-0-1-1-1-2-0-3-28', '2-1-1-1-1-0-0-4-99', '2-0-1-2-0-1-0-4-91', '2-0-2-2-2-0-0-4-40', '2-0-1-0', '2-1-1-2-0-3-0-4-45', '2-0-1-1-1-0-0-3-95', '2-0-1-0-2-1-0-4-81', '2-1-1-1-1-2-0-4', '2-1-1-1-2-2-0-3-66', '2-1-2-0-2-3-0-3-10', '2-0-2-1-2-0-0-3-12', '2-0-2-0-2', '2-0-2-1-2-2-0-4-61', '1-0-1-1-3-0-0-4-11', '2-0-1-1-3-1-0-4-49', '1-0-2-2-3-3-0-4-12', '2-1-2-1-2-1-0-4-12', '2-1-1-2-0-1-0', '2-0-2-1-2-1-0-4-40', '2-0-2-0-1-1-0-4-35', '1-1-1-0-3-0-0-3-36', '2-1-1-2-2-3-0-4-19', '2-0-1-0-1-3-0-3-33', '2-0-2-1-1-3-0-4-56', '2-0-1-0-0-1-1-4-1', '2-0-1-2-0-0-0-4-54', '2-0-2-0-0-3-0-4-36', '2-0-1-0-1-0-0-4-97', '1-0-2-1-1-2-0-3-99', '2-1-2-1-2-3-0-4-15', '2-1-1-0-0-2-0-4-98', '2-1-1-1-1-0-0-3-11', '2-0-1-1-1-3-0-4-93', '2-0-2-1-0-3-0-3-34', '2-0-1-1-0-1-0-4-63', '2-0-2-1-2-1-0-3-17', '1-0-1-1-3-1-0-4-56', '2-0-2-1-0-2-0-4-92', '2-1-1-0-2-2-0-3-19', '1-1-1-0-2-3-0-3-22', '2-1-2-1-2-2-0-3-100', '2-0-2-2-0-0-0-4-80', '2-1-2-1-2-0-0-4-22', '2-0-2-1-2-3-0-4-1', '2-0-1-1-2-2-0-4-73', '2-1-2-1-1-2-0-3-82', '1-0-2-1-1', '2-1-0-1-1-3-0-3-33', '2-1-2-2-1', '2-0-2-2-1-3-1', '2-1-1-1-1-0-0-4-31', '2-0-2-1-1-1-0-3-8', '1-1-1-1-2-3-0-4-60', '2-1-1-0-3-2-0-4-49', '2-0-1-1-1-1-0-3-100', '2-0-2-1-1-1-0-4-10', '2-0-2-0-2-3-0-4-43', '2-1-1-1-1-1-0-4-23', '2-0-1-1-0-3-0-4-38', '2-0-0-0-0--1-0-3-27', '2-1-1-0-1-3-0-3-10', '2-0-2-2-1-0-0-4-11', '1-0-1-1-3-1-0-4-88', '2-0-2-2-0-1-0-4-97', '2-0-1-1-1-2-0-4-3', '2-0-2-1-1-1-0-3', '2-0-2-1-2-0-0-4-17', '2-0-1-1-0-3-0-4-1', '2-0-1-2-1-0-0-3-4', '1-0-1-1-3-0-0-4-94', '2-1-1-0-2-3-0-4-12', '2-1-0-2-0-0-0', '2-0-1-1-2-0-0-3-11', '2-1-2-2-0-1-0-3-78', '1-1-1-2-2-0-0-4-60', '2-1-1-0-1-0-0-4-64', '2-0-2-1-0-0-0-4-6', '2-0-2-0-1-0-0-3-17', '2-0-2-2-0-3-1', '2-0-1-1-1-3-0-4-80', '2-0-1-1-1-1-0-4-43', '2-0-2-0-0-0-0-4-59', '2-1-2-1-1-1-0-3-63', '2-1-1-1-1-0-0-3-14', '2-1-1-1-1-3-0-4-29', '2-0-2-1-0-0-0-3-43', '2-0-2-0-2-3-0', '2-0-2-1-0-2-0-4-22', '2-1-1-1-2-3-0-4-13', '2-1-2-1-0-3-1-4-3', '2-0-0-1-0--1-0-3-25', '2-0-2-1-0-1-0-3-3', '2-1-0-1-2', '2-0-2-1-3', '2-0-1-1-0-1-0-4-85', '2-0-1-2-1-1-0-4-84', '2-0-2-1-0-2-0-4-86', '2-0-2-1-2-0-0-4-15', '2-1-2-0-1-1-0-4-22', '1-0-2-1-1-1-0-3-54', '2-0-1-0-2-2-0-3-28', '2-0-1-0-3-2-0-3-41', '2-1-0-1-2-3-0-2', '2-0-1-0-1-2-0-4-59', '2-0-1-1-1-3-0-3-97', '1-1-2-1-3-3-0-4-83', '2-1-1-1-3-0-0-4-29', '2-0-1-1-0-3-0-3-23', '2-0-1-1-2-1-1-4-2', '2-1-1-0-2-2-1', '2-0-1-1-0-3-0-4-45', '2-0-2-1-1-0-0-4-16', '2-1-2-0-0-3', '2-0-0-1-3-3-0-3-44', '2-0-1-2-0-0-0-3', '2-0-0-2-1-0-0-3', '2-0-1-1-1-3-0-3-36', '2-0-2-1-0-0-0-3-73', '2-1-2-1-2-1-0-3-43', '2-1-1-0-2-0-0-3-39', '2-1-1-1-1-1-0-4-97', '2-0-1-0-0-0-0-4-93', '2-1-2-1-2-1-0-3-34', '2-1-1-1-2-2-0-4-17', '2-1-2-2-1-2-0-3-29', '2-0-2-1-2-3-0-3-99', '2-1-1-0-2-0-0-3-75', '2-0-1-2-3-1-0-3', '2-1-2-1-1-2-0-4-98', '2-1-1-1-1-0-0-4-4', '2-0-2-2-1-3-0-3-99', '2-0-2-2-1-0-1-4', '2-0-1-0-2-1-0-4-76', '2-0-2-1-2-0-0-3-97', '2-0-2-1-2-1-0-4-99', '2-1-1-0-1-0-0-4-40', '1-0-1-1-3-3', '2-0-2-0-1-1-0-4-6', '2-1-2-1-0-2-0-4-52', '1-0-1-1-3-2-0-4', '2-0-2-1-0-0-0-3-54', '2-0-1-2-1-0-0-4-63', '2-1-2-1-1-1-0-4-55', '2-0-2-1-3-3-0-3-100', '1-0-1-1-2-0-0-3-35', '2-0-1-0-2-1-0-4-44', '2-0-1-2-1-2-0-4-76', '2-1-1-0-1-0-0-4-53', '2-0-1-1-1-2-0-3-50', '2-0-1-1-1-3-0-3-66', '2-1-2-1-1-0-0-3-26', '1-0-2-1-2-3', '1-0-1-1-3-3-0-4-14', '1-0-2-1-3-0-0-4-57', '2-0-2-1-1-2-0-3-79', '2-0-1-1-1-2-0-3-68', '2-0-2-1-1-0-0-4-31', '2-0-2-1-0-1-1-4-5', '1-0-1-1-3-3-0-3-16', '2-0-1-0-2-0-0-3-41', '2-0-1-1-2-3-0-3', '1-1-1-1-0-0-0-3-48', '1-1-1-1-3-0-0-4-14', '1-0-2-1-0-3-1', '2-1-1-1-0-1-0-4-65', '2-0-1-1-2-1-0-3-37', '2-0-2-1-2-2-0-4-37', '2-1-2-1-0-0-0-4-5', '2-0-1-1-1-1-0-4-72', '2-0-1-1-2-1-0-4-88', '1-0-2-1-3-0-0-4-5', '2-0-2-2-1-1-0-3-81', '2-0-1-1-3-1-0-4-4', '2-0-2-1-1-0-0-4-4', '2-1-2-1-0-0-0-4-54', '2-1-2-0-0-1-0-4-61', '2-1-1-1-2-1-0-4-31', '1-0-1-1-3-0-0-4-9', '2-0-1-2-0-0-0-4-30', '2-1-1-0-1-1-0-4-51', '2-0-1-1-1-2-0-3-19', '2-0-2-2-2-0-0-4-89', '2-0-1-1-1-1-0-4-12', '2-0-1-0-0-3-1-3', '2-0-2-1-1-3-0-3-1', '1-0-2-1-3-3-0-4-63', '2-0-1-1-2-0-0-3-28', '2-0-1-0-1-1-0-3-25', '2-0-1-1-3-0-1-4-5', '2-0-1-2-1-1-0-4-49', '2-0-1-2-1-1-0-3-31', '2-0-1-1-2-0-0-3-56', '2-0-1-1-2-2-0-2', '1-0-0-0-1-0', '1-0-2-1-1-0-0-3-99', '2-0-1-1-1-3-0-3-32', '2-0-2-0-1-2-0-4-7', '2-0-1-0-2-0-0-4-42', '1-0-1-2-1-0-0', '2-0-2-1-0-2-0-3-23', '2-0-2-1-0-0-0-1-69', '2-1-2-0-1-1-0-4-1', '1-0-1-1-0-0-0-4', '2-1-2-1-1-1-0-4-14', '1-0-2-0-1-1', '2-0-1-0-0-3-0-3-86', '1-0-2-1-2-1-0-4-27', '2-1-1-2-2-1-0-4-20', '2-0-0-1-0-3-1-3-3', '2-0-2-1-3-1-0-3-73', '2-1-1-1-0-1-0-4-76', '1-0-1-1-1-3-0-3-53', '1-1-1-0-2-3-0-4-61', '2-0-2-1-1-3-0-4-61', '1-1-2-1-3-3-0-3-38', '2-0-1-1-1--1-0-3-100', '2-0-1-0-2-3-0', '2-0-0-0-0--1-0-3-10', '2-0-2-1-1-1-0-4-94', '1-0-2-2-3-0-0-4', '2-0-1-0-0-3-0-4-8', '2-1-2-0-1-1-0-3-99', '2-0-2-0-1-0-0-4-39', '2-1-1-0-1-0-0-4-37', '2-0-1-1-1-3-0-4-31', '1-0-2-2-3-0-0-3', '1-0-1-2-3-2-0-4', '2-0-1-0-1-3-0-3-35', '2-0-1-1-0-2-0-3-94', '2-0-1-2-1-2-1-4-4', '2-0-2-0-2-0-0-4-15', '2-0-2-0-2-3-0-4-9', '2-1-2-1-3-2-1', '2-0-1-1-2-0-0-3-95', '2-1-2-1-0-3-1-3', '2-0-2-0-1-1-0-4-100', '2-1-2-1-2-3-0-4-100', '2-0-2-0-2-0-0-4-77', '2-0-1-1-2-3-0-4-42', '2-0-1-0-1-2-0-3-76', '2-1-0-0-3-3', '1-0-2-2-3-0-0-3-17', '1-0-2-1-0-2-0-4-49', '2-0-0-1-2-2-0-3-24', '2-1-1-0-0-0-1', '2-1-0-0-0-0', '2-0-2-0-3-1-0-4-49', '2-0-2-1-3-1-0-4-34', '1-1-1-1-2-1-0-4-60', '1-0-1-1-2-0-0-4-56', '2-0-1-0-2-1-0-3-53', '2-0-2-1-2-1-0-4-43', '1-0-2-1-0-3-0-4-21', '2-0-1-0-0-2-0-4-67', '2-1-2-2-2-3-0-4-78', '2-0-2-2-1-0-0-3-11', '2-1-2-1-0-3-0-4-35', '2-0-2-0-2-0-0-4-97', '1-0-1-1-2-0-0-4-73', '2-1-2-1-1-1-0-4-38', '2-0-2-0-1-1-0-4-79', '2-1-2-1-0-1-0-4-75', '2-0-2-0-1-3-0-4-93', '2-0-2-0-0-0-0-4-49', '2-0-2-0-1-1-0', '2-1-1-2-3-2-0', '2-1-2-1-1-1-0-4-16', '2-0-1-1-0-0-0-2-57', '2-0-0-1-1-2-0-3-14', '2-0-1-1-1-0-0-2-51', '2-0-1-1-1-1-0-3-92', '1-0-2-0-3-3-0-3-36', '2-1-2-0-0-2-0-4-23', '2-0-1-1-2-0-0-3-8', '2-1-1-2-0-0-0-3-88', '2-0-2-1-1-3-0-3-71', '2-0-2-1-3-0-0-4-43', '2-1-1-1-2-0-0-4-34', '1-1-2-1-3-1-0-3-36', '1-1-2-1-3-1-1-4-2', '2-1-1-1-2-3-0-3-13', '2-0-1-0-3-3-0-3', '2-0-1-0-0-0-0-3-8', '2-0-2-1-3-0-0-3', '2-1-1-0-2-0', '2-0-2-1-3-2-0-4-100', '1-0-1-0-3-3-0-4-37', '2-0-2-0-2-2-0-3-36', '2-0-2-2-2-0-0-4-39', '1-1-2-1-3-0-1-3-1', '2-0-1-0-2-3-0-4-62', '2-0-1-0-2-0-0-4-51', '1-0-2-1-1-3-0-3-100', '2-0-1-0-0-2-0-4-78', '2-1-1-1-0-3-0-3-35', '2-0-1-0-3-0-0-4-51', '2-0-2-2-0-0-0-3-99', '1-0-2-2-0-3-1', '2-1-1-0-2-0-0-4-55', '2-0-2-1-2-1-0-4-100', '2-0-0-0-1-2', '2-0-0-2-1-2-0-3', '2-0-2-0-0-2-0-3-79', '2-0-2-0-1-0-0-3-93', '2-1-1-1-0-0-0-4-11', '2-0-1-0-2-0-0-3-84', '2-0-2-0-2-1-0-4-73', '2-0-2-0-3-3-0-4-34', '1-0-1-1-3-0-0-4-43', '2-0-1-1-2-2-0-3-4', '2-1-1-1-0-0-0-4-33', '2-0-1-2-0-2-0-3-34', '2-0-1-0-2-0-0-4-11', '2-0-2-0-2-1-0-4-69', '2-0-2-2-1-3-0-4-33', '2-0-1-1-1-0-0-3-77', '2-0-2-1-0-2-1', '2-0-2-1-1-1-0-4-16', '2-0-2-1-2-0-0-4-34', '1-0-2-0-3-0-0-4-30', '2-1-1-1-0-1-0-4-9', '2-1-1-1-3-2', '2-1-2-1-1-0-0-3-5', '2-0-1-0-3-2', '2-0-1-1-2-0-0-3-83', '2-0-2-0-1-1-0-4-38', '2-0-1-0-1-3-0-4-35', '2-1-1-1-0-1-0-3-45', '2-1-2-1-2-0-0-4-85', '2-0-1-0-1-0-0-4-89', '2-0-1-2-1-2-0-4-98', '2-0-1-1-2-1-0-4-16', '1-0-1-0-3-0-0-4-49', '2-0-1-1-1-2-0-4-40', '2-0-1-1-1-3-0-4-44', '2-0-1-1-2-2-0-4-63', '2-1-2-1-2-1-0-4-42', '2-0-1-0-0-0-0-3-99', '2-0-1-0-0-1-0-4-74', '2-0-1-0-0-0-0-4-87', '2-1-1-1-0-0-0-3-85', '2-0-2-1-1-2-0-4-49', '2-1-1-1-1-1-0-3-2', '2-0-2-2-1-1-0-3-37', '2-0-0-1-1-2-0-3-5', '2-0-1-1-2-3-0-4-4', '2-0-1-0-0-0-0-3-21', '2-0-1-1-2-0-0-3-70', '2-1-0-0-2-0-0-3', '2-0-2-1-0-3-0-3-70', '2-1-2-1-2-2-0-4-27', '1-0-2-1-2-0-0', '2-0-1-0-1-2-0-3-38', '2-1-1-0-1-0-0-4-3', '2-0-1-1-0-2-0-3-34', '2-0-2-2-2-1', '2-1-2-1-0-3-0-4-91', '2-1-1-1-3-3-0-4-40', '2-0-1-0-1-1-0-4-1', '1-1-2-1-1-3-0-4', '1-0-2-1-1-1-0-3-46', '2-1-1-1-1-1-1-1-1', '1-0-1-0-2-0-0-4-32', '2-0-1-1-1-2-0-4-49', '2-0-2-0-0-2-0-4-29', '1-1-2-1-1-1-0-4', '2-0-1-1-1-0-0-3-99', '2-1-2-1-2-2-0-4-76', '1-1-2-1-3-0-0-4-40', '2-0-1-2-0-3', '2-1-2-1-0-2-0-4-46', '2-1-2-2-2-1-0-4-42', '2-0-2-0-1-3-0-3-24', '2-0-1-1-0-0-1-3-5', '2-0-2-1-1-0-0-3-42', '1-0-1-1-3-1', '1-1-2-1-2-1-0-4-97', '2-0-1-0-0-3-0-3-77', '1-0-1-1-3-1-0-4-68', '2-0-0-2-1-2-0-4', '2-0-2-1-1-3-0-3-47', '2-0-2-1-2-1-0-4-76', '1-0-2-1-3-1-0-4-52', '2-1-2-0-1-0-0-4-100', '2-0-2-2-0-2-0-4-37', '2-1-1-1-2-0-0-4-14', '1-1-2-0-3-1-0-4', '2-0-1-1-1-3-0-4-21', '2-1-1-1-1-1-0-3-38', '2-1-1-1-1-1-0-4-47', '2-1-1-0-0-3-0-4', '2-0-2-1-2-2-0-3-27', '2-0-2-2-0-2-0-3-95', '2-0-2-1-2-2-0-4-3', '2-0-2-0-1-0-0-4-46', '2-1-2-1-2-3-0-4-21', '2-0-2-1-0-3-0-4-62', '2-0-1-2-0-0-0-4-100', '2-1-2-1-2-2-0-4-37', '2-0-2-1-1-1-0-3-47', '2-1-1-0-1-0-0-4-50', '2-0-2-0-2-0-0-4-68', '1-1-2-1-3-3-0', '2-1-2-0-1-0-0-4', '2-1-1-0-1-0-0-4-18', '2-1-1-1-1-0-0-3-17', '2-0-1-0-1-0-0-4-70', '2-1-1-1-2-3-0-4-32', '2-0-0-1-2-0-0-3-76', '2-0-1-1-2-2-0-4-96', '2-0-0-1-2-0-0-3-78', '1-0-2-2-1-3-0-4', '2-0-1-1-0--1', '2-1-0-1-2-3-0-4-1', '2-0-1-1-0-0-0-4-67', '2-0-2-1-0-3-0-4-50', '2-1-1-0-2-2-0-4-52', '2-0-2-1-1-2-0-3-66', '1-1-2-1-2-0-0-4-7', '2-0-2-1-0-0-0-3-36', '2-1-2-1-1-2-0-4-47', '2-0-2-1-3-1-0-4-21', '1-0-1-1-2-2-0-3', '2-0-1-0-3-0-0-3-2', '1-0-0-1-3-3-0-3', '2-0-2-1-0-1-0-3-16', '2-1-1-1-1-2-1-4', '2-0-1-2-1-1-1-3-5', '1-0-1-1-3-2-0-4-50', '2-1-2-0-2-3-0-4-39', '2-1-1-2-0-1-1-4-8', '2-1-1-1-1-1-0-4-52', '1-0-1-2-0-2-1-4-1', '2-1-1-0-0-2-0-4-89', '1-1-1-1-3-3-0-4-80', '2-1-2-0-2-3-0-4-6', '2-0-1-1-0-3-0-3', '1-0-1-1-0-0-0-4-92', '2-0-2-1-2-3-0-3-84', '2-0-0-0-0--1-0-3-17', '1-0-0-1-2-3-0-3', '2-0-1-1-1-0-0-4-33', '2-0-2-1-2-0-0-3-41', '1-0-1-2-3-3-0-4-37', '1-0-1-1-3-0-0-4-19', '2-0-1-1-0-3-0-4-55', '2-1-2-1-0-0-1-3', '1-0-2-0-3-2-0-4-48', '2-0-1-0-1-2-0-3', '1-0-2-0-0-0-0', '2-0-1-1-1-2-0-4-87', '2-0-1-1-2-1-0-3-2', '2-1-2-2-2-3-0-4-61', '2-0-1-2-0--1-0-3-99', '2-0-1-0-2-2-1-4', '1-0-2-1-2-3-1-4-7', '2-0-2-1-3-2-1', '2-0-1-2-3-0-0-4-1', '2-0-2-1-3-3-0-4-6', '1-0-2-0-3-0-0-4-35', '2-0-2-0-0-2-0-4-95', '2-0-1-1-1-1-0-3-86', '2-1-1-1-2-0-0-3-98', '2-0-2-1-3-0-0-4-42', '1-1-0-1-3-0-0-3-14', '2-1-2-1-1-2-0-3-28', '2-1-1-1-1-0-0-3-52', '2-1-2-1-1-1-0-1', '2-0-1-1-1-1-0-3-3', '2-1-2-0-1-1-0-4-9', '1-0-2-1-2-0-0-4', '2-1-2-2-1-2-0-4-42', '2-0-2-1-0-0-0-3-48', '2-0-1-2-2-3-0-4', '2-0-1-0-0-0-0-4-60', '2-1-2-1-3-1-0-4-3', '1-0-1-1-1-2-0-4-40', '2-0-2-0-2-3-0-3-69', '1-0-1-1-3-1-0-3-37', '2-0-1-2-3-0-0-4-31', '2-1-1-1-1-0-0', '2-1-2-1-2-3-0-3-30', '2-0-1-1-1-3-0-3-7', '2-1-2-2-0-1-0-4-14', '2-0-1-1-0-0-0', '2-0-1-1-1-1-0-3-36', '1-0-1-1-3-2-0-3-50', '2-0-1-1-1--1-0-1-71', '2-1-1-0-2-1-0-4-3', '2-0-1-1-2-3-0-4-41', '2-0-1-2-1-1-0-4-13', '2-1-1-1-2-1-0-3-16', '2-1-1-2-2-1-0-3-96', '2-0-1-2-1-2-0-4-50', '2-1-1-1-0-2-0-3-76', '2-0-1-1-0-0-1-4-6', '2-1-1-1-2-0-0-4-11', '1-0-1-0-3-2-0-4-33', '2-0-1-0-1-2-0-4-34', '2-0-2-2-0-1-0-4-81', '2-0-1-0-2-3-1-4-8', '2-0-1-0-1-2-0-4-4', '2-0-2-1-0-3-0-4-14', '2-0-2-2-0-3-1-4', '2-0-1-1-0-3-0-4-72', '2-0-2-1-0-3-0-3-100', '2-1-2-0-1-0-1', '2-0-2-0-1-3-0-3-35', '2-1-1-1-1-1-0-3-46', '1-1-1-1-3-2-0-3-23', '2-0-2-1-3-3-0-4-36', '2-0-1-0-3-0-0-4-87', '2-0-2-1-1-1-0-3-88', '1-1-1-1-2-1-0-4-85', '2-1-0-0-2-2-0', '2-1-1-1-0', '2-1-2-1-1-1-0-4-98', '2-1-2-0-2-1-0-3-3', '2-0-1-0-0-0-0-3-22', '1-0-1-2-0-3-1', '2-0-1-1-3-3-0-4-37', '1-1-1-0-3-0-0-4-39', '1-0-1-1-3-3-0-4', '2-0-2-1-3-2-0-4-1', '2-1-2-1-1-2-0-3-99', '2-1-1-1-3-0-0-3-44', '1-0-1-1-1-1-0-4-100', '2-0-1-0-2-0-0-4-13', '2-1-1-0-3-3-0-4-3', '2-0-2-2-1-0-0-3-21', '2-0-2-1-2-3-0-4-18', '2-0-1-1-2-2-0-3-72', '1-0-0-1-2-1-0-3-33', '2-1-1-1-2-2-0-4-2', '2-0-1-1-0-2-0-4-25', '2-0-1-1-1-0-1-4', '2-0-2-1-2-1-0-4-19', '2-0-1-1-0-0-0-4-66', '2-0-1-1-3-0-0-4-22', '2-0-2-1-2-0-0-4-91', '2-0-0-2-1-0', '2-1-1-1-1-1-0-4-31', '2-0-1-1-1-3-0-3-78', '1-0-2-1-1-0', '1-0-1-1-2-1-0-3', '2-0-1-1-1-2-0-4-94', '1-0-1-1-1-1-0-4-57', '1-0-1-1-3-2-0-4-24', '2-1-1-0-0-2-0-4-94', '2-1-1-1-2-3-0', '2-0-2-0-1-2-0-4-72', '2-0-1-1-0-0-0-3-5', '1-0-1-0-3-1-0-4-11', '2-0-2-1-0-1-0-4-51', '2-0-1-1-0-1-0-4-69', '2-0-2-2-1-1-0-4-97', '2-0-2-1-0-0-0-4-69', '1-0-1-1-2-3-0-4-61', '2-1-2-2-0-2-0', '1-1-2-1-2-3-0-3-54', '2-0-2-0-3-1-0-4-39', '1-0-1-1-2-1-0-4-70', '2-0-2-0-1-1-0-4-4', '2-0-0-1-3-3-0-3-39', '2-0-0-1-0-1-1', '1-1-1-1-0-3-0-4-36', '2-1-2-2-1-3-0-4-5', '2-0-2-1-0-2-0-4-34', '2-0-2-1-0-2-0-4-71', '2-0-2-1-0-2-0-4-97', '2-1-1-1-0-2-0-3-63', '2-0-1-2-1-0-0-4-100', '2-1-2-1-2-2-0-4-49', '2-0-1-2-0-0-0', '1-0-1-2-3-0-0-4-42', '2-0-2-0-1-1-0-4-80', '2-0-2-1-2-1-0-3-60', '1-0-0-2-3-0-0', '2-0-2-1-0-0-0', '2-0-1-1-1-0-0-4-31', '1-0-2-2-1-2-0-4', '2-1-1-1-0-0-0-3-62', '2-1-1-1-0-1-0-4-100', '1-0-2-1-0-0-1-3-1', '1-0-1-0-3-3-0-4-12', '1-0-1-1-3-3-0-4-17', '2-0-2-0-3-0-0-4-48', '2-1-2-1-1-1-1', '2-1-0-0-2-1-0-3-46', '2-0-1-1-2-0-0-3-65', '2-0-1-1-2-1-0-4-28', '1-0-2-1-1-3', '1-1-0-1-2-1-0-3-60', '1-0-1-1-1-1-0', '2-0-1-0-1-0-0-4-77', '2-1-2-1-2-1-1-4-8', '1-0-2-1-2-3-0-3-2', '1-0-2-1-0-3-0-4-49', '1-1-2-1-0-0-0-3', '2-0-1-1-1-2-0-4-35', '2-1-2-1-2-1-0-4-37', '2-0-2-1-3-3-0-3-36', '2-0-1-1-0-2-0-3-30', '2-0-0-1-1-1-0-3-64', '2-0-1-2-0-0-0-4-40', '2-0-2-1-1-0-0-4-50', '2-0-2-1-0-0-0-4-70', '2-0-2-1-2-3-0-4-17', '2-0-1-1-1-3-0-4-46', '2-1-1-1-1-0-0-3-76', '2-1-2-1-2-2-0-3-40', '2-0-1-1-1-3-0-4-27', '1-0-2-1-3-3-0-4-36', '2-0-1-2-0-0-0-4-49', '2-0-2-2-2-2-0-3-71', '1-1-1-1-2-0-0-4-31', '2-1-2-1-0-3-1-4-1', '2-0-1-0-1-3-0-4-3', '2-0-1-1-2-2-0-3-20', '1-0-1-1-2-0-0-3-88', '1-0-2-1-2-1-0-4-41', '2-1-0-1-2-0-0-4-5', '2-0-1-0-0-2-0-3-78', '2-0-1-0-3-3-0-4-2', '2-1-1-1-0-3-0-3-18', '2-0-1-0-1-3-0-3-40', '2-0-1-1-1-1-0-4-96', '2-0-1-1-2-3-0-4-19', '2-0-2-0-2-2-1', '2-0-1-1-0-2-0-4-97', '2-0-1-1-0-3-0-4-84', '2-0-1-0-1-2-0-3-89', '2-0-1-1-2-2-0-4-69', '2-0-1-0-1-1-0-3-54', '2-1-2-1-2-2-0-4-36', '2-0-2-0-0', '2-1-2-2-2-2-0-4-97', '2-0-1-1-0-3-0-3-66', '2-1-2-2-1-0-0-4-17', '2-0-2-0-2-1-0-4-1', '2-0-2-1-2-1-0-4-23', '1-1-2-1-0-0-0-4-39', '2-1-1-0-1-1-0-4-100', '2-1-2-0-1-2-0-4-45', '2-1-1-2-1-0-0-3-31', '2-0-1-0-3-2-0-4-43', '2-0-1-1-1-1-0-4-90', '1-1-1-1-2-2', '2-1-1-0-1-3-0-3-47', '2-0-1-1-0-2-0-3-77', '2-0-1-1-0-2-0-4-79', '2-1-2-1-1-2-1', '2-0-1-0-0-2-1-3-1', '2-0-1-2-1-1-0-4-48', '2-1-1-1-3-0-0-3-39', '2-0-1-1-1-3-0-4-36', '2-0-1-1-2-2-0-4-47', '2-0-1-0-2-3-0-4-36', '1-1-1-1-3-2-0-4', '2-1-2-1-3-2-0-4-74', '2-1-1-1-3-2-0-4-68', '2-0-2-0-2-2-0-3-1', '1-0-1-1-2-0-1-3', '2-0-1-1-0--1-0-3-46', '2-0-1-1-1-3-0-4-33', '2-0-1-1-1-3-0-4-81', '2-0-1-2-0-1-0-4-69', '2-0-2-2-1-1-0-4-7', '2-0-1-0-2-0-0-4-31', '2-1-1-1-2-0-0', '1-0-0-1-3-0-0-4-56', '2-1-2-0-1-0-1-3', '2-0-1-0-2-1-0-4-43', '2-0-1-0-1-3-0-4-81', '2-0-1-1-0-1-0-4-71', '2-1-2-1-2-0-0-3-24', '2-1-1-1-2-0-0-4-58', '2-1-0-0-2-0', '2-0-2-1-0-0-0-4-37', '1-1-2-1-3', '2-0-2-1-1-1-0-4-15', '2-1-1-2-1-1-0', '2-0-1-1-2-3-0-4-94', '2-0-1-2-0--1-0', '2-0-1-0-1-0-0-3-85', '2-0-2-2-1-0-0-3-5', '2-1-0-1-1--1-0-3-100', '2-0-1-1-1-0-0-3-32', '2-0-2-1-1-2-0-3-30', '1-1-1-1-2-0-0-4-50', '2-1-2-1-1-3-0-4-38', '1-0-1-1-1-0-0-3-58', '2-0-1-0-2-2-0-3-84', '1-0-1-1-2-0-0-3-23', '2-1-2-1-1-3-0-3-69', '2-1-2-0-2-3-0-4-51', '2-0-1-1-0-0-0-3-4', '2-0-2-1-1-3-0-3-38', '2-1-2-1-3-1-0-4-25', '1-1-2-2-3-1', '2-0-1-1-2-2-1-4-3', '2-1-0-1-0-0-0-3', '1-0-2-1-3-2-0-4-4', '1-0-2-1-0-2-1', '2-0-2-1-1-3-0-3-28', '1-0-0-1-3-3-0', '1-0-2-1-2-0-0-4-54', '2-0-2-0-1-0-0-3-13', '2-1-2-1-0-1-0-4-77', '2-1-1-1-2-3-0-4-31', '2-0-2-2-0-0-0-3-64', '2-0-2-1-0-1-0-3-18', '1-0-2-1-2-0-0-4-25', '2-1-1-0-3-3-0-4-51', '2-1-2-1-2-1-0-4-29', '2-0-2-1-0-2-0-4-76', '2-1-2-0-3-2-0', '1-0-2-2-2-2-0-4-87', '1-0-2-0-3-1-0-4-47', '2-0-2-0-1-2-0-3-76', '2-0-1-1-1-0-0-3-83', '2-0-1-1-2-2-0-4-1', '2-0-1-1-0-3-0-4-26', '1-0-0-0-3', '2-0-1-1-2-0-0-3-14', '1-1-1-1-2-0-0-4-3', '2-0-1-2-0-0-0-3-64', '1-1-1-2-3-0-0', '1-0-2-0-3-3-0-4-57', '2-1-2-1-1-0-0-4-19', '2-1-2-1-3-0-0-3-98', '2-0-1-1-0-3-0-4-54', '2-0-2-1-0-1-0-3-77', '2-0-1-0-2-0-0-3-44', '2-0-1-1-3-3-0-3-52', '2-1-1-1-3-2-0-4-3', '2-1-1-1-0-2-0-4-9', '1-0-2-1-2-0-0-4-35', '2-0-1-1-2-0-0-4-100', '2-1-0-1-2-1-0-3', '2-0-2-0-3-0-0-4-10', '2-0-1-1-3-2-0-4-44', '2-1-1-0-0-0-0-3-78', '2-1-2-1-0-0-0-4-13', '2-1-2-1-1-1-0-4-32', '1-0-2-1-2-1-1-3-11', '2-0-2-1-3-1-0-4', '2-1-2-0-2-0-0-4-3', '2-1-1-1-2-1-0-4-50', '1-0-2-1-3-0-0-4-96', '2-1-2-1-2-2-0-4-31', '2-0-1-1-1-2-0-4-80', '2-0-2-2-1-0-0-3-39', '2-0-2-2-0-3-0-3-5', '2-1-2-1-0-1-0-4-65', '2-0-2-0-3-1-0-4-55', '2-1-1-1-0-3-0-4-100', '2-1-1-1-0-0-0-3-22', '2-0-1-0-1-0-0-4-98', '2-0-1-1-3-1-0-4-89', '2-0-2-1-2-1-0-4-17', '2-0-0-1-1-2-0-3-40', '2-1-1-2-0-0-0-4-19', '2-0-1-1-1-2-0-3-31', '2-0-2-1-1-3-0-4-17', '2-0-1-1-1-3-0-4-56', '2-1-2-1-2-2-0-4-5', '2-1-1-1-1-0-0-3-73', '2-0-2-2-1-2-0-4-22', '1-0-1-1-3-0-0-4-86', '2-0-1-1-1-2-0-3-42', '2-1-1-1-1-1-0-4-38', '1-0-1-1-3-0-0-4-99', '2-1-1-0-3-2-0-4-44', '2-0-1-2-1-1', '2-0-1-2-1-1-0-4-10', '2-1-2-1-1-2-0-4-44', '2-0-0-1-1--1-0-2', '2-0-2-1-1-2-0-4-9', '2-1-2-1-3-0-0-3-89', '2-0-1-1-2-0-0-3-42', '2-1-2-1-0-1-0-4-39', '2-1-1-1-0-1-0-4-99', '1-0-1-0-1-1-0-4', '2-1-1-0-2-0-0-4-28', '2-0-2-1-1-0-0-4-97', '2-0-2-1-3-3-0-4-1', '2-1-1-0-2-2-0-4-18', '2-0-1-1-2-2-0-3-82', '2-0-2-1-0-0-0-4-48', '1-0-1-2-3-2-0-4-54', '2-0-1-1-0-1-0-3-34', '2-1-2-0-2-3-0-4-31', '2-1-1-0-2-1-0-3-81', '1-1-2-1-2-3-0-4-47', '1-1-2-1-1-0-0-4-100', '1-0-2-0-0-3-1-3', '1-0-1-2-3-0-0-4-41', '2-1-1-1-1-3-0-4-92', '1-1-1-1-0-0-0-3-98', '2-0-1-1-2-3-0-4-93', '2-0-1-1-0-0-0-4-65', '2-0-1-1-1-0-0-4-6', '2-1-1-0-1-0-0-4-75', '1-0-1-2-3-0-0-4-43', '1-0-2-1-2-1-0-4-54', '1-0-2-1-2-0-1-3-8', '2-0-0-1-0-0-0-3-63', '2-0-1-1-0-1-0-3-91', '2-0-2-1-1-1-0-3-68', '1-1-2-1-2-0-0-4-50', '2-0-1-1-1-3-0-4-6', '2-0-0-1-0-0-0-3-55', '2-0-2-1-2-0-0-4-32', '2-0-1-1-2-0-0-3-89', '2-1-2-0-2-1-0-3-51', '2-0-1-1-2-3-0-4-47', '1-0-1-1-3-3-0-4-43', '2-0-2-0-0-2-1-3', '2-1-0-1-2-0-0-2', '2-1-1-1-1-0-0-3-38', '2-1-1-1-3-0-0-4-91', '2-0-1-1-3-3-0-4-21', '1-1-2-1-2-3-0-4-87', '1-1-2-1-2-2-0-4-81', '2-0-1-1-3-0-0', '2-1-2-1-2-2-0-3-4', '2-1-1-0-1-1-0-4', '1-0-2-1-3', '2-0-1-0-0-0-0-4-70', '2-0-2-1-1-2-0-4-33', '1-0-0-1-1-0-0-3-54', '1-0-1-0-3-1-0-3', '2-0-0-1-0-0-0-3-35', '1-0-1-1-1-3-0-4-100', '2-0-2-1-1-2-0-3-81', '2-0-2-2-1-2-0-4-47', '2-0-2-1-0-1-0-4-14', '2-1-2-1-0-2-0-4-19', '2-1-2-1-2-2-0-4-16', '2-0-1-0-3-1-0-4-52', '2-1-1-1-0-1-0-4-25', '1-0-1-1-2-3-1-4-7', '2-1-1-1-0-0-0-4-51', '2-1-1-1-2-2-0-3-36', '2-1-2-1-1-2-0-4-38', '2-0-0-1-0--1-1', '2-0-2-0-0-2-0-4', '2-0-2-1-1-3-0', '2-1-1-1-0-1-0-4-74', '2-1-2-1-0-1-0-4-47', '2-0-2-1-0-1-1-3-2', '2-1-1-1-0-1-0-3-79', '2-0-2-0-0-1-0-3-91', '2-0-1-1-2-3-0-4-22', '1-0-2-1-3-3-0-4-11', '2-0-1-1-1-1-1-3-7', '2-1-1-1-1-2-0-3-4', '2-0-1-1-1-0-0-3-30', '2-0-2-1-1-0', '2-0-1-2-2-3-0', '2-0-2-1-0-1-1-3-6', '2-0-1-0-2-3-0-3-16', '2-0-2-1-1-2-0-4-60', '1-0-1-0-1-2-0-4', '2-1-2-1-2-2-0-4-9', '2-1-1-2-0-1-0-4-6', '2-0-2-1-1-3-0-4-19', '1-0-2-1-1-3-0-3', '2-0-1-1-1-1-0-4-29', '2-1-0-1-1-1-0-3-6', '2-0-1-1-0-0-1-4-7', '1-0-2-0-3-3-0-4-3', '2-0-2-1-1-2-0-4-4', '2-0-2-1-0-2-0-4-12', '2-0-1-1-0-3-1-4-5', '2-0-1-1-1-3-0-4-90', '2-1-1-1-0-2-0-3', '2-1-0-0-3-2-0-3', '2-0-1-0-2-0-0-3-40', '2-0-2-1-1-0-0-4-22', '2-0-1-0-0-1-0-4-91', '2-0-0-1-2-0-0-3-38', '2-1-1-0-2-2-0-3-88', '1-1-1-1-3-1-0-4-2', '2-1-2-1-3-2-0-4-97', '2-0-1-1-0--1-0-3-20', '2-0-2-1-0-1-0-4-42', '2-1-1-2-0--1-0-4-45', '2-0-1-1-1-0-0-4-38', '2-0-1-1-3-2-0-4-5', '2-0-2-1-1-3-0-3-24', '2-0-0-1-0-2-0-3-12', '2-0-2-1-3-3-0-3-54', '2-1-2-1-1-1-0-4-44', '1-0-1-2-3-2-0-4-96', '1-1-0-0-3-2-0', '2-0-1-1-0-2-0-4-4', '1-0-2-2-1-0-0', '2-0-2-2-1-0-0-4-5', '1-0-1-1-1-0-0-4-52', '2-0-1-0-2-3-0-4-82', '2-0-1-1-1-2-1-4-7', '2-0-1-1-0-3-0-4-30', '2-0-0-0-2', '2-0-1-2-0-3-0-3-71', '2-1-1-1-1--1-0-3-35', '2-0-1-1-1-0-0-4-14', '1-0-2-0-1-0-0-4-29', '2-0-1-0-2-3-0-3-35', '2-0-1-1-1-1-0-4-16', '1-0-1-1-2-3-0-4-99', '2-1-1-2-0-3-0-4-100', '2-0-0-0-0--1', '2-1-2-0-1-1-0-4-10', '2-0-2-1-2-1-0-4-85', '2-1-1-1-2-1-0-3-18', '2-0-2-1-2-3-0-3-72', '2-1-0-1-0-1-0-3-61', '2-1-1-1-1-2-1-4-3', '1-1-1-1-3-0-0-3-38', '2-0-1-1-1-1-0-4-91', '2-0-2-1-1-2-0-4-19', '2-1-1-1-1-0-0-4-2', '2-0-1-2-2-1-0-4-67', '2-0-1-1-2-2-0-4-94', '2-0-1-0-0-0-0-4-9', '1-0-1-1-1-0-0-4-49', '2-0-2-2-2-2-0-3-50', '2-1-1-1-2-0-0-3-100', '2-0-1-1-1-0-0-3-29', '1-0-2-2-2-1-0-4-99', '2-1-2-1-2-0-0-3-14', '1-0-1-1-3-2-0-4-55', '2-0-2-1-1-1-0-4-44', '2-0-2-1-1-1-0-3-19', '2-0-0-1-0-0-1', '1-0-0-1-2-1-0-3-39', '2-0-1-0-2-0-0-4-76', '2-0-2-1-1-0-0-3-98', '2-0-1-1-1--1-0-3-40', '2-0-2-1-2-2-0-3-82', '2-1-2-2-1-3-0-4-59', '2-0-2-0-2-2-1-4-8', '2-0-2-1-0-0-0-3-14', '2-1-2-1-2-1-0-3-32', '2-0-2-2-1-0-0-4-54', '2-1-1-1-3-2-0-4-7', '2-1-1-1-0-0-0-1-1', '1-1-1-1-2-2-0-1-48', '2-0-1-2-1-0-1', '2-1-2-0-1-3-0-4', '2-1-1-1-0-2-0-3-54', '2-1-1-1-2-3-0-4-20', '2-0-2-1-3-0-0-4-37', '2-1-2-1-1-0-0-4-69', '2-1-0-1-0-0-0-3-47', '2-0-1-1-0-3-1-4-1', '1-0-2-1-2-0-0-3-33', '1-1-2-0-2-3-0', '2-0-2-1-0-0-0-4-74', '1-0-0-2-2-1', '2-0-2-1-0-2-1-4', '2-0-1-1-2-2-0-2-74', '2-0-1-1-0-1-0-3-72', '1-1-2-1-2-2-0-3-12', '2-1-2-1-1-0-0-3-41', '2-0-2-1-1-0-0-4-63', '1-0-2-1-3-3-0-3-21', '2-0-1-1-1-0-0-4-7', '1-0-0-1-2-2', '1-1-2-1-3-1-1-3', '1-1-0-1-2-3-0-3', '2-0-1-1-2-0-0-3-84', '2-1-1-0-2-2-0-4-46', '2-1-1-1-2-1-0-3-35', '2-0-1-2-1-1-0-4-98', '2-0-1-0-3-3-0-3-34', '2-1-1-2-1-1-0-3-78', '2-0-2-0-0-2-0-4-9', '2-0-2-1-2-0-0-4-61', '2-0-1-1-0-0-0-4-57', '2-0-2-1-0-3-0-4-41', '1-0-1-0-0-0-0-3-98', '1-1-2-1-1-0-0-4', '2-1-2-1-1-1-0-4-52', '2-0-1-0-1-3-0-3-63', '1-1-2-1-2-0-0-4-22', '1-1-1-1-0-2-0-4-34', '2-0-1-1-2-2-0-3-22', '2-1-1-1-1-0-0-3-57', '2-0-1-0-2-3-0-3-98', '2-0-1-1-3--1-0-3-44', '1-0-0-2-3-0-0-4', '2-1-1-1-0-3-0-3-75', '2-1-2-1-2-1-0-3-19', '2-1-1-0-2-1-0-4-21', '2-0-2-1-0-0-0-3-30', '2-0-1-1-0-1-0-4-17', '2-1-2-1-0-1-0-3-8', '2-1-2-1-2-0-0-3-41', '2-1-2-0-0-2-0-4-96', '2-0-2-2-3-1-0-4-4', '2-1-1-0-1-2-0-3-44', '2-0-1-0-0-1-0-3-91', '2-0-1-1-0-2-0-4-86', '2-1-1-2-0-2-0-4-40', '2-1-1-1-0-3-0-3-73', '1-1-1-1-3-0-0-4-100', '2-1-2-1-0-3-0-4-20', '2-0-1-1-0-0-0-3-97', '1-1-0-0-0-0', '2-1-1-0-1-3-0-4-75', '2-0-1-1-2-3-0-4-37', '2-1-1-1-1--1-0-3-58', '2-0-1-1-2-2-0-4-66', '2-0-2-0-0-0-1', '2-0-1-2-0-2-0-4-79', '2-1-1-2-1-2-0-4-15', '2-1-2-1-1-3-0-4-87', '2-0-2-2-2-2-0-4-84', '1-1-1-1-1-3-0-1', '1-0-2-1-2-0-1-4-6', '2-0-1-0-0-0-0-4-91', '2-1-2-1-1-1-0-4', '2-0-2-1-0-0-0-4-78', '2-0-2-0-1-1-0-3-100', '2-0-1-2-0-3-0-3-97', '2-1-2-1-1-2-0-4-83', '1-1-2-2-2-0-0-4-60', '1-0-1-1-2-3-1-4', '2-0-1-1-0-0-0-1', '2-0-1-1-2-1-0-4-39', '2-0-2-1-0-1-0-3-100', '2-1-0-1-1-1-0', '2-0-1-0-1-2-0-4-10', '2-0-1-1-2-2-0-3-98', '1-0-1-1-2-3-0-4-39', '2-0-1-2-0-0-0-3-36', '2-0-0-2-2-0-0-4-99', '2-0-1-1-0-3-0-3-26', '2-1-2-1-0-1-0-4-26', '2-0-2-0-1-3-0-3', '2-0-1-1-0-0-0-4-62', '2-0-2-1-0-3-0-3-3', '1-0-2-1-3-3-0-3-3', '2-0-2-1-3-3-0-4-45', '2-1-2-1-3-1-0-3-25', '2-1-1-1-1-1-0-3-5', '1-0-2-1-1-0-0-4-100', '2-1-2-1-0-0-0-4-45', '2-1-2-1-3-0-0-3-9', '1-1-2-2-3-0-0-4-50', '2-0-2-2-0-1-0-3', '2-0-1-1-0-1-0-2-46', '2-1-1-1-3-0', '1-0-1-2-3-1-0-4-99', '1-0-2-2-3-1-0-4-73', '2-1-2-0-0-0-0-3-55', '1-0-1-1-1-0-0-4-98', '2-0-1-1-2-1-0-4-100', '2-1-2-0-2-0-0-4-10', '2-0-2-0-1-3-0-4-4', '2-1-1-1-1-1-0-3-16', '2-1-1-1-0-2-0-4-25', '2-0-2-0-2-3-0-3-92', '2-0-0-1-1-2-0-3-48', '2-0-1-1-2-0-1-3-5', '2-1-1-0-0-3-0-4-80', '2-0-1-0-2-0-0-3-37', '2-1-2-0-1-0-0-3-5', '2-0-1-1-1-3-0-4-78', '2-0-0-0-1-0-0', '2-0-2-1-1-0-0-3-24', '2-0-1-2-0-3-1-4-1', '2-1-2-0-0-1-0-4-96', '2-0-1-1-0-0-0-3-67', '2-1-2-1-3-1-0-3-44', '1-1-1-1-3-0-1-4-3', '2-1-1-1-0-1-0-4-38', '1-0-2-1-3-2-0-4-22', '1-1-1-0-3-2-0-3', '2-1-1-1-1-1-0-3-52', '1-1-2-1-3-0-0-3-40', '2-0-2-1-1-3-0-3-57', '2-0-2-1-1-2-1-4-1', '2-0-1-1-3--1', '2-0-2-0-0-2-0-4-31', '2-0-2-1-1-0-0-4-29', '2-0-1-1-0-1-0-3-48', '2-1-1-1-1-0-0-3-19', '2-0-1-0-0-2-0-4-45', '2-0-1-1-1-2-0-4-76', '1-0-2-1-0-0-0-3-51', '2-1-2-1-0-0-0-3-15', '2-1-1-1-3-3-0-4-8', '2-0-2-1-1-0-0-3-81', '2-0-1-1-2-1-0-4-56', '1-0-1-2-2-3', '2-0-1-0-1--1-0', '2-0-2-1-0-0-0-4-54', '2-1-1-1-0-3-0-4-39', '1-0-1-1-3-1-0', '2-0-1-1-0-3-0-4-99', '2-1-2-1-2-0', '2-0-1-1-0-0-0-4-72', '2-0-1-1-1-3-0-4-87', '2-1-1-2-0-0-0-3-81', '2-0-2-1-1-0-0-4-24', '2-0-2-0-2-0-0-3-45', '2-0-2-0-0-0-0-4-100', '2-0-0-0-2-2', '1-1-0-1-1-0-0-3', '1-0-1-1-0-1-0-4-47', '2-1-1-1-0-0-0-3-55', '2-1-2-1-2-1-0-4-98', '1-0-1-1-3-0-0-4-10', '2-0-2-1-2-0-0-3-83', '1-1-1-1-2-0-0-4-18', '2-0-2-2-1-2-0-4-10', '1-1-2-1-3-0-0-4-53', '2-0-2-2-2-3-1-4', '1-0-2-1-1-3-0-4-100', '1-0-2-2-3-0', '2-0-2-1-2-1-0-3-25', '2-1-1-1-0-3-0-4-75', '2-0-1-1-2-0-0-3-86', '1-0-1-0-3-0-0-4-20', '2-0-2-1-0-0-0-3-92', '2-1-1-0-0', '2-0-1-0-2-2-0-4-63', '2-0-2-1-0-1-0-4-27', '2-0-2-2-3-0-0-3-41', '2-1-2-1-1-1-0-4-61', '2-0-2-2-1-0-1-4-6', '2-0-2-2-2-3-0-4-10', '2-0-1-2-0-1-0-4-4', '2-0-1-2-0-3-0-4-79', '2-0-0-2-0-1-0', '2-0-2-1-2-1-0-4-39', '2-0-0-1-2-3-0-3-44', '2-0-2-1-1-0-0-3-49', '2-0-2-1-3-2-1-4-6', '2-0-2-1-0-0-0-3-80', '2-1-2-1-2-2-0-4-22', '2-1-2-1-0-0-0-4-66', '1-0-2-1-1-3-0-4-3', '2-0-1-2-0-0-0-4-73', '2-1-2-1-1-0-0-4-9', '2-1-1-2-2-1', '2-1-2-1-3-1-0-4-2', '2-0-2-1-2-3-0-3-100', '2-0-1-0-0-2-0-4-57', '2-0-1-1-0-3-0-4-85', '2-0-2-1-2-1-0-4-45', '2-0-1-0-2-2-0-4-31', '2-1-1-1-2-2-0-3-99', '2-1-1-2-0-0-0-3-32', '2-0-1-2-0-2-1', '2-0-2-2-2-1-0', '2-0-2-1-2-2-0-4-58', '2-1-2-1-0-3-0-4-52', '2-0-2-2-2-2-0-3', '2-1-2-2-1-1-0-3-17', '1-0-1-1-3-3-0-4-100', '2-0-1-1-2-1-0-4-50', '2-1-1-1', '2-0-1-1-0-1-0-4-80', '2-0-2-2-1-2-0-3', '2-0-2-1-2-3-0-3-86', '1-1-1-1-1-2-0-4', '2-1-1-0-0-0-0-3-89', '1-0-0-1-2-2-0-3-54', '2-0-1-1-0-0-0-3-41', '2-0-0-2-2-3', '2-0-2-1-1-2-0-3-63', '2-0-1-0-2-3-0-4-8', '2-1-2-1-0-0-0-4-47', '2-1-1-2-1-0-0-4-9', '2-1-1-1-2-2-0-3-39', '2-0-2-2-0-0-0-3-40', '2-0-2-0-0-2-0-3-28', '2-1-1-0-1-1-0-3-51', '2-0-1-1-1-0-0-4-54', '2-0-2-0-1-0-0-4-28', '1-0-1-1-1-2-0-4-51', '2-1-2-1-1-0-1-4-8', '2-1-2-1-0-1-0-4-33', '2-1-2-1-3-2-1-4-4', '2-0-2-0-2-2-0-3-84', '2-1-1-1-1-2-0-3-9', '1-1-2-0-2-1-0-4-60', '2-1-1-1-1-2-0-4-74', '2-1-1-0-3-3-0-4-24', '1-0-2-2-3-1-0-4-42', '2-1-0-0-1--1-0-3-40', '1-0-1-0-0-3-0-4-98', '1-0-1-1-2-3-0-4-58', '2-0-1-1-2-3-0-4-62', '2-1-1-1-2-3-0-3-55', '2-1-1-1-1-0-0-4-62', '2-1-1-1-0-2-0-3-16', '2-0-2-1-1-0-0-4-78', '2-0-1-1-2-1-0-3-75', '2-0-1-1-3-2-0-4-86', '2-0-1-0-1-0-0-3-62', '2-0-1-0-1-3-0-4-99', '2-0-2-1-3-3-1-4', '2-0-1-0-2-3-0-3-90', '2-0-1-1-1-1-0-4-62', '2-0-2-2-1-2-0-4-98', '2-1-1-0-0-0-0', '2-1-2-1-3-0-0-4-42', '2-0-2-1-2-3-0-4-10', '2-1-1-1-0-2-0-3-25', '2-0-0-1-0-0-0-3-8', '2-0-2-0-2-2-0-4-99', '2-1-2-1-3-0-0-4-3', '1-0-2-0-2-2-0-4', '2-0-2-1-0-0-0-3', '2-0-1-1-0-1-0-4-83', '1-0-1-1-3-0-0-4-95', '2-0-2-0-2-3-0-4-74', '2-0-2-0-2-1-0-4-12', '2-0-1-1-1-0-0-3-11', '2-1-1-0-2-0-0-4-54', '2-0-2-1-1-1-0-3-52', '1-0-2-1-0-0-0-4', '2-0-1-2-0-1-0-3-5', '2-1-1-1-2-0-0-4-1', '2-1-1-1-0-2-0-4-21', '2-0-2-1-0-0-0-3-66', '2-0-1-1-3-2-1-4-3', '2-0-1-1-1-1-0-3-73', '2-1-2-1-3-1-0-4-10', '2-0-1-0-1-3-0-3-41', '1-0-2-1-1-3-0-4-57', '2-1-1-0-0-0-0-4-91', '1-1-2-1-3-3-0-4-26', '2-1-2-1-1-0-0-4-78', '2-0-1-0-2-2-0-3-80', '2-0-1-1-2-1-0-4-27', '1-0-1-1-2-3-1-4-2', '2-0-1-1-2-0-0-3-75', '2-0-1-0-1-2-0-4-37', '2-0-2-0-3-1-0-4-12', '2-0-2-0-1-0-0-3-80', '2-1-1-1-3-0-0-3-46', '1-0-1-1-3-2-0-4-19', '2-0-2-1-1-1-0-4-80', '1-0-2-1-3-3-0-4-8', '2-0-1-1-2-1-0', '2-1-0-2-3-2-0-4-1', '2-0-2-0-2-2-0-3-53', '2-1-2-0-2-0-0-3', '2-1-2-1-1-1-0-4-76', '2-0-0-1-0-1-0-3-34', '1-1-1-1-2', '2-1-2-1-0-1-0-4-25', '2-0-2-2-2-3-0-4-100', '1-1-1-1-3-0-0-4-7', '2-0-1-0-0--1-0-3-98', '2-1-1-0-1-0-0-3', '2-1-1-1-0-0-0-3-10', '2-0-2-1-2-0-1-4-12', '2-1-2-1-1-1-0-4-19', '2-0-1-1-1-1-0-3-16', '2-1-2-1-0-1-0-4', '2-1-1-1-1-2-0-4-2', '2-0-1-1-3-3-0-4-52', '2-1-1-1-1-2-0-4-8', '2-0-1-2-3', '2-1-1-1-0-1-0-4-24', '2-0-2-0-1-2-0-4-82', '2-0-2-1-2-3-0-4-50', '2-0-1-0-2-3-0-3-42', '1-0-2-1-2-2-0-4-2', '2-1-0-1-2-2-0-3-30', '2-0-1-0-2-3-0-4-75', '2-1-1-1-0-0-0-4-84', '2-0-2-1-1-2-0-3-6', '2-0-0-1-0-0-0-3-100', '2-0-1-1-0-0-0-4-23', '2-1-2-1-1-0-0-3-2', '2-0-2-0-2-3-0-4-35', '2-0-2-1-1-3-0-3-25', '1-1-1-1-3-2-0-4-100', '2-1-2-0-2-0-0-3-12', '2-0-2-1-1-3-0-4-81', '2-0-1-2-3-1-0-4-1', '2-0-2-1-3-1-0-4-43', '2-1-1-0-2-0-0-4-81', '2-0-2-1-0-0-0-3-100', '2-1-2-1-3-0-0-4-89', '2-1-1-1-2-2-0-4-30', '2-1-2-1-1-0-0-3-78', '2-0-1-1-0-0-0-4-12', '2-1-2-1-0-0-0-4-80', '1-0-0-1-2-0-0-3-54', '2-0-2-0-0-0-0-3-49', '1-0-2-1-3-2-0-4-13', '2-1-2-1-0-3-0-4-45', '2-1-2-1-2-0-0-4-66', '2-0-1-0-0-3-0-4-76', '2-1-2-0-3-0-0', '2-0-2-1-1-1-0-4-67', '2-0-2-1-0-3-0-4-63', '2-0-2-1-1-2-0-4-13', '2-0-1-2-0-2-0-3', '2-0-2-1-2-0-0-4-97', '1-0-1-1-2-2-1-3', '2-0-1-0-2-0-0-3-9', '2-1-2-1-3-0-0-4-5', '2-0-1-0-0--1-0-3', '2-0-1-1-2-2-0-4-50', '2-1-2-1-1-1-0-3-62', '1-0-1-1-3-0-0-3-100', '2-0-2-2-2-0-0-4-2', '2-1-1-1-0--1-0-3-100', '2-0-1-1-3-2-0-4-46', '2-0-1-1-1-1-0-4-85', '2-1-2-0-2-0-0-4-5', '2-0-1-1-0-0-1-3-6', '2-0-1-2-2-0-0-4-80', '2-0-2-1-2-1-1-4-5', '2-0-1-1-2-0-0-3-26', '2-0-0-1-0-0-1-3-3', '2-0-2-0-1-2-0-4-62', '2-0-0-2-0-0-0', '2-1-2-1-2-1-0-3-75', '2-1-1-1-2-2-0-4-11', '2-0-2-2-2-0-0-3-68', '2-0-2-1-2-0-1-4-1', '2-0-1-1-3-1-0-3-100', '2-0-1-1-2-1-0-3-9', '2-0-2-1-3-2-0-4-17', '2-1-2-1-0-3-0-3-9', '2-1-2-1-0-3-0-3-65', '1-0-2-1-0-0-0-3-95', '2-0-2-1-1-1-0-3-83', '2-1-2-0-1-0-0-3-37', '2-0-2-1-0-2-0-4-80', '2-0-2-1-1-0-0-3-63', '2-0-1-1-2-2-0-4-27', '2-0-1-0-1-0-0-4-39', '1-0-1-2-2-0-0-4-70', '2-0-2-0-1-2-0-4-22', '2-0-2-1-2-1-0-3-47', '2-0-2-1-2-2-1-4-5', '2-0-1-0-0-2-0-3-30', '2-0-1-2-1-3-0-4-100', '1-0-1-0-0-2-0-4-51', '2-0-1-0-0-0-0-4-46', '2-0-1-1-2-1-0-4-30', '2-0-2-0-0-0-0-3-35', '1-0-1-0-1-3-0-4', '2-1-2-2-2-2-0-4-1', '2-0-1-1-0-1-0-4-45', '2-0-2-1-3-3-0-4-97', '2-0-2-1-2-1-0-4-18', '2-0-2-2-1-0-0-4-76', '2-1-2-2-2-0-0-3-76', '2-0-2-2-0-0-0-4-13', '2-1-1-1-0-0-0-3-80', '1-0-0-1-0-0-0-3-97', '2-0-1-0-3-1-0-3', '2-0-1-0-3-0-0-3-11', '2-0-0-0-0-0-0-3-65', '1-0-2-2-3-1-0-4-36', '1-0-2-1-3-3-0-4-17', '2-1-2-1-0-2-0-4-71', '1-0-2-1-3-0-0-4-100', '2-0-2-1-0-1-0-4-26', '2-0-2-1-2-2-0-3-9', '2-0-1-1-2-2-0-3-41', '1-0-2-1-0-0-0', '1-0-1-1-2-2', '2-1-1-1-2-1-0-4-18', '2-1-2-1-0-1-0-4-69', '1-1-1-1-3-0-1', '1-0-2-1-3-0-0-4-37', '2-0-1-0-2-2-0-3-45', '2-1-1-2-0-0-0-3-6', '2-1-2-1-0-1-0-4-41', '2-0-2-0-2-2-0-4-18', '2-1-2-1-2-0-0-3-81', '2-1-2-1-2-3-0-4-3', '2-1-1-1-3-3-0-3-66', '2-1-1-1-1-1-0-3-36', '2-0-0-1-2-1-0-3', '2-0-2-1-1-3-0-4-77', '1-0-1-1-3-3-0-4-29', '1-1-2-1', '1-1-1-1-2-2-0-4-61', '2-0-2-1-1-0-0-3-40', '2-0-2-1-2-0-0-3-28', '2-0-1-1-2-1-0-4-89', '1-0-1-1-3-3-0-4-20', '2-0-2-1-1-3-0-4-95', '2-0-1-1-3-3-0-3-93', '2-1-1-0-1-2-0-4-11', '2-0-1-1-2-1-0-4-69', '2-0-2-1-0-2-0-4-30', '2-0-1-1-0--1-0-3-38', '2-0-1-1-2-3-0-4-82', '1-1-0-1-0-0-0-3-99', '2-1-1-0-3-3-0-4-22', '2-0-2-1-0-0-0-4-75', '2-0-2-1-3-3-0-3-90', '2-1-1-1-2-0', '1-1-1-1-2-0-0-4-47', '1-0-2-1-2-0-0-3-54', '2-1-1-1-1-3-0-4-52', '1-0-1-1-3-1-0-4', '2-0-1-1-1-1-0-3-19', '2-1-1-1-2-3-0-4-16', '2-1-2-1-3-0-0-3-42', '2-0-1-0-2-0-0-4-7', '1-1-2-1-3-3-0-4-6', '2-0-2-0-3-3-0-3-22', '2-1-1-0-0-1-0-3-80', '2-1-2-1-1-2-1-3', '2-1-2-1-2-3-0-3-36', '2-0-1-1-2-2-0-4-74', '2-1-1-1-3-2-0-4-42', '2-1-2-0-1-0-0-3-45', '2-0-2-2-0-1-0-4-37', '1-1-1-1-2-1-0-4-29', '2-1-2-1-0-3-0-4-100', '2-0-1-0-2-1-0-4-37', '2-1-1-1-0-3-0-4-37', '2-0-1-2-1-0-0-4-3', '2-0-1-1-0-0-0-3-28', '2-0-1-1-2-3-0-3-9', '2-1-1-1-3-0-0-4-39', '2-1-2-1-2', '2-0-2-1-0-2-1-3-4', '2-1-1-1-2-1-0-4-69', '2-1-1-2-0--1', '1-0-2-2-3-3-0-3', '2-1-2-1-3-0-0-4', '2-0-1-1-0-3-0-4-62', '2-0-1-1-1-0-0-4-76', '2-0-1-0-1-0-0-3-42', '2-0-1-1-0-2-0-4-74', '2-0-2-2-1-3-0-4-43', '2-0-1-1-1-2-0-4-19', '2-1-2-1-1-3-0-4-99', '2-0-1-0-0-2-0-3-32', '2-1-2-1-1-1-0-4-43', '2-1-2-2-2-3-0-3-24', '1-0-2-0-3-1-0-4-3', '2-1-1-1-0-2-0-4-61', '2-0-2-0-1-2-0-4-85', '2-0-2-1-2-2-0-4-52', '2-1-1-1-1-2-0-4-23', '2-0-2-2-3-0-0-4', '2-0-2-1-1-1-0-4-99', '1-0-2-1-1-2-0-4-3', '2-1-2-1-2-3-0-4-68', '2-1-2-2-3-1-1-3', '2-0-1-1-2-0-0-4-51', '2-1-1-0-2-3-0-2', '2-1-2-1-2-1-0-4-17', '2-1-2-2-3-2-1-3-2', '2-0-2-1-2-2-0-3-42', '2-0-1-1-0-1-0-4-54', '2-0-0-1-2-1-0-3-93', '2-0-1-1-0-3-0-4-66', '2-1-2-1-3-0-0-4-91', '1-0-1-2-3-0-0-4-73', '2-0-2-1-0-3-0-4-5', '2-0-2-1-1-1-0-4-26', '2-1-2-0-1-2-0-4-44', '2-1-1-0-0-0-0-3-37', '1-0-0-1-3-2', '2-0-1-1-1-1-0-3-33', '2-0-1-1-1-1-0-4-64', '1-0-1-1-3-2-0-4-33', '2-1-1-0-2-0-0-4-66', '2-1-1-2-1-2-0-4-100', '2-0-1-0-1-2-0-4-63', '2-1-2-1-0-0-0-4-92', '1-0-1-1-2-3-0-4-73', '2-0-2-0-1-2-0-4-75', '2-1-2-1-0-1-0-4-44', '1-1-2-1-2-0-0-3-35', '2-0-2-2-0-2-0-4-63', '2-0-2-0-2-3-0-3-79', '2-1-1-1-2-1-0-4-42', '2-0-1-1-1-0-0-4-10', '1-1-2-1-0-0-0-4-34', '1-1-2-1-2-0-0-4-51', '2-0-1-1-1-2-0-4-54', '2-0-1-1-1-2-0-4-70', '2-0-1-0-0-3-0-4-34', '2-0-2-2-0-0-0-4-34', '2-0-2-2-2-0', '1-0-1-1-3-1-0-3-43', '2-0-1-0-1-1-0-4-6', '2-1-1-1-2-2-0-4-80', '1-1-1-0-0-0-0', '2-0-2-0-1-0-0-3-14', '2-1-2-1-1-2-0-4-1', '2-0-1-1-1-0-0-4-57', '2-0-2-1-2-3-0-4-35', '2-0-1-1-1-2-0-4-57', '1-0-2-1-1-3-0-3-52', '2-0-0-1-2-0-0-3-67', '2-0-2-1-0-0-0-4-40', '2-1-1-1-1-2-0-3-99', '2-0-1-1-0-2-0-3-55', '1-0-1-1-3-2-0-4-14', '2-1-1-2-1-3-0-4-18', '2-0-1-1-0-2-0-4-55', '1-0-2-2-0-3-1-4-1', '2-0-1-1-1-2-0-4-73', '1-0-1-1-2-3-0-4-4', '2-1-2-2-0-1-0', '1-0-1-0-2-2-0', '2-1-1-1-2-2-0-4-29', '1-0-1-1-3-1-0-4-95', '2-0-2-0-0-2-0', '2-0-1-1-0-0-0-3-69', '2-1-1-1-0-1-0-3-14', '2-0-2-0-2-2-0-4-24', '1-1-1-1-3-3-0-3-14', '1-0-2-1-2-0-0-3-71', '1-0-1-1-2-3-1-4-6', '2-1-1-1-2-2-0-4-39', '2-0-2-1-0-3-0-4-95', '2-0-0-2-0-1-0-3-19', '2-1-2-0-1-2-0-4', '1-0-2-2-3-1-0-4', '1-0-1-1-3-1-0-4-58', '2-0-1-2-0-0-0-3-3', '2-1-1-0-0-1-0-4-79', '2-1-2-0-1-3-0-4-1', '2-1-2-0-0-1-0-4-32', '2-1-2-1-2-1-0-4-15', '2-0-1-1-0-1-0-4-77', '2-0-0-1-2-3-0-3-59', '1-0-1-2-3-3-0-4-5', '1-0-1-1-0-3-0-4', '1-0-2-1-3-1-0-3-98', '2-0-2-2-1-2-0-4-33', '1-0-2-1-2-2-0', '2-0-2-0-1-2-0-4-63', '1-1-1-1-2-1-0-4', '1-1-2-1-2-3-0-3-24', '2-0-1-1-2-0-0-3-33', '2-0-2-0-2-0-0-3-61', '2-1-2-1-1-0-0-3-18', '2-1-2-2-2-2-0-3-46', '2-1-1-1-2-3-0-4-7', '2-0-1-0-1-1-0-4-45', '2-1-2-0-1-2-0-3-37', '2-0-2-1-1-0-0-3-30', '2-0-2-1-1-1-0-4-87', '1-1-2-1-0-0-0-4-40', '2-0-2-2-1-3-0-4-99', '2-1-2-1-1-0-1', '2-0-2-0-1-2-0-4-47', '2-0-2-0-1-2-0-4-70', '1-0-2-2-1', '2-0-2-1-2-0-0-4-31', '2-0-1-0-1-0-0-3', '1-1-2-1-2-3-0-3-86', '2-1-2-1-1-1-0-4-18', '2-0-1-1-0-1-0-3-96', '2-0-1-2-0-0-0-3-31', '2-1-1-1-2-0-0-4-32', '2-0-2-0-2-3-0-4-100', '2-1-2-1-3-3-0-3', '1-0-2-1-1-2-0-4-50', '2-1-1-0-2-2-0-4-8', '1-0-1-1-2-0-0-4-4', '2-0-0-1-2-3-0-3-99', '1-1-1-0-3-0-1-4-4', '2-1-1-1-0-2-1-3', '2-1-1-1-2-2-0-4-91', '2-0-2-1-3-0-0-4-86', '2-0-2-0-0-2-0-4-30', '2-0-0-1-1-0-0-3-48', '2-0-2-1-2-2-1-4-10', '2-1-1-1-1-1-0-4-4', '2-0-2-1-0-0-0-4-44', '2-0-2-2-3-1-0-4-2', '2-1-2-0-2-0-0-3-51', '2-0-1-2-0-0-0-3-33', '2-1-2-1-1-1-0-4-21', '2-1-1-1-0-0-0-3-65', '2-1-1-2-3', '2-0-1-1-0-2-0-4-13', '2-0-2-0-1-3-0-4-58', '2-0-1-0-2-0-0-3-17', '2-0-2-0-1-3-0-4-70', '1-0-2-2', '1-0-2-0-3-3-0-3-31', '2-0-1-2-1-0-0-4-68', '2-1-1-0-1-1-0-4-6', '2-0-1-0-0-3-0-3-76', '2-1-1-0-2-2-0-4-88', '1-0-1-0-0', '2-1-1-2-2-1-0-4-54', '2-0-2-1-2-1-0-3-94', '2-1-1-0-2-2-0-4-63', '2-0-1-1-3-1-1-3', '1-0-2-0', '2-0-2-1-3-1-0-4-32', '1-1-1-1-3-0-0-4-19', '2-0-2-2-2-0-0-4-78', '2-0-1-0-3-3-0-4-56', '2-0-1-0-3-0-0-4-6', '2-1-1-1-2-2-0-4-66', '2-1-1-1-1-3-0-3-17', '2-0-1-0-2-2-0-4', '2-0-2-0-1-3-0-3-59', '2-1-2-1-3-1-0-4-6', '1-0-1-1-3-0-0-4-62', '2-1-2-1-0-1-0-4-59', '2-0-0-1-1-2-0-3-46', '1-0-2-1-3-1-0-3-23', '2-0-2-0-2-3-0-4-40', '2-1-2-1-2-1-0-4', '2-0-1-1-2-1-0-3-96', '2-1-1-1-1-0-0-4-79', '2-1-1-2-0-', '2-1-1-1-0--1-0-3-38', '2-1-2-1-0-0-0-3-26', '2-0-1-0-2--1-0-3-40', '2-0-2-2-0-2-0-3-25', '2-1-1-1-0-3-0-4-53', '2-0-1-0-0-0-0-4-74', '2-0-1-1-0-2-0-4-11', '1-0-1-1-3-0-0-4-17', '2-0-2-1-2-1-0-3-49', '2-0-2-0-1--1-0', '2-1-2-1-1-1-0-3-10', '2-1-1-2-2-3-0-3-11', '1-1-2-1-0-3', '2-0-1-0-2-0-0-4-17', '2-0-1-1-0--1-0-3-33', '2-0-1-1-1-3-0-4-85', '1-0-2-2-2-1', '2-0-2-2-1-0-0-4-35', '1-0-0-1-3-0-0-3-61', '1-1-2-1-0-3-0-3-40', '2-1-2-2-1-3-0-4-39', '1-0-2-0-0-3-1', '1-0-0-1-2-2-1-3', '2-0-1-1-2-0-0-3-7', '2-0-2-1-1-2-0-3-33', '1-0-1-1-2-2-1-3-3', '2-0-1-1-2-0-0-4-4', '2-0-2-1-2-2-0-3-24', '2-0-2-0-0-3-0-4-98', '2-0-2-2-0-3-0-4-97', '2-0-1-1-3-0-0-4-86', '2-0-2-0-1-2-0-3-59', '2-0-0-2-1-1', '2-0-2-1-2-2-0-4-17', '2-0-2-2-2-0-0-3-47', '2-1-1-1-1-0-0-3-33', '2-0-0-1-0-3-1-3', '1-0-1-1-2-0-1', '1-0-2-2-3-2', '2-0-2-0-1-0-0-3-86', '2-0-2-1-3-3-0-3-47', '2-0-1-1-3-0-0-4-48', '2-0-1-1-2-2-0-3-18', '2-1-2-0-0-1-0-4-93', '2-0-2-0-1-2-0-4-98', '2-1-2-2-2-3-0-4-1', '1-0-1-0-1-1-0', '2-0-2-1-2-1-0-4-38', '2-0-1-1-2-2-0-4-32', '2-1-1-2-2-0-0-3-19', '2-0-2-1-3-2-0-4-52', '1-0-1-1-2-0-0-3-82', '2-1-1-1-1-0-0-3-74', '2-0-1-1-1-0-0-4-24', '2-0-1-1-2-1-0-3-38', '2-1-1-0-2-0-0-4-67', '2-0-2-1-1-2-0-3-100', '2-0-1-0-0-', '2-0-2-0-2-2-0-4-76', '2-1-1-0-2-0-0-4-34', '2-0-1-1-2-1-1-4-5', '2-1-1-0-2-1-0-3-53', '2-1-2-1-1-0-1-3-7', '2-0-1-1-2-3-0-3-2', '1-0-1-1-3-0-0-4-24', '1-1-0-1-2-0-0', '2-0-0-1-1-1-0-3-69', '2-0-2-1-0-0-0-3-8', '1-0-2-1-3-3-0-3-62', '2-1-1-0-2-2-0-4-82', '2-1-0-1-1-2', '1-1-1-1-1-0-0-4', '2-0-2-2-0-3-0-4-80', '2-0-2-2-0-1-0-4-71', '2-0-1-1-1-0-0-4-5', '2-1-2-0-1-0-0-4-18', '2-1-1-0-1-2-0', '2-0-1-1-2-0-0-4-99', '2-0-2-1-1-0-0-4-7', '2-0-1-2-0-3-0-4-67', '2-1-1-0-1-1-0-4-20', '2-1-2-1-2-2-0-3-15', '1-0-1-0-3-3-0-4-13', '2-1-1-2-1-0-0-3-22', '1-1-0-1-0-1-0', '2-0-0-2-0--1-0-4', '1-0-1-1-2-2-0', '2-1-1-1-0-0-0-4-5', '1-0-0-0-1-0-0-3-52', '2-1-1-0-2-0-0-4-8', '2-1-1-1-0-0-0-4-88', '2-1-1-1-0-3-0-4-77', '2-1-1-1-2-3-0-3-69', '2-1-2-1-2-0-0-4-98', '2-0-1-0-1-0-0-4-17', '1-0-1-1-3-2-0-4-39', '1-1-1-1-2-3-0-4-88', '2-0-1-1-2-3-0-4-77', '2-0-1-1-1-2-0-3-59', '2-0-2-1-1-0-0-3-43', '2-0-1-1-1-0-0-4-63', '2-1-0-2-0-0-0-4-37', '2-0-2-1-1-2-0-3-58', '2-0-1-1-0-1-0-4-68', '1-0-2-1-3-2-0-4-19', '2-0-1-1-2--1-0-3-63', '2-0-2-0-1-3-0-4-82', '2-0-1-1-1-1-0-3-83', '2-0-0-2-1-1-0-3', '2-1-2-1-2-2-0-3-3', '2-0-2-2-1-3-0-4-8', '2-0-2-0-0-2-0-4-60', '1-1-2-1-2-3-0-4-24', '2-1-2-1-2-3-0-3-21', '2-1-2-2-2-3-0-4-99', '2-1-1-1-2-2-0-4-99', '2-1-2-0-1-1-0-4-18', '2-0-0-1-1-3-0-3-11', '2-0-2-2-2-1-0-3-76', '2-1-1-1-0-1-0-4-7', '2-0-2-1-1-1-0-4-32', '2-1-1-1-1-1-0-4-98', '2-1-1-0-2-1-0-3-79', '2-0-1-2-1-0-0-4-7', '1-1-2-1-3-0-0-4-50', '2-0-1-1-2-2-0-4-88', '1-1-1-1-0-3-0-4', '2-0-1-1-1-0-0-4-52', '2-0-0-1-3-3-0-3-3', '2-1-0-1-0--1', '2-1-2-1-3-0-0-4-99', '2-0-2-0-0-1-1-4-3', '1-1-2-1-2-1-0-4-60', '2-0-1-0-2-1-0-3-100', '2-0-0-1-2-1-0-3-14', '2-1-1-2', '2-0-1-1-2-3-0-4-88', '2-1-1-1-2-2-0-3-49', '2-0-1-1-1-0-0-3-65', '2-0-1-0-3--1', '2-0-2-1-1-1-0-4-31', '2-0-1-0-1-1-0-4-59', '2-1-0-2', '2-0-1-1-0-2-0-4-100', '2-1-1-1-2-1-0-3-68', '1-0-2-2-3-3-0-4-76', '2-1-2-1-3-1-0-4-5', '2-0-1-1-1--1-0-3-41', '2-0-2-1-2-2-0-3-74', '2-0-2-1-1-0-0-3-50', '2-0-0-1-2-1-0-2-100', '1-0-2-1-3-3-0-3-19', '2-1-2-2-1-0-0-4-35', '2-1-2-1-1-1-0-4-71', '2-1-2-1-2-2-0-3-38', '2-0-1-1-0-3-1-3', '2-0-2-0-1-0-0-4-5', '1-1-2-1-3-3-0-4', '2-0-2-1-2--1-0-3-100', '1-0-1-1-2-2-1-4-6', '2-0-2-1-1-1-0-4-34', '1-0-2-1-2-3-1-3-10', '1-1-1-1-2-0-0-4-53', '1-0-0-1-2-1-0-3-78', '2-1-1-1-0--1-0-4-12', '2-0-2-0-0-0-0-4-9', '2-0-1-0-1-3-0', '2-1-1-1-0--1-0-4', '2-1-2-2-2-3-0-4-24', '1-0-2-1-0-0-0-4-49', '2-0-2-1-1-2-0-4-2', '2-1-2-1-0-2-0-4-65', '2-1-2-2-2-2', '2-1-1-2-2-3-0-3-1', '2-1-0-1-2-3-0', '2-0-2-1-3-1-0-3-21', '2-0-1-1-0-1-0-3-78', '2-1-1-1-0-2-0-4-35', '2-0-2-1-1-3-0-4-67', '1-0-0-1-0-0-0-3-99', '1-1-1-1-2-0-0-4-43', '2-0-1-1-0-1-0-4-4', '1-1-2-1-3-1-0-4-21', '2-0-2-2-1-1-0-4-22', '2-0-1-0-2-2-0-4-39', '2-0-1-1-2-3-0-4-55', '2-0-1-0-1-3-0-4-27', '2-1-2-2-0-0-0-3-36', '1-0-2-0-3-1-0-4-35', '2-0-0-1-3-1-0-3', '2-0-2-1-1-1-1', '2-0-2-1-1-0-0-4-66', '2-0-2-2-0-1-0-4-96', '2-0-2-1-0-0-0-4-57', '2-0-2-0-1-2-0-4-61', '2-1-1-2-1-1-0-3-5', '2-0-1-1-2-0-0-4-83', '2-0-1-1-0-3-0-4-25', '2-0-1-0-2-2-0-4-77', '2-0-2-1-1-1-0-4-28', '2-0-2-1-2-1-0-4-52', '2-0-1-1-0-0-0-3-61', '2-1-2-1-1-0-0-4-44', '2-0-1-0-1-0', '2-0-0-1-2-2-0-3-18', '2-0-2-1-1-0-0-3-7', '2-0-2-1-3-1-0-4-33', '2-1-2-1-0-0-0-4-22', '2-0-2-1-3-2-0-4-2', '2-0-1-1-0-0-0-3-18', '2-0-1-0-0-0-0-4-26', '2-0-1-0-0-1-0-4-85', '2-0-2-0-2-1-0-4-99', '2-0-2-1-1-0-0-3-67', '2-0-2-1-2-1-0-3-12', '2-1-1-0-1-2-0-4-41', '1-0-1-1-1-3-0-4-99', '2-1-2-0-0-2-0-4-83', '2-0-2-1-0-3-1-3-1', '1-0-1-1-0-1-0-4-45', '2-1-1-0-0-0', '2-0-1-0-1-0-0-4-47', '2-1-1-1-1-1-0-4-67', '2-1-1-1-1-1-0-4-81', '2-0-2-0-2-1-0-4-50', '2-0-2-1-0-0-0-3-47', '2-0-1-1-1-1-0-3-9', '2-0-1-1-2-2-0-3-25', '2-0-1-0-1-1-0-3-93', '2-0-1-0-2-2-0-4-41', '2-1-2-1-0-1-0-4-72', '2-0-1-1-1-0-0-4-67', '2-1-2-1-2-0-1-4-7', '2-1-1-0-1-3-0-4-42', '2-0-1-0-2-2-0-3-63', '2-1-2-2-0-3-0', '2-1-2-1-0-3-1-3-4', '1-1-2-1-2-3', '2-1-2-1-0-2-0-3-26', '2-1-2-1-3-3-0-3-42', '2-0-1-1-0-1-0-4-91', '2-0-2-1-0-3-0-3-45', '2-0-2-2-1-2-0-4-15', '2-1-2-1-1-0-0-4-100', '2-1-1-1-1-2-0-4-24', '2-1-1-1-2-2-0-4-62', '2-1-2-1-2-2-0-4-87', '2-0-1-0-3-1-0-4-76', '2-0-1-1-2-3-0-3-68', '1-1-1-0-2-3-0-3-62', '2-0-1-0-2-2-1', '2-0-1-0-0-1-0-4-33', '2-0-2-2-0-1-0-4-93', '2-0-2-0-2-0-0-4-98', '2-1-1-0-2-0-0-3-92', '2-1-2-1-1-0-0-4-81', '1-1-1-1-0-2', '2-0-2-0-1-2-0-3-9', '1-1-1-1-3-2-0-4-45', '1-0-2-1-3-1-0-4-71', '2-0-1-0-2-0-0-4-41', '2-1-2-1-0-1-0-3-37', '2-0-1-0-2-3-0-3-62', '2-1-1-1-1-3-0-4-40', '2-1-1-1-2-3-0-3-50', '1-0-2-1-3-1-0-4-60', '2-1-2-0-2-1-0-4-19', '2-1-2-1-2-2-0-3-13', '2-1-1-1-0-1-0-3-51', '2-0-1-1-2-1-0-3-1', '2-1-2-1-2-2-0-3-7', '2-0-1-1-2-2-0-4-28', '2-0-1-0-3-1-1', '1-0-1-1-2-0-1-4-4', '2-0-1-2-1-1-1', '2-1-2-1-2-0-0-4-68', '2-0-2-1-1-1-0-4-30', '2-1-2-0-2-1-0-3-54', '2-0-2-1-1-3-0-3-44', '2-0-1-1-3-3-0-3-37', '1-0-0-1-2-0-0-3-41', '2-0-1-0-2-0-0-3-85', '2-0-2-2-2-0-0-4-47', '2-0-1-1-0-0-0-3-2', '2-1-2-0-3-1-0-4-54', '2-0-1-0-2-0-0-4-75', '2-0-2-1-0-0-0-3-23', '2-1-2-1-0-2-0-4-27', '1-0-0-1-3-0-0-4', '2-0-1-1-0-1-0-3-76', '2-0-2-0-3-0-1', '2-0-1-2-1-0-0-4-37', '2-0-1-0-2-0-0-3-11', '2-1-2-1-2-1-0-4-55', '2-0-2-0-1-0-0-3-65', '2-0-1-0-2-1-0-4-13', '2-0-2-0-1-0-0-4-1', '1-0-2-0-3-0-0-3', '1-0-2-1-3-3-0-4-19', '2-0-2-1-0-1-0-4-100', '2-0-2-1-2-0-0-4-57', '2-1-2-1-0-0-0-4-50', '2-1-1-1-2-1-0-4-36', '2-0-1-1-0-0-0-4-81', '1-1-2-1-3-1-0-3-42', '2-0-2-1-3-2-1-4', '2-0-1-1-3-3-1-4-2', '2-0-2-1-0-1-0-4-62', '1-1-2-1-3-2', '1-0-1-1-0-2-0', '2-0-2-0-2-3-0-4-11', '2-0-1-1-1-1-0-3-38', '2-1-1-2-0-0-0-3-71', '2-1-0-1-2-1-0-3-34', '2-1-2-1-1-3-0-4-3', '2-0-2-1-1-3-0-4-6', '1-0-1-1-3-3-0-3-25', '2-0-1-1-2-3-0-4-40', '2-1-1-1-2-3-0-4-22', '2-0-1-1-0-1-0-4-34', '2-0-1-0-1-3', '2-1-1-2-1-0-0-3-39', '2-1-2-1-2-0-0-4-76', '2-0-2-1-2-3-0-4', '2-0-1-1-2-3-0-3-41', '2-1-2-1-3-2-0-4-10', '2-0-1-0-3--1-1-3-3', '2-0-0-1-1-0-0-3-27', '2-0-2-1-3-1-0-4-41', '2-0-1-1-1-2-0-3-79', '2-1-1-1-2-3-0-4-82', '2-1-1-1-1-2-0-4-1', '1-1-1-1-1-3', '2-0-1-1-2-2-0-3-13', '2-0-1-0-0-1-0-3-96', '1-0-2-0-1-3-0-3', '2-0-2-0-1-1-0-4-30', '2-1-2-0-1-0-0-4-7', '2-0-1-1-1-1-0-4-61', '2-0-1-1-2-3-0-3-55', '2-1-1-2-2-0-0-4-20', '2-1-2-1-3-1-0-4-52', '1-1-2-1-3-2-0-4-18', '2-0-1-0-0-2-0-4-35', '2-1-2-1-0-2-0-4-81', '2-1-2-0-0-0-0-4-21', '2-0-1-1-2--1-0-3-45', '2-1-2-1-2-3-0-4-82', '2-0-1-1-2-0-0-3-46', '2-0-2-0-1-0-0-3-71', '1-0-1-1-3-0-0-3-4', '2-0-1-1-2-2-0-4-14', '2-1-1-1-1-3-0-4-82', '2-1-0-1-1-0-0-3-6', '2-1-1-1-2-2-0-4-46', '2-0-2-1-3-0-0-4-39', '2-0-1-0-2-3-0-4-86', '1-0-1-1-2-0-0-3-21', '2-1-1-1-2-1-0-4-99', '2-1-2-1-0-2-0-3-22', '2-0-2-2-2-0-0-4-4', '2-1-2-1-0-2-1-3', '2-0-2-1-2-3-0-3-95', '2-0-1-1-1', '2-0-2-1-1-0-0-4-27', '2-0-2-1-3-0-1-4-8', '2-1-1-1-1-0-0-4-82', '2-1-2-1-2-3-0-3-37', '2-0-2-1-0-0-0-4-21', '2-0-1-0-1-2-0-3-80', '2-0-2-2-2-2-0-4-48', '1-0-2-1-3-1-0-4-10', '2-1-2-1-0-2-0-4-76', '1-0-1-1-3-0-0-4-13', '1-1-2-1-3-3-0-3-24', '1-1-1-1-2-0-0-3-50', '2-0-2-0-0-1-0-4-68', '2-1-2-1-2-0-0-4-14', '2-0-2-0-1-2-0-4-76', '2-1-1-0-0-1-1', '2-1-2-1-2-0-0-4-70', '1-0-1-1-2-0-0-4-63', '2-1-2-1-1-1-0-1-49', '2-1-1-0-0-1-0-4-93', '1-1-2-1-3-3-0-4-9', '1-0-1-0-3-3-0-4-18', '2-1-1-1-2-2-0-3-91', '2-0-2-1-1-0-0-4-92', '1-0-0-1-2-0-0-3-85', '1-1-2-1-2-3-0-4-79', '2-0-1-0-2-0-0-4-50', '2-1-0-1-1', '2-0-2-1-2-2-0-4-33', '2-0-1-1-1-1-0-3-5', '2-1-2-0-1-3-0-3-99', '1-0-2-1-3-0-0-4-98', '2-1-2-1-2-2-0-4-59', '2-0-0-1-1-0-0-3-74', '2-0-2-0-2-1-0-4-45', '1-0-2-1-2-3-0-4-72', '2-0-1-1-0-0-0-3-60', '1-0-1-1-3-1-0-4-57', '2-1-1-1-0-0-0-3-6', '2-0-2-0-1-1-0-3-99', '2-0-1-0-1-1-0-3-55', '2-0-2-1-0-2-0-3', '1-0-1-1-1', '1-0-2-1-3-0-0-4-3', '2-1-2-1-0-1-0-4-43', '2-0-2-0-1-2-0-4-23', '2-0-0-1-0-1-0-3-22', '1-0-1-0-3-1-0-3-12', '2-0-0-1-2--1-0-3', '2-0-1-1-1-0-0-4-15', '1-0-1-0-3-0-0-3-49', '2-0-1-0-2-0-1-3-1', '2-1-2-1-0-0-0-4-35', '2-1-1-0-0-1-0-3-56', '2-1-2-1-2-3-0-3-56', '1-0-0-1-2-0-0-3-23', '2-1-1-0-1-1-0-3-1', '2-0-1-0-3-0-0', '2-1-1-1-0-3-0-4-15', '2-0-1-1-0-0-0-1-64', '2-0-2-0-1-3-0-3-14', '2-0-1-1-2-2-0-4-31', '2-0-2-2-1-1-0-4-44', '2-1-1-1-0-2-0-4-37', '1-1-2-2-2-0-0', '2-1-2-2-1-2-0-4-3', '2-1-2-0-1-0-0-4-41', '2-0-1-0-2-1-0-3-49', '2-1-0-1-0-1-0-3-71', '2-0-1-1-1-0-0-4-3', '2-0-1-0-2-0-0-4-5', '2-0-2-1-1-1-0-4-45', '2-1-1-1-2-0-0-4-42', '2-1-1-1-0-0-0-4-8', '2-1-1-1-0-0-0-4', '2-1-1-1-2-2-0-4-100', '1-0-0-1-0-0-0-3-55', '2-0-0-1-1-2-0-3-43', '2-0-2-1-1-2-0-4-27', '2-0-1-2-1-2-1', '2-1-1-1-1-2-0-3-96', '2-0-1-1-0-2-0-3-84', '2-0-2-1-0-2-0-4-45', '1-0-0-0-0-0-0', '1-0-2-1-1-3-0-4-99', '2-1-1-1-2-2-0-3-100', '1-0-1-1-0-1-1-4', '1-0-1-1-3-0-0-4-100', '1-1-1-0-2-0-0-3-52', '2-0-2-1-1-2-0-4-15', '1-1-2-1-2-0-0-3-62', '2-1-1-1-0--1-0-3-53', '2-1-2-0-3-1-0-4', '2-0-2-1-2-1-0-3-36', '1-0-1-1-3-2-0-3', '2-0-2-1-0-1-0-4-16', '1-0-2-1-0-2-0-4', '1-0-2-1-2-1-0-4-88', '2-1-2-1-0-0-0-3-37', '2-1-2-2-1-0-0-4-6', '2-0-2-2-0-0-0-2', '2-1-2-1-2-0-0-4-31', '2-1-1-1-1-1-0-4-58', '2-0-1-0-1-0-0-3-55', '1-0-1-0-3-0-0-3-1', '2-0-1-1-0-0-0-3-100', '2-1-1-0-2-1-0-4-6', '2-0-2-1-1-3-0-3-43', '1-0-1-0-0-1-0-3-98', '1-1-2-1-3-3-0-4-99', '1-0-2-1-2-1-0-3-64', '2-1-2-1-2-0-0-3-65', '1-1-2-1-3-2-0-4-26', '2-0-1-1-1-3-0-4-73', '2-1-2-1-0-0-1-4-4', '2-1-1-0-1-1-0-4-36', '2-0-1-1-2-0-0-4-34', '2-1-1-2-2-0-0-4-1', '2-0-1-2-0-2-0-4-3', '2-1-2-1-2-0-0-4-15', '2-0-2-2-2-0-0-3-84', '2-0-1-1-1-3-0-4-10', '1-1-2-1-3-1-0-4-40', '2-0-1-2-2-0-0-4-39', '2-0-2-0-1-0-0-3-3', '2-0-1-0-1-3-0-3-99', '2-0-1-1-2-1-0-4-18', '1-0-2-1-2-3-0-3-88', '2-1-2-1-3-0-0-3-5', '2-0-1-1-0-0-0-4-69', '2-0-1-1-0-0-0-4-36', '2-1-1-1-0-2-0-4-43', '2-0-1-0-1-0-0-3-63', '2-1-1-1-2-1-0-3-31', '1-0-2-1-2-1-0-4-70', '2-0-2-2-2-1-0-4-46', '2-0-1-2-0-2-0-4-6', '1-1-2-1-0-1-0-4-40', '2-0-1-0-0-0-0-4-54', '2-1-0-1-3-0-0', '2-1-2-1-3-2-0-4-31', '2-0-1-1-2--1-0-3-56', '1-1-2-1-3-0-0-4-18', '2-1-2-0-3-1-0-3', '1-0-0-1-2-0-1-3-6', '2-0-1-2-2-2-0-4', '1-0-2-1-3-2-0-4-29', '2-0-2-1-1-1-0-4-92', '2-0-1-1-2-3-0-3-98', '2-0-1-2-2-1-0-3-76', '2-1-2-0-1-1-0-4-42', '2-1-1-0-2-2-0-3-77', '2-0-1-0-1-1-0-4-39', '2-0-1-1-0--1-0-3-78', '2-0-2-1-1-2', '1-1-1-1-2-1-0-4-61', '1-0-1-2-1-1-0-3', '2-0-1-0-2-2-0-4-97', '2-0-2-1-0-0-0-4-11', '2-0-2-1-2-0-1-3', '2-0-1-0-1-2-0-3-45', '2-0-1-1-0-1-0-4-8', '2-0-2-0-2-0-0-4-92', '2-0-1-0-2-3-0-3-86', '2-0-1-1-3-2-0-4-41', '2-0-2-1-1-3-0-4-100', '2-1-1-0-1-1-0-3-64', '2-0-1-1-0-1-0-3-35', '2-0-2-0-2-3-0-4-53', '2-0-2-0-2-3-0-4-79', '1-0-1-1-0-2-0-4', '2-1-1-1-2-1-0-4-62', '2-0-1-1-1-2-0-3-46', '1-0-2-1-3-2-0-4-6', '2-1-2-1-2-2-0-4-56', '1-0-2-2-2-0-0-4-33', '2-0-2-2-1-2-0-4-85', '2-1-1-1-1-2-0-3-92', '2-0-1-1-0-1-0-4-23', '2-1-1-2-3-3-0-3-44', '2-0-1-1-1-2-0-3-100', '2-0-2-2-0-0-0-4-50', '2-1-1-1-2-2-0-3-45', '2-1-1-2-0-1-0-4-22', '2-0-2-0-1-2-0-3-7', '2-1-2-1-1-0-0-4-65', '2-0-1-1-1-0-0-4-25', '2-1-0-2-3-2', '2-0-2-0-1-2-0-4-13', '2-1-1-0-0-3-1', '1-0-2-1-1-0-0-4-57', '2-1-2-1-1-3-0-4-83', '2-1-1-1-0-1-0-4-58', '2-0-0-1-1-0-0-3-25', '1-0-2-1-2-0-0-3', '2-0-1-1-1-2-0-3-62', '2-0-1-0-2-0-0-4-8', '2-0-0-2-0--1-0-4-31', '2-0-1-1-2-0-0-4-24', '2-0-1-1-1--1-0-4-14', '2-0-1-1-1-3-0-3-82', '2-1-1-1-1-1-0-4-46', '2-1-2-1-1-2-0-3-33', '2-0-1-1-0-0-1-3-1', '2-1-1-0-1-1-0-4-4', '2-1-2-0-1-0-0-3-4', '2-0-1-0-2-2-0-4-47', '2-1-2-1-3-2-0-4-25', '2-0-1-1-0-3-0-3-55', '2-1-2-1-1-0-0-3-99', '2-1-2-2-0-1-0-3-85', '2-1-1-0-2-1-0-4-76', '2-0-1-0-2-0-0-3-95', '2-0-2-2-0-2-1-3', '2-0-1-0-2-3-0-4-47', '1-0-2-2-3-0-0-1', '2-0-1-0-1-0-0-4-6', '2-0-2-0-2-1-0-4-10', '2-1-2-0-1-1-1-4', '2-1-1-0-2-2-0-3-100', '2-0-1-1-0-0-0-4-47', '2-1-2-1-2-0-0-4-43', '2-1-1-1-1-0-0-3-6', '2-1-2-1-2-1-0-3-99', '2-0-2-0-0-1-0-4-80', '2-0-2-2-2-2-0', '1-0-2-1-2-2-1-3-1', '1-0-1-0-3-3', '2-0-2-1-1-1-0-3-27', '2-1-2-1-1-1-1-3-8', '2-1-0-1-0-3-0-3-3', '2-0-2-1-0-0-0-4-18', '2-0-1-0-1-0-0-3-29', '1-0-2-1-1-3-0-3-4', '2-0-1-0-1-3-0-4-55', '2-0-1-2-0-0-0-4-5', '2-0-2-1-0-1-0-4-73', '2-0-1-1-0-2-0-4-32', '2-0-2-1-2-2-0-2-32', '2-0-1-1-2-2-0-3-30', '2-1-1-2-1-3-0', '1-0-0-0-3-3', '2-1-2-1-0-3-0-4-24', '2-0-2-1-0-1-0-3-24', '2-0-1-2-1-1-0-4-32', '2-0-2-2-0-0-0-4-15', '2-1-1-1-1-0-0-4-40', '2-1-2-0-2-0-0-4-51', '2-1-0-1-0--1-1', '1-0-1-1-0-3-0', '1-0-2-1-2-3-0-4-53', '2-0-1-0-2-1-0-4-14', '2-1-1-1-2-0-0-4-95', '2-0-2-1-3-3-1-3-6', '1-0-1-2-2-2-0-4', '1-0-1-1-3-3-0-3', '2-1-2-1-1-0-0-4-51', '2-1-2-2-0-1-0-4-85', '2-0-2-1-1-0-0-4-44', '2-1-1-1-2-3-0-4-77', '2-0-2-1-1-0-0-4-68', '2-0-2-1-1-0-0-4-28', '2-1-2-1-2-1-0-4-91', '1-0', '2-0-2-2-2-3-0-4-36', '2-0-2-1-2-3-0-4-47', '2-1-1-1-0-0-0-4-47', '2-0-2-1-1-0-0-4-65', '2-1-2-0-2-1-0', '2-0-1-0-2-2-0-4-5', '2-1-1-1-1-2-0', '2-0-1-1-1-1-0-4-48', '2-1-1-0-0-2-0-4-80', '2-0-1-1-0-0-0-4-14', '1-0-1-1-3-1-0-4-32', '2-1-0-1-1-1-0-4-44', '2-1-2-1-0-2-1-3-3', '2-0-1-1-2-3-0-4-65', '2-0-0-1-1-2-0-3-42', '2-0-1-0-1-0-0-4-83', '1-0-2-1-2-0-0-4-59', '2-1-1-1-2--1', '1-0-2-1-2-2-0-3-66', '2-1-2-0-1-3-0-4-72', '2-1-2-1-0-2-0-3-89', '2-1-2-1-1-3-0-3-56', '2-0-2-1-0-1-0-4-68', '2-0-1-0-1-0-0-3-24', '2-0-2-2-1-3-0', '2-1-1-1-0-2-1-4', '2-0-1-1-2-3-0-4-64', '2-0-1-2-1-2-0-3-100', '2-0-1-1-2-3-0-4-35', '1-0-1-1-3-0-0-4-67', '2-0-1-1-3-3-0-3-94', '2-1-2-1-0-1-1-4-3', '2-1-0-1-2-2-0-3-95', '1-1-1-1-3-2-0-4-14', '2-0-1-2-1-0-0-4-15', '1-1-1-1-2-3-0-4-62', '2-1-1-1-2-1-0-4-39', '2-0-1-1-0--1-0-4-37', '2-1-1-2-1-2-0-3-35', '2-1-1-0-1-3-0-4-6', '2-0-1-1-2-1-0-4-40', '1-0-1-1-3-3-0-1-39', '2-0-2-1-3-0-0-4-6', '1-0-1-1-1-2', '2-1-1-1-2-0-0-3-38', '2-1-2-0-3-2-0-4', '2-1-2-0-1-2-0-4-40', '2-0-1-1-1-1-0-3-74', '2-0-2-1-2-2-0-4-6', '2-0-1-1-0-0-0-4-25', '2-0-1-1-1-2-0-3-23', '2-0-2-1-0-2-0-4-94', '2-0-2-1-0-2-1-3', '2-0-2-1-0-1-1-3', '2-0-1-1-3-0-0-4-37', '2-1-2-1-2-3-0-4-6', '2-0-0-0-0-0-0-3-15', '2-0-1-1-2-0-0-4-36', '1-0-1-1-1-1-0-3-3', '2-1-1-1-2-0-0-4-29', '2-1-2-1-2-2-0-4-65', '1-0-1-1-2-3-0-4-98', '2-0-2-1-0-3-1-3-3', '2-1-1-2-0-1-1-4', '2-1-1-2-3-1-0-3-28', '2-0-2-1-2-0-0-3-43', '2-0-1-0-1-0-0-4-18', '1-1-2-1-1-0-0', '2-0-1-1-2-3-0-3-48', '2-0-1-2-1-3-1', '2-0-2-2-2-1-0-3-37', '2-0-1-2-0-2-0-4-25', '2-0-1-0-2-1-0-4-98', '2-1-2-1-0-0-0-4-37', '1-1-1-0-3-2', '2-0-1-0-1-2-0-4-22', '1-1-1-1-2-3-0-4-3', '1-0-2-1-3-0-0-4-90', '2-1-2-2-1-2-0-4-30', '2-1-2-1-2-2-0-3-20', '2-1-0-1-1-3-0-4', '2-0-2-2-0-0-1-4-3', '1-0-1-1-0-3-1-4-1', '2-0-2-1-3-0-0-4', '2-0-0-0-2-1-0', '2-0-2-2-2-3-0-4-18', '2-0-2-2-0-2-0-4-70', '2-1-1-2-0-1-1', '2-1-2-1-2-2-0-4-34', '2-0-1-2-2-0-0-3-45', '2-1-2-1-0-0-0-4-68', '1-0-2-1-2-1-1-3', '1-1-2-1-2-2-0-4-61', '2-1-2-0-2-2-0-4-22', '2-0-1-1-1-1-0-4-46', '2-0-2-1-2-2-0-3-30', '2-0-2-2-2-0-0-4-16', '2-0-2-1-0-1-0-4-37', '2-0-2-0-2-3-0-4-6', '1-0-1-1-1-3-0-2', '2-1-2-1-1-2-0-4-90', '1-1-2-1-2-0-0-3-51', '2-0-1-0-0-3-0-4', '2-0-2-1-0-1-0-4-78', '2-0-1-1-1-0-0-4-74', '2-1-1-1-1-1-0-4-1', '2-1-2-1-2-3-0-4-65', '2-0-1-0-1-2-0-4-46', '2-1-2-1-1-1-1-4-6', '2-0-2-1-2-3-1-3-9', '2-0-1-1-2-0-0-3-4', '1-0-1-2-3', '2-0-1-1-1-1-0-4-28', '2-0-2-1-2-1-0-4-78', '2-1-1-1-0-2-0-4-45', '2-0-2-1-3-3-0-4', '2-0-2-2-1-0-0-4-97', '2-0-1-1-1-2-0-3-8', '2-0-2-2-0-1-1-4', '2-0-2-1-0-3-0-4-98', '2-0-1-1-2--1-0-3-100', '2-0-1-1-0-1-0-4-31', '2-0-2-1-1-0-0-4', '2-0-1-1-2-3-0-3-84', '2-1-1-1-1-1-0-3-17', '2-1-1-2-0-0-0-3-45', '2-0-1-1-2-1-0-3-70', '2-0-1-0-1-0-0-4-45', '2-1-1-1-1-0-0-3-39', '2-0-1-1-2-2-1-4-8', '2-1-1-1-1-0-0-3-54', '2-0-2-1-0-2-0-3-81', '2-0-1-2-0-3-0-3-77', '2-0-1-0-0-0-0', '2-0-2-1-0-1-0-3-28', '2-1-2-1-0-0-0-3-45', '2-0-1-1-1-1-0-3-29', '2-0-2-1-0-3-0-4-47', '2-0-1-2-1-0-0-4-21', '2-0-2-2-1-2-0-4-35', '2-1-2-1-3-1-0-4-99', '2-1-2-1-1-0-0-3-16', '1-0-0-1-2-2-0-3-58', '1-1-2-1-2-3-0-4-33', '2-0-2-1-0-0-0-3-4', '2-1-1-1-1-3-0-3-24', '1-0-1-1-2-3-0', '2-0-1-2-0-1-0-4-83', '2-1-2-1-3', '2-1-1-0-0-0-0-3-94', '2-0-1-0-2-2-0-4-42', '1-1-2-1-0-0-0-3-95', '2-0-1-0-0-2-1-3', '2-1-1-0-2-2', '2-0-2-1-3-0-0-4-97', '2-0-1-2-1-0-0-3-21', '1-1-1-1-3-0-0-4-12', '2-0-2-1-3-0-0-3-40', '2-1-1-1-0-3-0-4-19', '2-1-0-1-0-1-1-3', '2-0-2-2-0-1-1', '1-0-2-1-2-3-0-4-25', '2-1-1-0-2-0-0-4-82', '1-0-1-0-3-1-0-4', '2-0-2-1-2-2-0-3-12', '2-1-2-1-1-3-0-4-25', '2-0-1-1-0-3-0-3-71', '2-1-2-2-2-0-0-4-22', '2-1-1-0-2-2-0-4-56', '1-0-1-2-3-0-0-4-56', '2-1-0-1-3-2-0', '1-0-2-1-0-1', '2-1-2-2-0-0-0-4-92', '2-0-2-2-1-0-0-4-69', '2-0-1-0-2-3-0-4-42', '1-1-1-1-2-0-0-4-99', '2-0-2-1-2-2-0-4-22', '2-1-1-2-0-2-0-4-45', '1-0-2-2-3-3-0-4-97', '1-0-2-2-0-1-1-4-1', '2-0-2-1-2-1-1', '2-0-1-0-2-2-0-3-75', '2-1-2-1-1-0-0-4-98', '1-0-0-1-0-0-0-4-98', '2-1-1-0-2-3-0-4-67', '2-0-2-2-2-1-0-4-40', '2-0-1-1-1-1-0-3-62', '2-1-1-1-0--1-0-3-39', '2-0-1-1-0-3-0-3-72', '2-0-2-0-2-3-0-4-10', '2-1-2-1-0-0-0-4-78', '1-0-1-1-3-3-0-4-8', '1-1-2-1-3-3-0-4-42', '2-0-2-1-2-3-0-4-2', '2-0-1-0-1-0-1', '2-0-2-0-3-0-0-4-54', '2-1-2-1-1-2-0-4-28', '2-0-2-0-0-1-1-3-3', '2-0-1-1-2-2-0-4-52', '2-0-2-1-1-2-0-4-54', '2-0-1-1-3-2-1-4-2', '2-0-1-1-1-3-0-3-55', '2-0-0-0-1-0', '2-0-1-1-2-0-0-3-34', '1-1-1-1-3-3-0-1-7', '2-1-1-1-0-0-0-3-82', '2-0-1-0-0-0-0-3-54', '2-0-1-1-1-2-0-4-83', '2-0-1-1-0-0-0-4-100', '2-0-2-1-2-0-0-4-6', '2-0-1-0-1-2-0-3-98', '2-0-1-2-1-3-0-4-15', '2-0-2-1-2-3-0-4-33', '2-1-1-1-0-2-0-4-70', '2-0-2-1-0-0-0-3-63', '2-1-1-1-0-1-0-4-18', '2-0-2-1-2-3-0-4-14', '2-1-1-1-2-1-0-3-97', '2-0-1-1-0-0-0-4-78', '2-0-0-0-2-0-0-3-76', '2-1-2-1-0-1-0-4-37', '2-1-1-2-3-1-0-4-42', '2-0-1-1-1-2-1-3-1', '2-0-1-0-1-1-0-3-44', '2-0-1-0-3-2-0-3-12', '2-1-2-0-0-1-0-4-7', '2-0-1-2-1-2-0-4-10', '1-0-2-2-3-0-0-4-54', '2-0-2-1-1-2-0-3-16', '2-0-2-1-1-3-0-3-55', '2-1-2-1-2-2-0-4-38', '1-0-0-2-3', '2-1-2-1-2-1-0-3-42', '2-1-2-1-1-2-1-3-1', '2-0-1-2-1-0-0-4-11', '2-0-1-2-1-2-1-4', '2-0-1-1-2-1-0-4-24', '1-0-2-0-2-0-0-3-73', '1-0-1-1-2-3-1-4-5', '1-0-2-2-3-2-0-4-14', '2-0-2-2-0-2-0-4-10', '2-0-1-0-1-2-0-4-100', '1-0-1-0-3-0-0-4-26', '2-0-1-1-1-3-0-3-51', '2-1-2-1-2-0-0-4-65', '2-0-1-1-0-0-0-3-96', '2-0-1-1-0-2-0-3-28', '2-0-2-2-0-2-0-4-58', '2-0-1-1-2-1-0-3-99', '2-0-2-1-3-0-0-4-5', '2-1-2-0-2-3-0-4-62', '2-0-1-1-1--1-1-3-3', '2-1-1-2-3-1-0-4-1', '2-0-2-1-2-3-0-4-13', '2-1-1-2-1-3-0-4-59', '2-1-0-1-0-0-0-3-45', '1-1-1-0-2-0-0-3-89', '2-0-1-1-1-1-0-4-9', '2-1-2-1-2-3-0-4-59', '2-1-1-1-1-1-0-3-72', '2-0-2-1-0-0-0-3-28', '1-0-0-1-3', '2-0-2-1-0-0-1-3-1', '2-0-2-1-0-0-0-3-94', '2-0-2-1-0-0-0-4-83', '2-1-2-0-0-1-0-3-42', '2-1-2-0-0-1-0-3-65', '2-0-0-1-2-0-0-2-76', '2-1-1-1-1-3-1-4-3', '1-0-1-1-3-3-0-3-12', '2-0-1-1-0-1-1-4-5', '2-1-1-1-3-3-0-4-43', '1-1-2-1-2-2-0-4-54', '2-0-1-1-1-1-1-4-2', '2-1-2-2-1-1-0-4-4', '1-0-1-2-3-3', '2-0-2-1-2-1-0-4-21', '2-0-2-1-1-3-0-4-33', '2-0-1-0-1-1-0-4-28', '2-0-2-0-2-1-0-3-76', '2-0-1-1-1-3-0-3-8', '2-1-1-1-2-0-0-4-54', '1-0-1-1-3-0-0-3-36', '2-0-2-0-0-1-0-4-91', '2-0-1-1-0-3-0-4-4', '2-1-1-1-0-2-0-4-18', '2-1-2-1-1-3-0-4-70', '2-0-2-1-0-3-0-3-41', '2-1-1-1-1-1-0-4-45', '2-1-2-0-0-2-0-3-43', '2-0-1-0-3-2-0-4', '2-0-2-0-1-0-0-3-37', '2-0-1-1-2-0-0-3-100', '2-0-0-1-3-1-0', '1-0-1-1-3-0-0-3-95', '2-1-1-2-1-2-0-4-30', '1-0-2-1-0-3-0-4-53', '2-1-1-2-3-2-0-3-79', '2-1-2-1-0-2-0-4-45', '2-0-1-1-3-1-0-4-2', '2-0-2-1-0-1-0-4-98', '2-0-2-1-1-2-0-4-100', '2-0-2-2-1-1-0-3-99', '2-0-2-1-2-0-0-3-91', '2-1-1-1-0-0-0-3-70', '2-1-2-0-1-0-0-4-43', '2-0-2-1-3-0-0-3-96', '2-0-2-1-2-1-0-4-42', '2-0-2-1-0-0-1-3-2', '2-0-1-1-0-3-0-3-25', '2-0-1-0-1-1-0-3-53', '2-0-1-1-0-0-0-4-31', '2-0-2-1-1-0-0-4-15', '2-1-1-2-0-0-0-4-62', '2-0-1-2-2-1-0-4-98', '1-0-2-1-2-3-0-3', '1-0-2-1-0-3-1-4-4', '2-0-1-1-1-3-0-4-14', '2-0-1-0-3-0-1-4-7', '2-0-2-1-2-2-0-4-25', '1-1-1-1-2-1-0', '2-0-1-1-0-2-0-4-76', '2-0-1-2-1-3-0-3-41', '2-1-1-1-2-1-0-3-38', '2-0-1-1-0--1-0-3-16', '2-0-0-1-2--1-0-3-89', '1-1-1-1-0-0-0', '2-1-2-1-2-2-0-3-56', '2-0-2-2-0-0-0-4-5', '2-1-2-1-1-2-0-4-33', '2-1-2-1-2-0-0-4-50', '1-0-0-1-0-1-0', '2-0-1-1-1-0-0-3-44', '2-1-1-0-2-3-0-3-76', '2-1-2-0-0-0-0-4-43', '2-0-2-0-1-1-0-4-64', '2-0-2-1-1-2-0-3-69', '1-0-2-0-0-3-1-4', '2-1-2-0-0-0-0-4-92', '1-1-1-1-2-0-0-4-87', '2-0-2-1-3-0-0-3-5', '1-1-2-1-2-2-0-4-98', '2-1-2-2-2-1-0-4', '2-0-1-1-3-0-0-4', '2-0-2-1-1-1-0-4-17', '2-1-0-0-2-3-0', '2-0-0-1-2-0-0-3-17', '2-0-1-1-1-1-0-4-18', '2-0-1-1-0-1-0-4-51', '2-0-2-0-1-0-0-3-33', '2-0-1-1-1-3-0-4-24', '2-0-2-2-2-1-0-4-2', '2-0-2-0-3-1-0', '1-1-2-1-0-0-0', '2-0-2-1-2-1-0-4', '2-0-0-1-2-1-0-2', '2-1-1-2-3-1-0-3-1', '2-0-2-1-0-1-0-4-34', '2-0-1-1-0-2-0-4-54', '1-1-2-2-3-3-0-4-19', '2-0-2-1-0-0-0-3-90', '1-0-2-1-3-2-0-3-19', '2-1-2-1-1-0-0-4-31', '2-0-1-1-3-1-0-4-95', '1-1-1-1-3-3-0-4-12', '2-0-2-1-2-3-0-4-46', '1-1-2-2-2-3-0-3-13', '2-1-1-2-0-2-0-3-45', '2-1-2-1-2-2-0-3-43', '2-0-1-1-2-2-0-4-49', '2-1-2-1-2-3-0-4-18', '2-1-2-0-0-0-0-3-33', '2-0-1-0-2-0-0-4-12', '2-0-1-1-0-1-0-4-42', '2-0-2-0-0-0-0-3-81', '2-0-1-0-0-3-0-4-54', '2-1-0-0-2-0-0-3-73', '1-1-2-1-2-2-0-4-85', '2-0-1-0-1-2-0-3-27', '1-0-1-2-0-1-1-4-1', '2-1-2-0-1-1-0-4-63', '1-0-1-1-2-0-0-4-99', '2-0-1-1-0-0-0-3-58', '2-0-2-1-3-3-0-3-19', '2-1-2-1-1-0-0-4-4', '2-1-1-1-0-1-0-3-32', '2-0-1-1-1-3-0-3-94', '2-0-1-0-2-2-0-3-39', '2-1-2-1-0-3-1-3-1', '2-0-1-1-3-3-0-3', '2-0-2-2-0-0-0-3-82', '2-0-2-1-2-3-1-4-6', '2-0-1-1-2-2-0-4-48', '2-1-2-1-1-3-0-4-92', '1-0-1-2-3-0-0', '2-0-1-1-1-3-0-4-88', '2-0-1-1-2-0-0-3-10', '2-0-1-0-2-2-0-4-12', '2-0-2-0-2-0-0-4-63', '1-0-1-1-0-0-1-4', '2-0-1-1-0-2-0-4-41', '2-0-1-1-2-2-0-4-61', '2-0-1-2-1-2-0-3-21', '2-1-2-0-2-0-0-4-88', '2-0-2-1-0-0-0-4-22', '2-0-2-1-2-2-0-3-65', '2-1-2-1-3-0-0-4-9', '2-0-2-1-1-1-0-4-83', '2-1-2-2-1-3-0-4-42', '2-0-1-2-0--1', '2-0-2-0-2-3-0-4-27', '2-1-2-2-1-2-0-4-20', '2-0-1-0-0-3-0-3-94', '2-0-1-0-3-0-0-4-11', '2-1-1-1-0-0-0-4-76', '2-1-2-1-1-1-0-4-85', '2-0-2-2-3-2', '2-0-1-2-0-3-0-4', '2-0-1-0-2-1-0-3-9', '2-0-1-1-1-1-0-3-23', '2-0-0-0-0-1-0-3', '2-1-1-1-1-1-0-4-36', '2-1-2-1-1-2-0-3-3', '2-0-2-2-2-0-0-3', '1-0-1-2-3-0-0-3-33', '2-0-2-0-1-3-0-4-9', '2-0-0-0-3-1-0', '2-0-1-1-2-3-0-3-45', '2-0-1-1-3-0-0-4-75', '1-0-1-1-2-2-1-4-5', '2-0-1-2-1-3-0-4-99', '2-1-1-0-1-0-0-2', '1-0-2-0-3-1-0-4-56', '2-0-1-1-2-3-0-3-30', '2-0-1-1-1-3-0-3-61', '2-0-1-1-1-3-0-4-25', '2-0-1-1-0-3-0-3-32', '2-0-1-1-2-2-0-4-71', '2-0-1-2-0--1-0-4-52', '2-0-1-1-1-0-0-3-22', '2-0-1-0-1--1-0-3', '2-0-2-0-0-0-0-4-36', '2-0-2-0-2-3-0-4-92', '2-1-2-0-2-0-0-4-79', '2-0-1-1-0-1-0-4-9', '2-0-1-1-2-3-0-3-20', '2-0-1-1-1-3-0-4-22', '2-1-1-0-1-2-0-4-4', '2-0-1-0-2-2-0-3', '2-1-2-1-1-1-0-4-99', '1-0-2-1-3-2-0-4-100', '2-1-1-1-3-3-1', '2-0-1-1-2-2-0-3-1', '2-0-2-1-0-0-0-2', '2-0-2-1-2-2-0-3-37', '2-0-0-2-2-0', '2-0-1-0-1-1-0-4-54', '2-1-2-1-0-1-0-4-100', '2-0-1-2-1-0-0-4-47', '2-0-1-1-2-1-0-4-82', '1-1-1-0-3-1-0-4-39', '2-0-1-1-2-0-0-1-39', '2-1-1-2-3-2-0-3-45', '2-1-1-2-1-0-0-4-15', '2-1-1-0-2-1-0-4-9', '1-0-1-1-3-2-0-3-100', '1-0-2-1-2-2-0-4-62', '2-0-2-0-2-0-0-3-43', '1-0-2-0-0-3', '2-1-1-1-3-1-0-3-68', '2-1-2-1-0-1-0-4-58', '1-0-2-0-3-3-0-3-41', '1-0-2-0-3-2-0-4', '2-0-1-1-0-2-0-4-43', '2-0-2-1-0-1-0-4-2', '2-1-2-1-3-1-0-4-45', '2-0-1-0-1-0-0-3-75', '2-1-1-2-0-0-0-3-12', '2-0-2-0-1-1-0-4-48', '2-0-2-1-1-0-0-4-53', '2-0-1-1-0-2-0-4-60', '1-0-1-1-3-0-0-3-5', '2-1-1-1-1-0-0-4-49', '2-0-1-0-0-3-0', '1-0-0-0', '2-0-1-1-1--1-0-3-21', '2-0-2-1-1-1-0-4-7', '1-0-2-1-3-2-0-4-24', '2-1-2-1-0-0-0-3-79', '2-0-1-1-0-1-0-4-26', '2-0-2-1-0-2-0-4-50', '2-1-1-0-0-0-0-4-40', '1-0-2-1-0-2-0-3-100', '2-0-1-1-1-2-0-4-11', '1-0-1-1-2-3-0-3-37', '2-0-1-0-0', '1-1-0-0-3-0-1-3-4', '2-0-2-0-2-3-0-4-68', '1-1-1-1-3-0-0-4-6', '1-0-0-1-1-0-0-3-86', '2-1-2-1-0-2-0-4-63', '2-0-2-2-1-3-0-4-38', '2-1-1-0-0-0-0-4-32', '1-0-2-1-2-1-0-3-59', '1-0-1-1-3-0', '2-0-2-1-2-2-0-4-74', '2-1-1-0-2-2-0-4-59', '2-0-1-1-2-2-0-4-17', '2-1-2-2', '2-1-1-0-1-0-0-3-9', '2-0-1-1-1-0-0-2-30', '2-0-1-1-2-1-1', '2-1-1-1-0-2-1-3-10', '2-0-2-1-0-1-0-3-57', '2-0-1-0-1-1-0-4-42', '2-0-1-2-1-2-0-4-19', '2-0-1-1-1-2-0-4-55', '2-0-2-1-0-2-0-4-24', '2-1-1-1-0-1-0-3-99', '2-0-1-0-2-2-0-4-75', '2-0-2-1-1-2-0-4-21', '2-1-2-1-1-1-0-4-4', '2-0-2-1-1-1-0-3-4', '1-0-1-1-2-0-0-4-55', '2-0-1-1-1-2-0-3-14', '2-1-1-0-2-1-0-4-27', '2-1-1-1-3-0-0-4-3', '1-0-2-0-3-3-0-4-32', '2-1-1-1-2-1-0-1', '2-1-0-1-0-2-0-3-36', '2-0-1-0-1-2-0-3-77', '2-0-1-0-2-3-0-4-41', '2-0-1-1-1-0-1-4-9', '2-1-1-1-1-1-0-4-5', '1-0-1-1-3-0-0-3-99', '1-0-2-2-3-2-0', '2-1-1-1-2-0-0-3-49', '2-1-1-0-0-0-0-4-54', '2-0-1-1-0-1-0-3-15', '2-0-2-0-2-1-0-4-35', '2-0-2-1-2-0-0-4-80', '2-1-1-2-0-0-0-4-11', '2-1-2-0-2-0-0', '2-1-1-1-3-0-0-4-28', '2-0-2-1-1-1-0-3-5', '1-0-1-1-0', '2-0-1-1-3-0-0-4-33', '2-1-1-1-2-3-0-4-49', '2-1-2-1-2-2-0-4-99', '2-1-2-1-1-3-0-3-26', '2-0-2-2-0-0-0-3-86', '2-1-1-0-2-3-0-3-51', '2-0-1-1-2-2-0-4-55', '2-1-1-2-2-0-0-3-42', '2-0-2-0-3-0-0-3-52', '2-0-1-1-2-3-0-4-31', '2-0-0-1-3-3', '2-0-2-2-3-3-0', '2-1-2-1-0-0-0-3-82', '2-0-2-1-3-1', '2-0-1-0-0-0-0-4-35', '2-0-0-1-0-0-0-3-21', '2-1-1-1-0-0-0-4-7', '2-0-2-1-1-1-0-4-47', '2-0-2-1-2-0-0-3-15', '2-0-2-1-0-0-0-4-16', '2-1-1-1-1-2-0-4-98', '2-1-1-2-0-3-0-3-40', '1-0-2-1-3-3-0-4-51', '2-0-1-1-1-2-0-3-54', '2-0-1-0-0-0-0-4-73', '2-0-2-0-0-0-0-4-2', '1-1-2-1-3-0-0-3-6', '2-1-2-1-0-2-0-3-15', '2-1-1-2-2-2-0-3-2', '1-0-1-0-2-0-0-3-57', '2-1-1-1-3-1-0-4-5', '2-0-1-1-0-3-0-4-12', '2-0-2-1-1-0-0-3-82', '2-0-1-1-0-0-0-3-32', '2-0-2-1-1-0-0-4-51', '2-0-2-1-1-1-0-4-51', '2-1-1-0-2-2-0-4-10', '1-0-1-1-3-1-0-4-62', '2-0-1-2-2-3-0-3-22', '2-1-0-2-2-2-0-3-20', '2-1-2-1-0-2-0-4-10', '2-0-1-0-1-3-0-4-64', '2-0-1-0-0-2-0-4-27', '1-0-2-0-0-0-1-4', '2-1-1-1-1-0-0-4-16', '2-1-1-1-1-3-0-4-67', '2-0-1-2-3-3-0-3', '2-0-2-2-1-0-0-4-62', '2-1-2-1-1-0-0-4-55', '1-1-2-1-3-3-0-3-50', '2-0-1-1-1-0-0-3-50', '1-0-1-1-3-2-0', '2-0-0-1-0-0-0-3-6', '2-0-2-1-3-1-0-4-2', '2-1-1-0-1-3-0-3', '1-0-1-1-1-2-0-3', '2-0-2-1-1-2-0-4-61', '2-1-2-2-1-2-0-3-4', '2-0-1-1-1-3-0-4-19', '2-0-1-0-2-1-0-3-74', '2-0-1-2-1-2-0-3-20', '2-0-1-0-2-3-0-3-85', '2-0-0-2-2-1-0-4', '1-0-1-1-0-0-0-3', '2-1-1-0-1-0-0-4-73', '1-0-1-0-3-1-0', '2-0-2-1-1-2-0-3-52', '2-1-1-1-2-3-0-3-99', '2-0-0-0-2-0-0-3', '1-0-2-1-3-3', '2-1-1-1-2-2-0-4-69', '2-1-0-0-1', '1-0-1-1-0-0-0-3-54', '2-1-0-1-2-3-0-3-1', '2-1-1-1-2-3-0-4-40', '1-1-1-1-1-0', '1-0-1-1-1-3', '2-1-1-1-3-1-1-4', '2-0-2-1-3-2-0-4-3', '2-1-2-0-0-0-0-3-29', '1-0-2-1-3-3-0-4-38', '2-0-2-1-2-3-0-3', '2-0-1-1-0-3-0-4-34', '1-1-1-1-0-1', '2-0-1-1-0-1-1-4-2', '2-1-2-1-1-0-0-4-76', '2-0-2-0-1-3-0-4', '2-0-1-1-2-3-0-3-66', '2-0-2-2-1-1-0-4-81', '2-1-2-1-3-2-0-3-1', '2-0-1-1-0-3-0-4-59', '2-0-2-1-1-1-0-3-80', '2-1-2-2-2-1-0-4-78', '2-0-2-2-1-0-0-4-98', '2-0-2-0-1-2-0-4-27', '2-0-2-1-0-0-0-3-72', '1-0-2-1-2-3-0-3-81', '2-0-2-1-1-0-0-4-94', '1-0-1-1-2-3-0-4-68', '2-1-1-2-2-2-0-4-42', '2-1-1-1-1-0-0-3-62', '1-0-2-2-3-3', '2-0-1-1-0-0-0-4-3', '2-1-2-1-1-2', '2-1-1-0-1-0-0-3-6', '1-0-2-1-3-3-0-4-97', '1-1-1-2-2', '2-1-1-1-1-0-1-4-3', '2-1-2-2-0-1-0-3-63', '2-0-1-0-2-3-0-3', '2-0-2-1-3-1-0-4-39', '2-0-1-1-1-1-0-4-75', '1-1-2-0-3-2-0', '2-1-2-0-2-2-0-4-55', '2-1-0-1-0-0-0-3-59', '2-0-1-0-2-0-0-4-100', '2-1-1-0-2-1-0-4-75', '2-1-2-0-2-3-0-4-48', '2-1-2-0-2-2-0-4-88', '2-0-2-0-3-2-0-4-22', '2-0-1-0-1-0-0-3-9', '2-0-0-1-1-1-0-3-6', '2-1-0-1-0-0-0-3-38', '2-0-0-1-3-1-0-3-2', '2-0-2-0-1-0-0-4-18', '2-0-1-1-1-0-1-3', '2-0-2-2-2-0-0-4-24', '2-0-1-1-1-2-0-3-24', '2-1-0-1-0-0-0-3-49', '2-0-2-1-0-3-1-4-4', '1-0-1-1-3-1-0-3', '1-1-1-0-3-3-0-3-39', '2-1-1-0-1-3-0-3-4', '2-1-1-2-2-2-0-4-96', '2-1-1-0-2-3-0-4-69', '2-0-1-2-2-2-0-3', '2-1-1-2-3-0-0-4-45', '2-1-1-2-1-1-0-4-31', '2-0-2-1-1-0-0-4-26', '2-0-1-0-1-2-0-4-6', '2-0-2-1-2-2-0-4-51', '2-1-1-1-1-2-0-3-81', '2-0-2-0-2-2', '1-1-1-0-0-1-0', '1-1-0-1-3-0-0-3', '2-0-1-1-0-3-0-4-76', '2-0-1-0-2-0-0-4-44', '2-0-1-2-2', '2-0-1-1-0--1-0-3-32', '2-0-2-0-2-2-0-4-3', '2-1-1-1-2-0-0-4-100', '2-1-0-1-0-1-1-3-6', '2-0-1-1-1--1-0-3-12', '2-0-2-0-2-1-0-4-43', '1-0-2-1-2-1-0-4-65', '1-0-1-1-3-1-0-4-67', '2-0-2-1-0-0-0-3-29', '2-0-0-1-1-2-0-3-27', '2-1-2-2-0-1-0-4-41', '2-1-0-0-1--1-0-3', '2-1-2-1-1-0-0-4-83', '2-0-1-0-3-1-0', '1-1-1-1-2-3-0-4-29', '2-0-2-1-1-0-0-3-53', '1-0-2-1-2-0-0-4-64', '2-1-1-1-2-2-0-4-38', '2-0-2-1-2-0-0-4-53', '1-0-1-0-3-3-0-4', '2-1-1-0-3-0-0', '1-0-1-2-3-0', '2-1-1-1-0-3-0-4-28', '2-0-1-2-3-1-0-3-23', '2-0-2-1-2-2-0-3-83', '1-0-2-0-3-3-0-4-19', '2-1-2-2-1-2-0-3', '2-1-2-1-2-2-0-3-58', '2-0-1-0-2-3-0-4-28', '2-1-2-1-0-1-0-3-18', '2-0-2-2-0-0-0-3-30', '1-1-2-1-3-2-0', '2-0-1-1-2-0-0-1-99', '2-1-1-1-1-2-0-3-45', '2-1-2-1-2-2-0-4-53', '2-0-1-1-3-0-0-4-30', '2-1-1-1-1-0-0-4-22', '1-0-1-1-2-2-1-4-3', '2-0-2-0-3-3-0-4-4', '2-1-1-0-2-0-0-3-52', '1-0-0-1-1', '2-0-2-1-2-3-0-3-36', '1-0-1-0-0-0-0-3-99', '1-0-0-1-1-3-0-3-57', '1-0-2-1-2-2-0-3', '1-1-0-1-3-3-0-3-64', '2-0-2-1-1-3-0-3-31', '2-0-1-1-1-2-0-3-80', '1-0-1-1-1-2-0-4-98', '2-1-2-2-2-2-0-3', '2-0-1-1-3-0-0-4-36', '2-0-2-0-1-1-0-3-34', '2-1-2-1-3-0-0-4-30', '2-0-1-2-0-0-0-4-94', '1-0-2-2-3-1-0-4-64', '1-0-1-0-2-0-0-4-34', '2-0-1-0-2-1-0-4-100', '2-1-2-1-2-2-0-3-48', '1-0-2-2-2-3', '2-1-2-0-1-3', '2-0-2-2-1-0-0-3-70', '2-0-1-1-1-0-0-4-86', '2-0-2-1-1-3-0-4-39', '2-0-1-0-2-3-0-3-2', '2-1-1-1-1-0-0-4-63', '2-0-1-2-3-0-0-3', '2-1-2-1-1-3-0-4-26', '2-0-2-1-0-0-0-3-86', '1-0-1-0-3-2-0-4-18', '2-1-1-1-0-1-0-3-9', '1-0-0-1-2-0-0-3-1', '2-0-2-1-1-3-0-4-29', '2-0-1-0-1-1-0-4-86', '2-1-2-1-1-3-0-3-36', '2-1-1-0-2-3-0-4-82', '2-0-1-2-2-2-0-3-89', '2-0-2-1-1-0-0-3-8', '2-1-1-1-2-3-0-3-39', '2-0-1-1-1-2-0-3-34', '2-0-1-0-2-1-0-4-74', '2-0-2-0-1-1-0-4-51', '2-1-2-1-2-0-0-4-21', '2-0-1-1-0-2-0-3-45', '2-1-2-1-2-0-0-4-24', '2-1-1-2-1-2-0-3-15', '2-0-2-1-1-0-0-4-43', '2-0-2-2-1-0-0-4-2', '2-0-1-2-3-0', '2-0-2-1-0-0-0-4-24', '2-0-1-1-1-0', '2-1-1-1-1-2-0-4-39', '2-0-1-0-2-0-0-4-54', '2-1-2-0-0-3-0-4-8', '2-0-1-2-0-1-0-4-85', '2-1-2-1-0-0-0-3-76', '2-0-2-2-1-0-0-4-80', '1-0-0-1-1-0-0-4-1', '2-0-0-2-2-1-0', '2-0-2-2-0-1-0-4-33', '2-0-2-2-0-2-0-4', '2-0-1-1-2-2-0-4-53', '2-0-1-1-1-3-0-3-52', '2-1-2-2-2-3-0-4', '2-0-2-1-2-2-1-3-6', '2-1-2-1-1-1-1-3', '2-0-2-1-1-1-0-3-76', '2-0-2-1-3-1-0-4-42', '2-0-1-2-0-0-0-4-12', '1-0-2-1-3-2-0-4', '2-1-2-1-0-1-0-3-12', '2-0-2-1-0-3-0-3-74', '2-1-1-1-1-3-0-4-2', '2-0-2-1-0-1-0-4-59', '2-1-1-1-1-2-0-4-3', '1-0-1-1-3-1-0-3-97', '2-1-1-0-3-3-0-4-50', '2-1-1-1-0-1-0-4-36', '2-1-2-2-1-2-0-3-21', '2-0-2-1-2-1-0-4-86', '2-0-0-2-0-0-0-4-34', '2-1-1-0-2-0-0-4-72', '2-1-2-2-0-0-0-4-61', '1-0-1-1-1-0-0-4', '2-0-1-2-0-0-0-4-18', '2-1-2-1-0-0-0-3-83', '2-1-2-1-1-1-0-4-3', '2-1-2-1-1-1-0-3-4', '2-1-2-1-1-0-0-3-30', '2-0-1-1-2-2-0-4-12', '1-1-2-1-0-0-0-4-38', '2-0-1-1-3-0-0-4-34', '2-0-2-1-1-1-0-4-55', '2-1-2-1-0-2-0-3-27', '1-0-2-1-3-0-0-4-64', '2-0-1-2-0-2-0-3-2', '2-0-1-1-1-3-0-4-53', '1-0-1-1-3-3-0-4-23', '2-0-2-1-1-1-0-4-6', '2-1-1-1-1-0-0-3-16', '2-1-2-2-3-3-0-3', '1-0-2-1-1-2', '2-1-1-1-2-2-0-3-16', '2-1-1-1-1-1-0-3-59', '2-0-2-1-0-0-1-4', '2-0-2-2-2-0-0-4-15', '2-0-0-1-1-3-0-4-4', '2-0-1-1-0-1-0-4-65', '2-0-1-1-1-0-1-4-3', '2-1-0-1-1-1-0-3-19', '2-1-1-1-0-3-0-4-55', '2-0-2-1-0-2-0-4-77', '2-1-1-0-3-0-0-4-24', '2-1-2-1-0-3-0-3-91', '2-0-2-1-2--1-0-3', '1-1-2-1-3-1-0-4-17', '2-0-1-0-2-1-0-4-1', '1-0-1-1-1-1-0-4-98', '1-0-2-1-1-1-0-4-44', '1-0-1-1-2-2-0-4-59', '2-0-2-0-2-3-0-3-20', '1-1-2-2-3', '2-0-2-1-2-3-0-3-87', '2-0-1-1-2-1-0-4-35', '2-1-1-1-1-0-0-4-52', '2-0-1-0-2-1-0-4-9', '1-1-1-1-2-1-0-4-97', '2-0-1-1-2-0-0-4', '2-0-2-1-2-2-0-4-34', '2-0-2-1-0-2-0-4-62', '2-0-0-1-1-2-0-3-34', '2-1-1-1-2-1-0-3-34', '2-0-1-1-0-1-1-3-2', '2-0-2-1-2-1-0-3-61', '1-0-1-2-3-0-0-4-55', '2-1-0-1-1-0-0-4-5', '1-0-2-1-2-2-0-4-39', '2-0-2-1-1-2-0-4-14', '2-0-1-1-1-0-1-3-2', '2-1-1-1-1-0-0-4-83', '2-1-2-1-3-3-0-3-44', '2-0-1-1-3-0', '2-1-1-1-0-0-0-4-14', '2-0-1-1-0-3-0-4-65', '2-0-1-2-2-1-0-3-16', '2-0-1-1-1-0-0-4-34', '2-0-2-1-0-0-0-4-41', '2-0-1-0-0-2-0-4-95', '2-0-2-2-1-2-0-4-9', '2-0-1-1-1-0-0-3-31', '2-1-2-1-3-2-0-4-44', '2-0-2-0-1-3-0-4-100', '2-0-2-1-2-1-0-4-24', '1-0-2-2-3-1-0-3-37', '2-0-2-0-0-1-0-4-37', '1-0-2-1-1-1-0-4-53', '1-1-1-1-0-2-0-3-38', '2-0-1-0-2-3-0-3-82', '2-0-1-2-1-0-0-4', '2-0-2-2-0-2-0-4-2', '2-1-1-1-2-2-1-4-6', '2-0-2-1-2-3-0-4-37', '1-0-1-1-1-0-0-4-48', '1-0-1-1-0-0-0-4-15', '2-0-1-1-3-1-0-4-85', '2-0-1-1-0-1-1-3-1', '2-1-1-1-0-0-0-4-71', '2-1-1-1-1-1-0-3-67', '1-1-2-1-3-0-0-4', '2-1-1-1-3-2-1-4-4', '2-1-1-1-2-3-0-4-55', '1-0-0-1-1-1-0', '1-0-1-1-1-3-0-4-51', '2-1-1-0-2-0-0-4-75', '2-0-2-2-2-3-0-3-54', '2-0-2-1-3-0-0-4-17', '2-1-1-0-2-0-0-4-39', '2-0-1-0-0-1', '1-0-2-2-3-3-0-3-12', '2-0-2-1-2-0-1-4', '2-1-1-2-2-2', '2-1-1-1-2-3-0-4-21', '2-0-2-1-1-0-0-3-22', '1-0-1-0-3-3-0-4-20', '1-0-0-1-1-2-0-3', '2-1-2-0-0--1-0', '2-0-1-0-1-2-0-4-17', '2-1-2-2-2-0-0-4-38', '2-1-2-1-2-1-0-4-34', '2-1-1-1-2-0-0-4-19', '1-1-1-1-3-2-0-4-5', '2-0-1-1-2-2-0-4-30', '2-0-2-1-0-2-0-4-74', '1-0-2-1-3-3-0-3-14', '2-0-2-1-3-2-0-4-4', '2-0-1-1-2-3-0-4-9', '1-0-1-1-2-0-0-3-100', '2-0-1-1-0-0-0-4-39', '2-0-2-2-1-2-0-4-44', '2-0-1-0-3-3-0-4-43', '1-1-2-1-2-3-0-3-61', '1-0-1-1-3-3-0-4-59', '2-1-1-1-0-0-0-4-77', '2-0-1-1-1-0-0-4-29', '1-0-1-1-0-2-0-3', '2-0-2-2-0-3-0-3', '1-1-1-1-2-0-0-4-14', '2-1-0-1-2-1-0-3-97', '2-0-2-0-1-0-0-4-30', '2-0-2-1-2', '2-0-2-1-0-0-0-3-62', '2-1-1-0-1-0-0-4-39', '2-0-1-2-3-1-0', '2-0-2-2-0-1-0', '2-0-1-1-1-1-0-4-37', '2-1-1-1-2-0-0-3-12', '2-0-1-1-0-0-0-4-79', '2-0-2-2-1-2-0-3-11', '2-1-1-1-0-0-0-4-16', '2-1-0-0-2--1-1', '2-1-2-0-2-2-0-4-54', '2-0-2-0-1-1-0-4-13', '2-0-2-1-2-0-0-4-45', '2-1-2-0-0-0-0-3-98', '2-0-1-1-2-2-0-4-33', '2-0-2-1-1-0-0-3-5', '2-1-2-1-3-3-0-4-52', '1-0-1-1-3-0-0-4-50', '2-0-2-2-2-3-0-4-39', '2-0-1-0-1-0-0-3-33', '2-0-1-1-2-0-0-4-55', '2-0-2-1-1-0-0-4-18', '2-1-2-1-2-3-0-3-50', '1-0-2-1-2-1-0-4-100', '2-1-0-1-0--1-0-3-37', '2-0-1-0-0-0-0-4-27', '2-0-1-2-0-2-0-4-89', '2-0-1-1-1-2-0-3-30', '1-0-2-0-3-2-0-4-36', '2-0-1-1-2-2-0-3-27', '2-0-0-1-2-0-0-3-16', '2-0-1-0-2-2-0-4-83', '2-1-2-1-1-1-0-3-3', '2-0-2-1-1-1-0-4-36', '2-1-1-0-3-1-0-4-49', '2-1-1-1-0-3-0-3-24', '2-0-1-0-1-1-0-3-28', '2-0-1-1-2-2-0-3-95', '2-1-1-1-0-3-0-4-5', '1-0-2-1-0-3-1-4-5', '1-0-1-2-0-0-1-4-1', '2-0-1-1-1-1-0-3-13', '2-0-1-1-0-0-0-3-89', '2-0-0-1-2-3-0-3-81', '2-1-2-2-3-2-1-3', '1-0-2-0-2-3-0-4', '1-1-1-1-3-0-0-4-99', '1-0-2-1-2-3-0-4-21', '1-0-1-0-3-0-0-4-34', '1-0-1-1-3-0-0-4-27', '2-1-1-1-2-2-0-4-70', '1-0-1-2-2', '2-1-1-0-0-1-1-4', '1-0-1-2-3-1-0-4-68', '2-0-2-1-1-1-0-4-40', '2-0-1-1-2-0-0-4-42', '1-0-0-1-3-0-0-3-7', '1-0-1-1-2-2-0-4-3', '2-1-1-1-1-1-1-3-1', '2-0-1-1-2-2-0-4-45', '1-1-2-2-2-2-0', '1-0-2-1-2-3-0-4-71', '2-0-1-1-1-0-0-4-51', '2-0-2-1-0-3-1-3-4', '2-1-2-1-3-2-0-3-29', '1-1-1-1-2-0-0-4-21', '2-0-2-0-2-3-0-4-55', '1-0-1-0-3-0-0-4-12', '2-1-1-2-3-2-0-3', '2-0-2-1-0-2-0-4-19', '2-1-1-2-0-0-0-4-6', '2-1-1-1-1-1-0-4-33', '2-1-1-1-3-1-0-4-27', '2-0-2-0-2-3-0-4-7', '2-0-1-0-0-2-0-4-34', '2-1-1-0-0-0-0-3-14', '2-1-2-1-1-3-1', '2-0-2-1-0-1-0-3-75', '2-1-0-0-0-0-0-3', '2-1-2-0-1-1-0-4-99', '2-1-2-2-1-1-0-4-40', '2-1-1-1-1-0-1-4-4', '2-0-2-1-2-0-0-4-94', '2-0-1-1-1-0-0-4-64', '2-1-0-1-0-0', '2-1-1-1-2-1-0-4-19', '2-0-1-1-1-1-0-4-59', '1-0-2-1-2-2-0-4-65', '2-0-1-1-1-2-1', '2-1-1-1-3-3-0-3-1', '2-0-1-1-1-1-0-3-68', '2-1-2-1-2-1-0-3-7', '2-1-2-1-1-1-0-4-50', '2-1-2-1-0-1-0-4-10', '2-0-2-2-0-0-0-4-32', '2-1-1-0-1-1-0-4-85', '2-1-1-1-2-3-0-4-29', '2-0-1-0-0-0-0-4-78', '2-1-0-1-2-0-0-2-95', '2-1-2-1-0-0-0-3-70', '2-0-1-0-1-0-0-4-62', '2-1-2-0-0-2-0-4-48', '2-1-1-1-1-0-0-4-72', '1-0-0-1-2-2-1', '2-0-1-1-3-0-0-4-87', '2-0-1-1-0-1-0-4-32', '1-0-1-2-0-0-0-3', '1-0-2-0-3-1-0-4-37', '1-0-2-1-3-3-0-3-100', '2-1-1-0-0-0-0-3-7', '2-0-1-0-2-3-0-4-90', '1-0-2-1-3-2-0-3-17', '2-0-1-0-1-1-0-3-84', '2-1-1-0-2-0-0-3-22', '2-0-1-0-1-2-0-3-87', '1-0-2-0-3-0-0-4-36', '2-1-2-0-1', '2-0-2-1-1-3-0-4-34', '2-0-1-0-2-0-0-4-16', '1-1-1', '2-0-1-1-0-3-0', '2-1-1-1-0-1-0-3-100', '2-1-1-1-2--1-0', '1-1-2-2-0-0-0-4-50', '2-0-1-0-1-0-0-4-33', '2-1-1-1-1-1-0-3-86', '2-0-0-1-2-2-0-3-3', '1-0-1-1-2-0-0-4-37', '2-0-2-2-1-2-0-3-86', '2-0-2-2-0-2-0-4-79', '1-1-2-1-0-3-0-4-32', '2-1-1-1-0--1-0-3-37', '2-0-1-0-1-1-0-3-51', '2-1-1-0-1-1-0', '2-1-1-1-2-0-0-4-41', '2-1-0-2-0-0', '2-0-1-1-3-2-0-4', '2-0-0-1-1-1-0-3-75', '1-1-1-0-3-3-1-4-4', '2-0-1-0-1-2-0-3-35', '2-0-1-1-3-0-0-4-17', '2-1-2-1-0-2-0-4-34', '1-0-1-2-3-0-0-4-68', '2-0-2-1-0-3-0-4-45', '2-0-2-1-2-0-0-3-51', '2-1-1-2-1-2-0-4-6', '2-1-2-1-1-1-0-3-41', '2-1-2-0-2-0-0-3-10', '2-0-0-1-1-2-1', '2-0-2-1-1-0-0-3-78', '2-0-0-1-1-2-0-3-71', '2-1-1-1-2', '2-0-1-1-2-0-0-3-85', '2-0-1-2-1-0-0-4-5', '2-1-1-1-0-1-1', '2-1-2-1-2-0-0-3-35', '2-0-1-1-0-2-0-3-81', '2-1-2-1-0-3-0-3', '1-0-2-1-0-0-1-3', '1-0-2-2-1-1-0-4-52', '1-0-2-1-1-3-0-4-52', '2-0-2-1-0-2-0-4-40', '2-0-2-0-0-2-0-4-35', '2-0-2-0-0-0-0-3-70', '2-0-2-2-0-3-1-3-3', '2-1-1-1-0-0-0-3-42', '2-1-1-1-1-1-0-3-31', '2-0-1-1-1-3-0-4-38', '2-0-2-1-0-0-1-4-4', '2-0-1-1-1--1-0-3-22', '1-1-1-1-0-3-0', '2-1-2-1-2-2-0-4', '2-0-2-2-0-0-0-3-58', '1-0-0-0-2-0-0-3', '2-0-2-1-1-2-0-3-13', '1-0-2-1-3-3-0-3-13', '2-0-2-1-2-1-0-4-65', '2-1-2-0-2-2-0-3-23', '1-0-2-1-1-3-0-4-98', '2-0-0-0-2-0-0-3-10', '2-1-1-2-1-2-0-3-55', '2-0-0-1-2-2-0-3-56', '2-0-2-0-0-2-0-4-76', '2-0-2-1-3-1-0-4-74', '1-0-1-1-2-2-0-4-60', '2-0-1-0-2-3-0-3-99', '2-0-2-2-0-0-0-4-93', '2-0-2-1-2-2-0-4-23', '2-0-1-1-2-0-0-4-31', '2-0-2-0-1-0-0-4-37', '1-1-1-1-2-0-0-4-85', '2-0-2-1-1-1-0-4-85', '1-0-2-1-2-0-1-3', '2-0-2-0-2-3-0-4-94', '2-0-2-2-1-3-1-4-5', '2-0-1-1-2-2-1-3-6', '2-1-0-1-1-0', '2-1-1-1-2-0-0-4-44', '1-1-1-1-1-0-0-3', '2-1-1-2-1-3-0-3-18', '2-0-0-1-2-0-1-3-6', '2-0-2-1-1-3-0-4-76', '1-1-1-1-2-2-0-4-77', '2-0-1-0-0-1-0-4-8', '2-0-2-1-1-1-0-3-2', '2-0-2-0-2-1-0-4-70', '2-0-1-2', '2-0-2-0-0-0-0-3-60', '2-0-2-2-2-0-0-4-68', '2-0-2-1-1-1-0-4-9', '1-0-2-1-3-2-0-3-21', '2-0-1-0-1-0-0-4-1', '2-1-2-1-3-2-0-3', '2-0-2-1-1-1-0-3-44', '2-1-2-2-0-3-0-3-86', '2-0-2-1-1-1-0-3-32', '1-1-1-1-3-2-0', '2-1-1-1-0-2-0-3-43', '2-1-1-0-2-2-0-4-81', '1-1-0-1-3-0-0-4-9', '2-1-1-2-0-0-0-4-46', '1-1-2-1-0-1-0', '1-1-2-1-3-1-0-4', '2-0-2-2-1-2-0-3-99', '2-1-1-1-1-0-0-4-5', '2-0-2-0-2-3-0-3-1', '2-0-2-0-0-2-0-4-70', '2-1-1-1-0-2-0-4-41', '2-1-1-1-2-0-0-4-35', '2-1-1-1-2-0-0-3-29', '2-0-2-1-0-1-0-4-65', '2-0-1-1-1-2-0-4-44', '2-0-2-1-2-2-0-4-35', '2-1-2-2-3-3-1-4-3', '2-1-1-1-2-2-0-4-65', '2-0-2-1-1-0-0-4-57', '2-0-2-1-2-0-0-3-19', '2-1-2-1-0-0-0-3-72', '1-1-0-0-0-0-0', '1-0-2-0-1-1-0-4-56', '1-0-2-1-3-1-0-3-30', '2-0-2-1-1-1-0-4-21', '2-0-2-1-1-0-0-3-21', '2-1-2-2-3-1-1-4', '2-0-1-0-2-0-0-3-83', '1-1-2-1-2-0-0-4', '2-0-1-1-1-1-0-3-60', '2-0-1-1-3-2-0-4-93', '1-1-1-1-2-3-0-4-22', '1-0-1-1-3-2-0-4-43', '2-1-2-1-1-0-0-3-75', '1-0-2-0-1-2', '2-1-1-1-2-1-0-4-10', '2-0-2-1-2-3-1-4-9', '2-0-1-0-1-1-0-3', '2-0-2-0-1-0-0-4-15', '2-1-2-1-2-0-0-3-69', '2-0-0-0-0--1-0-4', '2-0-1-0-2-0-0-4-83', '2-0-1-0-1-0-0-4-59', '2-1-2-1-0-2-0', '2-1-1-0-2-2-0-4-100', '2-1-2-1-1-3-0-4-36', '2-0-1-0-2-0-0-4-93', '2-0-1-1-2-0-0-4-40', '2-0-1-0-0-0-0-4-97', '2-1-1-0-0-0-0-3-72', '2-0-2-1-0-0-0-4-96', '2-0-1-2-1-1-0-4-100', '1-1-1-1-2-0-0-4-45', '2-1-1-2-1-1-0-4-59', '2-1-0-1-2-0-0-4-81', '2-0-1-0-2-1-0-3-90', '2-0-1-1-0-2-0-3-33', '1-1-2-1-3-0-0-4-38', '2-0-1-1-0-1-0-3-37', '1-0-2-1-3-3-0-3-8', '2-1-2-2-0-3-0-3-14', '2-0-1-0-1-0-0-3-82', '2-1-1-0-2-3-0-4-42', '1-0-2-1-2-2-0-4-64', '2-1-1-2-1-3-0-4-6', '2-1-1-1-0--1-0-3-30', '2-0-2-1-2-3-0-3-1', '2-0-1-1-2-0-0-4-13', '2-0-2-1-0-2-0-4-25', '2-1-1-0-2-3-0-4-74', '2-0-1-1-0-0-0-4-6', '2-0-2-1-1-1-0-3-60', '2-1-2-0-2-0-0-4-11', '2-1-2-1-0-2-0-4-44', '2-0-1-1-0-3-0-4-20', '2-0-2-0-0-3-0-4-95', '2-0-0-1-2-1-0-3-28', '2-0-2-2-1-0-0-4-45', '2-1-2-2-0-0-0-4-80', '2-1-2-1-0-2-1-4-1', '1-0-1-0-2-1-0-3-32', '2-0-1-0-1-1-0-4-4', '2-0-1-2-0-0-0-3-100', '2-0-1-1-2-2-0-3-45', '1-0-2-1-1-2-0-4', '2-1-2-0-0-0-0-4-45', '1-0-1-1-2-0-0-3-71', '2-0-2-1-0-1-0-4-1', '2-1-2-1-2-1-0-4-46', '1-1-1-0-3-0-1', '2-1-1-0-2-1-0-4-88', '2-0-2-1-3-3-0-4-47', '2-0-1-1-2-0-0-3-76', '2-1-1-1-2-2-0-4-41', '2-1-2-2-1-0-0-4-18', '2-0-1-1-1-2-0-3-71', '2-0-1-2-2-0-0-4-99', '1-0-2-1-3-3-0-4-29', '1-1-2-2-3-3-0-4', '2-0-0-2-1-0-0-4-13', '2-1-1-1-2-1-0-4-12', '2-0-1-2-2-3-0-4-89', '2-1-2-2-1-0-0-3-76', '2-1-2-0-3-1-0-3-54', '2-1-1-1-2-3-0-3-17', '1-0-1-1-3-0-0-4-56', '2-0-2-2-0-0-0-4-73', '2-0-1-0-1-1-0-4-75', '2-0-2-0-2-1-0-3-33', '1-0-1-1-3-0-0-4-66', '2-0-1-0-1-0-0-3-99', '2-1-1-1-1-1-0-3-37', '1-1-1-1-2-0-0-4-46', '2-0-2-1-0-1-0-4-4', '2-0-1-1-0-1-0-4-49', '1-1-1-1-2-0-0-4-23', '2-0-1-2-1-3-0-3', '2-1-1-1-0-1-0-4-41', '2-0-1-2-2-2-0-4-17', '2-0-1-2-3-2-0-4-42', '1-0-1-0-3-0-0-4-2', '2-1-2-0-0-3-0-3-18', '1-0-2-1-2-2-0-3-100', '1-0-1-1-1-1-0-3-57', '1-1-1-1-0-3-0-4-49', '2-1-1-1-2-3-0-3-29', '1-0-1-0-3-1', '2-1-1-1-0-0-0-4-27', '1-0-1-1-3-3-0-4-28', '2-0-2-1-1-3-0-3-21', '1-0-0-1-0-3-0-3-45', '2-0-1-1-2-1-0-3-12', '2-0-2-0-1-0-0-4-26', '2-0-1-1-0-0-0-3-99', '2-1-2-0-2-3-0-4-10', '2-0-2-1-1-0-0-3-97', '2-0-2-0-1-1-0-3-87', '2-1-2-1-1-0-0-4-41', '2-0-1-2-1-1-0-4-21', '1-1-1-2-0-0-0-3-48', '2-0-0-1-1-2-0-3-87', '2-0-2-0-3-3-0-4-52', '2-1-2-2-1-2', '1-0-2-1-2-2-0-4', '2-0-1-0-3-1-0-4-13', '2-1-1-1-1-3-0-4-43', '1-0-2-1-0-2-0-4-55', '2-1-2-1-0-1-1-4', '2-1-2-1-0-3-0-4-46', '1-0-2-1-0-0-0-4-53', '1-0-1-2-0-0-1', '2-0-1-1-2-3-0-4-34', '1-0-2-1-3-3-0-3-29', '2-0-1-1-1-0-0-2-67', '2-1-2-0-0-2-0', '2-1-1-1-0-3-0-3-27', '2-0-0-2-1-2-0-4-100', '2-0-0-1-1-2-1-3-5', '2-1-2-1-1-3-0-4-14', '2-1-0-2-0-0-0-3', '2-0-1-0-0-0-0-4-68', '2-1-2-2-0-0-0-4-63', '2-1-2-1-2-1-0-4-10', '1-0-2-2-2-0-0-3', '2-1-1-1-2-0-0-4', '2-0-1-0-2-1-0-4', '2-0-2-1-2-0-0-3-69', '2-0-1-0-2-2-0-4-53', '2-0-2-1-0-3-0-3-64', '2-1-2-0-1-3-1-4-1', '2-0-1-0-1-0-0-4-43', '2-0-2-2-0-2-0-3', '2-1-2-1-1-2-0-3-4', '2-0-2-1-1-1-0-3-30', '2-0-2-1-2-2-0-3-23', '2-1-1-1-2-2-0-4-87', '2-1-2-1-2-3-0-4-64', '2-0-1-1-1-3-0-3-71', '1-0-2-1-1-0-0-4-28', '2-0-2-1-0-3-0-4-37', '2-0-2-1-1-0-0-4-2', '2-1-2-0-1-2-0-4-35', '2-0-1-0-1-2-0-4-54', '2-1-0-1-0-0-0-3-71', '2-1-2-1-0-0-0-2', '2-1-1-1-2-1-0-3-41', '2-0-1-1-0-2-0-3-74', '2-0-1-1-2-3-0-4-14', '2-0-1-1-2-1-0-4-3', '2-1-2-2-2-3-0-4-40', '2-0-2-1-2-3-0-4-8', '1-0-1-2-3-3-0-4-43', '1-0-0-1-0-1', '2-0-1-0-1-2-0-3-29', '2-0-2-0-0-0-0-3-23', '2-0-1-1-2-3', '2-0-2-0-1-3-0-3-16', '1-0-2-2-3-0-0-1-32', '1-0-1-1-2-3-0-4-100', '2-1-1-1-2-3-0-4-47', '2-0-1-1-3-0-0-3-41', '2-0-2-1-3-1-0-4-5', '2-0-1-1-0-0-0-3-85', '2-0-1-1-2-3-0-3-29', '2-0-1-1-3-3-0-4-29', '2-0-2-2-0-2-0-4-35', '2-0-1-1-2-0-0-4-59', '2-0-1-0-2-3-1-4-1', '2-1-1-2-1-2-0-4-17', '2-1-1-1-0-1-0-3-36', '2-0-1-1-2-3-0-4-74', '2-0-1-2-1-0-0-4-16', '2-0-1-2-2-1-0-3-23', '1-0-0-1-3-3-0-3-18', '2-1-2-1-2-1-0-3-23', '2-1-0-1-1-0-0-3-22', '2-1-2-0-0-0-0-4-91', '2-1-1-1-1-1-0-3-62', '2-0-2-2-0-0-0-2-56', '2-0-1-1-1-1-0-3-99', '2-1-2-1-0-2-0-4-75', '2-0-2-2-1-2-0-4-17', '2-1-2-0-2-0-0-3-56', '1-0-0-1-1-2-0-3-99', '2-1-2-0-3-3-0-4-4', '2-1-2-2-0-2-0-3', '1-1-2-1-1-1-0-3-49', '2-0-1-1-2-0-0-3-81', '2-0-1-2-1-0-0-4-50', '2-1-1-0-1-2-0-4-63', '2-0-1-1-1-1-0-4-65', '2-0-1-1-1-1-1-4-1', '2-0-1-1-2-1-0-3-36', '2-1-2-1-2-0-0-3-1', '2-0-1-2-1-2-0-4-45', '2-1-1-0-0-1-0-4-83', '2-0-2-1-0-2-0-4-42', '2-0-1-1-0-1-0-3-43', '1-0-2-0-1-0', '2-0-1-1-0-3-0-4-61', '2-1-1-2-0-1-0-4-45', '2-1-2-1-1-0-0-3-73', '2-0-2-1-2-0-0-4-23', '2-1-2-1-1-3-0-4-84', '2-0-2-1-1-3-0-3-22', '1-0-1-2-3-1-0-4-74', '1-0-2-1-1-1-0-4-46', '2-0-1-0-1-0-0-4-8', '2-0-1-0-2-2-0-4-84', '2-0-2-1-0-0-0-4-62', '1-0-0-1-1-0-0-4', '2-0-2-1-2-2-0-4-72', '2-0-1-1-2-0-0-4-64', '2-0-2-1-0-1-0-4-43', '2-1-2-1-0-3-0-3-27', '2-1-1-1-0-3-0-4-47', '2-0-1-1-0-3-0-4-50', '2-0-1-1-2-2-1-4-6', '2-0-2-2-0-0-0-3-33', '1-0-2-1-3-3-0-3-20', '1-0-1-1-0-0-0-3-100', '2-1-1-1-1-1-0-3-24', '2-0-2-0-2-0-0-3-44', '1-0-1-1-3-2-0-4-10', '2-0-1-1-0-2-0-4-37', '2-0-1-1-1-1-0-3-43', '1-0-1-2-2-3-0-4-70', '2-0-1-1-1-3-0-4-42', '1-1-1-2-3-3-0-4-100', '1-1-1-1-2-1', '2-1-2-0-1-0-0-4-99', '1-1-1-2-0', '2-1-2-1-2-0-1', '2-0-1-1-1-1-0-4-73', '1-0-1-2-3-0-0-3', '2-0-1-1-0-2-0-4-81', '2-1-1-1-2-2-0-4-95', '2-1-2-1-0-1-0-4-6', '2-0-2-1-2-2-0-3-66', '1-1-0-1-3-0-0-3-37', '2-0-1-1-1-0-0-4-78', '2-1-2-1-0-2-0-3-54', '2-0-2-1-1-3-0-4-99', '2-1-2-0-2-2-0-4-23', '2-0-1-0-2-2-0-3-51', '1-0-2-0-0-3-1-3-3', '2-0-1-1-2-1-0-4-98', '2-0-2-1-1-1-0-3-57', '2-1-1-1-1-2-0-3-98', '1-0-2-1-0-3-0-4-19', '2-0-1-1-0-0', '2-0-1-2-2-1-0-4', '2-1-0-2-2-1', '1-0-1-2-3-0-0-3-34', '2-1-0-1-0--1-0-3-18', '2-0-2-0-1-0-0-3-10', '2-0-2-1-1-1-0-4-50', '2-0-2-1-1-1-0-4-84', '2-0-2-1-3-0-0-4-45', '1-0-1-1-2-3-1-3', '1-0-2-1-2-1-0-4', '2-1-2-1-2-2-0-3-32', '2-0-1-1-0-2-0-4-92', '2-0-2-2-1-0-0-4-26', '2-1-1-0-2-2-0-3-29', '2-0-2-0-1-0-0', '2-1-2-0-0-0-0-3-68', '2-0-2-1-0-1-0-4-92', '2-0-1-0-2-1-0-4-39', '2-0-2-1-2-2-0-4-79', '2-0-2-0-0-3-0-3-73', '1-1-1-2-2-2-0-3', '2-1-1-1-2-1-0-3-5', '2-1-1-1-1-0-0-3-9', '2-1-1-1-2-0-0-3', '2-1-1-2-3-0-0-4-80', '2-0-2-1-0-1-0-4-3', '2-0-1-1-3-2', '2-0-2-1-2-3-0-4-6', '2-0-1-1-0-2-0-4-16', '2-1-2-1-0-1-0-4-54', '1-0-1-1-1-3-0-3-50', '2-1-1-1-1-0-0-4', '2-0-2-1-3-3-1-4-4', '2-0-1-1-1-0-0-4-44', '2-0-1-0-3-0-0-3-10', '2-1-1-1-2-0-0-3-64', '2-1-1-1-1-1-0-4-12', '2-0-2-0-2-2-1-4-2', '2-0-1-1-2-0-0-4-54', '2-1-2-1-1-0-0-4-63', '2-0-1-2-1-1-0-4-45', '2-0-2-0-2-1-0-4-74', '2-1-1-0-0-1-0-4-86', '2-0-1-1-1-2-0-3-12', '1-0-1-1-3-3-0-4-39', '2-0-1-1-0-2-0-4-48', '2-1-2-1-2-3-0-4-87', '2-1-2-0-2-2-0-4-51', '2-0-2-1-3-0-1-4-6', '2-0-1-1-0-1-0-4-53', '2-0-1-1-2-0-0-3-9', '1-0-1-1-3-0-0-3-29', '1-0-2-1-3-3-0-4-34', '2-0-2-0-1-0-0-4-63', '1-1-1-1-2-3-0-4-58', '2-1-1-1-1-2-0-4-16', '2-0-2-0-1-3-0-4-5', '2-0-1-1-2-1-0-3-15', '2-1-2-1-0-1-0-4-42', '2-0-0-1-2-1-0-3-33', '2-1-2-1-3-0', '1-0-2-0-3-1-0-4-30', '1-0-2-1-1-2-0-3-57', '1-1-1-1-3-0-0-4-25', '2-0-1-1-0-2-0-4-35', '2-1-1-1-2-1-0-4-14', '2-0-1-1-1-0-0-4-28', '2-0-2-1-2-2-0-4-50', '2-1-2-1-1-0-0-4', '2-0-1-1-1--1-0-4', '2-0-1-0-1-1-0-3-39', '2-0-1-1-1-0-0-4-91', '2-0-1-1-2-2-1-4', '2-0-2-0-1-0-0-4-24', '2-1-2-1-1-2-0-4-100', '2-1-2-0-3-3-0', '2-0-1-1-2-3-0-3-35', '1-0-2-2-1-1-0-4', '2-0-2-0-2-0-0-3-75', '2-0-1-2-0-0-0-4-21', '1-0-0-1-3-2-0-3-29', '1-1-2-1-2-0-0-4-21', '2-1-2-2-1-1-0-3-6', '2-1-1-1-1-1-0-4-37', '2-0-2-1-0-0-1-3', '2-0-1-1-0-1-0-4-7', '2-0-2-1-0-0-0-3-67', '2-0-2-2-2-2-0-4-64', '2-0-1-2-1-0-0-4-99', '2-0-0-0-1-3', '2-0-1-0-0-1-0-3-68', '2-1-1-0-2-2-0-4-42', '2-1-1-1-1-3-1-4', '2-0-1-0-2-0-1-4-1', '2-0-1-0-1-0-0-4-32', '2-0-1-1-2-0-0-4-94', '2-0-1-1-3--1-0-3-22', '2-0-2-0-0-0-0-1', '2-1-2-1-1-1-0-4-60', '2-0-1-1-0-0-0-4-50', '2-1-1-0-1-0-0-2-41', '2-1-2-2-1-2-0-4-17', '2-0-1-0-1-1-0-3-56', '2-0-1-2-0-1', '2-0-2-1-0-0-0-4-81', '1-1-1-1-1-2-0-3', '2-0-2-2-0-1-1-4-9', '2-0-1-1-1-2-0-4-58', '2-0-1-1-3-', '2-0-2-0-1-2-0-4-8', '2-0-2-1-1-2-0-4-46', '1-0-1-1-3-1-0-3-61', '2-0-1-1-2-2-0-4-34', '2-0-0-2-2-2-0', '2-0-2-1-0-2-0-3-17', '2-1-1-1-2-2-0-3-53', '1-1-0-1-1-3-0-3', '2-0-1-1-2-1-0-4-73', '2-0-2-1-1-2-0-4-83', '1-0-1-1-3-1-0-4-96', '2-1-1-1-0-1-0-3-92', '2-1-0-1-1-3-0', '2-0-2-2-0-0-1-3', '2-1-2-0-2-1-0-4-28', '2-0-2-0-0-1-0-4-38', '2-1-2-1-2-2-0-4-3', '2-0-2-1-1-0-0-4-34', '2-1-2-1-1-3-0-3-4', '2-0-2-0-0-3-1-3', '2-0-1-0-1-1-0-4-51', '1-0-2-1-3-3-0-4-56', '2-1-1-1-2-0-0-4-80', '2-0-2-1-2-2-0-3-64', '2-0-1-1-1-2-0-3-29', '2-0-1-1-2-3-0-4-78', '2-1-1-1-2-3-0-3-59', '2-0-1-1-1-3-0-4-39', '2-1-2-1-1-2-0-3-86', '1-0-2-1-2-3-0-4-64', '2-0-1-1-0-2-0-4-31', '2-1-2-0-0-0-0', '1-0-1-2-1-2-0', '2-1-1-0-2-1-0-4-100', '2-1-1-2-3-0-0-3-42', '2-0-2-1-1-3-0-4-60', '2-0-2-1-1-1-0-3-21', '2-1-1-1-2-0-0-4-77', '2-1-2-0-2-2-0-4-35', '2-0-1-1-2-1-0-4-60', '2-1-2-0-2-3-0-4-35', '2-0-0-1-0-3', '1-1-2-1-3-0-0-3-19', '1-0-1-0-2-3-0-4-32', '2-1-1-1-2-0-0-3-75', '1-0-2-0-3-0-0-3-33', '2-0-0-1-1-0', '2-1-2-1-1-3-1-3-9', '2-1-2-1-2-0-0-3-42', '1-1-1-1-3-0-0-4-54', '2-1-1-1-2-0-0-3-10', '2-0-0-1-2-3-0-3-2', '2-0-2-2-0-0-0-4-63', '2-1-2-2-1-3-0-3-85', '2-1-1-1-2-0-0-4-17', '2-0-1-1-1-0-0-4-35', '2-1-2-2-1-2-0-4-85', '2-1-1-0-0-2-0-4-31', '2-0-1-1-0-0-0-3-13', '2-0-1-1-1-2-0', '2-1-1-0-0-3-0-4-42', '1-0-2-1-3-2-0-4-64', '2-0-2-1-1-0-0-3-4', '2-0-2-1-1--1-0-3-36', '1-0-2-1-3-2-0-3-57', '2-1-1-1-3-1-0', '2-0-1-2-1-2-0-3-5', '2-0-2-1-1-3-0-4-32', '2-0-1-1-2-3-0-3-40', '2-0-2-0-2-2-0-3-93', '2-1-1-2-1-1-0-4-79', '2-1-1-1-0-0-0-3-99', '2-1-2-0-3-0-0-4', '2-0-1-1-1-2-0-3-9', '2-0-2-1-0-0-0-4-97', '2-0-2-1-1-0-0-3-29', '2-0-2-0-0-3-0-4-76', '2-0-1-1-3-0-0-4-26', '2-0-1-0-1-3-0-3', '2-0-2-1-0-0-0-3-49', '2-1-1-2-2-1-0-4-42', '2-0-1-1-0-0-0-4-7', '1-0-1-0-2', '2-0-0-2-1-1-0', '2-1-2-0-0-2-0-4-64', '1-1-2', '2-0-1-1-3-0-0-4-35', '2-0-2-2-1-0-0-3-33', '2-0-1-2-0-3-0-3-99', '2-0-2-2-1-1-0-4-8', '2-0-0-1-0-0-1-3', '2-0-2-1-0-1-0-4-80', '2-1-1-2-2-2-0-3', '2-0-2-1-0-2-0-4-55', '1-1-2-1-0-2-0-4-33', '2-0-0-2-2-1', '2-0-2-2-1-1-0', '2-0-0-1-2-0-0-3-55', '2-0-2-1-1-0-0-4-84', '2-1-1-1-1-0-0-4-3', '2-0-2-1-3-2-0-4-19', '1-1-1-1-2-1-0-4-3', '2-0-2-0-0-1-0-3-34', '2-1-2-1-1-3-0-4-6', '2-1-2-0-2-3-0-3-53', '2-1-1-1-0-0-0-3-37', '1-0-1-1-2-1-0-4-61', '2-0-2-2-2-0-0-4-49', '2-0-1-0-3-2-0-3-43', '2-0-2-1-3-1-0-4-30', '2-0-1-1-0-2-0-4-23', '1-0-2-0-3-0-0-3-34', '1-1-0-1-2-0-0-3-76', '2-1-1-1-0-2-0-4-8', '2-0-1-0-1-0-0-3-30', '1-0-1-1-3-3-0-4-99', '2-0-1-0-1-0-0-3-81', '2-1-2-1-2-1-0-4-43', '2-0-0-0-0-0-0-3-82', '1-1-1-1-2-0-0-3-5', '2-0-2-1-2-0-0-4-20', '1-1-2-0-2-3', '2-0-1-0-1-0-0-4-88', '2-0-1-1-1-3-0-4-50', '2-1-1-1-1-3-1-3', '2-1-0-1-1-2-1-3-3', '1-0-2-2-2-0-0-4-55', '1-0-2-1-2-3-0-3-43', '2-1-2-0-1-2-0-4-6', '2-1-2-0-2-3-0-4-88', '2-1-1-0-2-0-0-4-17', '2-1-1-0-3-0-0-3-3', '2-0-1-0-0-2-0-3-5', '1-0-2-1-3-0-0-4-30', '1-0-2-1-3-3-0-4-64', '2-0-1-0-2-2-0-4-95', '2-0-0-2-0-0-0-4', '2-0-1-0-1-0-0-4-92', '2-1-1-2-0-3-1-4-8', '1-0-2-0-3-3-0-4-47', '2-1-1-1-2-3-0-4-70', '2-1-1-1-2-3-0-4-6', '2-1-1-1-1--1-0-3-36', '2-0-2-0-2-1-0-4-42', '1-1-1-1-3-0-0-3-20', '2-0-2-1-2-0-0-3-33', '2-1-1-1-0-0-1-4-2', '2-0-2-1-1-2-0-4-63', '2-1-1-1-2-1-0-3-82', '2-1-2-1-1-2-0-4-36', '2-1-1-1-2-3-0-3-12', '2-1-1-1-2--1-0-3', '2-1-2-1-1-3-1-4-8', '2-1-1-2-0-0-0-3-73', '2-1-2-1-2-3-0-4-46', '2-0-1-1-3-3-1', '1-1-2-1-0-2-0-3-33', '2-0-1-1-0-1-0-4-94', '2-0-2-0-2-1-0-4-29', '2-0-1-0-1-2-0-4-9', '2-1-2-2-1-1-0-3-7', '2-1-2-1-1-0-0-4-47', '2-0-1-2-2-2-0-4-72', '2-1-2-2-0-0-0-4-14', '2-1-1-1-1-3-0-4-17', '2-1-1-1-1-3-0-4-98', '2-0-1-2-1-2-0-4-49', '2-0-1-1-2-2-0-3-44', '2-0-2-1-0-1-0-4-23', '2-0-2-0-2-2-0-4-53', '2-1-1-0-0-0-0-3-18', '2-0-0-2-2-3-0-3-37', '2-0-2-1-2-0-0-4-82', '2-1-2-0-1-0-0-4-34', '2-0-2-1-2-0-0-3-74', '2-0-0-1-1-3-0-4', '2-0-2-0-2-0-0-3-98', '2-0-1-1-0-3-0-4-23', '1-0-1-1-3-0-0-4-2', '2-1-1-1-1-2-0-3-46', '2-0-1-0-0-1-0-4-60', '1-1-1-1-3-0-0-4-66', '2-0-1-0-2-1-0-4-51', '2-0-2-0-0-2-0-3', '2-0-1-0-0-2-0', '2-1-2-1-2-2-0-4-14', '1-1-2-2-3-2-0', '2-1-1-1-2--1-0-3-29', '2-1-1-1-0-1-0-4-87', '2-0-2-0-1-2-0-4-57', '2-0-2-1-3-0-0-4-10', '2-0-1-1-2-3-0-4-28', '2-0-1-1-2-0-0-4-81', '2-1-1-2-3-3-0-4-43', '2-0-2-1-1-3-0-4-20', '2-1-2-1-2-2-0-4-83', '2-0-1-0-1-3-0-3-32', '2-1-1-1-1-2-0-4-40', '2-1-0-0-2-1-0', '2-0-1-1-0-0-0-4-19', '1-0-2-1-3-3-0-4-90', '1-0-2-1-3-0-0-3-14', '1-0-2-0-3-2-0-4-58', '2-0-2-2-1-1-0-4-84', '2-0-1-1-2-2-0-4-89', '2-1-2-1-0-1-0-4-89', '2-1-2-1-2-2-0-4-20', '2-0-2-2-2-3-0-4-68', '2-1-1-0-1-2-0-4-22', '2-1-1-1-2-2-0-4-20', '1-0-2-1-3-2-0-3-31', '2-0-2-1-2-2-0-4-42', '2-1-2-1-1-0-0-4-96', '2-0-2-1-0-3-1-4-5', '1-0-1-0-2-3', '2-0-2-1-1-2-0-4-8', '2-0-0-1-1-2-0-3-84', '2-0-0-0-2-2-0-3-5', '2-1-1-0-0-0-0-4-31', '2-0-1-2-0-2-0', '2-1-1-0-1-0-0-4-51', '2-1-0-1-0-2-0-3-61', '2-0-2-0-1-1-0-4-76', '2-1-1-2-0-0-0-4-45', '2-1-1-0-2-2-0-3-3', '2-0-2-0-3-2-0-4-100', '2-0-1-2-1-0-0-4-41', '1-1-2-0', '2-0-2-2-0-0-0-4-29', '1-0-1-1-1-2-0', '2-1-1-1-2-0-0-3-80', '2-0-1-1-0-3-0-3-18', '2-0-1-1-2-0-0-4-67', '2-0-2-1-2-3-0-4-24', '2-0-2-1-0-1-0-4-99', '2-0-1-0-2-3-0-4-1', '2-0-2-1-0-2-0-4-63', '2-0-1-0-2-0-0', '2-0-2-1-0-3-0-4-34', '2-0-1-0-0-1-0-4-25', '2-0-1-1-1-1-0-4-40', '2-1-1-1-2-1-0-4-63', '1-0-1-1-2-3-0-3-68', '2-0-0-1-0-0-1-3-1', '1-0-2-1-3-1-0-3-32', '2-1-1-1-2-1-0-3-37', '2-1-2-1-0-0-0-3-33', '1-0-0-2-2', '2-0-1-2-1-1-0-4-3', '2-0-1-0-0-3-1-4-3', '2-1-2-2-2-3-0-4-67', '2-1-1-1-0-2-0-3-21', '2-1-1-0-1-2-0-4-36', '2-1-2-2-1-1-0-4-76', '2-0-2-0-1-0-0-4-41', '2-1-1-1-0-3-0-3-88', '2-0-2-0-2-1-0-3', '2-0-2-1-0-2-0-4-54', '2-0-1-1-2-0-1', '2-0-2-1-0-0-0-4-99', '2-1-1-1-1-2-0-4-5', '2-1-2-2-2-1-0-4-44', '2-1-2-2-1-0-0-3-57', '2-0-1-1-2-2-0-4-9', '1-1-2-0-0-2-0-3-52', '2-0-1-0-1-2-0-4-92', '2-0-2-1-0-2-0-3-12', '1-0-0-0-2', '2-0-2-1-2-1-0-3-38', '2-0-1-1-2-2-0-4-65', '2-0-2-1-2-1-0-4-83', '2-0-2-1-0-1-0-4-46', '2-0-2-0-2-2-0-4-23', '1-1-1-0-2-1-0-4-52', '2-1-2-1-1-3-0-4-64', '2-0-2-1-2-3-0-3-70', '2-1-1-2-1-3-0-4-9', '1-0-2-1-2-2-1-4-1', '2-1-1-0-2-1-1-4', '2-0-2-1-0-3-0-4-73', '2-1-1-1-0-0-0-4-31', '2-1-2-1-0-0-1-4', '2-1-1-1-2-0-0-4-38', '2-0-2-1-1-1-0-3-81', '1-1-2-1-0-1-0-4-32', '1-0-1-1-3-0-0-3-14', '2-0-2-1-2-3-0-4-79', '2-0-1-0-0-3-0-4-62', '1-1-0-0-3-2', '2-0-1-2-2-3-0-3', '2-1-1-1-0-2-0-4-72', '2-0-1-0-2-3-1-3-3', '2-0-1-1-0-0-0-4-99', '2-0-2-2-1-2-0-3-80', '2-0-1-1-3-1-0-3-5', '2-1-1-0-2-0-0-4-70', '1-0-1-1-2-3-0-4-78', '2-0-0-1-1-0-0-3', '2-0-2-1-2-0-0-4-9', '1-1-2-0-3-3-0-3', '2-0-2-1-0-1-0-3-45', '2-0-2-2-1-0-0-4-99', '2-1-1-0-1-0-0-4-63', '2-0-0-1-2-0-0-3-85', '2-1-2-0-2-0-0-4-68', '2-0-0-1-2-0-0-3-59', '1-0-1-1-3-3-0-4-4', '2-0-1-0-1-1-0-4-53', '2-0-2-2-0-0-0-4-1', '2-0-1-1-1-3-0-3-16', '1-0-1-1-2-0-0-3', '2-1-1-1-0-1-0-4-46', '2-0-1-1-0-0-0-3-57', '2-0-1-1-3-2-0-3-35', '2-0-1-0-1-3-0-4', '2-1-1-0-1-3-0-3-5', '2-0-2-1-1-2-0-4-77', '1-0-0-1-3-2-0-3-11', '2-0-1-1-0-2-1-4', '2-0-1-1-2-0-0-3-3', '2-1-1-1-1-0-0-4-75', '2-0-0-1-0', '1-1-2-1-3-0-0-4-7', '2-0-2-1-3-0-0-4-90', '2-0-2-0-2-0-0-4', '2-0-1-1-2-2-0-3-49', '1-0-1-1-3-1-0-4-99', '2-0-1-0-2-0-0-4-60', '2-1-2-0-2-2-0-4-6', '1-1-2-1-2-0-0-4-48', '1-1-2-1-3-0-0-3-16', '2-0-2-2-0-0-0-3-100', '2-0-1-1-0-2-0-4-18', '2-1-1-1-2-3-0-3-49', '2-1-1-1-3-3-0-4', '2-0-1-1-1-3-0-4-57', '2-0-2-0-1-1-0-4-34', '2-0-1-0-2-1-0-4-38', '1-1-2-1-2-2-0-4-5', '2-0-1-1-1-2-0-4-59', '1-0-1-1-1-0-0-4-51', '2-0-0-1-1-0-0-3-22', '2-0-2-0-1-0-0-3-60', '2-1-1-1-0-0-0-4-22', '1-0-1-2-3-3-0-4-84', '2-1-1-1-2-3-0-4-26', '2-0-1-2-1-1-1-4', '1-0-1-1-0-0-1', '2-1-1-1-2-0-0-4-92', '1-0-1-1-3-3-0-3-9', '2-0-2-1-0-1-0-4-70', '1-0-1-1-2-0-0-3-3', '2-1-2-1-1-1-1-4', '1-0-2-1-3-3-0-4-4', '2-1-1-1-2-0-0-3-32', '2-1-1-1-2-0-0-4-57', '2-0-1-1-1-2-0-3-5', '2-0-2-1-0-0-0-3-85', '1-1-1-1-3-3-0-3-4', '2-0-2-2-1-3-0-4-47', '2-0-0-1-0-0-0-3-96', '1-0-1-1-3-3-0-4-22', '1-1-2-1-1-1-0', '2-1-2-0-0-0-0-3-83', '2-0-2-1-1-2-0-3-3', '2-0-2-2-2-3-0-4-46', '2-0-2-0-0-1-0-4-85', '2-0-1-0-2-0-0-4-67', '1-0-0-1-3-2-0-3-62', '2-0-2-2-2-2-1', '2-0-2-1-1-1-0-3-15', '2-0-1-0-1-0-0-3-79', '2-1-0-1-0-0-0-3-76', '2-0-1-2-0-3-0-4-84', '2-1-2-1-0-0-0-4-42', '1-0-1-1-2-2-0-4-71', '2-1-2-0-1-1-1-4-1', '2-1-2-1-2-0-0-3-56', '2-1-1-1-2-2-0-3-44', '2-0-1-1-2-3-0-4-29', '2-0-2-0-2-1-0-3-54', '1-1-1-1-2-3-0-4-43', '2-1-2-1-2-3-0-4-58', '2-1-1-1-2-0-0-3-95', '2-1-2-1-0-1-0-3-58', '1-0-2-2-2-1-0-4', '2-0-2-1-0-1-0-4-88', '2-1-1-1-1-1-0-4-41', '2-0-1-0-0-1-0-4-75', '2-1-2-1-0-0-0-3-36', '2-0-2-1-2-0-0-4-71', '1-0-2-1-3-0-0-3-33', '1-0-2-2-0-0-0-4-51', '1-0-2-1-2-3-1-3', '1-1-2-2-3-0', '1-0-1-1-2-0-0-3-1', '2-1-1-2-1', '1-0-2-1-3-0-0-3-92', '2-1-1-0-1-3-0-3-37', '2-1-2-1-1-0-0-4-3', '2-0-2-0-2-1', '2-1-2-0-2--1-0-4', '2-0-2-2-2-2-0-4-79', '2-0-2-1-1-2-0-4-64', '1-1-0', '2-0-0-1-2', '2-1-1-1-0-2-0-3-99', '2-0-1-0-3-2-0-3-55', '2-0-1-1-0-0-0-3-29', '2-0-1-0-0-2-0-4-9', '2-0-1-1-0-2-0-4-68', '2-0-0-1-0-1-1-3-1', '2-0-1-2-3-0-0', '2-0-2-0-0-1-0-4-62', '1-0-2-1-0-2-1-4-1', '2-0-1-1-0-0-0-4-41', '2-1-1-0-3-2-0-4-20', '2-0-2-1-0-1-0', '1-1-2-1-2-0-0-3-54', '1-0-1-1-2-0-0-4-61', '1-0-2-0-1-3-0-4-100', '2-0-1-0-0-3-1-3-1', '2-0-2-0-2-0-0-4-17', '2-0-2-0-2-3-0-3-48', '2-0-1-2-1-2-0-4-20', '2-1-2-1-2-2-0-3-46', '2-1-1-1-2-1-0-4-97', '2-0-2-1-2-3-0-4-83', '2-0-1-0-1-1-0-4-61', '1-0-1-0-1-0-0-4', '1-1-1-1-3-2-0-3-55', '2-0-1-2-1-0-0-4-45', '2-0-2-1-0-2-0-3-13', '1-0-2-1-3-0-0-4-21', '2-0-1-1-2-3-0-3-33', '2-0-2-1-1-0-0-3-77', '1-0-1-0-3-1-0-4-2', '2-0-2-1-1-0-0-3-59', '2-1-2-2-2-3-0-4-95', '1-1-2-1-0-2-0-3', '1-0-1-1-2-0-0-4-78', '2-1-2-2-1-3-0-3-39', '2-0-2-1-0-0-0-3-31', '2-0-1-2-0--1-0-4', '1-1-0-1-3-3-0-3-19', '2-1-2-1-2-1-0-3-92', '2-1-0-2-0-0-0-4-21', '2-1-2-2-1-2-0-4-81', '2-0-1-1-1-0-0-4-62', '2-0-1-1-3-1-1-4', '2-0-2-1-2-3-0-3-98', '2-0-2-0-3-0-0-4-22', '2-0-2-1-1-2-0-4-42', '2-0-1-1-0-3-0-3-34', '2-1-2-2-3-2-1', '1-0-1-1-3-0-0-4-20', '2-0-0-1-2-2-0-3-99', '2-0-2-1-0-2-0-3-38', '2-0-2-1-2-0-0-3-73', '2-0-1-0-0-2-0-4-26', '2-0-1-1-1-0-0-4-19', '2-0-2-1-0-0-0-4-46', '2-0-2-1-3-0-0-4-7', '2-0-2-1-1-1-0-3-3', '2-0-2-1-1-2-0-4-1', '2-0-2-0-0-0-0-4-77', '1-1-2-0-3-3-0-4-48', '2-1-1-0-0-3', '1-0-2-1-0-0-1-4-3', '2-1-2-0-2-0-0-4-55', '2-0-2-1-1-0-0-4-55', '2-0-1-0-3-3-0-4', '2-0-1-0-1-1-0-4-18', '2-0-2-0-0-0-0-4-98', '1-1-1-1-0-2-0-4-36', '2-0-2-2-3-0-0-3', '2-1-2-1-2-3-0-3-40', '2-1-1-1-3-3-0-4-6', '2-1-1-1-1-1-0-4-39', '2-0-2-1-0-3-0-3-99', '2-1-1-1-2-3-0-4-46', '2-0-2-1-0-3-0-4-75', '1-0-0-1-1-0-0-3-100', '2-0-2-1-0-0-0-4-90', '2-0-1-1-0-1-0-3-74', '1-0-2-1-3-2-0-4-20', '2-0-1-1-1-2-0-3-66', '2-1-2-0-2-1-0-4-18', '1-0-2-2-3-0-0-4-44', '2-1-1-1-0-0-0-4-18', '2-0-2-0-0-0-0-4-25', '2-0-2-1-0-2-0-4-26', '2-0-1-1-1-0-0-4-60', '2-0-2-2-1-0-0-3', '2-0-2-1-2-0-1-3-7', '2-1-2-2-2-2-0-3-99', '2-1-1-1-0-0-0-4-87', '2-0-1-1-1-0-1-4-1', '2-0-1-1-1-2-0-3-4', '2-1-2-0-0-0-0-4-29', '2-0-1-0-1-3-0-4-79', '2-1-1-1-0-3-0-4-78', '2-1-2-0-3-1-0-4-4', '2-0-2-1-0-2', '2-0-2-1-2-1-0-4-96', '2-1-2-1-3-2-1-4', '2-0-2-1-2-3-1-4-3', '2-0-2-2-1-3-0-4-31', '2-1-2-1-1-1-0-3-36', '2-1-2-1-1-1-0-4-23', '2-1-1-1-0-1-1-4-2', '1-1-2-1-0-0', '2-0-1-1-0-0-0-4-82', '2-0-1-0-0-1-0-3-97', '1-1-1-1-2-2-0-4-62', '2-0-1-1-2-0-0-4-78', '2-1-2-0-0-1-1-4-1', '2-1-1-2-2-0-0-3-15', '2-1-2-0-0-0-0-4-4', '2-0-1-2-1-1-0-3-14', '2-1-1-1-1-1-0-4-14', '2-0-2-0-0-0-0-3-29', '1-1-0-1-2-1-0-3', '2-0-1-0-1-3-0-3-93', '2-0-2-1-3-0-1-4', '2-1-2-0-2-3-0-4-55', '2-1-2-1-1-0-0-4-14', '2-0-2-1-1-0-0-3-46', '2-0-1-0-0-3-0-3-57', '2-0-2-2-2-3', '2-0-2-1-0-2-0-4-27', '2-1-1-1-2-1-0-4-53', '2-1-2-0-2-1-0-3', '2-1-2-2-1-2-0-3-39', '2-0-2-0-1-3-0-4-15', '2-1-1-1-3-0-0-4-7', '2-0-1-0-2-1-0-4-54', '2-0-1-0-0-0-0-3-60', '2-0-1-1-1-3-0-3-29', '2-1-2-2-0-0-0-3-54', '1-0-1-1-2-1-0-4-55', '2-1-2-1-2-3-0-3-48', '2-0-1-1-3-2-0-3-15', '2-0-1-2-3-1', '2-1-2-1-2-2-0-3-34', '2-0-1-0-2-3-0-4-43', '2-1-1-0-2-2-0-3', '2-1-2-1-1-0-0-4-16', '1-0-2-1-3-3-0-4-13', '2-0-2-2-1-0-1-4-2', '2-1-1-2-1-3-0-4-30', '2-0-2-1-0-0-0-4-7', '2-0-0-1-0-0-0-3-53', '1-0-1-0-3-0-0-3-33', '2-0-1-1-1-3-0-4-4', '2-0-2-0-0-2-0-3-38', '2-0-1-0-2-3-0-4-67', '2-0-2-1-3-3-0-4-27', '2-1-0-2-1', '2-0-1-1-3-0-0-4-5', '2-0-1-2-0-2-0-4-19', '2-0-2-1-1-0-0-4-61', '1-1-1-1-3-3-0-4-3', '2-0-0-1-3-3-0', '2-0-1-1-1-3-0-4-43', '2-0-1-1-1-0-0-4-88', '2-0-2-1-0-3-0-3-4', '2-0-1-0-0-2-0-4-94', '2-1-1-1-2-0-0-3-23', '1-0-0-1-2', '2-1-2-2-0-1-0-4-76', '2-1-1-1-2-3-0-3-98', '2-0-2-1-2-1-0-3-71', '2-1-0-0-0-0-0', '2-0-2-2-1-1-0-4-15', '2-0-1-2-0-0-0-4-99', '1-0-1-1-3-3-0-3-97', '2-0-2-1-1-2-0-3-64', '2-0-2-1-0-0-0-3-35', '2-0-1-1-1-3', '2-0-1-1-0-2-0-4-71', '2-1-2-0-3-3-0-4-50', '1-0-1-1-2-3-0-4-87', '2-0-2-0-1-0-0-3-100', '2-0-1-1-1-0-0-3-60', '2-1-2-1-1-2-0-4-19', '2-0-2-1-0-3-0-4-3', '2-0-2-1-2-2-0-3-41', '2-1-2-1-1-0-0-4-75', '2-1-1-1-1-0-0-4-6', '2-0-1-2-1', '2-0-2-0-0-0-0-4-17', '2-1-1-1-2-3-0-3-15', '1-0-1-2-2-0-0-4', '2-0-2-1-0-0-0-4-86', '2-0-1-1-1-3-0-4-98', '2-1-1-1-2-2-0-3-97', '2-0-1-1-2-1-0-4-99', '1-1-2-1-2-0-0-4-26', '2-1-1-0-3-0-0-4-20', '2-1-2-1-2-3-0-3-98', '2-0-2-1-1-1-0-3-18', '2-1-1-1-0-1-0-3-46', '2-0-2-1-1-3-1-4-5', '2-0-2-1-2-0-0-4-28', '1-0-2-1-0-3-0-3', '1-0-1-0-3-0-0-3-26', '2-0-2-2-2-2-0-3-18', '2-1-2-1-3-0-0-4-2', '2-1-2-1-2-0-0-4-10', '2-0-1-1-0-1-0-4-36', '2-0-2-1-1-3-0-3-10', '2-1-1-2-1-1-0-4-6', '2-0-1-0-1-3-0-4-58', '2-0-2-1-1-0-0-4-54', '2-0-1-1-0-3-0-4-52', '1-0-2-1-3-0-0-4-52', '2-0-1-0-0-2-0-4-76', '2-0-2-1-0-0-0-4-8', '2-1-1-1-2-2-0-4-96', '2-0-1-0-1-1-0-4-99', '1-0-1-1-1-0-0-3-59', '2-1-1-1-0-2-0-4-81', '1-0-1-0-1-2-0-4-52', '2-0-2-1-1-1-0-3-33', '2-0-2-1-3-0-0-4-74', '2-1-2-2-3-3-0-4-82', '2-0-2-1-2-0-0-3-100', '2-1-2-2-0-1-0-4-36', '2-0-2-2-0-2-0-4-90', '2-0-1-0-3-0-1-4', '2-0-1-1-1-0-0-4-85', '2-0-2-1-1-0-0-3-32', '2-1-1-2-2-2-0-4-84', '2-0-1-0-1-2-0-4-33', '2-0-2-0-1-1-0-4-65', '2-1-2-1-0-1-0-3-25', '2-0-2-1-1-0-0-4-19', '2-0-2-1-2-1-0-3-13', '1-1-1-1-3-3-0', '2-0-1-2-2-0-0-4-4', '2-0-2-1-2-0-0-4-54', '1-1-0-0-3-0-1', '2-1-2-1-2-1-0-4-56', '2-0-2-1-3-3-1-3', '2-1-2-1-1-2-0-3-83', '2-0-1-0-0-0-0-3-89', '2-0-1-1-1-1-0-3-37', '2-1-2-2-3-0', '2-0-1-1-2-0-0-4-44', '2-0-2-1-2-1-0-3-100', '2-0-1-1-0--1-0-3-67', '2-1-1-1-1-3-0-4-83', '2-0-0-1-0-1-0-4-7', '2-1-1-0-3-2-0-3-44', '2-0-1-0-1-3-0-3-43', '2-0-1-1-2-0-0-4-91', '2-1-2-1-0-0-0-3-98', '2-0-2-1-0-0-0-4-17', '2-0-0-1-2-1-0-3-43', '2-0-2-1-3-3-0-3-42', '2-0-2-1-0-0-0-4-98', '1-0-0-1-2-2-0-3-22', '2-1-2-1-1-0-0-4-62', '2-1-1-0-1-3-0-4-73', '2-1-1-0-1-0-0-3-49', '2-0-2-1-1-3', '2-1-2-1-2-1-0-3-30', '1-0-1-1-1-0-0-3-88', '2-0-2-1-2-0-0-4-67', '1-0-2-0-1-1-0-4', '2-0-1-1-2-1-0-4-54', '2-0-2-1-1-2-0-4-45', '2-1-2-0-0--1-0-3-38', '2-1-2-2-0-2-0-4-41', '2-0-2-0-1-1-0-4-10', '2-0-1-1-2-0-0-4-84', '2-0-1-2-2-2-0-4-42', '1-0-2-1-3-2-0-4-39', '1-1-1-2-2-2-0', '2-0-1-1-2-1-0-4-62', '2-0-1-1-0-1-0-4-76', '1-1-2-2-3-2-0-4', '2-1-1-1-2-2-0-3-31', '2-0-1-0-2-3-0-3-50', '2-0-2-0-0--1-0', '2-0-0-0-2-1-0-2-75', '2-1-1-1-2-0-0-4-55', '2-0-1-1-0-2-0-4-5', '2-0-2-1-2-1-1-3-1', '2-0-2-1-0-2-0-3-7', '2-1-2-2-3-1', '2-0-2-0-3-0-0-4-57', '2-1-1-1-0-0-0-3-98', '2-1-1-2-2-1-0-3', '2-0-2-1-2-3-0-4-26', '2-1-1-0-0-1-0-3', '2-1-1-2-1-1-0-4-4', '2-1-2-1-2-1-0-4-6', '2-1-2-0-1-0', '2-0-1-1-0-0-0-3-62', '1-1-1-1-2-0-0-4-56', '1-0-0-1-3-0-0-3-50', '2-0-2-1-2-2-0-4-98', '2-0-1-2-0-0-0-3-39', '2-0-2-1-2-3-0-4-63', '2-0-1-1-2-0-0-3-69', '2-0-2-2-1-0-0-3-85', '2-1-1-2-0-0-0-4-39', '1-1-0-0-3-0-0', '2-0-1-0-1-0-0-3-84', '2-1-1-0-3-3-0-3-24', '2-0-1-1-1-3-1', '2-0-1-0-0-0-0-3-20', '2-0-1-1-1-2-0-4-78', '2-0-2-0-2-2-0-4-14', '2-0-2-1-0-0-0-2-33', '2-1-1-1-1-3-0-4-23', '2-1-2-0-3-3', '2-0-1-1-2-0-0-3-74', '2-0-2-2-1-0-1-3-3', '2-1-1-1-2-1-0-4-2', '2-1-1-1-0-0-0-3-69', '2-0-2-1-3-1-0-4-37', '2-0-1-1-2-0-0-4-19', '2-0-2-1-3-1-0-3-55', '2-1-2-1-2-2-0-4-82', '2-1-1-1-3-2-0-4-6', '2-0-2-1-1-2-0-4-43', '1-0-2-1-3-2-0-4-27', '2-0-0-1-2-1-0-3-73', '2-1-0-1-2-0-0-3-5', '2-0-2-1-2-3-0', '2-0-0-1-1-2-0-3-64', '2-0-2-2-1-1-0-3-17', '2-0-1-1-0-0-0-4-5', '2-0-1-1-1--1-0-3-62', '2-1-1-1-0-0-0-4-30', '2-1-2-0-1-3-0-4-4', '2-0-0-1-2-1-0-3-3', '2-0-1-1-0--1-0-4-98', '1-0-1-2-3-2-0-4-5', '2-0-1-0-2-0-0-3-10', '1-0-1-1-2-2-1', '2-0-1-1-2-2-0-4-59', '2-1-0-1-3', '2-1-1-1-0-3-0-4-38', '1-0-1-1-3-0-0-3-3', '1-0-2-0-0-2-0-4-23', '2-0-1-1-3-0-0-3-15', '2-0-1-0-1-0-0-4-52', '2-0-1-0-1--1-0-3-63', '1-1-1-0-3-3', '2-1-2-2-0-0-0-4-100', '2-0-1-2-0-1-0-3-54', '2-0-1-1-3-3-0-4-53', '2-1-1-2-1-0-0-4-5', '2-0-1-1-2-0-0-3-45', '2-1-2-0-1-2-0-4-1', '2-0-1-0-2-0-0-4-90', '2-0-1-2-0-0-0-3-77', '2-0-2-2-1-3-0-4-42', '2-0-1-0-2-2-0-3-100', '2-1-1-0-0-0-0-4-100', '2-1-1-1-2-3-0-4-43', '2-1-1-1-1-0-1-3', '1-1-1-0-2-0', '2-0-1-0-1-1-0-4-92', '2-0-2-1-1-0-0-4-1', '2-0-2-0-0-3-0-4-74', '2-0-1-0-1-2-0-4-47', '1-0-2-0-1', '2-0-1-0-2-3-0-4-51', '2-1-2-1-1-1-0-3-99', '2-1-2-2-2-2-0-4-95', '1-0-1-1-3-3-0-3-96', '2-0-1-0-1-2-0-3-28', '1-1-1-1-3-1-0-4-4', '2-0-1-1-1-0-0-3-67', '2-1-1-2-1-1-0-3', '2-1-2-0-2-2-0-3-82', '2-1-2-1-0-0-0-4-90', '1-0-2-1-1-1', '2-0-1-1-0-0-0-3-82', '2-0-2-1-1-3-0-3-75', '2-0-2-1-0-0-0-4-25', '2-0-2-1-0-3-0-3-38', '2-0-1-1-0-1-0-4-72', '2-1-1-1-0-0-0-4-90', '2-0-1-1-3-0-0-4-88', '2-0-1-0-0-0-0-4-29', '2-1-1-1-1-2-1-3-4', '1-0-2-0-0-2', '2-1-1-1-1-0-0-3-15', '2-0-2-1-2-0-0-4-1', '2-0-0-0-2-2-0-3', '2-0-1-1-2-2-0-3-63', '1-1-2-1-3-0-0-4-36', '2-1-1-0-3-0-0-4-3', '2-1-2-0-1-3-0-4-7', '2-0-1-1-0-1-0-4-33', '2-1-1-1-1-1-0-4-77', '1-1-1-1-3-0-0-4-80', '2-1-1-0-2-1-0-4-54', '2-1-1-0-2-3-0-4-88', '2-1-0-1-0-2-0-3-22', '2-0-2-1-0-0-0-4-39', '1-0-2-1-1-1-0-4-50', '2-0-1-1-0-', '2-1-0-1-1-0-0-2-81', '2-0-2-1-1-1-0-4-86', '2-1-1-1-1-3-0-4-46', '2-1-1-0-2-2-0-4-11', '2-1-1-1-2-1-0-4', '2-0-2-1-1-0-0-3-69', '2-1-1-0-1-0-0-4-20', '2-1-1-2-1-2-0-4-55', '1-0-1-0-3-2-0-4', '2-0-2-1-0-0-1-4-2', '2-1-1-1-2--1-0-3-26', '2-0-1-0-1-0-0-4-26', '2-0-1-1-2-0-0-4-10', '2-0-2-0-0-1-0-3-75', '2-1-1-0-2-2-0-4-3', '2-1-1-0-3-0-0-4', '2-1-2-1-0-2-0-4-86', '2-0-2-1-1-3-0-4-25', '2-0-1-0-1-3-0-3-100', '1-0-2-1-2-1-1-4', '1-0-2-2-2-0', '2-0-1-1-1-1-0-4-30', '2-0-0-1-1-2-0-3-24', '2-1-2-2-1-2-0-4-46', '2-1-0-0-1--1', '2-0-1-1-2-3-0-4-68', '2-1-1-1-0-0-0-3-16', '2-0-2-0-0-1-0-4-52', '2-1-0-2-2', '2-1-1-2-1-2-0', '2-0-1-2-3-3-0-3-42', '2-1-1-1-0-3-0-4-99', '2-0-2-1-3-1-1-4-8', '2-0-2-1-2-1', '2-0-2-1-2-3-0-3-38', '2-0-1-0-1-2-0-4-97', '2-0-1-2-0-1-1-3-1', '1-1-1-1-2-0-0-3-29', '2-0-1-0-1-2-0-4-98', '2-0-2-0-2-2-0-3-39', '2-0-1-0-2-3-0-3-93', '2-0-1-0-2-3-0-4-65', '2-0-2-1-2-2-0-3-15', '2-0-1-1-3-0-0-4-41', '2-1-1-0-1-1-0-4-64', '2-0-2-1-0-0-0-4-35', '2-0-2-0-3-1-0-4-51', '2-0-2-2-0-1-0-4-84', '2-1-1-1-1-0-0-4-42', '2-1-1-1-0-2-0-4-23', '1-0-1-1-0-0-0-3-99', '2-0-2-1-1-0-0-4-60', '2-0-2-1-1-3-0-3-16', '1-0-1-2-2-3-0-4', '2-1-2-1-0-0-0-4-44', '2-1-2-1-1-1-0-4-22', '2-0-2-0-0-3-0-4-62', '1-1-1-1-0-1-0-4', '2-0-2-1-0-2-0-4-31', '1-1-2-1-2-0-0-4-14', '2-0-2-0-3-0-0', '1-0-1-1-2-0-0-1-62', '2-0-1-0-1-1-0-4-25', '2-0-2-2-0-3', '2-0-1-1-3-1-0-4-38', '1-1-2-1-3-0-0-4-100', '1-1-0-0-0-0-0-3', '2-0-2-1-3-0-0-4-99', '2-1-2-1-0-0-0-3-44', '2-0-2-1-2-3-0-4-71', '2-1-2-0-1-0-0-4-8', '2-1-1-1-2-1-0-4-100', '2-0-2-1-1-0-0-4-40', '2-0-2-0-1-0-0-4-13', '2-1-1-0-2-0-0-4-16', '2-0-0-0-0-0-0-2-77', '2-0-1-1-1-3-0-3-100', '2-1-0-1-3-1-0-3-7', '2-0-2-2-2-3-0-3-35', '2-0-1-2-0-0-0-4-14', '2-0-1-1-1-1-1-4-5', '2-0-2-0-1-0-0-3-12', '1-0-0-1-2-0', '2-0-2-1-2-2-0-4-11', '2-1-2-1-2-2-0-4-33', '2-0-1-1-1-3-0-3-27', '2-1-1-1-1-2-0-3-25', '2-0-1-2-0-2-0-4-98', '2-1-1-1-0-2-0-4-88', '2-0-1-1-1-2-0-4-20', '2-0-2-1-0-2-0-4-91', '2-0-2-1-2-0-0-3-11', '2-0-2-1-1-0-0-4-62', '1-1-1-1-3-2-0-4-64', '2-0-1-1-2-2-0-4-4', '2-1-1-2-3-2-0-4-80', '2-1-2-2-1-2-0-4-21', '2-0-2-0-3-0-1-4', '2-1-1-1-1-1-1-4-7', '2-0-2-0-3-2-0-4', '2-0-1-0-1--1', '2-1-1', '1-0-1-1-3-2-0-4-63', '1-1-0-1-0-0-0-3', '2-1-2-0-2-0-0-3-49', '1-0-1-1-1-0-0-4-99', '2-0-2-1-2-3-0-3-90', '2-0-1-2-0-2-0-4-67', '2-1-1-1-2-3-0-4-37', '2-1-1-1-1-3-0-4-100', '1-0-1-1-1-0-0-4-58', '2-1-1-0-1-3-0-4-36', '1-0-0-1-3-0-0-3-35', '2-0-2-2-1-1-0-4-37', '1-1-2-1-2-3-0-4-6', '1-0-2-0-3-0-0-4-11', '1-0-2-1-3-2-0-3-100', '2-0-0-2-1-', '1-1-0-1-2-0', '2-1-1-1-1-0-0-3-53', '2-0-1-0-2-1-0-3-92', '1-1-1-1-0-0-0-4-47', '2-0-2-1-1-2-0-3-28', '1-0-2-1-3-1-0-4-31', '2-0-2-2-0-0-0-3-96', '2-0-1-2-0-3-0-3-83', '2-0-2-1-2-0-0-4-29', '2-0-2-1-0-1-0-4-79', '2-0-2-1-1-1-0-4-12', '2-0-2-1-1-2-0-4-50', '2-0-1-1-3-0-0-4-7', '2-0-1-2-2-1-0-4-23', '2-1-1-1-0-0-1-4-10', '1-1-1-1-2-3-0-4-97', '2-1-2-1-0-0-0-3-42', '1-0-1-1-0-0-0-3-96', '1-0-1-0-3-0', '2-1-1-1-2-2-0-4-28', '2-0-1-0-1-0-0-4-31', '1-0-1-2-3-2-0-3', '2-0-1-1-1-0-0-3-16', '2-0-2-1-0-3-0-3-48', '2-0-2-0-0-2-0-4-94', '2-0-2-1-2-2-0-4-57', '1-1-1-1-2-0-0-4-51', '2-0-1-1-1-1-0-4-42', '2-1-1-1-0-3-0-4-7', '2-0-2-1-2-3-0-4-97', '2-0-2-1-3-1-0-3-43', '2-0-1-0-3-0-0-4-33', '2-1-1-1-2-3-1-4-6', '2-0-2-0-2-0-0-4-85', '2-1-1-0-0-2-0-4-49', '2-1-1-2-1-2-0-3', '2-0-0-0-1-1', '2-0-0-1-2-1-0-4-38', '2-0-1-2-2-2-0-3-1', '2-0-1-2-0-3-0-4-28', '1-0-1-1-2-2-0-4-52', '2-1-1-1-1-0-0-4-34', '2-0-2-0-2-3-0-4-95', '2-1-2-1-0-1-0-3-19', '2-1-1-1-0-1-0-4-29', '1-0-1-2-2-3-0-3', '2-0-2-1-2-0-0-4-56', '2-1-0-0-0-2-0', '2-0-2-1-2-0-0-3-8', '2-0-1-1-1-3-0-4-17', '2-0-2-1-1-0-0-4-14', '2-0-2-2-1-0-0-4-19', '2-0-2-0-1-3-0-3-8', '2-0-1-1-0-0-0-4-71', '2-0-2-0-0-0-0-4-66', '1-0-1-2-1-2-0-3', '2-0-1-1-3-0-1-3-5', '2-0-2-1-2-3-0-4-74', '2-0-1-1-0-0-1-3-2', '1-0-2-1-3-0-0-4-13', '2-0-2-0-1-0-0-4-89', '2-0-1-1-0-3-0-4-63', '2-0-2-1-0-1-0-3-36', '1-0-2-1-3-0-0-4-53', '2-0-2-1-3-3-0-4-40', '1-1-1-1-0-0-0-4-48', '2-1-2-1-2-0-0-4-34', '1-1-1-0-3-3-0-4-39', '2-1-1-1-1-2-0-4-36', '2-1-2-2-1-2-0-3-41', '2-0-1-0-2-2-0-4-78', '2-1-2-1-0-3-0-4-25', '1-0-2-0-0-0-1', '2-0-2-1-3-0-0-4-49', '2-0-1-1-1-0-0-4-30', '2-0-1-0-3-3-0-3-13', '2-0-2-1-3-2-0-4-73', '2-1-2-1-2-3-0-4-29', '2-0-1-1-2-0', '1-1-1-1-3-0-0-3-16', '1-0-2-1-2-0-0-4-4', '2-1-1-1-3-3-0-4-44', '2-0-2-1-2-0-0-3-3', '1-1-0-1-2-0-0-3-13', '2-0-2-0-1-2-0-3-15', '2-1-1-1-2-2-0-4-21', '2-0-2-0-0-3-0-3', '2-0-2-2-1-0-0-4-18', '2-0-2-1-0-1-0-4-96', '2-0-1-1-2-0-0-4-1', '2-1-2-1-3-3-0-4-42', '2-0-2-0-2-3-0-4-75', '2-1-2-1-2-3-0-3-47', '1-1-2-1-0-0-0-4-33', '2-0-2-1-2-1-1-4-7', '2-1-1-1-0-0-0-4-9', '2-1-2-1-2-2-0-3-5', '2-0-1-0-3-2-0-3-56', '2-1-1-1-2-0-0-3-41', '2-0-2-1-2-0-0-4-90', '2-0-2-1-2-2-0-4-77', '2-0-2-0-2-0-0-4-11', '2-0-2-1-1-3-0-4-22', '1-0-2-1-3-3-0-4-28', '2-0-2-1-1-3-0-4-16', '2-0-1-1-1-', '2-1-2-0-2-0-0-4-62', '2-0-2-1-2-0-0-4-70', '1-0-2-1-2-1-1-4-11', '2-1-1-1-1-1-0-3-100', '2-1-1-0-2-0-0-3-88', '2-1-1-1-0-1-0-4-47', '2-0-1-1-2-3-0-3-58', '2-1-1-0-2-0-0-4-40', '2-1-1-1-2-1-0-3-32', '2-1-2-2-0-0-0-3-72', '2-0-2-0-1-0-0-4-44', '2-0-2-2-1-3-0-4-60', '2-0-2-1-1-0-0-4-33', '2-1-1-1-1-1-1-4-6', '2-0-2-2-1-2-0-4-72', '2-1-1-1-2-3-0-4-50', '2-0-2-2-0-0-0-3-79', '2-1-1-0-2-1-0-4-18', '2-1-1-2-0-0-0-4-43', '2-0-1-2-2-0-0-4', '2-0-1-1-1-3-0-3-9', '1-0-1-0-1-3-0-3', '2-0-1-1-2-1-0-4-23', '2-0-1-1-1--1-0-3', '2-0-1-0-3-1-0-4-14', '2-0-2-0-2-0-0-3-95', '2-0-2-1-2-0-0-4-30', '1-1-1-1-2-2-0-3-58', '2-1-1-1-1-3-0-4-74', '2-1-1-1-2-1-0-4-66', '2-0-1-1-1-3-0-3-70', '2-1-1-1-0-1-0-4-17', '2-1-2-0-2-1-0-4-51', '2-1-2-1-0-0-1', '2-0-2-2-0-0-0-3-39', '2-0-2-1-1-0-0-4-10', '2-0-2-2-1-1-0-4-11', '2-0-2-0-2-3-0-3-18', '2-0-0-1-0-0-0-4-5', '2-1-2-1-0-2-0-4-25', '1-1-1-0-3-1-0-4', '2-1-1-1-1-0-0-4-25', '1-0-2-1-3-2-0-4-56', '1-1', '2-0-1-0-0-1-0-4-78', '2-0-2-0-0-0-0-3-64', '2-0-1-1-0-1-0-3-28', '2-0-2-1-0-3-0-4-12', '1-0-2-1-2-3-0-3-27', '2-0-0-1-1-1-0-3-21', '1-0-1-0-3-0-0-4-35', '2-0-0-2-0--1-0', '2-1-2-1-0-1-0-4-68', '1-0-2-0-3-3-0-3', '2-0-2-1-0-1-0-4-12', '2-1-1-0-3-2-0', '1-0-2-0-3-3-0-4-12', '2-0-2-1-3-0-0-4-89', '2-1-2-1-0-0-0-4-25', '2-1-1-1-0-3-0-3-100', '2-1-2-1-0-1-0-3-47', '2-0-2-0-2-2-0-3', '2-0-2-1-2-0-1-4-10', '2-0-1-0-3-2-0-3', '2-0-2-1-1-2-0-4-11', '2-1-2-1-0-0-0-4-82', '2-0-2-0-2-3-0-4-14', '2-0-1-2-1-3-0-4-19', '1-0-2-1-3-1-0-4-92', '2-0-0-2-1-2-0', '2-0-2-1-2-0-0-3-53', '2-1-1-1-1-2-0-4-90', '1-0-2-0-2-3', '2-0-1-1-0-1-1-3-5', '2-1-1-1-1-0-0-4-26', '2-0-1-1-2-1-0-3-61', '2-0-2-1-1-1-0-3-55', '2-1-1-1-0-2-1', '2-0-2-1-0-2-0-4-35', '2-0-2-1-0-0-1-4-6', '2-1-1-1-2-3-0-3-2', '2-0-1-1-0-3-0-3-46', '2-1-1-1-0-0-0-4-10', '2-0-1-1-1-2-0-4-10', '2-0-1-2-2-0-0-4-36', '2-0-1-1-1-0-0-4-8', '2-0-1-2-0-0-0-4-6', '1-0-1-1-0-2-1-4-3', '2-0-2-0-0-3-0-3-49', '1-0-2-1-3-0-0-3-34', '2-0-0-1-2-3', '2-1-0-1-0-0-0-3-97', '2-0-2-0-0-0-0-3-86', '1-1-1-1-3-2-0-3-81', '2-0-1-0-0-0-1-4', '1-0-2-1-2-3-0-3-63', '2-0-2-2-1-3-0-4-100', '2-1-1-2-1-2', '1-1-2-1-0-0-0-4-50', '1-1-2-2-3-2', '1-0-1-0-2-0-0-4', '2-0-1-1-0-1-0-4-40', '2-0-1-1-0-1-0-4-46', '2-1-1-0-0-1', '2-0-2-1-1-0-0-4-45', '2-0-2-0-0-1-0-4-9', '2-0-2-2-1-3-0-4', '2-1-2-1-0-2-0-4-41', '2-0-2-0-0-0-0-3-55', '2-0-2-0-0-1-0-4-86', '2-0-2-1-2-0-0-4-48', '2-1-2-2-0-0-0-4-41', '2-1-2-1-1-2-0-4-41', '2-0-1-1-3-0-0-4-50', '2-0-1-1-0-0-0-3-94', '2-1-1-1-0-3-1', '2-0-1-0-0-1-0-4-29', '2-0-1-1-2-2-0-4-2', '2-1-1-1-1-3-0-4-87', '2-1-2-1-0-2-0-4-48', '1-0-1-0-1-0-0-4-29', '2-0-2-0-2-1-0-4-14', '2-0-2-1-0-0-0-3-81', '2-1-2-1-0-0-0-4-10', '2-0-1-0-0-1-0-4-46', '2-1-1-1-0-2-0-4-65', '2-0-1-1-3-2-0-4-36', '2-0-1-1-1-3-0-3-2', '2-1-1-1-1-3-0-4-60', '2-0-2-0-0-3-0-4-35', '1-1-0-1-2-2-0', '1-1-2-1-0-0-0-3-32', '2-0-2-1-1-2-0-4-22', '2-0-1-2-2-2-0-4-99', '1-0-1-1-0-0-0-3-53', '2-0-1-2-1-1-0-3-99', '2-0-2-0-1-1-0-3-84', '2-0-2-2-1-3-0-3', '2-0-1-0-2-3-0-4-95', '1-0-2-1-2-3-1-3-9', '1-1-2-1-2-1-0-4-35', '2-0-0-1-1-1-0-3-47', '1-0-2-1-3-2-0-4-33', '2-0-2-1-1-2-0-3-34', '2-1-1-1-0-3-0-3-19', '2-0-2-1-3-3-0-4-32', '2-1-1-0-0-1-0-4-32', '2-1-1-0-1-1-0-4-42', '2-0-2-1-1-2-0-3-19', '1-0-1-1-2-3-0-3-59', '2-1-2-0-2-0-0-3-60', '2-1-0-0-1-', '2-0-2-1-0-2-0-4-7', '2-0-2-1-2-1-0-4-95', '2-0-2-2-3-0-0-4-88', '1-0-1-1-3-3-0-4-5', '2-1-2-0-0-0-0-4-19', '2-1-2-1-3-0-0-4-70', '1-0-1-1-3-1-0-4-97', '2-0-1-2-2-0-0-4-2', '2-1-0-2-2-2-0-3', '2-1-1-1-2-3-1', '1-0-2-1-3-3-0-4-40', '2-1-2-0-0-1-0-3-54', '1-1-2-0-2-1-0-4', '1-0-1-1-3-3-0-4-34', '2-0-0-2-2-2-0-4-97', '2-0-0-1-0--1-1-3-1', '2-1-2-1-0-0-0-4-16', '1-mean', '2-0-1-1-2-3-0-4-45', '2-0-1-0-1-0-0-4-46', '1-0-0-0-3-2-0', '2-1-1-0-0-2-0-4-90', '2-0-2-1-2-2-1-3-5', '2-1-1-1-0-0-0-4-20', '2-1-1-1-1-1-1-4', '2-0-1-2-0-3-0-4-4', '2-0-1-0-0-1-0-4-94', '2-1-2-1-0-3-1-4-8', '2-0-1-1-0-1-0-4-20', '2-1-2-0-2-2-0', '2-1-2-1-2-0-0-4-55', '2-1-1-0-2-1-0-4-55', '2-1-2-2-2-2-0-3-6', '2-0-1-1-1-2-0-4-91', '2-1-1-1-2-1-0-4-84', '2-1-1-0-0-2-0-4-48', '2-0-1-0-3-1-1-4', '2-0-1-1-2-3-0-4-36', '2-1-2-1-0-0-0-4-77', '2-0-1-1-1-1-0-3-46', '2-1-1-0-1-0-0-3-35', '2-0-2-2-0-3-0-4-79', '2-0-1-0-3-2-0-4-76', '2-0-2-0-1-3-0-4-85', '2-1-2-1-3-0-0-4-31', '1-1-2-1-1-3-0-4-100', '2-0-2-2-2-3-0-4-82', '2-1-2-1-1-1-0-4-20', '1-0-2-1-2-3-1', '2-1-2-2-3-2-0-4-81', '1-0-2-1', '2-0-2-1-1-2-0-4-44', '2-0-1-1-0--1-0-3-23', '2-0-2-1-1-0-0-4-72', '2-1-2-1-3-0-0-4-1', '2-1-1-1-1-2-0-3-12', '2-0-2-1-1-1-0-3-99', '2-0-2-1-1-1-0-4-23', '2-1-1-0-2-3-0-4-55', '2-0-2-1-1-0-0-3-48', '2-1-1-0-0-3-0', '2-0-1-1-1-3-0-3-57', '2-1-2-0-0-2-0-4', '2-0-2-1-2-1-0-4-62', '1-0-1-1-0-0-0-4-54', '2-0-2-1-0-1-0-4-36', '2-1-1-1-1-0-0-3-99', '2-0-1-1-1-2-0-3-91', '2-1-1-1-0-2-0-4-58', '2-1-1-1-1-2-0-4-59', '2-1-2-0-2-0-0-4-8', '2-0-1-1-1-2-0-4-63', '2-0-2-0-2-1-0-4-37', '2-1-2-1-0-0-0-3-25', '2-0-0-0-1-0-0-3-51', '2-0-2-1-0-3-0-4-20', '1-0-1-1-3-1-0-3-42', '2-0-1-1-1-0-0-3-64', '2-0-1-1-3-3-0-3-34', '2-0-1-1-0-3-0-3-64', '1-0-1-1-2-1-0-3-100', '2-1-2-1-0-0-0-3-23', '2-1-0-1-1-0-0-3', '2-0-1-1-2-0-0-4-71', '2-1-1-1-3-0-1', '1-0-1-1-1-0-0', '2-0-1-0-1-2-0-4-2', '1-0-2-1-2-3-0-3-61', '2-0-1-1-0-1-0-3-38', '2-1-2-1-0-1-0-4-48', '2-0-1-1-2-3-0-4-48', '2-1-2-1-1-1-0-4-33', '2-0-1-1-1-2-0-4-65', '2-0-2-1-2-3-0-3-57', '2-1-1-2-1-0-0-4', '2-0-1-1-0-2-0-3-46', '1-1-2-1-3-1-0-3-20', '1-0-2-0-3-3-0-3-27', '2-0-0-1-1-3-0', '2-1-2-2-0-0-0', '2-1-1-2-1-2-0-4-80', '2-0-2-2-1-1-0-4-38', '2-0-1-0-0-2-0-4-25', '2-0-2-0-2-1-0-4-31', '2-0-1-1-2-1-0-4-25', '2-0-1-1-1-0-0-4-39', '2-1-1-1-1-3-0-4-90', '1-0-2-0-1-0-0', '2-0-1-2-1-0-0-4-38', '1-0-2-2-1-0-0-3-92', '2-0-1-1-2-1-0-4-48', '2-0-2-0-2-0-0-4-75', '2-1-2-1-3-3-0-3-74', '1-0-2-2-0', '2-0-2-1-3-2-0-4-34', '2-0-1-0-1-0-0-4-94', '2-0-2-1-2--1', '2-0-2-1-1-2-0-3', '2-1-1-1-2-2-0-3-58', '1-0-1-1-3-1-0-3-10', '1-1-1-1-3-2-0-3', '2-0-2-2-0-0-0-4-22', '1-1-2-0-2-0', '2-1-1-0-1-3-0-4-41', '2-0-2-2-1-1-0-4-100', '1-0-1-1-1-0-0-3-99', '2-0-2-0-1-2-0-3-14', '2-0-1-0-1-2-0-3-95', '2-1-2-0-2-2-0-4-79', '2-1-1-1-2-3-0-3-36', '2-1-1-0-0-0-0-3-17', '2-0-1-1-0-2-0-3-64', '2-1-1-1-0-3-0-4-65', '2-0-2-0-2-3-0-3-23', '2-1-2-1-2-0-0-3-10', '2-1-1-1-0-3-0-4-52', '2-0-2-2-3-2-0-4-3', '2-0-0-0-1-3-0-3-82', '1-1-1-0-2-0-0-4-62', '2-1-1-1-0--1', '2-1-2-2-1-3-0-4-77', '2-0-2-0-2-2-0-4-32', '2-0-1-2-0-2-0-3-25', '2-0-1-0-1-1-0-4-20', '2-0-2-1-0-0-0-4-59', '2-0-0-1-2-0-0-3-99', '1-0-2-0-3-3-0-3-48', '2-1-1-1-2-3-0-4-96', '1-0-2-1-3-3-0-4-21', '2-1-1-1-2-1-0-3-98', '2-0-1-1-2-0-0-4-80', '2-0-1-1-2-2-0-3-7', '1-1-1-0-2-3', '2-1-1-1-0-0-0-3-35', '1-0-1-0-0-0-0', '1-1-1-1-3-3-0-3', '2-1-1-1-2-1-0-4-56', '2-1-0-1-1-3-0-4-18', '2-0-2-1-2-3-0-4-66', '2-1-2-0-1-2-0-4-22', '1-0-0-1-2-2-0', '1-0-1-1-2-0-0-3-80', '2-0-2-0-0-0-0-4-60', '1-1-1-1-3-3-0-4-21', '2-0-2-1-3-0-0-4-23', '2-1-2-0-3-1-0', '2-0-1-1-0-3-0-3-100', '2-1-0-2-1-2-0', '2-0-2-1-0-2-1-4-2', '2-1-2-1-2-2-0-3-17', '2-0-2-1-3-3-0-3', '1-0-0-1-1-0-0', '1-0-2-1-0-2-1-4', '2-0-1-1-1-1-0-3-22', '2-0-2-0-1-1-0-3-94', '2-0-2-1-2-0-0-4-65', '2-1-2-1-0-2-0-4-24', '2-1-1-1-1-0-0-4-37', '2-0-0-1-2-0-0-3-100', '2-0-1-1-2-0-0-3-61', '2-1-2-1-1-2-0-4-8', '1-1-2-1-3-0-0-4-5', '1-0-2-1-3-1-0-4-38', '2-1-2-1-0-0-0-4-91', '2-0-1-0-2-3-0-3-32', '2-1-1-1-0-2-0-4-99', '1-1-2-1-2-1-0-4-22', '1-1-2-1-3-0-0-4-52', '2-0-0-1-2-1-0-3-95', '2-1-1-1-2-3-0-3-84', '2-0-1-1-1-2-0-4-26', '2-1-2-0-2-2', '2-0-2-1-2-3-0-3-14', '2-0-2-0-1-2-0-3-33', '1-0-1-0-3-1-0-4-13', '1-0-1-1-2-2-0-4-33', '1-1-2-1-2-2-0-3-85', '2-0-0-1-2-1-0', '2-1-1-2-1-3-0-3', '2-0-2-1-1-3-0-3-41', '2-0-2-2-1-0-0-4-10', '2-1-2-1-1-2-0-4-7', '1-1-0-0-3-0-0-3-39', '2-1-1-1-2-1-0-4-64', '2-0-2-1-2-3-0-4-68', '2-0-1-1-1-2-0-4-30', '2-1-2-2-2-2-0-3-22', '2-1-1-1-1-1-0-4-43', '2-0-2-1-2-3-0-4-27', '1-1-2-1-2-2-0-4-22', '2-1-1-1-2-1-0-3-96', '1-1-1-1-2-3-0-3-62', '2-0-1-0-1-3-0-4-65', '2-1-2-1-3-1-1-4', '2-1-1-1-2-2-0-4-12', '2-1-1-1-1-0-0-3-41', '2-0-1-2-1-0-0-4-13', '1-1-2-1-2-0-0-4-54', '2-0-2-2-2-1-0-4-71', '2-0-2-1-0-0-0-4-28', '2-0-2-1-1-0-1-4-7', '2-0-2-1-0-1-0-3-19', '2-0-1-1-2-1-0-3-10', '2-1-1-1-2-0-0-4-31', '2-0-2-1-0-1-0-4-20', '2-0-1-1-3-3-0-3-5', '2-0-1-0-1-0-0-4-76', '2-1-1-1-2-0-0-4-33', '1-1-2-1-3-0-0-4-6', '2-0-2-0-1-2-0-4-29', '2-0-2-1-0-1-0-3-86', '2-0-1-2-1-3-0-4-48', '1-0-2-1-2-0-0-3-53', '2-1-2-1-1-3-0-4-100', '1-0-2-1-2-1-1-4-9', '2-1-1-1-0-1-0-3-54', '2-0-2-1-0-1-1-3-3', '1-0-2-0-3-3-0', '2-1-2-1-2-0-0-3-99', '2-0-1-2-1-2-0-3', '2-0-1-0-2-2-0-4-92', '2-0-1-2-0-0-0-4-28', '1-0-1-0-3-0-0-3-18', '2-1-1-1-1-0-0-4-45', '2-0-1-2-1-2-0-4-2', '1-0-1-0-1-0-0-4-52', '2-0-1-0-1-3-0-4-88', '2-0-1-1-0-1-0-3-99', '2-0-1-2-0-0-0-4-16', '2-0-1-2-0-1-0', '2-0-2-1-1-0-0-3-100', '1-0-0-0-3-3-0-3-37', '2-0-1-1-2-3-0-3-28', '2-0-1-1-0-3-0-4-60', '1-1-0-1-3-0-0', '1-0-2-1-2-1-0', '2-0-0-1-0-0-0-3-7', '2-0-2-1-0-0-0-3-18', '1-0-1-0-3-0-0-4-1', '2-0-1-1-1-2-0-3-44', '2-0-1-1-1-2-1-3-2', '2-0-2-1-2-3-0-4-77', '2-0-1-1-2-3-0-4-2', '2-1-2-0-1-0-0-3-41', '2-0-1-1-2-3-0-3-67', '2-0-1-0-2-2-0-3-42', '2-0-2-1-3-0-0-3-43', '2-1-1-0-2-0-0-4-99', '1-0-2-1-3-0-0-3-18', '2-0-1-1-2-0-0-4-12', '2-1-1-1-2-3-0-3-79', '1-1-0-1-3-3-0', '2-0-2-1-2-0-0-3-39', '2-0-2-1-3-2-0-4-51', '2-0-2-0-2-0-0-4-39', '2-0-2-0-2-0-0-4-62', '2-0-2-0-2-0-0-3-48', '2-0-2-0-3-1-0-4', '2-1-2-1-1-3-0-4-2', '2-0-1-0-2-0-0-4-14', '2-0-2-0-0-0-0-3-36', '1-0-1-2-2-2-0', '2-0-2-1-2-2-0-4-100', '2-1-2-1-2-0-0-3-26', '2-1-2-0-2-1-0-4-49', '2-0-2-2-0-0-1-4', '2-1-1-1-2-0-0-3-6', '2-0-1-1-1-0-0-3-84', '1-0-1-1-2-0-0-4-82', '1-0-0-1-0-0-0-3-98', '2-0-1-0-0-3-1-4-1', '2-0-1-0-2-0-1-4', '2-0-2-0-1-3-0-4-30', '2-0-1-2-1-0-0-4-93', '2-0-1-0-0-2-0-3-47', '1-0-1-2', '1-1-1-1-3-3-1', '2-0-2-1-0-2-1-4-1', '2-0-1-1-0--1-0-3-97', '1-1-2-1-0-0-0-3-39', '1-1-2-1-2-3-0-4-56', '1-0-2-0-3-0-0-3-31', '2-0-1-1-1--1-0-3-89', '2-1-2-1-1-3-0-4-47', '2-0-1-1-1-3-0-4-55', '2-0-2-1-2-1-0-4-3', '1-0-0-0-2-0', '1-0-1-1-3-3-0-4-16', '2-0-2-0-2-0-0-4-43', '2-0-2-0-1-0-0-4-17', '2-0-2-1-0-0-0-4-72', '2-0-2-2-1-1-0-4-12', '2-0-1-2-1-2-0-3-44', '2-0-1-0-2-2-0-3-14', '2-0-1-1-2-2-0-4-36', '2-0-2-2-3-0-0-4-42', '2-1-1-1-1-0-0-4-59', '1-0-2-1-2-1-0-4-64', '2-0-0-1-3-1-0-4-4', '2-0-1-1-1-0-0-3-58', '2-1-2-1-2-3-0-3-72', '2-1-1-0-2-0-0-4-46', '2-0-2-1-0-0-0-3-60', '2-0-2-2-1-0-0-4-22', '2-0-2-2-0-0-0-4-18', '1-0-1-0-3-0-0-4-36', '1-1-1-0-0-0-0-4', '2-0-1-0-0-0-0-4-99', '1-0-2-1-3-0-0', '1-0-1-0-1', '2-0-2-0-0-3-0-3-62', '1-0-2-1-0-0-1-4', '2-1-1-1-1-0-0-4-53', '2-0-0-1-1-0-0-2', '2-0-1-2-0-0-0-4-63', '2-1-1-0-2-1-0-4-77', '2-0-2-0-1--1', '2-0-2-1-2-2-0-4-59', '2-1-0-1-1-1-0-4', '2-0-2-0-3-0-0-3-98', '2-1-2-2-1-2-0-4-59', '2-0-1-2-0-1-0-3', '2-1-1-2-0-3', '2-0-2-0-1-1-0-4', '2-1-0-0-2-2-0-3-18', '2-1-2-1-2-0-0-4-25', '2-0-1-2-2-1-0-4-38', '2-0-1-1-1-1-1', '2-0-1-0-1-1-0-4-34', '2-0-2-0-0-3-1-4-2', '2-0-2-1-1-0-0-4-76', '2-0-1-1-0-3-0-4-74', '2-0-2-2-3-0-0', '2-0-0-1-1-2-0', '2-1-1-0-0-0-0-4-56', '2-0-2-0-1-2', '2-0-2-1-1-2-0-4-62', '2-1-1-1-2-1-0-4-6', '2-0-2-0-0-0-0-4-90', '2-0-1-0-2-2-0-4-80', '2-0-1-0-0--1-0-3-69', '2-1-1-1-2-3-0-3-31', '2-0-1-1-0-1-0-4-59', '2-1-2-1-2-1-0-4-7', '2-0-2-0-2-2-0-3-83', '2-1-1-1-1-3-0-4-36', '2-1-1-1-2-2-0-3-18', '2-1-2-0-2-3-0-4', '1-0-2-1-0-3-1-4-3', '2-1-2-0-2-0-0-4-37', '2-0-2-0-2-1-0-4-39', '1-1-2-1-2-0-0-4-56', '1-0-2-1-0-0-0-3-99', '2-1-1-1-3-3-0-4-30', '2-1-1-0-2-0-0-4-25', '2-0-0-2-0-0-0-4-19', '2-1-1-1-2-1-0-4-3', '2-1-2-1-1-3-0-3', '1-0-2-1-0-1-0-4-49', '2-0-2-1-1-1-0-4-37', '2-0-1-2-2-0', '2-1-1-1-0-1-0-4-78', '2-1-0-2-2-1-0', '2-0-1-0-3-2-0-4-51', '2-0-1-1-2-1-0-4-34', '2-0-2-1-3-1-0', '2-1-1-1-1-1-0-4-44', '2-0-1-1-0-0-0-4-63', '2-0-1-1-2-2-0-4-68', '2-1-1-1-2-3-0-3-21', '2-0-2-1-3-1-0-3-16', '1-0-0-1-3-2-0-3', '2-0-2-1-2-3-0-4-51', '1-1-2-1-1-0-0-4-49', '1-1-1-0-2-3-0-3', '2-0-1-1-2-0-0-4-35', '2-0-1-1-0-1-0-3-39', '2-0-1-1-1-3-0-4', '2-1-2-1-1-0-0-3-33', '1-0-1-0-2-2-0-3', '2-1-2-1-2-1-0-3-44', '2-1-1-1-2-0-0-3-14', '2-0-2-1-1-3-0-4-41', '2-1-1-1-2-2-0-3-94', '2-0-1-1-3-1-0-4-15', '2-0-1-0-2-2-1-4-1', '2-0-1-1-2-3-0-3-27', '2-1-1-1-0-0-0-4-57', '2-0-1-1-1-2-0-4-51', '2-1-2-1-2-0-0-4-48', '2-0-1-1-3-0-0-4-4', '2-0-2-1-2-1-0-4-60', '2-1-1-0-3', '2-0-0-1-3-0-0-3-43', '2-0-1-0-0-1-0-4-54', '1-0-2-1-3-1', '2-0-1-1-2-3-0-4-23', '2-1-1-1-0-0-0-3-36', '2-0-1-0-2-1-0-4-62', '2-0-1-1-0-2-0-4-58', '2-0-2-0-2-0-0-4-84', '2-0-2-1-1-2-1-4-8', '1-1-1-2-2-3', '2-0-0-1-1-0-0-3-80', '2-1-1-1-2-1-0-4-1', '1-1-1-1-2-1-0-4-5', '2-0-1-1-0-1-0-3-64', '2-0-1-1-2-3-0-3-44', '2-1-2-1-1-0-0-4-6', '2-0-0-1', '1-1-2-1-2-0-0-3-56', '2-1-2-0-2-3', '2-0-0-0-0-1-0-3-75', '2-1-2-1-3-3-0', '2-0-1-1-2-3-0-4-73', '1-0-2-2-2-0-0-4-99', '2-1-2-0-2-3-0-4-42', '2-0-2-1-1-1-0-4-1', '1-0-1-0-3-1-0-4-20', '2-1-2-1-1-3-0-4-79', '2-1-1-0-1-1-0-4-37', '2-0-1-1-1-3-0-3-23', '2-0-1-0-1', '1-1-1-1-3-3-0-4-68', '2-1-2-1-0-2-0-4-66', '2-0-2-2-1-3-1-4', '1-0-2-0-3-0-0-4-57', '2-0-1-1-2-0-0-3-19', '1-1-2-1-3-1-0-4-4', '2-0-2-1-2-3', '2-0-1-1-0-2-0-4-40', '2-1-1-0-2-0-1', '1-0-2-2-3-0-0-4-53', '2-1-1-1-2-3-0-4-11', '2-0-1-0-3-0-0-4-16', '2-0-1-0-2-3-0-3-75', '2-0-1-2-0--1-0-3-14', '2-0-1-0-1-0-0-3-35', '1-0-2-0-2-0-0-3-34', '1-1-2-1-0-0-0-3-97', '2-1-1-1-3-2-0-4-5', '2-0-2-1-0-2-0-3-25', '2-1-0-1-2--1-0-3', '2-0-1-1-0-0-0-3-73', '2-0-1-2-2-3-0-3-38', '2-0-2-0-2-3-0-4-99', '2-0-1-0-1-0-0-4-24', '2-0-1-1-0--1-0-3-14', '2-1-1-1-3-0-0-4-8', '2-1-0-1-2-0-0-3-37', '2-1-1-0-2-3-0', '2-0-2-1-1-0-0-3-61', '1-0-2-0-1-2-0-4', '1-0-0-1-3-2-0-3-57', '2-0-2-0-3-3-0', '2-1-2-1-2-0-0-4-57', '2-0-1-0-1-3-0-4-82', '2-1-2-1-3-1-0-3-4', '2-0-1-1-2-0-0-4-38', '2-1-1-1-1-1-0-3-65', '2-1-1-1-2-2-0-4-42', '2-0-1-0-0-1-0-4-79', '2-0-2-0-0-1-0-4-77', '2-0-1-1-1-2-0-4-16', '2-0-2-1-2-2-0-3-87', '2-0-0-2-0', '1-0-2-2-0-0-0-4', '1-1-1-1-2-0-0-3-14', '2-0-2-1-2-2-0-4-99', '2-0-1-1-2-0-0-3-31', '2-0-1-0-2-1-0-3-45', '2-0-2-1-2-0-0-4-77', '2-0-0-1-1-2-0-3-7', '2-1-2-1-0-2-0-4-33', '2-0-1-1-0-2-0-3-35', '2-0-1-1-2-0-0-3', '2-0-2-0-2-3-0-4-98', '2-0-2-0-2-2-0-4-15', '2-1-2-0-3-1', '2-1-1-1-1-1-0-4-2', '2-1-1-0-2-2-0-4-37', '2-0-1-1-0-2-0-3-78', '2-0-2-2-1-3-0-4-4', '2-0-2-1-0-0-0-3-99', '2-0-0-1-1-0-0-3-23', '2-0-1-1-2-2-0-3-59', '2-0-2-1-2-2-0-4-20', '2-0-1-0-2-0-0-3-46', '2-0-1-0-0-0-0-3-77', '1-0-1-1-2-2-0-4-4', '2-1-1-1-3-2-0', '2-0-2-2-1-2-0-3-100', '2-1-1-1-1-0-0-4-24', '2-1-1-0-3-3-0-3', '2-0-2-1-1-2-1-4', '2-1-0-1-3-1', '2-0-1-1-0-1-0-4-21', '2-1-1-2-1-2-0-4-45', '2-1-2-1-2-0-0-3-74', '2-0-2-1-2-2-0-4-39', '1-0-1-1-2-1-0-3-52', '2-0-2-0-2-0-0-3-53', '2-0-2-0-2-0-0-4-38', '1-1-1-1-3-1-0-4-23', '2-0-2-1-2-0-0-4-46', '2-1-2-2-3-2-0-3', '2-1-1-2-2-3-0-4-67', '2-0-1-2-0-3-0-3-79', '2-1-2-1-2-3-0-4-38', '2-1-2-0-0-0-0-4-53', '2-0-2-0-0-1-0-3', '2-0-1-0-3-3-0-4-76', '2-0-1-1-1-2-0-3-69', '1-1-0-1-3-1-0-3-80', '2-0-2-0-0-2-0-4-78', '2-0-0-2-2-1-0-4-99', '2-0-1-0-0-0-0-4-85', '2-1-2-0-1-2-0-4-8', '2-1-1-0-2-1-0-4-56', '2-1-1-1-1-2-0-3-24', '1-0-1-1-0-3-1-3-3', '2-1-0-1-1-0-0-3-14', '2-0-1-0-0-2-0-4-15', '2-0-2-0-0-0-0-3-100', '2-0-0-1-1-0-0-3-79', '2-0-2-1-2-0-0-4-14', '2-1-0-1-1-2-0-3-23', '2-1-1-1-1-3-0-4-48', '2-1-2-1-1-3-0-3-71', '2-0-1-2-2-2-0-4-45', '2-0-2-1-0-2-0-4-70', '1-0-1-1-1-0-0-4-55', '2-0-2-2-0-2-0-4-98', '2-0-1-1-2-3-0-4-38', '2-0-2-1-2-0-0-3-23', '2-1-2-2-1-0-0-4-41', '2-1-2-1-0-0-0-4-76', '2-0-2-1-0-0-0-3-34', '2-0-2-0-2-3-0-3-94', '2-0-2-2-2-1-0-3-74', '2-0-1-1-0-1-0-4-3', '2-0-1-1-0-0-0-3-23', '1-1-1-1-0-0-0-3-99', '2-0-2-0-0-3-1-4-1', '2-1-2-0-2-3-0-4-3', '2-0-2-0-2-1-0-4-48', '2-1-1-1-2-3-0-4', '1-0-1-2-1-3-0-4', '2-0-2-1-2-2-0-3-49', '1-0-2-2-0-0', '2-0-1-1-2-2-0-4-87', '2-1-2-0-3-3-0-4', '1-0-2-1-2-3-0-4-43', '1-1-2-1-3-1-0-4-99', '2-1-1-1-1-0-0-4-81', '2-0-2-1-1-0-0-4-41', '2-0-2-1-2-3-0-4-39', '2-1-1-0-1-1-0-3-14', '2-1-2-1-1-2-0-4-87', '1-0-2-1-3-1-0-4-62', '2-1-1-1-3-2-0-4-39', '2-1-1-1-0-1-0-4-30', '2-1-1-1-1-1-1-1', '2-1-1-1-1-2-0-3-18', '2-0-2-1-2-2-0-4-38', '2-1-2-1-1-2-0-3-73', '2-1-0-2-1-0-0-3-62', '2-1-2-0-2-1-0-4-29', '2-1-1-1-0-0-0-3-13', '2-0-1-1-2-1-0-4-77', '1-0-1-2-2-3-0-3-43', '2-0-1-0-1-3-0-4-80', '2-1-1-1-3-1-0-4-66', '2-1-1-1-2-1-0-3-40', '2-0-1-1-2-0-0-4-27', '1-1-1-1-1-1-0', '2-1-2-1-1-0-0-4-5', '2-0-1-0-0-1-0-4-95', '2-1-1-2-1-1-0-4-8', '2-1-2-0-0-0-0-4-40', '2-0-1-1-0-1-0-4-87', '2-0-1-0-2-3-0-4-9', '2-0-2-1-1-0-0-4-21', '2-0-2-2-0-2-0-3-37', '2-0-1-1-2--1-0', '2-1-1-1-1-0-0-4-100', '1-0-1-1-2-0-0-4-39', '2-1-2-1-1-1-0-4-91', '2-0-0-1-0-0-0-3-65', '2-1-1-2-0-3-0', '2-1-1-1-2-2-0-4-83', '1-0-2-1-0-0-0-3-21', '2-0-2-1-1-3-0-4-40', '2-0-2-0-1-0-0-4-65', '2-1-1-1-0-3-0-3-74', '1-0-1-1-3-3-0-4-97', '1-1-1-1-1-3-0-4-53', '2-0-1-1-3-0-0-4-42', '2-1-2-1-1-0-0-3-85', '2-0-1-1-2-3-0-4-49', '2-0-2-2-1-1-0-4-99', '2-0-2-2-1-2-0-3-16', '2-0-1-1-1-0-0-3-12', '2-0-2-0-2-1-0-4-3', '2-0-2-1-1-1-0-3-11', '2-0-1-0-3-1-0-4-18', '1-1-2-1-3-2-0-4-38', '2-0-1-1-0-0-0-4-59', '2-0-2-0-0-0-0-3-51', '1-0-1-2-3-0-0-4-95', '2-1-1-1-0-2-0-4-5', '2-1-1-1-1--1-0', '2-0-2-0-3-3-0-3', '2-1-2-1-0-1-0-3-10', '2-1-2-0-0-0-0-3-56', '2-0-2-0-3-2-0-4-11', '1-0-2-1-3-0-0-4-95', '2-0-2-1-2-2-0-4-66', '2-0-2-0-2-0-0-3-22', '1-0-1-1-2-2-0-4-88', '2-1-1-1-0-1-0-4-63', '1-1-2-1-3-1-1-4-3', '2-1-1-1-2-2-0-4', '1-0-1-2-0-0-0', '2-0-1-1-2-1-0-3-16', '2-0-2-1-2-0-0-4-40', '2-0-1-0-1-3-0-4-4', '2-1-2-0-1-3-0-3-18', '2-1-1-2-2-1-0-4', '1-1-1-1-0-0-0-3-97', '2-1-1-1-2-0-0-3-2', '2-1-1-1-2-0-0-4-71', '2-0-1-0-0-1-0-4-100', '2-0-1-1-2-2-0-4-19', '1-0-1-1-3-0-0-3-27', '2-0-1-0-1-0-1-4-4', '2-1-0-1-2-3-0-3', '2-0-2-0-1-0-0-4-10', '2-0-1-1-1-0-0-4-13', '2-1-2-0-1-2-0-4-43', '2-0-1-2-1-2-0-4-18', '2-1-1-1-1--1-0-3-98', '2-1-2-0-3-1-0-3-4', '2-0-1-1-0-2-0-3-100', '2-1-1-2-0-1-0-4', '2-1-2-1-2-1-0-4-30', '1-0-1-1-3-1-0-4-55', '2-0-1-1-0-2-1-4-4', '2-0-1-1-2-3-0-3-16', '2-0-1-2-0-0-0-4-53', '2-1-1-0-1-2', '1-0-1-1-2-3-1-3-7', '2-0-2-1-1-0-0-4-42', '1-0-1-1-0-2-0-4-53', '2-0-0-2-1-0-0-4', '2-1-1-1-1-1-0-4-3', '2-0-2-2-0-1-0-4', '2-1-2-1-0-3-0-4-11', '2-1-2-0-2-1-0-4-5', '2-1-1-0-2-0-0-3', '2-0-1-1-0-1-0-3', '2-1-2-1-1-1-0-4-35', '2-1-2-1-0-1-0-4-76', '2-0-2-2-0-0-1', '2-0-2-0-1-3-0-4-6', '2-0-2-1-1-2-0-4-48', '2-0-2-0-0-0-1-3', '2-1-0-1-0-2', '2-1-1-2-2-3-0-4-11', '2-1-2-1-0-3-0-3-100', '2-0-1-1-2-2-0-4-37', '2-1-1-0-1-3-0', '2-0-2-2-3-2-0-4', '2-1-1-1-2-1-0-4-44', '2-0-2-1-2-0-0-4-87', '2-0-1-1-3-0-0-3-7', '1-0-1-0-3-0-0-3-34', '2-0-1-1-1-2-0-3-75', '2-1-2-1-1-0-0-3-37', '2-0-2-0-3-0-0-4', '2-1-1-1-2-1-0-4-46', '2-1-1-1-2-0-0-4-66', '1-1-2-1-3-2-0-4-6', '2-0-1-0-0-2', '2-1-2-1-2-2-0-3-31', '1-0-1-1-3-2-0-4-56', '2-1-1-1-0-0-0-3-34', '2-1-1-1-3-0-0-4-42', '1-0-2-1-1-2-0-4-98', '1-0-1-1-2-0-1-3-4', '2-1-1-1-0-2-0-4-76', '2-0-1-0-3-0-0-4-10', '2-0-2-2-0-3-0-4-3', '1-0-2-1-3-3-0-4-2', '2-0-2-1-1-0-0-3-33', '2-1-2-1-2-1-0-4-57', '2-0-1-0-2-2-0-3-62', '1-0-2-1-2-1-0-4-58', '2-0-1-1-2-0-0-4-76', '2-0-1-0-0-1-0-4-35', '2-0-1-1-2-1-0-4-19', '1-1-1-1-0-0-0-3-46', '2-0-0-1-2-3-0-3', '2-1-2-2-0-2-0-4', '2-0-1-1-0-0-0-3-42', '2-1-2-0-0-1-0-4-40', '2-1-2-1-2-3-0-3-67', '1-1-1-0-2-1-0-4-87', '2-0-1-1-0-0-0-2-32', '2-1-1-2-0-0-0', '2-0-2-2-0-2-1-4-4', '2-0-1-1-2-1-0-4-21', '2-0-2-0-2-0-0-4-14', '2-1-1-1-2-0-0-4-68', '2-0-2-2-1-0-0-3-14', '2-1-2-2-3-0-0', '2-0-1-1-2-0-0-3-49', '2-0-2-1-1-0-1-3-5', '2-1-2-1-1-2-0-4-3', '2-0-1-1-1-2-0-4-81', '2-0-1-1-2-0-0-3-79', '1-1-1-1-0-1-0-4-36', '2-1-0-0-2-1', '2-1-1-0-0-0-0-3-55', '2-0-0-1-0-1-0-3-33', '2-0-2-1', '2-1-2-1-0-3-0-4-33', '2-1-0-0-2', '2-0-2-0-2-3-0-3-95', '2-1-1-1-0-1-1-1-2', '2-0-0-2-2', '2-1-1-0-0-0-0-3-64', '2-0-1-2-2-0-0-4-67', '2-1-1-1-1-', '2-0-2-1-2-2-0-2-34', '2-1-2-2-1-2-0-4-19', '2-1-1-1-0-2-0-4-80', '2-1-1-2-0-1-0-4-83', '1-1-1-0-2-1-0-4', '2-0-1-2-2-3-0-4-99', '2-0-0-1-3-0-0-3-35', '2-1-2-1-2-2-0-4-75', '2-0-2-1-0-2-0-3-55', '1-0-1-1-3-3-0-4-35', '2-0-1-0-2-0-0-4-18', '2-0-1-1-2-0-0-4-89', '2-1-1-0-2-2-1-4', '2-0-2-1-2-3-1-4', '2-1-1-1-0--1-0-3', '2-1-2-0-0-3-0-3-8', '1-0-2-0-3-0-0-4-1', '2-1-2-1-0-0-0-3', '2-0-2-2-2-2-0-4-14', '1-0-2-1-1-2-0-4-56', '2-0-1-2-0-0-0-4-51', '1-0-0-1-1-3-0-3-48', '2-0-1-0-1-0-0-4-63', '2-1-2-0-0-2-0-1-23', '1-0-1-1-2-0-0-4-71', '2-0-1-1-0-1-0-3-31', '2-1-1-1-3-3-0-4-2', '2-1-2-2-3-0-0-4', '2-0-2-1-2-1-0-4-69', '1-1-2-0-2-3-0-4-59', '2-1-1-0-2-2-0-4-83', '2-1-1-1-2-3-0-3-43', '2-0-1-1-0-2-1-4-1', '2-1-2-2-0-0-0-4-78', '1-0-1-1-3-2-0-4-57', '1-0-1-1-3-1-0-4-94', '2-0-1-2-0--1-0-4-30', '2-0-1-0-2-0-0-4-45', '2-1-1-1-0-3-0-4-84', '2-0-2-0-0-0-0-3-54', '2-1-1-1-0-0-0-3-31', '1-0-1-0-2-3-0-4-36', '2-0-2-1-0-3-0-3-62', '2-0-2-1-2-1-0-4-72', '2-0-2-1-2-1-0-3-74', '2-0-1-0-1-3-0-4-26', '2-1-2-2-3-3-0', '2-0-1-1-1-0-1-3-3', '1-1-1-2-3-0-0-4-100', '2-0-1-1-3-0-0-4-95', '1-1-2-0-3-3-0-4', '2-0-2-0-1-1-0-4-61', '1-0-2-0-2-3-0-4-75', '2-0-2-1-0-3', '2-1-1-1-0-0-0-4-28', '2-0-2-2-2-1-0-3-78', '2-0-1-1-0-0-0-2-84', '2-1-2-0-1-3-0', '2-0-1-0-2-2-0-4-99', '2-1-0-1-3-0-0-3', '1-0-2-1-3-1-0-4-37', '1-1-1-1-2-3-0-3-22', '2-0-1-1-2-3-0-4-39', '1-0-2-1-2-2-0-4-100', '2-1-2-0-0-0-0-4-23', '2-1-2-1-0-1-0-4-63', '2-0-1-1-0-2-0-3-27', '2-0-1-0-2-2-0-3-17', '1-1-2-1-1-1-0-3-100', '2-0-0-0-0--1-0-4-36', '2-0-1-1-1-0-0-4-95', '2-1-1-1-0-2-0-3-69', '1-0-2-0-2-3-0-3', '2-1-2-1-2-3-0-4-55', '2-0-1-0-3-1-0-3-52', '1-1-1-2-3-1-0', '2-0-2-0-1-2-0-4-17', '2-0-1-1-0-2-0-3-19', '2-0-2-1-0-0-0-3-64', '2-1-2-1-0-2-0-4-1', '2-0-1-1-2-1-0-4-32', '2-1-1-1-0-1-0-3', '2-0-2-1-2-3-1-4-1', '2-0-0-1-0-0-0-3-61', '2-0-2-0-2-1-0-4-9', '1-0-2-1-3-2-0-4-18', '2-1-1-0-1-0-0-3-33', '1-0-2-1-3-1-0-4', '1-1-1-1-1-2-0', '2-0-2-0-0-0-0-4-89', '2-0-2-0-0-2-0-4-38', '1-1-2-0-0-0-0-3', '2-0-1-0-2-3-0-4-29', '2-0-2-2-0-0-0-4-77', '2-0-1-1-0-0-0-4-77', '2-0-1-1-2-1-0-4-71', '2-1-2-2-0-1-0-4', '2-0-1-1-1-2-0-4-93', '2-1-2-1-0-1-0-3-51', '2-0-2-0-2-3-0-4-84', '2-0-2-1-3-3-0-4-90', '1-1-2-2-2-2', '1-0-2-0-3-1-0-3-19', '2-1-2-1-0-0-0-3-34', '2-1-1-1-1-1-0-4-71', '2-0-1-1-0-2-0-4-39', '2-0-2-1-0-0-0-4-76', '2-0-1-1-0-0-1-4-3', '2-1-1-1-1-0-0-4-8', '2-1-0-1-1-2-0-3-5', '2-0-1-1-2-0-0-4-8', '2-0-2-1-3-3-0-4-15', '2-0-2-1-0-0-0-4-65', '2-1-1-2-1-0-0-4-31', '2-0-2-0-1-3-0-4-34', '2-1-0-1-3-2-0-3', '2-0-2-2-2-0-0-4', '2-1-1-0-0-0-0-4-4', '2-1-2-0-1-0-0-3-43', '2-0-1-1-2-1-0-4-12', '2-1-1-2-0-0-0-3-16', '2-0-2-0-1-0-0-4-33', '1-1-2-0-2-3-0-4', '1-0-2-0-1-3-0', '2-0-1-1-3-0-0-3-89', '2-1-1-1-0-1-0-3-84', '2-0-1-1-1-1-0-4-56', '2-0-2-1-1-3-0-4-69', '2-0-2-1-2-2-0-4-54', '1-1-0-1-3-1-0', '1-0-2-1-1-3-0-3-53', '1-0-1-1-3-0-0-4-98', '1-0-1-1-2-0-0-4-59', '2-0-2-0-1-1-0-4-8', '1-1-2-1-3-1-0-4-85', '2-1-1-1-1-1-0-3-74', '1-0-1-1-3-0-0-4-51', '2-0-1-1-3-0-0-4-39', '2-0-1-1-2-3-0-3-99', '1-0-2-0-1-2-0-4-100', '2-0-2-1-0-2-1-4-3', '2-1-1-0-2-2-0-4-72', '2-0-2-1-1-3-0-3-26', '1-0-2-0-0-0-0-4', '2-0-1-0-2-0-0-3-53', '2-0-0-1-2-0-1-4-3', '2-1-2-0-0-2-0-4-93', '2-0-1-0-3-3-0-4-16', '1-0-1-1-3-1-0-4-31', '2-0-2-0-2-0-0-3-63', '2-0-2-1-0-3-0-3-28', '2-1-2-0-2-0-0-4-30', '2-1-1-1-0-0-0-4-97', '2-0-2-1-2-3-0-4-55', '2-1-2-1-0-3-0-4-18', '2-0-2-1-1-2-0-4-25', '1-1-2-1-0-1', '2-0-1-1-1-1-0-3-90', '2-1-0-1-1-0-0-3-100', '2-1-2-0-2-3-0-3-68', '2-0-1-1-1-0-0-4-47', '2-0-1-1-0-1-0-3-97', '2-0-2-1-2-0-0-4-50', '2-0-0-1-2-2-0-3-73', '2-1-1-1-2-2-0-4-52', '2-1-1-1-0-3-0', '1-0-2-1-3-2-0-4-30', '2-0-2-1-3-3-0-4-48', '2-1-1-1-1-2-0-3-31', '2-0-1-0-0-2-0-4-8', '2-1-1-1-2-3-0-4-100', '2-0-1-0-0-2-0-4-86', '2-1-1-1-1-2-0-4-81', '2-0-1-1-0-2', '2-1-1-0-0-3-0-4-41', '2-1-2-1-0-3-0-4-86', '2-0-1-1-0--1-0-3-62', '2-0-1-1-0-2-0-4-82', '1-0-2-1-2', '1-0-1-0-3-1-0-4-41', '2-0-2-1-0-0-0-3-79', '2-0-1-0-1-2-0-4-99', '2-1-2-1-0-2-0-4-6', '2-0-2-0-1-2-0-3-58', '2-0-1-2-0-2-0-4', '2-0-2-0-0-0-0-3-58', '2-0-2-1-1-1-0-3-73', '2-0-1-1-0-0-0-3-86', '2-1-2-1-2-1-0-4-35', '2-1-1-1-1-1-0-3-45', '2-1-1-0-0-0-0-3-93', '2-0-1-1-2-1-0-3-57', '1-1-1-1-2-1-0-4-18', '2-0-2-2-1-0-1-4-4', '2-0-1-2-0-3-0-3-67', '2-1-1-1-0-3-0-4-22', '2-0-2-1-1-3-0-4-54', '2-1-2-1-3-1-0-4-4', '2-1-2-1-2-0-0-4-42', '2-0-2-1-1-3-0-3-98', '2-1-0-1-1-1-0-4-2', '2-0-2-1-1-1-0-4-69', '1-0-1-1-1-0-0-3-50', '2-1-1-0-1-1-0-3-100', '2-1-2-0-0-2', '2-0-2-0-0-3-0-3-9', '2-0-2-1-0-0-0-4-53', '2-0-1-0-1-0-0-4-27', '2-1-2-1-2-3-0-3', '2-1-0-1-1-2-1', '2-0-1-1-1-3-0-4-18', '2-0-1-1-1-0-0-3-21', '2-0-0-1-1-', '1-0-2-2-3-0-0-4-95', '2-0-1-2-0-3-0-3', '1-1-2-1-3-1-0-3', '2-1-1-1-2-0-0-4-94', '2-1-0-1-2-0-0-3-100', '2-1-1-1-1-3-0-4-71', '2-0-1-1-0-2-0-4-70', '2-0-2-2-0-3-0-4', '2-1-1-1-1-2-0-4-61', '2-1-2-1-2-0-0-4-2', '2-1-2-0-1-3-0-4-40', '2-1-1-1-2-2-0-4-97', '2-0-1-1-1-3-0-4-40', '1-1-2-1-3-1-0', '2-0-2-1-0-2-0-4-32', '2-0-1-1-0-0-0-3-56', '2-0-2-1-2-1-1-4-1', '2-0-1-1-2-0-0-4-86', '2-0-2-2-0-2-0', '2-0-1-0-1-3-0-4-36', '2-1-2-1-0-0-0-4-31', '2-0-2-2-0-0-1-4-2', '1-0-1-1-1-0-0-4-1', '2-0-2-2-2-0-0-4-14', '2-1-2-1-2-2-0-3-29', '2-1-2-0-0-1-0-3-83', '2-1-2-0-1-3-0-3-41', '2-1-1-2-3-0-0-4-79', '2-0-1-1-0-0-0-4-54', '2-1-1-0-1-3-0-1-100', '1-1-1-0-2-0-0-4', '2-0-1-1-1-3-0-4-5', '2-0-1-1-0-0-0-3-68', '1-1-1-0-0-1-0-4-33', '2-1-1-0-2-2-0-3-25', '2-1-2-1-3-0-0-3-1', '2-1-1-1-0-0-0-3-58', '2-1-1-2-2-2-0-4-11', '2-1-1-2-1-1-0-4-22', '2-0-2-1-0-1-0-4-11', '2-0-1-0-2-0', '2-0-2-0-1-2-0-3-63', '2-0-2-1-0-0-0-3-22', '2-0-2-1-2-3-0-4-82', '2-1-1-1-1-0-1', '2-0-1-1-0--1-0-3-99', '2-0-0-1-0-0-0-4-2', '1-0-2-1-3-0-0-4-33', '2-0-2-2-1-2-0-3-60', '2-0-1-1-0-3-0-4-31', '2-0-2-1-2-0-0-3-56', '2-0-1-1-2-1-0-4-4', '2-1-2-1-2-0-0-4-8', '1-0-0-2-3-0-0-3', '1-0-2-1-3-1-0-3-35', '2-0-2-1-0-1-0-4-75', '2-0-2-1-0-0-0-3-20', '2-0-1-1-1-2-0-4-2', '2-1-1-1-1-1-1-3-7', '2-0-2-1-2-1-0-4-54', '1-0-1-1-2-0-0-3-86', '2-0-1-1-0-1-0-4-78', '2-1-1-1-0-0-0-4-23', '2-0-1-1-0-1-0-3-19', '1-1-1-1-3-0-0-4-9', '2-0-1-1-0-0-0-3-98', '2-0-2-1-0-0-0-3-41', '2-0-1-1-3-2-0-4-40', '2-0-1-1-0-0-1', '2-0-1-1-2-1-0-3-60', '2-0-2-1-1-2-0-1-63', '2-0-1-0-1-1-0-4-47', '2-1-2-1-0-1-0-4-32', '2-1-2-1-1-0-0-4-13', '2-0-2-1-0-3-0-3-47', '2-1-1-1-3-0-0-4-87', '1-0-1-1-3-0-0-4-16', '1-1-1-1-2-3-0-4-51', '2-0-2-1-2-0-0-4-84', '2-0-1-0-1-2', '2-1-1-1-1-0-0-4-21', '1-1-2-0-2-2-0', '2-0-1-0-2-0-0-3-69', '2-1-2-2-1-0-0-4-30', '2-0-2-1-0-3-0-4-6', '2-0-2-0-2-0-0-3-42', '2-1-2-0-1-0-0-4-1', '2-1-1-1-2-2-0-4-43', '2-0-1-0-3-3-0-4-14', '2-0-1-1-0-0-0-3-33', '2-1-1-1-2-3-0-4-5', '2-1-1-1-1-1-0-4-53', '2-0-1-0-2-0-0-3-38', '2-0-1-1-0-1-0-4-15', '1-0-1-0-0-2', '2-1-1-1-1-2-0-4-92', '2-1-1-1-0-0-0-3-28', '2-1-2-1-1-0-0-3-3', '2-0-1-1-0-0-0-4-61', '2-0-2-1-1-2-0-3-39', '2-1-1-1-3-2-0-4', '2-0-1-2-0-0-0-4-69', '2-1-2-2-1-2-0-4-55', '2-0-2-0-3-3-0-4-12', '1-0-1-1-0-3-0-4-53', '2-1-1-0-1-2-0-3-77', '2-1-1-1-0-0-0-4-17', '2-0-1-0-3-2-0-4-53', '2-0-2-1-2-3-0-3-77', '2-0-1-2-0-0-0-4-61', '2-0-1-1-1-3-0-4-66', '1-1-2-1-1-2-0-4', '1-0-1-1-3-0-0-4-7', '2-1-2-0-1-2-0-4-60', '2-1-1-1-1-1-0-3-14', '2-0-1-0-3-2-0-4-9', '2-0-2-1-1-0-0-3-6', '2-1-2-1-0-0-0-3-59', '1-1-1-1-3-0-0-3-18', '2-0-2-0-1-2-1-3', '1-0-2-1-3-0-0-3-55', '2-0-1-0-0-3-1', '2-1-1-0-2-0-0-4-59', '2-0-1-2-2-2-0', '2-0-1-1-0-0-0-4-60', '2-1-1-1-2-2-0-4-51', '1-0-1-1-3-0-0-4-42', '2-0-1-1-1-0-0-3-49', '2-0-2-1-1-3-0-3-82', '2-1-1-1-1-0-0-3-75', '2-1-2-2-1-1-0-4-85', '2-0-1', '2-0-2-0-3-2-0', '2-1-2-1-2-1-0-4-3', '2-0-1-0-2-0-0-4-43', '2-0-1-1-0-0-0-3-8', '2-0-1-1-2-3-0-3-88', '2-1-1-1-1-0-0-4-57', '2-0-1-0-2-0-0-4-91', '2-0-1-2-0-0-0-3-10', '1-0-1-0-0-0-0-3-94', '1-1-1-1-3-3-0-4-5', '2-0-2-1-1-2-0-3-93', '2-0-2-2-0-2-0-4-73', '2-0-2-2-2-2-0-4-2', '2-0-2-1-1-3-0-4-45', '2-0-1-2-1-1-0-4-68', '2-0-1-1-2-2-0-3-74', '2-1-2-1-0-0-0-3-56', '2-0-2-1-2-0-0-3-27', '2-0-2-1-2-0-0-4-27', '2-0-1-1-2-3-0-3-18', '2-0-1-0-2-0-0-4-10', '2-1-2-1-2-3-0-4-42', '2-0-1-0-2-3-0-4-73', '1-0-2-1-3-3-0-3-34', '2-1-1-2-2-1-0-3-13', '2-0-2-1-1-1-0-3-26', '2-0-2-1-0-2-0-4-81', '2-0-2-0-0-0-0-4-41', '2-0-0-1-2-1-0-4', '2-0-2-1-1-1-0-4-57', '2-0-1-0-2-3-0-3-38', '2-0-0-1-2-1', '2-1-2-1-0-0-1-4-9', '1-1-2-1-0-2-0-4-50', '2-0-1-1-0-1-0-4-97', '1-0-2-1-2-3-0-4-54', '2-0-2-1-0-2-0-4-20', '2-0-2-0-1-2-0-3-18', '1-0-1-2-3-0-0-4-75', '2-1-0-0-0-2-0-3', '2-0-1-2-0--1-0-3', '2-1-2-1-2-2-0-4-44', '2-1-2-0-0-1-1-4', '1-0-1-0-3-3-0-4-1', '2-0-2-1-2-0-0-4-13', '1-0-1-1-1-2-0-3-50', '2-0-2-1-2-2-0-4-49', '2-1-2-2-2-2-0-4-16', '2-1-1-1-3-1-0-3-41', '2-0-1-1-1-3-0-3-75', '2-0-1-1-0-1-0-4-74', '2-0-1-1-0-3-0-4-57', '2-1-1-0-1-2-0-4-6', '2-0-1-2-1-1-0-4', '2-1-2-0-2-2-0-4-4', '2-1-2-1-0-2-0-4-35', '2-0-0-1-2-3-0-3-1', '2-0-2-1-3-1-0-4-7', '2-1-2-1-2-1-0-3-36', '2-0-2-2-2-1-0-4-74', '2-0-0-0-1-1-0-3', '2-1-1-0-0-0-0-4', '2-1-2-1-2-1-0-3-86', '2-1-2-1-2-0-0-4-5', '2-1-2-1-2-3-0-4-36', '2-1-1-1-2-0-0-4-70', '2-0-1-1-0--1-0', '2-1-2-1-2-1-0-4-40', '2-1-0-0-2--1-1-3-5', '2-0-1-1-3-3-0-4-22', '2-0-2-1-1-1-0-4-68', '2-0-1-0-1-', '1-1-2-2-0-0-0-3-100', '2-0-2-1-0-2-0-3-3', '2-0-2-0-0-2-0-4-86', '2-0-1-1-2-3-0-3-7', '2-0-2-1-2-0-0-3-2', '2-0-2-0-0-2-0-4-17', '2-1-2-1-1-0-0-4-38', '2-1-2-1-1-0-0-3-100', '2-1-2-1-1-1-0-3-92', '2-0-1-1-1-2-0-4-23', '1-0-1-2-3-2-0', '2-0-2-1-0-1-0-3-61', '2-0-2-0-2-2-0-4-26', '2-0-1-1-2-0-0-3-16', '2-0-1-1-1-1-0-3-31', '2-0-2-1-1-0-0-4-81', '2-1-2-0-1-2-0-4-41', '2-1-1-2-0-3-1-4-1', '2-0-1-1-3-3-0-3-42', '2-0-1-1-1-1-0-4-88', '2-0-2-0-2-3-0-4-20', '1-0-1-0-0-2-0-3-100', '2-0-1-1-1-2-0-4-53', '1-0-1-2-3-1', '2-0-1-2-0-2-0-3-92', '2-0-2-0-1-0-0-4-34', '2-0-1-0-2-1-0-3-40', '2-1-2-1-3-1-0-4-44', '1-0-1-0-2-1-0-4', '1-0-2-1-2-1-0-4-62', '2-1-2-2-1-0-0-4', '2-0-1-1-0-0-0-3-39', '2-1-2-0-0-3-0', '2-0-1-0-2-1-0-4-35', '1-0-1-1-0-1-0-4-49', '2-1-2-1-3-1-0-3-52', '2-1-1-1-1-3-0-3-71', '2-0-2-2-1-1-0-4-5', '1-0-2-1-3-0-0-3-43', '1-0-2-2-1-0-0-3', '2-1-1-1-1-0-0-3-13', '2-0-2-2-0-3-0-3-97', '2-0-2-0-2-3-0-4-85', '2-1-2-1-1-1-0-4-59', '2-0-1-1-2-2-0-3-51', '2-0-2-1-0-0-0-3-32', '2-1-1-1-2-3-0-3-5', '2-1-1-1-2-2-0-3-10', '1-1-2-2-3-1-0-4-50', '2-0-1-1-1-0-0-3-36', '2-1-2-1-2-0-0-3-12', '1-0-1-0-0-1-0-3', '2-0-1-1-0-0-0-3-30', '2-0-2-1-3-2-0-4-47', '2-0-2-1-2-3-1-3', '2-0-1-2-1-3-0-4-2', '1-0-1-0-0-0-0-4-51', '2-0-2-0-2-3-0-4-37', '2-0-1-1-0-0-0-4-98', '2-0-1-0-1-3-0-3-34', '1-0-0-1-2-1-0-4', '2-1-1-0-1-1-0-4-10', '2-0-2-1-0-0-0-3-7', '2-0-1-1-1-2-0-4-82', '1-0-1-2-0', '2-1-0-1-1--1-0-3', '2-1-2-2-2-0-0-4-90', '2-0-1-0-1-1-0-4-35', '2-0-2-1-2-0-0-4-74', '2-0-0-1-1-2-0-3-28', '2-0-1-1-0-0-0-4-35', '2-0-1-1-0-3-0-4-93', '1-1-0-1-0-0-0-3-97', '2-1-1-2-1-1-0-4-17', '1-1-1-1-3-0-0-4-3', '2-1-2-0-1-0-0-3', '2-1-0-1-2-0-0-3-31', '2-0-1-1-3-1-0-4-39', '2-0-1-1-2-2-0-3-52', '2-0-2-1-1-2-0-4-7', '2-0-1-1-1-2-0-4-64', '2-1-1-0-1-0-0-4-69', '1-0-2-0-3-2-0', '2-0-1-0-2-3-0-3-40', '2-1-1-0-2-0-0-4-68', '2-0-2-1-2-2-1-4', '2-1-1-1-1-3-0-3-64', '2-1-1-0-1-0-0-4-10', '1-0-2-1-3-0-0-3-15', '2-0-1-1-2-0-1-4-1', '2-1-0-0-3', '2-0-2-0-1-2-0-4-46', '2-0-1-1-0-0-0-3-88', '1-0-1-1-3-2-0-3-11', '2-1-2-0-1-1-0-4-41', '2-0-2-2-1-2-0-4-99', '2-0-2-0-1-2-0', '2-0-2-1-0-2-0-4-53', '2-0-0-1-1-3-0-2', '2-1-1-1-0-3-0-4-76', '2-0-2-2-1-0-1-3-5', '1-0-1-1-0-3-0-4-19', '2-1-1-1-1-1-0-3-7', '2-0-1-1-0-0-0-4-91', '2-1-1-2-2-0-0-4', '2-0-2-1-2-2-0-4-8', '2-0-2-1-1-0-0-3-35', '2-1-1-1-2-0-0-3-18', '2-0-1-0-2-1-0', '1-0-2-1-0-0-1-4-5', '2-0-2-1-1-0-0-3-38', '2-0-1-1-0-0-0-4-74', '2-1-1-1-1-1-0-3-35', '2-0-1-0-0-1-0-4-61', '1-0-1-2-3-0-0-4', '2-0-2-0-2-2-0-4-79', '2-0-1-1-0-2-0-3-40', '2-0-2-2-0-0-0-4-20', '2-0-1-1-2-2-0-4-6', '2-0-2-0-0-1-1-3', '2-1-1-1-3-1-0-4-68', '2-0-1-2-2-0-0', '2-0-1-1-0-2-1-3-3', '2-0-1-1-2-1-0-4-11', '2-1-2-0-0-2-0-3-99', '2-0-1-0-1-2-0-4', '2-0-1-1-1-2-0-3-25', '2-1-2-1-0-1-0-4-55', '2-0-2-1-2-3-0-3-18', '2-0-1-1-1-1-0-3-18', '1-0-1-2-1-3-0', '2-0-2-1-1-2-0-4-41', '2-1-2-1-2-1-0-4-18', '2-1-2-1-2-0-1-4-8', '2-1-2-1-1-0-0-3-36', '1-0-0-1-0-1-0-3-15', '2-1-1-1-0-0-0-4-54', '2-1-1-2-1-2-0-4-7', '2-0-1-1-1-0-0-4-48', '2-0-1-1-1-0-0-4-9', '1-1-1-1-2-0-0-4-88', '2-0-2-1-1-0-0-4-25', '2-1-1-1-2-0-0-4-63', '2-0-1-1-2-3-0-3-50', '2-0-2-2-1-1-0-4-34', '1-0-2-2-3-3-0-3-14', '2-0-0-1-1-1-0-3-74', '2-0-2-1-1-3-0-4-3', '2-0-1-1-1-0-0-4-26', '2-1-1-1-3-2-0-4-43', '2-1-2-1-1-0-0-4-8', '1-0-1-1-3-0-0-3-69', '2-1-1-1-0-2-0-3-34', '2-1-1-0-0-2-0-3-100', '2-1-1-1-1-0-0-4-70', '1-0-1-1-3-0-0-4-30', '1-0-2-1-3-0-0-3-10', '2-1-2-1-2-0-0-4', '2-1-1-1-3-0-0-4-98', '2-1-2-0-2-0-0-4-6', '2-1-0-0-1-0-0', '2-0-0-1-0-2-1-3', '1-0-2-1-3-0-0-4-61', '2-0-1-2-2-3-0-4-29', '2-1-1-2-3-0-0', '1-0-2-1-2-3-0-4-100', '2-1-1-1-1-0-0-3-23', '2-0-1-1-1-1-0-3-17', '2-0-2-1-2-1-0-4-25', '2-0-2-1-2-2-0-4-4', '2-1-1-1-3-3-0-4-7', '2-1-0-1-0-1-0-3', '2-0-1-1-1-3-1-4', '2-0-2-1-0-1-0-3-78', '2-0-2-2-0-0-0-3-62', '2-0-2-1-3-0-0-4-15', '2-1-1-1-3-0-0-4-40', '2-1-1-0-3-1-0-4', '2-0-2-2-1-3-0-4-6', '2-1-2-1-1-2-0-4-84', '2-0-2-1-2-1-1-4-12', '2-1-2-2-1-1-0-4-18', '1-0-1-1-2-0-0-1', '2-1-2-1-2-3-0-4-35', '2-1-1-1-0-3-0-3-99', '1-1-2-0-0-0-0', '2-1-0-1-2-1-0', '2-0-2-1-1-2-0-4-79', '2-0-2-0-1', '2-1-2-1-1-3-1-4', '2-1-1-1-0-0-0-4-98', '2-1-2-0-2-1-0-4-25', '2-0-2-2-2-1-0-4-79', '2-1-2-1-1-3-0-3-85', '1-0-1-1-3-1-0-4-59', '2-0-1-2-0-0-0-4-31', '2-0-1-1-1-3-0-3-33', '1-0-1-1-3-0-0-4-22', '2-0-2-0-3-2-0-3-11', '2-1-1-1-2-1-0-4-37', '2-1-2-2-0-2-0-4-78', '1-1-2-0-2-2', '2-0-0-1-2-2', '2-0-1-1-1-2-0-4-27', '2-0-2-1-3-1-0-4-73', '2-0-2-0-2-0-0-4-61', '2-1-1-1-2-0-0-4-82', '2-0-2-1-0-1-0-4-60', '2-1-1-0-1-1-0-4-41', '2-0-2-1-2-1-0-4-46', '2-0-2-0-1-3-0-3-42', '2-0-1-1-0-0-0-3-19', '1-0-1-0-3-3-0-4-38', '2-0-2-0-0-1-1-4', '2-0-2-0-0-2-0-4-36', '2-1-2-1-0-0-0', '2-0-1-1-1-0-0-3-14', '2-1-2-1-3-0-0-4-8', '2-0-2-1-2-2-0-3-97', '2-1-1-2-1-3-0-3-79', '2-1-1-1-1-2-0-3-23', '2-0-1-1-2-0-0-4-21', '2-0-1-0-2-1-0-3-91', '2-0-0-2-2-2-0-4', '2-0-2-0-0-0-0-3-6', '2-1-1-0-2-3-0-4-53', '2-0-2-1-1-2-0-4-84', '2-0-2-1-1-0-0-4-56', '1-0-2-1-3-2-0-3-56', '2-1-1-1-1-2-0-3-59', '1-0-2-1-0-1-0-3', '2-0-1-0-1-0-0-4-48', '2-0-2-1-2-0-0-3-58', '2-1-2-1-2-3-0-4-25', '1-1-2-1-3-2-0-4-52', '1-1-1-1-2-0-0', '2-0-2-1-0-2-0-4-28', '2-0-1-0-2-3-0-4-88', '2-1-2-1-2-1-0-4-16', '1-0-2-1-3-0-0-4-11', '2-1-1-1-0-1-1-4', '2-1-2-1-2-1-0-4-39', '2-0-2-0-1-0-0-3-44', '2-1-0-1-0-0-0-4', '2-0-0-2-1--1', '1-1-2-2-0-0-0-3', '2-0-2-1-0-1-1-4', '2-1-2-0-0-3-0-4-43', '2-1-1-2-0-0-0-3-63', '2-1-1-0-0-2-0-3-96', '2-1-2-0-0-2-0-4-87', '2-1-1-1-1-0-0-4-32', '2-1-1-1-3-2-1-3-5', '2-1-1-0-1-2-0-4-18', '2-0-2-1-1-0-0-4-70', '1-0-2-1-3-3-0-4-100', '2-1-1-0-0-0-0-3-49', '1-0-2-1-2-2-0-4-54', '1-0-1-0-0-3', '2-0-1-0-1-0-0-3-52', '2-0-2-1-2-2-0-3-98', '2-0-2-1-0-2-0-3-64', '2-1-1-1-2-2-0-4-78', '2-0-2-0-1-1-0-3-47', '2-0-2-1-1-2-0-4-18', '1-0-0-2-3-2-0-4', '2-0-1-1-0-0-1-4', '2-0-1-1-0-0-0-4-42', '2-1-1-1-0-3-0-3-3', '1-0-1-1-3-1-0-4-19', '2-1-2-2-3-0-0-4-44', '2-0-1-0-1-0-0-4-34', '2-1-1-2-1-2-0-4-35', '2-0-2-1-0-2-0-4-3', '1-0-1-2-3-2-0-4-99', '2-0-1-1-0-0-0-4-73', '2-0-2-0-0-2-0-4-98', '2-0-2-2-1-0-0-4-16', '2-1-1-1-0-0-0-4-36', '1-0-1-1-1-2-0-4-31', '1-0-2-0-3-2-0-3-16', '2-0-0-1-1-2-0-3-100', '2-0-2-2-2-3-0-4-24', '2-0-0-1-2-1-0-3-74', '2-0-1-1-0-0-0-4-38', '1-0-2-1-2-3-0-3-72', '2-1-1-2-1-1-0-4-7', '2-0-1-1-1-0-0-3-55', '2-0-0-1-1-0-0-3-76', '2-0-2-1-1-3-0-3-23', '2-0-1-0-3-0-0-3-51', '2-1-2-2-2-1-0-4-40', '1-0-2-1-3-1-0-3-4', '1-1-1-1-0-1-0-4-47', '2-1-0-0-1-0-0-3-50', '2-0-2-2-2-1-0-3-98', '2-0-2-1-2-3-0-4-81', '1-1-2-0-2-2-0-4-52', '2-0-0-1-0-2-0-3', '2-0-2-0-1-0-0-3-30', '2-0-2-0-2-3-0-3-47', '1-0-1-1-2-2-0-4-55', '2-0-2-1-3-0-1-3', '2-1-1-0-2-0-0-4-53', '2-1-2-1-2-3-0-3-29', '2-0-2-1-2-2-0-3-44', '2-1-2-1-0-0-0-4-72', '2-0-1-0-0-2-0-4-37', '2-1-1-1-3-0-0-3-29', '1-1-0-1-0-0-0', '2-0-1-1-0-3-0-3-80', '2-0-2-1-0-0-0-3-91', '2-1-1-0-1-2-0-4-40', '2-1-1-1-2-2-0-3-50', '2-1-1-1-2-2-1-4', '2-0-1-1-1-2-0-4-31', '2-0-2-2-0-0-0-4-47', '2-1-1-2-0--1-0-4', '2-0-1-0-1-1-0-4-43', '2-1-1-0-2-0-0-3-54', '2-0-2-1-3-2-0-4-31', '2-0-1-1-2-1-0-4-46', '2-0-2-1-0-0-0-3-25', '1-0-1-0-3-2-0-4-39', '2-0-2-2-3-3-0-3', '1-1-1-1-3-3-0-4-100', '1-0-2-1-3-0-0-3-52', '2-1-1-1-0-0-0-4-49', '2-1-2-1-2-1-0-4-44', '2-0-1-0-0-0-0-4-6', '2-0-1-1-1-0-1-4-5', '2-0-1-1-2-0-0-4-68', '2-1-1-1-0-0-0-4-39', '2-1-2-1-1-0-0-3-66', '1-1-1-1-1-0-0-3-99', '2-0-1-1-1-3-0-4-3', '2-0-2-1-3-3-0-3-49', '2-0-1-0-0-0-0-3-3', '2-1-0-1-1--1-0', '2-0-2-0-3-0', '2-1-2-2-3', '2-1-2-1-1-2-0-4-99', '2-1-1-0-1-0-0-3-69', '1-0-2-0-3-0-0', '2-1-1-2-1-1', '2-1-1-1-3-3-0-4-3', '2-0-1-1-0-1-0-3-94', '2-1-2-1-3-3-0-4-6', '2-0-2-2-3-0', '2-1-2-2-2-0-0-3', '2-0-1-1-2-2', '2-0-2-1-0--1-0-3-55', '2-0-1-1-3-1-1-4-2', '2-1-1-1-0-2-0-3-19', '2-1-2-1-2-0-0-4-20', '2-1-2-1-0-0-0-3-99', '2-0-1-1-1-3-0-3-46', '2-0-1-1-3-3-0-4-94', '2-0-2-0-1-3-0-4-89', '2-0-0-2-0-0-0-3-71', '2-0-1-2-1-3-0-1', '2-1-0-1-1-0-0-3-83', '2-0-2-0-0--1-0-4', '2-1-2-0-2-2-0-4-18', '2-1-2-1-2-0-0-4-29', '2-0-1-1-0-0-0-3-35', '2-1-1-2-1-0', '1-0-1-0-3-3-0-4-35', '2-0-1-1-0--1-0-3-29', '2-0-1-1-1-3-0-3-72', '2-1-2-1-1-2-0-4-4', '1-1-2-1-0-0-0-3-100', '2-1-1-1-1-2-0-3-83', '2-0-1-1-2-2-0-3-43', '2-0-1-1-2-1-0-4-49', '1-1-2-1-3-0-0-3', '2-0-2-0-3-3-0-4-22', '2-0-2-2-0-0-0-4-83', '2-0-2-1-1-0-1-3-6', '2-0-2-0-2-2-0-4-1', '2-0-2-0-1-2-0-3-29', '1-0-0-1-3-3', '1-0-2-0-3-3-0-4-17', '2-0-2-0-1-3-0-4-88', '2-0-0-0-2-0-0-3-12', '2-0-1-2-0-1-1-4', '2-1-1-0-1-0-0-3-10', '2-0-1-0-2-1-0-4-60', '2-1-2-1-3-1-0-4', '2-0-2-1-1-3-0-3-35', '2-0-2-1-2-3-0-4-96', '2-1-1-1-1-3-0-4-13', '2-0-1-1-1-1-0-4-24', '2-0-0-1-2-2-0-3-23', '2-1-2-2-1-3-0-4-4', '2-0-2-0-2-2-0-4-84', '2-0-1-1-1-0-0-4-94', '2-0-2-2-0-0-0-4', '2-0-1-1-1-0-0-4-43', '1-0-1-0-2-2-0-4-34', '2-0-1-0-0-0-1-4-1', '2-0-1-1-0-1-0-3-49', '2-0-1-1-2-0-0-4-87', '2-0-2-1-2-1-0-3-85', '1-0-1-1-1-3-0-4-58', '2-1-0-1-1-1-0-2', '1-1-2-2-0-0-0-4-48', '2-1-1-0-1-2-0-3-47', '2-0-2-2-2-1-0-4-1', '1-1-2-1-3-1-0-4-55', '1-0-0-1-0-0-0-4-99', '1-0-2-0-0-2-0', '2-0-1-1-0-1-0-3-5', '2-0-1-1-2-2-0-4-44', '2-0-1-2-0--1-0-4-50', '2-0-1-1-0-3-0-3-20', '2-1-1-2-1-0-0-4-32', '1-0-2-1-2-1-0-4-60', '2-0-1-1-1-1-0-4-79', '2-0-2-0-1-1-0-4-26', '1-0-2-1-2-3-1-4-10', '2-0-1-0-2-3-0-4-84', '2-1-2-1-1-2-0-3-96', '2-0-2-1-1-2-0-4-98', '2-1-1-0-1-3-0-4-69', '2-0-2-1-1-1-0-3-42', '2-0-2-2-1-3-0-3-41', '2-0-1-1-1-0-0-3-46', '2-0-1-0-2-0-0-3-18', '2-0-1-0-2-1-0-4-16', '1-0-2-1-1-3-0-4-54', '2-0-2-0-0-0-1-4-1', '2-0-1-0-2-2-0-3-11', '2-0-2-1-0-1-0-3-92', '2-1-2-1-1-0-0-4-40', '2-1-2-1-0-2-0-4-77', '2-0-1-0-1-0-0-3-83', '2-0-2-2-1-3', '2-0-2-1-1-0-0-3-65', '2-1-2-1-0-0-0-4-59', '2-1-1-2-3-1-0-4', '2-0-0-0-2-3-0-3-17', '1-0-1-0-2-0-0-4-72', '2-0-2-1-1-2-0-4-38', '2-1-0-0-3-3-0-3-20', '2-0-2-1-1-2-0-4-93', '2-0-2-1-0-1-0-4-28', '2-0-1-0-2-2-0-3-12', '2-1-2-1-2-1-0-4-11', '2-1-2-1-0-0-0-3-41', '2-0-2-1-2-2-0-4-13', '2-0-1-1-2-0-0-4-98', '2-1-1-2-2-0-0-4-84', '2-0-2-0-2-0-0-4-93', '2-1-1-1-2-3-0-3-35', '2-1-1-1-0-1-0-3-43', '2-0-2-2-2-1-0-4-10', '1-1-1-1-3-3-0-4-18', '1-0-1-1-0-0-0-4-47', '1-1-1-0-3-0-0-4-6', '2-1-0-1-0-1-0-3-100', '2-0-2-1-2-0-0-4-3', '2-0-1-1-1-1-0-3-49', '1-0-1-1-2-1-0-4', '2-1-1-1-2-2-0-3-65', '2-0-2-0-2-2-0-3-99', '2-0-2-1-0-3-0-4-9', '2-0-2-1-0-0-0-3-46', '2-0-2-1-0-1-0-3-53', '2-1-2-1-2-2-0-4-100', '2-0-2-1-2-3-0-4-25', '1-0-1-2-3-1-0', '2-1-1-1-0-2-0-4-17', '2-0-1-1-2-0-0-4-50', '1-0-1-1-2-0-0-4-68', '2-0-1-0-0-2-0-4-85', '2-0-2-1-0-1-0-3-29', '1-0-2-1-3-0-0-4-17', '2-1-2-1-3-2-0-3-42', '2-1-2-0-0-0-0-3-63', '2-0-0-0-0-0-0-4', '2-0-2-1-1-1-0-4-42', '2-1-1-1-1-2-0-3-3', '2-1-2-2-2-2-0', '2-0-2-0-1-3-0-4-45', '2-0-1-1-1-1-0-4-20', '2-0-0-1-0-0-0-3-72', '2-0-1-2-0-1-0-4-55', '2-0-2-1-2-3-0-4-98', '2-0-1-1-0-0-0-3-52', '2-0-1-1-2-0-0-4-53', '2-1-1-1-0-2-0-4-100', '2-0-1-1-1-0-0-4-53', '2-0-2-0-1-1-0-4-60', '2-0-2-1-2-1-0-3-46', '1-0-0-1', '2-0-1-1-2-0-0-4-93', '1-0-1-0-0-3-0-4-50', '2-0-2-0-2-3-0-3-38', '2-0-1-2-1-2-0-4-34', '2-0-1-0-2-3-0-3-80', '1-0-1-2-3-3-0-4-96', '2-1-1-0-2-0-0-4', '2-1-2-2-2-2-0-4-67', '2-0-0-0-0--1-0', '2-1-1-1-2-0-0-4-50', '2-1-2-1-1-0-0-3-8', '1-1-1-1-2-1-0-4-51', '2-1-1-1-2-2-0-4-14', '2-0-2-0-0-0-0-4-71', '2-0-2-1-2-1-0-4-47', '1-1-0-1-1-3-0', '2-0-1-1-1-3-0-4-16', '2-1-2-0-0-0-0-3-40', '2-1-1-2-1-3-0-4', '2-0-0-2-0-0-0-4-12', '2-0-1-0-0-1-0-3-79', '1-1-1-1-3-0-0-3-66', '2-0-1-2-1-0-0-3-100', '2-0-2-2-3-3-0-4', '1-1-1-1-2-0-0-4-20', '2-0-1-0-0-3', '2-0-2-2-2-1-0-4-97', '1-0-1-1-3-0-0-4-58', '1-1-1-0-3-1-0-4-13', '1-0-2-1-3-1-0-3-2', '1-0-2-0-1-3-0-3-56', '2-1-1-1-0-1-0-4-43', '2-1-1-1-0-0-0-4-32', '1-0-1-1-3-2-0-4-99', '1-0-1-1-3-2-0-4-98', '1-0-2-1-1-1-0', '1-0-2-1-2-0-1-4', '2-1-1-2-2-0-0', '2-1-2-1-1-0-0-4-1', '2-0-2-0-2-3-0-4-45', '2-1-1-1-0-0-0-4-83', '2-0-2-1-1-3-0-3-48', '2-0-2-2-0-3-0-4-5', '2-0-2-1-0-2-0-3-36', '2-0-1-1-2-2-0-4-13', '2-0-1-1-0-3-0-3-47', '2-1-1-2-0-2-0-4-26', '2-1-0-2-0', '1-0-1-2-3-1-0-4-38', '2-0-2-1-2-2-0-4-78', '1-1-2-1-1-2-0-4-98', '1-1-2-1-2-0-0-4-52', '2-0-1-0-0-0-0-4-82', '2-0-1-0-0-0-0-3', '2-0-1-1-1-3-0-3-28', '1-0-1-0-3-0-0-4-21', '2-1-1-2-3-2-0-4-44', '2-0-0-0-2-0-0-3-82', '2-1-1-1-2-2-0-3-3', '2-1-2-1-2-0-0-4-97', '2-0-1-1-2-2-0-4-98', '2-0-0-0-0', '2-0-2-1-1-0-0-4-75', '2-0-1-1-2-0-0-3-73', '2-0-1-1-3-1-0-4-55', '2-1-0-1-1-3-0-3-3', '2-0-1-0-2-0-0-4-85', '2-0-2-1-2-3-0-4-40', '2-0-1-0-0-1-0-4-37', '2-0-2-0-0-2-1-4-2', '2-0-1-1-3-3-1-4-4', '2-1-2-1-1-2-0-4-51', '2-0-2-1-2-0-0-3-29', '2-0-1-1-1-2-0-4-22', '2-1-0-1-0--1-1-3', '1-0-2-2-2-0-0-3-3', '2-0-1-1-2-1-0-4-6', '2-0-1-0-0-0-0-3-94', '2-0-1-2-1-0-0-4-18', '2-0-0-2-2-2-0-4-2', '2-1-2-1-1-3-1-3-3', '2-0-0-1-2-0-0-3-10', '2-1-2-1-2-3-0-4-7', '2-0-1-2-1-0-0-4-72', '2-0-2-0-1-0-0-4-62', '2-0-2-1-1-1-0-4-79', '1-0-1-2-1-0-0-4-100', '2-1-1-1-1-1-0-4-18', '2-1-1-0-0-2-0', '2-1-1-0-2-3-0-4-80', '2-0-2-1-2-1-0-4-12', '2-0-2-1-0-0-0-4-4', '2-1-2-0-2-2-0-3-42', '2-0-1-1-2-1-0-4-9', '2-1-2-1-2-2-0-4-12', '2-0-2-1-3-1-0-3-3', '2-0-1-1-1-1-0-3-51', '2-0-2-0-1-1-0-4-62', '2-0-2-1-2-0-0-4-10', '2-1-0-1-2--1-0-3-38', '2-1-1-1-2-1-0-3-20', '2-0-1-1-1-3-0', '1-0-1-1-2-3-1', '2-0-2-2-3-3-0-3-4', '2-1-2-2-2-1', '2-0-1-1-0-2-0-4-84', '2-1-1-1-1-0-0-4-44', '2-1-2-1-1-2-0-3-5', '2-0-2-0-1-0-0-4', '2-1-2-0-1-1-0-3', '2-0-1-1-2-0-0-4-66', '1-0-0-1-2-0-0-3-100', '2-0-2-1-1-0-0-3-16', '2-0-2-2-0-1-0-4-26', '2-1-1-0-2-0-0-4-80', '1-0-0-1-3-2-0-3-3', '2-0-2-1-2-0-0-3-13', '2-0-1-1-1-2-0-4-14', '2-1-1-1-0-0-1-4-6', '2-0-2-1-2-3-0-4-9', '2-0-2-0-1-2-0-4-26', '1-0-2-2-3-0-0-3-36', '2-0-2-1-0-0-0-4-32', '2-0-1-0-0-0-0-3-53', '2-0-2-2-1-0-0-4-14', '2-0-1-2-1-1-0-4-99', '2-0-2-1-0-3-0-4-26', '2-0-2-2-2-2-1-4', '2-0-1-1-1-1-0-4-13', '2-0-0-0-0-1-0', '2-0-2-1-2-3-0-4-95', '2-0-2-1-0-1-0-4-32', '2-1-1-0-1-0-0-4-33', '2-0-1-0-1-3-0-3-75', '2-0-1-1-3-3-0-3-29', '1-0-1-1-3-0-0-3-88', '2-1-1-1-0-1-1-1', '2-1-1-1-2-0-0-4-52', '2-0-1-0-1-2-0-4-1', '2-0-0-1-2-0-0-3-4', '2-0-2-0-1-2-0-4-43', '2-0-1-0-2--1', '2-0-2-1-2-2-0-4-75', '2-0-1-2-0-0-0-4-19', '1-0-2-1-3-3-0-4-20', '2-0-1-1-3-0-0-4-40', '2-1-2-0-0-2-0-4-45', '2-0-0-2-1-1-0-4-99', '2-0-2-0-2-1-0-4-27', '2-0-2-2-1-3-0-3-35', '2-0-1-1-2-2-0-3-19', '2-0-2-2-0-3-0-4-82', '2-0-2-1-1-2-0-4-20', '2-0-1-2-3-2-0-4', '2-1-1-2-2-0-0-3-22', '2-1-2-1-0-2-0-4-73', '1-1-2-2-3-3-0', '2-0-2-1-2-1-0-4-51', '2-1-1-1-1-3-0-3-36', '1-0-0-1-1-2', '2-0-2-2-0-2-0-4-92', '2-0-1-0-0-1-0-4-3', '2-0-2-1-2-0-0-3-94', '2-0-2-1-2-0-0-4-72', '2-0-2-0-2-0-0-4-41', '2-0-2-1-2-2-0-4', '2-0-2-0-3-2-0-4-98', '2-1-1-1-3-0-0-4-89', '2-1-2-1-1-2-0-3-69', '2-0-1-1-0-0-0-3-79', '2-1-1-1-1-0-0-3-60', '2-0-2-0-1-2-0-4-10', '2-1-0-1-2-0-0-3-3', '2-0-2-1-2-2-0-3-3', '2-1-2-0-0', '2-0-1-0-2-3-0-4-100', '2-1-1-0-0-2-0-4-32', '1-0-1-1-2-3-0-4-62', '2-0-2-1-2-2-0-3-96', '2-0-2-2-0-0-0-3-34', '2-0-2-1-1-0-0-4-35', '2-0-2-1-2-2-0-2', '2-0-0-1-2-3-0', '2-0-1-1-2-0-0-3-1', '1-1-2-1-2-3-0-3-81', '1-0-2-1-3-2-0-3-97', '2-0-1-1-3-2-0-3-36', '2-1-1-1-3-3-0-3-6', '2-0-2-0-0-1-1-4-2', '2-1-1-1-2-2-0-4-6', '2-1-2-1-2-0-0-4-1', '2-0-1-1-1-2-0-3-33', '2-1-2-2-2', '2-0-2-1-0', '2-0-1-0-1-0-0-3-92', '2-0-2-1-2-3-0-4-43', '1-0-2-0-2-3-0-3-75', '1-0-1-1-2-2-0-4-62', '2-1-2-0-1-0-0-4-9', '2-0-1-1-0-0-0-4-2', '1-1-2-1-2-3-0-4', '2-1-2-1-0-0-0-4-64', '2-1-2-0-0-1-0-4-21', '2-0-2-1-1-3-0-4-26', '2-0-1-2-0-1-0-4-25', '2-0-1-2-0-2-0-4-4', '2-1-1-1-2-3-0-3', '2-0-2-0-0-3-0-4-79', '2-0-2-2-2-0-0-4-35', '1-0-2-1-2-1-0-4-66', '2-0-2-0-1-3-0-4-3', '1-0-0-1-3-3-0-3-8', '2-1-2-1', '2-0-2-2-2-0-0-4-45', '2-0-1-1-3-2-0-4-37', '1-0-2-0-0-2-1', '2-1-1-1-1--1-0-3', '1-0-2-1-2-3-1-4', '2-0-2-1-2-1-0-3-82', '2-0-2-1-0-0-0-4-5', '2-1-1-1-0-1-0-4', '1-0-2-1-0-3', '1-0-2-0-3-0', '2-0-2-1-1-1-0-4-13', '2-1-2-0-0-2-0-3-95', '2-0-1-0-2-0-0-4-73', '2-0-2-0-3-0-0-4-98', '1-1-1-1-2-3', '2-0-2-0-2-1-0-4-100', '2-0-2-0-1-1-0-4-81', '2-1-2-1-3-0-0-3-6', '1-1-1-1-1-2-0-4-98', '1-0-1-1-0-2-1-3-1', '2-1-1-1-3-0-0-4-6', '2-1-2-0-1-0-1-3-1', '2-0-1-1-3-0-0-4-49', '2-0-2-1-2-3-0-4-30', '2-0-0-1-2--1-0', '2-0-2-1-0-3-0-3-98', '1-0-2-1-0-0-0-3-96', '2-0-2-0-2-3-0-3-68', '2-1-2-1-3-0-0-4-6', '2-1-1-0-2-1-0-4-5', '2-0-0-0-3-3-0', '2-0-2-1-3-3-0-4-100', '2-0-2-1-1-2-0-4-65', '1-1-1-1-2-1-0-4-13', '2-0-1-1-1-2-1-4-3', '2-1-1-1-1-1-1-4-1', '2-1-2-1-0-2-0-4-91', '2-0-1-1-1-1-0-4-38', '2-1-2-0-2-0-0-4', '2-1-2-1-1-1-0-4-49', '2-1-2-2-1-1-0-4-29', '2-0-1-1-1-2-0-3-51', '2-0-2-0-0-2', '2-0-1-0-0-1-0-3-3', '2-0-1-0-0-0-0-3-70', '2-1-1-1-1-0-0-4-11', '2-0-1-1-0-2-0-4-65', '2-0-2-2', '2-0-1-1-2-1-0-4-43', '1-0-2-1-3-3-0-3-6', '2-0-2-2-1-2-0-4-5', '2-0-1-1-1-0-0-4-11', '2-0-2-1-1-1-0-3-12', '2-1-1-1-0-0-0-4-34', '2-0-2-1-1-0-0-4-8', '2-0-2-0-3-1', '2-0-1-0-0-1-0-4-69', '2-0-2-1-1-3-0-3-79', '1-0-2-0-2-2-0', '1-1-1-0-3-0-0', '2-0-2-1-1-3-0-4-71', '2-1-1-1-1-1-0-4-35', '2-0-1-1-2-1-0-4-26', '2-0-2-1-1-2-0-4-76', '1-0-1-1-3-2-0-4-67', '2-1-1-1-3-0-0-4-45', '1-0-1-1-3-2-0-4-18', '2-0-2-1-0-1-0-4-76', '2-1-2-1-1-1-0-4-66', '2-1-2-1-0-0-0-4-98', '2-0-1-0-2-3-0-4-74', '2-0-1-0-0-1-0-4-67', '2-0-0-1-2-3-0-4-37', '2-0-1-1-1-0-0-3-35', '2-0-2-1-2-0-0-3-96', '2-0-2-0-2-0-0-3-65', '2-0-1-1-0-2-0-3-71', '2-0-1-1-0-2-0-3-31', '2-0-2-1-1-2-0-3-42', '1-1-0-1-3-1-0-3-14', '2-1-1-0-1-0-0-4-48', '2-0-1-0-3-0-0-4-14', '1-0-2-2-1-0-0-4-51', '1-0-1-1-3-2-0-4-44', '2-1-2-0-0-3-0-3-55', '2-1-2-1-0-0-0-3-50', '2-0-1-1-1--1-0-3-74', '2-0-1-2-0-2-1-4', '2-0-2-1-1-0-0-4-86', '1-0-1-0-3-1-0-3-38', '1-1-1-1-2-1-0-4-99', '2-0-2-1-0-0-0-3-70', '2-1-1-0-2-1-0-4-42', '2-0-1-1-2-0-0-3-15', '1-0-2-1-2-2-1-4-10', '2-1-1-1-0-1-0-4-73', '1-1-1-1-3-3-0-3-18', '2-0-2-0-1-0-0-4-11', '2-1-1-1-1-0-0-3-35', '1-1-1-1-2-0-0-4-13', '2-0-2-1-1-3-0-3-20', '2-1-1-2-2-0-0-4-38', '2-0-2-2-2-0-0-3-19', '1-1-1-2-0-0-0-3', '2-0-1-0-2-2-0-4-94', '1-0-1-1-3-0-0-3-19', '1-1-2-0-2-0-0-4-88', '2-0-1-1-0-0-0-3-53', '2-0-0-1-3-3-0-3-22', '2-1-0-0-0-0-0-3-81', '2-0-2-2-0-2-0-4-4', '2-0-1-1-1-3-0-3-41', '1-1-1-1-3-0-0-4-38', '2-0-2-2-2-3-0-3-79', '2-1-2-1-2-3-0-3-15', '2-0-2-1-2-1-0-3-87', '2-0-1-2-2-2-0-4-36', '2-1-2-0-0-0-0-4-41', '2-0-2-0-0-0-1-3-3', '2-0-2-1-2-3-0-4-57', '2-0-1-0-2-0-0-4-1', '2-0-2-1-0-3-0-4-74', '2-1-1-1-1-2-0-4-82', '2-1-0-1-2-0-0', '2-1-1-1-1-0-0-3-65', '2-0-1-1-2-2-0-4-85', '2-0-1-1-0-0-0-3-16', '2-1-1-1-2-0-0-4-69', '2-0-2-1-2-0-0-3-99', '2-0-2-1-2-1-0-4-35', '2-0-1-2-0-0-0-3-65', '2-1-2-0-3-0-0-4-24', '2-0-2-1-2-2-0-3-54', '2-0-1-1-1-3-0-4-71', '2-0-2-2-1-1-0-3', '2-0-2-1-2-2-0-4-2', '2-0-2-2-1-0-0-4-63', '2-1-2-1-2-0-0-4-4', '2-0-2-0-0-0', '2-1-1-1-3-2-0-4-1', '2-1-1-2-1-0-0-4-8', '2-0-2-0-2-0-0-3-10', '2-0-2-1-2-0-0-4-69', '2-0-1-1-1-1-0-4-39', '1-0-1-0-3-3-0-4-4', '2-1-0', '2-0-2-1-1-2-0-4-80', '2-1-1-2-1-0-0-4-37', '2-0-0-2', '2-0-2-2-0-3-0-4-25', '1-1-2-0-3-0-0-4-5', '2-1-1-2-0-0-0-3-5', '2-0-1-1-1--1-0-3-67', '2-0-1-1-2-2-0-3-97', '2-1-1-1-0-3-0-4-29', '2-1-2-0-1-0-0-4-2', '2-0-1-1-3-1-0-3-87', '1-0-1-0-0-0-0-4-94', '2-0-1-1-2-1-0-4-41', '2-0-2-1-0-3-0-3-46', '2-0-1-1-2-0-0-3-91', '2-0-2-1-1-3-0-4-18', '2-1-2-2-1-2-0-4-7', '1-0-2-0-2-1-0', '2-0-1-1-1-1-0-4-1', '2-1-1-1-3-2-1-3', '1-0-1-0-3-3-0-4-2', '2-1-2-0-3-2-0-4-4', '2-0-1-1-2-0-0-4-56', '2-1-2-1-0-1-0-3-70', '2-0-2-2-0-0-0-4-100', '1-0-2-2-2-2-1-4', '2-0-1-1-0-0-0-3-47', '2-0-1-0-2-1-0-4-50', '2-1-1-2-3-3-0-3', '2-0-1-1-0-0-0-3-17', '2-0-1-1-2-1-0-3-100', '1-0-0-2-3-1-0', '2-0-2-2-2-1-0-3-14', '2-0-2-1-2-3-0-4-87', '2-0-2-0-1-2-0-3-88', '2-1-1-1-2-2-0-4-44', '2-1-1-1-1-3-1', '2-0-2-1-1-2-0-4-34', '2-0-2-0-1-2-0-4-32', '2-0-0-2-1-2', '2-1-1-1-0-2-0-3-82', '2-1-0-0-2-3-0-2-82', '1-0-2-2-2-3-0-4-55', '2-0-1-0-2-3-0-3-88', '2-0-2-0-0-0-0-3-30', '2-1-1-1-0-0-0-3-39', '1-0-1-0-2-3-0-4-71', '2-0-1-1-0-3-0-3-5', '1-1-1-1-3-2-0-4-16', '2-1-2-1-2-2-0-4-26', '2-1-1-1-2-3-0-4-1', '2-0-1-1-2-3-0-4-12', '2-0-0-2-2-0-0-4', '1-0-1-1-2-1', '2-1-1-1-1-3-0-3-5', '2-0-2-1-1-3-0-3-42', '2-0-1-1-0-1-1-3', '2-1-2-1-2-2-0-3-30', '1-0-1-1-3-3-0-4-12', '2-1-1-1-0-2-0-3-73', '1-0-1-2-3-2-0-4-51', '2-1-1-0-2-1-0-4-71', '2-0-2-2-0-2-0-3-84', '2-1-1-1-1-0-0-4-17', '2-0-2-0-1-1-0-4-16', '2-0-0-1-1--1-0-3-9', '2-0-1-0-1-0-0-4-30', '2-1-1-1-1-1-0-4-16', '1-0-2-1-2-0-0-4-88', '2-1-2-1-1-1-0-3-1', '2-0-2-1-1-2-0-4-36', '2-1-1-1-1-0-0-4-23', '2-1-1-1-0-1-0-3-55', '1-0-1-1-2-1-0-3-62', '2-1-1-1-0-2-0-4-52', '2-0-1-2-0-0-0-4', '2-0-1-0-2-3-1-4', '2-0-0-1-1-2-0-3-33', '2-0-0-1-1-3-0-3-33', '2-0-1-0-0-0-0-4-95', '2-0-2-1-3-2-0-3-6', '2-1-2-1-2-3-0-4-72', '2-0-2-0-2-1-0-4-62', '2-1-1-1-3-1-0-4-40', '1-0-0-1-3-0-0-3-3', '1-0-1-1-3-2-0-3-95', '2-0-2-2-0-0-0-4-85', '2-0-1-1-1-1-0-3-24', '2-1-1-0-2-1-0-3-77', '1-1-2-1-2-3-0-4-23', '2-1-1-0-0-1-0-4-98', '2-0-1-2-1-0-0-4-6', '1-1-2-1-3-3-0-4-68', '2-0-2-1-1-0-0-3-51', '1-0-2-2-3-2-0-4', '2-0-1-2-2-0-0-4-37', '2-0-0-2-2-1-0-3-80', '1-1-2-2-3-1-0-4-37', '2-0-1-1-2-0-0-4-18', '1-0-2-1-1-0-0-4-54', '2-1-2-1-2-2-0-4-47', '2-1-1-1-2-0-0-4-15', '2-0-2-1-0-2-0-3-29', '2-1-2-1-3-3-0-4-5', '2-1-2-0-0-0-0-4-67', '2-0-2-1-2-3-0-4-58', '2-1-1-1-1-3-0-3-69', '2-0-1-0-1-3-0-4-10', '2-1-1-1-2-3-0-3-4', '2-0-2-0-0-0-0-3-63', '2-0-2-1-3-3-0-3-34', '2-0-1-2-1-2-0-4-99', '2-1-1-1-3-0-0-4-2', '2-0-2-0-0-1-0', '1-0-2-2-0-0-0', '2-0-1-1-1-2-0-4-21', '2-0-1-0-0-0-0-3-6', '2-0-2-0-1-0-0-4-81', '2-0-1-2-1-3-1-4-4', '2-0-1-2-0-0-0-4-36', '2-0-1-0-0-2-0-3-85', '1-0-1-1-3-1-0-4-11', '2-0-1-2-1-1-0-3-84', '2-0-1-1-2-1-0-3-64', '1-0-2-1-3-0-0-4-18', '2-0-1-1-0-3-0-3-62', '2-0-1-1-1-1-0-4-58', '2-0-1-1-0-2-0-4-64', '2-0-0-1-1-0-0-3-12', '2-0-2-1-1-2-0-3-36', '2-0-2-1-0-2-0-3-100', '1-0-1-1-3-1-0-4-30', '2-0-1-1-2-0-0-4-11', '2-0-2-2-1-0-0-4-49', '2-0-1-0-2-1-0-4-99', '2-1-2-1-1-1-0-4-96', '2-0-2-1-1-0-0', '2-0-2-1-0-1-0-4-30', '1-0-1-2-3-3-0-4-16', '1-1-0-1-2-3-0', '2-0-1-1-1-1-0-3-8', '2-0-1-1-0-2-0-4-38', '2-0-1-1-1-2-0-4-85', '2-1-1-1-1-3-0', '2-0-1-1-2-3-0-3-89', '2-0-2-1-2-2-0-3-32', '2-1-2-1-1-2-0-3-6', '2-0-1-1-2-0-0-4-69', '2-0-1-1-2-3-0-4-97', '2-0-1-0-2-3-0-4-14', '2-0-2-1-1-3-0-4-53', '2-0-1-1-1-3-0-3-20', '2-0-1-1-0-0-0-4-30', '2-0-1-1-3-0-0-3-39', '2-0-0-1-3-0-0-3-5', '2-1-2-2-2-3', '2-0-2-2-1-0-0-3-48', '2-1-2-1-0-3-0-3-26', '2-0-2-1-3-3-0', '2-0-2-1-0-1-0-4-6', '2-0-2-1-0-2-0-4-15', '2-1-1-2-3-3-0-4-28', '2-1-1-1-0-1-0', '2-1-1-1-0-2-0-4-39', '2-1-2-0-0-0-0-4-99', '1-0-1-1-1-2-0-3-54', '2-0-1-0-2-3-0-4-58', '2-1-1-1-0-1-0-4-15', '2-1-1-2-3-1-0-4-45', '2-0-1-1-1-1-0-4-36', '2-1-1-1-2-0-0-4-65', '2-1-1-1-0-1-0-4-71', '2-0-2-1-2-0-0-3-62', '1-0-1-1-3-0-0-4-32', '2-0-1-2-0-0-0-3-51', '2-1-2-0-1-1-0-4-60', '2-0-2-1-2-1-0-4-34', '2-0-1-1-0-3-0-4-32', '2-0-2-1-1-2-0-3-31', '2-1-2-1-2-0-0-3-50', '2-1-2-1-2-0-0-3-80', '2-0-1-1-2-2-1-3', '2-0-2-0-1-0-0-4-58', '2-0-1-0-2-0-0-3-98', '2-0-1-0-3-3-0-4-41', '2-0-0-1-0-0-0-4', '2-1-1-1-1-0-0-4-51', '2-0-1-1-0-0-0-3-20', '2-1-2-1-3-3-0-4-30', '2-1-1-2-3-1-0-4-28', '1-0-0-1-0-3', '2-0-1-1-2-3-0-3-100', '1-0-1-1-1-2-0-4-41', '2-1-2-1-2-1-0-4-13', '2-0-2-1-2-1-0-4-11', '1-0-1-1-2-0-0-4-5', '2-0-2-1-1-0-0-4-93', '2-1-1-2-2-1-0-4-44', '2-1-2-0-1-1-0-4-34', '1-1-2-2-3-1-0-4-19', '2-1-1-1-1-1-0-3-64', '1-0-2-0-3-3-0-4-58', '2-0-1-0-2-3-0-3-81', '2-0-2-1-0-0-0-4-49', '1-0-1-1-0-2-1', '2-1-2-0-1-3-0-4-8', '2-0-2-1-0-2-0-3-98', '2-0-1-0-1-0-1-3-4', '2-0-2-1-0-1-0-4-45', '2-1-1-1-2-0-0-3-99', '2-1-2-0-1-3-0-4-36', '2-0-1-1-1-2-0-3-1', '2-0-2-0-2-3-0-4-17', '2-1-1-0-1-0-0-4-41', '2-0-2-1-1-1-0-4-82', '1-0-1-1-2-2-0-3-87', '1-0-2-1-3-0-0-4-14', '2-0-1-1-2-2-0-4-84', '1-0-0-0-3-0-0-3-31', '2-0-2-1-2-2', '2-1-2-1-2-3-0-4-40', '2-0-2-1-2-1-0-3-39', '2-0-0-0-3-1', '2-1-1-1-2-1-0-3-71', '2-0-2-0-1-0-0-4-2', '1-0-2-0-1-0-0-4-56', '2-1-2-0-1-0-0-3-52', '2-1-2-1-0-1-0-4-98', '2-1-1-0-2-2-0', '2-0-0-1-1-0-0', '2-0-2-2-3-3-0-4-2', '2-0-0-1-0-3-0-3-70', '2-0-2-1-2-0-1-3-12', '1-0-2-1-1-2-0-4-99', '1-0-1-1-2-3-0-4-24', '1-0-1-1-2-1-1-4', '2-1-1-2-3-1-0', '1-0-0-0-3-2-0-3-39', '2-0-2-1-2-0-0-4-96', '2-0-1-1-1-1-0-4-50', '2-0-2-1-2-0-0-4-24', '2-0-1-1-0-1-0-4-73', '2-0-0-1-0--1-0', '1-0-1-1-3-1-0-4-33', '2-0-2-0-0-2-0-3-60', '2-1-1-1-1-1-0-4-11', '2-0-2-0-0-3-0-4-6', '2-1-1-2-1-2-0-3-37', '2-0-1-1-1-3-0-3-99', '2-0-2-0-2-2-0-3-79', '2-0-1-1-1-1-0', '1-0-1-0-3-3-0-3-35', '1-0-1-1-2-3-0-3-56', '2-0-2-1-2-2-1-3', '2-1-1-1-3-2-0-3-8', '2-1-1-1-2-0-0-3-66', '2-1-2-1-1-0-0-4-72', '2-1-1-1-2-', '2-0-2-1-2-0-0-4-68', '2-1-1-0-2-2-0-3-99', '2-0-2-2-1-0-1', '2-0-2-1-0-0-0-4-100', '2-0-1-0-1-1-0-4-52', '2-0-2-1-2-0-0-3-40', '2-1-1-0-2-0-0-4-3', '1-0-1-0-2-3-0-4-34', '2-1-1-1-0-0-0-4-99', '2-0-1-1-2-0-0-4-72', '1-1-2-2-2-3', '2-1-1-1-1-2-1-4-1', '2-1-1-1-0-2-0-4-84', '2-0-2-1-2-1-0-4-28', '2-0-0-0-2-0-0', '1-1-2-2-3-2-0-3-19', '2-0-1-2-1-1-0-4-19', '2-0-2-1-1-3-0-4-79', '2-1-1-2-0-0-0-4-60', '2-1-2-0-2-1-0-4-100', '1-0-2-1-2-3-0-4-83', '2-1-2-0-2-3-0-4-32', '2-1-1-0-2-3-0-3-34', '1-0-2-2-3-1-0', '2-1-1-1-3-3', '2-0-1-1-2-1-1-4-4', '2-0-1-1-2-2-0-4-21', '2-0-2-0-1-3-0-3-11', '2-0-2-1-1-2-0-3-46', '1-1-0-1-3-3-0-3', '2-1-1-1-1-0-0-3-88', '2-0-1-1-0-1-0-3-33', '2-0-1-0-1-1-0-4-29', '2-1-1-1-0-2-0-3-71', '2-0-2-1-0-0-1-4-13', '2-1-0-2-1-0-0', '2-1-1-2-1-0-0-4-55', '2-0-1-1-2-1-0-4-59', '2-0-1-0-0-0-0-3-27', '2-0-1-1-3-3-0-3-100', '1-0-1-1-1-2-0-4-3', '2-1-1-1-2-2-0-3-64', '2-0-1-1-3-1-0-4-1', '2-0-2-2-1-1-0-4-48', '2-1-1-1-0-2-0-4-69', '2-0-2-1-2-2-0-4-83', '1-0-2-0-3-3-0-4-4', '2-0-2-0-2-0-0-4-40', '2-0-1-1-1-3-1-3', '1-1-2-0-3-3-0-3-48', '2-1-1-2-2-3-0-4-2', '1-0-2-2-1-3-0', '2-1-1-1-1-1-0-4-74', '2-0-2-1-0-1-0-4-31', '2-0-0-1-2-0', '2-0-1-0-1-0-1-4', '2-0-1-0-3-1-0-4-2', '1-0-1-1-3-3-0-3-35', '2-1-2-1-0-0-0-3-40', '2-0-2-2-0-2-0-4-25', '2-0-2-0-2-0-0-4-1', '2-0-1-1-1-0-0-4-90', '2-1-1-1-0-1-0-4-44', '2-0-1-1-0-2-0-3-13', '2-0-2-1-2-0-0-4-35', '1-0-2-1-3-0', '1-1-1-1-0-0-0-4', '2-1-1-1-1-3-0-3-49', '1-0-1-2-3-2-0-4-53', '2-0-2-0-2-0-0-4-89', '2-1-1-1-0-1-0-4-1', '2-0-2-1-0-1-0-4-5', '2-0-1-1-1-2-0-4-41', '1-0-1-1-3-1-0-3-32', '2-1-1-1-0-1-0-3-18', '2-1-1-0-2-2-0-4-6', '2-1-1-2-0-2-0', '2-0-2-1-2-2-0-4-92', '1-0-2-1-3-3-0-4-53', '2-0-1-0-1-3-0-4-34', '2-0-1-0-2-1-0-4-79', '2-0-2-2-3-1', '2-0-1-2-1-2-0-4-59', '2-0-2-1-1-0-0-3-66', '1-1-1-1-2-0-0-4-58', '2-0-2-1-1-0-0-4-30', '1-0-1-1-3-3-0-4-27', '2-1-2-1-2-2-0-3-1', '1-1-1-1-0-2-0-4', '2-0-1-1-1-3-0-3-63', '2-0-1-1-1-2-0-3-99', '1-1-2-2-2-3-0', '2-0-1-1-0-0-0-4-84', '2-1-2-1-2-2-0-3-16', '2-1-2-1-2-0-0-4-18', '2-0-2-1-1-0-0-3-41', '2-0-1-1-0-2-1-3-4', '2-0-0-1-2-0-0-3-66', '2-0-1-1-2-0-0-1', '2-0-1-1-0-1-0-4-88', '1-1-2-1-3-2-0-3-98', '2-0-2-0-1-2-0-4-59', '2-0-2-0-3-0-0-3-54', '1-0-1-0-2-0', '2-1-1-0-2-0-0-4-32', '2-1-1-1-2-2-0-3', '2-0-2-1-1-0-0-4-3', '2-0-1-1-2-3-0-3-97', '1-1-2-2-0-0-0-3-99', '1-0-2-1-2-0-0-3-32', '2-0-1-0-2-0-0-4-86', '2-1-1-0-2-0-0-4-19', '1-0-0-0-1', '2-1-1-1-0-2-0-3-24', '2-1-1-0-1', '2-0-2-1-0-0-0-3-2', '2-1-2-1-2-3-0-4-47', '2-1-2-1-3-1-0-4-43', '2-1-1-1-0-1-0-4-69', '2-0-1-0-3-1-0-3-4', '1-0-0-1-1-3', '2-0-2-1-0-0-0-4-31', '2-0-2-1-3-3-0-4-88', '1-0-1-1-3-1-0-3-19', '2-0-1-0-2-0-0-3-33', '2-1-2-1-2-2-0-4-60', '2-0-2-1-2-3-0-4-67', '2-0-2-1-3-1-1', '2-1-2-1-0-1-0-3-59', '2-1-2-0-2-1-0-4-42', '2-0-2-2-0-3-0-3-4', '2-0-2-0-0-1-0-4-6', '2-1-0-2-2-1-0-4', '1-0-1-2-1-2-0-4', '2-1-1-0-2-3-0-3-59', '2-1-1-2-3-1', '2-0-1-1-0-1-0-4-28', '2-1-0-2-1-0-0-3', '2-1-2-2-1-1-0-4-41', '2-1-1-2-2-3-0-3-40', '2-1-1-1-2-1-0-4-32', '2-0-2-0-0-3-0-4-94', '2-0-2-1-0-2-1-3-1', '1-0-1-1-0-0-1-4-3', '2-0-1-2-0-0-0-3-75', '2-0-2-0-1-1-0-4-84', '2-0-1-1-0-0-0-4-20', '2-1-1-1-2-0-0-4-96', '2-0-2-1-1-1-0-3-51', '2-1-1-0-2-1-0-4-81', '2-0-1-2-0-0-0-4-15', '1-0-0-1-2-1', '2-1-1-1-0-0-0-4-55', '1-1-2-1-2-0-0-3', '2-1-2-2-0-3-0-3', '2-1-1-1-2-0-0-4-30', '2-0-2-2-2-1-0-4-14', '2-1-1-1-1-1', '2-0-1-0-2-0-0-3-99', '2-0-2-2-0-0-0-4-11', '2-1-2-1-2-3-0-4-28', '2-0-1-1-2-2-0-3-40', '1-0-0-2-3-2-0-4-56', '2-1-2-2-2-0-0-3-44', '2-0-2-0-1-1-0-4-15', '2-1-1-1-0-0-0-4-3', '1-0-1-0-2-0-0', '2-0-0-2-1', '2-1-2-1-3-0-0-3', '2-1-1-1-0-1-0-4-79', '2-0-1-0-1-0-0-4-38', '2-0-1-1-1-3-0-4-59', '2-0-2-1-0-0-0-3-55', '2-1-1-1-0-2-0-4-24', '1-0-1-2-3-3-0-3-38', '2-0-1-0-2-0-0-3-78', '2-0-1-2-1-3-0-4-43', '2-1-1-1-2-1-0-3-45', '2-0-1-1-0-3-0-4-75', '2-1-2-2-0-3-0-4-76', '2-0-2-0-2-1-0-3-73', '1-0-2-0-3-0-0-4-12', '2-1-1-0-0-0-0-3-54', '2-0-1-2-2-1-0-4-1', '2-1-1-1-0-2-0-3-26', '2-0-2-1-0-0-0-3-52', '2-1-0-0-2-2-0-3', '2-0-1-1-0-1-0-4-58', '2-1-1-1-2-3-0-4-27', '1-0-2-1-3-0-0-4-31', '2-0-1-2-1-0-0-4-27', '2-1-2-0-0-0-0-3-9', '2-1-1-1-2-3-0-4-45', '2-0-1-0-1-2-0-4-66', '2-1-2-0-2-3-0-4-60', '2-1-1-0-0-0-0-3-91', '2-0-1-0-2-0-0-3-29', '1-1-2-1-3-3-1', '2-0-1-1-0-0-1-4-5', '2-1-0-1-0-2-0-3', '2-0-1-1-2-1-0-4-1', '1-0-2-1-1-0-0-4-58', '2-0-2-0-2-1-0-4-55', '2-0-2-1-2-0-0-4-36', '1-1-1-1-2-3-0-4-24', '1-1-1-1-1-0-0-4-98', '2-0-1-1-2-1-0-4-87', '2-1-1-1-0-1-0-3-88', '2-1-2-1-2-1-0-3-54', '1-1-1-1-3-1-0-3-16', '2-0-2-1-2-3-0-4-28', '1-0-2-1-1-3-0', '2-0-0-1-1-2-0-3-9', '2-0-1-1-2-1-0-3-21', '1-1-1-2-2-0', '2-1-2-2-0-0-0-3-34', '2-1-1-1-1-1-0-3-19', '2-0-1-0-3-0', '2-0-1-1-2-3-1-4-8', '1-1-1-0-3-3-0-4-36', '2-0-1-2-2-0-0-4-1', '2-1-1-0-2-1-0-4-92', '1-1-2-1-0-0-0-3-98', '2-0-1-1-0-0-0-3-77', '2-0-0-1-2-0-0-4-49', '2-1-2-1-3-0-0-4-43', '2-0-2-1-1-1-0-3-6', '2-1-2-1-2-1-0-4-5', '2-0-1-0-0-0-0-3-98', '2-0-1-1-3-1-0-3-85', '2-0-2-2-1-3-0-4-9', '2-0-2-0-2-2-0-4-73', '2-0-1-0-0-0-0-4-25', '2-0-2-2-0-0-0-4-14', '1-0-0-1-3-0-0-4-13', '2-0-1-1-1-0-0-4-23', '1-0-1-2-3-3-0-4-68', '2-0-1-1-2-2-0-3-15', '2-0-1-1-2-1-0-3-41', '2-0-1-2-0-1-0-4-97', '1-0-0-1-3-3-0-3-35', '2-1-1-1-1-3-0-4-21', '1-0-2-1-2-1-1', '2-0-1-0-1-1-0-4-82', '2-0-2-0-1-0-0-4-72', '2-1-2-2-1-0-0-4-77', '2-1-1-0-1-1-0-4-35', '2-1-2-1-2-1-0-3-97', '2-0-2-2-0-1-1-3', '2-1-1-1-3-0-0-3-8', '2-0-1-0-2-0-0-4', '2-1-1-1-2-1-0-4-21', '2-0-1-1-1-3-0-4-95', '2-0-2-1-2-3-0-4-70', '2-1-0-1-0-0-0-2-92', '1-1-2-1-0-2-0', '2-0-2-2-2-3-0-3-100', '2-1-2-1-2-1-0-4-99', '1-0-2-1-1-1-0-4', '2-0-0-1-0-1', '2-0-2-1-0-2-0-3-87', '2-0-1-1-2-1-0-4-95', '2-1-1-1-2-1-0-4-35', '2-1-2-1-0-2-0-4', '2-0-1-1-1-2-0-3-10', '2-0-2-1-1-2-0-4-66', '2-0-1-1-0-0-0-4-55', '1-0-1-1-2-1-0-4-52', '2-0-1-0-0-0-0-4-79', '1-0-2-1-3-2-0-4-8', '2-0-1-1-2-3-0-3-65', '2-1-2-1-0-3-0-4-82', '2-0-2-0-2-0-0-4-8', '2-1-1-1-2-0-0-4-3', '2-0-1-1-3-0-0-3-75', '2-1-2-1-3-1-0-4-1', '2-1-2-1-2-1-0-4-45', '2-0-1-1-2-1-1-3-8', '2-0-1-0-1-2-0-4-32', '1-0-2-0-0-3-0', '2-0-2-1-0-3-0-4-10', '2-1-2-1-1-0-0-4-77', '1-0-1-1-1-3-0-4-98', '2-0-2-1-0-2-0-3-31', '2-0-1-1-1-1-0-4-34', '2-0-1-2-0-0-0-4-35', '2-0-0-2-1--1-0-4-27', '2-0-2-0-3-3-0-4-56', '1-0-0-1-2-1-0-3-72', '1-1-2-1-3-2-0-4', '2-1-1-0-1-1-0-4-18', '2-0-2-0-2-2-0-3-54', '2-0-0-2-2-0-0', '1-0-1-1-3-0-0-4-63', '2-0-2-0-2-0-0-4-13', '2-0-1-1-0-2-0-3-50', '2-0-1-0-3-3-1', '2-0-1-0-2-3-0-3-6', '1-0-2-1-0-2-1-3-5', '1-0-2-1-3-3-0-4-42', '2-1-2-0-2-1-0-4-10', '2-0-1-1-2-3-0-3-47', '2-1-2-0-2-0-0-4-69', '1-0-1-2-3-1-0-4-43', '2-1-1-1-1-1-0-4-15', '2-1-2-0-1-2-0-4-4', '2-0-2-1-1-2-0-3-59', '2-0-1-1-0-2-0-4-22', '2-1-2-0-0-1-0-4-53', '2-1-1-1-2-1-0-4-57', '2-1-1-1-2-3-0-4-30', '2-0-2-2-1-1-0-4-76', '2-0-2-1-2-0-0-4-63', '2-0-1-1-2-1', '2-1-1-1-1-0-0-3-48', '2-0-1-1-1-1-0-3-1', '1-0-1-1-3-1-0-3-28', '2-0-1-0-1-1-0-4-80', '2-1-1-1-0-1-0-4-52', '2-1-2-0-2-3-0-4-18', '2-0-2-0-0-1-0-4-57', '1-0-2-1-0-0-0-4-51', '2-0-2-1-2-0-0-4-73', '1-0-2-0-3-1-0-3', '2-0-2-0-0-1-0-3-90', '1-0-2-1-2-2-0-3-41', '2-0-1-0-0-1-0-4-51', '2-0-1-1-0-2-0-4-80', '2-1-1-2-3-1-0-4-80', '1-0-1-1-3-1-0-4-28', '2-1-2-1-1-0-1-4-9', '2-0-1-0-0-1-0', '2-1-2-1-0-3-0-4-49', '2-1-1-1-2-1-0-3-83', '1-0-1-0-0-2-0-4', '2-1-2-0-1-0-0-4-6', '2-1-1-1-0-3-0-4-88', '2-0-0-1-2-3-0-3-89', '2-1-2-1-1-2-0-4-27', '2-0-1-1-3-3-0-4', '2-1-0-1-2-0-0-3-35', '2-0-2-1-1-1-0-3-49', '2-1-2-0-2-0-0-4-23', '2-1-1-1-1-1-0-4-99', '1-0-1-1-3-3-0-4-19', '2-0-2-1-1-1-0-4-95', '1-1-1-0-3-1-0-4-37', '2-0-1-1-1-1-0-4-68', '2-0-1-1-1-2', '2-0-2-0-1-2-0-3-38', '2-0-0-0-2-1-0-4', '2-0-1-0-2-3-0-3-8', '2-1-1-1-2-2-0-4-49', '2-0-1-1-1-0-0-3-68', '2-1-2-0-0-2-0-4-91', '2-0-0-1-1-3-0-3', '2-0-2-1-1-3-0-4-43', '2-1-1-1-0-1-0-4-75', '2-0-2-2-0-0-0-4-84', '2-0-1-2-1-2-0-4-47', '2-1-0-2-0-0-0-4-64', '2-0-2-2-1-1-0-4-51', '2-0-1-0-3--1-1', '2-1-1-1-3-1-0-4-8', '2-0-2-0-1-3-0-4-72', '2-1-1-2-0-2-1-4', '2-0-1-1-1-2-0-4-100', '2-0-1-1-1-0-0-3-51', '2-1-2-1-1-0-0-4-7', '2-1-2-0-1-0-0-4-40', '2-1-1-2-0-0-0-4-13', '2-1-0-0-2-1-0-3', '2-0-1-1-2-1-0-4-58', '1-0-1-1-3', '2-0-2-0-1-2-0-3-17', '2-1-2-1-1-0-0-3-14', '2-0-2-1-1-2-0-3-9', '1-0-1-1-1-0-0-4-40', '2-0-1-0-3-2-0-4-52', '2-0-2-1-1-0-0-4-5', '2-0-1-0-0-2-0-3-10', '1-0-2-0-0-3-0-3-23', '2-1-2-1-1-1-0-4-10', '1-0-2-0-1-1-0', '2-1-2-1-2-2-0-3-39', '2-1-1-1-1-3-0-4-53', '2-0-2-1-1-1-0-4-71', '1-0-2-2-3-3-0-4-73', '1-0-2-1-2-3-0-4-27', '2-0-0-1-1-0-0-4-20', '2-1-1-1-3-0-0-3-4', '2-1-2-1-2-0-0-3-34', '1-0-2-1-3-0-0-3-21', '2-1-2-1-2-2-0-3-28', '2-0-1-1-2-2-0-3-12', '2-1-2-1-1-0-0-4-25', '2-1-1-1-2-3-0-3-26', '1-1-2-0-3-2-0-3', '2-1-1-2-0-1-0-3-85', '2-1-1-0-3-1', '2-1-2-1-1-0-0-3-23', '2-0-2-1-0-2-0-4-48', '2-0-1-1-2-1-0-3-35', '1-1-2-1-3-3-0-3-99', '1-0-2-0-3-1-0', '2-0-2-1-2-1-0-4-98', '2-0-2-2-0', '2-0-2-1-2-0-0-3-87', '2-0-2-2-1-1-1-4-5', '2-0-1-1-0-2-0-4-3', '2-0-2-1-0-2-0-4-13', '1-0-1-2-3-3-0-4-52', '2-0-1-1-1-1-0-3-84', '2-0-2-1-1-2-0-4-32', '2-0-2-1-1-2-0-4-3', '2-1-1-1-1-0-1-3-2', '2-1-1-1-0-3-0-3-65', '2-1-2-2-1-2-0', '2-1-2-1-0-1-0-4-17', '1-1-0-1-2-0-0-3', '2-1-1-1-1-3-0-4-19', '1-1-2-0-3-3-0-4-49', '2-0-2-1-1-0-0-3-87', '1-0-2-1-1-0-0-3-91', '2-0-2-1-2-3-0-3-79', '2-0-1-1-0-3-0-3-37', '2-1-2-1-0-0-0-3-55', '1-0-0-1-2-1-0-4-99', '2-0-2-2-0-1-0-3-73', '2-0-2-1-2-0-0-3-21', '2-0-2-1-2-2-0-4-36', '2-0-1-1-2-0-0-3-96', '2-0-1-1-2-1-0-4-20', '2-0-2-1-1-3-0-3-69', '2-1-1-0-2-0-0-3-72', '1-0-0-1-3-3-0-3-34', '2-1-2-1-1-1-0-4-56', '2-0-1-1-3-0-1-3', '2-1-0-0-2--1-0-4', '2-1-2-0-2-0-0-4-52', '2-0-2-1-1-0-1-4-6', '2-0-1-1-2-2-0-4-23', '2-1-1-1-0-0-0-4-82', '1-0-1-1-3-3-0-3-17', '2-0-2-1-0-3-1', '2-0-1-1-1-1-0-3-82', '2-0-1-0-1-0-0-4-28', '1-0-1-1-3-2-0-4-9', '2-1-2-1-1-3-0-4-77', '2-0-2-1-0-0-0-3-27', '2-1-1-1-1-1-0-4-7', '2-0-1-1-1-3-0-4-67', '2-0-2-1-2-2-0-4-88', '2-1-1-2-0-2-1-4-8', '2-0-1-0-3-3-0-4-51', '2-0-1-1-1-0-0-3-27', '2-1-2-1-0-0-0-4-1', '2-0-1-1-1-1-0-4-49', '1-0-1-2-3-0-0-4-52', '2-0-0-1-2-1-0-3-1', '2-0-1-1-1-0-0-3-98', '2-1-1-0-0-0-0-3-83', '2-0-2-1-2-2-0-3-36', '2-0-1-1-0-3-0-4-46', '2-0-2-1-3-1-0-4-40', '2-0-1-0-1-1-0-4', '2-0-1-0-1-2-0-3-86', '2-1-1-1-0-0-0-3-79', '2-0-2-1-0-2-0-3-54', '2-1-2-1-0-2-0-4-53', '2-0-1-0-2-3-0-4-55', '2-1-1-1-1-0-0-4-39', '2-1-1-0-0-0-0-4-78', '1-1-1-2-3-0-0-4', '2-0-2-2-1-3-0-3-22', '1-0-2-2-0-3-1-4', '2-1-2-0-2-0-0-4-4', '2-0-2-1-1-1-0-4-100', '2-1-2-1-1-1-0-4-87', '2-0-1-2-2-3-0-4-68', '2-1-2-0-1-1-1', '1-0-1-2-1-2', '2-1-1-1-1-1-0-4-6', '2-1-1-1-0-3-0-3-63', '2-0-1-1-2-1-0-3-56', '2-0-2-1-0-1-0-4-44', '2-1-2-2-2-2-0-3-78', '2-1-1-2-1-3-0-3-77', '1-1-2-2-0-1-0-3-50', '2-1-2-1-2-3-0-4-22', '2-0-1-1-2-2-0-4-58', '1-0-2-0-0-0-0-4-100', '2-1-1-0-3-2-0-3', '2-1-2-1-0-3-0-4-59', '1-1-1-1-1-1-0-4', '2-0-1-1-0-0-0-4-32', '2-0-2-0-2-2-0-3-70', '2-0-1-1-2-0-0-4-26', '1-0-1-1-2-2-0-4-37', '2-0-1-0-2-2-0-4-36', '2-0-1-2-0-0-0-3-84', '2-0-2-0-0-2-0-4-77', '2-1-1-1-2-2-0-3-96', '2-0-2-0-1-2-0-4-84', '2-0-2-1-0-0-0-3-50', '2-0-2-0-1-0-0-4-45', '2-1-2-0-0-0-0-4-65', '2-0-1-0-1-3-0-4-83', '2-0-1-0-3-1-0-3-14', '1-0-1-1-3-1-0-4-21', '2-0-1-0-0-0-0-4-96', '2-1-2-1-2-0-0-4-32', '2-0-1-1-2-3-0-4-61', '1-0-1-1-1-3-0-4', '2-1-1-2-1-1-0-4-18', '1-0-1-1-1-2-0-4-42', '2-0-2-0-3-3-0-3-100', '2-0-0-0-2-3-0-3-60', '1-0-2-1-2-0-0-4-68', '2-0-2-2-1-2-0-4-74', '2-1-1-0-3-2', '1-0-0-1-2-3-0-3-64', '2-0-1-0-2-2-0-4-10', '1-0-1-0-3-0-0-3-4', '2-0-2-1-1-3-0-3-68', '2-1-1-1-3-0-0-4-46', '2-1-1-0-1-1-0-4-48', '1-0-2-1-3-0-0-4-2', '2-0-1-2-1-3-0-4-41', '2-1-0-0-2--1', '2-1-1-1-1--1', '2-1-1-1-2-1-0-4-7', '2-0-1-1-1-2-0-3-72', '2-0-1-1-2--1-0-3-16', '2-1-2-1-0-2-0-3-34', '2-1-1-2-1-1-0-4-35', '1-0-2-1-3-3-0-4-98', '2-0-1-0-3', '1-0-1-1-2-1-0-4-21', '1-1-2-0-2-2-0-4', '2-1-2-1-0-0-0-4-61', '2-0-1-1-0-0-0-3-46', '1-0-1-0-3-2-0-4-38', '2-0-1-1-1-0-0-3-13', '1-0-2-2-2-3-1-3-2', '2-1-2-1-1-1-0-4-1', '2-1-1-1-0-1-0-4-35', '2-0-2-1-0-3-0-3-16', '1-0-1-1-3-0-0-4-49', '2-1-2-1-2-0-0-3-60', '2-0-0-1-2-1-0-3-18', '1-0-2-1-0-0-0-4-96', '2-1-2-1-2-1-0-4-84', '1-0-2-1-3-2-0', '2-0-2-1-2-2-0-4-40', '2-0-2-1-0-3-0-3-25', '2-1-2-1-1-2-0-3-54', '2-0-1-1-0-0-0-4-44', '2-0-2-0-2-3-0-3-67', '2-0-1-1-1-1-0-4-82', '2-1-2-2-3-1-1', '1-0-1-1-2-0-0-4-66', '2-0-2-0-1-0-0-4-12', '2-0-2-2-0-2-0-4-45', '2-0-0-1-1-3-0-3-45', '2-1-1-1-2-1-0-4-17', '2-0-1-0-3-3-0', '1-1-1-1-0-2-0-4-49', '2-0-2-2-0-0-1-4-9', '1-0-2-1-2-2-0-3-68', '2-0-1-0-1-1-0-4-76', '2-0-1-0-2-0-0-4-32', '2-1-2-2-2-1-0-3-19', '1-0-1-1-3-0-0-4-14', '1-0-1-1-3-3-0-4-11', '2-1-2-1-3-3', '1-1-2-1-0', '2-1-1-1-0-3-0-4-18', '2-0-1-1-1-3-0-4-2', '1-0-1-1-3-3-0-4-3', '2-0-1-0-2-1-0-4-95', '1-0-1-1-2-3-0-4-70', '2-0-2-1-0-1-0-3', '2-0-2-1-0-0-0-4-68', '2-0-1-0-0-0-0-3-39', '2-0-2-0-0-2-0-3-36', '1-0-2-1-2-1-0-3-72', '2-1-2-0-0-1-0-4-76', '2-1-2-1-2-2-0-4-66', '1-1-2-2-0-1', '2-0-2-0-2-3-0-4', '2-0-0-1-1-1-0-3-7', '1-0-2-1-3-3-0-4-35', '2-0-1-1-1-1-0-4-63', '2-0-1-1-2-1-1-3', '1-0-1-2-3-2-0-4-38', '2-1-2-1-1-1-0-4-17', '1-1-1-1-2-3-0-4-20', '2-0-1-0-2-1-0-4-73', '2-1-2-1-2-2-0-4-29', '2-0-2-2-1-0-0-3-30', '2-1-1-1-2-1-0-3-27', '2-1-2-0-2-1-0-4-16', '2-0-2-1-2-3-0-4-65', '2-1-1-1-1-2-0-4-71', '1-1-2-1-3-0-0-4-4', '2-1-2-1-1-1-1-4-9', '1-0-2-1-2-3-0-4-61', '2-1-1-1-1-2-0-4-66', '2-1-1-0-1-3-0-3-42', '2-1-2-2-1-2-0-4', '2-0-1-2-3-0-0-4', '2-0-1-1-3-1-0-4-3', '2-0-1-1-3-2-0-4-47', '2-1-0-1-1-3-0-3', '2-0-2-1-1-1-0-4-66', '2-0-2-0-0-0-0-3-78', '2-0-2-2-2-2-0-3-75', '1-0-1-0-0-1-0', '2-0-0-1-1-0-0-3-18', '1-1-2-1-3-1-1-3-3', '1-0-2-1-2-0-0-4-3', '2-0-2-1-1-2-0-4-59', '2-0-1-1-2-1-0-4-74', '1-1-1-1-2-2-0-1', '2-1-1-0-3-0', '2-0-1-0-2-1-0-4-90', '1-0-2-1-3-0-0-4-32', '1-1-2-1-3-3-0-4-14', '2-0-1-0-0-0-0-4-10', '1-0-2-1-1-3-0-4-56', '2-0-2-0-0-', '2-0-1-1-2-1-0-4-96', '2-0-1-1-3-3-0', '2-0-2-0-2-0-0-4-6', '1-0-2-2-2-0-0-4-87', '2-0-2-1-1-3-0-4-87', '1-0-1-1-2-1-1-4-6', '2-0-2-0-0-0-0-4-94', '2-1-2-1-2-2-0-4-1', '1-0-2-2-1-2-0-4-49', '2-1-2-0-0-0-0-4-55', '2-0-2-2-1-2-0-3-47', '2-1-1-1-0-3-0-3-5', '1-0-1-1-3-3-0-4-51', '2-1-2-0-2-3-0-4-14', '2-0-1-1-1-0-0-4-79', '2-0-1-1-1-2-0-4-62', '1-1-1-1-2-2-0-3', '2-1-2-0-2-1-0-3-22', '1-1-2-0-2-3-0-4-61', '2-0-1-0-2-0-0-3-75', '2-0-1-1-2-1-0-4-55', '2-0-2-1-1-2-0-3-86', '2-1-1-0-2-1-0-4-63', '2-0-1-2-0-2', '1-0-2-1-2-1-0-4-87', '1-0-2-1-3-2-0-4-5', '2-0-2-1-0-1-0-4-84', '1-1-2-1-3-2-0-3-85', '2-1-1-1-2-3-0-4-41', '2-0-1-1-2-1-0-3-42', '1-0-1-1-2-0-0-4-100', '2-1-0-1-0-1-1', '2-1-2-0-1-1-0-4-45', '1-0-2-0-3-2-0-4-3', '2-0-2-2-0-3-0-4-77', '2-0-2-1-0-3-1-4-2', '2-0-2-2-0-0', '2-0-1-1-0-3', '2-1-2-1-3-0-0-3-90', '1-1-2-0-2-1-0-4-59', '2-1-1-0-1-1-0-4-47', '2-0-2-1-2-2-0-3-1', '2-0-1-1-0-0-0-4-80', '1-0-0-1-2-3-0-3-66', '1-0-2-1-2-0-0-4-2', '2-0-1-1-2-0-0-3-38', '2-1-1-1-0-1-0-4-70', '2-0-2-1-2-3-0-3-22', '2-0-1-1-2-0-0-4-74', '1-1-1-0-3-3-1', '2-1-2-1-2-1-0-4-8', '2-0-2-2-0-0-0-4-98', '2-0-1-1-2-0-0-3-67', '2-0-1-1-0-0-1-3-3', '2-1-1-0-1-3-0-1', '1-0-1-2-1-3-0-3-49', '2-1-1-1-2-3-0-3-40', '1-0-0-2-3-2-0', '2-1-2-0-2-1-0-4-3', '2-0-1-0-2-3-0-4-10', '1-0-0-2-3-2-0-4-68', '2-1-1-1-0-1-0-3-44', '1-0-1-1-1-2-0-4-50', '2-0-2-2-1-1-0-4-41', '2-1-1-1-0-3-0-3-86', '2-0-2-0-0-2-0-4-52', '2-0-0-1-2-0-0-3-88', '2-0-2-1-0-2-0-4-14', '1-0-1-1-2-2-0-4-100', '2-0-0-1-0-2', '2-0-2-2-1-0-0-3-62', '1-1-1-0-3-3-1-4', '2-1-1-2-0-1-0-4-40', '1-1-1-1-2-2-0-4-60', '2-0-2-1-1-2-0-3-23', '2-0-1-1-2-2-0-3-58', '2-0-1-1-2-0-0-4-30', '2-0-1-1-2-0-0', '2-1-2-1-2-2-0-3-23', '2-1-2-1-2-0-0-3-67', '2-1-2-1-2-2-0', '1-0-1-0-3-0-0-3', '2-0-1-0-0-1-0-3-98', '2-0-2-0-2-3-0-4-80', '2-1-2-1-0-1-1', '2-0-1-0-2-0-0-4-98', '1-0-1-1-0-0-0-3-17', '2-1-1-1-2-3-0-3-37', '2-0-2-2-2-1-0-4-48', '2-1-1-0-0-2-0-4-55', '2-0-1-1-2-2-1-3-10', '2-0-1-1-0-0-0-3-22', '2-0-0-1-0-1-0-3-35', '2-0-1-1-2-2-0-3-38', '2-1-2-1-1-3-0', '2-0-0-2-2-2', '2-1-1-0-2-3-0-4-6', '1-1-2-1-3-0-0-4-19', '2-1-2-1-3-0-0-4-44', '2-1-1-1-3-0-0-4-70', '2-1-0-0-2-0-0', '2-1-1-2-2-3-0-3-15', '2-0-1-0-1-3-0-3-82', '1-0-2-2-1-1', '2-0-2-1-2-1-0-4-67', '2-1-2-0-1-0-0-3-2', '2-1-2-2-3-2-0-4-82', '2-0-1-2-0-0-0-3-67', '2-0-1-1-0-2-0-4-33', '2-1-2-2-3-3', '2-1-0-1-2-0-0-3-51', '1-1-2-1-2-3-0-4-31', '2-0-2-1-1-2-1-3-5', '2-1-1-0-2-1-0-3-16', '2-0-1-1-0-3-0-4-21', '2-1-2-0-0-2-0-4-99', '2-1-2', '2-0-1-1-0-1-0-4-14', '2-1-2-2-2-1-0-4-16', '2-1-1-2-1-0-0-4-36', '2-0-2-1-0-1-0-4-87', '1-0-1-1-3-0-0-3-51', '2-1-1-0-3-3-0-3-49', '2-1-2-1-3-0-0-4-52', '2-0-1-2-1-3-0-3-19', '1-0-2-1-0-3-0-3-57', '2-1-2-0-0-3-0-4-64', '2-0-1-1-1-1-0-3-6', '1-0-1-1-3-1-0-3-60', '2-0-0-0-3-1-0-3', '2-0-1-0-2-3-0-3-11', '2-0-2-1-1', '1-0-1-1-2-0-0-3-53', '2-0-1-1-3-3-0-3-46', '1-0-2-2-0-3', '2-0-1-1-1-0-0-4-84', '2-0-2-1-0-0-1-3-3', '2-0-1-1-2-0-0-3-88', '1-0-1-1-3-3-0-3-99', '2-0-1-1-1-2-0-4-77', '2-0-1-0-0-1-0-3-85', '2-0-2-1-2-2-0-4-60', '2-1-2-1-2-3-0-4-95', '2-1-1-0-0-0-0-4-93', '2-0-1-1-1-0-0-3-93', '2-0-2-1-1-2-0-3-10', '2-0-0-1-1-0-0-3-47', '2-0-1-0-2-1-0-3-67', '2-0-1-1-0-2-0-3-29', '2-1-2-2-0-0-0-4-60', '2-0-1-1-3-0-0-3-99', '2-1-1-2-0-2-0-3-100', '2-1-0-0-1-0', '1-1-1-1-0-0', '2-1-2-0-2-0-0-3-79', '2-0-1-1-0-0-0-3-9', '2-0-1-1-3-2-1-3', '2-0-1-0-1-1-0-3-98', '2-1-1-1-1-2-0-4-100', '2-1-2-1-2-2-1', '2-1-2-1-2-1-0-4-49', '1-0-1-1-2-2-1-4-7', '2-0-2-0-0-2-0-3-74', '2-1-2-1-0-1-0-4-22', '2-1-2-2-3-0-1', '2-0-2-0-1-3-1-4', '2-0-0-0-0-0-0-3-74', '1-0-1-0-3-2', '2-1-1-0-2-0-0-3-28', '2-0-1-1-0--1-0-3-40', '2-1-0-1-0-0-0-3-20', '2-1-2-1-0-3-0-4-19', '1-0-2-1-2-0-0-3-83', '2-1-1-0-2-0-0-3-86', '2-1-1-1-1-1-0-3', '1-1-2-0-3-3-0', '2-0-1-2-1-1-1-3', '2-0-2-2-1-0-0', '1-1-2-1-3-3-0-4-81', '2-0-1-1-1-2-0-4-99', '2-0-2-1-1-0-0-4-64', '2-0-2-1-2-2-0-4-32', '2-1-1-1-2-1-0-3-43', '2-0-2-1-2-2-0-3-85', '2-0-1-1-2-0-0-3-6', '2-0-1-1-3-3-0-4-24', '2-0-2-0-1-1-0-3-51', '2-0-2-0-2-1-0-4-61', '2-0-0-1-2-0-0-3-71', '2-1-1-1-1-3-0-3-38', '2-0-1-0-2-1-0-4-27', '2-0-2-1-1-3-0-4-88', '2-0-2-2-2-1-0-4-98', '2-0-2-2-0-0-0-3-81', '2-0-1-1-0-3-0-4-18', '2-1-1-0-2-3-0-2-32', '2-0-2-1-2-3-0-4-89', '2-0-1-1-2-1-0-4-38', '2-1-2-2-0-2-0-3-80', '1-0-2-2-3-3-0-4', '2-1-1-0-1-0-0-4-77', '2-0-2-2-0-2-0-4-3', '2-0-1-2-0-1-0-4-89', '2-1-1-1-1-2-0-3-5', '2-1-2-0-0-1-1', '2-1-1-1-1-2-0-4-19', '2-0-0-1-2-2-0-3-100', '2-0-2-1-0-2-0-4-38', '2-0-2-1-2-0-0-3-82', '1-0-0-1-3-1-0-3-56', '1-0-1-1-2-3-0-4-3', '2-0-1-2-1-2-0-3-45', '2-0-1-1-2-3-0-3-3', '2-0-2-1-0-2-1-3-3', '1-1-1-1-3-0-0-4-47', '1-0-2-0-3-1-0-4', '2-1-1-1-3-2-1', '2-0-0-1-2-0-0-3-31', '2-1-2-0-2-2-0-3-98', '2-0-1-1-0--1-0-3-18', '2-1-2-0-2-0-0-4-16', '2-0-2-0-2-0-0-4-100', '2-0-1-1-1-1-0-4-14', '2-0-1-1-2-1-0-3-98', '1-1-0-1-2-3-0-3-20', '2-1-1-2-2-1-0-4-67', '1-1-2-2-2-3-0-3', '2-1-2-0-2-0-0-4-80', '2-1-2-0-0-1-0-4-31', '2-0-2-2-1-1-0-4-66', '2-0-2-1-2-3-0-4-20', '2-1-0-2-2-2', '2-1-2-0-2-3-0-3-18', '1-0-1-1-3-0-0-4-4', '2-0-2-1-1-3-1', '2-1-0-1-2-0-0-4', '1-0-1-1-3-2-0-4-96', '2-1-1-0-3-1-0-4-44', '2-0-2-0-0-0-0-3-76', '2-1-2-1-1-2-0-4-63', '2-0-1-0-0-1-0-3-53', '2-1-1-0-2-0-1-4', '2-0-1-1-0-0-0-3-36', '2-1-1-1-2-0-0-4-51', '2-0-0-1-1-0-0-3-17', '2-0-1-0-0--1-0', '2-0-2-0-0-0-0-4-35', '2-0-2-1-2-1-0-4-27', '2-0-2-0-3-3-0-4-53', '2-0-1-0-2-1-0-4-97', '1-0-1-1-0-0-0-3-49', '2-0-1-2-0-2-0-3-29', '2-1-1-1-1-0-0-4-9', '2-1-1-0-0-0-0-4-80', '2-0-1-1-2-3-0-3-71', '1-0-1-1-2-0-0-4-54', '2-0-1-0-2-1-0-4-31', '2-0-1-0-3-2-0-4-13', '2-0-2-1-3-1-0-3-41', '1-0-1-1-3-2-0-4-51', '2-1-1-0-1-3-0-3-85', '2-1-1-1-0-1', '2-0-2-1-1-0-0-4-69', '2-0-1-1-1-1-0-4-23', '1-1-2-2', '2-0-2-1-1-3-0-4-48', '1-0-1-1-1-0-0-4-41', '2-0-1-1-2-3-0-4-44', '2-0-1-1-0-1-0-3-44', '2-0-2-1-1-3-0-4-37', '2-0-1-1-0-1-0-4-10', '2-1-2-2-2-0-0-4-44', '2-0-1-2-0-1-0-3-1', '2-1-0-1-3-0', '2-0-2-0-0-0-0-3-28', '2-0-1-1-2--1-0-3-58', '2-0-2-0-2-3-0-4-29', '2-0-1-1-0-0-0-3-24', '2-1-2-2-1-0-0-4-29', '2-0-1-1-2-1-0-4', '2-0-2-1-0-1-0-4-91', '2-0-1-0-2-0-0-4-71', '2-1-1-1-1-2-0-4-65', '2-0-1-0-0-0-0-4-90', '2-0-1-0-2-3-0-4-85', '2-1-1-0-1-0-0-3-48', '2-0-1-1-1-1-0-3-81', '2-0-1-0-3-3-0-4-55', '2-1-1-1-2-1-0-3-44', '1-0-1-1-3-2-0-4-100', '2-0-2-2-0-1-0-4-70', '2-1-2-1-1-1-0-4-40', '2-0-1-0-2-3-0-4-96', '1-1-2-0-3-1-0-4-5', '2-0-1-1-2-1-0-3-54', '1-0-1-1-2-0-0-4-22', '2-1-2-1-0-0-0-4-53', '2-0-1-0-0-1-0-3', '2-0-2-0-0-1-0-3-86', '2-0-2-0-2-3-0-4-21', '2-0-1-1-2-0-0-4-20', '1-0-1-0-0-0-0-3', '2-0-2-1-2-2-0-4-48', '2-1-0-1-1-0-0-3-51', '2-0-0-1-1-1-0-3-25', '2-0-1-1-2-0-0-3-30', '2-0-1-0-2-2-0-4-67', '2-0-1-1-0-0-0-4-18', '2-0-1-2-1-3-0-1-61', '2-0-2-1-0-0-0-4-91', '2-0-1-1-2-0-0-4-52', '1-1-0-0-3-0-0-3-13', '2-0-1-2-0-3-0-4-62', '2-0-1-1-0-2-0-4-21', '2-0-1-0-2-1-0-4-80', '2-0-1-1-1-1-0-3-76', '2-1-2-1-2-0-0-3-33', '1-0-2-1-1-2-0-4-28', '2-0-1-0-2-1-0-4-75', '2-1-2-1-1-0-0-3-83', '2-1-1-1-0--1-0-3-7', '2-0-2-1-2-2-0-4-47', '2-1-1-1-2-3-0-3-70', '2-1-1-0-1-2-0-3', '2-1-1-1-2-1-0-3-28', '1-0-1-2-3-1-0-4-37', '2-0-2-1-0-2-0-4-68', '2-0-1-1-1-3-0-4-37', '2-1-1-2-1-3-0-3-5', '1-0-2-1-2-0-0-4-55', '2-1-1-1-1-0-0-4-98', '2-0-1-0-3-3-0-4-18', '2-0-2-1-1-1-0', '2-0-2-0-0-0-0-4-61', '2-1-1-0-1-1-0-4-46', '2-1-2-1-0-1-0-4-8', '2-0-1-2-0-0-0-3-58', '1-0-2-1-0-0-0-4-55', '2-0-1-1-0-2-0-4-6', '2-1-2-1-0--1', '1-0-1-1-2-0-0-3-22', '1-1-1-1-3-0-0-4-45', '2-1-2-0-1-1-0-4-78', '2-1-2-0-2-3-0-4-56', '1-0-1-1-1-1-0-4-99', '2-0-1-0-2-2-0-4-37', '2-0-2-0-1-0-1-4-4', '1-1-1-2-3-1', '2-0-2-2-1-2-0-4-82', '1-1-2-1-3-3-0-4-25', '2-1-1-1-2-0-0-3-33', '1-1-1-1-0-1-0-4-46', '1-1-1-0-0-0-0-4-33', '2-1-1-0-0-0-0-4-94', '2-1-1-0-2-2-0-3-31', '2-0-1-1-2-3-0-4-81', '1-1-2-1-3-2-0-4-1', '2-0-2-2-1-3-0-4-2', '2-0-2-1-3-3-1', '2-0-2-1-0-0-0-4-36', '2-0-2-1-1-1-0-4-41', '2-0-1-1-2-0-0-4-46', '2-1-1-1-2--1-0-3-92', '2-1-1-1-1-1-0-4-17', '2-1-1-1-2-2-0-3-47', '2-0-2-2-0-1-0-3-43', '2-1-2-0-2-2-0-4-49', '1-0-2-1-2-3-0-4-74', '2-0-2-2-2-3-0-3-49', '2-0-1-1-1-0-0-4-58', '2-0-2-0-0-1-0-4-100', '2-0-1-1-1-1-0-4-31', '2-0-1-0-2-3-0-4-53', '1-1-0-1-3-0-0-3-53', '2-0-2-2-2-3-1', '2-0-2-0-1-1-0-4-85', '2-0-0-2-0-0-0-4-14', '2-0-1-1-0-0-0-3-10', '2-0-1-1-0-0-0-3-70', '2-0-2-1-3-2-0-4-89', '2-0-0-1-0-0-0-3-44', '2-1-1-1-3', '2-1-2-0-2-0-0-3-28', '2-0-1-1-2-2-0-4-99', '2-1-1-1-2-1-0-4-94', '2-0-1-2-1-1-0-4-8', '2-0-1-1-2-0-0-3-5', '2-1-2-2-0-2-0-4-93', '2-0-1-1-1-0-0-4-22', '2-1-2-1-1-0-0-3-64', '2-0-2-2-1-1-0-4-42', '1-0-1-1-2-3-0-3-42', '2-0-2-1-2-1-0-3-80', '2-0-1-1-0-3-0-3-78', '1-0-2-1-2-3-0-4-82', '2-0-1-1-1-3-0-4-1', '2-1-1-0-0-1-0-4-4', '2-0-1-1-2-3-0-4-7', '2-0-1-0-1-2-0-3-2', '2-1-2-1-0-0-0-3-31', '2-1-2-1-0-3-0-4-27', '2-1-2-1-2-3-0-4-39', '1-0-2-2-0-2-0-3', '2-0-1-1-1-2-0-4-24', '1-0-1-1-2-2-0-4-54', '1-0-2-1-2-1-0-4-5', '1-0-1-1-2-1-0-4-56', '1-0-1-1-1-2-0-4-58', '2-0-2-1-0-1-0-3-32', '2-1-1-1-1-0-0-4-55', '2-0-1-0-0-3-1-4', '2-0-2-2-1-2-0-3-20', '1-1-2-1-0-3-0-4-40', '1-1-2-0-2-1-0', '2-0-1-2-1-3-0-3-2', '2-0-2-0-2-1-0-4-67', '2-0-1-0-0-0-0-4-86', '2-1-1-1-0-1-0-4-20', '2-0-1-1-2-3-0-4-8', '2-1-2-0-1-2-0-3-43', '2-0-2-2-0-3-0-3-6', '2-0-1-2-0-1-0-3-73', '2-1-2-0-2-2-0-4-76', '2-0-2-1-3-2-0-4-5', '2-0-1-0-2-3-1-3-2', '2-0-2-0-1-0-0-3-62', '1-0-0-2-3-1', '2-1-2-2-1-0-0-3', '1-0-0-1-1-2-0-3-100', '2-0-2-0-2-2-0-4-17', '1-1-2-1-2-3-0-4-61', '2-0-0-1-1-0-0-3-8', '2-1-2-0-0-0-0-4-39', '2-0-0-1-2-0-1-3', '2-0-1-1-2-0-0-4-92', '2-0-1-1-3-1-0-3-55', '2-0-2-1-1-1-1-3-6', '2-1-1-1-0-1-0-4-21', '2-0-1-1-2-1-0-3-49', '2-1-1-0-0-3-0-3-48', '1-0-1-2-0-2-1-4', '1-1-2-1-3-3-0-4-38', '2-1-1-0-2-3-0-4-78', '2-1-1-1-2-0-0-4-39', '1-1-1-1-3-0-0-4', '2-0-2-1-2-3-0-4-62', '2-0-2-0-2-2-0-4-69', '2-0-2-0-2-3-0-4-97', '2-0-1-1-0--1-0-4-33', '2-1-2-1-2-2-0-3-97', '2-1-1-1-2-0-0-3-22', '2-1-1-0-0-1-0-4-91', '2-0-2-1-0-0-0-4-33', '2-0-1-1-1-0-0-1-43', '2-0-2-1-0-2-0-4-21', '2-1-2-1-3-3-0-4-31', '2-1-2-1-2-0-0-3-36', '2-0-1-1-2-3-0-3-69', '2-1-2-1-1-3-0-4-81', '2-0-2-1-0-0-0-3-95', '2-1-0-2-1-0', '1-0-1-0-3-0-0-4-13', '1-0-2-1-1-0-0-4-5', '2-0-2-0-3-3', '2-0-1-1-2-1-0-4-70', '1-0-0-2-2-1-0', '2-1-2-1-1-0-0-3-98', '2-0-2-1-0-3-0-4-43', '2-0-1-1-1-0-0-3-17', '2-0-2-1-2-3-0-4-73', '1-0-1-2-1-3-0-3', '2-0-2-1-2-1-0-4-73', '2-1-1-1-0-3-0-4-24', '2-0-1-1-3-0-0-4-24', '2-0-2-0-1-1-0-4-99', '2-1-1-0-1-2-0-3-40', '2-0-1-1-3-3-0-4-2', '2-1-1-1-2-0-0-4-22', '2-1-2-1-1-1-0-4-26', '2-0-1-0-0-0-0-4-8', '1-0-2-2-2-3-0-4', '2-1-1-1-2-2-0-4-18', '1-1-2-1-3-1-0-4-1', '2-1-0-1-0--1-0-3-3', '2-0-0-0-0-0', '2-0-1-1-0-2-0-4-93', '2-1-2-0-2--1-0-4-38', '1-0-1-1-3-0-0-4-69', '2-0-0-1-0--1-0-3-14', '2-0-1-1-1-1-0-4-3', '1-1-1-1-2-0-0-4-61', '2-0-2-2-2-1-0-4-75', '2-1-1-1-1-3-0-4', '1-0-1-1-3-3-0-4-57', '2-0-1-0-2-0-0-3-79', '1-1-1-1-2-3-0-4-75', '2-1-1-1-1-1-0-4-57', '2-0-1-1-1-0-0-3-70', '1-0-1-1-3-2-0-4-58', '1-0-1-0-1-3-0', '1-0-1-0-3-2-0-3-13', '2-0-1-2-1-2-0-3-36', '2-1-0-0-2-2-0-3-19', '1-1-0-1-2-1-0-3-30', '2-1-2-1-1-2-0-4', '2-0-2-2-0-0-0-3-92', '2-1-2-0-2-2-0-4-8', '2-0-1-1-0-1-0-3-100', '2-1-2-1-1-1-1-4-1', '2-0-1-1-2-0-0-4-2', '2-1-2-1-2-2-0-3-87', '1-0-1-0-3-0-0', '2-0-1-1-0-0-0-4-26', '2-1-1-2-2-0', '2-0-2-1-1-1-0-4-48', '2-0-1-2-0-2-0-3-6', '2-0-1-1-0-0-0-3-3', '1-0-1-0-3-0-0-4-11', '2-0-2-1-0-0-0-3-1', '2-0-2-2-2-1-0-4-50', '2-0-2-1-0-1-0-3-10', '2-0-2-1-1-2-0-4-5', '1-0-2-1-3-3-0-3-57', '1-0-2-2-0-1-0-4-99', '1-0-1-0-0-0-0-3-50', '2-0-1-1-2-2-1-4-7', '2-1-1-1-0-1-0-4-54', '2-0-1-0-2-0-0-3-100', '2-1-2-1-1-2-1-4', '2-0-2-1-1-2-0-4-47', '2-1-2-1-1-1-0-4-63', '2-1-1-1-0-0-0-3-15', '2-0-1-0-0-1-0-4', '1-0-1-1-0-3-1-4-3', '2-0-1-0-1-2-0-3-84', '2-0-1-0-1-3-0-4-39', '1-0-1-2-1-0', '2-0-2-2-0-1-0-4-7', '2-1-1-2-1-2-0-4-18', '2-1-2-1-1-3-0-4-40', '2-1-2-0-2-0-0-4-58', '2-1-1-1-0-2-0-4-71', '1-0-1-2-3-3-0', '1-1-2-0-2-0-0-4-52', '2-1-2-0-3-3-0-4-23', '1-0-2-1-3-0-0-3-100', '2-1-1-1-2-0-0-4-20', '2-0-1-1-1-2-0-3-32', '2-1-2-1-3-2-0-4-45', '2-0-2-0-0-0-0-3-59', '2-0-2-1-1-3-0-4-11', '2-0-1-1-0-0-0-4-75', '2-0-1-1-3-1-0-3-86', '2-0-2-1-2-3-0-4-21', '1-1-2-1-3-0-0-3-11', '1-0-1-0-3-2-0-3-21', '2-1-2-1-0-0-0-4-17', '2-1-1-0-0-0-0-4-74', '2-1-2-2-3-1-1-4-3', '2-1-1-1-0-0-0-3-59', '2-1-1-2-0-2', '2-1-2-1-2-0-0-4-39', '2-0-1-2-1-0-0-4-83', '2-1-2-2-0-0-0-4-42', '2-0-1-0-2-0-0-4-69', '2-0-0-2-2-3-0', '2-0-1-2-1-2-0-4-17', '2-0-1-1-1-2-0-3-83', '2-0-1-1-1-0-1-3-1', '2-1-1-0-2-2-0-4-5', '1-0-2-2-3-3-0-4-17', '2-0-2-2-1-0-0-3-51', '2-0-1-0-0-3-0-4-98', '1-1-2-2-3-0-0-4-37', '1-0-1-1-2-3-0-3-98', '2-1-2-1-1-1', '2-0-1-2-1-1-0-4-4', '2-1-0-1-0--1-0-3-23', '2-0-2-1-0-1-0-3-34', '2-1-2-2-2-2-0-3-97', '1-0-2-0-0', '2-0-2-0-2-1-0-3-9', '2-0-1-1-0-1-0-4-19', '2-0-1-2-2-3-0-4-1', '2-0-2-0-1-0-0-4-35', '2-1-1-0-0-0-0-3-77', '1-0-2-2-3-0-0', '2-1-2-1-2-2-0-4-7', '2-0-1-1-0-0-0-4-51', '2-0-0-1-2-3-0-3-58', '2-1-2-0-1-3-0-4-42', '2-1-0-0-1-0-0-3-1', '1-0-2-1-3-0-0-4-24', '2-0-2-2-0-1-0-3-100', '2-0-1-1-3-0-1-3-4', '2-0-1-1-1-0-0-3-38', '2-0-1-1-1-3-0-3-13', '2-0-1-0-0-2-0-3-33', '2-0-1-1-3-3-0-4-41', '2-1-2-1-0-1-0-4-35', '1-0-2-1-2-0-0-4-66', '1-0-2-2-1-2-0-4-100', '2-1-2-1-2-2-0-4-55', '2-1-2-0-1-0-0-4-35', '1-0-1-1-3-3-0-3-29', '2-0-1-1-1-0-0-4-72', '2-1-2-2-2-0-0-4-61', '1-0-2-1-3-3-0-3-31', '2-1-1-0-2-2-0-4-71', '2-0-0-1-1-0-0-3-42', '2-1-1-1-1-0-0-3-64', '2-1-1-1-0-1-0-3-63', '2-1-1-0-2-3-0-4-18', '2-0-2-1-2-0-0-3-48', '2-0-2-0-1-3-0-4-63', '1-0-1-0-1-3-0-4-29', '2-1-2-1-0-3-0-4-13', '2-0-2-1-2-2-0-4-69', '2-1-2-0-0-0-0-3-52', '1-0-2-1-2-0-0-3-58', '2-1-1-0-0-1-0-4-65', '2-0-1-0-1-1-0-4-5', '1-1-0-1-3-3-0-3-45', '2-0-1-1-3-1-0-4-43', '2-0-2-0-2-3-0-4-1', '2-1-2-1-2-1-0-3-100', '2-0-1-1-0-3-0-3-16', '2-1-1-1-0-1-0-4-22', '2-0-1-1-2-3-0-4-98', '2-1-2-1-1-3-0-4-18', '2-0-2-1-0-1-1-4-4', '2-0-2-1-2-1-0-3-52', '2-1-2-1-1-2-0-3-20', '2-0-2-0-0-2-0-3-91', '2-0-1-0-0-0-0-3-69', '2-0-0-1-0-1-0-3-41', '2-0-2-1-1-1-0-4-49', '2-0-1-1-0-3-0-4-71', '2-1-1-2-2-1-0-4-15', '2-0-2-1-0--1', '1-0-2-1-2-0-0-4-22', '2-1-1-1-1-1-0-4-24', '2-0-2-2-2-2-0-4-35', '2-0-0-1-3-0-0-3', '2-1-1-2-0-1-0-3', '2-1-2-1-2-1-0-4-60', '2-0-1-2-1-1-0-4-31', '2-0-2-1-0-0-0-4-14', '2-1-2-1-2-0-0-3-7', '2-1-0-1-1-2-0-3', '2-0-2-0-2-2-0-4-12', '2-0-2-1-0-3-0-4-71', '2-0-1-0-1-0-0-3-48', '2-0-0-1-0-2-0', '2-0-1-1-1-0-0-2', '2-0-1-1-2-0-0-3-50', '2-0-1-0-2-1-0-3-42', '2-0-2-0-0-1-0-4-25', '2-0-2-2-2-2-0-3-1', '2-0-2-1-1-3-0-3-29', '2-0-2-0-2-2-0-4-89', '2-0-2-1-1-0-0-4-48', '1-0-1-1-0-0-0-4-17', '2-0-0-1-0-0-0-3-77', '2-0-1-1-1-2-0-4-34', '2-1-2-1-2-0-0-4-12', '2-1-2-0-0-1-0-3', '1-0-2-1-2-0-0-4-56', '2-1-2-0-1-3-0-4-34', '2-1-1-1-1-0-0-3-50', '2-0-1-1-2-0-1-4-2', '2-0-1-2-1-1-0-3-59', '2-0-2-1-2-1-0-4-8', '2-0-0-0-1-2-0-3-5', '2-1-2-2-2-0-0-4-1', '2-1-1-1-1-0-0-4-84', '2-0-1-2-1-1-0-3-43', '1-1-1-1-2-0-0-4-30', '2-0-0-1-2-2-0-4', '2-0-1-1-2-0-0-4-90', '2-0-1-2-0-0-0-4-34', '1-1-1-1-3-0-1-4', '2-1-2-1-0-1-0-3-49', '2-0-1-1-3--1-0', '1-0-1-0-3-0-0-4-38', '2-0-2-0-2-2-0-4-74', '2-0-1-2-2-1-0-4-16', '2-0-1-0-2-2-0', '2-0-1-1-2-1-0-3-65', '2-1-2-1-2-1-0-4-24', '1-1-2-1-2-1-0-3-99', '2-1-0-0-3-3-0-3', '2-0-1-0-2-1-0-3-12', '2-0-1-1-2-0-0-4-61', '2-1-2-1-1-2-0-4-6', '2-0-1-2-1-1-0-3-46', '2-1-1-1-0-1-0-3-87', '2-1-1-0-2-1-0-4-11', '2-0-2-0-2-3-0-3-26', '2-0-1-0-1-0-0-4-82', '2-0-1-1-2-2-0-4-43', '2-1-2-1-0-2-0-4-54', '2-0-1-0-1-1-0-3-97', '2-1-1-2-2', '2-0-1-1-2-1-0-3-50', '2-0-2-1-0-1-0-3-93', '1-0-2-1-0-1-1', '2-0-1-1-2-2-0-4-64', '2-1-1-1-1-3-0-3-60', '2-0-2-1-2-0-0-3-49', '2-0-2-1-1-1-0-4-19', '1-0-1-1-0-2-0-4-15', '2-0-1-0-0-0-0-4-94', '2-0-2-0-0-0-0-3', '2-1-1-1-2-3-0-4-48', '2-1-2-0-1-0-0-4-61', '2-0-1-1-3-2-0-4-33', '2-0-2-1-2-2-0-4-44', '2-0-1-0-3-2-0-3-51', '2-0-1-1-2-2-0-4-22', '2-0-2-0-1-1-0-3-7', '2-1-1-1-1-2-0-4-7', '1-1-2-1-3-0-0-4-67', '2-0-2-1-1-2-0-3-50', '2-0-1-1-0-0-0-4-21', '1-0-1-1-0-2', '2-0-1-0-0-1-0-4-96', '2-0-1-1-2-2-0-3-46', '2-0-1-1-0-2-0-3-6', '2-0-1-1-2-3-0-4-87', '1-0-1-1-2-1-0-4-22', '1-1-1-1-3-0-0-4-23', '2-0-2-1-3-1-0-3-51', '2-1-2-1-0-1-0-3-68', '2-0-1-1-0-0-0-4-11', '1-1-1-1', '2-0-1-0-0-1-0-4-34', '2-0-2-0-0-3-0-4-31', '2-1-2-1-2-2-0-4-70', '1-0-1-1-3-1-0-4-14', '2-0-1-1-1-0-0-4-68', '2-0-1-1-2-0-0-3-57', '2-0-2-1-2-3-0-3-43', '1-0-1-1-3-0-0-4', '1-1-0-0-3-2-0-3', '2-0-1-1-1-2-0-4-18', '2-0-2-0-3-2-0-4-5', '2-1-1-1-1-2-0-4-21', '2-1-2-0-0-2-0-3-7', '2-0-1-1-3-3-0-4-46', '2-1-1-1-3-2-1-4-3', '2-1-1-2-2-2-0-3-11', '1-0-1-1-1-1-0-4-41', '2-1-1-1-2-3-0-3-53', '2-1-2-1-3-2-0-4-98', '2-1-1-2-0-0-0-4-90', '2-0-1-1-1-0-0-3-78', '2-1-1-0-0-1-0', '2-1-2-0-1-0-0-3-78', '2-0-2-1-0-1-0-4-29', '2-0-2-0-0-0-0-3-99', '2-0-1-1-2-0-1-3-4', '2-0-2-0-1-2-0-4-18', '1-1-2-1-3-3-0-4-52', '2-0-2-2-1-1-0-4-4', '1-1-0-1-0', '2-1-1-0-2-1-0-4-70', '2-1-1-1-0-1-0-4-56', '2-0-0-1-1-0-0-3-14', '2-0-2-1-1-1-0-4-81', '2-0-2-1-2-1-0-4-5', '2-1-2-1-1-2-0-3-18', '2-1-2-1-1-1-0-4-8', '2-0-2-0-1-0-0-4-29', '2-1-0-1-1-0-0-3-85', '2-0-2-1-0-2-0-3-43', '1-1-1-2-0-0-0-3-98', '2-0-1-1-2-3-0-3-39', '2-0-1-1-2-3-0-3-49', '2-1-2-0-0-1-0-3-79', '2-1-2-2-1-0-0-4-7', '2-1-2-1-2-2', '1-1-2-1-0-3-0', '2-1-1-0-2-2-0-3-52', '2-1-2-1-1-0-0-4-99', '2-0-2-1-2-1-0-3-99', '1-0-2-1-0-2-1-3', '2-0-1-1-1-3-0-3-1', '1-0-1-1-3-2-0-4-34', '2-1-2-2-2-1-0-4-1', '1-0-1-0-0-3-0', '1-1-1-1-2-2-0-4-5', '2-0-1-1-2-3-0-4-27', '2-0-1-0-0-1-0-4-62', '2-1-2-2-3-2-0-4', '2-0-2-1-2-1-0-4-44', '2-0-2-1-1-1-0-4-11', '2-1-0-1-0-2-0-3-37', '2-1-2-0-3-2', '2-0-2-0-1-0-0-3-45', '2-1-2-1-0-0-0-3-57', '2-0-1-2-1-1-0-4-61', '2-0-2-0-0-2-1', '1-1-2-1-3-2-0-4-16', '1-0-1-1-2-0-0-4-35', '2-0-1-1-1-0-1-3-5', '2-0-2-1-1-2-0-4-35', '2-1-1-2-0--1-0', '2-0-1-2-1-1-0-4-64', '2-0-1-1-1-3-0-3-40', '2-0-2-0-2-1-0-4-76', '2-1-2-0-2-0-0-4-42', '2-0-1-1-1-0-0-4-98', '1-1-2-1-3-0-0-4-11', '2-1-2-1-1-0-0-3-21', '2-0-1-0-0-0-0-4-5', '2-0-1-1-2-3-0', '2-1-2-2-2-1-0-4-54', '2-0-1-0-1-3-0-3-10', '2-0-2-0-0-2-0-4-57', '2-mean', '2-0-1-0-1-1-0-4-84', '2-0-1-2-2-1', '2-1-2-2-1-1-0-4-38', '2-0-2-1-2-2-0-3-70', '2-0-1-1-0-1-0-4-95', '2-0-1-0-2-3-0-4-18', '1-1-2-2-0-1-0-3', '2-1-1-1-1-0-0-4-96', '2-1-2-1-1-2-0-4-23', '2-0-2-1-0-1-0-4-48', '2-1-2-1-1-3-0-4-86', '1-0-2-1-2-3-0-4-39', '2-0-1-1-0-3-0-3-9', '2-1-1-0-0-0-0-4-79', '2-1-2-1-2-3-0-3-5', '2-1-1-0-2-0-0-4-52', '1-0-1-0-2-2-0-4', '2-0-2-0-0--1-0-4-33', '2-0-2-0-1-3-0-4-62', '2-0-2-0-2-0-0-4-31', '2-0-2-1-1-0-0-4-79', '2-1-2-0-1-1-0-4', '2-1-1-0-2-1-0-4-67', '2-0-1-0-2-2-0-4-45', '2-0-2-1-2-1-0-4-30', '2-1-1-0-2-3-0-4', '1-0-1-2-3-1-0-4-96', '2-1-2-0-2-3-0-4-70', '2-0-1-0-2-3-0-4-98', '2-0-2-1-1-2-1-4-7', '1-0-2-2-1-1-0', '2-0-2-2-0-0-0-4-19', '2-0-1-0-3-2-0', '2-0-2-1-1-1-0-3-56', '2-0-1-0-1-2-0-4-31', '2-1-1-0-1-3-0-3-39', '2-0-1-1-0-3-0-4-37', '1-0-2-1-2-2-0-4-53', '2-0-1-1-0-0-0-4-9', '1-0-1-0-2-0-0-3', '1-1-2-1-3-1-0-4-24', '2-1-2-0-0-1-0-4-33', '2-0-2-1-1-0-0-3-13', '1-1-2-1-0-1-0-4-50', '2-1-1-0-0-3-1-4-1', '2-0-1-2-2-1-0-4-81', '2-1-2-0-2-3-0-4-28', '2-0-1-1-0-2-0-4-96', '2-1-1-1-3-0-0', '2-0-1-1-3-1-0-4-21', '2-0-1-1-2-3-0-4-99', '2-0-1-1-1-2-0-3-36', '2-1-2-2-2-1-0-3', '2-1-1-1-2-2-0-4-55', '1-1-1-1-2-0-0-3-61', '1-0-0-2-3-0-0-3-41', '2-0-2-2-0-2-1-4-3', '1-1-2-1-3-2-0-4-85', '2-0-1-1-0-1-0-3-63', '1-1-1-2-2-3-0-4-60', '1-0-2-0-3-3-0-4-18', '2-0-2-0-0-0-0-3-24', '2-0-2-1-3-2-0-3-19', '2-0-2-0-1-0-0-4-60', '2-1-2-1-2-2-0-4-96', '2-1-1-1-0-2-0-3-7', '2-1-2-1-0-1-0-4-56', '2-0-1-0-0-0-0-3-95', '2-1-0-1-0-0-0', '2-0-2-1-2-3-0-4-29', '2-1-2-1-0-2-1', '2-0-1-1-0--1-0-3-44', '2-0-2-1-0-2-1-3-5', '1-1-1-0-2-2-0-3', '2-0-1-2-0-1-1', '2-1-2-1-2-3-0-4', '2-0-2-0-1-0-0-3-99', '1-0-2-1-3-0-0-3-99', '2-0-1-1-0-1-0-4-12', '2-0-1-1-1-1-0-4-76', '1-0-1-0-0-1', '2-0-1-1-0-1-0-4-67', '1-0-2-1-2-0-0-4-63', '2-0-2-1-1-1-0-3-69', '2-1-2-2-2-3-0-3', '2-1-1-2-1-0-0-4-51', '2-1-1-2-1-1-0-4-100', '1-1-1-1-1-0-0-3-51', '2-0-2-0-0-2-0-4-44', '2-0-2-0-3-1-0-4-99', '1-1-1-1-3-2-0-4-49', '2-0-2-0-2-1-0-4-16', '2-0-2-1-0-3-0-4-57', '2-0-2-1-0-3-0-3-39', '2-0-2-0-1-1-0-4-23', '2-0-2-1-0-1-0-4-25', '2-0-1-1-0-2-0-4-30', '2-1-2-1-2-3-0-4-37', '2-0-1-1-1-2-0-4', '2-1-1-1-2-1-0-3-22', '2-0-1-1-3-2-0-4-2', '2-0-1-1-2-2-0-3-36', '2-1-1-1-2-3-0-4-69', '2-0-2-0-2-3-0-3-4', '2-0-1-2-3-1-0-3-3', '2-0-1-1-0-1', '2-0-1-1-3-0-0-4-100', '2-0-2-0-2-2-0-4-96', '2-0-2-0-0-0-0', '2-1-2-1-1-2-0-4-2', '2-1-2-1-0-0-0-3-43', '2-0-2-1-0-1-0-3-99', '2-0-1-1-2-0-0-4-96', '2-0-1-1-2-2-0-3-100', '2-1-2-1-1-2-0-3-26', '2-0-0-1-3-3-0-3-99', '2-1-2-2-0-0-0-4-85', '2-0-1-1-0-1-0-4-38', '2-0-1-1-1-2-0-3-77', '2-1-1-1-3-2-0-3-5', '2-0-2-0-2-3-0-4-24', '2-0-2-0-2-0-0-3-8', '2-1-1-1-1-3-0-4-7', '2-0-1-1-0-1-0-4-57', '1-0-1-1-3-0-0-3-55', '2-1-1-2-1-2-0-4-4', '1-0-0-1-1-1-0-3', '2-1-2-1-1-3-0-3-73', '1-1-1-2-3-3-0', '2-1-1-1-2-3-0-3-57', '2-1-1-1-0-3-1-3', '1-1-2-1-2-3-0-4-49', '2-0-0-1-0-1-0-4', '2-0-2-1-1-3-0-3-9', '2-1-2-2-1-0-0-4-40', '2-1-1-1-2-2-0-4-98', '2-0-1-0-2-0-0-4-96', '2-1-2-2-0-2', '2-0-2-2-2-2-1-3', '2-0-0-1-0-1-1-3', '2-0-2-0-1-1-0-3-11', '2-0-1-2-2-0-0-4-45', '2-1-1-2-2-2-0-4-2', '1-1-2-1-3-3-0-4-7', '2-0-1-2-0-0-0-3-53', '1-1-2-1-3-0-0-4-1', '2-0-2-2-1-1-0-4-43', '2-1-1-0-0-2-0-3-41', '2-0-1-0-0-1-1-3-1', '1-0-1-2-0-2', '2-1-2-0-1-0-0-4-48', '2-1-0-1-1-1', '1-1-1-1-0-2-0-3', '2-0-1-1-2-2-0-4-10', '2-0-0-1-2-0-0-4', '2-0-1-1-0-2-1-4-5', '1-0-2-1-1-0-0-4-44', '2-0-2-0-0-3-0-4', '2-0-2-1-1--1-0-3', '2-0-1-2-0-0-0-4-71', '2-0-2-1-1-0-0-3-58', '2-0-1-1-1-2-0-4-1', '1-0-1-1-1-2-0-4-1', '2-0-2-0-1-1-0-4-94', '2-0-2-0-2-3-0-4-71', '2-0-1-1-1-0-0-3-19', '2-1-2-0-1-0-0-4-45', '2-0-2-1-0-1-0-3-43', '2-1-1-0-2-3-0-3-100', '1-1-1-1-2-3-0-4-77', '1-0-2-1-2-0-1-4-11', '2-0-1-1-1-0-0-4-65', '2-1-2-1-0-2-0-4-8', '1-0-1-1-2-2-0-4-63', '2-0-1-1-2-1-0-4-91', '1-0-1-0-2-3-0-3', '2-1-2-1-1-0-0-4-35', '2-0-2-1-1-1-0-3-65', '2-0-1-1-0-0-0-3-54', '2-1-1-1-2-2-0-3-11', '2-0-1-1-0-0-0-3-81', '2-0-2-1-0-0-0-3-84', '1-0-1-1-3-0-0-4-57', '2-0-2-1-0-3-0-3', '2-1-1-0-2-2-0-4-76', '2-1-2-1-3-2-0-4-6', '2-1-2-1-1-2-0-4-37', '2-0-1-1-1-1-0-4-80', '1-0-1-1-2-1-0-4-86', '2-0-1-1-1-0-0-4-71', '2-1-1-0-2-1-1-3', '1-1-1-1-3-0-0-4-20', '2-1-1-0-0-0-0-4-98', '2-0-1-1-2-0-0-4-29', '2-0-1-0-3-2-0-4-56', '2-1-2-2-2-0', '2-1-1-0-2-3-0-3-95', '1-0-0-1-3-2-0', '2-1-1-2-1-3-0-4-79', '2-0-1-1-1-0-0-3-40', '2-0-1-0-1-0-0-4-66', '2-1-2-0-1-3-0-3-53', '2-1-1-1-0-0-0-4-44', '2-0-2-1-0-0-0-4-61', '2-0-1-2-0-0-0-4-98', '2-0-1-1-1-0-1', '2-0-2-1-0-2-0-4-6', '1-1-2-1-2-2', '2-0-0-1-2-2-0-3-25', '2-0-1-1-2-0-0-3-17', '2-1-2-0-2--1', '2-0-2-1-2-1-0-3-43', '2-1-2-1-0-1-0-3-45', '2-0-1-1-2-3-0-4-59', '2-0-1-2-2-0-0-4-16', '2-0-1-1-1-3-0-4-64', '2-0-2-1-0-2-0-3-33', '1-0-2-1-2-2-0-4-74', '2-1-2-1-2-0-0-4-87', '2-0-1-0-3-3-0-3-33', '2-0-2-1-1-3-0-4-10', '2-0-2-0-2-0-0-3-89', '2-0-1-2-0-1-0-4-99', '2-1-2-1-1-1-0-3-20', '1-0-2-0-3-0-0-4', '1-0-2-2-2-2-0', '2-1-1-1-1-3-0-4-15', '2-1-1-1-3-0-0-3-98', '2-0-1-1-2-3-0-3-43', '1-1-1-1-3-0-0-4-21', '1-0-1-1-0-1-1', '1-1-2-2-2-2-0-4', '1-0-1-1-3-0-0-4-12', '2-0-2-1-2-3-0-4-60', '2-1-2-0-1-3-0-4-39', '1-0-1-1-2-3-0-4-1', '2-0-1-1-3-0-0-4-28', '2-1-2-1-0-3-1-3-3', '2-0-2-2-1-0-0-4-12', '2-1-2-2-2-2-0-3-14', '1-1-1-0-2-0-0-3', '2-1-2-0-2-1-0-4-77', '1-1-2-2-3-1-0-3', '2-0-1-0-2-1-0-4-42', '2-0-2-1-2-1-0-3', '2-1-1-0-1-0-0-3-4', '2-1-1-1-2-2-0-3-78', '2-0-2-0-2-3-0-4-52', '2-1-1-1-2-1-0-3-63', '2-1-1-1-2-3-0-4-18', '2-0-1-1-1--1-0-3-19', '2-1-2-0-1-3-0-4-35', '2-1-2-0-0-2-0-4-39', '2-1-2-0-1-0-0-3-39', '1-0-1-0-3-3-0-3-11', '1-1-2-2-3-1-0', '2-0-1-1-2-3-0-4-84', '2-0-1-1-2-2-0-3-39', '2-1-1-1-2-2-1', '2-0-1-0-2-3-0-4-78', '2-1-1-1-1--1-0-3-100', '1-1-2-1-1-0', '1-0-2-0-3-0-0-4-31', '2-0-2-2-2-1-0-4-39', '1-1-2-0-2-2-0-4-88', '2-0-2-1-2-1-0-4-91', '2-1-1-0-2-3-0-4-100', '2-0-2-1-1-3-0-4-62', '2-0-2-0-2-2-0-4-8', '2-1-2-1-0-1-0-4-82', '2-0-1-1-1-2-0-4-25', '2-1-2-0-0-2-0-4-61', '1-1-2-2-0', '2-1-2-1-0-1-0-3-43', '2-0-1-1-2-2-0-3-2', '1-1-1-1-2-3-0-3-53', '1-0-1-0-3-2-0-4-49', '2-0-1-1-1-3-0-3-93', '2-0-2-1-1-0-0-4-9', '2-0-1-1-1-1-0-3-77', '2-0-2-0-0-2-1-4', '2-0-1-0-0-2-1', '2-1-2-1-0-1-0-4-57', '2-0-0-1-1-1-0-3', '2-1-2-1-2-2-0-4-15', '2-0-1-0-0-0-0-3-46', '2-1-0-0-2-1-0-3-80', '1-0-2-1-2-2-0-4-63', '2-0-2-1-1-3-0-4-75', '1-0-2-0-3-3-0-3-58', '2-0-2-1-1-3-0-3-46', '2-0-2-0-1-', '2-0-2-0-1-1-0-3-62', '2-1-2-0-2-1-0-4', '2-0-1-1-0-0-0-4-94', '1-0-1-1-2-2-0-4-57', '2-0-2-0-2-1-0-3-32', '2-0-2-0-0-2-0-3-89', '2-0-2-1-1-0-0-4-100', '2-0-2-0-0-1-0-4-70', '2-0-2-2-0-0-0-3-78', '2-1-2-0-0-1-0-3-33', '2-0-1-2-0-2-0-4-94', '2-0-2-1-0-1-1-3-5', '1-1-1-1-1-3-0', '2-1-2-1-0-1-0-4-36', '2-0-2-0-2-2-0-4-67', '2-0-1-0-3-0-1-4-3', '2-1-1-1-2-0-0-4-64', '2-0-1-0-3-1-0-4-10', '1-0-1-1-0-3-1', '2-0-1-2-1-0-0-4-4', '1-0-0-1-3-3-0-3-67', '2-1-2-1-0-0', '2-1-2-0', '1-1-1-1-0-2-0', '1-0-2-1-0-0-0-3-100', '2-1-1-1-0-0-0-4-13', '2-0-0-0-2-3-0', '2-0-2-1-1-2-0-3-71', '2-1-1-1-3-1-0-4-41', '2-0-2-1-0-2-0-3-8', '2-0-1-0-2-0-0-4-81', '2-1-1-2-0-0', '2-1-1-0-0-0-0-4-84', '2-1-1-1-0-0-0-3-47', '1-1-1-1-2-3-0-3-77', '2-0-1-0-2-0-1-3', '2-0-2-0-0-0-0-4-99', '2-0-1-1-3--1-0-3-40', '2-1-2-1-0-1-0-4-80', '1-0-1-1-0-0-0-3-92', '2-1-2-1-1-3-0-4-16', '2-0-1-0-1-3-0-3-37', '1-1-2-1-1-1', '2-0-0-1-0-0-0-3-11', '2-1-1-0-0-0-0-3', '1-0-1-1-3-0-0-4-97', '2-1-1-1-1-1-0-4-22', '2-0-2-0-2-0-0', '2-0-2-2-0-1-0-4-75', '2-0-2-2-1-0-0-4-44', '2-0-1-1-2-1-0-4-65', '2-1-1-0-0-3-0-4-4', '2-0-2-1-1-0-0-4-12', '2-1-2-1-2-1-0-4-70', '2-0-1-1-0-1-0-3-92', '2-0-1-0-1-0-0-4-53', '2-0-2-1-2-3-0-3-45', '2-1-2-2-2-0-0-4-14', '1-0-1-1-0-3-0-4-54', '2-0-1-1-2-2-0', '2-1-0-1-0-0-0-2', '2-1-1-1-0-0-0-4-21', '2-0-1-1-1--1-1-3', '2-0-1-1-0-0-0-3-1', '2-0-0-2-1-2-0-3-72', '2-1-1-1-1-0-0-4-74', '1-0-2-1-3-1-0', '1-1-1-1-3-1-0-4-8', '2-0-2-0-0-1-0-4-84', '1-0-1-1-2-0-0-4-87', '2-1-2-0-1-1-0-3-7', '2-0-1-0-2-2-0-4-38', '2-1-1-1-2-1-0-4-34', '2-0-2-0-1-3-0-3-72', '1-1-0-1-3-2-0-3-4', '2-0-2-0-2-3-0-3', '2-1-2-1-1-3-0-4-10', '1-0-1-1-3-0-0-4-55', '2-1-1-1-2-3-0-4-83', '2-0-2-1-0-0-0-4-52', '2-1-2-2-1-0-0-3-46', '2-0-1-0-3-0-0-4-52', '2-1-2-2-1-1-0-3', '2-0-1-0-0-2-0-4', '1-0-1-1-0-2-0-3-19', '2-0-2-0-2-2-0-4-42', '2-1-2-1-0-2-1-4-8', '2-0-1-1-0-2-0-4-66', '2-0-2-1-0-2-0-3-62', '2-0-1-2-0-2-1-4-1', '2-0-2-1-0-0-0-3-88', '2-1-1-0-3-3-0-3-50', '2-0-2-1-2-2-0-3-77', '2-0-1-1-2-0-0-3-35', '1-0-2-0-0-0', '2-1-2-1-0-1-0-4-45', '2-1-1-2-2-0-0-4-13', '2-0-1-0-1-0-0-3-40', '2-1-2-1-1-1-0-4-65', '1-1-1-1-2-3-0-4-48', '1-1-0-1-2-0-0-3-51', '2-0-1-1-1-3-0-3-43', '1-0-2-1-2-1-0-4-59', '2-0-1-1-0-3-0-3-98', '2-0-1-1-0-2-0-3-42', '2-0-1-0-2-2-0-4-18', '2-0-1-1-1-0-0-3-56', '2-0-1-1-1-1-0-4-33', '2-0-2-1-3-0', '1-0-2-1-3-1-0-4-17', '1-0-1-1-2-3-0-4', '1-1-1-0-3-0-0-3', '2-0-1-1-0-1-0-3-51', '2-0-2-1-1-3-0-4-46', '2-0-2-1-0-0-1-3-4', '2-0-2-0-1-3-0-4-60', '2-0-1-1-2-3-1-4-2', '2-0-1-1-1-0-1-4-7', '2-1-1-1-2-2-0-4-48', '2-0-2-0-2-0-0-3-24', '2-0-1-0-1-0-0-4-87', '2-0-1-1-0-0-0-4-87', '2-0-2-2-0-1-0-4-8', '2-0-2-0-1-3-0-4-1', '2-1-1-1-0-1-0-4-26', '2-0-2-1-1-0-0-4-88', '2-0-1-0-1-0-0-4-85', '2-1-2-1-2-0-0-3-64', '2-1-2-1-1-1-0-3-90', '2-1-2-1-2-1-0-4-54', '2-0-2-1-2-0-1', '2-0-1-0-1-0-0-4-3', '2-0-0-0-0-0-0', '2-1-1-1-2-3-0-4-9', '2-0-1-0-3-0-0-4', '2-0-1-0-1-0-0-3-61', '2-0-1-1-0-0-0-4-8', '2-0-1-0-3-1-0-3-22', '1-0-1-2-3-1-0-4', '2-1-1-0-1-0-0-4-49', '1-0-2-2-0-2-0-3-99', '1-1-2-0-3-3', '2-0-2-1-2-3-0-3-65', '2-0-0-0-2-3-0-3-88', '1-0-1-1-3-3-0-3-31', '1-0-1-1-3-2-0-4-8', '2-0-1-0-1-2-0-4-28', '2-1-1-1-3-2-1-4', '2-1-1-1-2-0-0-3-36', '2-0-0-1-0-2-1-3-1', '2-1-1-1-3-1-0-4-6', '1-0-2-0-0-2-1-4-3', '1-1-1-1-2-1-0-4-46', '2-0-2-1-2-0-0-4-88', '2-1-1-0-0-0-0-4-99', '2-0-2-0-1-2-0-4-38', '1-0-2-1-3-3-0-4-62', '1-0-1-2-3-1-0-4-16', '1-0-0-1-3-0-0-3-39', '2-0-1-1-2-1-0-4-75', '2-0-1-1-1-1-0-4-86', '2-0-2-1-2-0-0-3-18', '2-0-1-0-3-3-0-3-100', '1-0-1-0-3-3-0', '1-1-1-1-3-3-0-4-4', '2-1-2-1-0-2-0-4-12', '2-0-1-1-1-3-0-4-79', '2-0-1-1-2-1-0-4-17', '2-0-2-1-1-1-0-3-17', '2-0-1-1-0-1-0-4-43', '2-0-1-2-2-2-0-4-23', '2-1-2-1-2-1-0-4-20', '1-0-0-1-2-0-0-3', '2-0-2-2-2-2-0-3-48', '2-0-1-1-0-2-0-3-37', '1-0-2-1-0-0-0-3-50', '2-0-1-1-2-3-0-3-80', '2-0-2-1-1-0-0-3-56', '2-1-2-1-2-0-0-4-35', '2-0-2-2-1-0-0-4-3', '2-0-2-1-0-0-0-4-26', '2-0-1-1-1-2-0-4-98', '2-1-2-1-0-0-0-4-15', '2-1-2-1-2-1-0-4-100', '1-1-2-1-0-0-0-4-49', '2-1-1-1-1-1-0-4-48', '2-0-2-0-0-0-0-3-72', '1-0-1-1-3-2-0-3-68', '2-0-2-1-2-3-0-3-32', '2-0-1-1-2-0-0-4-75', '2-1-1-0-2-1-1-4-4', '1-0-2-1-2-3-0-4-66', '2-0-1-1-3-0-0-4-23', '2-0-2-2-1-1-0-4-72', '2-1-1-1-1-1-0-4-85', '2-0-2-2-1-3-0-4-73', '2-1-2-0-1-0-0-3-77', '2-1-1-1-2-3-0-4-99', '1-1-2-1-3-2-0-3-52', '2-0-2-2-0-3-0-4-62', '2-0-1-0-0-0-0-3-9', '2-0-1-0-1-1-0-4-38', '2-1-2-1-2-3-0-4-89', '2-0-2-0-3-2-0-3-12', '2-0-1-1-2-2-0-4-25', '2-0-0-0-2-0', '2-0-1-1-2-0-0-4-14', '2-0-0-1-2-2-0-3-34', '2-0-2-0-0-1-0-4-76', '2-0-1-1-0-0-0-4-4', '2-0-2-1-1-1-0-4-43', '1-1-2-1-3-0-0-4-9', '2-1-1-1-0-1-0-4-95', '1-0-2-0-0-0-1-4-3', '2-0-2-2-1-1-0-4-9', '2-1-2-1-1-1-0-3-49', '2-0-2-1-0--1-0-3', '2-0-2-0-0-0-0-3-34', '2-0-2-2-3-2-0', '2-1-0-1-2-1-0-4-21', '2-0-1-0-1-1-0-3-35', '2-0-2-1-1-0-0-4-32', '2-1-2-0-2-3-0-4-53', '2-0-1-0-2-0-0-4-6', '1-0-2-1-0-1-1-4-1', '2-1-2-1-0-3', '2-0-1-1-0-3-0-4-6', '2-1-1-1-1-1-0-4-25', '1-1-1-2', '2-1-1-0-0-2-0-3-76', '2-0-1-0-2-0-0-4-48', '2-0-1-1-2-2-0-4-42', '2-1-2-2-0-0-0-3-14', '2-1-0-1-1-2-0', '1-0-2-2-1-3', '2-0-1-1-1-2-0-4-45', '2-1-1-1-2-1-0-3-93', '2-0-1-1-2-0-0-3-41', '1-1-2-1-3-3-0-4-5', '1-1-2-1-2-1-0-4-54', '2-1-1-2-0-0-0-4-89', '2-0-0-1-2-0-0-3-51', '1-0-1-1-3-0-0-3-24', '2-0-2-1-1-0-0-4-82', '2-1-1-0-2-0-0-4-92', '1-0-0-1-1-1', '2-0-1-0-2-1-0-4-36', '2-0-1-1-0-2-0-3-24', '2-0-1-1-0-3-0-4-80', '1-0-2-1-3-3-0-4-55', '1-0-2-0-3-1-0-4-33', '2-1-2-2-1-3', '2-0-1-1-0-1-0-4-99', '2-1-2-2-3-3-0-3-80', '2-1-1-0-2-2-0-3-61', '2-0-1-0-3-1-0-4-4', '2-0-2-1-0-0-0-3-57', '2-0-1-2-1-0-0-4-44', '2-0-2-2-1-2-0-4-30', '2-0-2-1-1-0-0-4-98', '2-0-1-1-1-2-0-4-75', '2-0-1-2-0-0-0-3-71', '2-0-1-1-1-3-0-4-51', '2-0-1-0-0-2-0-3-97', '1-0-2-1-3-0-0-4-88', '2-1-1-0-2-1-0-3-55', '2-0-1-1-0-2-0-4-8', '2-0-2-1-0-0-0-3-53', '1-0-2-1-2-1-0-4-72', '2-1-2-2-1-2-0-4-53', '2-0-1-1-1-0-0-4-59', '2-0-2-1-1-0-0-3-20', '2-0-0-0-0-0-0-2', '1-0-0-1-1-0-0-3-49', '2-0-2-1-3-2-0-3-21', '1-0-1-1-3-2-0-4-27', '2-1-2-1-1-0-0-3-47', '2-0-2-0-3-0-0-4-4', '2-0-2-2-1-3-0-3-42', '2-1-0-1-0-3-0', '2-1-1-1-0-1-0-3-33', '2-0-1-1-0-2-0-4-99', '2-0-2-1-2-3-0-3-53', '2-0-2-2-2-2-0-4-80', '2-0-2-2-2-3-0-4-76', '2-1-2-0-0-1-0', '2-0-1-2-0-0-1-4', '2-0-1-1-0-3-0-4-44', '2-0-1-1-3-0-0-3-30', '1-0-2-1-2-0-0-4-71', '2-1-1-1-2-1-0-4-98', '2-0-1-1-2-0-0-4-37', '2-0-2-1-2-0-1-4-5', '2-1-2-0-0-0-0-4-75', '2-0-2-0-0-1-1-3-1', '2-0-2-1-0-0-0-4-67', '2-0-2-1-0-0-0-4-51', '2-0-2-1-2-3-0-3-13', '2-0-2-1-0-3-0-4-67', '2-1-1-0-2-1', '2-0-2-0-0-1-1-3-2', '2-0-1-2-2-0-0-4-34', '1-0-0-1-0-1-0-3', '1-1-0-1-2-3-0-3-18', '2-0-2-1-0-0-0-4-77', '2-0-2-1-3-1-0-4-35', '2-0-1-1-2-0-0-4-39', '2-0-2-1-2-1-0-3-32', '2-1-1-1-0-0-0-3-76', '2-1-2-1-2-2-0-3-98', '2-1-1-1-0-3-0-4-89', '2-1-1-1-2-3-0-4-8', '2-0-1-0-1-0-0-3-25', '2-0-0-1-0-0-0', '2-1-2-1-0-0-0-4-36', '2-0-2-1-1-0-0-4-99', '2-0-1-0-2-1-0-4-7', '2-0-1-2-1-0-0-3-46', '2-0-2-2-1-1-0-3-42', '2-1-1-0-2-1-0-4-28', '2-1-1-1-2-3-0-3-18', '1-1-1-1-2-2-0-4-15', '2-1-2-1-2-2-0-4-28', '2-0-1-1-2-1-0-3-24', '2-0-1-1-0-1-1-4-1', '2-0-2-1-0-0-0-4-29', '1-1-2-1-1-3', '2-0-2-0-0-3-0-3-78', '2-0-2-1-3-2-0-4-35', '2-0-2-1-2-0-0-4-76', '2-1-2-1-1-0-0-4-74', '2-0-2-0-0-3', '2-0-2-1-2-3-0-3-33', '2-0-0-1-2-2-0-3-84', '2-1-2-0-2-3-0-3-32', '2-0-2-2-0-1-0-4-19', '2-0-2-1-0-1-0-3-59', '2-1-1-2-0-0-0-3', '2-1-2-1-2-2-0-3-8', '2-1-1-0-2-1-0-4-14', '2-0-2-1-0-1-0-3-7', '2-0-1-1-1-2-0-4-95', '2-1-2-1-1-1-0-4-64', '2-1-1-1-2-2-0-4-82', '2-0-1-0-0-0-0-3-33', '2-0-2-1-2-2-0-3-34', '2-0-1-2-2-3-0-4-98', '2-1-2-2-0-1-0-3-36', '2-1-1-1-1-0-0-4-20', '1-0-2-1-3-0-0-3-71', '1-0-1-1-3-0-0-4-6', '2-0-2-2-1-0-1-3-2', '2-0-2-1-1-3-0-3-11', '1-0-2-1-2-3-0-3-60', '2-0-2-1-0-3-0-3-14', '2-1-2-2-3-1-0-4-1', '1-0-2-1-0-3-0-4', '2-0-1-2-0-0-0-4-77', '2-0-0-1-2-2-0-3', '1-1-1-1-3-1-0-3-48', '2-1-0-1-2-1-0-3-38', '1-0-2-1-2-0-0-4-21', '2-1-2-2-2-1-0-4-39', '2-0-1-0-2-2-1-4-8', '2-1-2-2-1-1-0-4-77', '1-0-1-1-3-0-0-4-59', '2-1-2-1-0-1-0-4-52', '2-0-1-1-3-1-0-3-47', '2-0-1-2-1-3-0-4', '2-0-1-0-1-1-0-4-66', '1-0-1-1-2-1-1', '1-1-2-1-3-3-0-4-19', '1-0-1-1-3-2-0-4-97', '2-0-2-2-0-0-0-4-27', '2-1-1-2-0-0-0-3-34', '1-0-2-2-2-3-1-4-2', '1-1-0-1-0-0-0-3-100', '2-0-2-1-1-2-0-3-84', '2-0-1-1-2-1-1-4-6', '2-0-1-2-0-0-0-3-63', '2-1-1-0-0-1-0-4-31', '1-0-2-1-3-1-0-4-100', '2-1-1-1-3-3-0', '2-0-0-2-0--1-0-4-26', '2-1-1-1-3-2-0-3-7', '1-1-1-1-2-0-0-4-5', '2-0-2-1-1-2-0-3-61', '2-0-1-1-0-2-0-3-98', '1-0-1-1-2-0-0-4-52', '2-1-2-2-0-0-0-3-84', '1-1-1-1-3-0-0-4-4', '2-1-1-1-0-2-0-4-26', '1-1-1-1-2-3-0-4-18', '2-0-1-2-0-1-1-4-9', '2-0-2-0-3-0-1-4-7', '2-0-2-1-2-1-0-3-23', '2-0-1-2-1-2-0-4-82', '2-1-2-2-1-2-0-4-18', '2-1-2-1-0-3-0', '2-0-2-1-2-2-0-4-31', '2-1-2-1-0-2-0-4-80', '1-1-1-1-2-1-0-3-31', '2-1-2-1-0-3-0-4-41', '2-1-2-1-2-3-0-4-96', '2-0-2-0-0-2-0-4-7', '1-1-0-1-2-1-0-3-3', '2-0-1-2-2-0-0-4-97', '2-0-1-1-2-2-0-4-11', '2-0-2-1-1-2-1', '2-0-0-1-0--1-0-3-21', '2-1-2-2-1-2-0-4-29', '2-0-2-1-2-0-0-4-85', '2-1-1-0-3-3-0-4', '2-0-1-1-0-2-0-4-20', '2-0-2-1-3-0-0', '2-0-2-0-0-2-0-4-91', '2-0-1-1-0-1-0-2', '1-0-1-1-1-0-0-4-54', '2-0-2-0-1-1-0-4-63', '2-0-1-0-1-2-0-3-82', '2-1-1-1-1-2-0-3-53', '1-0-2-1-0-2-1-4-4', '2-1-1-0-0-0-0-3-15', '1-0-0-1-3-0-0-3-25', '1-1-2-1-1-1-0-4-50', '2-1-1-1-2-2-0-4-33', '2-1-2-0-1-2-0-4-39', '2-1-0-1-1-1-0-3-70', '2-1-2-1-2-3-0-4-70', '2-1-2-1-2-0-0', '2-1-2-0-2-0-0-4-20', '2-0-1-0-0-0-0-3-85', '2-0-2-1-1-2-0-3-20', '2-0-1-1-2-2-0-3-3', '2-0-2-2-3-1-0-4', '2-0-1-0-0-0-0-4-53', '2-0-2-1-2-3-0-3-89', '1-1-0-1-3-1-0-3-47', '2-1-1-1-3-3-0-4-4', '2-1-2-1-2-3-0-4-1', '1-1-1-1-3-3-1-3', '2-0-1-0-2-2-0-4-50', '1-0-2-2-2-1-0-3-99', '2-1-1-1-1-0-0-4-77', '2-0-1-1-0-1-0-3-85', '2-1-2-2-3-3-1', '1-1-2-1-2-0-0-4-86', '2-0-1-1-1-0-0-3-47', '2-1-1-1-2-0-0-3-40', '2-0-1-1-1-0-0-3-23', '2-1-1-0-2-3-0-4-71', '2-1-0-0', '1-1-1-1-3-0-0-4-53', '2-1-2-1-0-0-0-4-58', '2-0-2-2-1-0-0-4', '2-1-1-1-1-1-0-4-75', '1-0-0-0-1-1-0-3', '2-1-1-1-2-0-0-4-37', '2-1-2-1-1-1-0-4-57', '2-0-1-1-0-1-0-4-48', '2-0-1-0-0-0-0-4-17', '2-1-2-1-3-1-0-4-97', '1-0-2-2-1-2-0-3', '2-1-2-1-1-0-0-3-56', '2-0-2-0-0-2-1-4-3', '2-0-0-1-2-0-1-3-7', '1-1-2-1-2-2-0-4-55', '1-0-0-0-0-0-0-3-51', '2-0-2-1-2-0-0-4-58', '1-0-1-1-3-0-0-3-67', '1-0-2-1-3-1-0-4-5', '1-0-1-0-0-0-0-4-100', '2-1-1-0-2-2-0-3-10', '2-0-1-1-3-2-0-4-85', '2-0-1-1-3-0-0-4-46', '2-1-2-1-1-0-1-4', '2-1-2-0-3', '2-1-0-1-1-0-0-3-75', '2-0-2-0-2-3-0-4-61', '1-1-2-0-3-3-0-4-36', '2-0-2-1-1-1-0-4-63', '2-0-1-0-0-0-0-3-56', '2-0-2-2-1-2-0-3-26', '1-0-2-1-3-3-0-4-25', '2-0-1-1-1-3-0-3-79', '2-1-1-1-1-3-0-4-69', '2-0-1-0-2-2-0-4-74', '2-0-2-1-1-0-0-4-73', '2-0-1-0-1-1-0-4-79', '2-0-1-1-2-2-0-3-48', '2-1-2-1-0-2-0-3-90', '1-0-1-1-0-2-0-4-55', '2-1-2-1-1-3-0-3-6', '2-0-2-0-1-0-0-4-6', '2-0-2-2-0-1-0-3-10', '2-1-2-1-2-2-0-4-45', '1-1-2-1-2-1-0-4-98', '2-1-2-1-0-0-0-4-89', '2-1-1-1-2-3-0-3-23', '2-0-1-0-1-0-0-4-5', '1-0-2-1-1-0-0-3', '2-1-2-2-1-3-0-4', '2-0-1-1-2--1-0-3', '2-0-1-2-0-3-0-3-81', '2-0-1-1-1-2-0-4-67', '2-1-0-2-3-2-0', '1-0-0-0-3-3-0', '2-0-2-1-2-0-0-3-61', '1-0-2-2-0-0-0-4-99', '1-0-0-2-3-2', '2-0-1-1-2-1-0-3-45', '2-0-1-1-3-0-0-4-44', '2-1-1-1-2-2-0-4-92', '1-0-1-1-2', '2-0-1-1-2-0-1-4-7', '2-0-2-1-3-1-0-3-25', '2-1-1-2-0-3-0-4-40', '2-0-1-1-1-1-0-3-45', '2-0-2-1-2-1-0-3-4', '2-1-2-1-0-3-0-4-92', '2-1-1-1-0-0-0-3-87', '2-1-2-2-3-0-1-4', '2-0-1-1-0-1-0-3-36', '1-0-2-0-3-0-0-3-43', '2-1-2-0-0-0-0-4-68', '2-0-1-1-2-3-0-4-66', '2-0-1-0-0-2-0-4-91', '2-0-2-0-3-2-0-3', '1-1-0-1-1-0', '2-1-2-0-2-1-0-4-78', '1-0-2-2-3-3-0-4-64', '2-1-1-0-2-3-0-4-5', '1-0-1-1-2-3-1-3-6', '2-0-2-2-3-2-0-4-1', '2-0-0-2-0-0-0-4-38', '2-0-1-0-1-1-0-4-95', '2-1-2-1-2-3-0-4-80', '2-0-1-1-0-0-0-4-1', '2-0-2-2-1-3-0-3-33', '1-0-1-1-0-0-0-4-93', '2-0-2-1-2-1-0-4-70', '1-1-2-1-3-0-1', '2-0-1-2-0-0-0-4-22', '2-1-2-0-0-0-0-3-14', '2-1-2-1-2-2-0-3-35', '2-1-1-1-3-1-0-4-29', '2-0-2-1-0-2-0-4-57', '2-1-1-1-2-0-0-4-45', '2-1-1-2-0-1-0-3-26', '2-1-2-1-2-1-0-4-32', '2-0-1-1-0-2-0-4-49', '2-0-2-0-2-0-0-4-9', '2-1-2-1-1-3-0-3-70', '2-1-1-0-1-3-0-4-100', '2-0-1-2-2-2-0-4-2', '2-1-2-1-0-3-1-4-2', '2-0-1-0-1-0-0-3-1', '2-1-2-0-0-1-0-4-63', '2-0-2-1-0-1-0-4-52', '1-0-2-1-2-0', '2-1-2-1-2-1-1-3-7', '2-0-2-2-0-2-1-4-2', '2-0-1-2-0-2-0-4-2', '1-0-2-1-3-0-0-4-16', '2-1-2-1-1-2-0-4-69', '2-1-2-0-2-2-0-3-53', '2-0-2-0-1-0-0-3-88', '2-0-1-0-3-0-1', '2-0-2-1-1-1-0-3-41', '2-0-0-1-0-3-0-3', '1-1-2-1-3-3-0-4-66', '2-0-1-1-1-1-0-4-8', '2-1-1-1-0--1-0-3-78', '2-1-2-1-2-1-0-4-23', '2-0-2-2-2-2-0-4-97', '1-0-2-2-1-2-0-4-50', '2-0-2-0-1-2-0-3-8', '1-0-0-1-0-0-0-3-93', '2-0-1-1-1-2-0-3-60', '2-0-1-0-2-3-0-4-93', '1-0-2-0-3-3', '2-0-1-1-2-1-0-3-59', '2-1-2-1-1-2-0-4-64', '2-0-2-0-1-2-0-3-47', '1-1-1-1-3-1-0-3-49', '2-1-2-1-2-3-0-4-98', '2-0-1-1-1-1-0-4-67', '1-0-1-2-3-3-0-3-42', '2-0-1-1-1-0-0-4-89', '2-0-0-1-0-1-0-3-65', '2-1-1-2-2-1-0-3-15', '2-1-1-2-3-3-0-4', '2-1-2-2-0-0-0-3-80', '2-0-2-2-2-2-0-4', '1-1-2-1-3-3-1-4-3', '1-0-0-1-2-1-0-3', '2-1-1-2-2-0-0-4-42', '2-0-2-1-1-1-0-3-10', '1-1-2-0-0-2', '2-1-2-0-1-0-0-4-37', '2-0-1-2-0-3-0-3-3', '1-0-0-0-0', '2-0-1-1-1-0-0-4-61'])"
      ]
     },
     "execution_count": 10,
     "metadata": {},
     "output_type": "execute_result"
    }
   ],
   "source": [
    "df.keys()"
   ]
  },
  {
   "cell_type": "code",
   "execution_count": null,
   "metadata": {
    "collapsed": true
   },
   "outputs": [],
   "source": []
  }
 ],
 "metadata": {
  "anaconda-cloud": {},
  "kernelspec": {
   "display_name": "Python 3",
   "language": "python",
   "name": "python3"
  },
  "language_info": {
   "codemirror_mode": {
    "name": "ipython",
    "version": 3
   },
   "file_extension": ".py",
   "mimetype": "text/x-python",
   "name": "python",
   "nbconvert_exporter": "python",
   "pygments_lexer": "ipython3",
   "version": "3.6.8"
  }
 },
 "nbformat": 4,
 "nbformat_minor": 1
}
