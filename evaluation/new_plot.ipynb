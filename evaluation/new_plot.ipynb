{
 "cells": [
  {
   "cell_type": "code",
   "execution_count": 1,
   "metadata": {},
   "outputs": [],
   "source": [
    "import numpy as np\n",
    "import pickle\n",
    "import os\n",
    "import math\n",
    "import matplotlib.pyplot as plt\n",
    "import math\n",
    "import numpy as np\n",
    "import sys\n",
    "sys.path\n",
    "sys.path.append('../models')\n",
    "sys.path.append('../simulation')\n",
    "import TS_personal_params_pooled as pp\n",
    "import TS_global_params_pooled as gtp\n",
    "%matplotlib inline"
   ]
  },
  {
   "cell_type": "code",
   "execution_count": 2,
   "metadata": {},
   "outputs": [],
   "source": [
    "def get_to_plot_actions(actions):\n",
    "    \n",
    "    skeys = sorted(actions.keys())\n",
    "    to_plot = []\n",
    "    for k in skeys:\n",
    "        to_plot.append(sum(actions[k])/len(actions[k]))\n",
    "    return to_plot\n",
    "def get_to_plot_regrets(actions):\n",
    "    \n",
    "    skeys = sorted(actions.keys())\n",
    "    to_plot = []\n",
    "    for k in skeys:\n",
    "        to_plot.append(np.array(actions[k]).mean())\n",
    "    return to_plot"
   ]
  },
  {
   "cell_type": "code",
   "execution_count": 3,
   "metadata": {},
   "outputs": [],
   "source": [
    "def plot_and_save_dict(d,title,save_title,save=False,i=None,ax=None):\n",
    "    x =get_to_plot_actions(d['actions'])\n",
    "    print(np.array(x[100:]).mean())\n",
    "    #plt.figure(1) \n",
    "    #ax[0][i].ylim(.45,1)\n",
    "    #ax[0][i].yticks(np.arange(.45, 1, step=0.15))\n",
    "    ax[0][i].plot(x)\n",
    "    \n",
    "    plt.ylabel('Percent correct action rho*')\n",
    "    plt.xlabel('Decision times')\n",
    "    plt.title(title)\n",
    "    if save:\n",
    "        plt.savefig('{}_{}_percent_correct_action.png'.format(save_title,title))\n",
    "    to_plotr =  get_to_plot_regrets(d['regrets'])\n",
    "    #plt.figure(2) \n",
    "#to_plotr = [to_plotr[i] for i in range(0,len(to_plotr),5)]\n",
    "    #ax[1][i].plot(to_plotr)\n",
    "    #plt.ylabel('Regret')\n",
    "    #plt.xlabel('Decision times')\n",
    "    #plt.title(title)\n",
    "    #if save:\n",
    "    #    plt.savefig('{}_{}_regret.png'.format(save_title,title))"
   ]
  },
  {
   "cell_type": "code",
   "execution_count": 233,
   "metadata": {},
   "outputs": [],
   "source": [
    "with open('../../Downloads/cases_to_plot.pkl','rb') as f:\n",
    "    pooled = pickle.load(f)"
   ]
  },
  {
   "cell_type": "code",
   "execution_count": 224,
   "metadata": {},
   "outputs": [],
   "source": [
    "steps = steps+[k['steps'] for k in d['history'].values() if k['avail'] and k['decision_time']]\n"
   ]
  },
  {
   "cell_type": "code",
   "execution_count": 234,
   "metadata": {},
   "outputs": [],
   "source": [
    "with open('../../Downloads/to_save_personalized.pkl','rb') as f:\n",
    "    personalized = pickle.load(f)"
   ]
  },
  {
   "cell_type": "code",
   "execution_count": 235,
   "metadata": {},
   "outputs": [],
   "source": [
    "with open('../../Downloads/to_save_batch.pkl','rb') as f:\n",
    "    batch = pickle.load(f)"
   ]
  },
  {
   "cell_type": "code",
   "execution_count": 64,
   "metadata": {},
   "outputs": [],
   "source": [
    "def plot_all_special():\n",
    "    \n",
    "    fig, ax = plt.subplots(nrows=1, ncols=3)\n",
    "    fig.tight_layout( w_pad=2.5, h_pad=1.0)\n",
    "\n",
    "    #'case_one','case_two',\n",
    "    cases = ['case_one','case_two','case_three']\n",
    "    #plt.setp(ax[:],  yticks = np.arange(0, .3, step=0.05),ylim = [0,.3])\n",
    "    #plt.setp(ax[1,:],  yticks = np.arange(0, .5, step=0.05),ylim = [0,.5])\n",
    "    #'Homogenous','Bi-modal',\n",
    "    \n",
    "    titles = ['Homogenous','Bi-modal','Smooth']\n",
    "    offset = 5\n",
    "    for i in range(len(cases)):\n",
    "            if i==0:\n",
    "                plt.setp(ax[0],  yticks = np.arange(0, .15, step=0.05),ylim = [0,.15])\n",
    "                ax[i].set_ylabel('Average regret')\n",
    "            if i==1:\n",
    "                \n",
    "                plt.setp(ax[1],  yticks = np.arange(0, .3, step=0.05),ylim = [0,.3])\n",
    "                ax[i].set_xlabel('Decision times')\n",
    "            if i==2:\n",
    "                plt.setp(ax[2],  yticks = np.arange(0, .3, step=0.05),ylim = [0,.3])\n",
    "            ax[i].set_title(titles[i])\n",
    "            \n",
    "            b =get_to_plot_actions(batch[cases[i]]['regrets'])\n",
    "            #labels = ['{}'.format(i) for i in range(0,len(b),15) ]\n",
    "            \n",
    "            ax[i].plot([b[j] for j in range(0,len(b),offset)],'o-',label='Complete')\n",
    "            \n",
    "            #print(len([b[j] for j in range(0,len(b),25)]))\n",
    "          \n",
    "            p =get_to_plot_actions(personalized[cases[i]]['regrets'])\n",
    "            ax[i].plot([p[j] for j in range(0,len(p),offset)],'+-',label='Person-specific')\n",
    "         \n",
    "            po =get_to_plot_actions(pooled[cases[i]]['regrets'])\n",
    "            ax[i].plot([po[j] for j in range(0,len(po),offset)],label='IntelligentPooling')\n",
    "            xx=[i for i in range(int(len([b[j] for j in range(0,len(b),offset)])/4),len([b[j] for j in range(0,len(b),offset)]),int(len([b[j] for j in range(0,len(b),offset)])/4))]\n",
    "            #print(xx)\n",
    "            print([j for j in range(0,len(b),offset)])\n",
    "            xx = [20, 40, 60, 80]\n",
    "            labels = ['{}'.format(i) for i in [100,200,300,400] ]\n",
    "            #labels = ['{}'.format(i*offset) for i in xx ]\n",
    "            \n",
    "            #print(labels)\n",
    "            #print(xx)\n",
    "            #print(len(labels))\n",
    "            #print(len(xx))\n",
    "            ax[i].set_xticks(xx)\n",
    "            ax[i].set_xticklabels(labels)\n",
    "    plt.legend(bbox_to_anchor=(1.15, .5)) \n",
    "    plt.savefig('location_pretreatment_regret_12weeks',dpi=300, bbox_inches='tight')"
   ]
  },
  {
   "cell_type": "code",
   "execution_count": 83,
   "metadata": {},
   "outputs": [],
   "source": [
    "def plot_all_s():\n",
    "    \n",
    "    fig, ax = plt.subplots(nrows=1, ncols=3)\n",
    "    fig.tight_layout( w_pad=2.5, h_pad=1.0)\n",
    "\n",
    "    #'case_one','case_two',\n",
    "    cases = ['case_three']\n",
    "    plt.setp(ax[:],  yticks = np.arange(0, 1, step=0.15),ylim = [0,1])\n",
    "    #plt.setp(ax[1,:],  yticks = np.arange(0, .5, step=0.05),ylim = [0,.5])\n",
    "    #'Homogenous','Bi-modal',\n",
    "    titles = ['Homogenous','Bi-modal','Smooth']\n",
    "    offset = 10\n",
    "    for i in range(len(cases)):\n",
    "            \n",
    "            if i==0:\n",
    "                \n",
    "                ax[i].set_ylabel('Percent correct action chosen $\\\\rho^*$')\n",
    "            if i==1:\n",
    "                ax[i].set_xlabel('Decision times')\n",
    "            ax[i].set_title(titles[i])\n",
    "            \n",
    "            b =get_to_plot_actions(batch[cases[i]]['actions'])\n",
    "            #labels = ['{}'.format(i) for i in range(0,len(b),15) ]\n",
    "            \n",
    "            ax[i].plot([b[j] for j in range(0,len(b[100:400]),offset)],'o-',label='Complete')\n",
    "            \n",
    "            #print(len([b[j] for j in range(0,len(b),25)]))\n",
    "          \n",
    "            p =get_to_plot_actions(personalized[cases[i]]['actions'])\n",
    "            ax[i].plot([p[j] for j in range(0,len(p[100:400]),offset)],'+-',label='Person-specific')\n",
    "         \n",
    "            po =get_to_plot_actions(pooled[cases[i]]['actions'])\n",
    "            ax[i].plot([po[j] for j in range(0,len(po[100:400]),offset)],label='IntelligentPooling')\n",
    "            xx=[i for i in range(int(len([b[j] for j in range(0,len(b),offset)])/4),len([b[j] for j in range(0,len(b),offset)]),int(len([b[j] for j in range(0,len(b),offset)])/4))]\n",
    "            #print(xx)\n",
    "            #print([j for j in range(0,len(b),offset)])\n",
    "            #xx = [20, 40, 60, 80]\n",
    "            #labels = ['{}'.format(i) for i in [100,200,300,400] ]\n",
    "            #labels = ['{}'.format(i*offset) for i in xx ]\n",
    "            \n",
    "            #print(labels)\n",
    "            #print(xx)\n",
    "            #print(len(labels))\n",
    "            #print(len(xx))\n",
    "            #ax[i].set_xticks(xx)\n",
    "            #ax[i].set_xticklabels(labels)\n",
    "    plt.legend(bbox_to_anchor=(1.15, .5)) \n",
    "   # plt.savefig('location_pretreatment_percent_action_12weeks',dpi=300, bbox_inches='tight')\n",
    "\n",
    "\n",
    "\n"
   ]
  },
  {
   "cell_type": "code",
   "execution_count": 84,
   "metadata": {},
   "outputs": [
    {
     "name": "stderr",
     "output_type": "stream",
     "text": [
      "No handles with labels found to put in legend.\n"
     ]
    },
    {
     "data": {
      "image/png": "[encoded data removed]",
      "text/plain": [
       "<Figure size 432x288 with 3 Axes>"
      ]
     },
     "metadata": {
      "needs_background": "light"
     },
     "output_type": "display_data"
    }
   ],
   "source": [
    "plot_all_s()"
   ]
  },
  {
   "cell_type": "code",
   "execution_count": 231,
   "metadata": {},
   "outputs": [],
   "source": [
    "def plot_all_skewed():\n",
    "    \n",
    "    fig, ax = plt.subplots(nrows=1, ncols=1)\n",
    "    fig.tight_layout( w_pad=2.5, h_pad=1.0)\n",
    "\n",
    "    #'case_one','case_two',\n",
    "    cases = ['case_three']\n",
    "    plt.setp(ax,  yticks = np.arange(.3, 1, step=0.15),ylim = [.45,.9])\n",
    "    #plt.setp(ax[1,:],  yticks = np.arange(0, .5, step=0.05),ylim = [0,.5])\n",
    "    #'Homogenous','Bi-modal',\n",
    "    titles = ['Smooth']\n",
    "    offset = 1\n",
    "    for i in range(len(cases)):\n",
    "            if i==0:\n",
    "                ax.set_ylabel('Percent correct action chosen $\\\\rho^*$')\n",
    "            if i==0:\n",
    "                ax.set_xlabel('Decision times')\n",
    "            ax.set_title(titles[i])\n",
    "            \n",
    "            b =get_to_plot_actions(batch[cases[i]]['actions'])\n",
    "            #labels = ['{}'.format(i) for i in range(0,len(b),15) ]\n",
    "            \n",
    "            ax.plot([b[j] for j in range(0,len(b)-300,offset)],'o-',label='Complete')\n",
    "            \n",
    "            #print(len([b[j] for j in range(0,len(b),25)]))\n",
    "          \n",
    "            p =get_to_plot_actions(personalized[cases[i]]['actions'])\n",
    "            ax.plot([p[j] for j in range(0,len(p)-300,offset)],'+-',label='Person-specific')\n",
    "         \n",
    "            po =get_to_plot_actions(pooled[cases[i]]['actions'])\n",
    "            ax.plot([po[j] for j in range(0,len(po)-300,offset)],label='IntelligentPooling')\n",
    "            xx=[i for i in range(int(len([b[j]-300 for j in range(0,len(b),offset)])/4),len([b[j] for j in range(0,len(b),offset)]),int(len([b[j] for j in range(0,len(b),offset)])/4))]\n",
    "            labels = ['{}'.format(i*offset) for i in xx ]\n",
    "            #print(labels)\n",
    "            #print(xx)\n",
    "            #print(len(labels))\n",
    "            #print(len(xx))\n",
    "            ax.set_xticks(xx)\n",
    "            ax.set_xticklabels(labels)\n",
    "    plt.legend(bbox_to_anchor=(1.15, .5)) \n",
    "    #plt.savefig('location_pretreatment_percent_action_12weeks_skewed',dpi=300)"
   ]
  },
  {
   "cell_type": "code",
   "execution_count": 232,
   "metadata": {},
   "outputs": [
    {
     "data": {
      "image/png": "[encoded data removed]",
      "text/plain": [
       "<Figure size 432x288 with 1 Axes>"
      ]
     },
     "metadata": {
      "needs_background": "light"
     },
     "output_type": "display_data"
    }
   ],
   "source": [
    "plot_all_skewed()"
   ]
  },
  {
   "cell_type": "code",
   "execution_count": null,
   "metadata": {},
   "outputs": [],
   "source": []
  }
 ],
 "metadata": {
  "kernelspec": {
   "display_name": "Python 3",
   "language": "python",
   "name": "python3"
  },
  "language_info": {
   "codemirror_mode": {
    "name": "ipython",
    "version": 3
   },
   "file_extension": ".py",
   "mimetype": "text/x-python",
   "name": "python",
   "nbconvert_exporter": "python",
   "pygments_lexer": "ipython3",
   "version": "3.6.8"
  }
 },
 "nbformat": 4,
 "nbformat_minor": 2
}
