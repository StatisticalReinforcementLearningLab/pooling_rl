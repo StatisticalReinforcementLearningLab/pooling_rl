{
 "cells": [
  {
   "cell_type": "code",
   "execution_count": 25,
   "metadata": {
    "collapsed": true
   },
   "outputs": [],
   "source": [
    "import pandas as pd\n",
    "import pickle\n",
    "import numpy as np"
   ]
  },
  {
   "cell_type": "code",
   "execution_count": 2,
   "metadata": {
    "collapsed": true
   },
   "outputs": [],
   "source": [
    "\n",
    "root =  '../../../../Volumes/dav/HeartSteps/Data/'\n",
    "survey_file = 'Survey_Intake.csv'"
   ]
  },
  {
   "cell_type": "code",
   "execution_count": 3,
   "metadata": {
    "collapsed": false
   },
   "outputs": [],
   "source": [
    "to_write =  '../../../../Volumes/dav/HeartSteps/pooling_rl_shared_data/processed/'"
   ]
  },
  {
   "cell_type": "code",
   "execution_count": 10,
   "metadata": {
    "collapsed": false
   },
   "outputs": [],
   "source": [
    "def get_conscientiousness():\n",
    "    pass"
   ]
  },
  {
   "cell_type": "code",
   "execution_count": 4,
   "metadata": {
    "collapsed": false
   },
   "outputs": [],
   "source": [
    "def create_map():\n",
    "    slices = df.iloc[0]\n",
    "    the_map = {i:r for i,r in slices.iteritems()}\n",
    "    return the_map"
   ]
  },
  {
   "cell_type": "code",
   "execution_count": 5,
   "metadata": {
    "collapsed": false
   },
   "outputs": [],
   "source": [
    "rootdf = pd.read_csv('{}{}'.format(root,survey_file))\n"
   ]
  },
  {
   "cell_type": "code",
   "execution_count": 6,
   "metadata": {
    "collapsed": false
   },
   "outputs": [],
   "source": [
    "df = pd.read_csv('{}{}'.format(root,survey_file))\n",
    "df = df.drop([0,1])\n",
    "df=df.rename(columns=create_map())\n",
    "df=df.drop([2])"
   ]
  },
  {
   "cell_type": "code",
   "execution_count": 7,
   "metadata": {
    "collapsed": false
   },
   "outputs": [],
   "source": [
    "start_consc = 'detail'\n",
    "end_consc = 'makeplans'"
   ]
  },
  {
   "cell_type": "code",
   "execution_count": 8,
   "metadata": {
    "collapsed": true
   },
   "outputs": [],
   "source": [
    "more_targets = ['fitapp','fittracker',]"
   ]
  },
  {
   "cell_type": "code",
   "execution_count": 9,
   "metadata": {
    "collapsed": false
   },
   "outputs": [],
   "source": [
    "start = [c for c in df.columns].index('vigact.days')\n",
    "end = [c for c in df.columns].index('sit.min')+1\n",
    "for i in range(start,end):\n",
    "    more_targets.append(df.columns[i])"
   ]
  },
  {
   "cell_type": "code",
   "execution_count": 10,
   "metadata": {
    "collapsed": true
   },
   "outputs": [],
   "source": [
    "start_self_eff = 'selfeff.tired'\n",
    "end_self_eff = 'selfeff.precip'"
   ]
  },
  {
   "cell_type": "code",
   "execution_count": 11,
   "metadata": {
    "collapsed": false
   },
   "outputs": [
    {
     "data": {
      "text/plain": [
       "['fitapp',\n",
       " 'fittracker',\n",
       " 'vigact.days',\n",
       " 'vigact.hrs',\n",
       " 'vigact.min',\n",
       " 'modact.days',\n",
       " 'modact.hrs',\n",
       " 'modact.min',\n",
       " 'walk10.days',\n",
       " 'walk.hrs',\n",
       " 'walk.min',\n",
       " 'sit.hrs',\n",
       " 'sit.min']"
      ]
     },
     "execution_count": 11,
     "metadata": {},
     "output_type": "execute_result"
    }
   ],
   "source": [
    "more_targets"
   ]
  },
  {
   "cell_type": "code",
   "execution_count": 16,
   "metadata": {
    "collapsed": true
   },
   "outputs": [],
   "source": [
    "start_act_choice = 'stairs'\n",
    "end_act_choice = 'stand'"
   ]
  },
  {
   "cell_type": "code",
   "execution_count": 12,
   "metadata": {
    "collapsed": true
   },
   "outputs": [],
   "source": [
    "def get_set(start,end):\n",
    "    c = [c for c in df.columns]\n",
    "    start_index = c.index(start)\n",
    "    end_index = c.index(end)\n",
    "    \n",
    "    return set([c[i] for i in range(len(c)) if i>=start_index and i<=end_index])"
   ]
  },
  {
   "cell_type": "code",
   "execution_count": 13,
   "metadata": {
    "collapsed": false
   },
   "outputs": [],
   "source": [
    "def get_measures_per_person(the_set):\n",
    "    to_return  = {}\n",
    "    \n",
    "    for i,row in df.iterrows():\n",
    "        if type(row['id'])==str:\n",
    "            temp = {s:row[s] for s in the_set}\n",
    "            theid = int(row['id'].split('test')[1])\n",
    "            to_return[theid]=temp\n",
    "    return to_return"
   ]
  },
  {
   "cell_type": "code",
   "execution_count": 14,
   "metadata": {
    "collapsed": true
   },
   "outputs": [],
   "source": [
    "other_activity = get_measures_per_person(set(more_targets))"
   ]
  },
  {
   "cell_type": "code",
   "execution_count": 39,
   "metadata": {
    "collapsed": false
   },
   "outputs": [],
   "source": [
    "def counts_missing(oa):\n",
    "    to_return = {}\n",
    "    for k,v in oa.items():\n",
    "        for kk,vv in v.items():\n",
    "            if kk not in to_return:\n",
    "                to_return[kk]=[]\n",
    "            to_return[kk].append(vv)\n",
    "    #r = {k:[i for i in v if type(i)!=str and pd.isnull(float(i)) or i=='X'] for k,v in to_return.items()}\n",
    "    #print(r)\n",
    "    rt = {k:(1.0*len([i for i in v if type(i)!=str and pd.isnull(float(i)) or i=='X'])/len(v)) for k,v in to_return.items()}\n",
    "    return rt\n",
    "    "
   ]
  },
  {
   "cell_type": "code",
   "execution_count": 42,
   "metadata": {
    "collapsed": false
   },
   "outputs": [],
   "source": [
    "missing = set([m for m,v in counts_missing(other_activity).items() if v>0])"
   ]
  },
  {
   "cell_type": "code",
   "execution_count": 43,
   "metadata": {
    "collapsed": false
   },
   "outputs": [],
   "source": [
    "\n",
    "other_activity = get_measures_per_person(set([m for m in more_targets if m not in missing]))\n",
    "with open('{}other_activity_no_missing.pkl'.format(to_write),'wb') as f:\n",
    "    pickle.dump(other_activity,f)"
   ]
  },
  {
   "cell_type": "code",
   "execution_count": 46,
   "metadata": {
    "collapsed": false
   },
   "outputs": [],
   "source": [
    "consc = get_set(start_consc,end_consc)\n",
    "consc_measures  = get_measures_per_person(consc)\n",
    "with open('{}consciousness_measures.pkl'.format(to_write),'wb') as f:\n",
    "    pickle.dump(consc_measures,f)"
   ]
  },
  {
   "cell_type": "code",
   "execution_count": 47,
   "metadata": {
    "collapsed": false
   },
   "outputs": [],
   "source": [
    "consc = get_set(start_self_eff,end_self_eff)\n",
    "consc_measures  = get_measures_per_person(consc)\n",
    "with open('{}self_efficacy_measures.pkl'.format(to_write),'wb') as f:\n",
    "    pickle.dump(consc_measures,f)"
   ]
  },
  {
   "cell_type": "code",
   "execution_count": 48,
   "metadata": {
    "collapsed": false
   },
   "outputs": [],
   "source": [
    "consc = get_set(start_act_choice,end_act_choice)\n",
    "consc_measures  = get_measures_per_person(consc)\n",
    "with open('{}activity_choice_measures.pkl'.format(to_write),'wb') as f:\n",
    "    pickle.dump(consc_measures,f)"
   ]
  },
  {
   "cell_type": "code",
   "execution_count": null,
   "metadata": {
    "collapsed": false
   },
   "outputs": [],
   "source": []
  },
  {
   "cell_type": "code",
   "execution_count": null,
   "metadata": {
    "collapsed": true
   },
   "outputs": [],
   "source": []
  }
 ],
 "metadata": {
  "anaconda-cloud": {},
  "kernelspec": {
   "display_name": "Python [Root]",
   "language": "python",
   "name": "Python [Root]"
  },
  "language_info": {
   "codemirror_mode": {
    "name": "ipython",
    "version": 3
   },
   "file_extension": ".py",
   "mimetype": "text/x-python",
   "name": "python",
   "nbconvert_exporter": "python",
   "pygments_lexer": "ipython3",
   "version": "3.5.6"
  }
 },
 "nbformat": 4,
 "nbformat_minor": 0
}
